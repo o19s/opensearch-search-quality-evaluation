{
 "cells": [
  {
   "cell_type": "code",
   "execution_count": null,
   "id": "709e461b-90fa-4596-a8a4-d3507b62aba7",
   "metadata": {},
   "outputs": [],
   "source": [
    "!curl -s -X DELETE http://localhost:9200/ubi_queries/\n",
    "!curl -s -X DELETE http://localhost:9200/ubi_events/"
   ]
  },
  {
   "cell_type": "code",
   "execution_count": null,
   "id": "ae911d0b-2ef5-4cd7-a4bb-54a9fee84e99",
   "metadata": {},
   "outputs": [],
   "source": [
    "from time import time\n",
    "import json\n",
    "import random\n",
    "import uuid\n",
    "\n",
    "from opensearchpy import OpenSearch\n",
    "\n",
    "client = OpenSearch(\"http://localhost:9200\", use_ssl=False)"
   ]
  },
  {
   "cell_type": "markdown",
   "id": "085c5047-04f4-4020-b692-628c30cfe91a",
   "metadata": {},
   "source": [
    "## Parameterize the generation of UBI queries and events"
   ]
  },
  {
   "cell_type": "code",
   "execution_count": null,
   "id": "558122b6-7dd6-48d2-a3a5-86643ef5aae2",
   "metadata": {},
   "outputs": [],
   "source": [
    "search_terms = ['computer', 'laptop', 'notebook', 'desk', 'power plug']\n",
    "actions = [\"click_through\", \"add_to_cart\", \"click\", \"watch\", \"view\", \"purchase\"]\n",
    "\n",
    "object_id_field = \"ean\"\n",
    "item_description_field = \"title\"\n",
    "index_name = \"ecommerce\"\n",
    "number_of_user_searches = 1000\n",
    "page_size = 20\n",
    "max_number_events_for_each_search = 10"
   ]
  },
  {
   "cell_type": "markdown",
   "id": "0e9d4b91-cd5b-420c-b5bb-1cd0c2fab58b",
   "metadata": {},
   "source": [
    "## Generate the UBI queries and events"
   ]
  },
  {
   "cell_type": "code",
   "execution_count": null,
   "id": "e8e20ff0-d584-4503-b467-53a9705c849c",
   "metadata": {},
   "outputs": [],
   "source": [
    "for x in range(number_of_user_searches):\n",
    "\n",
    "    random_search_term_index = random.randint(0, len(search_terms) - 1)\n",
    "    random_search_term = search_terms[random_search_term_index]\n",
    "    \n",
    "    client_id = str(uuid.uuid4())\n",
    "    query_id = str(uuid.uuid4())\n",
    "    \n",
    "    query = {\n",
    "       \"from\": 0,\n",
    "        \"size\": page_size,\n",
    "       \"query\": {\n",
    "         \"match_all\": {}\n",
    "       },\n",
    "        \"ext\": {\n",
    "            \"ubi\": {\n",
    "                \"client_id\": client_id,\n",
    "                \"query_id\": query_id,\n",
    "                \"user_query\": random_search_term\n",
    "            }\n",
    "        }\n",
    "     }\n",
    "    \n",
    "    query_response = client.search(\n",
    "        body = query,\n",
    "        index = index_name\n",
    "    )\n",
    "\n",
    "    random_number_of_events = random.randint(0, max_number_events_for_each_search - 1)\n",
    "\n",
    "    for y in range(random_number_of_events):\n",
    "            \n",
    "        random_search_result_index = random.randint(0, page_size - 1)\n",
    "        random_action_index = random.randint(0, len(actions) - 1)\n",
    "        session_id = str(uuid.uuid4())\n",
    "        \n",
    "        #print(\"random_action_index = \" + str(random_action_index))\n",
    "        #print(\"random_search_result_index = \" + str(random_search_result_index))\n",
    "\n",
    "        ubi_event = {\n",
    "            \"action_name\": actions[random_action_index],\n",
    "            \"client_id\": client_id,\n",
    "            \"query_id\": query_id,\n",
    "            \"message_type\": None,\n",
    "            \"message\": None,\n",
    "            \"timestamp\": time(),\n",
    "            \"event_attributes\": {\n",
    "                \"object\": {\n",
    "                    \"object_id_field\": \"ean\",\n",
    "                    \"object_id\": query_response[\"hits\"][\"hits\"][random_search_result_index][\"_source\"][object_id_field],\n",
    "                    \"description\": query_response[\"hits\"][\"hits\"][random_search_result_index][\"_source\"][item_description_field]\n",
    "                },\n",
    "                \"position\": {\n",
    "                    \"index\": random_search_result_index\n",
    "                },\n",
    "                \"session_id\": session_id\n",
    "            }\n",
    "        }\n",
    "    \n",
    "        event_id = str(uuid.uuid4())\n",
    "        \n",
    "        response = client.index(\n",
    "            body = ubi_event,\n",
    "            index = \"ubi_events\",\n",
    "            id = event_id,\n",
    "            refresh = True\n",
    "        )"
   ]
  },
  {
   "cell_type": "code",
   "execution_count": null,
   "id": "ff2de8d2-b566-4a53-81ef-43f6687f2e40",
   "metadata": {},
   "outputs": [],
   "source": [
    "!curl -s http://localhost:9200/ubi_queries/_count | jq\n",
    "!curl -s http://localhost:9200/ubi_events/_count | jq"
   ]
  },
  {
   "cell_type": "code",
   "execution_count": null,
   "id": "8229afad-01c7-461a-8e9c-91668b76ec68",
   "metadata": {},
   "outputs": [],
   "source": [
    "!curl -s http://localhost:9200/ubi_queries/_search | jq"
   ]
  },
  {
   "cell_type": "code",
   "execution_count": null,
   "id": "37174a07-2583-4e67-a020-19781818af89",
   "metadata": {},
   "outputs": [],
   "source": [
    "!curl -s http://localhost:9200/ubi_events/_search | jq"
   ]
  },
  {
   "cell_type": "code",
   "execution_count": null,
   "id": "16be8ee1-853a-453d-a273-87f375f55fe4",
   "metadata": {},
   "outputs": [],
   "source": []
  }
 ],
 "metadata": {
  "kernelspec": {
   "display_name": "Python 3 (ipykernel)",
   "language": "python",
   "name": "python3"
  },
  "language_info": {
   "codemirror_mode": {
    "name": "ipython",
    "version": 3
   },
   "file_extension": ".py",
   "mimetype": "text/x-python",
   "name": "python",
   "nbconvert_exporter": "python",
   "pygments_lexer": "ipython3",
   "version": "3.10.12"
  }
 },
 "nbformat": 4,
 "nbformat_minor": 5
}
