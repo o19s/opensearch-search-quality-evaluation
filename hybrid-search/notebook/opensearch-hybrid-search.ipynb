{
 "cells": [
  {
   "cell_type": "markdown",
   "id": "4942ff51-fd38-49e0-b10b-d27d6a56ebb4",
   "metadata": {},
   "source": [
    "# OpenSearch hybrid search\n",
    "\n",
    "Steps adapted from:\n",
    "* https://opensearch.org/docs/latest/search-plugins/neural-search-tutorial/\n",
    "* https://opensearch.org/docs/latest/search-plugins/hybrid-search/"
   ]
  },
  {
   "cell_type": "markdown",
   "id": "f86536a2-b983-495d-8c07-34dd28de5080",
   "metadata": {},
   "source": [
    "## Configure ml plugin"
   ]
  },
  {
   "cell_type": "code",
   "execution_count": 7,
   "id": "e550d476-5f43-4e0b-823d-6d0d8807fcd3",
   "metadata": {},
   "outputs": [
    {
     "name": "stdout",
     "output_type": "stream",
     "text": [
      "{\"acknowledged\":true,\"persistent\":{\"plugins\":{\"ml_commons\":{\"only_run_on_ml_node\":\"false\",\"model_access_control_enabled\":\"true\",\"native_memory_threshold\":\"99\"}}},\"transient\":{}}\n"
     ]
    }
   ],
   "source": [
    "curl -X PUT http://localhost:9200/_cluster/settings -H \"Content-Type: application/json\" -d'\n",
    "{\n",
    "  \"persistent\": {\n",
    "    \"plugins\": {\n",
    "      \"ml_commons\": {\n",
    "        \"only_run_on_ml_node\": \"false\",\n",
    "        \"model_access_control_enabled\": \"true\",\n",
    "        \"native_memory_threshold\": \"99\"\n",
    "      }\n",
    "    }\n",
    "  }\n",
    "}'"
   ]
  },
  {
   "cell_type": "markdown",
   "id": "59d29e02-7c02-48ae-a0d4-bac74b4fee5f",
   "metadata": {},
   "source": [
    "## Register a model group"
   ]
  },
  {
   "cell_type": "code",
   "execution_count": 2,
   "id": "c26581a8-0ae7-48bb-b333-4d4f0f543c06",
   "metadata": {},
   "outputs": [
    {
     "name": "stdout",
     "output_type": "stream",
     "text": [
      "{\"model_group_id\":\"FvdfipIBXW2Cb22W17WN\",\"status\":\"CREATED\"}\n"
     ]
    }
   ],
   "source": [
    "curl -X POST http://localhost:9200/_plugins/_ml/model_groups/_register -H \"Content-Type: application/json\" -d'\n",
    "{\n",
    "  \"name\": \"NLP_model_group\",\n",
    "  \"description\": \"A model group for NLP models\"\n",
    "}'"
   ]
  },
  {
   "cell_type": "markdown",
   "id": "1eecee19-07b3-49fc-8014-3d19c86fd52d",
   "metadata": {},
   "source": [
    "## Register the model to the model group"
   ]
  },
  {
   "cell_type": "code",
   "execution_count": 8,
   "id": "43528861-bb1b-4d6e-a785-38e17eba1a48",
   "metadata": {},
   "outputs": [
    {
     "name": "stdout",
     "output_type": "stream",
     "text": [
      "\u001b[1;37m{\n",
      "  \u001b[0m\u001b[1;34m\"task_id\"\u001b[0m\u001b[1;37m: \u001b[0m\u001b[0;32m\"GPdgipIBXW2Cb22WobUC\"\u001b[0m\u001b[1;37m,\n",
      "  \u001b[0m\u001b[1;34m\"status\"\u001b[0m\u001b[1;37m: \u001b[0m\u001b[0;32m\"CREATED\"\u001b[0m\u001b[1;37m\n",
      "\u001b[1;37m}\u001b[0m\n"
     ]
    }
   ],
   "source": [
    "curl -s -X POST http://localhost:9200/_plugins/_ml/models/_register -H \"Content-Type: application/json\" -d'\n",
    "{\n",
    "  \"name\": \"huggingface/sentence-transformers/msmarco-distilbert-base-tas-b\",\n",
    "  \"version\": \"1.0.1\",\n",
    "  \"model_group_id\": \"FvdfipIBXW2Cb22W17WN\",\n",
    "  \"model_format\": \"TORCH_SCRIPT\"\n",
    "}' | jq\n"
   ]
  },
  {
   "cell_type": "markdown",
   "id": "bddf62b2-2560-4ec1-a569-e59606c6334d",
   "metadata": {},
   "source": [
    "## Check status of registering model"
   ]
  },
  {
   "cell_type": "code",
   "execution_count": 14,
   "id": "12c7a674-c53c-4c82-9d37-db95a5d7b45b",
   "metadata": {},
   "outputs": [
    {
     "name": "stdout",
     "output_type": "stream",
     "text": [
      "\u001b[1;37m{\n",
      "  \u001b[0m\u001b[1;34m\"model_id\"\u001b[0m\u001b[1;37m: \u001b[0m\u001b[0;32m\"GfdgipIBXW2Cb22Wp7XJ\"\u001b[0m\u001b[1;37m,\n",
      "  \u001b[0m\u001b[1;34m\"task_type\"\u001b[0m\u001b[1;37m: \u001b[0m\u001b[0;32m\"REGISTER_MODEL\"\u001b[0m\u001b[1;37m,\n",
      "  \u001b[0m\u001b[1;34m\"function_name\"\u001b[0m\u001b[1;37m: \u001b[0m\u001b[0;32m\"TEXT_EMBEDDING\"\u001b[0m\u001b[1;37m,\n",
      "  \u001b[0m\u001b[1;34m\"state\"\u001b[0m\u001b[1;37m: \u001b[0m\u001b[0;32m\"COMPLETED\"\u001b[0m\u001b[1;37m,\n",
      "  \u001b[0m\u001b[1;34m\"worker_node\"\u001b[0m\u001b[1;37m: \u001b[0m\u001b[1;37m[\n",
      "    \u001b[0;32m\"tVe5eJbgRv6-d-VACS1SfQ\"\u001b[0m\u001b[1;37m\n",
      "  \u001b[1;37m]\u001b[0m\u001b[1;37m,\n",
      "  \u001b[0m\u001b[1;34m\"create_time\"\u001b[0m\u001b[1;37m: \u001b[0m\u001b[0;37m1728898441461\u001b[0m\u001b[1;37m,\n",
      "  \u001b[0m\u001b[1;34m\"last_update_time\"\u001b[0m\u001b[1;37m: \u001b[0m\u001b[0;37m1728898528997\u001b[0m\u001b[1;37m,\n",
      "  \u001b[0m\u001b[1;34m\"is_async\"\u001b[0m\u001b[1;37m: \u001b[0m\u001b[0;37mtrue\u001b[0m\u001b[1;37m\n",
      "\u001b[1;37m}\u001b[0m\n"
     ]
    }
   ],
   "source": [
    "curl -s -X GET http://localhost:9200/_plugins/_ml/tasks/GPdgipIBXW2Cb22WobUC | jq"
   ]
  },
  {
   "cell_type": "markdown",
   "id": "1448d953-5984-45a8-87fb-b3d2642ec054",
   "metadata": {},
   "source": [
    "## Deploy the model"
   ]
  },
  {
   "cell_type": "code",
   "execution_count": 15,
   "id": "4d422dae-122c-44e6-ab6f-40e8be9e513c",
   "metadata": {},
   "outputs": [
    {
     "name": "stdout",
     "output_type": "stream",
     "text": [
      "\u001b[1;37m{\n",
      "  \u001b[0m\u001b[1;34m\"task_id\"\u001b[0m\u001b[1;37m: \u001b[0m\u001b[0;32m\"GvdnipIBXW2Cb22WF7Uq\"\u001b[0m\u001b[1;37m,\n",
      "  \u001b[0m\u001b[1;34m\"task_type\"\u001b[0m\u001b[1;37m: \u001b[0m\u001b[0;32m\"DEPLOY_MODEL\"\u001b[0m\u001b[1;37m,\n",
      "  \u001b[0m\u001b[1;34m\"status\"\u001b[0m\u001b[1;37m: \u001b[0m\u001b[0;32m\"CREATED\"\u001b[0m\u001b[1;37m\n",
      "\u001b[1;37m}\u001b[0m\n"
     ]
    }
   ],
   "source": [
    "curl -s -X POST http://localhost:9200/_plugins/_ml/models/GfdgipIBXW2Cb22Wp7XJ/_deploy | jq"
   ]
  },
  {
   "cell_type": "markdown",
   "id": "75b750a5-190f-4d91-b748-5209760232f0",
   "metadata": {},
   "source": [
    "## Check the status"
   ]
  },
  {
   "cell_type": "code",
   "execution_count": 19,
   "id": "0cc06796-e6b6-407a-8f00-8f2261bc3d70",
   "metadata": {},
   "outputs": [
    {
     "name": "stdout",
     "output_type": "stream",
     "text": [
      "\u001b[1;37m{\n",
      "  \u001b[0m\u001b[1;34m\"model_id\"\u001b[0m\u001b[1;37m: \u001b[0m\u001b[0;32m\"GfdgipIBXW2Cb22Wp7XJ\"\u001b[0m\u001b[1;37m,\n",
      "  \u001b[0m\u001b[1;34m\"task_type\"\u001b[0m\u001b[1;37m: \u001b[0m\u001b[0;32m\"DEPLOY_MODEL\"\u001b[0m\u001b[1;37m,\n",
      "  \u001b[0m\u001b[1;34m\"function_name\"\u001b[0m\u001b[1;37m: \u001b[0m\u001b[0;32m\"TEXT_EMBEDDING\"\u001b[0m\u001b[1;37m,\n",
      "  \u001b[0m\u001b[1;34m\"state\"\u001b[0m\u001b[1;37m: \u001b[0m\u001b[0;32m\"COMPLETED\"\u001b[0m\u001b[1;37m,\n",
      "  \u001b[0m\u001b[1;34m\"worker_node\"\u001b[0m\u001b[1;37m: \u001b[0m\u001b[1;37m[\n",
      "    \u001b[0;32m\"tVe5eJbgRv6-d-VACS1SfQ\"\u001b[0m\u001b[1;37m\n",
      "  \u001b[1;37m]\u001b[0m\u001b[1;37m,\n",
      "  \u001b[0m\u001b[1;34m\"create_time\"\u001b[0m\u001b[1;37m: \u001b[0m\u001b[0;37m1728898864931\u001b[0m\u001b[1;37m,\n",
      "  \u001b[0m\u001b[1;34m\"last_update_time\"\u001b[0m\u001b[1;37m: \u001b[0m\u001b[0;37m1728898888250\u001b[0m\u001b[1;37m,\n",
      "  \u001b[0m\u001b[1;34m\"is_async\"\u001b[0m\u001b[1;37m: \u001b[0m\u001b[0;37mtrue\u001b[0m\u001b[1;37m\n",
      "\u001b[1;37m}\u001b[0m\n",
      "Model ID is: \"GfdgipIBXW2Cb22Wp7XJ\"\n"
     ]
    }
   ],
   "source": [
    "curl -s -X GET http://localhost:9200/_plugins/_ml/tasks/GvdnipIBXW2Cb22WF7Uq | jq\n",
    "MODEL_ID=`curl -s -X GET http://localhost:9200/_plugins/_ml/tasks/GvdnipIBXW2Cb22WF7Uq | jq .model_id`\n",
    "echo \"Model ID is: ${MODEL_ID}\"\n",
    "export MODEL_ID=${MODEL_ID}"
   ]
  },
  {
   "cell_type": "markdown",
   "id": "887fb861-5f97-4519-ba16-ebdb4164d294",
   "metadata": {},
   "source": [
    "## Create an ingest pipeline"
   ]
  },
  {
   "cell_type": "code",
   "execution_count": 20,
   "id": "3ecc1024-8845-4c9f-a37c-1e70c533d690",
   "metadata": {},
   "outputs": [
    {
     "name": "stdout",
     "output_type": "stream",
     "text": [
      "{\"acknowledged\":true}\n"
     ]
    }
   ],
   "source": [
    "curl -X PUT http://localhost:9200/_ingest/pipeline/nlp-ingest-pipeline -H \"Content-Type: application/json\" -d'\n",
    "{\n",
    "  \"description\": \"A text embedding pipeline\",\n",
    "  \"processors\": [\n",
    "    {\n",
    "      \"text_embedding\": {\n",
    "        \"model_id\": \"GfdgipIBXW2Cb22Wp7XJ\",\n",
    "        \"field_map\": {\n",
    "          \"passage_text\": \"passage_embedding\"\n",
    "        }\n",
    "      }\n",
    "    }\n",
    "  ]\n",
    "}'"
   ]
  },
  {
   "cell_type": "markdown",
   "id": "8d41878f-303a-4a68-ae62-2736e0d42605",
   "metadata": {},
   "source": [
    "## Create an index for ingestion"
   ]
  },
  {
   "cell_type": "code",
   "execution_count": 21,
   "id": "64e0b637-82ad-49c6-b7b7-610c1cf86133",
   "metadata": {},
   "outputs": [
    {
     "name": "stdout",
     "output_type": "stream",
     "text": [
      "{\"error\":{\"root_cause\":[{\"type\":\"index_not_found_exception\",\"reason\":\"no such index [my-nlp-index]\",\"index\":\"my-nlp-index\",\"resource.id\":\"my-nlp-index\",\"resource.type\":\"index_or_alias\",\"index_uuid\":\"_na_\"}],\"type\":\"index_not_found_exception\",\"reason\":\"no such index [my-nlp-index]\",\"index\":\"my-nlp-index\",\"resource.id\":\"my-nlp-index\",\"resource.type\":\"index_or_alias\",\"index_uuid\":\"_na_\"},\"status\":404}\n",
      "{\"acknowledged\":true,\"shards_acknowledged\":true,\"index\":\"my-nlp-index\"}\n"
     ]
    }
   ],
   "source": [
    "curl -X DELETE http://localhost:9200/my-nlp-index\n",
    "curl -X PUT http://localhost:9200/my-nlp-index -H \"Content-Type: application/json\" -d'\n",
    "{\n",
    "  \"settings\": {\n",
    "    \"index.knn\": true,\n",
    "    \"default_pipeline\": \"nlp-ingest-pipeline\"\n",
    "  },\n",
    "  \"mappings\": {\n",
    "    \"properties\": {\n",
    "      \"id\": {\n",
    "        \"type\": \"text\"\n",
    "      },\n",
    "      \"passage_embedding\": {\n",
    "        \"type\": \"knn_vector\",\n",
    "        \"dimension\": 768,\n",
    "        \"method\": {\n",
    "          \"engine\": \"lucene\",\n",
    "          \"space_type\": \"l2\",\n",
    "          \"name\": \"hnsw\",\n",
    "          \"parameters\": {}\n",
    "        }\n",
    "      },\n",
    "      \"passage_text\": {\n",
    "        \"type\": \"text\"\n",
    "      }\n",
    "    }\n",
    "  }\n",
    "}'"
   ]
  },
  {
   "cell_type": "markdown",
   "id": "56ea3ab9-b6aa-477f-8fd7-d13082931ff0",
   "metadata": {},
   "source": [
    "## Ingest documents into the index"
   ]
  },
  {
   "cell_type": "code",
   "execution_count": 22,
   "id": "d1df1702-5db9-46ec-af6e-9ee54d0b6518",
   "metadata": {},
   "outputs": [
    {
     "name": "stdout",
     "output_type": "stream",
     "text": [
      "\u001b[1;37m{\n",
      "  \u001b[0m\u001b[1;34m\"_index\"\u001b[0m\u001b[1;37m: \u001b[0m\u001b[0;32m\"my-nlp-index\"\u001b[0m\u001b[1;37m,\n",
      "  \u001b[0m\u001b[1;34m\"_id\"\u001b[0m\u001b[1;37m: \u001b[0m\u001b[0;32m\"1\"\u001b[0m\u001b[1;37m,\n",
      "  \u001b[0m\u001b[1;34m\"_version\"\u001b[0m\u001b[1;37m: \u001b[0m\u001b[0;37m1\u001b[0m\u001b[1;37m,\n",
      "  \u001b[0m\u001b[1;34m\"result\"\u001b[0m\u001b[1;37m: \u001b[0m\u001b[0;32m\"created\"\u001b[0m\u001b[1;37m,\n",
      "  \u001b[0m\u001b[1;34m\"_shards\"\u001b[0m\u001b[1;37m: \u001b[0m\u001b[1;37m{\n",
      "    \u001b[0m\u001b[1;34m\"total\"\u001b[0m\u001b[1;37m: \u001b[0m\u001b[0;37m2\u001b[0m\u001b[1;37m,\n",
      "    \u001b[0m\u001b[1;34m\"successful\"\u001b[0m\u001b[1;37m: \u001b[0m\u001b[0;37m1\u001b[0m\u001b[1;37m,\n",
      "    \u001b[0m\u001b[1;34m\"failed\"\u001b[0m\u001b[1;37m: \u001b[0m\u001b[0;37m0\u001b[0m\u001b[1;37m\n",
      "  \u001b[1;37m}\u001b[0m\u001b[1;37m,\n",
      "  \u001b[0m\u001b[1;34m\"_seq_no\"\u001b[0m\u001b[1;37m: \u001b[0m\u001b[0;37m0\u001b[0m\u001b[1;37m,\n",
      "  \u001b[0m\u001b[1;34m\"_primary_term\"\u001b[0m\u001b[1;37m: \u001b[0m\u001b[0;37m1\u001b[0m\u001b[1;37m\n",
      "\u001b[1;37m}\u001b[0m\n",
      "\u001b[1;37m{\n",
      "  \u001b[0m\u001b[1;34m\"_index\"\u001b[0m\u001b[1;37m: \u001b[0m\u001b[0;32m\"my-nlp-index\"\u001b[0m\u001b[1;37m,\n",
      "  \u001b[0m\u001b[1;34m\"_id\"\u001b[0m\u001b[1;37m: \u001b[0m\u001b[0;32m\"2\"\u001b[0m\u001b[1;37m,\n",
      "  \u001b[0m\u001b[1;34m\"_version\"\u001b[0m\u001b[1;37m: \u001b[0m\u001b[0;37m1\u001b[0m\u001b[1;37m,\n",
      "  \u001b[0m\u001b[1;34m\"result\"\u001b[0m\u001b[1;37m: \u001b[0m\u001b[0;32m\"created\"\u001b[0m\u001b[1;37m,\n",
      "  \u001b[0m\u001b[1;34m\"_shards\"\u001b[0m\u001b[1;37m: \u001b[0m\u001b[1;37m{\n",
      "    \u001b[0m\u001b[1;34m\"total\"\u001b[0m\u001b[1;37m: \u001b[0m\u001b[0;37m2\u001b[0m\u001b[1;37m,\n",
      "    \u001b[0m\u001b[1;34m\"successful\"\u001b[0m\u001b[1;37m: \u001b[0m\u001b[0;37m1\u001b[0m\u001b[1;37m,\n",
      "    \u001b[0m\u001b[1;34m\"failed\"\u001b[0m\u001b[1;37m: \u001b[0m\u001b[0;37m0\u001b[0m\u001b[1;37m\n",
      "  \u001b[1;37m}\u001b[0m\u001b[1;37m,\n",
      "  \u001b[0m\u001b[1;34m\"_seq_no\"\u001b[0m\u001b[1;37m: \u001b[0m\u001b[0;37m1\u001b[0m\u001b[1;37m,\n",
      "  \u001b[0m\u001b[1;34m\"_primary_term\"\u001b[0m\u001b[1;37m: \u001b[0m\u001b[0;37m1\u001b[0m\u001b[1;37m\n",
      "\u001b[1;37m}\u001b[0m\n"
     ]
    }
   ],
   "source": [
    "curl -s -X PUT http://localhost:9200/my-nlp-index/_doc/1 -H \"Content-Type: application/json\" -d'\n",
    "{\n",
    "  \"passage_text\": \"Hello world\",\n",
    "  \"id\": \"s1\"\n",
    "}' | jq\n",
    "\n",
    "curl -s -X PUT http://localhost:9200/my-nlp-index/_doc/2 -H \"Content-Type: application/json\" -d'\n",
    "{\n",
    "  \"passage_text\": \"Hi planet\",\n",
    "  \"id\": \"s2\"\n",
    "}' | jq"
   ]
  },
  {
   "cell_type": "markdown",
   "id": "60c56f5a-339e-4664-b010-b98e00271b10",
   "metadata": {},
   "source": [
    "## Configure a search pipeline"
   ]
  },
  {
   "cell_type": "code",
   "execution_count": 23,
   "id": "64c524ca-dbf5-4f39-a2f6-a2e40dba7356",
   "metadata": {},
   "outputs": [
    {
     "name": "stdout",
     "output_type": "stream",
     "text": [
      "{\"acknowledged\":true}\n"
     ]
    }
   ],
   "source": [
    "curl -X PUT http://localhost:9200/_search/pipeline/nlp-search-pipeline -H \"Content-Type: application/json\" -d'\n",
    "{\n",
    "  \"description\": \"Post processor for hybrid search\",\n",
    "  \"phase_results_processors\": [\n",
    "    {\n",
    "      \"normalization-processor\": {\n",
    "        \"normalization\": {\n",
    "          \"technique\": \"min_max\"\n",
    "        },\n",
    "        \"combination\": {\n",
    "          \"technique\": \"arithmetic_mean\",\n",
    "          \"parameters\": {\n",
    "            \"weights\": [\n",
    "              0.3,\n",
    "              0.7\n",
    "            ]\n",
    "          }\n",
    "        }\n",
    "      }\n",
    "    }\n",
    "  ]\n",
    "}'"
   ]
  },
  {
   "cell_type": "markdown",
   "id": "710c99d8-04f0-463b-b697-b595f3838236",
   "metadata": {},
   "source": [
    "## Search the index using hybrid search"
   ]
  },
  {
   "cell_type": "code",
   "execution_count": 24,
   "id": "1a0f48ed-b1d3-45d0-b7f6-a0ff54242f1e",
   "metadata": {},
   "outputs": [
    {
     "name": "stdout",
     "output_type": "stream",
     "text": [
      "\u001b[1;37m{\n",
      "  \u001b[0m\u001b[1;34m\"error\"\u001b[0m\u001b[1;37m: \u001b[0m\u001b[1;37m{\n",
      "    \u001b[0m\u001b[1;34m\"root_cause\"\u001b[0m\u001b[1;37m: \u001b[0m\u001b[1;37m[\n",
      "      \u001b[1;37m{\n",
      "        \u001b[0m\u001b[1;34m\"type\"\u001b[0m\u001b[1;37m: \u001b[0m\u001b[0;32m\"status_exception\"\u001b[0m\u001b[1;37m,\n",
      "        \u001b[0m\u001b[1;34m\"reason\"\u001b[0m\u001b[1;37m: \u001b[0m\u001b[0;32m\"Failed to find model\"\u001b[0m\u001b[1;37m\n",
      "      \u001b[1;37m}\u001b[0m\u001b[1;37m\n",
      "    \u001b[1;37m]\u001b[0m\u001b[1;37m,\n",
      "    \u001b[0m\u001b[1;34m\"type\"\u001b[0m\u001b[1;37m: \u001b[0m\u001b[0;32m\"status_exception\"\u001b[0m\u001b[1;37m,\n",
      "    \u001b[0m\u001b[1;34m\"reason\"\u001b[0m\u001b[1;37m: \u001b[0m\u001b[0;32m\"Failed to find model\"\u001b[0m\u001b[1;37m\n",
      "  \u001b[1;37m}\u001b[0m\u001b[1;37m,\n",
      "  \u001b[0m\u001b[1;34m\"status\"\u001b[0m\u001b[1;37m: \u001b[0m\u001b[0;37m404\u001b[0m\u001b[1;37m\n",
      "\u001b[1;37m}\u001b[0m\n"
     ]
    }
   ],
   "source": [
    "curl -s -X GET http://localhost:9200/my-nlp-index/_search?search_pipeline=nlp-search-pipeline -H \"Content-Type: application/json\" -d'\n",
    "{\n",
    "  \"_source\": {\n",
    "    \"exclude\": [\n",
    "      \"passage_embedding\"\n",
    "    ]\n",
    "  },\n",
    "  \"query\": {\n",
    "    \"hybrid\": {\n",
    "      \"queries\": [\n",
    "        {\n",
    "          \"match\": {\n",
    "            \"passage_text\": {\n",
    "              \"query\": \"Hi world\"\n",
    "            }\n",
    "          }\n",
    "        },\n",
    "        {\n",
    "          \"neural\": {\n",
    "            \"passage_embedding\": {\n",
    "              \"query_text\": \"Hi world\",\n",
    "              \"model_id\": \"53y1SJEB62af-UG5cSSz\",\n",
    "              \"k\": 5\n",
    "            }\n",
    "          }\n",
    "        }\n",
    "      ]\n",
    "    }\n",
    "  }\n",
    "}' | jq"
   ]
  },
  {
   "cell_type": "markdown",
   "id": "e5a83026-98fe-4b1f-9d66-beab7e71ed25",
   "metadata": {},
   "source": [
    "## Combining neural and match query"
   ]
  },
  {
   "cell_type": "code",
   "execution_count": 25,
   "id": "cf38af95-b5dc-41b3-807d-044f441ea2bc",
   "metadata": {},
   "outputs": [
    {
     "name": "stdout",
     "output_type": "stream",
     "text": [
      "\u001b[1;37m{\n",
      "  \u001b[0m\u001b[1;34m\"took\"\u001b[0m\u001b[1;37m: \u001b[0m\u001b[0;37m995\u001b[0m\u001b[1;37m,\n",
      "  \u001b[0m\u001b[1;34m\"timed_out\"\u001b[0m\u001b[1;37m: \u001b[0m\u001b[0;37mfalse\u001b[0m\u001b[1;37m,\n",
      "  \u001b[0m\u001b[1;34m\"_shards\"\u001b[0m\u001b[1;37m: \u001b[0m\u001b[1;37m{\n",
      "    \u001b[0m\u001b[1;34m\"total\"\u001b[0m\u001b[1;37m: \u001b[0m\u001b[0;37m1\u001b[0m\u001b[1;37m,\n",
      "    \u001b[0m\u001b[1;34m\"successful\"\u001b[0m\u001b[1;37m: \u001b[0m\u001b[0;37m1\u001b[0m\u001b[1;37m,\n",
      "    \u001b[0m\u001b[1;34m\"skipped\"\u001b[0m\u001b[1;37m: \u001b[0m\u001b[0;37m0\u001b[0m\u001b[1;37m,\n",
      "    \u001b[0m\u001b[1;34m\"failed\"\u001b[0m\u001b[1;37m: \u001b[0m\u001b[0;37m0\u001b[0m\u001b[1;37m\n",
      "  \u001b[1;37m}\u001b[0m\u001b[1;37m,\n",
      "  \u001b[0m\u001b[1;34m\"hits\"\u001b[0m\u001b[1;37m: \u001b[0m\u001b[1;37m{\n",
      "    \u001b[0m\u001b[1;34m\"total\"\u001b[0m\u001b[1;37m: \u001b[0m\u001b[1;37m{\n",
      "      \u001b[0m\u001b[1;34m\"value\"\u001b[0m\u001b[1;37m: \u001b[0m\u001b[0;37m2\u001b[0m\u001b[1;37m,\n",
      "      \u001b[0m\u001b[1;34m\"relation\"\u001b[0m\u001b[1;37m: \u001b[0m\u001b[0;32m\"eq\"\u001b[0m\u001b[1;37m\n",
      "    \u001b[1;37m}\u001b[0m\u001b[1;37m,\n",
      "    \u001b[0m\u001b[1;34m\"max_score\"\u001b[0m\u001b[1;37m: \u001b[0m\u001b[0;37m1.0\u001b[0m\u001b[1;37m,\n",
      "    \u001b[0m\u001b[1;34m\"hits\"\u001b[0m\u001b[1;37m: \u001b[0m\u001b[1;37m[\n",
      "      \u001b[1;37m{\n",
      "        \u001b[0m\u001b[1;34m\"_index\"\u001b[0m\u001b[1;37m: \u001b[0m\u001b[0;32m\"my-nlp-index\"\u001b[0m\u001b[1;37m,\n",
      "        \u001b[0m\u001b[1;34m\"_id\"\u001b[0m\u001b[1;37m: \u001b[0m\u001b[0;32m\"2\"\u001b[0m\u001b[1;37m,\n",
      "        \u001b[0m\u001b[1;34m\"_score\"\u001b[0m\u001b[1;37m: \u001b[0m\u001b[0;37m1.0\u001b[0m\u001b[1;37m,\n",
      "        \u001b[0m\u001b[1;34m\"_source\"\u001b[0m\u001b[1;37m: \u001b[0m\u001b[1;37m{\n",
      "          \u001b[0m\u001b[1;34m\"passage_text\"\u001b[0m\u001b[1;37m: \u001b[0m\u001b[0;32m\"Hi planet\"\u001b[0m\u001b[1;37m,\n",
      "          \u001b[0m\u001b[1;34m\"id\"\u001b[0m\u001b[1;37m: \u001b[0m\u001b[0;32m\"s2\"\u001b[0m\u001b[1;37m\n",
      "        \u001b[1;37m}\u001b[0m\u001b[1;37m\n",
      "      \u001b[1;37m}\u001b[0m\u001b[1;37m,\n",
      "      \u001b[1;37m{\n",
      "        \u001b[0m\u001b[1;34m\"_index\"\u001b[0m\u001b[1;37m: \u001b[0m\u001b[0;32m\"my-nlp-index\"\u001b[0m\u001b[1;37m,\n",
      "        \u001b[0m\u001b[1;34m\"_id\"\u001b[0m\u001b[1;37m: \u001b[0m\u001b[0;32m\"1\"\u001b[0m\u001b[1;37m,\n",
      "        \u001b[0m\u001b[1;34m\"_score\"\u001b[0m\u001b[1;37m: \u001b[0m\u001b[0;37m0.3007\u001b[0m\u001b[1;37m,\n",
      "        \u001b[0m\u001b[1;34m\"_source\"\u001b[0m\u001b[1;37m: \u001b[0m\u001b[1;37m{\n",
      "          \u001b[0m\u001b[1;34m\"passage_text\"\u001b[0m\u001b[1;37m: \u001b[0m\u001b[0;32m\"Hello world\"\u001b[0m\u001b[1;37m,\n",
      "          \u001b[0m\u001b[1;34m\"id\"\u001b[0m\u001b[1;37m: \u001b[0m\u001b[0;32m\"s1\"\u001b[0m\u001b[1;37m\n",
      "        \u001b[1;37m}\u001b[0m\u001b[1;37m\n",
      "      \u001b[1;37m}\u001b[0m\u001b[1;37m\n",
      "    \u001b[1;37m]\u001b[0m\u001b[1;37m\n",
      "  \u001b[1;37m}\u001b[0m\u001b[1;37m\n",
      "\u001b[1;37m}\u001b[0m\n"
     ]
    }
   ],
   "source": [
    "curl -s -X GET http://localhost:9200/my-nlp-index/_search?search_pipeline=nlp-search-pipeline -H \"Content-Type: application/json\" -d'\n",
    "{\n",
    "  \"_source\": {\n",
    "    \"exclude\": [\n",
    "      \"passage_embedding\"\n",
    "    ]\n",
    "  },\n",
    "  \"query\": {\n",
    "    \"hybrid\": {\n",
    "      \"queries\": [\n",
    "        {\n",
    "          \"match\": {\n",
    "            \"passage_text\": {\n",
    "              \"query\": \"Hi world\"\n",
    "            }\n",
    "          }\n",
    "        },\n",
    "        {\n",
    "          \"neural\": {\n",
    "            \"passage_embedding\": {\n",
    "              \"query_text\": \"Hi world\",\n",
    "              \"model_id\": \"GfdgipIBXW2Cb22Wp7XJ\",\n",
    "              \"k\": 5\n",
    "            }\n",
    "          }\n",
    "        }\n",
    "      ]\n",
    "    }\n",
    "  }\n",
    "}' | jq\n"
   ]
  },
  {
   "cell_type": "code",
   "execution_count": null,
   "id": "49dce927",
   "metadata": {},
   "outputs": [],
   "source": []
  }
 ],
 "metadata": {
  "kernelspec": {
   "display_name": "Bash",
   "language": "bash",
   "name": "bash"
  },
  "language_info": {
   "codemirror_mode": "shell",
   "file_extension": ".sh",
   "mimetype": "text/x-sh",
   "name": "bash"
  }
 },
 "nbformat": 4,
 "nbformat_minor": 5
}
