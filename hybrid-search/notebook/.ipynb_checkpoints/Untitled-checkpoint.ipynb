{
 "cells": [
  {
   "cell_type": "markdown",
   "id": "f86536a2-b983-495d-8c07-34dd28de5080",
   "metadata": {},
   "source": [
    "## Configure ml plugin"
   ]
  },
  {
   "cell_type": "code",
   "execution_count": 15,
   "id": "e550d476-5f43-4e0b-823d-6d0d8807fcd3",
   "metadata": {},
   "outputs": [
    {
     "name": "stdout",
     "output_type": "stream",
     "text": [
      "{\"acknowledged\":true,\"persistent\":{\"plugins\":{\"ml_commons\":{\"only_run_on_ml_node\":\"false\",\"model_access_control_enabled\":\"true\",\"native_memory_threshold\":\"99\"}}},\"transient\":{}}\n"
     ]
    }
   ],
   "source": [
    "curl -X PUT http://localhost:9200/_cluster/settings -H \"Content-Type: application/json\" -d'\n",
    "{\n",
    "  \"persistent\": {\n",
    "    \"plugins\": {\n",
    "      \"ml_commons\": {\n",
    "        \"only_run_on_ml_node\": \"false\",\n",
    "        \"model_access_control_enabled\": \"true\",\n",
    "        \"native_memory_threshold\": \"99\"\n",
    "      }\n",
    "    }\n",
    "  }\n",
    "}'"
   ]
  },
  {
   "cell_type": "markdown",
   "id": "59d29e02-7c02-48ae-a0d4-bac74b4fee5f",
   "metadata": {},
   "source": [
    "## Register a model group"
   ]
  },
  {
   "cell_type": "code",
   "execution_count": 21,
   "id": "c26581a8-0ae7-48bb-b333-4d4f0f543c06",
   "metadata": {},
   "outputs": [
    {
     "name": "stdout",
     "output_type": "stream",
     "text": [
      "{\"model_group_id\":\"5Hy0SJEB62af-UG5JSSP\",\"status\":\"CREATED\"}\n"
     ]
    }
   ],
   "source": [
    "curl -X POST http://localhost:9200/_plugins/_ml/model_groups/_register -H \"Content-Type: application/json\" -d'\n",
    "{\n",
    "  \"name\": \"NLP_model_group\",\n",
    "  \"description\": \"A model group for NLP models\"\n",
    "}'"
   ]
  },
  {
   "cell_type": "markdown",
   "id": "1eecee19-07b3-49fc-8014-3d19c86fd52d",
   "metadata": {},
   "source": [
    "## Register the model to the model group"
   ]
  },
  {
   "cell_type": "code",
   "execution_count": 23,
   "id": "43528861-bb1b-4d6e-a785-38e17eba1a48",
   "metadata": {},
   "outputs": [
    {
     "name": "stdout",
     "output_type": "stream",
     "text": [
      "{\"task_id\":\"5ny1SJEB62af-UG5biSW\",\"status\":\"CREATED\"}\n"
     ]
    }
   ],
   "source": [
    "curl -s -X POST http://localhost:9200/_plugins/_ml/models/_register -H \"Content-Type: application/json\" -d'\n",
    "{\n",
    "  \"name\": \"huggingface/sentence-transformers/msmarco-distilbert-base-tas-b\",\n",
    "  \"version\": \"1.0.1\",\n",
    "  \"model_group_id\": \"5Hy0SJEB62af-UG5JSSP\",\n",
    "  \"model_format\": \"TORCH_SCRIPT\"\n",
    "}' | jq\n"
   ]
  },
  {
   "cell_type": "markdown",
   "id": "bddf62b2-2560-4ec1-a569-e59606c6334d",
   "metadata": {},
   "source": [
    "## Check status of registering model"
   ]
  },
  {
   "cell_type": "code",
   "execution_count": 26,
   "id": "12c7a674-c53c-4c82-9d37-db95a5d7b45b",
   "metadata": {},
   "outputs": [
    {
     "name": "stdout",
     "output_type": "stream",
     "text": [
      "\u001b[1;39m{\n",
      "  \u001b[0m\u001b[1;34m\"model_id\"\u001b[0m\u001b[1;39m: \u001b[0m\u001b[0;32m\"53y1SJEB62af-UG5cSSz\"\u001b[0m\u001b[1;39m,\n",
      "  \u001b[0m\u001b[1;34m\"task_type\"\u001b[0m\u001b[1;39m: \u001b[0m\u001b[0;32m\"REGISTER_MODEL\"\u001b[0m\u001b[1;39m,\n",
      "  \u001b[0m\u001b[1;34m\"function_name\"\u001b[0m\u001b[1;39m: \u001b[0m\u001b[0;32m\"TEXT_EMBEDDING\"\u001b[0m\u001b[1;39m,\n",
      "  \u001b[0m\u001b[1;34m\"state\"\u001b[0m\u001b[1;39m: \u001b[0m\u001b[0;32m\"COMPLETED\"\u001b[0m\u001b[1;39m,\n",
      "  \u001b[0m\u001b[1;34m\"worker_node\"\u001b[0m\u001b[1;39m: \u001b[0m\u001b[1;39m[\n",
      "    \u001b[0;32m\"JylpMcLtR8Wu-azySJUx_w\"\u001b[0m\u001b[1;39m\n",
      "  \u001b[1;39m]\u001b[0m\u001b[1;39m,\n",
      "  \u001b[0m\u001b[1;34m\"create_time\"\u001b[0m\u001b[1;39m: \u001b[0m\u001b[0;39m1723501735574\u001b[0m\u001b[1;39m,\n",
      "  \u001b[0m\u001b[1;34m\"last_update_time\"\u001b[0m\u001b[1;39m: \u001b[0m\u001b[0;39m1723501777079\u001b[0m\u001b[1;39m,\n",
      "  \u001b[0m\u001b[1;34m\"is_async\"\u001b[0m\u001b[1;39m: \u001b[0m\u001b[0;39mtrue\u001b[0m\u001b[1;39m\n",
      "\u001b[1;39m}\u001b[0m\n"
     ]
    }
   ],
   "source": [
    "curl -s -X GET http://localhost:9200/_plugins/_ml/tasks/5ny1SJEB62af-UG5biSW | jq"
   ]
  },
  {
   "cell_type": "markdown",
   "id": "1448d953-5984-45a8-87fb-b3d2642ec054",
   "metadata": {},
   "source": [
    "## Deploy the model"
   ]
  },
  {
   "cell_type": "code",
   "execution_count": 31,
   "id": "4d422dae-122c-44e6-ab6f-40e8be9e513c",
   "metadata": {},
   "outputs": [
    {
     "name": "stdout",
     "output_type": "stream",
     "text": [
      "{\"task_id\":\"6Hy4SJEB62af-UG5EyRi\",\"task_type\":\"DEPLOY_MODEL\",\"status\":\"CREATED\"}\n"
     ]
    }
   ],
   "source": [
    "curl -s -X POST http://localhost:9200/_plugins/_ml/models/53y1SJEB62af-UG5cSSz/_deploy | jq"
   ]
  },
  {
   "cell_type": "markdown",
   "id": "75b750a5-190f-4d91-b748-5209760232f0",
   "metadata": {},
   "source": [
    "## Check the status"
   ]
  },
  {
   "cell_type": "code",
   "execution_count": 33,
   "id": "0cc06796-e6b6-407a-8f00-8f2261bc3d70",
   "metadata": {},
   "outputs": [
    {
     "name": "stdout",
     "output_type": "stream",
     "text": [
      "\u001b[1;39m{\n",
      "  \u001b[0m\u001b[1;34m\"model_id\"\u001b[0m\u001b[1;39m: \u001b[0m\u001b[0;32m\"53y1SJEB62af-UG5cSSz\"\u001b[0m\u001b[1;39m,\n",
      "  \u001b[0m\u001b[1;34m\"task_type\"\u001b[0m\u001b[1;39m: \u001b[0m\u001b[0;32m\"DEPLOY_MODEL\"\u001b[0m\u001b[1;39m,\n",
      "  \u001b[0m\u001b[1;34m\"function_name\"\u001b[0m\u001b[1;39m: \u001b[0m\u001b[0;32m\"TEXT_EMBEDDING\"\u001b[0m\u001b[1;39m,\n",
      "  \u001b[0m\u001b[1;34m\"state\"\u001b[0m\u001b[1;39m: \u001b[0m\u001b[0;32m\"COMPLETED\"\u001b[0m\u001b[1;39m,\n",
      "  \u001b[0m\u001b[1;34m\"worker_node\"\u001b[0m\u001b[1;39m: \u001b[0m\u001b[1;39m[\n",
      "    \u001b[0;32m\"JylpMcLtR8Wu-azySJUx_w\"\u001b[0m\u001b[1;39m\n",
      "  \u001b[1;39m]\u001b[0m\u001b[1;39m,\n",
      "  \u001b[0m\u001b[1;34m\"create_time\"\u001b[0m\u001b[1;39m: \u001b[0m\u001b[0;39m1723501908833\u001b[0m\u001b[1;39m,\n",
      "  \u001b[0m\u001b[1;34m\"last_update_time\"\u001b[0m\u001b[1;39m: \u001b[0m\u001b[0;39m1723501935973\u001b[0m\u001b[1;39m,\n",
      "  \u001b[0m\u001b[1;34m\"is_async\"\u001b[0m\u001b[1;39m: \u001b[0m\u001b[0;39mtrue\u001b[0m\u001b[1;39m\n",
      "\u001b[1;39m}\u001b[0m\n"
     ]
    }
   ],
   "source": [
    "curl -s -X GET http://localhost:9200/_plugins/_ml/tasks/6Hy4SJEB62af-UG5EyRi | jq"
   ]
  },
  {
   "cell_type": "markdown",
   "id": "887fb861-5f97-4519-ba16-ebdb4164d294",
   "metadata": {},
   "source": [
    "## Create an ingest pipeline"
   ]
  },
  {
   "cell_type": "code",
   "execution_count": 34,
   "id": "3ecc1024-8845-4c9f-a37c-1e70c533d690",
   "metadata": {},
   "outputs": [
    {
     "name": "stdout",
     "output_type": "stream",
     "text": [
      "{\"acknowledged\":true}\n"
     ]
    }
   ],
   "source": [
    "curl -X PUT http://localhost:9200/_ingest/pipeline/nlp-ingest-pipeline -H \"Content-Type: application/json\" -d'\n",
    "{\n",
    "  \"description\": \"A text embedding pipeline\",\n",
    "  \"processors\": [\n",
    "    {\n",
    "      \"text_embedding\": {\n",
    "        \"model_id\": \"53y1SJEB62af-UG5cSSz\",\n",
    "        \"field_map\": {\n",
    "          \"passage_text\": \"passage_embedding\"\n",
    "        }\n",
    "      }\n",
    "    }\n",
    "  ]\n",
    "}'"
   ]
  },
  {
   "cell_type": "markdown",
   "id": "8d41878f-303a-4a68-ae62-2736e0d42605",
   "metadata": {},
   "source": [
    "## Create an index for ingestion"
   ]
  },
  {
   "cell_type": "code",
   "execution_count": 35,
   "id": "64e0b637-82ad-49c6-b7b7-610c1cf86133",
   "metadata": {},
   "outputs": [
    {
     "name": "stdout",
     "output_type": "stream",
     "text": [
      "{\"acknowledged\":true}\n",
      "{\"acknowledged\":true,\"shards_acknowledged\":true,\"index\":\"my-nlp-index\"}\n"
     ]
    }
   ],
   "source": [
    "curl -X DELETE http://localhost:9200/my-nlp-index\n",
    "curl -X PUT http://localhost:9200/my-nlp-index -H \"Content-Type: application/json\" -d'\n",
    "{\n",
    "  \"settings\": {\n",
    "    \"index.knn\": true,\n",
    "    \"default_pipeline\": \"nlp-ingest-pipeline\"\n",
    "  },\n",
    "  \"mappings\": {\n",
    "    \"properties\": {\n",
    "      \"id\": {\n",
    "        \"type\": \"text\"\n",
    "      },\n",
    "      \"passage_embedding\": {\n",
    "        \"type\": \"knn_vector\",\n",
    "        \"dimension\": 768,\n",
    "        \"method\": {\n",
    "          \"engine\": \"lucene\",\n",
    "          \"space_type\": \"l2\",\n",
    "          \"name\": \"hnsw\",\n",
    "          \"parameters\": {}\n",
    "        }\n",
    "      },\n",
    "      \"passage_text\": {\n",
    "        \"type\": \"text\"\n",
    "      }\n",
    "    }\n",
    "  }\n",
    "}'"
   ]
  },
  {
   "cell_type": "markdown",
   "id": "56ea3ab9-b6aa-477f-8fd7-d13082931ff0",
   "metadata": {},
   "source": [
    "## Ingest documents into the index"
   ]
  },
  {
   "cell_type": "code",
   "execution_count": 36,
   "id": "d1df1702-5db9-46ec-af6e-9ee54d0b6518",
   "metadata": {},
   "outputs": [
    {
     "name": "stdout",
     "output_type": "stream",
     "text": [
      "{\"_index\":\"my-nlp-index\",\"_id\":\"1\",\"_version\":1,\"result\":\"created\",\"_shards\":{\"total\":2,\"successful\":1,\"failed\":0},\"_seq_no\":0,\"_primary_term\":1}\n",
      "{\"_index\":\"my-nlp-index\",\"_id\":\"2\",\"_version\":1,\"result\":\"created\",\"_shards\":{\"total\":2,\"successful\":1,\"failed\":0},\"_seq_no\":1,\"_primary_term\":1}\n"
     ]
    }
   ],
   "source": [
    "curl -X PUT http://localhost:9200/my-nlp-index/_doc/1 -H \"Content-Type: application/json\" -d'\n",
    "{\n",
    "  \"passage_text\": \"Hello world\",\n",
    "  \"id\": \"s1\"\n",
    "}'\n",
    "\n",
    "curl -X PUT http://localhost:9200/my-nlp-index/_doc/2 -H \"Content-Type: application/json\" -d'\n",
    "{\n",
    "  \"passage_text\": \"Hi planet\",\n",
    "  \"id\": \"s2\"\n",
    "}'"
   ]
  },
  {
   "cell_type": "markdown",
   "id": "60c56f5a-339e-4664-b010-b98e00271b10",
   "metadata": {},
   "source": [
    "## Configure a search pipeline"
   ]
  },
  {
   "cell_type": "code",
   "execution_count": 37,
   "id": "64c524ca-dbf5-4f39-a2f6-a2e40dba7356",
   "metadata": {},
   "outputs": [
    {
     "name": "stdout",
     "output_type": "stream",
     "text": [
      "{\"acknowledged\":true}\n"
     ]
    }
   ],
   "source": [
    "curl -X PUT http://localhost:9200/_search/pipeline/nlp-search-pipeline -H \"Content-Type: application/json\" -d'\n",
    "{\n",
    "  \"description\": \"Post processor for hybrid search\",\n",
    "  \"phase_results_processors\": [\n",
    "    {\n",
    "      \"normalization-processor\": {\n",
    "        \"normalization\": {\n",
    "          \"technique\": \"min_max\"\n",
    "        },\n",
    "        \"combination\": {\n",
    "          \"technique\": \"arithmetic_mean\",\n",
    "          \"parameters\": {\n",
    "            \"weights\": [\n",
    "              0.3,\n",
    "              0.7\n",
    "            ]\n",
    "          }\n",
    "        }\n",
    "      }\n",
    "    }\n",
    "  ]\n",
    "}'"
   ]
  },
  {
   "cell_type": "markdown",
   "id": "710c99d8-04f0-463b-b697-b595f3838236",
   "metadata": {},
   "source": [
    "## Search the index using hybrid search"
   ]
  },
  {
   "cell_type": "code",
   "execution_count": 41,
   "id": "1a0f48ed-b1d3-45d0-b7f6-a0ff54242f1e",
   "metadata": {},
   "outputs": [
    {
     "name": "stdout",
     "output_type": "stream",
     "text": [
      "\u001b[1;39m{\n",
      "  \u001b[0m\u001b[1;34m\"took\"\u001b[0m\u001b[1;39m: \u001b[0m\u001b[0;39m21\u001b[0m\u001b[1;39m,\n",
      "  \u001b[0m\u001b[1;34m\"timed_out\"\u001b[0m\u001b[1;39m: \u001b[0m\u001b[0;39mfalse\u001b[0m\u001b[1;39m,\n",
      "  \u001b[0m\u001b[1;34m\"_shards\"\u001b[0m\u001b[1;39m: \u001b[0m\u001b[1;39m{\n",
      "    \u001b[0m\u001b[1;34m\"total\"\u001b[0m\u001b[1;39m: \u001b[0m\u001b[0;39m1\u001b[0m\u001b[1;39m,\n",
      "    \u001b[0m\u001b[1;34m\"successful\"\u001b[0m\u001b[1;39m: \u001b[0m\u001b[0;39m1\u001b[0m\u001b[1;39m,\n",
      "    \u001b[0m\u001b[1;34m\"skipped\"\u001b[0m\u001b[1;39m: \u001b[0m\u001b[0;39m0\u001b[0m\u001b[1;39m,\n",
      "    \u001b[0m\u001b[1;34m\"failed\"\u001b[0m\u001b[1;39m: \u001b[0m\u001b[0;39m0\u001b[0m\u001b[1;39m\n",
      "  \u001b[1;39m}\u001b[0m\u001b[1;39m,\n",
      "  \u001b[0m\u001b[1;34m\"hits\"\u001b[0m\u001b[1;39m: \u001b[0m\u001b[1;39m{\n",
      "    \u001b[0m\u001b[1;34m\"total\"\u001b[0m\u001b[1;39m: \u001b[0m\u001b[1;39m{\n",
      "      \u001b[0m\u001b[1;34m\"value\"\u001b[0m\u001b[1;39m: \u001b[0m\u001b[0;39m2\u001b[0m\u001b[1;39m,\n",
      "      \u001b[0m\u001b[1;34m\"relation\"\u001b[0m\u001b[1;39m: \u001b[0m\u001b[0;32m\"eq\"\u001b[0m\u001b[1;39m\n",
      "    \u001b[1;39m}\u001b[0m\u001b[1;39m,\n",
      "    \u001b[0m\u001b[1;34m\"max_score\"\u001b[0m\u001b[1;39m: \u001b[0m\u001b[0;39m1.0\u001b[0m\u001b[1;39m,\n",
      "    \u001b[0m\u001b[1;34m\"hits\"\u001b[0m\u001b[1;39m: \u001b[0m\u001b[1;39m[\n",
      "      \u001b[1;39m{\n",
      "        \u001b[0m\u001b[1;34m\"_index\"\u001b[0m\u001b[1;39m: \u001b[0m\u001b[0;32m\"my-nlp-index\"\u001b[0m\u001b[1;39m,\n",
      "        \u001b[0m\u001b[1;34m\"_id\"\u001b[0m\u001b[1;39m: \u001b[0m\u001b[0;32m\"2\"\u001b[0m\u001b[1;39m,\n",
      "        \u001b[0m\u001b[1;34m\"_score\"\u001b[0m\u001b[1;39m: \u001b[0m\u001b[0;39m1.0\u001b[0m\u001b[1;39m,\n",
      "        \u001b[0m\u001b[1;34m\"_source\"\u001b[0m\u001b[1;39m: \u001b[0m\u001b[1;39m{\n",
      "          \u001b[0m\u001b[1;34m\"passage_text\"\u001b[0m\u001b[1;39m: \u001b[0m\u001b[0;32m\"Hi planet\"\u001b[0m\u001b[1;39m,\n",
      "          \u001b[0m\u001b[1;34m\"id\"\u001b[0m\u001b[1;39m: \u001b[0m\u001b[0;32m\"s2\"\u001b[0m\u001b[1;39m\n",
      "        \u001b[1;39m}\u001b[0m\u001b[1;39m\n",
      "      \u001b[1;39m}\u001b[0m\u001b[1;39m,\n",
      "      \u001b[1;39m{\n",
      "        \u001b[0m\u001b[1;34m\"_index\"\u001b[0m\u001b[1;39m: \u001b[0m\u001b[0;32m\"my-nlp-index\"\u001b[0m\u001b[1;39m,\n",
      "        \u001b[0m\u001b[1;34m\"_id\"\u001b[0m\u001b[1;39m: \u001b[0m\u001b[0;32m\"1\"\u001b[0m\u001b[1;39m,\n",
      "        \u001b[0m\u001b[1;34m\"_score\"\u001b[0m\u001b[1;39m: \u001b[0m\u001b[0;39m0.3007\u001b[0m\u001b[1;39m,\n",
      "        \u001b[0m\u001b[1;34m\"_source\"\u001b[0m\u001b[1;39m: \u001b[0m\u001b[1;39m{\n",
      "          \u001b[0m\u001b[1;34m\"passage_text\"\u001b[0m\u001b[1;39m: \u001b[0m\u001b[0;32m\"Hello world\"\u001b[0m\u001b[1;39m,\n",
      "          \u001b[0m\u001b[1;34m\"id\"\u001b[0m\u001b[1;39m: \u001b[0m\u001b[0;32m\"s1\"\u001b[0m\u001b[1;39m\n",
      "        \u001b[1;39m}\u001b[0m\u001b[1;39m\n",
      "      \u001b[1;39m}\u001b[0m\u001b[1;39m\n",
      "    \u001b[1;39m]\u001b[0m\u001b[1;39m\n",
      "  \u001b[1;39m}\u001b[0m\u001b[1;39m\n",
      "\u001b[1;39m}\u001b[0m\n"
     ]
    }
   ],
   "source": [
    "curl -s -X GET http://localhost:9200/my-nlp-index/_search?search_pipeline=nlp-search-pipeline -H \"Content-Type: application/json\" -d'\n",
    "{\n",
    "  \"_source\": {\n",
    "    \"exclude\": [\n",
    "      \"passage_embedding\"\n",
    "    ]\n",
    "  },\n",
    "  \"query\": {\n",
    "    \"hybrid\": {\n",
    "      \"queries\": [\n",
    "        {\n",
    "          \"match\": {\n",
    "            \"passage_text\": {\n",
    "              \"query\": \"Hi world\"\n",
    "            }\n",
    "          }\n",
    "        },\n",
    "        {\n",
    "          \"neural\": {\n",
    "            \"passage_embedding\": {\n",
    "              \"query_text\": \"Hi world\",\n",
    "              \"model_id\": \"53y1SJEB62af-UG5cSSz\",\n",
    "              \"k\": 5\n",
    "            }\n",
    "          }\n",
    "        }\n",
    "      ]\n",
    "    }\n",
    "  }\n",
    "}' | jq"
   ]
  },
  {
   "cell_type": "code",
   "execution_count": null,
   "id": "471b15d8-10b6-427c-bde4-6bfa049c3f70",
   "metadata": {},
   "outputs": [],
   "source": []
  }
 ],
 "metadata": {
  "kernelspec": {
   "display_name": "Bash",
   "language": "bash",
   "name": "bash"
  },
  "language_info": {
   "codemirror_mode": "shell",
   "file_extension": ".sh",
   "mimetype": "text/x-sh",
   "name": "bash"
  }
 },
 "nbformat": 4,
 "nbformat_minor": 5
}
