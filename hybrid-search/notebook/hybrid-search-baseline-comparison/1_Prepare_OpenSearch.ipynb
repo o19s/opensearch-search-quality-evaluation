{
 "cells": [
  {
   "cell_type": "markdown",
   "id": "5b5048f0-def4-4c5e-b752-cb7436ce076f",
   "metadata": {
    "editable": true,
    "slideshow": {
     "slide_type": ""
    },
    "tags": []
   },
   "source": [
    "# 1) Prepare OpenSearch\n",
    "\n",
    "We need to do a couple of things first to make OpenSearch ready for Hybrid Search"
   ]
  },
  {
   "cell_type": "markdown",
   "id": "b5f704f2-88f0-4963-ab4b-266dcec8d73f",
   "metadata": {},
   "source": [
    "In this notebook we set the foundation to use a ML model to enrich our product data with vectors.\n",
    "\n",
    "### Prerequesites\n",
    "\n",
    "Make sure to have OpenSearch running. The notebook assumes OpenSearch running at `localhost:9200`\n",
    "\n",
    "We are making use of different features in OpenSearch, mainly [Using pre-trained models in OpenSearch](https://opensearch.org/docs/latest/ml-commons-plugin/pretrained-models)"
   ]
  },
  {
   "cell_type": "code",
   "execution_count": 24,
   "id": "25fddf41-a6e7-4236-a19b-fb0768e00de7",
   "metadata": {
    "editable": true,
    "slideshow": {
     "slide_type": ""
    },
    "tags": []
   },
   "outputs": [
    {
     "data": {
      "application/mercury+json": "{\n    \"widget\": \"App\",\n    \"title\": \"Hybrid Search Preparations\",\n    \"description\": \"Description\",\n    \"show_code\": false,\n    \"show_prompt\": false,\n    \"output\": \"app\",\n    \"schedule\": \"\",\n    \"notify\": \"{}\",\n    \"continuous_update\": true,\n    \"static_notebook\": true,\n    \"show_sidebar\": true,\n    \"full_screen\": true,\n    \"allow_download\": true,\n    \"allow_share\": true,\n    \"stop_on_error\": false,\n    \"model_id\": \"mercury-app\",\n    \"code_uid\": \"App.0.50.110.6-rand31391235\"\n}",
      "text/html": [
       "<h3>Mercury Application</h3><small>This output won't appear in the web app.</small>"
      ],
      "text/plain": [
       "mercury.App"
      ]
     },
     "metadata": {},
     "output_type": "display_data"
    }
   ],
   "source": [
    "import requests\n",
    "import json\n",
    "import mercury as mr\n",
    "import time\n",
    "\n",
    "app = mr.App(title=\"Hybrid Search Preparations\", static_notebook=True)"
   ]
  },
  {
   "cell_type": "markdown",
   "id": "7565e523-e3de-4e8c-ad57-2b07e251d9f5",
   "metadata": {},
   "source": [
    "## Configure ML Commons plugin\n",
    "\n",
    "The ML Commons plugin lets us use machine learning models during index and query time.\n",
    "\n",
    "We configure it to be able to run on the same node that holds our indexed data (`\"only_run_on_ml_node\": \"false\"`). In a production setting we'd likely want to move machine learning workloads to dedicated ML nodes (`\"only_run_on_ml_node\": \"true\"`)."
   ]
  },
  {
   "cell_type": "code",
   "execution_count": 25,
   "id": "63257544-b14b-4603-8ad4-dcabb0af89aa",
   "metadata": {},
   "outputs": [],
   "source": [
    "url = \"http://localhost:9200/_cluster/settings\"\n",
    "headers = {\n",
    "    'Content-Type': 'application/json'\n",
    "}\n",
    "\n",
    "payload = {\n",
    "    \"persistent\": {\n",
    "        \"plugins\": {\n",
    "            \"ml_commons\": {\n",
    "                \"only_run_on_ml_node\": \"false\",\n",
    "                \"model_access_control_enabled\": \"true\",\n",
    "                \"native_memory_threshold\": \"99\"\n",
    "            }\n",
    "        }\n",
    "    }\n",
    "}\n",
    "\n",
    "\n",
    "response = requests.request(\"PUT\", url, headers=headers, data=json.dumps(payload))"
   ]
  },
  {
   "cell_type": "code",
   "execution_count": 26,
   "id": "116058a6-5f91-4398-acf5-b855963b6780",
   "metadata": {},
   "outputs": [
    {
     "data": {
      "text/html": [
       "<style>.renderjson a              { text-decoration: none; }\n",
       ".renderjson .disclosure    { color: grey; font-size: 125%; }\n",
       ".renderjson .syntax        { color: grey; }\n",
       ".renderjson .string        { color: #fe46a5; }\n",
       ".renderjson .number        { color: #0f9b8e; }\n",
       ".renderjson .boolean       { color: black; }\n",
       ".renderjson .key           { color: #2684ff; }\n",
       ".renderjson .keyword       { color: gray; }\n",
       ".renderjson .object.syntax { color: gray; }\n",
       ".renderjson .array.syntax  { color: gray; }</style><div id=\"6cddc29c-e4fd-4287-a1cf-b8e9525a783d\"></div>"
      ],
      "text/plain": [
       "<IPython.core.display.HTML object>"
      ]
     },
     "metadata": {},
     "output_type": "display_data"
    },
    {
     "data": {
      "text/html": [
       "<script>var renderjson=function(){var t=function(){for(var t=[];arguments.length;)t.push(n(s(Array.prototype.shift.call(arguments)),o(Array.prototype.shift.call(arguments))));return t},n=function(){for(var t=Array.prototype.shift.call(arguments),e=0;e<arguments.length;e++)arguments[e].constructor==Array?n.apply(this,[t].concat(arguments[e])):t.appendChild(arguments[e]);return t},e=function(t,n){return t.insertBefore(n,t.firstChild),t},r=function(t,n){var e=n||Object.keys(t);for(var r in e)if(Object.hasOwnProperty.call(t,e[r]))return!1;return!0},o=function(t){return document.createTextNode(t)},s=function(t){var n=document.createElement(\"span\");return t&&(n.className=t),n},l=function(t,n,e){var r=document.createElement(\"a\");return n&&(r.className=n),r.appendChild(o(t)),r.href=\"#\",r.onclick=function(t){return e(),t&&t.stopPropagation(),!1},r};function a(i,c,u,p,y){var _=u?\"\":c,f=function(r,a,i,c,u){var f,g=s(c),h=function(){f||n(g.parentNode,f=e(u(),l(y.hide,\"disclosure\",(function(){f.style.display=\"none\",g.style.display=\"inline\"})))),f.style.display=\"inline\",g.style.display=\"none\"};n(g,l(y.show,\"disclosure\",h),t(c+\" syntax\",r),l(a,null,h),t(c+\" syntax\",i));var d=n(s(),o(_.slice(0,-1)),g);return p>0&&\"string\"!=c&&h(),d};return null===i?t(null,_,\"keyword\",\"null\"):void 0===i?t(null,_,\"keyword\",\"undefined\"):\"string\"==typeof i&&i.length>y.max_string_length?f('\"',i.substr(0,y.max_string_length)+\" ...\",'\"',\"string\",(function(){return n(s(\"string\"),t(null,_,\"string\",JSON.stringify(i)))})):\"object\"!=typeof i||[Number,String,Boolean,Date].indexOf(i.constructor)>=0?t(null,_,typeof i,JSON.stringify(i)):i.constructor==Array?0==i.length?t(null,_,\"array syntax\",\"[]\"):f(\"[\",y.collapse_msg(i.length),\"]\",\"array\",(function(){for(var e=n(s(\"array\"),t(\"array syntax\",\"[\",null,\"\\n\")),r=0;r<i.length;r++)n(e,a(y.replacer.call(i,r,i[r]),c+\"    \",!1,p-1,y),r!=i.length-1?t(\"syntax\",\",\"):[],o(\"\\n\"));return n(e,t(null,c,\"array syntax\",\"]\")),e})):r(i,y.property_list)?t(null,_,\"object syntax\",\"{}\"):f(\"{\",y.collapse_msg(Object.keys(i).length),\"}\",\"object\",(function(){var e=n(s(\"object\"),t(\"object syntax\",\"{\",null,\"\\n\"));for(var r in i)var l=r;var u=y.property_list||Object.keys(i);for(var _ in y.sort_objects&&(u=u.sort()),u){(r=u[_])in i&&n(e,t(null,c+\"    \",\"key\",'\"'+r+'\"',\"object syntax\",\": \"),a(y.replacer.call(i,r,i[r]),c+\"    \",!0,p-1,y),r!=l?t(\"syntax\",\",\"):[],o(\"\\n\"))}return n(e,t(null,c,\"object syntax\",\"}\")),e}))}var i=function t(e){var r=new Object(t.options);r.replacer=\"function\"==typeof r.replacer?r.replacer:function(t,n){return n};var o=n(document.createElement(\"pre\"),a(e,\"\",!1,r.show_to_level,r));return o.className=\"renderjson\",o};return i.set_icons=function(t,n){return i.options.show=t,i.options.hide=n,i},i.set_show_to_level=function(t){return i.options.show_to_level=\"string\"==typeof t&&\"all\"===t.toLowerCase()?Number.MAX_VALUE:t,i},i.set_max_string_length=function(t){return i.options.max_string_length=\"string\"==typeof t&&\"none\"===t.toLowerCase()?Number.MAX_VALUE:t,i},i.set_sort_objects=function(t){return i.options.sort_objects=t,i},i.set_replacer=function(t){return i.options.replacer=t,i},i.set_collapse_msg=function(t){return i.options.collapse_msg=t,i},i.set_property_list=function(t){return i.options.property_list=t,i},i.set_show_by_default=function(t){return i.options.show_to_level=t?Number.MAX_VALUE:0,i},i.options={},i.set_icons(\"⊕\",\"⊖\"),i.set_show_by_default(!1),i.set_sort_objects(!1),i.set_max_string_length(\"none\"),i.set_replacer(void 0),i.set_property_list(void 0),i.set_collapse_msg((function(t){return t+\" item\"+(1==t?\"\":\"s\")})),i}(); renderjson.set_show_to_level(4); document.getElementById(\"6cddc29c-e4fd-4287-a1cf-b8e9525a783d\").appendChild(renderjson({\"acknowledged\": true, \"persistent\": {\"plugins\": {\"ml_commons\": {\"only_run_on_ml_node\": \"false\", \"model_access_control_enabled\": \"true\", \"native_memory_threshold\": \"99\"}}}, \"transient\": {}}))</script>"
      ],
      "text/plain": [
       "<IPython.core.display.HTML object>"
      ]
     },
     "metadata": {},
     "output_type": "display_data"
    }
   ],
   "source": [
    "mr.JSON(response.json(), level=4)"
   ]
  },
  {
   "cell_type": "markdown",
   "id": "5326f5cc-b5e7-4c4c-917d-b218bdff87bf",
   "metadata": {},
   "source": [
    "## Register a model group\n",
    "\n",
    "First we register a model group, next we assign a model to this group. This is mainly a way to organise models in OpenSearch.\n",
    "\n",
    "We need to grab the `model_group_id` from the OpenSearch response to register the model in the correct group.\n",
    "\n",
    "Learn more about registering a model at https://opensearch.org/docs/latest/ml-commons-plugin/api/model-apis/register-model/."
   ]
  },
  {
   "cell_type": "code",
   "execution_count": 27,
   "id": "b91a51d5-7404-40cc-8627-3b4dcd761773",
   "metadata": {
    "editable": true,
    "slideshow": {
     "slide_type": ""
    },
    "tags": []
   },
   "outputs": [
    {
     "data": {
      "text/html": [
       "<style>.renderjson a              { text-decoration: none; }\n",
       ".renderjson .disclosure    { color: grey; font-size: 125%; }\n",
       ".renderjson .syntax        { color: grey; }\n",
       ".renderjson .string        { color: #fe46a5; }\n",
       ".renderjson .number        { color: #0f9b8e; }\n",
       ".renderjson .boolean       { color: black; }\n",
       ".renderjson .key           { color: #2684ff; }\n",
       ".renderjson .keyword       { color: gray; }\n",
       ".renderjson .object.syntax { color: gray; }\n",
       ".renderjson .array.syntax  { color: gray; }</style><div id=\"8d43a885-5c35-4d54-b797-644be05cc6c6\"></div>"
      ],
      "text/plain": [
       "<IPython.core.display.HTML object>"
      ]
     },
     "metadata": {},
     "output_type": "display_data"
    },
    {
     "data": {
      "text/html": [
       "<script>var renderjson=function(){var t=function(){for(var t=[];arguments.length;)t.push(n(s(Array.prototype.shift.call(arguments)),o(Array.prototype.shift.call(arguments))));return t},n=function(){for(var t=Array.prototype.shift.call(arguments),e=0;e<arguments.length;e++)arguments[e].constructor==Array?n.apply(this,[t].concat(arguments[e])):t.appendChild(arguments[e]);return t},e=function(t,n){return t.insertBefore(n,t.firstChild),t},r=function(t,n){var e=n||Object.keys(t);for(var r in e)if(Object.hasOwnProperty.call(t,e[r]))return!1;return!0},o=function(t){return document.createTextNode(t)},s=function(t){var n=document.createElement(\"span\");return t&&(n.className=t),n},l=function(t,n,e){var r=document.createElement(\"a\");return n&&(r.className=n),r.appendChild(o(t)),r.href=\"#\",r.onclick=function(t){return e(),t&&t.stopPropagation(),!1},r};function a(i,c,u,p,y){var _=u?\"\":c,f=function(r,a,i,c,u){var f,g=s(c),h=function(){f||n(g.parentNode,f=e(u(),l(y.hide,\"disclosure\",(function(){f.style.display=\"none\",g.style.display=\"inline\"})))),f.style.display=\"inline\",g.style.display=\"none\"};n(g,l(y.show,\"disclosure\",h),t(c+\" syntax\",r),l(a,null,h),t(c+\" syntax\",i));var d=n(s(),o(_.slice(0,-1)),g);return p>0&&\"string\"!=c&&h(),d};return null===i?t(null,_,\"keyword\",\"null\"):void 0===i?t(null,_,\"keyword\",\"undefined\"):\"string\"==typeof i&&i.length>y.max_string_length?f('\"',i.substr(0,y.max_string_length)+\" ...\",'\"',\"string\",(function(){return n(s(\"string\"),t(null,_,\"string\",JSON.stringify(i)))})):\"object\"!=typeof i||[Number,String,Boolean,Date].indexOf(i.constructor)>=0?t(null,_,typeof i,JSON.stringify(i)):i.constructor==Array?0==i.length?t(null,_,\"array syntax\",\"[]\"):f(\"[\",y.collapse_msg(i.length),\"]\",\"array\",(function(){for(var e=n(s(\"array\"),t(\"array syntax\",\"[\",null,\"\\n\")),r=0;r<i.length;r++)n(e,a(y.replacer.call(i,r,i[r]),c+\"    \",!1,p-1,y),r!=i.length-1?t(\"syntax\",\",\"):[],o(\"\\n\"));return n(e,t(null,c,\"array syntax\",\"]\")),e})):r(i,y.property_list)?t(null,_,\"object syntax\",\"{}\"):f(\"{\",y.collapse_msg(Object.keys(i).length),\"}\",\"object\",(function(){var e=n(s(\"object\"),t(\"object syntax\",\"{\",null,\"\\n\"));for(var r in i)var l=r;var u=y.property_list||Object.keys(i);for(var _ in y.sort_objects&&(u=u.sort()),u){(r=u[_])in i&&n(e,t(null,c+\"    \",\"key\",'\"'+r+'\"',\"object syntax\",\": \"),a(y.replacer.call(i,r,i[r]),c+\"    \",!0,p-1,y),r!=l?t(\"syntax\",\",\"):[],o(\"\\n\"))}return n(e,t(null,c,\"object syntax\",\"}\")),e}))}var i=function t(e){var r=new Object(t.options);r.replacer=\"function\"==typeof r.replacer?r.replacer:function(t,n){return n};var o=n(document.createElement(\"pre\"),a(e,\"\",!1,r.show_to_level,r));return o.className=\"renderjson\",o};return i.set_icons=function(t,n){return i.options.show=t,i.options.hide=n,i},i.set_show_to_level=function(t){return i.options.show_to_level=\"string\"==typeof t&&\"all\"===t.toLowerCase()?Number.MAX_VALUE:t,i},i.set_max_string_length=function(t){return i.options.max_string_length=\"string\"==typeof t&&\"none\"===t.toLowerCase()?Number.MAX_VALUE:t,i},i.set_sort_objects=function(t){return i.options.sort_objects=t,i},i.set_replacer=function(t){return i.options.replacer=t,i},i.set_collapse_msg=function(t){return i.options.collapse_msg=t,i},i.set_property_list=function(t){return i.options.property_list=t,i},i.set_show_by_default=function(t){return i.options.show_to_level=t?Number.MAX_VALUE:0,i},i.options={},i.set_icons(\"⊕\",\"⊖\"),i.set_show_by_default(!1),i.set_sort_objects(!1),i.set_max_string_length(\"none\"),i.set_replacer(void 0),i.set_property_list(void 0),i.set_collapse_msg((function(t){return t+\" item\"+(1==t?\"\":\"s\")})),i}(); renderjson.set_show_to_level(4); document.getElementById(\"8d43a885-5c35-4d54-b797-644be05cc6c6\").appendChild(renderjson({\"model_group_id\": \"05r9VpIBFSlgWAuGDzMh\", \"status\": \"CREATED\"}))</script>"
      ],
      "text/plain": [
       "<IPython.core.display.HTML object>"
      ]
     },
     "metadata": {},
     "output_type": "display_data"
    },
    {
     "name": "stdout",
     "output_type": "stream",
     "text": [
      "Created Model Group ID 05r9VpIBFSlgWAuGDzMh\n"
     ]
    }
   ],
   "source": [
    "url = \"http://localhost:9200/_plugins/_ml/model_groups/_register\"\n",
    "\n",
    "payload = {\n",
    "  \"name\": \"NLP_model_group\",\n",
    "  \"description\": \"A model group for NLP models\"\n",
    "}\n",
    "\n",
    "response = requests.request(\"POST\", url, headers=headers, data=json.dumps(payload))\n",
    "mr.JSON(response.json(), level=4)\n",
    "\n",
    "model_group_id = response.json()['model_group_id']\n",
    "\n",
    "print(f\"Created Model Group ID {model_group_id}\")"
   ]
  },
  {
   "cell_type": "markdown",
   "id": "c85786bb-a78d-4638-8cc3-525076473dda",
   "metadata": {},
   "source": [
    "## Register the model to the model group\n",
    "Under the covers we are downloading from HuggingFace the model and saving it into our cluster. This can take some time!\n",
    "\n",
    "We are using the model `all-MiniLM-L6-v2`, one of several options hosted on HuggingFace to choose from in OpenSearch. You can find a list of supported pretrained models in the [OpenSearch docs](https://opensearch.org/docs/latest/ml-commons-plugin/pretrained-models#supported-pretrained-models).\n",
    "\n",
    "Note that `all-MiniLM-L6-v2` uses 384 dimensions. This will become important later."
   ]
  },
  {
   "cell_type": "code",
   "execution_count": 28,
   "id": "a8f8216d-f6be-4ab7-b3cd-88dd6bddb214",
   "metadata": {},
   "outputs": [
    {
     "data": {
      "text/html": [
       "<style>.renderjson a              { text-decoration: none; }\n",
       ".renderjson .disclosure    { color: grey; font-size: 125%; }\n",
       ".renderjson .syntax        { color: grey; }\n",
       ".renderjson .string        { color: #fe46a5; }\n",
       ".renderjson .number        { color: #0f9b8e; }\n",
       ".renderjson .boolean       { color: black; }\n",
       ".renderjson .key           { color: #2684ff; }\n",
       ".renderjson .keyword       { color: gray; }\n",
       ".renderjson .object.syntax { color: gray; }\n",
       ".renderjson .array.syntax  { color: gray; }</style><div id=\"841f4a5a-146b-496d-8374-88787920436a\"></div>"
      ],
      "text/plain": [
       "<IPython.core.display.HTML object>"
      ]
     },
     "metadata": {},
     "output_type": "display_data"
    },
    {
     "data": {
      "text/html": [
       "<script>var renderjson=function(){var t=function(){for(var t=[];arguments.length;)t.push(n(s(Array.prototype.shift.call(arguments)),o(Array.prototype.shift.call(arguments))));return t},n=function(){for(var t=Array.prototype.shift.call(arguments),e=0;e<arguments.length;e++)arguments[e].constructor==Array?n.apply(this,[t].concat(arguments[e])):t.appendChild(arguments[e]);return t},e=function(t,n){return t.insertBefore(n,t.firstChild),t},r=function(t,n){var e=n||Object.keys(t);for(var r in e)if(Object.hasOwnProperty.call(t,e[r]))return!1;return!0},o=function(t){return document.createTextNode(t)},s=function(t){var n=document.createElement(\"span\");return t&&(n.className=t),n},l=function(t,n,e){var r=document.createElement(\"a\");return n&&(r.className=n),r.appendChild(o(t)),r.href=\"#\",r.onclick=function(t){return e(),t&&t.stopPropagation(),!1},r};function a(i,c,u,p,y){var _=u?\"\":c,f=function(r,a,i,c,u){var f,g=s(c),h=function(){f||n(g.parentNode,f=e(u(),l(y.hide,\"disclosure\",(function(){f.style.display=\"none\",g.style.display=\"inline\"})))),f.style.display=\"inline\",g.style.display=\"none\"};n(g,l(y.show,\"disclosure\",h),t(c+\" syntax\",r),l(a,null,h),t(c+\" syntax\",i));var d=n(s(),o(_.slice(0,-1)),g);return p>0&&\"string\"!=c&&h(),d};return null===i?t(null,_,\"keyword\",\"null\"):void 0===i?t(null,_,\"keyword\",\"undefined\"):\"string\"==typeof i&&i.length>y.max_string_length?f('\"',i.substr(0,y.max_string_length)+\" ...\",'\"',\"string\",(function(){return n(s(\"string\"),t(null,_,\"string\",JSON.stringify(i)))})):\"object\"!=typeof i||[Number,String,Boolean,Date].indexOf(i.constructor)>=0?t(null,_,typeof i,JSON.stringify(i)):i.constructor==Array?0==i.length?t(null,_,\"array syntax\",\"[]\"):f(\"[\",y.collapse_msg(i.length),\"]\",\"array\",(function(){for(var e=n(s(\"array\"),t(\"array syntax\",\"[\",null,\"\\n\")),r=0;r<i.length;r++)n(e,a(y.replacer.call(i,r,i[r]),c+\"    \",!1,p-1,y),r!=i.length-1?t(\"syntax\",\",\"):[],o(\"\\n\"));return n(e,t(null,c,\"array syntax\",\"]\")),e})):r(i,y.property_list)?t(null,_,\"object syntax\",\"{}\"):f(\"{\",y.collapse_msg(Object.keys(i).length),\"}\",\"object\",(function(){var e=n(s(\"object\"),t(\"object syntax\",\"{\",null,\"\\n\"));for(var r in i)var l=r;var u=y.property_list||Object.keys(i);for(var _ in y.sort_objects&&(u=u.sort()),u){(r=u[_])in i&&n(e,t(null,c+\"    \",\"key\",'\"'+r+'\"',\"object syntax\",\": \"),a(y.replacer.call(i,r,i[r]),c+\"    \",!0,p-1,y),r!=l?t(\"syntax\",\",\"):[],o(\"\\n\"))}return n(e,t(null,c,\"object syntax\",\"}\")),e}))}var i=function t(e){var r=new Object(t.options);r.replacer=\"function\"==typeof r.replacer?r.replacer:function(t,n){return n};var o=n(document.createElement(\"pre\"),a(e,\"\",!1,r.show_to_level,r));return o.className=\"renderjson\",o};return i.set_icons=function(t,n){return i.options.show=t,i.options.hide=n,i},i.set_show_to_level=function(t){return i.options.show_to_level=\"string\"==typeof t&&\"all\"===t.toLowerCase()?Number.MAX_VALUE:t,i},i.set_max_string_length=function(t){return i.options.max_string_length=\"string\"==typeof t&&\"none\"===t.toLowerCase()?Number.MAX_VALUE:t,i},i.set_sort_objects=function(t){return i.options.sort_objects=t,i},i.set_replacer=function(t){return i.options.replacer=t,i},i.set_collapse_msg=function(t){return i.options.collapse_msg=t,i},i.set_property_list=function(t){return i.options.property_list=t,i},i.set_show_by_default=function(t){return i.options.show_to_level=t?Number.MAX_VALUE:0,i},i.options={},i.set_icons(\"⊕\",\"⊖\"),i.set_show_by_default(!1),i.set_sort_objects(!1),i.set_max_string_length(\"none\"),i.set_replacer(void 0),i.set_property_list(void 0),i.set_collapse_msg((function(t){return t+\" item\"+(1==t?\"\":\"s\")})),i}(); renderjson.set_show_to_level(4); document.getElementById(\"841f4a5a-146b-496d-8374-88787920436a\").appendChild(renderjson({\"task_id\": \"1Jr9VpIBFSlgWAuGEjPT\", \"status\": \"CREATED\"}))</script>"
      ],
      "text/plain": [
       "<IPython.core.display.HTML object>"
      ]
     },
     "metadata": {},
     "output_type": "display_data"
    }
   ],
   "source": [
    "url = \"http://localhost:9200/_plugins/_ml/models/_register\"\n",
    "\n",
    "payload = {\n",
    "  \"name\": \"huggingface/sentence-transformers/all-MiniLM-L6-v2\",\n",
    "  \"version\": \"1.0.1\",\n",
    "  \"model_group_id\": model_group_id,\n",
    "  \"model_format\": \"TORCH_SCRIPT\"\n",
    "}\n",
    "\n",
    "\n",
    "response = requests.request(\"POST\", url, headers=headers, data=json.dumps(payload))\n",
    "mr.JSON(response.json(), level=4)\n",
    "task_id = response.json()['task_id']"
   ]
  },
  {
   "cell_type": "markdown",
   "id": "21f12c30-d983-4475-acac-f25d515dbaeb",
   "metadata": {},
   "source": [
    "## Check status of registering model\n",
    "\n",
    "Since downloading and registering the model may take a while we need to check the status of this operation and wait for it to complete before we proceed."
   ]
  },
  {
   "cell_type": "code",
   "execution_count": 29,
   "id": "b7620aa2-e130-4829-a8a7-fcd13abbe2a2",
   "metadata": {},
   "outputs": [
    {
     "name": "stdout",
     "output_type": "stream",
     "text": [
      "CREATED\n",
      "CREATED\n",
      "CREATED\n",
      "COMPLETED\n",
      "Created Model ID 1Zr9VpIBFSlgWAuGFzOL\n"
     ]
    }
   ],
   "source": [
    "url = f\"http://localhost:9200/_plugins/_ml/tasks/{task_id}\"\n",
    "\n",
    "max_attempts = 10\n",
    "attempts = 0\n",
    "\n",
    "state = None\n",
    "while state != 'COMPLETED' and attempts < max_attempts:\n",
    "    time.sleep(5) # wait five second and then check again.  We are downloading msmarco model from huggingface.\n",
    "    response = requests.request(\"GET\", url, headers=headers)\n",
    "    #mr.JSON(response.json(), level=4)\n",
    "    print(response.json()['state'])\n",
    "    state = response.json()['state']\n",
    "    \n",
    "\n",
    "model_id = response.json()['model_id']\n",
    "\n",
    "print(f\"Created Model ID {model_id}\")"
   ]
  },
  {
   "cell_type": "markdown",
   "id": "76a6a5cf-1ea9-41e6-bc86-429b8e827b6c",
   "metadata": {},
   "source": [
    "## Deploy the model\n",
    "Under the covers we are downloading and deploying into OpenSearch pytorch4j!"
   ]
  },
  {
   "cell_type": "code",
   "execution_count": 30,
   "id": "084f2422-c30d-49c6-9e04-5061d95971ca",
   "metadata": {},
   "outputs": [
    {
     "data": {
      "text/html": [
       "<style>.renderjson a              { text-decoration: none; }\n",
       ".renderjson .disclosure    { color: grey; font-size: 125%; }\n",
       ".renderjson .syntax        { color: grey; }\n",
       ".renderjson .string        { color: #fe46a5; }\n",
       ".renderjson .number        { color: #0f9b8e; }\n",
       ".renderjson .boolean       { color: black; }\n",
       ".renderjson .key           { color: #2684ff; }\n",
       ".renderjson .keyword       { color: gray; }\n",
       ".renderjson .object.syntax { color: gray; }\n",
       ".renderjson .array.syntax  { color: gray; }</style><div id=\"928e00ab-c142-4de6-ab80-377dc783a034\"></div>"
      ],
      "text/plain": [
       "<IPython.core.display.HTML object>"
      ]
     },
     "metadata": {},
     "output_type": "display_data"
    },
    {
     "data": {
      "text/html": [
       "<script>var renderjson=function(){var t=function(){for(var t=[];arguments.length;)t.push(n(s(Array.prototype.shift.call(arguments)),o(Array.prototype.shift.call(arguments))));return t},n=function(){for(var t=Array.prototype.shift.call(arguments),e=0;e<arguments.length;e++)arguments[e].constructor==Array?n.apply(this,[t].concat(arguments[e])):t.appendChild(arguments[e]);return t},e=function(t,n){return t.insertBefore(n,t.firstChild),t},r=function(t,n){var e=n||Object.keys(t);for(var r in e)if(Object.hasOwnProperty.call(t,e[r]))return!1;return!0},o=function(t){return document.createTextNode(t)},s=function(t){var n=document.createElement(\"span\");return t&&(n.className=t),n},l=function(t,n,e){var r=document.createElement(\"a\");return n&&(r.className=n),r.appendChild(o(t)),r.href=\"#\",r.onclick=function(t){return e(),t&&t.stopPropagation(),!1},r};function a(i,c,u,p,y){var _=u?\"\":c,f=function(r,a,i,c,u){var f,g=s(c),h=function(){f||n(g.parentNode,f=e(u(),l(y.hide,\"disclosure\",(function(){f.style.display=\"none\",g.style.display=\"inline\"})))),f.style.display=\"inline\",g.style.display=\"none\"};n(g,l(y.show,\"disclosure\",h),t(c+\" syntax\",r),l(a,null,h),t(c+\" syntax\",i));var d=n(s(),o(_.slice(0,-1)),g);return p>0&&\"string\"!=c&&h(),d};return null===i?t(null,_,\"keyword\",\"null\"):void 0===i?t(null,_,\"keyword\",\"undefined\"):\"string\"==typeof i&&i.length>y.max_string_length?f('\"',i.substr(0,y.max_string_length)+\" ...\",'\"',\"string\",(function(){return n(s(\"string\"),t(null,_,\"string\",JSON.stringify(i)))})):\"object\"!=typeof i||[Number,String,Boolean,Date].indexOf(i.constructor)>=0?t(null,_,typeof i,JSON.stringify(i)):i.constructor==Array?0==i.length?t(null,_,\"array syntax\",\"[]\"):f(\"[\",y.collapse_msg(i.length),\"]\",\"array\",(function(){for(var e=n(s(\"array\"),t(\"array syntax\",\"[\",null,\"\\n\")),r=0;r<i.length;r++)n(e,a(y.replacer.call(i,r,i[r]),c+\"    \",!1,p-1,y),r!=i.length-1?t(\"syntax\",\",\"):[],o(\"\\n\"));return n(e,t(null,c,\"array syntax\",\"]\")),e})):r(i,y.property_list)?t(null,_,\"object syntax\",\"{}\"):f(\"{\",y.collapse_msg(Object.keys(i).length),\"}\",\"object\",(function(){var e=n(s(\"object\"),t(\"object syntax\",\"{\",null,\"\\n\"));for(var r in i)var l=r;var u=y.property_list||Object.keys(i);for(var _ in y.sort_objects&&(u=u.sort()),u){(r=u[_])in i&&n(e,t(null,c+\"    \",\"key\",'\"'+r+'\"',\"object syntax\",\": \"),a(y.replacer.call(i,r,i[r]),c+\"    \",!0,p-1,y),r!=l?t(\"syntax\",\",\"):[],o(\"\\n\"))}return n(e,t(null,c,\"object syntax\",\"}\")),e}))}var i=function t(e){var r=new Object(t.options);r.replacer=\"function\"==typeof r.replacer?r.replacer:function(t,n){return n};var o=n(document.createElement(\"pre\"),a(e,\"\",!1,r.show_to_level,r));return o.className=\"renderjson\",o};return i.set_icons=function(t,n){return i.options.show=t,i.options.hide=n,i},i.set_show_to_level=function(t){return i.options.show_to_level=\"string\"==typeof t&&\"all\"===t.toLowerCase()?Number.MAX_VALUE:t,i},i.set_max_string_length=function(t){return i.options.max_string_length=\"string\"==typeof t&&\"none\"===t.toLowerCase()?Number.MAX_VALUE:t,i},i.set_sort_objects=function(t){return i.options.sort_objects=t,i},i.set_replacer=function(t){return i.options.replacer=t,i},i.set_collapse_msg=function(t){return i.options.collapse_msg=t,i},i.set_property_list=function(t){return i.options.property_list=t,i},i.set_show_by_default=function(t){return i.options.show_to_level=t?Number.MAX_VALUE:0,i},i.options={},i.set_icons(\"⊕\",\"⊖\"),i.set_show_by_default(!1),i.set_sort_objects(!1),i.set_max_string_length(\"none\"),i.set_replacer(void 0),i.set_property_list(void 0),i.set_collapse_msg((function(t){return t+\" item\"+(1==t?\"\":\"s\")})),i}(); renderjson.set_show_to_level(4); document.getElementById(\"928e00ab-c142-4de6-ab80-377dc783a034\").appendChild(renderjson({\"task_id\": \"1pr9VpIBFSlgWAuGZDOz\", \"task_type\": \"DEPLOY_MODEL\", \"status\": \"CREATED\"}))</script>"
      ],
      "text/plain": [
       "<IPython.core.display.HTML object>"
      ]
     },
     "metadata": {},
     "output_type": "display_data"
    }
   ],
   "source": [
    "url = f\"http://localhost:9200/_plugins/_ml/models/{model_id}/_deploy\"\n",
    "\n",
    "response = requests.request(\"POST\", url, headers=headers)\n",
    "mr.JSON(response.json(), level=4)\n",
    "deploy_model_task_id = response.json()['task_id']"
   ]
  },
  {
   "cell_type": "markdown",
   "id": "4dd973dc-523b-4769-a712-482534429ae8",
   "metadata": {},
   "source": [
    "## Check the status\n",
    "\n",
    "We need to check the status again before proceeding to make sure it's available on our OpenSearch node."
   ]
  },
  {
   "cell_type": "code",
   "execution_count": 31,
   "id": "34f2eade-d39b-43e5-aec4-2e4861017be2",
   "metadata": {},
   "outputs": [
    {
     "name": "stdout",
     "output_type": "stream",
     "text": [
      "RUNNING\n",
      "COMPLETED\n",
      "Finished Deploying Model ID 1Zr9VpIBFSlgWAuGFzOL\n"
     ]
    }
   ],
   "source": [
    "url = f\"http://localhost:9200/_plugins/_ml/tasks/{deploy_model_task_id}\"\n",
    "\n",
    "max_attempts = 10\n",
    "attempts = 0\n",
    "\n",
    "state = None\n",
    "while state != 'COMPLETED' and attempts < max_attempts:\n",
    "    attempts += 1\n",
    "    time.sleep(5) # wait five second and then check again.  Deploying the model can take a while\n",
    "    response = requests.request(\"GET\", url, headers=headers)\n",
    "    #mr.JSON(response.json(), level=4)\n",
    "    print(response.json()['state'])\n",
    "    state = response.json()['state']\n",
    "    \n",
    "    \n",
    "\n",
    "model_id = response.json()['model_id']\n",
    "\n",
    "print(f\"Finished Deploying Model ID {model_id}\")"
   ]
  },
  {
   "cell_type": "markdown",
   "id": "5aa5f68e-f615-4381-ba7d-2609375a6cb7",
   "metadata": {},
   "source": [
    "### Test out using the Model to create sentence embeddings\n",
    "\n",
    "To test the model to get a sense what it's doing behind the scenes. We can do that without actually indexing or querying data.\n",
    "\n",
    "We use the `_predict` endpoint and the registered model to create embeddings for a textual input. Embeddings are numerical representation of text that machines can work with. These embeddings are the actual things we store when we do neural search. Another word for embedding is vector.\n",
    "We also create embeddings for the query and then the search engine is able to calculate the distance between the indexed vector and the query vector to see how similar they are.\n",
    "\n",
    "For now we'll only look at how these embeddings look like for an example string `today is sunny`.\n",
    "\n",
    "Feel free to expand the returned data by hitting the + symbol in the response.\n",
    "You will notice that the returned data has 384 items - the exact number of dimensions the model has. The second time we encounter this number!"
   ]
  },
  {
   "cell_type": "code",
   "execution_count": 32,
   "id": "6877d9da-0204-4d6d-8eae-10851037aab1",
   "metadata": {},
   "outputs": [
    {
     "data": {
      "text/html": [
       "<style>.renderjson a              { text-decoration: none; }\n",
       ".renderjson .disclosure    { color: grey; font-size: 125%; }\n",
       ".renderjson .syntax        { color: grey; }\n",
       ".renderjson .string        { color: #fe46a5; }\n",
       ".renderjson .number        { color: #0f9b8e; }\n",
       ".renderjson .boolean       { color: black; }\n",
       ".renderjson .key           { color: #2684ff; }\n",
       ".renderjson .keyword       { color: gray; }\n",
       ".renderjson .object.syntax { color: gray; }\n",
       ".renderjson .array.syntax  { color: gray; }</style><div id=\"a49f5c7b-33eb-4d11-9438-25cb60e528f8\"></div>"
      ],
      "text/plain": [
       "<IPython.core.display.HTML object>"
      ]
     },
     "metadata": {},
     "output_type": "display_data"
    },
    {
     "data": {
      "text/html": [
       "<script>var renderjson=function(){var t=function(){for(var t=[];arguments.length;)t.push(n(s(Array.prototype.shift.call(arguments)),o(Array.prototype.shift.call(arguments))));return t},n=function(){for(var t=Array.prototype.shift.call(arguments),e=0;e<arguments.length;e++)arguments[e].constructor==Array?n.apply(this,[t].concat(arguments[e])):t.appendChild(arguments[e]);return t},e=function(t,n){return t.insertBefore(n,t.firstChild),t},r=function(t,n){var e=n||Object.keys(t);for(var r in e)if(Object.hasOwnProperty.call(t,e[r]))return!1;return!0},o=function(t){return document.createTextNode(t)},s=function(t){var n=document.createElement(\"span\");return t&&(n.className=t),n},l=function(t,n,e){var r=document.createElement(\"a\");return n&&(r.className=n),r.appendChild(o(t)),r.href=\"#\",r.onclick=function(t){return e(),t&&t.stopPropagation(),!1},r};function a(i,c,u,p,y){var _=u?\"\":c,f=function(r,a,i,c,u){var f,g=s(c),h=function(){f||n(g.parentNode,f=e(u(),l(y.hide,\"disclosure\",(function(){f.style.display=\"none\",g.style.display=\"inline\"})))),f.style.display=\"inline\",g.style.display=\"none\"};n(g,l(y.show,\"disclosure\",h),t(c+\" syntax\",r),l(a,null,h),t(c+\" syntax\",i));var d=n(s(),o(_.slice(0,-1)),g);return p>0&&\"string\"!=c&&h(),d};return null===i?t(null,_,\"keyword\",\"null\"):void 0===i?t(null,_,\"keyword\",\"undefined\"):\"string\"==typeof i&&i.length>y.max_string_length?f('\"',i.substr(0,y.max_string_length)+\" ...\",'\"',\"string\",(function(){return n(s(\"string\"),t(null,_,\"string\",JSON.stringify(i)))})):\"object\"!=typeof i||[Number,String,Boolean,Date].indexOf(i.constructor)>=0?t(null,_,typeof i,JSON.stringify(i)):i.constructor==Array?0==i.length?t(null,_,\"array syntax\",\"[]\"):f(\"[\",y.collapse_msg(i.length),\"]\",\"array\",(function(){for(var e=n(s(\"array\"),t(\"array syntax\",\"[\",null,\"\\n\")),r=0;r<i.length;r++)n(e,a(y.replacer.call(i,r,i[r]),c+\"    \",!1,p-1,y),r!=i.length-1?t(\"syntax\",\",\"):[],o(\"\\n\"));return n(e,t(null,c,\"array syntax\",\"]\")),e})):r(i,y.property_list)?t(null,_,\"object syntax\",\"{}\"):f(\"{\",y.collapse_msg(Object.keys(i).length),\"}\",\"object\",(function(){var e=n(s(\"object\"),t(\"object syntax\",\"{\",null,\"\\n\"));for(var r in i)var l=r;var u=y.property_list||Object.keys(i);for(var _ in y.sort_objects&&(u=u.sort()),u){(r=u[_])in i&&n(e,t(null,c+\"    \",\"key\",'\"'+r+'\"',\"object syntax\",\": \"),a(y.replacer.call(i,r,i[r]),c+\"    \",!0,p-1,y),r!=l?t(\"syntax\",\",\"):[],o(\"\\n\"))}return n(e,t(null,c,\"object syntax\",\"}\")),e}))}var i=function t(e){var r=new Object(t.options);r.replacer=\"function\"==typeof r.replacer?r.replacer:function(t,n){return n};var o=n(document.createElement(\"pre\"),a(e,\"\",!1,r.show_to_level,r));return o.className=\"renderjson\",o};return i.set_icons=function(t,n){return i.options.show=t,i.options.hide=n,i},i.set_show_to_level=function(t){return i.options.show_to_level=\"string\"==typeof t&&\"all\"===t.toLowerCase()?Number.MAX_VALUE:t,i},i.set_max_string_length=function(t){return i.options.max_string_length=\"string\"==typeof t&&\"none\"===t.toLowerCase()?Number.MAX_VALUE:t,i},i.set_sort_objects=function(t){return i.options.sort_objects=t,i},i.set_replacer=function(t){return i.options.replacer=t,i},i.set_collapse_msg=function(t){return i.options.collapse_msg=t,i},i.set_property_list=function(t){return i.options.property_list=t,i},i.set_show_by_default=function(t){return i.options.show_to_level=t?Number.MAX_VALUE:0,i},i.options={},i.set_icons(\"⊕\",\"⊖\"),i.set_show_by_default(!1),i.set_sort_objects(!1),i.set_max_string_length(\"none\"),i.set_replacer(void 0),i.set_property_list(void 0),i.set_collapse_msg((function(t){return t+\" item\"+(1==t?\"\":\"s\")})),i}(); renderjson.set_show_to_level(5); document.getElementById(\"a49f5c7b-33eb-4d11-9438-25cb60e528f8\").appendChild(renderjson({\"inference_results\": [{\"output\": [{\"name\": \"sentence_embedding\", \"data_type\": \"FLOAT32\", \"shape\": [384], \"data\": [-0.023314958, 0.089756876, 0.07847973, 0.061070826, 0.048993625, -0.05530806, 0.13658485, -0.092474446, -0.043958154, -0.0056035807, 0.020944769, -0.0047863834, -0.01208727, 0.07737953, 0.08406358, 0.061221078, 0.025225228, -0.024019718, -0.070372894, 0.005796221, -0.10413996, 0.0014407949, -0.048125714, 0.0093601225, 0.020430328, 0.069359936, 0.041113816, 0.0006692595, -0.028226277, -0.05179346, -0.028759833, 0.043938246, -0.023560727, 0.0052123414, -0.026442762, -0.042948652, 0.006771564, -0.15746734, -0.03974112, 0.09619509, -0.014078961, -0.13530368, -0.0072143315, 0.003866911, -0.0039791684, -0.030110044, -0.046889346, 0.047889233, 0.113092884, -0.034577876, -0.06408539, -0.004227929, -0.0058800117, -0.03607868, -0.019892504, 0.10845894, 0.020688405, -0.00042822343, 0.09708185, -0.0028290304, 0.02188626, 0.02151169, -0.04844331, 0.008530501, 0.09800341, -0.027008044, -0.102348715, -0.04492695, -0.021943463, -0.058858957, -0.09203744, 0.020186622, 0.018753862, -0.0004267268, -0.027050806, -0.023441387, 0.03364786, -0.027632197, 0.029743496, -0.06800682, 0.011032481, -0.057260465, -0.025871865, 0.03768201, -0.009489198, 0.013006895, -0.031814523, 0.10471867, 0.018841173, -0.033409193, -0.12860906, -0.014512247, -0.06529643, 0.024827555, -0.023390433, 0.0057239057, -0.027247317, 0.019010112, -0.039934643, 0.13252725, 0.046794936, 0.047058973, -0.06835884, 0.0062206155, 0.0639636, -0.021444818, -0.03269136, 0.053394705, -0.021857457, -0.07178568, -0.034347136, 0.04536711, 0.008831154, -0.01074236, 0.06572548, -0.049370762, 0.040272616, 0.04264703, -0.08789312, -0.014612146, 0.06465116, 0.017262936, 0.033452358, 0.07480401, 0.020652572, -0.01839253, 0.079527296, -5.4401596e-33, 0.08949278, 0.028159915, 0.0010709286, 0.004341333, 0.057426464, -0.020734707, -0.018899914, 0.005986177, -0.022104949, -0.10909816, -0.008017153, -0.010747236, -0.039212234, -0.008489441, 0.016993608, -0.06340228, 0.06716595, 0.07781532, -0.011683704, 0.09232733, -0.113628194, 0.05616293, 0.020310622, -0.048508693, -0.07405544, -0.0041739913, 0.05555909, -0.011013425, 0.0028782322, 0.011769482, 0.077792495, -0.05332084, 0.09249976, 0.060355797, 0.039147984, -0.03159191, -0.032859538, -0.052256763, -0.009363732, -0.0075392616, -0.012108924, 0.00086212077, 0.015642883, -0.011398224, -0.020389743, 0.08374759, 0.013156233, 0.061012615, -0.06412185, 0.010407879, -0.05201256, 0.039103042, -0.028931055, -0.024693191, -0.03402095, -0.020440191, -0.023735488, -0.006202664, -0.02876885, 0.035158988, -0.011301398, 0.015181196, -0.043968488, -0.07220965, -0.054104365, 0.021271491, -0.0028948684, 0.06257122, -0.07792595, 0.03991778, 0.054965388, 0.026414704, 0.05442852, 0.018896107, 0.048398674, 0.010681348, 0.12072665, 0.0032171016, -0.017723603, 0.05998568, 0.010905891, 0.08362165, 0.04497022, -0.086357914, -0.00878539, 0.021902226, -0.029232865, 0.040961966, -0.05908375, -0.000105206775, -0.09627324, 0.0038629102, 0.041711014, -0.019314826, -0.010932823, 1.7122227e-33, 0.09680206, 0.025234016, -0.13657627, -0.034967195, -0.014794273, 0.0019108864, -0.006399123, 0.033685442, -0.10060898, 0.029850379, 0.07024817, 0.032527737, -0.016621284, -0.06504007, 0.0007817721, 0.024243299, 0.0056548687, 0.068308994, -0.084183656, 0.09332946, -0.07884463, 0.009335507, -0.0069060093, 0.08516282, 0.018411836, 0.048869416, 0.072991535, 0.03889258, -0.059872523, 0.007752042, -0.046097055, 0.020334452, -0.0868956, 0.0015141168, 0.0068349624, 0.12130982, 0.07370104, -0.10242476, -0.0067550945, -0.0129259955, -0.03577559, -0.051622, 0.05377251, -0.04670396, -0.009215715, 0.009317693, -0.067741044, 0.060572065, -0.06981464, 0.06456797, -0.021674668, -0.05452254, 0.010740526, 0.0782713, -0.0022976666, -0.037999872, -0.055965647, -0.0073188744, -0.08901744, -0.008771801, -0.02947347, -0.042583898, -0.0153655745, 0.019531885, -0.037935127, -0.02058965, -0.00020248086, 0.0010404923, 0.013284936, -0.0002491351, 0.06275962, -0.09343614, -0.120802455, -0.03629245, 0.00016414459, 0.10387126, 0.020664776, 0.03716291, -0.02730342, 0.08125012, -0.101195134, 0.0030737128, -0.014064375, 0.015530627, 0.007862292, -0.06383432, 0.065292634, -0.08810021, -0.031427618, -0.0018108657, -0.054954432, 0.029959705, -0.08377471, 0.0489291, -0.05916075, -1.4211903e-08, 0.030078456, -0.058990482, -0.056617633, 0.017041711, 0.048756145, 0.017458385, 0.008059103, -0.047845073, 0.020694584, 0.025622776, 0.051365927, 0.053128764, 0.055991102, 0.042785157, 0.04007776, -0.08983883, -0.0077006994, -0.004225075, 0.026888825, -0.0053906715, 0.041105594, -0.033943128, 0.026833668, 0.073591955, 0.05969386, 0.038102344, -0.019186627, 0.013228739, 0.049059246, 0.07992317, 0.018438311, 0.06395076, -0.038223617, -0.06666271, -0.0128745455, -0.052554436, 0.05052995, 0.056797974, 0.00343807, 0.015981007, -0.025326122, 0.015959136, -0.01055823, 0.034118265, 0.007976611, -0.034363862, 0.045641102, -0.021353908, -0.054549325, -0.045735896, 0.033656135, -0.015931183, 0.048613697, 0.008890073, -0.08875532, -0.027142312, -0.019007852, -0.020730237, -0.04208684, -0.022405779, -0.029765982, 0.008650846, -0.0813632, 0.04511534]}]}]}))</script>"
      ],
      "text/plain": [
       "<IPython.core.display.HTML object>"
      ]
     },
     "metadata": {},
     "output_type": "display_data"
    }
   ],
   "source": [
    "url = f\"http://localhost:9200/_plugins/_ml/_predict/text_embedding/{model_id}\"\n",
    "\n",
    "payload = {\n",
    "  \"text_docs\":[ \"today is sunny\"],\n",
    "  \"return_number\": True,\n",
    "  \"target_response\": [\"sentence_embedding\"]\n",
    "}\n",
    "\n",
    "\n",
    "response = requests.request(\"POST\", url, headers=headers, data=json.dumps(payload))\n",
    "mr.JSON(response.json(), level=5)"
   ]
  },
  {
   "cell_type": "markdown",
   "id": "2bf0d157-142c-48da-b241-d83de6c41f76",
   "metadata": {},
   "source": [
    "## Create an Ingest pipeline\n",
    "Here we are creating an embedding using our model on the title field called `title_embedding` that we can refer to later. During index time the content of the field `title` is used and embeddings are generated by the registered model.\n",
    "\n",
    "The generated embeddings will be stored in the field `title_embedding`.\n",
    "\n",
    "\n",
    "Learn more at https://opensearch.org/docs/latest/ingest-pipelines/processors/text-embedding/."
   ]
  },
  {
   "cell_type": "code",
   "execution_count": 33,
   "id": "b74412c8-9525-4886-896a-3f71e3c3edd4",
   "metadata": {},
   "outputs": [
    {
     "data": {
      "text/html": [
       "<style>.renderjson a              { text-decoration: none; }\n",
       ".renderjson .disclosure    { color: grey; font-size: 125%; }\n",
       ".renderjson .syntax        { color: grey; }\n",
       ".renderjson .string        { color: #fe46a5; }\n",
       ".renderjson .number        { color: #0f9b8e; }\n",
       ".renderjson .boolean       { color: black; }\n",
       ".renderjson .key           { color: #2684ff; }\n",
       ".renderjson .keyword       { color: gray; }\n",
       ".renderjson .object.syntax { color: gray; }\n",
       ".renderjson .array.syntax  { color: gray; }</style><div id=\"a492f28a-f813-46e0-b3b2-a70654172207\"></div>"
      ],
      "text/plain": [
       "<IPython.core.display.HTML object>"
      ]
     },
     "metadata": {},
     "output_type": "display_data"
    },
    {
     "data": {
      "text/html": [
       "<script>var renderjson=function(){var t=function(){for(var t=[];arguments.length;)t.push(n(s(Array.prototype.shift.call(arguments)),o(Array.prototype.shift.call(arguments))));return t},n=function(){for(var t=Array.prototype.shift.call(arguments),e=0;e<arguments.length;e++)arguments[e].constructor==Array?n.apply(this,[t].concat(arguments[e])):t.appendChild(arguments[e]);return t},e=function(t,n){return t.insertBefore(n,t.firstChild),t},r=function(t,n){var e=n||Object.keys(t);for(var r in e)if(Object.hasOwnProperty.call(t,e[r]))return!1;return!0},o=function(t){return document.createTextNode(t)},s=function(t){var n=document.createElement(\"span\");return t&&(n.className=t),n},l=function(t,n,e){var r=document.createElement(\"a\");return n&&(r.className=n),r.appendChild(o(t)),r.href=\"#\",r.onclick=function(t){return e(),t&&t.stopPropagation(),!1},r};function a(i,c,u,p,y){var _=u?\"\":c,f=function(r,a,i,c,u){var f,g=s(c),h=function(){f||n(g.parentNode,f=e(u(),l(y.hide,\"disclosure\",(function(){f.style.display=\"none\",g.style.display=\"inline\"})))),f.style.display=\"inline\",g.style.display=\"none\"};n(g,l(y.show,\"disclosure\",h),t(c+\" syntax\",r),l(a,null,h),t(c+\" syntax\",i));var d=n(s(),o(_.slice(0,-1)),g);return p>0&&\"string\"!=c&&h(),d};return null===i?t(null,_,\"keyword\",\"null\"):void 0===i?t(null,_,\"keyword\",\"undefined\"):\"string\"==typeof i&&i.length>y.max_string_length?f('\"',i.substr(0,y.max_string_length)+\" ...\",'\"',\"string\",(function(){return n(s(\"string\"),t(null,_,\"string\",JSON.stringify(i)))})):\"object\"!=typeof i||[Number,String,Boolean,Date].indexOf(i.constructor)>=0?t(null,_,typeof i,JSON.stringify(i)):i.constructor==Array?0==i.length?t(null,_,\"array syntax\",\"[]\"):f(\"[\",y.collapse_msg(i.length),\"]\",\"array\",(function(){for(var e=n(s(\"array\"),t(\"array syntax\",\"[\",null,\"\\n\")),r=0;r<i.length;r++)n(e,a(y.replacer.call(i,r,i[r]),c+\"    \",!1,p-1,y),r!=i.length-1?t(\"syntax\",\",\"):[],o(\"\\n\"));return n(e,t(null,c,\"array syntax\",\"]\")),e})):r(i,y.property_list)?t(null,_,\"object syntax\",\"{}\"):f(\"{\",y.collapse_msg(Object.keys(i).length),\"}\",\"object\",(function(){var e=n(s(\"object\"),t(\"object syntax\",\"{\",null,\"\\n\"));for(var r in i)var l=r;var u=y.property_list||Object.keys(i);for(var _ in y.sort_objects&&(u=u.sort()),u){(r=u[_])in i&&n(e,t(null,c+\"    \",\"key\",'\"'+r+'\"',\"object syntax\",\": \"),a(y.replacer.call(i,r,i[r]),c+\"    \",!0,p-1,y),r!=l?t(\"syntax\",\",\"):[],o(\"\\n\"))}return n(e,t(null,c,\"object syntax\",\"}\")),e}))}var i=function t(e){var r=new Object(t.options);r.replacer=\"function\"==typeof r.replacer?r.replacer:function(t,n){return n};var o=n(document.createElement(\"pre\"),a(e,\"\",!1,r.show_to_level,r));return o.className=\"renderjson\",o};return i.set_icons=function(t,n){return i.options.show=t,i.options.hide=n,i},i.set_show_to_level=function(t){return i.options.show_to_level=\"string\"==typeof t&&\"all\"===t.toLowerCase()?Number.MAX_VALUE:t,i},i.set_max_string_length=function(t){return i.options.max_string_length=\"string\"==typeof t&&\"none\"===t.toLowerCase()?Number.MAX_VALUE:t,i},i.set_sort_objects=function(t){return i.options.sort_objects=t,i},i.set_replacer=function(t){return i.options.replacer=t,i},i.set_collapse_msg=function(t){return i.options.collapse_msg=t,i},i.set_property_list=function(t){return i.options.property_list=t,i},i.set_show_by_default=function(t){return i.options.show_to_level=t?Number.MAX_VALUE:0,i},i.options={},i.set_icons(\"⊕\",\"⊖\"),i.set_show_by_default(!1),i.set_sort_objects(!1),i.set_max_string_length(\"none\"),i.set_replacer(void 0),i.set_property_list(void 0),i.set_collapse_msg((function(t){return t+\" item\"+(1==t?\"\":\"s\")})),i}(); renderjson.set_show_to_level(4); document.getElementById(\"a492f28a-f813-46e0-b3b2-a70654172207\").appendChild(renderjson({\"acknowledged\": true}))</script>"
      ],
      "text/plain": [
       "<IPython.core.display.HTML object>"
      ]
     },
     "metadata": {},
     "output_type": "display_data"
    }
   ],
   "source": [
    "url = \"http://localhost:9200/_ingest/pipeline/nlp-ingest-pipeline\"\n",
    "\n",
    "payload = {\n",
    "  \"description\": \"A text embedding pipeline\",\n",
    "  \"processors\": [\n",
    "    {\n",
    "      \"text_embedding\": {\n",
    "        \"model_id\": model_id,\n",
    "        \"field_map\": {\n",
    "          \"product_title\": \"title_embedding\"\n",
    "        }\n",
    "      }\n",
    "    }\n",
    "  ]\n",
    "}\n",
    "\n",
    "\n",
    "response = requests.request(\"PUT\", url, headers=headers, data=json.dumps(payload))\n",
    "mr.JSON(response.json(), level=4)\n"
   ]
  },
  {
   "cell_type": "code",
   "execution_count": null,
   "id": "1299f6d1-2765-4b75-bf4a-49133a354c43",
   "metadata": {
    "editable": true,
    "slideshow": {
     "slide_type": ""
    },
    "tags": []
   },
   "outputs": [],
   "source": []
  }
 ],
 "metadata": {
  "kernelspec": {
   "display_name": "Python 3 (ipykernel)",
   "language": "python",
   "name": "python3"
  },
  "language_info": {
   "codemirror_mode": {
    "name": "ipython",
    "version": 3
   },
   "file_extension": ".py",
   "mimetype": "text/x-python",
   "name": "python",
   "nbconvert_exporter": "python",
   "pygments_lexer": "ipython3",
   "version": "3.12.6"
  }
 },
 "nbformat": 4,
 "nbformat_minor": 5
}
