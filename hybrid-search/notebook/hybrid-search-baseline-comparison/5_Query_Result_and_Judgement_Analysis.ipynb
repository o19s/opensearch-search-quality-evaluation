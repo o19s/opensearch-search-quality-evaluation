{
 "cells": [
  {
   "cell_type": "markdown",
   "id": "e8ce057d-0199-4392-a2a4-b231b401f0e6",
   "metadata": {},
   "source": [
    "# 5 Query, Result and Judgement Analysis\n",
    "\n",
    "We're exploring the results from 66 different hybrid search configurations.\n",
    "\n",
    "With a query set of 200+ queries and the judgements from the ESCI dataset we look at the impact of missing judgements on calculating search metrics."
   ]
  },
  {
   "cell_type": "code",
   "execution_count": 47,
   "id": "c515a4eb-69f4-4a40-8dcf-f095ba112396",
   "metadata": {},
   "outputs": [],
   "source": [
    "import pandas as pd\n",
    "import numpy as np\n",
    "import matplotlib.pyplot as plt\n",
    "import plotly.express as px\n",
    "import plotly.io as pio"
   ]
  },
  {
   "cell_type": "code",
   "execution_count": 48,
   "id": "4bd2dd59-2647-4913-9215-fb2097d91ec0",
   "metadata": {},
   "outputs": [],
   "source": [
    "df = pd.read_csv('results_and_ratings.csv', index_col=[0])"
   ]
  },
  {
   "cell_type": "code",
   "execution_count": 49,
   "id": "ac86b93a-b3c8-48f7-88f9-8000cca1789f",
   "metadata": {},
   "outputs": [
    {
     "data": {
      "text/html": [
       "<div>\n",
       "<style scoped>\n",
       "    .dataframe tbody tr th:only-of-type {\n",
       "        vertical-align: middle;\n",
       "    }\n",
       "\n",
       "    .dataframe tbody tr th {\n",
       "        vertical-align: top;\n",
       "    }\n",
       "\n",
       "    .dataframe thead th {\n",
       "        text-align: right;\n",
       "    }\n",
       "</style>\n",
       "<table border=\"1\" class=\"dataframe\">\n",
       "  <thead>\n",
       "    <tr style=\"text-align: right;\">\n",
       "      <th></th>\n",
       "      <th>query_id</th>\n",
       "      <th>query_string</th>\n",
       "      <th>product_id</th>\n",
       "      <th>position</th>\n",
       "      <th>relevance</th>\n",
       "      <th>run</th>\n",
       "      <th>rating</th>\n",
       "    </tr>\n",
       "  </thead>\n",
       "  <tbody>\n",
       "    <tr>\n",
       "      <th>0</th>\n",
       "      <td>0</td>\n",
       "      <td>$30 roblox gift card not digital</td>\n",
       "      <td>B00F4CF4PU</td>\n",
       "      <td>0</td>\n",
       "      <td>1.000000</td>\n",
       "      <td>min_maxarithmetic_mean0.0</td>\n",
       "      <td>NaN</td>\n",
       "    </tr>\n",
       "    <tr>\n",
       "      <th>1</th>\n",
       "      <td>0</td>\n",
       "      <td>$30 roblox gift card not digital</td>\n",
       "      <td>B07C438TMN</td>\n",
       "      <td>1</td>\n",
       "      <td>0.799684</td>\n",
       "      <td>min_maxarithmetic_mean0.0</td>\n",
       "      <td>NaN</td>\n",
       "    </tr>\n",
       "    <tr>\n",
       "      <th>2</th>\n",
       "      <td>0</td>\n",
       "      <td>$30 roblox gift card not digital</td>\n",
       "      <td>B00XJZHJCA</td>\n",
       "      <td>2</td>\n",
       "      <td>0.795128</td>\n",
       "      <td>min_maxarithmetic_mean0.0</td>\n",
       "      <td>NaN</td>\n",
       "    </tr>\n",
       "    <tr>\n",
       "      <th>3</th>\n",
       "      <td>0</td>\n",
       "      <td>$30 roblox gift card not digital</td>\n",
       "      <td>B00GAC1D2G</td>\n",
       "      <td>3</td>\n",
       "      <td>0.771049</td>\n",
       "      <td>min_maxarithmetic_mean0.0</td>\n",
       "      <td>NaN</td>\n",
       "    </tr>\n",
       "    <tr>\n",
       "      <th>4</th>\n",
       "      <td>0</td>\n",
       "      <td>$30 roblox gift card not digital</td>\n",
       "      <td>B004RMK4BC</td>\n",
       "      <td>4</td>\n",
       "      <td>0.742659</td>\n",
       "      <td>min_maxarithmetic_mean0.0</td>\n",
       "      <td>NaN</td>\n",
       "    </tr>\n",
       "  </tbody>\n",
       "</table>\n",
       "</div>"
      ],
      "text/plain": [
       "   query_id                      query_string  product_id  position  \\\n",
       "0         0  $30 roblox gift card not digital  B00F4CF4PU         0   \n",
       "1         0  $30 roblox gift card not digital  B07C438TMN         1   \n",
       "2         0  $30 roblox gift card not digital  B00XJZHJCA         2   \n",
       "3         0  $30 roblox gift card not digital  B00GAC1D2G         3   \n",
       "4         0  $30 roblox gift card not digital  B004RMK4BC         4   \n",
       "\n",
       "   relevance                        run  rating  \n",
       "0   1.000000  min_maxarithmetic_mean0.0     NaN  \n",
       "1   0.799684  min_maxarithmetic_mean0.0     NaN  \n",
       "2   0.795128  min_maxarithmetic_mean0.0     NaN  \n",
       "3   0.771049  min_maxarithmetic_mean0.0     NaN  \n",
       "4   0.742659  min_maxarithmetic_mean0.0     NaN  "
      ]
     },
     "execution_count": 49,
     "metadata": {},
     "output_type": "execute_result"
    }
   ],
   "source": [
    "df.head(5)"
   ]
  },
  {
   "cell_type": "code",
   "execution_count": 50,
   "id": "fb2a59f4-fe9d-4544-9876-88089f18f3b7",
   "metadata": {},
   "outputs": [
    {
     "name": "stdout",
     "output_type": "stream",
     "text": [
      "Total number of query-doc pairs: 1452000\n",
      "Missing judgements: 1325865\n",
      "Available judgements: 126135\n",
      "Ratio of available judgements: 8.686983471074381 %\n"
     ]
    }
   ],
   "source": [
    "print(f\"Total number of query-doc pairs: {df.shape[0]}\")\n",
    "print(f\"Missing judgements: {df[df['rating'].isna()].shape[0]}\")\n",
    "print(f\"Available judgements: {df[~df['rating'].isna()].shape[0]}\")\n",
    "print(f\"Ratio of available judgements: {((df[~df['rating'].isna()].shape[0]/df.shape[0])*100)} %\")"
   ]
  },
  {
   "cell_type": "code",
   "execution_count": 51,
   "id": "c0bec531-474b-4d97-98a3-632fc238d8f1",
   "metadata": {},
   "outputs": [],
   "source": [
    "df_ratings = pd.read_csv('ratings.csv', sep=\"\\t\", names=['query', 'docid', 'rating', 'idx'])#, index=False)\n",
    "\n",
    "# Make sure that the reference judgments are compatible\n",
    "assert set(df.query_string.unique()) == set(df_ratings[\"query\"].unique())"
   ]
  },
  {
   "cell_type": "markdown",
   "id": "b3aab3e2-638f-477c-b773-23415c2a9fc5",
   "metadata": {},
   "source": [
    "## Metrics"
   ]
  },
  {
   "cell_type": "code",
   "execution_count": 52,
   "id": "00623b29-2d9c-49dc-af5c-570f734f1739",
   "metadata": {},
   "outputs": [],
   "source": [
    "def dcg_at_10(df, k=10, position=None, **kwargs):\n",
    "    # Sort by position and take the top k results\n",
    "    # if position is given, the caller has already sorted the dataframe\n",
    "    # an additional position argument is used to avoid excessive dataframe copying\n",
    "    if position is None:\n",
    "        df = df.sort_values('position')\n",
    "        position = df[\"position\"]\n",
    "    if k:\n",
    "        df = df.head(k)\n",
    "        position = position[:10]\n",
    "\n",
    "    # Apply DCG formula\n",
    "    dcg = np.sum(2.0 ** (df['rating'] - 1) / np.log2(position + 2))\n",
    "    \n",
    "    return dcg\n",
    "\n",
    "\n",
    "def ndcg_at_10(df, reference=None):\n",
    "    # Calculate DCG@10\n",
    "    dcg = dcg_at_10(df)\n",
    "    \n",
    "    # Use reference judgments, because best ratings may be outside of search results\n",
    "    assert reference is not None\n",
    "\n",
    "    # Reset the positional information - otherwise it uses the original positions and the \n",
    "    # changed sorting would have no effect\n",
    "    ideal_top_10 = reference.sort_values(\"rating\", ascending=False)\n",
    "    position = np.arange(ideal_top_10.shape[0])\n",
    "    \n",
    "    # Calculate iDCG (ideal DCG)\n",
    "    idcg = dcg_at_10(ideal_top_10, position=position, k=None)\n",
    "    \n",
    "    # Handle cases where iDCG is 0\n",
    "    if idcg == 0:\n",
    "        return 0\n",
    "    \n",
    "    # Normalize DCG\n",
    "    ndcg = dcg / idcg\n",
    "    \n",
    "    return ndcg\n",
    "\n",
    "def dg_at_10(df, k=10, **kwargs):\n",
    "    \"\"\"Failed attempt at performing a different aggregation for a DCG-like metric\"\"\"\n",
    "    # Sort by position and take the top k results\n",
    "    if k:\n",
    "        df = df.sort_values('position').head(k)\n",
    "    \n",
    "    # Calculate DG for each result and average non-NaNs\n",
    "    dgs = df['rating'] / np.log2(df['position'] + 2)\n",
    "    dgs = dgs[~np.isnan(dgs)]\n",
    "\n",
    "    if dgs.shape[0] == 0:\n",
    "        return 0 # penalize queries with no judgements (alternative, not include in averaging through the use of weights)\n",
    "    else:\n",
    "        return dgs.mean()\n",
    "\n",
    "\n",
    "def precision_at_k(df, k=10, **kwargs):\n",
    "    # Sort by position and take the top k results\n",
    "    top_k = df.sort_values('position').head(k)\n",
    "    \n",
    "    # Calculate the number of relevant results (assuming relevance > 1 is relevant)\n",
    "    relevant_count = np.sum(top_k['rating'] > 1)\n",
    "    \n",
    "    # Calculate precision\n",
    "    precision = relevant_count / k\n",
    "    \n",
    "    return precision\n",
    "\n",
    "def ratio_of_ratings(df, k=10, **kwargs):\n",
    "    top_k = df.sort_values('position').head(k)\n",
    "    num_of_ratings = top_k[~top_k['rating'].isna()].shape[0]\n",
    "    num_of_shown_results = top_k.shape[0]\n",
    "    if num_of_shown_results == 0:\n",
    "        return 0\n",
    "    else:\n",
    "        return num_of_ratings/num_of_shown_results\n",
    "\n",
    "def condensed(metric_fun):\n",
    "    \"\"\"Turn metric function into calculation of condensed results\"\"\"\n",
    "    # TODO: add reference\n",
    "    def fun(df, **kwargs):\n",
    "        df = df[~np.isnan(df.rating)]\n",
    "        df = df.sort_values('position')\n",
    "        return metric_fun(df, position=np.arange(df.shape[0]), **kwargs)\n",
    "    return fun"
   ]
  },
  {
   "cell_type": "code",
   "execution_count": 53,
   "id": "864b83eb-a0db-401b-ba3b-3d920aea3a9b",
   "metadata": {},
   "outputs": [
    {
     "data": {
      "text/html": [
       "<div>\n",
       "<style scoped>\n",
       "    .dataframe tbody tr th:only-of-type {\n",
       "        vertical-align: middle;\n",
       "    }\n",
       "\n",
       "    .dataframe tbody tr th {\n",
       "        vertical-align: top;\n",
       "    }\n",
       "\n",
       "    .dataframe thead th {\n",
       "        text-align: right;\n",
       "    }\n",
       "</style>\n",
       "<table border=\"1\" class=\"dataframe\">\n",
       "  <thead>\n",
       "    <tr style=\"text-align: right;\">\n",
       "      <th></th>\n",
       "      <th>query_string</th>\n",
       "    </tr>\n",
       "  </thead>\n",
       "  <tbody>\n",
       "    <tr>\n",
       "      <th>0</th>\n",
       "      <td>$30 roblox gift card not digital</td>\n",
       "    </tr>\n",
       "    <tr>\n",
       "      <th>1</th>\n",
       "      <td>(fiction without frontiers)</td>\n",
       "    </tr>\n",
       "    <tr>\n",
       "      <th>2</th>\n",
       "      <td>100</td>\n",
       "    </tr>\n",
       "    <tr>\n",
       "      <th>3</th>\n",
       "      <td>10x10x6 cake box without window</td>\n",
       "    </tr>\n",
       "    <tr>\n",
       "      <th>4</th>\n",
       "      <td>15 inch light weight laptop that has lots of m...</td>\n",
       "    </tr>\n",
       "  </tbody>\n",
       "</table>\n",
       "</div>"
      ],
      "text/plain": [
       "                                        query_string\n",
       "0                   $30 roblox gift card not digital\n",
       "1                        (fiction without frontiers)\n",
       "2                                                100\n",
       "3                    10x10x6 cake box without window\n",
       "4  15 inch light weight laptop that has lots of m..."
      ]
     },
     "execution_count": 53,
     "metadata": {},
     "output_type": "execute_result"
    }
   ],
   "source": [
    "# Set b_most_judged to the same value you set in notebook 3 - otherwise the query sets won't match and the results will be meaningless\n",
    "b_most_judged = False\n",
    "\n",
    "if b_most_judged:\n",
    "    df_queries = pd.read_csv('most_judged.csv', usecols=[0])\n",
    "    # Transform the data so that it contains two columns: the index of the query as its identifier and the query\n",
    "    #df_queries = df_queries.reset_index()\n",
    "    #df_queries = df_queries.rename(columns={'index': 'idx'})\n",
    "    #df_queries = df_queries.drop(columns=['query_set_id'])\n",
    "else:\n",
    "    name = 'queries.txt'\n",
    "    df_queries = pd.read_csv('queries.txt', index_col=[0], sep='\\t', names=['query_string'])\n",
    "df_queries.head(5)"
   ]
  },
  {
   "cell_type": "code",
   "execution_count": 54,
   "id": "aeb332c9-189d-45e7-959d-46293ff6a7fa",
   "metadata": {},
   "outputs": [],
   "source": [
    "search_configs = df['run'].unique()"
   ]
  },
  {
   "cell_type": "markdown",
   "id": "58be83a9-2b06-4269-a525-a0b86f72c45b",
   "metadata": {},
   "source": [
    "## \"Standard\" Calculation - DCG per query, then average of all queries\n",
    "\n",
    "First we look at the standard calculation:\n",
    "1. We treat missing judgements as `0` (irrelevant)\n",
    "2. We calculate the DCG value per query\n",
    "3. We calculate the average DCG of all query-specific DCG values"
   ]
  },
  {
   "cell_type": "code",
   "execution_count": 55,
   "id": "7ae42060-fa1b-4435-912c-bfecf5743121",
   "metadata": {},
   "outputs": [],
   "source": [
    "metrics = [\n",
    "    (\"dcg\", dcg_at_10, None),\n",
    "    (\"ndcg\", ndcg_at_10, None),\n",
    "    (\"dcg_dense\", condensed(dcg_at_10), None),\n",
    "    (\"prec@10\", lambda x, **kwargs: precision_at_k(x, k=10, **kwargs), None),\n",
    "    (\"ratio_of_ratings\", ratio_of_ratings, None)\n",
    "]\n",
    "\n",
    "reference = {query: df for query, df in df_ratings.groupby(\"query\")}\n",
    "\n",
    "df_metrics = []\n",
    "for m_name, m_function, ref_search in metrics:\n",
    "    for (query_string, run), df_gr in df.groupby([\"query_string\", \"run\"]):\n",
    "        metric = m_function(df_gr, reference=reference[query_string])\n",
    "        df_metrics.append(pd.DataFrame({\n",
    "            \"query\": [query_string],\n",
    "            \"pipeline\": [run],\n",
    "            \"metric\": [m_name],\n",
    "            \"value\": [metric],\n",
    "        }))\n",
    "df_metrics = pd.concat(df_metrics)"
   ]
  },
  {
   "cell_type": "code",
   "execution_count": 56,
   "id": "3797e537-4cec-49e3-ba0c-02a54f6d22ca",
   "metadata": {},
   "outputs": [
    {
     "data": {
      "text/html": [
       "<div>\n",
       "<style scoped>\n",
       "    .dataframe tbody tr th:only-of-type {\n",
       "        vertical-align: middle;\n",
       "    }\n",
       "\n",
       "    .dataframe tbody tr th {\n",
       "        vertical-align: top;\n",
       "    }\n",
       "\n",
       "    .dataframe thead th {\n",
       "        text-align: right;\n",
       "    }\n",
       "</style>\n",
       "<table border=\"1\" class=\"dataframe\">\n",
       "  <thead>\n",
       "    <tr style=\"text-align: right;\">\n",
       "      <th></th>\n",
       "      <th>query</th>\n",
       "      <th>pipeline</th>\n",
       "      <th>metric</th>\n",
       "      <th>value</th>\n",
       "    </tr>\n",
       "  </thead>\n",
       "  <tbody>\n",
       "    <tr>\n",
       "      <th>0</th>\n",
       "      <td>$30 roblox gift card not digital</td>\n",
       "      <td>l2arithmetic_mean0.0</td>\n",
       "      <td>dcg</td>\n",
       "      <td>0.84477</td>\n",
       "    </tr>\n",
       "    <tr>\n",
       "      <th>0</th>\n",
       "      <td>$30 roblox gift card not digital</td>\n",
       "      <td>l2arithmetic_mean0.1</td>\n",
       "      <td>dcg</td>\n",
       "      <td>0.84477</td>\n",
       "    </tr>\n",
       "    <tr>\n",
       "      <th>0</th>\n",
       "      <td>$30 roblox gift card not digital</td>\n",
       "      <td>l2arithmetic_mean0.2</td>\n",
       "      <td>dcg</td>\n",
       "      <td>0.84477</td>\n",
       "    </tr>\n",
       "    <tr>\n",
       "      <th>0</th>\n",
       "      <td>$30 roblox gift card not digital</td>\n",
       "      <td>l2arithmetic_mean0.3</td>\n",
       "      <td>dcg</td>\n",
       "      <td>0.84477</td>\n",
       "    </tr>\n",
       "    <tr>\n",
       "      <th>0</th>\n",
       "      <td>$30 roblox gift card not digital</td>\n",
       "      <td>l2arithmetic_mean0.4</td>\n",
       "      <td>dcg</td>\n",
       "      <td>0.84477</td>\n",
       "    </tr>\n",
       "  </tbody>\n",
       "</table>\n",
       "</div>"
      ],
      "text/plain": [
       "                              query              pipeline metric    value\n",
       "0  $30 roblox gift card not digital  l2arithmetic_mean0.0    dcg  0.84477\n",
       "0  $30 roblox gift card not digital  l2arithmetic_mean0.1    dcg  0.84477\n",
       "0  $30 roblox gift card not digital  l2arithmetic_mean0.2    dcg  0.84477\n",
       "0  $30 roblox gift card not digital  l2arithmetic_mean0.3    dcg  0.84477\n",
       "0  $30 roblox gift card not digital  l2arithmetic_mean0.4    dcg  0.84477"
      ]
     },
     "execution_count": 56,
     "metadata": {},
     "output_type": "execute_result"
    }
   ],
   "source": [
    "df_metrics.head()"
   ]
  },
  {
   "cell_type": "code",
   "execution_count": 57,
   "id": "64408f87-6485-425d-91f8-1eee72493953",
   "metadata": {},
   "outputs": [],
   "source": [
    "df_metrics_per_pipeline = df_metrics.pivot_table(index=\"pipeline\", columns=\"metric\", values=\"value\", aggfunc=lambda x: x.mean().round(2))\n",
    "df_metrics_per_pipeline = df_metrics_per_pipeline.reset_index()"
   ]
  },
  {
   "cell_type": "code",
   "execution_count": 58,
   "id": "bf972064-a120-420c-a880-1e2aa5d18e5c",
   "metadata": {},
   "outputs": [
    {
     "data": {
      "text/html": [
       "<div>\n",
       "<style scoped>\n",
       "    .dataframe tbody tr th:only-of-type {\n",
       "        vertical-align: middle;\n",
       "    }\n",
       "\n",
       "    .dataframe tbody tr th {\n",
       "        vertical-align: top;\n",
       "    }\n",
       "\n",
       "    .dataframe thead th {\n",
       "        text-align: right;\n",
       "    }\n",
       "</style>\n",
       "<table border=\"1\" class=\"dataframe\">\n",
       "  <thead>\n",
       "    <tr style=\"text-align: right;\">\n",
       "      <th>metric</th>\n",
       "      <th>pipeline</th>\n",
       "      <th>dcg</th>\n",
       "      <th>dcg_dense</th>\n",
       "      <th>ndcg</th>\n",
       "      <th>prec@10</th>\n",
       "      <th>ratio_of_ratings</th>\n",
       "    </tr>\n",
       "  </thead>\n",
       "  <tbody>\n",
       "    <tr>\n",
       "      <th>4</th>\n",
       "      <td>l2arithmetic_mean0.4</td>\n",
       "      <td>6.74</td>\n",
       "      <td>12.55</td>\n",
       "      <td>0.31</td>\n",
       "      <td>0.35</td>\n",
       "      <td>0.37</td>\n",
       "    </tr>\n",
       "    <tr>\n",
       "      <th>39</th>\n",
       "      <td>min_maxarithmetic_mean0.6</td>\n",
       "      <td>6.72</td>\n",
       "      <td>12.61</td>\n",
       "      <td>0.30</td>\n",
       "      <td>0.35</td>\n",
       "      <td>0.36</td>\n",
       "    </tr>\n",
       "    <tr>\n",
       "      <th>3</th>\n",
       "      <td>l2arithmetic_mean0.3</td>\n",
       "      <td>6.72</td>\n",
       "      <td>12.39</td>\n",
       "      <td>0.30</td>\n",
       "      <td>0.35</td>\n",
       "      <td>0.36</td>\n",
       "    </tr>\n",
       "    <tr>\n",
       "      <th>5</th>\n",
       "      <td>l2arithmetic_mean0.5</td>\n",
       "      <td>6.72</td>\n",
       "      <td>12.74</td>\n",
       "      <td>0.30</td>\n",
       "      <td>0.35</td>\n",
       "      <td>0.37</td>\n",
       "    </tr>\n",
       "    <tr>\n",
       "      <th>6</th>\n",
       "      <td>l2arithmetic_mean0.6</td>\n",
       "      <td>6.71</td>\n",
       "      <td>12.60</td>\n",
       "      <td>0.30</td>\n",
       "      <td>0.35</td>\n",
       "      <td>0.36</td>\n",
       "    </tr>\n",
       "    <tr>\n",
       "      <th>7</th>\n",
       "      <td>l2arithmetic_mean0.7</td>\n",
       "      <td>6.70</td>\n",
       "      <td>12.53</td>\n",
       "      <td>0.30</td>\n",
       "      <td>0.35</td>\n",
       "      <td>0.36</td>\n",
       "    </tr>\n",
       "    <tr>\n",
       "      <th>40</th>\n",
       "      <td>min_maxarithmetic_mean0.7</td>\n",
       "      <td>6.69</td>\n",
       "      <td>12.60</td>\n",
       "      <td>0.30</td>\n",
       "      <td>0.35</td>\n",
       "      <td>0.37</td>\n",
       "    </tr>\n",
       "    <tr>\n",
       "      <th>8</th>\n",
       "      <td>l2arithmetic_mean0.8</td>\n",
       "      <td>6.67</td>\n",
       "      <td>12.48</td>\n",
       "      <td>0.30</td>\n",
       "      <td>0.35</td>\n",
       "      <td>0.36</td>\n",
       "    </tr>\n",
       "    <tr>\n",
       "      <th>41</th>\n",
       "      <td>min_maxarithmetic_mean0.8</td>\n",
       "      <td>6.63</td>\n",
       "      <td>12.61</td>\n",
       "      <td>0.30</td>\n",
       "      <td>0.35</td>\n",
       "      <td>0.36</td>\n",
       "    </tr>\n",
       "    <tr>\n",
       "      <th>9</th>\n",
       "      <td>l2arithmetic_mean0.9</td>\n",
       "      <td>6.60</td>\n",
       "      <td>12.44</td>\n",
       "      <td>0.30</td>\n",
       "      <td>0.34</td>\n",
       "      <td>0.36</td>\n",
       "    </tr>\n",
       "  </tbody>\n",
       "</table>\n",
       "</div>"
      ],
      "text/plain": [
       "metric                   pipeline   dcg  dcg_dense  ndcg  prec@10  \\\n",
       "4            l2arithmetic_mean0.4  6.74      12.55  0.31     0.35   \n",
       "39      min_maxarithmetic_mean0.6  6.72      12.61  0.30     0.35   \n",
       "3            l2arithmetic_mean0.3  6.72      12.39  0.30     0.35   \n",
       "5            l2arithmetic_mean0.5  6.72      12.74  0.30     0.35   \n",
       "6            l2arithmetic_mean0.6  6.71      12.60  0.30     0.35   \n",
       "7            l2arithmetic_mean0.7  6.70      12.53  0.30     0.35   \n",
       "40      min_maxarithmetic_mean0.7  6.69      12.60  0.30     0.35   \n",
       "8            l2arithmetic_mean0.8  6.67      12.48  0.30     0.35   \n",
       "41      min_maxarithmetic_mean0.8  6.63      12.61  0.30     0.35   \n",
       "9            l2arithmetic_mean0.9  6.60      12.44  0.30     0.34   \n",
       "\n",
       "metric  ratio_of_ratings  \n",
       "4                   0.37  \n",
       "39                  0.36  \n",
       "3                   0.36  \n",
       "5                   0.37  \n",
       "6                   0.36  \n",
       "7                   0.36  \n",
       "40                  0.37  \n",
       "8                   0.36  \n",
       "41                  0.36  \n",
       "9                   0.36  "
      ]
     },
     "execution_count": 58,
     "metadata": {},
     "output_type": "execute_result"
    }
   ],
   "source": [
    "df_metrics_per_pipeline.sort_values(\"dcg\", ascending=False).head(10)"
   ]
  },
  {
   "cell_type": "code",
   "execution_count": 59,
   "id": "70d9a00e-edd8-40a8-b974-aa17b5221c5c",
   "metadata": {},
   "outputs": [
    {
     "data": {
      "text/html": [
       "<div>\n",
       "<style scoped>\n",
       "    .dataframe tbody tr th:only-of-type {\n",
       "        vertical-align: middle;\n",
       "    }\n",
       "\n",
       "    .dataframe tbody tr th {\n",
       "        vertical-align: top;\n",
       "    }\n",
       "\n",
       "    .dataframe thead th {\n",
       "        text-align: right;\n",
       "    }\n",
       "</style>\n",
       "<table border=\"1\" class=\"dataframe\">\n",
       "  <thead>\n",
       "    <tr style=\"text-align: right;\">\n",
       "      <th>metric</th>\n",
       "      <th>pipeline</th>\n",
       "      <th>dcg</th>\n",
       "      <th>dcg_dense</th>\n",
       "      <th>ndcg</th>\n",
       "      <th>prec@10</th>\n",
       "      <th>ratio_of_ratings</th>\n",
       "    </tr>\n",
       "  </thead>\n",
       "  <tbody>\n",
       "    <tr>\n",
       "      <th>5</th>\n",
       "      <td>l2arithmetic_mean0.5</td>\n",
       "      <td>6.72</td>\n",
       "      <td>12.74</td>\n",
       "      <td>0.30</td>\n",
       "      <td>0.35</td>\n",
       "      <td>0.37</td>\n",
       "    </tr>\n",
       "    <tr>\n",
       "      <th>36</th>\n",
       "      <td>min_maxarithmetic_mean0.3</td>\n",
       "      <td>5.95</td>\n",
       "      <td>12.66</td>\n",
       "      <td>0.27</td>\n",
       "      <td>0.31</td>\n",
       "      <td>0.32</td>\n",
       "    </tr>\n",
       "    <tr>\n",
       "      <th>37</th>\n",
       "      <td>min_maxarithmetic_mean0.4</td>\n",
       "      <td>6.27</td>\n",
       "      <td>12.64</td>\n",
       "      <td>0.28</td>\n",
       "      <td>0.33</td>\n",
       "      <td>0.34</td>\n",
       "    </tr>\n",
       "    <tr>\n",
       "      <th>24</th>\n",
       "      <td>l2harmonic_mean0.2</td>\n",
       "      <td>5.89</td>\n",
       "      <td>12.62</td>\n",
       "      <td>0.26</td>\n",
       "      <td>0.32</td>\n",
       "      <td>0.33</td>\n",
       "    </tr>\n",
       "    <tr>\n",
       "      <th>13</th>\n",
       "      <td>l2geometric_mean0.2</td>\n",
       "      <td>5.97</td>\n",
       "      <td>12.62</td>\n",
       "      <td>0.27</td>\n",
       "      <td>0.33</td>\n",
       "      <td>0.34</td>\n",
       "    </tr>\n",
       "    <tr>\n",
       "      <th>34</th>\n",
       "      <td>min_maxarithmetic_mean0.1</td>\n",
       "      <td>5.47</td>\n",
       "      <td>12.62</td>\n",
       "      <td>0.25</td>\n",
       "      <td>0.29</td>\n",
       "      <td>0.30</td>\n",
       "    </tr>\n",
       "    <tr>\n",
       "      <th>35</th>\n",
       "      <td>min_maxarithmetic_mean0.2</td>\n",
       "      <td>5.68</td>\n",
       "      <td>12.62</td>\n",
       "      <td>0.26</td>\n",
       "      <td>0.30</td>\n",
       "      <td>0.31</td>\n",
       "    </tr>\n",
       "    <tr>\n",
       "      <th>12</th>\n",
       "      <td>l2geometric_mean0.1</td>\n",
       "      <td>5.85</td>\n",
       "      <td>12.62</td>\n",
       "      <td>0.26</td>\n",
       "      <td>0.32</td>\n",
       "      <td>0.33</td>\n",
       "    </tr>\n",
       "    <tr>\n",
       "      <th>38</th>\n",
       "      <td>min_maxarithmetic_mean0.5</td>\n",
       "      <td>6.51</td>\n",
       "      <td>12.61</td>\n",
       "      <td>0.29</td>\n",
       "      <td>0.34</td>\n",
       "      <td>0.35</td>\n",
       "    </tr>\n",
       "    <tr>\n",
       "      <th>39</th>\n",
       "      <td>min_maxarithmetic_mean0.6</td>\n",
       "      <td>6.72</td>\n",
       "      <td>12.61</td>\n",
       "      <td>0.30</td>\n",
       "      <td>0.35</td>\n",
       "      <td>0.36</td>\n",
       "    </tr>\n",
       "  </tbody>\n",
       "</table>\n",
       "</div>"
      ],
      "text/plain": [
       "metric                   pipeline   dcg  dcg_dense  ndcg  prec@10  \\\n",
       "5            l2arithmetic_mean0.5  6.72      12.74  0.30     0.35   \n",
       "36      min_maxarithmetic_mean0.3  5.95      12.66  0.27     0.31   \n",
       "37      min_maxarithmetic_mean0.4  6.27      12.64  0.28     0.33   \n",
       "24             l2harmonic_mean0.2  5.89      12.62  0.26     0.32   \n",
       "13            l2geometric_mean0.2  5.97      12.62  0.27     0.33   \n",
       "34      min_maxarithmetic_mean0.1  5.47      12.62  0.25     0.29   \n",
       "35      min_maxarithmetic_mean0.2  5.68      12.62  0.26     0.30   \n",
       "12            l2geometric_mean0.1  5.85      12.62  0.26     0.32   \n",
       "38      min_maxarithmetic_mean0.5  6.51      12.61  0.29     0.34   \n",
       "39      min_maxarithmetic_mean0.6  6.72      12.61  0.30     0.35   \n",
       "\n",
       "metric  ratio_of_ratings  \n",
       "5                   0.37  \n",
       "36                  0.32  \n",
       "37                  0.34  \n",
       "24                  0.33  \n",
       "13                  0.34  \n",
       "34                  0.30  \n",
       "35                  0.31  \n",
       "12                  0.33  \n",
       "38                  0.35  \n",
       "39                  0.36  "
      ]
     },
     "execution_count": 59,
     "metadata": {},
     "output_type": "execute_result"
    }
   ],
   "source": [
    "df_metrics_per_pipeline.sort_values(\"dcg_dense\", ascending=False).head(10)"
   ]
  },
  {
   "cell_type": "code",
   "execution_count": 60,
   "id": "6897e498-b7ca-4100-a42c-429c435e88fd",
   "metadata": {},
   "outputs": [
    {
     "data": {
      "text/html": [
       "<div>\n",
       "<style scoped>\n",
       "    .dataframe tbody tr th:only-of-type {\n",
       "        vertical-align: middle;\n",
       "    }\n",
       "\n",
       "    .dataframe tbody tr th {\n",
       "        vertical-align: top;\n",
       "    }\n",
       "\n",
       "    .dataframe thead th {\n",
       "        text-align: right;\n",
       "    }\n",
       "</style>\n",
       "<table border=\"1\" class=\"dataframe\">\n",
       "  <thead>\n",
       "    <tr style=\"text-align: right;\">\n",
       "      <th></th>\n",
       "      <th>query</th>\n",
       "      <th>pipeline</th>\n",
       "      <th>metric</th>\n",
       "      <th>value</th>\n",
       "    </tr>\n",
       "  </thead>\n",
       "  <tbody>\n",
       "    <tr>\n",
       "      <th>0</th>\n",
       "      <td>$30 roblox gift card not digital</td>\n",
       "      <td>l2arithmetic_mean0.0</td>\n",
       "      <td>dcg</td>\n",
       "      <td>0.84477</td>\n",
       "    </tr>\n",
       "    <tr>\n",
       "      <th>0</th>\n",
       "      <td>$30 roblox gift card not digital</td>\n",
       "      <td>l2arithmetic_mean0.1</td>\n",
       "      <td>dcg</td>\n",
       "      <td>0.84477</td>\n",
       "    </tr>\n",
       "    <tr>\n",
       "      <th>0</th>\n",
       "      <td>$30 roblox gift card not digital</td>\n",
       "      <td>l2arithmetic_mean0.2</td>\n",
       "      <td>dcg</td>\n",
       "      <td>0.84477</td>\n",
       "    </tr>\n",
       "    <tr>\n",
       "      <th>0</th>\n",
       "      <td>$30 roblox gift card not digital</td>\n",
       "      <td>l2arithmetic_mean0.3</td>\n",
       "      <td>dcg</td>\n",
       "      <td>0.84477</td>\n",
       "    </tr>\n",
       "    <tr>\n",
       "      <th>0</th>\n",
       "      <td>$30 roblox gift card not digital</td>\n",
       "      <td>l2arithmetic_mean0.4</td>\n",
       "      <td>dcg</td>\n",
       "      <td>0.84477</td>\n",
       "    </tr>\n",
       "    <tr>\n",
       "      <th>...</th>\n",
       "      <td>...</td>\n",
       "      <td>...</td>\n",
       "      <td>...</td>\n",
       "      <td>...</td>\n",
       "    </tr>\n",
       "    <tr>\n",
       "      <th>0</th>\n",
       "      <td>yarn purple and pink</td>\n",
       "      <td>min_maxharmonic_mean0.6</td>\n",
       "      <td>ratio_of_ratings</td>\n",
       "      <td>0.30000</td>\n",
       "    </tr>\n",
       "    <tr>\n",
       "      <th>0</th>\n",
       "      <td>yarn purple and pink</td>\n",
       "      <td>min_maxharmonic_mean0.7</td>\n",
       "      <td>ratio_of_ratings</td>\n",
       "      <td>0.30000</td>\n",
       "    </tr>\n",
       "    <tr>\n",
       "      <th>0</th>\n",
       "      <td>yarn purple and pink</td>\n",
       "      <td>min_maxharmonic_mean0.8</td>\n",
       "      <td>ratio_of_ratings</td>\n",
       "      <td>0.30000</td>\n",
       "    </tr>\n",
       "    <tr>\n",
       "      <th>0</th>\n",
       "      <td>yarn purple and pink</td>\n",
       "      <td>min_maxharmonic_mean0.9</td>\n",
       "      <td>ratio_of_ratings</td>\n",
       "      <td>0.30000</td>\n",
       "    </tr>\n",
       "    <tr>\n",
       "      <th>0</th>\n",
       "      <td>yarn purple and pink</td>\n",
       "      <td>min_maxharmonic_mean1.0</td>\n",
       "      <td>ratio_of_ratings</td>\n",
       "      <td>0.30000</td>\n",
       "    </tr>\n",
       "  </tbody>\n",
       "</table>\n",
       "<p>72600 rows × 4 columns</p>\n",
       "</div>"
      ],
      "text/plain": [
       "                               query                 pipeline  \\\n",
       "0   $30 roblox gift card not digital     l2arithmetic_mean0.0   \n",
       "0   $30 roblox gift card not digital     l2arithmetic_mean0.1   \n",
       "0   $30 roblox gift card not digital     l2arithmetic_mean0.2   \n",
       "0   $30 roblox gift card not digital     l2arithmetic_mean0.3   \n",
       "0   $30 roblox gift card not digital     l2arithmetic_mean0.4   \n",
       "..                               ...                      ...   \n",
       "0               yarn purple and pink  min_maxharmonic_mean0.6   \n",
       "0               yarn purple and pink  min_maxharmonic_mean0.7   \n",
       "0               yarn purple and pink  min_maxharmonic_mean0.8   \n",
       "0               yarn purple and pink  min_maxharmonic_mean0.9   \n",
       "0               yarn purple and pink  min_maxharmonic_mean1.0   \n",
       "\n",
       "              metric    value  \n",
       "0                dcg  0.84477  \n",
       "0                dcg  0.84477  \n",
       "0                dcg  0.84477  \n",
       "0                dcg  0.84477  \n",
       "0                dcg  0.84477  \n",
       "..               ...      ...  \n",
       "0   ratio_of_ratings  0.30000  \n",
       "0   ratio_of_ratings  0.30000  \n",
       "0   ratio_of_ratings  0.30000  \n",
       "0   ratio_of_ratings  0.30000  \n",
       "0   ratio_of_ratings  0.30000  \n",
       "\n",
       "[72600 rows x 4 columns]"
      ]
     },
     "execution_count": 60,
     "metadata": {},
     "output_type": "execute_result"
    }
   ],
   "source": [
    "# write metrics to disk\n",
    "df_metrics.to_csv('metrics.csv', index=False)\n",
    "df_metrics"
   ]
  },
  {
   "cell_type": "code",
   "execution_count": 61,
   "id": "71d810bb-1bde-4e3b-a0e0-3b410be90f83",
   "metadata": {},
   "outputs": [
    {
     "data": {
      "text/html": [
       "<div>\n",
       "<style scoped>\n",
       "    .dataframe tbody tr th:only-of-type {\n",
       "        vertical-align: middle;\n",
       "    }\n",
       "\n",
       "    .dataframe tbody tr th {\n",
       "        vertical-align: top;\n",
       "    }\n",
       "\n",
       "    .dataframe thead th {\n",
       "        text-align: right;\n",
       "    }\n",
       "</style>\n",
       "<table border=\"1\" class=\"dataframe\">\n",
       "  <thead>\n",
       "    <tr style=\"text-align: right;\">\n",
       "      <th></th>\n",
       "      <th>query</th>\n",
       "      <th>pipeline</th>\n",
       "      <th>metric</th>\n",
       "      <th>value</th>\n",
       "    </tr>\n",
       "  </thead>\n",
       "  <tbody>\n",
       "    <tr>\n",
       "      <th>0</th>\n",
       "      <td>(fiction without frontiers)</td>\n",
       "      <td>l2arithmetic_mean0.0</td>\n",
       "      <td>dcg</td>\n",
       "      <td>9.579759</td>\n",
       "    </tr>\n",
       "    <tr>\n",
       "      <th>0</th>\n",
       "      <td>(fiction without frontiers)</td>\n",
       "      <td>l2arithmetic_mean0.1</td>\n",
       "      <td>dcg</td>\n",
       "      <td>9.785579</td>\n",
       "    </tr>\n",
       "    <tr>\n",
       "      <th>0</th>\n",
       "      <td>(fiction without frontiers)</td>\n",
       "      <td>l2arithmetic_mean0.2</td>\n",
       "      <td>dcg</td>\n",
       "      <td>9.785579</td>\n",
       "    </tr>\n",
       "    <tr>\n",
       "      <th>0</th>\n",
       "      <td>(fiction without frontiers)</td>\n",
       "      <td>l2arithmetic_mean0.3</td>\n",
       "      <td>dcg</td>\n",
       "      <td>9.785579</td>\n",
       "    </tr>\n",
       "    <tr>\n",
       "      <th>0</th>\n",
       "      <td>(fiction without frontiers)</td>\n",
       "      <td>l2arithmetic_mean0.4</td>\n",
       "      <td>dcg</td>\n",
       "      <td>9.450545</td>\n",
       "    </tr>\n",
       "    <tr>\n",
       "      <th>...</th>\n",
       "      <td>...</td>\n",
       "      <td>...</td>\n",
       "      <td>...</td>\n",
       "      <td>...</td>\n",
       "    </tr>\n",
       "    <tr>\n",
       "      <th>0</th>\n",
       "      <td>(fiction without frontiers)</td>\n",
       "      <td>min_maxharmonic_mean0.6</td>\n",
       "      <td>ratio_of_ratings</td>\n",
       "      <td>0.400000</td>\n",
       "    </tr>\n",
       "    <tr>\n",
       "      <th>0</th>\n",
       "      <td>(fiction without frontiers)</td>\n",
       "      <td>min_maxharmonic_mean0.7</td>\n",
       "      <td>ratio_of_ratings</td>\n",
       "      <td>0.400000</td>\n",
       "    </tr>\n",
       "    <tr>\n",
       "      <th>0</th>\n",
       "      <td>(fiction without frontiers)</td>\n",
       "      <td>min_maxharmonic_mean0.8</td>\n",
       "      <td>ratio_of_ratings</td>\n",
       "      <td>0.400000</td>\n",
       "    </tr>\n",
       "    <tr>\n",
       "      <th>0</th>\n",
       "      <td>(fiction without frontiers)</td>\n",
       "      <td>min_maxharmonic_mean0.9</td>\n",
       "      <td>ratio_of_ratings</td>\n",
       "      <td>0.400000</td>\n",
       "    </tr>\n",
       "    <tr>\n",
       "      <th>0</th>\n",
       "      <td>(fiction without frontiers)</td>\n",
       "      <td>min_maxharmonic_mean1.0</td>\n",
       "      <td>ratio_of_ratings</td>\n",
       "      <td>0.200000</td>\n",
       "    </tr>\n",
       "  </tbody>\n",
       "</table>\n",
       "<p>330 rows × 4 columns</p>\n",
       "</div>"
      ],
      "text/plain": [
       "                          query                 pipeline            metric  \\\n",
       "0   (fiction without frontiers)     l2arithmetic_mean0.0               dcg   \n",
       "0   (fiction without frontiers)     l2arithmetic_mean0.1               dcg   \n",
       "0   (fiction without frontiers)     l2arithmetic_mean0.2               dcg   \n",
       "0   (fiction without frontiers)     l2arithmetic_mean0.3               dcg   \n",
       "0   (fiction without frontiers)     l2arithmetic_mean0.4               dcg   \n",
       "..                          ...                      ...               ...   \n",
       "0   (fiction without frontiers)  min_maxharmonic_mean0.6  ratio_of_ratings   \n",
       "0   (fiction without frontiers)  min_maxharmonic_mean0.7  ratio_of_ratings   \n",
       "0   (fiction without frontiers)  min_maxharmonic_mean0.8  ratio_of_ratings   \n",
       "0   (fiction without frontiers)  min_maxharmonic_mean0.9  ratio_of_ratings   \n",
       "0   (fiction without frontiers)  min_maxharmonic_mean1.0  ratio_of_ratings   \n",
       "\n",
       "       value  \n",
       "0   9.579759  \n",
       "0   9.785579  \n",
       "0   9.785579  \n",
       "0   9.785579  \n",
       "0   9.450545  \n",
       "..       ...  \n",
       "0   0.400000  \n",
       "0   0.400000  \n",
       "0   0.400000  \n",
       "0   0.400000  \n",
       "0   0.200000  \n",
       "\n",
       "[330 rows x 4 columns]"
      ]
     },
     "execution_count": 61,
     "metadata": {},
     "output_type": "execute_result"
    }
   ],
   "source": [
    "df_metrics[df_metrics['query'] == '(fiction without frontiers)']"
   ]
  },
  {
   "cell_type": "markdown",
   "id": "ab6b43f1-ce5e-4d63-859c-99c5c097c2a5",
   "metadata": {},
   "source": [
    "### Top five Pipelines by NDCG@10 Descending"
   ]
  },
  {
   "cell_type": "code",
   "execution_count": 62,
   "id": "36edbcd5-7394-4100-a148-964c7138589f",
   "metadata": {},
   "outputs": [
    {
     "data": {
      "text/html": [
       "<div>\n",
       "<style scoped>\n",
       "    .dataframe tbody tr th:only-of-type {\n",
       "        vertical-align: middle;\n",
       "    }\n",
       "\n",
       "    .dataframe tbody tr th {\n",
       "        vertical-align: top;\n",
       "    }\n",
       "\n",
       "    .dataframe thead th {\n",
       "        text-align: right;\n",
       "    }\n",
       "</style>\n",
       "<table border=\"1\" class=\"dataframe\">\n",
       "  <thead>\n",
       "    <tr style=\"text-align: right;\">\n",
       "      <th>metric</th>\n",
       "      <th>pipeline</th>\n",
       "      <th>dcg</th>\n",
       "      <th>dcg_dense</th>\n",
       "      <th>ndcg</th>\n",
       "      <th>prec@10</th>\n",
       "      <th>ratio_of_ratings</th>\n",
       "    </tr>\n",
       "  </thead>\n",
       "  <tbody>\n",
       "    <tr>\n",
       "      <th>4</th>\n",
       "      <td>l2arithmetic_mean0.4</td>\n",
       "      <td>6.74</td>\n",
       "      <td>12.55</td>\n",
       "      <td>0.31</td>\n",
       "      <td>0.35</td>\n",
       "      <td>0.37</td>\n",
       "    </tr>\n",
       "    <tr>\n",
       "      <th>39</th>\n",
       "      <td>min_maxarithmetic_mean0.6</td>\n",
       "      <td>6.72</td>\n",
       "      <td>12.61</td>\n",
       "      <td>0.30</td>\n",
       "      <td>0.35</td>\n",
       "      <td>0.36</td>\n",
       "    </tr>\n",
       "    <tr>\n",
       "      <th>3</th>\n",
       "      <td>l2arithmetic_mean0.3</td>\n",
       "      <td>6.72</td>\n",
       "      <td>12.39</td>\n",
       "      <td>0.30</td>\n",
       "      <td>0.35</td>\n",
       "      <td>0.36</td>\n",
       "    </tr>\n",
       "    <tr>\n",
       "      <th>5</th>\n",
       "      <td>l2arithmetic_mean0.5</td>\n",
       "      <td>6.72</td>\n",
       "      <td>12.74</td>\n",
       "      <td>0.30</td>\n",
       "      <td>0.35</td>\n",
       "      <td>0.37</td>\n",
       "    </tr>\n",
       "    <tr>\n",
       "      <th>6</th>\n",
       "      <td>l2arithmetic_mean0.6</td>\n",
       "      <td>6.71</td>\n",
       "      <td>12.60</td>\n",
       "      <td>0.30</td>\n",
       "      <td>0.35</td>\n",
       "      <td>0.36</td>\n",
       "    </tr>\n",
       "  </tbody>\n",
       "</table>\n",
       "</div>"
      ],
      "text/plain": [
       "metric                   pipeline   dcg  dcg_dense  ndcg  prec@10  \\\n",
       "4            l2arithmetic_mean0.4  6.74      12.55  0.31     0.35   \n",
       "39      min_maxarithmetic_mean0.6  6.72      12.61  0.30     0.35   \n",
       "3            l2arithmetic_mean0.3  6.72      12.39  0.30     0.35   \n",
       "5            l2arithmetic_mean0.5  6.72      12.74  0.30     0.35   \n",
       "6            l2arithmetic_mean0.6  6.71      12.60  0.30     0.35   \n",
       "\n",
       "metric  ratio_of_ratings  \n",
       "4                   0.37  \n",
       "39                  0.36  \n",
       "3                   0.36  \n",
       "5                   0.37  \n",
       "6                   0.36  "
      ]
     },
     "execution_count": 62,
     "metadata": {},
     "output_type": "execute_result"
    }
   ],
   "source": [
    "df_metrics_per_pipeline.sort_values(by='ndcg', ascending=False).head(5)"
   ]
  },
  {
   "cell_type": "markdown",
   "id": "18c69334-73de-4f93-9cd9-640369e78c0d",
   "metadata": {},
   "source": [
    "### Top five Pipelines by DCG@10 Descending"
   ]
  },
  {
   "cell_type": "code",
   "execution_count": 63,
   "id": "d168ba39-e36c-4d8b-b584-05f4f53dbd43",
   "metadata": {},
   "outputs": [
    {
     "data": {
      "text/html": [
       "<div>\n",
       "<style scoped>\n",
       "    .dataframe tbody tr th:only-of-type {\n",
       "        vertical-align: middle;\n",
       "    }\n",
       "\n",
       "    .dataframe tbody tr th {\n",
       "        vertical-align: top;\n",
       "    }\n",
       "\n",
       "    .dataframe thead th {\n",
       "        text-align: right;\n",
       "    }\n",
       "</style>\n",
       "<table border=\"1\" class=\"dataframe\">\n",
       "  <thead>\n",
       "    <tr style=\"text-align: right;\">\n",
       "      <th>metric</th>\n",
       "      <th>pipeline</th>\n",
       "      <th>dcg</th>\n",
       "      <th>dcg_dense</th>\n",
       "      <th>ndcg</th>\n",
       "      <th>prec@10</th>\n",
       "      <th>ratio_of_ratings</th>\n",
       "    </tr>\n",
       "  </thead>\n",
       "  <tbody>\n",
       "    <tr>\n",
       "      <th>4</th>\n",
       "      <td>l2arithmetic_mean0.4</td>\n",
       "      <td>6.74</td>\n",
       "      <td>12.55</td>\n",
       "      <td>0.31</td>\n",
       "      <td>0.35</td>\n",
       "      <td>0.37</td>\n",
       "    </tr>\n",
       "    <tr>\n",
       "      <th>39</th>\n",
       "      <td>min_maxarithmetic_mean0.6</td>\n",
       "      <td>6.72</td>\n",
       "      <td>12.61</td>\n",
       "      <td>0.30</td>\n",
       "      <td>0.35</td>\n",
       "      <td>0.36</td>\n",
       "    </tr>\n",
       "    <tr>\n",
       "      <th>3</th>\n",
       "      <td>l2arithmetic_mean0.3</td>\n",
       "      <td>6.72</td>\n",
       "      <td>12.39</td>\n",
       "      <td>0.30</td>\n",
       "      <td>0.35</td>\n",
       "      <td>0.36</td>\n",
       "    </tr>\n",
       "    <tr>\n",
       "      <th>5</th>\n",
       "      <td>l2arithmetic_mean0.5</td>\n",
       "      <td>6.72</td>\n",
       "      <td>12.74</td>\n",
       "      <td>0.30</td>\n",
       "      <td>0.35</td>\n",
       "      <td>0.37</td>\n",
       "    </tr>\n",
       "    <tr>\n",
       "      <th>6</th>\n",
       "      <td>l2arithmetic_mean0.6</td>\n",
       "      <td>6.71</td>\n",
       "      <td>12.60</td>\n",
       "      <td>0.30</td>\n",
       "      <td>0.35</td>\n",
       "      <td>0.36</td>\n",
       "    </tr>\n",
       "  </tbody>\n",
       "</table>\n",
       "</div>"
      ],
      "text/plain": [
       "metric                   pipeline   dcg  dcg_dense  ndcg  prec@10  \\\n",
       "4            l2arithmetic_mean0.4  6.74      12.55  0.31     0.35   \n",
       "39      min_maxarithmetic_mean0.6  6.72      12.61  0.30     0.35   \n",
       "3            l2arithmetic_mean0.3  6.72      12.39  0.30     0.35   \n",
       "5            l2arithmetic_mean0.5  6.72      12.74  0.30     0.35   \n",
       "6            l2arithmetic_mean0.6  6.71      12.60  0.30     0.35   \n",
       "\n",
       "metric  ratio_of_ratings  \n",
       "4                   0.37  \n",
       "39                  0.36  \n",
       "3                   0.36  \n",
       "5                   0.37  \n",
       "6                   0.36  "
      ]
     },
     "execution_count": 63,
     "metadata": {},
     "output_type": "execute_result"
    }
   ],
   "source": [
    "df_metrics_per_pipeline.sort_values(by='dcg', ascending=False).head(5)"
   ]
  },
  {
   "cell_type": "markdown",
   "id": "3bed5d3b-196a-43a0-932c-2c0ad6ed5c70",
   "metadata": {},
   "source": [
    "### Top five Pipelines by Precision@10 Descending"
   ]
  },
  {
   "cell_type": "code",
   "execution_count": 64,
   "id": "e2ded7d3-7aa7-4803-ac92-4ea0616b1255",
   "metadata": {},
   "outputs": [
    {
     "data": {
      "text/html": [
       "<div>\n",
       "<style scoped>\n",
       "    .dataframe tbody tr th:only-of-type {\n",
       "        vertical-align: middle;\n",
       "    }\n",
       "\n",
       "    .dataframe tbody tr th {\n",
       "        vertical-align: top;\n",
       "    }\n",
       "\n",
       "    .dataframe thead th {\n",
       "        text-align: right;\n",
       "    }\n",
       "</style>\n",
       "<table border=\"1\" class=\"dataframe\">\n",
       "  <thead>\n",
       "    <tr style=\"text-align: right;\">\n",
       "      <th>metric</th>\n",
       "      <th>pipeline</th>\n",
       "      <th>dcg</th>\n",
       "      <th>dcg_dense</th>\n",
       "      <th>ndcg</th>\n",
       "      <th>prec@10</th>\n",
       "      <th>ratio_of_ratings</th>\n",
       "    </tr>\n",
       "  </thead>\n",
       "  <tbody>\n",
       "    <tr>\n",
       "      <th>41</th>\n",
       "      <td>min_maxarithmetic_mean0.8</td>\n",
       "      <td>6.63</td>\n",
       "      <td>12.61</td>\n",
       "      <td>0.30</td>\n",
       "      <td>0.35</td>\n",
       "      <td>0.36</td>\n",
       "    </tr>\n",
       "    <tr>\n",
       "      <th>39</th>\n",
       "      <td>min_maxarithmetic_mean0.6</td>\n",
       "      <td>6.72</td>\n",
       "      <td>12.61</td>\n",
       "      <td>0.30</td>\n",
       "      <td>0.35</td>\n",
       "      <td>0.36</td>\n",
       "    </tr>\n",
       "    <tr>\n",
       "      <th>3</th>\n",
       "      <td>l2arithmetic_mean0.3</td>\n",
       "      <td>6.72</td>\n",
       "      <td>12.39</td>\n",
       "      <td>0.30</td>\n",
       "      <td>0.35</td>\n",
       "      <td>0.36</td>\n",
       "    </tr>\n",
       "    <tr>\n",
       "      <th>4</th>\n",
       "      <td>l2arithmetic_mean0.4</td>\n",
       "      <td>6.74</td>\n",
       "      <td>12.55</td>\n",
       "      <td>0.31</td>\n",
       "      <td>0.35</td>\n",
       "      <td>0.37</td>\n",
       "    </tr>\n",
       "    <tr>\n",
       "      <th>5</th>\n",
       "      <td>l2arithmetic_mean0.5</td>\n",
       "      <td>6.72</td>\n",
       "      <td>12.74</td>\n",
       "      <td>0.30</td>\n",
       "      <td>0.35</td>\n",
       "      <td>0.37</td>\n",
       "    </tr>\n",
       "  </tbody>\n",
       "</table>\n",
       "</div>"
      ],
      "text/plain": [
       "metric                   pipeline   dcg  dcg_dense  ndcg  prec@10  \\\n",
       "41      min_maxarithmetic_mean0.8  6.63      12.61  0.30     0.35   \n",
       "39      min_maxarithmetic_mean0.6  6.72      12.61  0.30     0.35   \n",
       "3            l2arithmetic_mean0.3  6.72      12.39  0.30     0.35   \n",
       "4            l2arithmetic_mean0.4  6.74      12.55  0.31     0.35   \n",
       "5            l2arithmetic_mean0.5  6.72      12.74  0.30     0.35   \n",
       "\n",
       "metric  ratio_of_ratings  \n",
       "41                  0.36  \n",
       "39                  0.36  \n",
       "3                   0.36  \n",
       "4                   0.37  \n",
       "5                   0.37  "
      ]
     },
     "execution_count": 64,
     "metadata": {},
     "output_type": "execute_result"
    }
   ],
   "source": [
    "df_metrics_per_pipeline.sort_values(by='prec@10', ascending=False).head(5)"
   ]
  },
  {
   "cell_type": "markdown",
   "id": "6e7d5320-e971-4a8d-8746-078fbf191a70",
   "metadata": {},
   "source": [
    "## Visualization"
   ]
  },
  {
   "cell_type": "markdown",
   "id": "786b2cde-71a2-4828-9204-5aead7f2e6af",
   "metadata": {},
   "source": [
    "## Scatterplots of Metrics"
   ]
  },
  {
   "cell_type": "markdown",
   "id": "caa84a1a-83c9-4ec7-b061-ceeddbaab042",
   "metadata": {},
   "source": [
    "### DCG vs NDCG"
   ]
  },
  {
   "cell_type": "code",
   "execution_count": 65,
   "id": "eebdb74c-370a-4536-b0f1-66cf4d50594b",
   "metadata": {},
   "outputs": [
    {
     "data": {
      "text/html": [
       "<div>\n",
       "<style scoped>\n",
       "    .dataframe tbody tr th:only-of-type {\n",
       "        vertical-align: middle;\n",
       "    }\n",
       "\n",
       "    .dataframe tbody tr th {\n",
       "        vertical-align: top;\n",
       "    }\n",
       "\n",
       "    .dataframe thead th {\n",
       "        text-align: right;\n",
       "    }\n",
       "</style>\n",
       "<table border=\"1\" class=\"dataframe\">\n",
       "  <thead>\n",
       "    <tr style=\"text-align: right;\">\n",
       "      <th>metric</th>\n",
       "      <th>pipeline</th>\n",
       "      <th>dcg</th>\n",
       "      <th>dcg_dense</th>\n",
       "      <th>ndcg</th>\n",
       "      <th>prec@10</th>\n",
       "      <th>ratio_of_ratings</th>\n",
       "    </tr>\n",
       "  </thead>\n",
       "  <tbody>\n",
       "    <tr>\n",
       "      <th>0</th>\n",
       "      <td>l2arithmetic_mean0.0</td>\n",
       "      <td>5.29</td>\n",
       "      <td>11.67</td>\n",
       "      <td>0.24</td>\n",
       "      <td>0.28</td>\n",
       "      <td>0.29</td>\n",
       "    </tr>\n",
       "    <tr>\n",
       "      <th>1</th>\n",
       "      <td>l2arithmetic_mean0.1</td>\n",
       "      <td>6.31</td>\n",
       "      <td>11.77</td>\n",
       "      <td>0.29</td>\n",
       "      <td>0.33</td>\n",
       "      <td>0.34</td>\n",
       "    </tr>\n",
       "    <tr>\n",
       "      <th>2</th>\n",
       "      <td>l2arithmetic_mean0.2</td>\n",
       "      <td>6.38</td>\n",
       "      <td>11.89</td>\n",
       "      <td>0.29</td>\n",
       "      <td>0.33</td>\n",
       "      <td>0.34</td>\n",
       "    </tr>\n",
       "    <tr>\n",
       "      <th>3</th>\n",
       "      <td>l2arithmetic_mean0.3</td>\n",
       "      <td>6.72</td>\n",
       "      <td>12.39</td>\n",
       "      <td>0.30</td>\n",
       "      <td>0.35</td>\n",
       "      <td>0.36</td>\n",
       "    </tr>\n",
       "    <tr>\n",
       "      <th>4</th>\n",
       "      <td>l2arithmetic_mean0.4</td>\n",
       "      <td>6.74</td>\n",
       "      <td>12.55</td>\n",
       "      <td>0.31</td>\n",
       "      <td>0.35</td>\n",
       "      <td>0.37</td>\n",
       "    </tr>\n",
       "    <tr>\n",
       "      <th>...</th>\n",
       "      <td>...</td>\n",
       "      <td>...</td>\n",
       "      <td>...</td>\n",
       "      <td>...</td>\n",
       "      <td>...</td>\n",
       "      <td>...</td>\n",
       "    </tr>\n",
       "    <tr>\n",
       "      <th>61</th>\n",
       "      <td>min_maxharmonic_mean0.6</td>\n",
       "      <td>5.74</td>\n",
       "      <td>12.47</td>\n",
       "      <td>0.26</td>\n",
       "      <td>0.31</td>\n",
       "      <td>0.32</td>\n",
       "    </tr>\n",
       "    <tr>\n",
       "      <th>62</th>\n",
       "      <td>min_maxharmonic_mean0.7</td>\n",
       "      <td>5.81</td>\n",
       "      <td>12.49</td>\n",
       "      <td>0.26</td>\n",
       "      <td>0.31</td>\n",
       "      <td>0.32</td>\n",
       "    </tr>\n",
       "    <tr>\n",
       "      <th>63</th>\n",
       "      <td>min_maxharmonic_mean0.8</td>\n",
       "      <td>5.88</td>\n",
       "      <td>12.51</td>\n",
       "      <td>0.27</td>\n",
       "      <td>0.32</td>\n",
       "      <td>0.33</td>\n",
       "    </tr>\n",
       "    <tr>\n",
       "      <th>64</th>\n",
       "      <td>min_maxharmonic_mean0.9</td>\n",
       "      <td>5.99</td>\n",
       "      <td>12.52</td>\n",
       "      <td>0.27</td>\n",
       "      <td>0.32</td>\n",
       "      <td>0.34</td>\n",
       "    </tr>\n",
       "    <tr>\n",
       "      <th>65</th>\n",
       "      <td>min_maxharmonic_mean1.0</td>\n",
       "      <td>5.65</td>\n",
       "      <td>12.29</td>\n",
       "      <td>0.26</td>\n",
       "      <td>0.29</td>\n",
       "      <td>0.30</td>\n",
       "    </tr>\n",
       "  </tbody>\n",
       "</table>\n",
       "<p>66 rows × 6 columns</p>\n",
       "</div>"
      ],
      "text/plain": [
       "metric                 pipeline   dcg  dcg_dense  ndcg  prec@10  \\\n",
       "0          l2arithmetic_mean0.0  5.29      11.67  0.24     0.28   \n",
       "1          l2arithmetic_mean0.1  6.31      11.77  0.29     0.33   \n",
       "2          l2arithmetic_mean0.2  6.38      11.89  0.29     0.33   \n",
       "3          l2arithmetic_mean0.3  6.72      12.39  0.30     0.35   \n",
       "4          l2arithmetic_mean0.4  6.74      12.55  0.31     0.35   \n",
       "..                          ...   ...        ...   ...      ...   \n",
       "61      min_maxharmonic_mean0.6  5.74      12.47  0.26     0.31   \n",
       "62      min_maxharmonic_mean0.7  5.81      12.49  0.26     0.31   \n",
       "63      min_maxharmonic_mean0.8  5.88      12.51  0.27     0.32   \n",
       "64      min_maxharmonic_mean0.9  5.99      12.52  0.27     0.32   \n",
       "65      min_maxharmonic_mean1.0  5.65      12.29  0.26     0.29   \n",
       "\n",
       "metric  ratio_of_ratings  \n",
       "0                   0.29  \n",
       "1                   0.34  \n",
       "2                   0.34  \n",
       "3                   0.36  \n",
       "4                   0.37  \n",
       "..                   ...  \n",
       "61                  0.32  \n",
       "62                  0.32  \n",
       "63                  0.33  \n",
       "64                  0.34  \n",
       "65                  0.30  \n",
       "\n",
       "[66 rows x 6 columns]"
      ]
     },
     "execution_count": 65,
     "metadata": {},
     "output_type": "execute_result"
    }
   ],
   "source": [
    "df_metrics_per_pipeline"
   ]
  },
  {
   "cell_type": "code",
   "execution_count": 66,
   "id": "92746c5e-bfe3-44c2-b0e9-cad09e856658",
   "metadata": {},
   "outputs": [
    {
     "data": {
      "application/vnd.plotly.v1+json": {
       "config": {
        "plotlyServerURL": "https://plot.ly"
       },
       "data": [
        {
         "customdata": [
          [
           "l2arithmetic_mean0.0"
          ],
          [
           "l2arithmetic_mean0.1"
          ],
          [
           "l2arithmetic_mean0.2"
          ],
          [
           "l2arithmetic_mean0.3"
          ],
          [
           "l2arithmetic_mean0.4"
          ],
          [
           "l2arithmetic_mean0.5"
          ],
          [
           "l2arithmetic_mean0.6"
          ],
          [
           "l2arithmetic_mean0.7"
          ],
          [
           "l2arithmetic_mean0.8"
          ],
          [
           "l2arithmetic_mean0.9"
          ],
          [
           "l2arithmetic_mean1.0"
          ],
          [
           "l2geometric_mean0.0"
          ],
          [
           "l2geometric_mean0.1"
          ],
          [
           "l2geometric_mean0.2"
          ],
          [
           "l2geometric_mean0.3"
          ],
          [
           "l2geometric_mean0.4"
          ],
          [
           "l2geometric_mean0.5"
          ],
          [
           "l2geometric_mean0.6"
          ],
          [
           "l2geometric_mean0.7"
          ],
          [
           "l2geometric_mean0.8"
          ],
          [
           "l2geometric_mean0.9"
          ],
          [
           "l2geometric_mean1.0"
          ],
          [
           "l2harmonic_mean0.0"
          ],
          [
           "l2harmonic_mean0.1"
          ],
          [
           "l2harmonic_mean0.2"
          ],
          [
           "l2harmonic_mean0.3"
          ],
          [
           "l2harmonic_mean0.4"
          ],
          [
           "l2harmonic_mean0.5"
          ],
          [
           "l2harmonic_mean0.6"
          ],
          [
           "l2harmonic_mean0.7"
          ],
          [
           "l2harmonic_mean0.8"
          ],
          [
           "l2harmonic_mean0.9"
          ],
          [
           "l2harmonic_mean1.0"
          ],
          [
           "min_maxarithmetic_mean0.0"
          ],
          [
           "min_maxarithmetic_mean0.1"
          ],
          [
           "min_maxarithmetic_mean0.2"
          ],
          [
           "min_maxarithmetic_mean0.3"
          ],
          [
           "min_maxarithmetic_mean0.4"
          ],
          [
           "min_maxarithmetic_mean0.5"
          ],
          [
           "min_maxarithmetic_mean0.6"
          ],
          [
           "min_maxarithmetic_mean0.7"
          ],
          [
           "min_maxarithmetic_mean0.8"
          ],
          [
           "min_maxarithmetic_mean0.9"
          ],
          [
           "min_maxarithmetic_mean1.0"
          ],
          [
           "min_maxgeometric_mean0.0"
          ],
          [
           "min_maxgeometric_mean0.1"
          ],
          [
           "min_maxgeometric_mean0.2"
          ],
          [
           "min_maxgeometric_mean0.3"
          ],
          [
           "min_maxgeometric_mean0.4"
          ],
          [
           "min_maxgeometric_mean0.5"
          ],
          [
           "min_maxgeometric_mean0.6"
          ],
          [
           "min_maxgeometric_mean0.7"
          ],
          [
           "min_maxgeometric_mean0.8"
          ],
          [
           "min_maxgeometric_mean0.9"
          ],
          [
           "min_maxgeometric_mean1.0"
          ],
          [
           "min_maxharmonic_mean0.0"
          ],
          [
           "min_maxharmonic_mean0.1"
          ],
          [
           "min_maxharmonic_mean0.2"
          ],
          [
           "min_maxharmonic_mean0.3"
          ],
          [
           "min_maxharmonic_mean0.4"
          ],
          [
           "min_maxharmonic_mean0.5"
          ],
          [
           "min_maxharmonic_mean0.6"
          ],
          [
           "min_maxharmonic_mean0.7"
          ],
          [
           "min_maxharmonic_mean0.8"
          ],
          [
           "min_maxharmonic_mean0.9"
          ],
          [
           "min_maxharmonic_mean1.0"
          ]
         ],
         "hovertemplate": "DCG=%{x}<br>NDCG=%{y}<br>pipeline=%{customdata[0]}<extra></extra>",
         "legendgroup": "",
         "marker": {
          "color": "#636efa",
          "symbol": "circle"
         },
         "mode": "markers",
         "name": "",
         "orientation": "v",
         "showlegend": false,
         "type": "scatter",
         "x": [
          5.29,
          6.31,
          6.38,
          6.72,
          6.74,
          6.72,
          6.71,
          6.7,
          6.67,
          6.6,
          5.65,
          5.29,
          5.85,
          5.97,
          6.05,
          6.11,
          6.18,
          6.24,
          6.3,
          6.42,
          6.48,
          5.65,
          5.29,
          5.77,
          5.89,
          5.95,
          6.01,
          6.09,
          6.19,
          6.28,
          6.32,
          6.47,
          5.65,
          5.29,
          5.47,
          5.68,
          5.95,
          6.27,
          6.51,
          6.72,
          6.69,
          6.63,
          6.58,
          5.65,
          5.29,
          5.68,
          5.65,
          5.68,
          5.73,
          5.78,
          5.82,
          5.87,
          5.94,
          6.02,
          5.65,
          5.29,
          5.61,
          5.63,
          5.65,
          5.68,
          5.72,
          5.74,
          5.81,
          5.88,
          5.99,
          5.65
         ],
         "xaxis": "x",
         "y": [
          0.24,
          0.29,
          0.29,
          0.3,
          0.31,
          0.3,
          0.3,
          0.3,
          0.3,
          0.3,
          0.26,
          0.24,
          0.26,
          0.27,
          0.27,
          0.28,
          0.28,
          0.28,
          0.28,
          0.29,
          0.29,
          0.26,
          0.24,
          0.26,
          0.26,
          0.27,
          0.27,
          0.27,
          0.28,
          0.28,
          0.29,
          0.29,
          0.26,
          0.24,
          0.25,
          0.26,
          0.27,
          0.28,
          0.29,
          0.3,
          0.3,
          0.3,
          0.3,
          0.26,
          0.24,
          0.26,
          0.26,
          0.26,
          0.26,
          0.26,
          0.26,
          0.27,
          0.27,
          0.27,
          0.26,
          0.24,
          0.25,
          0.25,
          0.25,
          0.26,
          0.26,
          0.26,
          0.26,
          0.27,
          0.27,
          0.26
         ],
         "yaxis": "y"
        }
       ],
       "layout": {
        "autosize": true,
        "legend": {
         "tracegroupgap": 0
        },
        "margin": {
         "t": 60
        },
        "template": {
         "data": {
          "bar": [
           {
            "error_x": {
             "color": "#2a3f5f"
            },
            "error_y": {
             "color": "#2a3f5f"
            },
            "marker": {
             "line": {
              "color": "#E5ECF6",
              "width": 0.5
             },
             "pattern": {
              "fillmode": "overlay",
              "size": 10,
              "solidity": 0.2
             }
            },
            "type": "bar"
           }
          ],
          "barpolar": [
           {
            "marker": {
             "line": {
              "color": "#E5ECF6",
              "width": 0.5
             },
             "pattern": {
              "fillmode": "overlay",
              "size": 10,
              "solidity": 0.2
             }
            },
            "type": "barpolar"
           }
          ],
          "carpet": [
           {
            "aaxis": {
             "endlinecolor": "#2a3f5f",
             "gridcolor": "white",
             "linecolor": "white",
             "minorgridcolor": "white",
             "startlinecolor": "#2a3f5f"
            },
            "baxis": {
             "endlinecolor": "#2a3f5f",
             "gridcolor": "white",
             "linecolor": "white",
             "minorgridcolor": "white",
             "startlinecolor": "#2a3f5f"
            },
            "type": "carpet"
           }
          ],
          "choropleth": [
           {
            "colorbar": {
             "outlinewidth": 0,
             "ticks": ""
            },
            "type": "choropleth"
           }
          ],
          "contour": [
           {
            "colorbar": {
             "outlinewidth": 0,
             "ticks": ""
            },
            "colorscale": [
             [
              0,
              "#0d0887"
             ],
             [
              0.1111111111111111,
              "#46039f"
             ],
             [
              0.2222222222222222,
              "#7201a8"
             ],
             [
              0.3333333333333333,
              "#9c179e"
             ],
             [
              0.4444444444444444,
              "#bd3786"
             ],
             [
              0.5555555555555556,
              "#d8576b"
             ],
             [
              0.6666666666666666,
              "#ed7953"
             ],
             [
              0.7777777777777778,
              "#fb9f3a"
             ],
             [
              0.8888888888888888,
              "#fdca26"
             ],
             [
              1,
              "#f0f921"
             ]
            ],
            "type": "contour"
           }
          ],
          "contourcarpet": [
           {
            "colorbar": {
             "outlinewidth": 0,
             "ticks": ""
            },
            "type": "contourcarpet"
           }
          ],
          "heatmap": [
           {
            "colorbar": {
             "outlinewidth": 0,
             "ticks": ""
            },
            "colorscale": [
             [
              0,
              "#0d0887"
             ],
             [
              0.1111111111111111,
              "#46039f"
             ],
             [
              0.2222222222222222,
              "#7201a8"
             ],
             [
              0.3333333333333333,
              "#9c179e"
             ],
             [
              0.4444444444444444,
              "#bd3786"
             ],
             [
              0.5555555555555556,
              "#d8576b"
             ],
             [
              0.6666666666666666,
              "#ed7953"
             ],
             [
              0.7777777777777778,
              "#fb9f3a"
             ],
             [
              0.8888888888888888,
              "#fdca26"
             ],
             [
              1,
              "#f0f921"
             ]
            ],
            "type": "heatmap"
           }
          ],
          "heatmapgl": [
           {
            "colorbar": {
             "outlinewidth": 0,
             "ticks": ""
            },
            "colorscale": [
             [
              0,
              "#0d0887"
             ],
             [
              0.1111111111111111,
              "#46039f"
             ],
             [
              0.2222222222222222,
              "#7201a8"
             ],
             [
              0.3333333333333333,
              "#9c179e"
             ],
             [
              0.4444444444444444,
              "#bd3786"
             ],
             [
              0.5555555555555556,
              "#d8576b"
             ],
             [
              0.6666666666666666,
              "#ed7953"
             ],
             [
              0.7777777777777778,
              "#fb9f3a"
             ],
             [
              0.8888888888888888,
              "#fdca26"
             ],
             [
              1,
              "#f0f921"
             ]
            ],
            "type": "heatmapgl"
           }
          ],
          "histogram": [
           {
            "marker": {
             "pattern": {
              "fillmode": "overlay",
              "size": 10,
              "solidity": 0.2
             }
            },
            "type": "histogram"
           }
          ],
          "histogram2d": [
           {
            "colorbar": {
             "outlinewidth": 0,
             "ticks": ""
            },
            "colorscale": [
             [
              0,
              "#0d0887"
             ],
             [
              0.1111111111111111,
              "#46039f"
             ],
             [
              0.2222222222222222,
              "#7201a8"
             ],
             [
              0.3333333333333333,
              "#9c179e"
             ],
             [
              0.4444444444444444,
              "#bd3786"
             ],
             [
              0.5555555555555556,
              "#d8576b"
             ],
             [
              0.6666666666666666,
              "#ed7953"
             ],
             [
              0.7777777777777778,
              "#fb9f3a"
             ],
             [
              0.8888888888888888,
              "#fdca26"
             ],
             [
              1,
              "#f0f921"
             ]
            ],
            "type": "histogram2d"
           }
          ],
          "histogram2dcontour": [
           {
            "colorbar": {
             "outlinewidth": 0,
             "ticks": ""
            },
            "colorscale": [
             [
              0,
              "#0d0887"
             ],
             [
              0.1111111111111111,
              "#46039f"
             ],
             [
              0.2222222222222222,
              "#7201a8"
             ],
             [
              0.3333333333333333,
              "#9c179e"
             ],
             [
              0.4444444444444444,
              "#bd3786"
             ],
             [
              0.5555555555555556,
              "#d8576b"
             ],
             [
              0.6666666666666666,
              "#ed7953"
             ],
             [
              0.7777777777777778,
              "#fb9f3a"
             ],
             [
              0.8888888888888888,
              "#fdca26"
             ],
             [
              1,
              "#f0f921"
             ]
            ],
            "type": "histogram2dcontour"
           }
          ],
          "mesh3d": [
           {
            "colorbar": {
             "outlinewidth": 0,
             "ticks": ""
            },
            "type": "mesh3d"
           }
          ],
          "parcoords": [
           {
            "line": {
             "colorbar": {
              "outlinewidth": 0,
              "ticks": ""
             }
            },
            "type": "parcoords"
           }
          ],
          "pie": [
           {
            "automargin": true,
            "type": "pie"
           }
          ],
          "scatter": [
           {
            "fillpattern": {
             "fillmode": "overlay",
             "size": 10,
             "solidity": 0.2
            },
            "type": "scatter"
           }
          ],
          "scatter3d": [
           {
            "line": {
             "colorbar": {
              "outlinewidth": 0,
              "ticks": ""
             }
            },
            "marker": {
             "colorbar": {
              "outlinewidth": 0,
              "ticks": ""
             }
            },
            "type": "scatter3d"
           }
          ],
          "scattercarpet": [
           {
            "marker": {
             "colorbar": {
              "outlinewidth": 0,
              "ticks": ""
             }
            },
            "type": "scattercarpet"
           }
          ],
          "scattergeo": [
           {
            "marker": {
             "colorbar": {
              "outlinewidth": 0,
              "ticks": ""
             }
            },
            "type": "scattergeo"
           }
          ],
          "scattergl": [
           {
            "marker": {
             "colorbar": {
              "outlinewidth": 0,
              "ticks": ""
             }
            },
            "type": "scattergl"
           }
          ],
          "scattermapbox": [
           {
            "marker": {
             "colorbar": {
              "outlinewidth": 0,
              "ticks": ""
             }
            },
            "type": "scattermapbox"
           }
          ],
          "scatterpolar": [
           {
            "marker": {
             "colorbar": {
              "outlinewidth": 0,
              "ticks": ""
             }
            },
            "type": "scatterpolar"
           }
          ],
          "scatterpolargl": [
           {
            "marker": {
             "colorbar": {
              "outlinewidth": 0,
              "ticks": ""
             }
            },
            "type": "scatterpolargl"
           }
          ],
          "scatterternary": [
           {
            "marker": {
             "colorbar": {
              "outlinewidth": 0,
              "ticks": ""
             }
            },
            "type": "scatterternary"
           }
          ],
          "surface": [
           {
            "colorbar": {
             "outlinewidth": 0,
             "ticks": ""
            },
            "colorscale": [
             [
              0,
              "#0d0887"
             ],
             [
              0.1111111111111111,
              "#46039f"
             ],
             [
              0.2222222222222222,
              "#7201a8"
             ],
             [
              0.3333333333333333,
              "#9c179e"
             ],
             [
              0.4444444444444444,
              "#bd3786"
             ],
             [
              0.5555555555555556,
              "#d8576b"
             ],
             [
              0.6666666666666666,
              "#ed7953"
             ],
             [
              0.7777777777777778,
              "#fb9f3a"
             ],
             [
              0.8888888888888888,
              "#fdca26"
             ],
             [
              1,
              "#f0f921"
             ]
            ],
            "type": "surface"
           }
          ],
          "table": [
           {
            "cells": {
             "fill": {
              "color": "#EBF0F8"
             },
             "line": {
              "color": "white"
             }
            },
            "header": {
             "fill": {
              "color": "#C8D4E3"
             },
             "line": {
              "color": "white"
             }
            },
            "type": "table"
           }
          ]
         },
         "layout": {
          "annotationdefaults": {
           "arrowcolor": "#2a3f5f",
           "arrowhead": 0,
           "arrowwidth": 1
          },
          "autotypenumbers": "strict",
          "coloraxis": {
           "colorbar": {
            "outlinewidth": 0,
            "ticks": ""
           }
          },
          "colorscale": {
           "diverging": [
            [
             0,
             "#8e0152"
            ],
            [
             0.1,
             "#c51b7d"
            ],
            [
             0.2,
             "#de77ae"
            ],
            [
             0.3,
             "#f1b6da"
            ],
            [
             0.4,
             "#fde0ef"
            ],
            [
             0.5,
             "#f7f7f7"
            ],
            [
             0.6,
             "#e6f5d0"
            ],
            [
             0.7,
             "#b8e186"
            ],
            [
             0.8,
             "#7fbc41"
            ],
            [
             0.9,
             "#4d9221"
            ],
            [
             1,
             "#276419"
            ]
           ],
           "sequential": [
            [
             0,
             "#0d0887"
            ],
            [
             0.1111111111111111,
             "#46039f"
            ],
            [
             0.2222222222222222,
             "#7201a8"
            ],
            [
             0.3333333333333333,
             "#9c179e"
            ],
            [
             0.4444444444444444,
             "#bd3786"
            ],
            [
             0.5555555555555556,
             "#d8576b"
            ],
            [
             0.6666666666666666,
             "#ed7953"
            ],
            [
             0.7777777777777778,
             "#fb9f3a"
            ],
            [
             0.8888888888888888,
             "#fdca26"
            ],
            [
             1,
             "#f0f921"
            ]
           ],
           "sequentialminus": [
            [
             0,
             "#0d0887"
            ],
            [
             0.1111111111111111,
             "#46039f"
            ],
            [
             0.2222222222222222,
             "#7201a8"
            ],
            [
             0.3333333333333333,
             "#9c179e"
            ],
            [
             0.4444444444444444,
             "#bd3786"
            ],
            [
             0.5555555555555556,
             "#d8576b"
            ],
            [
             0.6666666666666666,
             "#ed7953"
            ],
            [
             0.7777777777777778,
             "#fb9f3a"
            ],
            [
             0.8888888888888888,
             "#fdca26"
            ],
            [
             1,
             "#f0f921"
            ]
           ]
          },
          "colorway": [
           "#636efa",
           "#EF553B",
           "#00cc96",
           "#ab63fa",
           "#FFA15A",
           "#19d3f3",
           "#FF6692",
           "#B6E880",
           "#FF97FF",
           "#FECB52"
          ],
          "font": {
           "color": "#2a3f5f"
          },
          "geo": {
           "bgcolor": "white",
           "lakecolor": "white",
           "landcolor": "#E5ECF6",
           "showlakes": true,
           "showland": true,
           "subunitcolor": "white"
          },
          "hoverlabel": {
           "align": "left"
          },
          "hovermode": "closest",
          "mapbox": {
           "style": "light"
          },
          "paper_bgcolor": "white",
          "plot_bgcolor": "#E5ECF6",
          "polar": {
           "angularaxis": {
            "gridcolor": "white",
            "linecolor": "white",
            "ticks": ""
           },
           "bgcolor": "#E5ECF6",
           "radialaxis": {
            "gridcolor": "white",
            "linecolor": "white",
            "ticks": ""
           }
          },
          "scene": {
           "xaxis": {
            "backgroundcolor": "#E5ECF6",
            "gridcolor": "white",
            "gridwidth": 2,
            "linecolor": "white",
            "showbackground": true,
            "ticks": "",
            "zerolinecolor": "white"
           },
           "yaxis": {
            "backgroundcolor": "#E5ECF6",
            "gridcolor": "white",
            "gridwidth": 2,
            "linecolor": "white",
            "showbackground": true,
            "ticks": "",
            "zerolinecolor": "white"
           },
           "zaxis": {
            "backgroundcolor": "#E5ECF6",
            "gridcolor": "white",
            "gridwidth": 2,
            "linecolor": "white",
            "showbackground": true,
            "ticks": "",
            "zerolinecolor": "white"
           }
          },
          "shapedefaults": {
           "line": {
            "color": "#2a3f5f"
           }
          },
          "ternary": {
           "aaxis": {
            "gridcolor": "white",
            "linecolor": "white",
            "ticks": ""
           },
           "baxis": {
            "gridcolor": "white",
            "linecolor": "white",
            "ticks": ""
           },
           "bgcolor": "#E5ECF6",
           "caxis": {
            "gridcolor": "white",
            "linecolor": "white",
            "ticks": ""
           }
          },
          "title": {
           "x": 0.05
          },
          "xaxis": {
           "automargin": true,
           "gridcolor": "white",
           "linecolor": "white",
           "ticks": "",
           "title": {
            "standoff": 15
           },
           "zerolinecolor": "white",
           "zerolinewidth": 2
          },
          "yaxis": {
           "automargin": true,
           "gridcolor": "white",
           "linecolor": "white",
           "ticks": "",
           "title": {
            "standoff": 15
           },
           "zerolinecolor": "white",
           "zerolinewidth": 2
          }
         }
        },
        "xaxis": {
         "anchor": "y",
         "autorange": true,
         "domain": [
          0,
          1
         ],
         "range": [
          5.196818181818182,
          6.833181818181818
         ],
         "title": {
          "text": "DCG"
         },
         "type": "linear"
        },
        "yaxis": {
         "anchor": "x",
         "autorange": true,
         "domain": [
          0,
          1
         ],
         "range": [
          0.2345800524934383,
          0.31541994750656166
         ],
         "title": {
          "text": "NDCG"
         },
         "type": "linear"
        }
       }
      }
     },
     "metadata": {},
     "output_type": "display_data"
    }
   ],
   "source": [
    "px.scatter(df_metrics_per_pipeline, \n",
    "                 x='dcg', y='ndcg', \n",
    "                 hover_data={'pipeline': True},  # Show query on hover\n",
    "                 labels={'dcg': 'DCG', 'ndcg': 'NDCG'})"
   ]
  },
  {
   "cell_type": "code",
   "execution_count": 67,
   "id": "4fb1fc90-913f-4d47-a01b-208c6ffd8cba",
   "metadata": {},
   "outputs": [
    {
     "data": {
      "application/vnd.plotly.v1+json": {
       "config": {
        "plotlyServerURL": "https://plot.ly"
       },
       "data": [
        {
         "customdata": [
          [
           "l2arithmetic_mean0.0"
          ],
          [
           "l2arithmetic_mean0.1"
          ],
          [
           "l2arithmetic_mean0.2"
          ],
          [
           "l2arithmetic_mean0.3"
          ],
          [
           "l2arithmetic_mean0.4"
          ],
          [
           "l2arithmetic_mean0.5"
          ],
          [
           "l2arithmetic_mean0.6"
          ],
          [
           "l2arithmetic_mean0.7"
          ],
          [
           "l2arithmetic_mean0.8"
          ],
          [
           "l2arithmetic_mean0.9"
          ],
          [
           "l2arithmetic_mean1.0"
          ],
          [
           "l2geometric_mean0.0"
          ],
          [
           "l2geometric_mean0.1"
          ],
          [
           "l2geometric_mean0.2"
          ],
          [
           "l2geometric_mean0.3"
          ],
          [
           "l2geometric_mean0.4"
          ],
          [
           "l2geometric_mean0.5"
          ],
          [
           "l2geometric_mean0.6"
          ],
          [
           "l2geometric_mean0.7"
          ],
          [
           "l2geometric_mean0.8"
          ],
          [
           "l2geometric_mean0.9"
          ],
          [
           "l2geometric_mean1.0"
          ],
          [
           "l2harmonic_mean0.0"
          ],
          [
           "l2harmonic_mean0.1"
          ],
          [
           "l2harmonic_mean0.2"
          ],
          [
           "l2harmonic_mean0.3"
          ],
          [
           "l2harmonic_mean0.4"
          ],
          [
           "l2harmonic_mean0.5"
          ],
          [
           "l2harmonic_mean0.6"
          ],
          [
           "l2harmonic_mean0.7"
          ],
          [
           "l2harmonic_mean0.8"
          ],
          [
           "l2harmonic_mean0.9"
          ],
          [
           "l2harmonic_mean1.0"
          ],
          [
           "min_maxarithmetic_mean0.0"
          ],
          [
           "min_maxarithmetic_mean0.1"
          ],
          [
           "min_maxarithmetic_mean0.2"
          ],
          [
           "min_maxarithmetic_mean0.3"
          ],
          [
           "min_maxarithmetic_mean0.4"
          ],
          [
           "min_maxarithmetic_mean0.5"
          ],
          [
           "min_maxarithmetic_mean0.6"
          ],
          [
           "min_maxarithmetic_mean0.7"
          ],
          [
           "min_maxarithmetic_mean0.8"
          ],
          [
           "min_maxarithmetic_mean0.9"
          ],
          [
           "min_maxarithmetic_mean1.0"
          ],
          [
           "min_maxgeometric_mean0.0"
          ],
          [
           "min_maxgeometric_mean0.1"
          ],
          [
           "min_maxgeometric_mean0.2"
          ],
          [
           "min_maxgeometric_mean0.3"
          ],
          [
           "min_maxgeometric_mean0.4"
          ],
          [
           "min_maxgeometric_mean0.5"
          ],
          [
           "min_maxgeometric_mean0.6"
          ],
          [
           "min_maxgeometric_mean0.7"
          ],
          [
           "min_maxgeometric_mean0.8"
          ],
          [
           "min_maxgeometric_mean0.9"
          ],
          [
           "min_maxgeometric_mean1.0"
          ],
          [
           "min_maxharmonic_mean0.0"
          ],
          [
           "min_maxharmonic_mean0.1"
          ],
          [
           "min_maxharmonic_mean0.2"
          ],
          [
           "min_maxharmonic_mean0.3"
          ],
          [
           "min_maxharmonic_mean0.4"
          ],
          [
           "min_maxharmonic_mean0.5"
          ],
          [
           "min_maxharmonic_mean0.6"
          ],
          [
           "min_maxharmonic_mean0.7"
          ],
          [
           "min_maxharmonic_mean0.8"
          ],
          [
           "min_maxharmonic_mean0.9"
          ],
          [
           "min_maxharmonic_mean1.0"
          ]
         ],
         "hovertemplate": "DCG=%{x}<br>NDCG=%{y}<br>pipeline=%{customdata[0]}<extra></extra>",
         "legendgroup": "",
         "marker": {
          "color": "#636efa",
          "symbol": "circle"
         },
         "mode": "markers",
         "name": "",
         "orientation": "v",
         "showlegend": false,
         "type": "scatter",
         "x": [
          5.29,
          6.31,
          6.38,
          6.72,
          6.74,
          6.72,
          6.71,
          6.7,
          6.67,
          6.6,
          5.65,
          5.29,
          5.85,
          5.97,
          6.05,
          6.11,
          6.18,
          6.24,
          6.3,
          6.42,
          6.48,
          5.65,
          5.29,
          5.77,
          5.89,
          5.95,
          6.01,
          6.09,
          6.19,
          6.28,
          6.32,
          6.47,
          5.65,
          5.29,
          5.47,
          5.68,
          5.95,
          6.27,
          6.51,
          6.72,
          6.69,
          6.63,
          6.58,
          5.65,
          5.29,
          5.68,
          5.65,
          5.68,
          5.73,
          5.78,
          5.82,
          5.87,
          5.94,
          6.02,
          5.65,
          5.29,
          5.61,
          5.63,
          5.65,
          5.68,
          5.72,
          5.74,
          5.81,
          5.88,
          5.99,
          5.65
         ],
         "xaxis": "x",
         "y": [
          0.24,
          0.29,
          0.29,
          0.3,
          0.31,
          0.3,
          0.3,
          0.3,
          0.3,
          0.3,
          0.26,
          0.24,
          0.26,
          0.27,
          0.27,
          0.28,
          0.28,
          0.28,
          0.28,
          0.29,
          0.29,
          0.26,
          0.24,
          0.26,
          0.26,
          0.27,
          0.27,
          0.27,
          0.28,
          0.28,
          0.29,
          0.29,
          0.26,
          0.24,
          0.25,
          0.26,
          0.27,
          0.28,
          0.29,
          0.3,
          0.3,
          0.3,
          0.3,
          0.26,
          0.24,
          0.26,
          0.26,
          0.26,
          0.26,
          0.26,
          0.26,
          0.27,
          0.27,
          0.27,
          0.26,
          0.24,
          0.25,
          0.25,
          0.25,
          0.26,
          0.26,
          0.26,
          0.26,
          0.27,
          0.27,
          0.26
         ],
         "yaxis": "y"
        }
       ],
       "layout": {
        "autosize": true,
        "hovermode": "closest",
        "legend": {
         "tracegroupgap": 0
        },
        "margin": {
         "t": 60
        },
        "template": {
         "data": {
          "bar": [
           {
            "error_x": {
             "color": "#2a3f5f"
            },
            "error_y": {
             "color": "#2a3f5f"
            },
            "marker": {
             "line": {
              "color": "#E5ECF6",
              "width": 0.5
             },
             "pattern": {
              "fillmode": "overlay",
              "size": 10,
              "solidity": 0.2
             }
            },
            "type": "bar"
           }
          ],
          "barpolar": [
           {
            "marker": {
             "line": {
              "color": "#E5ECF6",
              "width": 0.5
             },
             "pattern": {
              "fillmode": "overlay",
              "size": 10,
              "solidity": 0.2
             }
            },
            "type": "barpolar"
           }
          ],
          "carpet": [
           {
            "aaxis": {
             "endlinecolor": "#2a3f5f",
             "gridcolor": "white",
             "linecolor": "white",
             "minorgridcolor": "white",
             "startlinecolor": "#2a3f5f"
            },
            "baxis": {
             "endlinecolor": "#2a3f5f",
             "gridcolor": "white",
             "linecolor": "white",
             "minorgridcolor": "white",
             "startlinecolor": "#2a3f5f"
            },
            "type": "carpet"
           }
          ],
          "choropleth": [
           {
            "colorbar": {
             "outlinewidth": 0,
             "ticks": ""
            },
            "type": "choropleth"
           }
          ],
          "contour": [
           {
            "colorbar": {
             "outlinewidth": 0,
             "ticks": ""
            },
            "colorscale": [
             [
              0,
              "#0d0887"
             ],
             [
              0.1111111111111111,
              "#46039f"
             ],
             [
              0.2222222222222222,
              "#7201a8"
             ],
             [
              0.3333333333333333,
              "#9c179e"
             ],
             [
              0.4444444444444444,
              "#bd3786"
             ],
             [
              0.5555555555555556,
              "#d8576b"
             ],
             [
              0.6666666666666666,
              "#ed7953"
             ],
             [
              0.7777777777777778,
              "#fb9f3a"
             ],
             [
              0.8888888888888888,
              "#fdca26"
             ],
             [
              1,
              "#f0f921"
             ]
            ],
            "type": "contour"
           }
          ],
          "contourcarpet": [
           {
            "colorbar": {
             "outlinewidth": 0,
             "ticks": ""
            },
            "type": "contourcarpet"
           }
          ],
          "heatmap": [
           {
            "colorbar": {
             "outlinewidth": 0,
             "ticks": ""
            },
            "colorscale": [
             [
              0,
              "#0d0887"
             ],
             [
              0.1111111111111111,
              "#46039f"
             ],
             [
              0.2222222222222222,
              "#7201a8"
             ],
             [
              0.3333333333333333,
              "#9c179e"
             ],
             [
              0.4444444444444444,
              "#bd3786"
             ],
             [
              0.5555555555555556,
              "#d8576b"
             ],
             [
              0.6666666666666666,
              "#ed7953"
             ],
             [
              0.7777777777777778,
              "#fb9f3a"
             ],
             [
              0.8888888888888888,
              "#fdca26"
             ],
             [
              1,
              "#f0f921"
             ]
            ],
            "type": "heatmap"
           }
          ],
          "heatmapgl": [
           {
            "colorbar": {
             "outlinewidth": 0,
             "ticks": ""
            },
            "colorscale": [
             [
              0,
              "#0d0887"
             ],
             [
              0.1111111111111111,
              "#46039f"
             ],
             [
              0.2222222222222222,
              "#7201a8"
             ],
             [
              0.3333333333333333,
              "#9c179e"
             ],
             [
              0.4444444444444444,
              "#bd3786"
             ],
             [
              0.5555555555555556,
              "#d8576b"
             ],
             [
              0.6666666666666666,
              "#ed7953"
             ],
             [
              0.7777777777777778,
              "#fb9f3a"
             ],
             [
              0.8888888888888888,
              "#fdca26"
             ],
             [
              1,
              "#f0f921"
             ]
            ],
            "type": "heatmapgl"
           }
          ],
          "histogram": [
           {
            "marker": {
             "pattern": {
              "fillmode": "overlay",
              "size": 10,
              "solidity": 0.2
             }
            },
            "type": "histogram"
           }
          ],
          "histogram2d": [
           {
            "colorbar": {
             "outlinewidth": 0,
             "ticks": ""
            },
            "colorscale": [
             [
              0,
              "#0d0887"
             ],
             [
              0.1111111111111111,
              "#46039f"
             ],
             [
              0.2222222222222222,
              "#7201a8"
             ],
             [
              0.3333333333333333,
              "#9c179e"
             ],
             [
              0.4444444444444444,
              "#bd3786"
             ],
             [
              0.5555555555555556,
              "#d8576b"
             ],
             [
              0.6666666666666666,
              "#ed7953"
             ],
             [
              0.7777777777777778,
              "#fb9f3a"
             ],
             [
              0.8888888888888888,
              "#fdca26"
             ],
             [
              1,
              "#f0f921"
             ]
            ],
            "type": "histogram2d"
           }
          ],
          "histogram2dcontour": [
           {
            "colorbar": {
             "outlinewidth": 0,
             "ticks": ""
            },
            "colorscale": [
             [
              0,
              "#0d0887"
             ],
             [
              0.1111111111111111,
              "#46039f"
             ],
             [
              0.2222222222222222,
              "#7201a8"
             ],
             [
              0.3333333333333333,
              "#9c179e"
             ],
             [
              0.4444444444444444,
              "#bd3786"
             ],
             [
              0.5555555555555556,
              "#d8576b"
             ],
             [
              0.6666666666666666,
              "#ed7953"
             ],
             [
              0.7777777777777778,
              "#fb9f3a"
             ],
             [
              0.8888888888888888,
              "#fdca26"
             ],
             [
              1,
              "#f0f921"
             ]
            ],
            "type": "histogram2dcontour"
           }
          ],
          "mesh3d": [
           {
            "colorbar": {
             "outlinewidth": 0,
             "ticks": ""
            },
            "type": "mesh3d"
           }
          ],
          "parcoords": [
           {
            "line": {
             "colorbar": {
              "outlinewidth": 0,
              "ticks": ""
             }
            },
            "type": "parcoords"
           }
          ],
          "pie": [
           {
            "automargin": true,
            "type": "pie"
           }
          ],
          "scatter": [
           {
            "fillpattern": {
             "fillmode": "overlay",
             "size": 10,
             "solidity": 0.2
            },
            "type": "scatter"
           }
          ],
          "scatter3d": [
           {
            "line": {
             "colorbar": {
              "outlinewidth": 0,
              "ticks": ""
             }
            },
            "marker": {
             "colorbar": {
              "outlinewidth": 0,
              "ticks": ""
             }
            },
            "type": "scatter3d"
           }
          ],
          "scattercarpet": [
           {
            "marker": {
             "colorbar": {
              "outlinewidth": 0,
              "ticks": ""
             }
            },
            "type": "scattercarpet"
           }
          ],
          "scattergeo": [
           {
            "marker": {
             "colorbar": {
              "outlinewidth": 0,
              "ticks": ""
             }
            },
            "type": "scattergeo"
           }
          ],
          "scattergl": [
           {
            "marker": {
             "colorbar": {
              "outlinewidth": 0,
              "ticks": ""
             }
            },
            "type": "scattergl"
           }
          ],
          "scattermapbox": [
           {
            "marker": {
             "colorbar": {
              "outlinewidth": 0,
              "ticks": ""
             }
            },
            "type": "scattermapbox"
           }
          ],
          "scatterpolar": [
           {
            "marker": {
             "colorbar": {
              "outlinewidth": 0,
              "ticks": ""
             }
            },
            "type": "scatterpolar"
           }
          ],
          "scatterpolargl": [
           {
            "marker": {
             "colorbar": {
              "outlinewidth": 0,
              "ticks": ""
             }
            },
            "type": "scatterpolargl"
           }
          ],
          "scatterternary": [
           {
            "marker": {
             "colorbar": {
              "outlinewidth": 0,
              "ticks": ""
             }
            },
            "type": "scatterternary"
           }
          ],
          "surface": [
           {
            "colorbar": {
             "outlinewidth": 0,
             "ticks": ""
            },
            "colorscale": [
             [
              0,
              "#0d0887"
             ],
             [
              0.1111111111111111,
              "#46039f"
             ],
             [
              0.2222222222222222,
              "#7201a8"
             ],
             [
              0.3333333333333333,
              "#9c179e"
             ],
             [
              0.4444444444444444,
              "#bd3786"
             ],
             [
              0.5555555555555556,
              "#d8576b"
             ],
             [
              0.6666666666666666,
              "#ed7953"
             ],
             [
              0.7777777777777778,
              "#fb9f3a"
             ],
             [
              0.8888888888888888,
              "#fdca26"
             ],
             [
              1,
              "#f0f921"
             ]
            ],
            "type": "surface"
           }
          ],
          "table": [
           {
            "cells": {
             "fill": {
              "color": "#EBF0F8"
             },
             "line": {
              "color": "white"
             }
            },
            "header": {
             "fill": {
              "color": "#C8D4E3"
             },
             "line": {
              "color": "white"
             }
            },
            "type": "table"
           }
          ]
         },
         "layout": {
          "annotationdefaults": {
           "arrowcolor": "#2a3f5f",
           "arrowhead": 0,
           "arrowwidth": 1
          },
          "autotypenumbers": "strict",
          "coloraxis": {
           "colorbar": {
            "outlinewidth": 0,
            "ticks": ""
           }
          },
          "colorscale": {
           "diverging": [
            [
             0,
             "#8e0152"
            ],
            [
             0.1,
             "#c51b7d"
            ],
            [
             0.2,
             "#de77ae"
            ],
            [
             0.3,
             "#f1b6da"
            ],
            [
             0.4,
             "#fde0ef"
            ],
            [
             0.5,
             "#f7f7f7"
            ],
            [
             0.6,
             "#e6f5d0"
            ],
            [
             0.7,
             "#b8e186"
            ],
            [
             0.8,
             "#7fbc41"
            ],
            [
             0.9,
             "#4d9221"
            ],
            [
             1,
             "#276419"
            ]
           ],
           "sequential": [
            [
             0,
             "#0d0887"
            ],
            [
             0.1111111111111111,
             "#46039f"
            ],
            [
             0.2222222222222222,
             "#7201a8"
            ],
            [
             0.3333333333333333,
             "#9c179e"
            ],
            [
             0.4444444444444444,
             "#bd3786"
            ],
            [
             0.5555555555555556,
             "#d8576b"
            ],
            [
             0.6666666666666666,
             "#ed7953"
            ],
            [
             0.7777777777777778,
             "#fb9f3a"
            ],
            [
             0.8888888888888888,
             "#fdca26"
            ],
            [
             1,
             "#f0f921"
            ]
           ],
           "sequentialminus": [
            [
             0,
             "#0d0887"
            ],
            [
             0.1111111111111111,
             "#46039f"
            ],
            [
             0.2222222222222222,
             "#7201a8"
            ],
            [
             0.3333333333333333,
             "#9c179e"
            ],
            [
             0.4444444444444444,
             "#bd3786"
            ],
            [
             0.5555555555555556,
             "#d8576b"
            ],
            [
             0.6666666666666666,
             "#ed7953"
            ],
            [
             0.7777777777777778,
             "#fb9f3a"
            ],
            [
             0.8888888888888888,
             "#fdca26"
            ],
            [
             1,
             "#f0f921"
            ]
           ]
          },
          "colorway": [
           "#636efa",
           "#EF553B",
           "#00cc96",
           "#ab63fa",
           "#FFA15A",
           "#19d3f3",
           "#FF6692",
           "#B6E880",
           "#FF97FF",
           "#FECB52"
          ],
          "font": {
           "color": "#2a3f5f"
          },
          "geo": {
           "bgcolor": "white",
           "lakecolor": "white",
           "landcolor": "#E5ECF6",
           "showlakes": true,
           "showland": true,
           "subunitcolor": "white"
          },
          "hoverlabel": {
           "align": "left"
          },
          "hovermode": "closest",
          "mapbox": {
           "style": "light"
          },
          "paper_bgcolor": "white",
          "plot_bgcolor": "#E5ECF6",
          "polar": {
           "angularaxis": {
            "gridcolor": "white",
            "linecolor": "white",
            "ticks": ""
           },
           "bgcolor": "#E5ECF6",
           "radialaxis": {
            "gridcolor": "white",
            "linecolor": "white",
            "ticks": ""
           }
          },
          "scene": {
           "xaxis": {
            "backgroundcolor": "#E5ECF6",
            "gridcolor": "white",
            "gridwidth": 2,
            "linecolor": "white",
            "showbackground": true,
            "ticks": "",
            "zerolinecolor": "white"
           },
           "yaxis": {
            "backgroundcolor": "#E5ECF6",
            "gridcolor": "white",
            "gridwidth": 2,
            "linecolor": "white",
            "showbackground": true,
            "ticks": "",
            "zerolinecolor": "white"
           },
           "zaxis": {
            "backgroundcolor": "#E5ECF6",
            "gridcolor": "white",
            "gridwidth": 2,
            "linecolor": "white",
            "showbackground": true,
            "ticks": "",
            "zerolinecolor": "white"
           }
          },
          "shapedefaults": {
           "line": {
            "color": "#2a3f5f"
           }
          },
          "ternary": {
           "aaxis": {
            "gridcolor": "white",
            "linecolor": "white",
            "ticks": ""
           },
           "baxis": {
            "gridcolor": "white",
            "linecolor": "white",
            "ticks": ""
           },
           "bgcolor": "#E5ECF6",
           "caxis": {
            "gridcolor": "white",
            "linecolor": "white",
            "ticks": ""
           }
          },
          "title": {
           "x": 0.05
          },
          "xaxis": {
           "automargin": true,
           "gridcolor": "white",
           "linecolor": "white",
           "ticks": "",
           "title": {
            "standoff": 15
           },
           "zerolinecolor": "white",
           "zerolinewidth": 2
          },
          "yaxis": {
           "automargin": true,
           "gridcolor": "white",
           "linecolor": "white",
           "ticks": "",
           "title": {
            "standoff": 15
           },
           "zerolinecolor": "white",
           "zerolinewidth": 2
          }
         }
        },
        "title": {
         "text": "Scatterplot of DCG vs NDCG"
        },
        "xaxis": {
         "anchor": "y",
         "autorange": true,
         "domain": [
          0,
          1
         ],
         "range": [
          5.196818181818182,
          6.833181818181818
         ],
         "title": {
          "text": "DCG"
         },
         "type": "linear"
        },
        "yaxis": {
         "anchor": "x",
         "autorange": true,
         "domain": [
          0,
          1
         ],
         "range": [
          0.2345800524934383,
          0.31541994750656166
         ],
         "title": {
          "text": "NDCG"
         },
         "type": "linear"
        }
       }
      }
     },
     "metadata": {},
     "output_type": "display_data"
    }
   ],
   "source": [
    "pio.renderers.default = 'plotly_mimetype'\n",
    "fig = px.scatter(df_metrics_per_pipeline, \n",
    "                 x='dcg', y='ndcg', \n",
    "                 hover_data={'pipeline': True},  # Show query on hover\n",
    "                 labels={'dcg': 'DCG', 'ndcg': 'NDCG'})\n",
    "\n",
    "# Customize the layout\n",
    "fig.update_layout(title=\"Scatterplot of DCG vs NDCG\",\n",
    "                  xaxis_title=\"DCG\",\n",
    "                  yaxis_title=\"NDCG\",\n",
    "                  hovermode=\"closest\")\n",
    "\n",
    "# Show the plot\n",
    "fig.show()"
   ]
  },
  {
   "cell_type": "markdown",
   "id": "56c73abd-4b54-41c8-a77d-8e33e0a01fb7",
   "metadata": {},
   "source": [
    "### DCG vs Precision"
   ]
  },
  {
   "cell_type": "code",
   "execution_count": 68,
   "id": "65ef3959-ea73-408b-9639-be2366f719eb",
   "metadata": {},
   "outputs": [
    {
     "data": {
      "application/vnd.plotly.v1+json": {
       "config": {
        "plotlyServerURL": "https://plot.ly"
       },
       "data": [
        {
         "customdata": [
          [
           "l2arithmetic_mean0.0"
          ],
          [
           "l2arithmetic_mean0.1"
          ],
          [
           "l2arithmetic_mean0.2"
          ],
          [
           "l2arithmetic_mean0.3"
          ],
          [
           "l2arithmetic_mean0.4"
          ],
          [
           "l2arithmetic_mean0.5"
          ],
          [
           "l2arithmetic_mean0.6"
          ],
          [
           "l2arithmetic_mean0.7"
          ],
          [
           "l2arithmetic_mean0.8"
          ],
          [
           "l2arithmetic_mean0.9"
          ],
          [
           "l2arithmetic_mean1.0"
          ],
          [
           "l2geometric_mean0.0"
          ],
          [
           "l2geometric_mean0.1"
          ],
          [
           "l2geometric_mean0.2"
          ],
          [
           "l2geometric_mean0.3"
          ],
          [
           "l2geometric_mean0.4"
          ],
          [
           "l2geometric_mean0.5"
          ],
          [
           "l2geometric_mean0.6"
          ],
          [
           "l2geometric_mean0.7"
          ],
          [
           "l2geometric_mean0.8"
          ],
          [
           "l2geometric_mean0.9"
          ],
          [
           "l2geometric_mean1.0"
          ],
          [
           "l2harmonic_mean0.0"
          ],
          [
           "l2harmonic_mean0.1"
          ],
          [
           "l2harmonic_mean0.2"
          ],
          [
           "l2harmonic_mean0.3"
          ],
          [
           "l2harmonic_mean0.4"
          ],
          [
           "l2harmonic_mean0.5"
          ],
          [
           "l2harmonic_mean0.6"
          ],
          [
           "l2harmonic_mean0.7"
          ],
          [
           "l2harmonic_mean0.8"
          ],
          [
           "l2harmonic_mean0.9"
          ],
          [
           "l2harmonic_mean1.0"
          ],
          [
           "min_maxarithmetic_mean0.0"
          ],
          [
           "min_maxarithmetic_mean0.1"
          ],
          [
           "min_maxarithmetic_mean0.2"
          ],
          [
           "min_maxarithmetic_mean0.3"
          ],
          [
           "min_maxarithmetic_mean0.4"
          ],
          [
           "min_maxarithmetic_mean0.5"
          ],
          [
           "min_maxarithmetic_mean0.6"
          ],
          [
           "min_maxarithmetic_mean0.7"
          ],
          [
           "min_maxarithmetic_mean0.8"
          ],
          [
           "min_maxarithmetic_mean0.9"
          ],
          [
           "min_maxarithmetic_mean1.0"
          ],
          [
           "min_maxgeometric_mean0.0"
          ],
          [
           "min_maxgeometric_mean0.1"
          ],
          [
           "min_maxgeometric_mean0.2"
          ],
          [
           "min_maxgeometric_mean0.3"
          ],
          [
           "min_maxgeometric_mean0.4"
          ],
          [
           "min_maxgeometric_mean0.5"
          ],
          [
           "min_maxgeometric_mean0.6"
          ],
          [
           "min_maxgeometric_mean0.7"
          ],
          [
           "min_maxgeometric_mean0.8"
          ],
          [
           "min_maxgeometric_mean0.9"
          ],
          [
           "min_maxgeometric_mean1.0"
          ],
          [
           "min_maxharmonic_mean0.0"
          ],
          [
           "min_maxharmonic_mean0.1"
          ],
          [
           "min_maxharmonic_mean0.2"
          ],
          [
           "min_maxharmonic_mean0.3"
          ],
          [
           "min_maxharmonic_mean0.4"
          ],
          [
           "min_maxharmonic_mean0.5"
          ],
          [
           "min_maxharmonic_mean0.6"
          ],
          [
           "min_maxharmonic_mean0.7"
          ],
          [
           "min_maxharmonic_mean0.8"
          ],
          [
           "min_maxharmonic_mean0.9"
          ],
          [
           "min_maxharmonic_mean1.0"
          ]
         ],
         "hovertemplate": "DCG=%{x}<br>Precision=%{y}<br>pipeline=%{customdata[0]}<extra></extra>",
         "legendgroup": "",
         "marker": {
          "color": "#636efa",
          "symbol": "circle"
         },
         "mode": "markers",
         "name": "",
         "orientation": "v",
         "showlegend": false,
         "type": "scatter",
         "x": [
          5.29,
          6.31,
          6.38,
          6.72,
          6.74,
          6.72,
          6.71,
          6.7,
          6.67,
          6.6,
          5.65,
          5.29,
          5.85,
          5.97,
          6.05,
          6.11,
          6.18,
          6.24,
          6.3,
          6.42,
          6.48,
          5.65,
          5.29,
          5.77,
          5.89,
          5.95,
          6.01,
          6.09,
          6.19,
          6.28,
          6.32,
          6.47,
          5.65,
          5.29,
          5.47,
          5.68,
          5.95,
          6.27,
          6.51,
          6.72,
          6.69,
          6.63,
          6.58,
          5.65,
          5.29,
          5.68,
          5.65,
          5.68,
          5.73,
          5.78,
          5.82,
          5.87,
          5.94,
          6.02,
          5.65,
          5.29,
          5.61,
          5.63,
          5.65,
          5.68,
          5.72,
          5.74,
          5.81,
          5.88,
          5.99,
          5.65
         ],
         "xaxis": "x",
         "y": [
          0.28,
          0.33,
          0.33,
          0.35,
          0.35,
          0.35,
          0.35,
          0.35,
          0.35,
          0.34,
          0.29,
          0.28,
          0.32,
          0.33,
          0.33,
          0.33,
          0.33,
          0.34,
          0.34,
          0.34,
          0.34,
          0.29,
          0.28,
          0.32,
          0.32,
          0.32,
          0.33,
          0.33,
          0.34,
          0.34,
          0.34,
          0.34,
          0.29,
          0.28,
          0.29,
          0.3,
          0.31,
          0.33,
          0.34,
          0.35,
          0.35,
          0.35,
          0.34,
          0.29,
          0.28,
          0.3,
          0.3,
          0.3,
          0.3,
          0.31,
          0.31,
          0.31,
          0.32,
          0.32,
          0.29,
          0.28,
          0.3,
          0.3,
          0.3,
          0.3,
          0.3,
          0.31,
          0.31,
          0.32,
          0.32,
          0.29
         ],
         "yaxis": "y"
        }
       ],
       "layout": {
        "autosize": true,
        "hovermode": "closest",
        "legend": {
         "tracegroupgap": 0
        },
        "margin": {
         "t": 60
        },
        "template": {
         "data": {
          "bar": [
           {
            "error_x": {
             "color": "#2a3f5f"
            },
            "error_y": {
             "color": "#2a3f5f"
            },
            "marker": {
             "line": {
              "color": "#E5ECF6",
              "width": 0.5
             },
             "pattern": {
              "fillmode": "overlay",
              "size": 10,
              "solidity": 0.2
             }
            },
            "type": "bar"
           }
          ],
          "barpolar": [
           {
            "marker": {
             "line": {
              "color": "#E5ECF6",
              "width": 0.5
             },
             "pattern": {
              "fillmode": "overlay",
              "size": 10,
              "solidity": 0.2
             }
            },
            "type": "barpolar"
           }
          ],
          "carpet": [
           {
            "aaxis": {
             "endlinecolor": "#2a3f5f",
             "gridcolor": "white",
             "linecolor": "white",
             "minorgridcolor": "white",
             "startlinecolor": "#2a3f5f"
            },
            "baxis": {
             "endlinecolor": "#2a3f5f",
             "gridcolor": "white",
             "linecolor": "white",
             "minorgridcolor": "white",
             "startlinecolor": "#2a3f5f"
            },
            "type": "carpet"
           }
          ],
          "choropleth": [
           {
            "colorbar": {
             "outlinewidth": 0,
             "ticks": ""
            },
            "type": "choropleth"
           }
          ],
          "contour": [
           {
            "colorbar": {
             "outlinewidth": 0,
             "ticks": ""
            },
            "colorscale": [
             [
              0,
              "#0d0887"
             ],
             [
              0.1111111111111111,
              "#46039f"
             ],
             [
              0.2222222222222222,
              "#7201a8"
             ],
             [
              0.3333333333333333,
              "#9c179e"
             ],
             [
              0.4444444444444444,
              "#bd3786"
             ],
             [
              0.5555555555555556,
              "#d8576b"
             ],
             [
              0.6666666666666666,
              "#ed7953"
             ],
             [
              0.7777777777777778,
              "#fb9f3a"
             ],
             [
              0.8888888888888888,
              "#fdca26"
             ],
             [
              1,
              "#f0f921"
             ]
            ],
            "type": "contour"
           }
          ],
          "contourcarpet": [
           {
            "colorbar": {
             "outlinewidth": 0,
             "ticks": ""
            },
            "type": "contourcarpet"
           }
          ],
          "heatmap": [
           {
            "colorbar": {
             "outlinewidth": 0,
             "ticks": ""
            },
            "colorscale": [
             [
              0,
              "#0d0887"
             ],
             [
              0.1111111111111111,
              "#46039f"
             ],
             [
              0.2222222222222222,
              "#7201a8"
             ],
             [
              0.3333333333333333,
              "#9c179e"
             ],
             [
              0.4444444444444444,
              "#bd3786"
             ],
             [
              0.5555555555555556,
              "#d8576b"
             ],
             [
              0.6666666666666666,
              "#ed7953"
             ],
             [
              0.7777777777777778,
              "#fb9f3a"
             ],
             [
              0.8888888888888888,
              "#fdca26"
             ],
             [
              1,
              "#f0f921"
             ]
            ],
            "type": "heatmap"
           }
          ],
          "heatmapgl": [
           {
            "colorbar": {
             "outlinewidth": 0,
             "ticks": ""
            },
            "colorscale": [
             [
              0,
              "#0d0887"
             ],
             [
              0.1111111111111111,
              "#46039f"
             ],
             [
              0.2222222222222222,
              "#7201a8"
             ],
             [
              0.3333333333333333,
              "#9c179e"
             ],
             [
              0.4444444444444444,
              "#bd3786"
             ],
             [
              0.5555555555555556,
              "#d8576b"
             ],
             [
              0.6666666666666666,
              "#ed7953"
             ],
             [
              0.7777777777777778,
              "#fb9f3a"
             ],
             [
              0.8888888888888888,
              "#fdca26"
             ],
             [
              1,
              "#f0f921"
             ]
            ],
            "type": "heatmapgl"
           }
          ],
          "histogram": [
           {
            "marker": {
             "pattern": {
              "fillmode": "overlay",
              "size": 10,
              "solidity": 0.2
             }
            },
            "type": "histogram"
           }
          ],
          "histogram2d": [
           {
            "colorbar": {
             "outlinewidth": 0,
             "ticks": ""
            },
            "colorscale": [
             [
              0,
              "#0d0887"
             ],
             [
              0.1111111111111111,
              "#46039f"
             ],
             [
              0.2222222222222222,
              "#7201a8"
             ],
             [
              0.3333333333333333,
              "#9c179e"
             ],
             [
              0.4444444444444444,
              "#bd3786"
             ],
             [
              0.5555555555555556,
              "#d8576b"
             ],
             [
              0.6666666666666666,
              "#ed7953"
             ],
             [
              0.7777777777777778,
              "#fb9f3a"
             ],
             [
              0.8888888888888888,
              "#fdca26"
             ],
             [
              1,
              "#f0f921"
             ]
            ],
            "type": "histogram2d"
           }
          ],
          "histogram2dcontour": [
           {
            "colorbar": {
             "outlinewidth": 0,
             "ticks": ""
            },
            "colorscale": [
             [
              0,
              "#0d0887"
             ],
             [
              0.1111111111111111,
              "#46039f"
             ],
             [
              0.2222222222222222,
              "#7201a8"
             ],
             [
              0.3333333333333333,
              "#9c179e"
             ],
             [
              0.4444444444444444,
              "#bd3786"
             ],
             [
              0.5555555555555556,
              "#d8576b"
             ],
             [
              0.6666666666666666,
              "#ed7953"
             ],
             [
              0.7777777777777778,
              "#fb9f3a"
             ],
             [
              0.8888888888888888,
              "#fdca26"
             ],
             [
              1,
              "#f0f921"
             ]
            ],
            "type": "histogram2dcontour"
           }
          ],
          "mesh3d": [
           {
            "colorbar": {
             "outlinewidth": 0,
             "ticks": ""
            },
            "type": "mesh3d"
           }
          ],
          "parcoords": [
           {
            "line": {
             "colorbar": {
              "outlinewidth": 0,
              "ticks": ""
             }
            },
            "type": "parcoords"
           }
          ],
          "pie": [
           {
            "automargin": true,
            "type": "pie"
           }
          ],
          "scatter": [
           {
            "fillpattern": {
             "fillmode": "overlay",
             "size": 10,
             "solidity": 0.2
            },
            "type": "scatter"
           }
          ],
          "scatter3d": [
           {
            "line": {
             "colorbar": {
              "outlinewidth": 0,
              "ticks": ""
             }
            },
            "marker": {
             "colorbar": {
              "outlinewidth": 0,
              "ticks": ""
             }
            },
            "type": "scatter3d"
           }
          ],
          "scattercarpet": [
           {
            "marker": {
             "colorbar": {
              "outlinewidth": 0,
              "ticks": ""
             }
            },
            "type": "scattercarpet"
           }
          ],
          "scattergeo": [
           {
            "marker": {
             "colorbar": {
              "outlinewidth": 0,
              "ticks": ""
             }
            },
            "type": "scattergeo"
           }
          ],
          "scattergl": [
           {
            "marker": {
             "colorbar": {
              "outlinewidth": 0,
              "ticks": ""
             }
            },
            "type": "scattergl"
           }
          ],
          "scattermapbox": [
           {
            "marker": {
             "colorbar": {
              "outlinewidth": 0,
              "ticks": ""
             }
            },
            "type": "scattermapbox"
           }
          ],
          "scatterpolar": [
           {
            "marker": {
             "colorbar": {
              "outlinewidth": 0,
              "ticks": ""
             }
            },
            "type": "scatterpolar"
           }
          ],
          "scatterpolargl": [
           {
            "marker": {
             "colorbar": {
              "outlinewidth": 0,
              "ticks": ""
             }
            },
            "type": "scatterpolargl"
           }
          ],
          "scatterternary": [
           {
            "marker": {
             "colorbar": {
              "outlinewidth": 0,
              "ticks": ""
             }
            },
            "type": "scatterternary"
           }
          ],
          "surface": [
           {
            "colorbar": {
             "outlinewidth": 0,
             "ticks": ""
            },
            "colorscale": [
             [
              0,
              "#0d0887"
             ],
             [
              0.1111111111111111,
              "#46039f"
             ],
             [
              0.2222222222222222,
              "#7201a8"
             ],
             [
              0.3333333333333333,
              "#9c179e"
             ],
             [
              0.4444444444444444,
              "#bd3786"
             ],
             [
              0.5555555555555556,
              "#d8576b"
             ],
             [
              0.6666666666666666,
              "#ed7953"
             ],
             [
              0.7777777777777778,
              "#fb9f3a"
             ],
             [
              0.8888888888888888,
              "#fdca26"
             ],
             [
              1,
              "#f0f921"
             ]
            ],
            "type": "surface"
           }
          ],
          "table": [
           {
            "cells": {
             "fill": {
              "color": "#EBF0F8"
             },
             "line": {
              "color": "white"
             }
            },
            "header": {
             "fill": {
              "color": "#C8D4E3"
             },
             "line": {
              "color": "white"
             }
            },
            "type": "table"
           }
          ]
         },
         "layout": {
          "annotationdefaults": {
           "arrowcolor": "#2a3f5f",
           "arrowhead": 0,
           "arrowwidth": 1
          },
          "autotypenumbers": "strict",
          "coloraxis": {
           "colorbar": {
            "outlinewidth": 0,
            "ticks": ""
           }
          },
          "colorscale": {
           "diverging": [
            [
             0,
             "#8e0152"
            ],
            [
             0.1,
             "#c51b7d"
            ],
            [
             0.2,
             "#de77ae"
            ],
            [
             0.3,
             "#f1b6da"
            ],
            [
             0.4,
             "#fde0ef"
            ],
            [
             0.5,
             "#f7f7f7"
            ],
            [
             0.6,
             "#e6f5d0"
            ],
            [
             0.7,
             "#b8e186"
            ],
            [
             0.8,
             "#7fbc41"
            ],
            [
             0.9,
             "#4d9221"
            ],
            [
             1,
             "#276419"
            ]
           ],
           "sequential": [
            [
             0,
             "#0d0887"
            ],
            [
             0.1111111111111111,
             "#46039f"
            ],
            [
             0.2222222222222222,
             "#7201a8"
            ],
            [
             0.3333333333333333,
             "#9c179e"
            ],
            [
             0.4444444444444444,
             "#bd3786"
            ],
            [
             0.5555555555555556,
             "#d8576b"
            ],
            [
             0.6666666666666666,
             "#ed7953"
            ],
            [
             0.7777777777777778,
             "#fb9f3a"
            ],
            [
             0.8888888888888888,
             "#fdca26"
            ],
            [
             1,
             "#f0f921"
            ]
           ],
           "sequentialminus": [
            [
             0,
             "#0d0887"
            ],
            [
             0.1111111111111111,
             "#46039f"
            ],
            [
             0.2222222222222222,
             "#7201a8"
            ],
            [
             0.3333333333333333,
             "#9c179e"
            ],
            [
             0.4444444444444444,
             "#bd3786"
            ],
            [
             0.5555555555555556,
             "#d8576b"
            ],
            [
             0.6666666666666666,
             "#ed7953"
            ],
            [
             0.7777777777777778,
             "#fb9f3a"
            ],
            [
             0.8888888888888888,
             "#fdca26"
            ],
            [
             1,
             "#f0f921"
            ]
           ]
          },
          "colorway": [
           "#636efa",
           "#EF553B",
           "#00cc96",
           "#ab63fa",
           "#FFA15A",
           "#19d3f3",
           "#FF6692",
           "#B6E880",
           "#FF97FF",
           "#FECB52"
          ],
          "font": {
           "color": "#2a3f5f"
          },
          "geo": {
           "bgcolor": "white",
           "lakecolor": "white",
           "landcolor": "#E5ECF6",
           "showlakes": true,
           "showland": true,
           "subunitcolor": "white"
          },
          "hoverlabel": {
           "align": "left"
          },
          "hovermode": "closest",
          "mapbox": {
           "style": "light"
          },
          "paper_bgcolor": "white",
          "plot_bgcolor": "#E5ECF6",
          "polar": {
           "angularaxis": {
            "gridcolor": "white",
            "linecolor": "white",
            "ticks": ""
           },
           "bgcolor": "#E5ECF6",
           "radialaxis": {
            "gridcolor": "white",
            "linecolor": "white",
            "ticks": ""
           }
          },
          "scene": {
           "xaxis": {
            "backgroundcolor": "#E5ECF6",
            "gridcolor": "white",
            "gridwidth": 2,
            "linecolor": "white",
            "showbackground": true,
            "ticks": "",
            "zerolinecolor": "white"
           },
           "yaxis": {
            "backgroundcolor": "#E5ECF6",
            "gridcolor": "white",
            "gridwidth": 2,
            "linecolor": "white",
            "showbackground": true,
            "ticks": "",
            "zerolinecolor": "white"
           },
           "zaxis": {
            "backgroundcolor": "#E5ECF6",
            "gridcolor": "white",
            "gridwidth": 2,
            "linecolor": "white",
            "showbackground": true,
            "ticks": "",
            "zerolinecolor": "white"
           }
          },
          "shapedefaults": {
           "line": {
            "color": "#2a3f5f"
           }
          },
          "ternary": {
           "aaxis": {
            "gridcolor": "white",
            "linecolor": "white",
            "ticks": ""
           },
           "baxis": {
            "gridcolor": "white",
            "linecolor": "white",
            "ticks": ""
           },
           "bgcolor": "#E5ECF6",
           "caxis": {
            "gridcolor": "white",
            "linecolor": "white",
            "ticks": ""
           }
          },
          "title": {
           "x": 0.05
          },
          "xaxis": {
           "automargin": true,
           "gridcolor": "white",
           "linecolor": "white",
           "ticks": "",
           "title": {
            "standoff": 15
           },
           "zerolinecolor": "white",
           "zerolinewidth": 2
          },
          "yaxis": {
           "automargin": true,
           "gridcolor": "white",
           "linecolor": "white",
           "ticks": "",
           "title": {
            "standoff": 15
           },
           "zerolinecolor": "white",
           "zerolinewidth": 2
          }
         }
        },
        "title": {
         "text": "Scatterplot of DCG vs Precision"
        },
        "xaxis": {
         "anchor": "y",
         "autorange": true,
         "domain": [
          0,
          1
         ],
         "range": [
          5.196818181818182,
          6.833181818181818
         ],
         "title": {
          "text": "DCG"
         },
         "type": "linear"
        },
        "yaxis": {
         "anchor": "x",
         "autorange": true,
         "domain": [
          0,
          1
         ],
         "range": [
          0.27458005249343836,
          0.35541994750656164
         ],
         "title": {
          "text": "Precision"
         },
         "type": "linear"
        }
       }
      }
     },
     "metadata": {},
     "output_type": "display_data"
    }
   ],
   "source": [
    "pio.renderers.default = 'plotly_mimetype'\n",
    "fig = px.scatter(df_metrics_per_pipeline, \n",
    "                 x='dcg', y='prec@10', \n",
    "                 hover_data={'pipeline': True},  # Show query on hover\n",
    "                 labels={'dcg': 'DCG', 'prec@10': 'Precision'})\n",
    "\n",
    "# Customize the layout\n",
    "fig.update_layout(title=\"Scatterplot of DCG vs Precision\",\n",
    "                  xaxis_title=\"DCG\",\n",
    "                  yaxis_title=\"Precision\",\n",
    "                  hovermode=\"closest\")\n",
    "\n",
    "# Show the plot\n",
    "fig.show()"
   ]
  },
  {
   "cell_type": "markdown",
   "id": "895ffaea-14a9-4136-bf93-093d0cb234bd",
   "metadata": {},
   "source": [
    "### NDCG vs. Precision"
   ]
  },
  {
   "cell_type": "code",
   "execution_count": 69,
   "id": "dc533aa7-7e49-444f-be99-87bd26f35b39",
   "metadata": {},
   "outputs": [
    {
     "data": {
      "application/vnd.plotly.v1+json": {
       "config": {
        "plotlyServerURL": "https://plot.ly"
       },
       "data": [
        {
         "customdata": [
          [
           "l2arithmetic_mean0.0"
          ],
          [
           "l2arithmetic_mean0.1"
          ],
          [
           "l2arithmetic_mean0.2"
          ],
          [
           "l2arithmetic_mean0.3"
          ],
          [
           "l2arithmetic_mean0.4"
          ],
          [
           "l2arithmetic_mean0.5"
          ],
          [
           "l2arithmetic_mean0.6"
          ],
          [
           "l2arithmetic_mean0.7"
          ],
          [
           "l2arithmetic_mean0.8"
          ],
          [
           "l2arithmetic_mean0.9"
          ],
          [
           "l2arithmetic_mean1.0"
          ],
          [
           "l2geometric_mean0.0"
          ],
          [
           "l2geometric_mean0.1"
          ],
          [
           "l2geometric_mean0.2"
          ],
          [
           "l2geometric_mean0.3"
          ],
          [
           "l2geometric_mean0.4"
          ],
          [
           "l2geometric_mean0.5"
          ],
          [
           "l2geometric_mean0.6"
          ],
          [
           "l2geometric_mean0.7"
          ],
          [
           "l2geometric_mean0.8"
          ],
          [
           "l2geometric_mean0.9"
          ],
          [
           "l2geometric_mean1.0"
          ],
          [
           "l2harmonic_mean0.0"
          ],
          [
           "l2harmonic_mean0.1"
          ],
          [
           "l2harmonic_mean0.2"
          ],
          [
           "l2harmonic_mean0.3"
          ],
          [
           "l2harmonic_mean0.4"
          ],
          [
           "l2harmonic_mean0.5"
          ],
          [
           "l2harmonic_mean0.6"
          ],
          [
           "l2harmonic_mean0.7"
          ],
          [
           "l2harmonic_mean0.8"
          ],
          [
           "l2harmonic_mean0.9"
          ],
          [
           "l2harmonic_mean1.0"
          ],
          [
           "min_maxarithmetic_mean0.0"
          ],
          [
           "min_maxarithmetic_mean0.1"
          ],
          [
           "min_maxarithmetic_mean0.2"
          ],
          [
           "min_maxarithmetic_mean0.3"
          ],
          [
           "min_maxarithmetic_mean0.4"
          ],
          [
           "min_maxarithmetic_mean0.5"
          ],
          [
           "min_maxarithmetic_mean0.6"
          ],
          [
           "min_maxarithmetic_mean0.7"
          ],
          [
           "min_maxarithmetic_mean0.8"
          ],
          [
           "min_maxarithmetic_mean0.9"
          ],
          [
           "min_maxarithmetic_mean1.0"
          ],
          [
           "min_maxgeometric_mean0.0"
          ],
          [
           "min_maxgeometric_mean0.1"
          ],
          [
           "min_maxgeometric_mean0.2"
          ],
          [
           "min_maxgeometric_mean0.3"
          ],
          [
           "min_maxgeometric_mean0.4"
          ],
          [
           "min_maxgeometric_mean0.5"
          ],
          [
           "min_maxgeometric_mean0.6"
          ],
          [
           "min_maxgeometric_mean0.7"
          ],
          [
           "min_maxgeometric_mean0.8"
          ],
          [
           "min_maxgeometric_mean0.9"
          ],
          [
           "min_maxgeometric_mean1.0"
          ],
          [
           "min_maxharmonic_mean0.0"
          ],
          [
           "min_maxharmonic_mean0.1"
          ],
          [
           "min_maxharmonic_mean0.2"
          ],
          [
           "min_maxharmonic_mean0.3"
          ],
          [
           "min_maxharmonic_mean0.4"
          ],
          [
           "min_maxharmonic_mean0.5"
          ],
          [
           "min_maxharmonic_mean0.6"
          ],
          [
           "min_maxharmonic_mean0.7"
          ],
          [
           "min_maxharmonic_mean0.8"
          ],
          [
           "min_maxharmonic_mean0.9"
          ],
          [
           "min_maxharmonic_mean1.0"
          ]
         ],
         "hovertemplate": "NDCG=%{x}<br>Precision=%{y}<br>pipeline=%{customdata[0]}<extra></extra>",
         "legendgroup": "",
         "marker": {
          "color": "#636efa",
          "symbol": "circle"
         },
         "mode": "markers",
         "name": "",
         "orientation": "v",
         "showlegend": false,
         "type": "scatter",
         "x": [
          0.24,
          0.29,
          0.29,
          0.3,
          0.31,
          0.3,
          0.3,
          0.3,
          0.3,
          0.3,
          0.26,
          0.24,
          0.26,
          0.27,
          0.27,
          0.28,
          0.28,
          0.28,
          0.28,
          0.29,
          0.29,
          0.26,
          0.24,
          0.26,
          0.26,
          0.27,
          0.27,
          0.27,
          0.28,
          0.28,
          0.29,
          0.29,
          0.26,
          0.24,
          0.25,
          0.26,
          0.27,
          0.28,
          0.29,
          0.3,
          0.3,
          0.3,
          0.3,
          0.26,
          0.24,
          0.26,
          0.26,
          0.26,
          0.26,
          0.26,
          0.26,
          0.27,
          0.27,
          0.27,
          0.26,
          0.24,
          0.25,
          0.25,
          0.25,
          0.26,
          0.26,
          0.26,
          0.26,
          0.27,
          0.27,
          0.26
         ],
         "xaxis": "x",
         "y": [
          0.28,
          0.33,
          0.33,
          0.35,
          0.35,
          0.35,
          0.35,
          0.35,
          0.35,
          0.34,
          0.29,
          0.28,
          0.32,
          0.33,
          0.33,
          0.33,
          0.33,
          0.34,
          0.34,
          0.34,
          0.34,
          0.29,
          0.28,
          0.32,
          0.32,
          0.32,
          0.33,
          0.33,
          0.34,
          0.34,
          0.34,
          0.34,
          0.29,
          0.28,
          0.29,
          0.3,
          0.31,
          0.33,
          0.34,
          0.35,
          0.35,
          0.35,
          0.34,
          0.29,
          0.28,
          0.3,
          0.3,
          0.3,
          0.3,
          0.31,
          0.31,
          0.31,
          0.32,
          0.32,
          0.29,
          0.28,
          0.3,
          0.3,
          0.3,
          0.3,
          0.3,
          0.31,
          0.31,
          0.32,
          0.32,
          0.29
         ],
         "yaxis": "y"
        }
       ],
       "layout": {
        "autosize": true,
        "hovermode": "closest",
        "legend": {
         "tracegroupgap": 0
        },
        "margin": {
         "t": 60
        },
        "template": {
         "data": {
          "bar": [
           {
            "error_x": {
             "color": "#2a3f5f"
            },
            "error_y": {
             "color": "#2a3f5f"
            },
            "marker": {
             "line": {
              "color": "#E5ECF6",
              "width": 0.5
             },
             "pattern": {
              "fillmode": "overlay",
              "size": 10,
              "solidity": 0.2
             }
            },
            "type": "bar"
           }
          ],
          "barpolar": [
           {
            "marker": {
             "line": {
              "color": "#E5ECF6",
              "width": 0.5
             },
             "pattern": {
              "fillmode": "overlay",
              "size": 10,
              "solidity": 0.2
             }
            },
            "type": "barpolar"
           }
          ],
          "carpet": [
           {
            "aaxis": {
             "endlinecolor": "#2a3f5f",
             "gridcolor": "white",
             "linecolor": "white",
             "minorgridcolor": "white",
             "startlinecolor": "#2a3f5f"
            },
            "baxis": {
             "endlinecolor": "#2a3f5f",
             "gridcolor": "white",
             "linecolor": "white",
             "minorgridcolor": "white",
             "startlinecolor": "#2a3f5f"
            },
            "type": "carpet"
           }
          ],
          "choropleth": [
           {
            "colorbar": {
             "outlinewidth": 0,
             "ticks": ""
            },
            "type": "choropleth"
           }
          ],
          "contour": [
           {
            "colorbar": {
             "outlinewidth": 0,
             "ticks": ""
            },
            "colorscale": [
             [
              0,
              "#0d0887"
             ],
             [
              0.1111111111111111,
              "#46039f"
             ],
             [
              0.2222222222222222,
              "#7201a8"
             ],
             [
              0.3333333333333333,
              "#9c179e"
             ],
             [
              0.4444444444444444,
              "#bd3786"
             ],
             [
              0.5555555555555556,
              "#d8576b"
             ],
             [
              0.6666666666666666,
              "#ed7953"
             ],
             [
              0.7777777777777778,
              "#fb9f3a"
             ],
             [
              0.8888888888888888,
              "#fdca26"
             ],
             [
              1,
              "#f0f921"
             ]
            ],
            "type": "contour"
           }
          ],
          "contourcarpet": [
           {
            "colorbar": {
             "outlinewidth": 0,
             "ticks": ""
            },
            "type": "contourcarpet"
           }
          ],
          "heatmap": [
           {
            "colorbar": {
             "outlinewidth": 0,
             "ticks": ""
            },
            "colorscale": [
             [
              0,
              "#0d0887"
             ],
             [
              0.1111111111111111,
              "#46039f"
             ],
             [
              0.2222222222222222,
              "#7201a8"
             ],
             [
              0.3333333333333333,
              "#9c179e"
             ],
             [
              0.4444444444444444,
              "#bd3786"
             ],
             [
              0.5555555555555556,
              "#d8576b"
             ],
             [
              0.6666666666666666,
              "#ed7953"
             ],
             [
              0.7777777777777778,
              "#fb9f3a"
             ],
             [
              0.8888888888888888,
              "#fdca26"
             ],
             [
              1,
              "#f0f921"
             ]
            ],
            "type": "heatmap"
           }
          ],
          "heatmapgl": [
           {
            "colorbar": {
             "outlinewidth": 0,
             "ticks": ""
            },
            "colorscale": [
             [
              0,
              "#0d0887"
             ],
             [
              0.1111111111111111,
              "#46039f"
             ],
             [
              0.2222222222222222,
              "#7201a8"
             ],
             [
              0.3333333333333333,
              "#9c179e"
             ],
             [
              0.4444444444444444,
              "#bd3786"
             ],
             [
              0.5555555555555556,
              "#d8576b"
             ],
             [
              0.6666666666666666,
              "#ed7953"
             ],
             [
              0.7777777777777778,
              "#fb9f3a"
             ],
             [
              0.8888888888888888,
              "#fdca26"
             ],
             [
              1,
              "#f0f921"
             ]
            ],
            "type": "heatmapgl"
           }
          ],
          "histogram": [
           {
            "marker": {
             "pattern": {
              "fillmode": "overlay",
              "size": 10,
              "solidity": 0.2
             }
            },
            "type": "histogram"
           }
          ],
          "histogram2d": [
           {
            "colorbar": {
             "outlinewidth": 0,
             "ticks": ""
            },
            "colorscale": [
             [
              0,
              "#0d0887"
             ],
             [
              0.1111111111111111,
              "#46039f"
             ],
             [
              0.2222222222222222,
              "#7201a8"
             ],
             [
              0.3333333333333333,
              "#9c179e"
             ],
             [
              0.4444444444444444,
              "#bd3786"
             ],
             [
              0.5555555555555556,
              "#d8576b"
             ],
             [
              0.6666666666666666,
              "#ed7953"
             ],
             [
              0.7777777777777778,
              "#fb9f3a"
             ],
             [
              0.8888888888888888,
              "#fdca26"
             ],
             [
              1,
              "#f0f921"
             ]
            ],
            "type": "histogram2d"
           }
          ],
          "histogram2dcontour": [
           {
            "colorbar": {
             "outlinewidth": 0,
             "ticks": ""
            },
            "colorscale": [
             [
              0,
              "#0d0887"
             ],
             [
              0.1111111111111111,
              "#46039f"
             ],
             [
              0.2222222222222222,
              "#7201a8"
             ],
             [
              0.3333333333333333,
              "#9c179e"
             ],
             [
              0.4444444444444444,
              "#bd3786"
             ],
             [
              0.5555555555555556,
              "#d8576b"
             ],
             [
              0.6666666666666666,
              "#ed7953"
             ],
             [
              0.7777777777777778,
              "#fb9f3a"
             ],
             [
              0.8888888888888888,
              "#fdca26"
             ],
             [
              1,
              "#f0f921"
             ]
            ],
            "type": "histogram2dcontour"
           }
          ],
          "mesh3d": [
           {
            "colorbar": {
             "outlinewidth": 0,
             "ticks": ""
            },
            "type": "mesh3d"
           }
          ],
          "parcoords": [
           {
            "line": {
             "colorbar": {
              "outlinewidth": 0,
              "ticks": ""
             }
            },
            "type": "parcoords"
           }
          ],
          "pie": [
           {
            "automargin": true,
            "type": "pie"
           }
          ],
          "scatter": [
           {
            "fillpattern": {
             "fillmode": "overlay",
             "size": 10,
             "solidity": 0.2
            },
            "type": "scatter"
           }
          ],
          "scatter3d": [
           {
            "line": {
             "colorbar": {
              "outlinewidth": 0,
              "ticks": ""
             }
            },
            "marker": {
             "colorbar": {
              "outlinewidth": 0,
              "ticks": ""
             }
            },
            "type": "scatter3d"
           }
          ],
          "scattercarpet": [
           {
            "marker": {
             "colorbar": {
              "outlinewidth": 0,
              "ticks": ""
             }
            },
            "type": "scattercarpet"
           }
          ],
          "scattergeo": [
           {
            "marker": {
             "colorbar": {
              "outlinewidth": 0,
              "ticks": ""
             }
            },
            "type": "scattergeo"
           }
          ],
          "scattergl": [
           {
            "marker": {
             "colorbar": {
              "outlinewidth": 0,
              "ticks": ""
             }
            },
            "type": "scattergl"
           }
          ],
          "scattermapbox": [
           {
            "marker": {
             "colorbar": {
              "outlinewidth": 0,
              "ticks": ""
             }
            },
            "type": "scattermapbox"
           }
          ],
          "scatterpolar": [
           {
            "marker": {
             "colorbar": {
              "outlinewidth": 0,
              "ticks": ""
             }
            },
            "type": "scatterpolar"
           }
          ],
          "scatterpolargl": [
           {
            "marker": {
             "colorbar": {
              "outlinewidth": 0,
              "ticks": ""
             }
            },
            "type": "scatterpolargl"
           }
          ],
          "scatterternary": [
           {
            "marker": {
             "colorbar": {
              "outlinewidth": 0,
              "ticks": ""
             }
            },
            "type": "scatterternary"
           }
          ],
          "surface": [
           {
            "colorbar": {
             "outlinewidth": 0,
             "ticks": ""
            },
            "colorscale": [
             [
              0,
              "#0d0887"
             ],
             [
              0.1111111111111111,
              "#46039f"
             ],
             [
              0.2222222222222222,
              "#7201a8"
             ],
             [
              0.3333333333333333,
              "#9c179e"
             ],
             [
              0.4444444444444444,
              "#bd3786"
             ],
             [
              0.5555555555555556,
              "#d8576b"
             ],
             [
              0.6666666666666666,
              "#ed7953"
             ],
             [
              0.7777777777777778,
              "#fb9f3a"
             ],
             [
              0.8888888888888888,
              "#fdca26"
             ],
             [
              1,
              "#f0f921"
             ]
            ],
            "type": "surface"
           }
          ],
          "table": [
           {
            "cells": {
             "fill": {
              "color": "#EBF0F8"
             },
             "line": {
              "color": "white"
             }
            },
            "header": {
             "fill": {
              "color": "#C8D4E3"
             },
             "line": {
              "color": "white"
             }
            },
            "type": "table"
           }
          ]
         },
         "layout": {
          "annotationdefaults": {
           "arrowcolor": "#2a3f5f",
           "arrowhead": 0,
           "arrowwidth": 1
          },
          "autotypenumbers": "strict",
          "coloraxis": {
           "colorbar": {
            "outlinewidth": 0,
            "ticks": ""
           }
          },
          "colorscale": {
           "diverging": [
            [
             0,
             "#8e0152"
            ],
            [
             0.1,
             "#c51b7d"
            ],
            [
             0.2,
             "#de77ae"
            ],
            [
             0.3,
             "#f1b6da"
            ],
            [
             0.4,
             "#fde0ef"
            ],
            [
             0.5,
             "#f7f7f7"
            ],
            [
             0.6,
             "#e6f5d0"
            ],
            [
             0.7,
             "#b8e186"
            ],
            [
             0.8,
             "#7fbc41"
            ],
            [
             0.9,
             "#4d9221"
            ],
            [
             1,
             "#276419"
            ]
           ],
           "sequential": [
            [
             0,
             "#0d0887"
            ],
            [
             0.1111111111111111,
             "#46039f"
            ],
            [
             0.2222222222222222,
             "#7201a8"
            ],
            [
             0.3333333333333333,
             "#9c179e"
            ],
            [
             0.4444444444444444,
             "#bd3786"
            ],
            [
             0.5555555555555556,
             "#d8576b"
            ],
            [
             0.6666666666666666,
             "#ed7953"
            ],
            [
             0.7777777777777778,
             "#fb9f3a"
            ],
            [
             0.8888888888888888,
             "#fdca26"
            ],
            [
             1,
             "#f0f921"
            ]
           ],
           "sequentialminus": [
            [
             0,
             "#0d0887"
            ],
            [
             0.1111111111111111,
             "#46039f"
            ],
            [
             0.2222222222222222,
             "#7201a8"
            ],
            [
             0.3333333333333333,
             "#9c179e"
            ],
            [
             0.4444444444444444,
             "#bd3786"
            ],
            [
             0.5555555555555556,
             "#d8576b"
            ],
            [
             0.6666666666666666,
             "#ed7953"
            ],
            [
             0.7777777777777778,
             "#fb9f3a"
            ],
            [
             0.8888888888888888,
             "#fdca26"
            ],
            [
             1,
             "#f0f921"
            ]
           ]
          },
          "colorway": [
           "#636efa",
           "#EF553B",
           "#00cc96",
           "#ab63fa",
           "#FFA15A",
           "#19d3f3",
           "#FF6692",
           "#B6E880",
           "#FF97FF",
           "#FECB52"
          ],
          "font": {
           "color": "#2a3f5f"
          },
          "geo": {
           "bgcolor": "white",
           "lakecolor": "white",
           "landcolor": "#E5ECF6",
           "showlakes": true,
           "showland": true,
           "subunitcolor": "white"
          },
          "hoverlabel": {
           "align": "left"
          },
          "hovermode": "closest",
          "mapbox": {
           "style": "light"
          },
          "paper_bgcolor": "white",
          "plot_bgcolor": "#E5ECF6",
          "polar": {
           "angularaxis": {
            "gridcolor": "white",
            "linecolor": "white",
            "ticks": ""
           },
           "bgcolor": "#E5ECF6",
           "radialaxis": {
            "gridcolor": "white",
            "linecolor": "white",
            "ticks": ""
           }
          },
          "scene": {
           "xaxis": {
            "backgroundcolor": "#E5ECF6",
            "gridcolor": "white",
            "gridwidth": 2,
            "linecolor": "white",
            "showbackground": true,
            "ticks": "",
            "zerolinecolor": "white"
           },
           "yaxis": {
            "backgroundcolor": "#E5ECF6",
            "gridcolor": "white",
            "gridwidth": 2,
            "linecolor": "white",
            "showbackground": true,
            "ticks": "",
            "zerolinecolor": "white"
           },
           "zaxis": {
            "backgroundcolor": "#E5ECF6",
            "gridcolor": "white",
            "gridwidth": 2,
            "linecolor": "white",
            "showbackground": true,
            "ticks": "",
            "zerolinecolor": "white"
           }
          },
          "shapedefaults": {
           "line": {
            "color": "#2a3f5f"
           }
          },
          "ternary": {
           "aaxis": {
            "gridcolor": "white",
            "linecolor": "white",
            "ticks": ""
           },
           "baxis": {
            "gridcolor": "white",
            "linecolor": "white",
            "ticks": ""
           },
           "bgcolor": "#E5ECF6",
           "caxis": {
            "gridcolor": "white",
            "linecolor": "white",
            "ticks": ""
           }
          },
          "title": {
           "x": 0.05
          },
          "xaxis": {
           "automargin": true,
           "gridcolor": "white",
           "linecolor": "white",
           "ticks": "",
           "title": {
            "standoff": 15
           },
           "zerolinecolor": "white",
           "zerolinewidth": 2
          },
          "yaxis": {
           "automargin": true,
           "gridcolor": "white",
           "linecolor": "white",
           "ticks": "",
           "title": {
            "standoff": 15
           },
           "zerolinecolor": "white",
           "zerolinewidth": 2
          }
         }
        },
        "title": {
         "text": "Scatterplot of NDCG vs Precision"
        },
        "xaxis": {
         "anchor": "y",
         "autorange": true,
         "domain": [
          0,
          1
         ],
         "range": [
          0.23550156739811912,
          0.3144984326018809
         ],
         "title": {
          "text": "NDCG"
         },
         "type": "linear"
        },
        "yaxis": {
         "anchor": "x",
         "autorange": true,
         "domain": [
          0,
          1
         ],
         "range": [
          0.27458005249343836,
          0.35541994750656164
         ],
         "title": {
          "text": "Precision"
         },
         "type": "linear"
        }
       }
      }
     },
     "metadata": {},
     "output_type": "display_data"
    }
   ],
   "source": [
    "pio.renderers.default = 'plotly_mimetype'\n",
    "fig = px.scatter(df_metrics_per_pipeline, \n",
    "                 x='ndcg', y='prec@10', \n",
    "                 hover_data={'pipeline': True},  # Show query on hover\n",
    "                 labels={'ndcg': 'NDCG', 'prec@10': 'Precision'})\n",
    "\n",
    "# Customize the layout\n",
    "fig.update_layout(title=\"Scatterplot of NDCG vs Precision\",\n",
    "                  xaxis_title=\"NDCG\",\n",
    "                  yaxis_title=\"Precision\",\n",
    "                  hovermode=\"closest\")\n",
    "\n",
    "# Show the plot\n",
    "fig.show()"
   ]
  },
  {
   "cell_type": "markdown",
   "id": "dcfac8f7-38f5-4f15-804e-5405a4ddd52b",
   "metadata": {},
   "source": [
    "## Dismiss `NaNs` (non-standard aggregation of DCG to address issue of missing judgments)\n",
    "1. We remove all query-doc pairs with missing judgements\n",
    "2. We calculate the average DCG over all query-doc DCG values instead of averaging over the query-aggregated values"
   ]
  },
  {
   "cell_type": "code",
   "execution_count": 70,
   "id": "1fcce0ff-2bae-4c52-8eb8-819ba63f5ccd",
   "metadata": {},
   "outputs": [
    {
     "data": {
      "text/plain": [
       "126135"
      ]
     },
     "execution_count": 70,
     "metadata": {},
     "output_type": "execute_result"
    }
   ],
   "source": [
    "df_no_nans = df.dropna(subset=['rating'])\n",
    "df_no_nans.shape[0]"
   ]
  },
  {
   "cell_type": "code",
   "execution_count": 71,
   "id": "e6c9b2f1-df28-4725-9735-22a48b86cb4f",
   "metadata": {},
   "outputs": [],
   "source": [
    "# query-document metrics (aggregation happens at query and document)\n",
    "\n",
    "# Not quite dcg as the computation does not happen at query granularity\n",
    "qd_metrics = [(\"sum_dcg\", np.sum), (\"mean_dcg\", np.mean)]\n",
    "\n",
    "df_no_nans = df_no_nans[df_no_nans.position<10]\n",
    "\n",
    "df_qd_metrics = []\n",
    "for config in search_configs:\n",
    "    for name, agg_fun in qd_metrics:\n",
    "        ddf = df_no_nans[df_no_nans['run'] == config]\n",
    "        metric = agg_fun(2.0 ** (ddf['rating'] - 1) / np.log2(ddf['position'] + 2))\n",
    "        df_qd_metrics.append(pd.DataFrame({\n",
    "            \"pipeline\": [config],\n",
    "            \"metric\": [name],\n",
    "            \"value\": [metric],\n",
    "            \"judgements\": df_no_nans[df_no_nans['run'] == config].shape[0],\n",
    "            \"mising\": df[(df['run'] == config) & (df['rating'].isna())].shape[0],\n",
    "            \"ratio\": (df_no_nans[df_no_nans['run'] == config].shape[0])/(df[df['run'] == config].shape[0]),\n",
    "        }))\n",
    "df_qd_metrics = pd.concat(df_qd_metrics)"
   ]
  },
  {
   "cell_type": "code",
   "execution_count": 72,
   "id": "20526768-f3c2-45ed-9afa-8b60b22095b4",
   "metadata": {},
   "outputs": [
    {
     "data": {
      "text/html": [
       "<div>\n",
       "<style scoped>\n",
       "    .dataframe tbody tr th:only-of-type {\n",
       "        vertical-align: middle;\n",
       "    }\n",
       "\n",
       "    .dataframe tbody tr th {\n",
       "        vertical-align: top;\n",
       "    }\n",
       "\n",
       "    .dataframe thead th {\n",
       "        text-align: right;\n",
       "    }\n",
       "</style>\n",
       "<table border=\"1\" class=\"dataframe\">\n",
       "  <thead>\n",
       "    <tr style=\"text-align: right;\">\n",
       "      <th></th>\n",
       "      <th>pipeline</th>\n",
       "      <th>metric</th>\n",
       "      <th>value</th>\n",
       "      <th>judgements</th>\n",
       "      <th>mising</th>\n",
       "      <th>ratio</th>\n",
       "    </tr>\n",
       "  </thead>\n",
       "  <tbody>\n",
       "    <tr>\n",
       "      <th>0</th>\n",
       "      <td>min_maxarithmetic_mean0.0</td>\n",
       "      <td>sum_dcg</td>\n",
       "      <td>1163.316628</td>\n",
       "      <td>636</td>\n",
       "      <td>20293</td>\n",
       "      <td>0.028909</td>\n",
       "    </tr>\n",
       "    <tr>\n",
       "      <th>0</th>\n",
       "      <td>min_maxarithmetic_mean0.0</td>\n",
       "      <td>mean_dcg</td>\n",
       "      <td>1.829114</td>\n",
       "      <td>636</td>\n",
       "      <td>20293</td>\n",
       "      <td>0.028909</td>\n",
       "    </tr>\n",
       "    <tr>\n",
       "      <th>0</th>\n",
       "      <td>min_maxarithmetic_mean0.1</td>\n",
       "      <td>sum_dcg</td>\n",
       "      <td>1203.937049</td>\n",
       "      <td>658</td>\n",
       "      <td>20044</td>\n",
       "      <td>0.029909</td>\n",
       "    </tr>\n",
       "    <tr>\n",
       "      <th>0</th>\n",
       "      <td>min_maxarithmetic_mean0.1</td>\n",
       "      <td>mean_dcg</td>\n",
       "      <td>1.829692</td>\n",
       "      <td>658</td>\n",
       "      <td>20044</td>\n",
       "      <td>0.029909</td>\n",
       "    </tr>\n",
       "    <tr>\n",
       "      <th>0</th>\n",
       "      <td>min_maxarithmetic_mean0.2</td>\n",
       "      <td>sum_dcg</td>\n",
       "      <td>1249.670778</td>\n",
       "      <td>681</td>\n",
       "      <td>20037</td>\n",
       "      <td>0.030955</td>\n",
       "    </tr>\n",
       "    <tr>\n",
       "      <th>...</th>\n",
       "      <td>...</td>\n",
       "      <td>...</td>\n",
       "      <td>...</td>\n",
       "      <td>...</td>\n",
       "      <td>...</td>\n",
       "      <td>...</td>\n",
       "    </tr>\n",
       "    <tr>\n",
       "      <th>0</th>\n",
       "      <td>l2geometric_mean0.8</td>\n",
       "      <td>mean_dcg</td>\n",
       "      <td>1.811826</td>\n",
       "      <td>779</td>\n",
       "      <td>20088</td>\n",
       "      <td>0.035409</td>\n",
       "    </tr>\n",
       "    <tr>\n",
       "      <th>0</th>\n",
       "      <td>l2geometric_mean0.9</td>\n",
       "      <td>sum_dcg</td>\n",
       "      <td>1425.654219</td>\n",
       "      <td>780</td>\n",
       "      <td>20090</td>\n",
       "      <td>0.035455</td>\n",
       "    </tr>\n",
       "    <tr>\n",
       "      <th>0</th>\n",
       "      <td>l2geometric_mean0.9</td>\n",
       "      <td>mean_dcg</td>\n",
       "      <td>1.827762</td>\n",
       "      <td>780</td>\n",
       "      <td>20090</td>\n",
       "      <td>0.035455</td>\n",
       "    </tr>\n",
       "    <tr>\n",
       "      <th>0</th>\n",
       "      <td>l2geometric_mean1.0</td>\n",
       "      <td>sum_dcg</td>\n",
       "      <td>1242.375952</td>\n",
       "      <td>664</td>\n",
       "      <td>20078</td>\n",
       "      <td>0.030182</td>\n",
       "    </tr>\n",
       "    <tr>\n",
       "      <th>0</th>\n",
       "      <td>l2geometric_mean1.0</td>\n",
       "      <td>mean_dcg</td>\n",
       "      <td>1.871048</td>\n",
       "      <td>664</td>\n",
       "      <td>20078</td>\n",
       "      <td>0.030182</td>\n",
       "    </tr>\n",
       "  </tbody>\n",
       "</table>\n",
       "<p>132 rows × 6 columns</p>\n",
       "</div>"
      ],
      "text/plain": [
       "                     pipeline    metric        value  judgements  mising  \\\n",
       "0   min_maxarithmetic_mean0.0   sum_dcg  1163.316628         636   20293   \n",
       "0   min_maxarithmetic_mean0.0  mean_dcg     1.829114         636   20293   \n",
       "0   min_maxarithmetic_mean0.1   sum_dcg  1203.937049         658   20044   \n",
       "0   min_maxarithmetic_mean0.1  mean_dcg     1.829692         658   20044   \n",
       "0   min_maxarithmetic_mean0.2   sum_dcg  1249.670778         681   20037   \n",
       "..                        ...       ...          ...         ...     ...   \n",
       "0         l2geometric_mean0.8  mean_dcg     1.811826         779   20088   \n",
       "0         l2geometric_mean0.9   sum_dcg  1425.654219         780   20090   \n",
       "0         l2geometric_mean0.9  mean_dcg     1.827762         780   20090   \n",
       "0         l2geometric_mean1.0   sum_dcg  1242.375952         664   20078   \n",
       "0         l2geometric_mean1.0  mean_dcg     1.871048         664   20078   \n",
       "\n",
       "       ratio  \n",
       "0   0.028909  \n",
       "0   0.028909  \n",
       "0   0.029909  \n",
       "0   0.029909  \n",
       "0   0.030955  \n",
       "..       ...  \n",
       "0   0.035409  \n",
       "0   0.035455  \n",
       "0   0.035455  \n",
       "0   0.030182  \n",
       "0   0.030182  \n",
       "\n",
       "[132 rows x 6 columns]"
      ]
     },
     "execution_count": 72,
     "metadata": {},
     "output_type": "execute_result"
    }
   ],
   "source": [
    "df_qd_metrics"
   ]
  },
  {
   "cell_type": "markdown",
   "id": "2b70baca-c698-43c2-868f-62513bce5eb4",
   "metadata": {},
   "source": [
    "### Top five Pipelines by DCG@10 Descending"
   ]
  },
  {
   "cell_type": "code",
   "execution_count": 73,
   "id": "5abf4434-fe81-4c9b-95d0-6ca3c7bb2a73",
   "metadata": {},
   "outputs": [
    {
     "data": {
      "text/html": [
       "<div>\n",
       "<style scoped>\n",
       "    .dataframe tbody tr th:only-of-type {\n",
       "        vertical-align: middle;\n",
       "    }\n",
       "\n",
       "    .dataframe tbody tr th {\n",
       "        vertical-align: top;\n",
       "    }\n",
       "\n",
       "    .dataframe thead th {\n",
       "        text-align: right;\n",
       "    }\n",
       "</style>\n",
       "<table border=\"1\" class=\"dataframe\">\n",
       "  <thead>\n",
       "    <tr style=\"text-align: right;\">\n",
       "      <th></th>\n",
       "      <th>pipeline</th>\n",
       "      <th>metric</th>\n",
       "      <th>value</th>\n",
       "      <th>judgements</th>\n",
       "      <th>mising</th>\n",
       "      <th>ratio</th>\n",
       "    </tr>\n",
       "  </thead>\n",
       "  <tbody>\n",
       "    <tr>\n",
       "      <th>0</th>\n",
       "      <td>l2arithmetic_mean0.4</td>\n",
       "      <td>sum_dcg</td>\n",
       "      <td>1482.169436</td>\n",
       "      <td>808</td>\n",
       "      <td>20124</td>\n",
       "      <td>0.036727</td>\n",
       "    </tr>\n",
       "    <tr>\n",
       "      <th>0</th>\n",
       "      <td>l2arithmetic_mean0.5</td>\n",
       "      <td>sum_dcg</td>\n",
       "      <td>1479.240959</td>\n",
       "      <td>805</td>\n",
       "      <td>20030</td>\n",
       "      <td>0.036591</td>\n",
       "    </tr>\n",
       "    <tr>\n",
       "      <th>0</th>\n",
       "      <td>min_maxarithmetic_mean0.6</td>\n",
       "      <td>sum_dcg</td>\n",
       "      <td>1478.913637</td>\n",
       "      <td>800</td>\n",
       "      <td>20027</td>\n",
       "      <td>0.036364</td>\n",
       "    </tr>\n",
       "    <tr>\n",
       "      <th>0</th>\n",
       "      <td>l2arithmetic_mean0.3</td>\n",
       "      <td>sum_dcg</td>\n",
       "      <td>1478.069707</td>\n",
       "      <td>798</td>\n",
       "      <td>20204</td>\n",
       "      <td>0.036273</td>\n",
       "    </tr>\n",
       "    <tr>\n",
       "      <th>0</th>\n",
       "      <td>l2arithmetic_mean0.6</td>\n",
       "      <td>sum_dcg</td>\n",
       "      <td>1476.480500</td>\n",
       "      <td>800</td>\n",
       "      <td>20031</td>\n",
       "      <td>0.036364</td>\n",
       "    </tr>\n",
       "    <tr>\n",
       "      <th>0</th>\n",
       "      <td>l2arithmetic_mean0.7</td>\n",
       "      <td>sum_dcg</td>\n",
       "      <td>1473.538672</td>\n",
       "      <td>795</td>\n",
       "      <td>20034</td>\n",
       "      <td>0.036136</td>\n",
       "    </tr>\n",
       "    <tr>\n",
       "      <th>0</th>\n",
       "      <td>min_maxarithmetic_mean0.7</td>\n",
       "      <td>sum_dcg</td>\n",
       "      <td>1471.700989</td>\n",
       "      <td>808</td>\n",
       "      <td>20026</td>\n",
       "      <td>0.036727</td>\n",
       "    </tr>\n",
       "    <tr>\n",
       "      <th>0</th>\n",
       "      <td>l2arithmetic_mean0.8</td>\n",
       "      <td>sum_dcg</td>\n",
       "      <td>1466.764249</td>\n",
       "      <td>791</td>\n",
       "      <td>20040</td>\n",
       "      <td>0.035955</td>\n",
       "    </tr>\n",
       "    <tr>\n",
       "      <th>0</th>\n",
       "      <td>min_maxarithmetic_mean0.8</td>\n",
       "      <td>sum_dcg</td>\n",
       "      <td>1458.834302</td>\n",
       "      <td>797</td>\n",
       "      <td>20021</td>\n",
       "      <td>0.036227</td>\n",
       "    </tr>\n",
       "    <tr>\n",
       "      <th>0</th>\n",
       "      <td>l2arithmetic_mean0.9</td>\n",
       "      <td>sum_dcg</td>\n",
       "      <td>1452.871009</td>\n",
       "      <td>786</td>\n",
       "      <td>20048</td>\n",
       "      <td>0.035727</td>\n",
       "    </tr>\n",
       "  </tbody>\n",
       "</table>\n",
       "</div>"
      ],
      "text/plain": [
       "                    pipeline   metric        value  judgements  mising  \\\n",
       "0       l2arithmetic_mean0.4  sum_dcg  1482.169436         808   20124   \n",
       "0       l2arithmetic_mean0.5  sum_dcg  1479.240959         805   20030   \n",
       "0  min_maxarithmetic_mean0.6  sum_dcg  1478.913637         800   20027   \n",
       "0       l2arithmetic_mean0.3  sum_dcg  1478.069707         798   20204   \n",
       "0       l2arithmetic_mean0.6  sum_dcg  1476.480500         800   20031   \n",
       "0       l2arithmetic_mean0.7  sum_dcg  1473.538672         795   20034   \n",
       "0  min_maxarithmetic_mean0.7  sum_dcg  1471.700989         808   20026   \n",
       "0       l2arithmetic_mean0.8  sum_dcg  1466.764249         791   20040   \n",
       "0  min_maxarithmetic_mean0.8  sum_dcg  1458.834302         797   20021   \n",
       "0       l2arithmetic_mean0.9  sum_dcg  1452.871009         786   20048   \n",
       "\n",
       "      ratio  \n",
       "0  0.036727  \n",
       "0  0.036591  \n",
       "0  0.036364  \n",
       "0  0.036273  \n",
       "0  0.036364  \n",
       "0  0.036136  \n",
       "0  0.036727  \n",
       "0  0.035955  \n",
       "0  0.036227  \n",
       "0  0.035727  "
      ]
     },
     "execution_count": 73,
     "metadata": {},
     "output_type": "execute_result"
    }
   ],
   "source": [
    "df_qd_metrics[df_qd_metrics['metric'] == 'sum_dcg'].sort_values(by='value', ascending=False).head(10)"
   ]
  },
  {
   "cell_type": "code",
   "execution_count": 74,
   "id": "0fcda1dd-1fb9-4daf-87f7-24800a82f07a",
   "metadata": {},
   "outputs": [
    {
     "data": {
      "text/html": [
       "<div>\n",
       "<style scoped>\n",
       "    .dataframe tbody tr th:only-of-type {\n",
       "        vertical-align: middle;\n",
       "    }\n",
       "\n",
       "    .dataframe tbody tr th {\n",
       "        vertical-align: top;\n",
       "    }\n",
       "\n",
       "    .dataframe thead th {\n",
       "        text-align: right;\n",
       "    }\n",
       "</style>\n",
       "<table border=\"1\" class=\"dataframe\">\n",
       "  <thead>\n",
       "    <tr style=\"text-align: right;\">\n",
       "      <th></th>\n",
       "      <th>pipeline</th>\n",
       "      <th>metric</th>\n",
       "      <th>value</th>\n",
       "      <th>judgements</th>\n",
       "      <th>mising</th>\n",
       "      <th>ratio</th>\n",
       "    </tr>\n",
       "  </thead>\n",
       "  <tbody>\n",
       "    <tr>\n",
       "      <th>0</th>\n",
       "      <td>l2arithmetic_mean0.2</td>\n",
       "      <td>mean_dcg</td>\n",
       "      <td>1.872679</td>\n",
       "      <td>750</td>\n",
       "      <td>20278</td>\n",
       "      <td>0.034091</td>\n",
       "    </tr>\n",
       "    <tr>\n",
       "      <th>0</th>\n",
       "      <td>l2geometric_mean1.0</td>\n",
       "      <td>mean_dcg</td>\n",
       "      <td>1.871048</td>\n",
       "      <td>664</td>\n",
       "      <td>20078</td>\n",
       "      <td>0.030182</td>\n",
       "    </tr>\n",
       "    <tr>\n",
       "      <th>0</th>\n",
       "      <td>min_maxarithmetic_mean1.0</td>\n",
       "      <td>mean_dcg</td>\n",
       "      <td>1.871048</td>\n",
       "      <td>664</td>\n",
       "      <td>20078</td>\n",
       "      <td>0.030182</td>\n",
       "    </tr>\n",
       "    <tr>\n",
       "      <th>0</th>\n",
       "      <td>l2arithmetic_mean1.0</td>\n",
       "      <td>mean_dcg</td>\n",
       "      <td>1.871048</td>\n",
       "      <td>664</td>\n",
       "      <td>20078</td>\n",
       "      <td>0.030182</td>\n",
       "    </tr>\n",
       "    <tr>\n",
       "      <th>0</th>\n",
       "      <td>min_maxgeometric_mean1.0</td>\n",
       "      <td>mean_dcg</td>\n",
       "      <td>1.871048</td>\n",
       "      <td>664</td>\n",
       "      <td>20078</td>\n",
       "      <td>0.030182</td>\n",
       "    </tr>\n",
       "    <tr>\n",
       "      <th>0</th>\n",
       "      <td>l2harmonic_mean1.0</td>\n",
       "      <td>mean_dcg</td>\n",
       "      <td>1.871048</td>\n",
       "      <td>664</td>\n",
       "      <td>20078</td>\n",
       "      <td>0.030182</td>\n",
       "    </tr>\n",
       "    <tr>\n",
       "      <th>0</th>\n",
       "      <td>min_maxharmonic_mean1.0</td>\n",
       "      <td>mean_dcg</td>\n",
       "      <td>1.871048</td>\n",
       "      <td>664</td>\n",
       "      <td>20078</td>\n",
       "      <td>0.030182</td>\n",
       "    </tr>\n",
       "    <tr>\n",
       "      <th>0</th>\n",
       "      <td>l2arithmetic_mean0.1</td>\n",
       "      <td>mean_dcg</td>\n",
       "      <td>1.857221</td>\n",
       "      <td>747</td>\n",
       "      <td>20291</td>\n",
       "      <td>0.033955</td>\n",
       "    </tr>\n",
       "    <tr>\n",
       "      <th>0</th>\n",
       "      <td>l2arithmetic_mean0.8</td>\n",
       "      <td>mean_dcg</td>\n",
       "      <td>1.854316</td>\n",
       "      <td>791</td>\n",
       "      <td>20040</td>\n",
       "      <td>0.035955</td>\n",
       "    </tr>\n",
       "    <tr>\n",
       "      <th>0</th>\n",
       "      <td>l2arithmetic_mean0.7</td>\n",
       "      <td>mean_dcg</td>\n",
       "      <td>1.853508</td>\n",
       "      <td>795</td>\n",
       "      <td>20034</td>\n",
       "      <td>0.036136</td>\n",
       "    </tr>\n",
       "  </tbody>\n",
       "</table>\n",
       "</div>"
      ],
      "text/plain": [
       "                    pipeline    metric     value  judgements  mising     ratio\n",
       "0       l2arithmetic_mean0.2  mean_dcg  1.872679         750   20278  0.034091\n",
       "0        l2geometric_mean1.0  mean_dcg  1.871048         664   20078  0.030182\n",
       "0  min_maxarithmetic_mean1.0  mean_dcg  1.871048         664   20078  0.030182\n",
       "0       l2arithmetic_mean1.0  mean_dcg  1.871048         664   20078  0.030182\n",
       "0   min_maxgeometric_mean1.0  mean_dcg  1.871048         664   20078  0.030182\n",
       "0         l2harmonic_mean1.0  mean_dcg  1.871048         664   20078  0.030182\n",
       "0    min_maxharmonic_mean1.0  mean_dcg  1.871048         664   20078  0.030182\n",
       "0       l2arithmetic_mean0.1  mean_dcg  1.857221         747   20291  0.033955\n",
       "0       l2arithmetic_mean0.8  mean_dcg  1.854316         791   20040  0.035955\n",
       "0       l2arithmetic_mean0.7  mean_dcg  1.853508         795   20034  0.036136"
      ]
     },
     "execution_count": 74,
     "metadata": {},
     "output_type": "execute_result"
    }
   ],
   "source": [
    "df_qd_metrics[df_qd_metrics['metric'] == 'mean_dcg'].sort_values(by='value', ascending=False).head(10)"
   ]
  },
  {
   "cell_type": "markdown",
   "id": "797fc70b-4704-4780-8643-a8a3b881b2a8",
   "metadata": {},
   "source": [
    "## Visualization\n",
    "\n",
    "### Scatterplot that shows DCG values vs ratio of existing judgements"
   ]
  },
  {
   "cell_type": "code",
   "execution_count": 75,
   "id": "f85388a7-6a56-4dea-9b1c-fb10614f0772",
   "metadata": {},
   "outputs": [],
   "source": [
    "df_metrics.reset_index(drop=True, inplace=True)"
   ]
  },
  {
   "cell_type": "code",
   "execution_count": 89,
   "id": "6bff8f57-b95b-46b9-a38d-b5a18e1c54a4",
   "metadata": {},
   "outputs": [
    {
     "data": {
      "application/vnd.plotly.v1+json": {
       "config": {
        "plotlyServerURL": "https://plot.ly"
       },
       "data": [
        {
         "customdata": [
          [
           "min_maxarithmetic_mean0.0"
          ],
          [
           "min_maxarithmetic_mean0.1"
          ],
          [
           "min_maxarithmetic_mean0.2"
          ],
          [
           "min_maxarithmetic_mean0.3"
          ],
          [
           "min_maxarithmetic_mean0.4"
          ],
          [
           "min_maxarithmetic_mean0.5"
          ],
          [
           "min_maxarithmetic_mean0.6"
          ],
          [
           "min_maxarithmetic_mean0.7"
          ],
          [
           "min_maxarithmetic_mean0.8"
          ],
          [
           "min_maxarithmetic_mean0.9"
          ],
          [
           "min_maxarithmetic_mean1.0"
          ],
          [
           "min_maxharmonic_mean0.0"
          ],
          [
           "min_maxharmonic_mean0.1"
          ],
          [
           "min_maxharmonic_mean0.2"
          ],
          [
           "min_maxharmonic_mean0.3"
          ],
          [
           "min_maxharmonic_mean0.4"
          ],
          [
           "min_maxharmonic_mean0.5"
          ],
          [
           "min_maxharmonic_mean0.6"
          ],
          [
           "min_maxharmonic_mean0.7"
          ],
          [
           "min_maxharmonic_mean0.8"
          ],
          [
           "min_maxharmonic_mean0.9"
          ],
          [
           "min_maxharmonic_mean1.0"
          ],
          [
           "min_maxgeometric_mean0.0"
          ],
          [
           "min_maxgeometric_mean0.1"
          ],
          [
           "min_maxgeometric_mean0.2"
          ],
          [
           "min_maxgeometric_mean0.3"
          ],
          [
           "min_maxgeometric_mean0.4"
          ],
          [
           "min_maxgeometric_mean0.5"
          ],
          [
           "min_maxgeometric_mean0.6"
          ],
          [
           "min_maxgeometric_mean0.7"
          ],
          [
           "min_maxgeometric_mean0.8"
          ],
          [
           "min_maxgeometric_mean0.9"
          ],
          [
           "min_maxgeometric_mean1.0"
          ],
          [
           "l2arithmetic_mean0.0"
          ],
          [
           "l2arithmetic_mean0.1"
          ],
          [
           "l2arithmetic_mean0.2"
          ],
          [
           "l2arithmetic_mean0.3"
          ],
          [
           "l2arithmetic_mean0.4"
          ],
          [
           "l2arithmetic_mean0.5"
          ],
          [
           "l2arithmetic_mean0.6"
          ],
          [
           "l2arithmetic_mean0.7"
          ],
          [
           "l2arithmetic_mean0.8"
          ],
          [
           "l2arithmetic_mean0.9"
          ],
          [
           "l2arithmetic_mean1.0"
          ],
          [
           "l2harmonic_mean0.0"
          ],
          [
           "l2harmonic_mean0.1"
          ],
          [
           "l2harmonic_mean0.2"
          ],
          [
           "l2harmonic_mean0.3"
          ],
          [
           "l2harmonic_mean0.4"
          ],
          [
           "l2harmonic_mean0.5"
          ],
          [
           "l2harmonic_mean0.6"
          ],
          [
           "l2harmonic_mean0.7"
          ],
          [
           "l2harmonic_mean0.8"
          ],
          [
           "l2harmonic_mean0.9"
          ],
          [
           "l2harmonic_mean1.0"
          ],
          [
           "l2geometric_mean0.0"
          ],
          [
           "l2geometric_mean0.1"
          ],
          [
           "l2geometric_mean0.2"
          ],
          [
           "l2geometric_mean0.3"
          ],
          [
           "l2geometric_mean0.4"
          ],
          [
           "l2geometric_mean0.5"
          ],
          [
           "l2geometric_mean0.6"
          ],
          [
           "l2geometric_mean0.7"
          ],
          [
           "l2geometric_mean0.8"
          ],
          [
           "l2geometric_mean0.9"
          ],
          [
           "l2geometric_mean1.0"
          ]
         ],
         "hovertemplate": "DCG=%{x}<br>Ratio Of Available Judgements=%{y}<br>pipeline=%{customdata[0]}<extra></extra>",
         "legendgroup": "",
         "marker": {
          "color": "#636efa",
          "symbol": "circle"
         },
         "mode": "markers",
         "name": "",
         "orientation": "v",
         "showlegend": false,
         "type": "scatter",
         "x": [
          1163.3166280307073,
          1203.9370490923297,
          1249.6707784669472,
          1308.6335310649872,
          1378.917248417762,
          1432.6494456704634,
          1478.913637038761,
          1471.700989457097,
          1458.8343017087577,
          1447.62347755165,
          1242.3759520390417,
          1163.3166280307073,
          1234.9662617288095,
          1238.2204818045032,
          1242.250084721331,
          1250.1775284493378,
          1258.4850855905233,
          1263.8318874446732,
          1277.720390384487,
          1293.9361040301774,
          1316.8279124815267,
          1242.3759520390417,
          1163.3166280307073,
          1249.175980876113,
          1244.0638547398703,
          1249.9779311224208,
          1260.1083584730939,
          1272.521202612696,
          1281.3082415507115,
          1291.050112113193,
          1307.5954532247988,
          1323.5076604966462,
          1242.3759520390417,
          1163.3166280307073,
          1387.344304471424,
          1404.5095358768258,
          1478.0697073768747,
          1482.169436163822,
          1479.2409587482716,
          1476.4804998190998,
          1473.5386720173674,
          1466.7642491813765,
          1452.8710085221078,
          1242.3759520390417,
          1163.3166280307073,
          1270.2580544631833,
          1295.3572445215264,
          1308.758387769093,
          1321.2052219615543,
          1339.0558760031054,
          1362.23652872084,
          1381.2944706668395,
          1390.747828726331,
          1422.8975593619593,
          1242.3759520390417,
          1163.3166280307073,
          1286.6995529211074,
          1313.3600045755145,
          1330.4762869880283,
          1344.1901518218315,
          1360.1814771073243,
          1373.739396176199,
          1386.9414463480057,
          1411.4123651505802,
          1425.654218710577,
          1242.3759520390417
         ],
         "xaxis": "x",
         "y": [
          0.02890909090909091,
          0.02990909090909091,
          0.030954545454545453,
          0.03245454545454545,
          0.034227272727272724,
          0.03540909090909091,
          0.03636363636363636,
          0.036727272727272726,
          0.036227272727272726,
          0.03581818181818182,
          0.03018181818181818,
          0.02890909090909091,
          0.03109090909090909,
          0.03109090909090909,
          0.031181818181818182,
          0.03131818181818182,
          0.03159090909090909,
          0.03195454545454546,
          0.032363636363636365,
          0.03309090909090909,
          0.033545454545454545,
          0.03018181818181818,
          0.02890909090909091,
          0.03154545454545454,
          0.03127272727272727,
          0.03145454545454546,
          0.031636363636363636,
          0.032,
          0.03245454545454545,
          0.03268181818181818,
          0.03345454545454545,
          0.03368181818181818,
          0.03018181818181818,
          0.02890909090909091,
          0.03395454545454545,
          0.03409090909090909,
          0.036272727272727276,
          0.036727272727272726,
          0.03659090909090909,
          0.03636363636363636,
          0.03613636363636363,
          0.035954545454545454,
          0.035727272727272726,
          0.03018181818181818,
          0.02890909090909091,
          0.032863636363636366,
          0.03345454545454545,
          0.03368181818181818,
          0.034272727272727274,
          0.03463636363636364,
          0.035,
          0.03509090909090909,
          0.03513636363636364,
          0.0355,
          0.03018181818181818,
          0.02890909090909091,
          0.03327272727272727,
          0.033772727272727274,
          0.034272727272727274,
          0.03440909090909091,
          0.034772727272727275,
          0.035045454545454546,
          0.03513636363636364,
          0.03540909090909091,
          0.035454545454545454,
          0.03018181818181818
         ],
         "yaxis": "y"
        }
       ],
       "layout": {
        "autosize": true,
        "hovermode": "closest",
        "legend": {
         "tracegroupgap": 0
        },
        "margin": {
         "t": 60
        },
        "template": {
         "data": {
          "bar": [
           {
            "error_x": {
             "color": "#2a3f5f"
            },
            "error_y": {
             "color": "#2a3f5f"
            },
            "marker": {
             "line": {
              "color": "#E5ECF6",
              "width": 0.5
             },
             "pattern": {
              "fillmode": "overlay",
              "size": 10,
              "solidity": 0.2
             }
            },
            "type": "bar"
           }
          ],
          "barpolar": [
           {
            "marker": {
             "line": {
              "color": "#E5ECF6",
              "width": 0.5
             },
             "pattern": {
              "fillmode": "overlay",
              "size": 10,
              "solidity": 0.2
             }
            },
            "type": "barpolar"
           }
          ],
          "carpet": [
           {
            "aaxis": {
             "endlinecolor": "#2a3f5f",
             "gridcolor": "white",
             "linecolor": "white",
             "minorgridcolor": "white",
             "startlinecolor": "#2a3f5f"
            },
            "baxis": {
             "endlinecolor": "#2a3f5f",
             "gridcolor": "white",
             "linecolor": "white",
             "minorgridcolor": "white",
             "startlinecolor": "#2a3f5f"
            },
            "type": "carpet"
           }
          ],
          "choropleth": [
           {
            "colorbar": {
             "outlinewidth": 0,
             "ticks": ""
            },
            "type": "choropleth"
           }
          ],
          "contour": [
           {
            "colorbar": {
             "outlinewidth": 0,
             "ticks": ""
            },
            "colorscale": [
             [
              0,
              "#0d0887"
             ],
             [
              0.1111111111111111,
              "#46039f"
             ],
             [
              0.2222222222222222,
              "#7201a8"
             ],
             [
              0.3333333333333333,
              "#9c179e"
             ],
             [
              0.4444444444444444,
              "#bd3786"
             ],
             [
              0.5555555555555556,
              "#d8576b"
             ],
             [
              0.6666666666666666,
              "#ed7953"
             ],
             [
              0.7777777777777778,
              "#fb9f3a"
             ],
             [
              0.8888888888888888,
              "#fdca26"
             ],
             [
              1,
              "#f0f921"
             ]
            ],
            "type": "contour"
           }
          ],
          "contourcarpet": [
           {
            "colorbar": {
             "outlinewidth": 0,
             "ticks": ""
            },
            "type": "contourcarpet"
           }
          ],
          "heatmap": [
           {
            "colorbar": {
             "outlinewidth": 0,
             "ticks": ""
            },
            "colorscale": [
             [
              0,
              "#0d0887"
             ],
             [
              0.1111111111111111,
              "#46039f"
             ],
             [
              0.2222222222222222,
              "#7201a8"
             ],
             [
              0.3333333333333333,
              "#9c179e"
             ],
             [
              0.4444444444444444,
              "#bd3786"
             ],
             [
              0.5555555555555556,
              "#d8576b"
             ],
             [
              0.6666666666666666,
              "#ed7953"
             ],
             [
              0.7777777777777778,
              "#fb9f3a"
             ],
             [
              0.8888888888888888,
              "#fdca26"
             ],
             [
              1,
              "#f0f921"
             ]
            ],
            "type": "heatmap"
           }
          ],
          "heatmapgl": [
           {
            "colorbar": {
             "outlinewidth": 0,
             "ticks": ""
            },
            "colorscale": [
             [
              0,
              "#0d0887"
             ],
             [
              0.1111111111111111,
              "#46039f"
             ],
             [
              0.2222222222222222,
              "#7201a8"
             ],
             [
              0.3333333333333333,
              "#9c179e"
             ],
             [
              0.4444444444444444,
              "#bd3786"
             ],
             [
              0.5555555555555556,
              "#d8576b"
             ],
             [
              0.6666666666666666,
              "#ed7953"
             ],
             [
              0.7777777777777778,
              "#fb9f3a"
             ],
             [
              0.8888888888888888,
              "#fdca26"
             ],
             [
              1,
              "#f0f921"
             ]
            ],
            "type": "heatmapgl"
           }
          ],
          "histogram": [
           {
            "marker": {
             "pattern": {
              "fillmode": "overlay",
              "size": 10,
              "solidity": 0.2
             }
            },
            "type": "histogram"
           }
          ],
          "histogram2d": [
           {
            "colorbar": {
             "outlinewidth": 0,
             "ticks": ""
            },
            "colorscale": [
             [
              0,
              "#0d0887"
             ],
             [
              0.1111111111111111,
              "#46039f"
             ],
             [
              0.2222222222222222,
              "#7201a8"
             ],
             [
              0.3333333333333333,
              "#9c179e"
             ],
             [
              0.4444444444444444,
              "#bd3786"
             ],
             [
              0.5555555555555556,
              "#d8576b"
             ],
             [
              0.6666666666666666,
              "#ed7953"
             ],
             [
              0.7777777777777778,
              "#fb9f3a"
             ],
             [
              0.8888888888888888,
              "#fdca26"
             ],
             [
              1,
              "#f0f921"
             ]
            ],
            "type": "histogram2d"
           }
          ],
          "histogram2dcontour": [
           {
            "colorbar": {
             "outlinewidth": 0,
             "ticks": ""
            },
            "colorscale": [
             [
              0,
              "#0d0887"
             ],
             [
              0.1111111111111111,
              "#46039f"
             ],
             [
              0.2222222222222222,
              "#7201a8"
             ],
             [
              0.3333333333333333,
              "#9c179e"
             ],
             [
              0.4444444444444444,
              "#bd3786"
             ],
             [
              0.5555555555555556,
              "#d8576b"
             ],
             [
              0.6666666666666666,
              "#ed7953"
             ],
             [
              0.7777777777777778,
              "#fb9f3a"
             ],
             [
              0.8888888888888888,
              "#fdca26"
             ],
             [
              1,
              "#f0f921"
             ]
            ],
            "type": "histogram2dcontour"
           }
          ],
          "mesh3d": [
           {
            "colorbar": {
             "outlinewidth": 0,
             "ticks": ""
            },
            "type": "mesh3d"
           }
          ],
          "parcoords": [
           {
            "line": {
             "colorbar": {
              "outlinewidth": 0,
              "ticks": ""
             }
            },
            "type": "parcoords"
           }
          ],
          "pie": [
           {
            "automargin": true,
            "type": "pie"
           }
          ],
          "scatter": [
           {
            "fillpattern": {
             "fillmode": "overlay",
             "size": 10,
             "solidity": 0.2
            },
            "type": "scatter"
           }
          ],
          "scatter3d": [
           {
            "line": {
             "colorbar": {
              "outlinewidth": 0,
              "ticks": ""
             }
            },
            "marker": {
             "colorbar": {
              "outlinewidth": 0,
              "ticks": ""
             }
            },
            "type": "scatter3d"
           }
          ],
          "scattercarpet": [
           {
            "marker": {
             "colorbar": {
              "outlinewidth": 0,
              "ticks": ""
             }
            },
            "type": "scattercarpet"
           }
          ],
          "scattergeo": [
           {
            "marker": {
             "colorbar": {
              "outlinewidth": 0,
              "ticks": ""
             }
            },
            "type": "scattergeo"
           }
          ],
          "scattergl": [
           {
            "marker": {
             "colorbar": {
              "outlinewidth": 0,
              "ticks": ""
             }
            },
            "type": "scattergl"
           }
          ],
          "scattermapbox": [
           {
            "marker": {
             "colorbar": {
              "outlinewidth": 0,
              "ticks": ""
             }
            },
            "type": "scattermapbox"
           }
          ],
          "scatterpolar": [
           {
            "marker": {
             "colorbar": {
              "outlinewidth": 0,
              "ticks": ""
             }
            },
            "type": "scatterpolar"
           }
          ],
          "scatterpolargl": [
           {
            "marker": {
             "colorbar": {
              "outlinewidth": 0,
              "ticks": ""
             }
            },
            "type": "scatterpolargl"
           }
          ],
          "scatterternary": [
           {
            "marker": {
             "colorbar": {
              "outlinewidth": 0,
              "ticks": ""
             }
            },
            "type": "scatterternary"
           }
          ],
          "surface": [
           {
            "colorbar": {
             "outlinewidth": 0,
             "ticks": ""
            },
            "colorscale": [
             [
              0,
              "#0d0887"
             ],
             [
              0.1111111111111111,
              "#46039f"
             ],
             [
              0.2222222222222222,
              "#7201a8"
             ],
             [
              0.3333333333333333,
              "#9c179e"
             ],
             [
              0.4444444444444444,
              "#bd3786"
             ],
             [
              0.5555555555555556,
              "#d8576b"
             ],
             [
              0.6666666666666666,
              "#ed7953"
             ],
             [
              0.7777777777777778,
              "#fb9f3a"
             ],
             [
              0.8888888888888888,
              "#fdca26"
             ],
             [
              1,
              "#f0f921"
             ]
            ],
            "type": "surface"
           }
          ],
          "table": [
           {
            "cells": {
             "fill": {
              "color": "#EBF0F8"
             },
             "line": {
              "color": "white"
             }
            },
            "header": {
             "fill": {
              "color": "#C8D4E3"
             },
             "line": {
              "color": "white"
             }
            },
            "type": "table"
           }
          ]
         },
         "layout": {
          "annotationdefaults": {
           "arrowcolor": "#2a3f5f",
           "arrowhead": 0,
           "arrowwidth": 1
          },
          "autotypenumbers": "strict",
          "coloraxis": {
           "colorbar": {
            "outlinewidth": 0,
            "ticks": ""
           }
          },
          "colorscale": {
           "diverging": [
            [
             0,
             "#8e0152"
            ],
            [
             0.1,
             "#c51b7d"
            ],
            [
             0.2,
             "#de77ae"
            ],
            [
             0.3,
             "#f1b6da"
            ],
            [
             0.4,
             "#fde0ef"
            ],
            [
             0.5,
             "#f7f7f7"
            ],
            [
             0.6,
             "#e6f5d0"
            ],
            [
             0.7,
             "#b8e186"
            ],
            [
             0.8,
             "#7fbc41"
            ],
            [
             0.9,
             "#4d9221"
            ],
            [
             1,
             "#276419"
            ]
           ],
           "sequential": [
            [
             0,
             "#0d0887"
            ],
            [
             0.1111111111111111,
             "#46039f"
            ],
            [
             0.2222222222222222,
             "#7201a8"
            ],
            [
             0.3333333333333333,
             "#9c179e"
            ],
            [
             0.4444444444444444,
             "#bd3786"
            ],
            [
             0.5555555555555556,
             "#d8576b"
            ],
            [
             0.6666666666666666,
             "#ed7953"
            ],
            [
             0.7777777777777778,
             "#fb9f3a"
            ],
            [
             0.8888888888888888,
             "#fdca26"
            ],
            [
             1,
             "#f0f921"
            ]
           ],
           "sequentialminus": [
            [
             0,
             "#0d0887"
            ],
            [
             0.1111111111111111,
             "#46039f"
            ],
            [
             0.2222222222222222,
             "#7201a8"
            ],
            [
             0.3333333333333333,
             "#9c179e"
            ],
            [
             0.4444444444444444,
             "#bd3786"
            ],
            [
             0.5555555555555556,
             "#d8576b"
            ],
            [
             0.6666666666666666,
             "#ed7953"
            ],
            [
             0.7777777777777778,
             "#fb9f3a"
            ],
            [
             0.8888888888888888,
             "#fdca26"
            ],
            [
             1,
             "#f0f921"
            ]
           ]
          },
          "colorway": [
           "#636efa",
           "#EF553B",
           "#00cc96",
           "#ab63fa",
           "#FFA15A",
           "#19d3f3",
           "#FF6692",
           "#B6E880",
           "#FF97FF",
           "#FECB52"
          ],
          "font": {
           "color": "#2a3f5f"
          },
          "geo": {
           "bgcolor": "white",
           "lakecolor": "white",
           "landcolor": "#E5ECF6",
           "showlakes": true,
           "showland": true,
           "subunitcolor": "white"
          },
          "hoverlabel": {
           "align": "left"
          },
          "hovermode": "closest",
          "mapbox": {
           "style": "light"
          },
          "paper_bgcolor": "white",
          "plot_bgcolor": "#E5ECF6",
          "polar": {
           "angularaxis": {
            "gridcolor": "white",
            "linecolor": "white",
            "ticks": ""
           },
           "bgcolor": "#E5ECF6",
           "radialaxis": {
            "gridcolor": "white",
            "linecolor": "white",
            "ticks": ""
           }
          },
          "scene": {
           "xaxis": {
            "backgroundcolor": "#E5ECF6",
            "gridcolor": "white",
            "gridwidth": 2,
            "linecolor": "white",
            "showbackground": true,
            "ticks": "",
            "zerolinecolor": "white"
           },
           "yaxis": {
            "backgroundcolor": "#E5ECF6",
            "gridcolor": "white",
            "gridwidth": 2,
            "linecolor": "white",
            "showbackground": true,
            "ticks": "",
            "zerolinecolor": "white"
           },
           "zaxis": {
            "backgroundcolor": "#E5ECF6",
            "gridcolor": "white",
            "gridwidth": 2,
            "linecolor": "white",
            "showbackground": true,
            "ticks": "",
            "zerolinecolor": "white"
           }
          },
          "shapedefaults": {
           "line": {
            "color": "#2a3f5f"
           }
          },
          "ternary": {
           "aaxis": {
            "gridcolor": "white",
            "linecolor": "white",
            "ticks": ""
           },
           "baxis": {
            "gridcolor": "white",
            "linecolor": "white",
            "ticks": ""
           },
           "bgcolor": "#E5ECF6",
           "caxis": {
            "gridcolor": "white",
            "linecolor": "white",
            "ticks": ""
           }
          },
          "title": {
           "x": 0.05
          },
          "xaxis": {
           "automargin": true,
           "gridcolor": "white",
           "linecolor": "white",
           "ticks": "",
           "title": {
            "standoff": 15
           },
           "zerolinecolor": "white",
           "zerolinewidth": 2
          },
          "yaxis": {
           "automargin": true,
           "gridcolor": "white",
           "linecolor": "white",
           "ticks": "",
           "title": {
            "standoff": 15
           },
           "zerolinecolor": "white",
           "zerolinewidth": 2
          }
         }
        },
        "title": {
         "text": "Scatter Plot of DCG vs. Ratio Of Available Judgements"
        },
        "xaxis": {
         "anchor": "y",
         "autorange": true,
         "domain": [
          0,
          1
         ],
         "range": [
          1144.023228204298,
          1501.4628359902313
         ],
         "title": {
          "text": "sum DCG"
         },
         "type": "linear"
        },
        "yaxis": {
         "anchor": "x",
         "autorange": true,
         "domain": [
          0,
          1
         ],
         "range": [
          0.02830374612264376,
          0.03733261751371988
         ],
         "title": {
          "text": "Ratio Of Available Judgements"
         },
         "type": "linear"
        }
       }
      },
      "image/png": "[encoded data removed]"
     },
     "metadata": {},
     "output_type": "display_data"
    }
   ],
   "source": [
    "pio.renderers.default = 'plotly_mimetype'\n",
    "fig = px.scatter(df_qd_metrics[df_qd_metrics.metric==\"sum_dcg\"], \n",
    "                 x='value', y='ratio', \n",
    "                 hover_data={'pipeline': True},  # Show query on hover\n",
    "                 labels={'value': 'DCG', 'ratio': 'Ratio Of Available Judgements'})\n",
    "\n",
    "# Customize the layout\n",
    "fig.update_layout(title=\"Scatter Plot of DCG vs. Ratio Of Available Judgements\",\n",
    "                  xaxis_title=\"sum DCG\",\n",
    "                  yaxis_title=\"Ratio Of Available Judgements\",\n",
    "                  hovermode=\"closest\")\n",
    "\n",
    "# Show the plot\n",
    "fig.show()"
   ]
  },
  {
   "cell_type": "code",
   "execution_count": 77,
   "id": "d031b782-0dca-460d-9beb-613e514bf9c6",
   "metadata": {},
   "outputs": [
    {
     "data": {
      "application/vnd.plotly.v1+json": {
       "config": {
        "plotlyServerURL": "https://plot.ly"
       },
       "data": [
        {
         "customdata": [
          [
           "min_maxarithmetic_mean0.0"
          ],
          [
           "min_maxarithmetic_mean0.1"
          ],
          [
           "min_maxarithmetic_mean0.2"
          ],
          [
           "min_maxarithmetic_mean0.3"
          ],
          [
           "min_maxarithmetic_mean0.4"
          ],
          [
           "min_maxarithmetic_mean0.5"
          ],
          [
           "min_maxarithmetic_mean0.6"
          ],
          [
           "min_maxarithmetic_mean0.7"
          ],
          [
           "min_maxarithmetic_mean0.8"
          ],
          [
           "min_maxarithmetic_mean0.9"
          ],
          [
           "min_maxarithmetic_mean1.0"
          ],
          [
           "min_maxharmonic_mean0.0"
          ],
          [
           "min_maxharmonic_mean0.1"
          ],
          [
           "min_maxharmonic_mean0.2"
          ],
          [
           "min_maxharmonic_mean0.3"
          ],
          [
           "min_maxharmonic_mean0.4"
          ],
          [
           "min_maxharmonic_mean0.5"
          ],
          [
           "min_maxharmonic_mean0.6"
          ],
          [
           "min_maxharmonic_mean0.7"
          ],
          [
           "min_maxharmonic_mean0.8"
          ],
          [
           "min_maxharmonic_mean0.9"
          ],
          [
           "min_maxharmonic_mean1.0"
          ],
          [
           "min_maxgeometric_mean0.0"
          ],
          [
           "min_maxgeometric_mean0.1"
          ],
          [
           "min_maxgeometric_mean0.2"
          ],
          [
           "min_maxgeometric_mean0.3"
          ],
          [
           "min_maxgeometric_mean0.4"
          ],
          [
           "min_maxgeometric_mean0.5"
          ],
          [
           "min_maxgeometric_mean0.6"
          ],
          [
           "min_maxgeometric_mean0.7"
          ],
          [
           "min_maxgeometric_mean0.8"
          ],
          [
           "min_maxgeometric_mean0.9"
          ],
          [
           "min_maxgeometric_mean1.0"
          ],
          [
           "l2arithmetic_mean0.0"
          ],
          [
           "l2arithmetic_mean0.1"
          ],
          [
           "l2arithmetic_mean0.2"
          ],
          [
           "l2arithmetic_mean0.3"
          ],
          [
           "l2arithmetic_mean0.4"
          ],
          [
           "l2arithmetic_mean0.5"
          ],
          [
           "l2arithmetic_mean0.6"
          ],
          [
           "l2arithmetic_mean0.7"
          ],
          [
           "l2arithmetic_mean0.8"
          ],
          [
           "l2arithmetic_mean0.9"
          ],
          [
           "l2arithmetic_mean1.0"
          ],
          [
           "l2harmonic_mean0.0"
          ],
          [
           "l2harmonic_mean0.1"
          ],
          [
           "l2harmonic_mean0.2"
          ],
          [
           "l2harmonic_mean0.3"
          ],
          [
           "l2harmonic_mean0.4"
          ],
          [
           "l2harmonic_mean0.5"
          ],
          [
           "l2harmonic_mean0.6"
          ],
          [
           "l2harmonic_mean0.7"
          ],
          [
           "l2harmonic_mean0.8"
          ],
          [
           "l2harmonic_mean0.9"
          ],
          [
           "l2harmonic_mean1.0"
          ],
          [
           "l2geometric_mean0.0"
          ],
          [
           "l2geometric_mean0.1"
          ],
          [
           "l2geometric_mean0.2"
          ],
          [
           "l2geometric_mean0.3"
          ],
          [
           "l2geometric_mean0.4"
          ],
          [
           "l2geometric_mean0.5"
          ],
          [
           "l2geometric_mean0.6"
          ],
          [
           "l2geometric_mean0.7"
          ],
          [
           "l2geometric_mean0.8"
          ],
          [
           "l2geometric_mean0.9"
          ],
          [
           "l2geometric_mean1.0"
          ]
         ],
         "hovertemplate": "DCG=%{x}<br>Ratio Of Available Judgements=%{y}<br>pipeline=%{customdata[0]}<extra></extra>",
         "legendgroup": "",
         "marker": {
          "color": "#636efa",
          "symbol": "circle"
         },
         "mode": "markers",
         "name": "",
         "orientation": "v",
         "showlegend": false,
         "type": "scatter",
         "x": [
          1.8291141950168355,
          1.829691563970106,
          1.8350525381306126,
          1.83282007151959,
          1.8312314056012775,
          1.8390878635050878,
          1.8486420462984512,
          1.821412115664724,
          1.8304069030222807,
          1.8370856314107233,
          1.8710481205407254,
          1.8291141950168355,
          1.8055062305976748,
          1.8102638622872853,
          1.8108601818095202,
          1.8144811733662378,
          1.810769907324494,
          1.7977693989255663,
          1.7945511100905716,
          1.7773847582832107,
          1.7843196646091148,
          1.8710481205407254,
          1.8291141950168355,
          1.7999653903114021,
          1.8082323470056254,
          1.8063264900613019,
          1.8105005150475486,
          1.8075585264384886,
          1.7945493579141618,
          1.7956190710892812,
          1.7766242570989115,
          1.7861102030993876,
          1.8710481205407254,
          1.8291141950168355,
          1.8572212911264043,
          1.8726793811691012,
          1.8522176784171362,
          1.8343681140641361,
          1.8375664083829462,
          1.8456006247738748,
          1.8535077635438584,
          1.8543163706464936,
          1.8484363976108242,
          1.8710481205407254,
          1.8291141950168355,
          1.7569267696586215,
          1.7599962561433782,
          1.7662056515102469,
          1.7522615675882685,
          1.7572911758570937,
          1.7691383489881038,
          1.789241542314559,
          1.7991563114182807,
          1.8218918813853513,
          1.8710481205407254,
          1.8291141950168355,
          1.7577862744823871,
          1.7676446898728324,
          1.764557409798446,
          1.7756805175981922,
          1.7780150027546724,
          1.781763159761607,
          1.794232142752918,
          1.8118258859442622,
          1.827761818859714,
          1.8710481205407254
         ],
         "xaxis": "x",
         "y": [
          0.02890909090909091,
          0.02990909090909091,
          0.030954545454545453,
          0.03245454545454545,
          0.034227272727272724,
          0.03540909090909091,
          0.03636363636363636,
          0.036727272727272726,
          0.036227272727272726,
          0.03581818181818182,
          0.03018181818181818,
          0.02890909090909091,
          0.03109090909090909,
          0.03109090909090909,
          0.031181818181818182,
          0.03131818181818182,
          0.03159090909090909,
          0.03195454545454546,
          0.032363636363636365,
          0.03309090909090909,
          0.033545454545454545,
          0.03018181818181818,
          0.02890909090909091,
          0.03154545454545454,
          0.03127272727272727,
          0.03145454545454546,
          0.031636363636363636,
          0.032,
          0.03245454545454545,
          0.03268181818181818,
          0.03345454545454545,
          0.03368181818181818,
          0.03018181818181818,
          0.02890909090909091,
          0.03395454545454545,
          0.03409090909090909,
          0.036272727272727276,
          0.036727272727272726,
          0.03659090909090909,
          0.03636363636363636,
          0.03613636363636363,
          0.035954545454545454,
          0.035727272727272726,
          0.03018181818181818,
          0.02890909090909091,
          0.032863636363636366,
          0.03345454545454545,
          0.03368181818181818,
          0.034272727272727274,
          0.03463636363636364,
          0.035,
          0.03509090909090909,
          0.03513636363636364,
          0.0355,
          0.03018181818181818,
          0.02890909090909091,
          0.03327272727272727,
          0.033772727272727274,
          0.034272727272727274,
          0.03440909090909091,
          0.034772727272727275,
          0.035045454545454546,
          0.03513636363636364,
          0.03540909090909091,
          0.035454545454545454,
          0.03018181818181818
         ],
         "yaxis": "y"
        }
       ],
       "layout": {
        "autosize": true,
        "hovermode": "closest",
        "legend": {
         "tracegroupgap": 0
        },
        "margin": {
         "t": 60
        },
        "template": {
         "data": {
          "bar": [
           {
            "error_x": {
             "color": "#2a3f5f"
            },
            "error_y": {
             "color": "#2a3f5f"
            },
            "marker": {
             "line": {
              "color": "#E5ECF6",
              "width": 0.5
             },
             "pattern": {
              "fillmode": "overlay",
              "size": 10,
              "solidity": 0.2
             }
            },
            "type": "bar"
           }
          ],
          "barpolar": [
           {
            "marker": {
             "line": {
              "color": "#E5ECF6",
              "width": 0.5
             },
             "pattern": {
              "fillmode": "overlay",
              "size": 10,
              "solidity": 0.2
             }
            },
            "type": "barpolar"
           }
          ],
          "carpet": [
           {
            "aaxis": {
             "endlinecolor": "#2a3f5f",
             "gridcolor": "white",
             "linecolor": "white",
             "minorgridcolor": "white",
             "startlinecolor": "#2a3f5f"
            },
            "baxis": {
             "endlinecolor": "#2a3f5f",
             "gridcolor": "white",
             "linecolor": "white",
             "minorgridcolor": "white",
             "startlinecolor": "#2a3f5f"
            },
            "type": "carpet"
           }
          ],
          "choropleth": [
           {
            "colorbar": {
             "outlinewidth": 0,
             "ticks": ""
            },
            "type": "choropleth"
           }
          ],
          "contour": [
           {
            "colorbar": {
             "outlinewidth": 0,
             "ticks": ""
            },
            "colorscale": [
             [
              0,
              "#0d0887"
             ],
             [
              0.1111111111111111,
              "#46039f"
             ],
             [
              0.2222222222222222,
              "#7201a8"
             ],
             [
              0.3333333333333333,
              "#9c179e"
             ],
             [
              0.4444444444444444,
              "#bd3786"
             ],
             [
              0.5555555555555556,
              "#d8576b"
             ],
             [
              0.6666666666666666,
              "#ed7953"
             ],
             [
              0.7777777777777778,
              "#fb9f3a"
             ],
             [
              0.8888888888888888,
              "#fdca26"
             ],
             [
              1,
              "#f0f921"
             ]
            ],
            "type": "contour"
           }
          ],
          "contourcarpet": [
           {
            "colorbar": {
             "outlinewidth": 0,
             "ticks": ""
            },
            "type": "contourcarpet"
           }
          ],
          "heatmap": [
           {
            "colorbar": {
             "outlinewidth": 0,
             "ticks": ""
            },
            "colorscale": [
             [
              0,
              "#0d0887"
             ],
             [
              0.1111111111111111,
              "#46039f"
             ],
             [
              0.2222222222222222,
              "#7201a8"
             ],
             [
              0.3333333333333333,
              "#9c179e"
             ],
             [
              0.4444444444444444,
              "#bd3786"
             ],
             [
              0.5555555555555556,
              "#d8576b"
             ],
             [
              0.6666666666666666,
              "#ed7953"
             ],
             [
              0.7777777777777778,
              "#fb9f3a"
             ],
             [
              0.8888888888888888,
              "#fdca26"
             ],
             [
              1,
              "#f0f921"
             ]
            ],
            "type": "heatmap"
           }
          ],
          "heatmapgl": [
           {
            "colorbar": {
             "outlinewidth": 0,
             "ticks": ""
            },
            "colorscale": [
             [
              0,
              "#0d0887"
             ],
             [
              0.1111111111111111,
              "#46039f"
             ],
             [
              0.2222222222222222,
              "#7201a8"
             ],
             [
              0.3333333333333333,
              "#9c179e"
             ],
             [
              0.4444444444444444,
              "#bd3786"
             ],
             [
              0.5555555555555556,
              "#d8576b"
             ],
             [
              0.6666666666666666,
              "#ed7953"
             ],
             [
              0.7777777777777778,
              "#fb9f3a"
             ],
             [
              0.8888888888888888,
              "#fdca26"
             ],
             [
              1,
              "#f0f921"
             ]
            ],
            "type": "heatmapgl"
           }
          ],
          "histogram": [
           {
            "marker": {
             "pattern": {
              "fillmode": "overlay",
              "size": 10,
              "solidity": 0.2
             }
            },
            "type": "histogram"
           }
          ],
          "histogram2d": [
           {
            "colorbar": {
             "outlinewidth": 0,
             "ticks": ""
            },
            "colorscale": [
             [
              0,
              "#0d0887"
             ],
             [
              0.1111111111111111,
              "#46039f"
             ],
             [
              0.2222222222222222,
              "#7201a8"
             ],
             [
              0.3333333333333333,
              "#9c179e"
             ],
             [
              0.4444444444444444,
              "#bd3786"
             ],
             [
              0.5555555555555556,
              "#d8576b"
             ],
             [
              0.6666666666666666,
              "#ed7953"
             ],
             [
              0.7777777777777778,
              "#fb9f3a"
             ],
             [
              0.8888888888888888,
              "#fdca26"
             ],
             [
              1,
              "#f0f921"
             ]
            ],
            "type": "histogram2d"
           }
          ],
          "histogram2dcontour": [
           {
            "colorbar": {
             "outlinewidth": 0,
             "ticks": ""
            },
            "colorscale": [
             [
              0,
              "#0d0887"
             ],
             [
              0.1111111111111111,
              "#46039f"
             ],
             [
              0.2222222222222222,
              "#7201a8"
             ],
             [
              0.3333333333333333,
              "#9c179e"
             ],
             [
              0.4444444444444444,
              "#bd3786"
             ],
             [
              0.5555555555555556,
              "#d8576b"
             ],
             [
              0.6666666666666666,
              "#ed7953"
             ],
             [
              0.7777777777777778,
              "#fb9f3a"
             ],
             [
              0.8888888888888888,
              "#fdca26"
             ],
             [
              1,
              "#f0f921"
             ]
            ],
            "type": "histogram2dcontour"
           }
          ],
          "mesh3d": [
           {
            "colorbar": {
             "outlinewidth": 0,
             "ticks": ""
            },
            "type": "mesh3d"
           }
          ],
          "parcoords": [
           {
            "line": {
             "colorbar": {
              "outlinewidth": 0,
              "ticks": ""
             }
            },
            "type": "parcoords"
           }
          ],
          "pie": [
           {
            "automargin": true,
            "type": "pie"
           }
          ],
          "scatter": [
           {
            "fillpattern": {
             "fillmode": "overlay",
             "size": 10,
             "solidity": 0.2
            },
            "type": "scatter"
           }
          ],
          "scatter3d": [
           {
            "line": {
             "colorbar": {
              "outlinewidth": 0,
              "ticks": ""
             }
            },
            "marker": {
             "colorbar": {
              "outlinewidth": 0,
              "ticks": ""
             }
            },
            "type": "scatter3d"
           }
          ],
          "scattercarpet": [
           {
            "marker": {
             "colorbar": {
              "outlinewidth": 0,
              "ticks": ""
             }
            },
            "type": "scattercarpet"
           }
          ],
          "scattergeo": [
           {
            "marker": {
             "colorbar": {
              "outlinewidth": 0,
              "ticks": ""
             }
            },
            "type": "scattergeo"
           }
          ],
          "scattergl": [
           {
            "marker": {
             "colorbar": {
              "outlinewidth": 0,
              "ticks": ""
             }
            },
            "type": "scattergl"
           }
          ],
          "scattermapbox": [
           {
            "marker": {
             "colorbar": {
              "outlinewidth": 0,
              "ticks": ""
             }
            },
            "type": "scattermapbox"
           }
          ],
          "scatterpolar": [
           {
            "marker": {
             "colorbar": {
              "outlinewidth": 0,
              "ticks": ""
             }
            },
            "type": "scatterpolar"
           }
          ],
          "scatterpolargl": [
           {
            "marker": {
             "colorbar": {
              "outlinewidth": 0,
              "ticks": ""
             }
            },
            "type": "scatterpolargl"
           }
          ],
          "scatterternary": [
           {
            "marker": {
             "colorbar": {
              "outlinewidth": 0,
              "ticks": ""
             }
            },
            "type": "scatterternary"
           }
          ],
          "surface": [
           {
            "colorbar": {
             "outlinewidth": 0,
             "ticks": ""
            },
            "colorscale": [
             [
              0,
              "#0d0887"
             ],
             [
              0.1111111111111111,
              "#46039f"
             ],
             [
              0.2222222222222222,
              "#7201a8"
             ],
             [
              0.3333333333333333,
              "#9c179e"
             ],
             [
              0.4444444444444444,
              "#bd3786"
             ],
             [
              0.5555555555555556,
              "#d8576b"
             ],
             [
              0.6666666666666666,
              "#ed7953"
             ],
             [
              0.7777777777777778,
              "#fb9f3a"
             ],
             [
              0.8888888888888888,
              "#fdca26"
             ],
             [
              1,
              "#f0f921"
             ]
            ],
            "type": "surface"
           }
          ],
          "table": [
           {
            "cells": {
             "fill": {
              "color": "#EBF0F8"
             },
             "line": {
              "color": "white"
             }
            },
            "header": {
             "fill": {
              "color": "#C8D4E3"
             },
             "line": {
              "color": "white"
             }
            },
            "type": "table"
           }
          ]
         },
         "layout": {
          "annotationdefaults": {
           "arrowcolor": "#2a3f5f",
           "arrowhead": 0,
           "arrowwidth": 1
          },
          "autotypenumbers": "strict",
          "coloraxis": {
           "colorbar": {
            "outlinewidth": 0,
            "ticks": ""
           }
          },
          "colorscale": {
           "diverging": [
            [
             0,
             "#8e0152"
            ],
            [
             0.1,
             "#c51b7d"
            ],
            [
             0.2,
             "#de77ae"
            ],
            [
             0.3,
             "#f1b6da"
            ],
            [
             0.4,
             "#fde0ef"
            ],
            [
             0.5,
             "#f7f7f7"
            ],
            [
             0.6,
             "#e6f5d0"
            ],
            [
             0.7,
             "#b8e186"
            ],
            [
             0.8,
             "#7fbc41"
            ],
            [
             0.9,
             "#4d9221"
            ],
            [
             1,
             "#276419"
            ]
           ],
           "sequential": [
            [
             0,
             "#0d0887"
            ],
            [
             0.1111111111111111,
             "#46039f"
            ],
            [
             0.2222222222222222,
             "#7201a8"
            ],
            [
             0.3333333333333333,
             "#9c179e"
            ],
            [
             0.4444444444444444,
             "#bd3786"
            ],
            [
             0.5555555555555556,
             "#d8576b"
            ],
            [
             0.6666666666666666,
             "#ed7953"
            ],
            [
             0.7777777777777778,
             "#fb9f3a"
            ],
            [
             0.8888888888888888,
             "#fdca26"
            ],
            [
             1,
             "#f0f921"
            ]
           ],
           "sequentialminus": [
            [
             0,
             "#0d0887"
            ],
            [
             0.1111111111111111,
             "#46039f"
            ],
            [
             0.2222222222222222,
             "#7201a8"
            ],
            [
             0.3333333333333333,
             "#9c179e"
            ],
            [
             0.4444444444444444,
             "#bd3786"
            ],
            [
             0.5555555555555556,
             "#d8576b"
            ],
            [
             0.6666666666666666,
             "#ed7953"
            ],
            [
             0.7777777777777778,
             "#fb9f3a"
            ],
            [
             0.8888888888888888,
             "#fdca26"
            ],
            [
             1,
             "#f0f921"
            ]
           ]
          },
          "colorway": [
           "#636efa",
           "#EF553B",
           "#00cc96",
           "#ab63fa",
           "#FFA15A",
           "#19d3f3",
           "#FF6692",
           "#B6E880",
           "#FF97FF",
           "#FECB52"
          ],
          "font": {
           "color": "#2a3f5f"
          },
          "geo": {
           "bgcolor": "white",
           "lakecolor": "white",
           "landcolor": "#E5ECF6",
           "showlakes": true,
           "showland": true,
           "subunitcolor": "white"
          },
          "hoverlabel": {
           "align": "left"
          },
          "hovermode": "closest",
          "mapbox": {
           "style": "light"
          },
          "paper_bgcolor": "white",
          "plot_bgcolor": "#E5ECF6",
          "polar": {
           "angularaxis": {
            "gridcolor": "white",
            "linecolor": "white",
            "ticks": ""
           },
           "bgcolor": "#E5ECF6",
           "radialaxis": {
            "gridcolor": "white",
            "linecolor": "white",
            "ticks": ""
           }
          },
          "scene": {
           "xaxis": {
            "backgroundcolor": "#E5ECF6",
            "gridcolor": "white",
            "gridwidth": 2,
            "linecolor": "white",
            "showbackground": true,
            "ticks": "",
            "zerolinecolor": "white"
           },
           "yaxis": {
            "backgroundcolor": "#E5ECF6",
            "gridcolor": "white",
            "gridwidth": 2,
            "linecolor": "white",
            "showbackground": true,
            "ticks": "",
            "zerolinecolor": "white"
           },
           "zaxis": {
            "backgroundcolor": "#E5ECF6",
            "gridcolor": "white",
            "gridwidth": 2,
            "linecolor": "white",
            "showbackground": true,
            "ticks": "",
            "zerolinecolor": "white"
           }
          },
          "shapedefaults": {
           "line": {
            "color": "#2a3f5f"
           }
          },
          "ternary": {
           "aaxis": {
            "gridcolor": "white",
            "linecolor": "white",
            "ticks": ""
           },
           "baxis": {
            "gridcolor": "white",
            "linecolor": "white",
            "ticks": ""
           },
           "bgcolor": "#E5ECF6",
           "caxis": {
            "gridcolor": "white",
            "linecolor": "white",
            "ticks": ""
           }
          },
          "title": {
           "x": 0.05
          },
          "xaxis": {
           "automargin": true,
           "gridcolor": "white",
           "linecolor": "white",
           "ticks": "",
           "title": {
            "standoff": 15
           },
           "zerolinecolor": "white",
           "zerolinewidth": 2
          },
          "yaxis": {
           "automargin": true,
           "gridcolor": "white",
           "linecolor": "white",
           "ticks": "",
           "title": {
            "standoff": 15
           },
           "zerolinecolor": "white",
           "zerolinewidth": 2
          }
         }
        },
        "title": {
         "text": "Scatter Plot of DCG vs. Ratio Of Available Judgements"
        },
        "xaxis": {
         "anchor": "y",
         "autorange": true,
         "domain": [
          0,
          1
         ],
         "range": [
          1.7445231187531365,
          1.8804178300042331
         ],
         "title": {
          "text": "mean DCG"
         },
         "type": "linear"
        },
        "yaxis": {
         "anchor": "x",
         "domain": [
          0,
          1
         ],
         "range": [
          0.2,
          0.4
         ],
         "title": {
          "text": "Ratio Of Available Judgements"
         },
         "type": "linear"
        }
       }
      }
     },
     "metadata": {},
     "output_type": "display_data"
    }
   ],
   "source": [
    "pio.renderers.default = 'plotly_mimetype'\n",
    "fig = px.scatter(df_qd_metrics[df_qd_metrics.metric==\"mean_dcg\"], \n",
    "                 x='value', y='ratio', \n",
    "                 hover_data={'pipeline': True},  # Show query on hover\n",
    "                 labels={'value': 'DCG', 'ratio': 'Ratio Of Available Judgements'})\n",
    "\n",
    "# Customize the layout\n",
    "fig.update_layout(title=\"Scatter Plot of DCG vs. Ratio Of Available Judgements\",\n",
    "                  xaxis_title=\"mean DCG\",\n",
    "                  yaxis_title=\"Ratio Of Available Judgements\",\n",
    "                  yaxis=dict(range=[0.2, 0.4]),\n",
    "                  hovermode=\"closest\")\n",
    "\n",
    "# Show the plot\n",
    "fig.show()"
   ]
  },
  {
   "cell_type": "markdown",
   "id": "a93eb220-8e51-40d3-8483-a92430cb973e",
   "metadata": {},
   "source": [
    "## Visualization of DCG values comparing the two approaches\n",
    "\n",
    "Merge the DFs and visualize the DCG values in a scattertplot"
   ]
  },
  {
   "cell_type": "code",
   "execution_count": 78,
   "id": "bebda69c-2637-4fe9-b32f-d95bc153f614",
   "metadata": {},
   "outputs": [
    {
     "data": {
      "text/html": [
       "<div>\n",
       "<style scoped>\n",
       "    .dataframe tbody tr th:only-of-type {\n",
       "        vertical-align: middle;\n",
       "    }\n",
       "\n",
       "    .dataframe tbody tr th {\n",
       "        vertical-align: top;\n",
       "    }\n",
       "\n",
       "    .dataframe thead th {\n",
       "        text-align: right;\n",
       "    }\n",
       "</style>\n",
       "<table border=\"1\" class=\"dataframe\">\n",
       "  <thead>\n",
       "    <tr style=\"text-align: right;\">\n",
       "      <th></th>\n",
       "      <th>pipeline</th>\n",
       "      <th>metric</th>\n",
       "      <th>value</th>\n",
       "      <th>judgements</th>\n",
       "      <th>mising</th>\n",
       "      <th>ratio</th>\n",
       "    </tr>\n",
       "  </thead>\n",
       "  <tbody>\n",
       "    <tr>\n",
       "      <th>0</th>\n",
       "      <td>min_maxarithmetic_mean0.0</td>\n",
       "      <td>sum_dcg</td>\n",
       "      <td>1163.316628</td>\n",
       "      <td>636</td>\n",
       "      <td>20293</td>\n",
       "      <td>0.028909</td>\n",
       "    </tr>\n",
       "    <tr>\n",
       "      <th>0</th>\n",
       "      <td>min_maxarithmetic_mean0.0</td>\n",
       "      <td>mean_dcg</td>\n",
       "      <td>1.829114</td>\n",
       "      <td>636</td>\n",
       "      <td>20293</td>\n",
       "      <td>0.028909</td>\n",
       "    </tr>\n",
       "    <tr>\n",
       "      <th>0</th>\n",
       "      <td>min_maxarithmetic_mean0.1</td>\n",
       "      <td>sum_dcg</td>\n",
       "      <td>1203.937049</td>\n",
       "      <td>658</td>\n",
       "      <td>20044</td>\n",
       "      <td>0.029909</td>\n",
       "    </tr>\n",
       "  </tbody>\n",
       "</table>\n",
       "</div>"
      ],
      "text/plain": [
       "                    pipeline    metric        value  judgements  mising  \\\n",
       "0  min_maxarithmetic_mean0.0   sum_dcg  1163.316628         636   20293   \n",
       "0  min_maxarithmetic_mean0.0  mean_dcg     1.829114         636   20293   \n",
       "0  min_maxarithmetic_mean0.1   sum_dcg  1203.937049         658   20044   \n",
       "\n",
       "      ratio  \n",
       "0  0.028909  \n",
       "0  0.028909  \n",
       "0  0.029909  "
      ]
     },
     "execution_count": 78,
     "metadata": {},
     "output_type": "execute_result"
    }
   ],
   "source": [
    "df_qd_metrics.head(3)"
   ]
  },
  {
   "cell_type": "code",
   "execution_count": 79,
   "id": "d79d418f-793a-4f82-aea5-4514dde48676",
   "metadata": {},
   "outputs": [
    {
     "data": {
      "text/html": [
       "<div>\n",
       "<style scoped>\n",
       "    .dataframe tbody tr th:only-of-type {\n",
       "        vertical-align: middle;\n",
       "    }\n",
       "\n",
       "    .dataframe tbody tr th {\n",
       "        vertical-align: top;\n",
       "    }\n",
       "\n",
       "    .dataframe thead th {\n",
       "        text-align: right;\n",
       "    }\n",
       "</style>\n",
       "<table border=\"1\" class=\"dataframe\">\n",
       "  <thead>\n",
       "    <tr style=\"text-align: right;\">\n",
       "      <th>metric</th>\n",
       "      <th>pipeline</th>\n",
       "      <th>dcg</th>\n",
       "      <th>dcg_dense</th>\n",
       "      <th>ndcg</th>\n",
       "      <th>prec@10</th>\n",
       "      <th>ratio_of_ratings</th>\n",
       "    </tr>\n",
       "  </thead>\n",
       "  <tbody>\n",
       "    <tr>\n",
       "      <th>0</th>\n",
       "      <td>l2arithmetic_mean0.0</td>\n",
       "      <td>5.29</td>\n",
       "      <td>11.67</td>\n",
       "      <td>0.24</td>\n",
       "      <td>0.28</td>\n",
       "      <td>0.29</td>\n",
       "    </tr>\n",
       "    <tr>\n",
       "      <th>1</th>\n",
       "      <td>l2arithmetic_mean0.1</td>\n",
       "      <td>6.31</td>\n",
       "      <td>11.77</td>\n",
       "      <td>0.29</td>\n",
       "      <td>0.33</td>\n",
       "      <td>0.34</td>\n",
       "    </tr>\n",
       "    <tr>\n",
       "      <th>2</th>\n",
       "      <td>l2arithmetic_mean0.2</td>\n",
       "      <td>6.38</td>\n",
       "      <td>11.89</td>\n",
       "      <td>0.29</td>\n",
       "      <td>0.33</td>\n",
       "      <td>0.34</td>\n",
       "    </tr>\n",
       "  </tbody>\n",
       "</table>\n",
       "</div>"
      ],
      "text/plain": [
       "metric              pipeline   dcg  dcg_dense  ndcg  prec@10  ratio_of_ratings\n",
       "0       l2arithmetic_mean0.0  5.29      11.67  0.24     0.28              0.29\n",
       "1       l2arithmetic_mean0.1  6.31      11.77  0.29     0.33              0.34\n",
       "2       l2arithmetic_mean0.2  6.38      11.89  0.29     0.33              0.34"
      ]
     },
     "execution_count": 79,
     "metadata": {},
     "output_type": "execute_result"
    }
   ],
   "source": [
    "df_metrics_per_pipeline.head(3)"
   ]
  },
  {
   "cell_type": "code",
   "execution_count": 80,
   "id": "ee826154-0d69-4537-996c-39bec8bebceb",
   "metadata": {},
   "outputs": [],
   "source": [
    "df_metrics_merged = df_qd_metrics[df_qd_metrics.metric==\"sum_dcg\"].merge(df_metrics_per_pipeline, on='pipeline', how='inner', validate='one_to_one')"
   ]
  },
  {
   "cell_type": "code",
   "execution_count": 81,
   "id": "80b055d7-5d4f-4080-a7d6-aaf9bbecc762",
   "metadata": {},
   "outputs": [
    {
     "data": {
      "text/html": [
       "<div>\n",
       "<style scoped>\n",
       "    .dataframe tbody tr th:only-of-type {\n",
       "        vertical-align: middle;\n",
       "    }\n",
       "\n",
       "    .dataframe tbody tr th {\n",
       "        vertical-align: top;\n",
       "    }\n",
       "\n",
       "    .dataframe thead th {\n",
       "        text-align: right;\n",
       "    }\n",
       "</style>\n",
       "<table border=\"1\" class=\"dataframe\">\n",
       "  <thead>\n",
       "    <tr style=\"text-align: right;\">\n",
       "      <th></th>\n",
       "      <th>pipeline</th>\n",
       "      <th>metric</th>\n",
       "      <th>value</th>\n",
       "      <th>judgements</th>\n",
       "      <th>mising</th>\n",
       "      <th>ratio</th>\n",
       "      <th>dcg</th>\n",
       "      <th>dcg_dense</th>\n",
       "      <th>ndcg</th>\n",
       "      <th>prec@10</th>\n",
       "      <th>ratio_of_ratings</th>\n",
       "    </tr>\n",
       "  </thead>\n",
       "  <tbody>\n",
       "    <tr>\n",
       "      <th>0</th>\n",
       "      <td>min_maxarithmetic_mean0.0</td>\n",
       "      <td>sum_dcg</td>\n",
       "      <td>1163.316628</td>\n",
       "      <td>636</td>\n",
       "      <td>20293</td>\n",
       "      <td>0.028909</td>\n",
       "      <td>5.29</td>\n",
       "      <td>11.67</td>\n",
       "      <td>0.24</td>\n",
       "      <td>0.28</td>\n",
       "      <td>0.29</td>\n",
       "    </tr>\n",
       "    <tr>\n",
       "      <th>1</th>\n",
       "      <td>min_maxarithmetic_mean0.1</td>\n",
       "      <td>sum_dcg</td>\n",
       "      <td>1203.937049</td>\n",
       "      <td>658</td>\n",
       "      <td>20044</td>\n",
       "      <td>0.029909</td>\n",
       "      <td>5.47</td>\n",
       "      <td>12.62</td>\n",
       "      <td>0.25</td>\n",
       "      <td>0.29</td>\n",
       "      <td>0.30</td>\n",
       "    </tr>\n",
       "    <tr>\n",
       "      <th>2</th>\n",
       "      <td>min_maxarithmetic_mean0.2</td>\n",
       "      <td>sum_dcg</td>\n",
       "      <td>1249.670778</td>\n",
       "      <td>681</td>\n",
       "      <td>20037</td>\n",
       "      <td>0.030955</td>\n",
       "      <td>5.68</td>\n",
       "      <td>12.62</td>\n",
       "      <td>0.26</td>\n",
       "      <td>0.30</td>\n",
       "      <td>0.31</td>\n",
       "    </tr>\n",
       "  </tbody>\n",
       "</table>\n",
       "</div>"
      ],
      "text/plain": [
       "                    pipeline   metric        value  judgements  mising  \\\n",
       "0  min_maxarithmetic_mean0.0  sum_dcg  1163.316628         636   20293   \n",
       "1  min_maxarithmetic_mean0.1  sum_dcg  1203.937049         658   20044   \n",
       "2  min_maxarithmetic_mean0.2  sum_dcg  1249.670778         681   20037   \n",
       "\n",
       "      ratio   dcg  dcg_dense  ndcg  prec@10  ratio_of_ratings  \n",
       "0  0.028909  5.29      11.67  0.24     0.28              0.29  \n",
       "1  0.029909  5.47      12.62  0.25     0.29              0.30  \n",
       "2  0.030955  5.68      12.62  0.26     0.30              0.31  "
      ]
     },
     "execution_count": 81,
     "metadata": {},
     "output_type": "execute_result"
    }
   ],
   "source": [
    "df_metrics_merged.head(3)"
   ]
  },
  {
   "cell_type": "code",
   "execution_count": 82,
   "id": "4f4911c4-54b2-45dc-9d3b-4c24efb317df",
   "metadata": {},
   "outputs": [
    {
     "data": {
      "application/vnd.plotly.v1+json": {
       "config": {
        "plotlyServerURL": "https://plot.ly"
       },
       "data": [
        {
         "customdata": [
          [
           "min_maxarithmetic_mean0.0"
          ],
          [
           "min_maxarithmetic_mean0.1"
          ],
          [
           "min_maxarithmetic_mean0.2"
          ],
          [
           "min_maxarithmetic_mean0.3"
          ],
          [
           "min_maxarithmetic_mean0.4"
          ],
          [
           "min_maxarithmetic_mean0.5"
          ],
          [
           "min_maxarithmetic_mean0.6"
          ],
          [
           "min_maxarithmetic_mean0.7"
          ],
          [
           "min_maxarithmetic_mean0.8"
          ],
          [
           "min_maxarithmetic_mean0.9"
          ],
          [
           "min_maxarithmetic_mean1.0"
          ],
          [
           "min_maxharmonic_mean0.0"
          ],
          [
           "min_maxharmonic_mean0.1"
          ],
          [
           "min_maxharmonic_mean0.2"
          ],
          [
           "min_maxharmonic_mean0.3"
          ],
          [
           "min_maxharmonic_mean0.4"
          ],
          [
           "min_maxharmonic_mean0.5"
          ],
          [
           "min_maxharmonic_mean0.6"
          ],
          [
           "min_maxharmonic_mean0.7"
          ],
          [
           "min_maxharmonic_mean0.8"
          ],
          [
           "min_maxharmonic_mean0.9"
          ],
          [
           "min_maxharmonic_mean1.0"
          ],
          [
           "min_maxgeometric_mean0.0"
          ],
          [
           "min_maxgeometric_mean0.1"
          ],
          [
           "min_maxgeometric_mean0.2"
          ],
          [
           "min_maxgeometric_mean0.3"
          ],
          [
           "min_maxgeometric_mean0.4"
          ],
          [
           "min_maxgeometric_mean0.5"
          ],
          [
           "min_maxgeometric_mean0.6"
          ],
          [
           "min_maxgeometric_mean0.7"
          ],
          [
           "min_maxgeometric_mean0.8"
          ],
          [
           "min_maxgeometric_mean0.9"
          ],
          [
           "min_maxgeometric_mean1.0"
          ],
          [
           "l2arithmetic_mean0.0"
          ],
          [
           "l2arithmetic_mean0.1"
          ],
          [
           "l2arithmetic_mean0.2"
          ],
          [
           "l2arithmetic_mean0.3"
          ],
          [
           "l2arithmetic_mean0.4"
          ],
          [
           "l2arithmetic_mean0.5"
          ],
          [
           "l2arithmetic_mean0.6"
          ],
          [
           "l2arithmetic_mean0.7"
          ],
          [
           "l2arithmetic_mean0.8"
          ],
          [
           "l2arithmetic_mean0.9"
          ],
          [
           "l2arithmetic_mean1.0"
          ],
          [
           "l2harmonic_mean0.0"
          ],
          [
           "l2harmonic_mean0.1"
          ],
          [
           "l2harmonic_mean0.2"
          ],
          [
           "l2harmonic_mean0.3"
          ],
          [
           "l2harmonic_mean0.4"
          ],
          [
           "l2harmonic_mean0.5"
          ],
          [
           "l2harmonic_mean0.6"
          ],
          [
           "l2harmonic_mean0.7"
          ],
          [
           "l2harmonic_mean0.8"
          ],
          [
           "l2harmonic_mean0.9"
          ],
          [
           "l2harmonic_mean1.0"
          ],
          [
           "l2geometric_mean0.0"
          ],
          [
           "l2geometric_mean0.1"
          ],
          [
           "l2geometric_mean0.2"
          ],
          [
           "l2geometric_mean0.3"
          ],
          [
           "l2geometric_mean0.4"
          ],
          [
           "l2geometric_mean0.5"
          ],
          [
           "l2geometric_mean0.6"
          ],
          [
           "l2geometric_mean0.7"
          ],
          [
           "l2geometric_mean0.8"
          ],
          [
           "l2geometric_mean0.9"
          ],
          [
           "l2geometric_mean1.0"
          ]
         ],
         "hovertemplate": "averaging over query DCGs=%{x}<br>sum of query-doc DCGs=%{y}<br>pipeline=%{customdata[0]}<extra></extra>",
         "legendgroup": "",
         "marker": {
          "color": "#636efa",
          "symbol": "circle"
         },
         "mode": "markers",
         "name": "",
         "orientation": "v",
         "showlegend": false,
         "type": "scatter",
         "x": [
          5.29,
          5.47,
          5.68,
          5.95,
          6.27,
          6.51,
          6.72,
          6.69,
          6.63,
          6.58,
          5.65,
          5.29,
          5.61,
          5.63,
          5.65,
          5.68,
          5.72,
          5.74,
          5.81,
          5.88,
          5.99,
          5.65,
          5.29,
          5.68,
          5.65,
          5.68,
          5.73,
          5.78,
          5.82,
          5.87,
          5.94,
          6.02,
          5.65,
          5.29,
          6.31,
          6.38,
          6.72,
          6.74,
          6.72,
          6.71,
          6.7,
          6.67,
          6.6,
          5.65,
          5.29,
          5.77,
          5.89,
          5.95,
          6.01,
          6.09,
          6.19,
          6.28,
          6.32,
          6.47,
          5.65,
          5.29,
          5.85,
          5.97,
          6.05,
          6.11,
          6.18,
          6.24,
          6.3,
          6.42,
          6.48,
          5.65
         ],
         "xaxis": "x",
         "y": [
          1163.3166280307073,
          1203.9370490923297,
          1249.6707784669472,
          1308.6335310649872,
          1378.917248417762,
          1432.6494456704634,
          1478.913637038761,
          1471.700989457097,
          1458.8343017087577,
          1447.62347755165,
          1242.3759520390417,
          1163.3166280307073,
          1234.9662617288095,
          1238.2204818045032,
          1242.250084721331,
          1250.1775284493378,
          1258.4850855905233,
          1263.8318874446732,
          1277.720390384487,
          1293.9361040301774,
          1316.8279124815267,
          1242.3759520390417,
          1163.3166280307073,
          1249.175980876113,
          1244.0638547398703,
          1249.9779311224208,
          1260.1083584730939,
          1272.521202612696,
          1281.3082415507115,
          1291.050112113193,
          1307.5954532247988,
          1323.5076604966462,
          1242.3759520390417,
          1163.3166280307073,
          1387.344304471424,
          1404.5095358768258,
          1478.0697073768747,
          1482.169436163822,
          1479.2409587482716,
          1476.4804998190998,
          1473.5386720173674,
          1466.7642491813765,
          1452.8710085221078,
          1242.3759520390417,
          1163.3166280307073,
          1270.2580544631833,
          1295.3572445215264,
          1308.758387769093,
          1321.2052219615543,
          1339.0558760031054,
          1362.23652872084,
          1381.2944706668395,
          1390.747828726331,
          1422.8975593619593,
          1242.3759520390417,
          1163.3166280307073,
          1286.6995529211074,
          1313.3600045755145,
          1330.4762869880283,
          1344.1901518218315,
          1360.1814771073243,
          1373.739396176199,
          1386.9414463480057,
          1411.4123651505802,
          1425.654218710577,
          1242.3759520390417
         ],
         "yaxis": "y"
        }
       ],
       "layout": {
        "autosize": true,
        "hovermode": "closest",
        "legend": {
         "tracegroupgap": 0
        },
        "margin": {
         "t": 60
        },
        "template": {
         "data": {
          "bar": [
           {
            "error_x": {
             "color": "#2a3f5f"
            },
            "error_y": {
             "color": "#2a3f5f"
            },
            "marker": {
             "line": {
              "color": "#E5ECF6",
              "width": 0.5
             },
             "pattern": {
              "fillmode": "overlay",
              "size": 10,
              "solidity": 0.2
             }
            },
            "type": "bar"
           }
          ],
          "barpolar": [
           {
            "marker": {
             "line": {
              "color": "#E5ECF6",
              "width": 0.5
             },
             "pattern": {
              "fillmode": "overlay",
              "size": 10,
              "solidity": 0.2
             }
            },
            "type": "barpolar"
           }
          ],
          "carpet": [
           {
            "aaxis": {
             "endlinecolor": "#2a3f5f",
             "gridcolor": "white",
             "linecolor": "white",
             "minorgridcolor": "white",
             "startlinecolor": "#2a3f5f"
            },
            "baxis": {
             "endlinecolor": "#2a3f5f",
             "gridcolor": "white",
             "linecolor": "white",
             "minorgridcolor": "white",
             "startlinecolor": "#2a3f5f"
            },
            "type": "carpet"
           }
          ],
          "choropleth": [
           {
            "colorbar": {
             "outlinewidth": 0,
             "ticks": ""
            },
            "type": "choropleth"
           }
          ],
          "contour": [
           {
            "colorbar": {
             "outlinewidth": 0,
             "ticks": ""
            },
            "colorscale": [
             [
              0,
              "#0d0887"
             ],
             [
              0.1111111111111111,
              "#46039f"
             ],
             [
              0.2222222222222222,
              "#7201a8"
             ],
             [
              0.3333333333333333,
              "#9c179e"
             ],
             [
              0.4444444444444444,
              "#bd3786"
             ],
             [
              0.5555555555555556,
              "#d8576b"
             ],
             [
              0.6666666666666666,
              "#ed7953"
             ],
             [
              0.7777777777777778,
              "#fb9f3a"
             ],
             [
              0.8888888888888888,
              "#fdca26"
             ],
             [
              1,
              "#f0f921"
             ]
            ],
            "type": "contour"
           }
          ],
          "contourcarpet": [
           {
            "colorbar": {
             "outlinewidth": 0,
             "ticks": ""
            },
            "type": "contourcarpet"
           }
          ],
          "heatmap": [
           {
            "colorbar": {
             "outlinewidth": 0,
             "ticks": ""
            },
            "colorscale": [
             [
              0,
              "#0d0887"
             ],
             [
              0.1111111111111111,
              "#46039f"
             ],
             [
              0.2222222222222222,
              "#7201a8"
             ],
             [
              0.3333333333333333,
              "#9c179e"
             ],
             [
              0.4444444444444444,
              "#bd3786"
             ],
             [
              0.5555555555555556,
              "#d8576b"
             ],
             [
              0.6666666666666666,
              "#ed7953"
             ],
             [
              0.7777777777777778,
              "#fb9f3a"
             ],
             [
              0.8888888888888888,
              "#fdca26"
             ],
             [
              1,
              "#f0f921"
             ]
            ],
            "type": "heatmap"
           }
          ],
          "heatmapgl": [
           {
            "colorbar": {
             "outlinewidth": 0,
             "ticks": ""
            },
            "colorscale": [
             [
              0,
              "#0d0887"
             ],
             [
              0.1111111111111111,
              "#46039f"
             ],
             [
              0.2222222222222222,
              "#7201a8"
             ],
             [
              0.3333333333333333,
              "#9c179e"
             ],
             [
              0.4444444444444444,
              "#bd3786"
             ],
             [
              0.5555555555555556,
              "#d8576b"
             ],
             [
              0.6666666666666666,
              "#ed7953"
             ],
             [
              0.7777777777777778,
              "#fb9f3a"
             ],
             [
              0.8888888888888888,
              "#fdca26"
             ],
             [
              1,
              "#f0f921"
             ]
            ],
            "type": "heatmapgl"
           }
          ],
          "histogram": [
           {
            "marker": {
             "pattern": {
              "fillmode": "overlay",
              "size": 10,
              "solidity": 0.2
             }
            },
            "type": "histogram"
           }
          ],
          "histogram2d": [
           {
            "colorbar": {
             "outlinewidth": 0,
             "ticks": ""
            },
            "colorscale": [
             [
              0,
              "#0d0887"
             ],
             [
              0.1111111111111111,
              "#46039f"
             ],
             [
              0.2222222222222222,
              "#7201a8"
             ],
             [
              0.3333333333333333,
              "#9c179e"
             ],
             [
              0.4444444444444444,
              "#bd3786"
             ],
             [
              0.5555555555555556,
              "#d8576b"
             ],
             [
              0.6666666666666666,
              "#ed7953"
             ],
             [
              0.7777777777777778,
              "#fb9f3a"
             ],
             [
              0.8888888888888888,
              "#fdca26"
             ],
             [
              1,
              "#f0f921"
             ]
            ],
            "type": "histogram2d"
           }
          ],
          "histogram2dcontour": [
           {
            "colorbar": {
             "outlinewidth": 0,
             "ticks": ""
            },
            "colorscale": [
             [
              0,
              "#0d0887"
             ],
             [
              0.1111111111111111,
              "#46039f"
             ],
             [
              0.2222222222222222,
              "#7201a8"
             ],
             [
              0.3333333333333333,
              "#9c179e"
             ],
             [
              0.4444444444444444,
              "#bd3786"
             ],
             [
              0.5555555555555556,
              "#d8576b"
             ],
             [
              0.6666666666666666,
              "#ed7953"
             ],
             [
              0.7777777777777778,
              "#fb9f3a"
             ],
             [
              0.8888888888888888,
              "#fdca26"
             ],
             [
              1,
              "#f0f921"
             ]
            ],
            "type": "histogram2dcontour"
           }
          ],
          "mesh3d": [
           {
            "colorbar": {
             "outlinewidth": 0,
             "ticks": ""
            },
            "type": "mesh3d"
           }
          ],
          "parcoords": [
           {
            "line": {
             "colorbar": {
              "outlinewidth": 0,
              "ticks": ""
             }
            },
            "type": "parcoords"
           }
          ],
          "pie": [
           {
            "automargin": true,
            "type": "pie"
           }
          ],
          "scatter": [
           {
            "fillpattern": {
             "fillmode": "overlay",
             "size": 10,
             "solidity": 0.2
            },
            "type": "scatter"
           }
          ],
          "scatter3d": [
           {
            "line": {
             "colorbar": {
              "outlinewidth": 0,
              "ticks": ""
             }
            },
            "marker": {
             "colorbar": {
              "outlinewidth": 0,
              "ticks": ""
             }
            },
            "type": "scatter3d"
           }
          ],
          "scattercarpet": [
           {
            "marker": {
             "colorbar": {
              "outlinewidth": 0,
              "ticks": ""
             }
            },
            "type": "scattercarpet"
           }
          ],
          "scattergeo": [
           {
            "marker": {
             "colorbar": {
              "outlinewidth": 0,
              "ticks": ""
             }
            },
            "type": "scattergeo"
           }
          ],
          "scattergl": [
           {
            "marker": {
             "colorbar": {
              "outlinewidth": 0,
              "ticks": ""
             }
            },
            "type": "scattergl"
           }
          ],
          "scattermapbox": [
           {
            "marker": {
             "colorbar": {
              "outlinewidth": 0,
              "ticks": ""
             }
            },
            "type": "scattermapbox"
           }
          ],
          "scatterpolar": [
           {
            "marker": {
             "colorbar": {
              "outlinewidth": 0,
              "ticks": ""
             }
            },
            "type": "scatterpolar"
           }
          ],
          "scatterpolargl": [
           {
            "marker": {
             "colorbar": {
              "outlinewidth": 0,
              "ticks": ""
             }
            },
            "type": "scatterpolargl"
           }
          ],
          "scatterternary": [
           {
            "marker": {
             "colorbar": {
              "outlinewidth": 0,
              "ticks": ""
             }
            },
            "type": "scatterternary"
           }
          ],
          "surface": [
           {
            "colorbar": {
             "outlinewidth": 0,
             "ticks": ""
            },
            "colorscale": [
             [
              0,
              "#0d0887"
             ],
             [
              0.1111111111111111,
              "#46039f"
             ],
             [
              0.2222222222222222,
              "#7201a8"
             ],
             [
              0.3333333333333333,
              "#9c179e"
             ],
             [
              0.4444444444444444,
              "#bd3786"
             ],
             [
              0.5555555555555556,
              "#d8576b"
             ],
             [
              0.6666666666666666,
              "#ed7953"
             ],
             [
              0.7777777777777778,
              "#fb9f3a"
             ],
             [
              0.8888888888888888,
              "#fdca26"
             ],
             [
              1,
              "#f0f921"
             ]
            ],
            "type": "surface"
           }
          ],
          "table": [
           {
            "cells": {
             "fill": {
              "color": "#EBF0F8"
             },
             "line": {
              "color": "white"
             }
            },
            "header": {
             "fill": {
              "color": "#C8D4E3"
             },
             "line": {
              "color": "white"
             }
            },
            "type": "table"
           }
          ]
         },
         "layout": {
          "annotationdefaults": {
           "arrowcolor": "#2a3f5f",
           "arrowhead": 0,
           "arrowwidth": 1
          },
          "autotypenumbers": "strict",
          "coloraxis": {
           "colorbar": {
            "outlinewidth": 0,
            "ticks": ""
           }
          },
          "colorscale": {
           "diverging": [
            [
             0,
             "#8e0152"
            ],
            [
             0.1,
             "#c51b7d"
            ],
            [
             0.2,
             "#de77ae"
            ],
            [
             0.3,
             "#f1b6da"
            ],
            [
             0.4,
             "#fde0ef"
            ],
            [
             0.5,
             "#f7f7f7"
            ],
            [
             0.6,
             "#e6f5d0"
            ],
            [
             0.7,
             "#b8e186"
            ],
            [
             0.8,
             "#7fbc41"
            ],
            [
             0.9,
             "#4d9221"
            ],
            [
             1,
             "#276419"
            ]
           ],
           "sequential": [
            [
             0,
             "#0d0887"
            ],
            [
             0.1111111111111111,
             "#46039f"
            ],
            [
             0.2222222222222222,
             "#7201a8"
            ],
            [
             0.3333333333333333,
             "#9c179e"
            ],
            [
             0.4444444444444444,
             "#bd3786"
            ],
            [
             0.5555555555555556,
             "#d8576b"
            ],
            [
             0.6666666666666666,
             "#ed7953"
            ],
            [
             0.7777777777777778,
             "#fb9f3a"
            ],
            [
             0.8888888888888888,
             "#fdca26"
            ],
            [
             1,
             "#f0f921"
            ]
           ],
           "sequentialminus": [
            [
             0,
             "#0d0887"
            ],
            [
             0.1111111111111111,
             "#46039f"
            ],
            [
             0.2222222222222222,
             "#7201a8"
            ],
            [
             0.3333333333333333,
             "#9c179e"
            ],
            [
             0.4444444444444444,
             "#bd3786"
            ],
            [
             0.5555555555555556,
             "#d8576b"
            ],
            [
             0.6666666666666666,
             "#ed7953"
            ],
            [
             0.7777777777777778,
             "#fb9f3a"
            ],
            [
             0.8888888888888888,
             "#fdca26"
            ],
            [
             1,
             "#f0f921"
            ]
           ]
          },
          "colorway": [
           "#636efa",
           "#EF553B",
           "#00cc96",
           "#ab63fa",
           "#FFA15A",
           "#19d3f3",
           "#FF6692",
           "#B6E880",
           "#FF97FF",
           "#FECB52"
          ],
          "font": {
           "color": "#2a3f5f"
          },
          "geo": {
           "bgcolor": "white",
           "lakecolor": "white",
           "landcolor": "#E5ECF6",
           "showlakes": true,
           "showland": true,
           "subunitcolor": "white"
          },
          "hoverlabel": {
           "align": "left"
          },
          "hovermode": "closest",
          "mapbox": {
           "style": "light"
          },
          "paper_bgcolor": "white",
          "plot_bgcolor": "#E5ECF6",
          "polar": {
           "angularaxis": {
            "gridcolor": "white",
            "linecolor": "white",
            "ticks": ""
           },
           "bgcolor": "#E5ECF6",
           "radialaxis": {
            "gridcolor": "white",
            "linecolor": "white",
            "ticks": ""
           }
          },
          "scene": {
           "xaxis": {
            "backgroundcolor": "#E5ECF6",
            "gridcolor": "white",
            "gridwidth": 2,
            "linecolor": "white",
            "showbackground": true,
            "ticks": "",
            "zerolinecolor": "white"
           },
           "yaxis": {
            "backgroundcolor": "#E5ECF6",
            "gridcolor": "white",
            "gridwidth": 2,
            "linecolor": "white",
            "showbackground": true,
            "ticks": "",
            "zerolinecolor": "white"
           },
           "zaxis": {
            "backgroundcolor": "#E5ECF6",
            "gridcolor": "white",
            "gridwidth": 2,
            "linecolor": "white",
            "showbackground": true,
            "ticks": "",
            "zerolinecolor": "white"
           }
          },
          "shapedefaults": {
           "line": {
            "color": "#2a3f5f"
           }
          },
          "ternary": {
           "aaxis": {
            "gridcolor": "white",
            "linecolor": "white",
            "ticks": ""
           },
           "baxis": {
            "gridcolor": "white",
            "linecolor": "white",
            "ticks": ""
           },
           "bgcolor": "#E5ECF6",
           "caxis": {
            "gridcolor": "white",
            "linecolor": "white",
            "ticks": ""
           }
          },
          "title": {
           "x": 0.05
          },
          "xaxis": {
           "automargin": true,
           "gridcolor": "white",
           "linecolor": "white",
           "ticks": "",
           "title": {
            "standoff": 15
           },
           "zerolinecolor": "white",
           "zerolinewidth": 2
          },
          "yaxis": {
           "automargin": true,
           "gridcolor": "white",
           "linecolor": "white",
           "ticks": "",
           "title": {
            "standoff": 15
           },
           "zerolinecolor": "white",
           "zerolinewidth": 2
          }
         }
        },
        "title": {
         "text": "Scatter Plot of different DCG calculations"
        },
        "xaxis": {
         "anchor": "y",
         "autorange": true,
         "domain": [
          0,
          1
         ],
         "range": [
          5.196818181818182,
          6.833181818181818
         ],
         "title": {
          "text": "DCG - averaging over query DCGs"
         },
         "type": "linear"
        },
        "yaxis": {
         "anchor": "x",
         "autorange": true,
         "domain": [
          0,
          1
         ],
         "range": [
          1138.6285497106892,
          1506.85751448384
         ],
         "title": {
          "text": "DCG - sum of query-doc DCGs"
         },
         "type": "linear"
        }
       }
      }
     },
     "metadata": {},
     "output_type": "display_data"
    }
   ],
   "source": [
    "pio.renderers.default = 'plotly_mimetype'\n",
    "fig = px.scatter(df_metrics_merged, \n",
    "                 x='dcg', y='value', \n",
    "                 hover_data={'pipeline': True},  # Show query on hover\n",
    "                 labels={'dcg': 'averaging over query DCGs', 'value': 'sum of query-doc DCGs'})\n",
    "\n",
    "# Customize the layout\n",
    "fig.update_layout(title=\"Scatter Plot of different DCG calculations\",\n",
    "                  xaxis_title=\"DCG - averaging over query DCGs\",\n",
    "                  yaxis_title=\"DCG - sum of query-doc DCGs\",\n",
    "                  hovermode=\"closest\")\n",
    "\n",
    "# Show the plot\n",
    "fig.show()"
   ]
  },
  {
   "cell_type": "code",
   "execution_count": 83,
   "id": "387d94fc-58d9-4d19-ba08-d62fc7791ed5",
   "metadata": {},
   "outputs": [
    {
     "data": {
      "text/html": [
       "<div>\n",
       "<style scoped>\n",
       "    .dataframe tbody tr th:only-of-type {\n",
       "        vertical-align: middle;\n",
       "    }\n",
       "\n",
       "    .dataframe tbody tr th {\n",
       "        vertical-align: top;\n",
       "    }\n",
       "\n",
       "    .dataframe thead th {\n",
       "        text-align: right;\n",
       "    }\n",
       "</style>\n",
       "<table border=\"1\" class=\"dataframe\">\n",
       "  <thead>\n",
       "    <tr style=\"text-align: right;\">\n",
       "      <th></th>\n",
       "      <th>pipeline</th>\n",
       "      <th>metric</th>\n",
       "      <th>value</th>\n",
       "      <th>judgements</th>\n",
       "      <th>mising</th>\n",
       "      <th>ratio</th>\n",
       "      <th>dcg</th>\n",
       "      <th>dcg_dense</th>\n",
       "      <th>ndcg</th>\n",
       "      <th>prec@10</th>\n",
       "      <th>ratio_of_ratings</th>\n",
       "    </tr>\n",
       "  </thead>\n",
       "  <tbody>\n",
       "    <tr>\n",
       "      <th>37</th>\n",
       "      <td>l2arithmetic_mean0.4</td>\n",
       "      <td>sum_dcg</td>\n",
       "      <td>1482.169436</td>\n",
       "      <td>808</td>\n",
       "      <td>20124</td>\n",
       "      <td>0.036727</td>\n",
       "      <td>6.74</td>\n",
       "      <td>12.55</td>\n",
       "      <td>0.31</td>\n",
       "      <td>0.35</td>\n",
       "      <td>0.37</td>\n",
       "    </tr>\n",
       "    <tr>\n",
       "      <th>38</th>\n",
       "      <td>l2arithmetic_mean0.5</td>\n",
       "      <td>sum_dcg</td>\n",
       "      <td>1479.240959</td>\n",
       "      <td>805</td>\n",
       "      <td>20030</td>\n",
       "      <td>0.036591</td>\n",
       "      <td>6.72</td>\n",
       "      <td>12.74</td>\n",
       "      <td>0.30</td>\n",
       "      <td>0.35</td>\n",
       "      <td>0.37</td>\n",
       "    </tr>\n",
       "    <tr>\n",
       "      <th>6</th>\n",
       "      <td>min_maxarithmetic_mean0.6</td>\n",
       "      <td>sum_dcg</td>\n",
       "      <td>1478.913637</td>\n",
       "      <td>800</td>\n",
       "      <td>20027</td>\n",
       "      <td>0.036364</td>\n",
       "      <td>6.72</td>\n",
       "      <td>12.61</td>\n",
       "      <td>0.30</td>\n",
       "      <td>0.35</td>\n",
       "      <td>0.36</td>\n",
       "    </tr>\n",
       "    <tr>\n",
       "      <th>36</th>\n",
       "      <td>l2arithmetic_mean0.3</td>\n",
       "      <td>sum_dcg</td>\n",
       "      <td>1478.069707</td>\n",
       "      <td>798</td>\n",
       "      <td>20204</td>\n",
       "      <td>0.036273</td>\n",
       "      <td>6.72</td>\n",
       "      <td>12.39</td>\n",
       "      <td>0.30</td>\n",
       "      <td>0.35</td>\n",
       "      <td>0.36</td>\n",
       "    </tr>\n",
       "    <tr>\n",
       "      <th>39</th>\n",
       "      <td>l2arithmetic_mean0.6</td>\n",
       "      <td>sum_dcg</td>\n",
       "      <td>1476.480500</td>\n",
       "      <td>800</td>\n",
       "      <td>20031</td>\n",
       "      <td>0.036364</td>\n",
       "      <td>6.71</td>\n",
       "      <td>12.60</td>\n",
       "      <td>0.30</td>\n",
       "      <td>0.35</td>\n",
       "      <td>0.36</td>\n",
       "    </tr>\n",
       "  </tbody>\n",
       "</table>\n",
       "</div>"
      ],
      "text/plain": [
       "                     pipeline   metric        value  judgements  mising  \\\n",
       "37       l2arithmetic_mean0.4  sum_dcg  1482.169436         808   20124   \n",
       "38       l2arithmetic_mean0.5  sum_dcg  1479.240959         805   20030   \n",
       "6   min_maxarithmetic_mean0.6  sum_dcg  1478.913637         800   20027   \n",
       "36       l2arithmetic_mean0.3  sum_dcg  1478.069707         798   20204   \n",
       "39       l2arithmetic_mean0.6  sum_dcg  1476.480500         800   20031   \n",
       "\n",
       "       ratio   dcg  dcg_dense  ndcg  prec@10  ratio_of_ratings  \n",
       "37  0.036727  6.74      12.55  0.31     0.35              0.37  \n",
       "38  0.036591  6.72      12.74  0.30     0.35              0.37  \n",
       "6   0.036364  6.72      12.61  0.30     0.35              0.36  \n",
       "36  0.036273  6.72      12.39  0.30     0.35              0.36  \n",
       "39  0.036364  6.71      12.60  0.30     0.35              0.36  "
      ]
     },
     "execution_count": 83,
     "metadata": {},
     "output_type": "execute_result"
    }
   ],
   "source": [
    "df_metrics_merged.sort_values(by='value', ascending=False).head(5)"
   ]
  },
  {
   "cell_type": "code",
   "execution_count": 84,
   "id": "f1aaa5df-7fc5-4a39-a6c8-b334073f4d96",
   "metadata": {},
   "outputs": [
    {
     "data": {
      "text/html": [
       "<div>\n",
       "<style scoped>\n",
       "    .dataframe tbody tr th:only-of-type {\n",
       "        vertical-align: middle;\n",
       "    }\n",
       "\n",
       "    .dataframe tbody tr th {\n",
       "        vertical-align: top;\n",
       "    }\n",
       "\n",
       "    .dataframe thead th {\n",
       "        text-align: right;\n",
       "    }\n",
       "</style>\n",
       "<table border=\"1\" class=\"dataframe\">\n",
       "  <thead>\n",
       "    <tr style=\"text-align: right;\">\n",
       "      <th></th>\n",
       "      <th>pipeline</th>\n",
       "      <th>metric</th>\n",
       "      <th>value</th>\n",
       "      <th>judgements</th>\n",
       "      <th>mising</th>\n",
       "      <th>ratio</th>\n",
       "      <th>dcg</th>\n",
       "      <th>dcg_dense</th>\n",
       "      <th>ndcg</th>\n",
       "      <th>prec@10</th>\n",
       "      <th>ratio_of_ratings</th>\n",
       "    </tr>\n",
       "  </thead>\n",
       "  <tbody>\n",
       "    <tr>\n",
       "      <th>37</th>\n",
       "      <td>l2arithmetic_mean0.4</td>\n",
       "      <td>sum_dcg</td>\n",
       "      <td>1482.169436</td>\n",
       "      <td>808</td>\n",
       "      <td>20124</td>\n",
       "      <td>0.036727</td>\n",
       "      <td>6.74</td>\n",
       "      <td>12.55</td>\n",
       "      <td>0.31</td>\n",
       "      <td>0.35</td>\n",
       "      <td>0.37</td>\n",
       "    </tr>\n",
       "    <tr>\n",
       "      <th>36</th>\n",
       "      <td>l2arithmetic_mean0.3</td>\n",
       "      <td>sum_dcg</td>\n",
       "      <td>1478.069707</td>\n",
       "      <td>798</td>\n",
       "      <td>20204</td>\n",
       "      <td>0.036273</td>\n",
       "      <td>6.72</td>\n",
       "      <td>12.39</td>\n",
       "      <td>0.30</td>\n",
       "      <td>0.35</td>\n",
       "      <td>0.36</td>\n",
       "    </tr>\n",
       "    <tr>\n",
       "      <th>6</th>\n",
       "      <td>min_maxarithmetic_mean0.6</td>\n",
       "      <td>sum_dcg</td>\n",
       "      <td>1478.913637</td>\n",
       "      <td>800</td>\n",
       "      <td>20027</td>\n",
       "      <td>0.036364</td>\n",
       "      <td>6.72</td>\n",
       "      <td>12.61</td>\n",
       "      <td>0.30</td>\n",
       "      <td>0.35</td>\n",
       "      <td>0.36</td>\n",
       "    </tr>\n",
       "    <tr>\n",
       "      <th>38</th>\n",
       "      <td>l2arithmetic_mean0.5</td>\n",
       "      <td>sum_dcg</td>\n",
       "      <td>1479.240959</td>\n",
       "      <td>805</td>\n",
       "      <td>20030</td>\n",
       "      <td>0.036591</td>\n",
       "      <td>6.72</td>\n",
       "      <td>12.74</td>\n",
       "      <td>0.30</td>\n",
       "      <td>0.35</td>\n",
       "      <td>0.37</td>\n",
       "    </tr>\n",
       "    <tr>\n",
       "      <th>39</th>\n",
       "      <td>l2arithmetic_mean0.6</td>\n",
       "      <td>sum_dcg</td>\n",
       "      <td>1476.480500</td>\n",
       "      <td>800</td>\n",
       "      <td>20031</td>\n",
       "      <td>0.036364</td>\n",
       "      <td>6.71</td>\n",
       "      <td>12.60</td>\n",
       "      <td>0.30</td>\n",
       "      <td>0.35</td>\n",
       "      <td>0.36</td>\n",
       "    </tr>\n",
       "  </tbody>\n",
       "</table>\n",
       "</div>"
      ],
      "text/plain": [
       "                     pipeline   metric        value  judgements  mising  \\\n",
       "37       l2arithmetic_mean0.4  sum_dcg  1482.169436         808   20124   \n",
       "36       l2arithmetic_mean0.3  sum_dcg  1478.069707         798   20204   \n",
       "6   min_maxarithmetic_mean0.6  sum_dcg  1478.913637         800   20027   \n",
       "38       l2arithmetic_mean0.5  sum_dcg  1479.240959         805   20030   \n",
       "39       l2arithmetic_mean0.6  sum_dcg  1476.480500         800   20031   \n",
       "\n",
       "       ratio   dcg  dcg_dense  ndcg  prec@10  ratio_of_ratings  \n",
       "37  0.036727  6.74      12.55  0.31     0.35              0.37  \n",
       "36  0.036273  6.72      12.39  0.30     0.35              0.36  \n",
       "6   0.036364  6.72      12.61  0.30     0.35              0.36  \n",
       "38  0.036591  6.72      12.74  0.30     0.35              0.37  \n",
       "39  0.036364  6.71      12.60  0.30     0.35              0.36  "
      ]
     },
     "execution_count": 84,
     "metadata": {},
     "output_type": "execute_result"
    }
   ],
   "source": [
    "df_metrics_merged.sort_values(by='dcg', ascending=False).head(5)"
   ]
  },
  {
   "cell_type": "code",
   "execution_count": 85,
   "id": "87c485cf-a2ff-4908-a0e8-7e3ffe3d5c34",
   "metadata": {},
   "outputs": [],
   "source": [
    "df_mean_dcg_merged = df_qd_metrics[df_qd_metrics.metric==\"mean_dcg\"].merge(df_metrics_per_pipeline, on='pipeline', how='inner', validate='one_to_one')"
   ]
  },
  {
   "cell_type": "code",
   "execution_count": 86,
   "id": "be9a890c-8b70-4364-bb95-2a9d2c72f22a",
   "metadata": {},
   "outputs": [
    {
     "data": {
      "text/html": [
       "<div>\n",
       "<style scoped>\n",
       "    .dataframe tbody tr th:only-of-type {\n",
       "        vertical-align: middle;\n",
       "    }\n",
       "\n",
       "    .dataframe tbody tr th {\n",
       "        vertical-align: top;\n",
       "    }\n",
       "\n",
       "    .dataframe thead th {\n",
       "        text-align: right;\n",
       "    }\n",
       "</style>\n",
       "<table border=\"1\" class=\"dataframe\">\n",
       "  <thead>\n",
       "    <tr style=\"text-align: right;\">\n",
       "      <th></th>\n",
       "      <th>pipeline</th>\n",
       "      <th>metric</th>\n",
       "      <th>value</th>\n",
       "      <th>judgements</th>\n",
       "      <th>mising</th>\n",
       "      <th>ratio</th>\n",
       "      <th>dcg</th>\n",
       "      <th>dcg_dense</th>\n",
       "      <th>ndcg</th>\n",
       "      <th>prec@10</th>\n",
       "      <th>ratio_of_ratings</th>\n",
       "    </tr>\n",
       "  </thead>\n",
       "  <tbody>\n",
       "    <tr>\n",
       "      <th>0</th>\n",
       "      <td>min_maxarithmetic_mean0.0</td>\n",
       "      <td>mean_dcg</td>\n",
       "      <td>1.829114</td>\n",
       "      <td>636</td>\n",
       "      <td>20293</td>\n",
       "      <td>0.028909</td>\n",
       "      <td>5.29</td>\n",
       "      <td>11.67</td>\n",
       "      <td>0.24</td>\n",
       "      <td>0.28</td>\n",
       "      <td>0.29</td>\n",
       "    </tr>\n",
       "    <tr>\n",
       "      <th>1</th>\n",
       "      <td>min_maxarithmetic_mean0.1</td>\n",
       "      <td>mean_dcg</td>\n",
       "      <td>1.829692</td>\n",
       "      <td>658</td>\n",
       "      <td>20044</td>\n",
       "      <td>0.029909</td>\n",
       "      <td>5.47</td>\n",
       "      <td>12.62</td>\n",
       "      <td>0.25</td>\n",
       "      <td>0.29</td>\n",
       "      <td>0.30</td>\n",
       "    </tr>\n",
       "    <tr>\n",
       "      <th>2</th>\n",
       "      <td>min_maxarithmetic_mean0.2</td>\n",
       "      <td>mean_dcg</td>\n",
       "      <td>1.835053</td>\n",
       "      <td>681</td>\n",
       "      <td>20037</td>\n",
       "      <td>0.030955</td>\n",
       "      <td>5.68</td>\n",
       "      <td>12.62</td>\n",
       "      <td>0.26</td>\n",
       "      <td>0.30</td>\n",
       "      <td>0.31</td>\n",
       "    </tr>\n",
       "  </tbody>\n",
       "</table>\n",
       "</div>"
      ],
      "text/plain": [
       "                    pipeline    metric     value  judgements  mising  \\\n",
       "0  min_maxarithmetic_mean0.0  mean_dcg  1.829114         636   20293   \n",
       "1  min_maxarithmetic_mean0.1  mean_dcg  1.829692         658   20044   \n",
       "2  min_maxarithmetic_mean0.2  mean_dcg  1.835053         681   20037   \n",
       "\n",
       "      ratio   dcg  dcg_dense  ndcg  prec@10  ratio_of_ratings  \n",
       "0  0.028909  5.29      11.67  0.24     0.28              0.29  \n",
       "1  0.029909  5.47      12.62  0.25     0.29              0.30  \n",
       "2  0.030955  5.68      12.62  0.26     0.30              0.31  "
      ]
     },
     "execution_count": 86,
     "metadata": {},
     "output_type": "execute_result"
    }
   ],
   "source": [
    "df_mean_dcg_merged.head(3)"
   ]
  },
  {
   "cell_type": "code",
   "execution_count": 87,
   "id": "1003a41b-0864-4e22-bc01-aa95fb6fd35c",
   "metadata": {},
   "outputs": [
    {
     "data": {
      "application/vnd.plotly.v1+json": {
       "config": {
        "plotlyServerURL": "https://plot.ly"
       },
       "data": [
        {
         "customdata": [
          [
           "min_maxarithmetic_mean0.0"
          ],
          [
           "min_maxarithmetic_mean0.1"
          ],
          [
           "min_maxarithmetic_mean0.2"
          ],
          [
           "min_maxarithmetic_mean0.3"
          ],
          [
           "min_maxarithmetic_mean0.4"
          ],
          [
           "min_maxarithmetic_mean0.5"
          ],
          [
           "min_maxarithmetic_mean0.6"
          ],
          [
           "min_maxarithmetic_mean0.7"
          ],
          [
           "min_maxarithmetic_mean0.8"
          ],
          [
           "min_maxarithmetic_mean0.9"
          ],
          [
           "min_maxarithmetic_mean1.0"
          ],
          [
           "min_maxharmonic_mean0.0"
          ],
          [
           "min_maxharmonic_mean0.1"
          ],
          [
           "min_maxharmonic_mean0.2"
          ],
          [
           "min_maxharmonic_mean0.3"
          ],
          [
           "min_maxharmonic_mean0.4"
          ],
          [
           "min_maxharmonic_mean0.5"
          ],
          [
           "min_maxharmonic_mean0.6"
          ],
          [
           "min_maxharmonic_mean0.7"
          ],
          [
           "min_maxharmonic_mean0.8"
          ],
          [
           "min_maxharmonic_mean0.9"
          ],
          [
           "min_maxharmonic_mean1.0"
          ],
          [
           "min_maxgeometric_mean0.0"
          ],
          [
           "min_maxgeometric_mean0.1"
          ],
          [
           "min_maxgeometric_mean0.2"
          ],
          [
           "min_maxgeometric_mean0.3"
          ],
          [
           "min_maxgeometric_mean0.4"
          ],
          [
           "min_maxgeometric_mean0.5"
          ],
          [
           "min_maxgeometric_mean0.6"
          ],
          [
           "min_maxgeometric_mean0.7"
          ],
          [
           "min_maxgeometric_mean0.8"
          ],
          [
           "min_maxgeometric_mean0.9"
          ],
          [
           "min_maxgeometric_mean1.0"
          ],
          [
           "l2arithmetic_mean0.0"
          ],
          [
           "l2arithmetic_mean0.1"
          ],
          [
           "l2arithmetic_mean0.2"
          ],
          [
           "l2arithmetic_mean0.3"
          ],
          [
           "l2arithmetic_mean0.4"
          ],
          [
           "l2arithmetic_mean0.5"
          ],
          [
           "l2arithmetic_mean0.6"
          ],
          [
           "l2arithmetic_mean0.7"
          ],
          [
           "l2arithmetic_mean0.8"
          ],
          [
           "l2arithmetic_mean0.9"
          ],
          [
           "l2arithmetic_mean1.0"
          ],
          [
           "l2harmonic_mean0.0"
          ],
          [
           "l2harmonic_mean0.1"
          ],
          [
           "l2harmonic_mean0.2"
          ],
          [
           "l2harmonic_mean0.3"
          ],
          [
           "l2harmonic_mean0.4"
          ],
          [
           "l2harmonic_mean0.5"
          ],
          [
           "l2harmonic_mean0.6"
          ],
          [
           "l2harmonic_mean0.7"
          ],
          [
           "l2harmonic_mean0.8"
          ],
          [
           "l2harmonic_mean0.9"
          ],
          [
           "l2harmonic_mean1.0"
          ],
          [
           "l2geometric_mean0.0"
          ],
          [
           "l2geometric_mean0.1"
          ],
          [
           "l2geometric_mean0.2"
          ],
          [
           "l2geometric_mean0.3"
          ],
          [
           "l2geometric_mean0.4"
          ],
          [
           "l2geometric_mean0.5"
          ],
          [
           "l2geometric_mean0.6"
          ],
          [
           "l2geometric_mean0.7"
          ],
          [
           "l2geometric_mean0.8"
          ],
          [
           "l2geometric_mean0.9"
          ],
          [
           "l2geometric_mean1.0"
          ]
         ],
         "hovertemplate": "averaging over query DCGs=%{x}<br>mean over query-doc DCGs=%{y}<br>pipeline=%{customdata[0]}<extra></extra>",
         "legendgroup": "",
         "marker": {
          "color": "#636efa",
          "symbol": "circle"
         },
         "mode": "markers",
         "name": "",
         "orientation": "v",
         "showlegend": false,
         "type": "scatter",
         "x": [
          5.29,
          5.47,
          5.68,
          5.95,
          6.27,
          6.51,
          6.72,
          6.69,
          6.63,
          6.58,
          5.65,
          5.29,
          5.61,
          5.63,
          5.65,
          5.68,
          5.72,
          5.74,
          5.81,
          5.88,
          5.99,
          5.65,
          5.29,
          5.68,
          5.65,
          5.68,
          5.73,
          5.78,
          5.82,
          5.87,
          5.94,
          6.02,
          5.65,
          5.29,
          6.31,
          6.38,
          6.72,
          6.74,
          6.72,
          6.71,
          6.7,
          6.67,
          6.6,
          5.65,
          5.29,
          5.77,
          5.89,
          5.95,
          6.01,
          6.09,
          6.19,
          6.28,
          6.32,
          6.47,
          5.65,
          5.29,
          5.85,
          5.97,
          6.05,
          6.11,
          6.18,
          6.24,
          6.3,
          6.42,
          6.48,
          5.65
         ],
         "xaxis": "x",
         "y": [
          1.8291141950168355,
          1.829691563970106,
          1.8350525381306126,
          1.83282007151959,
          1.8312314056012775,
          1.8390878635050878,
          1.8486420462984512,
          1.821412115664724,
          1.8304069030222807,
          1.8370856314107233,
          1.8710481205407254,
          1.8291141950168355,
          1.8055062305976748,
          1.8102638622872853,
          1.8108601818095202,
          1.8144811733662378,
          1.810769907324494,
          1.7977693989255663,
          1.7945511100905716,
          1.7773847582832107,
          1.7843196646091148,
          1.8710481205407254,
          1.8291141950168355,
          1.7999653903114021,
          1.8082323470056254,
          1.8063264900613019,
          1.8105005150475486,
          1.8075585264384886,
          1.7945493579141618,
          1.7956190710892812,
          1.7766242570989115,
          1.7861102030993876,
          1.8710481205407254,
          1.8291141950168355,
          1.8572212911264043,
          1.8726793811691012,
          1.8522176784171362,
          1.8343681140641361,
          1.8375664083829462,
          1.8456006247738748,
          1.8535077635438584,
          1.8543163706464936,
          1.8484363976108242,
          1.8710481205407254,
          1.8291141950168355,
          1.7569267696586215,
          1.7599962561433782,
          1.7662056515102469,
          1.7522615675882685,
          1.7572911758570937,
          1.7691383489881038,
          1.789241542314559,
          1.7991563114182807,
          1.8218918813853513,
          1.8710481205407254,
          1.8291141950168355,
          1.7577862744823871,
          1.7676446898728324,
          1.764557409798446,
          1.7756805175981922,
          1.7780150027546724,
          1.781763159761607,
          1.794232142752918,
          1.8118258859442622,
          1.827761818859714,
          1.8710481205407254
         ],
         "yaxis": "y"
        }
       ],
       "layout": {
        "autosize": true,
        "hovermode": "closest",
        "legend": {
         "tracegroupgap": 0
        },
        "margin": {
         "t": 60
        },
        "template": {
         "data": {
          "bar": [
           {
            "error_x": {
             "color": "#2a3f5f"
            },
            "error_y": {
             "color": "#2a3f5f"
            },
            "marker": {
             "line": {
              "color": "#E5ECF6",
              "width": 0.5
             },
             "pattern": {
              "fillmode": "overlay",
              "size": 10,
              "solidity": 0.2
             }
            },
            "type": "bar"
           }
          ],
          "barpolar": [
           {
            "marker": {
             "line": {
              "color": "#E5ECF6",
              "width": 0.5
             },
             "pattern": {
              "fillmode": "overlay",
              "size": 10,
              "solidity": 0.2
             }
            },
            "type": "barpolar"
           }
          ],
          "carpet": [
           {
            "aaxis": {
             "endlinecolor": "#2a3f5f",
             "gridcolor": "white",
             "linecolor": "white",
             "minorgridcolor": "white",
             "startlinecolor": "#2a3f5f"
            },
            "baxis": {
             "endlinecolor": "#2a3f5f",
             "gridcolor": "white",
             "linecolor": "white",
             "minorgridcolor": "white",
             "startlinecolor": "#2a3f5f"
            },
            "type": "carpet"
           }
          ],
          "choropleth": [
           {
            "colorbar": {
             "outlinewidth": 0,
             "ticks": ""
            },
            "type": "choropleth"
           }
          ],
          "contour": [
           {
            "colorbar": {
             "outlinewidth": 0,
             "ticks": ""
            },
            "colorscale": [
             [
              0,
              "#0d0887"
             ],
             [
              0.1111111111111111,
              "#46039f"
             ],
             [
              0.2222222222222222,
              "#7201a8"
             ],
             [
              0.3333333333333333,
              "#9c179e"
             ],
             [
              0.4444444444444444,
              "#bd3786"
             ],
             [
              0.5555555555555556,
              "#d8576b"
             ],
             [
              0.6666666666666666,
              "#ed7953"
             ],
             [
              0.7777777777777778,
              "#fb9f3a"
             ],
             [
              0.8888888888888888,
              "#fdca26"
             ],
             [
              1,
              "#f0f921"
             ]
            ],
            "type": "contour"
           }
          ],
          "contourcarpet": [
           {
            "colorbar": {
             "outlinewidth": 0,
             "ticks": ""
            },
            "type": "contourcarpet"
           }
          ],
          "heatmap": [
           {
            "colorbar": {
             "outlinewidth": 0,
             "ticks": ""
            },
            "colorscale": [
             [
              0,
              "#0d0887"
             ],
             [
              0.1111111111111111,
              "#46039f"
             ],
             [
              0.2222222222222222,
              "#7201a8"
             ],
             [
              0.3333333333333333,
              "#9c179e"
             ],
             [
              0.4444444444444444,
              "#bd3786"
             ],
             [
              0.5555555555555556,
              "#d8576b"
             ],
             [
              0.6666666666666666,
              "#ed7953"
             ],
             [
              0.7777777777777778,
              "#fb9f3a"
             ],
             [
              0.8888888888888888,
              "#fdca26"
             ],
             [
              1,
              "#f0f921"
             ]
            ],
            "type": "heatmap"
           }
          ],
          "heatmapgl": [
           {
            "colorbar": {
             "outlinewidth": 0,
             "ticks": ""
            },
            "colorscale": [
             [
              0,
              "#0d0887"
             ],
             [
              0.1111111111111111,
              "#46039f"
             ],
             [
              0.2222222222222222,
              "#7201a8"
             ],
             [
              0.3333333333333333,
              "#9c179e"
             ],
             [
              0.4444444444444444,
              "#bd3786"
             ],
             [
              0.5555555555555556,
              "#d8576b"
             ],
             [
              0.6666666666666666,
              "#ed7953"
             ],
             [
              0.7777777777777778,
              "#fb9f3a"
             ],
             [
              0.8888888888888888,
              "#fdca26"
             ],
             [
              1,
              "#f0f921"
             ]
            ],
            "type": "heatmapgl"
           }
          ],
          "histogram": [
           {
            "marker": {
             "pattern": {
              "fillmode": "overlay",
              "size": 10,
              "solidity": 0.2
             }
            },
            "type": "histogram"
           }
          ],
          "histogram2d": [
           {
            "colorbar": {
             "outlinewidth": 0,
             "ticks": ""
            },
            "colorscale": [
             [
              0,
              "#0d0887"
             ],
             [
              0.1111111111111111,
              "#46039f"
             ],
             [
              0.2222222222222222,
              "#7201a8"
             ],
             [
              0.3333333333333333,
              "#9c179e"
             ],
             [
              0.4444444444444444,
              "#bd3786"
             ],
             [
              0.5555555555555556,
              "#d8576b"
             ],
             [
              0.6666666666666666,
              "#ed7953"
             ],
             [
              0.7777777777777778,
              "#fb9f3a"
             ],
             [
              0.8888888888888888,
              "#fdca26"
             ],
             [
              1,
              "#f0f921"
             ]
            ],
            "type": "histogram2d"
           }
          ],
          "histogram2dcontour": [
           {
            "colorbar": {
             "outlinewidth": 0,
             "ticks": ""
            },
            "colorscale": [
             [
              0,
              "#0d0887"
             ],
             [
              0.1111111111111111,
              "#46039f"
             ],
             [
              0.2222222222222222,
              "#7201a8"
             ],
             [
              0.3333333333333333,
              "#9c179e"
             ],
             [
              0.4444444444444444,
              "#bd3786"
             ],
             [
              0.5555555555555556,
              "#d8576b"
             ],
             [
              0.6666666666666666,
              "#ed7953"
             ],
             [
              0.7777777777777778,
              "#fb9f3a"
             ],
             [
              0.8888888888888888,
              "#fdca26"
             ],
             [
              1,
              "#f0f921"
             ]
            ],
            "type": "histogram2dcontour"
           }
          ],
          "mesh3d": [
           {
            "colorbar": {
             "outlinewidth": 0,
             "ticks": ""
            },
            "type": "mesh3d"
           }
          ],
          "parcoords": [
           {
            "line": {
             "colorbar": {
              "outlinewidth": 0,
              "ticks": ""
             }
            },
            "type": "parcoords"
           }
          ],
          "pie": [
           {
            "automargin": true,
            "type": "pie"
           }
          ],
          "scatter": [
           {
            "fillpattern": {
             "fillmode": "overlay",
             "size": 10,
             "solidity": 0.2
            },
            "type": "scatter"
           }
          ],
          "scatter3d": [
           {
            "line": {
             "colorbar": {
              "outlinewidth": 0,
              "ticks": ""
             }
            },
            "marker": {
             "colorbar": {
              "outlinewidth": 0,
              "ticks": ""
             }
            },
            "type": "scatter3d"
           }
          ],
          "scattercarpet": [
           {
            "marker": {
             "colorbar": {
              "outlinewidth": 0,
              "ticks": ""
             }
            },
            "type": "scattercarpet"
           }
          ],
          "scattergeo": [
           {
            "marker": {
             "colorbar": {
              "outlinewidth": 0,
              "ticks": ""
             }
            },
            "type": "scattergeo"
           }
          ],
          "scattergl": [
           {
            "marker": {
             "colorbar": {
              "outlinewidth": 0,
              "ticks": ""
             }
            },
            "type": "scattergl"
           }
          ],
          "scattermapbox": [
           {
            "marker": {
             "colorbar": {
              "outlinewidth": 0,
              "ticks": ""
             }
            },
            "type": "scattermapbox"
           }
          ],
          "scatterpolar": [
           {
            "marker": {
             "colorbar": {
              "outlinewidth": 0,
              "ticks": ""
             }
            },
            "type": "scatterpolar"
           }
          ],
          "scatterpolargl": [
           {
            "marker": {
             "colorbar": {
              "outlinewidth": 0,
              "ticks": ""
             }
            },
            "type": "scatterpolargl"
           }
          ],
          "scatterternary": [
           {
            "marker": {
             "colorbar": {
              "outlinewidth": 0,
              "ticks": ""
             }
            },
            "type": "scatterternary"
           }
          ],
          "surface": [
           {
            "colorbar": {
             "outlinewidth": 0,
             "ticks": ""
            },
            "colorscale": [
             [
              0,
              "#0d0887"
             ],
             [
              0.1111111111111111,
              "#46039f"
             ],
             [
              0.2222222222222222,
              "#7201a8"
             ],
             [
              0.3333333333333333,
              "#9c179e"
             ],
             [
              0.4444444444444444,
              "#bd3786"
             ],
             [
              0.5555555555555556,
              "#d8576b"
             ],
             [
              0.6666666666666666,
              "#ed7953"
             ],
             [
              0.7777777777777778,
              "#fb9f3a"
             ],
             [
              0.8888888888888888,
              "#fdca26"
             ],
             [
              1,
              "#f0f921"
             ]
            ],
            "type": "surface"
           }
          ],
          "table": [
           {
            "cells": {
             "fill": {
              "color": "#EBF0F8"
             },
             "line": {
              "color": "white"
             }
            },
            "header": {
             "fill": {
              "color": "#C8D4E3"
             },
             "line": {
              "color": "white"
             }
            },
            "type": "table"
           }
          ]
         },
         "layout": {
          "annotationdefaults": {
           "arrowcolor": "#2a3f5f",
           "arrowhead": 0,
           "arrowwidth": 1
          },
          "autotypenumbers": "strict",
          "coloraxis": {
           "colorbar": {
            "outlinewidth": 0,
            "ticks": ""
           }
          },
          "colorscale": {
           "diverging": [
            [
             0,
             "#8e0152"
            ],
            [
             0.1,
             "#c51b7d"
            ],
            [
             0.2,
             "#de77ae"
            ],
            [
             0.3,
             "#f1b6da"
            ],
            [
             0.4,
             "#fde0ef"
            ],
            [
             0.5,
             "#f7f7f7"
            ],
            [
             0.6,
             "#e6f5d0"
            ],
            [
             0.7,
             "#b8e186"
            ],
            [
             0.8,
             "#7fbc41"
            ],
            [
             0.9,
             "#4d9221"
            ],
            [
             1,
             "#276419"
            ]
           ],
           "sequential": [
            [
             0,
             "#0d0887"
            ],
            [
             0.1111111111111111,
             "#46039f"
            ],
            [
             0.2222222222222222,
             "#7201a8"
            ],
            [
             0.3333333333333333,
             "#9c179e"
            ],
            [
             0.4444444444444444,
             "#bd3786"
            ],
            [
             0.5555555555555556,
             "#d8576b"
            ],
            [
             0.6666666666666666,
             "#ed7953"
            ],
            [
             0.7777777777777778,
             "#fb9f3a"
            ],
            [
             0.8888888888888888,
             "#fdca26"
            ],
            [
             1,
             "#f0f921"
            ]
           ],
           "sequentialminus": [
            [
             0,
             "#0d0887"
            ],
            [
             0.1111111111111111,
             "#46039f"
            ],
            [
             0.2222222222222222,
             "#7201a8"
            ],
            [
             0.3333333333333333,
             "#9c179e"
            ],
            [
             0.4444444444444444,
             "#bd3786"
            ],
            [
             0.5555555555555556,
             "#d8576b"
            ],
            [
             0.6666666666666666,
             "#ed7953"
            ],
            [
             0.7777777777777778,
             "#fb9f3a"
            ],
            [
             0.8888888888888888,
             "#fdca26"
            ],
            [
             1,
             "#f0f921"
            ]
           ]
          },
          "colorway": [
           "#636efa",
           "#EF553B",
           "#00cc96",
           "#ab63fa",
           "#FFA15A",
           "#19d3f3",
           "#FF6692",
           "#B6E880",
           "#FF97FF",
           "#FECB52"
          ],
          "font": {
           "color": "#2a3f5f"
          },
          "geo": {
           "bgcolor": "white",
           "lakecolor": "white",
           "landcolor": "#E5ECF6",
           "showlakes": true,
           "showland": true,
           "subunitcolor": "white"
          },
          "hoverlabel": {
           "align": "left"
          },
          "hovermode": "closest",
          "mapbox": {
           "style": "light"
          },
          "paper_bgcolor": "white",
          "plot_bgcolor": "#E5ECF6",
          "polar": {
           "angularaxis": {
            "gridcolor": "white",
            "linecolor": "white",
            "ticks": ""
           },
           "bgcolor": "#E5ECF6",
           "radialaxis": {
            "gridcolor": "white",
            "linecolor": "white",
            "ticks": ""
           }
          },
          "scene": {
           "xaxis": {
            "backgroundcolor": "#E5ECF6",
            "gridcolor": "white",
            "gridwidth": 2,
            "linecolor": "white",
            "showbackground": true,
            "ticks": "",
            "zerolinecolor": "white"
           },
           "yaxis": {
            "backgroundcolor": "#E5ECF6",
            "gridcolor": "white",
            "gridwidth": 2,
            "linecolor": "white",
            "showbackground": true,
            "ticks": "",
            "zerolinecolor": "white"
           },
           "zaxis": {
            "backgroundcolor": "#E5ECF6",
            "gridcolor": "white",
            "gridwidth": 2,
            "linecolor": "white",
            "showbackground": true,
            "ticks": "",
            "zerolinecolor": "white"
           }
          },
          "shapedefaults": {
           "line": {
            "color": "#2a3f5f"
           }
          },
          "ternary": {
           "aaxis": {
            "gridcolor": "white",
            "linecolor": "white",
            "ticks": ""
           },
           "baxis": {
            "gridcolor": "white",
            "linecolor": "white",
            "ticks": ""
           },
           "bgcolor": "#E5ECF6",
           "caxis": {
            "gridcolor": "white",
            "linecolor": "white",
            "ticks": ""
           }
          },
          "title": {
           "x": 0.05
          },
          "xaxis": {
           "automargin": true,
           "gridcolor": "white",
           "linecolor": "white",
           "ticks": "",
           "title": {
            "standoff": 15
           },
           "zerolinecolor": "white",
           "zerolinewidth": 2
          },
          "yaxis": {
           "automargin": true,
           "gridcolor": "white",
           "linecolor": "white",
           "ticks": "",
           "title": {
            "standoff": 15
           },
           "zerolinecolor": "white",
           "zerolinewidth": 2
          }
         }
        },
        "title": {
         "text": "Scatter Plot of different DCG calculations"
        },
        "xaxis": {
         "anchor": "y",
         "autorange": true,
         "domain": [
          0,
          1
         ],
         "range": [
          5.196818181818182,
          6.833181818181818
         ],
         "title": {
          "text": "DCG - averaging over query DCGs"
         },
         "type": "linear"
        },
        "yaxis": {
         "anchor": "x",
         "autorange": true,
         "domain": [
          0,
          1
         ],
         "range": [
          1.742937878610225,
          1.8820030701471446
         ],
         "title": {
          "text": "DCG - mean over query-doc DCGs"
         },
         "type": "linear"
        }
       }
      }
     },
     "metadata": {},
     "output_type": "display_data"
    }
   ],
   "source": [
    "pio.renderers.default = 'plotly_mimetype'\n",
    "fig = px.scatter(df_mean_dcg_merged, \n",
    "                 x='dcg', y='value', \n",
    "                 hover_data={'pipeline': True},  # Show query on hover\n",
    "                 labels={'dcg': 'averaging over query DCGs', 'value': 'mean over query-doc DCGs'})\n",
    "\n",
    "# Customize the layout\n",
    "fig.update_layout(title=\"Scatter Plot of different DCG calculations\",\n",
    "                  xaxis_title=\"DCG - averaging over query DCGs\",\n",
    "                  yaxis_title=\"DCG - mean over query-doc DCGs\",\n",
    "                  hovermode=\"closest\")\n",
    "\n",
    "# Show the plot\n",
    "fig.show()"
   ]
  },
  {
   "cell_type": "code",
   "execution_count": null,
   "id": "386e6227-e089-4167-afcd-4e5d66b3832a",
   "metadata": {},
   "outputs": [],
   "source": []
  },
  {
   "cell_type": "markdown",
   "id": "a515b887-fa49-4c8e-8690-15d02016efc8",
   "metadata": {},
   "source": [
    "# Alexey: I didn't review the part below"
   ]
  },
  {
   "cell_type": "markdown",
   "id": "4d7a8a26-b60f-4ec7-8036-c7509e6c3729",
   "metadata": {},
   "source": [
    "## Find Query Set with most judgements in the ESCI dataset\n",
    "\n",
    "To minimize the uncertainty we may have when calculating metrics over result sets that have a large ratio of missing judgements we choose those queries in the dataset that have the most judgements"
   ]
  },
  {
   "cell_type": "code",
   "execution_count": 88,
   "id": "ef76e301-bb0c-43bc-baa6-b2d4b25a5279",
   "metadata": {},
   "outputs": [],
   "source": [
    "DATA_DIR = '/Users/danielwrigley/work/Testing/git_repos/esci-data/shopping_queries_dataset/'"
   ]
  },
  {
   "cell_type": "code",
   "execution_count": 40,
   "id": "8d54198f-c0d5-4cd5-961c-7a90752f7275",
   "metadata": {},
   "outputs": [],
   "source": [
    "df_judgements = pd.read_parquet(DATA_DIR + '/shopping_queries_dataset_examples.parquet')"
   ]
  },
  {
   "cell_type": "code",
   "execution_count": 120,
   "id": "4f8b0d0f-e992-4582-926a-558346d28c52",
   "metadata": {},
   "outputs": [
    {
     "data": {
      "text/html": [
       "<div>\n",
       "<style scoped>\n",
       "    .dataframe tbody tr th:only-of-type {\n",
       "        vertical-align: middle;\n",
       "    }\n",
       "\n",
       "    .dataframe tbody tr th {\n",
       "        vertical-align: top;\n",
       "    }\n",
       "\n",
       "    .dataframe thead th {\n",
       "        text-align: right;\n",
       "    }\n",
       "</style>\n",
       "<table border=\"1\" class=\"dataframe\">\n",
       "  <thead>\n",
       "    <tr style=\"text-align: right;\">\n",
       "      <th></th>\n",
       "      <th>example_id</th>\n",
       "      <th>query</th>\n",
       "      <th>query_id</th>\n",
       "      <th>product_id</th>\n",
       "      <th>product_locale</th>\n",
       "      <th>esci_label</th>\n",
       "      <th>small_version</th>\n",
       "      <th>large_version</th>\n",
       "      <th>split</th>\n",
       "    </tr>\n",
       "  </thead>\n",
       "  <tbody>\n",
       "    <tr>\n",
       "      <th>0</th>\n",
       "      <td>0</td>\n",
       "      <td>revent 80 cfm</td>\n",
       "      <td>0</td>\n",
       "      <td>B000MOO21W</td>\n",
       "      <td>us</td>\n",
       "      <td>I</td>\n",
       "      <td>0</td>\n",
       "      <td>1</td>\n",
       "      <td>train</td>\n",
       "    </tr>\n",
       "    <tr>\n",
       "      <th>1</th>\n",
       "      <td>1</td>\n",
       "      <td>revent 80 cfm</td>\n",
       "      <td>0</td>\n",
       "      <td>B07X3Y6B1V</td>\n",
       "      <td>us</td>\n",
       "      <td>E</td>\n",
       "      <td>0</td>\n",
       "      <td>1</td>\n",
       "      <td>train</td>\n",
       "    </tr>\n",
       "    <tr>\n",
       "      <th>2</th>\n",
       "      <td>2</td>\n",
       "      <td>revent 80 cfm</td>\n",
       "      <td>0</td>\n",
       "      <td>B07WDM7MQQ</td>\n",
       "      <td>us</td>\n",
       "      <td>E</td>\n",
       "      <td>0</td>\n",
       "      <td>1</td>\n",
       "      <td>train</td>\n",
       "    </tr>\n",
       "  </tbody>\n",
       "</table>\n",
       "</div>"
      ],
      "text/plain": [
       "   example_id           query  query_id  product_id product_locale esci_label  \\\n",
       "0           0   revent 80 cfm         0  B000MOO21W             us          I   \n",
       "1           1   revent 80 cfm         0  B07X3Y6B1V             us          E   \n",
       "2           2   revent 80 cfm         0  B07WDM7MQQ             us          E   \n",
       "\n",
       "   small_version  large_version  split  \n",
       "0              0              1  train  \n",
       "1              0              1  train  \n",
       "2              0              1  train  "
      ]
     },
     "execution_count": 120,
     "metadata": {},
     "output_type": "execute_result"
    }
   ],
   "source": [
    "df_judgements.head(3)"
   ]
  },
  {
   "cell_type": "code",
   "execution_count": 121,
   "id": "be878478-90c1-42a7-8cd2-b205fe12c493",
   "metadata": {},
   "outputs": [],
   "source": [
    "df_grouped = df_judgements[df_judgements['product_locale'] == 'us'].groupby(by='query').size().reset_index(name='count')"
   ]
  },
  {
   "cell_type": "code",
   "execution_count": 122,
   "id": "5e77bf4c-a5a5-438c-a57f-bcc1728d4f7b",
   "metadata": {},
   "outputs": [
    {
     "data": {
      "text/html": [
       "<div>\n",
       "<style scoped>\n",
       "    .dataframe tbody tr th:only-of-type {\n",
       "        vertical-align: middle;\n",
       "    }\n",
       "\n",
       "    .dataframe tbody tr th {\n",
       "        vertical-align: top;\n",
       "    }\n",
       "\n",
       "    .dataframe thead th {\n",
       "        text-align: right;\n",
       "    }\n",
       "</style>\n",
       "<table border=\"1\" class=\"dataframe\">\n",
       "  <thead>\n",
       "    <tr style=\"text-align: right;\">\n",
       "      <th></th>\n",
       "      <th>query</th>\n",
       "      <th>count</th>\n",
       "    </tr>\n",
       "  </thead>\n",
       "  <tbody>\n",
       "    <tr>\n",
       "      <th>88554</th>\n",
       "      <td>tv</td>\n",
       "      <td>198</td>\n",
       "    </tr>\n",
       "    <tr>\n",
       "      <th>6208</th>\n",
       "      <td>airpods</td>\n",
       "      <td>188</td>\n",
       "    </tr>\n",
       "    <tr>\n",
       "      <th>49915</th>\n",
       "      <td>laptop</td>\n",
       "      <td>167</td>\n",
       "    </tr>\n",
       "    <tr>\n",
       "      <th>77206</th>\n",
       "      <td>shoes</td>\n",
       "      <td>158</td>\n",
       "    </tr>\n",
       "    <tr>\n",
       "      <th>69482</th>\n",
       "      <td>printer</td>\n",
       "      <td>136</td>\n",
       "    </tr>\n",
       "    <tr>\n",
       "      <th>...</th>\n",
       "      <td>...</td>\n",
       "      <td>...</td>\n",
       "    </tr>\n",
       "    <tr>\n",
       "      <th>22370</th>\n",
       "      <td>coffee filters</td>\n",
       "      <td>56</td>\n",
       "    </tr>\n",
       "    <tr>\n",
       "      <th>45348</th>\n",
       "      <td>iphone connector adapter</td>\n",
       "      <td>56</td>\n",
       "    </tr>\n",
       "    <tr>\n",
       "      <th>25122</th>\n",
       "      <td>curtains</td>\n",
       "      <td>56</td>\n",
       "    </tr>\n",
       "    <tr>\n",
       "      <th>32581</th>\n",
       "      <td>fat burners for women</td>\n",
       "      <td>56</td>\n",
       "    </tr>\n",
       "    <tr>\n",
       "      <th>48135</th>\n",
       "      <td>kids farm boots for girls</td>\n",
       "      <td>56</td>\n",
       "    </tr>\n",
       "  </tbody>\n",
       "</table>\n",
       "<p>250 rows × 2 columns</p>\n",
       "</div>"
      ],
      "text/plain": [
       "                           query  count\n",
       "88554                         tv    198\n",
       "6208                     airpods    188\n",
       "49915                     laptop    167\n",
       "77206                      shoes    158\n",
       "69482                    printer    136\n",
       "...                          ...    ...\n",
       "22370             coffee filters     56\n",
       "45348   iphone connector adapter     56\n",
       "25122                   curtains     56\n",
       "32581      fat burners for women     56\n",
       "48135  kids farm boots for girls     56\n",
       "\n",
       "[250 rows x 2 columns]"
      ]
     },
     "execution_count": 122,
     "metadata": {},
     "output_type": "execute_result"
    }
   ],
   "source": [
    "df_grouped.sort_values(by='count', ascending=False).head(250)"
   ]
  },
  {
   "cell_type": "code",
   "execution_count": 123,
   "id": "4e9b59d6-2529-4ffe-8292-3bf9a2f4daed",
   "metadata": {},
   "outputs": [],
   "source": [
    "query_set_id = \"most_judged\"\n",
    "df_most_judged = df_grouped.sort_values(by='count', ascending=False).head(250)\n",
    "df_most_judged = df_most_judged.drop(columns=['count'])\n",
    "df_most_judged[\"query_set_id\"] = query_set_id\n",
    "df_most_judged.reset_index(drop=True, inplace=True)"
   ]
  },
  {
   "cell_type": "code",
   "execution_count": 124,
   "id": "64e111e2-b001-4fc3-b000-35493ca2fef7",
   "metadata": {},
   "outputs": [
    {
     "data": {
      "text/html": [
       "<div>\n",
       "<style scoped>\n",
       "    .dataframe tbody tr th:only-of-type {\n",
       "        vertical-align: middle;\n",
       "    }\n",
       "\n",
       "    .dataframe tbody tr th {\n",
       "        vertical-align: top;\n",
       "    }\n",
       "\n",
       "    .dataframe thead th {\n",
       "        text-align: right;\n",
       "    }\n",
       "</style>\n",
       "<table border=\"1\" class=\"dataframe\">\n",
       "  <thead>\n",
       "    <tr style=\"text-align: right;\">\n",
       "      <th></th>\n",
       "      <th>query</th>\n",
       "      <th>query_set_id</th>\n",
       "    </tr>\n",
       "  </thead>\n",
       "  <tbody>\n",
       "    <tr>\n",
       "      <th>0</th>\n",
       "      <td>tv</td>\n",
       "      <td>most_judged</td>\n",
       "    </tr>\n",
       "    <tr>\n",
       "      <th>1</th>\n",
       "      <td>airpods</td>\n",
       "      <td>most_judged</td>\n",
       "    </tr>\n",
       "    <tr>\n",
       "      <th>2</th>\n",
       "      <td>laptop</td>\n",
       "      <td>most_judged</td>\n",
       "    </tr>\n",
       "    <tr>\n",
       "      <th>3</th>\n",
       "      <td>shoes</td>\n",
       "      <td>most_judged</td>\n",
       "    </tr>\n",
       "    <tr>\n",
       "      <th>4</th>\n",
       "      <td>printer</td>\n",
       "      <td>most_judged</td>\n",
       "    </tr>\n",
       "  </tbody>\n",
       "</table>\n",
       "</div>"
      ],
      "text/plain": [
       "     query query_set_id\n",
       "0       tv  most_judged\n",
       "1  airpods  most_judged\n",
       "2   laptop  most_judged\n",
       "3    shoes  most_judged\n",
       "4  printer  most_judged"
      ]
     },
     "execution_count": 124,
     "metadata": {},
     "output_type": "execute_result"
    }
   ],
   "source": [
    "df_most_judged.head(5)"
   ]
  },
  {
   "cell_type": "code",
   "execution_count": 125,
   "id": "8040930c-232d-4904-ac77-e9b6084bb41e",
   "metadata": {},
   "outputs": [],
   "source": [
    "df_most_judged.to_csv('most_judged.csv', index=False)"
   ]
  },
  {
   "cell_type": "code",
   "execution_count": 135,
   "id": "ec9c5e77-cc94-4764-a3b4-2a8f989f3870",
   "metadata": {},
   "outputs": [
    {
     "data": {
      "text/html": [
       "<div>\n",
       "<style scoped>\n",
       "    .dataframe tbody tr th:only-of-type {\n",
       "        vertical-align: middle;\n",
       "    }\n",
       "\n",
       "    .dataframe tbody tr th {\n",
       "        vertical-align: top;\n",
       "    }\n",
       "\n",
       "    .dataframe thead th {\n",
       "        text-align: right;\n",
       "    }\n",
       "</style>\n",
       "<table border=\"1\" class=\"dataframe\">\n",
       "  <thead>\n",
       "    <tr style=\"text-align: right;\">\n",
       "      <th></th>\n",
       "      <th>pipeline</th>\n",
       "      <th>metric</th>\n",
       "      <th>value</th>\n",
       "      <th>judgements</th>\n",
       "      <th>mising</th>\n",
       "      <th>ratio</th>\n",
       "    </tr>\n",
       "  </thead>\n",
       "  <tbody>\n",
       "    <tr>\n",
       "      <th>0</th>\n",
       "      <td>min_maxarithmetic_mean0.0</td>\n",
       "      <td>dcg</td>\n",
       "      <td>13.700970</td>\n",
       "      <td>621</td>\n",
       "      <td>1579</td>\n",
       "      <td>0.282273</td>\n",
       "    </tr>\n",
       "    <tr>\n",
       "      <th>1</th>\n",
       "      <td>min_maxarithmetic_mean0.1</td>\n",
       "      <td>dcg</td>\n",
       "      <td>14.797880</td>\n",
       "      <td>690</td>\n",
       "      <td>1510</td>\n",
       "      <td>0.313636</td>\n",
       "    </tr>\n",
       "    <tr>\n",
       "      <th>2</th>\n",
       "      <td>min_maxarithmetic_mean0.2</td>\n",
       "      <td>dcg</td>\n",
       "      <td>16.647365</td>\n",
       "      <td>710</td>\n",
       "      <td>1490</td>\n",
       "      <td>0.322727</td>\n",
       "    </tr>\n",
       "    <tr>\n",
       "      <th>3</th>\n",
       "      <td>min_maxarithmetic_mean0.3</td>\n",
       "      <td>dcg</td>\n",
       "      <td>16.647365</td>\n",
       "      <td>722</td>\n",
       "      <td>1478</td>\n",
       "      <td>0.328182</td>\n",
       "    </tr>\n",
       "    <tr>\n",
       "      <th>4</th>\n",
       "      <td>min_maxarithmetic_mean0.4</td>\n",
       "      <td>dcg</td>\n",
       "      <td>16.515894</td>\n",
       "      <td>730</td>\n",
       "      <td>1470</td>\n",
       "      <td>0.331818</td>\n",
       "    </tr>\n",
       "    <tr>\n",
       "      <th>...</th>\n",
       "      <td>...</td>\n",
       "      <td>...</td>\n",
       "      <td>...</td>\n",
       "      <td>...</td>\n",
       "      <td>...</td>\n",
       "      <td>...</td>\n",
       "    </tr>\n",
       "    <tr>\n",
       "      <th>61</th>\n",
       "      <td>l2geometric_mean0.6</td>\n",
       "      <td>dcg</td>\n",
       "      <td>15.351486</td>\n",
       "      <td>723</td>\n",
       "      <td>1477</td>\n",
       "      <td>0.328636</td>\n",
       "    </tr>\n",
       "    <tr>\n",
       "      <th>62</th>\n",
       "      <td>l2geometric_mean0.7</td>\n",
       "      <td>dcg</td>\n",
       "      <td>15.351486</td>\n",
       "      <td>721</td>\n",
       "      <td>1479</td>\n",
       "      <td>0.327727</td>\n",
       "    </tr>\n",
       "    <tr>\n",
       "      <th>63</th>\n",
       "      <td>l2geometric_mean0.8</td>\n",
       "      <td>dcg</td>\n",
       "      <td>15.351486</td>\n",
       "      <td>722</td>\n",
       "      <td>1478</td>\n",
       "      <td>0.328182</td>\n",
       "    </tr>\n",
       "    <tr>\n",
       "      <th>64</th>\n",
       "      <td>l2geometric_mean0.9</td>\n",
       "      <td>dcg</td>\n",
       "      <td>14.244275</td>\n",
       "      <td>719</td>\n",
       "      <td>1481</td>\n",
       "      <td>0.326818</td>\n",
       "    </tr>\n",
       "    <tr>\n",
       "      <th>65</th>\n",
       "      <td>l2geometric_mean1.0</td>\n",
       "      <td>dcg</td>\n",
       "      <td>14.729107</td>\n",
       "      <td>774</td>\n",
       "      <td>1426</td>\n",
       "      <td>0.351818</td>\n",
       "    </tr>\n",
       "  </tbody>\n",
       "</table>\n",
       "<p>66 rows × 6 columns</p>\n",
       "</div>"
      ],
      "text/plain": [
       "                     pipeline metric      value  judgements  mising     ratio\n",
       "0   min_maxarithmetic_mean0.0    dcg  13.700970         621    1579  0.282273\n",
       "1   min_maxarithmetic_mean0.1    dcg  14.797880         690    1510  0.313636\n",
       "2   min_maxarithmetic_mean0.2    dcg  16.647365         710    1490  0.322727\n",
       "3   min_maxarithmetic_mean0.3    dcg  16.647365         722    1478  0.328182\n",
       "4   min_maxarithmetic_mean0.4    dcg  16.515894         730    1470  0.331818\n",
       "..                        ...    ...        ...         ...     ...       ...\n",
       "61        l2geometric_mean0.6    dcg  15.351486         723    1477  0.328636\n",
       "62        l2geometric_mean0.7    dcg  15.351486         721    1479  0.327727\n",
       "63        l2geometric_mean0.8    dcg  15.351486         722    1478  0.328182\n",
       "64        l2geometric_mean0.9    dcg  14.244275         719    1481  0.326818\n",
       "65        l2geometric_mean1.0    dcg  14.729107         774    1426  0.351818\n",
       "\n",
       "[66 rows x 6 columns]"
      ]
     },
     "execution_count": 135,
     "metadata": {},
     "output_type": "execute_result"
    }
   ],
   "source": [
    "df_metrics"
   ]
  }
 ],
 "metadata": {
  "kernelspec": {
   "display_name": "Python 3 (ipykernel)",
   "language": "python",
   "name": "python3"
  },
  "language_info": {
   "codemirror_mode": {
    "name": "ipython",
    "version": 3
   },
   "file_extension": ".py",
   "mimetype": "text/x-python",
   "name": "python",
   "nbconvert_exporter": "python",
   "pygments_lexer": "ipython3",
   "version": "3.12.6"
  }
 },
 "nbformat": 4,
 "nbformat_minor": 5
}
