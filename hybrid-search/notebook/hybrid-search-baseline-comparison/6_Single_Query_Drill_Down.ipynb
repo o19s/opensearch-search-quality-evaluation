{
 "cells": [
  {
   "cell_type": "markdown",
   "id": "1b8ff1a3-72d1-42d9-ae7d-94d02c236977",
   "metadata": {},
   "source": [
    "# Alexey Changelog\n",
    "\n",
    " * Scatterplot to compare query on two configurations\n",
    " * Pivot table to compare search results\n",
    "\n",
    "Still need to appply these to the rest of the notebook"
   ]
  },
  {
   "cell_type": "markdown",
   "id": "d3662e85-5b1d-41d6-a285-21bbbb480ee8",
   "metadata": {},
   "source": [
    "# 6 Single Query Drill Down\n",
    "\n",
    "In this notebook we drill down into a single query by looking at the results of different query pipelines for this particular query."
   ]
  },
  {
   "cell_type": "code",
   "execution_count": 59,
   "id": "c86cc172-103a-4771-a799-56c5bd0a841b",
   "metadata": {},
   "outputs": [],
   "source": [
    "import pandas as pd\n",
    "import numpy as np\n",
    "import matplotlib.pyplot as plt\n",
    "import plotly.express as px\n",
    "import plotly.io as pio\n",
    "import mercury as mr\n",
    "import requests\n",
    "import json"
   ]
  },
  {
   "cell_type": "code",
   "execution_count": 60,
   "id": "49a33aad-c466-4f29-8ef2-c2c2ca03673c",
   "metadata": {},
   "outputs": [
    {
     "data": {
      "application/mercury+json": "{\n    \"widget\": \"App\",\n    \"title\": \"Query Drill Down\",\n    \"description\": \"Description\",\n    \"show_code\": false,\n    \"show_prompt\": false,\n    \"output\": \"app\",\n    \"schedule\": \"\",\n    \"notify\": \"{}\",\n    \"continuous_update\": true,\n    \"static_notebook\": true,\n    \"show_sidebar\": true,\n    \"full_screen\": true,\n    \"allow_download\": true,\n    \"allow_share\": true,\n    \"stop_on_error\": false,\n    \"model_id\": \"mercury-app\",\n    \"code_uid\": \"App.0.50.110.1-randfbdd504a\"\n}",
      "text/html": [
       "<h3>Mercury Application</h3><small>This output won't appear in the web app.</small>"
      ],
      "text/plain": [
       "mercury.App"
      ]
     },
     "metadata": {},
     "output_type": "display_data"
    }
   ],
   "source": [
    "app = mr.App(title=\"Query Drill Down\", static_notebook=True)"
   ]
  },
  {
   "cell_type": "code",
   "execution_count": 61,
   "id": "187a1d94-ac46-4083-9932-877da10bee10",
   "metadata": {},
   "outputs": [],
   "source": [
    "df_results = pd.read_csv('results_and_ratings.csv', index_col=[0])"
   ]
  },
  {
   "cell_type": "code",
   "execution_count": 62,
   "id": "787c5b1a-9eba-4e0a-b402-bd1f89024015",
   "metadata": {},
   "outputs": [
    {
     "data": {
      "text/html": [
       "<div>\n",
       "<style scoped>\n",
       "    .dataframe tbody tr th:only-of-type {\n",
       "        vertical-align: middle;\n",
       "    }\n",
       "\n",
       "    .dataframe tbody tr th {\n",
       "        vertical-align: top;\n",
       "    }\n",
       "\n",
       "    .dataframe thead th {\n",
       "        text-align: right;\n",
       "    }\n",
       "</style>\n",
       "<table border=\"1\" class=\"dataframe\">\n",
       "  <thead>\n",
       "    <tr style=\"text-align: right;\">\n",
       "      <th></th>\n",
       "      <th>query_id</th>\n",
       "      <th>query_string</th>\n",
       "      <th>product_id</th>\n",
       "      <th>position</th>\n",
       "      <th>relevance</th>\n",
       "      <th>run</th>\n",
       "      <th>rating</th>\n",
       "    </tr>\n",
       "  </thead>\n",
       "  <tbody>\n",
       "    <tr>\n",
       "      <th>0</th>\n",
       "      <td>0</td>\n",
       "      <td>$30 roblox gift card not digital</td>\n",
       "      <td>B00F4CF4PU</td>\n",
       "      <td>0</td>\n",
       "      <td>1.000000</td>\n",
       "      <td>min_maxarithmetic_mean0.0</td>\n",
       "      <td>NaN</td>\n",
       "    </tr>\n",
       "    <tr>\n",
       "      <th>1</th>\n",
       "      <td>0</td>\n",
       "      <td>$30 roblox gift card not digital</td>\n",
       "      <td>B07C438TMN</td>\n",
       "      <td>1</td>\n",
       "      <td>0.474647</td>\n",
       "      <td>min_maxarithmetic_mean0.0</td>\n",
       "      <td>NaN</td>\n",
       "    </tr>\n",
       "    <tr>\n",
       "      <th>2</th>\n",
       "      <td>0</td>\n",
       "      <td>$30 roblox gift card not digital</td>\n",
       "      <td>B00XJZHJCA</td>\n",
       "      <td>2</td>\n",
       "      <td>0.462698</td>\n",
       "      <td>min_maxarithmetic_mean0.0</td>\n",
       "      <td>NaN</td>\n",
       "    </tr>\n",
       "  </tbody>\n",
       "</table>\n",
       "</div>"
      ],
      "text/plain": [
       "   query_id                      query_string  product_id  position  \\\n",
       "0         0  $30 roblox gift card not digital  B00F4CF4PU         0   \n",
       "1         0  $30 roblox gift card not digital  B07C438TMN         1   \n",
       "2         0  $30 roblox gift card not digital  B00XJZHJCA         2   \n",
       "\n",
       "   relevance                        run  rating  \n",
       "0   1.000000  min_maxarithmetic_mean0.0     NaN  \n",
       "1   0.474647  min_maxarithmetic_mean0.0     NaN  \n",
       "2   0.462698  min_maxarithmetic_mean0.0     NaN  "
      ]
     },
     "execution_count": 62,
     "metadata": {},
     "output_type": "execute_result"
    }
   ],
   "source": [
    "df_results.head(3)"
   ]
  },
  {
   "cell_type": "code",
   "execution_count": 63,
   "id": "3c7d6697-d1dc-48d3-ad1b-77f3fb5710b1",
   "metadata": {},
   "outputs": [],
   "source": [
    "df_metrics = pd.read_csv('metrics.csv')"
   ]
  },
  {
   "cell_type": "code",
   "execution_count": 71,
   "id": "6f0ece49-a052-4730-8b50-f75f4419497d",
   "metadata": {},
   "outputs": [
    {
     "data": {
      "text/html": [
       "<div>\n",
       "<style scoped>\n",
       "    .dataframe tbody tr th:only-of-type {\n",
       "        vertical-align: middle;\n",
       "    }\n",
       "\n",
       "    .dataframe tbody tr th {\n",
       "        vertical-align: top;\n",
       "    }\n",
       "\n",
       "    .dataframe thead th {\n",
       "        text-align: right;\n",
       "    }\n",
       "</style>\n",
       "<table border=\"1\" class=\"dataframe\">\n",
       "  <thead>\n",
       "    <tr style=\"text-align: right;\">\n",
       "      <th></th>\n",
       "      <th>query</th>\n",
       "      <th>pipeline</th>\n",
       "      <th>metric</th>\n",
       "      <th>value</th>\n",
       "    </tr>\n",
       "  </thead>\n",
       "  <tbody>\n",
       "    <tr>\n",
       "      <th>0</th>\n",
       "      <td>$30 roblox gift card not digital</td>\n",
       "      <td>l2arithmetic_mean0.0</td>\n",
       "      <td>dcg</td>\n",
       "      <td>0.666667</td>\n",
       "    </tr>\n",
       "    <tr>\n",
       "      <th>1</th>\n",
       "      <td>$30 roblox gift card not digital</td>\n",
       "      <td>l2arithmetic_mean0.1</td>\n",
       "      <td>dcg</td>\n",
       "      <td>0.666667</td>\n",
       "    </tr>\n",
       "    <tr>\n",
       "      <th>2</th>\n",
       "      <td>$30 roblox gift card not digital</td>\n",
       "      <td>l2arithmetic_mean0.2</td>\n",
       "      <td>dcg</td>\n",
       "      <td>0.666667</td>\n",
       "    </tr>\n",
       "    <tr>\n",
       "      <th>3</th>\n",
       "      <td>$30 roblox gift card not digital</td>\n",
       "      <td>l2arithmetic_mean0.3</td>\n",
       "      <td>dcg</td>\n",
       "      <td>0.666667</td>\n",
       "    </tr>\n",
       "    <tr>\n",
       "      <th>4</th>\n",
       "      <td>$30 roblox gift card not digital</td>\n",
       "      <td>l2arithmetic_mean0.4</td>\n",
       "      <td>dcg</td>\n",
       "      <td>0.666667</td>\n",
       "    </tr>\n",
       "  </tbody>\n",
       "</table>\n",
       "</div>"
      ],
      "text/plain": [
       "                              query              pipeline metric     value\n",
       "0  $30 roblox gift card not digital  l2arithmetic_mean0.0    dcg  0.666667\n",
       "1  $30 roblox gift card not digital  l2arithmetic_mean0.1    dcg  0.666667\n",
       "2  $30 roblox gift card not digital  l2arithmetic_mean0.2    dcg  0.666667\n",
       "3  $30 roblox gift card not digital  l2arithmetic_mean0.3    dcg  0.666667\n",
       "4  $30 roblox gift card not digital  l2arithmetic_mean0.4    dcg  0.666667"
      ]
     },
     "execution_count": 71,
     "metadata": {},
     "output_type": "execute_result"
    }
   ],
   "source": [
    "df_metrics.head(5)"
   ]
  },
  {
   "attachments": {
    "187cf4aa-78ee-4dbd-9595-5082381d69cd.png": {
     "image/png": "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"
    }
   },
   "cell_type": "markdown",
   "id": "b403b1b2-84af-46e5-a5a1-f2a106300de3",
   "metadata": {},
   "source": [
    "## Deep dive into one Query in two pipelines\n",
    "\n",
    "In notebook 5 we saw that two pipelines that have a similar configuration score differently. Both use \n",
    "* l2 as their normalization technique\n",
    "* arithmetic mean as their combination technique\n",
    "\n",
    "One has a keyword/neural ratio of 0.7/0.3, the other 0.6/0.4.\n",
    "\n",
    "They also share some of the metrics but not all:\n",
    "\n",
    "![image.png](attachment:187cf4aa-78ee-4dbd-9595-5082381d69cd.png)\n",
    "\n",
    "We want to identify a query that shows different results in both combinations to surface some insights."
   ]
  },
  {
   "cell_type": "code",
   "execution_count": 72,
   "id": "fce531b1-86e2-4772-b0fa-b3415437a9a8",
   "metadata": {},
   "outputs": [
    {
     "data": {
      "text/html": [
       "<div>\n",
       "<style scoped>\n",
       "    .dataframe tbody tr th:only-of-type {\n",
       "        vertical-align: middle;\n",
       "    }\n",
       "\n",
       "    .dataframe tbody tr th {\n",
       "        vertical-align: top;\n",
       "    }\n",
       "\n",
       "    .dataframe thead th {\n",
       "        text-align: right;\n",
       "    }\n",
       "</style>\n",
       "<table border=\"1\" class=\"dataframe\">\n",
       "  <thead>\n",
       "    <tr style=\"text-align: right;\">\n",
       "      <th></th>\n",
       "      <th>query</th>\n",
       "      <th>pipeline</th>\n",
       "      <th>metric</th>\n",
       "      <th>value</th>\n",
       "    </tr>\n",
       "  </thead>\n",
       "  <tbody>\n",
       "    <tr>\n",
       "      <th>6</th>\n",
       "      <td>$30 roblox gift card not digital</td>\n",
       "      <td>l2arithmetic_mean0.6</td>\n",
       "      <td>dcg</td>\n",
       "      <td>0.666667</td>\n",
       "    </tr>\n",
       "    <tr>\n",
       "      <th>72607</th>\n",
       "      <td>$30 roblox gift card not digital</td>\n",
       "      <td>l2arithmetic_mean0.7</td>\n",
       "      <td>ratio_of_ratings</td>\n",
       "      <td>0.200000</td>\n",
       "    </tr>\n",
       "    <tr>\n",
       "      <th>72606</th>\n",
       "      <td>$30 roblox gift card not digital</td>\n",
       "      <td>l2arithmetic_mean0.6</td>\n",
       "      <td>ratio_of_ratings</td>\n",
       "      <td>0.200000</td>\n",
       "    </tr>\n",
       "    <tr>\n",
       "      <th>7</th>\n",
       "      <td>$30 roblox gift card not digital</td>\n",
       "      <td>l2arithmetic_mean0.7</td>\n",
       "      <td>dcg</td>\n",
       "      <td>0.666667</td>\n",
       "    </tr>\n",
       "    <tr>\n",
       "      <th>72</th>\n",
       "      <td>(fiction without frontiers)</td>\n",
       "      <td>l2arithmetic_mean0.6</td>\n",
       "      <td>dcg</td>\n",
       "      <td>4.892789</td>\n",
       "    </tr>\n",
       "    <tr>\n",
       "      <th>72673</th>\n",
       "      <td>(fiction without frontiers)</td>\n",
       "      <td>l2arithmetic_mean0.7</td>\n",
       "      <td>ratio_of_ratings</td>\n",
       "      <td>0.200000</td>\n",
       "    </tr>\n",
       "    <tr>\n",
       "      <th>72672</th>\n",
       "      <td>(fiction without frontiers)</td>\n",
       "      <td>l2arithmetic_mean0.6</td>\n",
       "      <td>ratio_of_ratings</td>\n",
       "      <td>0.200000</td>\n",
       "    </tr>\n",
       "    <tr>\n",
       "      <th>73</th>\n",
       "      <td>(fiction without frontiers)</td>\n",
       "      <td>l2arithmetic_mean0.7</td>\n",
       "      <td>dcg</td>\n",
       "      <td>4.892789</td>\n",
       "    </tr>\n",
       "    <tr>\n",
       "      <th>138</th>\n",
       "      <td>100</td>\n",
       "      <td>l2arithmetic_mean0.6</td>\n",
       "      <td>dcg</td>\n",
       "      <td>0.000000</td>\n",
       "    </tr>\n",
       "    <tr>\n",
       "      <th>139</th>\n",
       "      <td>100</td>\n",
       "      <td>l2arithmetic_mean0.7</td>\n",
       "      <td>dcg</td>\n",
       "      <td>0.000000</td>\n",
       "    </tr>\n",
       "    <tr>\n",
       "      <th>72739</th>\n",
       "      <td>100</td>\n",
       "      <td>l2arithmetic_mean0.7</td>\n",
       "      <td>ratio_of_ratings</td>\n",
       "      <td>0.000000</td>\n",
       "    </tr>\n",
       "    <tr>\n",
       "      <th>72738</th>\n",
       "      <td>100</td>\n",
       "      <td>l2arithmetic_mean0.6</td>\n",
       "      <td>ratio_of_ratings</td>\n",
       "      <td>0.000000</td>\n",
       "    </tr>\n",
       "    <tr>\n",
       "      <th>72804</th>\n",
       "      <td>10x10x6 cake box without window</td>\n",
       "      <td>l2arithmetic_mean0.6</td>\n",
       "      <td>ratio_of_ratings</td>\n",
       "      <td>0.100000</td>\n",
       "    </tr>\n",
       "    <tr>\n",
       "      <th>72805</th>\n",
       "      <td>10x10x6 cake box without window</td>\n",
       "      <td>l2arithmetic_mean0.7</td>\n",
       "      <td>ratio_of_ratings</td>\n",
       "      <td>0.100000</td>\n",
       "    </tr>\n",
       "    <tr>\n",
       "      <th>205</th>\n",
       "      <td>10x10x6 cake box without window</td>\n",
       "      <td>l2arithmetic_mean0.7</td>\n",
       "      <td>dcg</td>\n",
       "      <td>1.000000</td>\n",
       "    </tr>\n",
       "    <tr>\n",
       "      <th>204</th>\n",
       "      <td>10x10x6 cake box without window</td>\n",
       "      <td>l2arithmetic_mean0.6</td>\n",
       "      <td>dcg</td>\n",
       "      <td>1.000000</td>\n",
       "    </tr>\n",
       "    <tr>\n",
       "      <th>270</th>\n",
       "      <td>15 inch light weight laptop that has lots of m...</td>\n",
       "      <td>l2arithmetic_mean0.6</td>\n",
       "      <td>dcg</td>\n",
       "      <td>0.000000</td>\n",
       "    </tr>\n",
       "    <tr>\n",
       "      <th>72870</th>\n",
       "      <td>15 inch light weight laptop that has lots of m...</td>\n",
       "      <td>l2arithmetic_mean0.6</td>\n",
       "      <td>ratio_of_ratings</td>\n",
       "      <td>0.000000</td>\n",
       "    </tr>\n",
       "    <tr>\n",
       "      <th>72871</th>\n",
       "      <td>15 inch light weight laptop that has lots of m...</td>\n",
       "      <td>l2arithmetic_mean0.7</td>\n",
       "      <td>ratio_of_ratings</td>\n",
       "      <td>0.000000</td>\n",
       "    </tr>\n",
       "    <tr>\n",
       "      <th>271</th>\n",
       "      <td>15 inch light weight laptop that has lots of m...</td>\n",
       "      <td>l2arithmetic_mean0.7</td>\n",
       "      <td>dcg</td>\n",
       "      <td>0.000000</td>\n",
       "    </tr>\n",
       "    <tr>\n",
       "      <th>72936</th>\n",
       "      <td>15 microsoft card</td>\n",
       "      <td>l2arithmetic_mean0.6</td>\n",
       "      <td>ratio_of_ratings</td>\n",
       "      <td>0.500000</td>\n",
       "    </tr>\n",
       "    <tr>\n",
       "      <th>72937</th>\n",
       "      <td>15 microsoft card</td>\n",
       "      <td>l2arithmetic_mean0.7</td>\n",
       "      <td>ratio_of_ratings</td>\n",
       "      <td>0.100000</td>\n",
       "    </tr>\n",
       "    <tr>\n",
       "      <th>337</th>\n",
       "      <td>15 microsoft card</td>\n",
       "      <td>l2arithmetic_mean0.7</td>\n",
       "      <td>dcg</td>\n",
       "      <td>3.000000</td>\n",
       "    </tr>\n",
       "    <tr>\n",
       "      <th>336</th>\n",
       "      <td>15 microsoft card</td>\n",
       "      <td>l2arithmetic_mean0.6</td>\n",
       "      <td>dcg</td>\n",
       "      <td>6.759984</td>\n",
       "    </tr>\n",
       "    <tr>\n",
       "      <th>73002</th>\n",
       "      <td>40 amp 240 volt timer</td>\n",
       "      <td>l2arithmetic_mean0.6</td>\n",
       "      <td>ratio_of_ratings</td>\n",
       "      <td>0.500000</td>\n",
       "    </tr>\n",
       "  </tbody>\n",
       "</table>\n",
       "</div>"
      ],
      "text/plain": [
       "                                                   query  \\\n",
       "6                       $30 roblox gift card not digital   \n",
       "72607                   $30 roblox gift card not digital   \n",
       "72606                   $30 roblox gift card not digital   \n",
       "7                       $30 roblox gift card not digital   \n",
       "72                           (fiction without frontiers)   \n",
       "72673                        (fiction without frontiers)   \n",
       "72672                        (fiction without frontiers)   \n",
       "73                           (fiction without frontiers)   \n",
       "138                                                  100   \n",
       "139                                                  100   \n",
       "72739                                                100   \n",
       "72738                                                100   \n",
       "72804                    10x10x6 cake box without window   \n",
       "72805                    10x10x6 cake box without window   \n",
       "205                      10x10x6 cake box without window   \n",
       "204                      10x10x6 cake box without window   \n",
       "270    15 inch light weight laptop that has lots of m...   \n",
       "72870  15 inch light weight laptop that has lots of m...   \n",
       "72871  15 inch light weight laptop that has lots of m...   \n",
       "271    15 inch light weight laptop that has lots of m...   \n",
       "72936                                  15 microsoft card   \n",
       "72937                                  15 microsoft card   \n",
       "337                                    15 microsoft card   \n",
       "336                                    15 microsoft card   \n",
       "73002                              40 amp 240 volt timer   \n",
       "\n",
       "                   pipeline            metric     value  \n",
       "6      l2arithmetic_mean0.6               dcg  0.666667  \n",
       "72607  l2arithmetic_mean0.7  ratio_of_ratings  0.200000  \n",
       "72606  l2arithmetic_mean0.6  ratio_of_ratings  0.200000  \n",
       "7      l2arithmetic_mean0.7               dcg  0.666667  \n",
       "72     l2arithmetic_mean0.6               dcg  4.892789  \n",
       "72673  l2arithmetic_mean0.7  ratio_of_ratings  0.200000  \n",
       "72672  l2arithmetic_mean0.6  ratio_of_ratings  0.200000  \n",
       "73     l2arithmetic_mean0.7               dcg  4.892789  \n",
       "138    l2arithmetic_mean0.6               dcg  0.000000  \n",
       "139    l2arithmetic_mean0.7               dcg  0.000000  \n",
       "72739  l2arithmetic_mean0.7  ratio_of_ratings  0.000000  \n",
       "72738  l2arithmetic_mean0.6  ratio_of_ratings  0.000000  \n",
       "72804  l2arithmetic_mean0.6  ratio_of_ratings  0.100000  \n",
       "72805  l2arithmetic_mean0.7  ratio_of_ratings  0.100000  \n",
       "205    l2arithmetic_mean0.7               dcg  1.000000  \n",
       "204    l2arithmetic_mean0.6               dcg  1.000000  \n",
       "270    l2arithmetic_mean0.6               dcg  0.000000  \n",
       "72870  l2arithmetic_mean0.6  ratio_of_ratings  0.000000  \n",
       "72871  l2arithmetic_mean0.7  ratio_of_ratings  0.000000  \n",
       "271    l2arithmetic_mean0.7               dcg  0.000000  \n",
       "72936  l2arithmetic_mean0.6  ratio_of_ratings  0.500000  \n",
       "72937  l2arithmetic_mean0.7  ratio_of_ratings  0.100000  \n",
       "337    l2arithmetic_mean0.7               dcg  3.000000  \n",
       "336    l2arithmetic_mean0.6               dcg  6.759984  \n",
       "73002  l2arithmetic_mean0.6  ratio_of_ratings  0.500000  "
      ]
     },
     "execution_count": 72,
     "metadata": {},
     "output_type": "execute_result"
    }
   ],
   "source": [
    "pipelines_to_check = ['l2arithmetic_mean0.7', 'l2arithmetic_mean0.6']\n",
    "metrics_to_check = ['dcg', 'ratio_of_ratings']\n",
    "df_metrics[(df_metrics['pipeline'].isin(pipelines_to_check)) & (df_metrics['metric'].isin(metrics_to_check))].sort_values(by='query').head(25)"
   ]
  },
  {
   "cell_type": "code",
   "execution_count": 73,
   "id": "43e1c30e-0cff-40cb-989c-21cfb0fcaab0",
   "metadata": {},
   "outputs": [
    {
     "data": {
      "text/html": [
       "<div>\n",
       "<style scoped>\n",
       "    .dataframe tbody tr th:only-of-type {\n",
       "        vertical-align: middle;\n",
       "    }\n",
       "\n",
       "    .dataframe tbody tr th {\n",
       "        vertical-align: top;\n",
       "    }\n",
       "\n",
       "    .dataframe thead th {\n",
       "        text-align: right;\n",
       "    }\n",
       "</style>\n",
       "<table border=\"1\" class=\"dataframe\">\n",
       "  <thead>\n",
       "    <tr style=\"text-align: right;\">\n",
       "      <th></th>\n",
       "      <th>query</th>\n",
       "      <th>l2arithmetic_mean0.6 dcg</th>\n",
       "      <th>l2arithmetic_mean0.6 dcg_dense</th>\n",
       "      <th>l2arithmetic_mean0.6 dg</th>\n",
       "      <th>l2arithmetic_mean0.6 ndcg</th>\n",
       "      <th>l2arithmetic_mean0.6 prec@10</th>\n",
       "      <th>l2arithmetic_mean0.6 ratio_of_ratings</th>\n",
       "      <th>l2arithmetic_mean0.7 dcg</th>\n",
       "      <th>l2arithmetic_mean0.7 dcg_dense</th>\n",
       "      <th>l2arithmetic_mean0.7 dg</th>\n",
       "      <th>l2arithmetic_mean0.7 ndcg</th>\n",
       "      <th>l2arithmetic_mean0.7 prec@10</th>\n",
       "      <th>l2arithmetic_mean0.7 ratio_of_ratings</th>\n",
       "    </tr>\n",
       "  </thead>\n",
       "  <tbody>\n",
       "    <tr>\n",
       "      <th>0</th>\n",
       "      <td>$30 roblox gift card not digital</td>\n",
       "      <td>0.666667</td>\n",
       "      <td>1.261860</td>\n",
       "      <td>0.333333</td>\n",
       "      <td>0.080904</td>\n",
       "      <td>0.1</td>\n",
       "      <td>0.2</td>\n",
       "      <td>0.666667</td>\n",
       "      <td>1.261860</td>\n",
       "      <td>0.333333</td>\n",
       "      <td>0.080904</td>\n",
       "      <td>0.1</td>\n",
       "      <td>0.2</td>\n",
       "    </tr>\n",
       "    <tr>\n",
       "      <th>1</th>\n",
       "      <td>(fiction without frontiers)</td>\n",
       "      <td>4.892789</td>\n",
       "      <td>4.892789</td>\n",
       "      <td>2.446395</td>\n",
       "      <td>0.358954</td>\n",
       "      <td>0.2</td>\n",
       "      <td>0.2</td>\n",
       "      <td>4.892789</td>\n",
       "      <td>4.892789</td>\n",
       "      <td>2.446395</td>\n",
       "      <td>0.358954</td>\n",
       "      <td>0.2</td>\n",
       "      <td>0.2</td>\n",
       "    </tr>\n",
       "    <tr>\n",
       "      <th>2</th>\n",
       "      <td>100</td>\n",
       "      <td>0.000000</td>\n",
       "      <td>0.000000</td>\n",
       "      <td>0.000000</td>\n",
       "      <td>0.000000</td>\n",
       "      <td>0.0</td>\n",
       "      <td>0.0</td>\n",
       "      <td>0.000000</td>\n",
       "      <td>0.000000</td>\n",
       "      <td>0.000000</td>\n",
       "      <td>0.000000</td>\n",
       "      <td>0.0</td>\n",
       "      <td>0.0</td>\n",
       "    </tr>\n",
       "    <tr>\n",
       "      <th>3</th>\n",
       "      <td>10x10x6 cake box without window</td>\n",
       "      <td>1.000000</td>\n",
       "      <td>2.000000</td>\n",
       "      <td>1.000000</td>\n",
       "      <td>0.131418</td>\n",
       "      <td>0.1</td>\n",
       "      <td>0.1</td>\n",
       "      <td>1.000000</td>\n",
       "      <td>2.000000</td>\n",
       "      <td>1.000000</td>\n",
       "      <td>0.131418</td>\n",
       "      <td>0.1</td>\n",
       "      <td>0.1</td>\n",
       "    </tr>\n",
       "    <tr>\n",
       "      <th>4</th>\n",
       "      <td>15 inch light weight laptop that has lots of m...</td>\n",
       "      <td>0.000000</td>\n",
       "      <td>0.000000</td>\n",
       "      <td>0.000000</td>\n",
       "      <td>0.000000</td>\n",
       "      <td>0.0</td>\n",
       "      <td>0.0</td>\n",
       "      <td>0.000000</td>\n",
       "      <td>0.000000</td>\n",
       "      <td>0.000000</td>\n",
       "      <td>0.000000</td>\n",
       "      <td>0.0</td>\n",
       "      <td>0.0</td>\n",
       "    </tr>\n",
       "  </tbody>\n",
       "</table>\n",
       "</div>"
      ],
      "text/plain": [
       "                                               query  \\\n",
       "0                   $30 roblox gift card not digital   \n",
       "1                        (fiction without frontiers)   \n",
       "2                                                100   \n",
       "3                    10x10x6 cake box without window   \n",
       "4  15 inch light weight laptop that has lots of m...   \n",
       "\n",
       "   l2arithmetic_mean0.6 dcg  l2arithmetic_mean0.6 dcg_dense  \\\n",
       "0                  0.666667                        1.261860   \n",
       "1                  4.892789                        4.892789   \n",
       "2                  0.000000                        0.000000   \n",
       "3                  1.000000                        2.000000   \n",
       "4                  0.000000                        0.000000   \n",
       "\n",
       "   l2arithmetic_mean0.6 dg  l2arithmetic_mean0.6 ndcg  \\\n",
       "0                 0.333333                   0.080904   \n",
       "1                 2.446395                   0.358954   \n",
       "2                 0.000000                   0.000000   \n",
       "3                 1.000000                   0.131418   \n",
       "4                 0.000000                   0.000000   \n",
       "\n",
       "   l2arithmetic_mean0.6 prec@10  l2arithmetic_mean0.6 ratio_of_ratings  \\\n",
       "0                           0.1                                    0.2   \n",
       "1                           0.2                                    0.2   \n",
       "2                           0.0                                    0.0   \n",
       "3                           0.1                                    0.1   \n",
       "4                           0.0                                    0.0   \n",
       "\n",
       "   l2arithmetic_mean0.7 dcg  l2arithmetic_mean0.7 dcg_dense  \\\n",
       "0                  0.666667                        1.261860   \n",
       "1                  4.892789                        4.892789   \n",
       "2                  0.000000                        0.000000   \n",
       "3                  1.000000                        2.000000   \n",
       "4                  0.000000                        0.000000   \n",
       "\n",
       "   l2arithmetic_mean0.7 dg  l2arithmetic_mean0.7 ndcg  \\\n",
       "0                 0.333333                   0.080904   \n",
       "1                 2.446395                   0.358954   \n",
       "2                 0.000000                   0.000000   \n",
       "3                 1.000000                   0.131418   \n",
       "4                 0.000000                   0.000000   \n",
       "\n",
       "   l2arithmetic_mean0.7 prec@10  l2arithmetic_mean0.7 ratio_of_ratings  \n",
       "0                           0.1                                    0.2  \n",
       "1                           0.2                                    0.2  \n",
       "2                           0.0                                    0.0  \n",
       "3                           0.1                                    0.1  \n",
       "4                           0.0                                    0.0  "
      ]
     },
     "execution_count": 73,
     "metadata": {},
     "output_type": "execute_result"
    }
   ],
   "source": [
    "ix = (df_metrics['pipeline'].isin(pipelines_to_check)) & (df_metrics['metric'].isin([\"dcg\"]))\n",
    "ix = (df_metrics['pipeline'].isin(pipelines_to_check))\n",
    "df_metrics[ix].head()\n",
    "p_df = df_metrics[ix].pivot_table(index=\"query\", columns=[\"pipeline\", \"metric\"], values=\"value\").reset_index()\n",
    "# Flatten columns for visualization purposes\n",
    "p_df.columns = [\" \".join(c).strip() for c in p_df.columns.values]\n",
    "p_df.head()"
   ]
  },
  {
   "cell_type": "code",
   "execution_count": 74,
   "id": "122ee21b-f3e0-4a46-ae55-b392964b2f6b",
   "metadata": {},
   "outputs": [
    {
     "data": {
      "application/vnd.plotly.v1+json": {
       "config": {
        "plotlyServerURL": "https://plot.ly"
       },
       "data": [
        {
         "customdata": [
          [
           "$30 roblox gift card not digital",
           1.261859507142915,
           0.3333333333333333,
           0.0809035728588078,
           0.1,
           0.2,
           1.261859507142915,
           0.3333333333333333,
           0.0809035728588078,
           0.1,
           0.2
          ],
          [
           "(fiction without frontiers)",
           4.892789260714372,
           2.446394630357186,
           0.3589542101716347,
           0.2,
           0.2,
           4.892789260714372,
           2.446394630357186,
           0.3589542101716347,
           0.2,
           0.2
          ],
          [
           "100",
           0,
           0,
           0,
           0,
           0,
           0,
           0,
           0,
           0,
           0
          ],
          [
           "10x10x6 cake box without window",
           2,
           1,
           0.1314175698439436,
           0.1,
           0.1,
           2,
           1,
           0.1314175698439436,
           0.1,
           0.1
          ],
          [
           "15 inch light weight laptop that has lots of memory storage and RAM.  It should include a HDMI port as well as a USB drive.  ",
           0,
           0,
           0,
           0,
           0,
           0,
           0,
           0,
           0,
           0
          ],
          [
           "15 microsoft card",
           7.345377356638177,
           1.3519967479336072,
           0.7642391575973727,
           0.4,
           0.5,
           3,
           3,
           0.339160205273616,
           0.1,
           0.1
          ],
          [
           "40 amp 240 volt timer",
           8.345377356638178,
           1.5966644719777698,
           0.5856878397049649,
           0.5,
           0.5,
           8.345377356638178,
           1.5966644719777698,
           0.5856878397049649,
           0.5,
           0.5
          ],
          [
           "45 women birthday party supplies",
           3,
           3,
           0.4692787260227565,
           0.1,
           0.1,
           3,
           3,
           0.4692787260227565,
           0.1,
           0.1
          ],
          [
           "4khdip168nv-1",
           0,
           0,
           0,
           0,
           0,
           0,
           0,
           0,
           0,
           0
          ],
          [
           "7 days without a pun makes one weak",
           12.763483535311371,
           1.3042098615056297,
           0.8611375561264455,
           0.9,
           0.9,
           12.763483535311371,
           1.3042098615056297,
           0.8611375561264455,
           0.9,
           0.9
          ],
          [
           "a deed without a name",
           12.40727634820335,
           1.3785862609114834,
           0.9299682259872531,
           0.9,
           0.9,
           12.40727634820335,
           1.3785862609114834,
           0.9299682259872531,
           0.9,
           0.9
          ],
          [
           "adaptador control xbox 360 a pc",
           4.892789260714372,
           0.9067945546554248,
           0.1359347691888752,
           0.2,
           0.2,
           4.892789260714372,
           0.9067945546554248,
           0.1359347691888752,
           0.2,
           0.2
          ],
          [
           "adidas soccer cleats",
           4.892789260714372,
           1.2843107806620333,
           0.1884441521277154,
           0.2,
           0.2,
           4.892789260714372,
           1.2843107806620333,
           0.1884441521277154,
           0.2,
           0.2
          ],
          [
           "alexa leak detector",
           6.392789260714372,
           1.9871369406794797,
           0.43735247915031,
           0.3,
           0.3,
           6.392789260714372,
           1.9871369406794797,
           0.43735247915031,
           0.3,
           0.3
          ],
          [
           "alphabet stickers",
           10.913998917962244,
           1.4997725777493431,
           0.7702043899253146,
           0.7,
           0.7,
           10.913998917962244,
           1.4997725777493431,
           0.7702043899253146,
           0.7,
           0.7
          ],
          [
           "american flag 5x8 outdoor made in usa",
           8.845377356638178,
           1.7690754713276355,
           0.6489315753318466,
           0.5,
           0.5,
           9.913998917962244,
           1.6523331529937073,
           0.7273298443105218,
           0.6,
           0.6
          ],
          [
           "andis t edger",
           3.6309297535714578,
           1.6781035935540112,
           0.2462245226243053,
           0.1,
           0.2,
           3.6309297535714578,
           1.6781035935540112,
           0.2462245226243053,
           0.1,
           0.2
          ],
          [
           "back to december taylor swift",
           0,
           0,
           0,
           0,
           0,
           0,
           0,
           0,
           0,
           0
          ],
          [
           "backpacks lunchbox combo",
           2,
           0.5781296526357758,
           0.0573136562774042,
           0.1,
           0.1,
           0,
           0,
           0,
           0,
           0
          ],
          [
           "bambu utensil set",
           3,
           0.9030899869919436,
           0.066254223454389,
           0.1,
           0.1,
           3,
           0.8671944789536635,
           0.0636207881989517,
           0.1,
           0.1
          ],
          [
           "barbie puppy movies",
           9.557791730854222,
           1.252676484881701,
           0.5633545811446726,
           0.6,
           0.6,
           9.557791730854222,
           1.252676484881701,
           0.5633545811446726,
           0.6,
           0.6
          ],
          [
           "baseball shirt 6 under armour",
           0,
           0,
           0,
           0,
           0.1,
           0,
           0,
           0,
           0,
           0.1
          ],
          [
           "battery samsung galaxy s7 edge",
           12.763483535311371,
           1.4141764474747882,
           0.933745776545611,
           0.9,
           0.9,
           12.763483535311371,
           1.4141764474747882,
           0.933745776545611,
           0.9,
           0.9
          ],
          [
           "beeswax wood polish",
           10.913998917962244,
           1.4244934087273136,
           0.7315449642824575,
           0.7,
           0.7,
           10.913998917962244,
           1.4244934087273136,
           0.7315449642824575,
           0.7,
           0.7
          ],
          [
           "belief without borders",
           6.754142376861158,
           1.6237123130105835,
           0.6059731204438072,
           0.4,
           0.4,
           6.754142376861158,
           1.6237123130105835,
           0.6059731204438072,
           0.4,
           0.4
          ],
          [
           "best ride on cars mercedes 3-in-1 push car in white",
           7.684818934934552,
           1.8347959727678895,
           0.538431315257452,
           0.4,
           0.4,
           7.684818934934552,
           1.8347959727678895,
           0.538431315257452,
           0.4,
           0.4
          ],
          [
           "black and white checkered curtains 2 panels",
           8.845377356638178,
           1.710402682777643,
           0.6274092458891772,
           0.5,
           0.5,
           8.845377356638178,
           1.7690754713276355,
           0.6489315753318466,
           0.5,
           0.5
          ],
          [
           "body shop gift set for men",
           3.892789260714373,
           1.0109557689252056,
           0.1679945551663471,
           0.2,
           0.2,
           3.892789260714373,
           1.0109557689252056,
           0.1679945551663471,
           0.2,
           0.2
          ],
          [
           "boho earrings",
           3,
           1.8927892607143724,
           0.1388624438735545,
           0.1,
           0.1,
           3,
           1.8927892607143724,
           0.1388624438735545,
           0.1,
           0.1
          ],
          [
           "boo costume monsters inc",
           0,
           0,
           0,
           0,
           0,
           0,
           0,
           0,
           0,
           0
          ],
          [
           "bookshelf 4 tier",
           4.892789260714372,
           1.0343107806620333,
           0.1517621910780354,
           0.2,
           0.2,
           4.892789260714372,
           1.0343107806620333,
           0.1517621910780354,
           0.2,
           0.2
          ],
          [
           "bose headphones replacement cord",
           10.824742530965828,
           1.3364392867878818,
           0.7843714218114438,
           0.8,
           0.8,
           10.824742530965828,
           1.3364392867878818,
           0.7843714218114438,
           0.8,
           0.8
          ],
          [
           "boys smart watch",
           3,
           0.9463946303571862,
           0.0694312219367772,
           0.1,
           0.1,
           3,
           0.9463946303571862,
           0.0694312219367772,
           0.1,
           0.1
          ],
          [
           "bra shiny",
           6.623212623289701,
           1.2396311373509088,
           0.4001461094217337,
           0.4,
           0.4,
           6.623212623289701,
           1.2396311373509088,
           0.4001461094217337,
           0.4,
           0.4
          ],
          [
           "bridal shower decorations",
           0,
           0,
           0,
           0,
           0,
           0,
           0,
           0,
           0,
           0
          ],
          [
           "bulwark flame resistant jacket",
           12.763483535311371,
           1.4141764474747882,
           0.933745776545611,
           0.9,
           0.9,
           12.763483535311371,
           1.4141764474747882,
           0.933745776545611,
           0.9,
           0.9
          ],
          [
           "card holders for four decksplaying cards",
           8.845377356638178,
           1.6496934687260238,
           0.6051399156371955,
           0.5,
           0.5,
           8.845377356638178,
           1.6496934687260238,
           0.6051399156371955,
           0.5,
           0.5
          ],
          [
           "cargo pants men big and tall",
           0,
           0,
           0,
           0,
           0,
           0,
           0,
           0,
           0,
           0
          ],
          [
           "carhartt extreme cold weather boot socks",
           5.892789260714372,
           1.1090750294567635,
           0.2440982821902344,
           0.3,
           0.3,
           5.892789260714372,
           1.1090750294567635,
           0.2440982821902344,
           0.3,
           0.3
          ],
          [
           "carhartt windbreaker",
           0,
           0,
           0,
           0,
           0,
           0,
           0,
           0,
           0,
           0
          ],
          [
           "casio illuminator watches for men",
           12.763483535311371,
           1.3709609266716507,
           0.9052116356304494,
           0.9,
           0.9,
           12.763483535311371,
           1.3709609266716507,
           0.9052116356304494,
           0.9,
           0.9
          ],
          [
           "cat balls",
           0,
           0,
           0,
           0,
           0,
           0,
           0,
           0,
           0,
           0
          ],
          [
           "ceramtic coating",
           3,
           1,
           0.07336392209936,
           0.1,
           0.1,
           3,
           1,
           0.07336392209936,
           0.1,
           0.1
          ],
          [
           "charger wireless for iphone",
           0,
           0,
           0,
           0,
           0,
           0,
           0,
           0,
           0,
           0
          ],
          [
           "christmas dress for petite women",
           0,
           0,
           0,
           0,
           0,
           0,
           0,
           0,
           0,
           0
          ],
          [
           "coil incense",
           11.86039354831943,
           1.4825491935399286,
           0.8701249883466592,
           0.8,
           0.8,
           11.86039354831943,
           1.4825491935399286,
           0.8701249883466592,
           0.8,
           0.8
          ],
          [
           "cole haan grand crosscourt",
           3,
           3,
           0.2200917662980801,
           0.1,
           0.1,
           3,
           3,
           0.2200917662980801,
           0.1,
           0.1
          ],
          [
           "collagen supplements",
           0,
           0,
           0,
           0,
           0,
           0,
           0,
           0,
           0,
           0
          ],
          [
           "columbia ice maiden ii womens insulated snow boots",
           0,
           0,
           0,
           0,
           0,
           0,
           0,
           0,
           0,
           0
          ],
          [
           "computer software programs adobe",
           0,
           0,
           0,
           0,
           0,
           0,
           0,
           0,
           0,
           0
          ],
          [
           "computer table",
           0,
           0,
           0,
           0,
           0,
           0,
           0,
           0,
           0,
           0
          ],
          [
           "concealer color changing foundation",
           7.684818934934552,
           1.4705526676587293,
           0.4315420454124845,
           0.4,
           0.4,
           7.684818934934552,
           1.4705526676587293,
           0.4315420454124845,
           0.4,
           0.4
          ],
          [
           "contact lens colored for eyes",
           5.130929753571458,
           1.2282729783115174,
           0.3529358602770208,
           0.2,
           0.3,
           3.6309297535714578,
           0.6788431938209772,
           0.1300406401698337,
           0.1,
           0.2
          ],
          [
           "converse sneakers for women",
           0,
           0,
           0,
           0,
           0,
           0,
           0,
           0,
           0,
           0
          ],
          [
           "corn hole game wooden",
           6.392789260714372,
           1.1329942420936636,
           0.249362703947949,
           0.3,
           0.3,
           6.392789260714372,
           1.118559360971916,
           0.2461857054655608,
           0.3,
           0.3
          ],
          [
           "cousin it costume",
           4.892789260714372,
           2.0802792108518124,
           0.4703652827859578,
           0.2,
           0.2,
           4.892789260714372,
           2.446394630357186,
           0.5531464700081437,
           0.2,
           0.2
          ],
          [
           "custom 3 panel wall art",
           0,
           0,
           0,
           0,
           0,
           0,
           0,
           0,
           0,
           0
          ],
          [
           "cwine glasses",
           0,
           0,
           0,
           0,
           0,
           0,
           0,
           0,
           0,
           0
          ],
          [
           "dachshund case",
           11.86039354831943,
           1.4503656392009685,
           0.8512360941594272,
           0.8,
           0.8,
           12.763483535311371,
           1.3855688436179348,
           0.914856882358379,
           0.9,
           0.9
          ],
          [
           "daves killer bread",
           7.684818934934552,
           0.9935368827536186,
           0.29155904987671,
           0.4,
           0.4,
           7.684818934934552,
           0.9935368827536186,
           0.29155904987671,
           0.4,
           0.4
          ],
          [
           "definitely not paid enough for this",
           0,
           0,
           0,
           0,
           0,
           0,
           0,
           0,
           0,
           0
          ],
          [
           "dental floss 0.3",
           0,
           0,
           0,
           0,
           0,
           0,
           0,
           0,
           0,
           0
          ],
          [
           "detective pikachu digital",
           9.127115172780828,
           1.4178298618481306,
           0.7302927298895479,
           0.6,
           0.6,
           9.127115172780828,
           1.4178298618481306,
           0.7302927298895479,
           0.6,
           0.6
          ],
          [
           "dieter roth",
           13.630678014265037,
           1.3630678014265036,
           1,
           1,
           1,
           13.630678014265037,
           1.3630678014265036,
           1,
           1,
           1
          ],
          [
           "dildo for sex",
           0,
           0,
           0,
           0,
           0,
           0,
           0,
           0,
           0,
           0
          ],
          [
           "dinosaur decorations orange",
           7.71444760306672,
           1.542889520613344,
           0.5659621329909817,
           0.5,
           0.5,
           10.37325660763995,
           1.2845433243289868,
           0.7539130910345982,
           0.8,
           0.8
          ],
          [
           "dji goggles",
           8.128424804695504,
           0.7801494891433565,
           0.5151134371263187,
           0.5,
           0.9,
           8.128424804695504,
           0.7801494891433565,
           0.5151134371263187,
           0.5,
           0.9
          ],
          [
           "do not enter tape",
           7.053889181363095,
           1.4722765042010186,
           0.4320479150516867,
           0.4,
           0.4,
           7.053889181363095,
           1.4722765042010186,
           0.4320479150516867,
           0.4,
           0.4
          ],
          [
           "double couple famous painting compression socks",
           5.892789260714372,
           1.1243242653065564,
           0.2528159637371905,
           0.3,
           0.3,
           5.892789260714372,
           1.1243242653065564,
           0.2528159637371905,
           0.3,
           0.3
          ],
          [
           "drone with live camera for adults",
           6.392789260714372,
           1.118559360971916,
           0.2461857054655608,
           0.3,
           0.3,
           6.392789260714372,
           1.118559360971916,
           0.2461857054655608,
           0.3,
           0.3
          ],
          [
           "drywall anchors heavy duty",
           8.845377356638178,
           1.3262427130583476,
           0.4864918354282827,
           0.5,
           0.5,
           8.845377356638178,
           1.3262427130583476,
           0.4864918354282827,
           0.5,
           0.5
          ],
          [
           "dummy door handle brass",
           9.170938923619678,
           1.1385047749915496,
           0.5238284629779131,
           0.6,
           0.6,
           9.170938923619678,
           1.1385047749915496,
           0.5238284629779131,
           0.6,
           0.6
          ],
          [
           "echo dot flush mount",
           4.2618595071429155,
           1.8333333333333333,
           0.3421020804953412,
           0.2,
           0.2,
           4.2618595071429155,
           1.8333333333333333,
           0.3421020804953412,
           0.2,
           0.2
          ],
          [
           "eye mask without strap",
           9.913998917962244,
           1.2559277318847826,
           0.6449784899909481,
           0.7,
           0.7,
           9.913998917962244,
           1.2559277318847826,
           0.6449784899909481,
           0.7,
           0.7
          ],
          [
           "ez bow maker for ribbon",
           9.913998917962244,
           1.551815906564595,
           0.6830838076905165,
           0.6,
           0.6,
           9.913998917962244,
           1.551815906564595,
           0.6830838076905165,
           0.6,
           0.6
          ],
          [
           "fabric aprons",
           4.892789260714372,
           0.9335972394768316,
           0.1369847102983117,
           0.2,
           0.2,
           4.892789260714372,
           0.9335972394768316,
           0.1369847102983117,
           0.2,
           0.2
          ],
          [
           "fast charging wireless charger",
           0,
           0,
           0,
           0,
           0,
           0,
           0,
           0,
           0,
           0
          ],
          [
           "fire 7 kids edition tablet",
           5.192536065216308,
           1.151132425775904,
           0.4296052339457298,
           0.2,
           0.4,
           5.192536065216308,
           1.151132425775904,
           0.4296052339457298,
           0.2,
           0.4
          ],
          [
           "fitness rollers deep tissue massage",
           4.892789260714372,
           0.9335972394768316,
           0.1369847102983117,
           0.2,
           0.2,
           4.892789260714372,
           0.9335972394768316,
           0.1369847102983117,
           0.2,
           0.2
          ],
          [
           "fletchings for arrows",
           6.422959427791637,
           1.2113443391595442,
           0.371220793242352,
           0.3,
           0.4,
           7.583517849495262,
           1.1690754713276357,
           0.4478341849183953,
           0.4,
           0.5
          ],
          [
           "floral wallpaper stick and peel",
           12.763483535311371,
           1.4141764474747882,
           0.933745776545611,
           0.9,
           0.9,
           12.763483535311371,
           1.4141764474747882,
           0.933745776545611,
           0.9,
           0.9
          ],
          [
           "fluoride coated scissors",
           11.86039354831943,
           1.4339317326363992,
           0.8415908474314976,
           0.8,
           0.8,
           11.86039354831943,
           1.4339317326363992,
           0.8415908474314976,
           0.8,
           0.8
          ],
          [
           "four paws magic coat instant dog mat remover",
           12.315213137479308,
           1.2315213137479308,
           0.9034923372550476,
           0.9,
           1,
           12.315213137479308,
           1.2315213137479308,
           0.9034923372550476,
           0.9,
           1
          ],
          [
           "frixion pens",
           4.892789260714372,
           2.446394630357186,
           0.3589542101716347,
           0.2,
           0.2,
           4.892789260714372,
           2.446394630357186,
           0.3589542101716347,
           0.2,
           0.2
          ],
          [
           "frolic flowers",
           0,
           0,
           0,
           0,
           0.1,
           0,
           0,
           0,
           0,
           0.1
          ],
          [
           "futon queen",
           2.8927892607143724,
           0.8960148371100897,
           0.1372934713261228,
           0.1,
           0.2,
           2.8927892607143724,
           0.8960148371100897,
           0.1372934713261228,
           0.1,
           0.2
          ],
          [
           "galaxy 8 note case",
           0,
           0,
           0,
           0,
           0,
           0,
           0,
           0,
           0,
           0
          ],
          [
           "gatorade bottle",
           4.892789260714372,
           2.0802792108518124,
           0.3052348839397011,
           0.2,
           0.2,
           4.892789260714372,
           2.0802792108518124,
           0.3052348839397011,
           0.2,
           0.2
          ],
          [
           "gift teen girl",
           0,
           0,
           0,
           0,
           0,
           0,
           0,
           0,
           0,
           0
          ],
          [
           "girls bible",
           3,
           0.8671944789536635,
           0.0636207881989517,
           0.1,
           0.1,
           3,
           0.8671944789536635,
           0.0636207881989517,
           0.1,
           0.1
          ],
          [
           "girls tights",
           3,
           3,
           0.2200917662980801,
           0.1,
           0.1,
           3,
           3,
           0.2200917662980801,
           0.1,
           0.1
          ],
          [
           "glitter lamp color change",
           4.892789260714372,
           2.25,
           0.3631438091023202,
           0.2,
           0.2,
           4.892789260714372,
           2.25,
           0.3631438091023202,
           0.2,
           0.2
          ],
          [
           "go chef 8 in 1 cooker",
           3,
           1.2920296742201791,
           0.1151741929366216,
           0.1,
           0.1,
           3,
           1.2920296742201791,
           0.1151741929366216,
           0.1,
           0.1
          ],
          [
           "golf sets for men left handed",
           4.892789260714372,
           1.951544993495972,
           0.2863459897524692,
           0.2,
           0.2,
           4.892789260714372,
           1.951544993495972,
           0.2863459897524692,
           0.2,
           0.2
          ],
          [
           "ground lift box",
           6.392789260714372,
           1.9319597492354388,
           0.4252084336260237,
           0.3,
           0.3,
           6.392789260714372,
           1.9319597492354388,
           0.4252084336260237,
           0.3,
           0.3
          ],
          [
           "halloween glow bracelets kids",
           3,
           0.9030899869919436,
           0.066254223454389,
           0.1,
           0.1,
           3,
           0.9030899869919436,
           0.066254223454389,
           0.1,
           0.1
          ],
          [
           "heavy duty plastic folders with pockets",
           3,
           1,
           0.07336392209936,
           0.1,
           0.1,
           3,
           1,
           0.07336392209936,
           0.1,
           0.1
          ],
          [
           "helen kaminski hats",
           0,
           0,
           0,
           0,
           0,
           0,
           0,
           0,
           0,
           0
          ],
          [
           "henley shirts for men",
           0,
           0,
           0,
           0,
           0,
           0,
           0,
           0,
           0,
           0
          ],
          [
           "hey water antoinette portis",
           3,
           1.1605584217036249,
           0.1179716355827032,
           0.1,
           0.1,
           3,
           1.1605584217036249,
           0.1179716355827032,
           0.1,
           0.1
          ],
          [
           "hug machine",
           3.6309297535714578,
           0.9077324383928644,
           0.5577409001984587,
           0.1,
           0.4,
           3.6309297535714578,
           1.2103099178571526,
           0.5577409001984587,
           0.1,
           0.3
          ],
          [
           "if lost or drunk please return to bestie",
           13.630678014265037,
           1.3630678014265036,
           1,
           1,
           1,
           13.630678014265037,
           1.3630678014265036,
           1,
           1,
           1
          ],
          [
           "ikea wood desk",
           6.845377356638177,
           1.284108432274332,
           0.5162845405062058,
           0.4,
           0.5,
           2.8927892607143724,
           1.4463946303571862,
           0.2326131246726584,
           0.1,
           0.2
          ],
          [
           "ink 61 black and color",
           10.913998917962244,
           1.4381470865099242,
           0.7385567757549498,
           0.7,
           0.7,
           10.913998917962244,
           1.4381470865099242,
           0.7385567757549498,
           0.7,
           0.7
          ],
          [
           "instant pot air fryer",
           4.5,
           0.64527201342591,
           0.142019057177627,
           0.2,
           0.3,
           4.5,
           0.64527201342591,
           0.142019057177627,
           0.2,
           0.3
          ],
          [
           "iphone 11 alpha glass screen protector",
           3,
           1,
           0.2974090120586433,
           0.1,
           0.3,
           3,
           1,
           0.2974090120586433,
           0.1,
           0.3
          ],
          [
           "iphone grip",
           0,
           0,
           0,
           0,
           0,
           0,
           0,
           0,
           0,
           0
          ],
          [
           "jbl bluetooth speakers",
           3,
           1.1605584217036249,
           0.085143117641621,
           0.1,
           0.1,
           3,
           1.1605584217036249,
           0.085143117641621,
           0.1,
           0.1
          ],
          [
           "jobs evergreen tree spikes",
           13.040583192283169,
           1.3040583192283166,
           0.9774367618500638,
           1,
           1,
           13.040583192283169,
           1.3040583192283166,
           0.9774367618500638,
           1,
           1
          ],
          [
           "kid animal plates",
           4.2618595071429155,
           1.261859507142915,
           0.1851499251647393,
           0.2,
           0.2,
           5.892789260714372,
           1.124669633447364,
           0.2475305261272447,
           0.3,
           0.3
          ],
          [
           "kids play rug pj mask",
           0,
           0,
           0,
           0,
           0,
           0,
           0,
           0,
           0,
           0
          ],
          [
           "kobe baby jersey",
           6.392789260714372,
           2.1309297535714573,
           0.4690000933206747,
           0.3,
           0.3,
           6.392789260714372,
           2.1309297535714573,
           0.4690000933206747,
           0.3,
           0.3
          ],
          [
           "laptop refurbished",
           0,
           0,
           0,
           0,
           0,
           0,
           0,
           0,
           0,
           0
          ],
          [
           "latex dental dam",
           11.448018658525644,
           1.2588497798445617,
           0.8311874146498168,
           0.9,
           0.9,
           11.448018658525644,
           1.2588497798445617,
           0.8311874146498168,
           0.9,
           0.9
          ],
          [
           "lg v20 case",
           4.892789260714372,
           1.1835972394768317,
           0.1736666713479918,
           0.2,
           0.2,
           4.892789260714372,
           1.1835972394768317,
           0.1736666713479918,
           0.2,
           0.2
          ],
          [
           "lights bulbs color changing",
           4.892789260714372,
           1.397939623853158,
           0.2051166673279436,
           0.2,
           0.2,
           4.892789260714372,
           1.397939623853158,
           0.2051166673279436,
           0.2,
           0.2
          ],
          [
           "linkin park",
           8.845377356638178,
           1.6922821644076875,
           0.6207622843987102,
           0.5,
           0.5,
           8.845377356638178,
           1.6922821644076875,
           0.6207622843987102,
           0.5,
           0.5
          ],
          [
           "long workout tank tops for women loose fit",
           10.913998917962244,
           1.4997725777493431,
           0.7702043899253146,
           0.7,
           0.7,
           10.913998917962244,
           1.4997725777493431,
           0.7702043899253146,
           0.7,
           0.7
          ],
          [
           "macaw toys",
           6.392789260714372,
           1.2797279636905194,
           0.2816575879096918,
           0.3,
           0.3,
           6.392789260714372,
           1.2797279636905194,
           0.2816575879096918,
           0.3,
           0.3
          ],
          [
           "margarita glasses",
           9.913998917962244,
           1.6523331529937073,
           0.7273298443105218,
           0.6,
           0.6,
           9.913998917962244,
           1.6523331529937073,
           0.7273298443105218,
           0.6,
           0.6
          ],
          [
           "mary meyer baby mat",
           11.86039354831943,
           1.4825491935399286,
           0.9094987067248556,
           0.8,
           0.8,
           11.86039354831943,
           1.4825491935399286,
           0.9094987067248556,
           0.8,
           0.8
          ],
          [
           "maxi pads without wings",
           9.913998917962244,
           1.4546409524163184,
           0.6403089930936582,
           0.6,
           0.6,
           9.913998917962244,
           1.4546409524163184,
           0.6403089930936582,
           0.6,
           0.6
          ],
          [
           "men school bag",
           0,
           0,
           0,
           0,
           0,
           0,
           0,
           0,
           0,
           0
          ],
          [
           "mens ralph lauren puffer jacket",
           7.684818934934552,
           1.7301355403429153,
           0.5077181160122074,
           0.4,
           0.4,
           7.684818934934552,
           1.7301355403429153,
           0.5077181160122074,
           0.4,
           0.4
          ],
          [
           "military face paint kit",
           4.892789260714372,
           0.9067945546554248,
           0.1330520101357289,
           0.2,
           0.2,
           3,
           0.9030899869919436,
           0.066254223454389,
           0.1,
           0.1
          ],
          [
           "mora wood carving knife",
           13.630678014265037,
           1.3630678014265036,
           1,
           1,
           1,
           13.630678014265037,
           1.3630678014265036,
           1,
           1,
           1
          ],
          [
           "mortara",
           12.132553781739915,
           1.348061531304435,
           0.8900917305098635,
           0.8,
           0.9,
           12.99974826069358,
           1.299974826069358,
           0.9537125187088152,
           0.9,
           1
          ],
          [
           "moto play screen protector",
           11.86039354831943,
           1.4605354229884813,
           0.8572048559638626,
           0.8,
           0.8,
           11.86039354831943,
           1.4605354229884813,
           0.8572048559638626,
           0.8,
           0.8
          ],
          [
           "mre beef",
           9.913998917962244,
           1.4678409776502388,
           0.6461194268314837,
           0.6,
           0.6,
           9.913998917962244,
           1.4678409776502388,
           0.6461194268314837,
           0.6,
           0.6
          ],
          [
           "muzzy broadheads",
           11.86039354831943,
           1.4034485034091366,
           0.8236998933965709,
           0.8,
           0.8,
           11.86039354831943,
           1.4034485034091366,
           0.8236998933965709,
           0.8,
           0.8
          ],
          [
           "my tv",
           0,
           0,
           0,
           0,
           0,
           0,
           0,
           0,
           0,
           0
          ],
          [
           "navistar international",
           13.630678014265037,
           1.3630678014265036,
           1,
           1,
           1,
           13.630678014265037,
           1.3630678014265036,
           1,
           1,
           1
          ],
          [
           "neuroquell for neuropathy",
           3.892789260714373,
           1.0109557689252056,
           0.1631654794495396,
           0.2,
           0.2,
           3.892789260714373,
           1.0109557689252056,
           0.1631654794495396,
           0.2,
           0.2
          ],
          [
           "newborn onesies",
           6.392789260714372,
           1.4484591188793925,
           0.3187939258847263,
           0.3,
           0.3,
           6.392789260714372,
           1.4484591188793925,
           0.3187939258847263,
           0.3,
           0.3
          ],
          [
           "ninja 4qt air fryer black af101",
           6.053889181363095,
           1.3192189247060422,
           0.3871322976965424,
           0.4,
           0.4,
           6.053889181363095,
           1.3192189247060422,
           0.3871322976965424,
           0.4,
           0.4
          ],
          [
           "old fashion mix",
           0,
           0,
           0,
           0,
           0,
           4.892789260714372,
           1.2262940479619022,
           0.1799314820111718,
           0.2,
           0.2
          ],
          [
           "opi linkin park after dark",
           0,
           0,
           0,
           0,
           0,
           0,
           0,
           0,
           0,
           0
          ],
          [
           "orange textured paint",
           0,
           0,
           0,
           0,
           0,
           0,
           0,
           0,
           0,
           0
          ],
          [
           "organicbone broth",
           6.392789260714372,
           1.6895405204413556,
           0.3718539573761156,
           0.3,
           0.3,
           6.392789260714372,
           1.6895405204413556,
           0.3718539573761156,
           0.3,
           0.3
          ],
          [
           "outdoor baby swing",
           4.892789260714372,
           2.25,
           0.3301376494471202,
           0.2,
           0.2,
           4.892789260714372,
           2.25,
           0.3301376494471202,
           0.2,
           0.2
          ],
          [
           "pack abd play sheet",
           7.684818934934552,
           1.2301355403429153,
           0.3609902718134873,
           0.4,
           0.4,
           7.684818934934552,
           1.2301355403429153,
           0.3609902718134873,
           0.4,
           0.4
          ],
          [
           "panties",
           0,
           0,
           0,
           0,
           0,
           0,
           0,
           0,
           0,
           0
          ],
          [
           "patio chair swing",
           4.892789260714372,
           1.0975598306060614,
           0.1610425878239398,
           0.2,
           0.2,
           4.892789260714372,
           1.0975598306060614,
           0.1610425878239398,
           0.2,
           0.2
          ],
          [
           "phoenix model a330",
           10.913998917962244,
           1.559142702566035,
           1,
           0.7,
           0.7,
           10.913998917962244,
           1.559142702566035,
           1,
           0.7,
           0.7
          ],
          [
           "pilot knee board",
           13.630678014265037,
           1.3630678014265036,
           1,
           1,
           1,
           13.630678014265037,
           1.3630678014265036,
           1,
           1,
           1
          ],
          [
           "pine tree garland",
           6.392789260714372,
           1.173736552415957,
           0.2583297509898471,
           0.3,
           0.3,
           6.392789260714372,
           1.173736552415957,
           0.2583297509898471,
           0.3,
           0.3
          ],
          [
           "pink ski mask",
           9.913998917962244,
           1.6052022608819565,
           0.7065836017263629,
           0.6,
           0.6,
           9.913998917962244,
           1.6052022608819565,
           0.7065836017263629,
           0.6,
           0.6
          ],
          [
           "plastic divider container",
           7.684818934934552,
           1.299958781653951,
           0.3814802991585579,
           0.4,
           0.4,
           7.684818934934552,
           1.1169010719012644,
           0.3277609729266243,
           0.4,
           0.4
          ],
          [
           "play kitchen for toddlers accessories",
           4.892789260714372,
           0.951544993495972,
           0.1396181455537491,
           0.2,
           0.2,
           4.892789260714372,
           0.951544993495972,
           0.1396181455537491,
           0.2,
           0.2
          ],
          [
           "plus size black shirt",
           4.892789260714372,
           0.9335972394768316,
           0.1369847102983117,
           0.2,
           0.2,
           4.892789260714372,
           0.9335972394768316,
           0.1369847102983117,
           0.2,
           0.2
          ],
          [
           "plywood clips for windows",
           11.86039354831943,
           1.3178215053688254,
           0.8701249883466592,
           0.8,
           0.9,
           12.763483535311371,
           1.2763483535311373,
           0.9363792118010482,
           0.9,
           1
          ],
          [
           "pocket storage",
           3,
           1.5,
           0.11004588314904,
           0.1,
           0.1,
           3,
           1.5,
           0.11004588314904,
           0.1,
           0.1
          ],
          [
           "pokemon shield nintendo switch",
           8.845377356638178,
           1.4614091731802863,
           0.5360735436824436,
           0.5,
           0.5,
           8.845377356638178,
           1.401741754104595,
           0.5141863642577491,
           0.5,
           0.5
          ],
          [
           "porch shades outdoor roll up",
           6.392789260714372,
           1.9871369406794797,
           0.43735247915031,
           0.3,
           0.3,
           6.392789260714372,
           1.9871369406794797,
           0.43735247915031,
           0.3,
           0.3
          ],
          [
           "posh moomy",
           0,
           0,
           0,
           0,
           0,
           0,
           0,
           0,
           0,
           0
          ],
          [
           "pot organizer",
           6.392789260714372,
           1.1759176335524295,
           0.2588097889896127,
           0.3,
           0.3,
           6.392789260714372,
           1.1759176335524295,
           0.2588097889896127,
           0.3,
           0.3
          ],
          [
           "powdered lemonade drink mix",
           3,
           1.1605584217036249,
           0.085143117641621,
           0.1,
           0.1,
           4.892789260714372,
           1.0138764503286442,
           0.1487639058405727,
           0.2,
           0.2
          ],
          [
           "power ball hand exerciser",
           4.892789260714372,
           1.6309297535714575,
           0.3589542101716347,
           0.3,
           0.3,
           5.754142376861158,
           1.3809297535714575,
           0.4052416914628196,
           0.4,
           0.4
          ],
          [
           "psp",
           5.790786294672542,
           0.6454388479854586,
           0.2841115521810353,
           0.3,
           0.6,
           5.790786294672542,
           0.6454388479854586,
           0.2841115521810353,
           0.3,
           0.6
          ],
          [
           "pumping backpack",
           6.392789260714372,
           1.946394630357186,
           0.4283854321084119,
           0.3,
           0.3,
           6.392789260714372,
           2.017782560805999,
           0.4440973278132556,
           0.3,
           0.3
          ],
          [
           "puzzle interlocking",
           3,
           1.8927892607143724,
           0.1388624438735545,
           0.1,
           0.1,
           3,
           1.8927892607143724,
           0.1388624438735545,
           0.1,
           0.1
          ],
          [
           "quick grip american tool mini",
           0,
           0,
           0,
           0,
           0,
           0,
           0,
           0,
           0,
           0
          ],
          [
           "quickbooks'",
           10.913998917962244,
           1.4049712523655316,
           0.7215194105726964,
           0.7,
           0.7,
           10.913998917962244,
           1.4049712523655316,
           0.7215194105726964,
           0.7,
           0.7
          ],
          [
           "rae dunn christmas mug",
           9.913998917962244,
           1.2692769704306308,
           0.5587148206871072,
           0.6,
           0.6,
           9.913998917962244,
           1.2692769704306308,
           0.5587148206871072,
           0.6,
           0.6
          ],
          [
           "rag doll kindergarten",
           0,
           0,
           0,
           0,
           0.1,
           0,
           0,
           0,
           0,
           0.1
          ],
          [
           "raid deep reach fogger",
           13.341613187947148,
           1.3341613187947148,
           0.9787930706003494,
           1,
           1,
           13.341613187947148,
           1.3341613187947148,
           0.9787930706003494,
           1,
           1
          ],
          [
           "razer kishi",
           9.22533481770356,
           1.153166852212945,
           0.8544599587974354,
           0.5,
           0.8,
           9.22533481770356,
           1.153166852212945,
           0.8544599587974354,
           0.5,
           0.8
          ],
          [
           "red flannel nightgowns for women",
           6.684818934934552,
           1.513336920604499,
           0.4440973278132556,
           0.4,
           0.4,
           3.892789260714373,
           1.9463946303571864,
           0.2855902880722746,
           0.2,
           0.2
          ],
          [
           "red long sleeve dress",
           3,
           1.8927892607143724,
           0.1388624438735545,
           0.1,
           0.1,
           3,
           1.8927892607143724,
           0.1388624438735545,
           0.1,
           0.1
          ],
          [
           "renogy 100w solar panel",
           5.392789260714372,
           1.6844492274726657,
           0.3875093320525988,
           0.3,
           0.3,
           7.845377356638177,
           1.4068607104567363,
           0.53941633196637,
           0.5,
           0.5
          ],
          [
           "reusable produce bags",
           3,
           1,
           0.07336392209936,
           0.1,
           0.1,
           3,
           1,
           0.07336392209936,
           0.1,
           0.1
          ],
          [
           "ribeye steaks",
           9.913998917962244,
           1.3694465160504656,
           0.6028078051365984,
           0.6,
           0.6,
           9.913998917962244,
           1.3694465160504656,
           0.6028078051365984,
           0.6,
           0.6
          ],
          [
           "rose petals for romantic night",
           4.892789260714372,
           1.5266738412089986,
           0.2240055615151755,
           0.2,
           0.2,
           4.892789260714372,
           1.5266738412089986,
           0.2240055615151755,
           0.2,
           0.2
          ],
          [
           "rudin by ivan turgenev",
           13.243825207030495,
           1.3243825207030495,
           0.9716189607861264,
           1,
           1,
           13.243825207030495,
           1.3243825207030495,
           0.9716189607861264,
           1,
           1
          ],
          [
           "runa energy drink",
           7.684818934934552,
           1.3133601240646546,
           0.6836127878533237,
           0.4,
           0.4,
           7.684818934934552,
           1.3133601240646546,
           0.6836127878533237,
           0.4,
           0.4
          ],
          [
           "runtz",
           10.224458397520888,
           1.2124622156950244,
           0.6226568847846708,
           0.7,
           0.7,
           10.224458397520888,
           1.2124622156950244,
           0.6226568847846708,
           0.7,
           0.7
          ],
          [
           "rv sink drain",
           1,
           0.3154648767857287,
           0.0241910098754177,
           0,
           0.1,
           1,
           0.3154648767857287,
           0.0241910098754177,
           0,
           0.1
          ],
          [
           "samsung galaxy note 8 case",
           0,
           0,
           0,
           0,
           0,
           0,
           0,
           0,
           0,
           0
          ],
          [
           "science diet",
           4.892789260714372,
           0.9858557741580052,
           0.1446524924330643,
           0.2,
           0.2,
           4.892789260714372,
           0.9858557741580052,
           0.1446524924330643,
           0.2,
           0.2
          ],
          [
           "shark vacmop",
           4.892789260714372,
           2.14601483711009,
           0.4004488039359449,
           0.2,
           0.2,
           4.892789260714372,
           2.14601483711009,
           0.4004488039359449,
           0.2,
           0.2
          ],
          [
           "slarm window sensor",
           3,
           3,
           0.2200917662980801,
           0.1,
           0.1,
           3,
           3,
           0.2200917662980801,
           0.1,
           0.1
          ],
          [
           "slip in sneakers for men",
           0,
           0,
           0,
           0,
           0,
           0,
           0,
           0,
           0,
           0
          ],
          [
           "small cigarette case",
           7.684818934934552,
           1.836344339159544,
           0.5388856921828065,
           0.4,
           0.4,
           8.845377356638178,
           1.5463390575968092,
           0.5672274908036509,
           0.5,
           0.5
          ],
          [
           "smarty jr",
           0,
           0,
           0,
           0,
           0,
           0,
           0,
           0,
           0,
           0
          ],
          [
           "snuff bullet",
           10.913998917962244,
           1.5401704852737013,
           0.7909506325094736,
           0.7,
           0.7,
           10.913998917962244,
           1.5401704852737013,
           0.7909506325094736,
           0.7,
           0.7
          ],
          [
           "spice variety pack",
           3,
           0.8671944789536635,
           0.0636207881989517,
           0.1,
           0.1,
           3,
           0.8671944789536635,
           0.0636207881989517,
           0.1,
           0.1
          ],
          [
           "ss officer",
           10.913998917962244,
           1.5452984149934554,
           0.7935840677649109,
           0.7,
           0.7,
           10.913998917962244,
           1.5452984149934554,
           0.7935840677649109,
           0.7,
           0.7
          ],
          [
           "starbucks mugs you are here",
           13.630678014265037,
           1.3630678014265036,
           1,
           1,
           1,
           13.630678014265037,
           1.3630678014265036,
           1,
           1,
           1
          ],
          [
           "still eyeliner",
           3,
           3,
           0.2200917662980801,
           0.1,
           0.1,
           3,
           3,
           0.2200917662980801,
           0.1,
           0.1
          ],
          [
           "stuffed animal washer bag",
           3,
           3,
           0.2200917662980801,
           0.1,
           0.1,
           3,
           3,
           0.2200917662980801,
           0.1,
           0.1
          ],
          [
           "sundiata",
           13.630678014265037,
           1.3630678014265036,
           1,
           1,
           1,
           13.630678014265037,
           1.3630678014265036,
           1,
           1,
           1
          ],
          [
           "super nes wires",
           4.2618595071429155,
           1.8333333333333333,
           0.3046523174128659,
           0.2,
           0.2,
           4.2618595071429155,
           1.8333333333333333,
           0.3046523174128659,
           0.2,
           0.2
          ],
          [
           "surgical pathology",
           12.763483535311371,
           1.3957840503267749,
           0.9216017310213248,
           0.9,
           0.9,
           12.763483535311371,
           1.3957840503267749,
           0.9216017310213248,
           0.9,
           0.9
          ],
          [
           "sushi go card game",
           7.254142376861158,
           1.8135355942152895,
           0.6466492297915688,
           0.4,
           0.4,
           7.254142376861158,
           1.8135355942152895,
           0.6466492297915688,
           0.4,
           0.4
          ],
          [
           "tcl a1x phone case straight talk",
           9.283069164390788,
           1.089487954921944,
           0.4795746567185076,
           0.6,
           0.6,
           10.87325660763995,
           0.9989684148364428,
           0.586305927726256,
           0.8,
           0.8
          ],
          [
           "telescopic handle",
           4.892789260714372,
           2.446394630357186,
           0.3751971202951802,
           0.2,
           0.2,
           4.892789260714372,
           2.446394630357186,
           0.3751971202951802,
           0.2,
           0.2
          ],
          [
           "tetley",
           12.763483535311371,
           1.3855688436179348,
           0.914856882358379,
           0.9,
           0.9,
           12.763483535311371,
           1.3855688436179348,
           0.914856882358379,
           0.9,
           0.9
          ],
          [
           "the first years gate parts",
           0,
           0,
           0,
           0,
           0.1,
           0,
           0,
           0,
           0,
           0.1
          ],
          [
           "the gallows",
           12.684376005175144,
           1.2684376005175144,
           0.9305755731226611,
           1,
           1,
           12.684376005175144,
           1.2684376005175144,
           0.9305755731226611,
           1,
           1
          ],
          [
           "thrive mascara",
           6.392789260714372,
           2.1309297535714573,
           0.5311576535478315,
           0.3,
           0.3,
           6.392789260714372,
           2.1309297535714573,
           0.5311576535478315,
           0.3,
           0.3
          ],
          [
           "trooper bandana shoe",
           12.763483535311371,
           1.4181648372568192,
           0.9363792118010482,
           0.9,
           0.9,
           12.763483535311371,
           1.4181648372568192,
           0.9363792118010482,
           0.9,
           0.9
          ],
          [
           "ultra fast keto boost 800mg",
           9.027146110727704,
           1.3486113652515035,
           0.6529864909014818,
           0.6,
           0.6,
           9.027146110727704,
           1.3486113652515035,
           0.6529864909014818,
           0.6,
           0.6
          ],
          [
           "uniball vision elite",
           4.892789260714372,
           2.446394630357186,
           0.3589542101716347,
           0.2,
           0.2,
           4.892789260714372,
           2.446394630357186,
           0.3589542101716347,
           0.2,
           0.2
          ],
          [
           "usb camera",
           1,
           0.430676558073393,
           0.0315961214565169,
           0,
           0.1,
           1,
           0.430676558073393,
           0.0315961214565169,
           0,
           0.1
          ],
          [
           "used pc desktop",
           0,
           0,
           0,
           0,
           0,
           0,
           0,
           0,
           0,
           0
          ],
          [
           "wallets for men",
           0,
           0,
           0,
           0,
           0,
           0,
           0,
           0,
           0,
           0
          ],
          [
           "water brushes",
           4.892789260714372,
           1.223197315178593,
           0.1794771050858173,
           0.2,
           0.2,
           4.892789260714372,
           1.223197315178593,
           0.1794771050858173,
           0.2,
           0.2
          ],
          [
           "wella 7r 810",
           3,
           3,
           0.2200917662980801,
           0.1,
           0.1,
           3,
           3,
           0.2200917662980801,
           0.1,
           0.1
          ],
          [
           "white mesh bodysuit",
           10.58066558462891,
           1.4571569851968342,
           0.7821811912839758,
           0.7,
           0.7,
           10.58066558462891,
           1.4571569851968342,
           0.7821811912839758,
           0.7,
           0.7
          ],
          [
           "wiggle scooters for kids",
           9.913998917962244,
           1.4384892835816423,
           0.6331992944486872,
           0.6,
           0.6,
           9.913998917962244,
           1.453812093644902,
           0.6399441431116328,
           0.6,
           0.6
          ],
          [
           "winter cycling shoe covers",
           11.527060214986095,
           1.2960296495703272,
           0.7606545459963072,
           0.8,
           0.8,
           11.527060214986095,
           1.2960296495703272,
           0.7606545459963072,
           0.8,
           0.8
          ],
          [
           "winter jacket",
           0,
           0,
           0,
           0,
           0,
           0,
           0,
           0,
           0,
           0
          ],
          [
           "wireless keyboard mouse combo",
           7.684818934934552,
           1.5487799153030308,
           0.4544982762213801,
           0.4,
           0.4,
           7.684818934934552,
           1.5487799153030308,
           0.4544982762213801,
           0.4,
           0.4
          ],
          [
           "women sexy dresses for party",
           0,
           0,
           0,
           0,
           0,
           0,
           0,
           0,
           0,
           0
          ],
          [
           "women shawl for winter",
           3,
           3,
           0.2200917662980801,
           0.1,
           0.1,
           3,
           3,
           0.2200917662980801,
           0.1,
           0.1
          ],
          [
           "wooden stool",
           0,
           0,
           0,
           0,
           0,
           0,
           0,
           0,
           0,
           0
          ],
          [
           "woodwick wax melt",
           13.630678014265037,
           1.3630678014265036,
           1,
           1,
           1,
           13.630678014265037,
           1.3630678014265036,
           1,
           1,
           1
          ],
          [
           "world of warcraft anniversary collector's edition",
           10.913998917962244,
           1.504900507469097,
           0.772837825180752,
           0.7,
           0.7,
           10.913998917962244,
           1.504900507469097,
           0.772837825180752,
           0.7,
           0.7
          ],
          [
           "wowled",
           11.86039354831943,
           1.4825491935399286,
           0.9094987067248556,
           0.8,
           0.8,
           11.86039354831943,
           1.4825491935399286,
           0.9094987067248556,
           0.8,
           0.8
          ],
          [
           "yarn purple and pink",
           5.2618595071429155,
           1.468211789346847,
           0.3231413260170123,
           0.3,
           0.3,
           5.2618595071429155,
           1.468211789346847,
           0.3231413260170123,
           0.3,
           0.3
          ]
         ],
         "hovertemplate": "l2arithmetic_mean0.6 dcg=%{x}<br>l2arithmetic_mean0.7 dcg=%{y}<br>query=%{customdata[0]}<br>l2arithmetic_mean0.6 dcg_dense=%{customdata[1]}<br>l2arithmetic_mean0.6 dg=%{customdata[2]}<br>l2arithmetic_mean0.6 ndcg=%{customdata[3]}<br>l2arithmetic_mean0.6 prec@10=%{customdata[4]}<br>l2arithmetic_mean0.6 ratio_of_ratings=%{customdata[5]}<br>l2arithmetic_mean0.7 dcg_dense=%{customdata[6]}<br>l2arithmetic_mean0.7 dg=%{customdata[7]}<br>l2arithmetic_mean0.7 ndcg=%{customdata[8]}<br>l2arithmetic_mean0.7 prec@10=%{customdata[9]}<br>l2arithmetic_mean0.7 ratio_of_ratings=%{customdata[10]}<extra></extra>",
         "legendgroup": "",
         "marker": {
          "color": "#636efa",
          "symbol": "circle"
         },
         "mode": "markers",
         "name": "",
         "orientation": "v",
         "showlegend": false,
         "type": "scatter",
         "x": [
          0.6666666666666666,
          4.892789260714372,
          0,
          1,
          0,
          6.759983739668036,
          7.98332235988885,
          3,
          0,
          11.737888753550664,
          12.40727634820335,
          1.8135891093108496,
          2.5686215613240666,
          5.961410822038439,
          10.498408044245402,
          8.845377356638178,
          3.3562071871080223,
          0,
          0.5781296526357758,
          0.9030899869919436,
          7.516058909290206,
          0,
          12.727588027273091,
          9.971453861091195,
          6.494849252042335,
          7.339183891071558,
          8.552013413888215,
          2.021911537850411,
          1.8927892607143724,
          0,
          2.0686215613240666,
          10.691514294303056,
          0.9463946303571862,
          4.958524549403635,
          0,
          12.727588027273091,
          8.24846734363012,
          0,
          3.3272250883702914,
          0,
          12.33864834004486,
          0,
          1,
          0,
          0,
          11.86039354831943,
          3,
          0,
          0,
          0,
          0,
          5.882210670634917,
          3.684818934934552,
          0,
          3.39898272628099,
          4.160558421703625,
          0,
          0,
          11.602925113607748,
          3.9741475310144745,
          0,
          0,
          8.506979171088783,
          13.630678014265037,
          0,
          7.71444760306672,
          7.021345402290208,
          5.8891060168040745,
          3.372972795919669,
          3.355678082915748,
          6.631213565291738,
          6.831028649949298,
          3.6666666666666665,
          8.791494123193479,
          9.310895439387568,
          1.8671944789536632,
          0,
          4.6045297031036165,
          1.8671944789536632,
          4.845377356638177,
          12.727588027273091,
          11.471453861091195,
          12.315213137479308,
          4.892789260714372,
          0,
          1.7920296742201791,
          0,
          4.160558421703625,
          0,
          0.8671944789536635,
          3,
          4.5,
          1.2920296742201791,
          3.903089986991944,
          5.795879247706316,
          0.9030899869919436,
          1,
          0,
          0,
          1.1605584217036249,
          3.6309297535714578,
          13.630678014265037,
          6.420542161371661,
          10.067029605569468,
          1.93581604027773,
          3,
          0,
          1.1605584217036249,
          13.040583192283169,
          2.52371901428583,
          0,
          6.392789260714372,
          0,
          11.329648018601056,
          2.3671944789536634,
          2.795879247706316,
          8.461410822038438,
          10.498408044245402,
          3.8391838910715586,
          9.913998917962244,
          11.86039354831943,
          8.72784571449791,
          0,
          6.920542161371661,
          1.8135891093108496,
          13.630678014265037,
          12.132553781739915,
          11.68428338390785,
          8.807045865901433,
          11.227588027273091,
          0,
          13.630678014265037,
          2.021911537850411,
          4.345377356638177,
          5.276875698824168,
          0,
          0,
          0,
          5.068621561324067,
          4.5,
          4.920542161371661,
          0,
          2.195119661212123,
          10.913998917962244,
          13.630678014265037,
          3.521209657247871,
          9.631213565291738,
          5.199835126615804,
          1.903089986991944,
          1.8671944789536632,
          11.86039354831943,
          1.5,
          7.307045865901433,
          5.961410822038439,
          0,
          3.5277529006572883,
          1.1605584217036249,
          4.892789260714372,
          3.8726330879127513,
          5.839183891071558,
          1.8927892607143724,
          0,
          9.834798766558722,
          7.615661822583784,
          0,
          13.341613187947148,
          9.22533481770356,
          6.053347682417997,
          1.8927892607143724,
          5.053347682417997,
          1,
          8.216679096302794,
          3.0533476824179973,
          13.243825207030495,
          5.2534404962586185,
          8.48723550986517,
          0.3154648767857287,
          0,
          1.9717115483160104,
          4.29202967422018,
          3,
          0,
          7.345377356638177,
          0,
          10.781193396915906,
          0.8671944789536635,
          10.817088904954186,
          13.630678014265037,
          3,
          3,
          13.630678014265037,
          3.6666666666666665,
          12.56205645294097,
          7.254142376861159,
          6.536927729531664,
          4.892789260714372,
          12.470119592561412,
          0,
          12.684376005175144,
          6.392789260714372,
          12.763483535311371,
          8.09166819150902,
          4.892789260714372,
          0.430676558073393,
          0,
          0,
          2.446394630357186,
          3,
          10.20009889637784,
          8.630935701489854,
          10.368237196562616,
          0,
          6.195119661212123,
          0,
          3,
          0,
          13.630678014265037,
          10.53430355228368,
          11.86039354831943,
          4.404635368040541
         ],
         "xaxis": "x",
         "y": [
          0.6666666666666666,
          4.892789260714372,
          0,
          1,
          0,
          3,
          7.98332235988885,
          3,
          0,
          11.737888753550664,
          12.40727634820335,
          1.8135891093108496,
          2.5686215613240666,
          5.961410822038439,
          10.498408044245402,
          9.913998917962244,
          3.3562071871080223,
          0,
          0,
          0.8671944789536635,
          7.516058909290206,
          0,
          12.727588027273091,
          9.971453861091195,
          6.494849252042335,
          7.339183891071558,
          8.845377356638178,
          2.021911537850411,
          1.8927892607143724,
          0,
          2.0686215613240666,
          10.691514294303056,
          0.9463946303571862,
          4.958524549403635,
          0,
          12.727588027273091,
          8.24846734363012,
          0,
          3.3272250883702914,
          0,
          12.33864834004486,
          0,
          1,
          0,
          0,
          11.86039354831943,
          3,
          0,
          0,
          0,
          0,
          5.882210670634917,
          1.3576863876419545,
          0,
          3.355678082915748,
          4.892789260714372,
          0,
          0,
          12.470119592561412,
          3.9741475310144745,
          0,
          0,
          8.506979171088783,
          13.630678014265037,
          0,
          10.276346594631894,
          7.021345402290208,
          5.8891060168040745,
          3.372972795919669,
          3.355678082915748,
          6.631213565291738,
          6.831028649949298,
          3.6666666666666665,
          8.791494123193479,
          9.310895439387568,
          1.8671944789536632,
          0,
          4.6045297031036165,
          1.8671944789536632,
          5.845377356638177,
          12.727588027273091,
          11.471453861091195,
          12.315213137479308,
          4.892789260714372,
          0,
          1.7920296742201791,
          0,
          4.160558421703625,
          0,
          0.8671944789536635,
          3,
          4.5,
          1.2920296742201791,
          3.903089986991944,
          5.795879247706316,
          0.9030899869919436,
          1,
          0,
          0,
          1.1605584217036249,
          3.6309297535714578,
          13.630678014265037,
          2.8927892607143724,
          10.067029605569468,
          1.93581604027773,
          3,
          0,
          1.1605584217036249,
          13.040583192283169,
          3.374008900342092,
          0,
          6.392789260714372,
          0,
          11.329648018601056,
          2.3671944789536634,
          2.795879247706316,
          8.461410822038438,
          10.498408044245402,
          3.8391838910715586,
          9.913998917962244,
          11.86039354831943,
          8.72784571449791,
          0,
          6.920542161371661,
          0.9030899869919436,
          13.630678014265037,
          12.99974826069358,
          11.68428338390785,
          8.807045865901433,
          11.227588027273091,
          0,
          13.630678014265037,
          2.021911537850411,
          4.345377356638177,
          5.276875698824168,
          2.4525880959238044,
          0,
          0,
          5.068621561324067,
          4.5,
          4.920542161371661,
          0,
          2.195119661212123,
          10.913998917962244,
          13.630678014265037,
          3.521209657247871,
          9.631213565291738,
          4.467604287605057,
          1.903089986991944,
          1.8671944789536632,
          12.763483535311371,
          1.5,
          7.008708770522974,
          5.961410822038439,
          0,
          3.5277529006572883,
          2.0277529006572883,
          5.52371901428583,
          3.8726330879127513,
          6.053347682417997,
          1.8927892607143724,
          0,
          9.834798766558722,
          7.615661822583784,
          0,
          13.341613187947148,
          9.22533481770356,
          3.892789260714373,
          1.8927892607143724,
          7.034303552283681,
          1,
          8.216679096302794,
          3.0533476824179973,
          13.243825207030495,
          5.2534404962586185,
          8.48723550986517,
          0.3154648767857287,
          0,
          1.9717115483160104,
          4.29202967422018,
          3,
          0,
          7.731695287984047,
          0,
          10.781193396915906,
          0.8671944789536635,
          10.817088904954186,
          13.630678014265037,
          3,
          3,
          13.630678014265037,
          3.6666666666666665,
          12.56205645294097,
          7.254142376861159,
          7.991747318691543,
          4.892789260714372,
          12.470119592561412,
          0,
          12.684376005175144,
          6.392789260714372,
          12.763483535311371,
          8.09166819150902,
          4.892789260714372,
          0.430676558073393,
          0,
          0,
          2.446394630357186,
          3,
          10.20009889637784,
          8.722872561869412,
          10.368237196562616,
          0,
          6.195119661212123,
          0,
          3,
          0,
          13.630678014265037,
          10.53430355228368,
          11.86039354831943,
          4.404635368040541
         ],
         "yaxis": "y"
        }
       ],
       "layout": {
        "autosize": true,
        "legend": {
         "tracegroupgap": 0
        },
        "margin": {
         "t": 60
        },
        "template": {
         "data": {
          "bar": [
           {
            "error_x": {
             "color": "#2a3f5f"
            },
            "error_y": {
             "color": "#2a3f5f"
            },
            "marker": {
             "line": {
              "color": "#E5ECF6",
              "width": 0.5
             },
             "pattern": {
              "fillmode": "overlay",
              "size": 10,
              "solidity": 0.2
             }
            },
            "type": "bar"
           }
          ],
          "barpolar": [
           {
            "marker": {
             "line": {
              "color": "#E5ECF6",
              "width": 0.5
             },
             "pattern": {
              "fillmode": "overlay",
              "size": 10,
              "solidity": 0.2
             }
            },
            "type": "barpolar"
           }
          ],
          "carpet": [
           {
            "aaxis": {
             "endlinecolor": "#2a3f5f",
             "gridcolor": "white",
             "linecolor": "white",
             "minorgridcolor": "white",
             "startlinecolor": "#2a3f5f"
            },
            "baxis": {
             "endlinecolor": "#2a3f5f",
             "gridcolor": "white",
             "linecolor": "white",
             "minorgridcolor": "white",
             "startlinecolor": "#2a3f5f"
            },
            "type": "carpet"
           }
          ],
          "choropleth": [
           {
            "colorbar": {
             "outlinewidth": 0,
             "ticks": ""
            },
            "type": "choropleth"
           }
          ],
          "contour": [
           {
            "colorbar": {
             "outlinewidth": 0,
             "ticks": ""
            },
            "colorscale": [
             [
              0,
              "#0d0887"
             ],
             [
              0.1111111111111111,
              "#46039f"
             ],
             [
              0.2222222222222222,
              "#7201a8"
             ],
             [
              0.3333333333333333,
              "#9c179e"
             ],
             [
              0.4444444444444444,
              "#bd3786"
             ],
             [
              0.5555555555555556,
              "#d8576b"
             ],
             [
              0.6666666666666666,
              "#ed7953"
             ],
             [
              0.7777777777777778,
              "#fb9f3a"
             ],
             [
              0.8888888888888888,
              "#fdca26"
             ],
             [
              1,
              "#f0f921"
             ]
            ],
            "type": "contour"
           }
          ],
          "contourcarpet": [
           {
            "colorbar": {
             "outlinewidth": 0,
             "ticks": ""
            },
            "type": "contourcarpet"
           }
          ],
          "heatmap": [
           {
            "colorbar": {
             "outlinewidth": 0,
             "ticks": ""
            },
            "colorscale": [
             [
              0,
              "#0d0887"
             ],
             [
              0.1111111111111111,
              "#46039f"
             ],
             [
              0.2222222222222222,
              "#7201a8"
             ],
             [
              0.3333333333333333,
              "#9c179e"
             ],
             [
              0.4444444444444444,
              "#bd3786"
             ],
             [
              0.5555555555555556,
              "#d8576b"
             ],
             [
              0.6666666666666666,
              "#ed7953"
             ],
             [
              0.7777777777777778,
              "#fb9f3a"
             ],
             [
              0.8888888888888888,
              "#fdca26"
             ],
             [
              1,
              "#f0f921"
             ]
            ],
            "type": "heatmap"
           }
          ],
          "heatmapgl": [
           {
            "colorbar": {
             "outlinewidth": 0,
             "ticks": ""
            },
            "colorscale": [
             [
              0,
              "#0d0887"
             ],
             [
              0.1111111111111111,
              "#46039f"
             ],
             [
              0.2222222222222222,
              "#7201a8"
             ],
             [
              0.3333333333333333,
              "#9c179e"
             ],
             [
              0.4444444444444444,
              "#bd3786"
             ],
             [
              0.5555555555555556,
              "#d8576b"
             ],
             [
              0.6666666666666666,
              "#ed7953"
             ],
             [
              0.7777777777777778,
              "#fb9f3a"
             ],
             [
              0.8888888888888888,
              "#fdca26"
             ],
             [
              1,
              "#f0f921"
             ]
            ],
            "type": "heatmapgl"
           }
          ],
          "histogram": [
           {
            "marker": {
             "pattern": {
              "fillmode": "overlay",
              "size": 10,
              "solidity": 0.2
             }
            },
            "type": "histogram"
           }
          ],
          "histogram2d": [
           {
            "colorbar": {
             "outlinewidth": 0,
             "ticks": ""
            },
            "colorscale": [
             [
              0,
              "#0d0887"
             ],
             [
              0.1111111111111111,
              "#46039f"
             ],
             [
              0.2222222222222222,
              "#7201a8"
             ],
             [
              0.3333333333333333,
              "#9c179e"
             ],
             [
              0.4444444444444444,
              "#bd3786"
             ],
             [
              0.5555555555555556,
              "#d8576b"
             ],
             [
              0.6666666666666666,
              "#ed7953"
             ],
             [
              0.7777777777777778,
              "#fb9f3a"
             ],
             [
              0.8888888888888888,
              "#fdca26"
             ],
             [
              1,
              "#f0f921"
             ]
            ],
            "type": "histogram2d"
           }
          ],
          "histogram2dcontour": [
           {
            "colorbar": {
             "outlinewidth": 0,
             "ticks": ""
            },
            "colorscale": [
             [
              0,
              "#0d0887"
             ],
             [
              0.1111111111111111,
              "#46039f"
             ],
             [
              0.2222222222222222,
              "#7201a8"
             ],
             [
              0.3333333333333333,
              "#9c179e"
             ],
             [
              0.4444444444444444,
              "#bd3786"
             ],
             [
              0.5555555555555556,
              "#d8576b"
             ],
             [
              0.6666666666666666,
              "#ed7953"
             ],
             [
              0.7777777777777778,
              "#fb9f3a"
             ],
             [
              0.8888888888888888,
              "#fdca26"
             ],
             [
              1,
              "#f0f921"
             ]
            ],
            "type": "histogram2dcontour"
           }
          ],
          "mesh3d": [
           {
            "colorbar": {
             "outlinewidth": 0,
             "ticks": ""
            },
            "type": "mesh3d"
           }
          ],
          "parcoords": [
           {
            "line": {
             "colorbar": {
              "outlinewidth": 0,
              "ticks": ""
             }
            },
            "type": "parcoords"
           }
          ],
          "pie": [
           {
            "automargin": true,
            "type": "pie"
           }
          ],
          "scatter": [
           {
            "fillpattern": {
             "fillmode": "overlay",
             "size": 10,
             "solidity": 0.2
            },
            "type": "scatter"
           }
          ],
          "scatter3d": [
           {
            "line": {
             "colorbar": {
              "outlinewidth": 0,
              "ticks": ""
             }
            },
            "marker": {
             "colorbar": {
              "outlinewidth": 0,
              "ticks": ""
             }
            },
            "type": "scatter3d"
           }
          ],
          "scattercarpet": [
           {
            "marker": {
             "colorbar": {
              "outlinewidth": 0,
              "ticks": ""
             }
            },
            "type": "scattercarpet"
           }
          ],
          "scattergeo": [
           {
            "marker": {
             "colorbar": {
              "outlinewidth": 0,
              "ticks": ""
             }
            },
            "type": "scattergeo"
           }
          ],
          "scattergl": [
           {
            "marker": {
             "colorbar": {
              "outlinewidth": 0,
              "ticks": ""
             }
            },
            "type": "scattergl"
           }
          ],
          "scattermapbox": [
           {
            "marker": {
             "colorbar": {
              "outlinewidth": 0,
              "ticks": ""
             }
            },
            "type": "scattermapbox"
           }
          ],
          "scatterpolar": [
           {
            "marker": {
             "colorbar": {
              "outlinewidth": 0,
              "ticks": ""
             }
            },
            "type": "scatterpolar"
           }
          ],
          "scatterpolargl": [
           {
            "marker": {
             "colorbar": {
              "outlinewidth": 0,
              "ticks": ""
             }
            },
            "type": "scatterpolargl"
           }
          ],
          "scatterternary": [
           {
            "marker": {
             "colorbar": {
              "outlinewidth": 0,
              "ticks": ""
             }
            },
            "type": "scatterternary"
           }
          ],
          "surface": [
           {
            "colorbar": {
             "outlinewidth": 0,
             "ticks": ""
            },
            "colorscale": [
             [
              0,
              "#0d0887"
             ],
             [
              0.1111111111111111,
              "#46039f"
             ],
             [
              0.2222222222222222,
              "#7201a8"
             ],
             [
              0.3333333333333333,
              "#9c179e"
             ],
             [
              0.4444444444444444,
              "#bd3786"
             ],
             [
              0.5555555555555556,
              "#d8576b"
             ],
             [
              0.6666666666666666,
              "#ed7953"
             ],
             [
              0.7777777777777778,
              "#fb9f3a"
             ],
             [
              0.8888888888888888,
              "#fdca26"
             ],
             [
              1,
              "#f0f921"
             ]
            ],
            "type": "surface"
           }
          ],
          "table": [
           {
            "cells": {
             "fill": {
              "color": "#EBF0F8"
             },
             "line": {
              "color": "white"
             }
            },
            "header": {
             "fill": {
              "color": "#C8D4E3"
             },
             "line": {
              "color": "white"
             }
            },
            "type": "table"
           }
          ]
         },
         "layout": {
          "annotationdefaults": {
           "arrowcolor": "#2a3f5f",
           "arrowhead": 0,
           "arrowwidth": 1
          },
          "autotypenumbers": "strict",
          "coloraxis": {
           "colorbar": {
            "outlinewidth": 0,
            "ticks": ""
           }
          },
          "colorscale": {
           "diverging": [
            [
             0,
             "#8e0152"
            ],
            [
             0.1,
             "#c51b7d"
            ],
            [
             0.2,
             "#de77ae"
            ],
            [
             0.3,
             "#f1b6da"
            ],
            [
             0.4,
             "#fde0ef"
            ],
            [
             0.5,
             "#f7f7f7"
            ],
            [
             0.6,
             "#e6f5d0"
            ],
            [
             0.7,
             "#b8e186"
            ],
            [
             0.8,
             "#7fbc41"
            ],
            [
             0.9,
             "#4d9221"
            ],
            [
             1,
             "#276419"
            ]
           ],
           "sequential": [
            [
             0,
             "#0d0887"
            ],
            [
             0.1111111111111111,
             "#46039f"
            ],
            [
             0.2222222222222222,
             "#7201a8"
            ],
            [
             0.3333333333333333,
             "#9c179e"
            ],
            [
             0.4444444444444444,
             "#bd3786"
            ],
            [
             0.5555555555555556,
             "#d8576b"
            ],
            [
             0.6666666666666666,
             "#ed7953"
            ],
            [
             0.7777777777777778,
             "#fb9f3a"
            ],
            [
             0.8888888888888888,
             "#fdca26"
            ],
            [
             1,
             "#f0f921"
            ]
           ],
           "sequentialminus": [
            [
             0,
             "#0d0887"
            ],
            [
             0.1111111111111111,
             "#46039f"
            ],
            [
             0.2222222222222222,
             "#7201a8"
            ],
            [
             0.3333333333333333,
             "#9c179e"
            ],
            [
             0.4444444444444444,
             "#bd3786"
            ],
            [
             0.5555555555555556,
             "#d8576b"
            ],
            [
             0.6666666666666666,
             "#ed7953"
            ],
            [
             0.7777777777777778,
             "#fb9f3a"
            ],
            [
             0.8888888888888888,
             "#fdca26"
            ],
            [
             1,
             "#f0f921"
            ]
           ]
          },
          "colorway": [
           "#636efa",
           "#EF553B",
           "#00cc96",
           "#ab63fa",
           "#FFA15A",
           "#19d3f3",
           "#FF6692",
           "#B6E880",
           "#FF97FF",
           "#FECB52"
          ],
          "font": {
           "color": "#2a3f5f"
          },
          "geo": {
           "bgcolor": "white",
           "lakecolor": "white",
           "landcolor": "#E5ECF6",
           "showlakes": true,
           "showland": true,
           "subunitcolor": "white"
          },
          "hoverlabel": {
           "align": "left"
          },
          "hovermode": "closest",
          "mapbox": {
           "style": "light"
          },
          "paper_bgcolor": "white",
          "plot_bgcolor": "#E5ECF6",
          "polar": {
           "angularaxis": {
            "gridcolor": "white",
            "linecolor": "white",
            "ticks": ""
           },
           "bgcolor": "#E5ECF6",
           "radialaxis": {
            "gridcolor": "white",
            "linecolor": "white",
            "ticks": ""
           }
          },
          "scene": {
           "xaxis": {
            "backgroundcolor": "#E5ECF6",
            "gridcolor": "white",
            "gridwidth": 2,
            "linecolor": "white",
            "showbackground": true,
            "ticks": "",
            "zerolinecolor": "white"
           },
           "yaxis": {
            "backgroundcolor": "#E5ECF6",
            "gridcolor": "white",
            "gridwidth": 2,
            "linecolor": "white",
            "showbackground": true,
            "ticks": "",
            "zerolinecolor": "white"
           },
           "zaxis": {
            "backgroundcolor": "#E5ECF6",
            "gridcolor": "white",
            "gridwidth": 2,
            "linecolor": "white",
            "showbackground": true,
            "ticks": "",
            "zerolinecolor": "white"
           }
          },
          "shapedefaults": {
           "line": {
            "color": "#2a3f5f"
           }
          },
          "ternary": {
           "aaxis": {
            "gridcolor": "white",
            "linecolor": "white",
            "ticks": ""
           },
           "baxis": {
            "gridcolor": "white",
            "linecolor": "white",
            "ticks": ""
           },
           "bgcolor": "#E5ECF6",
           "caxis": {
            "gridcolor": "white",
            "linecolor": "white",
            "ticks": ""
           }
          },
          "title": {
           "x": 0.05
          },
          "xaxis": {
           "automargin": true,
           "gridcolor": "white",
           "linecolor": "white",
           "ticks": "",
           "title": {
            "standoff": 15
           },
           "zerolinecolor": "white",
           "zerolinewidth": 2
          },
          "yaxis": {
           "automargin": true,
           "gridcolor": "white",
           "linecolor": "white",
           "ticks": "",
           "title": {
            "standoff": 15
           },
           "zerolinecolor": "white",
           "zerolinewidth": 2
          }
         }
        },
        "xaxis": {
         "anchor": "y",
         "autorange": true,
         "domain": [
          0,
          1
         ],
         "range": [
          -0.8237095114505548,
          14.454387525715592
         ],
         "title": {
          "text": "l2arithmetic_mean0.6 dcg"
         },
         "type": "linear"
        },
        "yaxis": {
         "anchor": "x",
         "autorange": true,
         "domain": [
          0,
          1
         ],
         "range": [
          -1.0553937045165842,
          14.686071718781621
         ],
         "title": {
          "text": "l2arithmetic_mean0.7 dcg"
         },
         "type": "linear"
        }
       }
      },
      "image/png": "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",
      "text/html": [
       "<div>                            <div id=\"9cea5b2d-7e43-48e4-8bc3-18145f94a00c\" class=\"plotly-graph-div\" style=\"height:525px; width:100%;\"></div>            <script type=\"text/javascript\">                require([\"plotly\"], function(Plotly) {                    window.PLOTLYENV=window.PLOTLYENV || {};                                    if (document.getElementById(\"9cea5b2d-7e43-48e4-8bc3-18145f94a00c\")) {                    Plotly.newPlot(                        \"9cea5b2d-7e43-48e4-8bc3-18145f94a00c\",                        [{\"customdata\":[[\"$30 roblox gift card not digital\",1.261859507142915,0.3333333333333333,0.0809035728588078,0.1,0.2,1.261859507142915,0.3333333333333333,0.0809035728588078,0.1,0.2],[\"(fiction without frontiers)\",4.892789260714372,2.446394630357186,0.3589542101716347,0.2,0.2,4.892789260714372,2.446394630357186,0.3589542101716347,0.2,0.2],[\"100\",0.0,0.0,0.0,0.0,0.0,0.0,0.0,0.0,0.0,0.0],[\"10x10x6 cake box without window\",2.0,1.0,0.1314175698439436,0.1,0.1,2.0,1.0,0.1314175698439436,0.1,0.1],[\"15 inch light weight laptop that has lots of memory storage and RAM.  It should include a HDMI port as well as a USB drive.  \",0.0,0.0,0.0,0.0,0.0,0.0,0.0,0.0,0.0,0.0],[\"15 microsoft card\",7.345377356638177,1.3519967479336072,0.7642391575973727,0.4,0.5,3.0,3.0,0.339160205273616,0.1,0.1],[\"40 amp 240 volt timer\",8.345377356638178,1.5966644719777698,0.5856878397049649,0.5,0.5,8.345377356638178,1.5966644719777698,0.5856878397049649,0.5,0.5],[\"45 women birthday party supplies\",3.0,3.0,0.4692787260227565,0.1,0.1,3.0,3.0,0.4692787260227565,0.1,0.1],[\"4khdip168nv-1\",0.0,0.0,0.0,0.0,0.0,0.0,0.0,0.0,0.0,0.0],[\"7 days without a pun makes one weak\",12.763483535311371,1.3042098615056297,0.8611375561264455,0.9,0.9,12.763483535311371,1.3042098615056297,0.8611375561264455,0.9,0.9],[\"a deed without a name\",12.40727634820335,1.3785862609114834,0.9299682259872531,0.9,0.9,12.40727634820335,1.3785862609114834,0.9299682259872531,0.9,0.9],[\"adaptador control xbox 360 a pc\",4.892789260714372,0.9067945546554248,0.1359347691888752,0.2,0.2,4.892789260714372,0.9067945546554248,0.1359347691888752,0.2,0.2],[\"adidas soccer cleats\",4.892789260714372,1.2843107806620333,0.1884441521277154,0.2,0.2,4.892789260714372,1.2843107806620333,0.1884441521277154,0.2,0.2],[\"alexa leak detector\",6.392789260714372,1.9871369406794797,0.43735247915031,0.3,0.3,6.392789260714372,1.9871369406794797,0.43735247915031,0.3,0.3],[\"alphabet stickers\",10.913998917962244,1.4997725777493431,0.7702043899253146,0.7,0.7,10.913998917962244,1.4997725777493431,0.7702043899253146,0.7,0.7],[\"american flag 5x8 outdoor made in usa\",8.845377356638178,1.7690754713276355,0.6489315753318466,0.5,0.5,9.913998917962244,1.6523331529937073,0.7273298443105218,0.6,0.6],[\"andis t edger\",3.6309297535714578,1.6781035935540112,0.2462245226243053,0.1,0.2,3.6309297535714578,1.6781035935540112,0.2462245226243053,0.1,0.2],[\"back to december taylor swift\",0.0,0.0,0.0,0.0,0.0,0.0,0.0,0.0,0.0,0.0],[\"backpacks lunchbox combo\",2.0,0.5781296526357758,0.0573136562774042,0.1,0.1,0.0,0.0,0.0,0.0,0.0],[\"bambu utensil set\",3.0,0.9030899869919436,0.066254223454389,0.1,0.1,3.0,0.8671944789536635,0.0636207881989517,0.1,0.1],[\"barbie puppy movies\",9.557791730854222,1.252676484881701,0.5633545811446726,0.6,0.6,9.557791730854222,1.252676484881701,0.5633545811446726,0.6,0.6],[\"baseball shirt 6 under armour\",0.0,0.0,0.0,0.0,0.1,0.0,0.0,0.0,0.0,0.1],[\"battery samsung galaxy s7 edge\",12.763483535311371,1.4141764474747882,0.933745776545611,0.9,0.9,12.763483535311371,1.4141764474747882,0.933745776545611,0.9,0.9],[\"beeswax wood polish\",10.913998917962244,1.4244934087273136,0.7315449642824575,0.7,0.7,10.913998917962244,1.4244934087273136,0.7315449642824575,0.7,0.7],[\"belief without borders\",6.754142376861158,1.6237123130105835,0.6059731204438072,0.4,0.4,6.754142376861158,1.6237123130105835,0.6059731204438072,0.4,0.4],[\"best ride on cars mercedes 3-in-1 push car in white\",7.684818934934552,1.8347959727678895,0.538431315257452,0.4,0.4,7.684818934934552,1.8347959727678895,0.538431315257452,0.4,0.4],[\"black and white checkered curtains 2 panels\",8.845377356638178,1.710402682777643,0.6274092458891772,0.5,0.5,8.845377356638178,1.7690754713276355,0.6489315753318466,0.5,0.5],[\"body shop gift set for men\",3.892789260714373,1.0109557689252056,0.1679945551663471,0.2,0.2,3.892789260714373,1.0109557689252056,0.1679945551663471,0.2,0.2],[\"boho earrings\",3.0,1.8927892607143724,0.1388624438735545,0.1,0.1,3.0,1.8927892607143724,0.1388624438735545,0.1,0.1],[\"boo costume monsters inc\",0.0,0.0,0.0,0.0,0.0,0.0,0.0,0.0,0.0,0.0],[\"bookshelf 4 tier\",4.892789260714372,1.0343107806620333,0.1517621910780354,0.2,0.2,4.892789260714372,1.0343107806620333,0.1517621910780354,0.2,0.2],[\"bose headphones replacement cord\",10.824742530965828,1.3364392867878818,0.7843714218114438,0.8,0.8,10.824742530965828,1.3364392867878818,0.7843714218114438,0.8,0.8],[\"boys smart watch\",3.0,0.9463946303571862,0.0694312219367772,0.1,0.1,3.0,0.9463946303571862,0.0694312219367772,0.1,0.1],[\"bra shiny\",6.623212623289701,1.2396311373509088,0.4001461094217337,0.4,0.4,6.623212623289701,1.2396311373509088,0.4001461094217337,0.4,0.4],[\"bridal shower decorations\",0.0,0.0,0.0,0.0,0.0,0.0,0.0,0.0,0.0,0.0],[\"bulwark flame resistant jacket\",12.763483535311371,1.4141764474747882,0.933745776545611,0.9,0.9,12.763483535311371,1.4141764474747882,0.933745776545611,0.9,0.9],[\"card holders for four decksplaying cards\",8.845377356638178,1.6496934687260238,0.6051399156371955,0.5,0.5,8.845377356638178,1.6496934687260238,0.6051399156371955,0.5,0.5],[\"cargo pants men big and tall\",0.0,0.0,0.0,0.0,0.0,0.0,0.0,0.0,0.0,0.0],[\"carhartt extreme cold weather boot socks\",5.892789260714372,1.1090750294567635,0.2440982821902344,0.3,0.3,5.892789260714372,1.1090750294567635,0.2440982821902344,0.3,0.3],[\"carhartt windbreaker\",0.0,0.0,0.0,0.0,0.0,0.0,0.0,0.0,0.0,0.0],[\"casio illuminator watches for men\",12.763483535311371,1.3709609266716507,0.9052116356304494,0.9,0.9,12.763483535311371,1.3709609266716507,0.9052116356304494,0.9,0.9],[\"cat balls\",0.0,0.0,0.0,0.0,0.0,0.0,0.0,0.0,0.0,0.0],[\"ceramtic coating\",3.0,1.0,0.07336392209936,0.1,0.1,3.0,1.0,0.07336392209936,0.1,0.1],[\"charger wireless for iphone\",0.0,0.0,0.0,0.0,0.0,0.0,0.0,0.0,0.0,0.0],[\"christmas dress for petite women\",0.0,0.0,0.0,0.0,0.0,0.0,0.0,0.0,0.0,0.0],[\"coil incense\",11.86039354831943,1.4825491935399286,0.8701249883466592,0.8,0.8,11.86039354831943,1.4825491935399286,0.8701249883466592,0.8,0.8],[\"cole haan grand crosscourt\",3.0,3.0,0.2200917662980801,0.1,0.1,3.0,3.0,0.2200917662980801,0.1,0.1],[\"collagen supplements\",0.0,0.0,0.0,0.0,0.0,0.0,0.0,0.0,0.0,0.0],[\"columbia ice maiden ii womens insulated snow boots\",0.0,0.0,0.0,0.0,0.0,0.0,0.0,0.0,0.0,0.0],[\"computer software programs adobe\",0.0,0.0,0.0,0.0,0.0,0.0,0.0,0.0,0.0,0.0],[\"computer table\",0.0,0.0,0.0,0.0,0.0,0.0,0.0,0.0,0.0,0.0],[\"concealer color changing foundation\",7.684818934934552,1.4705526676587293,0.4315420454124845,0.4,0.4,7.684818934934552,1.4705526676587293,0.4315420454124845,0.4,0.4],[\"contact lens colored for eyes\",5.130929753571458,1.2282729783115174,0.3529358602770208,0.2,0.3,3.6309297535714578,0.6788431938209772,0.1300406401698337,0.1,0.2],[\"converse sneakers for women\",0.0,0.0,0.0,0.0,0.0,0.0,0.0,0.0,0.0,0.0],[\"corn hole game wooden\",6.392789260714372,1.1329942420936636,0.249362703947949,0.3,0.3,6.392789260714372,1.118559360971916,0.2461857054655608,0.3,0.3],[\"cousin it costume\",4.892789260714372,2.0802792108518124,0.4703652827859578,0.2,0.2,4.892789260714372,2.446394630357186,0.5531464700081437,0.2,0.2],[\"custom 3 panel wall art\",0.0,0.0,0.0,0.0,0.0,0.0,0.0,0.0,0.0,0.0],[\"cwine glasses\",0.0,0.0,0.0,0.0,0.0,0.0,0.0,0.0,0.0,0.0],[\"dachshund case\",11.86039354831943,1.4503656392009685,0.8512360941594272,0.8,0.8,12.763483535311371,1.3855688436179348,0.914856882358379,0.9,0.9],[\"daves killer bread\",7.684818934934552,0.9935368827536186,0.29155904987671,0.4,0.4,7.684818934934552,0.9935368827536186,0.29155904987671,0.4,0.4],[\"definitely not paid enough for this\",0.0,0.0,0.0,0.0,0.0,0.0,0.0,0.0,0.0,0.0],[\"dental floss 0.3\",0.0,0.0,0.0,0.0,0.0,0.0,0.0,0.0,0.0,0.0],[\"detective pikachu digital\",9.127115172780828,1.4178298618481306,0.7302927298895479,0.6,0.6,9.127115172780828,1.4178298618481306,0.7302927298895479,0.6,0.6],[\"dieter roth\",13.630678014265037,1.3630678014265036,1.0,1.0,1.0,13.630678014265037,1.3630678014265036,1.0,1.0,1.0],[\"dildo for sex\",0.0,0.0,0.0,0.0,0.0,0.0,0.0,0.0,0.0,0.0],[\"dinosaur decorations orange\",7.71444760306672,1.542889520613344,0.5659621329909817,0.5,0.5,10.37325660763995,1.2845433243289868,0.7539130910345982,0.8,0.8],[\"dji goggles\",8.128424804695504,0.7801494891433565,0.5151134371263187,0.5,0.9,8.128424804695504,0.7801494891433565,0.5151134371263187,0.5,0.9],[\"do not enter tape\",7.053889181363095,1.4722765042010186,0.4320479150516867,0.4,0.4,7.053889181363095,1.4722765042010186,0.4320479150516867,0.4,0.4],[\"double couple famous painting compression socks\",5.892789260714372,1.1243242653065564,0.2528159637371905,0.3,0.3,5.892789260714372,1.1243242653065564,0.2528159637371905,0.3,0.3],[\"drone with live camera for adults\",6.392789260714372,1.118559360971916,0.2461857054655608,0.3,0.3,6.392789260714372,1.118559360971916,0.2461857054655608,0.3,0.3],[\"drywall anchors heavy duty\",8.845377356638178,1.3262427130583476,0.4864918354282827,0.5,0.5,8.845377356638178,1.3262427130583476,0.4864918354282827,0.5,0.5],[\"dummy door handle brass\",9.170938923619678,1.1385047749915496,0.5238284629779131,0.6,0.6,9.170938923619678,1.1385047749915496,0.5238284629779131,0.6,0.6],[\"echo dot flush mount\",4.2618595071429155,1.8333333333333333,0.3421020804953412,0.2,0.2,4.2618595071429155,1.8333333333333333,0.3421020804953412,0.2,0.2],[\"eye mask without strap\",9.913998917962244,1.2559277318847826,0.6449784899909481,0.7,0.7,9.913998917962244,1.2559277318847826,0.6449784899909481,0.7,0.7],[\"ez bow maker for ribbon\",9.913998917962244,1.551815906564595,0.6830838076905165,0.6,0.6,9.913998917962244,1.551815906564595,0.6830838076905165,0.6,0.6],[\"fabric aprons\",4.892789260714372,0.9335972394768316,0.1369847102983117,0.2,0.2,4.892789260714372,0.9335972394768316,0.1369847102983117,0.2,0.2],[\"fast charging wireless charger\",0.0,0.0,0.0,0.0,0.0,0.0,0.0,0.0,0.0,0.0],[\"fire 7 kids edition tablet\",5.192536065216308,1.151132425775904,0.4296052339457298,0.2,0.4,5.192536065216308,1.151132425775904,0.4296052339457298,0.2,0.4],[\"fitness rollers deep tissue massage\",4.892789260714372,0.9335972394768316,0.1369847102983117,0.2,0.2,4.892789260714372,0.9335972394768316,0.1369847102983117,0.2,0.2],[\"fletchings for arrows\",6.422959427791637,1.2113443391595442,0.371220793242352,0.3,0.4,7.583517849495262,1.1690754713276357,0.4478341849183953,0.4,0.5],[\"floral wallpaper stick and peel\",12.763483535311371,1.4141764474747882,0.933745776545611,0.9,0.9,12.763483535311371,1.4141764474747882,0.933745776545611,0.9,0.9],[\"fluoride coated scissors\",11.86039354831943,1.4339317326363992,0.8415908474314976,0.8,0.8,11.86039354831943,1.4339317326363992,0.8415908474314976,0.8,0.8],[\"four paws magic coat instant dog mat remover\",12.315213137479308,1.2315213137479308,0.9034923372550476,0.9,1.0,12.315213137479308,1.2315213137479308,0.9034923372550476,0.9,1.0],[\"frixion pens\",4.892789260714372,2.446394630357186,0.3589542101716347,0.2,0.2,4.892789260714372,2.446394630357186,0.3589542101716347,0.2,0.2],[\"frolic flowers\",0.0,0.0,0.0,0.0,0.1,0.0,0.0,0.0,0.0,0.1],[\"futon queen\",2.8927892607143724,0.8960148371100897,0.1372934713261228,0.1,0.2,2.8927892607143724,0.8960148371100897,0.1372934713261228,0.1,0.2],[\"galaxy 8 note case\",0.0,0.0,0.0,0.0,0.0,0.0,0.0,0.0,0.0,0.0],[\"gatorade bottle\",4.892789260714372,2.0802792108518124,0.3052348839397011,0.2,0.2,4.892789260714372,2.0802792108518124,0.3052348839397011,0.2,0.2],[\"gift teen girl\",0.0,0.0,0.0,0.0,0.0,0.0,0.0,0.0,0.0,0.0],[\"girls bible\",3.0,0.8671944789536635,0.0636207881989517,0.1,0.1,3.0,0.8671944789536635,0.0636207881989517,0.1,0.1],[\"girls tights\",3.0,3.0,0.2200917662980801,0.1,0.1,3.0,3.0,0.2200917662980801,0.1,0.1],[\"glitter lamp color change\",4.892789260714372,2.25,0.3631438091023202,0.2,0.2,4.892789260714372,2.25,0.3631438091023202,0.2,0.2],[\"go chef 8 in 1 cooker\",3.0,1.2920296742201791,0.1151741929366216,0.1,0.1,3.0,1.2920296742201791,0.1151741929366216,0.1,0.1],[\"golf sets for men left handed\",4.892789260714372,1.951544993495972,0.2863459897524692,0.2,0.2,4.892789260714372,1.951544993495972,0.2863459897524692,0.2,0.2],[\"ground lift box\",6.392789260714372,1.9319597492354388,0.4252084336260237,0.3,0.3,6.392789260714372,1.9319597492354388,0.4252084336260237,0.3,0.3],[\"halloween glow bracelets kids\",3.0,0.9030899869919436,0.066254223454389,0.1,0.1,3.0,0.9030899869919436,0.066254223454389,0.1,0.1],[\"heavy duty plastic folders with pockets\",3.0,1.0,0.07336392209936,0.1,0.1,3.0,1.0,0.07336392209936,0.1,0.1],[\"helen kaminski hats\",0.0,0.0,0.0,0.0,0.0,0.0,0.0,0.0,0.0,0.0],[\"henley shirts for men\",0.0,0.0,0.0,0.0,0.0,0.0,0.0,0.0,0.0,0.0],[\"hey water antoinette portis\",3.0,1.1605584217036249,0.1179716355827032,0.1,0.1,3.0,1.1605584217036249,0.1179716355827032,0.1,0.1],[\"hug machine\",3.6309297535714578,0.9077324383928644,0.5577409001984587,0.1,0.4,3.6309297535714578,1.2103099178571526,0.5577409001984587,0.1,0.3],[\"if lost or drunk please return to bestie\",13.630678014265037,1.3630678014265036,1.0,1.0,1.0,13.630678014265037,1.3630678014265036,1.0,1.0,1.0],[\"ikea wood desk\",6.845377356638177,1.284108432274332,0.5162845405062058,0.4,0.5,2.8927892607143724,1.4463946303571862,0.2326131246726584,0.1,0.2],[\"ink 61 black and color\",10.913998917962244,1.4381470865099242,0.7385567757549498,0.7,0.7,10.913998917962244,1.4381470865099242,0.7385567757549498,0.7,0.7],[\"instant pot air fryer\",4.5,0.64527201342591,0.142019057177627,0.2,0.3,4.5,0.64527201342591,0.142019057177627,0.2,0.3],[\"iphone 11 alpha glass screen protector\",3.0,1.0,0.2974090120586433,0.1,0.3,3.0,1.0,0.2974090120586433,0.1,0.3],[\"iphone grip\",0.0,0.0,0.0,0.0,0.0,0.0,0.0,0.0,0.0,0.0],[\"jbl bluetooth speakers\",3.0,1.1605584217036249,0.085143117641621,0.1,0.1,3.0,1.1605584217036249,0.085143117641621,0.1,0.1],[\"jobs evergreen tree spikes\",13.040583192283169,1.3040583192283166,0.9774367618500638,1.0,1.0,13.040583192283169,1.3040583192283166,0.9774367618500638,1.0,1.0],[\"kid animal plates\",4.2618595071429155,1.261859507142915,0.1851499251647393,0.2,0.2,5.892789260714372,1.124669633447364,0.2475305261272447,0.3,0.3],[\"kids play rug pj mask\",0.0,0.0,0.0,0.0,0.0,0.0,0.0,0.0,0.0,0.0],[\"kobe baby jersey\",6.392789260714372,2.1309297535714573,0.4690000933206747,0.3,0.3,6.392789260714372,2.1309297535714573,0.4690000933206747,0.3,0.3],[\"laptop refurbished\",0.0,0.0,0.0,0.0,0.0,0.0,0.0,0.0,0.0,0.0],[\"latex dental dam\",11.448018658525644,1.2588497798445617,0.8311874146498168,0.9,0.9,11.448018658525644,1.2588497798445617,0.8311874146498168,0.9,0.9],[\"lg v20 case\",4.892789260714372,1.1835972394768317,0.1736666713479918,0.2,0.2,4.892789260714372,1.1835972394768317,0.1736666713479918,0.2,0.2],[\"lights bulbs color changing\",4.892789260714372,1.397939623853158,0.2051166673279436,0.2,0.2,4.892789260714372,1.397939623853158,0.2051166673279436,0.2,0.2],[\"linkin park\",8.845377356638178,1.6922821644076875,0.6207622843987102,0.5,0.5,8.845377356638178,1.6922821644076875,0.6207622843987102,0.5,0.5],[\"long workout tank tops for women loose fit\",10.913998917962244,1.4997725777493431,0.7702043899253146,0.7,0.7,10.913998917962244,1.4997725777493431,0.7702043899253146,0.7,0.7],[\"macaw toys\",6.392789260714372,1.2797279636905194,0.2816575879096918,0.3,0.3,6.392789260714372,1.2797279636905194,0.2816575879096918,0.3,0.3],[\"margarita glasses\",9.913998917962244,1.6523331529937073,0.7273298443105218,0.6,0.6,9.913998917962244,1.6523331529937073,0.7273298443105218,0.6,0.6],[\"mary meyer baby mat\",11.86039354831943,1.4825491935399286,0.9094987067248556,0.8,0.8,11.86039354831943,1.4825491935399286,0.9094987067248556,0.8,0.8],[\"maxi pads without wings\",9.913998917962244,1.4546409524163184,0.6403089930936582,0.6,0.6,9.913998917962244,1.4546409524163184,0.6403089930936582,0.6,0.6],[\"men school bag\",0.0,0.0,0.0,0.0,0.0,0.0,0.0,0.0,0.0,0.0],[\"mens ralph lauren puffer jacket\",7.684818934934552,1.7301355403429153,0.5077181160122074,0.4,0.4,7.684818934934552,1.7301355403429153,0.5077181160122074,0.4,0.4],[\"military face paint kit\",4.892789260714372,0.9067945546554248,0.1330520101357289,0.2,0.2,3.0,0.9030899869919436,0.066254223454389,0.1,0.1],[\"mora wood carving knife\",13.630678014265037,1.3630678014265036,1.0,1.0,1.0,13.630678014265037,1.3630678014265036,1.0,1.0,1.0],[\"mortara\",12.132553781739915,1.348061531304435,0.8900917305098635,0.8,0.9,12.99974826069358,1.299974826069358,0.9537125187088152,0.9,1.0],[\"moto play screen protector\",11.86039354831943,1.4605354229884813,0.8572048559638626,0.8,0.8,11.86039354831943,1.4605354229884813,0.8572048559638626,0.8,0.8],[\"mre beef\",9.913998917962244,1.4678409776502388,0.6461194268314837,0.6,0.6,9.913998917962244,1.4678409776502388,0.6461194268314837,0.6,0.6],[\"muzzy broadheads\",11.86039354831943,1.4034485034091366,0.8236998933965709,0.8,0.8,11.86039354831943,1.4034485034091366,0.8236998933965709,0.8,0.8],[\"my tv\",0.0,0.0,0.0,0.0,0.0,0.0,0.0,0.0,0.0,0.0],[\"navistar international\",13.630678014265037,1.3630678014265036,1.0,1.0,1.0,13.630678014265037,1.3630678014265036,1.0,1.0,1.0],[\"neuroquell for neuropathy\",3.892789260714373,1.0109557689252056,0.1631654794495396,0.2,0.2,3.892789260714373,1.0109557689252056,0.1631654794495396,0.2,0.2],[\"newborn onesies\",6.392789260714372,1.4484591188793925,0.3187939258847263,0.3,0.3,6.392789260714372,1.4484591188793925,0.3187939258847263,0.3,0.3],[\"ninja 4qt air fryer black af101\",6.053889181363095,1.3192189247060422,0.3871322976965424,0.4,0.4,6.053889181363095,1.3192189247060422,0.3871322976965424,0.4,0.4],[\"old fashion mix\",0.0,0.0,0.0,0.0,0.0,4.892789260714372,1.2262940479619022,0.1799314820111718,0.2,0.2],[\"opi linkin park after dark\",0.0,0.0,0.0,0.0,0.0,0.0,0.0,0.0,0.0,0.0],[\"orange textured paint\",0.0,0.0,0.0,0.0,0.0,0.0,0.0,0.0,0.0,0.0],[\"organicbone broth\",6.392789260714372,1.6895405204413556,0.3718539573761156,0.3,0.3,6.392789260714372,1.6895405204413556,0.3718539573761156,0.3,0.3],[\"outdoor baby swing\",4.892789260714372,2.25,0.3301376494471202,0.2,0.2,4.892789260714372,2.25,0.3301376494471202,0.2,0.2],[\"pack abd play sheet\",7.684818934934552,1.2301355403429153,0.3609902718134873,0.4,0.4,7.684818934934552,1.2301355403429153,0.3609902718134873,0.4,0.4],[\"panties\",0.0,0.0,0.0,0.0,0.0,0.0,0.0,0.0,0.0,0.0],[\"patio chair swing\",4.892789260714372,1.0975598306060614,0.1610425878239398,0.2,0.2,4.892789260714372,1.0975598306060614,0.1610425878239398,0.2,0.2],[\"phoenix model a330\",10.913998917962244,1.559142702566035,1.0,0.7,0.7,10.913998917962244,1.559142702566035,1.0,0.7,0.7],[\"pilot knee board\",13.630678014265037,1.3630678014265036,1.0,1.0,1.0,13.630678014265037,1.3630678014265036,1.0,1.0,1.0],[\"pine tree garland\",6.392789260714372,1.173736552415957,0.2583297509898471,0.3,0.3,6.392789260714372,1.173736552415957,0.2583297509898471,0.3,0.3],[\"pink ski mask\",9.913998917962244,1.6052022608819565,0.7065836017263629,0.6,0.6,9.913998917962244,1.6052022608819565,0.7065836017263629,0.6,0.6],[\"plastic divider container\",7.684818934934552,1.299958781653951,0.3814802991585579,0.4,0.4,7.684818934934552,1.1169010719012644,0.3277609729266243,0.4,0.4],[\"play kitchen for toddlers accessories\",4.892789260714372,0.951544993495972,0.1396181455537491,0.2,0.2,4.892789260714372,0.951544993495972,0.1396181455537491,0.2,0.2],[\"plus size black shirt\",4.892789260714372,0.9335972394768316,0.1369847102983117,0.2,0.2,4.892789260714372,0.9335972394768316,0.1369847102983117,0.2,0.2],[\"plywood clips for windows\",11.86039354831943,1.3178215053688254,0.8701249883466592,0.8,0.9,12.763483535311371,1.2763483535311373,0.9363792118010482,0.9,1.0],[\"pocket storage\",3.0,1.5,0.11004588314904,0.1,0.1,3.0,1.5,0.11004588314904,0.1,0.1],[\"pokemon shield nintendo switch\",8.845377356638178,1.4614091731802863,0.5360735436824436,0.5,0.5,8.845377356638178,1.401741754104595,0.5141863642577491,0.5,0.5],[\"porch shades outdoor roll up\",6.392789260714372,1.9871369406794797,0.43735247915031,0.3,0.3,6.392789260714372,1.9871369406794797,0.43735247915031,0.3,0.3],[\"posh moomy\",0.0,0.0,0.0,0.0,0.0,0.0,0.0,0.0,0.0,0.0],[\"pot organizer\",6.392789260714372,1.1759176335524295,0.2588097889896127,0.3,0.3,6.392789260714372,1.1759176335524295,0.2588097889896127,0.3,0.3],[\"powdered lemonade drink mix\",3.0,1.1605584217036249,0.085143117641621,0.1,0.1,4.892789260714372,1.0138764503286442,0.1487639058405727,0.2,0.2],[\"power ball hand exerciser\",4.892789260714372,1.6309297535714575,0.3589542101716347,0.3,0.3,5.754142376861158,1.3809297535714575,0.4052416914628196,0.4,0.4],[\"psp\",5.790786294672542,0.6454388479854586,0.2841115521810353,0.3,0.6,5.790786294672542,0.6454388479854586,0.2841115521810353,0.3,0.6],[\"pumping backpack\",6.392789260714372,1.946394630357186,0.4283854321084119,0.3,0.3,6.392789260714372,2.017782560805999,0.4440973278132556,0.3,0.3],[\"puzzle interlocking\",3.0,1.8927892607143724,0.1388624438735545,0.1,0.1,3.0,1.8927892607143724,0.1388624438735545,0.1,0.1],[\"quick grip american tool mini\",0.0,0.0,0.0,0.0,0.0,0.0,0.0,0.0,0.0,0.0],[\"quickbooks'\",10.913998917962244,1.4049712523655316,0.7215194105726964,0.7,0.7,10.913998917962244,1.4049712523655316,0.7215194105726964,0.7,0.7],[\"rae dunn christmas mug\",9.913998917962244,1.2692769704306308,0.5587148206871072,0.6,0.6,9.913998917962244,1.2692769704306308,0.5587148206871072,0.6,0.6],[\"rag doll kindergarten\",0.0,0.0,0.0,0.0,0.1,0.0,0.0,0.0,0.0,0.1],[\"raid deep reach fogger\",13.341613187947148,1.3341613187947148,0.9787930706003494,1.0,1.0,13.341613187947148,1.3341613187947148,0.9787930706003494,1.0,1.0],[\"razer kishi\",9.22533481770356,1.153166852212945,0.8544599587974354,0.5,0.8,9.22533481770356,1.153166852212945,0.8544599587974354,0.5,0.8],[\"red flannel nightgowns for women\",6.684818934934552,1.513336920604499,0.4440973278132556,0.4,0.4,3.892789260714373,1.9463946303571864,0.2855902880722746,0.2,0.2],[\"red long sleeve dress\",3.0,1.8927892607143724,0.1388624438735545,0.1,0.1,3.0,1.8927892607143724,0.1388624438735545,0.1,0.1],[\"renogy 100w solar panel\",5.392789260714372,1.6844492274726657,0.3875093320525988,0.3,0.3,7.845377356638177,1.4068607104567363,0.53941633196637,0.5,0.5],[\"reusable produce bags\",3.0,1.0,0.07336392209936,0.1,0.1,3.0,1.0,0.07336392209936,0.1,0.1],[\"ribeye steaks\",9.913998917962244,1.3694465160504656,0.6028078051365984,0.6,0.6,9.913998917962244,1.3694465160504656,0.6028078051365984,0.6,0.6],[\"rose petals for romantic night\",4.892789260714372,1.5266738412089986,0.2240055615151755,0.2,0.2,4.892789260714372,1.5266738412089986,0.2240055615151755,0.2,0.2],[\"rudin by ivan turgenev\",13.243825207030495,1.3243825207030495,0.9716189607861264,1.0,1.0,13.243825207030495,1.3243825207030495,0.9716189607861264,1.0,1.0],[\"runa energy drink\",7.684818934934552,1.3133601240646546,0.6836127878533237,0.4,0.4,7.684818934934552,1.3133601240646546,0.6836127878533237,0.4,0.4],[\"runtz\",10.224458397520888,1.2124622156950244,0.6226568847846708,0.7,0.7,10.224458397520888,1.2124622156950244,0.6226568847846708,0.7,0.7],[\"rv sink drain\",1.0,0.3154648767857287,0.0241910098754177,0.0,0.1,1.0,0.3154648767857287,0.0241910098754177,0.0,0.1],[\"samsung galaxy note 8 case\",0.0,0.0,0.0,0.0,0.0,0.0,0.0,0.0,0.0,0.0],[\"science diet\",4.892789260714372,0.9858557741580052,0.1446524924330643,0.2,0.2,4.892789260714372,0.9858557741580052,0.1446524924330643,0.2,0.2],[\"shark vacmop\",4.892789260714372,2.14601483711009,0.4004488039359449,0.2,0.2,4.892789260714372,2.14601483711009,0.4004488039359449,0.2,0.2],[\"slarm window sensor\",3.0,3.0,0.2200917662980801,0.1,0.1,3.0,3.0,0.2200917662980801,0.1,0.1],[\"slip in sneakers for men\",0.0,0.0,0.0,0.0,0.0,0.0,0.0,0.0,0.0,0.0],[\"small cigarette case\",7.684818934934552,1.836344339159544,0.5388856921828065,0.4,0.4,8.845377356638178,1.5463390575968092,0.5672274908036509,0.5,0.5],[\"smarty jr\",0.0,0.0,0.0,0.0,0.0,0.0,0.0,0.0,0.0,0.0],[\"snuff bullet\",10.913998917962244,1.5401704852737013,0.7909506325094736,0.7,0.7,10.913998917962244,1.5401704852737013,0.7909506325094736,0.7,0.7],[\"spice variety pack\",3.0,0.8671944789536635,0.0636207881989517,0.1,0.1,3.0,0.8671944789536635,0.0636207881989517,0.1,0.1],[\"ss officer\",10.913998917962244,1.5452984149934554,0.7935840677649109,0.7,0.7,10.913998917962244,1.5452984149934554,0.7935840677649109,0.7,0.7],[\"starbucks mugs you are here\",13.630678014265037,1.3630678014265036,1.0,1.0,1.0,13.630678014265037,1.3630678014265036,1.0,1.0,1.0],[\"still eyeliner\",3.0,3.0,0.2200917662980801,0.1,0.1,3.0,3.0,0.2200917662980801,0.1,0.1],[\"stuffed animal washer bag\",3.0,3.0,0.2200917662980801,0.1,0.1,3.0,3.0,0.2200917662980801,0.1,0.1],[\"sundiata\",13.630678014265037,1.3630678014265036,1.0,1.0,1.0,13.630678014265037,1.3630678014265036,1.0,1.0,1.0],[\"super nes wires\",4.2618595071429155,1.8333333333333333,0.3046523174128659,0.2,0.2,4.2618595071429155,1.8333333333333333,0.3046523174128659,0.2,0.2],[\"surgical pathology\",12.763483535311371,1.3957840503267749,0.9216017310213248,0.9,0.9,12.763483535311371,1.3957840503267749,0.9216017310213248,0.9,0.9],[\"sushi go card game\",7.254142376861158,1.8135355942152895,0.6466492297915688,0.4,0.4,7.254142376861158,1.8135355942152895,0.6466492297915688,0.4,0.4],[\"tcl a1x phone case straight talk\",9.283069164390788,1.089487954921944,0.4795746567185076,0.6,0.6,10.87325660763995,0.9989684148364428,0.586305927726256,0.8,0.8],[\"telescopic handle\",4.892789260714372,2.446394630357186,0.3751971202951802,0.2,0.2,4.892789260714372,2.446394630357186,0.3751971202951802,0.2,0.2],[\"tetley\",12.763483535311371,1.3855688436179348,0.914856882358379,0.9,0.9,12.763483535311371,1.3855688436179348,0.914856882358379,0.9,0.9],[\"the first years gate parts\",0.0,0.0,0.0,0.0,0.1,0.0,0.0,0.0,0.0,0.1],[\"the gallows\",12.684376005175144,1.2684376005175144,0.9305755731226611,1.0,1.0,12.684376005175144,1.2684376005175144,0.9305755731226611,1.0,1.0],[\"thrive mascara\",6.392789260714372,2.1309297535714573,0.5311576535478315,0.3,0.3,6.392789260714372,2.1309297535714573,0.5311576535478315,0.3,0.3],[\"trooper bandana shoe\",12.763483535311371,1.4181648372568192,0.9363792118010482,0.9,0.9,12.763483535311371,1.4181648372568192,0.9363792118010482,0.9,0.9],[\"ultra fast keto boost 800mg\",9.027146110727704,1.3486113652515035,0.6529864909014818,0.6,0.6,9.027146110727704,1.3486113652515035,0.6529864909014818,0.6,0.6],[\"uniball vision elite\",4.892789260714372,2.446394630357186,0.3589542101716347,0.2,0.2,4.892789260714372,2.446394630357186,0.3589542101716347,0.2,0.2],[\"usb camera\",1.0,0.430676558073393,0.0315961214565169,0.0,0.1,1.0,0.430676558073393,0.0315961214565169,0.0,0.1],[\"used pc desktop\",0.0,0.0,0.0,0.0,0.0,0.0,0.0,0.0,0.0,0.0],[\"wallets for men\",0.0,0.0,0.0,0.0,0.0,0.0,0.0,0.0,0.0,0.0],[\"water brushes\",4.892789260714372,1.223197315178593,0.1794771050858173,0.2,0.2,4.892789260714372,1.223197315178593,0.1794771050858173,0.2,0.2],[\"wella 7r 810\",3.0,3.0,0.2200917662980801,0.1,0.1,3.0,3.0,0.2200917662980801,0.1,0.1],[\"white mesh bodysuit\",10.58066558462891,1.4571569851968342,0.7821811912839758,0.7,0.7,10.58066558462891,1.4571569851968342,0.7821811912839758,0.7,0.7],[\"wiggle scooters for kids\",9.913998917962244,1.4384892835816423,0.6331992944486872,0.6,0.6,9.913998917962244,1.453812093644902,0.6399441431116328,0.6,0.6],[\"winter cycling shoe covers\",11.527060214986095,1.2960296495703272,0.7606545459963072,0.8,0.8,11.527060214986095,1.2960296495703272,0.7606545459963072,0.8,0.8],[\"winter jacket\",0.0,0.0,0.0,0.0,0.0,0.0,0.0,0.0,0.0,0.0],[\"wireless keyboard mouse combo\",7.684818934934552,1.5487799153030308,0.4544982762213801,0.4,0.4,7.684818934934552,1.5487799153030308,0.4544982762213801,0.4,0.4],[\"women sexy dresses for party\",0.0,0.0,0.0,0.0,0.0,0.0,0.0,0.0,0.0,0.0],[\"women shawl for winter\",3.0,3.0,0.2200917662980801,0.1,0.1,3.0,3.0,0.2200917662980801,0.1,0.1],[\"wooden stool\",0.0,0.0,0.0,0.0,0.0,0.0,0.0,0.0,0.0,0.0],[\"woodwick wax melt\",13.630678014265037,1.3630678014265036,1.0,1.0,1.0,13.630678014265037,1.3630678014265036,1.0,1.0,1.0],[\"world of warcraft anniversary collector's edition\",10.913998917962244,1.504900507469097,0.772837825180752,0.7,0.7,10.913998917962244,1.504900507469097,0.772837825180752,0.7,0.7],[\"wowled\",11.86039354831943,1.4825491935399286,0.9094987067248556,0.8,0.8,11.86039354831943,1.4825491935399286,0.9094987067248556,0.8,0.8],[\"yarn purple and pink\",5.2618595071429155,1.468211789346847,0.3231413260170123,0.3,0.3,5.2618595071429155,1.468211789346847,0.3231413260170123,0.3,0.3]],\"hovertemplate\":\"l2arithmetic_mean0.6 dcg=%{x}\\u003cbr\\u003el2arithmetic_mean0.7 dcg=%{y}\\u003cbr\\u003equery=%{customdata[0]}\\u003cbr\\u003el2arithmetic_mean0.6 dcg_dense=%{customdata[1]}\\u003cbr\\u003el2arithmetic_mean0.6 dg=%{customdata[2]}\\u003cbr\\u003el2arithmetic_mean0.6 ndcg=%{customdata[3]}\\u003cbr\\u003el2arithmetic_mean0.6 prec@10=%{customdata[4]}\\u003cbr\\u003el2arithmetic_mean0.6 ratio_of_ratings=%{customdata[5]}\\u003cbr\\u003el2arithmetic_mean0.7 dcg_dense=%{customdata[6]}\\u003cbr\\u003el2arithmetic_mean0.7 dg=%{customdata[7]}\\u003cbr\\u003el2arithmetic_mean0.7 ndcg=%{customdata[8]}\\u003cbr\\u003el2arithmetic_mean0.7 prec@10=%{customdata[9]}\\u003cbr\\u003el2arithmetic_mean0.7 ratio_of_ratings=%{customdata[10]}\\u003cextra\\u003e\\u003c\\u002fextra\\u003e\",\"legendgroup\":\"\",\"marker\":{\"color\":\"#636efa\",\"symbol\":\"circle\"},\"mode\":\"markers\",\"name\":\"\",\"orientation\":\"v\",\"showlegend\":false,\"x\":[0.6666666666666666,4.892789260714372,0.0,1.0,0.0,6.759983739668036,7.98332235988885,3.0,0.0,11.737888753550664,12.40727634820335,1.8135891093108496,2.5686215613240666,5.961410822038439,10.498408044245402,8.845377356638178,3.3562071871080223,0.0,0.5781296526357758,0.9030899869919436,7.516058909290206,0.0,12.727588027273091,9.971453861091195,6.494849252042335,7.339183891071558,8.552013413888215,2.021911537850411,1.8927892607143724,0.0,2.0686215613240666,10.691514294303056,0.9463946303571862,4.958524549403635,0.0,12.727588027273091,8.24846734363012,0.0,3.3272250883702914,0.0,12.33864834004486,0.0,1.0,0.0,0.0,11.86039354831943,3.0,0.0,0.0,0.0,0.0,5.882210670634917,3.684818934934552,0.0,3.39898272628099,4.160558421703625,0.0,0.0,11.602925113607748,3.9741475310144745,0.0,0.0,8.506979171088783,13.630678014265037,0.0,7.71444760306672,7.021345402290208,5.8891060168040745,3.372972795919669,3.355678082915748,6.631213565291738,6.831028649949298,3.6666666666666665,8.791494123193479,9.310895439387568,1.8671944789536632,0.0,4.6045297031036165,1.8671944789536632,4.845377356638177,12.727588027273091,11.471453861091195,12.315213137479308,4.892789260714372,0.0,1.7920296742201791,0.0,4.160558421703625,0.0,0.8671944789536635,3.0,4.5,1.2920296742201791,3.903089986991944,5.795879247706316,0.9030899869919436,1.0,0.0,0.0,1.1605584217036249,3.6309297535714578,13.630678014265037,6.420542161371661,10.067029605569468,1.93581604027773,3.0,0.0,1.1605584217036249,13.040583192283169,2.52371901428583,0.0,6.392789260714372,0.0,11.329648018601056,2.3671944789536634,2.795879247706316,8.461410822038438,10.498408044245402,3.8391838910715586,9.913998917962244,11.86039354831943,8.72784571449791,0.0,6.920542161371661,1.8135891093108496,13.630678014265037,12.132553781739915,11.68428338390785,8.807045865901433,11.227588027273091,0.0,13.630678014265037,2.021911537850411,4.345377356638177,5.276875698824168,0.0,0.0,0.0,5.068621561324067,4.5,4.920542161371661,0.0,2.195119661212123,10.913998917962244,13.630678014265037,3.521209657247871,9.631213565291738,5.199835126615804,1.903089986991944,1.8671944789536632,11.86039354831943,1.5,7.307045865901433,5.961410822038439,0.0,3.5277529006572883,1.1605584217036249,4.892789260714372,3.8726330879127513,5.839183891071558,1.8927892607143724,0.0,9.834798766558722,7.615661822583784,0.0,13.341613187947148,9.22533481770356,6.053347682417997,1.8927892607143724,5.053347682417997,1.0,8.216679096302794,3.0533476824179973,13.243825207030495,5.2534404962586185,8.48723550986517,0.3154648767857287,0.0,1.9717115483160104,4.29202967422018,3.0,0.0,7.345377356638177,0.0,10.781193396915906,0.8671944789536635,10.817088904954186,13.630678014265037,3.0,3.0,13.630678014265037,3.6666666666666665,12.56205645294097,7.254142376861159,6.536927729531664,4.892789260714372,12.470119592561412,0.0,12.684376005175144,6.392789260714372,12.763483535311371,8.09166819150902,4.892789260714372,0.430676558073393,0.0,0.0,2.446394630357186,3.0,10.20009889637784,8.630935701489854,10.368237196562616,0.0,6.195119661212123,0.0,3.0,0.0,13.630678014265037,10.53430355228368,11.86039354831943,4.404635368040541],\"xaxis\":\"x\",\"y\":[0.6666666666666666,4.892789260714372,0.0,1.0,0.0,3.0,7.98332235988885,3.0,0.0,11.737888753550664,12.40727634820335,1.8135891093108496,2.5686215613240666,5.961410822038439,10.498408044245402,9.913998917962244,3.3562071871080223,0.0,0.0,0.8671944789536635,7.516058909290206,0.0,12.727588027273091,9.971453861091195,6.494849252042335,7.339183891071558,8.845377356638178,2.021911537850411,1.8927892607143724,0.0,2.0686215613240666,10.691514294303056,0.9463946303571862,4.958524549403635,0.0,12.727588027273091,8.24846734363012,0.0,3.3272250883702914,0.0,12.33864834004486,0.0,1.0,0.0,0.0,11.86039354831943,3.0,0.0,0.0,0.0,0.0,5.882210670634917,1.3576863876419545,0.0,3.355678082915748,4.892789260714372,0.0,0.0,12.470119592561412,3.9741475310144745,0.0,0.0,8.506979171088783,13.630678014265037,0.0,10.276346594631894,7.021345402290208,5.8891060168040745,3.372972795919669,3.355678082915748,6.631213565291738,6.831028649949298,3.6666666666666665,8.791494123193479,9.310895439387568,1.8671944789536632,0.0,4.6045297031036165,1.8671944789536632,5.845377356638177,12.727588027273091,11.471453861091195,12.315213137479308,4.892789260714372,0.0,1.7920296742201791,0.0,4.160558421703625,0.0,0.8671944789536635,3.0,4.5,1.2920296742201791,3.903089986991944,5.795879247706316,0.9030899869919436,1.0,0.0,0.0,1.1605584217036249,3.6309297535714578,13.630678014265037,2.8927892607143724,10.067029605569468,1.93581604027773,3.0,0.0,1.1605584217036249,13.040583192283169,3.374008900342092,0.0,6.392789260714372,0.0,11.329648018601056,2.3671944789536634,2.795879247706316,8.461410822038438,10.498408044245402,3.8391838910715586,9.913998917962244,11.86039354831943,8.72784571449791,0.0,6.920542161371661,0.9030899869919436,13.630678014265037,12.99974826069358,11.68428338390785,8.807045865901433,11.227588027273091,0.0,13.630678014265037,2.021911537850411,4.345377356638177,5.276875698824168,2.4525880959238044,0.0,0.0,5.068621561324067,4.5,4.920542161371661,0.0,2.195119661212123,10.913998917962244,13.630678014265037,3.521209657247871,9.631213565291738,4.467604287605057,1.903089986991944,1.8671944789536632,12.763483535311371,1.5,7.008708770522974,5.961410822038439,0.0,3.5277529006572883,2.0277529006572883,5.52371901428583,3.8726330879127513,6.053347682417997,1.8927892607143724,0.0,9.834798766558722,7.615661822583784,0.0,13.341613187947148,9.22533481770356,3.892789260714373,1.8927892607143724,7.034303552283681,1.0,8.216679096302794,3.0533476824179973,13.243825207030495,5.2534404962586185,8.48723550986517,0.3154648767857287,0.0,1.9717115483160104,4.29202967422018,3.0,0.0,7.731695287984047,0.0,10.781193396915906,0.8671944789536635,10.817088904954186,13.630678014265037,3.0,3.0,13.630678014265037,3.6666666666666665,12.56205645294097,7.254142376861159,7.991747318691543,4.892789260714372,12.470119592561412,0.0,12.684376005175144,6.392789260714372,12.763483535311371,8.09166819150902,4.892789260714372,0.430676558073393,0.0,0.0,2.446394630357186,3.0,10.20009889637784,8.722872561869412,10.368237196562616,0.0,6.195119661212123,0.0,3.0,0.0,13.630678014265037,10.53430355228368,11.86039354831943,4.404635368040541],\"yaxis\":\"y\",\"type\":\"scatter\"}],                        {\"template\":{\"data\":{\"histogram2dcontour\":[{\"type\":\"histogram2dcontour\",\"colorbar\":{\"outlinewidth\":0,\"ticks\":\"\"},\"colorscale\":[[0.0,\"#0d0887\"],[0.1111111111111111,\"#46039f\"],[0.2222222222222222,\"#7201a8\"],[0.3333333333333333,\"#9c179e\"],[0.4444444444444444,\"#bd3786\"],[0.5555555555555556,\"#d8576b\"],[0.6666666666666666,\"#ed7953\"],[0.7777777777777778,\"#fb9f3a\"],[0.8888888888888888,\"#fdca26\"],[1.0,\"#f0f921\"]]}],\"choropleth\":[{\"type\":\"choropleth\",\"colorbar\":{\"outlinewidth\":0,\"ticks\":\"\"}}],\"histogram2d\":[{\"type\":\"histogram2d\",\"colorbar\":{\"outlinewidth\":0,\"ticks\":\"\"},\"colorscale\":[[0.0,\"#0d0887\"],[0.1111111111111111,\"#46039f\"],[0.2222222222222222,\"#7201a8\"],[0.3333333333333333,\"#9c179e\"],[0.4444444444444444,\"#bd3786\"],[0.5555555555555556,\"#d8576b\"],[0.6666666666666666,\"#ed7953\"],[0.7777777777777778,\"#fb9f3a\"],[0.8888888888888888,\"#fdca26\"],[1.0,\"#f0f921\"]]}],\"heatmap\":[{\"type\":\"heatmap\",\"colorbar\":{\"outlinewidth\":0,\"ticks\":\"\"},\"colorscale\":[[0.0,\"#0d0887\"],[0.1111111111111111,\"#46039f\"],[0.2222222222222222,\"#7201a8\"],[0.3333333333333333,\"#9c179e\"],[0.4444444444444444,\"#bd3786\"],[0.5555555555555556,\"#d8576b\"],[0.6666666666666666,\"#ed7953\"],[0.7777777777777778,\"#fb9f3a\"],[0.8888888888888888,\"#fdca26\"],[1.0,\"#f0f921\"]]}],\"heatmapgl\":[{\"type\":\"heatmapgl\",\"colorbar\":{\"outlinewidth\":0,\"ticks\":\"\"},\"colorscale\":[[0.0,\"#0d0887\"],[0.1111111111111111,\"#46039f\"],[0.2222222222222222,\"#7201a8\"],[0.3333333333333333,\"#9c179e\"],[0.4444444444444444,\"#bd3786\"],[0.5555555555555556,\"#d8576b\"],[0.6666666666666666,\"#ed7953\"],[0.7777777777777778,\"#fb9f3a\"],[0.8888888888888888,\"#fdca26\"],[1.0,\"#f0f921\"]]}],\"contourcarpet\":[{\"type\":\"contourcarpet\",\"colorbar\":{\"outlinewidth\":0,\"ticks\":\"\"}}],\"contour\":[{\"type\":\"contour\",\"colorbar\":{\"outlinewidth\":0,\"ticks\":\"\"},\"colorscale\":[[0.0,\"#0d0887\"],[0.1111111111111111,\"#46039f\"],[0.2222222222222222,\"#7201a8\"],[0.3333333333333333,\"#9c179e\"],[0.4444444444444444,\"#bd3786\"],[0.5555555555555556,\"#d8576b\"],[0.6666666666666666,\"#ed7953\"],[0.7777777777777778,\"#fb9f3a\"],[0.8888888888888888,\"#fdca26\"],[1.0,\"#f0f921\"]]}],\"surface\":[{\"type\":\"surface\",\"colorbar\":{\"outlinewidth\":0,\"ticks\":\"\"},\"colorscale\":[[0.0,\"#0d0887\"],[0.1111111111111111,\"#46039f\"],[0.2222222222222222,\"#7201a8\"],[0.3333333333333333,\"#9c179e\"],[0.4444444444444444,\"#bd3786\"],[0.5555555555555556,\"#d8576b\"],[0.6666666666666666,\"#ed7953\"],[0.7777777777777778,\"#fb9f3a\"],[0.8888888888888888,\"#fdca26\"],[1.0,\"#f0f921\"]]}],\"mesh3d\":[{\"type\":\"mesh3d\",\"colorbar\":{\"outlinewidth\":0,\"ticks\":\"\"}}],\"scatter\":[{\"fillpattern\":{\"fillmode\":\"overlay\",\"size\":10,\"solidity\":0.2},\"type\":\"scatter\"}],\"parcoords\":[{\"type\":\"parcoords\",\"line\":{\"colorbar\":{\"outlinewidth\":0,\"ticks\":\"\"}}}],\"scatterpolargl\":[{\"type\":\"scatterpolargl\",\"marker\":{\"colorbar\":{\"outlinewidth\":0,\"ticks\":\"\"}}}],\"bar\":[{\"error_x\":{\"color\":\"#2a3f5f\"},\"error_y\":{\"color\":\"#2a3f5f\"},\"marker\":{\"line\":{\"color\":\"#E5ECF6\",\"width\":0.5},\"pattern\":{\"fillmode\":\"overlay\",\"size\":10,\"solidity\":0.2}},\"type\":\"bar\"}],\"scattergeo\":[{\"type\":\"scattergeo\",\"marker\":{\"colorbar\":{\"outlinewidth\":0,\"ticks\":\"\"}}}],\"scatterpolar\":[{\"type\":\"scatterpolar\",\"marker\":{\"colorbar\":{\"outlinewidth\":0,\"ticks\":\"\"}}}],\"histogram\":[{\"marker\":{\"pattern\":{\"fillmode\":\"overlay\",\"size\":10,\"solidity\":0.2}},\"type\":\"histogram\"}],\"scattergl\":[{\"type\":\"scattergl\",\"marker\":{\"colorbar\":{\"outlinewidth\":0,\"ticks\":\"\"}}}],\"scatter3d\":[{\"type\":\"scatter3d\",\"line\":{\"colorbar\":{\"outlinewidth\":0,\"ticks\":\"\"}},\"marker\":{\"colorbar\":{\"outlinewidth\":0,\"ticks\":\"\"}}}],\"scattermapbox\":[{\"type\":\"scattermapbox\",\"marker\":{\"colorbar\":{\"outlinewidth\":0,\"ticks\":\"\"}}}],\"scatterternary\":[{\"type\":\"scatterternary\",\"marker\":{\"colorbar\":{\"outlinewidth\":0,\"ticks\":\"\"}}}],\"scattercarpet\":[{\"type\":\"scattercarpet\",\"marker\":{\"colorbar\":{\"outlinewidth\":0,\"ticks\":\"\"}}}],\"carpet\":[{\"aaxis\":{\"endlinecolor\":\"#2a3f5f\",\"gridcolor\":\"white\",\"linecolor\":\"white\",\"minorgridcolor\":\"white\",\"startlinecolor\":\"#2a3f5f\"},\"baxis\":{\"endlinecolor\":\"#2a3f5f\",\"gridcolor\":\"white\",\"linecolor\":\"white\",\"minorgridcolor\":\"white\",\"startlinecolor\":\"#2a3f5f\"},\"type\":\"carpet\"}],\"table\":[{\"cells\":{\"fill\":{\"color\":\"#EBF0F8\"},\"line\":{\"color\":\"white\"}},\"header\":{\"fill\":{\"color\":\"#C8D4E3\"},\"line\":{\"color\":\"white\"}},\"type\":\"table\"}],\"barpolar\":[{\"marker\":{\"line\":{\"color\":\"#E5ECF6\",\"width\":0.5},\"pattern\":{\"fillmode\":\"overlay\",\"size\":10,\"solidity\":0.2}},\"type\":\"barpolar\"}],\"pie\":[{\"automargin\":true,\"type\":\"pie\"}]},\"layout\":{\"autotypenumbers\":\"strict\",\"colorway\":[\"#636efa\",\"#EF553B\",\"#00cc96\",\"#ab63fa\",\"#FFA15A\",\"#19d3f3\",\"#FF6692\",\"#B6E880\",\"#FF97FF\",\"#FECB52\"],\"font\":{\"color\":\"#2a3f5f\"},\"hovermode\":\"closest\",\"hoverlabel\":{\"align\":\"left\"},\"paper_bgcolor\":\"white\",\"plot_bgcolor\":\"#E5ECF6\",\"polar\":{\"bgcolor\":\"#E5ECF6\",\"angularaxis\":{\"gridcolor\":\"white\",\"linecolor\":\"white\",\"ticks\":\"\"},\"radialaxis\":{\"gridcolor\":\"white\",\"linecolor\":\"white\",\"ticks\":\"\"}},\"ternary\":{\"bgcolor\":\"#E5ECF6\",\"aaxis\":{\"gridcolor\":\"white\",\"linecolor\":\"white\",\"ticks\":\"\"},\"baxis\":{\"gridcolor\":\"white\",\"linecolor\":\"white\",\"ticks\":\"\"},\"caxis\":{\"gridcolor\":\"white\",\"linecolor\":\"white\",\"ticks\":\"\"}},\"coloraxis\":{\"colorbar\":{\"outlinewidth\":0,\"ticks\":\"\"}},\"colorscale\":{\"sequential\":[[0.0,\"#0d0887\"],[0.1111111111111111,\"#46039f\"],[0.2222222222222222,\"#7201a8\"],[0.3333333333333333,\"#9c179e\"],[0.4444444444444444,\"#bd3786\"],[0.5555555555555556,\"#d8576b\"],[0.6666666666666666,\"#ed7953\"],[0.7777777777777778,\"#fb9f3a\"],[0.8888888888888888,\"#fdca26\"],[1.0,\"#f0f921\"]],\"sequentialminus\":[[0.0,\"#0d0887\"],[0.1111111111111111,\"#46039f\"],[0.2222222222222222,\"#7201a8\"],[0.3333333333333333,\"#9c179e\"],[0.4444444444444444,\"#bd3786\"],[0.5555555555555556,\"#d8576b\"],[0.6666666666666666,\"#ed7953\"],[0.7777777777777778,\"#fb9f3a\"],[0.8888888888888888,\"#fdca26\"],[1.0,\"#f0f921\"]],\"diverging\":[[0,\"#8e0152\"],[0.1,\"#c51b7d\"],[0.2,\"#de77ae\"],[0.3,\"#f1b6da\"],[0.4,\"#fde0ef\"],[0.5,\"#f7f7f7\"],[0.6,\"#e6f5d0\"],[0.7,\"#b8e186\"],[0.8,\"#7fbc41\"],[0.9,\"#4d9221\"],[1,\"#276419\"]]},\"xaxis\":{\"gridcolor\":\"white\",\"linecolor\":\"white\",\"ticks\":\"\",\"title\":{\"standoff\":15},\"zerolinecolor\":\"white\",\"automargin\":true,\"zerolinewidth\":2},\"yaxis\":{\"gridcolor\":\"white\",\"linecolor\":\"white\",\"ticks\":\"\",\"title\":{\"standoff\":15},\"zerolinecolor\":\"white\",\"automargin\":true,\"zerolinewidth\":2},\"scene\":{\"xaxis\":{\"backgroundcolor\":\"#E5ECF6\",\"gridcolor\":\"white\",\"linecolor\":\"white\",\"showbackground\":true,\"ticks\":\"\",\"zerolinecolor\":\"white\",\"gridwidth\":2},\"yaxis\":{\"backgroundcolor\":\"#E5ECF6\",\"gridcolor\":\"white\",\"linecolor\":\"white\",\"showbackground\":true,\"ticks\":\"\",\"zerolinecolor\":\"white\",\"gridwidth\":2},\"zaxis\":{\"backgroundcolor\":\"#E5ECF6\",\"gridcolor\":\"white\",\"linecolor\":\"white\",\"showbackground\":true,\"ticks\":\"\",\"zerolinecolor\":\"white\",\"gridwidth\":2}},\"shapedefaults\":{\"line\":{\"color\":\"#2a3f5f\"}},\"annotationdefaults\":{\"arrowcolor\":\"#2a3f5f\",\"arrowhead\":0,\"arrowwidth\":1},\"geo\":{\"bgcolor\":\"white\",\"landcolor\":\"#E5ECF6\",\"subunitcolor\":\"white\",\"showland\":true,\"showlakes\":true,\"lakecolor\":\"white\"},\"title\":{\"x\":0.05},\"mapbox\":{\"style\":\"light\"}}},\"xaxis\":{\"anchor\":\"y\",\"domain\":[0.0,1.0],\"title\":{\"text\":\"l2arithmetic_mean0.6 dcg\"}},\"yaxis\":{\"anchor\":\"x\",\"domain\":[0.0,1.0],\"title\":{\"text\":\"l2arithmetic_mean0.7 dcg\"}},\"legend\":{\"tracegroupgap\":0},\"margin\":{\"t\":60}},                        {\"responsive\": true}                    ).then(function(){\n",
       "                            \n",
       "var gd = document.getElementById('9cea5b2d-7e43-48e4-8bc3-18145f94a00c');\n",
       "var x = new MutationObserver(function (mutations, observer) {{\n",
       "        var display = window.getComputedStyle(gd).display;\n",
       "        if (!display || display === 'none') {{\n",
       "            console.log([gd, 'removed!']);\n",
       "            Plotly.purge(gd);\n",
       "            observer.disconnect();\n",
       "        }}\n",
       "}});\n",
       "\n",
       "// Listen for the removal of the full notebook cells\n",
       "var notebookContainer = gd.closest('#notebook-container');\n",
       "if (notebookContainer) {{\n",
       "    x.observe(notebookContainer, {childList: true});\n",
       "}}\n",
       "\n",
       "// Listen for the clearing of the current output cell\n",
       "var outputEl = gd.closest('.output');\n",
       "if (outputEl) {{\n",
       "    x.observe(outputEl, {childList: true});\n",
       "}}\n",
       "\n",
       "                        })                };                });            </script>        </div>"
      ]
     },
     "metadata": {},
     "output_type": "display_data"
    }
   ],
   "source": [
    "px.scatter(\n",
    "    p_df,\n",
    "    x=\"l2arithmetic_mean0.6 dcg\",\n",
    "    y=\"l2arithmetic_mean0.7 dcg\",\n",
    "    hover_data=p_df.columns,\n",
    ")"
   ]
  },
  {
   "cell_type": "markdown",
<<<<<<< Updated upstream
=======
   "id": "5c2b6eae-a181-4365-95ee-5a4ffdbacc53",
   "metadata": {},
   "source": [
    "## Comparison of queries between keyword search and vector search"
   ]
  },
  {
   "cell_type": "code",
   "execution_count": 79,
   "id": "5c190fd8-2ff3-4175-939b-de1c25d86919",
   "metadata": {},
   "outputs": [],
   "source": [
    "pipelines_to_check = ['l2arithmetic_mean0.0', 'l2arithmetic_mean1.0']\n",
    "metrics_to_check = ['dcg', 'ratio_of_ratings']"
   ]
  },
  {
   "cell_type": "code",
   "execution_count": 80,
   "id": "beb34b95-90cb-4a33-b369-ae9780d004f1",
   "metadata": {
    "collapsed": true,
    "jupyter": {
     "outputs_hidden": true
    }
   },
   "outputs": [
    {
     "data": {
      "text/html": [
       "<div>\n",
       "<style scoped>\n",
       "    .dataframe tbody tr th:only-of-type {\n",
       "        vertical-align: middle;\n",
       "    }\n",
       "\n",
       "    .dataframe tbody tr th {\n",
       "        vertical-align: top;\n",
       "    }\n",
       "\n",
       "    .dataframe thead th {\n",
       "        text-align: right;\n",
       "    }\n",
       "</style>\n",
       "<table border=\"1\" class=\"dataframe\">\n",
       "  <thead>\n",
       "    <tr style=\"text-align: right;\">\n",
       "      <th></th>\n",
       "      <th>query</th>\n",
       "      <th>l2arithmetic_mean0.0 dcg</th>\n",
       "      <th>l2arithmetic_mean0.0 dcg_dense</th>\n",
       "      <th>l2arithmetic_mean0.0 dg</th>\n",
       "      <th>l2arithmetic_mean0.0 ndcg</th>\n",
       "      <th>l2arithmetic_mean0.0 prec@10</th>\n",
       "      <th>l2arithmetic_mean0.0 ratio_of_ratings</th>\n",
       "      <th>l2arithmetic_mean1.0 dcg</th>\n",
       "      <th>l2arithmetic_mean1.0 dcg_dense</th>\n",
       "      <th>l2arithmetic_mean1.0 dg</th>\n",
       "      <th>l2arithmetic_mean1.0 ndcg</th>\n",
       "      <th>l2arithmetic_mean1.0 prec@10</th>\n",
       "      <th>l2arithmetic_mean1.0 ratio_of_ratings</th>\n",
       "    </tr>\n",
       "  </thead>\n",
       "  <tbody>\n",
       "    <tr>\n",
       "      <th>0</th>\n",
       "      <td>$30 roblox gift card not digital</td>\n",
       "      <td>0.666667</td>\n",
       "      <td>1.261860</td>\n",
       "      <td>0.333333</td>\n",
       "      <td>0.080904</td>\n",
       "      <td>0.1</td>\n",
       "      <td>0.2</td>\n",
       "      <td>2.00000</td>\n",
       "      <td>2.000000</td>\n",
       "      <td>1.000000</td>\n",
       "      <td>0.242711</td>\n",
       "      <td>0.1</td>\n",
       "      <td>0.2</td>\n",
       "    </tr>\n",
       "    <tr>\n",
       "      <th>1</th>\n",
       "      <td>(fiction without frontiers)</td>\n",
       "      <td>7.253440</td>\n",
       "      <td>7.684819</td>\n",
       "      <td>1.813360</td>\n",
       "      <td>0.532141</td>\n",
       "      <td>0.4</td>\n",
       "      <td>0.4</td>\n",
       "      <td>4.29203</td>\n",
       "      <td>4.892789</td>\n",
       "      <td>2.146015</td>\n",
       "      <td>0.314880</td>\n",
       "      <td>0.2</td>\n",
       "      <td>0.2</td>\n",
       "    </tr>\n",
       "    <tr>\n",
       "      <th>2</th>\n",
       "      <td>100</td>\n",
       "      <td>0.000000</td>\n",
       "      <td>0.000000</td>\n",
       "      <td>0.000000</td>\n",
       "      <td>0.000000</td>\n",
       "      <td>0.0</td>\n",
       "      <td>0.0</td>\n",
       "      <td>0.00000</td>\n",
       "      <td>0.000000</td>\n",
       "      <td>0.000000</td>\n",
       "      <td>0.000000</td>\n",
       "      <td>0.0</td>\n",
       "      <td>0.0</td>\n",
       "    </tr>\n",
       "    <tr>\n",
       "      <th>3</th>\n",
       "      <td>10x10x6 cake box without window</td>\n",
       "      <td>1.000000</td>\n",
       "      <td>2.000000</td>\n",
       "      <td>1.000000</td>\n",
       "      <td>0.131418</td>\n",
       "      <td>0.1</td>\n",
       "      <td>0.1</td>\n",
       "      <td>0.60206</td>\n",
       "      <td>2.000000</td>\n",
       "      <td>0.602060</td>\n",
       "      <td>0.079121</td>\n",
       "      <td>0.1</td>\n",
       "      <td>0.1</td>\n",
       "    </tr>\n",
       "    <tr>\n",
       "      <th>4</th>\n",
       "      <td>15 inch light weight laptop that has lots of m...</td>\n",
       "      <td>0.000000</td>\n",
       "      <td>0.000000</td>\n",
       "      <td>0.000000</td>\n",
       "      <td>0.000000</td>\n",
       "      <td>0.0</td>\n",
       "      <td>0.0</td>\n",
       "      <td>0.00000</td>\n",
       "      <td>0.000000</td>\n",
       "      <td>0.000000</td>\n",
       "      <td>0.000000</td>\n",
       "      <td>0.0</td>\n",
       "      <td>0.0</td>\n",
       "    </tr>\n",
       "  </tbody>\n",
       "</table>\n",
       "</div>"
      ],
      "text/plain": [
       "                                               query  \\\n",
       "0                   $30 roblox gift card not digital   \n",
       "1                        (fiction without frontiers)   \n",
       "2                                                100   \n",
       "3                    10x10x6 cake box without window   \n",
       "4  15 inch light weight laptop that has lots of m...   \n",
       "\n",
       "   l2arithmetic_mean0.0 dcg  l2arithmetic_mean0.0 dcg_dense  \\\n",
       "0                  0.666667                        1.261860   \n",
       "1                  7.253440                        7.684819   \n",
       "2                  0.000000                        0.000000   \n",
       "3                  1.000000                        2.000000   \n",
       "4                  0.000000                        0.000000   \n",
       "\n",
       "   l2arithmetic_mean0.0 dg  l2arithmetic_mean0.0 ndcg  \\\n",
       "0                 0.333333                   0.080904   \n",
       "1                 1.813360                   0.532141   \n",
       "2                 0.000000                   0.000000   \n",
       "3                 1.000000                   0.131418   \n",
       "4                 0.000000                   0.000000   \n",
       "\n",
       "   l2arithmetic_mean0.0 prec@10  l2arithmetic_mean0.0 ratio_of_ratings  \\\n",
       "0                           0.1                                    0.2   \n",
       "1                           0.4                                    0.4   \n",
       "2                           0.0                                    0.0   \n",
       "3                           0.1                                    0.1   \n",
       "4                           0.0                                    0.0   \n",
       "\n",
       "   l2arithmetic_mean1.0 dcg  l2arithmetic_mean1.0 dcg_dense  \\\n",
       "0                   2.00000                        2.000000   \n",
       "1                   4.29203                        4.892789   \n",
       "2                   0.00000                        0.000000   \n",
       "3                   0.60206                        2.000000   \n",
       "4                   0.00000                        0.000000   \n",
       "\n",
       "   l2arithmetic_mean1.0 dg  l2arithmetic_mean1.0 ndcg  \\\n",
       "0                 1.000000                   0.242711   \n",
       "1                 2.146015                   0.314880   \n",
       "2                 0.000000                   0.000000   \n",
       "3                 0.602060                   0.079121   \n",
       "4                 0.000000                   0.000000   \n",
       "\n",
       "   l2arithmetic_mean1.0 prec@10  l2arithmetic_mean1.0 ratio_of_ratings  \n",
       "0                           0.1                                    0.2  \n",
       "1                           0.2                                    0.2  \n",
       "2                           0.0                                    0.0  \n",
       "3                           0.1                                    0.1  \n",
       "4                           0.0                                    0.0  "
      ]
     },
     "execution_count": 80,
     "metadata": {},
     "output_type": "execute_result"
    }
   ],
   "source": [
    "ix = (df_metrics['pipeline'].isin(pipelines_to_check)) & (df_metrics['metric'].isin([\"dcg\"]))\n",
    "ix = (df_metrics['pipeline'].isin(pipelines_to_check))\n",
    "df_metrics[ix].head()\n",
    "p_df = df_metrics[ix].pivot_table(index=\"query\", columns=[\"pipeline\", \"metric\"], values=\"value\").reset_index()\n",
    "# Flatten columns for visualization purposes\n",
    "p_df.columns = [\" \".join(c).strip() for c in p_df.columns.values]\n",
    "p_df.head()"
   ]
  },
  {
   "cell_type": "code",
   "execution_count": 82,
   "id": "4efb95d6-c72c-45c0-8d7c-82f1c1666aad",
   "metadata": {},
   "outputs": [
    {
     "data": {
      "application/vnd.plotly.v1+json": {
       "config": {
        "plotlyServerURL": "https://plot.ly"
       },
       "data": [
        {
         "customdata": [
          [
           "$30 roblox gift card not digital",
           1.261859507142915,
           0.3333333333333333,
           0.0809035728588078,
           0.1,
           0.2,
           2,
           1,
           0.2427107185764236,
           0.1,
           0.2
          ],
          [
           "(fiction without frontiers)",
           7.684818934934552,
           1.8133601240646544,
           0.5321408435198608,
           0.4,
           0.4,
           4.892789260714372,
           2.14601483711009,
           0.314880130667631,
           0.2,
           0.2
          ],
          [
           "100",
           0,
           0,
           0,
           0,
           0,
           0,
           0,
           0,
           0,
           0
          ],
          [
           "10x10x6 cake box without window",
           2,
           1,
           0.1314175698439436,
           0.1,
           0.1,
           2,
           0.6020599913279624,
           0.0791212609605866,
           0.1,
           0.1
          ],
          [
           "15 inch light weight laptop that has lots of memory storage and RAM.  It should include a HDMI port as well as a USB drive.  ",
           0,
           0,
           0,
           0,
           0,
           0,
           0,
           0,
           0,
           0
          ],
          [
           "15 microsoft card",
           5.79202967422018,
           1.3921553903310169,
           0.6295516106099183,
           0.3,
           0.4,
           3,
           3,
           0.339160205273616,
           0.1,
           0.1
          ],
          [
           "40 amp 240 volt timer",
           8.345377356638178,
           1.5966644719777698,
           0.5856878397049649,
           0.5,
           0.5,
           8.414700798564784,
           1.499086112520368,
           0.549894183895884,
           0.5,
           0.5
          ],
          [
           "45 women birthday party supplies",
           0,
           0,
           0,
           0,
           0,
           3,
           3,
           0.4692787260227565,
           0.1,
           0.1
          ],
          [
           "4khdip168nv-1",
           0,
           0,
           0,
           0,
           0,
           0,
           0,
           0,
           0,
           0
          ],
          [
           "7 days without a pun makes one weak",
           12.763483535311371,
           1.3042098615056297,
           0.8611375561264455,
           0.9,
           0.9,
           12.763483535311371,
           1.3042098615056297,
           0.8611375561264455,
           0.9,
           0.9
          ],
          [
           "a deed without a name",
           10.58066558462891,
           1.4848331397604753,
           0.7790536145743712,
           0.7,
           0.7,
           12.376630728076831,
           1.3711928022265056,
           0.9249807385502082,
           0.9,
           0.9
          ],
          [
           "adaptador control xbox 360 a pc",
           4.892789260714372,
           0.9067945546554248,
           0.1359347691888752,
           0.2,
           0.2,
           4.892789260714372,
           1.223197315178593,
           0.1833657291583948,
           0.2,
           0.2
          ],
          [
           "adidas soccer cleats",
           4.892789260714372,
           1.0318242043477843,
           0.15139734109601,
           0.2,
           0.2,
           4.892789260714372,
           1.5266738412089986,
           0.2240055615151755,
           0.2,
           0.2
          ],
          [
           "alexa leak detector",
           6.392789260714372,
           1.856207187108022,
           0.4085359184257956,
           0.3,
           0.3,
           6.392789260714372,
           1.9871369406794797,
           0.43735247915031,
           0.3,
           0.3
          ],
          [
           "alphabet stickers",
           0,
           0,
           0,
           0,
           0,
           10.913998917962244,
           1.4997725777493431,
           0.7702043899253146,
           0.7,
           0.7
          ],
          [
           "american flag 5x8 outdoor made in usa",
           6.392789260714372,
           1.148798210119062,
           0.2528410271851774,
           0.3,
           0.3,
           10.913998917962244,
           1.559142702566035,
           0.8006937664098819,
           0.7,
           0.7
          ],
          [
           "andis t edger",
           1,
           0.3868528072345416,
           0.0283810392138736,
           0,
           0.1,
           3.6309297535714578,
           1.6781035935540112,
           0.2462245226243053,
           0.1,
           0.2
          ],
          [
           "back to december taylor swift",
           0,
           0,
           0,
           0,
           0,
           0,
           0,
           0,
           0,
           0
          ],
          [
           "backpacks lunchbox combo",
           2,
           0.6666666666666666,
           0.0660908915685874,
           0.1,
           0.1,
           0,
           0,
           0,
           0,
           0
          ],
          [
           "bambu utensil set",
           4.892789260714372,
           0.951544993495972,
           0.1396181455537491,
           0.2,
           0.2,
           3,
           0.9463946303571862,
           0.0694312219367772,
           0.1,
           0.1
          ],
          [
           "barbie puppy movies",
           9.557791730854222,
           1.252676484881701,
           0.5633545811446726,
           0.6,
           0.6,
           9.413998917962244,
           1.196918511144118,
           0.5382790645851212,
           0.6,
           0.6
          ],
          [
           "baseball shirt 6 under armour",
           0,
           0,
           0,
           0,
           0.1,
           0,
           0,
           0,
           0,
           0.1
          ],
          [
           "battery samsung galaxy s7 edge",
           12.763483535311371,
           1.4181648372568192,
           0.9363792118010482,
           0.9,
           0.9,
           12.763483535311371,
           1.4141764474747882,
           0.933745776545611,
           0.9,
           0.9
          ],
          [
           "beeswax wood polish",
           9.913998917962244,
           1.4387116616699391,
           0.6332971816211657,
           0.6,
           0.6,
           10.913998917962244,
           1.480990970246978,
           0.7605591431973848,
           0.7,
           0.7
          ],
          [
           "belief without borders",
           2,
           0.7124143742160444,
           0.0664686653438441,
           0.1,
           0.1,
           6.754142376861158,
           1.666623718795864,
           0.6219877544759428,
           0.4,
           0.4
          ],
          [
           "best ride on cars mercedes 3-in-1 push car in white",
           7.684818934934552,
           1.7499355781937955,
           0.5135285497500329,
           0.4,
           0.4,
           7.684818934934552,
           1.796204733733638,
           0.5271064966405455,
           0.4,
           0.4
          ],
          [
           "black and white checkered curtains 2 panels",
           6.392789260714372,
           1.7023176840202705,
           0.3746661058764785,
           0.3,
           0.3,
           9.913998917962244,
           1.6319619978325608,
           0.7183627972686238,
           0.6,
           0.6
          ],
          [
           "body shop gift set for men",
           6.684818934934552,
           1.415768431664995,
           0.4705277821382393,
           0.4,
           0.4,
           7.053889181363095,
           1.020187870092629,
           0.3390573805311438,
           0.4,
           0.4
          ],
          [
           "boho earrings",
           5.2618595071429155,
           0.8240731060613058,
           0.1813717054717779,
           0.3,
           0.3,
           3,
           3,
           0.2200917662980801,
           0.1,
           0.1
          ],
          [
           "boo costume monsters inc",
           0,
           0,
           0,
           0,
           0,
           0,
           0,
           0,
           0,
           0
          ],
          [
           "bookshelf 4 tier",
           3,
           1,
           0.07336392209936,
           0.1,
           0.1,
           4.892789260714372,
           1.25,
           0.1834098052484001,
           0.2,
           0.2
          ],
          [
           "bose headphones replacement cord",
           12.43015020197804,
           1.3811278002197822,
           0.9119245711012616,
           0.9,
           0.9,
           10.824742530965828,
           1.3364392867878818,
           0.7843714218114438,
           0.8,
           0.8
          ],
          [
           "boys smart watch",
           0,
           0,
           0,
           0,
           0,
           3,
           0.9463946303571862,
           0.0694312219367772,
           0.1,
           0.1
          ],
          [
           "bra shiny",
           2,
           0.8613531161467861,
           0.0695100114621549,
           0.1,
           0.1,
           6.623212623289701,
           1.655803155822425,
           0.5344841467813316,
           0.4,
           0.4
          ],
          [
           "bridal shower decorations",
           3,
           1.8927892607143724,
           0.1388624438735545,
           0.1,
           0.1,
           0,
           0,
           0,
           0,
           0
          ],
          [
           "bulwark flame resistant jacket",
           11.86039354831943,
           1.4825491935399286,
           0.8701249883466592,
           0.8,
           0.8,
           12.763483535311371,
           1.4141764474747882,
           0.933745776545611,
           0.9,
           0.9
          ],
          [
           "card holders for four decksplaying cards",
           8.845377356638178,
           1.6496934687260238,
           0.6051399156371955,
           0.5,
           0.5,
           8.845377356638178,
           1.401741754104595,
           0.5141863642577491,
           0.5,
           0.5
          ],
          [
           "cargo pants men big and tall",
           0,
           0,
           0,
           0,
           0,
           0,
           0,
           0,
           0,
           0
          ],
          [
           "carhartt extreme cold weather boot socks",
           5.7618595071429155,
           1.6025825821679909,
           0.3527152311478913,
           0.3,
           0.3,
           5.892789260714372,
           1.01023924951986,
           0.2223453408104729,
           0.3,
           0.3
          ],
          [
           "carhartt windbreaker",
           0,
           0,
           0,
           0,
           0,
           0,
           0,
           0,
           0,
           0
          ],
          [
           "casio illuminator watches for men",
           12.763483535311371,
           1.3709609266716507,
           0.9052116356304494,
           0.9,
           0.9,
           12.763483535311371,
           1.3855688436179348,
           0.914856882358379,
           0.9,
           0.9
          ],
          [
           "cat balls",
           0,
           0,
           0,
           0,
           0,
           0,
           0,
           0,
           0,
           0
          ],
          [
           "ceramtic coating",
           3,
           1,
           0.07336392209936,
           0.1,
           0.1,
           3,
           0.9463946303571862,
           0.0694312219367772,
           0.1,
           0.1
          ],
          [
           "charger wireless for iphone",
           0,
           0,
           0,
           0,
           0,
           0,
           0,
           0,
           0,
           0
          ],
          [
           "christmas dress for petite women",
           0,
           0,
           0,
           0,
           0,
           0,
           0,
           0,
           0,
           0
          ],
          [
           "coil incense",
           12.763483535311371,
           1.4181648372568192,
           0.9363792118010482,
           0.9,
           0.9,
           11.86039354831943,
           1.4404656202755282,
           0.8454256604216018,
           0.8,
           0.8
          ],
          [
           "cole haan grand crosscourt",
           7.684818934934552,
           1.8653527055096095,
           0.5473983622993501,
           0.4,
           0.4,
           3,
           3,
           0.2200917662980801,
           0.1,
           0.1
          ],
          [
           "collagen supplements",
           3,
           1.2920296742201791,
           0.0947883643695507,
           0.1,
           0.1,
           0,
           0,
           0,
           0,
           0
          ],
          [
           "columbia ice maiden ii womens insulated snow boots",
           0,
           0,
           0,
           0,
           0,
           0,
           0,
           0,
           0,
           0
          ],
          [
           "computer software programs adobe",
           0,
           0,
           0,
           0,
           0,
           0,
           0,
           0,
           0,
           0
          ],
          [
           "computer table",
           0,
           0,
           0,
           0,
           0,
           0,
           0,
           0,
           0,
           0
          ],
          [
           "concealer color changing foundation",
           8.845377356638178,
           1.239967025323161,
           0.4548442212579179,
           0.5,
           0.5,
           4.892789260714372,
           2.0343107806620333,
           0.2984900352767555,
           0.2,
           0.2
          ],
          [
           "contact lens colored for eyes",
           5.130929753571458,
           1.7103099178571526,
           0.4914458861001996,
           0.2,
           0.3,
           0,
           0,
           0,
           0,
           0
          ],
          [
           "converse sneakers for women",
           0,
           0,
           0,
           0,
           0,
           0,
           0,
           0,
           0,
           0
          ],
          [
           "corn hole game wooden",
           3,
           1.5,
           0.11004588314904,
           0.1,
           0.1,
           4.892789260714372,
           1.5266738412089986,
           0.2240055615151755,
           0.2,
           0.2
          ],
          [
           "cousin it costume",
           4.892789260714372,
           2.0802792108518124,
           0.4703652827859578,
           0.2,
           0.2,
           4.892789260714372,
           2.446394630357186,
           0.5531464700081437,
           0.2,
           0.2
          ],
          [
           "custom 3 panel wall art",
           0,
           0,
           0,
           0,
           0,
           0,
           0,
           0,
           0,
           0
          ],
          [
           "cwine glasses",
           0,
           0,
           0,
           0,
           0,
           0,
           0,
           0,
           0,
           0
          ],
          [
           "dachshund case",
           0,
           0,
           0,
           0,
           0,
           12.763483535311371,
           1.3855688436179348,
           0.914856882358379,
           0.9,
           0.9
          ],
          [
           "daves killer bread",
           7.684818934934552,
           0.9935368827536186,
           0.29155904987671,
           0.4,
           0.4,
           7.684818934934552,
           1.256264807683502,
           0.3686580539482399,
           0.4,
           0.4
          ],
          [
           "definitely not paid enough for this",
           0,
           0,
           0,
           0,
           0,
           0,
           0,
           0,
           0,
           0
          ],
          [
           "dental floss 0.3",
           0,
           0,
           0,
           0,
           0,
           0,
           0,
           0,
           0,
           0
          ],
          [
           "detective pikachu digital",
           9.127115172780828,
           1.4178298618481306,
           0.7302927298895479,
           0.6,
           0.6,
           9.096469552654307,
           1.2831703684505418,
           0.6609326101141876,
           0.6,
           0.6
          ],
          [
           "dieter roth",
           13.630678014265037,
           1.3630678014265036,
           1,
           1,
           1,
           13.630678014265037,
           1.3630678014265036,
           1,
           1,
           1
          ],
          [
           "dildo for sex",
           0,
           0,
           0,
           0,
           0,
           0,
           0,
           0,
           0,
           0
          ],
          [
           "dinosaur decorations orange",
           6.553889181363095,
           1.4102250233556868,
           0.4138385550241393,
           0.4,
           0.4,
           10.342610987513432,
           1.2721349266476636,
           0.7466304612676345,
           0.8,
           0.8
          ],
          [
           "dji goggles",
           0,
           0,
           0,
           0,
           0,
           8.128424804695504,
           0.8884021426276854,
           0.5865899902617786,
           0.5,
           0.9
          ],
          [
           "do not enter tape",
           4.892789260714372,
           1.0075080958406264,
           0.1478294909154526,
           0.2,
           0.2,
           7.053889181363095,
           1.1954738193796115,
           0.3508185926271611,
           0.4,
           0.4
          ],
          [
           "double couple famous painting compression socks",
           5.892789260714372,
           1.1243242653065564,
           0.2528159637371905,
           0.3,
           0.3,
           5.892789260714372,
           1.84123967142861,
           0.4140218230338122,
           0.3,
           0.3
          ],
          [
           "drone with live camera for adults",
           3,
           1.2920296742201791,
           0.0947883643695507,
           0.1,
           0.1,
           6.392789260714372,
           1.265293082568772,
           0.2784805894273036,
           0.3,
           0.3
          ],
          [
           "drywall anchors heavy duty",
           4.892789260714372,
           2.0343107806620333,
           0.2984900352767555,
           0.2,
           0.2,
           7.684818934934552,
           1.796204733733638,
           0.5271064966405455,
           0.4,
           0.4
          ],
          [
           "dummy door handle brass",
           6.053889181363095,
           1.3401628088860615,
           0.4110745015388912,
           0.4,
           0.4,
           8.845377356638178,
           1.3050118461468014,
           0.5003655997988836,
           0.5,
           0.5
          ],
          [
           "echo dot flush mount",
           4.2618595071429155,
           1.8868528072345416,
           0.3520888750600427,
           0.2,
           0.2,
           3,
           3,
           0.2799017022234609,
           0.1,
           0.1
          ],
          [
           "eye mask without strap",
           0,
           0,
           0,
           0,
           0,
           9.913998917962244,
           1.2559277318847826,
           0.6449784899909481,
           0.7,
           0.7
          ],
          [
           "ez bow maker for ribbon",
           9.913998917962244,
           1.551815906564595,
           0.6830838076905165,
           0.6,
           0.6,
           9.913998917962244,
           1.52717895444333,
           0.6722390270733756,
           0.6,
           0.6
          ],
          [
           "fabric aprons",
           0,
           0,
           0,
           0,
           0,
           4.892789260714372,
           0.9335972394768316,
           0.1369847102983117,
           0.2,
           0.2
          ],
          [
           "fast charging wireless charger",
           0,
           0,
           0,
           0,
           0,
           0,
           0,
           0,
           0,
           0
          ],
          [
           "fire 7 kids edition tablet",
           4.892789260714372,
           2.14601483711009,
           0.4004488039359449,
           0.2,
           0.2,
           4.823465818787765,
           0.974139844330949,
           0.3635512008425732,
           0.2,
           0.4
          ],
          [
           "fitness rollers deep tissue massage",
           3,
           3,
           0.2200917662980801,
           0.1,
           0.1,
           4.892789260714372,
           1.1460148371100898,
           0.1681522864689108,
           0.2,
           0.2
          ],
          [
           "fletchings for arrows",
           0,
           0,
           0,
           0,
           0,
           7.583517849495262,
           1.4042419314495742,
           0.5379186855103489,
           0.4,
           0.5
          ],
          [
           "floral wallpaper stick and peel",
           12.763483535311371,
           1.3957840503267749,
           0.9216017310213248,
           0.9,
           0.9,
           12.763483535311371,
           1.3957840503267749,
           0.9216017310213248,
           0.9,
           0.9
          ],
          [
           "fluoride coated scissors",
           11.86039354831943,
           1.4704354419139216,
           0.8630152897016882,
           0.8,
           0.8,
           11.86039354831943,
           1.4339317326363992,
           0.8415908474314976,
           0.8,
           0.8
          ],
          [
           "four paws magic coat instant dog mat remover",
           12.315213137479308,
           1.2315213137479308,
           0.9034923372550476,
           0.9,
           1,
           11.856972399795954,
           1.1856972399795953,
           0.8698739994728926,
           0.9,
           1
          ],
          [
           "frixion pens",
           4.892789260714372,
           1.0796120765869217,
           0.1584091525685025,
           0.2,
           0.2,
           4.892789260714372,
           0.9335972394768316,
           0.1369847102983117,
           0.2,
           0.2
          ],
          [
           "frolic flowers",
           0,
           0,
           0,
           0,
           0.1,
           0,
           0,
           0,
           0,
           0.1
          ],
          [
           "futon queen",
           1.6309297535714575,
           0.3730707174295609,
           0.0571644259945868,
           0,
           0.2,
           2.8927892607143724,
           0.9614797138958184,
           0.1473244438185408,
           0.1,
           0.2
          ],
          [
           "galaxy 8 note case",
           3,
           0.9030899869919436,
           0.066254223454389,
           0.1,
           0.1,
           0,
           0,
           0,
           0,
           0
          ],
          [
           "gatorade bottle",
           4.892789260714372,
           1.180325617772123,
           0.1731866333482261,
           0.2,
           0.2,
           4.892789260714372,
           1.951544993495972,
           0.2863459897524692,
           0.2,
           0.2
          ],
          [
           "gift teen girl",
           0,
           0,
           0,
           0,
           0,
           0,
           0,
           0,
           0,
           0
          ],
          [
           "girls bible",
           6.392789260714372,
           1.265293082568772,
           0.2784805894273036,
           0.3,
           0.3,
           3,
           0.9030899869919436,
           0.066254223454389,
           0.1,
           0.1
          ],
          [
           "girls tights",
           3,
           0.9030899869919436,
           0.066254223454389,
           0.1,
           0.1,
           3,
           3,
           0.2200917662980801,
           0.1,
           0.1
          ],
          [
           "glitter lamp color change",
           0,
           0,
           0,
           0,
           0,
           4.892789260714372,
           2.446394630357186,
           0.3948413620601649,
           0.2,
           0.2
          ],
          [
           "go chef 8 in 1 cooker",
           3,
           1.2920296742201791,
           0.1151741929366216,
           0.1,
           0.1,
           3,
           1.5,
           0.1337130971927597,
           0.1,
           0.1
          ],
          [
           "golf sets for men left handed",
           4.892789260714372,
           0.9067945546554248,
           0.1330520101357289,
           0.2,
           0.2,
           6.392789260714372,
           1.9871369406794797,
           0.43735247915031,
           0.3,
           0.3
          ],
          [
           "ground lift box",
           0,
           0,
           0,
           0,
           0,
           6.392789260714372,
           1.9319597492354388,
           0.4252084336260237,
           0.3,
           0.3
          ],
          [
           "halloween glow bracelets kids",
           3,
           1,
           0.07336392209936,
           0.1,
           0.1,
           3,
           0.9030899869919436,
           0.066254223454389,
           0.1,
           0.1
          ],
          [
           "heavy duty plastic folders with pockets",
           6.392789260714372,
           1.6759176335524295,
           0.3688556721386529,
           0.3,
           0.3,
           3,
           1.1605584217036249,
           0.085143117641621,
           0.1,
           0.1
          ],
          [
           "helen kaminski hats",
           0,
           0,
           0,
           0,
           0,
           0,
           0,
           0,
           0,
           0
          ],
          [
           "henley shirts for men",
           0,
           0,
           0,
           0,
           0,
           0,
           0,
           0,
           0,
           0
          ],
          [
           "hey water antoinette portis",
           3,
           1.1605584217036249,
           0.1179716355827032,
           0.1,
           0.1,
           3,
           1.0686215613240666,
           0.1086261846459085,
           0.1,
           0.1
          ],
          [
           "hug machine",
           3.6309297535714578,
           0.9077324383928644,
           0.5577409001984587,
           0.1,
           0.4,
           3.6309297535714578,
           1.8154648767857289,
           0.5577409001984587,
           0.1,
           0.2
          ],
          [
           "if lost or drunk please return to bestie",
           13.630678014265037,
           1.3630678014265036,
           1,
           1,
           1,
           13.630678014265037,
           1.3630678014265036,
           1,
           1,
           1
          ],
          [
           "ikea wood desk",
           6.392789260714372,
           1.8154648767857289,
           0.4379520106676948,
           0.3,
           0.3,
           2.8927892607143724,
           1.4463946303571862,
           0.2326131246726584,
           0.1,
           0.2
          ],
          [
           "ink 61 black and color",
           0,
           0,
           0,
           0,
           0,
           10.913998917962244,
           1.4381470865099242,
           0.7385567757549498,
           0.7,
           0.7
          ],
          [
           "instant pot air fryer",
           3,
           1.0686215613240666,
           0.0783982689786753,
           0.1,
           0.1,
           3.3927892607143724,
           0.590094821981869,
           0.1298750116533407,
           0.2,
           0.3
          ],
          [
           "iphone 11 alpha glass screen protector",
           1.5,
           0.5,
           0.1487045060293216,
           0.1,
           0.3,
           3,
           1,
           0.2974090120586433,
           0.1,
           0.3
          ],
          [
           "iphone grip",
           4.2618595071429155,
           1.002222024218112,
           0.147053877022001,
           0.2,
           0.2,
           0,
           0,
           0,
           0,
           0
          ],
          [
           "jbl bluetooth speakers",
           3,
           0.9030899869919436,
           0.066254223454389,
           0.1,
           0.1,
           3,
           1.8927892607143724,
           0.1388624438735545,
           0.1,
           0.1
          ],
          [
           "jobs evergreen tree spikes",
           13.040583192283169,
           1.3040583192283166,
           0.9774367618500638,
           1,
           1,
           12.985406000839124,
           1.2985406000839126,
           0.9733010407294808,
           1,
           1
          ],
          [
           "kid animal plates",
           4.2618595071429155,
           1.8868528072345416,
           0.2768538447258275,
           0.2,
           0.2,
           5.892789260714372,
           1.0436432511904858,
           0.229697286539585,
           0.3,
           0.3
          ],
          [
           "kids play rug pj mask",
           0,
           0,
           0,
           0,
           0,
           0,
           0,
           0,
           0,
           0
          ],
          [
           "kobe baby jersey",
           6.392789260714372,
           2.1309297535714573,
           0.4690000933206747,
           0.3,
           0.3,
           6.392789260714372,
           1.1759176335524295,
           0.2588097889896127,
           0.3,
           0.3
          ],
          [
           "laptop refurbished",
           0,
           0,
           0,
           0,
           0,
           0,
           0,
           0,
           0,
           0
          ],
          [
           "latex dental dam",
           9.913998917962244,
           1.4086276497599184,
           0.7233971441479391,
           0.7,
           0.7,
           11.776346594631894,
           1.293726785953951,
           0.85421584028323,
           0.9,
           0.9
          ],
          [
           "lg v20 case",
           4.892789260714372,
           1.1835972394768317,
           0.1736666713479918,
           0.2,
           0.2,
           4.892789260714372,
           1.379991869834018,
           0.2024832320725062,
           0.2,
           0.2
          ],
          [
           "lights bulbs color changing",
           0,
           0,
           0,
           0,
           0,
           4.892789260714372,
           1.397939623853158,
           0.2051166673279436,
           0.2,
           0.2
          ],
          [
           "linkin park",
           6.392789260714372,
           1.9319597492354388,
           0.4252084336260237,
           0.3,
           0.3,
           8.845377356638178,
           1.650688099251724,
           0.605504765619221,
           0.5,
           0.5
          ],
          [
           "long workout tank tops for women loose fit",
           3,
           3,
           0.2200917662980801,
           0.1,
           0.1,
           10.913998917962244,
           1.4997725777493431,
           0.7702043899253146,
           0.7,
           0.7
          ],
          [
           "macaw toys",
           3,
           1.2920296742201791,
           0.0947883643695507,
           0.1,
           0.1,
           6.392789260714372,
           1.3511158941393324,
           0.2973694836145356,
           0.3,
           0.3
          ],
          [
           "margarita glasses",
           11.86039354831943,
           1.4659485034091366,
           0.8603818544462509,
           0.8,
           0.8,
           9.913998917962244,
           1.6319619978325608,
           0.7183627972686238,
           0.6,
           0.6
          ],
          [
           "mary meyer baby mat",
           11.86039354831943,
           1.4825491935399286,
           0.9094987067248556,
           0.8,
           0.8,
           12.462453539647392,
           1.3847170599608214,
           0.955666886663636,
           0.9,
           0.9
          ],
          [
           "maxi pads without wings",
           6.392789260714372,
           1.2430599943425638,
           0.2735872697693364,
           0.3,
           0.3,
           9.913998917962244,
           1.5547675501653504,
           0.6843830725976618,
           0.6,
           0.6
          ],
          [
           "men school bag",
           0,
           0,
           0,
           0,
           0,
           0,
           0,
           0,
           0,
           0
          ],
          [
           "mens ralph lauren puffer jacket",
           7.684818934934552,
           1.6115986575892969,
           0.4729327934832576,
           0.4,
           0.4,
           7.684818934934552,
           1.7097959727678895,
           0.501749354207772,
           0.4,
           0.4
          ],
          [
           "military face paint kit",
           10.913998917962244,
           1.412629162314505,
           0.7254521107352792,
           0.7,
           0.7,
           4.892789260714372,
           0.8851422329728036,
           0.1298750116533407,
           0.2,
           0.2
          ],
          [
           "mora wood carving knife",
           13.630678014265037,
           1.3630678014265036,
           1,
           1,
           1,
           13.630678014265037,
           1.3630678014265036,
           1,
           1,
           1
          ],
          [
           "mortara",
           6.392789260714372,
           1.9199945798893456,
           0.4225749983705864,
           0.3,
           0.3,
           12.99974826069358,
           1.299974826069358,
           0.9537125187088152,
           0.9,
           1
          ],
          [
           "moto play screen protector",
           6.392789260714372,
           1.6759176335524295,
           0.3688556721386529,
           0.3,
           0.3,
           11.86039354831943,
           1.4605354229884813,
           0.8572048559638626,
           0.8,
           0.8
          ],
          [
           "mre beef",
           9.913998917962244,
           1.4040499407066358,
           0.6180396628416764,
           0.6,
           0.6,
           9.913998917962244,
           1.4678409776502388,
           0.6461194268314837,
           0.6,
           0.6
          ],
          [
           "muzzy broadheads",
           3,
           3,
           0.2200917662980801,
           0.1,
           0.1,
           11.86039354831943,
           1.35434984581984,
           0.7948833326720565,
           0.8,
           0.8
          ],
          [
           "my tv",
           0,
           0,
           0,
           0,
           0,
           0,
           0,
           0,
           0,
           0
          ],
          [
           "navistar international",
           0,
           0,
           0,
           0,
           0,
           13.630678014265037,
           1.3630678014265036,
           1,
           1,
           1
          ],
          [
           "neuroquell for neuropathy",
           3.892789260714373,
           1.0109557689252056,
           0.1631654794495396,
           0.2,
           0.2,
           3.892789260714373,
           0.7490621162625606,
           0.1208965645128138,
           0.2,
           0.2
          ],
          [
           "newborn onesies",
           0,
           0,
           0,
           0,
           0,
           6.392789260714372,
           1.9306765580733931,
           0.424926013816671,
           0.3,
           0.3
          ],
          [
           "ninja 4qt air fryer black af101",
           6.053889181363095,
           1.3192189247060422,
           0.3871322976965424,
           0.4,
           0.4,
           6.553889181363095,
           1.4327784943561357,
           0.4204569993823276,
           0.4,
           0.4
          ],
          [
           "old fashion mix",
           0,
           0,
           0,
           0,
           0,
           4.892789260714372,
           1.2262940479619022,
           0.1799314820111718,
           0.2,
           0.2
          ],
          [
           "opi linkin park after dark",
           0,
           0,
           0,
           0,
           0,
           0,
           0,
           0,
           0,
           0
          ],
          [
           "orange textured paint",
           0,
           0,
           0,
           0,
           0.1,
           0,
           0,
           0,
           0,
           0
          ],
          [
           "organicbone broth",
           6.392789260714372,
           1.6895405204413556,
           0.3718539573761156,
           0.3,
           0.3,
           6.392789260714372,
           1.14527201342591,
           0.2520649403266671,
           0.3,
           0.3
          ],
          [
           "outdoor baby swing",
           3,
           1.1605584217036249,
           0.085143117641621,
           0.1,
           0.1,
           4.892789260714372,
           2.25,
           0.3301376494471202,
           0.2,
           0.2
          ],
          [
           "pack abd play sheet",
           7.684818934934552,
           1.2301355403429153,
           0.3609902718134873,
           0.4,
           0.4,
           7.684818934934552,
           1.1822949957569229,
           0.3469511918686965,
           0.4,
           0.4
          ],
          [
           "panties",
           0,
           0,
           0,
           0,
           0,
           0,
           0,
           0,
           0,
           0
          ],
          [
           "patio chair swing",
           3,
           1.0686215613240666,
           0.0783982689786753,
           0.1,
           0.1,
           4.892789260714372,
           1.201544993495972,
           0.1763001066034291,
           0.2,
           0.2
          ],
          [
           "phoenix model a330",
           10.913998917962244,
           1.559142702566035,
           1,
           0.7,
           0.7,
           10.913998917962244,
           1.559142702566035,
           1,
           0.7,
           0.7
          ],
          [
           "pilot knee board",
           13.630678014265037,
           1.3630678014265036,
           1,
           1,
           1,
           13.630678014265037,
           1.3630678014265036,
           1,
           1,
           1
          ],
          [
           "pine tree garland",
           5.392789260714372,
           1.1229375197345757,
           0.2471493021607679,
           0.2,
           0.3,
           6.392789260714372,
           1.173736552415957,
           0.2583297509898471,
           0.3,
           0.3
          ],
          [
           "pink ski mask",
           8.21444760306672,
           1.4288140355555663,
           0.5241170079948543,
           0.5,
           0.5,
           9.913998917962244,
           1.3980673560335892,
           0.6154062275862391,
           0.6,
           0.6
          ],
          [
           "plastic divider container",
           6.392789260714372,
           1.8175293653079347,
           0.4000232483092519,
           0.3,
           0.3,
           7.684818934934552,
           1.2269513630989062,
           0.3600558568883671,
           0.4,
           0.4
          ],
          [
           "play kitchen for toddlers accessories",
           3,
           0.9030899869919436,
           0.066254223454389,
           0.1,
           0.1,
           4.892789260714372,
           0.951544993495972,
           0.1396181455537491,
           0.2,
           0.2
          ],
          [
           "plus size black shirt",
           3,
           1.1605584217036249,
           0.085143117641621,
           0.1,
           0.1,
           4.892789260714372,
           0.9335972394768316,
           0.1369847102983117,
           0.2,
           0.2
          ],
          [
           "plywood clips for windows",
           10.817088904954186,
           1.1979103774351008,
           0.7909506325094736,
           0.7,
           0.9,
           12.763483535311371,
           1.2763483535311373,
           0.9363792118010482,
           0.9,
           1
          ],
          [
           "pocket storage",
           4.892789260714372,
           1.0318242043477843,
           0.15139734109601,
           0.2,
           0.2,
           3,
           1.5,
           0.11004588314904,
           0.1,
           0.1
          ],
          [
           "pokemon shield nintendo switch",
           8.845377356638178,
           1.6243938487484129,
           0.5958595188912912,
           0.5,
           0.5,
           7.684818934934552,
           1.4705526676587293,
           0.4315420454124845,
           0.4,
           0.4
          ],
          [
           "porch shades outdoor roll up",
           6.392789260714372,
           2.1309297535714573,
           0.4690000933206747,
           0.3,
           0.3,
           7.684818934934552,
           1.7071513252480257,
           0.5009732673492617,
           0.4,
           0.4
          ],
          [
           "posh moomy",
           0,
           0,
           0,
           0,
           0,
           0,
           0,
           0,
           0,
           0
          ],
          [
           "pot organizer",
           4.892789260714372,
           1.3960148371100898,
           0.2048342475185909,
           0.2,
           0.2,
           6.392789260714372,
           1.3506711379627383,
           0.2972715964420571,
           0.3,
           0.3
          ],
          [
           "powdered lemonade drink mix",
           3.892789260714373,
           0.789804426584854,
           0.1158863008514019,
           0.2,
           0.2,
           4.892789260714372,
           1.0318242043477843,
           0.15139734109601,
           0.2,
           0.2
          ],
          [
           "power ball hand exerciser",
           0,
           0,
           0,
           0,
           0,
           5.754142376861158,
           1.3898639818452598,
           0.4078634915712081,
           0.4,
           0.4
          ],
          [
           "psp",
           0,
           0,
           0,
           0,
           0,
           5.790786294672542,
           0.6765153613062581,
           0.2977909215953565,
           0.3,
           0.6
          ],
          [
           "pumping backpack",
           4.892789260714372,
           1.379991869834018,
           0.2024832320725062,
           0.2,
           0.2,
           6.392789260714372,
           2.017782560805999,
           0.4440973278132556,
           0.3,
           0.3
          ],
          [
           "puzzle interlocking",
           3,
           1,
           0.07336392209936,
           0.1,
           0.1,
           3,
           3,
           0.2200917662980801,
           0.1,
           0.1
          ],
          [
           "quick grip american tool mini",
           0,
           0,
           0,
           0,
           0,
           0,
           0,
           0,
           0,
           0
          ],
          [
           "quickbooks'",
           7.684818934934552,
           1.7381470239809511,
           0.510069131458292,
           0.4,
           0.4,
           10.913998917962244,
           1.4997725777493431,
           0.7702043899253146,
           0.7,
           0.7
          ],
          [
           "rae dunn christmas mug",
           8.845377356638178,
           1.3399670253231608,
           0.491526182307598,
           0.5,
           0.5,
           9.913998917962244,
           1.1319156871989131,
           0.498250645792228,
           0.6,
           0.6
          ],
          [
           "rag doll kindergarten",
           0,
           0,
           0,
           0,
           0.1,
           0,
           0,
           0,
           0,
           0.1
          ],
          [
           "raid deep reach fogger",
           13.341613187947148,
           1.3341613187947148,
           0.9787930706003494,
           1,
           1,
           13.341613187947148,
           1.3341613187947148,
           0.9787930706003494,
           1,
           1
          ],
          [
           "razer kishi",
           0,
           0,
           0,
           0,
           0,
           9.22533481770356,
           1.153166852212945,
           0.8544599587974354,
           0.5,
           0.8
          ],
          [
           "red flannel nightgowns for women",
           5.392789260714372,
           1.453550411848082,
           0.3199144775469462,
           0.3,
           0.3,
           3.892789260714373,
           1.9463946303571864,
           0.2855902880722746,
           0.2,
           0.2
          ],
          [
           "red long sleeve dress",
           3,
           1.2920296742201791,
           0.0947883643695507,
           0.1,
           0.1,
           3,
           1.1605584217036249,
           0.085143117641621,
           0.1,
           0.1
          ],
          [
           "renogy 100w solar panel",
           4.2618595071429155,
           1.3026018174652083,
           0.1997766201493242,
           0.2,
           0.2,
           7.845377356638177,
           1.3390239322424249,
           0.5134064606231717,
           0.5,
           0.5
          ],
          [
           "reusable produce bags",
           3,
           3,
           0.2200917662980801,
           0.1,
           0.1,
           3,
           1.1605584217036249,
           0.085143117641621,
           0.1,
           0.1
          ],
          [
           "ribeye steaks",
           8.845377356638178,
           1.5412756740050444,
           0.5653701424067237,
           0.5,
           0.5,
           9.913998917962244,
           1.3347847950871623,
           0.5875502863571092,
           0.6,
           0.6
          ],
          [
           "rose petals for romantic night",
           6.392789260714372,
           1.1065941916258226,
           0.2435522702101235,
           0.3,
           0.3,
           4.892789260714372,
           1.397939623853158,
           0.2051166673279436,
           0.2,
           0.2
          ],
          [
           "rudin by ivan turgenev",
           13.315213137479308,
           1.3315213137479307,
           0.9768562593544076,
           1,
           1,
           13.243825207030495,
           1.3243825207030495,
           0.9716189607861264,
           1,
           1
          ],
          [
           "runa energy drink",
           7.684818934934552,
           1.1822949957569229,
           0.6153925060653322,
           0.4,
           0.4,
           7.684818934934552,
           1.6651396054259062,
           0.8667163765466583,
           0.4,
           0.4
          ],
          [
           "runtz",
           0,
           0,
           0,
           0,
           0,
           10.224458397520888,
           1.2124622156950244,
           0.6226568847846708,
           0.7,
           0.7
          ],
          [
           "rv sink drain",
           6.392789260714372,
           1.7868837451814157,
           0.4110745015388912,
           0.3,
           0.3,
           1,
           0.3333333333333333,
           0.0255612290047415,
           0,
           0.1
          ],
          [
           "samsung galaxy note 8 case",
           3,
           1.0686215613240666,
           0.0783982689786753,
           0.1,
           0.1,
           0,
           0,
           0,
           0,
           0
          ],
          [
           "science diet",
           0,
           0,
           0,
           0,
           0,
           4.892789260714372,
           0.9858557741580052,
           0.1446524924330643,
           0.2,
           0.2
          ],
          [
           "shark vacmop",
           0,
           0,
           0,
           0,
           0,
           4.892789260714372,
           2.14601483711009,
           0.4004488039359449,
           0.2,
           0.2
          ],
          [
           "slarm window sensor",
           3,
           3,
           0.2200917662980801,
           0.1,
           0.1,
           3,
           1.0686215613240666,
           0.0783982689786753,
           0.1,
           0.1
          ],
          [
           "slip in sneakers for men",
           0,
           0,
           0,
           0,
           0,
           0,
           0,
           0,
           0,
           0
          ],
          [
           "small cigarette case",
           6.392789260714372,
           2.1309297535714573,
           0.4690000933206747,
           0.3,
           0.3,
           6.392789260714372,
           1.9871369406794797,
           0.43735247915031,
           0.3,
           0.3
          ],
          [
           "smarty jr",
           0,
           0,
           0,
           0,
           0,
           0,
           0,
           0,
           0,
           0
          ],
          [
           "snuff bullet",
           8.845377356638178,
           1.724393848748413,
           0.6325414799409712,
           0.5,
           0.5,
           10.913998917962244,
           1.5401704852737013,
           0.7909506325094736,
           0.7,
           0.7
          ],
          [
           "spice variety pack",
           4.892789260714372,
           0.9731973151785932,
           0.1427951440361373,
           0.2,
           0.2,
           3,
           0.8671944789536635,
           0.0636207881989517,
           0.1,
           0.1
          ],
          [
           "ss officer",
           9.913998917962244,
           1.3819156871989131,
           0.6082965289412681,
           0.6,
           0.6,
           9.913998917962244,
           1.416285559708892,
           0.7273298443105218,
           0.6,
           0.7
          ],
          [
           "starbucks mugs you are here",
           11.86039354831943,
           1.4452570566176213,
           0.8482378089219647,
           0.8,
           0.8,
           13.630678014265037,
           1.3630678014265036,
           1,
           1,
           1
          ],
          [
           "still eyeliner",
           3,
           1.0686215613240666,
           0.0783982689786753,
           0.1,
           0.1,
           3,
           1.8927892607143724,
           0.1388624438735545,
           0.1,
           0.1
          ],
          [
           "stuffed animal washer bag",
           0,
           0,
           0,
           0,
           0,
           3,
           3,
           0.2200917662980801,
           0.1,
           0.1
          ],
          [
           "sundiata",
           4.892789260714372,
           1.1309297535714575,
           0.2489083270225946,
           0.2,
           0.3,
           13.630678014265037,
           1.3630678014265036,
           1,
           1,
           1
          ],
          [
           "super nes wires",
           3.892789260714373,
           0.6433248924902842,
           0.1603557976471755,
           0.2,
           0.3,
           4.2618595071429155,
           1.8333333333333333,
           0.3046523174128659,
           0.2,
           0.2
          ],
          [
           "surgical pathology",
           10.913998917962244,
           1.5514847926170616,
           0.7967610662472991,
           0.7,
           0.7,
           12.763483535311371,
           1.4181648372568192,
           0.9363792118010482,
           0.9,
           0.9
          ],
          [
           "sushi go card game",
           7.254142376861158,
           1.8135355942152895,
           0.6466492297915688,
           0.4,
           0.4,
           7.254142376861158,
           1.791623718795864,
           0.6388361505178799,
           0.4,
           0.4
          ],
          [
           "tcl a1x phone case straight talk",
           9.283069164390788,
           1.5268070389039845,
           0.6720753159774391,
           0.6,
           0.6,
           10.729463794747971,
           0.9900449235303412,
           0.5810686291579747,
           0.8,
           0.8
          ],
          [
           "telescopic handle",
           4.892789260714372,
           2.25,
           0.3450765915640106,
           0.2,
           0.2,
           4.892789260714372,
           2.0343107806620333,
           0.3119969023879004,
           0.2,
           0.2
          ],
          [
           "tetley",
           3,
           1.5,
           0.11004588314904,
           0.1,
           0.1,
           12.763483535311371,
           1.3855688436179348,
           0.914856882358379,
           0.9,
           0.9
          ],
          [
           "the first years gate parts",
           0,
           0,
           0,
           0,
           0.1,
           0,
           0,
           0,
           0,
           0.1
          ],
          [
           "the gallows",
           12.841613187947148,
           1.2841613187947147,
           0.9421111095506692,
           1,
           1,
           12.684376005175144,
           1.2684376005175144,
           0.9305755731226611,
           1,
           1
          ],
          [
           "thrive mascara",
           6.392789260714372,
           2.1309297535714573,
           0.5311576535478315,
           0.3,
           0.3,
           6.392789260714372,
           2.1309297535714573,
           0.5311576535478315,
           0.3,
           0.3
          ],
          [
           "trooper bandana shoe",
           12.763483535311371,
           1.4181648372568192,
           0.9363792118010482,
           0.9,
           0.9,
           12.763483535311371,
           1.4093648204342055,
           0.9305687780632228,
           0.9,
           0.9
          ],
          [
           "ultra fast keto boost 800mg",
           9.096469552654307,
           1.3457001170158058,
           0.6515768885367434,
           0.6,
           0.6,
           8.345377356638178,
           1.2563790555036891,
           0.5069403065466501,
           0.5,
           0.5
          ],
          [
           "uniball vision elite",
           0,
           0,
           0,
           0,
           0,
           4.892789260714372,
           2.446394630357186,
           0.3589542101716347,
           0.2,
           0.2
          ],
          [
           "usb camera",
           1,
           0.3562071871080222,
           0.0261327563262251,
           0,
           0.1,
           1,
           0.3333333333333333,
           0.0244546406997866,
           0,
           0.1
          ],
          [
           "used pc desktop",
           0,
           0,
           0,
           0,
           0,
           0,
           0,
           0,
           0,
           0
          ],
          [
           "wallets for men",
           0,
           0,
           0,
           0,
           0,
           0,
           0,
           0,
           0,
           0
          ],
          [
           "water brushes",
           3,
           1,
           0.07336392209936,
           0.1,
           0.1,
           4.892789260714372,
           1.223197315178593,
           0.1794771050858173,
           0.2,
           0.2
          ],
          [
           "wella 7r 810",
           0,
           0,
           0,
           0,
           0,
           3,
           3,
           0.2200917662980801,
           0.1,
           0.1
          ],
          [
           "white mesh bodysuit",
           4.892789260714372,
           2.0343107806620333,
           0.3119969023879004,
           0.2,
           0.2,
           10.58066558462891,
           1.4197890287078865,
           0.7621226025256583,
           0.7,
           0.7
          ],
          [
           "wiggle scooters for kids",
           8.845377356638178,
           1.5721302471088492,
           0.5766882048947065,
           0.5,
           0.5,
           9.913998917962244,
           1.453812093644902,
           0.6399441431116328,
           0.6,
           0.6
          ],
          [
           "winter cycling shoe covers",
           10.913998917962244,
           1.2657705069027756,
           0.650033222048579,
           0.7,
           0.7,
           11.229463794747971,
           1.3548987298737445,
           0.7952054789678342,
           0.8,
           0.8
          ],
          [
           "winter jacket",
           0,
           0,
           0,
           0,
           0,
           0,
           0,
           0,
           0,
           0
          ],
          [
           "wireless keyboard mouse combo",
           6.392789260714372,
           1.856207187108022,
           0.4085359184257956,
           0.3,
           0.3,
           7.684818934934552,
           1.5330674925049088,
           0.4498873763727655,
           0.4,
           0.4
          ],
          [
           "women sexy dresses for party",
           0,
           0,
           0,
           0,
           0,
           0,
           0,
           0,
           0,
           0
          ],
          [
           "women shawl for winter",
           3,
           1.0686215613240666,
           0.0783982689786753,
           0.1,
           0.1,
           3,
           1,
           0.07336392209936,
           0.1,
           0.1
          ],
          [
           "wooden stool",
           0,
           0,
           0,
           0,
           0,
           0,
           0,
           0,
           0,
           0
          ],
          [
           "woodwick wax melt",
           13.630678014265037,
           1.3630678014265036,
           1,
           1,
           1,
           13.630678014265037,
           1.3630678014265036,
           1,
           1,
           1
          ],
          [
           "world of warcraft anniversary collector's edition",
           10.913998917962244,
           1.504900507469097,
           0.772837825180752,
           0.7,
           0.7,
           10.913998917962244,
           1.36819004740672,
           0.7026305163854645,
           0.7,
           0.7
          ],
          [
           "wowled",
           0,
           0,
           0,
           0,
           0,
           11.86039354831943,
           1.4825491935399286,
           0.9094987067248556,
           0.8,
           0.8
          ],
          [
           "yarn purple and pink",
           6.754142376861158,
           1.0092064983806557,
           0.2961573877174654,
           0.4,
           0.4,
           5.2618595071429155,
           1.468211789346847,
           0.3231413260170123,
           0.3,
           0.3
          ]
         ],
         "hovertemplate": "l2arithmetic_mean0.0 dcg=%{x}<br>l2arithmetic_mean1.0 dcg=%{y}<br>query=%{customdata[0]}<br>l2arithmetic_mean0.0 dcg_dense=%{customdata[1]}<br>l2arithmetic_mean0.0 dg=%{customdata[2]}<br>l2arithmetic_mean0.0 ndcg=%{customdata[3]}<br>l2arithmetic_mean0.0 prec@10=%{customdata[4]}<br>l2arithmetic_mean0.0 ratio_of_ratings=%{customdata[5]}<br>l2arithmetic_mean1.0 dcg_dense=%{customdata[6]}<br>l2arithmetic_mean1.0 dg=%{customdata[7]}<br>l2arithmetic_mean1.0 ndcg=%{customdata[8]}<br>l2arithmetic_mean1.0 prec@10=%{customdata[9]}<br>l2arithmetic_mean1.0 ratio_of_ratings=%{customdata[10]}<extra></extra>",
         "legendgroup": "",
         "marker": {
          "color": "#636efa",
          "symbol": "circle"
         },
         "mode": "markers",
         "name": "",
         "orientation": "v",
         "showlegend": false,
         "type": "scatter",
         "x": [
          0.6666666666666666,
          7.253440496258619,
          0,
          1,
          0,
          5.568621561324067,
          7.98332235988885,
          0,
          0,
          11.737888753550664,
          10.393831978323323,
          1.8135891093108496,
          2.0636484086955686,
          5.568621561324067,
          0,
          3.446394630357186,
          0.3868528072345416,
          0,
          0.6666666666666666,
          1.903089986991944,
          7.516058909290206,
          0,
          12.763483535311371,
          8.632269970019635,
          0.7124143742160444,
          6.999742312775183,
          5.1069530520608115,
          5.66307372665998,
          2.4722193181839174,
          0,
          1,
          12.43015020197804,
          0,
          0.8613531161467861,
          1.8927892607143724,
          11.86039354831943,
          8.24846734363012,
          0,
          4.807747746503972,
          0,
          12.33864834004486,
          0,
          1,
          0,
          0,
          12.763483535311371,
          7.461410822038439,
          1.2920296742201791,
          0,
          0,
          0,
          6.199835126615804,
          5.130929753571458,
          0,
          1.5,
          4.160558421703625,
          0,
          0,
          0,
          3.9741475310144745,
          0,
          0,
          8.506979171088783,
          13.630678014265037,
          0,
          5.640900093422747,
          0,
          2.015016191681253,
          3.372972795919669,
          1.2920296742201791,
          4.068621561324067,
          5.360651235544246,
          3.7737056144690833,
          0,
          9.310895439387568,
          0,
          0,
          4.29202967422018,
          3,
          0,
          12.56205645294097,
          11.763483535311371,
          12.315213137479308,
          2.159224153173843,
          0,
          0.7461414348591218,
          0.9030899869919436,
          2.360651235544246,
          0,
          3.795879247706316,
          0.9030899869919436,
          0,
          1.2920296742201791,
          1.8135891093108496,
          0,
          1,
          5.027752900657289,
          0,
          0,
          1.1605584217036249,
          3.6309297535714578,
          13.630678014265037,
          5.446394630357187,
          0,
          1.0686215613240666,
          1.5,
          2.004444048436224,
          0.9030899869919436,
          13.040583192283169,
          3.7737056144690833,
          0,
          6.392789260714372,
          0,
          9.86039354831943,
          2.3671944789536634,
          0,
          5.795879247706316,
          3,
          1.2920296742201791,
          11.727588027273091,
          11.86039354831943,
          3.729179983027691,
          0,
          6.446394630357187,
          9.888404136201537,
          13.630678014265037,
          5.759983739668036,
          5.027752900657289,
          8.424299644239815,
          3,
          0,
          0,
          2.021911537850411,
          0,
          5.276875698824168,
          0,
          0,
          0,
          5.068621561324067,
          1.1605584217036249,
          4.920542161371661,
          0,
          1.0686215613240666,
          10.913998917962244,
          13.630678014265037,
          3.368812559203726,
          7.144070177777833,
          5.4525880959238044,
          0.9030899869919436,
          1.1605584217036249,
          10.781193396915906,
          2.0636484086955686,
          8.121969243742065,
          6.392789260714372,
          0,
          2.7920296742201796,
          1.579608853169708,
          0,
          0,
          2.759983739668036,
          1,
          0,
          6.9525880959238044,
          6.699835126615804,
          0,
          13.341613187947148,
          0,
          4.360651235544246,
          1.2920296742201791,
          2.6052036349304166,
          3,
          7.706378370025222,
          3.319782574877468,
          13.315213137479308,
          4.7291799830276915,
          0,
          5.360651235544246,
          1.0686215613240666,
          0,
          0,
          3,
          0,
          6.392789260714372,
          0,
          8.621969243742065,
          1.9463946303571864,
          8.291494123193479,
          11.56205645294097,
          1.0686215613240666,
          0,
          3.3927892607143724,
          1.9299746774708528,
          10.86039354831943,
          7.254142376861159,
          9.160842233423908,
          4.5,
          1.5,
          0,
          12.841613187947148,
          6.392789260714372,
          12.763483535311371,
          8.074200702094833,
          0,
          0.3562071871080222,
          0,
          0,
          1,
          0,
          4.068621561324067,
          7.860651235544246,
          8.86039354831943,
          0,
          5.568621561324067,
          0,
          1.0686215613240666,
          0,
          13.630678014265037,
          10.53430355228368,
          0,
          4.036825993522622
         ],
         "xaxis": "x",
         "y": [
          2,
          4.29202967422018,
          0,
          0.6020599913279624,
          0,
          3,
          7.49543056260184,
          3,
          0,
          11.737888753550664,
          12.340735220038551,
          2.446394630357186,
          3.0533476824179973,
          5.961410822038439,
          10.498408044245402,
          10.913998917962244,
          3.3562071871080223,
          0,
          0,
          0.9463946303571862,
          7.181511066864708,
          0,
          12.727588027273091,
          10.366936791728849,
          6.666494875183456,
          7.184818934934552,
          9.791771986995364,
          4.080751480370515,
          3,
          0,
          2.5,
          10.691514294303056,
          0.9463946303571862,
          6.623212623289701,
          0,
          12.727588027273091,
          7.008708770522974,
          0,
          3.03071774855958,
          0,
          12.470119592561412,
          0,
          0.9463946303571862,
          0,
          0,
          11.523724962204229,
          3,
          0,
          0,
          0,
          0,
          4.068621561324067,
          0,
          0,
          3.0533476824179973,
          4.892789260714372,
          0,
          0,
          12.470119592561412,
          5.025059230734008,
          0,
          0,
          7.69902221070325,
          13.630678014265037,
          0,
          10.177079413181309,
          7.995619283649168,
          4.781895277518447,
          5.52371901428583,
          3.795879247706316,
          7.184818934934552,
          6.525059230734008,
          3,
          8.791494123193479,
          9.16307372665998,
          1.8671944789536632,
          0,
          3.896559377323796,
          2.2920296742201796,
          7.021209657247871,
          12.56205645294097,
          11.471453861091195,
          11.856972399795954,
          1.8671944789536632,
          0,
          1.9229594277916369,
          0,
          3.903089986991944,
          0,
          0.9030899869919436,
          3,
          4.892789260714372,
          1.5,
          5.961410822038439,
          5.795879247706316,
          0.9030899869919436,
          1.1605584217036249,
          0,
          0,
          1.0686215613240666,
          3.6309297535714578,
          13.630678014265037,
          2.8927892607143724,
          10.067029605569468,
          1.7702844659456072,
          3,
          0,
          1.8927892607143724,
          12.985406000839124,
          3.1309297535714578,
          0,
          3.5277529006572883,
          0,
          11.643541073585558,
          2.759983739668036,
          2.795879247706316,
          8.25344049625862,
          10.498408044245402,
          4.053347682417997,
          9.791771986995364,
          12.462453539647392,
          9.328605300992102,
          0,
          6.839183891071558,
          1.7702844659456072,
          13.630678014265037,
          12.99974826069358,
          11.68428338390785,
          8.807045865901433,
          10.834798766558722,
          0,
          13.630678014265037,
          1.4981242325251212,
          5.79202967422018,
          5.731113977424542,
          2.4525880959238044,
          0,
          0,
          3.43581604027773,
          4.5,
          4.7291799830276915,
          0,
          2.403089986991944,
          10.913998917962244,
          13.630678014265037,
          3.521209657247871,
          8.388404136201535,
          4.907805452395625,
          1.903089986991944,
          1.8671944789536632,
          12.763483535311371,
          1.5,
          5.882210670634917,
          6.828605300992103,
          0,
          4.052013413888216,
          2.0636484086955686,
          5.559455927381039,
          4.059092167837549,
          6.053347682417997,
          3,
          0,
          10.498408044245402,
          6.791494123193479,
          0,
          13.341613187947148,
          9.22533481770356,
          3.892789260714373,
          1.1605584217036249,
          6.695119661212123,
          1.1605584217036249,
          8.008708770522974,
          2.795879247706316,
          13.243825207030495,
          6.660558421703625,
          8.48723550986517,
          0.3333333333333333,
          0,
          1.9717115483160104,
          4.29202967422018,
          1.0686215613240666,
          0,
          5.961410822038439,
          0,
          10.781193396915906,
          0.8671944789536635,
          9.913998917962244,
          13.630678014265037,
          1.8927892607143724,
          3,
          13.630678014265037,
          3.6666666666666665,
          12.763483535311371,
          7.166494875183456,
          7.92035938824273,
          4.068621561324067,
          12.470119592561412,
          0,
          12.684376005175144,
          6.392789260714372,
          12.68428338390785,
          6.281895277518448,
          4.892789260714372,
          0.3333333333333333,
          0,
          0,
          2.446394630357186,
          3,
          9.938523200955204,
          8.722872561869412,
          10.839189838989956,
          0,
          6.132269970019635,
          0,
          1,
          0,
          13.630678014265037,
          9.57733033184704,
          11.86039354831943,
          4.404635368040541
         ],
         "yaxis": "y"
        }
       ],
       "layout": {
        "autosize": true,
        "legend": {
         "tracegroupgap": 0
        },
        "margin": {
         "t": 60
        },
        "template": {
         "data": {
          "bar": [
           {
            "error_x": {
             "color": "#2a3f5f"
            },
            "error_y": {
             "color": "#2a3f5f"
            },
            "marker": {
             "line": {
              "color": "#E5ECF6",
              "width": 0.5
             },
             "pattern": {
              "fillmode": "overlay",
              "size": 10,
              "solidity": 0.2
             }
            },
            "type": "bar"
           }
          ],
          "barpolar": [
           {
            "marker": {
             "line": {
              "color": "#E5ECF6",
              "width": 0.5
             },
             "pattern": {
              "fillmode": "overlay",
              "size": 10,
              "solidity": 0.2
             }
            },
            "type": "barpolar"
           }
          ],
          "carpet": [
           {
            "aaxis": {
             "endlinecolor": "#2a3f5f",
             "gridcolor": "white",
             "linecolor": "white",
             "minorgridcolor": "white",
             "startlinecolor": "#2a3f5f"
            },
            "baxis": {
             "endlinecolor": "#2a3f5f",
             "gridcolor": "white",
             "linecolor": "white",
             "minorgridcolor": "white",
             "startlinecolor": "#2a3f5f"
            },
            "type": "carpet"
           }
          ],
          "choropleth": [
           {
            "colorbar": {
             "outlinewidth": 0,
             "ticks": ""
            },
            "type": "choropleth"
           }
          ],
          "contour": [
           {
            "colorbar": {
             "outlinewidth": 0,
             "ticks": ""
            },
            "colorscale": [
             [
              0,
              "#0d0887"
             ],
             [
              0.1111111111111111,
              "#46039f"
             ],
             [
              0.2222222222222222,
              "#7201a8"
             ],
             [
              0.3333333333333333,
              "#9c179e"
             ],
             [
              0.4444444444444444,
              "#bd3786"
             ],
             [
              0.5555555555555556,
              "#d8576b"
             ],
             [
              0.6666666666666666,
              "#ed7953"
             ],
             [
              0.7777777777777778,
              "#fb9f3a"
             ],
             [
              0.8888888888888888,
              "#fdca26"
             ],
             [
              1,
              "#f0f921"
             ]
            ],
            "type": "contour"
           }
          ],
          "contourcarpet": [
           {
            "colorbar": {
             "outlinewidth": 0,
             "ticks": ""
            },
            "type": "contourcarpet"
           }
          ],
          "heatmap": [
           {
            "colorbar": {
             "outlinewidth": 0,
             "ticks": ""
            },
            "colorscale": [
             [
              0,
              "#0d0887"
             ],
             [
              0.1111111111111111,
              "#46039f"
             ],
             [
              0.2222222222222222,
              "#7201a8"
             ],
             [
              0.3333333333333333,
              "#9c179e"
             ],
             [
              0.4444444444444444,
              "#bd3786"
             ],
             [
              0.5555555555555556,
              "#d8576b"
             ],
             [
              0.6666666666666666,
              "#ed7953"
             ],
             [
              0.7777777777777778,
              "#fb9f3a"
             ],
             [
              0.8888888888888888,
              "#fdca26"
             ],
             [
              1,
              "#f0f921"
             ]
            ],
            "type": "heatmap"
           }
          ],
          "heatmapgl": [
           {
            "colorbar": {
             "outlinewidth": 0,
             "ticks": ""
            },
            "colorscale": [
             [
              0,
              "#0d0887"
             ],
             [
              0.1111111111111111,
              "#46039f"
             ],
             [
              0.2222222222222222,
              "#7201a8"
             ],
             [
              0.3333333333333333,
              "#9c179e"
             ],
             [
              0.4444444444444444,
              "#bd3786"
             ],
             [
              0.5555555555555556,
              "#d8576b"
             ],
             [
              0.6666666666666666,
              "#ed7953"
             ],
             [
              0.7777777777777778,
              "#fb9f3a"
             ],
             [
              0.8888888888888888,
              "#fdca26"
             ],
             [
              1,
              "#f0f921"
             ]
            ],
            "type": "heatmapgl"
           }
          ],
          "histogram": [
           {
            "marker": {
             "pattern": {
              "fillmode": "overlay",
              "size": 10,
              "solidity": 0.2
             }
            },
            "type": "histogram"
           }
          ],
          "histogram2d": [
           {
            "colorbar": {
             "outlinewidth": 0,
             "ticks": ""
            },
            "colorscale": [
             [
              0,
              "#0d0887"
             ],
             [
              0.1111111111111111,
              "#46039f"
             ],
             [
              0.2222222222222222,
              "#7201a8"
             ],
             [
              0.3333333333333333,
              "#9c179e"
             ],
             [
              0.4444444444444444,
              "#bd3786"
             ],
             [
              0.5555555555555556,
              "#d8576b"
             ],
             [
              0.6666666666666666,
              "#ed7953"
             ],
             [
              0.7777777777777778,
              "#fb9f3a"
             ],
             [
              0.8888888888888888,
              "#fdca26"
             ],
             [
              1,
              "#f0f921"
             ]
            ],
            "type": "histogram2d"
           }
          ],
          "histogram2dcontour": [
           {
            "colorbar": {
             "outlinewidth": 0,
             "ticks": ""
            },
            "colorscale": [
             [
              0,
              "#0d0887"
             ],
             [
              0.1111111111111111,
              "#46039f"
             ],
             [
              0.2222222222222222,
              "#7201a8"
             ],
             [
              0.3333333333333333,
              "#9c179e"
             ],
             [
              0.4444444444444444,
              "#bd3786"
             ],
             [
              0.5555555555555556,
              "#d8576b"
             ],
             [
              0.6666666666666666,
              "#ed7953"
             ],
             [
              0.7777777777777778,
              "#fb9f3a"
             ],
             [
              0.8888888888888888,
              "#fdca26"
             ],
             [
              1,
              "#f0f921"
             ]
            ],
            "type": "histogram2dcontour"
           }
          ],
          "mesh3d": [
           {
            "colorbar": {
             "outlinewidth": 0,
             "ticks": ""
            },
            "type": "mesh3d"
           }
          ],
          "parcoords": [
           {
            "line": {
             "colorbar": {
              "outlinewidth": 0,
              "ticks": ""
             }
            },
            "type": "parcoords"
           }
          ],
          "pie": [
           {
            "automargin": true,
            "type": "pie"
           }
          ],
          "scatter": [
           {
            "fillpattern": {
             "fillmode": "overlay",
             "size": 10,
             "solidity": 0.2
            },
            "type": "scatter"
           }
          ],
          "scatter3d": [
           {
            "line": {
             "colorbar": {
              "outlinewidth": 0,
              "ticks": ""
             }
            },
            "marker": {
             "colorbar": {
              "outlinewidth": 0,
              "ticks": ""
             }
            },
            "type": "scatter3d"
           }
          ],
          "scattercarpet": [
           {
            "marker": {
             "colorbar": {
              "outlinewidth": 0,
              "ticks": ""
             }
            },
            "type": "scattercarpet"
           }
          ],
          "scattergeo": [
           {
            "marker": {
             "colorbar": {
              "outlinewidth": 0,
              "ticks": ""
             }
            },
            "type": "scattergeo"
           }
          ],
          "scattergl": [
           {
            "marker": {
             "colorbar": {
              "outlinewidth": 0,
              "ticks": ""
             }
            },
            "type": "scattergl"
           }
          ],
          "scattermapbox": [
           {
            "marker": {
             "colorbar": {
              "outlinewidth": 0,
              "ticks": ""
             }
            },
            "type": "scattermapbox"
           }
          ],
          "scatterpolar": [
           {
            "marker": {
             "colorbar": {
              "outlinewidth": 0,
              "ticks": ""
             }
            },
            "type": "scatterpolar"
           }
          ],
          "scatterpolargl": [
           {
            "marker": {
             "colorbar": {
              "outlinewidth": 0,
              "ticks": ""
             }
            },
            "type": "scatterpolargl"
           }
          ],
          "scatterternary": [
           {
            "marker": {
             "colorbar": {
              "outlinewidth": 0,
              "ticks": ""
             }
            },
            "type": "scatterternary"
           }
          ],
          "surface": [
           {
            "colorbar": {
             "outlinewidth": 0,
             "ticks": ""
            },
            "colorscale": [
             [
              0,
              "#0d0887"
             ],
             [
              0.1111111111111111,
              "#46039f"
             ],
             [
              0.2222222222222222,
              "#7201a8"
             ],
             [
              0.3333333333333333,
              "#9c179e"
             ],
             [
              0.4444444444444444,
              "#bd3786"
             ],
             [
              0.5555555555555556,
              "#d8576b"
             ],
             [
              0.6666666666666666,
              "#ed7953"
             ],
             [
              0.7777777777777778,
              "#fb9f3a"
             ],
             [
              0.8888888888888888,
              "#fdca26"
             ],
             [
              1,
              "#f0f921"
             ]
            ],
            "type": "surface"
           }
          ],
          "table": [
           {
            "cells": {
             "fill": {
              "color": "#EBF0F8"
             },
             "line": {
              "color": "white"
             }
            },
            "header": {
             "fill": {
              "color": "#C8D4E3"
             },
             "line": {
              "color": "white"
             }
            },
            "type": "table"
           }
          ]
         },
         "layout": {
          "annotationdefaults": {
           "arrowcolor": "#2a3f5f",
           "arrowhead": 0,
           "arrowwidth": 1
          },
          "autotypenumbers": "strict",
          "coloraxis": {
           "colorbar": {
            "outlinewidth": 0,
            "ticks": ""
           }
          },
          "colorscale": {
           "diverging": [
            [
             0,
             "#8e0152"
            ],
            [
             0.1,
             "#c51b7d"
            ],
            [
             0.2,
             "#de77ae"
            ],
            [
             0.3,
             "#f1b6da"
            ],
            [
             0.4,
             "#fde0ef"
            ],
            [
             0.5,
             "#f7f7f7"
            ],
            [
             0.6,
             "#e6f5d0"
            ],
            [
             0.7,
             "#b8e186"
            ],
            [
             0.8,
             "#7fbc41"
            ],
            [
             0.9,
             "#4d9221"
            ],
            [
             1,
             "#276419"
            ]
           ],
           "sequential": [
            [
             0,
             "#0d0887"
            ],
            [
             0.1111111111111111,
             "#46039f"
            ],
            [
             0.2222222222222222,
             "#7201a8"
            ],
            [
             0.3333333333333333,
             "#9c179e"
            ],
            [
             0.4444444444444444,
             "#bd3786"
            ],
            [
             0.5555555555555556,
             "#d8576b"
            ],
            [
             0.6666666666666666,
             "#ed7953"
            ],
            [
             0.7777777777777778,
             "#fb9f3a"
            ],
            [
             0.8888888888888888,
             "#fdca26"
            ],
            [
             1,
             "#f0f921"
            ]
           ],
           "sequentialminus": [
            [
             0,
             "#0d0887"
            ],
            [
             0.1111111111111111,
             "#46039f"
            ],
            [
             0.2222222222222222,
             "#7201a8"
            ],
            [
             0.3333333333333333,
             "#9c179e"
            ],
            [
             0.4444444444444444,
             "#bd3786"
            ],
            [
             0.5555555555555556,
             "#d8576b"
            ],
            [
             0.6666666666666666,
             "#ed7953"
            ],
            [
             0.7777777777777778,
             "#fb9f3a"
            ],
            [
             0.8888888888888888,
             "#fdca26"
            ],
            [
             1,
             "#f0f921"
            ]
           ]
          },
          "colorway": [
           "#636efa",
           "#EF553B",
           "#00cc96",
           "#ab63fa",
           "#FFA15A",
           "#19d3f3",
           "#FF6692",
           "#B6E880",
           "#FF97FF",
           "#FECB52"
          ],
          "font": {
           "color": "#2a3f5f"
          },
          "geo": {
           "bgcolor": "white",
           "lakecolor": "white",
           "landcolor": "#E5ECF6",
           "showlakes": true,
           "showland": true,
           "subunitcolor": "white"
          },
          "hoverlabel": {
           "align": "left"
          },
          "hovermode": "closest",
          "mapbox": {
           "style": "light"
          },
          "paper_bgcolor": "white",
          "plot_bgcolor": "#E5ECF6",
          "polar": {
           "angularaxis": {
            "gridcolor": "white",
            "linecolor": "white",
            "ticks": ""
           },
           "bgcolor": "#E5ECF6",
           "radialaxis": {
            "gridcolor": "white",
            "linecolor": "white",
            "ticks": ""
           }
          },
          "scene": {
           "xaxis": {
            "backgroundcolor": "#E5ECF6",
            "gridcolor": "white",
            "gridwidth": 2,
            "linecolor": "white",
            "showbackground": true,
            "ticks": "",
            "zerolinecolor": "white"
           },
           "yaxis": {
            "backgroundcolor": "#E5ECF6",
            "gridcolor": "white",
            "gridwidth": 2,
            "linecolor": "white",
            "showbackground": true,
            "ticks": "",
            "zerolinecolor": "white"
           },
           "zaxis": {
            "backgroundcolor": "#E5ECF6",
            "gridcolor": "white",
            "gridwidth": 2,
            "linecolor": "white",
            "showbackground": true,
            "ticks": "",
            "zerolinecolor": "white"
           }
          },
          "shapedefaults": {
           "line": {
            "color": "#2a3f5f"
           }
          },
          "ternary": {
           "aaxis": {
            "gridcolor": "white",
            "linecolor": "white",
            "ticks": ""
           },
           "baxis": {
            "gridcolor": "white",
            "linecolor": "white",
            "ticks": ""
           },
           "bgcolor": "#E5ECF6",
           "caxis": {
            "gridcolor": "white",
            "linecolor": "white",
            "ticks": ""
           }
          },
          "title": {
           "x": 0.05
          },
          "xaxis": {
           "automargin": true,
           "gridcolor": "white",
           "linecolor": "white",
           "ticks": "",
           "title": {
            "standoff": 15
           },
           "zerolinecolor": "white",
           "zerolinewidth": 2
          },
          "yaxis": {
           "automargin": true,
           "gridcolor": "white",
           "linecolor": "white",
           "ticks": "",
           "title": {
            "standoff": 15
           },
           "zerolinecolor": "white",
           "zerolinewidth": 2
          }
         }
        },
        "xaxis": {
         "anchor": "y",
         "autorange": true,
         "domain": [
          0,
          1
         ],
         "range": [
          -0.8237095114505548,
          14.454387525715592
         ],
         "title": {
          "text": "l2arithmetic_mean0.0 dcg"
         },
         "type": "linear"
        },
        "yaxis": {
         "anchor": "x",
         "autorange": true,
         "domain": [
          0,
          1
         ],
         "range": [
          -1.0553937045165842,
          14.686071718781621
         ],
         "title": {
          "text": "l2arithmetic_mean1.0 dcg"
         },
         "type": "linear"
        }
       }
      },
      "image/png": "iVBORw0KGgoAAAANSUhEUgAABF4AAAFoCAYAAABuXz/oAAAgAElEQVR4XuydB5gURfrG3wksOS1ZMCBRBRWQIIgRAQU8JIkiStRD/+iZz3inmFFRQQwIeHggiGBCQUVPRUGJIqgkBQWUHJe80/OvmmXZmZ1ddma6e6q6+63nEe+kK/2+mqmat7/6Pl9YFLCQAAmQAAmQAAmQAAmQAAmQAAmQAAmQAAlYTsBH4cVypmyQBEiABEiABEiABEiABEiABEiABEiABCIEKLxwIZAACZAACZAACZAACZAACZAACZAACZCATQQovNgEls2SAAmQAAmQAAmQAAmQAAmQAAmQAAmQAIUXrgESIAESIAESIAESIAESIAESIAESIAESsIkAhRebwLJZEiABEiABEiABEiABEiABEiABEiABEqDwwjVAAiRAAiRAAiRAAiRAAiRAAiRAAiRAAjYRoPBiE1g2SwIkQAIkQAIkQAIkQAIkQAIkQAIkQAIUXrgGSIAESIAESIAESIAESIAESIAESIAESMAmAhRebALLZkmABEiABEiABEiABEiABEiABEiABEiAwgvXAAmQAAmQAAmQAAmQAAmQAAmQAAmQAAnYRIDCi01g2SwJkAAJkAAJkAAJkAAJkAAJkAAJkAAJUHjhGiABEiABEiABEiABEiABEiABEiABEiABmwhQeLEJLJslARIgARIgARIgARIgARIgARIgARIgAQovXAMkQAIkQAIkQAIkQAIkQAIkQAIkQAIkYBMBCi82gWWzJEACJEACJEACJEACJEACJEACJEACJEDhhWuABEiABEiABEiABEiABEiABEiABEiABGwiQOHFJrBslgRIgARIgARIgARIgARIgARIgARIgAQovHANkAAJkAAJkAAJkAAJkAAJkAAJkAAJkIBNBCi82ASWzZIACZAACZAACZAACZAACZAACZAACZAAhReuARIgARIgARIgARIgARIgARIgARIgARKwiQCFF5vAslkSIAESIAESIAESIAESIAESIAESIAESoPDCNUACJEACJEACJEACJEACJEACJEACJEACNhGg8GITWDZLAiRAAiRAAiRAAiRAAiRAAiRAAiRAAhReuAZIgARIgARIgARIgARIgARIgARIgARIwCYCFF5sAstmSYAESIAESIAESIAESIAESIAESIAESIDCC9cACZAACZAACZAACZAACZAACZAACZAACdhEgMKLTWDZLAmQAAmQAAmQAAmQAAmQAAmQAAmQAAlQeOEaIAESIAESIAESIAESIAESIAESIAESIAGbCFB4sQksmyUBEiABEiABEiABEiABEiABEiABEiABCi9cAyRAAiRAAiRAAiRAAiRAAiRAAiRAAiRgEwEKLzaBZbMkQAIkQAIkQAIkQAIkQAIkQAIkQAIkQOGFa4AESIAESIAESIAESIAESIAESIAESIAEbCJA4cUmsGyWBEiABEiABEiABEiABEiABEiABEiABCi8cA2QAAmQAAmQAAmQAAmQAAmQAAmQAAmQgE0EKLzYBJbNkgAJkAAJkAAJkAAJkAAJkAAJkAAJkACFF64BEiABEiABEiABEiABEiABEiABEiABErCJAIUXm8CyWRIgARIgARIgARIgARIgARIgARIgARKg8MI1QAIkQAIkQAIkQAIkQAIkQAIkQAIkQAI2EaDwYhNYNksCJEACJEACJEACJEACJEACJEACJEACFF64BkiABEiABEiABEiABEiABEiABEiABEjAJgIUXmwCy2ZJgARIgARIgARIgARIgARIgARIgARIgMIL1wAJkAAJkAAJkAAJkAAJkAAJkAAJkAAJ2ESAwotNYNksCZAACZAACZAACZAACZAACZAACZAACVB44RogARIgARIgARIgARIgARIgARIgARIgAZsIUHixCSybJQESIAESIAESIAESIAESIAESIAESIAEKL1wDJEACJEACJEACJEACJEACJEACJEACJGATAQovNoFlsyRAAiRAAiRAAiRAAiRAAiRAAiRAAiRA4YVrgARIgARIgARIgARIgARIgARIgARIgARsIkDhxSawbJYESIAESIAESIAESIAESIAESIAESIAEKLxwDZAACZAACZAACZAACZAACZAACZAACZCATQQovNgEls2SAAmQAAmQAAmQAAmQAAmQAAmQAAmQAIUXrgESIAESIAESIAESIAESIAESIAESIAESsIkAhRebwLJZEiABEiABEiABEiABEiABEiABEiABEqDwwjVAAiRAAiRAAiRAAiRAAiRAAiRAAiRAAjYRoPBiE1g2SwIkQAIkQAIkQAIkQAIkQAIkQAIkQAIUXrgGSIAESIAESIAESIAESIAESIAESIAESMAmAhRebALLZkmABEiABEiABEiABEiABEiABEiABEiAwgvXAAmQAAmQAAmQAAmQAAmQAAmQAAmQAAnYRIDCi01g2SwJkAAJkAAJkAAJkAAJkAAJkAAJkAAJUHgxuQb+3H7AZAt6VC9ZPICKZTJw4FA2dmYd0WNQHIXtBMqUCMLv92HPftrcdtgadXBCpZJwy3eXRli1Hor8fj94JCS+40Naj5ODs45ARtCPcqWLYdvuQ9Y1ypa0J1ClQgns2nsIR0Jh7cfKAVpDoJQ4y2UEfNi1j2c5a4g6oxUVZznZJ0vqBCi8pM4uUtMtP15KZgjhpawUXkJCeDlskgqrO4UAhRenWMracarYrK2dAVtLlgCFl2SJOf95Ci/Ot2EqM6Dwkgo1Z9eh8OJs+6U6ehVnOQovqVorpx6FF3P8KLyY5MfqaglQeFHLX1XvKjZrVXNlvzkEKLx4byVQePGezeWMKbx4z+4UXrxnczljFWc5Ci/m1hqFF3P8KLyY5MfqaglQeFHLX1XvKjZrVXNlvxRevLoGKLx40/IUXrxndwov3rM5hRdn2pzCi0m78aqRSYCsrpQAhRel+JV1TuFFGXplHdPjRRl6ZR1TeFGGXmnHFF6U4lfSOYUXJdiVd6riLEePF3Nmp/Bijh89XkzyY3W1BCi8qOWvqncVm7WqubJferx4dQ1QePGm5Sm8eM/uFF68Z3N6vDjT5hReTNqNHi8mAbK6UgIUXpTiV9Y5hRdl6JV1TI8XZeiVdUzhRRl6pR1TeFGKX0nnFF6UYFfeqYqzHD1ezJmdwos5fvR4McmP1dUSoPCilr+q3lVs1qrmyn7p8eLVNUDhxZuWp/DiPbtTePGezenx4kybU3gxaTd6vJgEyOpKCVB4UYpfWecUXpShV9YxPV6UoVfWMYUXZeiVdkzhRSl+JZ1TeFGCXXmnKs5y9HgxZ3YKL+b40ePFJD9WV0uAwota/qp6V7FZq5or+6XHi1fXAIUXb1qewov37E7hxXs2p8eLM21O4cWk3ejxYhIgqyslQOFFKX5lnVN4UYZeWcf0eFGGXlnHFF6UoVfaMYUXpfiVdE7hRQl25Z2qOMvR48Wc2Sm8mOPnGo+XYoEA9u0phnLlDBwMHTZJhdWdQoDCi32WOiQ+Rtu2+VCtahjBoH39pNKyis06lXGyjnUEKLxYx9IpLVF4cYqlrB0nhRdreabSWnYI2LzZh0qZYZQokUoLydWh8JIcr3Q9/etq4LtFPnS8LIxK5a3vVcVZjsKLOTtSeDHHzxXCy7rffZg6LYC9WYDPB3S41EDrVoZJMqzuBAIUXuyx0vfz/Zj1mR8hcfgqWRK4qmcIp54StqezFFpVsVmnMExWsZAAhRcLYTqkKQovDjGUxcOk8GIx0CSbk2fqt8WZOiuNZ2oKL0kaKQ2PD3s8iMNHcn5XyXLiiQYG97f2t5WKsxyFF3OLh8KLOX6OF17kxvD8KPHlkM/JpWe3EBo30ueHokkzsXohBCi8WL80Vq7yYeLkQEzD0uPlH0NDKFdWj8+Uis3aetJsMRkCFF6SoeWOZym8uMOOyc6CwkuyxKx7fs9eH158KRB3pr66l4HTGlr7ozt61BRerLOhFS09+4Ifu3f7Y5qSp7+unbPRrKkVPeS0oeIsR+HFnP0ovJjj53jh5ZcVfrz1duyXg0TSvKmBLp3t2yRMYmd1iwhQeLEIZFQzH87wY8Hi+M+UTmKmis3aetJsMRkCFF6SoeWOZym8uMOOyc6CwkuyxKx7ftly4UE+PfbFSzrO1BRerLOhFS3965EgCnrNVr1aGDfdKFyhLSoqznIUXswZj8KLOX6OF17Wb/BhzLj4TeLCCwxcLP5hcTcBCi/W2/frb/yY/UW88DJ4QAgn1qLHi/XE2WIiBCi8JELJXc9QeHGXPROdDYWXRElZ/1xhZ+p2Fxs4/zz7ztQUXqy15b59EB4rQPXqgD/+OFdkZ/8aFkA4fPSOUdTT9eqE0LePdedACi9FmkK7Byi8mDSJ07MahcXnf/JUP6TnS27JrBhG/34GymtyLcKkiVj9OAQovFi/PPbvB14bG8COnXmbboP6Bq65yjh219f6XpNrUcVmndwI+bTVBCi8WE1U//YovOhvIztGSOHFDqqJtSnP1NKLfMXK2DP1DQNDKFUqsTZSeYrCSyrU4utI+338iR8yTp8slSqF0ae3gcri38mUufN8mPlpIO7M9+C92ShWLJmWjv+sirMcPV7M2Y/Cizl+jvd4kdOXXzSLFwfw21o/qlQGWrQ8glIiICiL+wlQeLHHxlJ8+XaeH5u2+FD75HAkWHUqb03sGZ2ae8F2zYXtJkaAwktinNz0FIUXN1kz8blQeEmclR1PGsKxZf5CP1b/6kMV8YP9/LaG7WdqCi/mLSkzUU2cFMCva32R30WyyMC4MjbfbbeGEEjS82XZT8A74tqZbCsjw4d77rBWdJHjo/Bi3u7pbkEr4WX7zj04JHOwFlCCIjpl1coV0s2nyP6c7vGSO8GSGQFULJuBA4dC2JnFdNJFGt4lD1B4cYkhk5yGis06ySHycYsJUHixGKgDmqPw4gAj2TBECi82QNW8SQov5gwkM1BOmBjA2nV5nsoR7UX8IcWXoTeFxIvp5LxezI0osdoqznL0eEnMNoU9pZXw0nvII1j2y2+FzqhalYq46oqL0e+qjiieYaGvlgmGFF5MwGNV5QQovCg3gZIBqNislUyUnR4jQOHFe4uBwov3bC5nTOHFe3an8GLO5qvX+PCm8HbJX6TUIqWYu27LRtmy5vqwo7aKsxyFF3OW1Ep4GfrAi1i55g/8Y3DPY7M6eOgQHnx6HLq0b41KFcrhjbdnoV+vjrjrpt7mZm5RbQovFoFkM0oIUHhRgl15pyo2a+WTdvgAtm33YZVIVV5WuD03rB9GsYzkJkThJTlebniawosbrJj8HCi8JM/M6TUovAAHDwLbd/hQTWQOCsZrKMc18Rdf+fGl+Kcg5aWtCIp86SX2BUY2s/ZUnOUovJixmBDywqKYa8K62m27DkWvKy7C0AHdYhq9e9grWPXbBrw3/lEMGzEBs+cswlfTX7CuYxMtUXgxAY9VlROg8KLcBEoGoGKzVjJRl3S6cpUfU97xIzs7Z0LVqgH9+2YnFayRwotLFkMS06DwkgQsFz1K4cVFxkxwKl4XXuZ8m5NNUv6iLVsmjB7dDNQ+JfGft/LFxuhXA8f22FzsMj5Pu4v0FF3kGFWc5Si8JPihLOQxrYSX5pfdiAvOPRvPPDQkZrjDR0/Gm9M+xY+fj8Okdz/Hk6MmRv63DoXCiw5W4BhSJUDhJVVyzq6nYrN2NjF1oz98BHj6mSDkv6NLs6Zh/K2zuJieYKHwkiAoFz1G4cVFxkxiKhRekoDlkke9LLwsW+7DVBHENrpkCI/Qf/xfNsqUSdzAq1aLdqYFIEONBkRzcn89+6zExZvEe7LuSRVnOQov5uynlfBy493P4pv5yzDhxfvQpFE9kQXEhx279qLD1XeicmZ5zJz4NJ55ZQomTp+NJZ+OMTdzi2pTeLEIJJtRQoDCixLsyjtVsVkrn7RDB7B+gw9jxsX7Tcs0l7feTOHFoWZNy7ApvKQFs3adOF14kdlltmwGMjOBEiVy8Mr/tnmzD5Uyw8f+m3bgFQ7Iy8LLhzP8WLA4/ppQ32tCqFc3OeFEvuDYslVkoxKBdIsneZ1XhflVnOUovJiztFbCy8ZN29D5untxWKz8DBE8t0ypEhHhRZbxI/6JFk0a4pqbhsEQvmSTX37I3Mwtqk3hxSKQbEYJAQovSrAr71TFZq180g4dgHSdfuxJerw41HxKh03hRSl+ZZ07WXjZsNGHSVMCyMrKwXfJhQZOPjmMt4UngvxvMsNMh0sNtG6l7/UPKw2//wDw9Rw/toqrMPXqhNGyuRFhkL84WXj59TcfFi3JEU7ObWngxFrJiSWfzvbjm7nxwsvgAaGk27LSduloS8VZjsKLOctqJbzIqezeuw/jJ8/EshW/Yd/+gzjlxOroc2U7ND7tVHMztak2hRebwLLZtBCg8JIWzNp1omKz1g6CgwbEGC8OMpZGQ6XwopEx0jgUpwovUmR47gUhMourHrlFCs9BkcQ0dDS+Ve5/v7qXgdMault82b3Xh3Hj/di5K09pkXPu3TNefHGq8LL4Bx/e/UB4dB7VWvxCP7lKzO+3tcCy5X6ULhWOiGznNCtcjNm9x4fx//Fjx848To3PkHFeQgWKVGn8KNrelYqzHIUXc2bVSnjZvHUnFi9bhaaN60Omjs4tn3y5AFUrV4hcP9KtUHjRzSIcTzIEKLwkQ8s9z6rYrN1DT81MmNVIDXcn90rhxcnWS33sThVeCkrpm5vONz+N5k0NdOnsbuElGU8OnYQXmV1oxw6gqggCX1R2oUceD8YFtPULHcbId4v2ik6h44ov+/cLz6Bv/JD7ZJ1Tw2jVomDPoNQ/VXrWVHGWo/Bibi1oJbw88NRYfPT5d/jynedRvlzpYzO759FX8enXC7Fg5iviQ5xkjjBzfIqsTeGlSER8QGMCFF40No6NQ1OxWds4HTadAAEG100AksseofDiMoMmOB2nCi9bt/kwcnS+M34hyku7iw2cL9L8urlMmBjAml/j7xV17mSgRbPYuesivOTPLtT7KnF1qGbB3ip79gDDnw8i/wwLMnkt0cYNAxOPaebmdRE9NxVnOQov5laXVsJLu16347wWZ+Lfd/aLmZVMJX3lgAci6aTr1a5lbsYW13aD8LJXhNGZ9UkAq9b4ULWqDx3bZ7v+XqTFyyCl5qRb7cczA1ixyoeKwsGrY/sQ6tRO7m5rSh1HVaLwYpagM+ur2KydSco9o6bw4h5bJjoTCi+JknLXc04VXqQVpr0bwNJleT/Fy5UNo0pV4NcoASKzYs6P8FKl3GW3/LOR2XpkbBtZJJGw+EOEv8RtQ+Oz9VgtvKxd58Mnn+V4kNStY+AKIfYUxTuV7EIPPxZEKL+eUoDyQuGl4LWu4ixH4cXc945WwkvbrkPR8aIWuP/WvjGzWrHmD3Qf9BAmjX4QZ51ex9yMLa7tdOHl8CHg5TEBbN+Rt9HJ+7T9+7o/KJXFSyGp5mSE/lfHBLF5S161gLjbeq2Iwi7dJNNVKLyki7Re/ajYrPUi4L3RUHjxns0pvHjP5nLGdgsvMt3uNuGdUq1qGMGgtYxlTJfvF/iFpwdEBiPgvNYGSgsH+PkL/VgtxJcqIpvb+W2FCFDS2n51bG29CDQ89o1AzLWbcuXCuGVICBnFY0dspfCyfr2ILfOfAEJRTjXVxbWhGwZlH/fq0PT3A/hhabyHzvGyC334schIJGwbXapWkZmFYudX1FUjHe2XjjGpOMtReDFnWa2El4F3PC1ivKzGt++PEl+qed8qdw97JXIFad6M0ShXRi+J2+nCS0F3auWSkptd+3buduM099ExV7uwFLHpvrdM4cWcHZ1aW8Vm7VRWbhk3hRe3WDLxeVB4SZyVm560U3j5fr4fs4QnhPRSKCnEj6t6hnDqKel7WeQmOxU1l5mf+DHv+8TSJFspvBSWnrmoLEGFxaQZckM2alQveLZSaPtKZG2a+50fxYqFRVYjEZ9FZDaS3jY/LvOL1OFhXHS+gbPP4horiKCKsxyFl6I+ucf/e62El19W/44eg/8VGfE5ZzVA9SqZ+HLeD8jadwBXXtYWj94z0NxsbahN4cUGqB5oksKLB4ys8RRVbNYa4/DE0Ci8eMLMMZOk8OI9m8sZ2yW8rBTXoidOjo3BIj1e/jE0BHkliMVaAoUJGf2vC6F2PrFLB+FFZhcaK7Iw7dqd5/VyZqMwul/p/uxC1lo+8dZUnOUovCRun4Ke1Ep4kQP84ac1GDZiAlav3SAUdQOZFcri6q6XYPC1XVCsqPDY5likVNvpwou8ajT69QB2iHucuUVeNRpwfQi1TuBGmtKiSKCSvGr02utBbNqc93DkqlGf9MZ5ocdLAsZy4SMqNmsXYnTUlCi8OMpclgyWwoslGB3XiF3CS2GeED1F2t7G4gc2i7UE5Au68W8GkH0kr91qIt7NDQOyUSwjti8rhZc/xFWj8fmuGsl+bxx8/KtGckR52YUgrs3DM9mFrLV84q2pOMtReEncPo4QXqIHaRhh+P3x9wXNTdna2k4XXiSNSHDdT0Vw3dU5wXUv65ANGciKxV4CcoP6eFZecN3LO8S/xbB3BACFF7sJ69m+is1aTxLeGRWFF+/YOnemFF68Z3M5Y7uEF5mud/YX8VdfirqC4k0rWDNrKb58NNOPreLlaL1TDXS6zEDZsvFtWym8yNZ/XevDZ7OPBtcV/V7RxRtxdayxWvpaUXGWo/Bizr7KPV6279yDQzJSVwKlRrVK8Pn0EmLcILxI9CUzAqhYNgMHDoWwMysxeyRgMj6iOQEKL5obyKbhqdisbZoKm02QAIWXBEG56DEKLy4yZhJTsUt4kS+LXhsrPKR35p3DG9Q3cI1IGazZ0TwJWu541GrhxR1U3D8LFWc5Ci/m1pVy4aX3kEew7JffEprFnPdGRq4e6VQovOhkDY4lWQIUXpIl5o7nVWzW7iDn3FlQeHGu7VIdOYWXVMk5u55dwoukIsWXb+f5sWmLD7VPDqN1K0N4pjublxtGT+HFDVZMfg4qznIUXpK3U3QN5cLLwqUrsWXbrsiYXp80IxJI9x+De8bM6omR/xUp5Cpgyiv/ElGvLc5dZ44f3CK87NgewMYNQVTMDKNmrcN8e2FyXTilOoUXp1jK2nGq2KytnQFbS5YAhZdkiTn/eQovzrdhKjOwU3hJZTysYz8BK4WXnbt8WLHShzKlw2hQLxyXutr+2bCHRAmoOMtReEnUOgU/p1x4iR5W265D0aPzhbh1UPeY0c6YPQ/3PPoq5n74EsqXLW1uxhbXdoPwIt9eyOjpMq2bLKc1MNCrh4FAbPB6i8mxOR0IUHjRwQrpH4OKzTr9s2SP0QQovHhvPVB48Z7N5YwpvHjP7lYJLzK2y1sic9XhowF9K1UKo19fA+XLMe6jjqtKxVmOwou5laCV8NL8shvRssnpGPX4rTGzWvTjKlx3y+MY++zdaNXsdHMztri204WXbSJg14svxSssHdoZaNPasJgWm9ONAIUX3SySnvGo2KzTMzP2UhgBCi/eWxsUXrxncwovzrK5fOH53Xw/fhURFypXAs4/TwSxLZX8HKwQXuRYnno2GLlOFl1kSugeInMVi34EVJzlKLyYWwdaCS9/v+dZzPl+GV4bfidaNT1deFz4sf/AQQy9/0V8t/hnzJjwBGqfVMPcjC2u7XThZdlyH6ZOjxdeGp0RRq/u/KK1eLlo1xyFF+1MkpYBqdis0zKxIjqRadw/F1k5liz1I6NYOHLIPaeZN97kUXjRYQWmdwwUXtLL2+7edu8VV0BW+MSV+zAaNgijVMmCe6THi92WsKZ9KXS8I87fy37KC1ZcoXwYA/sn72FihfCydZsPI0fH/x6QXi+33szfA9ZY3dpWVJzlKLyYs6FWwstfW3bgiuvvFWLLoYjoUjmzPDZv3RmZYZ9u7XDfLdeam60NtZ0uvEiPF/lFm3vNKBfR5R0NtGpBjxcbloxWTVJ40cocaRuMis06bZM7TkfvfRDA4h9iM+O1F95953nAu4/Ciw4rML1joPCSXt529rZ+ow//nRiAeBcZKeXFD/R+1xqQP4rzFwovdlrCurZlqugx4+KFDrkfyX0pmWKF8CJ/BwwfEURWVmzPZzUOo/uVFF6SsUe6nlVxlqPwYs66WgkvcirSw+U/Uz/B0p/WYPvOvahVozI6XtQC7S9orl0qaTlepwsvcg5zRYyXTxjjxdwnyaG1Kbw41HAmh61iszY5ZNPV5Z31J58JIvvo3fXcBr3yNo/Ci+kl5LgGKLw4zmSFDviFUQFs3xErGp9aW8bfiP9BTOHFGXafv8iPGR/Fp4SqWyeM6/okJ3RYIbxIapEYL1NEjJfDOQyrVgEGXJ+d0vWnRK3w628+LFqSw+HclgZOrOUNL9RE+RzvORVnOQov5iynnfBibjrpr+0G4UVSY1aj9K8dHXqk8KKDFdI/BhWbdfpnGdujfJv36JNBHMknvFSrBtx8Y7bq4dneP4UX2xFr1wGFF+1MktKA9u7N8UTIX0oUB+67J/67i8JLSpjTXkl6ljw/KhgROaK9zk8+KYxrrwlB2jfRYpXwIvuLzmrUsH4YxTISHUXyz/3wow/T38vz+pFJPXr3NNCgfnIeP8n37I4aKs5yFF7MrR0KL+b4ucLjRSIomRFAxbIZOHAohJ1ZR6Vuk2xYXX8CFF70t5EdI1SxWdsxj2TbLOiqkVeuVVJ4SXa1OP95Ci/Ot2HuDOSVcBmDI7rUF6l+r72aHi9OtnLOFTK/uEIWa9uThPjS/7oQRNSFhIqVwktCHVr00NPPxV9t8ooXqhUIVZzlKLyYsxyFF3P8KLyY5MfqaglQeFHLX1XvKjZrVXON7tcQL9Fmi+C60q25RIkwWrcKo2Vzb7xZo/CiwwpM7xgovKSXt529RX6gTxIxXg7k9FJOpPftL9L8MsaLndTT0/aUdwL46edY4UX2PPSmEKpUTuzajROFl8I8uYLC6+Wh+93vhWrF6lJxlqPwYsTrpBAAACAASURBVM5yFF7M8aPwYpIfq6slQOFFLX9VvavYrFXNlf3mEKDw4r2VQOHFXTY/ltUoKLIaNWRWI7dY9+1pASyPymyUOy+3Cy9ynhNEwOg1v8aKTkxfnfjKVnGWo/CSuH0KepLCizl+FF5M8mN1tQQovKjlr6p3FZu1qrmyXwovXl0DFF68aXnGeHGW3VevEd5Mb8VmF61VM4zBA0IiqUhic3Gix4uc2X7hwTVlagBr1+VMtF7dMK7qHkJGEvFtEiPkzqdUnOUovJhbSxRezPGj8GKSH6urJUDhRS1/Vb2r2KxVzZX9Unjx6hqg8OJNy1N4cZ7dV67yYfb/Ati1EyKwbBhdOodQPImgtk4VXnIttWULECzmQ2bFxK5WOc/C9oxYxVmOwos5W2ohvIRCBr6a9wPe+egr/LFxC3bs2hOZVYVyZdC0cX306HwBzj6jrrmZ2lTbLVmNGFzXpgWiebMUXjQ3kE3DU7FZ2zQVNpsgAV41ShCUix6j8OIiYyYxFQovScByyaNOF15cYoa0T0PFWY7CizkzayG8PPDUWLw7cw4yMoqh7ik1UaZ0CRhGGHuz9mPNuo2QwsyNfbvgloHdzc3WhtoUXmyAyibTRoDCS3pQi68wbN4ElC8PlC6dnj6P14uKzVr9rL09Agov3rM/hRfv2VzO2AvCS26Gp0SDz7p9JVB4cbuFC56firMchRdza0258PL9kl8w4LancM/NV6Nvj/biPmPshcbsUAj/fuaNiDAz98OXUL6sBr9aophTeDG3AFlbLQGvCi/pFEKkC+2b4v727t05321tzjXQ4VK1mXRUbNZqVzp7p/DivTXgVuFl3z6I71OgenXAn2C6XS9Z383Cy8GDwKQpAaz7PWc/rX1KGFf3CoksdV6ycPxcKbx40/4qznIUXsytNeXCy9i3Psao8e9iyadjCp3Jth27cUG3WzH2ubvRqunp5mZscW0KLxYDZXNpJeBF4aUgIaR9OyPhIHbJGOjIEeCFUQHs2RsrKHfqaKBlC3Xii4rNOhlufNZ6AhRerGeqe4u6Ci8yrfuKVX7s3CGCadYzULVKYiTDIvyDTAc/59sctUWmUu7dM4RqVROr75Wn3Cy8TJ7qx8+/xKptp59miHWgbj/VYV1ReNHBCukfg4qzHIUXc3ZWLrzM+t983PHwaHwxdQSqValY4GzmLfwJg+4cjimv/guNGtQ2N2OLa1N4sRgom0srAa8JL4UJIR3bG2jdyvqD2/oNPowZF4izad06YVzXJ5RWW0d3pmKzVjZZdhwhQOHFewtBR+HlsBCjJ04SWUyOeiwExG/oK7uGIFPIFlW+/sYfEV6iS7myYdx2awiyHZYcAm4WXh5/KoiDh2ItXUJkwLnvnmxPmz+dwsuOnT5kHwmjihBME8265Gnj2Dh5FWc5Ci/mDKpceNm5ey8u7nk7gmLXvLrrJTijwSkixkupyKz27N2HJctXY/L7X+D0+qfgrdEPxl1FMjd987UpvJhnyBbUEfCa8JJuIWTvXmD4iGCcgZs3NUTWAuuFnkRXkorNOtGx8Tl7CFB4sYerzq3qKLx8/j8/vpoTq5JI0eSOf2SjTJnj05wwMYA1v8bn1x16UwiM9ZHHzs3CywsvBbB9e+wakJ5Pt96s7kWGDt8B6RBejhwGJr8TgEx/LYtMed2nd0iLuHU62EDFGFSc5Si8mLO0cuFFDn/Fmj/wxMiJWLh0ZYGzaduyMR6/9wZkVihrbrY21KbwYgNUNpk2Al4TXlQIIR/P8uO7+Xk/NEoJXXlw/1DETV5VUbFZq5or+80hQOHFeytBR+GlMPGk7zUh1Kt7/O/Et6cFsPyneOHlrtuyUVa/46GyBedm4WX5z35MneaHvHYmi/S46NndQKPT1b3IUGboqI7TIby892EAi5fEfv5OrR1Gv77eFr1U2l/FWY7CizmLayG85E5ht/Bw+XXdn9i9N0t4wARRpVJ51KpRRXjAlDQ3Sxtru0V42bE9gI0bgqiYGUbNWofpPmjjmtGpaa8JL5K9CiFk4SIfVq7yoXwF4LzWYVQor050kQxUbNY6rXsvjsVLwsuGP334XVxlqVolDHmtz6vu8DoKL4V5vNx1RzZKFXHU27QZeOPNIPbvz/sEn9fagIzRxZJHwM3Ci5zl2nU+LFiU8zKjZXMDJ5+kdj/VYe2lQ3h5+rkgsrJiZyu/Wx8Q17yKZehAwXtjUHGWo/Bibp1pJbyYm4qa2m4QXr6d58ens/PeIJzWwECvHgYC8aEp1EBmr7YR8KLw8uMyH6a9Gzj2xqx6jTAGXC+yIoh74l4pKjZrr7DVdZ5eEV7kfvbJZ3keZl7ez3QUXmSMl0mTA/htbc6b80iMl7+JGC+NE/vxvGuXD9/M9UWyGjUScWHOSrCerp9LO8blduHFDmZObzMdwstrYwPYsDHW40VeD7z7dm/H11G5dlSc5Si8mLO49sJLWPgTzvn+x8gsWzdvJDxh9FIDnC68bBN3ZV8Ud2bzlw7iDVIb8SaJxd0EvCa8HBZ3lJ8YHoTIUh9TdEjxnM6VpmKzTuf82Fc8AS8IL9IjYvSr8TGVrugUwjnNEvth76a1o6PwIvnKrEZffOXHypU+VBBegOefZ+DEWt6zj11rjcKLXWT1bTcdwouM7SJTeUefn7p2CaFpE352Va0MFWc5Ci/mrK298HJYvB5p0n5wZJZz3hupXZwXpwsvy5b7MHV6vPDS6IwwenXnvU1zHy/9a3tNeJEuyuMnxK93GSTuhoHeWe8qNmv9Pw3uHqEXhJf54vrBjI/i09uoDmatamXpKrzkt5N8n3bNVUXHeFHF0Wn9UnhxmsXMjzcdwoscpUxQMH+hP5LVqMnZYdSvR9HFvPVSb0HFWY7CS+r2kjW1F15CIQPPvDJFXAsI45aB3cUdYL3uAzhdeJEeLyNH5127yF1Ol3c00KoFPV7Mfbz0r+014YUeLzlrUsVmrf+nwd0j9ILwsmULMOqVeI+Xv3UOoVlT7/1A0FF4kUFRZayIfftiP29eE7/t/Lah8GInXT3bTpfwoufsvTsqFWc5Ci/m1pv2wou56SVXO1v4z/l9fvj98VHzd+/ZhyPZ2aicWT6mUacLL3Iyc+WdeMZ4SW6xuORprwkv0mw/Ci+vd98T7rJHdcVawsX9uj6M8eKSJe3Yaci78zM+9mPbNh/q1jXQSYjfVmZq8YLwIo3/zdycmGW5pbHw3uzRLeTJALs6Ci9bxfqWL3vyFxlj6z4RpJPFPAEKL+YZOq0FCi9Os5g146XwYg3HdLZC4eUo7f0HDqLD1Xfhpn5dcXXXS47ZIGvfAQy6cziW/fJb5L/VrF4ZE0beh+pVMiP/3w3Ci5zHipUiTePyAGrUAM5tdViIT+lchuxLFQEvCi+S9ZatwJo1fpQrF0bDhmERO0qVBdT0q2KzVjNTZ/Qqs/CM+09AuG/njTdTpBu/aVAIGRY5eXpFeJEEo7MaFZWi2BkrJLVR6ii8yJnItb5OZJ2KLl69DpaaZY9fi8KLHVT1bpPCi972sWt0Ks5y9HgxZ01HCC8HDh7Gl3OXoN3556CYDb+Q7ntiDN7/5NsIyQf+0TdGeJHXnKZ++CXeHTsMpUWuw95DHkbtk2pg9BO3RZ53g/DCrEbmPkROru1V4cXJNrNi7Co2ayvG7dY2pIeG9NTIX/peY13cCy8JL25dJ8nOS1fhRaaklUE6czOknHGagW5/M5iSNlkDF/I8hReLQDqoGQovDjKWhUNVcZaj8GLOgI4QXv7ctA2X9r7TtuC623bsxsFDh3HlgAdw+429YoSXi3vehssubom7hvSOkJ720dd4aPg4LP/feOG67HO88MKsRuY+QE6vTeHF6RZMbfzRm/WSpT78/LMP5cUtyvNah0WWEe/FwkiNonW1KLxYx5It5RGwSniRKaC3bPWhauUwMjKsISxjvWwVnofBYj5kVuR3jjVUc1qh8GIlTWe0ReHFGXayepQUXqwman97yoUXGTtlxa9/HHemW7ftwj2PvWqb8JLbectOQ/CPwT1ihJczLxmAf9/RD90uPz/y2OJlq9F36GP45v2RqFi+rOOFF2Y1sv9DpnMPFF50to59Y8vdrD+e5cd38/M8LUqVAgb1D6GyuObCkj4CMg3ya+OCMVeNqlUFBvfP5lWj9JnBdT1ZIbzIFLJT3glABiaX2Ye6iNTcTUU2ExZ9CVB40dc2do2MwotdZPVul8KL3vYpaHTKhZcvvlmMoQ+8mBA5u9NJ5xdeZCalRhf1x/AHh+DyS1pGxvjL6t/RY/C/MHPi0zipZtVItiUnl83ijdODj2eLecTOonc3Py45n4FenGxbjp0ECiMgvfV27Q7jzofig1k2b+LHDdd767O/bQfwwzJDZM0DmpzpR8kS6V87v60LY9I0A5s2h3FGQx+u6RFA+XLpHwd7JIFcAvJ88O+nsiHyCsSUu4YGUL9OfBICkiMBEkiOQJbI7rXwh5xI/03F3lOubHL1+bS3CcizXLp/h8o+WVInoFx4kQtm6oyv8PCzb+C+W/qgQZ2T4mazRXi83DXsZWUeLw/f2R9XXtY2Mi63ebzIOTGrUeofIKfXpMeL0y2Y2vjlW5Kvvj+INyfFRxWuJLxdbr05lFrDDqz161of3pos3ugfDWwr59+vryFED2eL6vlNwRgvDlycJods1uNl/iI/ZnwUL8Ke19pA+3ZH08KZHCOrW0+AHi/WM7WjRenpOGFiEDLmkSxlykBkWMxG9WrJ90aPl+SZuaEGPV6cZ0XlwotEJsWXs9oNxBvP34umjevFUbQ7xktuhwVdNZIxXi6/pBXu/PtVkcfeESLRv54Z75oYL7lz37E9gI0bgqiYGUbNWoc9mXrTeR9f8yOm8GKeoRNbkJv1+q0HMOKFAPbsjX170eFSA23O9caPKunpN3xE3sE315Yy2OdVPd3FgMKLEz+p5sZsVniR14wKEmc7dzLQopm7Ph/mSOtVm8KLXvYobDRjxgewfn3s/itFl5tuTD6tOoUXZ9jc6lFSeLGaqP3taSG8yGl+8uUCtGxyGiqUF5JvvrL/wCF8+tUCdBICSLFiQcupZIdCMEIG2l55C/6v/5W46oqLRAC5YpF+hr88OSK2vDfuUZQqVQK9/+6+rEZyniUzAqhYNgMHDoWwM0tc5mbxBAEKL54wc9wkczfrzVuAyVMD2L495/DXto2BdhcbnhFet27zYeToeK8f+ebx7tuTP/zqvJoovOhsHXvGZlZ4EUcj8UY+gLXr8n4cVhWxhwaJ2EMlLEpzbs/Mvd2qauHliDhCrljlw14h6tevH2bMsEKW4+NPBUVij9i/lLc4HrgnO+kMXxRevPmZp/DiPLtrI7yoRHf9rU9g4dKVMUN4Vwgt9U+thT1Z+zHw9qfx86p1kb+vUTUTb468HzWqVYr8fzekk6bwonL1qe2bwota/qp6j96sDfHietMmRLIalS6takTq+h3+XAB7s2LfOp7ZKIwe3dx13YrCi7o1pqpns8KLHHe2+BjIVOcbNvhQvXo4Is4WtyizkSoubu9XpfCyfz8w/s0gNotrNLIExbvSq3oYaFCfHlL5193rbwTwxx+xe0+NGsCQwcmL/hRe3P6pLnh+FF6cZ3cKLwnabMeuvSIGwBFUr5IZU4PCS4IA+ZiWBCi8aGkW2welYrO2fVIpdhCJ8TIlJ2uLLIzxkiJIVtOOgBXCi3aT4oCKJKBSeHl/RgCLFseKCdKB/J47kvfiKHKiDn9AelxOmOjH7t05vBjjxeEGVTB8FWc52SdL6gS0El7klaKPP/8ucu1o7R9/xs1q2thhKF9Wr1eyFF5SX3ysqZ4AhRf1NlAxAhWbtYp5Jtrnzl0+rFjpQ4kSYZzWMOzKaxT0eEl0NbjnOQov7rFlMjNRKby88FLe1dXoMQ8eEMKJtdwVsDwZmxT27P4DwPKfcwJYn97AiIgvqRR6vKRCzfl1VJzlKLyYWzdaCS/Pj3kHYybOwMm1qkVSNRcrlhNnJbc8df8NIt2ngjyfx2FM4cXcAmRttQQovKjln0zv20Qclg9m+PHnnz7UPCGMLp2NlO/Oq9isk5krn7WeAIUX65nq3iKFF90tZM/4VAovMz72Y/7C2ExY0uPl/n9meyZ2mD1WPX6rFF5UUFffp4qzHIUXc3bXSniRWYWanVkfo5+4zdys0ljbDcKLjPGweEkQa4XLfZXKQIsWR0Qg4TRCZFfKCFB4UYY+qY6lR8arrwcg78/nFvkZHXJjSHgBJv8WUcVmndSE+bDlBCi8WI5U+wYpvGhvIlsGqFJ4YYwXW0xaZKMUXopE5MoHVJzlKLyYW0paCS/te9+Jc885Aw/f2d/crNJY2+nCi0ynOmmKHytX5b2hyKwYRv/rDZQvl/wPujSiZ1cWEKDwYgHENDQxf5EfMz6KfYsou001rauKzToNmNjFcQhQePHe8qDwYt7mh48Ac74VnoZ/+SJXZVq3MnA06aX5xm1qQaXwIqfErEY2GfY4zVJ4ST9zHXpUcZaj8GLO8loJL69M+ADjp8zEl9NeQMkSzgib73ThZb3IVDBmXHw61fNaG2jfjlHozX289K9N4UV/G8kRUnhxhp10HiWFF52tY8/YKLyY4ypT/U54M4AN4npnbqklrnn2uz6ktfiiWngxR521UyFA4SUVas6vQ+HFeTbUSnh5/MWJmDj9M9SsXhmVM0Vu03zlteF3okxpvaIpO114KewHXd06YVzXx13pVJ338bR/xBRe7GdsRQ+79/rw8qu8amQFS6+2QeHFe5an8GLO5oWdj3qKVPONRcp5XQuFF10tY9+4KLzYx1bnlim86GydgsemnfCyZPnqQimOH3EPhReL11hWFvD8qOCxVKq5zffqYaDR6fR4sRi3ds1ReNHOJIUOKCa4bk0RXLcTg+s6x3rqR0rhRb0N0j0CCi/miH8ogpkvWBx/xVN3j2AKL+bs7sTaFF6caDXzY6bwYp5hulvQSnhJ9+St6M/pHi+Swdp1Pkx7N4A9exGJOt+xvYFzW1J0sWJ96N4GhRfdLWTP+FRs1vbMhK0mSoDCS6Kk3PMchRdztvxjvQ+vj4+9iu0XOszfB2ejejVzbdtZm8KLnXT1bJvCi552sXtUKs5yjPFizqoUXszxgxuEF4lg65YAfv45IILHAbXrHGbaP5PrwinVKbw4xVLWjlPFZm3tDNhasgQovCRLzPnPp0t4kcH5F/8AlCjhQ6sWIdSo7nx2uTNYvtyH6R8GkC2C7GaI0IPduho4vaHeL6YovLhn/SU6EwoviZJy13MqznIUXsytIa2El0MifPwTIs7LN/N/xH4Z1Sxfmfnfp0WmndLmZmxxbTcIL9/O8+PT2X7IDEeynNbAgLxqFIiPuWsxPTanmgCFF9UWUNO/is1azUzZay4BCi/uWQvZIvzatyLTzvqNPtSoEUabcw2UKB4/v3QIL3PF+WHWZ3nXcYoVA64X8eFOOknfGCjJroTDh8XLqW0+VKkS1jqobu68KLwka2HnP0/hxfk2TGUGKs5yFF5SsVReHa2El9zguk0a1YOM9XJJ26YoU6okZsyeFwm2O2PCEyhVsoS5GVtc2+nCi4wb8eJL8QpLB5HRqI3IbMTibgIUXtxt38Jmp2Kz9iZpfWZN4UUfW5gZiUxvPPGtQOSKcG6pWhUY1D87TnyxW3iRL2uGPRmMeINEFwbnN2Nh83UpvJhn6LQWKLw4zWLWjFfFWY7CiznbaSW8tOt1O1o1OwP3Du2DFpf/HR+88RjqnFITY9/6GKPGv4v5H7+CYkG93DCcLrwsE260U6fHM210Rhi9ujOrkbmPl/61KbzobyM7Rqhis7ZjHmwzcQIUXhJnpfOTv6zw46234wO+dhbBtls0i31ZYrfwIr1ARo6OPz+UKQPcfXu2zhhdPTYKL642b4GTo/DiPZvLGas4y1F4MbfWtBJeml92I266viv6974MZ1zYD6MevxUXtW6CX9dtxBX97sd/R90P6Q2jU3G68CI9XuTByZBeweKfyDs08cflHQ1xV5seLzqtNTvGQuHFDqr6t6lis9afirtHSOHFHfaV14K/mRsvvDRvaqBL5/QKL5Loa2MD2CCuPEWX1q2MSJB+FjUEKLyo4a6yVwovKumr61vFWY7Cizl7ayW8XNzzNrRr2wz33XItuvZ/ALVPqo4RD/8fPp+zGLc8+CImv/wQGp92qrkZW1zb6cKLxDHjYz++X+CPBNSVrsPVqoYx5IYQY7xYvFZ0bI7Ci45WsX9MKjZr+2fFHo5HgMKLO9aHfFky6mXxsiSfrjGov4ircmJsXBW7PV4k0d17fJgy1X9MfDmzURhd/xaCZs7J7jB+grOg8JIgKBc9RuHFRcZMYioqznIUXpIwUAGPaiW8DLz9aaz/cws+nfwMJk6fjcdf/C8yK5TFjl17IzFevpr+grnZ2lDb6cJLVhbw/KggZPC46NKzWwiNxQGKxd0EKLy4276FzU7FZu1N0vrMmsJLwbbYuxd4b0YAv4uYKVWrhXGZ8NQ4sZbee9/KVT68I64IHxL7dlAEs73i8hDOPit+zOkQXiRV+cJm85acrEYVyuvNTp9PpH0jofBiH1tdW6bwoqtl7B2XirMchRdzNtVKeNm9dx8OHTqCqpUrRGb1xpRZmPXlfJwpvFyu79URNatXNjdbG2o7XXgp7L54QW7LNuBjk4oJUHhRbABF3avYrBVNld0eJUDhJX4pHDwIvPp6ANt35F2VkULGDQOyUb2a3ktHBtndslWIRZVFph2R5rigki7hRW9S3hsdhRfv2ZzCi/dsLmes4ixH4cXcWtNKeImeyv4DB0Ug3SCKFQuam6HNtZ0uvKzf4MOYcfHB8S68wMDF4h8WdxOg8OJu+xY2OxWbtTdJWz9reS30m7k+HDniQ9OzDbS72IA/PuRHXMcUXuJtsXqND29Oit//zhMZ/dqLzH5OLxRenG7B1MZP4SU1bk6uReHFydZLfewqznIUXlK3l6yplfCSHQrh6ZfewtQZX4mrL0cisV76dGuH7oMeQvGMYpg0+kFzs7WhttOFF+kiPFncz5aeL7kls2IY/fsZKF+WLsM2LBmtmqTwopU50jYYFZt12ibn4o5kUFUZXDW6tDjHQOfLixYJKLxQeHHxR4NTiyJA4cV7y4HCi/dsLmes4ixH4cXcWtNKePno8+9w97BXcMG5Z2HRj6twy8DuEeHl3Zlz8MBTY/HN+yNRsXxZczO2uLbThReJQ4ovixcH8NtaP6qI21wtWh5BqZIWg2JzWhKg8KKlWWwflIrN2vZJeaCDF14S12JEcNXoUkxcjXngn9mR4OjHKxRe4ukcPgSMFleNdkQxLS6u7Qzsr/9Vo0SWOz1eEqHkvmcovLjPpkXNiMJLUYTc+fcqznIUXsytJa2EF+nZcnKt6nju3zeh28AH0b3TBRHhZcNfW9Hh6ruYTtqcrY9be8f2ADZuCKJiZhg1ax0u8hBv41DYdBoJUHhJI2yNulKxWWs0fccOpSDhRcYkeZDCS8o2lcF135/hx7p1/khw3cs7GKhVU52358+/+LF0GVCmFHCO8GaqUT3lqYHCS+rsnFyTwouTrZfa2Cm8pMbN6bVUnOUovJhbNVoJL80vuxF/v+5vGHj15QUKL9NefwQN655kbsYW13aDx8u383Lc16XniyynNTDQq4fBdNIWrxUdm6PwoqNV7B+Tis3a/lm5vwdeNXK3jeeKvXjWZ3lXyaQ30/V9RJrok1ITgii8HH+97D8ArFgh4iVl+9CwYdg116spvLj7e6Kg2VF48Z7N5YxVnOUovJhba1oJL9f+32PYtScLH7zxOHoMfuiYx8vDz76Btz/8EgtnvYaSJQoJ32+OQ8q1nS68bBMu1i8K9/X8pYMILNhGBBhkcTcBCi/utm9hs1OxWXuTtPWznr9IBNf9xofDIrhuk7MMXHoJg+taTzn9LcoXH8OeDCJbZCuKLnXrhHGdEF9SKRReCqcmr+yNf9OPPXty7uiVFNerr70mhBMVejulYuOC6lB4sYqkc9qh8OIcW1k5UhVnOQov5iyolfCy7Jff0HvIIyhfrjQOHDyMBnVORChk4OdV69Dvqo64a0hvc7O1obbThZdly32YOj1eeGl0Rhi9uqd22LMBM5u0iQCFF5vAat6sis1acySuHx5jvOht4r82AS+/Fp/FsUwZ4O7bs1MaPIWXwrG98aaMaxcbGKmSuGp96/85/9xD4SWlj4ujK1F4cbT5Uh68irMchZeUzRWpqJXwIgckxZdHn38Tv6z5PSK6VM4sj369OuJ68Y/fX0T0QHMsUqrtdOFFeryMHB04ds0oF8LlHQ20akGPl5QWhYMqUXhxkLEsHKqKzdrC4bOpFAhQeEkBWpqrvDImgD//ij3ntG5loGP71PZi1cLLjp0+4cETRpUq4rCp2fHt8aeCOCiCK+cvd92WjbJ65XBIehVSeEkameMrUHhxvAlTmoCKsxyFl5RMdaySdsJL9HTCwvfWp9tunY+304UXOR15r/wTxngx90lyaG0KLw41nMlhq9isTQ6Z1U0SoPBiEmAaqu8W117++1YAmzfndHb2WWFc0TmEYLxTakKjUSW8HDkMTH4ngNVrctQWGay4T+8QSpdOaNhpeUhyXrWaHi9pgc1ObCdA4cV2xFp2oOIsR+HF3FLQUngxjDD2Zu2Pm5m8gqRbcYPwIpkyq5FuKys946Hwkh7OuvWiYrPWjYHXxkPhxRkWl7FeNm8BSpTwoUL51ILq5s5UlfDy3ocBLF4SK2qcWjuMfn31ucYjY7y88V8/du8+GuOlhIjxImLpMMaLMz4nHGUsAQov3lwRKs5yFF7MrTWthJd16zfhyVETMXfhT5FrRvnLnPdGIrOCXj6gbhFeSmYEULFsBg4cCmFnlnhdxeIJAhRePGHmuEmq2Ky9SVqfWVN40ccWdo8kW+gbMlvPvn1+NDsziGCJAu7UJGlKbwAAIABJREFU2DiIp58LIisrtgPpvPzAPdkoplF+hEhWo5Uiq5EIVM2sRjYuCDZtOwEKL7Yj1rIDFWc5Ci/mloJWwsv1tz6BJctX47qeHVCzemWRzjjWv7ZrhzbIyBD5FTUqFF40MgaHkjQBCi9JI3NFBRWbtSvAOXgSFF4cbLwkhi7jlkyYGMCGDTmeHAGRnfrKriGc2cic90wSQ8BrY0X/G2M9XswECU6mbz4LMMaL91YBhRfv2VzOWMVZjsKLubWmlfDSpP1gdL/8fDzwj77mZpXG2hRe0gibXVlOgMKL5Ugd0aCKzdoRYFw8SAovLjZu1NRmfubHPBG3LbrId1j33pUtXlylh4GM7TJpSkB4Luf117VLCE2bpE/8Sc9M9eyFwouedrFzVBRe7KSrb9sqznIUXsytB62El6tufBiZFcvh5SdvMzerNNam8JJG2OzKcgIUXixH6ogGVWzWjgDj4kFSeHGxcaOmVpC3ifzrwQNE/JJa6RM+1guPm/kL/ZGsRk3ODqN+vfT17Q1LFz5LCi/eWwEUXrxnczljFWc5Ci/m1ppWwsu3C5bjhruewdhn70b1qplxMzupZjXtUkpTeDG3AFlbLQEKL2r5q+o9erM2RDitTZuA8uWhVdYRVWzc2q9XhZfDR4AtW32oWjmcNo8PlWvoE+Hx8q1ijxeV82ffvGrkxTVA4cWLVqfw4kSrayW8rF67Ad0HPVRgYF0Jl8F17VtiDK5rH1udW6bworN17BtbrvCyRWRPmTQ1ILKa5cRjaHOugfbtDMhAmCzuIuBF4UVeeZki0hofFvHi5XWbLp3EdRfhfZFo2SY+Fx/M8OPPP3044QSZ2tlA5UqJ15ei5mef+7FkqR8ZxcJo2TyMNq3jEwckOp5Enssf4yUYBOQ1nzMbJz7uRPrhM/oSoMeLvraxa2QUXuwiq3e79HjR2z4FjU4r4UVeNVolxJdbBnRDjWqVxEEp9p7yha2boFgwNuCuauT0eFFtAfZvhgCFFzP0nFtXbta/bzqAF0YFsGdvrMrS4VIjIsCwuIuA14QXKZqMfjWA7OxYOw64PoRTTi5ahNgtPhcvi/r79+fVL1UKGHJjCOXLFl1f1prxsT9y3Sa6SGHzPJvFl+isRs3PCsJfPL1Zjdz1yXHebCi8OM9mZkdM4cUsQWfWp/DiPLtpJbw0v+xGXHlZW9x3y7WOIekG4WXvXmDWJwGsEm8Hq1b1oWP77LTeBXeMsV04UAovLjRqAlOSm/X3Sw9izLh4IbtunTCu6xMVFTOB9viI/gS8JrzMX+THjI9iRQ9pJSl6SPGjqFJY/c6dDLRoVnT9sNBmhj0ZFDFOYnuqJDxmbr05PZ+vjKAf5UoXw7bdyQsvP//ix9JlQBkhNrVoYaBa1aKI8e91IUDhRRdLpG8cFF7Sx1qnnii86GSNxMailfAi00kHhUeLjPHilOJ04eWwOI+9PCaA7Tvy3noHRcbu/n3TG4jPKfZ22zgpvLjNoonNR27WK9cdwPAR4h5CvnL2WWF0+1t6fhgmNlo+ZQUBrwkv8prRm5PihcVEhRMrhJdHhfByxIHCy5xv/ZErUrmlmDgTXC/E2JNOSszTx4r1yjZSJ0DhJXV2Tq1J4cWpljM3bgov5vipqK2V8PLR59/h7mGvYPiDQ3BC9UpxPBo3PDXu+pEKaNF9Ol14KexwmuhbQdX82b85AhRezPFzau3czfrjWX58Nz/vB5a8StGvbzaqV3PqzDjuwgjYLbzIOCpbt/lQRQSxlT/UN4v4QaXFeipbVo1NZCrjCRMDWLsu76VCVeG1Mah/NkoUL3pMTr5qlDu7VDxeZDDiJ5+J99ShJ1zRa0aXJyi86GKJ9I2Dwkv6WOvUE4UXnayR2Fi0El56D3kEy375rdCRM7huYkZN5ikKL8nQct+zFF7cZ9NEZhS9Wf/wow8//eSLZDU6r00YFcrzrXYiDJ32jJ3Cy0/iWsq092TqYAivVSm4hLF7T47gcWajMLoKD6pkwrMtWOTDqlVH12RrsSYrpLYmZayTb+b6sUGkNq5ePYy2bQwUz0jcclYE1539hR+Lf/ALMSonuK7d8V2iZ5eK8CLTQBd0BbFMGeDu2/MFzEkcJZ9MIwEKL2mErUlXFF40MUSah0HhJc3ALehOK+FFZjXatTur0Gk1aVxPHN4YXNcCux9rQl41Gv16XlYT+RfyqpEMQFhLZHFgcTcBXYUX+eZcFvn2nMV6Aio2a+tnwRaTIWCX8PLXX8CrY4OQGXxyi/zU+iJ/5PyX1q0METus6Lgo8tmCvLAG9Q8llU0oGS5ufjYV4UXyeOnVIDZvjiVDL1jnrBQKL86xlVUjpfBiFUlntaPiLCf7ZEmdgFbCSyLTuOamYXju4ZtRvUpmIo/b/ozTrxpJQJHgup+K4Lqrc4LrXtYhG7Vq6v2DV7qPfywCAu/cCdStY+AKEfBQXpPIX+Qbzy3iAJkplkuJErYvB8d1oJvwcvCgSG88JYB1v+f8Yqt9ShhX9QyhFL/nLV1bKjZrMxOQQtx33/mwR+jyjc4I4yymxk0ap13Cy9ff+CG9OvIXGVw2Ny15ogFl5V5UUNyh5k0NdBGpnFmSI5Cq8LJrtw8TJweOiS8y7tPfOociKblZ9CdA4UV/G1k9QgovVhN1RnsqznIUXsytDccJL227DsXElx7ESTX1CLHvBuFFLqGSGQFULJuBA4dC2JklLutrXNav92HcfwIIRZ3DZUyKGwZlx7iz//6HD1PeCSBL/FiTPwA6iEwWrZkmN8ayugkvk6f6IbNpRJeGDQxccxV/dFn5kVSxWac6/k1COB07PohDUV9LF55v4OILuSaSYWqX8LJsuQ9Tp8f/Io9yeBHieGKZsgq7+ipfBNwwkAGfk7G3fDZV4UXWlcKZ6jg9yc6Xz+cQoPDivZVA4cV7NpczVnGWo/Bibq1ReDHHDxReTAJMofqHM/xYsDj+DevgAXmZmKTY8vyoIGTAx+jSs1sIjUXMAZYcAroJL48/FcTBfJlPZaDOB/6ZfeztOW1nnoCKzTrVUb89LYDlIgZNdJFC6gP3ZKNYEvE6Uu2/qHpSEJo5KyAEQx/KlQMubBtCIw2/Y+wSXmQw1jeEEL7hzygbia/YsPi/8r8kkxFHZgB6YVQAe/bG2rtTRwMtRUpjluQImBFekuuJT+tEgMKLTtZIz1govKSHs269qDjLUXgxtwoovJjjR+HFJL9UqicivBT25pQu67HEdRNeXnhJpDbfHvujK9FrCqmsJa/WUbFZp8r6uRcCIvZX7JqQbUULram2bUW98RNiM+fINnv1MNDodL2EAruEFzlfKb7IFMR//uXDiSI2WKZISvjTz/J6p0/EdwmhWhIOqtLLYuJbeTaXAXEvvUQvllasm3S0QeElHZT164PCi342sXtEFF7sJqxn+yrOchRezK0FCi/m+FF4Mckvlep/iKtG4/NdNZIH+xsH5101KiwzAwME6i28LP/Zj6nT/BE3d1mkZ0PP7vr9iE1l3epUR8Vmner8v/raj8+/jPVwy6wUxq03hZR7Qe3c5cOIF+Ov2SR6tSZVJqnUs1N4MZv9J/985DXSzZsQybRVunQqs2UdSYDCizfXAYUX79mdwov3bC5nrOIsR+HF3Fqj8GKOH4UXk/xSrf7rWl8kIHAkuO6pIrhuFxFcNyoAq/zhPv29AJYuy3tTXlGkJB3Q30D5srxqlMtdN48XOS4ZOHnBopwf2s2bGZEAuyzWElCxWac6A/lZ/vAjPxYevV4oRZe+VxuolKl+XRQWDFbHuER2CS+7xbWgl18NYP/+PAvLQOdDbgzxuzbVRW9RvfzCi7TVihW+SGrrhg3CDFpuEWfdmqHwoptF7B8PhRf7GevYg4qzHIUXcyuBwos5fhReTPKzs7r8wfb9Aj9W/+pDFfFj7fy2seKMnX07pW0dhRensHPyOFVs1mZ5SZFDxm6qJgJp++NDPJltPuX6+a8aSS+tq3oaOL2hXtdj7BJe5guRdIYQxvKXziLTXAshnLKoIxAtvKzf6MN/JwZwQGSOk6V8+TD6XSsETLE3sriLAIUXd9kzkdlQeEmEkvueUXGWo/Bibh1ReDHHj8KLSX6srpYAhRe1/FX1rmKzVjVXu/uV8U1mitT2MrtPBXE15sILErsat2NnjvdBWeGB17B+2PZAwRRe7F4J+rUfLbzIoMXbd8TGSjq1thBf+jJblH6WMzciCi/m+DmxNoUXJ1rN/JhVnOUovJizG4UXc/wovJjkx+pqCThZeMmNA1GhIugyn+QyUrFZJzlEVz++cpVfpLr3Izs7Z5rSi6d/32zIKzp2FbuEF141ssti5tvNFV7WbjiE4SOCcQ2WKA7cJ7KDsbiLAIUXd9kzkdlQeEmEkvueUXGWo/Bibh1pJbxs3roTi5etQtPG9VGtivg1dbR88uUCVK1cAU0a1cPCpSvR+LRTUTxD5JjVoDCdtAZG4BBSJuBU4WWjSF07eaofu49mu7n4QgMXns9rDYkuBBWbdaJjc/tz8grkY0+KVPfCUya6NGsaxt862+d9YJfwIucQHVy3Zs0wuohrRpV5hUX5Uo72eBk5OoCt22I9XurXC+Paq+1bc8oBeHQAFF68Z3gKL96zuZyxirMchRdza00r4eWBp8bio8+/w5fvPI/y5fJSGdzz6Kv49OuFWDDzFQQD8RkkzCEwV5vCizl+rG0dgQ3iDv+Mj/3YJg7XtU8RAYc7G+Iaw/Hbd6LwcvgQ8OyLQRw4EDs3xpRIfC2p2KwTH527n/xLZOt5+bV47wO706anS3g5QaSTlt89FF7Ur+O4GC+TRIyXo9+b5cqFhZcVY7yot5L1I6DwYj1T3Vuk8KK7hewZn4qzHIUXc7bUSnhp1+t2nNfiTPz7zn4xs1r12wZcOeABvDf+UdSrXcvcjC2uTeHFYqBsLiUCmzYDr40LIjvqLbrM/nLToBAyhDt5YcWJwovMeiQDmuYvjc4Io1d3vr1NZAGp2KwTGZcXnpEeL/9+NHgsZXrunGuLeBv9bYy3YZfwwqtG+q7awrIaBQNh/LXZh+U/+ZEhMhy1bB5Gm9b0GNTXksmNjMJLcrzc8DSFFzdYMfk5qDjLUXhJ3k7RNbQSXtp2HYqOF7XA/bf2jZnVijV/oPughzBp9IM46/Q65mZscW03CC8yzsC094L4/Q+goggOeWXXbPG20mJQbM5WAp/O9uObufGZRfpeE0K9uoVnrXCi8CLd5aXbfP5ybksDl3Xgj4dEFpqKzTqRcXnhmUgK6ueE8CImKzMgySLFGBnotP919gmHdgkvzGqk76rNL7zkjvT9GQEsWhx77ah9OwPnUXzR15hJjIzCSxKwXPIohReXGDLJaag4y1F4SdJI+R7XSngZeMfTIsbLanz7/igRLDPvNf3dw16JXEGaN2M0ypWxMfpgCiydLrwY4nfq8BEB7NuXdwjzi/85aEAItcRdfRZnEPCS8CItMu29AJb+mLdmy4nMMP2vo9t8oqtVxWad6Nh0fk7GZZk3zw+ZmrdGjTDatjGEx0ByI44ILyLQaUR4EX+ExTKW/64rBNLr+lB4SY4mnz4egYKEFynyDRMxhqK9I2Ubdl91o6XSR4DCS/pY69IThRddLJHecag4y1F4MWdjrYSXX1b/jh6D/xWZ0TlnNUD1Kpn4ct4PyNp3AFde1haP3jPQ3GxtqO104UW+9ZJvv/KXmuKe/o3imgqLMwgUdNWoUmYYQwa776pRrkUWLhLpeFf5kCnicMsfwEXFs3GGJdMzShWbdXpmZl8vUnR5c2JAeAbmCX61xPfkdeJ6kMwOk0z571sBrFod63FwVU8DZ5xmn8eWXR4vvGqUjOXT+2xhwsujQng5ki+4M4WX9NrGzt4ovNhJV8+2KbzoaRe7R6XiLEfhxZxVtRJe5FR++GkNho2YgNVrNyAk8sVmViiLq7tegsHXdkGxoF6BdeV4nS68vD09gOXLfTlvX8U/ER8X8YdMa3rvXUwzae7jld7a6zf48NHMnOC6deoY6HxZ0WKEE68apZeqO3tTsVk7neQy8T05VXxf5i+pBHWWIs5nn/uxdKkfZcqEIxm5zmxsr4ehXcKL5MGsRnqu7sKuGskg7PMXxl5N5VUjPW2YyqgovKRCzdl1KLw4236pjl7FWY7CS6rWyqmnnfASPR3DCMMv771oXJwuvGwWQVlHvRqMiC7Hijj/t2wZRqeO9HjReOlZMjQKL5ZgjGnkh6U+fP2NH/v2+8SPaQMdLjVENjbr+zHToorN2sx4dahb2HW+5k0NdBFZfHQvdgovus/dq+MrTHiRV4xnf+HH4h/8KCaC657XWgbY1X8Ne9WOyc6bwkuyxJz/PIUX59swlRmoOMtReEnFUnl1lAsvW7btwtKf16BN80Yiyv527N67r9AZnXV6XQQC8QFEzSEwV9vpwot8U/niS/G/CjuIQHvMcmBubTihNoUXa60krz998FHs5+n0hgZ699LrR42Kzdpa0ulvTV7ne2VMEPJHa3S5YaAz4mFReEn/mlHdY2HCi+pxsX97CVB4sZevjq1TeNHRKvaPScVZjsKLObsqF15k0FwZPFemin7w6XFY9stvhc5oznsjI1ePdCpOF14Kc59nal6dVpl9Y6HwYi3b18YGsEEEXo0uMnPNA/dko1iGtX2ZaU3FZm1mvLrUXSliCr0jrhsdOgwERVDdbleEIL8rnVAovDjBStaOkcKLtTyd0hqFF6dYyrpxUnixjqWTWlJxlqPwYm6FKBdetm7fFYnrEvF42bIDu/ccz+OlDj1ezNk7rrb0eJGpeWWmg+hyeUcDrVro9Zbe4qmzOUGAwou1y6Aw4eX+f2Ynnf3G2pHFtqZis7ZzPulsW8Zn2brVhyqVw8jQSEwrigGFl6IIue/vKby4z6aJzIjCSyKU3PUMhRd32TPR2ag4y1F4SdQ6BT+nXHiJHtZX85ZGPFoan3ZqzGilIPO/b5egZ5cLtQuw63SPFwl6rkiP+sls/zHx5bQGBnr1MITIZW5xsbb+BCi8WGujgq4ayUw1MmONTkXFZq3T/L04Fgov3rM6hRfv2VzOmMKL9+xO4cV7NpczVnGWo/Bibq1pJbz0HvIIzjytDu67pU/MrP7YuBmX9bkH7457FPVPrWVuxhbXdoPwIpHs2B7Axg1BVBQpiGvWOgx5PYLF/QQovFhv4+jguo0bGejYnsF1rafMFpMlQOElWWLOf57Ci/NtmMoMKLykQs3ZdSi8ONt+qY6ewkuq5NTVc4TwsnjZavQd+hjeH/8Y6taumVZa73/yLe57YkxcnwtnvYaSJTIcn046d2IlMwKoWDYDBw6FsDNLBDBg8QQBCi+eMHPcJFVs1t4krc+sKbzoY4t0jYTCS7pI69UPhRe97JGO0VB4SQdl/fpQcZajx4u5daCF8DL4zmewY9cerF67QYgZxVGrRpVjszqSHcKv6zaiWpWK+GLqCHOzTaH2e7O+wUPDx2Ha64/E1K57Sk3hFeKj8JICU1bRhwCFF31sYedIZFwSmQ552XI/SpcK44qOQZxS55CdXbJtzQhQeNHMIGkYDoWXNEDWsAsKLxoaxeYhUXixGbCmzVN40dQwxxmWFsLLTfeOwK7dWfhlzR8RL5JTalU/NmQpxLQWgXcvu6gFTqheOe2EpfDy8HP/wZJP471e5GDcctXIhwDW/ip+jJ0oouxm0OMl7QtNUYcUXhSBT3O3k9/24+cV/pher+gUwjnNCs/II8WaLSKIbFWHBZFNM9rjdqcTQwovOq2M9IyFwkt6OOvWC4UX3Sxi/3govNjPWMceKLzoaJXjj0kL4SV3iG++8ylOqFYZl7Rtqg1JKbzc/+TrOK9FYxQvXgxtzmmEbp0uOBbkd/POg9qMNdWBzP3eh49m5vwok9mNTm8YxrVX6xUMNNW5sd7xCZQuHoDP70PWgWyicimBrCzgyWfjM5fVEuGyhgwKFTjrn34RaZPf8+OwcIopJtImd/+bgcaNnJE2WRczrlztw+R38hh2udxAsybqGJYvXQyHjoRw8DC/23VZI3aPQwovpUsGsXMvX6bYzVqn9jPLFcfefYdxJKTu+0YnHl4YS0lxlisW8GHPfp7lvGDv3DlWq1gC6f4dKvtkSZ2AVsKLnMa2HbsxY/Y8/L5hM7pcei6aNq6PKe9/gariqtFFrZukPtMUay5cuhLTP/4aFUW2pfV/bsHncxajw4Ut8Ny/b4q0mB1y9iF241/AI8NDyB9L98K2PvS+MvYNeYoIWU1jAnuzfPhhmRER3M5u7EO5shoPlkNLicBh8Zvr1ntDcSnj69Xx4Y6b4z/jG/4M4/HnDBj5vtruGupHndqMup2IEf7aDAwT36v5GUrekruK4hdXY+XPsLD8sLN4hkBACOshgzb3jMHFRGlzL1k7Z64y9IHcWQx+v3vK+MGAP+2/Q2WfLKkT0Ep4+WPjFnS+7p8IHRUz7rvlWvTp1g4PPDUWH33+HRbMfAVBxTmO33h7FoaPnowfZo+NeL04/arRZ7MDmDM3/odAFXG9YOhNBb8NT325saZOBDaJH4dvTgxir/CIkKVMGeC6PtmoXk2nUXIsVhAo6KrRlVeE0OTs+B9kc7/zY9an8Rtru4sNnH+eM4Tmrdt8+O478fZPrO1GZ4RxVuP0/vCcv8iPGR/FMzyvtYH27dQw5FUjKz5JzmqDV42cZS+rRsurRlaRdE47vGrkHFtZOVJeNbKSZnra0kp4eeyFN/H5N4sx7rl7cPu/X0J3caVHCi+Ll60SWY0ex4cTnsCpJ9VID5lCevnkywWRsS2Y+SpKlSzueOFl0WIf3p8RiJvtySeHMfB6Ci9KF5vNnb8yRgiHf8WKbieKGD+D+9PuNqNPe/MiRjk++cyPpUv9QmA7fnDdZct9mDo9/juhcycDLZqpEQ2SASYFxbHjgzgUdbviwvMNXHxh+sa+eo0Pb07SiyGFl2RWkTuepfDiDjsmOwsKL8kSc/7zFF6cb8NUZkDhJRVqautoJbw0v+xGDLqmM27s2wXdBj54THjZvnMPzr/yFvznhXtxzlkN0krs5Qnvo1GDU9HszHoi89Je3HDXMwgGg/jgjcci43C6x4t0hX/mhQCy9ub9ABeeyRgkYj/UqpHet8RpNSw7wyOPBYWLYiwIEcsa993DO8JuXx7H26xlQNiJb4lg2+vyvhNqnRDGdX1DkOtD9/L2tACW/xQrKAovbDwg1nWxjPSMPiQ+VxMmxjKsWlV8r/bPVsaQwkt6bK9TLxRedLJG+sZC4SV9rHXpicKLLpZI7zgovKSXtxW9aSW8tO99pxA4GuCJ+wbHCC9ff7cUQ/45Ap9PfQ7Vq2RaMe+E25DXnN6dOefY8zVFZqVXn74DtY963jhdeJETk+LLtHfFj4TffahYHujWLRuVKiaMyBMPyrfnX8/xY/MWH2qfEkbLFoa49ubsqY8ZH8D69fR4cbYVUxt9UZu1FOS+mevH+g0+nCAE2LZtDGSIILtOKM8JIXnX7vjrk4MHhHBirfSJybkMNwiGNQRDec2oeJqEn4LsROHFCavX2jFSeLGWp1Nao/DiFEtZN04KL9axdFJLRZ3l7JiL7JMldQJaCS/PvDIFE6Z+gn/f0Q9vvP0JenQ6H6fVOxm3PjQSZUqVxKeTn0l9piZq7j9wCJu27kC5MqVQOVMoE1HFDcKLnE7JjAAqls3AgUMh7MxiBoRoG+/fD4ybEMSWLXn/VYov1/UJQXHIIROrGmCMF1P4HF1Zbpwbth7AZnEtp1w5oHRpR08nZvBffe3H51/GxlfJrBTGrSJmlfR88Wqh8OI9y1N48Z7N5YwpvHjP7hRevGdzOWMKL86zu1bCyxHxivCGu4Zj/pIVMSTLlC6JN57/Z0SE0a1QeNHNItaPp7Bgo32vCaFe3fS9Qbd+ZiLDSXYQy0Xq4AOHQ2h0moFSpezohW3qRsCXXRIjXj2MHdtzlIg25+YEfXWDMCGTOnwoAtsuXJwjvkjRpe/VBiplOvuzanYNUXgxS9B59Sm8OM9mVoyYwosVFJ3VBoUXZ9nLqtFSeLGKZPra0Up4yZ32oh9X4ceff8XuvftQ95SauPi8JiKQrZ55w90gvMirRouXBLF2rQ9VKgMtWhzhD/Coz2BBMSPkXzspy0thXyllSgThF0F99uwXgT1YPEFAJo17YWRQXMeJna4b1nP0jPbuBbJEVqNqIkuXn9kPQeEl+Y+3vGIqr9zJIOTympq8LuakK6YUXpK3uRtqUHhxgxWTmwOFl+R4ueVpCi/Os6SWwouTMDpdeJFvhydN8WPlqrxfJpkVw+h/vYHy5bz9hjh3Ha4TsW/G/Sc2oIuIr4yhQ0KoKFg5uVB4cbL1Uhv7X5uAl18TCzhfqVsn5/ocizsJUHhJzq4HDwHjxRXTv/7KqyevmPa5OuSYeEcUXpKzuVuepvDiFksmPg8KL4mzctOTFF6cZ03thJdf123EF98uwe8bRPCBfOW+W/po5/nidOFFBs8cMy4+Sqx8syevHrDkEJBpt2fMDEBmKykp4kr17BaC/KHq9ELhxekWTH780hNk+Ih44aXRGWH06k7hJXmizqhB4SU5O81f5McMcWUtf5Hf/Y0bOeO7n8JLcjZ3y9MUXtxiycTnQeElcVZuepLCi/OsqZXw8sbbszB89OQIxVIliwv38NhDz6dvPSO8MPSKAul04aWwwyXffsd/mKXb+dZtPlSvGhYpxeP/XnoS/PabH5UrhyOxX5xwvcENwsuWrcCaNX5UEJm4GtY3HMFd9VYxb24GZs7OE1ZlbJ9+fbNRXVzLsbNsEzFlVq3yoWzZsLBVOG3pne2ck9VtL1iUw6i8iON+XuswKlSw5kd+ssLL6jW+SBa3U4SXh0wn7rXy4Qw/FhyNExQ9dye9lKDw4rVVmzNfCi/eszuFF+/ZXM6Ywovz7K6V8NKy0xCcVLMaJo66HxkOyV3qdOFFxkCHM/ePAAAgAElEQVR49oVgxJMjuvToZuDMRvR4SfQjLX8szfg4AHl1S5ZTa4dxTW/9XdKdLrwsWerDBx8KT6SjS9Up3BNdV3Y9JzfrmV8exPLlR3/gtxE/8Mvb++NaXmec8o4f2dk5s5KxV/oLsYcBnfOs/PEsP76bn/fCQbIZ1D+EyiJAsNmSqPAiv8PemR7Asp/yUkC5Lf5PIiz/WO/D6+NjvUGlmH7z30MiFpp5eyQyBrPPUHgxS9CZ9Sm8ONNuZkZN4cUMPefWpfDiPNtpJbxc0O1WtGvbDA/edp1jSDpdeJFvoF8YFTiWzSRXOOh4qYE24roRS9EEdu3yYcTIPNElt4a8qiXfjupc7BJeRIIybBG3BTMzgRI2xcWOiIbPC9EwH+IL2hq45CK9uateE1Zs1jIod/501Dt2+pB9JIwqVRCTIemwiN389DNByH9Hl2ZNw/hbZ15vkkwKuwLWvKmBLp3Nr+dEhRd5rfL9GfHXT28cFEJNj3m+SGFyuhB2s8W6zchA5Cpe/XrOEF3kmqLwovqbVk3/FF7UcFfZK4UXlfTV9W3FWS7Z0cs+WVInoJXwMmzEBMyeswifT31OZA6IP/ilPk37ajpdeFkmDpZTxdvNyFFS/BF5xyn+YLyHxNdMLsP8NZzA0A7hZcNGnwjYHIhklJHpiS++wMAF55v/4Zifr7wK8eak+O8JXpMreu2a3azllbuJIih3bjrqVi0M7BGxY37+Jcdbo1ZN4fF1VQhlyuSMpbBYUpWEJ8etN1N4kYx+WeHHW2/HxxSRLG8YaJ5RosJLYVdsOncy0KKZ9Z/joler2icOiyumW8R6r1ol7JigurnEKLyoXTuqeqfwooq8un4pvKhjr7Jns2e5VMZO4SUVanl1tBJe9h84iFadb0KDOiehSiVxwT1feeahIQyua87ecbWlx8vI0fHeGpd3NCB/TLEUTWD3bh+eezGeYQfh8aK715DVwsv+A8Bz4uqa/LESXewISFmYx8vFFxq40Aahp+iV4JwnzGzW0sNoxAsBIbTkXUWRnnJSZIsup5wcxoDrcwQD+fePPUmPl+OtkCPCq0J6H0Zzlc93Et/FLS34Lk5UeKHHi3M+x0WNlMJLUYTc+fcUXtxp1+PNisKL92wuZ2zmLJcqMQovqZLLqaeV8PLsK29j3OSPEQiIAKWZ5eHPd5KfNnYYypdlcF1zJo+vPXeeH5/M9h+LT3JaAwO9ehjCDlb35M725I/K18YGsPHPvF+egUAYQ28yIFNz61ysFl4K80Kx6rpEfpY/Co+td99jjJdk15iZzbqwdNT5xyC/vh+4J/tYAF3GeCnaSpu3ABPfCmCXEHNladvGwKWXWCOAJyq8yO+zd98P4Icf877P5NU9eYWPxVkEKLw4y15WjZbCi1UkndMOhRfn2MrKkZo5y6U6DgovqZLTUHhp23UoTjmxBia8eK94e5rv9am5edpW2+lXjXLB7NguhIMNQVTMDKNmrcNxb69tA+iChnN/iOZe14rc1xL/R/5o0iUlt/RE+eBDP9bIrEvieselwhunjggAbLXwIq+gSA+q/MXOTCAyq9Hq1X6xdt2R1UjGTlkhAtHu3CGCNJ9qoEZ16z8kZjbrgmKRyLWf/xtbXjO6+/ajkXSPToFZjYq2pfQo2iwypMmsRqUtfM+QqPCSO0Ipom7Z6sPJwnPJi1mNiraU/k9QeNHfRnaMkMKLHVT1bpPCi972sWt0Zs5yqY6Jwkuq5DQUXtr1uh1tW56Jf93Rz9ys0ljbLcJLyYwAKpbNwIFDIezMyndPJI08ndiV7im55RWG18YGRWrYPLrCqQz9xTWQ0+sFRPplH/bszxf11IQhpr0bwNJleT/DZbacgQMM4a2mt/ePiSlbVlUGn500OYDf1ubwk/pz58sNNLc4tobZzfqzz/2Y821ePBIZeFRmK5KiUW7p2iWEpk1oc8sWh8mGkhVeTHbH6hoQoPCigREUDIHCiwLoiruk8KLYAIq6N3uWS2XYFF5SoZZXR6urRiPHTcdb732O/73zPIoznbQ5yyZZm8JLksCiHhehiSLZddIR1ySVURYW2FRe/7m6h99y4UVeVfh+gfCu+RXCuwZoc66BsmVTGbnz6shsTp9/4cfiH/wim1MYbUVWq3OaJS4+fDnHjy/+FxtgVYovt98SEh4QibdTFDkrNmsprkWno963D5FUyDKrUZOzw47K/lIULzf8vZ3Ci/Rk+mCGH3+K65YniMxHV4gsTFakwHYDd5VzoPCikr66vim8qGOvqmcKL6rIq+3XirNcsjOg8JIssdjntRJeHn/xv5g4fTZOqlkVFcvH/1J7bfidKFNarzRW9HgxtwDdUnu9yOQzWWR52Zvli3gptLvYiFw10qGkW3jRYc6qxvCOyBAm485Elys6hRIWXyZMDAjBKv6apdXBiVVs1qpsUli/h4Rj3zdzhVjwlw8n1gpHUr8HXRzXyi7hZbcIsvzyqwHs359HulQpYMiNQiykl5vSZU/hRSl+ZZ1TeFGGXlnHFF6UoVfasYqzHIUXcybXTHiZiCXLVxc6o/Ej7qHwYs7ehda22+Nl1WoflvzgQ7CYD61bhWyJW2ETmoSbld4OWzYDmSLWSIkSCVez/UE5rtdeD2KTGFtuCRYTV42uDeE0G64a2T4hTTuQ14Rk5h7p8RNdkkkHLIWAT0Wg6+iiq8eLpmZIaFgHDwHjJwTx1195j9c+JYw+V4cclzI4oQmLh+wSXgq7aunV9NOJ2iMdz1F4SQdl/fqg8KKfTeweEYUXuwnr2T6FFz3tcrxRaSW8OA8fQI+Xoq0mr518NDPvx2Qx8aO/d88Q6tW17upE0aPw9hPybfQHH8nrPznBdTtcakD+0LQ6uK6XKR8RHhSPPmVOeCk4xktIxHix9rOiYrPWaW0UJhZY7Vmk05wpvOhkjfSMhcJLejjr1guFF90sYv94KLzYz1jHHlSc5ejxYm4laCm8GEYYWTINS75SrozwX9asUHg5vkHk2/9hwgsgO1/s1mS8ADQzuauGQ+HFWnOavWokR6N7ViNrialp7UMRj2TB4ljPIjkSO7NvqZlpXq92CS+8aqTasoX3T+FFX9vYOTIKL3bS1bNtCi962sXuUVF4sZuw9e1rJbz8uWkbhr88GV/OWyoClcZnWZnz3khkVtArSieFl+MvysLSC5coDtx3T2yqWeuXN1ssigCFl6IIJff38lqXDI67aElqwXUT7S1anKlXz0DVKonWzHlOxWad3AjtffqP9T68Pj42oItf6DA3/z2EKpWt9S6ydyaJt26X8CJHEB1ct2bNMLp0YnDdxC1j35MUXuxjq3PLFF50to49Y6PwYg9X3VtVcZajx4u5VaGV8HLHw6Mx63/z0adbO5xcq5oIdBh7ML7ysrbI0CzbEYWXohfga2MD2CCCz0YXmVGni8h84fWyZSuwerUfFUVcmIb1DZFhKL1EooUX6WS2YoUPR7J9OL2hdzIRpZe4+d6kJj1xUgBrf8/5TMnU4Fd2DeHMRokLBio2a/Mzt7YFmZFp+oeBiDeeTIfdq3vI1ZmY7BRerLUMW7OKAIUXq0g6qx0KL86ylxWjpfBiBUXntaHiLEfhxdw60Up4adJ+MLp2aIN/3dHP3KzSWNsNwotMgzxmfBBbtwEyaVTvXtkiy4d1ELOygElT8sSXM04z0K2rARnrJV1l124f5s7zYcdOKXCEj2WZkWLD1yKF71aRDrVenTBaNjciWYnSUeYv9InYNwGIm3WA+OeUk8Po2ye9wT1zhZe167Mx/k0/9uzJmfz/t3cecE5U2x8/SZbeQXoRBOz4BKSIglQRREQFpAgIC9KRIh0UpPcqVTpIkV4FQRGQLkoRpStFel36bpJ3zyzZzWZbNjOTO5P87ufz/u//2Ln3nvs9N5mZX849J5XYB580sFNe8eu1lo2PnnHJ4VOng6/UtFYct4iIml/EnnVvLL506RhBadN6N4uMm7V3lnl/1f7fLLRdJCN++NBC/yvioLdF3qKkViXi774r1ywiYsjp96S6R/60EJfkTi98Vrq0U/dIGwgv3u8tNVeyMLr918hqWblyipLyorqdrN+LILyo8aR5+0J4Ma/vfLUcwouv5MzdT8azHIQXdXvGUMLLR82/FJEuOWh0vzbqVuXH3mYXXuziaMSAoeLl3+6mNoiXY67u8ZwQKLRq/MJ9+QpX+7FQxgzajeuNfdeFqDJjjo1YAHK1kkJgKfumk2bOstLNW9Frf0FEetSro7/4wrYMGxUSQ+RhKiVfE2H61YVT/NRcwsu4KQ46809MxYmPXLRvo50tvAeWrYhZbjm9KDfbItRBGdL7d0/4Ca8u08yYbaN/z8ZWBxsJoczbhNUybtZawmDRZfW6mBGRHPFT+0Pt9qsW9oaFkfK9kyMHxfis/7TVSlu3RYtnKUTETWjTCMqRXYtZ4x4Dwot+bF0js+gyW9xrzv8X/fnMk8tJnzbxr6DusgfCi/4+N+IMEF6M6BV9bYLwoi9fo44u41kOwou63WAo4eXHbfuJjxttWjSScmQVZy9M0MwuvGzeYqFtv8Z8gWHsadM4qVsXY73E+Lod4kukWayogw6IXByerUUzEemRR18hYP9vVqXKkGdLL1IYfdHJf7lvXMJLj6+cxCV23RtH/vQReXiSiZdCLdrFS0STp4XEGiqQE5pqwc1zjCnTbPTfJQ/hRWzXFqHe71sZN2stWcR1fFHr/arGXha0V6210R8HI/2UXQgqDT62U6aMToqv7PjLLzmV4056NQgvepGNHvewOL72/fLY91NZ1bIgvOjvcyPOAOHFiF7R1yYIL/ryNeroMp7lILyo2w3ShZcmnw+h/QePebWKHasmUKYMSK7rFSwvL5r8rY0uuv065+rGuUb69fGfAOCluT5dFtdLWuTLkJMuX44dOVBDJIYsWVzf/DP7xC/2azx+sWeb0qcXwos4MuKv5hJexk910Okz2ka83LhpEfkzxBEKkfiVX4rjK+FbSBzxaiyOWJm58ZERPjqSQfivVEl9j41MEZ/ZCyJnUtSROCG6sEzIL+1FvMzzIuNmraV/4xNeeveIkHasw319mzZbaYc4BuXesogy7p+3tdO58xaaPjP2y7nr71pych8LwoteZKPHjcvv/FdZ4jKEF/19bsQZILwY0Sv62gThRV++Rh1dxrMchBd1u0G68LJq46905uxFr1bRslFNSpVSo5/fvZox8YvMHvFyWuTamDVfHHnxWGqB/ERNG/tPAEictO9XxPXCzzlMqr1tp+WrYr4AcZLNju28z5Xhq1WPRXTJsNEhFO5RvOvdanaRZ0bfaBt3m91zvMyeb6XbIhcON84VUl/8Qu9LjpdwkTdj+Sor/flX5Isnlw7nX/ttIthl1NgQUbEsJjVZvwb76jvPfv4+NsL7maO4oj604gxX6tQWRbDzNm+SjJu1Vrx5HKMfNYpP7O0qotnSid8Oxn1jIz4C6d4qlXfQW+X0E3whvGi5A+Me66J4lJk6I0QpCe9q/CNGy9AIyplT//k9Z4Dw4n/mRpgRwosRvOBfGyC8+Je3UWaT8SwH4UWd96ULL+7mX7l2S/xaGSJygMTMEHn/wSORAPGmUunI4q/Mp15yNbvwwr++ThVVh6xP3gE4Dwe/9pcTCQHfrqzfS4CXeDW7jPMp8Asytwwix0zDenYln8LO3Vba+KOVeN0sNnxc205P5/OP8MF5ABYuslLY3Uj4FcWLV3kdX7zighmrqtExUdUo3EKcANnbRK2e464UlWIO/B7zpZITBzcTeQ7OiUiNRYsj18wf5coVRa4dsdfM2mQdG4lvP3vLUcbN2lvbvL3OPblusVcdVEnspaQm1/V2rqReN3eBjU6eivkZ4P3uisi5fkN8Dr63iYi7yJFf4ypvItJOz9sbhJeketG36znybfnqyGpZISKB/EcikTx/n8poEF5kUJc/J4QX+T7wtwUQXvxN3BjzyXiWg/CizveGEl7qtf6aXnmhIPXq0DDGqo4e/4fqfNaPNiwYTvlyZ1O3Yo17m114cUWD8GOhRfwf5VVB6BOBcPzD09VcweiWqGqUXSS65CowrvbwIdE18SKUQxw98veLm10wvyxyn2TMRJRaROH4u7kLL1rNPVxE8rgnMuZx3fNvRIhTRVfEC2dmkcYpZUqtZpUzDicknjXX/8dGeLXx7WdvSMi4WXtjV6Bcc+6chVh8eeQW3VWpgohoKRv9As5i7yXx2WeBk6Ng9G4QXvQmHD0+R/VdFdWyOEE5R1HKahBeZJGXOy+EF7n8ZcwO4UUGdflzyniWg/Cizu+mEF7OXrhC1Rp2o0WTv6QiLzyjbsUa9za78MIvyGMnxj7+Ube2g15+Uc6vdBq7KMHhZJaT9uc645tLD+ElrmMW/HLZrXNgHF1zZ8kvz+Mm2eiGn4+NqN07Mm7Wam02W39+8d6920J375Mod030oqSoBxc3CC9m20Hq7YXwop6hGUeA8GJGr6mzGcKLOn5m7S3jWQ7Ci7rdYgjhZfqCtXTv/kNasuZnypYlE5Uv82rUqh6LWP5Nv+yj67fCaP+GqWRzD1VQt3ZNeptdeGEIfx61KGV+I8R7MR+yKVPaQdWqBr7ocjtMHLOa9uTYi1i3U4T7PFtIlJOu66CrovS12SIyzotjPGvXW+maeOErkN9BNWs4Ev0lXQ/h5cRJC3232EZc2cXVar1np2JF/XOES5MPdhIG4WMj8xdao3J2cKnyd9/R99hIEsyL81IZN2u1NqO/OgIQXtTxM2NvCC9m9Jp6myG8qGdothEgvJjNY9rYK+NZDsKLOt8ZQngp9W5runtPnAOJo7HQUuJ/z9MntatQhTJF1a1Wh95mF144yevk6SLRo3h5dDU+l960kfelaXXA6pchl66w0sHD1hiJhVkaSCWOv/DxIz4eU1XkuSnzuvFFqEvi6M60mSFKXgFXyyyqqLRpbqfkKeLHqYfwwrNdEPlrdu+1KlWNir7qpGcLB6bo4iLLyTQ5X4e/jo2o/YDIuFmrtRn91RGA8KKOnxl7Q3gxo9fU2wzhRT1Ds40A4cVsHtPGXhnPchBe1PnOEMKLawk9Bk+jwgXyUGj96upW5cfeZhdeODph3nexc1TIKn/pR9fR6HE2uvWkik9C85qh6k58ZUwbNbBT4ULxix56CS/+9KMvc3E57+PHRfnnDFzq1UkZMwa2MOTJSMbN2hc/oY92BCC8aMfSLCNBeDGLp7S1E8KLtjzNMBqEFzN4SXsbZTzLQXhR50dDCS/qliKnN4QXOdy1mHWBqCh07Lhbll3XoPwO7laQpARXHBHHdozcILx47531P1iVaBxXS52aqHlTOz0lIoSCpcm4WQcLW6OuE8KLUT2jn10QXvRja+SRIbwY2Tv62AbhRR+uRh9VxrMchBd1u0K68PL3ybO0aOVP1K7ZB7T7t6N05tzFeFfUvEENcQxEYomAOCwzu/DCR40mfRszOSgfNeLSv3lyBfaLKJfSnjHHRg63XCScLFXRXNyEFzNE/8R11ChLZie1biHnqJG6ryX9eoeFEY0YExJrAjOIa1pSkXGz1tJ+jJV0AhBeks7M7D0gvJjdg77ZD+HFN25m7gXhxcze8912Gc9yEF5895fyeukUTd0Q6nqv37KHug6YTCtnDaSBY+fR/oPH4h1wx6oJlCmDH+puJmFJZhdeeKn8MvrDJhsdP2GhbNksIrFuBOXJLXVbJMED6i5l8WXNk4S0hQo6yCoSuxz9O1p1ySSOoDRr6qAM6fzHg0WUU6eslEmUW37+WWFTHEE5ca2a17JuQ2Ry3YJiLTWqyUmuq84j+vaO72gd7/fPQt0UOH3NkD66jJu19EUHuQEQXoJvA0B4CT6f84ohvASf3yG8BJ/PecUynuUgvKjba9KFF7vdQQ8fPabUqVKIZKZuYQbq1uW33oEgvDCsZDYb3buTjNKnF/6wP/Ybv6RMJLYJbf/VSpcuWShPHqfIzeGgkNjpaZIyZKxrWYbcs89KJ05ZKKs4elKurEPsTVVDJqkz5x5Zu95GLjn0mQJOalBPRK2IKCQ9WrDleAkXyYfHTbTRHVHRyr1xFaJSJY19nExL/8u4WWtpP8ZKOgEIL0lnZvYeEF7M7kHf7Ifw4hs3M/eC8GJm7/luu4xnOQgvvvuLe0oXXtzNb91jDF2+eoOWzxigblV+7B0Iwss//1ro+2U2Crv7pJJPFVHJR5SUNlJ7KI5EfTsrhK6IMs+uViC/kxo3tNPpMxa6fMVC+YQYky9f/JEp128SnT9H9MKLRMljnzaJGjdCBD5cEVEn/i4nfVfw52MwnjFoFSs4qLwQgPRowSa8MMPLYg8tWBidWLnsGw6qUkkfvnr4TIsxZdystbAbY/hOAMKL7+zM2hPCi1k9p85uCC/q+JmxN4QXM3pNvc0ynuUgvKjzm6GElzY9x9DZC1do7dwh6lblx95mF174ZX/sxBB67BHkYrRKPnt/s9LadbHP3HBECAsvrvaWECgqCaHCs02fZaOzZy1KiWir+E+djyLoJSHAeLZ/xTWLl9qIubiXk+Zom23brYrAw4IPR0doHW3z199WWrgk9hoLFYwUmPRo3ggvfIRp334rhYvS0CVLOJX1m72JQDu6fImUqkZp0ph9NUm3X8bNOulWooeWBCC8aEnTHGNBeDGHn7S2EsKL1kSNPx6EF+P7SA8LZTzLQXhR50lDCS9rf9xF3QdNpe0rJ1DmjMbK5RIfZrMLL0f/stKi72O/7L9SxEm1P9DnZd+XLbtmrZX2HYhpp5IIN47Tac0/tceIfFmy3EZHjsS+sFunCErrts3iE6Fq1rCLKji2OKNtxAktzZoRI17+PmYVQpSV7E+2AvN+X/AoVtT84otmjjPhQDJu1ibEFFAmQ3gJKHd6tRgIL15hMt1FF8WPBqdPx58HDsKL6Vyq2mAIL6oRmnIAGc9yEF7UbRVDCS/rtuymnoOn0QuFnqa3yrwaa2Wh9atTCr2SXfjI0ezCy28HLLRqbWz1IG9eJ7UQJXaN0vg41ExRgci9sQgQV2royhUdVO7N6KiX4aM5giW28MICQvFi0QJCfIlX84rEq+cuxO7fqIGdChfSVoDYx5E9ItmvUXK8jPvGRtevx1x72rRE3TpHGGVrwA4fCMi4WftgJrpoSADCi4YwTTIUhBeTOCoJZnqTBw7CSxKABsilEF4CxJFJXIaMZzkIL0l0ksflhhJePmk3iH4/ciLeFaGqkTpnx9V7jzhCwi/67q/W/NKfXxwnCRUlpY3UDvwhKhCtsynRF8lFVfHSJey07dfYotFnzWOWwp4wyUZXRaUfz9awvoOeKxwt0Bz500JLRK4bz5Y6NdH9+7FJeAo8WrHytaqRL/MndtTo60EhxDlvPFtXES2UzhxBab5gCfg+Mm7WAQ/V4AuE8GJwB+lgHoQXHaBKHPL2bQuNHh+dfN9limceOAgvEp0kaWoIL5LAS55WxrMchBd1TjeU8KJuKXJ6mz3ihY+3jJkgcryIai/0JHiDI0nq1nbQyy8aL+Eo56K5IkSUbFmdlEwkyF2xykZ/HHLL8VJO5HgpH9PuE6I08/zvoqNIeKdw/3atYyoKhw6LJMPiWFKM40uCSV6RsPfcuZjCTYiYu73onymTthEv/t7FiQkvLESxIOXe9Mw54+/1B+t8Mm7WwcraKOuG8GIUT/jPDggv/mPtj5kOiyPT/Izi2TzvyRBe/OENY80B4cVY/vCXNTKe5SC8qPMuhBd1/Mjswgsv/8w/Flq2gkvsRuZMeedtB71eyniiS3yu4iNCiVU14jPRLNLcFWssIJLV1vkg9vquiSM148XRGkVKcROhqlZ2UMqUTlq7ITLaJpUoL83Jh/lhx9U4Smj3XiudOk30VBaiN153mCIiJMQSQlt+IXGUykkZ0jvp0WML2SOc9FpxJxV8xkmPRTWpJcutdPxEZH6d/E87qV4dO3EUEJp5Cci4WZuXVmBYDuElMPyYlFVAeEkKLeNfG18euLfFM8qbZaKfaSC8GN+XWlsI4UVrouYYT8azHIQXdXvDUMLLIxF2MWT8Atqx9xDd5/rBHm3D/OHi5dBYJUgCQXhhzMlElth7d5JR+vQOemj3KHGkbo+ZqrdnjpVnxVGk+nUdxEl0ubIRH1nKkc1JHPHiLrqwcHXILYFv+nQiR06oQxEzjNr4+NTseSHER5tYaHIK0c09tqXWe9FJdHndToeTsmUz6mpgV1IIyLhZJ8U+XKs9AQgv2jM1+ogQXozuoaTb500eOAgvSedq9h4QXszuQd/sl/EsB+HFN1+5ehlKeBksRJcFy3+koi8XVnK9VCpbjNKmTkVrN++ipzJnUMpMp06VUt2KNe4dKMJLquQ2ypQuOT14ZKebd4NXeOHtoVQMOGMVkStOerawM87KSe7biK+fPM1NiXnyR/4Fin+JMmrbudtKP2yKjGSJq0IUkuga1XPq7ZJxs1ZvNUZQQwDCixp65uwL4cWcfkvMalQ1SoxQ8P0dwkvw+ZxXLONZDsKLur1mKOGlct3OVLr4S9SzfUMqWb0VrZ49iArmz00zFq6nibNW0N71U0ReDw3r96pjp/SG8KIBRJMPsZcrEa2LXZLb6LlQYuRv4cCcOEpzI4muyTdnPObLuFkHJknzrArCi3l8pZWlEF60ImmucRDxYi5/aWEthBctKJpvDBnPchBe1O0TQwkvJaq1pDZNalHTetXopfKf0sTBn1OFMkXp1D8XqOanvWn+xN5KNIyRGoQXI3lDji0PHhKNGisSFHsECnEemCIvG/eoUVwlut0JGl04kuPtwJhVxs06MMiZdxUQXszrO18th/DiKzlz94PwYm7/+WI9hBdfqJm/j4xnOQgv6vaNoYSXinU6UeWyxalXh0+oVtM+VCBfDhrTvx1t2X6AOvQdT4smf0lFXnhG3Yo17g3hRWOgJh3uxGkLLVxopXC7CBsRWkvxYk7iHLejUtEAACAASURBVClGb0cOh9Cy1SQS6hJZRTCZ48nJKE6i+3FtO6UxVkolTXByrp41a2107LiFMmQgqlLJTs89a1yBTJNFewwi42atxzqSOiaXRt/yk5V+P2il5MmcVO5Nh5JIOhgahJdg8HLMNUJ4CT6f84ohvASf3yG8BJ/PecUynuUgvKjba4YSXkI7D6dz/12hTYtGilwvm2nw+PmUOWM6unErTMnx8svycepWq0NvCC86QDXgkPyyvm27VameVCC/k0qVdJDr1Fu4KMU9bUaI+Fu04TZx8qhpEzvly2vslzouJ/043EKnz0UoJbbv3bVQeHjgJtHlXDYz5tjo37MWsrhcI7SyRg3sVLiQsX2l5cdCxs1aS/t9HWvlahsd+CPmmTrPiiC+jm30fhBejO4h7e2D8KI9UzOMCOHFDF7S1kYIL9ryNMtoMp7lILyo2x2GEl5uh92jR4/CKdtTGZVVzV78A/2wdS+9IqJcmtR9h3LneErdanXoDeFFB6gSh/QsC82/iHObOTeErrgJKyy+NG5oV6odnTtvoekzY+ceKlHMQe/VMG5yXV4XCy9Wq4Xu3BfqURA0rs7EJcO5bLp7K1yIxRcR9hMkTcbNWjZaUTSPho4MoQiPrZ5FJNH+vK3xo9PU8oPwopag+fpDeDGfz7SwGMKLFhTNNQaEF3P5SytrZTzLQXhR5z1DCS/qliKndyAIL2FhRD9stNHxkxZRLthC77wdQXnzBMev/2f+sdCGjVa6Jl7ICxZyiPyyFvr7WPRbecYMTnr1f07aui128lxXlISRhRcWkn4Wtu8XCYC5vVHaQWVeF+t8ssRgE17iy2uTORNRx/bmE1746MwVUQ48c2ailEko+CbjZi3nGzp6Vv4sDBwaIiK6YlqSPTtR25bm831SeUJ4SSox818P4cX8PvRlBRBefKFm7j4QXsztP1+tl/EsB+HFV29F9jOM8HL7zj06d/EK5cmRlTJmSBtjVSfPXKCRUxbR6H5tUU5anb9j9X78SJRCnm6j6zeixYaQZOKYTCN7wIsv5y5YaMYsG9nFy6siRMRT2YfLSl+7HrvkT+WKDiVHBL/8Tvs2hC6JF2BXUxh+IhhKPmq04Ucr7doVXTKaKxdlySzKZItjNWXfcFDOrMEV8XL8hIXmL4wdnfRUFqIObc318n1e7N/vFtvo7t3I/VvxLQe9Vc67CCsZN2uNv7p8Gi6uo0bV33FQaXF0MNAbhJdA93Ds9UF4CT6f84ohvASf3yG8BJ/PecUynuUgvKjba4YQXqbOW0PjZyyLWkmVcq/RwO6hlDZNKuXfdv92lEK7DKftKycoOV+M1Mwe8XJCRLnM+y72i+ibZRzEuQ8Cuc37zkonTkZHssSju1DuXE668F9M4SUkhKh9aztlyhQZGXT/PtFqUVL65CkrsVBTtYpDyQUjs/Ev/MNHh9C9e5FW8P92P2KTPp2TOraxUOZMwXPUiKMdxk60UVhYTH++K16+OW+PWdr9B0Sjx/leSUvGzdoIbDl59GaRXPe3360iQshJZUqLfE0lzON3NQwhvKihZ86+EF7M6Te1VkN4UUvQfP0hvJjPZ1pYLONZDsKLOs9JF17CwyOo+DufUY6smenD6uXot0PHaef+I5Q9ayb6flp/ypIpPYQXdT5OsHcwCy+TptpElEr0CzgLExwR4hnbwmWhuVT02g2R0TGphB7I/8bllo3eWHjhiAhP0cVld4VyRO9XDx7hhdfNSZAXiKiXW7cjPc2RP1UqmevlO77Prbd5hWTcrI3+WQl0+yC8BLqHY68Pwkvw+ZxXDOEl+PwO4SX4fM4rlvEsB+FF3V6TLrz8susgtek5hjYuHEF5cmZVVrN9z2Fq22sMZcuSkVbOGkRH/j6DiBd1fo63Nx81mvStjW64HaXhYzLNREWePCLSI5Db0hVWOnQ4Zu4WXjEHWnFEAUeH8HEifjHnxpWNODlrjmxO4ogXMzTXUaP4onmeK0zUOjS4hBf2m1249PIlUspJm7FkNu/DCZN8j1STcbM2w+clkG2E8BLI3o17bRBegs/nEF6C0+cQXoLT7zKe5SC8qNtr0oWXb79bpxwzOrRlZoyV/H3yLNVvM4AK5M1BHVvUptY9xuCokTpfx9tbSa67SSTXFfkvOLlutaoRlCd3YIsuDOP2HQtNnGQVgkp0jAuXf24i8ttcEWWjORdKUhKW6uQeVcNypMsvogz2nn3WqCNH7gM2qENUsnjwCS+qoBqk87IVNjp4OGYi6NBmDsogjpAl1mTcrBOzCX/XlwCEF335GnF0CC9G9Ir+NiHiRX/GRpsBwovRPOIfe2Q8y0F4Uedb6cLLRlEuunO/SbRhwXDKlztbjNUcPHqKGrUfJF4k0tCNW2EQXtT5OsHeqZLbKFO65PTgkZ1u3hWhHUHQDh+x0JJlkVEDHN3CIkXy5ESdRHWbtDHzOwcEjfMiT83CRVYKuxv5ss7RPNUrW4OqnHRAOPLJIni/sqB28hSJvEKiYpWoVpXOyxRYMm7WgcTejGuB8GJGr6mzGcKLOn5m7Q3hxaye891uCC++szNzTxnPchBe1O0Y6cLLrdt36Y332yn5XQZ0axZrNT/tOEDt+4xX/h3JddU5O6HewSi8rFlrpX0H4i8TrR9teSO7jthkFOWTU4sjVcFWTloeeWPNLONmbSwCwWcNhJfg8zmEl+DzOa8Ywkvw+R3CS/D5nFcs41kOwou6vSZdeGHzz1+8KnJm2JQEu3G17XsO0dkLl6lOjfIiIkEkIDFQM3tVIxdKvYQXTux69FikuPHicw5DRZJs2mylHTtjCy8tmgV+KW2X3yG8GOjLxI+myLhZ+3F5fp+Ky80fP26h9Omd9PzzIgdU7PQ7frfJc0IIL9Jd4HcDILz4HbkhJoTwYgg3+NUICC9+xW2YyWQ8y0F4Ued+Qwgv6pYgtzeEl/j5X7pMNHdBZFUdbnx8p3HDCMqRXa7PXLNzjpdZc6x042Z0nowiLzmptqhY5F522RjW6mMFhBd9uBp9VBk3a6Mz8dW+o39baelyK0VERI6QK6eTPm1sp5QpfB1Rn34QXvThauRRIbwY2Tv62QbhRT+2Rh0ZwotRPaOvXTKe5SC8qPOpdOFl7Y+76My5i16tonmDGpQqpUjCIaHdvnOPwsWT9VOZRRkUtwbhJX5nTJ4eQhc9XJtXJK9t0VTUZDZIu3+faNsOK/Ev1gWfcVLpko6gEV3YBRBeDLIR/WyGjJu1n5fol+m4zPzQkSFRootr0lIlHPRuNWOVKIfw4pctYahJILwYyh1+MwbCi99QG2YiCC+GcYVfDZHxLAfhRZ2LpQsvTT4fQvsPHvNqFTtWTaBMGbzMHunViIlfdPfeA2r+xQg6/Ndp5eLcOZ6iuRN6RR2LgvASN8PH4USDhoYoCWvdG/8K3Kv7k5+GE8ePK3QmAOFFZ8AGHV7GzdqgKFSZde68habPjH2uiKvCfRZqHIGZFwnhRZWrTdkZwosp3abaaAgvqhGabgAIL6ZzmSYGy3iWg/CiznXShRd15uvfe+SUxfT9mq20YsYASiOykdZr3Z8K5MtJk4Z0UiaH8BK/D6ZMt9F/F6OP8fCVRot40X8HGXsGCC/G9o9e1sm4Weu1FpnjIuJFJn3MnRgBCC+JEQrMv0N4CUy/JrQqCC/B53NesYxnOQgv6vYahJdE+FWs04mqVSxFXVvXU65ctm4bfTliJh35eZY4kmIJCOFlw1qiX38LIZdEEuGIoCH91W0s7u2Z44UTT35S3+5zjpdHIqx/+69WunTJQnnyOOnNMg6vk1jeum2hnbssIp8L0fPPOum14h6hOE+WyxE6u/da6ZQIcOISveXedFDq1Imz8OyXlNK+iY/u+xVhYcK3u/goFVGhgkR8BMKVv4b/tm9fCF29RvR0fkeMv/k+I3qagYCMm7XRudx/II4dbrfSVXHs8Jn8Tnq9lEOUWk/c6mPHrbR4aXSOl9y5nNSkEXK8JE4OV+hNAMKL3oSNOT6EF2P6RU+rILzoSde4Y8t4loPwom4/QHhJhN8rlZpRvy6fKuWuuR04fIIatR9ErmNPZo94+fNPokVLbYqI5GosIljJTv2/ilucSMqWc69q9PKLQsQQJYx9aQ8fEX07K4SuXInuXUC8HDVuaCdbIhVErosXqRlzbFFJfnmEkkKAqOGRg4HXvXS5jQ7/Gc0iYwYnhTZ1UAYhGsXXuN+yFTY6dCS6X/p0IpdNaML9fOGQlD63w8S6Z1qJRSdX+18RJ31Yy0537sb/t2BJLJwUloF2rYybtZEZcq6naTNsMRJtPy+qsNWv613OJ84RdeyYhTKI7wtUNTKyp4PLNggvweVv12ohvASf3yG8BJ/PecUynuUgvKjbaxBeEuDnFG/UL1doSiP6tqbqlUopV/514l+q3eIr2rBgOOXLnY0ehRsrgWJSt0O7Lg5yWmKLCg7xT5NHGacm6vZdTlq0LDbrts2t9OLzMY8zeTJYuNRBO3bHXmPfrqKEuVuFpTP/OmnkhNhzVKlgoVrvxv/T97n/nDR0dNL7JdVXSb1+5ToH/fhz7HV/0d5KB4844/1bgacT5plUO3C98QikSGY1/XeXllQ3bnHS6g2xP8P8WQmUz0Mym4Uc4p5mN/ctS0u3B/xYVvFVbhN+D49Q/yNKwMMKoAWy4BYhPuj8HIcWHARs4sPOP5pF2OH04PB45CplPMvxnGi+E4Dwkgg7jnjp/0VT+qBaWeVKz4gX39Ebo2fo5xHiiFHsL2qO4pgxPpkxjBRWzFtsp192xn5j+LCGjapXSfhLYNDoCGJRxbN91sRGJYtF9936q4PmL4mdEPMlIex0ah0SLwtf++kNd8zkCPrz79jr/qSujX4/5Ij3b+XfwJeq3r7B+MYiMPHbCPrjcNyfFXwejOUrWAMCIAACIAACIAACZiQA4SURr3GOl+qVStMXrT5Wrly69hf6auSsqBwv1++IxCMmbp26EyVLLpRyjzXwLyUjBhpHOT/9D9HUGTGtDBFaSMd2RFmzJGzn7n1EK1bH7MtHnnp1dVIyN20p7C7R8LEWeiyONbm3+nWd9GqR+J38QOSGGDwq6f303jZ/HCZauCTmupOLqlI9uzjp+Mn4/+brcTC914PxtSOQJX1yMvt3l3Y0iI6KY0Jz5scckT8rXTs4KX16LWeSN1a6VCH0OMKBSCd5LvD7zCEi2iVNyhC6fU+UGUQLGgIZ0yanu/cfk/i4owUJgRTJbcSBCHcfGquaXpDgl7ZMGc9yPCea7wQgvCTCbsTkRYrYsnLmQJFkNSXVaxV4VY369LeS1RIZ5cCRLixjDPzKeCWfD/xhoTXrbGQX95Xk4nP/cW07FS7knTi0dZuVftoauUbOw9CwXtxJfs9dsNCixVYKEzlQOGyzckUHlX0j8acXX/v5/tH1rudOkVh342ar4te0aYkafGwnLnXLLaG/eTc6rjIrARnngo3OatceK/2wKfKzkkoIs/Xr2in/0959vxh9bWwfykmbwUva2ogcL9ryNMtoyPFiFk9pZydyvGjH0kwjyXiWQ44XdTsEwksi/O7cvU+hnYfT0eP/KFfmzJaZ5k3oTTmzi5I3opk9ua5r+VNX2+j8ASulsFuozwDjRvFw+dYr1yyULauTkifxJBRXLbklqhplzyHOvSdwmiZCCDuXL1soS2YnpUzp/QeM+125TJQ5MyWpn/cz+Hblw4dEN24QZRP5bEI80vbYnCFKpac0GSK8rhDlmxXoZSQCMm7WRlp/fLbwZ+X6DQtlz+YkjqgLpAbhJZC86d1aILx4xynQroLwEmgeTXw9EF4SZxSIV8h4loPwom4nQXjxkt+NW2H0ODyccmQVb9VuLVCEl1QiTDFTuuT04JGdbt41rvDipbtwmZcE0oowdKtIynbnPkLRvUQWEJfJuFkHBDgTLwLCi4md56PpEF58BGfybhBeTO5AH8yH8OIDtADoIuNZDsKLuo0D4UUdv4CJeIHwonIjmLQ7hBeTOk6l2TJu1ipNRneVBCC8qARowu4QXkzoNA1MhvCiAUSTDQHhxWQO08hcGc9yEF7UOQ/Cizp+EF5U8kN3uQQgvMjlL2t2GTdrWWvFvJEEILwE306A8BJ8PucVQ3gJPr9DeAk+n/OKZTzLQXhRt9cgvKjjB+FFJT90l0sAwotc/rJml3GzlrVWzAvhJVj3AISX4PQ8hJfg8zuEl+DzOYQXc/ocwotKvyHHi0qA6C6VAIQXqfilTQ7hRRp6aRMj4kUaemkTQ3iRhl7qxBBepOKXMjmEFynYpU8q41kOES/q3A7hRR0/RLyo5IfucglAeJHLX9bsMm7WstaKeRHxEqx7AMJLcHoewkvw+R3CS/D5HBEv5vQ5hBeVfkPEi0qA6C6VAIQXqfilTQ7hRRp6aRMj4kUaemkTQ3iRhl7qxBBepOKXMjmEFynYpU8q41kOES/q3A7hRR0/RLyo5IfucglAeJHLX9bsMm7WstaKeRHxEqx7AMJLcHoewkvw+R3CS/D5HBEv5vQ5hBeVfkPEi0qA6C6VAIQXqfilTQ7hRRp6aRMj4kUaemkTQ3iRhl7qxBBepOKXMjmEFynYpU8q41kOES/q3A7hRR0/RLyo5IfucglAeJHLX9bsMm7WstaKeRHxEqx7AMJLcHoewkvw+R3CS/D5HBEv5vQ5hBeVfguYiJcUNuJfRB88iqCbd8NVUkF3sxCA8GIWT2lrJ4QXbXmaYTREvJjBS9raCOFFW55mGQ3Ci1k8pZ2dEF60Y2mmkWQ8yyHiRd0OgfCijh96gwAIgAAIgAAIgAAIgAAIgAAIgAAIgEC8BCC8YHOAAAiAAAiAAAiAAAiAAAiAAAiAAAiAgE4EILzoBBbDggAIgAAIgAAIgAAIgAAIgAAIgAAIgACEF+wBhYDD4aT/Ll+j7FkzU7IQG6gEAYHwCDtdvHydsmbJSKlSJg+CFWOJIBDcBO7cvU+3bt+lPDmzktVqCW4YQbB6/o6/cu0m5c7xVBCsNniXyM9vTqeTbDZrLAh4tgvcfcGf77ie1+8/eEjXbtwW3/PZ8D0fYO5P6LMeYEsN2OVAeAlY13q/sA0/7aHug6aS3e5QOnX6rA41b/Cu9wPgStMRGDF5Ec1e/EOU3cWKPEtjv25HWTKlN91aYHDSCfxz7hLV/LQX1Xz7DRrYPTTpA6CHqQjwd/yAsXPp9p17it2Lp35FLz9XwFRrgLHeE4iw26nr15Np666DSicW1js2r011a1bwfhBcaQoCLLi07z1esXXi4M9j2IxnO1O40CcjT/37H9Vs0os2LBhG+XJnjxqjXuuv6fBfp5X/nTx5Mnq3Umnc430ibLxOCX3WXdbyZ/4L8d0/8svWVK1iKeMtAhYRhJcg3wSsjJeu0UYRWlo3qUXrNu+i3kO/pbVzh1CBfDmDnE7gLn/GwvX0zNM5qVTRF+j02YvUqP1galKnKnVsUTtwF42VKQT45btG4x5041YYfVCtLB7KAnxfrNuym7oNmEK1a7xFDT+sQpkzpqPUqVKI/6QM8JUH7/JmLdpAY6Z/T1uWjFYiGud+v5FGTllMO1d/Q2nTpApeMAG28mXrttHAcfPo8eNwqlCmaAzhBc92AeZst+W8Xe8LunDpmvIvnsLLgDFz6YPqZemZfLno552/K9/9s8f2oBKvPh+4QIJgZQl91l3LZ8GtYbuByo/oEF6MuykgvBjXN36xbP2WPdR1wGQ6sGk6pRDqOLcyNdvSJ+IBvc2ntfxiAyaRT6BNzzF0/uI1Wj17kHxjYIFuBDg0uV6r/pRLHD24E3aP8ubKBuFFN9ryB+ZfyMp/1JGefSYvTR/5hXyDYIFfCAwSL+OrN+2krcvGKdEuJ89coPeb9qZ184ZS/rw5/GIDJtGfwL37D+nm7TD6auQsSpUiRQzhBc92+vOXNcN/QnTh57WmnYbGEl48bSpRrSXVqVGeurWtL8tczKsBgYQ+6zz8xSs3RARUT+rcsi4NmbCAhvVuiYgXDbjrMQSEFz2ommjMb79bRzMXrVd+CXM1DlUslD83XshM5Ec1poaHRyhiW9XyJeFzNSBN0JdDUI+fPk9Lp/WjFl1HQngxgc/UmHj1+i1FeCnywjPEn/MHDx/RGyVeFsdJ6ypRL2iBSYCFljot+1H6tKmpXbMPaMX67ZQmdSqIb4Hpbur45USKEKK6+1EjPNsFqLOfLIsjXjjyxTPixX3VJ86cp1pN+9CIvq2peiUcOwmEHRHXZ52j2/jY2Vuvv0p9OzWmVyo1g/BiYGdDeDGwc/xhGocfrxeh6D99PyZqOlbR06ZJTRMGdvCHCZhDMoF2vcbRtj0HaeN3Iyhn9iySrcH0ehGYOm+NIrKunz9MyeXT5PMhEF70gm2Qcf/48yQ1bDuQKr5ZjCq+UVRJrMtHUPgBDd/vBnGSDmbwg3jzLiPo/oNH4kjCVeW/B/dsQe9XfUOH2TCkbAJxvYzh2U62V/SdPzHhhROpv9e4pxBcU9KaOUPiTLysr4UYXQ8Cnp91TrbL72zcZo3poSRThvCiB3ntxoTwoh1LU46EX0VM6TbNjOaQ9O9WbKE543rSa/97TrNxMZDxCJR6t7VS3eTZgnkV437+9XfloaxahVLUtU094xkMi1QTcAkvW5eNVXJ9cJu95AcaPXUJHdw8gywWVDZSDdmAA/QdPpN+P3JCHB0drFS7mTBzOU1fsBZJlQ3oKy1MQsSLFhTNNUZCwgsLr5+0G0Qc8bhi5kB6KnMGcy0O1sZLwPOzzsfOqojIJ87xlDZtZP6uNeKYKSfP//j9CvRh9XKgaTACEF4M5hB/m+M6B/y7yPHCGdC58QsaJ1pFjhd/e8N/87FKzkmU123ZJRKv9aRiRQr7b3LMJIUAv3jdFAl1XW3lxh2UIV0a5cbcomENKTZhUn0JcP6HN99vr/wSVrJoZHJF3gdjpy+lwz/NQqlRffFLG71y3c5U/JXnaFiflooN/H1fpGJTJXk6PuvS3KLbxHEJL3i20w23IQaOT3jhqMZP2g+ih+JY6aIpX0F0MYS3tDPC87N+994DmjR7ZYwJ5ohk6qWLv0h13yuvpBBAMxYBCC/G8offreGETSWrt6JWjWuK/7yPqkZ+94CcCVv3GEPbdh+k0f3a0nNPIiDYktw5s1KyEJscozCrXwngqJFfcUub7KPmXypRD3PH96LL125SS5HbJ0e2LDR/Ym9pNmFifQl06Duetu85TEun9xfVTXLSyh92UJ9hM5BcV1/sfh+dq5fYRenwzv0mUYQ9gsYP6EAhISGKoIpnO7+7w28Tcr6ucxevKkeJVs4aSPnz5KBkyUIUn7/ToCvZHQ6aOqwLpRM5nrhZrVZRcjqb3+zDRNoTSOiz7jkbjhppz1/LESG8aEnTpGOt/XEXdR80Ncr6DqEfUctG75l0NTDbGwIc1cRKuWfjm3jhAnm8GQLXmJwAhBeTO9BL88+IcvGhXYbT5as3lR4FReL0aSO6UI6smb0cAZeZjcC1G7ep/+g59MuuPxTT+agBR7rUr1XJbEuBvQkQcEWvuV/Cx0Y/rfuO8k94tgvM7cMv1vwi7mocrc5R664oGM9Vu/4emDSCY1WJfdbdKUB4MfaegPBibP/4zTr+Ej/33xXKJZKruo4c+W1yTAQCIAACIKArgYuXr4tfw21RuV50nQyDG4IAl4+/fPUG5RGRjGjBSQDPdsHpd6waBEDAmAQgvBjTL7AKBEAABEAABEAABEAABEAABEAABEAgAAhAeAkAJ2IJIAACIAACIAACIAACIAACIAACIAACxiQA4cWYfoFVIAACIAACIAACIAACIAACIAACIAACAUAAwksAOBFLAAEQAAEQAAEQAAEQAAEQAAEQAAEQMCYBCC/G9AusAgEQAAEQAAEQAAEQAAEQAAEQAAEQCAACEF4CwIlYAgiAAAiAAAiAAAiAAAiAAAiAAAiAgDEJQHgxpl9gFQiAAAiAAAiAAAiAAAiAAAiAAAiAQAAQgPASAE7EEkAABEAABEAABEAABEAABEAABEAABIxJAMKLMf0Cq0AABEAABEAABEAABEAABEAABEAABAKAAISXAHAilgACIAACIAACIAACIAACIAACIAACIGBMAhBejOkXWAUCIAACIAACIAACIAACIAACIAACIBAABCC8BIATsQQQAAEQAAEQAAEQAAEQAAEQAAEQAAFjEoDwYky/wCoQAAEQAAEQAAEQAAEQAAEQAAEQAIEAIADhJQCciCWAAAiAAAiAAAiAAAiAAAiAAAiAAAgYkwCEF2P6BVaBAAiAAAiAAAiAAAiAAAiAAAiAAAgEAAEILwHgRCwBBEAABEAABEAABEAABEAABEAABEDAmAQgvBjTL7AKBEAABEDARATuP3hEtZr2pi6t6lLV8iUVy/868S/tP3iMLly6Ri8/V4DKl3mV0qZJpXpV9+4/pOXrt1HRIoWVceNrU+etoR17D9O8Cb1Uz6nFAKf+/Y927jtC1SqWoqcyZ9BiSMOPcebsRdq25xBdv3GbXn2pEFV4oyhZLJZE7fa1n/vAG37aQ2OmfU9r5w6h5MmTJTonLgABEAABEAABENCPAIQX/dhiZBAAARAAgSAhwGJIyeqtqFeHT6jhh5XpwOET1Kj9IGX1GdKnodt37in/f4fQj6hlo/dUUTl74QpVa9hNGYfHe/DwMb32zmdi7oZi7ipRY/cZNoN+3Laf9qybrGo+XzpX/6Q7PZ0nB00e2imq++JVP9HXY+bS3PG9qPgrz/oyrKn6/LLrILXpOYZsNitlSJeGbtwKo7de/x9NGhLNJK4F+drPc6x5SzfR0Inf0b4NUyl1qhSmYgdjQQAEQAAEQCDQCEB4CTSPYj0gAAIgAAJ+J+ApvHB0x+Ztv1Gj2lXES29K5aX7g2Z96JqIfPhj8wxKFmLz2UaHwynGu0NpUqeiVCmTE0fblKjWknq0ayDme9sQwgsLQ0/nyU5TGl0wdwAAD+1JREFUhnWJsufx43C6c/c+ZcyQlkJsvq/fZ3B+7vjWh59TChFpskZEnPB/z178A42YvIhmjulOpYq+EK81vvaD8OJnB2M6EAABEAABEEgCAQgvSYCFS0EABEAABEAgLgKewktc1wweP58WLN9Mm5eMppzZMtP5i1epVffRylEkFiU4KuHdSq9T788/oWTJQoSg8pA+av4lfd68Np29cJm2bD9AmTKmpdH92ol/70udW9alKuVeo49b9qcjx84ox5gyZ0ynTL3s269p8PgFtHHrXmrV+H2a+/1Gunk7TBm/Q+iHlDN7FuU6jsjIliUTPXz8WFy7T/m3+u9XpMZ1q1K/kbNoz+9/UxYxZouGNehj8e+uxhE8/UfPoe17DirCT8H8uWlAt2b0vxcL0vBvFtIcMR9HeuTO8ZTSpf8XzcQRG6IvR8wUwkMPZf3cftpxgMZ+u4z+OXdRsZ8Fid6fN/LqKNLuA0ep/6jZ1LhOVWV9HAlUIF9OGvd1O/rt0HGaNn8NXbl+i95+q4QSGZQvd7Yo+3mtY6d/r/Thed+v+gZ1bV1P4Z6YX9y5RdjtCmOr1Ur1a1Wi1k3eV0SWE2fOi6NnfaIioLhPeHgEvVqlOX1QrSwN7B4a5wfJ1348GO+BPkNnKHPz0SL228UrN2JEvCTE++DRU9R3+Ew69c8Fpf9Lz+an6zdv06pZg3BUCV97IAACIAACIKCSAIQXlQDRHQRAAARAAAS8EV5qftpbERh+3/StIkrwC26/UXOoXOlXKGuWjHT0+D+KMPNp3Xeoa5t6yvGkMjXbKnD5RfiVF55Rji0N6flZjGNNMxaup9FTl1DpYi9SySeRFM3qVVOEkRUbtiuCzkfvvqXMyVEXtWu8JYSQpsq4Fet0ostXbyqCRXWRe+X3Iydp5/4jyt+eL5SPKpUtTjtEjhJ+Kf956VjK9lRGstsdVLX+FxR274FyrCpLpgw0a9F6ReTYvmKCED2OUfdBU5XjNXXeq6CMVa1iSTp26hx1/HKiknOE51u/ZQ91HTBZEVk++agK3Q67p6x/yrDOCUaEuHbbDz/vpS79Jyn/k8WMXEJMmv7dOkXE4rV+VL2ciK5JRzMWrqN3RN6d4X1bKde6+pV57WV6t3JpJQ8PcwqtX10RsxLzizs3FnOqVypNZ85eUgSY0f3aihw/Jch1XIjz6xQrEn2sqnLdzpQ7Z1aaM65nnB8aX/uxwMJj87rrCYEslxC8lqz+mf49fzlKeEmINwth1Rp2V/YZ+5T346KVWxRhCkeV8P0GAiAAAiAAAuoJQHhRzxAjgAAIgAAIBDmBxISXVRt/pV5DplOzetWVBLyejY/gcAJWjkDho0kcseISXjiqZXifllFRB55zJXTUaN2W3fTrqgnKmNy6D5xK2/ceop2rv1H+NwsvuXNkFXlXeipJX11RGZXKFqPxAzoo17js+KrLp1T3vfK0dvMuZZwZo7spYg83jrbgyJtBPZpTrXfeVHLQeB414nwz7sJL2Vrt6bGIAnHPQXNXiDkOp5PSp02d6I5yCSiLJn9JRYQoxY0FKBaiNi4cQXmEwMGNozg2/bIvah4+ypMlU3paPmNA1ByN2g9WRLHtKyfEmDcuv7i45cr+lJK42JUsl9dT4tUXhPjShpau/YW+EhFD7EcWsFyNxTeHw6GIT3E1X/vxGjnh8oYFw0RkT3ZlaM8cLwnxHjR2nuLXzYtHRUVDIUdMolsQF4AACIAACICA1wQgvHiNCheCAAiAAAiAQNwEEhJetu78g9r2Gqscw5k3obcSlcAtPMJOIyYtEtEW25TjOq7GgsX6+cOiBY/OTahuzcjIEW5JEV48k+uOE8d6+AjOn1tnK2Ox8PLy8wWiRBb+t6Jvt6Cab5eJiorhf3up/KfKcaOOLWorCVv5pTx71kxRNnEUDOevadW4JrVv9mGiwkuObFmUhMDviXmG9vrMp23lEl42LBgedYxowfIflSNWu9ZOihJvJs5cQZPnrlLWzNEwvD6O7Mgkcs24GtvOa+BrEvNLfNzqfNZPGe77af1ozaad1GPwNFo6vT+9UPjpqHk46XDyZMlo5ayBca7Z134fhvalqxxx5CYcuQsnLA4lxJsFobv37tNP34+JsgvCi0/bEp1AAARAAARAIE4CEF6wMUAABEAABEBAJYH4hBcu6fvF15OV4ybfjuqq5P9wNc5PsmTNViUKpmqFEpRHRJ50HTBF5Hy5qpvwMmn2SvpG/Cch4YUT9fLxGddxJE/hhSM5ODJj1FdtYlEr/EweKvh0rkSFl8wi4qTMe22VKkxcjcmXFpfwslAcjxkoojfchRcWXVh84TVzBMvrNdpQxTeLiXw3pWNMy+IEHxNKzC/xCS/1Wn+tiDcsvOz+7SiFdhlOM0aJqKDikVFB3Djq5PlCT9P0kV/EuWRf+/Exo/TiaJd7FI+7cBIeEZEgb45Q4vWz4Odqrv77f5imJHFGAwEQAAEQAAEQ8J0AhBff2aEnCIAACIAACCgE4hJeZi3aQCOnLFYS4I78qnWsSj5xvSy37DaKzv13JUnCC0dovFo5VIlG4agUV4urnLQWwosrqoQFhhdFAlb35hTHhPgFniMw0onjQu65TDyPGnHkCSeA5WTD7o2rNlmtIhNvIs0X4YWH5Hk5X45nnhWX7Yn5hceIK1LIXXjh6JPyH3WMKvnNfbiyFQsv7sfNOK8NRztlzZJB2R/e9vNE0+TzIUqumkNbZkZFVHHC4WEi0bErR0tCvNv0HC0SJR+mveuniGpZkcfSXJFCyPGS2E7E30EABEAABEAgcQIQXhJnhCtAAARAAARAIEECnsLL4lU/0ddj5irVezp+VicqDwgP8oxILMvHT1gYWb3pV1ENKFQ5tsOVdjghalKPGvGYXP2IqyANEcd2uHrRmyVfUSI3PI8aaSG8cNRIJXFEiSsA9e3YmAoVyE0nz1yg71ZsEZWPKlCNyq+LikFLaaZIuPvN4I4iyic55c2VVckD457jZdSUJco1HH3SRFQmevDwkRKN00nwSqjcsssRvgovrggYTshbr1ZF5fgRR5ps3v6bEjGSmF+8EV74mgZtBihrHiOqUGXPlkk5VsbiiHv+GY6G4qioxVO/opefK6AszZt+npuRkwOz3UVfLiyEnWp0UiRunjx3tbI2l3CSEG8LWahpp6HKESxORPzv+UtKQmVuEF7w5QcCIAACIAAC6glAeFHPECOAAAiAAAgEOQEWPUpUa6WUQm7wQSUaP2MZTZ23Jk4qrnLC/5y7pCTT5coz3Lj0MideTZkyhZJ8laMh+DiOK6mtazDPufjfudR0v1GzlKgKbpywlqMd3JPK8r9PmrOKvpkVeeyGG0d3vPhc/hg5XvioEZed7vfFp1H2u+d44X/8++RZ6iYS7HIFIFdj8Wjc1+2VRLe8tg59J0T93ZWot0Pf8bRu3lDKnzeHksiX88UsEiKVq7FQNXNM96gEsQltK64i1LnfpBhChkvw4vVzmWhuU4QAMWHm8qg183GgSXNW0vQFa5WjQa7mrV/i48aCCY/HIgo3zhvTuMPgKP9ybp/BPVsowpSrdRNHyzgBsrvw4k0/Ty48b7eBU5SKTdxYQHlBJPVl8cR1VCgx3iwA8Z5l4Y4jmTgBMQs6h3+a5VUEUkK+wt9AAARAAARAINgJQHgJ9h2A9YMACIAACEglwCV7+aWchRe17b9L10QJ5bRRVYzUjpdYfz4mc/nqDcoiSkLHVYmIRQReWyZR1jm+xqLBBWE392fb/dX4aNElUUrbKcSu7FkzRx3Rcc2vlV+u37yjiGj58+RIkoDhSz8W3lg4KZA3Z7xzecubo5P2/vFXVAUsf/kF84AACIAACIBAIBKA8BKIXsWaQAAEQAAEQMCkBDgCpKeoCJRQe+WFgjR/Ym+TrtB4Zj94+Jjea9xDJAJ+STn29qc4IsU5Xzq3rEuh9asbz2BYBAIgAAIgAAImIwDhxWQOg7kgAAIgAAIgEMgEOCLj0ePHCS7RYrGi0o6Gm4CPIbXqPlrJDcMVkHKKct913yuvlDHnZMloIAACIAACIAAC6ghAeFHHD71BAARAAARAAARAAARAAARAAARAAARAIF4CEF6wOUAABEAABEAABEAABEAABEAABEAABEBAJwIQXnQCi2FBAARAAARAAARAAARAAARAAARAAARAAMIL9gAIgAAIgAAIgAAIgAAIgAAIgAAIgAAI6EQAwotOYDEsCIAACIAACIAACIAACIAACIAACIAACEB4wR4AARAAARAAARAAARAAARAAARAAARAAAZ0IQHjRCSyGBQEQAAEQAAEQAAEQAAEQAAEQAAEQAAEIL9gDIAACIAACIAACIAACIAACIAACIAACIKATAQgvOoHFsCAAAiAAAiAAAiAAAiAAAiAAAiAAAiAA4QV7AARAAARAAARAAARAAARAAARAAARAAAR0IgDhRSewGBYEQAAEQAAEQAAEQAAEQAAEQAAEQAAEILxgD4AACIAACIAACIAACIAACIAACIAACICATgQgvOgEFsOCAAiAAAiAAAiAAAiAAAiAAAiAAAiAAIQX7AEQAAEQAAEQAAEQAAEQAAEQAAEQAAEQ0IkAhBedwGJYEAABEAABEAABEAABEAABEAABEAABEIDwgj0AAiAAAiAAAiAAAiAAAiAAAiAAAiAAAjoRgPCiE1gMCwIgAAIgAAIgAAIgAAIgAAIgAAIgAAIQXrAHQAAEQAAEQAAEQAAEQAAEQAAEQAAEQEAnAhBedAKLYUEABEAABEAABEAABEAABEAABEAABEAAwgv2AAiAAAiAAAiAAAiAAAiAAAiAAAiAAAjoRADCi05gMSwIgAAIgAAIgAAIgAAIgAAIgAAIgAAIQHjBHgABEAABEAABEAABEAABEAABEAABEAABnQhAeNEJLIYFARAAARAAARAAARAAARAAARAAARAAAQgv2AMgAAIgAAIgAAIgAAIgAAIgAAIgAAIgoBMBCC86gcWwIAACIAACIAACIAACIAACIAACIAACIADhBXsABEAABEAABEAABEAABEAABEAABEAABHQiAOFFJ7AYFgRAAARAAARAAARAAARAAARAAARAAAQgvGAPgAAIgAAIgAAIgAAIgAAIgAAIgAAIgIBOBCC86AQWw4IACIAACIAACIAACIAACIAACIAACIAAhBfsARAAARAAARAAARAAARAAARAAARAAARDQiQCEF53AYlgQAAEQAAEQAAEQAAEQAAEQAAEQAAEQgPCCPQACIAACIAACIAACIAACIAACIAACIAACOhGA8KITWAwLAiAAAiAAAiAAAiAAAiAAAiAAAiAAAhBesAdAAARAAARAAARAAARAAARAAARAAARAQCcCEF50AothQQAEQAAEQAAEQAAEQAAEQAAEQAAEQADCC/YACIAACIAACIAACIAACIAACIAACIAACOhE4P+L+nJMK7dEXQAAAABJRU5ErkJggg==",
      "text/html": [
       "<div>                            <div id=\"ee46ed22-3b8c-4c9e-aec0-1fa1a442ea9e\" class=\"plotly-graph-div\" style=\"height:525px; width:100%;\"></div>            <script type=\"text/javascript\">                require([\"plotly\"], function(Plotly) {                    window.PLOTLYENV=window.PLOTLYENV || {};                                    if (document.getElementById(\"ee46ed22-3b8c-4c9e-aec0-1fa1a442ea9e\")) {                    Plotly.newPlot(                        \"ee46ed22-3b8c-4c9e-aec0-1fa1a442ea9e\",                        [{\"customdata\":[[\"$30 roblox gift card not digital\",1.261859507142915,0.3333333333333333,0.0809035728588078,0.1,0.2,2.0,1.0,0.2427107185764236,0.1,0.2],[\"(fiction without frontiers)\",7.684818934934552,1.8133601240646544,0.5321408435198608,0.4,0.4,4.892789260714372,2.14601483711009,0.314880130667631,0.2,0.2],[\"100\",0.0,0.0,0.0,0.0,0.0,0.0,0.0,0.0,0.0,0.0],[\"10x10x6 cake box without window\",2.0,1.0,0.1314175698439436,0.1,0.1,2.0,0.6020599913279624,0.0791212609605866,0.1,0.1],[\"15 inch light weight laptop that has lots of memory storage and RAM.  It should include a HDMI port as well as a USB drive.  \",0.0,0.0,0.0,0.0,0.0,0.0,0.0,0.0,0.0,0.0],[\"15 microsoft card\",5.79202967422018,1.3921553903310169,0.6295516106099183,0.3,0.4,3.0,3.0,0.339160205273616,0.1,0.1],[\"40 amp 240 volt timer\",8.345377356638178,1.5966644719777698,0.5856878397049649,0.5,0.5,8.414700798564784,1.499086112520368,0.549894183895884,0.5,0.5],[\"45 women birthday party supplies\",0.0,0.0,0.0,0.0,0.0,3.0,3.0,0.4692787260227565,0.1,0.1],[\"4khdip168nv-1\",0.0,0.0,0.0,0.0,0.0,0.0,0.0,0.0,0.0,0.0],[\"7 days without a pun makes one weak\",12.763483535311371,1.3042098615056297,0.8611375561264455,0.9,0.9,12.763483535311371,1.3042098615056297,0.8611375561264455,0.9,0.9],[\"a deed without a name\",10.58066558462891,1.4848331397604753,0.7790536145743712,0.7,0.7,12.376630728076831,1.3711928022265056,0.9249807385502082,0.9,0.9],[\"adaptador control xbox 360 a pc\",4.892789260714372,0.9067945546554248,0.1359347691888752,0.2,0.2,4.892789260714372,1.223197315178593,0.1833657291583948,0.2,0.2],[\"adidas soccer cleats\",4.892789260714372,1.0318242043477843,0.15139734109601,0.2,0.2,4.892789260714372,1.5266738412089986,0.2240055615151755,0.2,0.2],[\"alexa leak detector\",6.392789260714372,1.856207187108022,0.4085359184257956,0.3,0.3,6.392789260714372,1.9871369406794797,0.43735247915031,0.3,0.3],[\"alphabet stickers\",0.0,0.0,0.0,0.0,0.0,10.913998917962244,1.4997725777493431,0.7702043899253146,0.7,0.7],[\"american flag 5x8 outdoor made in usa\",6.392789260714372,1.148798210119062,0.2528410271851774,0.3,0.3,10.913998917962244,1.559142702566035,0.8006937664098819,0.7,0.7],[\"andis t edger\",1.0,0.3868528072345416,0.0283810392138736,0.0,0.1,3.6309297535714578,1.6781035935540112,0.2462245226243053,0.1,0.2],[\"back to december taylor swift\",0.0,0.0,0.0,0.0,0.0,0.0,0.0,0.0,0.0,0.0],[\"backpacks lunchbox combo\",2.0,0.6666666666666666,0.0660908915685874,0.1,0.1,0.0,0.0,0.0,0.0,0.0],[\"bambu utensil set\",4.892789260714372,0.951544993495972,0.1396181455537491,0.2,0.2,3.0,0.9463946303571862,0.0694312219367772,0.1,0.1],[\"barbie puppy movies\",9.557791730854222,1.252676484881701,0.5633545811446726,0.6,0.6,9.413998917962244,1.196918511144118,0.5382790645851212,0.6,0.6],[\"baseball shirt 6 under armour\",0.0,0.0,0.0,0.0,0.1,0.0,0.0,0.0,0.0,0.1],[\"battery samsung galaxy s7 edge\",12.763483535311371,1.4181648372568192,0.9363792118010482,0.9,0.9,12.763483535311371,1.4141764474747882,0.933745776545611,0.9,0.9],[\"beeswax wood polish\",9.913998917962244,1.4387116616699391,0.6332971816211657,0.6,0.6,10.913998917962244,1.480990970246978,0.7605591431973848,0.7,0.7],[\"belief without borders\",2.0,0.7124143742160444,0.0664686653438441,0.1,0.1,6.754142376861158,1.666623718795864,0.6219877544759428,0.4,0.4],[\"best ride on cars mercedes 3-in-1 push car in white\",7.684818934934552,1.7499355781937955,0.5135285497500329,0.4,0.4,7.684818934934552,1.796204733733638,0.5271064966405455,0.4,0.4],[\"black and white checkered curtains 2 panels\",6.392789260714372,1.7023176840202705,0.3746661058764785,0.3,0.3,9.913998917962244,1.6319619978325608,0.7183627972686238,0.6,0.6],[\"body shop gift set for men\",6.684818934934552,1.415768431664995,0.4705277821382393,0.4,0.4,7.053889181363095,1.020187870092629,0.3390573805311438,0.4,0.4],[\"boho earrings\",5.2618595071429155,0.8240731060613058,0.1813717054717779,0.3,0.3,3.0,3.0,0.2200917662980801,0.1,0.1],[\"boo costume monsters inc\",0.0,0.0,0.0,0.0,0.0,0.0,0.0,0.0,0.0,0.0],[\"bookshelf 4 tier\",3.0,1.0,0.07336392209936,0.1,0.1,4.892789260714372,1.25,0.1834098052484001,0.2,0.2],[\"bose headphones replacement cord\",12.43015020197804,1.3811278002197822,0.9119245711012616,0.9,0.9,10.824742530965828,1.3364392867878818,0.7843714218114438,0.8,0.8],[\"boys smart watch\",0.0,0.0,0.0,0.0,0.0,3.0,0.9463946303571862,0.0694312219367772,0.1,0.1],[\"bra shiny\",2.0,0.8613531161467861,0.0695100114621549,0.1,0.1,6.623212623289701,1.655803155822425,0.5344841467813316,0.4,0.4],[\"bridal shower decorations\",3.0,1.8927892607143724,0.1388624438735545,0.1,0.1,0.0,0.0,0.0,0.0,0.0],[\"bulwark flame resistant jacket\",11.86039354831943,1.4825491935399286,0.8701249883466592,0.8,0.8,12.763483535311371,1.4141764474747882,0.933745776545611,0.9,0.9],[\"card holders for four decksplaying cards\",8.845377356638178,1.6496934687260238,0.6051399156371955,0.5,0.5,8.845377356638178,1.401741754104595,0.5141863642577491,0.5,0.5],[\"cargo pants men big and tall\",0.0,0.0,0.0,0.0,0.0,0.0,0.0,0.0,0.0,0.0],[\"carhartt extreme cold weather boot socks\",5.7618595071429155,1.6025825821679909,0.3527152311478913,0.3,0.3,5.892789260714372,1.01023924951986,0.2223453408104729,0.3,0.3],[\"carhartt windbreaker\",0.0,0.0,0.0,0.0,0.0,0.0,0.0,0.0,0.0,0.0],[\"casio illuminator watches for men\",12.763483535311371,1.3709609266716507,0.9052116356304494,0.9,0.9,12.763483535311371,1.3855688436179348,0.914856882358379,0.9,0.9],[\"cat balls\",0.0,0.0,0.0,0.0,0.0,0.0,0.0,0.0,0.0,0.0],[\"ceramtic coating\",3.0,1.0,0.07336392209936,0.1,0.1,3.0,0.9463946303571862,0.0694312219367772,0.1,0.1],[\"charger wireless for iphone\",0.0,0.0,0.0,0.0,0.0,0.0,0.0,0.0,0.0,0.0],[\"christmas dress for petite women\",0.0,0.0,0.0,0.0,0.0,0.0,0.0,0.0,0.0,0.0],[\"coil incense\",12.763483535311371,1.4181648372568192,0.9363792118010482,0.9,0.9,11.86039354831943,1.4404656202755282,0.8454256604216018,0.8,0.8],[\"cole haan grand crosscourt\",7.684818934934552,1.8653527055096095,0.5473983622993501,0.4,0.4,3.0,3.0,0.2200917662980801,0.1,0.1],[\"collagen supplements\",3.0,1.2920296742201791,0.0947883643695507,0.1,0.1,0.0,0.0,0.0,0.0,0.0],[\"columbia ice maiden ii womens insulated snow boots\",0.0,0.0,0.0,0.0,0.0,0.0,0.0,0.0,0.0,0.0],[\"computer software programs adobe\",0.0,0.0,0.0,0.0,0.0,0.0,0.0,0.0,0.0,0.0],[\"computer table\",0.0,0.0,0.0,0.0,0.0,0.0,0.0,0.0,0.0,0.0],[\"concealer color changing foundation\",8.845377356638178,1.239967025323161,0.4548442212579179,0.5,0.5,4.892789260714372,2.0343107806620333,0.2984900352767555,0.2,0.2],[\"contact lens colored for eyes\",5.130929753571458,1.7103099178571526,0.4914458861001996,0.2,0.3,0.0,0.0,0.0,0.0,0.0],[\"converse sneakers for women\",0.0,0.0,0.0,0.0,0.0,0.0,0.0,0.0,0.0,0.0],[\"corn hole game wooden\",3.0,1.5,0.11004588314904,0.1,0.1,4.892789260714372,1.5266738412089986,0.2240055615151755,0.2,0.2],[\"cousin it costume\",4.892789260714372,2.0802792108518124,0.4703652827859578,0.2,0.2,4.892789260714372,2.446394630357186,0.5531464700081437,0.2,0.2],[\"custom 3 panel wall art\",0.0,0.0,0.0,0.0,0.0,0.0,0.0,0.0,0.0,0.0],[\"cwine glasses\",0.0,0.0,0.0,0.0,0.0,0.0,0.0,0.0,0.0,0.0],[\"dachshund case\",0.0,0.0,0.0,0.0,0.0,12.763483535311371,1.3855688436179348,0.914856882358379,0.9,0.9],[\"daves killer bread\",7.684818934934552,0.9935368827536186,0.29155904987671,0.4,0.4,7.684818934934552,1.256264807683502,0.3686580539482399,0.4,0.4],[\"definitely not paid enough for this\",0.0,0.0,0.0,0.0,0.0,0.0,0.0,0.0,0.0,0.0],[\"dental floss 0.3\",0.0,0.0,0.0,0.0,0.0,0.0,0.0,0.0,0.0,0.0],[\"detective pikachu digital\",9.127115172780828,1.4178298618481306,0.7302927298895479,0.6,0.6,9.096469552654307,1.2831703684505418,0.6609326101141876,0.6,0.6],[\"dieter roth\",13.630678014265037,1.3630678014265036,1.0,1.0,1.0,13.630678014265037,1.3630678014265036,1.0,1.0,1.0],[\"dildo for sex\",0.0,0.0,0.0,0.0,0.0,0.0,0.0,0.0,0.0,0.0],[\"dinosaur decorations orange\",6.553889181363095,1.4102250233556868,0.4138385550241393,0.4,0.4,10.342610987513432,1.2721349266476636,0.7466304612676345,0.8,0.8],[\"dji goggles\",0.0,0.0,0.0,0.0,0.0,8.128424804695504,0.8884021426276854,0.5865899902617786,0.5,0.9],[\"do not enter tape\",4.892789260714372,1.0075080958406264,0.1478294909154526,0.2,0.2,7.053889181363095,1.1954738193796115,0.3508185926271611,0.4,0.4],[\"double couple famous painting compression socks\",5.892789260714372,1.1243242653065564,0.2528159637371905,0.3,0.3,5.892789260714372,1.84123967142861,0.4140218230338122,0.3,0.3],[\"drone with live camera for adults\",3.0,1.2920296742201791,0.0947883643695507,0.1,0.1,6.392789260714372,1.265293082568772,0.2784805894273036,0.3,0.3],[\"drywall anchors heavy duty\",4.892789260714372,2.0343107806620333,0.2984900352767555,0.2,0.2,7.684818934934552,1.796204733733638,0.5271064966405455,0.4,0.4],[\"dummy door handle brass\",6.053889181363095,1.3401628088860615,0.4110745015388912,0.4,0.4,8.845377356638178,1.3050118461468014,0.5003655997988836,0.5,0.5],[\"echo dot flush mount\",4.2618595071429155,1.8868528072345416,0.3520888750600427,0.2,0.2,3.0,3.0,0.2799017022234609,0.1,0.1],[\"eye mask without strap\",0.0,0.0,0.0,0.0,0.0,9.913998917962244,1.2559277318847826,0.6449784899909481,0.7,0.7],[\"ez bow maker for ribbon\",9.913998917962244,1.551815906564595,0.6830838076905165,0.6,0.6,9.913998917962244,1.52717895444333,0.6722390270733756,0.6,0.6],[\"fabric aprons\",0.0,0.0,0.0,0.0,0.0,4.892789260714372,0.9335972394768316,0.1369847102983117,0.2,0.2],[\"fast charging wireless charger\",0.0,0.0,0.0,0.0,0.0,0.0,0.0,0.0,0.0,0.0],[\"fire 7 kids edition tablet\",4.892789260714372,2.14601483711009,0.4004488039359449,0.2,0.2,4.823465818787765,0.974139844330949,0.3635512008425732,0.2,0.4],[\"fitness rollers deep tissue massage\",3.0,3.0,0.2200917662980801,0.1,0.1,4.892789260714372,1.1460148371100898,0.1681522864689108,0.2,0.2],[\"fletchings for arrows\",0.0,0.0,0.0,0.0,0.0,7.583517849495262,1.4042419314495742,0.5379186855103489,0.4,0.5],[\"floral wallpaper stick and peel\",12.763483535311371,1.3957840503267749,0.9216017310213248,0.9,0.9,12.763483535311371,1.3957840503267749,0.9216017310213248,0.9,0.9],[\"fluoride coated scissors\",11.86039354831943,1.4704354419139216,0.8630152897016882,0.8,0.8,11.86039354831943,1.4339317326363992,0.8415908474314976,0.8,0.8],[\"four paws magic coat instant dog mat remover\",12.315213137479308,1.2315213137479308,0.9034923372550476,0.9,1.0,11.856972399795954,1.1856972399795953,0.8698739994728926,0.9,1.0],[\"frixion pens\",4.892789260714372,1.0796120765869217,0.1584091525685025,0.2,0.2,4.892789260714372,0.9335972394768316,0.1369847102983117,0.2,0.2],[\"frolic flowers\",0.0,0.0,0.0,0.0,0.1,0.0,0.0,0.0,0.0,0.1],[\"futon queen\",1.6309297535714575,0.3730707174295609,0.0571644259945868,0.0,0.2,2.8927892607143724,0.9614797138958184,0.1473244438185408,0.1,0.2],[\"galaxy 8 note case\",3.0,0.9030899869919436,0.066254223454389,0.1,0.1,0.0,0.0,0.0,0.0,0.0],[\"gatorade bottle\",4.892789260714372,1.180325617772123,0.1731866333482261,0.2,0.2,4.892789260714372,1.951544993495972,0.2863459897524692,0.2,0.2],[\"gift teen girl\",0.0,0.0,0.0,0.0,0.0,0.0,0.0,0.0,0.0,0.0],[\"girls bible\",6.392789260714372,1.265293082568772,0.2784805894273036,0.3,0.3,3.0,0.9030899869919436,0.066254223454389,0.1,0.1],[\"girls tights\",3.0,0.9030899869919436,0.066254223454389,0.1,0.1,3.0,3.0,0.2200917662980801,0.1,0.1],[\"glitter lamp color change\",0.0,0.0,0.0,0.0,0.0,4.892789260714372,2.446394630357186,0.3948413620601649,0.2,0.2],[\"go chef 8 in 1 cooker\",3.0,1.2920296742201791,0.1151741929366216,0.1,0.1,3.0,1.5,0.1337130971927597,0.1,0.1],[\"golf sets for men left handed\",4.892789260714372,0.9067945546554248,0.1330520101357289,0.2,0.2,6.392789260714372,1.9871369406794797,0.43735247915031,0.3,0.3],[\"ground lift box\",0.0,0.0,0.0,0.0,0.0,6.392789260714372,1.9319597492354388,0.4252084336260237,0.3,0.3],[\"halloween glow bracelets kids\",3.0,1.0,0.07336392209936,0.1,0.1,3.0,0.9030899869919436,0.066254223454389,0.1,0.1],[\"heavy duty plastic folders with pockets\",6.392789260714372,1.6759176335524295,0.3688556721386529,0.3,0.3,3.0,1.1605584217036249,0.085143117641621,0.1,0.1],[\"helen kaminski hats\",0.0,0.0,0.0,0.0,0.0,0.0,0.0,0.0,0.0,0.0],[\"henley shirts for men\",0.0,0.0,0.0,0.0,0.0,0.0,0.0,0.0,0.0,0.0],[\"hey water antoinette portis\",3.0,1.1605584217036249,0.1179716355827032,0.1,0.1,3.0,1.0686215613240666,0.1086261846459085,0.1,0.1],[\"hug machine\",3.6309297535714578,0.9077324383928644,0.5577409001984587,0.1,0.4,3.6309297535714578,1.8154648767857289,0.5577409001984587,0.1,0.2],[\"if lost or drunk please return to bestie\",13.630678014265037,1.3630678014265036,1.0,1.0,1.0,13.630678014265037,1.3630678014265036,1.0,1.0,1.0],[\"ikea wood desk\",6.392789260714372,1.8154648767857289,0.4379520106676948,0.3,0.3,2.8927892607143724,1.4463946303571862,0.2326131246726584,0.1,0.2],[\"ink 61 black and color\",0.0,0.0,0.0,0.0,0.0,10.913998917962244,1.4381470865099242,0.7385567757549498,0.7,0.7],[\"instant pot air fryer\",3.0,1.0686215613240666,0.0783982689786753,0.1,0.1,3.3927892607143724,0.590094821981869,0.1298750116533407,0.2,0.3],[\"iphone 11 alpha glass screen protector\",1.5,0.5,0.1487045060293216,0.1,0.3,3.0,1.0,0.2974090120586433,0.1,0.3],[\"iphone grip\",4.2618595071429155,1.002222024218112,0.147053877022001,0.2,0.2,0.0,0.0,0.0,0.0,0.0],[\"jbl bluetooth speakers\",3.0,0.9030899869919436,0.066254223454389,0.1,0.1,3.0,1.8927892607143724,0.1388624438735545,0.1,0.1],[\"jobs evergreen tree spikes\",13.040583192283169,1.3040583192283166,0.9774367618500638,1.0,1.0,12.985406000839124,1.2985406000839126,0.9733010407294808,1.0,1.0],[\"kid animal plates\",4.2618595071429155,1.8868528072345416,0.2768538447258275,0.2,0.2,5.892789260714372,1.0436432511904858,0.229697286539585,0.3,0.3],[\"kids play rug pj mask\",0.0,0.0,0.0,0.0,0.0,0.0,0.0,0.0,0.0,0.0],[\"kobe baby jersey\",6.392789260714372,2.1309297535714573,0.4690000933206747,0.3,0.3,6.392789260714372,1.1759176335524295,0.2588097889896127,0.3,0.3],[\"laptop refurbished\",0.0,0.0,0.0,0.0,0.0,0.0,0.0,0.0,0.0,0.0],[\"latex dental dam\",9.913998917962244,1.4086276497599184,0.7233971441479391,0.7,0.7,11.776346594631894,1.293726785953951,0.85421584028323,0.9,0.9],[\"lg v20 case\",4.892789260714372,1.1835972394768317,0.1736666713479918,0.2,0.2,4.892789260714372,1.379991869834018,0.2024832320725062,0.2,0.2],[\"lights bulbs color changing\",0.0,0.0,0.0,0.0,0.0,4.892789260714372,1.397939623853158,0.2051166673279436,0.2,0.2],[\"linkin park\",6.392789260714372,1.9319597492354388,0.4252084336260237,0.3,0.3,8.845377356638178,1.650688099251724,0.605504765619221,0.5,0.5],[\"long workout tank tops for women loose fit\",3.0,3.0,0.2200917662980801,0.1,0.1,10.913998917962244,1.4997725777493431,0.7702043899253146,0.7,0.7],[\"macaw toys\",3.0,1.2920296742201791,0.0947883643695507,0.1,0.1,6.392789260714372,1.3511158941393324,0.2973694836145356,0.3,0.3],[\"margarita glasses\",11.86039354831943,1.4659485034091366,0.8603818544462509,0.8,0.8,9.913998917962244,1.6319619978325608,0.7183627972686238,0.6,0.6],[\"mary meyer baby mat\",11.86039354831943,1.4825491935399286,0.9094987067248556,0.8,0.8,12.462453539647392,1.3847170599608214,0.955666886663636,0.9,0.9],[\"maxi pads without wings\",6.392789260714372,1.2430599943425638,0.2735872697693364,0.3,0.3,9.913998917962244,1.5547675501653504,0.6843830725976618,0.6,0.6],[\"men school bag\",0.0,0.0,0.0,0.0,0.0,0.0,0.0,0.0,0.0,0.0],[\"mens ralph lauren puffer jacket\",7.684818934934552,1.6115986575892969,0.4729327934832576,0.4,0.4,7.684818934934552,1.7097959727678895,0.501749354207772,0.4,0.4],[\"military face paint kit\",10.913998917962244,1.412629162314505,0.7254521107352792,0.7,0.7,4.892789260714372,0.8851422329728036,0.1298750116533407,0.2,0.2],[\"mora wood carving knife\",13.630678014265037,1.3630678014265036,1.0,1.0,1.0,13.630678014265037,1.3630678014265036,1.0,1.0,1.0],[\"mortara\",6.392789260714372,1.9199945798893456,0.4225749983705864,0.3,0.3,12.99974826069358,1.299974826069358,0.9537125187088152,0.9,1.0],[\"moto play screen protector\",6.392789260714372,1.6759176335524295,0.3688556721386529,0.3,0.3,11.86039354831943,1.4605354229884813,0.8572048559638626,0.8,0.8],[\"mre beef\",9.913998917962244,1.4040499407066358,0.6180396628416764,0.6,0.6,9.913998917962244,1.4678409776502388,0.6461194268314837,0.6,0.6],[\"muzzy broadheads\",3.0,3.0,0.2200917662980801,0.1,0.1,11.86039354831943,1.35434984581984,0.7948833326720565,0.8,0.8],[\"my tv\",0.0,0.0,0.0,0.0,0.0,0.0,0.0,0.0,0.0,0.0],[\"navistar international\",0.0,0.0,0.0,0.0,0.0,13.630678014265037,1.3630678014265036,1.0,1.0,1.0],[\"neuroquell for neuropathy\",3.892789260714373,1.0109557689252056,0.1631654794495396,0.2,0.2,3.892789260714373,0.7490621162625606,0.1208965645128138,0.2,0.2],[\"newborn onesies\",0.0,0.0,0.0,0.0,0.0,6.392789260714372,1.9306765580733931,0.424926013816671,0.3,0.3],[\"ninja 4qt air fryer black af101\",6.053889181363095,1.3192189247060422,0.3871322976965424,0.4,0.4,6.553889181363095,1.4327784943561357,0.4204569993823276,0.4,0.4],[\"old fashion mix\",0.0,0.0,0.0,0.0,0.0,4.892789260714372,1.2262940479619022,0.1799314820111718,0.2,0.2],[\"opi linkin park after dark\",0.0,0.0,0.0,0.0,0.0,0.0,0.0,0.0,0.0,0.0],[\"orange textured paint\",0.0,0.0,0.0,0.0,0.1,0.0,0.0,0.0,0.0,0.0],[\"organicbone broth\",6.392789260714372,1.6895405204413556,0.3718539573761156,0.3,0.3,6.392789260714372,1.14527201342591,0.2520649403266671,0.3,0.3],[\"outdoor baby swing\",3.0,1.1605584217036249,0.085143117641621,0.1,0.1,4.892789260714372,2.25,0.3301376494471202,0.2,0.2],[\"pack abd play sheet\",7.684818934934552,1.2301355403429153,0.3609902718134873,0.4,0.4,7.684818934934552,1.1822949957569229,0.3469511918686965,0.4,0.4],[\"panties\",0.0,0.0,0.0,0.0,0.0,0.0,0.0,0.0,0.0,0.0],[\"patio chair swing\",3.0,1.0686215613240666,0.0783982689786753,0.1,0.1,4.892789260714372,1.201544993495972,0.1763001066034291,0.2,0.2],[\"phoenix model a330\",10.913998917962244,1.559142702566035,1.0,0.7,0.7,10.913998917962244,1.559142702566035,1.0,0.7,0.7],[\"pilot knee board\",13.630678014265037,1.3630678014265036,1.0,1.0,1.0,13.630678014265037,1.3630678014265036,1.0,1.0,1.0],[\"pine tree garland\",5.392789260714372,1.1229375197345757,0.2471493021607679,0.2,0.3,6.392789260714372,1.173736552415957,0.2583297509898471,0.3,0.3],[\"pink ski mask\",8.21444760306672,1.4288140355555663,0.5241170079948543,0.5,0.5,9.913998917962244,1.3980673560335892,0.6154062275862391,0.6,0.6],[\"plastic divider container\",6.392789260714372,1.8175293653079347,0.4000232483092519,0.3,0.3,7.684818934934552,1.2269513630989062,0.3600558568883671,0.4,0.4],[\"play kitchen for toddlers accessories\",3.0,0.9030899869919436,0.066254223454389,0.1,0.1,4.892789260714372,0.951544993495972,0.1396181455537491,0.2,0.2],[\"plus size black shirt\",3.0,1.1605584217036249,0.085143117641621,0.1,0.1,4.892789260714372,0.9335972394768316,0.1369847102983117,0.2,0.2],[\"plywood clips for windows\",10.817088904954186,1.1979103774351008,0.7909506325094736,0.7,0.9,12.763483535311371,1.2763483535311373,0.9363792118010482,0.9,1.0],[\"pocket storage\",4.892789260714372,1.0318242043477843,0.15139734109601,0.2,0.2,3.0,1.5,0.11004588314904,0.1,0.1],[\"pokemon shield nintendo switch\",8.845377356638178,1.6243938487484129,0.5958595188912912,0.5,0.5,7.684818934934552,1.4705526676587293,0.4315420454124845,0.4,0.4],[\"porch shades outdoor roll up\",6.392789260714372,2.1309297535714573,0.4690000933206747,0.3,0.3,7.684818934934552,1.7071513252480257,0.5009732673492617,0.4,0.4],[\"posh moomy\",0.0,0.0,0.0,0.0,0.0,0.0,0.0,0.0,0.0,0.0],[\"pot organizer\",4.892789260714372,1.3960148371100898,0.2048342475185909,0.2,0.2,6.392789260714372,1.3506711379627383,0.2972715964420571,0.3,0.3],[\"powdered lemonade drink mix\",3.892789260714373,0.789804426584854,0.1158863008514019,0.2,0.2,4.892789260714372,1.0318242043477843,0.15139734109601,0.2,0.2],[\"power ball hand exerciser\",0.0,0.0,0.0,0.0,0.0,5.754142376861158,1.3898639818452598,0.4078634915712081,0.4,0.4],[\"psp\",0.0,0.0,0.0,0.0,0.0,5.790786294672542,0.6765153613062581,0.2977909215953565,0.3,0.6],[\"pumping backpack\",4.892789260714372,1.379991869834018,0.2024832320725062,0.2,0.2,6.392789260714372,2.017782560805999,0.4440973278132556,0.3,0.3],[\"puzzle interlocking\",3.0,1.0,0.07336392209936,0.1,0.1,3.0,3.0,0.2200917662980801,0.1,0.1],[\"quick grip american tool mini\",0.0,0.0,0.0,0.0,0.0,0.0,0.0,0.0,0.0,0.0],[\"quickbooks'\",7.684818934934552,1.7381470239809511,0.510069131458292,0.4,0.4,10.913998917962244,1.4997725777493431,0.7702043899253146,0.7,0.7],[\"rae dunn christmas mug\",8.845377356638178,1.3399670253231608,0.491526182307598,0.5,0.5,9.913998917962244,1.1319156871989131,0.498250645792228,0.6,0.6],[\"rag doll kindergarten\",0.0,0.0,0.0,0.0,0.1,0.0,0.0,0.0,0.0,0.1],[\"raid deep reach fogger\",13.341613187947148,1.3341613187947148,0.9787930706003494,1.0,1.0,13.341613187947148,1.3341613187947148,0.9787930706003494,1.0,1.0],[\"razer kishi\",0.0,0.0,0.0,0.0,0.0,9.22533481770356,1.153166852212945,0.8544599587974354,0.5,0.8],[\"red flannel nightgowns for women\",5.392789260714372,1.453550411848082,0.3199144775469462,0.3,0.3,3.892789260714373,1.9463946303571864,0.2855902880722746,0.2,0.2],[\"red long sleeve dress\",3.0,1.2920296742201791,0.0947883643695507,0.1,0.1,3.0,1.1605584217036249,0.085143117641621,0.1,0.1],[\"renogy 100w solar panel\",4.2618595071429155,1.3026018174652083,0.1997766201493242,0.2,0.2,7.845377356638177,1.3390239322424249,0.5134064606231717,0.5,0.5],[\"reusable produce bags\",3.0,3.0,0.2200917662980801,0.1,0.1,3.0,1.1605584217036249,0.085143117641621,0.1,0.1],[\"ribeye steaks\",8.845377356638178,1.5412756740050444,0.5653701424067237,0.5,0.5,9.913998917962244,1.3347847950871623,0.5875502863571092,0.6,0.6],[\"rose petals for romantic night\",6.392789260714372,1.1065941916258226,0.2435522702101235,0.3,0.3,4.892789260714372,1.397939623853158,0.2051166673279436,0.2,0.2],[\"rudin by ivan turgenev\",13.315213137479308,1.3315213137479307,0.9768562593544076,1.0,1.0,13.243825207030495,1.3243825207030495,0.9716189607861264,1.0,1.0],[\"runa energy drink\",7.684818934934552,1.1822949957569229,0.6153925060653322,0.4,0.4,7.684818934934552,1.6651396054259062,0.8667163765466583,0.4,0.4],[\"runtz\",0.0,0.0,0.0,0.0,0.0,10.224458397520888,1.2124622156950244,0.6226568847846708,0.7,0.7],[\"rv sink drain\",6.392789260714372,1.7868837451814157,0.4110745015388912,0.3,0.3,1.0,0.3333333333333333,0.0255612290047415,0.0,0.1],[\"samsung galaxy note 8 case\",3.0,1.0686215613240666,0.0783982689786753,0.1,0.1,0.0,0.0,0.0,0.0,0.0],[\"science diet\",0.0,0.0,0.0,0.0,0.0,4.892789260714372,0.9858557741580052,0.1446524924330643,0.2,0.2],[\"shark vacmop\",0.0,0.0,0.0,0.0,0.0,4.892789260714372,2.14601483711009,0.4004488039359449,0.2,0.2],[\"slarm window sensor\",3.0,3.0,0.2200917662980801,0.1,0.1,3.0,1.0686215613240666,0.0783982689786753,0.1,0.1],[\"slip in sneakers for men\",0.0,0.0,0.0,0.0,0.0,0.0,0.0,0.0,0.0,0.0],[\"small cigarette case\",6.392789260714372,2.1309297535714573,0.4690000933206747,0.3,0.3,6.392789260714372,1.9871369406794797,0.43735247915031,0.3,0.3],[\"smarty jr\",0.0,0.0,0.0,0.0,0.0,0.0,0.0,0.0,0.0,0.0],[\"snuff bullet\",8.845377356638178,1.724393848748413,0.6325414799409712,0.5,0.5,10.913998917962244,1.5401704852737013,0.7909506325094736,0.7,0.7],[\"spice variety pack\",4.892789260714372,0.9731973151785932,0.1427951440361373,0.2,0.2,3.0,0.8671944789536635,0.0636207881989517,0.1,0.1],[\"ss officer\",9.913998917962244,1.3819156871989131,0.6082965289412681,0.6,0.6,9.913998917962244,1.416285559708892,0.7273298443105218,0.6,0.7],[\"starbucks mugs you are here\",11.86039354831943,1.4452570566176213,0.8482378089219647,0.8,0.8,13.630678014265037,1.3630678014265036,1.0,1.0,1.0],[\"still eyeliner\",3.0,1.0686215613240666,0.0783982689786753,0.1,0.1,3.0,1.8927892607143724,0.1388624438735545,0.1,0.1],[\"stuffed animal washer bag\",0.0,0.0,0.0,0.0,0.0,3.0,3.0,0.2200917662980801,0.1,0.1],[\"sundiata\",4.892789260714372,1.1309297535714575,0.2489083270225946,0.2,0.3,13.630678014265037,1.3630678014265036,1.0,1.0,1.0],[\"super nes wires\",3.892789260714373,0.6433248924902842,0.1603557976471755,0.2,0.3,4.2618595071429155,1.8333333333333333,0.3046523174128659,0.2,0.2],[\"surgical pathology\",10.913998917962244,1.5514847926170616,0.7967610662472991,0.7,0.7,12.763483535311371,1.4181648372568192,0.9363792118010482,0.9,0.9],[\"sushi go card game\",7.254142376861158,1.8135355942152895,0.6466492297915688,0.4,0.4,7.254142376861158,1.791623718795864,0.6388361505178799,0.4,0.4],[\"tcl a1x phone case straight talk\",9.283069164390788,1.5268070389039845,0.6720753159774391,0.6,0.6,10.729463794747971,0.9900449235303412,0.5810686291579747,0.8,0.8],[\"telescopic handle\",4.892789260714372,2.25,0.3450765915640106,0.2,0.2,4.892789260714372,2.0343107806620333,0.3119969023879004,0.2,0.2],[\"tetley\",3.0,1.5,0.11004588314904,0.1,0.1,12.763483535311371,1.3855688436179348,0.914856882358379,0.9,0.9],[\"the first years gate parts\",0.0,0.0,0.0,0.0,0.1,0.0,0.0,0.0,0.0,0.1],[\"the gallows\",12.841613187947148,1.2841613187947147,0.9421111095506692,1.0,1.0,12.684376005175144,1.2684376005175144,0.9305755731226611,1.0,1.0],[\"thrive mascara\",6.392789260714372,2.1309297535714573,0.5311576535478315,0.3,0.3,6.392789260714372,2.1309297535714573,0.5311576535478315,0.3,0.3],[\"trooper bandana shoe\",12.763483535311371,1.4181648372568192,0.9363792118010482,0.9,0.9,12.763483535311371,1.4093648204342055,0.9305687780632228,0.9,0.9],[\"ultra fast keto boost 800mg\",9.096469552654307,1.3457001170158058,0.6515768885367434,0.6,0.6,8.345377356638178,1.2563790555036891,0.5069403065466501,0.5,0.5],[\"uniball vision elite\",0.0,0.0,0.0,0.0,0.0,4.892789260714372,2.446394630357186,0.3589542101716347,0.2,0.2],[\"usb camera\",1.0,0.3562071871080222,0.0261327563262251,0.0,0.1,1.0,0.3333333333333333,0.0244546406997866,0.0,0.1],[\"used pc desktop\",0.0,0.0,0.0,0.0,0.0,0.0,0.0,0.0,0.0,0.0],[\"wallets for men\",0.0,0.0,0.0,0.0,0.0,0.0,0.0,0.0,0.0,0.0],[\"water brushes\",3.0,1.0,0.07336392209936,0.1,0.1,4.892789260714372,1.223197315178593,0.1794771050858173,0.2,0.2],[\"wella 7r 810\",0.0,0.0,0.0,0.0,0.0,3.0,3.0,0.2200917662980801,0.1,0.1],[\"white mesh bodysuit\",4.892789260714372,2.0343107806620333,0.3119969023879004,0.2,0.2,10.58066558462891,1.4197890287078865,0.7621226025256583,0.7,0.7],[\"wiggle scooters for kids\",8.845377356638178,1.5721302471088492,0.5766882048947065,0.5,0.5,9.913998917962244,1.453812093644902,0.6399441431116328,0.6,0.6],[\"winter cycling shoe covers\",10.913998917962244,1.2657705069027756,0.650033222048579,0.7,0.7,11.229463794747971,1.3548987298737445,0.7952054789678342,0.8,0.8],[\"winter jacket\",0.0,0.0,0.0,0.0,0.0,0.0,0.0,0.0,0.0,0.0],[\"wireless keyboard mouse combo\",6.392789260714372,1.856207187108022,0.4085359184257956,0.3,0.3,7.684818934934552,1.5330674925049088,0.4498873763727655,0.4,0.4],[\"women sexy dresses for party\",0.0,0.0,0.0,0.0,0.0,0.0,0.0,0.0,0.0,0.0],[\"women shawl for winter\",3.0,1.0686215613240666,0.0783982689786753,0.1,0.1,3.0,1.0,0.07336392209936,0.1,0.1],[\"wooden stool\",0.0,0.0,0.0,0.0,0.0,0.0,0.0,0.0,0.0,0.0],[\"woodwick wax melt\",13.630678014265037,1.3630678014265036,1.0,1.0,1.0,13.630678014265037,1.3630678014265036,1.0,1.0,1.0],[\"world of warcraft anniversary collector's edition\",10.913998917962244,1.504900507469097,0.772837825180752,0.7,0.7,10.913998917962244,1.36819004740672,0.7026305163854645,0.7,0.7],[\"wowled\",0.0,0.0,0.0,0.0,0.0,11.86039354831943,1.4825491935399286,0.9094987067248556,0.8,0.8],[\"yarn purple and pink\",6.754142376861158,1.0092064983806557,0.2961573877174654,0.4,0.4,5.2618595071429155,1.468211789346847,0.3231413260170123,0.3,0.3]],\"hovertemplate\":\"l2arithmetic_mean0.0 dcg=%{x}\\u003cbr\\u003el2arithmetic_mean1.0 dcg=%{y}\\u003cbr\\u003equery=%{customdata[0]}\\u003cbr\\u003el2arithmetic_mean0.0 dcg_dense=%{customdata[1]}\\u003cbr\\u003el2arithmetic_mean0.0 dg=%{customdata[2]}\\u003cbr\\u003el2arithmetic_mean0.0 ndcg=%{customdata[3]}\\u003cbr\\u003el2arithmetic_mean0.0 prec@10=%{customdata[4]}\\u003cbr\\u003el2arithmetic_mean0.0 ratio_of_ratings=%{customdata[5]}\\u003cbr\\u003el2arithmetic_mean1.0 dcg_dense=%{customdata[6]}\\u003cbr\\u003el2arithmetic_mean1.0 dg=%{customdata[7]}\\u003cbr\\u003el2arithmetic_mean1.0 ndcg=%{customdata[8]}\\u003cbr\\u003el2arithmetic_mean1.0 prec@10=%{customdata[9]}\\u003cbr\\u003el2arithmetic_mean1.0 ratio_of_ratings=%{customdata[10]}\\u003cextra\\u003e\\u003c\\u002fextra\\u003e\",\"legendgroup\":\"\",\"marker\":{\"color\":\"#636efa\",\"symbol\":\"circle\"},\"mode\":\"markers\",\"name\":\"\",\"orientation\":\"v\",\"showlegend\":false,\"x\":[0.6666666666666666,7.253440496258619,0.0,1.0,0.0,5.568621561324067,7.98332235988885,0.0,0.0,11.737888753550664,10.393831978323323,1.8135891093108496,2.0636484086955686,5.568621561324067,0.0,3.446394630357186,0.3868528072345416,0.0,0.6666666666666666,1.903089986991944,7.516058909290206,0.0,12.763483535311371,8.632269970019635,0.7124143742160444,6.999742312775183,5.1069530520608115,5.66307372665998,2.4722193181839174,0.0,1.0,12.43015020197804,0.0,0.8613531161467861,1.8927892607143724,11.86039354831943,8.24846734363012,0.0,4.807747746503972,0.0,12.33864834004486,0.0,1.0,0.0,0.0,12.763483535311371,7.461410822038439,1.2920296742201791,0.0,0.0,0.0,6.199835126615804,5.130929753571458,0.0,1.5,4.160558421703625,0.0,0.0,0.0,3.9741475310144745,0.0,0.0,8.506979171088783,13.630678014265037,0.0,5.640900093422747,0.0,2.015016191681253,3.372972795919669,1.2920296742201791,4.068621561324067,5.360651235544246,3.7737056144690833,0.0,9.310895439387568,0.0,0.0,4.29202967422018,3.0,0.0,12.56205645294097,11.763483535311371,12.315213137479308,2.159224153173843,0.0,0.7461414348591218,0.9030899869919436,2.360651235544246,0.0,3.795879247706316,0.9030899869919436,0.0,1.2920296742201791,1.8135891093108496,0.0,1.0,5.027752900657289,0.0,0.0,1.1605584217036249,3.6309297535714578,13.630678014265037,5.446394630357187,0.0,1.0686215613240666,1.5,2.004444048436224,0.9030899869919436,13.040583192283169,3.7737056144690833,0.0,6.392789260714372,0.0,9.86039354831943,2.3671944789536634,0.0,5.795879247706316,3.0,1.2920296742201791,11.727588027273091,11.86039354831943,3.729179983027691,0.0,6.446394630357187,9.888404136201537,13.630678014265037,5.759983739668036,5.027752900657289,8.424299644239815,3.0,0.0,0.0,2.021911537850411,0.0,5.276875698824168,0.0,0.0,0.0,5.068621561324067,1.1605584217036249,4.920542161371661,0.0,1.0686215613240666,10.913998917962244,13.630678014265037,3.368812559203726,7.144070177777833,5.4525880959238044,0.9030899869919436,1.1605584217036249,10.781193396915906,2.0636484086955686,8.121969243742065,6.392789260714372,0.0,2.7920296742201796,1.579608853169708,0.0,0.0,2.759983739668036,1.0,0.0,6.9525880959238044,6.699835126615804,0.0,13.341613187947148,0.0,4.360651235544246,1.2920296742201791,2.6052036349304166,3.0,7.706378370025222,3.319782574877468,13.315213137479308,4.7291799830276915,0.0,5.360651235544246,1.0686215613240666,0.0,0.0,3.0,0.0,6.392789260714372,0.0,8.621969243742065,1.9463946303571864,8.291494123193479,11.56205645294097,1.0686215613240666,0.0,3.3927892607143724,1.9299746774708528,10.86039354831943,7.254142376861159,9.160842233423908,4.5,1.5,0.0,12.841613187947148,6.392789260714372,12.763483535311371,8.074200702094833,0.0,0.3562071871080222,0.0,0.0,1.0,0.0,4.068621561324067,7.860651235544246,8.86039354831943,0.0,5.568621561324067,0.0,1.0686215613240666,0.0,13.630678014265037,10.53430355228368,0.0,4.036825993522622],\"xaxis\":\"x\",\"y\":[2.0,4.29202967422018,0.0,0.6020599913279624,0.0,3.0,7.49543056260184,3.0,0.0,11.737888753550664,12.340735220038551,2.446394630357186,3.0533476824179973,5.961410822038439,10.498408044245402,10.913998917962244,3.3562071871080223,0.0,0.0,0.9463946303571862,7.181511066864708,0.0,12.727588027273091,10.366936791728849,6.666494875183456,7.184818934934552,9.791771986995364,4.080751480370515,3.0,0.0,2.5,10.691514294303056,0.9463946303571862,6.623212623289701,0.0,12.727588027273091,7.008708770522974,0.0,3.03071774855958,0.0,12.470119592561412,0.0,0.9463946303571862,0.0,0.0,11.523724962204229,3.0,0.0,0.0,0.0,0.0,4.068621561324067,0.0,0.0,3.0533476824179973,4.892789260714372,0.0,0.0,12.470119592561412,5.025059230734008,0.0,0.0,7.69902221070325,13.630678014265037,0.0,10.177079413181309,7.995619283649168,4.781895277518447,5.52371901428583,3.795879247706316,7.184818934934552,6.525059230734008,3.0,8.791494123193479,9.16307372665998,1.8671944789536632,0.0,3.896559377323796,2.2920296742201796,7.021209657247871,12.56205645294097,11.471453861091195,11.856972399795954,1.8671944789536632,0.0,1.9229594277916369,0.0,3.903089986991944,0.0,0.9030899869919436,3.0,4.892789260714372,1.5,5.961410822038439,5.795879247706316,0.9030899869919436,1.1605584217036249,0.0,0.0,1.0686215613240666,3.6309297535714578,13.630678014265037,2.8927892607143724,10.067029605569468,1.7702844659456072,3.0,0.0,1.8927892607143724,12.985406000839124,3.1309297535714578,0.0,3.5277529006572883,0.0,11.643541073585558,2.759983739668036,2.795879247706316,8.25344049625862,10.498408044245402,4.053347682417997,9.791771986995364,12.462453539647392,9.328605300992102,0.0,6.839183891071558,1.7702844659456072,13.630678014265037,12.99974826069358,11.68428338390785,8.807045865901433,10.834798766558722,0.0,13.630678014265037,1.4981242325251212,5.79202967422018,5.731113977424542,2.4525880959238044,0.0,0.0,3.43581604027773,4.5,4.7291799830276915,0.0,2.403089986991944,10.913998917962244,13.630678014265037,3.521209657247871,8.388404136201535,4.907805452395625,1.903089986991944,1.8671944789536632,12.763483535311371,1.5,5.882210670634917,6.828605300992103,0.0,4.052013413888216,2.0636484086955686,5.559455927381039,4.059092167837549,6.053347682417997,3.0,0.0,10.498408044245402,6.791494123193479,0.0,13.341613187947148,9.22533481770356,3.892789260714373,1.1605584217036249,6.695119661212123,1.1605584217036249,8.008708770522974,2.795879247706316,13.243825207030495,6.660558421703625,8.48723550986517,0.3333333333333333,0.0,1.9717115483160104,4.29202967422018,1.0686215613240666,0.0,5.961410822038439,0.0,10.781193396915906,0.8671944789536635,9.913998917962244,13.630678014265037,1.8927892607143724,3.0,13.630678014265037,3.6666666666666665,12.763483535311371,7.166494875183456,7.92035938824273,4.068621561324067,12.470119592561412,0.0,12.684376005175144,6.392789260714372,12.68428338390785,6.281895277518448,4.892789260714372,0.3333333333333333,0.0,0.0,2.446394630357186,3.0,9.938523200955204,8.722872561869412,10.839189838989956,0.0,6.132269970019635,0.0,1.0,0.0,13.630678014265037,9.57733033184704,11.86039354831943,4.404635368040541],\"yaxis\":\"y\",\"type\":\"scatter\"}],                        {\"template\":{\"data\":{\"histogram2dcontour\":[{\"type\":\"histogram2dcontour\",\"colorbar\":{\"outlinewidth\":0,\"ticks\":\"\"},\"colorscale\":[[0.0,\"#0d0887\"],[0.1111111111111111,\"#46039f\"],[0.2222222222222222,\"#7201a8\"],[0.3333333333333333,\"#9c179e\"],[0.4444444444444444,\"#bd3786\"],[0.5555555555555556,\"#d8576b\"],[0.6666666666666666,\"#ed7953\"],[0.7777777777777778,\"#fb9f3a\"],[0.8888888888888888,\"#fdca26\"],[1.0,\"#f0f921\"]]}],\"choropleth\":[{\"type\":\"choropleth\",\"colorbar\":{\"outlinewidth\":0,\"ticks\":\"\"}}],\"histogram2d\":[{\"type\":\"histogram2d\",\"colorbar\":{\"outlinewidth\":0,\"ticks\":\"\"},\"colorscale\":[[0.0,\"#0d0887\"],[0.1111111111111111,\"#46039f\"],[0.2222222222222222,\"#7201a8\"],[0.3333333333333333,\"#9c179e\"],[0.4444444444444444,\"#bd3786\"],[0.5555555555555556,\"#d8576b\"],[0.6666666666666666,\"#ed7953\"],[0.7777777777777778,\"#fb9f3a\"],[0.8888888888888888,\"#fdca26\"],[1.0,\"#f0f921\"]]}],\"heatmap\":[{\"type\":\"heatmap\",\"colorbar\":{\"outlinewidth\":0,\"ticks\":\"\"},\"colorscale\":[[0.0,\"#0d0887\"],[0.1111111111111111,\"#46039f\"],[0.2222222222222222,\"#7201a8\"],[0.3333333333333333,\"#9c179e\"],[0.4444444444444444,\"#bd3786\"],[0.5555555555555556,\"#d8576b\"],[0.6666666666666666,\"#ed7953\"],[0.7777777777777778,\"#fb9f3a\"],[0.8888888888888888,\"#fdca26\"],[1.0,\"#f0f921\"]]}],\"heatmapgl\":[{\"type\":\"heatmapgl\",\"colorbar\":{\"outlinewidth\":0,\"ticks\":\"\"},\"colorscale\":[[0.0,\"#0d0887\"],[0.1111111111111111,\"#46039f\"],[0.2222222222222222,\"#7201a8\"],[0.3333333333333333,\"#9c179e\"],[0.4444444444444444,\"#bd3786\"],[0.5555555555555556,\"#d8576b\"],[0.6666666666666666,\"#ed7953\"],[0.7777777777777778,\"#fb9f3a\"],[0.8888888888888888,\"#fdca26\"],[1.0,\"#f0f921\"]]}],\"contourcarpet\":[{\"type\":\"contourcarpet\",\"colorbar\":{\"outlinewidth\":0,\"ticks\":\"\"}}],\"contour\":[{\"type\":\"contour\",\"colorbar\":{\"outlinewidth\":0,\"ticks\":\"\"},\"colorscale\":[[0.0,\"#0d0887\"],[0.1111111111111111,\"#46039f\"],[0.2222222222222222,\"#7201a8\"],[0.3333333333333333,\"#9c179e\"],[0.4444444444444444,\"#bd3786\"],[0.5555555555555556,\"#d8576b\"],[0.6666666666666666,\"#ed7953\"],[0.7777777777777778,\"#fb9f3a\"],[0.8888888888888888,\"#fdca26\"],[1.0,\"#f0f921\"]]}],\"surface\":[{\"type\":\"surface\",\"colorbar\":{\"outlinewidth\":0,\"ticks\":\"\"},\"colorscale\":[[0.0,\"#0d0887\"],[0.1111111111111111,\"#46039f\"],[0.2222222222222222,\"#7201a8\"],[0.3333333333333333,\"#9c179e\"],[0.4444444444444444,\"#bd3786\"],[0.5555555555555556,\"#d8576b\"],[0.6666666666666666,\"#ed7953\"],[0.7777777777777778,\"#fb9f3a\"],[0.8888888888888888,\"#fdca26\"],[1.0,\"#f0f921\"]]}],\"mesh3d\":[{\"type\":\"mesh3d\",\"colorbar\":{\"outlinewidth\":0,\"ticks\":\"\"}}],\"scatter\":[{\"fillpattern\":{\"fillmode\":\"overlay\",\"size\":10,\"solidity\":0.2},\"type\":\"scatter\"}],\"parcoords\":[{\"type\":\"parcoords\",\"line\":{\"colorbar\":{\"outlinewidth\":0,\"ticks\":\"\"}}}],\"scatterpolargl\":[{\"type\":\"scatterpolargl\",\"marker\":{\"colorbar\":{\"outlinewidth\":0,\"ticks\":\"\"}}}],\"bar\":[{\"error_x\":{\"color\":\"#2a3f5f\"},\"error_y\":{\"color\":\"#2a3f5f\"},\"marker\":{\"line\":{\"color\":\"#E5ECF6\",\"width\":0.5},\"pattern\":{\"fillmode\":\"overlay\",\"size\":10,\"solidity\":0.2}},\"type\":\"bar\"}],\"scattergeo\":[{\"type\":\"scattergeo\",\"marker\":{\"colorbar\":{\"outlinewidth\":0,\"ticks\":\"\"}}}],\"scatterpolar\":[{\"type\":\"scatterpolar\",\"marker\":{\"colorbar\":{\"outlinewidth\":0,\"ticks\":\"\"}}}],\"histogram\":[{\"marker\":{\"pattern\":{\"fillmode\":\"overlay\",\"size\":10,\"solidity\":0.2}},\"type\":\"histogram\"}],\"scattergl\":[{\"type\":\"scattergl\",\"marker\":{\"colorbar\":{\"outlinewidth\":0,\"ticks\":\"\"}}}],\"scatter3d\":[{\"type\":\"scatter3d\",\"line\":{\"colorbar\":{\"outlinewidth\":0,\"ticks\":\"\"}},\"marker\":{\"colorbar\":{\"outlinewidth\":0,\"ticks\":\"\"}}}],\"scattermapbox\":[{\"type\":\"scattermapbox\",\"marker\":{\"colorbar\":{\"outlinewidth\":0,\"ticks\":\"\"}}}],\"scatterternary\":[{\"type\":\"scatterternary\",\"marker\":{\"colorbar\":{\"outlinewidth\":0,\"ticks\":\"\"}}}],\"scattercarpet\":[{\"type\":\"scattercarpet\",\"marker\":{\"colorbar\":{\"outlinewidth\":0,\"ticks\":\"\"}}}],\"carpet\":[{\"aaxis\":{\"endlinecolor\":\"#2a3f5f\",\"gridcolor\":\"white\",\"linecolor\":\"white\",\"minorgridcolor\":\"white\",\"startlinecolor\":\"#2a3f5f\"},\"baxis\":{\"endlinecolor\":\"#2a3f5f\",\"gridcolor\":\"white\",\"linecolor\":\"white\",\"minorgridcolor\":\"white\",\"startlinecolor\":\"#2a3f5f\"},\"type\":\"carpet\"}],\"table\":[{\"cells\":{\"fill\":{\"color\":\"#EBF0F8\"},\"line\":{\"color\":\"white\"}},\"header\":{\"fill\":{\"color\":\"#C8D4E3\"},\"line\":{\"color\":\"white\"}},\"type\":\"table\"}],\"barpolar\":[{\"marker\":{\"line\":{\"color\":\"#E5ECF6\",\"width\":0.5},\"pattern\":{\"fillmode\":\"overlay\",\"size\":10,\"solidity\":0.2}},\"type\":\"barpolar\"}],\"pie\":[{\"automargin\":true,\"type\":\"pie\"}]},\"layout\":{\"autotypenumbers\":\"strict\",\"colorway\":[\"#636efa\",\"#EF553B\",\"#00cc96\",\"#ab63fa\",\"#FFA15A\",\"#19d3f3\",\"#FF6692\",\"#B6E880\",\"#FF97FF\",\"#FECB52\"],\"font\":{\"color\":\"#2a3f5f\"},\"hovermode\":\"closest\",\"hoverlabel\":{\"align\":\"left\"},\"paper_bgcolor\":\"white\",\"plot_bgcolor\":\"#E5ECF6\",\"polar\":{\"bgcolor\":\"#E5ECF6\",\"angularaxis\":{\"gridcolor\":\"white\",\"linecolor\":\"white\",\"ticks\":\"\"},\"radialaxis\":{\"gridcolor\":\"white\",\"linecolor\":\"white\",\"ticks\":\"\"}},\"ternary\":{\"bgcolor\":\"#E5ECF6\",\"aaxis\":{\"gridcolor\":\"white\",\"linecolor\":\"white\",\"ticks\":\"\"},\"baxis\":{\"gridcolor\":\"white\",\"linecolor\":\"white\",\"ticks\":\"\"},\"caxis\":{\"gridcolor\":\"white\",\"linecolor\":\"white\",\"ticks\":\"\"}},\"coloraxis\":{\"colorbar\":{\"outlinewidth\":0,\"ticks\":\"\"}},\"colorscale\":{\"sequential\":[[0.0,\"#0d0887\"],[0.1111111111111111,\"#46039f\"],[0.2222222222222222,\"#7201a8\"],[0.3333333333333333,\"#9c179e\"],[0.4444444444444444,\"#bd3786\"],[0.5555555555555556,\"#d8576b\"],[0.6666666666666666,\"#ed7953\"],[0.7777777777777778,\"#fb9f3a\"],[0.8888888888888888,\"#fdca26\"],[1.0,\"#f0f921\"]],\"sequentialminus\":[[0.0,\"#0d0887\"],[0.1111111111111111,\"#46039f\"],[0.2222222222222222,\"#7201a8\"],[0.3333333333333333,\"#9c179e\"],[0.4444444444444444,\"#bd3786\"],[0.5555555555555556,\"#d8576b\"],[0.6666666666666666,\"#ed7953\"],[0.7777777777777778,\"#fb9f3a\"],[0.8888888888888888,\"#fdca26\"],[1.0,\"#f0f921\"]],\"diverging\":[[0,\"#8e0152\"],[0.1,\"#c51b7d\"],[0.2,\"#de77ae\"],[0.3,\"#f1b6da\"],[0.4,\"#fde0ef\"],[0.5,\"#f7f7f7\"],[0.6,\"#e6f5d0\"],[0.7,\"#b8e186\"],[0.8,\"#7fbc41\"],[0.9,\"#4d9221\"],[1,\"#276419\"]]},\"xaxis\":{\"gridcolor\":\"white\",\"linecolor\":\"white\",\"ticks\":\"\",\"title\":{\"standoff\":15},\"zerolinecolor\":\"white\",\"automargin\":true,\"zerolinewidth\":2},\"yaxis\":{\"gridcolor\":\"white\",\"linecolor\":\"white\",\"ticks\":\"\",\"title\":{\"standoff\":15},\"zerolinecolor\":\"white\",\"automargin\":true,\"zerolinewidth\":2},\"scene\":{\"xaxis\":{\"backgroundcolor\":\"#E5ECF6\",\"gridcolor\":\"white\",\"linecolor\":\"white\",\"showbackground\":true,\"ticks\":\"\",\"zerolinecolor\":\"white\",\"gridwidth\":2},\"yaxis\":{\"backgroundcolor\":\"#E5ECF6\",\"gridcolor\":\"white\",\"linecolor\":\"white\",\"showbackground\":true,\"ticks\":\"\",\"zerolinecolor\":\"white\",\"gridwidth\":2},\"zaxis\":{\"backgroundcolor\":\"#E5ECF6\",\"gridcolor\":\"white\",\"linecolor\":\"white\",\"showbackground\":true,\"ticks\":\"\",\"zerolinecolor\":\"white\",\"gridwidth\":2}},\"shapedefaults\":{\"line\":{\"color\":\"#2a3f5f\"}},\"annotationdefaults\":{\"arrowcolor\":\"#2a3f5f\",\"arrowhead\":0,\"arrowwidth\":1},\"geo\":{\"bgcolor\":\"white\",\"landcolor\":\"#E5ECF6\",\"subunitcolor\":\"white\",\"showland\":true,\"showlakes\":true,\"lakecolor\":\"white\"},\"title\":{\"x\":0.05},\"mapbox\":{\"style\":\"light\"}}},\"xaxis\":{\"anchor\":\"y\",\"domain\":[0.0,1.0],\"title\":{\"text\":\"l2arithmetic_mean0.0 dcg\"}},\"yaxis\":{\"anchor\":\"x\",\"domain\":[0.0,1.0],\"title\":{\"text\":\"l2arithmetic_mean1.0 dcg\"}},\"legend\":{\"tracegroupgap\":0},\"margin\":{\"t\":60}},                        {\"responsive\": true}                    ).then(function(){\n",
       "                            \n",
       "var gd = document.getElementById('ee46ed22-3b8c-4c9e-aec0-1fa1a442ea9e');\n",
       "var x = new MutationObserver(function (mutations, observer) {{\n",
       "        var display = window.getComputedStyle(gd).display;\n",
       "        if (!display || display === 'none') {{\n",
       "            console.log([gd, 'removed!']);\n",
       "            Plotly.purge(gd);\n",
       "            observer.disconnect();\n",
       "        }}\n",
       "}});\n",
       "\n",
       "// Listen for the removal of the full notebook cells\n",
       "var notebookContainer = gd.closest('#notebook-container');\n",
       "if (notebookContainer) {{\n",
       "    x.observe(notebookContainer, {childList: true});\n",
       "}}\n",
       "\n",
       "// Listen for the clearing of the current output cell\n",
       "var outputEl = gd.closest('.output');\n",
       "if (outputEl) {{\n",
       "    x.observe(outputEl, {childList: true});\n",
       "}}\n",
       "\n",
       "                        })                };                });            </script>        </div>"
      ]
     },
     "metadata": {},
     "output_type": "display_data"
    }
   ],
   "source": [
    "px.scatter(\n",
    "    p_df,\n",
    "    x=\"l2arithmetic_mean0.0 dcg\",\n",
    "    y=\"l2arithmetic_mean1.0 dcg\",\n",
    "    hover_data=p_df.columns,\n",
    ")"
   ]
  },
  {
   "cell_type": "markdown",
>>>>>>> Stashed changes
   "id": "3aaf4cba-ba5b-42bf-bda5-784dc727172d",
   "metadata": {},
   "source": [
    "### Let's have a look at 15 microsoft card"
   ]
  },
  {
   "cell_type": "code",
   "execution_count": 78,
   "id": "a4985052-af1e-461d-8f13-c9a0c9680677",
   "metadata": {},
   "outputs": [
    {
     "data": {
      "text/html": [
       "<div>\n",
       "<style scoped>\n",
       "    .dataframe tbody tr th:only-of-type {\n",
       "        vertical-align: middle;\n",
       "    }\n",
       "\n",
       "    .dataframe tbody tr th {\n",
       "        vertical-align: top;\n",
       "    }\n",
       "\n",
       "    .dataframe thead tr th {\n",
       "        text-align: left;\n",
       "    }\n",
       "\n",
       "    .dataframe thead tr:last-of-type th {\n",
       "        text-align: right;\n",
       "    }\n",
       "</style>\n",
       "<table border=\"1\" class=\"dataframe\">\n",
       "  <thead>\n",
       "    <tr>\n",
       "      <th></th>\n",
       "      <th></th>\n",
       "      <th colspan=\"2\" halign=\"left\">product_id</th>\n",
       "      <th colspan=\"2\" halign=\"left\">rating</th>\n",
       "      <th colspan=\"2\" halign=\"left\">relevance</th>\n",
       "    </tr>\n",
       "    <tr>\n",
       "      <th></th>\n",
       "      <th>run</th>\n",
       "      <th>l2arithmetic_mean0.6</th>\n",
       "      <th>l2arithmetic_mean0.7</th>\n",
       "      <th>l2arithmetic_mean0.6</th>\n",
       "      <th>l2arithmetic_mean0.7</th>\n",
       "      <th>l2arithmetic_mean0.6</th>\n",
       "      <th>l2arithmetic_mean0.7</th>\n",
       "    </tr>\n",
       "    <tr>\n",
       "      <th>query_string</th>\n",
       "      <th>position</th>\n",
       "      <th></th>\n",
       "      <th></th>\n",
       "      <th></th>\n",
       "      <th></th>\n",
       "      <th></th>\n",
       "      <th></th>\n",
       "    </tr>\n",
       "  </thead>\n",
       "  <tbody>\n",
       "    <tr>\n",
       "      <th rowspan=\"10\" valign=\"top\">15 microsoft card</th>\n",
       "      <th>0</th>\n",
       "      <td>B09F8SFBJ1</td>\n",
       "      <td>B09F8SFBJ1</td>\n",
       "      <td>3.0</td>\n",
       "      <td>3.0</td>\n",
       "      <td>0.483787</td>\n",
       "      <td>0.564419</td>\n",
       "    </tr>\n",
       "    <tr>\n",
       "      <th>1</th>\n",
       "      <td>B00F4CEOS8</td>\n",
       "      <td>B077PD6L8G</td>\n",
       "      <td>3.0</td>\n",
       "      <td>NaN</td>\n",
       "      <td>0.138851</td>\n",
       "      <td>0.153894</td>\n",
       "    </tr>\n",
       "    <tr>\n",
       "      <th>2</th>\n",
       "      <td>B077PD6L8G</td>\n",
       "      <td>B077PM9C3Y</td>\n",
       "      <td>NaN</td>\n",
       "      <td>NaN</td>\n",
       "      <td>0.131909</td>\n",
       "      <td>0.153894</td>\n",
       "    </tr>\n",
       "    <tr>\n",
       "      <th>3</th>\n",
       "      <td>B077PM9C3Y</td>\n",
       "      <td>B077PDHSK9</td>\n",
       "      <td>NaN</td>\n",
       "      <td>NaN</td>\n",
       "      <td>0.131909</td>\n",
       "      <td>0.153894</td>\n",
       "    </tr>\n",
       "    <tr>\n",
       "      <th>4</th>\n",
       "      <td>B077PDHSK9</td>\n",
       "      <td>B08173ZTJX</td>\n",
       "      <td>NaN</td>\n",
       "      <td>NaN</td>\n",
       "      <td>0.131909</td>\n",
       "      <td>0.137558</td>\n",
       "    </tr>\n",
       "    <tr>\n",
       "      <th>5</th>\n",
       "      <td>B00F4CEHNK</td>\n",
       "      <td>B07T53H776</td>\n",
       "      <td>0.0</td>\n",
       "      <td>NaN</td>\n",
       "      <td>0.126833</td>\n",
       "      <td>0.137558</td>\n",
       "    </tr>\n",
       "    <tr>\n",
       "      <th>6</th>\n",
       "      <td>B00F4CEWOY</td>\n",
       "      <td>B081721LTM</td>\n",
       "      <td>3.0</td>\n",
       "      <td>NaN</td>\n",
       "      <td>0.12682</td>\n",
       "      <td>0.133276</td>\n",
       "    </tr>\n",
       "    <tr>\n",
       "      <th>7</th>\n",
       "      <td>B07GHDHKPN</td>\n",
       "      <td>B081VHSB2V</td>\n",
       "      <td>NaN</td>\n",
       "      <td>NaN</td>\n",
       "      <td>0.126392</td>\n",
       "      <td>0.127295</td>\n",
       "    </tr>\n",
       "    <tr>\n",
       "      <th>8</th>\n",
       "      <td>B00F4CF4PU</td>\n",
       "      <td>B074Z4HM7Z</td>\n",
       "      <td>NaN</td>\n",
       "      <td>NaN</td>\n",
       "      <td>0.126227</td>\n",
       "      <td>0.121985</td>\n",
       "    </tr>\n",
       "    <tr>\n",
       "      <th>9</th>\n",
       "      <td>B00F4CF39C</td>\n",
       "      <td>B083XCLQWP</td>\n",
       "      <td>3.0</td>\n",
       "      <td>NaN</td>\n",
       "      <td>0.12605</td>\n",
       "      <td>0.117005</td>\n",
       "    </tr>\n",
       "  </tbody>\n",
       "</table>\n",
       "</div>"
      ],
      "text/plain": [
       "                                     product_id                       \\\n",
       "run                        l2arithmetic_mean0.6 l2arithmetic_mean0.7   \n",
       "query_string      position                                             \n",
       "15 microsoft card 0                  B09F8SFBJ1           B09F8SFBJ1   \n",
       "                  1                  B00F4CEOS8           B077PD6L8G   \n",
       "                  2                  B077PD6L8G           B077PM9C3Y   \n",
       "                  3                  B077PM9C3Y           B077PDHSK9   \n",
       "                  4                  B077PDHSK9           B08173ZTJX   \n",
       "                  5                  B00F4CEHNK           B07T53H776   \n",
       "                  6                  B00F4CEWOY           B081721LTM   \n",
       "                  7                  B07GHDHKPN           B081VHSB2V   \n",
       "                  8                  B00F4CF4PU           B074Z4HM7Z   \n",
       "                  9                  B00F4CF39C           B083XCLQWP   \n",
       "\n",
       "                                         rating                       \\\n",
       "run                        l2arithmetic_mean0.6 l2arithmetic_mean0.7   \n",
       "query_string      position                                             \n",
       "15 microsoft card 0                         3.0                  3.0   \n",
       "                  1                         3.0                  NaN   \n",
       "                  2                         NaN                  NaN   \n",
       "                  3                         NaN                  NaN   \n",
       "                  4                         NaN                  NaN   \n",
       "                  5                         0.0                  NaN   \n",
       "                  6                         3.0                  NaN   \n",
       "                  7                         NaN                  NaN   \n",
       "                  8                         NaN                  NaN   \n",
       "                  9                         3.0                  NaN   \n",
       "\n",
       "                                      relevance                       \n",
       "run                        l2arithmetic_mean0.6 l2arithmetic_mean0.7  \n",
       "query_string      position                                            \n",
       "15 microsoft card 0                    0.483787             0.564419  \n",
       "                  1                    0.138851             0.153894  \n",
       "                  2                    0.131909             0.153894  \n",
       "                  3                    0.131909             0.153894  \n",
       "                  4                    0.131909             0.137558  \n",
       "                  5                    0.126833             0.137558  \n",
       "                  6                     0.12682             0.133276  \n",
       "                  7                    0.126392             0.127295  \n",
       "                  8                    0.126227             0.121985  \n",
       "                  9                     0.12605             0.117005  "
      ]
     },
     "execution_count": 78,
     "metadata": {},
     "output_type": "execute_result"
    }
   ],
   "source": [
    "query = '15 microsoft card'\n",
    "ix = (df_results['run'].isin(pipelines_to_check)) & (df_results['query_string'] == query)\n",
    "df_results[ix].pivot(index=[\"query_string\", \"position\"], columns=[\"run\"], values=[\"product_id\", \"rating\", \"relevance\"])"
   ]
  },
  {
   "cell_type": "markdown",
   "id": "444aa9fd-9be6-4a1d-bb77-813a259b73d5",
   "metadata": {},
   "source": [
    "*l2, arithmetic mean, 0.6 keyword, 0.4 keyword* vs. *l2, arithmetic mean, 0.7 keyword, 0.3 keyword*_\n",
    "* 50% missing judgements vs. 90% missing judgements\n",
    "* The DCG value of l2arithmetic_mean0.7 is based on more uncertainty for the missing judgements\n",
    "* The top hit (`B09F8SFBJ1`) is the same for both pipelines and the scores drop significantly (-0.35/-0.41) at positions 2 and following. This indicates only one strong textual match."
   ]
  },
  {
   "cell_type": "markdown",
   "id": "82eb36e7-4736-40a3-8782-ced08b48a37d",
   "metadata": {},
   "source": [
    "### Jaccard"
   ]
  },
  {
   "cell_type": "code",
   "execution_count": 25,
   "id": "5aca4373-bd94-401a-ac54-deba09782c45",
   "metadata": {},
   "outputs": [],
   "source": [
    "set_a = df_results[(df_results['run'] == 'l2arithmetic_mean0.6') & (df_results['query_string'] == query)]['product_id']\n",
    "set_b = df_results[(df_results['run'] == 'l2arithmetic_mean0.7') & (df_results['query_string'] == query)]['product_id']"
   ]
  },
  {
   "cell_type": "code",
   "execution_count": 41,
   "id": "dcbb1cfc-4f8c-4791-905a-97c70459ba04",
   "metadata": {},
   "outputs": [],
   "source": [
    "def jaccard_index(list1, list2):\n",
    "    # Convert the lists to sets to remove duplicates and allow set operations\n",
    "    set1 = set(list1)\n",
    "    set2 = set(list2)\n",
    "    \n",
    "    # Calculate the intersection and union of the two sets\n",
    "    intersection = set1.intersection(set2)\n",
    "    union = set1.union(set2)\n",
    "    \n",
    "    # Handle the case where both sets are empty\n",
    "    if not union:\n",
    "        return 1.0  # If both lists are empty, consider the similarity as 1\n",
    "    \n",
    "    # Jaccard index is the size of the intersection divided by the size of the union\n",
    "    # print(f\"Intersection: {intersection}\")\n",
    "    # print(f\"Union: {union}\")\n",
    "    return len(intersection) / len(union)"
   ]
  },
  {
   "cell_type": "code",
   "execution_count": 43,
   "id": "36b9c7b9-7002-4142-9d58-e4db163a5dc3",
   "metadata": {},
   "outputs": [
    {
     "name": "stdout",
     "output_type": "stream",
     "text": [
      "Jaccard index: 0.25\n"
     ]
    }
   ],
   "source": [
    "print(f\"Jaccard index: {jaccard_index(set_a, set_b)}\")"
   ]
  },
  {
   "cell_type": "markdown",
   "id": "dca37c28-a04d-4ca3-8eb3-2b24cf21caab",
   "metadata": {},
   "source": [
    "## Calcualte the Jaccard index for every query"
   ]
  },
  {
   "cell_type": "code",
   "execution_count": 62,
   "id": "66ffbef0-4837-434f-b0e1-415e1d154f91",
   "metadata": {},
   "outputs": [
    {
     "data": {
      "text/html": [
       "<div>\n",
       "<style scoped>\n",
       "    .dataframe tbody tr th:only-of-type {\n",
       "        vertical-align: middle;\n",
       "    }\n",
       "\n",
       "    .dataframe tbody tr th {\n",
       "        vertical-align: top;\n",
       "    }\n",
       "\n",
       "    .dataframe thead th {\n",
       "        text-align: right;\n",
       "    }\n",
       "</style>\n",
       "<table border=\"1\" class=\"dataframe\">\n",
       "  <thead>\n",
       "    <tr style=\"text-align: right;\">\n",
       "      <th></th>\n",
       "      <th>query_string</th>\n",
       "    </tr>\n",
       "  </thead>\n",
       "  <tbody>\n",
       "    <tr>\n",
       "      <th>0</th>\n",
       "      <td>$30 roblox gift card not digital</td>\n",
       "    </tr>\n",
       "    <tr>\n",
       "      <th>1</th>\n",
       "      <td>(fiction without frontiers)</td>\n",
       "    </tr>\n",
       "    <tr>\n",
       "      <th>2</th>\n",
       "      <td>100</td>\n",
       "    </tr>\n",
       "    <tr>\n",
       "      <th>3</th>\n",
       "      <td>10x10x6 cake box without window</td>\n",
       "    </tr>\n",
       "    <tr>\n",
       "      <th>4</th>\n",
       "      <td>15 inch light weight laptop that has lots of m...</td>\n",
       "    </tr>\n",
       "  </tbody>\n",
       "</table>\n",
       "</div>"
      ],
      "text/plain": [
       "                                        query_string\n",
       "0                   $30 roblox gift card not digital\n",
       "1                        (fiction without frontiers)\n",
       "2                                                100\n",
       "3                    10x10x6 cake box without window\n",
       "4  15 inch light weight laptop that has lots of m..."
      ]
     },
     "execution_count": 62,
     "metadata": {},
     "output_type": "execute_result"
    }
   ],
   "source": [
    "# Set b_most_judged to the same value you set in notebook 3 - otherwise the query sets won't match and the results will be meaningless\n",
    "b_most_judged = False\n",
    "\n",
    "if b_most_judged:\n",
    "    df_queries = pd.read_csv('most_judged.csv', usecols=[0])\n",
    "    # Transform the data so that it contains two columns: the index of the query as its identifier and the query\n",
    "else:\n",
    "    name = 'queries.txt'\n",
    "    df_queries = pd.read_csv('queries.txt', index_col=[0], sep='\\t', names=['query_string'])\n",
    "df_queries.head(5)"
   ]
  },
  {
   "cell_type": "code",
   "execution_count": 63,
   "id": "c1c70990-7947-4422-b579-812731552a54",
   "metadata": {},
   "outputs": [],
   "source": [
    "df_jaccard = []\n",
    "for query in df_queries.itertuples():\n",
    "    set_a = df_results[(df_results['run'] == 'l2arithmetic_mean0.6') & (df_results['query_string'] == query[1])]['product_id']\n",
    "    set_b = df_results[(df_results['run'] == 'l2arithmetic_mean0.7') & (df_results['query_string'] == query[1])]['product_id']\n",
    "    df_jaccard.append(pd.DataFrame({\n",
    "                \"query\": [query[1]],\n",
    "                \"jaccard\": [jaccard_index(set_a, set_b)],\n",
    "            }))\n",
    "df_jaccard = pd.concat(df_jaccard)\n",
    "df_jaccard.reset_index(drop=True, inplace=True)"
   ]
  },
  {
   "cell_type": "code",
   "execution_count": 64,
   "id": "14506731-9b49-4f76-82a2-660df6b3a19a",
   "metadata": {},
   "outputs": [
    {
     "data": {
      "text/html": [
       "<div>\n",
       "<style scoped>\n",
       "    .dataframe tbody tr th:only-of-type {\n",
       "        vertical-align: middle;\n",
       "    }\n",
       "\n",
       "    .dataframe tbody tr th {\n",
       "        vertical-align: top;\n",
       "    }\n",
       "\n",
       "    .dataframe thead th {\n",
       "        text-align: right;\n",
       "    }\n",
       "</style>\n",
       "<table border=\"1\" class=\"dataframe\">\n",
       "  <thead>\n",
       "    <tr style=\"text-align: right;\">\n",
       "      <th></th>\n",
       "      <th>query</th>\n",
       "      <th>jaccard</th>\n",
       "    </tr>\n",
       "  </thead>\n",
       "  <tbody>\n",
       "    <tr>\n",
       "      <th>102</th>\n",
       "      <td>ikea wood desk</td>\n",
       "      <td>0.111111</td>\n",
       "    </tr>\n",
       "    <tr>\n",
       "      <th>52</th>\n",
       "      <td>contact lens colored for eyes</td>\n",
       "      <td>0.176471</td>\n",
       "    </tr>\n",
       "    <tr>\n",
       "      <th>91</th>\n",
       "      <td>glitter lamp color change</td>\n",
       "      <td>0.176471</td>\n",
       "    </tr>\n",
       "    <tr>\n",
       "      <th>56</th>\n",
       "      <td>custom 3 panel wall art</td>\n",
       "      <td>0.250000</td>\n",
       "    </tr>\n",
       "    <tr>\n",
       "      <th>55</th>\n",
       "      <td>cousin it costume</td>\n",
       "      <td>0.250000</td>\n",
       "    </tr>\n",
       "    <tr>\n",
       "      <th>5</th>\n",
       "      <td>15 microsoft card</td>\n",
       "      <td>0.250000</td>\n",
       "    </tr>\n",
       "    <tr>\n",
       "      <th>79</th>\n",
       "      <td>fletchings for arrows</td>\n",
       "      <td>0.333333</td>\n",
       "    </tr>\n",
       "    <tr>\n",
       "      <th>98</th>\n",
       "      <td>henley shirts for men</td>\n",
       "      <td>0.333333</td>\n",
       "    </tr>\n",
       "    <tr>\n",
       "      <th>135</th>\n",
       "      <td>old fashion mix</td>\n",
       "      <td>0.333333</td>\n",
       "    </tr>\n",
       "    <tr>\n",
       "      <th>65</th>\n",
       "      <td>dinosaur decorations orange</td>\n",
       "      <td>0.333333</td>\n",
       "    </tr>\n",
       "    <tr>\n",
       "      <th>189</th>\n",
       "      <td>stuffed animal washer bag</td>\n",
       "      <td>0.428571</td>\n",
       "    </tr>\n",
       "    <tr>\n",
       "      <th>167</th>\n",
       "      <td>red flannel nightgowns for women</td>\n",
       "      <td>0.428571</td>\n",
       "    </tr>\n",
       "    <tr>\n",
       "      <th>159</th>\n",
       "      <td>pumping backpack</td>\n",
       "      <td>0.428571</td>\n",
       "    </tr>\n",
       "    <tr>\n",
       "      <th>182</th>\n",
       "      <td>small cigarette case</td>\n",
       "      <td>0.428571</td>\n",
       "    </tr>\n",
       "    <tr>\n",
       "      <th>100</th>\n",
       "      <td>hug machine</td>\n",
       "      <td>0.538462</td>\n",
       "    </tr>\n",
       "    <tr>\n",
       "      <th>18</th>\n",
       "      <td>backpacks lunchbox combo</td>\n",
       "      <td>0.538462</td>\n",
       "    </tr>\n",
       "    <tr>\n",
       "      <th>194</th>\n",
       "      <td>tcl a1x phone case straight talk</td>\n",
       "      <td>0.538462</td>\n",
       "    </tr>\n",
       "    <tr>\n",
       "      <th>157</th>\n",
       "      <td>power ball hand exerciser</td>\n",
       "      <td>0.666667</td>\n",
       "    </tr>\n",
       "    <tr>\n",
       "      <th>150</th>\n",
       "      <td>plywood clips for windows</td>\n",
       "      <td>0.818182</td>\n",
       "    </tr>\n",
       "    <tr>\n",
       "      <th>137</th>\n",
       "      <td>orange textured paint</td>\n",
       "      <td>0.818182</td>\n",
       "    </tr>\n",
       "    <tr>\n",
       "      <th>184</th>\n",
       "      <td>snuff bullet</td>\n",
       "      <td>0.818182</td>\n",
       "    </tr>\n",
       "    <tr>\n",
       "      <th>54</th>\n",
       "      <td>corn hole game wooden</td>\n",
       "      <td>0.818182</td>\n",
       "    </tr>\n",
       "    <tr>\n",
       "      <th>53</th>\n",
       "      <td>converse sneakers for women</td>\n",
       "      <td>0.818182</td>\n",
       "    </tr>\n",
       "    <tr>\n",
       "      <th>49</th>\n",
       "      <td>computer software programs adobe</td>\n",
       "      <td>0.818182</td>\n",
       "    </tr>\n",
       "    <tr>\n",
       "      <th>174</th>\n",
       "      <td>runa energy drink</td>\n",
       "      <td>0.818182</td>\n",
       "    </tr>\n",
       "  </tbody>\n",
       "</table>\n",
       "</div>"
      ],
      "text/plain": [
       "                                query   jaccard\n",
       "102                    ikea wood desk  0.111111\n",
       "52      contact lens colored for eyes  0.176471\n",
       "91          glitter lamp color change  0.176471\n",
       "56            custom 3 panel wall art  0.250000\n",
       "55                  cousin it costume  0.250000\n",
       "5                   15 microsoft card  0.250000\n",
       "79              fletchings for arrows  0.333333\n",
       "98              henley shirts for men  0.333333\n",
       "135                   old fashion mix  0.333333\n",
       "65        dinosaur decorations orange  0.333333\n",
       "189         stuffed animal washer bag  0.428571\n",
       "167  red flannel nightgowns for women  0.428571\n",
       "159                  pumping backpack  0.428571\n",
       "182              small cigarette case  0.428571\n",
       "100                       hug machine  0.538462\n",
       "18           backpacks lunchbox combo  0.538462\n",
       "194  tcl a1x phone case straight talk  0.538462\n",
       "157         power ball hand exerciser  0.666667\n",
       "150         plywood clips for windows  0.818182\n",
       "137             orange textured paint  0.818182\n",
       "184                      snuff bullet  0.818182\n",
       "54              corn hole game wooden  0.818182\n",
       "53        converse sneakers for women  0.818182\n",
       "49   computer software programs adobe  0.818182\n",
       "174                 runa energy drink  0.818182"
      ]
     },
     "execution_count": 64,
     "metadata": {},
     "output_type": "execute_result"
    }
   ],
   "source": [
    "df_jaccard.sort_values(by='jaccard').head(25)"
   ]
  },
  {
   "cell_type": "markdown",
   "id": "cb6eba47-dcb4-4ea0-abdc-b7ab647a5ab3",
   "metadata": {},
   "source": [
    "Unfortunately, we do not get the scores of the subqueries. [See this Feature request](https://github.com/opensearch-project/neural-search/issues/658).\n",
    "\n",
    "Given that we can only manually look at the query results and interpret the differences that way."
   ]
  },
  {
   "cell_type": "code",
   "execution_count": 84,
   "id": "8bca7be8-9ea7-4f48-815f-1b4ad6e60196",
   "metadata": {},
   "outputs": [],
   "source": [
    "query = '15 microsoft card'\n",
    "pipeline_name = 'l2arithmetic_mean0.6'\n",
    "#pipeline_name = 'l2arithmetic_mean0.7'\n",
    "url = \"http://localhost:9200/ecommerce/_search?search_pipeline=\" + pipeline_name\n",
    "    \n",
    "headers = {\n",
    "    'Content-Type': 'application/json'\n",
    "}\n",
    "\n",
    "payload = {\n",
    "      \"_source\": {\n",
    "        \"excludes\": [\n",
    "          \"title_embedding\"\n",
    "        ]\n",
    "      },\n",
    "      \"query\": {\n",
    "        \"hybrid\": {\n",
    "          \"queries\": [\n",
    "            {\n",
    "              \"multi_match\" : {\n",
    "                  \"type\":       \"best_fields\",\n",
    "                  \"fields\":     [\n",
    "                    \"product_id^100\",\n",
    "                    \"product_bullet_point^3\",\n",
    "                    \"product_color^2\",\n",
    "                    \"product_brand^5\",\n",
    "                    \"product_description\",\n",
    "                    \"product_title^10\"\n",
    "                  ],\n",
    "                  \"operator\":   \"and\",\n",
    "                  \"query\":      query\n",
    "                }\n",
    "            },\n",
    "            {\n",
    "              \"neural\": {\n",
    "                \"title_embedding\": {\n",
    "                  \"query_text\": query,\n",
    "                  \"k\": 50\n",
    "                }\n",
    "              }\n",
    "            }\n",
    "          ]\n",
    "        }\n",
    "      }\n",
    "    }\n",
    "\n",
    "response = requests.request(\"POST\", url, headers=headers, data=json.dumps(payload)).json()"
   ]
  },
  {
   "cell_type": "code",
   "execution_count": 85,
   "id": "35712e6d-675d-435e-9a77-5dfb0d317151",
   "metadata": {},
   "outputs": [
    {
     "data": {
      "text/html": [
       "<style>.renderjson a              { text-decoration: none; }\n",
       ".renderjson .disclosure    { color: grey; font-size: 125%; }\n",
       ".renderjson .syntax        { color: grey; }\n",
       ".renderjson .string        { color: #fe46a5; }\n",
       ".renderjson .number        { color: #0f9b8e; }\n",
       ".renderjson .boolean       { color: black; }\n",
       ".renderjson .key           { color: #2684ff; }\n",
       ".renderjson .keyword       { color: gray; }\n",
       ".renderjson .object.syntax { color: gray; }\n",
       ".renderjson .array.syntax  { color: gray; }</style><div id=\"5fae1aef-c40c-47f1-950e-a36bf839b9e4\"></div>"
      ],
      "text/plain": [
       "<IPython.core.display.HTML object>"
      ]
     },
     "metadata": {},
     "output_type": "display_data"
    },
    {
     "data": {
      "text/html": [
       "<script>var renderjson=function(){var t=function(){for(var t=[];arguments.length;)t.push(n(s(Array.prototype.shift.call(arguments)),o(Array.prototype.shift.call(arguments))));return t},n=function(){for(var t=Array.prototype.shift.call(arguments),e=0;e<arguments.length;e++)arguments[e].constructor==Array?n.apply(this,[t].concat(arguments[e])):t.appendChild(arguments[e]);return t},e=function(t,n){return t.insertBefore(n,t.firstChild),t},r=function(t,n){var e=n||Object.keys(t);for(var r in e)if(Object.hasOwnProperty.call(t,e[r]))return!1;return!0},o=function(t){return document.createTextNode(t)},s=function(t){var n=document.createElement(\"span\");return t&&(n.className=t),n},l=function(t,n,e){var r=document.createElement(\"a\");return n&&(r.className=n),r.appendChild(o(t)),r.href=\"#\",r.onclick=function(t){return e(),t&&t.stopPropagation(),!1},r};function a(i,c,u,p,y){var _=u?\"\":c,f=function(r,a,i,c,u){var f,g=s(c),h=function(){f||n(g.parentNode,f=e(u(),l(y.hide,\"disclosure\",(function(){f.style.display=\"none\",g.style.display=\"inline\"})))),f.style.display=\"inline\",g.style.display=\"none\"};n(g,l(y.show,\"disclosure\",h),t(c+\" syntax\",r),l(a,null,h),t(c+\" syntax\",i));var d=n(s(),o(_.slice(0,-1)),g);return p>0&&\"string\"!=c&&h(),d};return null===i?t(null,_,\"keyword\",\"null\"):void 0===i?t(null,_,\"keyword\",\"undefined\"):\"string\"==typeof i&&i.length>y.max_string_length?f('\"',i.substr(0,y.max_string_length)+\" ...\",'\"',\"string\",(function(){return n(s(\"string\"),t(null,_,\"string\",JSON.stringify(i)))})):\"object\"!=typeof i||[Number,String,Boolean,Date].indexOf(i.constructor)>=0?t(null,_,typeof i,JSON.stringify(i)):i.constructor==Array?0==i.length?t(null,_,\"array syntax\",\"[]\"):f(\"[\",y.collapse_msg(i.length),\"]\",\"array\",(function(){for(var e=n(s(\"array\"),t(\"array syntax\",\"[\",null,\"\\n\")),r=0;r<i.length;r++)n(e,a(y.replacer.call(i,r,i[r]),c+\"    \",!1,p-1,y),r!=i.length-1?t(\"syntax\",\",\"):[],o(\"\\n\"));return n(e,t(null,c,\"array syntax\",\"]\")),e})):r(i,y.property_list)?t(null,_,\"object syntax\",\"{}\"):f(\"{\",y.collapse_msg(Object.keys(i).length),\"}\",\"object\",(function(){var e=n(s(\"object\"),t(\"object syntax\",\"{\",null,\"\\n\"));for(var r in i)var l=r;var u=y.property_list||Object.keys(i);for(var _ in y.sort_objects&&(u=u.sort()),u){(r=u[_])in i&&n(e,t(null,c+\"    \",\"key\",'\"'+r+'\"',\"object syntax\",\": \"),a(y.replacer.call(i,r,i[r]),c+\"    \",!0,p-1,y),r!=l?t(\"syntax\",\",\"):[],o(\"\\n\"))}return n(e,t(null,c,\"object syntax\",\"}\")),e}))}var i=function t(e){var r=new Object(t.options);r.replacer=\"function\"==typeof r.replacer?r.replacer:function(t,n){return n};var o=n(document.createElement(\"pre\"),a(e,\"\",!1,r.show_to_level,r));return o.className=\"renderjson\",o};return i.set_icons=function(t,n){return i.options.show=t,i.options.hide=n,i},i.set_show_to_level=function(t){return i.options.show_to_level=\"string\"==typeof t&&\"all\"===t.toLowerCase()?Number.MAX_VALUE:t,i},i.set_max_string_length=function(t){return i.options.max_string_length=\"string\"==typeof t&&\"none\"===t.toLowerCase()?Number.MAX_VALUE:t,i},i.set_sort_objects=function(t){return i.options.sort_objects=t,i},i.set_replacer=function(t){return i.options.replacer=t,i},i.set_collapse_msg=function(t){return i.options.collapse_msg=t,i},i.set_property_list=function(t){return i.options.property_list=t,i},i.set_show_by_default=function(t){return i.options.show_to_level=t?Number.MAX_VALUE:0,i},i.options={},i.set_icons(\"⊕\",\"⊖\"),i.set_show_by_default(!1),i.set_sort_objects(!1),i.set_max_string_length(\"none\"),i.set_replacer(void 0),i.set_property_list(void 0),i.set_collapse_msg((function(t){return t+\" item\"+(1==t?\"\":\"s\")})),i}(); renderjson.set_show_to_level(4); document.getElementById(\"5fae1aef-c40c-47f1-950e-a36bf839b9e4\").appendChild(renderjson({\"took\": 36, \"timed_out\": false, \"_shards\": {\"total\": 1, \"successful\": 1, \"skipped\": 0, \"failed\": 0}, \"hits\": {\"total\": {\"value\": 98, \"relation\": \"eq\"}, \"max_score\": 0.4837875, \"hits\": [{\"_index\": \"ecommerce\", \"_id\": \"B09F8SFBJ1\", \"_score\": 0.4837875, \"_source\": {\"product_bullet_point\": \"WHAT'S INCLUDED: Microsoft 365 Family 12 month subscription with auto-renewal for digital download and $50 Amazon Gift Card delivered by mail\\nGift Card is affixed inside a mini envelope. Gift Card has no fees and no expiration date\\nThe Gift Card you receive may not have the denomination displayed on the actual gift card. To check the purchased value, simply match the last 4 digits of the serial number on the back of the gift card to those listed in order details using the Amazon App or visit amazon com/yourorders\\nGift Card is affixed inside a mini envelope. Gift Card has no fees and no expiration date\\nBring out your best with premium Office apps, including Word, Excel, and PowerPoint. Easily access, edit, and share files and photos across all devices with 1 TB of OneDrive cloud storage.\", \"product_id\": \"B09F8SFBJ1\", \"product_locale\": \"us\", \"product_color\": null, \"product_brand\": \"Microsoft\", \"product_description\": null, \"product_title\": \"Microsoft 365 Personal 12 month auto-renewing subscription with $15 Amazon.com Gift Card\"}}, {\"_index\": \"ecommerce\", \"_id\": \"B00F4CEOS8\", \"_score\": 0.13850363, \"_source\": {\"product_bullet_point\": \"Buy an Xbox Gift Card for great games and entertainment on consoles and Windows PCs.\\nChoose from hundreds of games, from AAA to indie options.\\nExtend the experience of your favorite games with add-ons and in-game currency.\\nBrowse a massive library of new and popular movies and TV shows.\\nGreat as a gift to a friend or yourself.\", \"product_id\": \"B00F4CEOS8\", \"product_locale\": \"us\", \"product_color\": null, \"product_brand\": \"Microsoft\", \"product_description\": null, \"product_title\": \"$15 Xbox Gift Card [Digital Code]\"}}, {\"_index\": \"ecommerce\", \"_id\": \"B077PD6L8G\", \"_score\": 0.1319091, \"_source\": {\"product_bullet_point\": \"1.9GHz 8th Generation Intel Core i7-8650U Quad-Core (Up to 4.2GHz)\\n16GB of RAM, 1TB SSD Storage, Detachable Screen, 17 Hour Battery Life\\n15 Inch (3240 x 2160 Resolution) Touchscreen Display, NVIDIA GeForce GTX 1060 GPU (6GB GDDR5)\\nSDXC Media Card Slot, USB Type-C, USB 3.0 Type-A, 802.11ac Wi-F,| Bluetooth 4.1,Windows 10 Pro (64-Bit)\\nIncluded in Surface Book 2 15 Inch 1TB Bundle: Microsoft Surface Pen Platinum, USB Type-C to HDMI / VGA / DVI Adapter\", \"product_id\": \"B077PD6L8G\", \"product_locale\": \"us\", \"product_color\": null, \"product_brand\": \"Microsoft\", \"product_description\": \"The silver Microsoft 15\\\" Surface Book 2 Multi-Touch 2-in-1 Laptop is a high-performance laptop/tablet hybrid with power and versatility. With a 15\\\" PixelSense display, the Surface Book features a 3240 x 2160 screen resolution (260 ppi) and a 3:2 aspect ratio. The display also offers 10-point touch support so you can take full advantage of the multi-touch gestures incorporated into Windows 10 Pro. This version of Windows 10 Pro features Windows Creators Update, which extends your creativity and productivity with immersive virtual reality, 3D storytelling, and cross-device experiences. The system is powered by an 8th Gen Kaby Lake R 1.9 GHz Intel Core i7-8650U quad-core processor with a dedicated NVIDIA GeForce GTX 1060 graphics card with 6GB of GDDR5 VRAM. It also has 16GB of RAM, a 1TB solid-state drive, an SDXC media card slot, 802.11ac Wi-Fi, Bluetooth 4.1 LE, a 5MP front-facing camera, an 8MP rear-facing camera with autofocus and 1080p HD video recording, and dual integrated microphones. There are also built-in front-facing stereo speakers with Dolby audio.\", \"product_title\": \"Microsoft Surface Book 2 15 Inch 1TB i7 16GB RAM Bundle (1.9GHz i7 Up to 4.2GHz, 3240 x 2160 Resolution, NVIDIA GeForce GTX 1060)\"}}, {\"_index\": \"ecommerce\", \"_id\": \"B077PDHSK9\", \"_score\": 0.1319091, \"_source\": {\"product_bullet_point\": \"1.9GHz 8th Generation Intel Core i7-8650U Quad-Core (Up to 4.2GHz)\\n16GB of RAM, 512GB SSD Storage, Detachable Touchscreen Design, 17 Hour Battery Life\\n15 Inch 3240 x 2160 PixelSense Display, NVIDIA GeForce GTX 1060 GPU (6GB GDDR5)\\nSDXC Media Card Slot, USB Type-C, USB 3.0 Type-A, 802.11ac Wi-F,| Bluetooth 4.1,Windows 10 Pro (64-Bit)\\nIncluded in Surface Book 2 15 Inch 512GB Bundle: Microsoft Surface Pen Platinum, USB Type-C to HDMI / VGA / DVI Adapter\", \"product_id\": \"B077PDHSK9\", \"product_locale\": \"us\", \"product_color\": \"Silver\", \"product_brand\": \"Microsoft\", \"product_description\": \"The silver Microsoft 15\\\" Surface Book 2 Multi-Touch 2-in-1 Laptop is a high-performance laptop/tablet hybrid with power and versatility. With a 15\\\" PixelSense display, the Surface Book features a 3240 x 2160 screen resolution (260 ppi) and a 3:2 aspect ratio. The display also offers 10-point touch support so you can take full advantage of the multi-touch gestures incorporated into Windows 10 Pro. This version of Windows 10 Pro features Windows Creators Update, which extends your creativity and productivity with immersive virtual reality, 3D storytelling, and cross-device experiences. The system is powered by an 8th Gen Kaby Lake R 1.9 GHz Intel Core i7-8650U quad-core processor with a dedicated NVIDIA GeForce GTX 1060 graphics card with 6GB of GDDR5 VRAM. It also has 16GB of RAM, a 512GB solid-state drive, an SDXC media card slot, 802.11ac Wi-Fi, Bluetooth 4.1 LE, a 5MP front-facing camera, an 8MP rear-facing camera with autofocus and 1080p HD video recording, and dual integrated microphones. There are also built-in front-facing stereo speakers with Dolby audio.\", \"product_title\": \"2017 Surface Book 2 15\\\" Bundle (3 items): Core i7 16GB 512GB SSD, Surface Pen Platinum and Mini DisplayPort\"}}, {\"_index\": \"ecommerce\", \"_id\": \"B077PM9C3Y\", \"_score\": 0.1319091, \"_source\": {\"product_bullet_point\": \"1.9GHz 8th Generation Intel Core i7-8650U Quad-Core (Up to 4.2GHz)\\n16GB of RAM, 256GB SSD Storage, Detachable Screen Design, 17 Hour Battery Life\\n15 Inch (3240 x 2160 Resolution) TouchScreen Display, NVIDIA GeForce GTX 1060 GPU (6GB GDDR5)\\nSDXC Media Card Slot, USB Type-C, USB 3.0 Type-A, 802.11ac Wi-F,| Bluetooth 4.1,Windows 10 Pro (64-Bit)\\nIncluded in Surface Book 2 15 Inch 256GB i7 Bundle: Microsoft Surface Pen Platinum, USB Type-C to HDMI / VGA / DVI Adapter\", \"product_id\": \"B077PM9C3Y\", \"product_locale\": \"us\", \"product_color\": \"Silver\", \"product_brand\": \"Microsoft\", \"product_description\": \"The silver Microsoft 15\\\" Surface Book 2 Multi-Touch 2-in-1 Laptop is a high-performance laptop/tablet hybrid with power and versatility. With a 15\\\" PixelSense display, the Surface Book features a 3240 x 2160 screen resolution (260 ppi) and a 3:2 aspect ratio. The display also offers 10-point touch support so you can take full advantage of the multi-touch gestures incorporated into Windows 10 Pro. This version of Windows 10 Pro features Windows Creators Update, which extends your creativity and productivity with immersive virtual reality, 3D storytelling, and cross-device experiences. The system is powered by an 8th Gen Kaby Lake R 1.9 GHz Intel Core i7-8650U quad-core processor with a dedicated NVIDIA GeForce GTX 1060 graphics card with 6GB of GDDR5 VRAM. It also has 8GB of RAM, a 256GB solid-state drive, an SDXC media card slot, 802.11ac Wi-Fi, Bluetooth 4.1 LE, a 5MP front-facing camera, an 8MP rear-facing camera with autofocus and 1080p HD video recording, and dual integrated microphones. There are also built-in front-facing stereo speakers with Dolby audio.\", \"product_title\": \"Microsoft Surface Book 2 15-Inch 256GB i7 2-In-1 Laptop Bundle (16GB RAM, Detachable Touchscreen, Windows 10 Pro) 2017\"}}, {\"_index\": \"ecommerce\", \"_id\": \"B00F4CEHNK\", \"_score\": 0.12651567, \"_source\": {\"product_bullet_point\": \"Buy an Xbox Gift Card for great games and entertainment on consoles and Windows PCs.\\nChoose from hundreds of games, from AAA to indie options.\\nExtend the experience of your favorite games with add-ons and in-game currency.\\nBrowse a massive library of new and popular movies and TV shows.\\nGreat as a gift to a friend or yourself.\", \"product_id\": \"B00F4CEHNK\", \"product_locale\": \"us\", \"product_color\": null, \"product_brand\": \"Microsoft\", \"product_description\": null, \"product_title\": \"$10 Xbox Gift Card [Digital Code]\"}}, {\"_index\": \"ecommerce\", \"_id\": \"B00F4CEWOY\", \"_score\": 0.12650298, \"_source\": {\"product_bullet_point\": \"Buy an Xbox Gift Card for great games and entertainment on consoles and Windows PCs.\\nChoose from hundreds of games, from AAA to indie options.\\nExtend the experience of your favorite games with add-ons and in-game currency.\\nBrowse a massive library of new and popular movies and TV shows.\\nGreat as a gift to a friend or yourself.\", \"product_id\": \"B00F4CEWOY\", \"product_locale\": \"us\", \"product_color\": null, \"product_brand\": \"Microsoft\", \"product_description\": null, \"product_title\": \"$20 Xbox Gift Card [Digital Code]\"}}, {\"_index\": \"ecommerce\", \"_id\": \"B07GHDHKPN\", \"_score\": 0.12607618, \"_source\": {\"product_bullet_point\": \"This card is non-reloadable. No expiration of funds. NO cash or ATM access. Cards are shipped ready to use.\\nUse your Mastercard Gift Card in the U.S. everywhere Mastercard debit cards are accepted, including online. Your Amazon.com Balance cannot be used to purchase Visa gift cards.\\nA one-time $3.95 purchase fee applies at the time of purchase. No fees after purchase (including dormancy, service or other fees).\\nThis item is not eligible for refund or return. Only available for sale within the United States and Territories. Additional shipping restrictions apply to Hawaii, Kansas, New Mexico, South Dakota, US Virgin Islands, Vermont and West Virginia.\\nDo not provide any gift card details (such as the claim code) to someone you do not know or trust. There are a variety of scams in which fraudsters try to trick others into paying with gift cards. We want to make sure our customers are aware of potential scams that may involve asking for payment using gift cards. See \\\"Be Informed\\\" link at the top of the page to learn more.\", \"product_id\": \"B07GHDHKPN\", \"product_locale\": \"us\", \"product_color\": null, \"product_brand\": \"Mastercard\", \"product_description\": \"Mastercard Gift Cards are the ideal gift \\u2013 to give and receive. When you give a Mastercard Gift Card, your gift is the perfect choice for any occasion including holidays, birthdays, graduations, anniversaries, or any other celebration. Shop online and make purchases anywhere Debit Mastercards are accepted in the U.S. Purchase a Mastercard Gift Card and your gift will be perfect every time.\", \"product_title\": \"$25 Mastercard Gift Card (plus $3.95 Purchase Fee)\"}}, {\"_index\": \"ecommerce\", \"_id\": \"B00F4CF4PU\", \"_score\": 0.12591122, \"_source\": {\"product_bullet_point\": \"Buy an Xbox Gift Card for great games and entertainment on consoles and Windows PCs.\\nChoose from hundreds of games, from AAA to indie options.\\nExtend the experience of your favorite games with add-ons and in-game currency.\\nBrowse a massive library of new and popular movies and TV shows.\\nGreat as a gift to a friend or yourself.\", \"product_id\": \"B00F4CF4PU\", \"product_locale\": \"us\", \"product_color\": null, \"product_brand\": \"Microsoft\", \"product_description\": null, \"product_title\": \"$30 Xbox Gift Card [Digital Code]\"}}, {\"_index\": \"ecommerce\", \"_id\": \"B00F4CF39C\", \"_score\": 0.12573472, \"_source\": {\"product_bullet_point\": \"Buy an Xbox Gift Card for great games and entertainment on consoles and Windows PCs.\\nChoose from hundreds of games, from AAA to indie options.\\nExtend the experience of your favorite games with add-ons and in-game currency.\\nBrowse a massive library of new and popular movies and TV shows.\\nGreat as a gift to a friend or yourself.\", \"product_id\": \"B00F4CF39C\", \"product_locale\": \"us\", \"product_color\": null, \"product_brand\": \"Microsoft\", \"product_description\": null, \"product_title\": \"$25 Xbox Gift Card [Digital Code]\"}}]}}))</script>"
      ],
      "text/plain": [
       "<IPython.core.display.HTML object>"
      ]
     },
     "metadata": {},
     "output_type": "display_data"
    }
   ],
   "source": [
    "mr.JSON(response, level=4)"
   ]
  },
  {
   "cell_type": "markdown",
   "id": "ce02d6e4-7d61-4550-8d6c-556045370b03",
   "metadata": {},
   "source": [
    "### Compare with baseline (no neural search)"
   ]
  },
  {
   "cell_type": "code",
   "execution_count": 79,
   "id": "01a269a6-9619-4663-a9dd-743d26aaa6a4",
   "metadata": {},
   "outputs": [],
   "source": [
    "url = \"http://localhost:9200/ecommerce/_search\"\n",
    "\n",
    "payload = {\n",
    "  \"_source\": {\n",
    "    \"excludes\": [\n",
    "      \"title_embedding\"\n",
    "    ]\n",
    "  },\n",
    "  \"query\": {\n",
    "    \"multi_match\": {\n",
    "      \"type\": \"best_fields\",\n",
    "      \"fields\": [\n",
    "        \"product_id^100\",\n",
    "        \"product_bullet_point^3\",\n",
    "        \"product_color^2\",\n",
    "        \"product_brand^5\",\n",
    "        \"product_description\",\n",
    "        \"product_title^10\"\n",
    "      ],\n",
    "      \"operator\": \"and\",\n",
    "      \"query\": \"15 microsoft card\"\n",
    "    }\n",
    "  }\n",
    "}\n",
    "\n",
    "response = requests.request(\"POST\", url, headers=headers, data=json.dumps(payload)).json()"
   ]
  },
  {
   "cell_type": "code",
   "execution_count": 80,
   "id": "3c0d6e64-0ad4-4692-99ce-b0d0ee6802fe",
   "metadata": {},
   "outputs": [
    {
     "data": {
      "text/html": [
       "<style>.renderjson a              { text-decoration: none; }\n",
       ".renderjson .disclosure    { color: grey; font-size: 125%; }\n",
       ".renderjson .syntax        { color: grey; }\n",
       ".renderjson .string        { color: #fe46a5; }\n",
       ".renderjson .number        { color: #0f9b8e; }\n",
       ".renderjson .boolean       { color: black; }\n",
       ".renderjson .key           { color: #2684ff; }\n",
       ".renderjson .keyword       { color: gray; }\n",
       ".renderjson .object.syntax { color: gray; }\n",
       ".renderjson .array.syntax  { color: gray; }</style><div id=\"6e0de8a2-dfc5-42f3-af4f-916c804dba27\"></div>"
      ],
      "text/plain": [
       "<IPython.core.display.HTML object>"
      ]
     },
     "metadata": {},
     "output_type": "display_data"
    },
    {
     "data": {
      "text/html": [
       "<script>var renderjson=function(){var t=function(){for(var t=[];arguments.length;)t.push(n(s(Array.prototype.shift.call(arguments)),o(Array.prototype.shift.call(arguments))));return t},n=function(){for(var t=Array.prototype.shift.call(arguments),e=0;e<arguments.length;e++)arguments[e].constructor==Array?n.apply(this,[t].concat(arguments[e])):t.appendChild(arguments[e]);return t},e=function(t,n){return t.insertBefore(n,t.firstChild),t},r=function(t,n){var e=n||Object.keys(t);for(var r in e)if(Object.hasOwnProperty.call(t,e[r]))return!1;return!0},o=function(t){return document.createTextNode(t)},s=function(t){var n=document.createElement(\"span\");return t&&(n.className=t),n},l=function(t,n,e){var r=document.createElement(\"a\");return n&&(r.className=n),r.appendChild(o(t)),r.href=\"#\",r.onclick=function(t){return e(),t&&t.stopPropagation(),!1},r};function a(i,c,u,p,y){var _=u?\"\":c,f=function(r,a,i,c,u){var f,g=s(c),h=function(){f||n(g.parentNode,f=e(u(),l(y.hide,\"disclosure\",(function(){f.style.display=\"none\",g.style.display=\"inline\"})))),f.style.display=\"inline\",g.style.display=\"none\"};n(g,l(y.show,\"disclosure\",h),t(c+\" syntax\",r),l(a,null,h),t(c+\" syntax\",i));var d=n(s(),o(_.slice(0,-1)),g);return p>0&&\"string\"!=c&&h(),d};return null===i?t(null,_,\"keyword\",\"null\"):void 0===i?t(null,_,\"keyword\",\"undefined\"):\"string\"==typeof i&&i.length>y.max_string_length?f('\"',i.substr(0,y.max_string_length)+\" ...\",'\"',\"string\",(function(){return n(s(\"string\"),t(null,_,\"string\",JSON.stringify(i)))})):\"object\"!=typeof i||[Number,String,Boolean,Date].indexOf(i.constructor)>=0?t(null,_,typeof i,JSON.stringify(i)):i.constructor==Array?0==i.length?t(null,_,\"array syntax\",\"[]\"):f(\"[\",y.collapse_msg(i.length),\"]\",\"array\",(function(){for(var e=n(s(\"array\"),t(\"array syntax\",\"[\",null,\"\\n\")),r=0;r<i.length;r++)n(e,a(y.replacer.call(i,r,i[r]),c+\"    \",!1,p-1,y),r!=i.length-1?t(\"syntax\",\",\"):[],o(\"\\n\"));return n(e,t(null,c,\"array syntax\",\"]\")),e})):r(i,y.property_list)?t(null,_,\"object syntax\",\"{}\"):f(\"{\",y.collapse_msg(Object.keys(i).length),\"}\",\"object\",(function(){var e=n(s(\"object\"),t(\"object syntax\",\"{\",null,\"\\n\"));for(var r in i)var l=r;var u=y.property_list||Object.keys(i);for(var _ in y.sort_objects&&(u=u.sort()),u){(r=u[_])in i&&n(e,t(null,c+\"    \",\"key\",'\"'+r+'\"',\"object syntax\",\": \"),a(y.replacer.call(i,r,i[r]),c+\"    \",!0,p-1,y),r!=l?t(\"syntax\",\",\"):[],o(\"\\n\"))}return n(e,t(null,c,\"object syntax\",\"}\")),e}))}var i=function t(e){var r=new Object(t.options);r.replacer=\"function\"==typeof r.replacer?r.replacer:function(t,n){return n};var o=n(document.createElement(\"pre\"),a(e,\"\",!1,r.show_to_level,r));return o.className=\"renderjson\",o};return i.set_icons=function(t,n){return i.options.show=t,i.options.hide=n,i},i.set_show_to_level=function(t){return i.options.show_to_level=\"string\"==typeof t&&\"all\"===t.toLowerCase()?Number.MAX_VALUE:t,i},i.set_max_string_length=function(t){return i.options.max_string_length=\"string\"==typeof t&&\"none\"===t.toLowerCase()?Number.MAX_VALUE:t,i},i.set_sort_objects=function(t){return i.options.sort_objects=t,i},i.set_replacer=function(t){return i.options.replacer=t,i},i.set_collapse_msg=function(t){return i.options.collapse_msg=t,i},i.set_property_list=function(t){return i.options.property_list=t,i},i.set_show_by_default=function(t){return i.options.show_to_level=t?Number.MAX_VALUE:0,i},i.options={},i.set_icons(\"⊕\",\"⊖\"),i.set_show_by_default(!1),i.set_sort_objects(!1),i.set_max_string_length(\"none\"),i.set_replacer(void 0),i.set_property_list(void 0),i.set_collapse_msg((function(t){return t+\" item\"+(1==t?\"\":\"s\")})),i}(); renderjson.set_show_to_level(4); document.getElementById(\"6e0de8a2-dfc5-42f3-af4f-916c804dba27\").appendChild(renderjson({\"took\": 26, \"timed_out\": false, \"_shards\": {\"total\": 1, \"successful\": 1, \"skipped\": 0, \"failed\": 0}, \"hits\": {\"total\": {\"value\": 49, \"relation\": \"eq\"}, \"max_score\": 178.88692, \"hits\": [{\"_index\": \"ecommerce\", \"_id\": \"B09F8SFBJ1\", \"_score\": 178.88692, \"_source\": {\"product_bullet_point\": \"WHAT'S INCLUDED: Microsoft 365 Family 12 month subscription with auto-renewal for digital download and $50 Amazon Gift Card delivered by mail\\nGift Card is affixed inside a mini envelope. Gift Card has no fees and no expiration date\\nThe Gift Card you receive may not have the denomination displayed on the actual gift card. To check the purchased value, simply match the last 4 digits of the serial number on the back of the gift card to those listed in order details using the Amazon App or visit amazon com/yourorders\\nGift Card is affixed inside a mini envelope. Gift Card has no fees and no expiration date\\nBring out your best with premium Office apps, including Word, Excel, and PowerPoint. Easily access, edit, and share files and photos across all devices with 1 TB of OneDrive cloud storage.\", \"product_id\": \"B09F8SFBJ1\", \"product_locale\": \"us\", \"product_color\": null, \"product_brand\": \"Microsoft\", \"product_description\": null, \"product_title\": \"Microsoft 365 Personal 12 month auto-renewing subscription with $15 Amazon.com Gift Card\"}}, {\"_index\": \"ecommerce\", \"_id\": \"B077PD6L8G\", \"_score\": 48.775154, \"_source\": {\"product_bullet_point\": \"1.9GHz 8th Generation Intel Core i7-8650U Quad-Core (Up to 4.2GHz)\\n16GB of RAM, 1TB SSD Storage, Detachable Screen, 17 Hour Battery Life\\n15 Inch (3240 x 2160 Resolution) Touchscreen Display, NVIDIA GeForce GTX 1060 GPU (6GB GDDR5)\\nSDXC Media Card Slot, USB Type-C, USB 3.0 Type-A, 802.11ac Wi-F,| Bluetooth 4.1,Windows 10 Pro (64-Bit)\\nIncluded in Surface Book 2 15 Inch 1TB Bundle: Microsoft Surface Pen Platinum, USB Type-C to HDMI / VGA / DVI Adapter\", \"product_id\": \"B077PD6L8G\", \"product_locale\": \"us\", \"product_color\": null, \"product_brand\": \"Microsoft\", \"product_description\": \"The silver Microsoft 15\\\" Surface Book 2 Multi-Touch 2-in-1 Laptop is a high-performance laptop/tablet hybrid with power and versatility. With a 15\\\" PixelSense display, the Surface Book features a 3240 x 2160 screen resolution (260 ppi) and a 3:2 aspect ratio. The display also offers 10-point touch support so you can take full advantage of the multi-touch gestures incorporated into Windows 10 Pro. This version of Windows 10 Pro features Windows Creators Update, which extends your creativity and productivity with immersive virtual reality, 3D storytelling, and cross-device experiences. The system is powered by an 8th Gen Kaby Lake R 1.9 GHz Intel Core i7-8650U quad-core processor with a dedicated NVIDIA GeForce GTX 1060 graphics card with 6GB of GDDR5 VRAM. It also has 16GB of RAM, a 1TB solid-state drive, an SDXC media card slot, 802.11ac Wi-Fi, Bluetooth 4.1 LE, a 5MP front-facing camera, an 8MP rear-facing camera with autofocus and 1080p HD video recording, and dual integrated microphones. There are also built-in front-facing stereo speakers with Dolby audio.\", \"product_title\": \"Microsoft Surface Book 2 15 Inch 1TB i7 16GB RAM Bundle (1.9GHz i7 Up to 4.2GHz, 3240 x 2160 Resolution, NVIDIA GeForce GTX 1060)\"}}, {\"_index\": \"ecommerce\", \"_id\": \"B077PDHSK9\", \"_score\": 48.775154, \"_source\": {\"product_bullet_point\": \"1.9GHz 8th Generation Intel Core i7-8650U Quad-Core (Up to 4.2GHz)\\n16GB of RAM, 512GB SSD Storage, Detachable Touchscreen Design, 17 Hour Battery Life\\n15 Inch 3240 x 2160 PixelSense Display, NVIDIA GeForce GTX 1060 GPU (6GB GDDR5)\\nSDXC Media Card Slot, USB Type-C, USB 3.0 Type-A, 802.11ac Wi-F,| Bluetooth 4.1,Windows 10 Pro (64-Bit)\\nIncluded in Surface Book 2 15 Inch 512GB Bundle: Microsoft Surface Pen Platinum, USB Type-C to HDMI / VGA / DVI Adapter\", \"product_id\": \"B077PDHSK9\", \"product_locale\": \"us\", \"product_color\": \"Silver\", \"product_brand\": \"Microsoft\", \"product_description\": \"The silver Microsoft 15\\\" Surface Book 2 Multi-Touch 2-in-1 Laptop is a high-performance laptop/tablet hybrid with power and versatility. With a 15\\\" PixelSense display, the Surface Book features a 3240 x 2160 screen resolution (260 ppi) and a 3:2 aspect ratio. The display also offers 10-point touch support so you can take full advantage of the multi-touch gestures incorporated into Windows 10 Pro. This version of Windows 10 Pro features Windows Creators Update, which extends your creativity and productivity with immersive virtual reality, 3D storytelling, and cross-device experiences. The system is powered by an 8th Gen Kaby Lake R 1.9 GHz Intel Core i7-8650U quad-core processor with a dedicated NVIDIA GeForce GTX 1060 graphics card with 6GB of GDDR5 VRAM. It also has 16GB of RAM, a 512GB solid-state drive, an SDXC media card slot, 802.11ac Wi-Fi, Bluetooth 4.1 LE, a 5MP front-facing camera, an 8MP rear-facing camera with autofocus and 1080p HD video recording, and dual integrated microphones. There are also built-in front-facing stereo speakers with Dolby audio.\", \"product_title\": \"2017 Surface Book 2 15\\\" Bundle (3 items): Core i7 16GB 512GB SSD, Surface Pen Platinum and Mini DisplayPort\"}}, {\"_index\": \"ecommerce\", \"_id\": \"B077PM9C3Y\", \"_score\": 48.775154, \"_source\": {\"product_bullet_point\": \"1.9GHz 8th Generation Intel Core i7-8650U Quad-Core (Up to 4.2GHz)\\n16GB of RAM, 256GB SSD Storage, Detachable Screen Design, 17 Hour Battery Life\\n15 Inch (3240 x 2160 Resolution) TouchScreen Display, NVIDIA GeForce GTX 1060 GPU (6GB GDDR5)\\nSDXC Media Card Slot, USB Type-C, USB 3.0 Type-A, 802.11ac Wi-F,| Bluetooth 4.1,Windows 10 Pro (64-Bit)\\nIncluded in Surface Book 2 15 Inch 256GB i7 Bundle: Microsoft Surface Pen Platinum, USB Type-C to HDMI / VGA / DVI Adapter\", \"product_id\": \"B077PM9C3Y\", \"product_locale\": \"us\", \"product_color\": \"Silver\", \"product_brand\": \"Microsoft\", \"product_description\": \"The silver Microsoft 15\\\" Surface Book 2 Multi-Touch 2-in-1 Laptop is a high-performance laptop/tablet hybrid with power and versatility. With a 15\\\" PixelSense display, the Surface Book features a 3240 x 2160 screen resolution (260 ppi) and a 3:2 aspect ratio. The display also offers 10-point touch support so you can take full advantage of the multi-touch gestures incorporated into Windows 10 Pro. This version of Windows 10 Pro features Windows Creators Update, which extends your creativity and productivity with immersive virtual reality, 3D storytelling, and cross-device experiences. The system is powered by an 8th Gen Kaby Lake R 1.9 GHz Intel Core i7-8650U quad-core processor with a dedicated NVIDIA GeForce GTX 1060 graphics card with 6GB of GDDR5 VRAM. It also has 8GB of RAM, a 256GB solid-state drive, an SDXC media card slot, 802.11ac Wi-Fi, Bluetooth 4.1 LE, a 5MP front-facing camera, an 8MP rear-facing camera with autofocus and 1080p HD video recording, and dual integrated microphones. There are also built-in front-facing stereo speakers with Dolby audio.\", \"product_title\": \"Microsoft Surface Book 2 15-Inch 256GB i7 2-In-1 Laptop Bundle (16GB RAM, Detachable Touchscreen, Windows 10 Pro) 2017\"}}, {\"_index\": \"ecommerce\", \"_id\": \"B07T53H776\", \"_score\": 43.597744, \"_source\": {\"product_bullet_point\": \"15. 6\\\" 0. 11 inch ultra-thin bezel | AUO UHD Adobe RGB 100% 3840x2160 IPS Anti-Glare display LCD | X-Rite Pantone Certified for color calibration\\nIntel Core i7-9750h (2. 6Ghz-4. 5GHz) | NVIDIA GeForce GTX 1660 Ti GDDR6 6GB Supports NVIDIA Optimus technology\\n16GB DDR4 2666MHz Samsung DRAM module | M. 2 NVMe PCIe 256GB Intel 760P SSD | Windows 10 Home\\nMicrosoft Azure AI | all Intel inside | Intel Thunderbolt 3 | Intel Wi-Fi AC adapter\\n94. 24Wh 9hrs Long battery life | per-key RGB backlit programmable keyboard | UHS-II SD card reader\", \"product_id\": \"B07T53H776\", \"product_locale\": \"us\", \"product_color\": \"15.6\\\" | AERO 15\", \"product_brand\": \"GIGABYTE\", \"product_description\": null, \"product_title\": \"Gigabyte AERO Classic (SA-U73ADW) Thin & Light Performance Laptop, 15.6 4K UHD IPS, GTX 1660 Ti, Core i7-9750H, 16GB DDR4, 256GB Intel 760p SSD, 8-hrs Battery Life (AERO 15 Classic-SA-U73ADW)\"}}, {\"_index\": \"ecommerce\", \"_id\": \"B08173ZTJX\", \"_score\": 43.597744, \"_source\": {\"product_bullet_point\": \"Intel i3-8145U, dual-core, four-way; 8GB ddr4 system memory; 128GB Solid State Drive (PCI-e);\\n15. 6\\\" touch screen, 1366 x 768 HD resolution, LED backlight; Intel UHD Graphics 620; MaxxAudio;\\nWeighs 4. 41 lbs. and measures 0. 8\\\" thin; 3-cell lithium-ion battery;\\nHDMI output; Built-in media reader supports SD memory card formats; Wireless-AC; Built-in HD webcam with microphone; Windows 10 Home in S Mode;\\n30-days trial of Microsoft Office; Headphone/microphone combo jack; Note: This laptop does not include a built-in DVD/CD drive.\", \"product_id\": \"B08173ZTJX\", \"product_locale\": \"us\", \"product_color\": null, \"product_brand\": \"Dell\", \"product_description\": null, \"product_title\": \"New ! Dell Inspiron i3583 15.6\\\" HD Touch-Screen Laptop - Intel i3-8145U - 8GB DDR4-128GB SSD - Windows 10 - Wireless-AC - Bluetooth - SD Card Reader - HDMI & USB 3.1 -Waves MaxxAudio Pro- Black\"}}, {\"_index\": \"ecommerce\", \"_id\": \"B081721LTM\", \"_score\": 42.24061, \"_source\": {\"product_bullet_point\": \"Intel i5-8265U, Quad-core, eight-way, Intel Turbo Boost; 8GB ddr4 system memory; 256GB Solid State Drive (PCI-e);\\n15. 6\\\" touch screen, 1366 x 768 HD resolution, LED backlight; Intel UHD Graphics 620; MaxxAudio;\\nWeighs 4. 41 lbs. and measures 0. 8\\\" thin; 3-cell lithium-ion battery;\\nHDMI output; Built-in media reader supports SD memory card formats; Wireless-AC; Built-in HD webcam with microphone; Windows 10 Home in S Mode;\\n30-days trial of Microsoft Office; Headphone/microphone combo jack; Note: This laptop does not include a built-in DVD/CD drive.\", \"product_id\": \"B081721LTM\", \"product_locale\": \"us\", \"product_color\": \"Black\", \"product_brand\": \"Dell\", \"product_description\": null, \"product_title\": \"New ! Dell Inspiron i3583 15.6\\\" HD Touch-Screen Laptop - Intel i5-8265U - 8GB DDR4-256GB SSD - Windows 10 - Wireless-AC - Bluetooth, SD Card Reader, HDMI & USB 3.1 -Waves MaxxAudio Pro- Black\"}}, {\"_index\": \"ecommerce\", \"_id\": \"B081VHSB2V\", \"_score\": 40.344746, \"_source\": {\"product_bullet_point\": \"\\u3010USB 3.0 + USB C\\u3011 Both interfaces support high-speed data transfer up to 5 Gbps. Compatible with SDXC, SDHC, SD, MMC, RS-MMC, Micro SDXC, Micro SD and Micro SDHC cards. Backwards compatible with USB 2.0 and USB 1.1\\n\\u3010Double duty\\u3011 Simultaneously reading and writing on two cards to save the constant plugging and pulling of plugs. Enjoy fast photo downloads, smooth video editing and fast file transfers. Double your productivity with simultaneous microSD/SD card access. View recordings of your security cameras, wildlife monitors, private surveillance cameras and car monitors instead of bringing them home to you\\n\\u3010Plug and Play\\u3011Designed to not block your other ports. Its slim profile makes it easy to store in your camera bag or backpack and provides convenient access to micro/SD cards when needed. No drivers are required for Windows 10/8/7/Vista or Mac OS X 10.2 and later. No additional power supply required.\\n\\u3010Wide Compatibility\\u3011Compatible with MacBook Pro (2019~2016), MacBook (2019~2015), iMac Pro (iMac), Acer Aspire Switch 12 S/R13, Predator 15/17X, XPS 13, 15, Alienware 13/15/17, Spectre x360, Microsoft Surface Pro, Book 2, Razer Blade 15/Stealth 13/Pro 17, Samsung Galaxy Tab Pro, S20, S20 Plus, S20 Ultra Huawei P40/P30 and most other USB-C / A devices.(Currently doesn't support iPad Pro 2020)\\n\\u3010uniAccessories\\u3011uni focuses on USB-C accessories and brings better alternatives to you in the USB-C accessories space, such as: USB-C hubs, various adapters, and cables. We stand by our products! Welcome to find us with any product-related questions.\", \"product_id\": \"B081VHSB2V\", \"product_locale\": \"us\", \"product_color\": null, \"product_brand\": \"uni\", \"product_description\": null, \"product_title\": \"SD Card Reader, uni USB C Memory Card Reader Adapter USB 3.0, Supports SD/Micro SD/SDHC/SDXC/MMC, Compatible for MacBook Pro, MacBook Air, iPad Pro 2018, Galaxy S20, Huawei Mate 30, and More\"}}, {\"_index\": \"ecommerce\", \"_id\": \"B074Z4HM7Z\", \"_score\": 38.66192, \"_source\": {\"product_bullet_point\": \"COMPATIBLE WITH: 16 Inch New MacBook Pro 2021-2019 (A2485 M1 A2141) | 15 inch New MacBook Pro Touch Bar Retina 2017-2018 (A1990 A1707) | 15.4 inch Old MacBook Pro Retina 2012-2016 (A1398) | 15 inch Microsoft Surface Book 3/2 | Dell XPS 15 | New Razer Blade 15 | ThinkPad X1 Extreme Gen 2 and other 15-inch laptops notebooks chromebooks ultrabooks.\\nWATER REPELLENT & MOISTURE PROOFING - Made of waterproof Canvas fabric,which obstructs water and vapor effectively. Don't worry about getting your laptop computer and accessories wet from splashing water or rain.\\nSHOCKPROOF FLUFFY FLEECE FABRIC LINING - Extra soft, The anti-static, Featuring three layers' protection with waterproof layer, shockproof layer and fluffy fabric inner layer, the product can effectively absorb impacts and reduce damages caused by accidentally bumping, and protects your notebook from scratches.\\nFRONT POCKET STORAGE & SMOOTHLY ZIPPER - Extra Two pocket in front, enough space to keeping document, charge, mouse, cable, cellphone, memory cards, external hard drive, pens etc. Top-loading zipper on the sleeve glides smoothly and allows convenient access to your laptop.\\nFASHION STYLE PERFECT GIFT - Personalize your laptop with its own unique style. Emphasizing the aesthetics and safety of your laptop computer at the same time in the design.\", \"product_id\": \"B074Z4HM7Z\", \"product_locale\": \"us\", \"product_color\": \"Gray\", \"product_brand\": \"Lacdo\", \"product_description\": \"<p><b>Backed by an Lacdo 1-Year Warranty!\\u00a0 It is RISK-FREE PURCHASE!</b></p> <p>\\u2022 Shockproof!!\\u00a0\\u00a0\\u00a0\\u00a0\\u00a0 \\u2022 Water resistant!\\u00a0\\u00a0\\u00a0\\u00a0\\u00a0 \\u2022 Soft interior!<br> \\u2022 Anti-static!\\u00a0\\u00a0\\u00a0\\u00a0\\u00a0\\u00a0 \\u2022 Durable zippers!\\u00a0\\u00a0\\u00a0\\u00a0\\u00a0 \\u2022 Portable!</p> <p><b>Interior Size:</b> 14.76\\\" x 0.99\\\" x 10.62\\\"\\u00a0 |\\u00a0 37.5cm x 2.5cm x 27cm. (L x W x H)</p> <p><b>Compatible with: New MacBook Pro 16-inch 2019 \\uff08A2141\\uff09 | New 15 Inch MacBook Pro Touch Bar Retina 2017 (A1707) | 15.4 inch MacBook Pro Retina (Late 2012- Early 2016) | Dell XPS 15 | ASUS VivoBook S | 15 inch Microsoft Surface Book 2 and other 15 Inch laptops notebooks ultrabooks chromebooks.</b><br> \\u3000</p>\", \"product_title\": \"Lacdo Laptop Sleeve Case for 16 inch New MacBook Pro 2021-2019 A2485 A2141 | 15 inch Old MacBook Pro 2012-2018 | 15 inch Surface Book 3/2 | New Razer Blade 15 | Dell XPS 15 Computer Notebook Bag, Gray\"}}, {\"_index\": \"ecommerce\", \"_id\": \"B083XCLQWP\", \"_score\": 37.08345, \"_source\": {\"product_bullet_point\": \"ALL-IN-ONE HUB FOR ON-THE-GO - features 4K HDMI (60Hz), USB-C PD charging (up to 60W), two USB-A 3.0 ports, micro/SD card readers, plus, a newly added Gigabit Ethernet port for stable network connection \\u2013 ideal for working in spotty Wi-Fi areas or hotel rooms\\nSTUNNING 4K HDMI DISPLAY - enjoy crisp, high-resolution display on any HDMI-enabled monitor. Simply connect a HDMI cable (2.0 or higher) from your monitor to adapter, for brilliant video output up to 4K @ 60Hz. Requires a direct HDMI to HDMI connection\\nPOWER & PERIPHERALS - equipped with a USB-C PD charging port to keep your setup powered \\u2013 up to 60W. Includes two USB-A ports and micro/SD card readers to transfer and backup files wherever you go\\nCOMPACT, PORTABLE DESIGN - its modern design and slim form factor make it ideal to take with you on-the-go \\u2013 without sacrificing your access to peripherals. Available in three sleek color options to complement an array of Type-C devices\\nCOMPATIBILITY - 2020/2019/2018/2017/2016 MacBook Pro, 2020/2018 MacBook Air, 2020/2018 iPad Pro, Microsoft Surface Laptop 3, Surface Pro 7/Surface Go, Google PixelBook Go, ASUS Transformer 3 Pro, Dell XPS 12 9365 and newer, HP Elite X2, Spectre x360 13, 15, Pro Convertible, Huawei Matebook, Lenovo IdeaPad 720s, ThinkPad T470, T570, X1 Yoga, 720, 920, Microsoft Surface Book 2, Razer Blade Stealth, Samsung Galaxy Tab Pro S and more USB-C devices with Power Delivery protocol\", \"product_id\": \"B083XCLQWP\", \"product_locale\": \"us\", \"product_color\": \"Space Gray\", \"product_brand\": \"Satechi\", \"product_description\": \"Take your workspace on-the-go with the ultra-portable Satechi USB-C Slim Multi-Port with Ethernet Adapter. Featuring Gigabit Ethernet, 4K HDMI (60Hz), USB-C PD charging, two USB-A 3.0 ports and micro/SD card readers, the Adapter seamlessly combines seven ports into one compact device. With a plug and play design and modern aluminum finish, it has never been easier to connect your setup on-the-go. <br></br> <b>Your Essential Ports for On-The-Go</b><br> Features 4K HDMI (60Hz), USB-C PD charging (up to 60W), two USB-A 3.0 ports, micro/SD card readers, plus, a newly added Gigabit Ethernet port for a stable network connection \\u2013 ideal for working in spotty Wi-Fi areas or hotel rooms.<br></br> <b>Stunning 4K HDMI Display </b><br> Enjoy crisp, high-resolution display on any HDMI-enabled monitor. Simply connect an HDMI cable (2.0 or higher) from your monitor to adapter, for brilliant video output up to 4K @ 60Hz. Requires a direct HDMI to HDMI connection. <br></br> <b>Sleek, Ultra-Compact Design </b><br> Its modern design and slim form factor make it ideal to take with you on-the-go \\u2013 without sacrificing your access to peripherals. Available in three sleek color options to complement an array of Type-C devices. <br></br> <b>Compatibility </b><br>2020/2019/2018/2017/2016 MacBook Pro, 2020/2018 MacBook Air, 2020/2018 iPad Pro, Microsoft Surface Laptop 3, Surface Pro 7/Surface Go, Google PixelBook Go, ASUS Transformer 3 Pro, Dell XPS 12 9365 and newer, HP Elite X2, Spectre x360 13, 15, Pro Convertible, Huawei Matebook, Lenovo IdeaPad 720s, ThinkPad T470, T570, X1 Yoga, 720, 920, Microsoft Surface Book 2, Razer Blade Stealth, Samsung Galaxy Tab Pro S and more USB-C devices with Power Delivery protocol. <br></br><b>1 Year Manufacturer Warranty </b><br></br> <b>Important Notes </b><br> Not compatible with Apple SuperDrive<br>USB-A ports will not charge iPads or tablets<br> Connect one external USB hard drive at a time<br> Operating temperature is 86-122\\u00b0F<br>\", \"product_title\": \"Satechi USB-C Slim Multi-Port with Ethernet Adapter - 4K HDMI, Gigabit Ethernet, USB-C PD Charging - Compatible with 2020/2019 MacBook Pro, 2020/2018 iPad Pro, Microsoft Laptop 3 (Space Gray)\"}}]}}))</script>"
      ],
      "text/plain": [
       "<IPython.core.display.HTML object>"
      ]
     },
     "metadata": {},
     "output_type": "display_data"
    }
   ],
   "source": [
    "mr.JSON(response, level=4)"
   ]
  },
  {
   "cell_type": "markdown",
   "id": "67105452-98cd-4874-986a-bac106514afe",
   "metadata": {},
   "source": [
    "We have to be aware of inconsistent ratings:\n",
    "```\n",
    "{\n",
    "    \"product_bullet_point\": \"Buy an Xbox Gift Card for great games and entertainment on consoles and Windows PCs.\\nChoose from hundreds of games, from AAA to indie options.\\nExtend the experience of your favorite games with add-ons and in-game currency.\\nBrowse a massive library of new and popular movies and TV shows.\\nGreat as a gift to a friend or yourself.\",\n",
    "    \"product_id\": \"B00F4CEWOY\",\n",
    "    \"product_locale\": \"us\",\n",
    "    \"product_color\": null,\n",
    "    \"product_brand\": \"Microsoft\",\n",
    "    \"product_description\": null,\n",
    "    \"product_title\": \"$20 Xbox Gift Card [Digital Code]\"\n",
    "}\n",
    "```\n",
    "\n",
    "This gets a 3 for the query `15 microsoft card`\n",
    "\n",
    "\n",
    "\n",
    "On the other hand the following product is rated 0 fore the identical query:\n",
    "\n",
    "```\n",
    "{\n",
    "    \"product_bullet_point\": \"Buy an Xbox Gift Card for great games and entertainment on consoles and Windows PCs.\\nChoose from hundreds of games, from AAA to indie options.\\nExtend the experience of your favorite games with add-ons and in-game currency.\\nBrowse a massive library of new and popular movies and TV shows.\\nGreat as a gift to a friend or yourself.\",\n",
    "    \"product_id\": \"B00F4CEHNK\",\n",
    "    \"product_locale\": \"us\",\n",
    "    \"product_color\": null,\n",
    "    \"product_brand\": \"Microsoft\",\n",
    "    \"product_description\": null,\n",
    "    \"product_title\": \"$10 Xbox Gift Card [Digital Code]\"\n",
    "}\n",
    "```\n",
    "\n",
    "The only difference is the price but from the original query they are both equally far away (=5 $)"
   ]
  },
  {
   "cell_type": "markdown",
   "id": "60722c76-06aa-4b5f-b541-217078bac67f",
   "metadata": {},
   "source": [
    "### Look into `ikea wood desk`\n",
    "\n",
    "`ikea wood desk` is the query with the lowest Jaccard, so let's check that one out"
   ]
  },
  {
   "cell_type": "code",
   "execution_count": 87,
   "id": "23638dae-e742-4ec8-b8e8-27b5e3859cc5",
   "metadata": {},
   "outputs": [],
   "source": [
    "query = 'ikea wood desk'"
   ]
  },
  {
   "cell_type": "code",
   "execution_count": 88,
   "id": "d3b5f50c-a332-46b0-8e7c-5fe78cfbc5d9",
   "metadata": {},
   "outputs": [
    {
     "data": {
      "text/html": [
       "<div>\n",
       "<style scoped>\n",
       "    .dataframe tbody tr th:only-of-type {\n",
       "        vertical-align: middle;\n",
       "    }\n",
       "\n",
       "    .dataframe tbody tr th {\n",
       "        vertical-align: top;\n",
       "    }\n",
       "\n",
       "    .dataframe thead th {\n",
       "        text-align: right;\n",
       "    }\n",
       "</style>\n",
       "<table border=\"1\" class=\"dataframe\">\n",
       "  <thead>\n",
       "    <tr style=\"text-align: right;\">\n",
       "      <th></th>\n",
       "      <th>query_id</th>\n",
       "      <th>query_string</th>\n",
       "      <th>product_id</th>\n",
       "      <th>position</th>\n",
       "      <th>relevance</th>\n",
       "      <th>run</th>\n",
       "      <th>rating</th>\n",
       "    </tr>\n",
       "  </thead>\n",
       "  <tbody>\n",
       "    <tr>\n",
       "      <th>86820</th>\n",
       "      <td>102</td>\n",
       "      <td>ikea wood desk</td>\n",
       "      <td>B00TA4LII0</td>\n",
       "      <td>0</td>\n",
       "      <td>0.378753</td>\n",
       "      <td>l2arithmetic_mean0.6</td>\n",
       "      <td>1.0</td>\n",
       "    </tr>\n",
       "    <tr>\n",
       "      <th>86821</th>\n",
       "      <td>102</td>\n",
       "      <td>ikea wood desk</td>\n",
       "      <td>B00TBSQTH0</td>\n",
       "      <td>1</td>\n",
       "      <td>0.370242</td>\n",
       "      <td>l2arithmetic_mean0.6</td>\n",
       "      <td>3.0</td>\n",
       "    </tr>\n",
       "    <tr>\n",
       "      <th>86822</th>\n",
       "      <td>102</td>\n",
       "      <td>ikea wood desk</td>\n",
       "      <td>B0056ILD20</td>\n",
       "      <td>2</td>\n",
       "      <td>0.137726</td>\n",
       "      <td>l2arithmetic_mean0.6</td>\n",
       "      <td>3.0</td>\n",
       "    </tr>\n",
       "    <tr>\n",
       "      <th>86823</th>\n",
       "      <td>102</td>\n",
       "      <td>ikea wood desk</td>\n",
       "      <td>B00OF8Z3M8</td>\n",
       "      <td>3</td>\n",
       "      <td>0.130086</td>\n",
       "      <td>l2arithmetic_mean0.6</td>\n",
       "      <td>NaN</td>\n",
       "    </tr>\n",
       "    <tr>\n",
       "      <th>86824</th>\n",
       "      <td>102</td>\n",
       "      <td>ikea wood desk</td>\n",
       "      <td>B00HUAV9IA</td>\n",
       "      <td>4</td>\n",
       "      <td>0.126781</td>\n",
       "      <td>l2arithmetic_mean0.6</td>\n",
       "      <td>3.0</td>\n",
       "    </tr>\n",
       "    <tr>\n",
       "      <th>86825</th>\n",
       "      <td>102</td>\n",
       "      <td>ikea wood desk</td>\n",
       "      <td>B00DR4F4T8</td>\n",
       "      <td>5</td>\n",
       "      <td>0.126564</td>\n",
       "      <td>l2arithmetic_mean0.6</td>\n",
       "      <td>NaN</td>\n",
       "    </tr>\n",
       "    <tr>\n",
       "      <th>86826</th>\n",
       "      <td>102</td>\n",
       "      <td>ikea wood desk</td>\n",
       "      <td>B006LDOS6M</td>\n",
       "      <td>6</td>\n",
       "      <td>0.126564</td>\n",
       "      <td>l2arithmetic_mean0.6</td>\n",
       "      <td>NaN</td>\n",
       "    </tr>\n",
       "    <tr>\n",
       "      <th>86827</th>\n",
       "      <td>102</td>\n",
       "      <td>ikea wood desk</td>\n",
       "      <td>B01GDKIW6Y</td>\n",
       "      <td>7</td>\n",
       "      <td>0.125308</td>\n",
       "      <td>l2arithmetic_mean0.6</td>\n",
       "      <td>NaN</td>\n",
       "    </tr>\n",
       "    <tr>\n",
       "      <th>86828</th>\n",
       "      <td>102</td>\n",
       "      <td>ikea wood desk</td>\n",
       "      <td>B019EASF1M</td>\n",
       "      <td>8</td>\n",
       "      <td>0.124608</td>\n",
       "      <td>l2arithmetic_mean0.6</td>\n",
       "      <td>NaN</td>\n",
       "    </tr>\n",
       "    <tr>\n",
       "      <th>86829</th>\n",
       "      <td>102</td>\n",
       "      <td>ikea wood desk</td>\n",
       "      <td>B00EYU3E7I</td>\n",
       "      <td>9</td>\n",
       "      <td>0.122662</td>\n",
       "      <td>l2arithmetic_mean0.6</td>\n",
       "      <td>3.0</td>\n",
       "    </tr>\n",
       "    <tr>\n",
       "      <th>89020</th>\n",
       "      <td>102</td>\n",
       "      <td>ikea wood desk</td>\n",
       "      <td>B00TA4LII0</td>\n",
       "      <td>0</td>\n",
       "      <td>0.441879</td>\n",
       "      <td>l2arithmetic_mean0.7</td>\n",
       "      <td>1.0</td>\n",
       "    </tr>\n",
       "    <tr>\n",
       "      <th>89021</th>\n",
       "      <td>102</td>\n",
       "      <td>ikea wood desk</td>\n",
       "      <td>B00TBSQTH0</td>\n",
       "      <td>1</td>\n",
       "      <td>0.431949</td>\n",
       "      <td>l2arithmetic_mean0.7</td>\n",
       "      <td>3.0</td>\n",
       "    </tr>\n",
       "    <tr>\n",
       "      <th>89022</th>\n",
       "      <td>102</td>\n",
       "      <td>ikea wood desk</td>\n",
       "      <td>B07H91TX9K</td>\n",
       "      <td>2</td>\n",
       "      <td>0.133276</td>\n",
       "      <td>l2arithmetic_mean0.7</td>\n",
       "      <td>NaN</td>\n",
       "    </tr>\n",
       "    <tr>\n",
       "      <th>89023</th>\n",
       "      <td>102</td>\n",
       "      <td>ikea wood desk</td>\n",
       "      <td>B07HMXBSLW</td>\n",
       "      <td>3</td>\n",
       "      <td>0.132107</td>\n",
       "      <td>l2arithmetic_mean0.7</td>\n",
       "      <td>NaN</td>\n",
       "    </tr>\n",
       "    <tr>\n",
       "      <th>89024</th>\n",
       "      <td>102</td>\n",
       "      <td>ikea wood desk</td>\n",
       "      <td>B01G643EU6</td>\n",
       "      <td>4</td>\n",
       "      <td>0.130155</td>\n",
       "      <td>l2arithmetic_mean0.7</td>\n",
       "      <td>NaN</td>\n",
       "    </tr>\n",
       "    <tr>\n",
       "      <th>89025</th>\n",
       "      <td>102</td>\n",
       "      <td>ikea wood desk</td>\n",
       "      <td>B0853CRSKZ</td>\n",
       "      <td>5</td>\n",
       "      <td>0.105837</td>\n",
       "      <td>l2arithmetic_mean0.7</td>\n",
       "      <td>NaN</td>\n",
       "    </tr>\n",
       "    <tr>\n",
       "      <th>89026</th>\n",
       "      <td>102</td>\n",
       "      <td>ikea wood desk</td>\n",
       "      <td>B08K4HWP87</td>\n",
       "      <td>6</td>\n",
       "      <td>0.105837</td>\n",
       "      <td>l2arithmetic_mean0.7</td>\n",
       "      <td>NaN</td>\n",
       "    </tr>\n",
       "    <tr>\n",
       "      <th>89027</th>\n",
       "      <td>102</td>\n",
       "      <td>ikea wood desk</td>\n",
       "      <td>B08K4HYT9T</td>\n",
       "      <td>7</td>\n",
       "      <td>0.105837</td>\n",
       "      <td>l2arithmetic_mean0.7</td>\n",
       "      <td>NaN</td>\n",
       "    </tr>\n",
       "    <tr>\n",
       "      <th>89028</th>\n",
       "      <td>102</td>\n",
       "      <td>ikea wood desk</td>\n",
       "      <td>B08BJ5Y671</td>\n",
       "      <td>8</td>\n",
       "      <td>0.105837</td>\n",
       "      <td>l2arithmetic_mean0.7</td>\n",
       "      <td>NaN</td>\n",
       "    </tr>\n",
       "    <tr>\n",
       "      <th>89029</th>\n",
       "      <td>102</td>\n",
       "      <td>ikea wood desk</td>\n",
       "      <td>B08H8HP9ZB</td>\n",
       "      <td>9</td>\n",
       "      <td>0.105837</td>\n",
       "      <td>l2arithmetic_mean0.7</td>\n",
       "      <td>NaN</td>\n",
       "    </tr>\n",
       "  </tbody>\n",
       "</table>\n",
       "</div>"
      ],
      "text/plain": [
       "       query_id    query_string  product_id  position  relevance  \\\n",
       "86820       102  ikea wood desk  B00TA4LII0         0   0.378753   \n",
       "86821       102  ikea wood desk  B00TBSQTH0         1   0.370242   \n",
       "86822       102  ikea wood desk  B0056ILD20         2   0.137726   \n",
       "86823       102  ikea wood desk  B00OF8Z3M8         3   0.130086   \n",
       "86824       102  ikea wood desk  B00HUAV9IA         4   0.126781   \n",
       "86825       102  ikea wood desk  B00DR4F4T8         5   0.126564   \n",
       "86826       102  ikea wood desk  B006LDOS6M         6   0.126564   \n",
       "86827       102  ikea wood desk  B01GDKIW6Y         7   0.125308   \n",
       "86828       102  ikea wood desk  B019EASF1M         8   0.124608   \n",
       "86829       102  ikea wood desk  B00EYU3E7I         9   0.122662   \n",
       "89020       102  ikea wood desk  B00TA4LII0         0   0.441879   \n",
       "89021       102  ikea wood desk  B00TBSQTH0         1   0.431949   \n",
       "89022       102  ikea wood desk  B07H91TX9K         2   0.133276   \n",
       "89023       102  ikea wood desk  B07HMXBSLW         3   0.132107   \n",
       "89024       102  ikea wood desk  B01G643EU6         4   0.130155   \n",
       "89025       102  ikea wood desk  B0853CRSKZ         5   0.105837   \n",
       "89026       102  ikea wood desk  B08K4HWP87         6   0.105837   \n",
       "89027       102  ikea wood desk  B08K4HYT9T         7   0.105837   \n",
       "89028       102  ikea wood desk  B08BJ5Y671         8   0.105837   \n",
       "89029       102  ikea wood desk  B08H8HP9ZB         9   0.105837   \n",
       "\n",
       "                        run  rating  \n",
       "86820  l2arithmetic_mean0.6     1.0  \n",
       "86821  l2arithmetic_mean0.6     3.0  \n",
       "86822  l2arithmetic_mean0.6     3.0  \n",
       "86823  l2arithmetic_mean0.6     NaN  \n",
       "86824  l2arithmetic_mean0.6     3.0  \n",
       "86825  l2arithmetic_mean0.6     NaN  \n",
       "86826  l2arithmetic_mean0.6     NaN  \n",
       "86827  l2arithmetic_mean0.6     NaN  \n",
       "86828  l2arithmetic_mean0.6     NaN  \n",
       "86829  l2arithmetic_mean0.6     3.0  \n",
       "89020  l2arithmetic_mean0.7     1.0  \n",
       "89021  l2arithmetic_mean0.7     3.0  \n",
       "89022  l2arithmetic_mean0.7     NaN  \n",
       "89023  l2arithmetic_mean0.7     NaN  \n",
       "89024  l2arithmetic_mean0.7     NaN  \n",
       "89025  l2arithmetic_mean0.7     NaN  \n",
       "89026  l2arithmetic_mean0.7     NaN  \n",
       "89027  l2arithmetic_mean0.7     NaN  \n",
       "89028  l2arithmetic_mean0.7     NaN  \n",
       "89029  l2arithmetic_mean0.7     NaN  "
      ]
     },
     "execution_count": 88,
     "metadata": {},
     "output_type": "execute_result"
    }
   ],
   "source": [
    "df_results[(df_results['run'].isin(pipelines_to_check)) & (df_results['query_string'] == query)].sort_values(by=['run', 'position'])"
   ]
  },
  {
   "cell_type": "markdown",
   "id": "4d19e8c5-5eef-47a8-aced-d46497f87a8d",
   "metadata": {},
   "source": [
    "*l2, arithmetic mean, 0.6 keyword, 0.4 keyword* vs. *l2, arithmetic mean, 0.7 keyword, 0.3 keyword*_\n",
    "* 50% missing judgements vs. 80% missing judgements\n",
    "* The DCG value of l2arithmetic_mean0.7 is based on more uncertainty for the higher number of missing judgements\n",
    "* The two top hits (`B00TA4LII0` & `B00TBSQTH0`) are identical for both pipelines and the scores drop significantly (-0.24/-0.3) at positions 3 and following. This indicates only two rather strong textual matches."
   ]
  },
  {
   "cell_type": "markdown",
   "id": "72a823d7-c965-457c-aaf8-12ccad27d7a8",
   "metadata": {},
   "source": [
    "### Jaccard"
   ]
  },
  {
   "cell_type": "code",
   "execution_count": 89,
   "id": "723af3fc-0fdd-4e88-8160-2fe2fc27554e",
   "metadata": {},
   "outputs": [
    {
     "data": {
      "text/plain": [
       "0.1111111111111111"
      ]
     },
     "execution_count": 89,
     "metadata": {},
     "output_type": "execute_result"
    }
   ],
   "source": [
    "set_a = df_results[(df_results['run'] == 'l2arithmetic_mean0.6') & (df_results['query_string'] == query)]['product_id']\n",
    "set_b = df_results[(df_results['run'] == 'l2arithmetic_mean0.7') & (df_results['query_string'] == query)]['product_id']\n",
    "jaccard_index(set_a,set_b)"
   ]
  },
  {
   "cell_type": "markdown",
   "id": "efc660a1-ed7d-49dc-b93d-7b7aa6bb7fe2",
   "metadata": {},
   "source": [
    "### Look at the query results per pipeline"
   ]
  },
  {
   "cell_type": "code",
   "execution_count": 90,
   "id": "a217c3ba-29d5-4df3-8dae-91f07fe91afa",
   "metadata": {},
   "outputs": [],
   "source": [
    "query = 'ikea wood desk'\n",
    "pipeline_name = 'l2arithmetic_mean0.6'\n",
    "#pipeline_name = 'l2arithmetic_mean0.7'\n",
    "url = \"http://localhost:9200/ecommerce/_search?search_pipeline=\" + pipeline_name\n",
    "    \n",
    "headers = {\n",
    "    'Content-Type': 'application/json'\n",
    "}\n",
    "\n",
    "payload = {\n",
    "      \"_source\": {\n",
    "        \"excludes\": [\n",
    "          \"title_embedding\"\n",
    "        ]\n",
    "      },\n",
    "      \"query\": {\n",
    "        \"hybrid\": {\n",
    "          \"queries\": [\n",
    "            {\n",
    "              \"multi_match\" : {\n",
    "                  \"type\":       \"best_fields\",\n",
    "                  \"fields\":     [\n",
    "                    \"product_id^100\",\n",
    "                    \"product_bullet_point^3\",\n",
    "                    \"product_color^2\",\n",
    "                    \"product_brand^5\",\n",
    "                    \"product_description\",\n",
    "                    \"product_title^10\"\n",
    "                  ],\n",
    "                  \"operator\":   \"and\",\n",
    "                  \"query\":      query\n",
    "                }\n",
    "            },\n",
    "            {\n",
    "              \"neural\": {\n",
    "                \"title_embedding\": {\n",
    "                  \"query_text\": query,\n",
    "                  \"k\": 50\n",
    "                }\n",
    "              }\n",
    "            }\n",
    "          ]\n",
    "        }\n",
    "      }\n",
    "    }\n",
    "\n",
    "response = requests.request(\"POST\", url, headers=headers, data=json.dumps(payload)).json()"
   ]
  },
  {
   "cell_type": "code",
   "execution_count": 91,
   "id": "582f2842-59ab-41a9-a39a-038959944820",
   "metadata": {
    "scrolled": true
   },
   "outputs": [
    {
     "data": {
      "text/html": [
       "<style>.renderjson a              { text-decoration: none; }\n",
       ".renderjson .disclosure    { color: grey; font-size: 125%; }\n",
       ".renderjson .syntax        { color: grey; }\n",
       ".renderjson .string        { color: #fe46a5; }\n",
       ".renderjson .number        { color: #0f9b8e; }\n",
       ".renderjson .boolean       { color: black; }\n",
       ".renderjson .key           { color: #2684ff; }\n",
       ".renderjson .keyword       { color: gray; }\n",
       ".renderjson .object.syntax { color: gray; }\n",
       ".renderjson .array.syntax  { color: gray; }</style><div id=\"1b1e531f-6850-42b2-b337-973c8a8c9a00\"></div>"
      ],
      "text/plain": [
       "<IPython.core.display.HTML object>"
      ]
     },
     "metadata": {},
     "output_type": "display_data"
    },
    {
     "data": {
      "text/html": [
       "<script>var renderjson=function(){var t=function(){for(var t=[];arguments.length;)t.push(n(s(Array.prototype.shift.call(arguments)),o(Array.prototype.shift.call(arguments))));return t},n=function(){for(var t=Array.prototype.shift.call(arguments),e=0;e<arguments.length;e++)arguments[e].constructor==Array?n.apply(this,[t].concat(arguments[e])):t.appendChild(arguments[e]);return t},e=function(t,n){return t.insertBefore(n,t.firstChild),t},r=function(t,n){var e=n||Object.keys(t);for(var r in e)if(Object.hasOwnProperty.call(t,e[r]))return!1;return!0},o=function(t){return document.createTextNode(t)},s=function(t){var n=document.createElement(\"span\");return t&&(n.className=t),n},l=function(t,n,e){var r=document.createElement(\"a\");return n&&(r.className=n),r.appendChild(o(t)),r.href=\"#\",r.onclick=function(t){return e(),t&&t.stopPropagation(),!1},r};function a(i,c,u,p,y){var _=u?\"\":c,f=function(r,a,i,c,u){var f,g=s(c),h=function(){f||n(g.parentNode,f=e(u(),l(y.hide,\"disclosure\",(function(){f.style.display=\"none\",g.style.display=\"inline\"})))),f.style.display=\"inline\",g.style.display=\"none\"};n(g,l(y.show,\"disclosure\",h),t(c+\" syntax\",r),l(a,null,h),t(c+\" syntax\",i));var d=n(s(),o(_.slice(0,-1)),g);return p>0&&\"string\"!=c&&h(),d};return null===i?t(null,_,\"keyword\",\"null\"):void 0===i?t(null,_,\"keyword\",\"undefined\"):\"string\"==typeof i&&i.length>y.max_string_length?f('\"',i.substr(0,y.max_string_length)+\" ...\",'\"',\"string\",(function(){return n(s(\"string\"),t(null,_,\"string\",JSON.stringify(i)))})):\"object\"!=typeof i||[Number,String,Boolean,Date].indexOf(i.constructor)>=0?t(null,_,typeof i,JSON.stringify(i)):i.constructor==Array?0==i.length?t(null,_,\"array syntax\",\"[]\"):f(\"[\",y.collapse_msg(i.length),\"]\",\"array\",(function(){for(var e=n(s(\"array\"),t(\"array syntax\",\"[\",null,\"\\n\")),r=0;r<i.length;r++)n(e,a(y.replacer.call(i,r,i[r]),c+\"    \",!1,p-1,y),r!=i.length-1?t(\"syntax\",\",\"):[],o(\"\\n\"));return n(e,t(null,c,\"array syntax\",\"]\")),e})):r(i,y.property_list)?t(null,_,\"object syntax\",\"{}\"):f(\"{\",y.collapse_msg(Object.keys(i).length),\"}\",\"object\",(function(){var e=n(s(\"object\"),t(\"object syntax\",\"{\",null,\"\\n\"));for(var r in i)var l=r;var u=y.property_list||Object.keys(i);for(var _ in y.sort_objects&&(u=u.sort()),u){(r=u[_])in i&&n(e,t(null,c+\"    \",\"key\",'\"'+r+'\"',\"object syntax\",\": \"),a(y.replacer.call(i,r,i[r]),c+\"    \",!0,p-1,y),r!=l?t(\"syntax\",\",\"):[],o(\"\\n\"))}return n(e,t(null,c,\"object syntax\",\"}\")),e}))}var i=function t(e){var r=new Object(t.options);r.replacer=\"function\"==typeof r.replacer?r.replacer:function(t,n){return n};var o=n(document.createElement(\"pre\"),a(e,\"\",!1,r.show_to_level,r));return o.className=\"renderjson\",o};return i.set_icons=function(t,n){return i.options.show=t,i.options.hide=n,i},i.set_show_to_level=function(t){return i.options.show_to_level=\"string\"==typeof t&&\"all\"===t.toLowerCase()?Number.MAX_VALUE:t,i},i.set_max_string_length=function(t){return i.options.max_string_length=\"string\"==typeof t&&\"none\"===t.toLowerCase()?Number.MAX_VALUE:t,i},i.set_sort_objects=function(t){return i.options.sort_objects=t,i},i.set_replacer=function(t){return i.options.replacer=t,i},i.set_collapse_msg=function(t){return i.options.collapse_msg=t,i},i.set_property_list=function(t){return i.options.property_list=t,i},i.set_show_by_default=function(t){return i.options.show_to_level=t?Number.MAX_VALUE:0,i},i.options={},i.set_icons(\"⊕\",\"⊖\"),i.set_show_by_default(!1),i.set_sort_objects(!1),i.set_max_string_length(\"none\"),i.set_replacer(void 0),i.set_property_list(void 0),i.set_collapse_msg((function(t){return t+\" item\"+(1==t?\"\":\"s\")})),i}(); renderjson.set_show_to_level(4); document.getElementById(\"1b1e531f-6850-42b2-b337-973c8a8c9a00\").appendChild(renderjson({\"took\": 108, \"timed_out\": false, \"_shards\": {\"total\": 1, \"successful\": 1, \"skipped\": 0, \"failed\": 0}, \"hits\": {\"total\": {\"value\": 77, \"relation\": \"eq\"}, \"max_score\": 0.37875333, \"hits\": [{\"_index\": \"ecommerce\", \"_id\": \"B00TA4LII0\", \"_score\": 0.37875333, \"_source\": {\"product_bullet_point\": \"Beech Wood Desk Table Leg Trestle with Shelf , Height and Angle Adjustable , Also Great for Drafting Table Tops\", \"product_id\": \"B00TA4LII0\", \"product_locale\": \"us\", \"product_color\": \"Wood\", \"product_brand\": \"IKEA\", \"product_description\": \"Beech Wood Desk Table Leg Trestle with Shelf , Height and Angle Adjustable , Also Great for Drafting Table Tops\", \"product_title\": \"IKEA Beech Wood Desk Table Leg Trestle with Shelf , Height and Angle Adjustable , Also Great for Drafting Table Tops\"}}, {\"_index\": \"ecommerce\", \"_id\": \"B00TBSQTH0\", \"_score\": 0.3702424, \"_source\": {\"product_bullet_point\": null, \"product_id\": \"B00TBSQTH0\", \"product_locale\": \"us\", \"product_color\": \"Brown\", \"product_brand\": \"IKEA\", \"product_description\": \"Ikea Linnmon White Desk Table 59x30\\\" with 2 Beech Wood Brown Trestle Shelf Legs Height and Angle Adjustable, Drawing Table \\u2026\", \"product_title\": \"Ikea Linnmon White Desk Table 59x30\\\" with 2 Beech Wood Brown Trestle Shelf Legs Height and Angle Adjustable, Drawing Table\"}}, {\"_index\": \"ecommerce\", \"_id\": \"B0056ILD20\", \"_score\": 0.13772576, \"_source\": {\"product_bullet_point\": \"This product requires assembly\\nMaterial: Wood\\nCountry of Origin: China\\nAssembly required\\nA clean and simple look that fits just about anywhere\", \"product_id\": \"B0056ILD20\", \"product_locale\": \"us\", \"product_color\": \"White/\", \"product_brand\": \"IKEA\", \"product_description\": null, \"product_title\": \"IKEA desk, White/\"}}, {\"_index\": \"ecommerce\", \"_id\": \"B00OF8Z3M8\", \"_score\": 0.13008569, \"_source\": {\"product_bullet_point\": \"Built-in cable management for collecting cables and cords out of sight but close at hand.\\nDrawer stops prevent the drawers from being pulled out too far.\\nCan be placed anywhere in the room because the back is finished.\", \"product_id\": \"B00OF8Z3M8\", \"product_locale\": \"us\", \"product_color\": \"White\", \"product_brand\": \"IKEA\", \"product_description\": null, \"product_title\": \"Ikea Alex Computer Desk with Drawers (White)\"}}, {\"_index\": \"ecommerce\", \"_id\": \"B00HUAV9IA\", \"_score\": 0.12678134, \"_source\": {\"product_bullet_point\": \"- A long table top makes it easy to create a workspace for two.\\n- Cable outlets and compartment in the back keeps cords and cables out of sight but close at hand.\\n- The legs can be mounted to the right or left according to need.\\n- Finished on the back. Suitable for use as a room divider.\\n- Drawers with stop keeps them in place.\", \"product_id\": \"B00HUAV9IA\", \"product_locale\": \"us\", \"product_color\": \"Black-brown\", \"product_brand\": \"IKEA\", \"product_description\": null, \"product_title\": \"IKEA MICKE desk, Black-brown\"}}, {\"_index\": \"ecommerce\", \"_id\": \"B00DR4F4T8\", \"_score\": 0.12656413, \"_source\": {\"product_bullet_point\": \"It's easy to keep cords and cables out of sight but close at hand with the cable outlet at the back.\\nSize: 41 3/8x19 5/8 \\\"\\nWipe clean using a damp cloth and a mild cleaner. Wipe dry with a clean cloth.\\nCan be placed anywhere in the room because the back is finished.\\nDrawer stops prevent the drawers from being pulled out too far\", \"product_id\": \"B00DR4F4T8\", \"product_locale\": \"us\", \"product_color\": \"White\", \"product_brand\": \"IKEA\", \"product_description\": null, \"product_title\": \"IKEA MICKE Desk, White\"}}, {\"_index\": \"ecommerce\", \"_id\": \"B006LDOS6M\", \"_score\": 0.12656413, \"_source\": {\"product_bullet_point\": \"Max. load: 25 kg, Depth:50 cm, Height:75 cm, Width:73 cm\\nIt's easy to keep sockets and cables out of sight but close at hand with the cable outlet at the back\\nYou can mount the legs to the right or left, according to your space or preference\\nDrawer stops prevent the drawers from being pulled out too far\\nCan be placed in the middle of a room because the back is finished\", \"product_id\": \"B006LDOS6M\", \"product_locale\": \"us\", \"product_color\": \"White\", \"product_brand\": \"IKEA\", \"product_description\": null, \"product_title\": \"IKEA MICKE Desk, White\"}}, {\"_index\": \"ecommerce\", \"_id\": \"B01GDKIW6Y\", \"_score\": 0.12530822, \"_source\": {\"product_bullet_point\": null, \"product_id\": \"B01GDKIW6Y\", \"product_locale\": \"us\", \"product_color\": null, \"product_brand\": \"mecor\", \"product_description\": null, \"product_title\": \"Mecor Computer Desk PC Laptop Table Work-Station Home Office Furniture Wood\"}}, {\"_index\": \"ecommerce\", \"_id\": \"B019EASF1M\", \"_score\": 0.124607995, \"_source\": {\"product_bullet_point\": \"Pre-drilled leg holes for easy assembly. Adjustable feet allow you to level the table on uneven floors.\\nSize 59x29 1/2 \\\"\\nScrews for attaching the legs to the table top are included.\\nWipe clean using a damp cloth and a mild cleaner. Wipe dry with a clean cloth.\", \"product_id\": \"B019EASF1M\", \"product_locale\": \"us\", \"product_color\": \"Black Brown, White Legs\", \"product_brand\": \"IKEA\", \"product_description\": null, \"product_title\": \"Ikea Linnmon Desk with Adils Legs Multi Purpose Table (Black Brown, White Legs)\"}}, {\"_index\": \"ecommerce\", \"_id\": \"B00EYU3E7I\", \"_score\": 0.122662425, \"_source\": {\"product_bullet_point\": \"Adjustable feet allow you to level the table on uneven floors.\\nScrews for attaching the legs to the table top are included.\", \"product_id\": \"B00EYU3E7I\", \"product_locale\": \"us\", \"product_color\": \"Black-brown\", \"product_brand\": \"IKEA\", \"product_description\": \"Pre-drilled leg holes for easy assembly. Adjustable feet allow you to level the table on uneven floors.\", \"product_title\": \"Ikea Linnmon Desk with Adils Legs Multi Purpose Table, Black-brown\"}}]}}))</script>"
      ],
      "text/plain": [
       "<IPython.core.display.HTML object>"
      ]
     },
     "metadata": {},
     "output_type": "display_data"
    }
   ],
   "source": [
    "mr.JSON(response, level=4)"
   ]
  },
  {
   "cell_type": "code",
   "execution_count": 94,
   "id": "c1e9d60d-46c9-46c4-a80e-e532b6f5463b",
   "metadata": {},
   "outputs": [],
   "source": [
    "url = \"http://localhost:9200/ecommerce/_search\"\n",
    "\n",
    "payload = {\n",
    "  \"_source\": {\n",
    "    \"excludes\": [\n",
    "      \"title_embedding\"\n",
    "    ]\n",
    "  },\n",
    "  \"query\": {\n",
    "    \"multi_match\": {\n",
    "      \"type\": \"best_fields\",\n",
    "      \"fields\": [\n",
    "        \"product_id^100\",\n",
    "        \"product_bullet_point^3\",\n",
    "        \"product_color^2\",\n",
    "        \"product_brand^5\",\n",
    "        \"product_description\",\n",
    "        \"product_title^10\"\n",
    "      ],\n",
    "      \"operator\": \"and\",\n",
    "      \"query\": query\n",
    "    }\n",
    "  }\n",
    "}\n",
    "\n",
    "response = requests.request(\"POST\", url, headers=headers, data=json.dumps(payload)).json()"
   ]
  },
  {
   "cell_type": "code",
   "execution_count": 95,
   "id": "3de42ee7-615f-4a2f-954c-60181d02d4b1",
   "metadata": {
    "scrolled": true
   },
   "outputs": [
    {
     "data": {
      "text/html": [
       "<style>.renderjson a              { text-decoration: none; }\n",
       ".renderjson .disclosure    { color: grey; font-size: 125%; }\n",
       ".renderjson .syntax        { color: grey; }\n",
       ".renderjson .string        { color: #fe46a5; }\n",
       ".renderjson .number        { color: #0f9b8e; }\n",
       ".renderjson .boolean       { color: black; }\n",
       ".renderjson .key           { color: #2684ff; }\n",
       ".renderjson .keyword       { color: gray; }\n",
       ".renderjson .object.syntax { color: gray; }\n",
       ".renderjson .array.syntax  { color: gray; }</style><div id=\"49f7479e-3527-4594-b879-6b8ee04be3a4\"></div>"
      ],
      "text/plain": [
       "<IPython.core.display.HTML object>"
      ]
     },
     "metadata": {},
     "output_type": "display_data"
    },
    {
     "data": {
      "text/html": [
       "<script>var renderjson=function(){var t=function(){for(var t=[];arguments.length;)t.push(n(s(Array.prototype.shift.call(arguments)),o(Array.prototype.shift.call(arguments))));return t},n=function(){for(var t=Array.prototype.shift.call(arguments),e=0;e<arguments.length;e++)arguments[e].constructor==Array?n.apply(this,[t].concat(arguments[e])):t.appendChild(arguments[e]);return t},e=function(t,n){return t.insertBefore(n,t.firstChild),t},r=function(t,n){var e=n||Object.keys(t);for(var r in e)if(Object.hasOwnProperty.call(t,e[r]))return!1;return!0},o=function(t){return document.createTextNode(t)},s=function(t){var n=document.createElement(\"span\");return t&&(n.className=t),n},l=function(t,n,e){var r=document.createElement(\"a\");return n&&(r.className=n),r.appendChild(o(t)),r.href=\"#\",r.onclick=function(t){return e(),t&&t.stopPropagation(),!1},r};function a(i,c,u,p,y){var _=u?\"\":c,f=function(r,a,i,c,u){var f,g=s(c),h=function(){f||n(g.parentNode,f=e(u(),l(y.hide,\"disclosure\",(function(){f.style.display=\"none\",g.style.display=\"inline\"})))),f.style.display=\"inline\",g.style.display=\"none\"};n(g,l(y.show,\"disclosure\",h),t(c+\" syntax\",r),l(a,null,h),t(c+\" syntax\",i));var d=n(s(),o(_.slice(0,-1)),g);return p>0&&\"string\"!=c&&h(),d};return null===i?t(null,_,\"keyword\",\"null\"):void 0===i?t(null,_,\"keyword\",\"undefined\"):\"string\"==typeof i&&i.length>y.max_string_length?f('\"',i.substr(0,y.max_string_length)+\" ...\",'\"',\"string\",(function(){return n(s(\"string\"),t(null,_,\"string\",JSON.stringify(i)))})):\"object\"!=typeof i||[Number,String,Boolean,Date].indexOf(i.constructor)>=0?t(null,_,typeof i,JSON.stringify(i)):i.constructor==Array?0==i.length?t(null,_,\"array syntax\",\"[]\"):f(\"[\",y.collapse_msg(i.length),\"]\",\"array\",(function(){for(var e=n(s(\"array\"),t(\"array syntax\",\"[\",null,\"\\n\")),r=0;r<i.length;r++)n(e,a(y.replacer.call(i,r,i[r]),c+\"    \",!1,p-1,y),r!=i.length-1?t(\"syntax\",\",\"):[],o(\"\\n\"));return n(e,t(null,c,\"array syntax\",\"]\")),e})):r(i,y.property_list)?t(null,_,\"object syntax\",\"{}\"):f(\"{\",y.collapse_msg(Object.keys(i).length),\"}\",\"object\",(function(){var e=n(s(\"object\"),t(\"object syntax\",\"{\",null,\"\\n\"));for(var r in i)var l=r;var u=y.property_list||Object.keys(i);for(var _ in y.sort_objects&&(u=u.sort()),u){(r=u[_])in i&&n(e,t(null,c+\"    \",\"key\",'\"'+r+'\"',\"object syntax\",\": \"),a(y.replacer.call(i,r,i[r]),c+\"    \",!0,p-1,y),r!=l?t(\"syntax\",\",\"):[],o(\"\\n\"))}return n(e,t(null,c,\"object syntax\",\"}\")),e}))}var i=function t(e){var r=new Object(t.options);r.replacer=\"function\"==typeof r.replacer?r.replacer:function(t,n){return n};var o=n(document.createElement(\"pre\"),a(e,\"\",!1,r.show_to_level,r));return o.className=\"renderjson\",o};return i.set_icons=function(t,n){return i.options.show=t,i.options.hide=n,i},i.set_show_to_level=function(t){return i.options.show_to_level=\"string\"==typeof t&&\"all\"===t.toLowerCase()?Number.MAX_VALUE:t,i},i.set_max_string_length=function(t){return i.options.max_string_length=\"string\"==typeof t&&\"none\"===t.toLowerCase()?Number.MAX_VALUE:t,i},i.set_sort_objects=function(t){return i.options.sort_objects=t,i},i.set_replacer=function(t){return i.options.replacer=t,i},i.set_collapse_msg=function(t){return i.options.collapse_msg=t,i},i.set_property_list=function(t){return i.options.property_list=t,i},i.set_show_by_default=function(t){return i.options.show_to_level=t?Number.MAX_VALUE:0,i},i.options={},i.set_icons(\"⊕\",\"⊖\"),i.set_show_by_default(!1),i.set_sort_objects(!1),i.set_max_string_length(\"none\"),i.set_replacer(void 0),i.set_property_list(void 0),i.set_collapse_msg((function(t){return t+\" item\"+(1==t?\"\":\"s\")})),i}(); renderjson.set_show_to_level(4); document.getElementById(\"49f7479e-3527-4594-b879-6b8ee04be3a4\").appendChild(renderjson({\"took\": 15, \"timed_out\": false, \"_shards\": {\"total\": 1, \"successful\": 1, \"skipped\": 0, \"failed\": 0}, \"hits\": {\"total\": {\"value\": 28, \"relation\": \"eq\"}, \"max_score\": 171.48163, \"hits\": [{\"_index\": \"ecommerce\", \"_id\": \"B00TA4LII0\", \"_score\": 171.48163, \"_source\": {\"product_bullet_point\": \"Beech Wood Desk Table Leg Trestle with Shelf , Height and Angle Adjustable , Also Great for Drafting Table Tops\", \"product_id\": \"B00TA4LII0\", \"product_locale\": \"us\", \"product_color\": \"Wood\", \"product_brand\": \"IKEA\", \"product_description\": \"Beech Wood Desk Table Leg Trestle with Shelf , Height and Angle Adjustable , Also Great for Drafting Table Tops\", \"product_title\": \"IKEA Beech Wood Desk Table Leg Trestle with Shelf , Height and Angle Adjustable , Also Great for Drafting Table Tops\"}}, {\"_index\": \"ecommerce\", \"_id\": \"B00TBSQTH0\", \"_score\": 167.62828, \"_source\": {\"product_bullet_point\": null, \"product_id\": \"B00TBSQTH0\", \"product_locale\": \"us\", \"product_color\": \"Brown\", \"product_brand\": \"IKEA\", \"product_description\": \"Ikea Linnmon White Desk Table 59x30\\\" with 2 Beech Wood Brown Trestle Shelf Legs Height and Angle Adjustable, Drawing Table \\u2026\", \"product_title\": \"Ikea Linnmon White Desk Table 59x30\\\" with 2 Beech Wood Brown Trestle Shelf Legs Height and Angle Adjustable, Drawing Table\"}}, {\"_index\": \"ecommerce\", \"_id\": \"B07H91TX9K\", \"_score\": 51.721096, \"_source\": {\"product_bullet_point\": \"\\u3010AVOID DAMAGING FLOORS\\u3011Stop worrying spending money on floors repairs. These office chair wheels replacement are 100% safe and friendly to all floors, as they come with high-quality polyurethane layer on the surface of chair casters. Never leave any scratches or marks on hardwood floors, even without a chair mat or carpet. Widely used for wood, hardwood, vinyl, laminate, carpet floors.\\n\\u3010FIT IKEA CHAIRS ONLY & EASY TO INSTALL\\u3011The replacement wheels for office chairs are designed with 10mm stem diameter, fit IKEA chairs only. Notice: If you need to replace the rubber office chair wheels for other chair brands, using the tapes we provide to wrap the stem thicker to make the IKEA desk chair wheels universal fit. Also the office chair wheels for wood floor are easy to install, simply pull out the old office chair casters without tools then insert the new ones.\\n\\u3010RELIABLE HEAVY-DUTY & DURALBE CONSTRUCTION\\u3011Compare to the poor-quality chair casters on the market, ENYKE rubber chair wheels are with a 100% heavy-duty construction. Each computer chair wheel is with premium dual bearings, entire support bracket and internal parts are made of high grade steel that support to total 650LBS as a set of 5 heavy duty office chair wheels. Providing years effortless rolling and durability.\\n\\u3010QUIET ROLLING & SMOOTH\\u3011 The roller blade wheels for office chairs set of 5 are made from soft and shock-absorbing polyurethane which is quieter and smoother rolling than other plastic casters for office chair. Just say goodbye to the squeaky sound from your old plastic office chair casters. Using ENYKE desk chair wheel replacement to upgrade your chairs to improve your rolling experience and a quiet working environment.\\n\\u3010LIFETIME SATISFACTION-GUARANTEE\\u3011ENYKE is trusted by millions of happy customers around the world. Your complete satisfaction is our top priority. If you are not 100% satisfied, we offer a Lifetime Money Back or Replacement Guarantee with no questions asked.\", \"product_id\": \"B07H91TX9K\", \"product_locale\": \"us\", \"product_color\": null, \"product_brand\": \"ENYKE\", \"product_description\": \"<p><b>PERFECT SOLUTION WHEN YOU PURCHASED WRONG SIZE</b><br></p> <p>Using tape we prepared to wrap the stem of desk chair wheels thicker if you think the stem size is too small to fit your rolling chairs.</p> <p>Don't hesitate to purchase office chair wheels as we found the solution to solve the wrong stem size to make them fit all kinds of office chairs such as herman miller chairs.</p> <p><b>Why Choose US?</b></p> <p>ENYKE is the professional manufacturer of office chair casters.</p> <p> We developed over 10 years of these office chair wheels heavy duty to make people feel convenient from daily life.</p> <p>Though these office chair replacement parts are not inconspicuous, they really make you feel comfortable while rolling.</p> <p> Our efforts is to make your life a little change from small things.</p> <p>Durable upgrade bearings, super heavy duty to support up to 650LBS</p> <p>Easily assembled and have fun to DIY</p> <p>Easy to move, make you a convenient life</p> <p>Great for rolling work in office, hardwood floor, laminate, vinyl, tile etc.</p> <p>The tall office chair wheels approved by SGS, BIFMA, ROHS</p> <p>We provide amazing affordable prices and professional back service</p> <p><b>Specifications:</b></p> <p>Color: Black</p> <p>Type: office chair wheels for gaming chairs are 360 degree rotation</p> <p>Material: Polyurethane and steel, soft rubber</p> <p>Wheel Diameter: 3-inch/ 75mm</p> <p>Mounting Height: 3.75inch/ 95mm</p> <p>Stem Size: 7/17\\u201d x 7/8\\u201d inch/10mm*22mm</p> <p>Capacity LBS: 650 Lbs (130Lbs each chair wheels )</p> <p>Bearing: Double ball bearings </p> <p><b>Package Includes: </b></p> <p>5 x office chair wheels threaded stem size 10mm for IKEA chairs</p>\", \"product_title\": \"Office Chair Caster Wheels 10mm Stem, Fit IKEA Chairs Only, 3\\\" Heavy-Duty Replacement Rubber Chair Casters Set of 5, Desk Chair Wheels, Quiet & Smooth Rolling for All Floors (Hardwood, Carpet)\"}}, {\"_index\": \"ecommerce\", \"_id\": \"B07HMXBSLW\", \"_score\": 51.267345, \"_source\": {\"product_bullet_point\": \"Strong and Sturdy: Avoid messy hanging wires! This under table cable management kit has lots of space for cables. The under desk wire organizer is made out of steel, giving it sturdy construction. It is fully welded and powder coated for long life.\\nEasily Mounted: The under desk cord organizer tray installs to the bottom of any wood, MDF, or particleboard desk. You can even mount it on the wall and use it as a cable management wall unit. Not suitable for installation on paper honeycomb-filled desks like some IKEA office desks - Linnmon and Skarsta. We will also email the Installation Guide after your order.\\nEndless Length Options: The under desk cable tray set contains 2 straps and 2 wire trays, 17\\u201d (43cm) each, giving you a total of 34\\u201d (86cm) of wire management under desk. Compatible with CubiCubi and Mr Ironstone desks thicker than \\u00be\\u201d.\\nBetter Design: Your new wire hiders for desk work great even with desks with very little overhang. The cable rack has a unique design allowing for mounting from anywhere along the length of the tray unlike other trays that have fixed screw locations.\\nHome Office Accessories: The computer cord organizer for under desk has a sleek, timeless look, making it an attractive accessory if you can't hide the back of your desk.\", \"product_id\": \"B07HMXBSLW\", \"product_locale\": \"us\", \"product_color\": \"Black\", \"product_brand\": \"Scandinavian Hub\", \"product_description\": \"This spacious and sturdy Scandinavian Hub computer cable management for desk is made to last forever and to make your home and office cord organization easy. The under desk tray set includes all the screws you need to provide a secure attachment to your table. You can use this under desk cable basket set as a standing desk accessory or an under desk organizer for regular office tables. You can easily and quickly add or remove power cables, bricks, and wall warts. Fun fact: This desk organizer tray is strong! We placed a 6.6lb dumbbell into the cable desk organizer and it held up perfectly! So, this under desk shelf can really hold a lot of weight! Why use a desktop cable organizer when you can hide electrical cords with ease? The wire management tray comes with screws ready to use \\u2013 only requiring a screwdriver/drill. The under desk basket is made out of steel, giving it a sturdy construction. It is fully welded and powder coated for long life. Units can be used alone or combined to create the desired length. The open-wire mesh design requires less maintenance than plastic ones because there is almost no dust accumulation.\", \"product_title\": \"Under Desk Cable Management Tray - Under Desk Cable Organizers for Wire Management. Desk Cable Tray for Office and Home. Perfect Standing Desk Cable Management Rack (Black Wire Tray - Set of 2X 17'')\"}}, {\"_index\": \"ecommerce\", \"_id\": \"B01G643EU6\", \"_score\": 50.509754, \"_source\": {\"product_bullet_point\": \"THE LAST OFFICE CHAIR WHEELS YOU'LL NEED \\u2013 Not all caster wheels are created equal. Our heavy-duty chair wheels are made from industrial-grade steel, precision ball bearings, and durable polyurethane chair casters. Its not compatible with IKEA chairs and not either with some off brand chairs, our stem size is 7/16\\\" x 7/8\\\"\\nDESK CHAIR MAT WILL NOT BE NEEDED ANYMORE \\u2013 Our desk chair wheels replacement will NEVER scratch, smudge or damage your floors. Enjoy a carefree, safe glide across wood, hardwood, laminate, vinyl, tile and carpet floors all day long. P.S. Regarding the smooth rolling on carpet it depends on the pile carpet that you have, some roll better and some aren\\u2019t as smooth. High pile carpet usually rolls less smooth then low pile.\\nREPLACEMENT FOR MOST OFFICE CHAIRS \\u2013 Rest assured that our office chair wheels are compatible with almost any rolling chair (please check the size of your wheel stubs before ordering). IMPORTANT: NOT compatible with IKEA chairs.\\\" (our stem size is 7/16\\\" x 7/8\\\")\\nSMOOTH GLIDING IS AS QUIET AS A MOUSE \\u2013 A squeaky, rickety office chair wheel is a telltale sign that they\\u2019re cheap and poorly made. You\\u2019ll slide and glide around in total silence with our swivel casters\\nYOUR TOTAL SATISFACTION IS OUR #1 PRIORITY \\u2013 We put considerable effort into ensuring we created the best desk chair wheels on the planet. After a quick install and glide around, we\\u2019re positive you\\u2019ll agree. If by some miracle you don\\u2019t, we\\u2019ll give you a full refund!\", \"product_id\": \"B01G643EU6\", \"product_locale\": \"us\", \"product_color\": \"Transparent\", \"product_brand\": \"Lifelong\", \"product_description\": \"The Lifelong Wheels stem chair casters are guaranteed to protect your floors from scratches and marks on any surface. This includes hardwood floor, tile, laminate, carpet,mats, concrete, stone, vinyl, etc.<br><br><b>Effortless and Whisper-Quiet Rolling</b> Stay focused on your task instead of distracted and annoyed by the squeaking and sticking of cheap plastic or metal office chair casters.Get rid of being tied down to your office chair mat.<br><br><b>Unparalleled Durability: Get the Best Value for Every Penny You Invest</b> High grade steel, precision ball bearings, and durable polyurethane chair casters were carefully chosen for a heavy duty and long lasting design. Buy these office chair wheels once and enjoy them for many years to come. (especially if used as chair casters for hardwood floor)<br><br><b>Perfect for more than just the computer desk chair </b> These Antique rubber chair casters Wheels provide a great upgrade on chairs for conference rooms, drafting, cubicle, reception, and executives. Or use these on stools that roll (saddle, tractor, etc.) in areas like dental, medical, salon, barber, even tattoo. PC video gamers will agree they are ideal wheels for dxracer chairs.<br><br><b>Compatible with many of the top brands</b> Enjoy these incredible replacement rubber office chair caster wheels that fit with brands like Herman Miller Aeron, Humanscale Freedom, dxracer gaming, Hon, Gaiam, Serta, Lane, Ergonomic, Thomasville, Angelo, Brylane, Broyhill, Eames, Alera, Eames, Staples, Amazon basics and much more.<br><br><b>Try These Absolutely Risk Free.</b> We Offer a 100% Satisfaction Guarantee, or Your Money Back. Don't Lose Any More Time - Click the <b>\\\"Add to Cart\\\" </b>Button Now Before We Run Out of Stock!<br><br><b>Limited time at this great price</b>\", \"product_title\": \"Office chair wheels replacement rubber chair casters for hardwood floors and carpet, set of 5, heavy duty office chair casters for chairs to replace office chair mats - Fits 98%\"}}, {\"_index\": \"ecommerce\", \"_id\": \"B08H8HP9ZB\", \"_score\": 41.07267, \"_source\": {\"product_bullet_point\": \"computer desk table shaped small office desks standing laptop writing drawer folding adjustable home for tables white spaces black foldable bedrooms study cheap shelves student space modern height wood work sit storage portable glass ladder hutch bedroom shape chair studio long craft mini secretary farmhouse wooden game standup rustic large gamer tall industrial rolling room keyboard tray person two inch teen electric metal bookshelf cute people gray crafting wall teens students furniture\\nfan fans tower box window portable operated desk personal outdoor oscillating mini small floor clip on for patios cooling solar camping industrial wall mount standing ceiling remote rechargeable pedestal table room stand up tent shop waterproof garage quiet bed air powered bedroom electric inch twin reversible high velocity whole house light ventilador rooms smart plug metal desktop vintage cooler patio mounted sleep office tall large lights rotating circulator silent conditioning kitchen\\npillow cover throw pillows outdoor covers decorative for bed couch bedroom living room inserts para yellow accent teal sofa cute white navy blue farmhouse small gold decor protectors standard size grey couches sofas black gray cushions decrotative bohemian leather blush light large cream fluffy pink woven nook zippered clearance silver beige oversized cases square round summer fur aesthetic linen cushion orange porch case peach tan rustic toss with included long macrame big rust\\ntable computer desk gaming white small folding office end side console desks bedside tables for living room sofa writing with drawers drawer foot bar home shaped spaces bedroom foldable laptop black accent dining card bedrooms ikea study cheap student corner space modern wood kitchen work and chairs plastic couch dinner chair studio outdoor counter height long craft mini farmhouse wooden game adults mesa shelves rustic large hallway gamer tall industrial simple bed deak person nightstand\\nrugs outdoor rug area carpet for living room bedroom 8x10 clearance 5x7 fluffy boho shag under white salas black pink small kids grey gray throw nursery carpets blue 3x5 large bohemian farmhouse indoor woven 5x8 geometric 10x12 girls teal colorful office dining ruggables soft modern kitchen ruggable tapetes bedrooms jute floor 7x10 money 9x12 and vintage boys cream dorm cheap yellow blush bed cute beige brown teen patio big livingroom cool green 7x9 polypropylene 6x8 multicolor\", \"product_id\": \"B08H8HP9ZB\", \"product_locale\": \"us\", \"product_color\": \"Purple\", \"product_brand\": \"Fasclot\", \"product_description\": \"\\u3010Natural Konjac Facial Cleanser\\u3011Heart-Shaped Exfoliating And Moisturizing Skin<br>Features\\uff1a<br>Konjac cleansing cotton dry product<br>(Natural material, bringing the care of pure nature)<br>It is used to clean the face flap, can be used with lotion or alone.<br>Made from natural konjac, no irritating chemical ingredients, mild and non-irritating, suitable for the whole family<br>It can be used alone or with facial cleanser.<br>There are 6 colors: white, black, purple, green, yellow, pink<br>Size: as shown<br>Contain:<br>1x konjac cleansing cotton<br>\", \"product_title\": \"Fasclot \\u3010Natural Konjac Facial Cleanser\\u3011 Heart-Shaped Exfoliating and Moisturizing Skin Home & Garden Cleaning Supplies\"}}, {\"_index\": \"ecommerce\", \"_id\": \"B08BJ5Y671\", \"_score\": 41.07267, \"_source\": {\"product_bullet_point\": \"table computer desk gaming white small folding office end side console desks bedside tables for living room sofa writing with drawers drawer foot bar home shaped spaces bedroom foldable laptop black accent dining card bedrooms ikea study cheap student corner space modern wood kitchen work and chairs plastic couch dinner chair studio outdoor counter height long craft mini farmhouse wooden game adults mesa shelves rustic large hallway gamer tall industrial simple bed deak person nightstand\\nshaver manscaped lawn mower 3.0 electric razor for men shavers trimmer skull razors series shaving kit mens blade replacement bald peanut microtouch grooming beard hair clippers foil face detailer body haircut machine manscaping groomer shaper balding shave machines professional pubic parts mustache trimmers balls heads heated clipper ball lawnmower headblade panasonic buzzer cutter womens best rated cordless rechargeable micro touch personal neck bread pro vacuum wet dry pube\\nfan fans tower box window portable operated desk personal outdoor oscillating mini small floor clip on for patios cooling solar camping industrial wall mount standing ceiling remote rechargeable pedestal table room stand up tent shop waterproof garage quiet bed air powered bedroom electric inch twin reversible high velocity whole house light ventilador rooms smart plug metal desktop vintage cooler patio mounted sleep office tall large lights rotating circulator silent conditioning kitchen\\npillow cover throw pillows outdoor covers decorative for bed couch bedroom living room inserts para yellow accent teal sofa cute white navy blue farmhouse small gold decor protectors standard size grey couches sofas black gray cushions decrotative bohemian leather blush light large cream fluffy pink woven nook zippered clearance silver beige oversized cases square round summer fur aesthetic linen cushion orange porch case peach tan rustic toss with included long macrame big rust\\ncomputer desk table shaped small office desks standing laptop writing drawer folding adjustable home for tables white spaces black foldable bedrooms study cheap shelves student space modern height wood work sit storage portable glass ladder hutch bedroom shape chair studio long craft mini secretary farmhouse wooden game standup rustic large gamer tall industrial rolling room keyboard tray person two inch teen electric metal bookshelf cute people gray crafting wall teens students furniture\", \"product_id\": \"B08BJ5Y671\", \"product_locale\": \"us\", \"product_color\": \"Gray\", \"product_brand\": \"Fasclot\", \"product_description\": \"Household Winter Plush Soft Toilet Seat Pad Cover Toilet Seat Zipper With Handle<br>Feature:<br>100% Brand new and high quality.<br>This closestool cover can keep warm in cold day, health care and sanitary.<br>This toilet seat cover can be hand or machine washed.<br>Bring your own handle, easy to lift, not dirty hand<br>Lamb velvet material, soft and skin-friendly, breathable and comfortable<br>Clean and waterproof, easy to clean<br>All-inclusive design, surrounded by zippers, leaving no dead ends<br>Precision embroidery pattern, exquisite workmanship<br>Easy to clean, reusable<br>Size: 43 x 37cm\\uff0816.92 x 14.56inch )<br>Material: corduroy, lamb cashmere,<br>Color: yellow, gray, pink,<br>Package Included:<br>1 x Toilet Seat Closestool Cover<br>Note:<br>For different monitors, the color may vary slightly.<br>Please allow some errors of manual measurement, thank you for your understanding!<br>\", \"product_title\": \"Fasclot Household Winter Plush Soft Toilet Seat Pad Cover Toilet Seat Zipper with Handle Home & Garden Bathroom Products\"}}, {\"_index\": \"ecommerce\", \"_id\": \"B0853CRSKZ\", \"_score\": 41.07267, \"_source\": {\"product_bullet_point\": \"computer desk table shaped small office desks standing laptop writing drawer folding adjustable home for tables white spaces black foldable bedrooms study cheap shelves student space modern height wood work sit storage portable glass ladder hutch bedroom shape chair studio long craft mini secretary farmhouse wooden game standup rustic large gamer tall industrial rolling room keyboard tray person two inch teen electric metal bookshelf cute people gray crafting wall teens students furniture\\nfan fans tower box window portable operated desk personal outdoor oscillating mini small floor clip on for patios cooling solar camping industrial wall mount standing ceiling remote rechargeable pedestal table room stand up tent shop waterproof garage quiet bed air powered bedroom electric inch twin reversible high velocity whole house light ventilador rooms smart plug metal desktop vintage cooler patio mounted sleep office tall large lights rotating circulator silent conditioning kitchen\\npillow cover throw pillows outdoor covers decorative for bed couch bedroom living room inserts para yellow accent teal sofa cute white navy blue farmhouse small gold decor protectors standard size grey couches sofas black gray cushions decrotative bohemian leather blush light large cream fluffy pink woven nook zippered clearance silver beige oversized cases square round summer fur aesthetic linen cushion orange porch case peach tan rustic toss with included long macrame big rust\\ntable computer desk gaming white small folding office end side console desks bedside tables for living room sofa writing with drawers drawer foot bar home shaped spaces bedroom foldable laptop black accent dining card bedrooms ikea study cheap student corner space modern wood kitchen work and chairs plastic couch dinner chair studio outdoor counter height long craft mini farmhouse wooden game adults mesa shelves rustic large hallway gamer tall industrial simple bed deak person nightstand\\nrugs outdoor rug area carpet for living room bedroom 8x10 clearance 5x7 fluffy boho shag under white salas black pink small kids grey gray throw nursery carpets blue 3x5 large bohemian farmhouse indoor woven 5x8 geometric 10x12 girls teal colorful office dining ruggables soft modern kitchen ruggable tapetes bedrooms jute floor 7x10 money 9x12 and vintage boys cream dorm cheap yellow blush bed cute beige brown teen patio big livingroom cool green 7x9 polypropylene 6x8 multicolor\", \"product_id\": \"B0853CRSKZ\", \"product_locale\": \"us\", \"product_color\": null, \"product_brand\": \"Celiy\", \"product_description\": \"<br>Comfortable Plush Kennel Dogs Pet Litter Deep Sleep PV Cat Litter Sleeping Bed<br>Benefit:<br> Thanks to its round shape, our bed is ideal for pets who love to curl up!<br>The raised rim creates a sense of security and provides head and neck support, while the super-soft filling offers joint and muscle pain relief Cozy, flexible and finished with faux shag, our self-warming luxury dog bed is reminiscent of a mother\\u2019s coat!<br>Paired with deep crevices that allow your pet to burrow, animals will have full, restful sleep for improved behavior and better health Available in beautifully natural colors, our pet beds are a seamless addition to any room\\u2019s<br>And because they\\u2019re finished with water and dirt-resistant bottoms, they help prevent accidental messes from reaching your floors NOT suitable for puppies or dogs with excessive teething or chewing behavior IMPORTANT CARE INSTRUCTIONS : To avoid matting of the, it is important that the bed is thoroughly dried in DRYER directly after washing. Do NOT air dry Size: diameter 40cm height 20cm Package Content: 1 X Pet House<br>\", \"product_title\": \"Round Donut Cat Bed, Winter Warm Sleeping Bag Long Plush Soft Pet Bed Calming House Anti-Slip & Water-Resistant Bottom Super Soft Durable Fabric Pet Supplies\"}}, {\"_index\": \"ecommerce\", \"_id\": \"B08K4HWP87\", \"_score\": 41.07267, \"_source\": {\"product_bullet_point\": \"table computer desk gaming white small folding office end side console desks bedside tables for living room sofa writing with drawers drawer foot bar home shaped spaces bedroom foldable laptop black accent dining card bedrooms ikea study cheap student corner space modern wood kitchen work and chairs plastic couch dinner chair studio outdoor counter height long craft mini farmhouse wooden game adults mesa shelves rustic large hallway gamer tall industrial simple bed deak person nightstand\\nshaver manscaped lawn mower 3.0 electric razor for men shavers trimmer skull razors series shaving kit mens blade replacement bald peanut microtouch grooming beard hair clippers foil face detailer body haircut machine manscaping groomer shaper balding shave machines professional pubic parts mustache trimmers balls heads heated clipper ball lawnmower headblade panasonic buzzer cutter womens best rated cordless rechargeable micro touch personal neck bread pro vacuum wet dry pube\\nfan fans tower box window portable operated desk personal outdoor oscillating mini small floor clip on for patios cooling solar camping industrial wall mount standing ceiling remote rechargeable pedestal table room stand up tent shop waterproof garage quiet bed air powered bedroom electric inch twin reversible high velocity whole house light ventilador rooms smart plug metal desktop vintage cooler patio mounted sleep office tall large lights rotating circulator silent conditioning kitchen\\npillow cover throw pillows outdoor covers decorative for bed couch bedroom living room inserts para yellow accent teal sofa cute white navy blue farmhouse small gold decor protectors standard size grey couches sofas black gray cushions decrotative bohemian leather blush light large cream fluffy pink woven nook zippered clearance silver beige oversized cases square round summer fur aesthetic linen cushion orange porch case peach tan rustic toss with included long macrame big rust\\ncomputer desk table shaped small office desks standing laptop writing drawer folding adjustable home for tables white spaces black foldable bedrooms study cheap shelves student space modern height wood work sit storage portable glass ladder hutch bedroom shape chair studio long craft mini secretary farmhouse wooden game standup rustic large gamer tall industrial rolling room keyboard tray person two inch teen electric metal bookshelf cute people gray crafting wall teens students furniture\", \"product_id\": \"B08K4HWP87\", \"product_locale\": \"us\", \"product_color\": \"B\", \"product_brand\": \"Fasclot\", \"product_description\": \"Color Lights Christmas Pillow LED Lights Pillow Creative Printing Linen<br> Specifications:<br>Style: Christmas<br>Perfect for place on the sofa, coffee shop, library, book store, party, club.<br>Material:Cotton Linen<br>Shape:Square<br> Removable and Washable<br> Size:45cm\\u00d745cm<br> Type:Pillow case<br>Please Use battery 3\\u00d7AA (not include the bettery)<br>Please note: 1.Actural color will be slight difference between the picture because of the brightness<br>2.In order to keep the color fresh, it is better to add salt to the water for your first washing. Package:<br> Package include:1PC Pillow case((not include the inner and bettery)<br>\", \"product_title\": \"Pillow Case Glowing led Thanksgiving Pumpkin Sunflower Throw Pillow Sofa Cushion Pillowcase\"}}, {\"_index\": \"ecommerce\", \"_id\": \"B08K4HYT9T\", \"_score\": 41.07267, \"_source\": {\"product_bullet_point\": \"fan fans tower box window portable operated desk personal outdoor oscillating mini small floor clip on for patios cooling solar camping industrial wall mount standing ceiling remote rechargeable pedestal table room stand up tent shop waterproof garage quiet bed air powered bedroom electric inch twin reversible high velocity whole house light ventilador rooms smart plug metal desktop vintage cooler patio mounted sleep office tall large lights rotating circulator silent conditioning kitchen\\nshaver manscaped lawn mower 3.0 electric razor for men shavers trimmer skull razors series shaving kit mens blade replacement bald peanut microtouch grooming beard hair clippers foil face detailer body haircut machine manscaping groomer shaper balding shave machines professional pubic parts mustache trimmers balls heads heated clipper ball lawnmower headblade panasonic buzzer cutter womens best rated cordless rechargeable micro touch personal neck bread pro vacuum wet dry pube\\nrugs outdoor rug area carpet for living room bedroom 8x10 clearance 5x7 fluffy boho shag under white salas black pink small kids grey gray throw nursery carpets blue 3x5 large bohemian farmhouse indoor woven 5x8 geometric 10x12 girls teal colorful office dining ruggables soft modern kitchen ruggable tapetes bedrooms jute floor 7x10 money 9x12 and vintage boys cream dorm cheap yellow blush bed cute beige brown teen patio big livingroom cool green 7x9 polypropylene 6x8 multicolor\\ncomputer desk table shaped small office desks standing laptop writing drawer folding adjustable home for tables white spaces black foldable bedrooms study cheap shelves student space modern height wood work sit storage portable glass ladder hutch bedroom shape chair studio long craft mini secretary farmhouse wooden game standup rustic large gamer tall industrial rolling room keyboard tray person two inch teen electric metal bookshelf cute people gray crafting wall teens students furniture\\ntable computer desk gaming white small folding office end side console desks bedside tables for living room sofa writing with drawers drawer foot bar home shaped spaces bedroom foldable laptop black accent dining card bedrooms ikea study cheap student corner space modern wood kitchen work and chairs plastic couch dinner chair studio outdoor counter height long craft mini farmhouse wooden game adults mesa shelves rustic large hallway gamer tall industrial simple bed deak person nightstand\", \"product_id\": \"B08K4HYT9T\", \"product_locale\": \"us\", \"product_color\": \"Multicolor\", \"product_brand\": \"Fasclot\", \"product_description\": \"<br>Squishy Yogurt Bottle Scented Squishy Slow Rising Squeeze Toys Jumbo Collection<br>Descriptions<br>Slow rising: more than 20 seconds Material: Elastic Environmentally PU Size:11.5*6cm<br>Odor: mysterious scented<br> Style: toy/ Yogurt Bottle<br>Quantity: 1 PCS<br>Squishy: very slow rising Get the hands, there will be a taste. Please place for 3 days. The taste will be reduced a lot.<br> Package content\\uff1a<br> 1x Squishy Super Slow Rising Authentic Kid Toy With Bun Decompression Toys\", \"product_title\": \"Fasclot Squishy Yogurt Bottle Scented Squishy Slow Rising Squeeze Toys Jumbo Collection\"}}]}}))</script>"
      ],
      "text/plain": [
       "<IPython.core.display.HTML object>"
      ]
     },
     "metadata": {},
     "output_type": "display_data"
    }
   ],
   "source": [
    "mr.JSON(response, level=4)"
   ]
  },
  {
   "cell_type": "markdown",
   "id": "8df0b98f-442f-4a79-a95b-8220c582cfe1",
   "metadata": {},
   "source": [
    "Hybrid search results look a lot better than pure keyword based results!"
   ]
  },
  {
   "cell_type": "code",
   "execution_count": 106,
   "id": "1f8b40a4-0a82-4c12-a754-5e6990574022",
   "metadata": {},
   "outputs": [],
   "source": [
    "pipeline_name = 'l2arithmetic_mean0.7'\n",
    "url = \"http://localhost:9200/ecommerce/_search?search_pipeline=\" + pipeline_name\n",
    "    \n",
    "headers = {\n",
    "    'Content-Type': 'application/json'\n",
    "}\n",
    "\n",
    "payload = {\n",
    "      \"_source\": {\n",
    "        \"excludes\": [\n",
    "          \"title_embedding\"\n",
    "        ]\n",
    "      },\n",
    "      \"query\": {\n",
    "        \"hybrid\": {\n",
    "          \"queries\": [\n",
    "            {\n",
    "              \"multi_match\" : {\n",
    "                  \"type\":       \"best_fields\",\n",
    "                  \"fields\":     [\n",
    "                    \"product_id^100\",\n",
    "                    \"product_bullet_point^3\",\n",
    "                    \"product_color^2\",\n",
    "                    \"product_brand^5\",\n",
    "                    \"product_description\",\n",
    "                    \"product_title^10\"\n",
    "                  ],\n",
    "                  \"operator\":   \"and\",\n",
    "                  \"query\":      query\n",
    "                }\n",
    "            },\n",
    "            {\n",
    "              \"neural\": {\n",
    "                \"title_embedding\": {\n",
    "                  \"query_text\": query,\n",
    "                  \"k\": 50\n",
    "                }\n",
    "              }\n",
    "            }\n",
    "          ]\n",
    "        }\n",
    "      }\n",
    "    }\n",
    "\n",
    "response = requests.request(\"POST\", url, headers=headers, data=json.dumps(payload)).json()"
   ]
  },
  {
   "cell_type": "code",
   "execution_count": 107,
   "id": "399043f0-2a8c-4f80-824e-89ac9d636740",
   "metadata": {
    "scrolled": true
   },
   "outputs": [
    {
     "data": {
      "text/html": [
       "<style>.renderjson a              { text-decoration: none; }\n",
       ".renderjson .disclosure    { color: grey; font-size: 125%; }\n",
       ".renderjson .syntax        { color: grey; }\n",
       ".renderjson .string        { color: #fe46a5; }\n",
       ".renderjson .number        { color: #0f9b8e; }\n",
       ".renderjson .boolean       { color: black; }\n",
       ".renderjson .key           { color: #2684ff; }\n",
       ".renderjson .keyword       { color: gray; }\n",
       ".renderjson .object.syntax { color: gray; }\n",
       ".renderjson .array.syntax  { color: gray; }</style><div id=\"247a8fd1-7df7-400b-8bf5-a268065dcf4a\"></div>"
      ],
      "text/plain": [
       "<IPython.core.display.HTML object>"
      ]
     },
     "metadata": {},
     "output_type": "display_data"
    },
    {
     "data": {
      "text/html": [
       "<script>var renderjson=function(){var t=function(){for(var t=[];arguments.length;)t.push(n(s(Array.prototype.shift.call(arguments)),o(Array.prototype.shift.call(arguments))));return t},n=function(){for(var t=Array.prototype.shift.call(arguments),e=0;e<arguments.length;e++)arguments[e].constructor==Array?n.apply(this,[t].concat(arguments[e])):t.appendChild(arguments[e]);return t},e=function(t,n){return t.insertBefore(n,t.firstChild),t},r=function(t,n){var e=n||Object.keys(t);for(var r in e)if(Object.hasOwnProperty.call(t,e[r]))return!1;return!0},o=function(t){return document.createTextNode(t)},s=function(t){var n=document.createElement(\"span\");return t&&(n.className=t),n},l=function(t,n,e){var r=document.createElement(\"a\");return n&&(r.className=n),r.appendChild(o(t)),r.href=\"#\",r.onclick=function(t){return e(),t&&t.stopPropagation(),!1},r};function a(i,c,u,p,y){var _=u?\"\":c,f=function(r,a,i,c,u){var f,g=s(c),h=function(){f||n(g.parentNode,f=e(u(),l(y.hide,\"disclosure\",(function(){f.style.display=\"none\",g.style.display=\"inline\"})))),f.style.display=\"inline\",g.style.display=\"none\"};n(g,l(y.show,\"disclosure\",h),t(c+\" syntax\",r),l(a,null,h),t(c+\" syntax\",i));var d=n(s(),o(_.slice(0,-1)),g);return p>0&&\"string\"!=c&&h(),d};return null===i?t(null,_,\"keyword\",\"null\"):void 0===i?t(null,_,\"keyword\",\"undefined\"):\"string\"==typeof i&&i.length>y.max_string_length?f('\"',i.substr(0,y.max_string_length)+\" ...\",'\"',\"string\",(function(){return n(s(\"string\"),t(null,_,\"string\",JSON.stringify(i)))})):\"object\"!=typeof i||[Number,String,Boolean,Date].indexOf(i.constructor)>=0?t(null,_,typeof i,JSON.stringify(i)):i.constructor==Array?0==i.length?t(null,_,\"array syntax\",\"[]\"):f(\"[\",y.collapse_msg(i.length),\"]\",\"array\",(function(){for(var e=n(s(\"array\"),t(\"array syntax\",\"[\",null,\"\\n\")),r=0;r<i.length;r++)n(e,a(y.replacer.call(i,r,i[r]),c+\"    \",!1,p-1,y),r!=i.length-1?t(\"syntax\",\",\"):[],o(\"\\n\"));return n(e,t(null,c,\"array syntax\",\"]\")),e})):r(i,y.property_list)?t(null,_,\"object syntax\",\"{}\"):f(\"{\",y.collapse_msg(Object.keys(i).length),\"}\",\"object\",(function(){var e=n(s(\"object\"),t(\"object syntax\",\"{\",null,\"\\n\"));for(var r in i)var l=r;var u=y.property_list||Object.keys(i);for(var _ in y.sort_objects&&(u=u.sort()),u){(r=u[_])in i&&n(e,t(null,c+\"    \",\"key\",'\"'+r+'\"',\"object syntax\",\": \"),a(y.replacer.call(i,r,i[r]),c+\"    \",!0,p-1,y),r!=l?t(\"syntax\",\",\"):[],o(\"\\n\"))}return n(e,t(null,c,\"object syntax\",\"}\")),e}))}var i=function t(e){var r=new Object(t.options);r.replacer=\"function\"==typeof r.replacer?r.replacer:function(t,n){return n};var o=n(document.createElement(\"pre\"),a(e,\"\",!1,r.show_to_level,r));return o.className=\"renderjson\",o};return i.set_icons=function(t,n){return i.options.show=t,i.options.hide=n,i},i.set_show_to_level=function(t){return i.options.show_to_level=\"string\"==typeof t&&\"all\"===t.toLowerCase()?Number.MAX_VALUE:t,i},i.set_max_string_length=function(t){return i.options.max_string_length=\"string\"==typeof t&&\"none\"===t.toLowerCase()?Number.MAX_VALUE:t,i},i.set_sort_objects=function(t){return i.options.sort_objects=t,i},i.set_replacer=function(t){return i.options.replacer=t,i},i.set_collapse_msg=function(t){return i.options.collapse_msg=t,i},i.set_property_list=function(t){return i.options.property_list=t,i},i.set_show_by_default=function(t){return i.options.show_to_level=t?Number.MAX_VALUE:0,i},i.options={},i.set_icons(\"⊕\",\"⊖\"),i.set_show_by_default(!1),i.set_sort_objects(!1),i.set_max_string_length(\"none\"),i.set_replacer(void 0),i.set_property_list(void 0),i.set_collapse_msg((function(t){return t+\" item\"+(1==t?\"\":\"s\")})),i}(); renderjson.set_show_to_level(4); document.getElementById(\"247a8fd1-7df7-400b-8bf5-a268065dcf4a\").appendChild(renderjson({\"took\": 103, \"timed_out\": false, \"_shards\": {\"total\": 1, \"successful\": 1, \"skipped\": 0, \"failed\": 0}, \"hits\": {\"total\": {\"value\": 77, \"relation\": \"eq\"}, \"max_score\": 0.44187886, \"hits\": [{\"_index\": \"ecommerce\", \"_id\": \"B00TA4LII0\", \"_score\": 0.44187886, \"_source\": {\"product_bullet_point\": \"Beech Wood Desk Table Leg Trestle with Shelf , Height and Angle Adjustable , Also Great for Drafting Table Tops\", \"product_id\": \"B00TA4LII0\", \"product_locale\": \"us\", \"product_color\": \"Wood\", \"product_brand\": \"IKEA\", \"product_description\": \"Beech Wood Desk Table Leg Trestle with Shelf , Height and Angle Adjustable , Also Great for Drafting Table Tops\", \"product_title\": \"IKEA Beech Wood Desk Table Leg Trestle with Shelf , Height and Angle Adjustable , Also Great for Drafting Table Tops\"}}, {\"_index\": \"ecommerce\", \"_id\": \"B00TBSQTH0\", \"_score\": 0.43194944, \"_source\": {\"product_bullet_point\": null, \"product_id\": \"B00TBSQTH0\", \"product_locale\": \"us\", \"product_color\": \"Brown\", \"product_brand\": \"IKEA\", \"product_description\": \"Ikea Linnmon White Desk Table 59x30\\\" with 2 Beech Wood Brown Trestle Shelf Legs Height and Angle Adjustable, Drawing Table \\u2026\", \"product_title\": \"Ikea Linnmon White Desk Table 59x30\\\" with 2 Beech Wood Brown Trestle Shelf Legs Height and Angle Adjustable, Drawing Table\"}}, {\"_index\": \"ecommerce\", \"_id\": \"B07H91TX9K\", \"_score\": 0.13327642, \"_source\": {\"product_bullet_point\": \"\\u3010AVOID DAMAGING FLOORS\\u3011Stop worrying spending money on floors repairs. These office chair wheels replacement are 100% safe and friendly to all floors, as they come with high-quality polyurethane layer on the surface of chair casters. Never leave any scratches or marks on hardwood floors, even without a chair mat or carpet. Widely used for wood, hardwood, vinyl, laminate, carpet floors.\\n\\u3010FIT IKEA CHAIRS ONLY & EASY TO INSTALL\\u3011The replacement wheels for office chairs are designed with 10mm stem diameter, fit IKEA chairs only. Notice: If you need to replace the rubber office chair wheels for other chair brands, using the tapes we provide to wrap the stem thicker to make the IKEA desk chair wheels universal fit. Also the office chair wheels for wood floor are easy to install, simply pull out the old office chair casters without tools then insert the new ones.\\n\\u3010RELIABLE HEAVY-DUTY & DURALBE CONSTRUCTION\\u3011Compare to the poor-quality chair casters on the market, ENYKE rubber chair wheels are with a 100% heavy-duty construction. Each computer chair wheel is with premium dual bearings, entire support bracket and internal parts are made of high grade steel that support to total 650LBS as a set of 5 heavy duty office chair wheels. Providing years effortless rolling and durability.\\n\\u3010QUIET ROLLING & SMOOTH\\u3011 The roller blade wheels for office chairs set of 5 are made from soft and shock-absorbing polyurethane which is quieter and smoother rolling than other plastic casters for office chair. Just say goodbye to the squeaky sound from your old plastic office chair casters. Using ENYKE desk chair wheel replacement to upgrade your chairs to improve your rolling experience and a quiet working environment.\\n\\u3010LIFETIME SATISFACTION-GUARANTEE\\u3011ENYKE is trusted by millions of happy customers around the world. Your complete satisfaction is our top priority. If you are not 100% satisfied, we offer a Lifetime Money Back or Replacement Guarantee with no questions asked.\", \"product_id\": \"B07H91TX9K\", \"product_locale\": \"us\", \"product_color\": null, \"product_brand\": \"ENYKE\", \"product_description\": \"<p><b>PERFECT SOLUTION WHEN YOU PURCHASED WRONG SIZE</b><br></p> <p>Using tape we prepared to wrap the stem of desk chair wheels thicker if you think the stem size is too small to fit your rolling chairs.</p> <p>Don't hesitate to purchase office chair wheels as we found the solution to solve the wrong stem size to make them fit all kinds of office chairs such as herman miller chairs.</p> <p><b>Why Choose US?</b></p> <p>ENYKE is the professional manufacturer of office chair casters.</p> <p> We developed over 10 years of these office chair wheels heavy duty to make people feel convenient from daily life.</p> <p>Though these office chair replacement parts are not inconspicuous, they really make you feel comfortable while rolling.</p> <p> Our efforts is to make your life a little change from small things.</p> <p>Durable upgrade bearings, super heavy duty to support up to 650LBS</p> <p>Easily assembled and have fun to DIY</p> <p>Easy to move, make you a convenient life</p> <p>Great for rolling work in office, hardwood floor, laminate, vinyl, tile etc.</p> <p>The tall office chair wheels approved by SGS, BIFMA, ROHS</p> <p>We provide amazing affordable prices and professional back service</p> <p><b>Specifications:</b></p> <p>Color: Black</p> <p>Type: office chair wheels for gaming chairs are 360 degree rotation</p> <p>Material: Polyurethane and steel, soft rubber</p> <p>Wheel Diameter: 3-inch/ 75mm</p> <p>Mounting Height: 3.75inch/ 95mm</p> <p>Stem Size: 7/17\\u201d x 7/8\\u201d inch/10mm*22mm</p> <p>Capacity LBS: 650 Lbs (130Lbs each chair wheels )</p> <p>Bearing: Double ball bearings </p> <p><b>Package Includes: </b></p> <p>5 x office chair wheels threaded stem size 10mm for IKEA chairs</p>\", \"product_title\": \"Office Chair Caster Wheels 10mm Stem, Fit IKEA Chairs Only, 3\\\" Heavy-Duty Replacement Rubber Chair Casters Set of 5, Desk Chair Wheels, Quiet & Smooth Rolling for All Floors (Hardwood, Carpet)\"}}, {\"_index\": \"ecommerce\", \"_id\": \"B07HMXBSLW\", \"_score\": 0.13210718, \"_source\": {\"product_bullet_point\": \"Strong and Sturdy: Avoid messy hanging wires! This under table cable management kit has lots of space for cables. The under desk wire organizer is made out of steel, giving it sturdy construction. It is fully welded and powder coated for long life.\\nEasily Mounted: The under desk cord organizer tray installs to the bottom of any wood, MDF, or particleboard desk. You can even mount it on the wall and use it as a cable management wall unit. Not suitable for installation on paper honeycomb-filled desks like some IKEA office desks - Linnmon and Skarsta. We will also email the Installation Guide after your order.\\nEndless Length Options: The under desk cable tray set contains 2 straps and 2 wire trays, 17\\u201d (43cm) each, giving you a total of 34\\u201d (86cm) of wire management under desk. Compatible with CubiCubi and Mr Ironstone desks thicker than \\u00be\\u201d.\\nBetter Design: Your new wire hiders for desk work great even with desks with very little overhang. The cable rack has a unique design allowing for mounting from anywhere along the length of the tray unlike other trays that have fixed screw locations.\\nHome Office Accessories: The computer cord organizer for under desk has a sleek, timeless look, making it an attractive accessory if you can't hide the back of your desk.\", \"product_id\": \"B07HMXBSLW\", \"product_locale\": \"us\", \"product_color\": \"Black\", \"product_brand\": \"Scandinavian Hub\", \"product_description\": \"This spacious and sturdy Scandinavian Hub computer cable management for desk is made to last forever and to make your home and office cord organization easy. The under desk tray set includes all the screws you need to provide a secure attachment to your table. You can use this under desk cable basket set as a standing desk accessory or an under desk organizer for regular office tables. You can easily and quickly add or remove power cables, bricks, and wall warts. Fun fact: This desk organizer tray is strong! We placed a 6.6lb dumbbell into the cable desk organizer and it held up perfectly! So, this under desk shelf can really hold a lot of weight! Why use a desktop cable organizer when you can hide electrical cords with ease? The wire management tray comes with screws ready to use \\u2013 only requiring a screwdriver/drill. The under desk basket is made out of steel, giving it a sturdy construction. It is fully welded and powder coated for long life. Units can be used alone or combined to create the desired length. The open-wire mesh design requires less maintenance than plastic ones because there is almost no dust accumulation.\", \"product_title\": \"Under Desk Cable Management Tray - Under Desk Cable Organizers for Wire Management. Desk Cable Tray for Office and Home. Perfect Standing Desk Cable Management Rack (Black Wire Tray - Set of 2X 17'')\"}}, {\"_index\": \"ecommerce\", \"_id\": \"B01G643EU6\", \"_score\": 0.130155, \"_source\": {\"product_bullet_point\": \"THE LAST OFFICE CHAIR WHEELS YOU'LL NEED \\u2013 Not all caster wheels are created equal. Our heavy-duty chair wheels are made from industrial-grade steel, precision ball bearings, and durable polyurethane chair casters. Its not compatible with IKEA chairs and not either with some off brand chairs, our stem size is 7/16\\\" x 7/8\\\"\\nDESK CHAIR MAT WILL NOT BE NEEDED ANYMORE \\u2013 Our desk chair wheels replacement will NEVER scratch, smudge or damage your floors. Enjoy a carefree, safe glide across wood, hardwood, laminate, vinyl, tile and carpet floors all day long. P.S. Regarding the smooth rolling on carpet it depends on the pile carpet that you have, some roll better and some aren\\u2019t as smooth. High pile carpet usually rolls less smooth then low pile.\\nREPLACEMENT FOR MOST OFFICE CHAIRS \\u2013 Rest assured that our office chair wheels are compatible with almost any rolling chair (please check the size of your wheel stubs before ordering). IMPORTANT: NOT compatible with IKEA chairs.\\\" (our stem size is 7/16\\\" x 7/8\\\")\\nSMOOTH GLIDING IS AS QUIET AS A MOUSE \\u2013 A squeaky, rickety office chair wheel is a telltale sign that they\\u2019re cheap and poorly made. You\\u2019ll slide and glide around in total silence with our swivel casters\\nYOUR TOTAL SATISFACTION IS OUR #1 PRIORITY \\u2013 We put considerable effort into ensuring we created the best desk chair wheels on the planet. After a quick install and glide around, we\\u2019re positive you\\u2019ll agree. If by some miracle you don\\u2019t, we\\u2019ll give you a full refund!\", \"product_id\": \"B01G643EU6\", \"product_locale\": \"us\", \"product_color\": \"Transparent\", \"product_brand\": \"Lifelong\", \"product_description\": \"The Lifelong Wheels stem chair casters are guaranteed to protect your floors from scratches and marks on any surface. This includes hardwood floor, tile, laminate, carpet,mats, concrete, stone, vinyl, etc.<br><br><b>Effortless and Whisper-Quiet Rolling</b> Stay focused on your task instead of distracted and annoyed by the squeaking and sticking of cheap plastic or metal office chair casters.Get rid of being tied down to your office chair mat.<br><br><b>Unparalleled Durability: Get the Best Value for Every Penny You Invest</b> High grade steel, precision ball bearings, and durable polyurethane chair casters were carefully chosen for a heavy duty and long lasting design. Buy these office chair wheels once and enjoy them for many years to come. (especially if used as chair casters for hardwood floor)<br><br><b>Perfect for more than just the computer desk chair </b> These Antique rubber chair casters Wheels provide a great upgrade on chairs for conference rooms, drafting, cubicle, reception, and executives. Or use these on stools that roll (saddle, tractor, etc.) in areas like dental, medical, salon, barber, even tattoo. PC video gamers will agree they are ideal wheels for dxracer chairs.<br><br><b>Compatible with many of the top brands</b> Enjoy these incredible replacement rubber office chair caster wheels that fit with brands like Herman Miller Aeron, Humanscale Freedom, dxracer gaming, Hon, Gaiam, Serta, Lane, Ergonomic, Thomasville, Angelo, Brylane, Broyhill, Eames, Alera, Eames, Staples, Amazon basics and much more.<br><br><b>Try These Absolutely Risk Free.</b> We Offer a 100% Satisfaction Guarantee, or Your Money Back. Don't Lose Any More Time - Click the <b>\\\"Add to Cart\\\" </b>Button Now Before We Run Out of Stock!<br><br><b>Limited time at this great price</b>\", \"product_title\": \"Office chair wheels replacement rubber chair casters for hardwood floors and carpet, set of 5, heavy duty office chair casters for chairs to replace office chair mats - Fits 98%\"}}, {\"_index\": \"ecommerce\", \"_id\": \"B0853CRSKZ\", \"_score\": 0.105837256, \"_source\": {\"product_bullet_point\": \"computer desk table shaped small office desks standing laptop writing drawer folding adjustable home for tables white spaces black foldable bedrooms study cheap shelves student space modern height wood work sit storage portable glass ladder hutch bedroom shape chair studio long craft mini secretary farmhouse wooden game standup rustic large gamer tall industrial rolling room keyboard tray person two inch teen electric metal bookshelf cute people gray crafting wall teens students furniture\\nfan fans tower box window portable operated desk personal outdoor oscillating mini small floor clip on for patios cooling solar camping industrial wall mount standing ceiling remote rechargeable pedestal table room stand up tent shop waterproof garage quiet bed air powered bedroom electric inch twin reversible high velocity whole house light ventilador rooms smart plug metal desktop vintage cooler patio mounted sleep office tall large lights rotating circulator silent conditioning kitchen\\npillow cover throw pillows outdoor covers decorative for bed couch bedroom living room inserts para yellow accent teal sofa cute white navy blue farmhouse small gold decor protectors standard size grey couches sofas black gray cushions decrotative bohemian leather blush light large cream fluffy pink woven nook zippered clearance silver beige oversized cases square round summer fur aesthetic linen cushion orange porch case peach tan rustic toss with included long macrame big rust\\ntable computer desk gaming white small folding office end side console desks bedside tables for living room sofa writing with drawers drawer foot bar home shaped spaces bedroom foldable laptop black accent dining card bedrooms ikea study cheap student corner space modern wood kitchen work and chairs plastic couch dinner chair studio outdoor counter height long craft mini farmhouse wooden game adults mesa shelves rustic large hallway gamer tall industrial simple bed deak person nightstand\\nrugs outdoor rug area carpet for living room bedroom 8x10 clearance 5x7 fluffy boho shag under white salas black pink small kids grey gray throw nursery carpets blue 3x5 large bohemian farmhouse indoor woven 5x8 geometric 10x12 girls teal colorful office dining ruggables soft modern kitchen ruggable tapetes bedrooms jute floor 7x10 money 9x12 and vintage boys cream dorm cheap yellow blush bed cute beige brown teen patio big livingroom cool green 7x9 polypropylene 6x8 multicolor\", \"product_id\": \"B0853CRSKZ\", \"product_locale\": \"us\", \"product_color\": null, \"product_brand\": \"Celiy\", \"product_description\": \"<br>Comfortable Plush Kennel Dogs Pet Litter Deep Sleep PV Cat Litter Sleeping Bed<br>Benefit:<br> Thanks to its round shape, our bed is ideal for pets who love to curl up!<br>The raised rim creates a sense of security and provides head and neck support, while the super-soft filling offers joint and muscle pain relief Cozy, flexible and finished with faux shag, our self-warming luxury dog bed is reminiscent of a mother\\u2019s coat!<br>Paired with deep crevices that allow your pet to burrow, animals will have full, restful sleep for improved behavior and better health Available in beautifully natural colors, our pet beds are a seamless addition to any room\\u2019s<br>And because they\\u2019re finished with water and dirt-resistant bottoms, they help prevent accidental messes from reaching your floors NOT suitable for puppies or dogs with excessive teething or chewing behavior IMPORTANT CARE INSTRUCTIONS : To avoid matting of the, it is important that the bed is thoroughly dried in DRYER directly after washing. Do NOT air dry Size: diameter 40cm height 20cm Package Content: 1 X Pet House<br>\", \"product_title\": \"Round Donut Cat Bed, Winter Warm Sleeping Bag Long Plush Soft Pet Bed Calming House Anti-Slip & Water-Resistant Bottom Super Soft Durable Fabric Pet Supplies\"}}, {\"_index\": \"ecommerce\", \"_id\": \"B08K4HWP87\", \"_score\": 0.105837256, \"_source\": {\"product_bullet_point\": \"table computer desk gaming white small folding office end side console desks bedside tables for living room sofa writing with drawers drawer foot bar home shaped spaces bedroom foldable laptop black accent dining card bedrooms ikea study cheap student corner space modern wood kitchen work and chairs plastic couch dinner chair studio outdoor counter height long craft mini farmhouse wooden game adults mesa shelves rustic large hallway gamer tall industrial simple bed deak person nightstand\\nshaver manscaped lawn mower 3.0 electric razor for men shavers trimmer skull razors series shaving kit mens blade replacement bald peanut microtouch grooming beard hair clippers foil face detailer body haircut machine manscaping groomer shaper balding shave machines professional pubic parts mustache trimmers balls heads heated clipper ball lawnmower headblade panasonic buzzer cutter womens best rated cordless rechargeable micro touch personal neck bread pro vacuum wet dry pube\\nfan fans tower box window portable operated desk personal outdoor oscillating mini small floor clip on for patios cooling solar camping industrial wall mount standing ceiling remote rechargeable pedestal table room stand up tent shop waterproof garage quiet bed air powered bedroom electric inch twin reversible high velocity whole house light ventilador rooms smart plug metal desktop vintage cooler patio mounted sleep office tall large lights rotating circulator silent conditioning kitchen\\npillow cover throw pillows outdoor covers decorative for bed couch bedroom living room inserts para yellow accent teal sofa cute white navy blue farmhouse small gold decor protectors standard size grey couches sofas black gray cushions decrotative bohemian leather blush light large cream fluffy pink woven nook zippered clearance silver beige oversized cases square round summer fur aesthetic linen cushion orange porch case peach tan rustic toss with included long macrame big rust\\ncomputer desk table shaped small office desks standing laptop writing drawer folding adjustable home for tables white spaces black foldable bedrooms study cheap shelves student space modern height wood work sit storage portable glass ladder hutch bedroom shape chair studio long craft mini secretary farmhouse wooden game standup rustic large gamer tall industrial rolling room keyboard tray person two inch teen electric metal bookshelf cute people gray crafting wall teens students furniture\", \"product_id\": \"B08K4HWP87\", \"product_locale\": \"us\", \"product_color\": \"B\", \"product_brand\": \"Fasclot\", \"product_description\": \"Color Lights Christmas Pillow LED Lights Pillow Creative Printing Linen<br> Specifications:<br>Style: Christmas<br>Perfect for place on the sofa, coffee shop, library, book store, party, club.<br>Material:Cotton Linen<br>Shape:Square<br> Removable and Washable<br> Size:45cm\\u00d745cm<br> Type:Pillow case<br>Please Use battery 3\\u00d7AA (not include the bettery)<br>Please note: 1.Actural color will be slight difference between the picture because of the brightness<br>2.In order to keep the color fresh, it is better to add salt to the water for your first washing. Package:<br> Package include:1PC Pillow case((not include the inner and bettery)<br>\", \"product_title\": \"Pillow Case Glowing led Thanksgiving Pumpkin Sunflower Throw Pillow Sofa Cushion Pillowcase\"}}, {\"_index\": \"ecommerce\", \"_id\": \"B08K4HYT9T\", \"_score\": 0.105837256, \"_source\": {\"product_bullet_point\": \"fan fans tower box window portable operated desk personal outdoor oscillating mini small floor clip on for patios cooling solar camping industrial wall mount standing ceiling remote rechargeable pedestal table room stand up tent shop waterproof garage quiet bed air powered bedroom electric inch twin reversible high velocity whole house light ventilador rooms smart plug metal desktop vintage cooler patio mounted sleep office tall large lights rotating circulator silent conditioning kitchen\\nshaver manscaped lawn mower 3.0 electric razor for men shavers trimmer skull razors series shaving kit mens blade replacement bald peanut microtouch grooming beard hair clippers foil face detailer body haircut machine manscaping groomer shaper balding shave machines professional pubic parts mustache trimmers balls heads heated clipper ball lawnmower headblade panasonic buzzer cutter womens best rated cordless rechargeable micro touch personal neck bread pro vacuum wet dry pube\\nrugs outdoor rug area carpet for living room bedroom 8x10 clearance 5x7 fluffy boho shag under white salas black pink small kids grey gray throw nursery carpets blue 3x5 large bohemian farmhouse indoor woven 5x8 geometric 10x12 girls teal colorful office dining ruggables soft modern kitchen ruggable tapetes bedrooms jute floor 7x10 money 9x12 and vintage boys cream dorm cheap yellow blush bed cute beige brown teen patio big livingroom cool green 7x9 polypropylene 6x8 multicolor\\ncomputer desk table shaped small office desks standing laptop writing drawer folding adjustable home for tables white spaces black foldable bedrooms study cheap shelves student space modern height wood work sit storage portable glass ladder hutch bedroom shape chair studio long craft mini secretary farmhouse wooden game standup rustic large gamer tall industrial rolling room keyboard tray person two inch teen electric metal bookshelf cute people gray crafting wall teens students furniture\\ntable computer desk gaming white small folding office end side console desks bedside tables for living room sofa writing with drawers drawer foot bar home shaped spaces bedroom foldable laptop black accent dining card bedrooms ikea study cheap student corner space modern wood kitchen work and chairs plastic couch dinner chair studio outdoor counter height long craft mini farmhouse wooden game adults mesa shelves rustic large hallway gamer tall industrial simple bed deak person nightstand\", \"product_id\": \"B08K4HYT9T\", \"product_locale\": \"us\", \"product_color\": \"Multicolor\", \"product_brand\": \"Fasclot\", \"product_description\": \"<br>Squishy Yogurt Bottle Scented Squishy Slow Rising Squeeze Toys Jumbo Collection<br>Descriptions<br>Slow rising: more than 20 seconds Material: Elastic Environmentally PU Size:11.5*6cm<br>Odor: mysterious scented<br> Style: toy/ Yogurt Bottle<br>Quantity: 1 PCS<br>Squishy: very slow rising Get the hands, there will be a taste. Please place for 3 days. The taste will be reduced a lot.<br> Package content\\uff1a<br> 1x Squishy Super Slow Rising Authentic Kid Toy With Bun Decompression Toys\", \"product_title\": \"Fasclot Squishy Yogurt Bottle Scented Squishy Slow Rising Squeeze Toys Jumbo Collection\"}}, {\"_index\": \"ecommerce\", \"_id\": \"B08BJ5Y671\", \"_score\": 0.105837256, \"_source\": {\"product_bullet_point\": \"table computer desk gaming white small folding office end side console desks bedside tables for living room sofa writing with drawers drawer foot bar home shaped spaces bedroom foldable laptop black accent dining card bedrooms ikea study cheap student corner space modern wood kitchen work and chairs plastic couch dinner chair studio outdoor counter height long craft mini farmhouse wooden game adults mesa shelves rustic large hallway gamer tall industrial simple bed deak person nightstand\\nshaver manscaped lawn mower 3.0 electric razor for men shavers trimmer skull razors series shaving kit mens blade replacement bald peanut microtouch grooming beard hair clippers foil face detailer body haircut machine manscaping groomer shaper balding shave machines professional pubic parts mustache trimmers balls heads heated clipper ball lawnmower headblade panasonic buzzer cutter womens best rated cordless rechargeable micro touch personal neck bread pro vacuum wet dry pube\\nfan fans tower box window portable operated desk personal outdoor oscillating mini small floor clip on for patios cooling solar camping industrial wall mount standing ceiling remote rechargeable pedestal table room stand up tent shop waterproof garage quiet bed air powered bedroom electric inch twin reversible high velocity whole house light ventilador rooms smart plug metal desktop vintage cooler patio mounted sleep office tall large lights rotating circulator silent conditioning kitchen\\npillow cover throw pillows outdoor covers decorative for bed couch bedroom living room inserts para yellow accent teal sofa cute white navy blue farmhouse small gold decor protectors standard size grey couches sofas black gray cushions decrotative bohemian leather blush light large cream fluffy pink woven nook zippered clearance silver beige oversized cases square round summer fur aesthetic linen cushion orange porch case peach tan rustic toss with included long macrame big rust\\ncomputer desk table shaped small office desks standing laptop writing drawer folding adjustable home for tables white spaces black foldable bedrooms study cheap shelves student space modern height wood work sit storage portable glass ladder hutch bedroom shape chair studio long craft mini secretary farmhouse wooden game standup rustic large gamer tall industrial rolling room keyboard tray person two inch teen electric metal bookshelf cute people gray crafting wall teens students furniture\", \"product_id\": \"B08BJ5Y671\", \"product_locale\": \"us\", \"product_color\": \"Gray\", \"product_brand\": \"Fasclot\", \"product_description\": \"Household Winter Plush Soft Toilet Seat Pad Cover Toilet Seat Zipper With Handle<br>Feature:<br>100% Brand new and high quality.<br>This closestool cover can keep warm in cold day, health care and sanitary.<br>This toilet seat cover can be hand or machine washed.<br>Bring your own handle, easy to lift, not dirty hand<br>Lamb velvet material, soft and skin-friendly, breathable and comfortable<br>Clean and waterproof, easy to clean<br>All-inclusive design, surrounded by zippers, leaving no dead ends<br>Precision embroidery pattern, exquisite workmanship<br>Easy to clean, reusable<br>Size: 43 x 37cm\\uff0816.92 x 14.56inch )<br>Material: corduroy, lamb cashmere,<br>Color: yellow, gray, pink,<br>Package Included:<br>1 x Toilet Seat Closestool Cover<br>Note:<br>For different monitors, the color may vary slightly.<br>Please allow some errors of manual measurement, thank you for your understanding!<br>\", \"product_title\": \"Fasclot Household Winter Plush Soft Toilet Seat Pad Cover Toilet Seat Zipper with Handle Home & Garden Bathroom Products\"}}, {\"_index\": \"ecommerce\", \"_id\": \"B08H8HP9ZB\", \"_score\": 0.105837256, \"_source\": {\"product_bullet_point\": \"computer desk table shaped small office desks standing laptop writing drawer folding adjustable home for tables white spaces black foldable bedrooms study cheap shelves student space modern height wood work sit storage portable glass ladder hutch bedroom shape chair studio long craft mini secretary farmhouse wooden game standup rustic large gamer tall industrial rolling room keyboard tray person two inch teen electric metal bookshelf cute people gray crafting wall teens students furniture\\nfan fans tower box window portable operated desk personal outdoor oscillating mini small floor clip on for patios cooling solar camping industrial wall mount standing ceiling remote rechargeable pedestal table room stand up tent shop waterproof garage quiet bed air powered bedroom electric inch twin reversible high velocity whole house light ventilador rooms smart plug metal desktop vintage cooler patio mounted sleep office tall large lights rotating circulator silent conditioning kitchen\\npillow cover throw pillows outdoor covers decorative for bed couch bedroom living room inserts para yellow accent teal sofa cute white navy blue farmhouse small gold decor protectors standard size grey couches sofas black gray cushions decrotative bohemian leather blush light large cream fluffy pink woven nook zippered clearance silver beige oversized cases square round summer fur aesthetic linen cushion orange porch case peach tan rustic toss with included long macrame big rust\\ntable computer desk gaming white small folding office end side console desks bedside tables for living room sofa writing with drawers drawer foot bar home shaped spaces bedroom foldable laptop black accent dining card bedrooms ikea study cheap student corner space modern wood kitchen work and chairs plastic couch dinner chair studio outdoor counter height long craft mini farmhouse wooden game adults mesa shelves rustic large hallway gamer tall industrial simple bed deak person nightstand\\nrugs outdoor rug area carpet for living room bedroom 8x10 clearance 5x7 fluffy boho shag under white salas black pink small kids grey gray throw nursery carpets blue 3x5 large bohemian farmhouse indoor woven 5x8 geometric 10x12 girls teal colorful office dining ruggables soft modern kitchen ruggable tapetes bedrooms jute floor 7x10 money 9x12 and vintage boys cream dorm cheap yellow blush bed cute beige brown teen patio big livingroom cool green 7x9 polypropylene 6x8 multicolor\", \"product_id\": \"B08H8HP9ZB\", \"product_locale\": \"us\", \"product_color\": \"Purple\", \"product_brand\": \"Fasclot\", \"product_description\": \"\\u3010Natural Konjac Facial Cleanser\\u3011Heart-Shaped Exfoliating And Moisturizing Skin<br>Features\\uff1a<br>Konjac cleansing cotton dry product<br>(Natural material, bringing the care of pure nature)<br>It is used to clean the face flap, can be used with lotion or alone.<br>Made from natural konjac, no irritating chemical ingredients, mild and non-irritating, suitable for the whole family<br>It can be used alone or with facial cleanser.<br>There are 6 colors: white, black, purple, green, yellow, pink<br>Size: as shown<br>Contain:<br>1x konjac cleansing cotton<br>\", \"product_title\": \"Fasclot \\u3010Natural Konjac Facial Cleanser\\u3011 Heart-Shaped Exfoliating and Moisturizing Skin Home & Garden Cleaning Supplies\"}}]}}))</script>"
      ],
      "text/plain": [
       "<IPython.core.display.HTML object>"
      ]
     },
     "metadata": {},
     "output_type": "display_data"
    }
   ],
   "source": [
    "mr.JSON(response, level=4)"
   ]
  },
  {
   "cell_type": "markdown",
   "id": "6ecd4cbd-1851-4ffd-94db-2f9da2541da9",
   "metadata": {},
   "source": [
    "looks very similar to baseline keyword search results "
   ]
  },
  {
   "cell_type": "code",
   "execution_count": 115,
   "id": "40f4b741-5976-4ff2-a5ec-8b4c3a3175bb",
   "metadata": {},
   "outputs": [],
   "source": [
    "# store product_ids from the baseline in a list\n",
    "response['hits']['hits'][0]['_id']\n",
    "set_b = []\n",
    "\n",
    "for hit in response['hits']['hits']:\n",
    "    # create a new row for the DataFrame and append it\n",
    "    product_id = hit['_id']\n",
    "    set_b.append(product_id)"
   ]
  },
  {
   "cell_type": "code",
   "execution_count": 116,
   "id": "4fced214-eeba-46dd-b564-5aedfb967eb6",
   "metadata": {},
   "outputs": [
    {
     "data": {
      "text/plain": [
       "1.0"
      ]
     },
     "execution_count": 116,
     "metadata": {},
     "output_type": "execute_result"
    }
   ],
   "source": [
    "set_a = df_results[(df_results['run'] == 'l2arithmetic_mean0.7') & (df_results['query_string'] == query)]['product_id']\n",
    "jaccard_index(set_a,set_b)"
   ]
  },
  {
   "cell_type": "code",
   "execution_count": null,
   "id": "197a652e-5c6f-4ec0-90d1-82a5577aca1e",
   "metadata": {},
   "outputs": [],
   "source": []
  }
 ],
 "metadata": {
  "kernelspec": {
   "display_name": "Python 3 (ipykernel)",
   "language": "python",
   "name": "python3"
  },
  "language_info": {
   "codemirror_mode": {
    "name": "ipython",
    "version": 3
   },
   "file_extension": ".py",
   "mimetype": "text/x-python",
   "name": "python",
   "nbconvert_exporter": "python",
   "pygments_lexer": "ipython3",
   "version": "3.9.7"
  }
 },
 "nbformat": 4,
 "nbformat_minor": 5
}
