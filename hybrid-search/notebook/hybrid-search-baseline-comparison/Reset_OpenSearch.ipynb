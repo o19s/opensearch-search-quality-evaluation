{
 "cells": [
  {
   "cell_type": "markdown",
   "id": "ce4d0503-012b-4135-a989-dc6df9f52831",
   "metadata": {},
   "source": [
    "# Reset your system\n",
    "\n",
    "## BE CAREFUL: THIS NOTEBOOK DELETES STUFF\n",
    "\n",
    "### Use only when absolutely sure"
   ]
  },
  {
   "cell_type": "code",
   "execution_count": 10,
   "id": "52101b22-5f2b-4c50-a9ee-2972ad02b450",
   "metadata": {},
   "outputs": [],
   "source": [
    "import requests\n",
    "import json\n",
    "import mercury as mr"
   ]
  },
  {
   "cell_type": "code",
   "execution_count": 11,
   "id": "58b629da-e726-4c4e-80ea-514bd9c02c8c",
   "metadata": {},
   "outputs": [
    {
     "data": {
      "application/mercury+json": "{\n    \"widget\": \"App\",\n    \"title\": \"Resetting OpennSearch\",\n    \"description\": \"Description\",\n    \"show_code\": false,\n    \"show_prompt\": false,\n    \"output\": \"app\",\n    \"schedule\": \"\",\n    \"notify\": \"{}\",\n    \"continuous_update\": true,\n    \"static_notebook\": true,\n    \"show_sidebar\": true,\n    \"full_screen\": true,\n    \"allow_download\": true,\n    \"allow_share\": true,\n    \"stop_on_error\": false,\n    \"model_id\": \"mercury-app\",\n    \"code_uid\": \"App.0.50.110.1-rand92f931b2\"\n}",
      "text/html": [
       "<h3>Mercury Application</h3><small>This output won't appear in the web app.</small>"
      ],
      "text/plain": [
       "mercury.App"
      ]
     },
     "metadata": {},
     "output_type": "display_data"
    }
   ],
   "source": [
    "app = mr.App(title=\"Resetting OpennSearch\", static_notebook=True)"
   ]
  },
  {
   "cell_type": "code",
   "execution_count": 28,
   "id": "c1b4f7ce-23ec-4d0e-aecc-26694c413641",
   "metadata": {},
   "outputs": [],
   "source": [
    "headers = {\n",
    "    'Content-Type': 'application/json'\n",
    "}"
   ]
  },
  {
   "cell_type": "markdown",
   "id": "082e0c1c-e80a-4dda-9438-368fa6aed89a",
   "metadata": {},
   "source": [
    "#### Remove index"
   ]
  },
  {
   "cell_type": "code",
   "execution_count": 29,
   "id": "62907cae-7c78-49ca-8209-f6dfc154a370",
   "metadata": {},
   "outputs": [
    {
     "data": {
      "text/html": [
       "<style>.renderjson a              { text-decoration: none; }\n",
       ".renderjson .disclosure    { color: grey; font-size: 125%; }\n",
       ".renderjson .syntax        { color: grey; }\n",
       ".renderjson .string        { color: #fe46a5; }\n",
       ".renderjson .number        { color: #0f9b8e; }\n",
       ".renderjson .boolean       { color: black; }\n",
       ".renderjson .key           { color: #2684ff; }\n",
       ".renderjson .keyword       { color: gray; }\n",
       ".renderjson .object.syntax { color: gray; }\n",
       ".renderjson .array.syntax  { color: gray; }</style><div id=\"c746b181-741f-4f61-a4fc-34b157c2a745\"></div>"
      ],
      "text/plain": [
       "<IPython.core.display.HTML object>"
      ]
     },
     "metadata": {},
     "output_type": "display_data"
    },
    {
     "data": {
      "text/html": [
       "<script>var renderjson=function(){var t=function(){for(var t=[];arguments.length;)t.push(n(s(Array.prototype.shift.call(arguments)),o(Array.prototype.shift.call(arguments))));return t},n=function(){for(var t=Array.prototype.shift.call(arguments),e=0;e<arguments.length;e++)arguments[e].constructor==Array?n.apply(this,[t].concat(arguments[e])):t.appendChild(arguments[e]);return t},e=function(t,n){return t.insertBefore(n,t.firstChild),t},r=function(t,n){var e=n||Object.keys(t);for(var r in e)if(Object.hasOwnProperty.call(t,e[r]))return!1;return!0},o=function(t){return document.createTextNode(t)},s=function(t){var n=document.createElement(\"span\");return t&&(n.className=t),n},l=function(t,n,e){var r=document.createElement(\"a\");return n&&(r.className=n),r.appendChild(o(t)),r.href=\"#\",r.onclick=function(t){return e(),t&&t.stopPropagation(),!1},r};function a(i,c,u,p,y){var _=u?\"\":c,f=function(r,a,i,c,u){var f,g=s(c),h=function(){f||n(g.parentNode,f=e(u(),l(y.hide,\"disclosure\",(function(){f.style.display=\"none\",g.style.display=\"inline\"})))),f.style.display=\"inline\",g.style.display=\"none\"};n(g,l(y.show,\"disclosure\",h),t(c+\" syntax\",r),l(a,null,h),t(c+\" syntax\",i));var d=n(s(),o(_.slice(0,-1)),g);return p>0&&\"string\"!=c&&h(),d};return null===i?t(null,_,\"keyword\",\"null\"):void 0===i?t(null,_,\"keyword\",\"undefined\"):\"string\"==typeof i&&i.length>y.max_string_length?f('\"',i.substr(0,y.max_string_length)+\" ...\",'\"',\"string\",(function(){return n(s(\"string\"),t(null,_,\"string\",JSON.stringify(i)))})):\"object\"!=typeof i||[Number,String,Boolean,Date].indexOf(i.constructor)>=0?t(null,_,typeof i,JSON.stringify(i)):i.constructor==Array?0==i.length?t(null,_,\"array syntax\",\"[]\"):f(\"[\",y.collapse_msg(i.length),\"]\",\"array\",(function(){for(var e=n(s(\"array\"),t(\"array syntax\",\"[\",null,\"\\n\")),r=0;r<i.length;r++)n(e,a(y.replacer.call(i,r,i[r]),c+\"    \",!1,p-1,y),r!=i.length-1?t(\"syntax\",\",\"):[],o(\"\\n\"));return n(e,t(null,c,\"array syntax\",\"]\")),e})):r(i,y.property_list)?t(null,_,\"object syntax\",\"{}\"):f(\"{\",y.collapse_msg(Object.keys(i).length),\"}\",\"object\",(function(){var e=n(s(\"object\"),t(\"object syntax\",\"{\",null,\"\\n\"));for(var r in i)var l=r;var u=y.property_list||Object.keys(i);for(var _ in y.sort_objects&&(u=u.sort()),u){(r=u[_])in i&&n(e,t(null,c+\"    \",\"key\",'\"'+r+'\"',\"object syntax\",\": \"),a(y.replacer.call(i,r,i[r]),c+\"    \",!0,p-1,y),r!=l?t(\"syntax\",\",\"):[],o(\"\\n\"))}return n(e,t(null,c,\"object syntax\",\"}\")),e}))}var i=function t(e){var r=new Object(t.options);r.replacer=\"function\"==typeof r.replacer?r.replacer:function(t,n){return n};var o=n(document.createElement(\"pre\"),a(e,\"\",!1,r.show_to_level,r));return o.className=\"renderjson\",o};return i.set_icons=function(t,n){return i.options.show=t,i.options.hide=n,i},i.set_show_to_level=function(t){return i.options.show_to_level=\"string\"==typeof t&&\"all\"===t.toLowerCase()?Number.MAX_VALUE:t,i},i.set_max_string_length=function(t){return i.options.max_string_length=\"string\"==typeof t&&\"none\"===t.toLowerCase()?Number.MAX_VALUE:t,i},i.set_sort_objects=function(t){return i.options.sort_objects=t,i},i.set_replacer=function(t){return i.options.replacer=t,i},i.set_collapse_msg=function(t){return i.options.collapse_msg=t,i},i.set_property_list=function(t){return i.options.property_list=t,i},i.set_show_by_default=function(t){return i.options.show_to_level=t?Number.MAX_VALUE:0,i},i.options={},i.set_icons(\"⊕\",\"⊖\"),i.set_show_by_default(!1),i.set_sort_objects(!1),i.set_max_string_length(\"none\"),i.set_replacer(void 0),i.set_property_list(void 0),i.set_collapse_msg((function(t){return t+\" item\"+(1==t?\"\":\"s\")})),i}(); renderjson.set_show_to_level(4); document.getElementById(\"c746b181-741f-4f61-a4fc-34b157c2a745\").appendChild(renderjson({\"acknowledged\": true}))</script>"
      ],
      "text/plain": [
       "<IPython.core.display.HTML object>"
      ]
     },
     "metadata": {},
     "output_type": "display_data"
    }
   ],
   "source": [
    "url = \"http://localhost:9200/ecommerce\"\n",
    "\n",
    "response = requests.request(\"DELETE\", url, headers=headers)\n",
    "\n",
    "mr.JSON(response.json(), level=4)"
   ]
  },
  {
   "cell_type": "markdown",
   "id": "9ed8e147-733c-4f01-be3b-78dae55f5ba2",
   "metadata": {},
   "source": [
    "#### Remove Model"
   ]
  },
  {
   "cell_type": "code",
   "execution_count": 24,
   "id": "16cbaab4-2f37-48b7-8a9b-72e4c4bc1658",
   "metadata": {},
   "outputs": [
    {
     "ename": "IndexError",
     "evalue": "list index out of range",
     "output_type": "error",
     "traceback": [
      "\u001b[0;31m---------------------------------------------------------------------------\u001b[0m",
      "\u001b[0;31mIndexError\u001b[0m                                Traceback (most recent call last)",
      "Cell \u001b[0;32mIn[24], line 18\u001b[0m\n\u001b[1;32m      9\u001b[0m payload \u001b[38;5;241m=\u001b[39m {\n\u001b[1;32m     10\u001b[0m   \u001b[38;5;124m\"\u001b[39m\u001b[38;5;124mquery\u001b[39m\u001b[38;5;124m\"\u001b[39m: {\n\u001b[1;32m     11\u001b[0m     \u001b[38;5;124m\"\u001b[39m\u001b[38;5;124mmatch_all\u001b[39m\u001b[38;5;124m\"\u001b[39m: {}\n\u001b[1;32m     12\u001b[0m   },\n\u001b[1;32m     13\u001b[0m   \u001b[38;5;124m\"\u001b[39m\u001b[38;5;124msize\u001b[39m\u001b[38;5;124m\"\u001b[39m: \u001b[38;5;241m1\u001b[39m\n\u001b[1;32m     14\u001b[0m }\n\u001b[1;32m     16\u001b[0m response \u001b[38;5;241m=\u001b[39m requests\u001b[38;5;241m.\u001b[39mrequest(\u001b[38;5;124m\"\u001b[39m\u001b[38;5;124mPOST\u001b[39m\u001b[38;5;124m\"\u001b[39m, url, headers\u001b[38;5;241m=\u001b[39mheaders, data\u001b[38;5;241m=\u001b[39mjson\u001b[38;5;241m.\u001b[39mdumps(payload))\n\u001b[0;32m---> 18\u001b[0m model_id \u001b[38;5;241m=\u001b[39m \u001b[43mresponse\u001b[49m\u001b[38;5;241;43m.\u001b[39;49m\u001b[43mjson\u001b[49m\u001b[43m(\u001b[49m\u001b[43m)\u001b[49m\u001b[43m[\u001b[49m\u001b[38;5;124;43m'\u001b[39;49m\u001b[38;5;124;43mhits\u001b[39;49m\u001b[38;5;124;43m'\u001b[39;49m\u001b[43m]\u001b[49m\u001b[43m[\u001b[49m\u001b[38;5;124;43m'\u001b[39;49m\u001b[38;5;124;43mhits\u001b[39;49m\u001b[38;5;124;43m'\u001b[39;49m\u001b[43m]\u001b[49m\u001b[43m[\u001b[49m\u001b[38;5;241;43m0\u001b[39;49m\u001b[43m]\u001b[49m[\u001b[38;5;124m'\u001b[39m\u001b[38;5;124m_source\u001b[39m\u001b[38;5;124m'\u001b[39m][\u001b[38;5;124m'\u001b[39m\u001b[38;5;124mmodel_id\u001b[39m\u001b[38;5;124m'\u001b[39m]\n",
      "\u001b[0;31mIndexError\u001b[0m: list index out of range"
     ]
    }
   ],
   "source": [
    "# GET  model_id\n",
    "\n",
    "url = \"http://localhost:9200/_plugins/_ml/models/_search\"\n",
    "\n",
    "payload = {\n",
    "  \"query\": {\n",
    "    \"match_all\": {}\n",
    "  },\n",
    "  \"size\": 1\n",
    "}\n",
    "\n",
    "response = requests.request(\"POST\", url, headers=headers, data=json.dumps(payload))\n",
    "\n",
    "model_id = response.json()['hits']['hits'][0]['_source']['model_id']"
   ]
  },
  {
   "cell_type": "code",
   "execution_count": 25,
   "id": "5848e539-d64e-4fa0-a595-ad104baba4e1",
   "metadata": {},
   "outputs": [
    {
     "data": {
      "text/html": [
       "<style>.renderjson a              { text-decoration: none; }\n",
       ".renderjson .disclosure    { color: grey; font-size: 125%; }\n",
       ".renderjson .syntax        { color: grey; }\n",
       ".renderjson .string        { color: #fe46a5; }\n",
       ".renderjson .number        { color: #0f9b8e; }\n",
       ".renderjson .boolean       { color: black; }\n",
       ".renderjson .key           { color: #2684ff; }\n",
       ".renderjson .keyword       { color: gray; }\n",
       ".renderjson .object.syntax { color: gray; }\n",
       ".renderjson .array.syntax  { color: gray; }</style><div id=\"7dded84c-f9c7-4fcf-b46b-f833c2a77423\"></div>"
      ],
      "text/plain": [
       "<IPython.core.display.HTML object>"
      ]
     },
     "metadata": {},
     "output_type": "display_data"
    },
    {
     "data": {
      "text/html": [
       "<script>var renderjson=function(){var t=function(){for(var t=[];arguments.length;)t.push(n(s(Array.prototype.shift.call(arguments)),o(Array.prototype.shift.call(arguments))));return t},n=function(){for(var t=Array.prototype.shift.call(arguments),e=0;e<arguments.length;e++)arguments[e].constructor==Array?n.apply(this,[t].concat(arguments[e])):t.appendChild(arguments[e]);return t},e=function(t,n){return t.insertBefore(n,t.firstChild),t},r=function(t,n){var e=n||Object.keys(t);for(var r in e)if(Object.hasOwnProperty.call(t,e[r]))return!1;return!0},o=function(t){return document.createTextNode(t)},s=function(t){var n=document.createElement(\"span\");return t&&(n.className=t),n},l=function(t,n,e){var r=document.createElement(\"a\");return n&&(r.className=n),r.appendChild(o(t)),r.href=\"#\",r.onclick=function(t){return e(),t&&t.stopPropagation(),!1},r};function a(i,c,u,p,y){var _=u?\"\":c,f=function(r,a,i,c,u){var f,g=s(c),h=function(){f||n(g.parentNode,f=e(u(),l(y.hide,\"disclosure\",(function(){f.style.display=\"none\",g.style.display=\"inline\"})))),f.style.display=\"inline\",g.style.display=\"none\"};n(g,l(y.show,\"disclosure\",h),t(c+\" syntax\",r),l(a,null,h),t(c+\" syntax\",i));var d=n(s(),o(_.slice(0,-1)),g);return p>0&&\"string\"!=c&&h(),d};return null===i?t(null,_,\"keyword\",\"null\"):void 0===i?t(null,_,\"keyword\",\"undefined\"):\"string\"==typeof i&&i.length>y.max_string_length?f('\"',i.substr(0,y.max_string_length)+\" ...\",'\"',\"string\",(function(){return n(s(\"string\"),t(null,_,\"string\",JSON.stringify(i)))})):\"object\"!=typeof i||[Number,String,Boolean,Date].indexOf(i.constructor)>=0?t(null,_,typeof i,JSON.stringify(i)):i.constructor==Array?0==i.length?t(null,_,\"array syntax\",\"[]\"):f(\"[\",y.collapse_msg(i.length),\"]\",\"array\",(function(){for(var e=n(s(\"array\"),t(\"array syntax\",\"[\",null,\"\\n\")),r=0;r<i.length;r++)n(e,a(y.replacer.call(i,r,i[r]),c+\"    \",!1,p-1,y),r!=i.length-1?t(\"syntax\",\",\"):[],o(\"\\n\"));return n(e,t(null,c,\"array syntax\",\"]\")),e})):r(i,y.property_list)?t(null,_,\"object syntax\",\"{}\"):f(\"{\",y.collapse_msg(Object.keys(i).length),\"}\",\"object\",(function(){var e=n(s(\"object\"),t(\"object syntax\",\"{\",null,\"\\n\"));for(var r in i)var l=r;var u=y.property_list||Object.keys(i);for(var _ in y.sort_objects&&(u=u.sort()),u){(r=u[_])in i&&n(e,t(null,c+\"    \",\"key\",'\"'+r+'\"',\"object syntax\",\": \"),a(y.replacer.call(i,r,i[r]),c+\"    \",!0,p-1,y),r!=l?t(\"syntax\",\",\"):[],o(\"\\n\"))}return n(e,t(null,c,\"object syntax\",\"}\")),e}))}var i=function t(e){var r=new Object(t.options);r.replacer=\"function\"==typeof r.replacer?r.replacer:function(t,n){return n};var o=n(document.createElement(\"pre\"),a(e,\"\",!1,r.show_to_level,r));return o.className=\"renderjson\",o};return i.set_icons=function(t,n){return i.options.show=t,i.options.hide=n,i},i.set_show_to_level=function(t){return i.options.show_to_level=\"string\"==typeof t&&\"all\"===t.toLowerCase()?Number.MAX_VALUE:t,i},i.set_max_string_length=function(t){return i.options.max_string_length=\"string\"==typeof t&&\"none\"===t.toLowerCase()?Number.MAX_VALUE:t,i},i.set_sort_objects=function(t){return i.options.sort_objects=t,i},i.set_replacer=function(t){return i.options.replacer=t,i},i.set_collapse_msg=function(t){return i.options.collapse_msg=t,i},i.set_property_list=function(t){return i.options.property_list=t,i},i.set_show_by_default=function(t){return i.options.show_to_level=t?Number.MAX_VALUE:0,i},i.options={},i.set_icons(\"⊕\",\"⊖\"),i.set_show_by_default(!1),i.set_sort_objects(!1),i.set_max_string_length(\"none\"),i.set_replacer(void 0),i.set_property_list(void 0),i.set_collapse_msg((function(t){return t+\" item\"+(1==t?\"\":\"s\")})),i}(); renderjson.set_show_to_level(4); document.getElementById(\"7dded84c-f9c7-4fcf-b46b-f833c2a77423\").appendChild(renderjson({\"error\": {\"root_cause\": [{\"type\": \"status_exception\", \"reason\": \"Failed to find model\"}], \"type\": \"status_exception\", \"reason\": \"Failed to find model\"}, \"status\": 404}))</script>"
      ],
      "text/plain": [
       "<IPython.core.display.HTML object>"
      ]
     },
     "metadata": {},
     "output_type": "display_data"
    }
   ],
   "source": [
    "#UNDEPLOY model\n",
    "\n",
    "url = \"http://localhost:9200/_plugins/_ml/models/\" + model_id + \"/_undeploy\"\n",
    "\n",
    "response = requests.request(\"POST\", url, headers=headers)\n",
    "\n",
    "# DELETE model\n",
    "url = \"http://localhost:9200/_plugins/_ml/models/\" + model_id\n",
    "response = requests.request(\"DELETE\", url, headers=headers)\n",
    "\n",
    "mr.JSON(response.json(), level=4)"
   ]
  },
  {
   "cell_type": "markdown",
   "id": "18232f43-8d1d-47da-88f3-6ae3d629c7b4",
   "metadata": {},
   "source": [
    "#### Remove Model Group"
   ]
  },
  {
   "cell_type": "code",
   "execution_count": 26,
   "id": "57e9a206-66e0-4a00-89eb-9f1c5903bbe9",
   "metadata": {},
   "outputs": [
    {
     "data": {
      "text/html": [
       "<style>.renderjson a              { text-decoration: none; }\n",
       ".renderjson .disclosure    { color: grey; font-size: 125%; }\n",
       ".renderjson .syntax        { color: grey; }\n",
       ".renderjson .string        { color: #fe46a5; }\n",
       ".renderjson .number        { color: #0f9b8e; }\n",
       ".renderjson .boolean       { color: black; }\n",
       ".renderjson .key           { color: #2684ff; }\n",
       ".renderjson .keyword       { color: gray; }\n",
       ".renderjson .object.syntax { color: gray; }\n",
       ".renderjson .array.syntax  { color: gray; }</style><div id=\"7d440958-2010-43d9-aa36-5f0fe7680940\"></div>"
      ],
      "text/plain": [
       "<IPython.core.display.HTML object>"
      ]
     },
     "metadata": {},
     "output_type": "display_data"
    },
    {
     "data": {
      "text/html": [
       "<script>var renderjson=function(){var t=function(){for(var t=[];arguments.length;)t.push(n(s(Array.prototype.shift.call(arguments)),o(Array.prototype.shift.call(arguments))));return t},n=function(){for(var t=Array.prototype.shift.call(arguments),e=0;e<arguments.length;e++)arguments[e].constructor==Array?n.apply(this,[t].concat(arguments[e])):t.appendChild(arguments[e]);return t},e=function(t,n){return t.insertBefore(n,t.firstChild),t},r=function(t,n){var e=n||Object.keys(t);for(var r in e)if(Object.hasOwnProperty.call(t,e[r]))return!1;return!0},o=function(t){return document.createTextNode(t)},s=function(t){var n=document.createElement(\"span\");return t&&(n.className=t),n},l=function(t,n,e){var r=document.createElement(\"a\");return n&&(r.className=n),r.appendChild(o(t)),r.href=\"#\",r.onclick=function(t){return e(),t&&t.stopPropagation(),!1},r};function a(i,c,u,p,y){var _=u?\"\":c,f=function(r,a,i,c,u){var f,g=s(c),h=function(){f||n(g.parentNode,f=e(u(),l(y.hide,\"disclosure\",(function(){f.style.display=\"none\",g.style.display=\"inline\"})))),f.style.display=\"inline\",g.style.display=\"none\"};n(g,l(y.show,\"disclosure\",h),t(c+\" syntax\",r),l(a,null,h),t(c+\" syntax\",i));var d=n(s(),o(_.slice(0,-1)),g);return p>0&&\"string\"!=c&&h(),d};return null===i?t(null,_,\"keyword\",\"null\"):void 0===i?t(null,_,\"keyword\",\"undefined\"):\"string\"==typeof i&&i.length>y.max_string_length?f('\"',i.substr(0,y.max_string_length)+\" ...\",'\"',\"string\",(function(){return n(s(\"string\"),t(null,_,\"string\",JSON.stringify(i)))})):\"object\"!=typeof i||[Number,String,Boolean,Date].indexOf(i.constructor)>=0?t(null,_,typeof i,JSON.stringify(i)):i.constructor==Array?0==i.length?t(null,_,\"array syntax\",\"[]\"):f(\"[\",y.collapse_msg(i.length),\"]\",\"array\",(function(){for(var e=n(s(\"array\"),t(\"array syntax\",\"[\",null,\"\\n\")),r=0;r<i.length;r++)n(e,a(y.replacer.call(i,r,i[r]),c+\"    \",!1,p-1,y),r!=i.length-1?t(\"syntax\",\",\"):[],o(\"\\n\"));return n(e,t(null,c,\"array syntax\",\"]\")),e})):r(i,y.property_list)?t(null,_,\"object syntax\",\"{}\"):f(\"{\",y.collapse_msg(Object.keys(i).length),\"}\",\"object\",(function(){var e=n(s(\"object\"),t(\"object syntax\",\"{\",null,\"\\n\"));for(var r in i)var l=r;var u=y.property_list||Object.keys(i);for(var _ in y.sort_objects&&(u=u.sort()),u){(r=u[_])in i&&n(e,t(null,c+\"    \",\"key\",'\"'+r+'\"',\"object syntax\",\": \"),a(y.replacer.call(i,r,i[r]),c+\"    \",!0,p-1,y),r!=l?t(\"syntax\",\",\"):[],o(\"\\n\"))}return n(e,t(null,c,\"object syntax\",\"}\")),e}))}var i=function t(e){var r=new Object(t.options);r.replacer=\"function\"==typeof r.replacer?r.replacer:function(t,n){return n};var o=n(document.createElement(\"pre\"),a(e,\"\",!1,r.show_to_level,r));return o.className=\"renderjson\",o};return i.set_icons=function(t,n){return i.options.show=t,i.options.hide=n,i},i.set_show_to_level=function(t){return i.options.show_to_level=\"string\"==typeof t&&\"all\"===t.toLowerCase()?Number.MAX_VALUE:t,i},i.set_max_string_length=function(t){return i.options.max_string_length=\"string\"==typeof t&&\"none\"===t.toLowerCase()?Number.MAX_VALUE:t,i},i.set_sort_objects=function(t){return i.options.sort_objects=t,i},i.set_replacer=function(t){return i.options.replacer=t,i},i.set_collapse_msg=function(t){return i.options.collapse_msg=t,i},i.set_property_list=function(t){return i.options.property_list=t,i},i.set_show_by_default=function(t){return i.options.show_to_level=t?Number.MAX_VALUE:0,i},i.options={},i.set_icons(\"⊕\",\"⊖\"),i.set_show_by_default(!1),i.set_sort_objects(!1),i.set_max_string_length(\"none\"),i.set_replacer(void 0),i.set_property_list(void 0),i.set_collapse_msg((function(t){return t+\" item\"+(1==t?\"\":\"s\")})),i}(); renderjson.set_show_to_level(4); document.getElementById(\"7d440958-2010-43d9-aa36-5f0fe7680940\").appendChild(renderjson({\"took\": 1, \"timed_out\": false, \"_shards\": {\"total\": 1, \"successful\": 1, \"skipped\": 0, \"failed\": 0}, \"hits\": {\"total\": {\"value\": 0, \"relation\": \"eq\"}, \"max_score\": null, \"hits\": []}}))</script>"
      ],
      "text/plain": [
       "<IPython.core.display.HTML object>"
      ]
     },
     "metadata": {},
     "output_type": "display_data"
    },
    {
     "ename": "IndexError",
     "evalue": "list index out of range",
     "output_type": "error",
     "traceback": [
      "\u001b[0;31m---------------------------------------------------------------------------\u001b[0m",
      "\u001b[0;31mIndexError\u001b[0m                                Traceback (most recent call last)",
      "Cell \u001b[0;32mIn[26], line 12\u001b[0m\n\u001b[1;32m     10\u001b[0m response \u001b[38;5;241m=\u001b[39m requests\u001b[38;5;241m.\u001b[39mrequest(\u001b[38;5;124m\"\u001b[39m\u001b[38;5;124mPOST\u001b[39m\u001b[38;5;124m\"\u001b[39m, url, headers\u001b[38;5;241m=\u001b[39mheaders, data\u001b[38;5;241m=\u001b[39mjson\u001b[38;5;241m.\u001b[39mdumps(payload))\n\u001b[1;32m     11\u001b[0m mr\u001b[38;5;241m.\u001b[39mJSON(response\u001b[38;5;241m.\u001b[39mjson(), level\u001b[38;5;241m=\u001b[39m\u001b[38;5;241m4\u001b[39m)\n\u001b[0;32m---> 12\u001b[0m model_group_id \u001b[38;5;241m=\u001b[39m \u001b[43mresponse\u001b[49m\u001b[38;5;241;43m.\u001b[39;49m\u001b[43mjson\u001b[49m\u001b[43m(\u001b[49m\u001b[43m)\u001b[49m\u001b[43m[\u001b[49m\u001b[38;5;124;43m'\u001b[39;49m\u001b[38;5;124;43mhits\u001b[39;49m\u001b[38;5;124;43m'\u001b[39;49m\u001b[43m]\u001b[49m\u001b[43m[\u001b[49m\u001b[38;5;124;43m'\u001b[39;49m\u001b[38;5;124;43mhits\u001b[39;49m\u001b[38;5;124;43m'\u001b[39;49m\u001b[43m]\u001b[49m\u001b[43m[\u001b[49m\u001b[38;5;241;43m0\u001b[39;49m\u001b[43m]\u001b[49m[\u001b[38;5;124m'\u001b[39m\u001b[38;5;124m_id\u001b[39m\u001b[38;5;124m'\u001b[39m]\n",
      "\u001b[0;31mIndexError\u001b[0m: list index out of range"
     ]
    }
   ],
   "source": [
    "url = \"http://localhost:9200/_plugins/_ml/model_groups/_search\"\n",
    "\n",
    "payload = {\n",
    "  \"query\": {\n",
    "    \"match_all\": {}\n",
    "  },\n",
    "  \"size\": 1\n",
    "}\n",
    "\n",
    "response = requests.request(\"POST\", url, headers=headers, data=json.dumps(payload))\n",
    "mr.JSON(response.json(), level=4)\n",
    "model_group_id = response.json()['hits']['hits'][0]['_id']"
   ]
  },
  {
   "cell_type": "code",
   "execution_count": 27,
   "id": "c5df60e8-6c43-4eb0-815f-8c3b5dbdad86",
   "metadata": {},
   "outputs": [
    {
     "data": {
      "text/html": [
       "<style>.renderjson a              { text-decoration: none; }\n",
       ".renderjson .disclosure    { color: grey; font-size: 125%; }\n",
       ".renderjson .syntax        { color: grey; }\n",
       ".renderjson .string        { color: #fe46a5; }\n",
       ".renderjson .number        { color: #0f9b8e; }\n",
       ".renderjson .boolean       { color: black; }\n",
       ".renderjson .key           { color: #2684ff; }\n",
       ".renderjson .keyword       { color: gray; }\n",
       ".renderjson .object.syntax { color: gray; }\n",
       ".renderjson .array.syntax  { color: gray; }</style><div id=\"6a4732dd-cade-4796-b2a1-2f6d1826cb9a\"></div>"
      ],
      "text/plain": [
       "<IPython.core.display.HTML object>"
      ]
     },
     "metadata": {},
     "output_type": "display_data"
    },
    {
     "data": {
      "text/html": [
       "<script>var renderjson=function(){var t=function(){for(var t=[];arguments.length;)t.push(n(s(Array.prototype.shift.call(arguments)),o(Array.prototype.shift.call(arguments))));return t},n=function(){for(var t=Array.prototype.shift.call(arguments),e=0;e<arguments.length;e++)arguments[e].constructor==Array?n.apply(this,[t].concat(arguments[e])):t.appendChild(arguments[e]);return t},e=function(t,n){return t.insertBefore(n,t.firstChild),t},r=function(t,n){var e=n||Object.keys(t);for(var r in e)if(Object.hasOwnProperty.call(t,e[r]))return!1;return!0},o=function(t){return document.createTextNode(t)},s=function(t){var n=document.createElement(\"span\");return t&&(n.className=t),n},l=function(t,n,e){var r=document.createElement(\"a\");return n&&(r.className=n),r.appendChild(o(t)),r.href=\"#\",r.onclick=function(t){return e(),t&&t.stopPropagation(),!1},r};function a(i,c,u,p,y){var _=u?\"\":c,f=function(r,a,i,c,u){var f,g=s(c),h=function(){f||n(g.parentNode,f=e(u(),l(y.hide,\"disclosure\",(function(){f.style.display=\"none\",g.style.display=\"inline\"})))),f.style.display=\"inline\",g.style.display=\"none\"};n(g,l(y.show,\"disclosure\",h),t(c+\" syntax\",r),l(a,null,h),t(c+\" syntax\",i));var d=n(s(),o(_.slice(0,-1)),g);return p>0&&\"string\"!=c&&h(),d};return null===i?t(null,_,\"keyword\",\"null\"):void 0===i?t(null,_,\"keyword\",\"undefined\"):\"string\"==typeof i&&i.length>y.max_string_length?f('\"',i.substr(0,y.max_string_length)+\" ...\",'\"',\"string\",(function(){return n(s(\"string\"),t(null,_,\"string\",JSON.stringify(i)))})):\"object\"!=typeof i||[Number,String,Boolean,Date].indexOf(i.constructor)>=0?t(null,_,typeof i,JSON.stringify(i)):i.constructor==Array?0==i.length?t(null,_,\"array syntax\",\"[]\"):f(\"[\",y.collapse_msg(i.length),\"]\",\"array\",(function(){for(var e=n(s(\"array\"),t(\"array syntax\",\"[\",null,\"\\n\")),r=0;r<i.length;r++)n(e,a(y.replacer.call(i,r,i[r]),c+\"    \",!1,p-1,y),r!=i.length-1?t(\"syntax\",\",\"):[],o(\"\\n\"));return n(e,t(null,c,\"array syntax\",\"]\")),e})):r(i,y.property_list)?t(null,_,\"object syntax\",\"{}\"):f(\"{\",y.collapse_msg(Object.keys(i).length),\"}\",\"object\",(function(){var e=n(s(\"object\"),t(\"object syntax\",\"{\",null,\"\\n\"));for(var r in i)var l=r;var u=y.property_list||Object.keys(i);for(var _ in y.sort_objects&&(u=u.sort()),u){(r=u[_])in i&&n(e,t(null,c+\"    \",\"key\",'\"'+r+'\"',\"object syntax\",\": \"),a(y.replacer.call(i,r,i[r]),c+\"    \",!0,p-1,y),r!=l?t(\"syntax\",\",\"):[],o(\"\\n\"))}return n(e,t(null,c,\"object syntax\",\"}\")),e}))}var i=function t(e){var r=new Object(t.options);r.replacer=\"function\"==typeof r.replacer?r.replacer:function(t,n){return n};var o=n(document.createElement(\"pre\"),a(e,\"\",!1,r.show_to_level,r));return o.className=\"renderjson\",o};return i.set_icons=function(t,n){return i.options.show=t,i.options.hide=n,i},i.set_show_to_level=function(t){return i.options.show_to_level=\"string\"==typeof t&&\"all\"===t.toLowerCase()?Number.MAX_VALUE:t,i},i.set_max_string_length=function(t){return i.options.max_string_length=\"string\"==typeof t&&\"none\"===t.toLowerCase()?Number.MAX_VALUE:t,i},i.set_sort_objects=function(t){return i.options.sort_objects=t,i},i.set_replacer=function(t){return i.options.replacer=t,i},i.set_collapse_msg=function(t){return i.options.collapse_msg=t,i},i.set_property_list=function(t){return i.options.property_list=t,i},i.set_show_by_default=function(t){return i.options.show_to_level=t?Number.MAX_VALUE:0,i},i.options={},i.set_icons(\"⊕\",\"⊖\"),i.set_show_by_default(!1),i.set_sort_objects(!1),i.set_max_string_length(\"none\"),i.set_replacer(void 0),i.set_property_list(void 0),i.set_collapse_msg((function(t){return t+\" item\"+(1==t?\"\":\"s\")})),i}(); renderjson.set_show_to_level(4); document.getElementById(\"6a4732dd-cade-4796-b2a1-2f6d1826cb9a\").appendChild(renderjson({\"_index\": \".plugins-ml-model-group\", \"_id\": \"y5rgMpIBFSlgWAuG7TM5\", \"_version\": 7, \"result\": \"not_found\", \"forced_refresh\": true, \"_shards\": {\"total\": 1, \"successful\": 1, \"failed\": 0}, \"_seq_no\": 6, \"_primary_term\": 1}))</script>"
      ],
      "text/plain": [
       "<IPython.core.display.HTML object>"
      ]
     },
     "metadata": {},
     "output_type": "display_data"
    }
   ],
   "source": [
    "url = \"http://localhost:9200/_plugins/_ml/model_groups/\" + model_group_id\n",
    "\n",
    "response = requests.request(\"DELETE\", url, headers=headers)\n",
    "\n",
    "mr.JSON(response.json(), level=4)"
   ]
  },
  {
   "cell_type": "code",
   "execution_count": null,
   "id": "eadcc0d5-e8c5-46f8-aa0c-8dec32d22c38",
   "metadata": {},
   "outputs": [],
   "source": []
  },
  {
   "cell_type": "code",
   "execution_count": null,
   "id": "4a0f467e-7b9c-44e3-ae85-6949e0c17089",
   "metadata": {},
   "outputs": [],
   "source": []
  }
 ],
 "metadata": {
  "kernelspec": {
   "display_name": "Python 3 (ipykernel)",
   "language": "python",
   "name": "python3"
  },
  "language_info": {
   "codemirror_mode": {
    "name": "ipython",
    "version": 3
   },
   "file_extension": ".py",
   "mimetype": "text/x-python",
   "name": "python",
   "nbconvert_exporter": "python",
   "pygments_lexer": "ipython3",
   "version": "3.12.6"
  }
 },
 "nbformat": 4,
 "nbformat_minor": 5
}
