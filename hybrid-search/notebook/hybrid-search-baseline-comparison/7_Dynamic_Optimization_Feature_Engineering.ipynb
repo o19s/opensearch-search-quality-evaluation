{
 "cells": [
  {
   "cell_type": "markdown",
   "id": "29730fbc-4c4d-4141-9b35-521aa23e052d",
   "metadata": {},
   "source": [
    "# Feature Engineering for Per-Query Optimization\n",
    "\n",
    "Notes:\n",
    "\n",
    "* searcharray produced an error with numpy version 2.1.2\n",
    "* Make sure to use numpy==1.26.4\n",
    "\n",
    "Error reported to be fixed, not verified"
   ]
  },
  {
   "cell_type": "code",
   "execution_count": 1,
   "id": "c5e017f9-90a2-41f6-ab60-41f75ba4d533",
   "metadata": {},
   "outputs": [],
   "source": [
    "import pandas as pd\n",
    "import math\n",
    "import string\n",
    "import requests\n",
    "import json\n",
    "from searcharray import SearchArray\n",
    "import numpy as np\n",
    "import plotly.express as px\n",
    "import plotly.io as pio\n",
    "from plotly.subplots import make_subplots\n",
    "import plotly.graph_objects as go"
   ]
  },
  {
   "cell_type": "code",
   "execution_count": 2,
   "id": "5abdf678-58bf-4082-9bfe-53d69e9935d2",
   "metadata": {},
   "outputs": [],
   "source": [
    "df_metrics = pd.read_csv('metrics.csv')"
   ]
  },
  {
   "cell_type": "code",
   "execution_count": 3,
   "id": "c25417d1-cb51-4622-bfca-2db3a062e438",
   "metadata": {},
   "outputs": [
    {
     "data": {
      "text/html": [
       "<div>\n",
       "<style scoped>\n",
       "    .dataframe tbody tr th:only-of-type {\n",
       "        vertical-align: middle;\n",
       "    }\n",
       "\n",
       "    .dataframe tbody tr th {\n",
       "        vertical-align: top;\n",
       "    }\n",
       "\n",
       "    .dataframe thead th {\n",
       "        text-align: right;\n",
       "    }\n",
       "</style>\n",
       "<table border=\"1\" class=\"dataframe\">\n",
       "  <thead>\n",
       "    <tr style=\"text-align: right;\">\n",
       "      <th></th>\n",
       "      <th>query</th>\n",
       "      <th>pipeline</th>\n",
       "      <th>metric</th>\n",
       "      <th>value</th>\n",
       "    </tr>\n",
       "  </thead>\n",
       "  <tbody>\n",
       "    <tr>\n",
       "      <th>14520</th>\n",
       "      <td>$30 roblox gift card not digital</td>\n",
       "      <td>l2arithmetic_mean0.0</td>\n",
       "      <td>ndcg</td>\n",
       "      <td>0.075767</td>\n",
       "    </tr>\n",
       "    <tr>\n",
       "      <th>14521</th>\n",
       "      <td>$30 roblox gift card not digital</td>\n",
       "      <td>l2arithmetic_mean0.1</td>\n",
       "      <td>ndcg</td>\n",
       "      <td>0.075767</td>\n",
       "    </tr>\n",
       "    <tr>\n",
       "      <th>14522</th>\n",
       "      <td>$30 roblox gift card not digital</td>\n",
       "      <td>l2arithmetic_mean0.2</td>\n",
       "      <td>ndcg</td>\n",
       "      <td>0.075767</td>\n",
       "    </tr>\n",
       "  </tbody>\n",
       "</table>\n",
       "</div>"
      ],
      "text/plain": [
       "                                  query              pipeline metric     value\n",
       "14520  $30 roblox gift card not digital  l2arithmetic_mean0.0   ndcg  0.075767\n",
       "14521  $30 roblox gift card not digital  l2arithmetic_mean0.1   ndcg  0.075767\n",
       "14522  $30 roblox gift card not digital  l2arithmetic_mean0.2   ndcg  0.075767"
      ]
     },
     "execution_count": 3,
     "metadata": {},
     "output_type": "execute_result"
    }
   ],
   "source": [
    "df_metrics[df_metrics['metric'] == 'ndcg'].head(3)"
   ]
  },
  {
   "cell_type": "code",
   "execution_count": 4,
   "id": "9bb1d317-dd82-44da-b164-dccf98fbb6f6",
   "metadata": {},
   "outputs": [],
   "source": [
    "indexes = df_metrics[df_metrics['metric'] == 'ndcg'].groupby(by='query')['value'].idxmax()\n",
    "df_filtered = df_metrics.loc[indexes, ['query','pipeline', 'value']]\n",
    "df_filtered.reset_index(inplace=True, drop=True)"
   ]
  },
  {
   "cell_type": "code",
   "execution_count": 5,
   "id": "a7abc55e-9ef4-4ebc-8e69-3427550e134b",
   "metadata": {},
   "outputs": [
    {
     "data": {
      "text/html": [
       "<div>\n",
       "<style scoped>\n",
       "    .dataframe tbody tr th:only-of-type {\n",
       "        vertical-align: middle;\n",
       "    }\n",
       "\n",
       "    .dataframe tbody tr th {\n",
       "        vertical-align: top;\n",
       "    }\n",
       "\n",
       "    .dataframe thead th {\n",
       "        text-align: right;\n",
       "    }\n",
       "</style>\n",
       "<table border=\"1\" class=\"dataframe\">\n",
       "  <thead>\n",
       "    <tr style=\"text-align: right;\">\n",
       "      <th></th>\n",
       "      <th>query</th>\n",
       "      <th>pipeline</th>\n",
       "      <th>value</th>\n",
       "    </tr>\n",
       "  </thead>\n",
       "  <tbody>\n",
       "    <tr>\n",
       "      <th>0</th>\n",
       "      <td>$30 roblox gift card not digital</td>\n",
       "      <td>l2arithmetic_mean0.0</td>\n",
       "      <td>0.075767</td>\n",
       "    </tr>\n",
       "    <tr>\n",
       "      <th>1</th>\n",
       "      <td>(fiction without frontiers)</td>\n",
       "      <td>l2arithmetic_mean0.1</td>\n",
       "      <td>0.451875</td>\n",
       "    </tr>\n",
       "    <tr>\n",
       "      <th>2</th>\n",
       "      <td>100</td>\n",
       "      <td>l2arithmetic_mean0.2</td>\n",
       "      <td>0.332592</td>\n",
       "    </tr>\n",
       "  </tbody>\n",
       "</table>\n",
       "</div>"
      ],
      "text/plain": [
       "                              query              pipeline     value\n",
       "0  $30 roblox gift card not digital  l2arithmetic_mean0.0  0.075767\n",
       "1       (fiction without frontiers)  l2arithmetic_mean0.1  0.451875\n",
       "2                               100  l2arithmetic_mean0.2  0.332592"
      ]
     },
     "execution_count": 5,
     "metadata": {},
     "output_type": "execute_result"
    }
   ],
   "source": [
    "df_filtered.head(3)"
   ]
  },
  {
   "cell_type": "code",
   "execution_count": 6,
   "id": "7cf5ae06-240e-497f-b14e-1db87cbb37f4",
   "metadata": {},
   "outputs": [],
   "source": [
    "def get_neuralness(pipeline):\n",
    "    keywordness = pipeline[-3:]\n",
    "\n",
    "    try:\n",
    "        neuralness = 1 - float(keywordness)\n",
    "        return neuralness\n",
    "    except ValueError:\n",
    "        print(\"ERROR\")\n",
    "        return math.nan"
   ]
  },
  {
   "cell_type": "code",
   "execution_count": 7,
   "id": "4049ce58-057c-40e7-87d9-8798a5733960",
   "metadata": {},
   "outputs": [],
   "source": [
    "df_filtered['neuralness'] = df_filtered.pipeline.apply(get_neuralness)"
   ]
  },
  {
   "cell_type": "code",
   "execution_count": 8,
   "id": "7fd7a044-6951-4bd5-9b53-b2638d94dd8a",
   "metadata": {},
   "outputs": [],
   "source": [
    "df_filtered = df_filtered.drop(columns=['pipeline'])"
   ]
  },
  {
   "cell_type": "code",
   "execution_count": 9,
   "id": "b07b083b-f29b-4dad-9407-0632fa95aa82",
   "metadata": {},
   "outputs": [],
   "source": [
    "df_filtered.columns = ['query_string', 'ndcg', 'neuralness']"
   ]
  },
  {
   "cell_type": "code",
   "execution_count": 10,
   "id": "ce1eb291-01ee-4869-ade8-d15c057e61f1",
   "metadata": {},
   "outputs": [
    {
     "data": {
      "text/html": [
       "<div>\n",
       "<style scoped>\n",
       "    .dataframe tbody tr th:only-of-type {\n",
       "        vertical-align: middle;\n",
       "    }\n",
       "\n",
       "    .dataframe tbody tr th {\n",
       "        vertical-align: top;\n",
       "    }\n",
       "\n",
       "    .dataframe thead th {\n",
       "        text-align: right;\n",
       "    }\n",
       "</style>\n",
       "<table border=\"1\" class=\"dataframe\">\n",
       "  <thead>\n",
       "    <tr style=\"text-align: right;\">\n",
       "      <th></th>\n",
       "      <th>query_string</th>\n",
       "      <th>ndcg</th>\n",
       "      <th>neuralness</th>\n",
       "    </tr>\n",
       "  </thead>\n",
       "  <tbody>\n",
       "    <tr>\n",
       "      <th>0</th>\n",
       "      <td>$30 roblox gift card not digital</td>\n",
       "      <td>0.075767</td>\n",
       "      <td>1.0</td>\n",
       "    </tr>\n",
       "    <tr>\n",
       "      <th>1</th>\n",
       "      <td>(fiction without frontiers)</td>\n",
       "      <td>0.451875</td>\n",
       "      <td>0.9</td>\n",
       "    </tr>\n",
       "    <tr>\n",
       "      <th>2</th>\n",
       "      <td>100</td>\n",
       "      <td>0.332592</td>\n",
       "      <td>0.8</td>\n",
       "    </tr>\n",
       "  </tbody>\n",
       "</table>\n",
       "</div>"
      ],
      "text/plain": [
       "                       query_string      ndcg  neuralness\n",
       "0  $30 roblox gift card not digital  0.075767         1.0\n",
       "1       (fiction without frontiers)  0.451875         0.9\n",
       "2                               100  0.332592         0.8"
      ]
     },
     "execution_count": 10,
     "metadata": {},
     "output_type": "execute_result"
    }
   ],
   "source": [
    "df_filtered.head(3)"
   ]
  },
  {
   "cell_type": "markdown",
   "id": "0febd171-5ce8-4165-a1c6-2f1c36ba1ae4",
   "metadata": {},
   "source": [
    "## Query Feature Functions\n",
    "\n",
    "`num_of_terms`: we expect the number of query terms to be a good feature because the more query terms used the more specific a query is.\n",
    "\n",
    "`query_length`: we expect the query length (number of characters) to be a good feature because the longer a query is the more specific it is.\n",
    "\n",
    "`has_numbers`: we expect the presence of numbers/digits to be a good feature because numbers may point towards specific queries.\n",
    "\n",
    "`has_special_char`: we expect the presence of special characters (non-alphanumeric characters) to be a good feature because that may point towards specific queries. "
   ]
  },
  {
   "cell_type": "code",
   "execution_count": 11,
   "id": "26d30d9f-89f4-40c0-b44d-539d33c948d3",
   "metadata": {},
   "outputs": [],
   "source": [
    "def num_of_terms(query_string):\n",
    "    terms = query_string.split(\" \")\n",
    "    return len(terms)\n",
    "\n",
    "def query_length(query_string):\n",
    "    return len(query_string)\n",
    "\n",
    "def has_numbers(query_string):\n",
    "    return int(any(char.isdigit() for char in query_string))\n",
    "\n",
    "def has_special_char(query_string):\n",
    "    # Define special characters (all non-alphanumeric characters)\n",
    "    special_chars = string.punctuation\n",
    "    # Return True if any character in the string is a special character\n",
    "    return int(any(char in special_chars for char in query_string))"
   ]
  },
  {
   "cell_type": "code",
   "execution_count": 12,
   "id": "467724fd-74e0-491c-b444-e2e0a09296e2",
   "metadata": {},
   "outputs": [],
   "source": [
    "df_filtered['num_of_terms'] = df_filtered.query_string.apply(num_of_terms)\n",
    "df_filtered['query_length'] = df_filtered.query_string.apply(query_length)\n",
    "df_filtered['has_numbers'] = df_filtered.query_string.apply(has_numbers)\n",
    "df_filtered['has_special_char'] = df_filtered.query_string.apply(has_special_char)"
   ]
  },
  {
   "cell_type": "code",
   "execution_count": 13,
   "id": "fad3d50d-6253-44f0-b7e3-87eaeb73592c",
   "metadata": {},
   "outputs": [
    {
     "data": {
      "text/html": [
       "<div>\n",
       "<style scoped>\n",
       "    .dataframe tbody tr th:only-of-type {\n",
       "        vertical-align: middle;\n",
       "    }\n",
       "\n",
       "    .dataframe tbody tr th {\n",
       "        vertical-align: top;\n",
       "    }\n",
       "\n",
       "    .dataframe thead th {\n",
       "        text-align: right;\n",
       "    }\n",
       "</style>\n",
       "<table border=\"1\" class=\"dataframe\">\n",
       "  <thead>\n",
       "    <tr style=\"text-align: right;\">\n",
       "      <th></th>\n",
       "      <th>query_string</th>\n",
       "      <th>ndcg</th>\n",
       "      <th>neuralness</th>\n",
       "      <th>num_of_terms</th>\n",
       "      <th>query_length</th>\n",
       "      <th>has_numbers</th>\n",
       "      <th>has_special_char</th>\n",
       "    </tr>\n",
       "  </thead>\n",
       "  <tbody>\n",
       "    <tr>\n",
       "      <th>0</th>\n",
       "      <td>$30 roblox gift card not digital</td>\n",
       "      <td>0.075767</td>\n",
       "      <td>1.0</td>\n",
       "      <td>6</td>\n",
       "      <td>32</td>\n",
       "      <td>1</td>\n",
       "      <td>1</td>\n",
       "    </tr>\n",
       "    <tr>\n",
       "      <th>1</th>\n",
       "      <td>(fiction without frontiers)</td>\n",
       "      <td>0.451875</td>\n",
       "      <td>0.9</td>\n",
       "      <td>3</td>\n",
       "      <td>27</td>\n",
       "      <td>0</td>\n",
       "      <td>1</td>\n",
       "    </tr>\n",
       "    <tr>\n",
       "      <th>2</th>\n",
       "      <td>100</td>\n",
       "      <td>0.332592</td>\n",
       "      <td>0.8</td>\n",
       "      <td>1</td>\n",
       "      <td>3</td>\n",
       "      <td>1</td>\n",
       "      <td>0</td>\n",
       "    </tr>\n",
       "    <tr>\n",
       "      <th>3</th>\n",
       "      <td>10x10x6 cake box without window</td>\n",
       "      <td>0.099900</td>\n",
       "      <td>1.0</td>\n",
       "      <td>5</td>\n",
       "      <td>31</td>\n",
       "      <td>1</td>\n",
       "      <td>0</td>\n",
       "    </tr>\n",
       "    <tr>\n",
       "      <th>4</th>\n",
       "      <td>15 inch light weight laptop that has lots of m...</td>\n",
       "      <td>0.039399</td>\n",
       "      <td>0.0</td>\n",
       "      <td>28</td>\n",
       "      <td>125</td>\n",
       "      <td>1</td>\n",
       "      <td>1</td>\n",
       "    </tr>\n",
       "  </tbody>\n",
       "</table>\n",
       "</div>"
      ],
      "text/plain": [
       "                                        query_string      ndcg  neuralness  \\\n",
       "0                   $30 roblox gift card not digital  0.075767         1.0   \n",
       "1                        (fiction without frontiers)  0.451875         0.9   \n",
       "2                                                100  0.332592         0.8   \n",
       "3                    10x10x6 cake box without window  0.099900         1.0   \n",
       "4  15 inch light weight laptop that has lots of m...  0.039399         0.0   \n",
       "\n",
       "   num_of_terms  query_length  has_numbers  has_special_char  \n",
       "0             6            32            1                 1  \n",
       "1             3            27            0                 1  \n",
       "2             1             3            1                 0  \n",
       "3             5            31            1                 0  \n",
       "4            28           125            1                 1  "
      ]
     },
     "execution_count": 13,
     "metadata": {},
     "output_type": "execute_result"
    }
   ],
   "source": [
    "df_filtered.head(5)"
   ]
  },
  {
   "cell_type": "markdown",
   "id": "7ee49930-9005-4117-a8ca-646288a8c6e4",
   "metadata": {},
   "source": [
    "## Result Feature Functions\n",
    "\n",
    "`num_results_kw_search`: the number of results for the keyword query.\n",
    "\n",
    "`max_doc_score`: max score of the retrieved top 10 titles. The scores are BM25 scores calculated individually per result set. That means that the document frequencies of terms is not calculated on the whole index but only on the retrieved subset for the query, making the scores more comparable to each other.\n",
    "\n",
    "`sum_of_doc_scores`: we use the sum of the scores (and no average value) as an aggregate to have a measure of how relevant all retrieved top 10 titles are.\n",
    "\n",
    "`get_semantic_scores_for_query`: retrieves the semantic scores for the neural query for the top 10. We store the maximum and the mean as result features.\n",
    "\n",
    "### Helper functions\n",
    "\n",
    "`get_titles_for_query`: retrieves the titles of the keyword matches for later score calculation\n",
    "\n",
    "`whitespace_to_lower`: tokenizes and lowercases text\n",
    "\n",
    "`get_model_id`: to run a neural search to get the semantic scores we need to know the id of the available model in OpenSearch\n"
   ]
  },
  {
   "cell_type": "markdown",
   "id": "319d9c26-046b-4025-85b8-7b2c0a71357e",
   "metadata": {},
   "source": [
    "### Get Number of Results for Keyword Search"
   ]
  },
  {
   "cell_type": "code",
   "execution_count": 14,
   "id": "e4ce76e9-71bd-4f40-a533-b8758c568001",
   "metadata": {},
   "outputs": [],
   "source": [
    "def num_results_kw_search(query_string):\n",
    "    url = \"http://localhost:9200/ecommerce/_search\"\n",
    "\n",
    "    headers = {\n",
    "        'Content-Type': 'application/json'\n",
    "    }\n",
    "    \n",
    "    \n",
    "    \n",
    "    payload = {\n",
    "      \"_source\": {\n",
    "        \"excludes\": [\n",
    "          \"title_embedding\"\n",
    "        ]\n",
    "      },\n",
    "      \"query\": {\n",
    "        \"multi_match\" : {\n",
    "          \"type\":       \"best_fields\",\n",
    "          \"fields\":     [\n",
    "            \"product_id^100\",\n",
    "            \"product_bullet_point^3\",\n",
    "            \"product_color^2\",\n",
    "            \"product_brand^5\",\n",
    "            \"product_description\",\n",
    "            \"product_title^10\"\n",
    "          ],\n",
    "          \"operator\":   \"and\",\n",
    "          \"query\":      query_string\n",
    "        }\n",
    "      },\n",
    "      \"track_total_hits\": \"true\"\n",
    "    }\n",
    "    response = requests.request(\"POST\", url, headers=headers, data=json.dumps(payload)).json()\n",
    "    num_results = response['hits']['total']['value']\n",
    "    return num_results"
   ]
  },
  {
   "cell_type": "code",
   "execution_count": 15,
   "id": "4a4850c1-06a3-4b9c-a1c8-ad308dae3126",
   "metadata": {},
   "outputs": [],
   "source": [
    "def get_titles_for_query(query_string):\n",
    "    url = \"http://localhost:9200/ecommerce/_search\"\n",
    "\n",
    "    headers = {\n",
    "        'Content-Type': 'application/json'\n",
    "    }\n",
    "      \n",
    "    payload = {\n",
    "      \"_source\": {\n",
    "        \"excludes\": [\n",
    "          \"title_embedding\"\n",
    "        ],\n",
    "        \"includes\": \"product_title\"\n",
    "      },\n",
    "      \"query\": {\n",
    "        \"multi_match\" : {\n",
    "          \"type\":       \"best_fields\",\n",
    "          \"fields\":     [\n",
    "            \"product_id^100\",\n",
    "            \"product_bullet_point^3\",\n",
    "            \"product_color^2\",\n",
    "            \"product_brand^5\",\n",
    "            \"product_description\",\n",
    "            \"product_title^10\"\n",
    "          ],\n",
    "          \"operator\":   \"and\",\n",
    "          \"query\":      query_string\n",
    "        }\n",
    "      },\n",
    "      \"track_total_hits\": \"true\"\n",
    "    }\n",
    "    response = requests.request(\"POST\", url, headers=headers, data=json.dumps(payload)).json()\n",
    "    titles = []\n",
    "    num_results = response['hits']['total']['value']\n",
    "    if num_results > 0:\n",
    "        # get all titles\n",
    "        titles = [item['_source']['product_title'] for item in response['hits']['hits']]\n",
    "\n",
    "    df = pd.DataFrame(titles, columns=['title'])\n",
    "\n",
    "    return df"
   ]
  },
  {
   "cell_type": "code",
   "execution_count": 16,
   "id": "5f4c77ad-87d0-474b-bcbf-8aa21993f48e",
   "metadata": {},
   "outputs": [],
   "source": [
    "df_filtered['num_results'] = df_filtered.query_string.apply(num_results_kw_search)"
   ]
  },
  {
   "cell_type": "markdown",
   "id": "3df23aa3-d867-47d2-a9f5-e33f98ffa618",
   "metadata": {},
   "source": [
    "### Tokenizer Definition\n",
    "\n",
    "We define a simple tokenizer that splits on whitespaces and lowercases"
   ]
  },
  {
   "cell_type": "code",
   "execution_count": 17,
   "id": "fd6c3193-4110-4c6f-b8e9-42a425847dfa",
   "metadata": {},
   "outputs": [],
   "source": [
    "def whitespace_to_lower(text):\n",
    "    split = text.lower().split()\n",
    "    return [token\n",
    "        for token in split]"
   ]
  },
  {
   "cell_type": "markdown",
   "id": "e7768455-d2d9-4e5a-ba74-f4f4662a961b",
   "metadata": {},
   "source": [
    "ToDo: make the following functions more efficient.\n",
    "\n",
    "The following functions contain redundant code and only differ in the return value."
   ]
  },
  {
   "cell_type": "code",
   "execution_count": 18,
   "id": "fdfb0434-346b-4d95-ad27-ecf6b6f02b82",
   "metadata": {},
   "outputs": [],
   "source": [
    "# we use searcharray to calculate the highest title score among the retrieved docs\n",
    "def max_doc_score(df, query):\n",
    "    # if we retrieved zero docs we return 0 as the max score\n",
    "    if df.shape[0] == 0:\n",
    "        return 0\n",
    "    else:\n",
    "        # index the titles with the defined tokenizer\n",
    "        df['title_indexed'] = SearchArray.index(df['title'], tokenizer=whitespace_to_lower)\n",
    "        # tokenize the query with the same tokenizer\n",
    "        tokenized_query = df['title_indexed'].array.tokenizer(query)\n",
    "        # calculate the score for each query term\n",
    "        # the result is a matrix with number of titles x number of query term dimensions\n",
    "        scores = np.asarray([df['title_indexed'].array.score(query_term)\n",
    "                                    for query_term in tokenized_query])\n",
    "        # calculate the sum of all query terms per title\n",
    "        sums = [sum(group) for group in zip(*scores)]\n",
    "        # return the maximum\n",
    "        return max(sums)\n",
    "\n",
    "# we use searcharray to calculate the sum of all title scores among the retrieved docs\n",
    "def sum_of_doc_scores(df, query):\n",
    "    # if we retrieved zero docs we return 0 as the max score\n",
    "    if df.shape[0] == 0:\n",
    "        return 0\n",
    "    else:\n",
    "        # index the titles with the defined tokenizer\n",
    "        df['title_indexed'] = SearchArray.index(df['title'], tokenizer=whitespace_to_lower)\n",
    "        # tokenize the query with the same tokenizer\n",
    "        tokenized_query = df['title_indexed'].array.tokenizer(query)\n",
    "        # calculate the score for each query term\n",
    "        # the result is a matrix with number of titles x number of query term dimensions\n",
    "        scores = np.asarray([df['title_indexed'].array.score(query_term)\n",
    "                                    for query_term in tokenized_query])\n",
    "        # calculate the sum of all query terms per title\n",
    "        sums = [sum(group) for group in zip(*scores)]\n",
    "        # return the sum of all title scores\n",
    "        return sum(sums)"
   ]
  },
  {
   "cell_type": "markdown",
   "id": "7b1123d8-16a4-408a-a951-61c620d0df13",
   "metadata": {},
   "source": [
    "### Get Semantic Scores\n",
    "\n",
    "First we get the model id, then we use the model id in the query to retrieve the semantic scores."
   ]
  },
  {
   "cell_type": "code",
   "execution_count": 19,
   "id": "0c89806a-efcc-42c2-ac1b-df7c9b54f17f",
   "metadata": {},
   "outputs": [],
   "source": [
    "# Get model_id\n",
    "# We are assuming that the installation has only one model. Change this if you have more models \n",
    "# and need to pick a specific one\n",
    "\n",
    "def get_model_id():\n",
    "    url = \"http://localhost:9200/_plugins/_ml/models/_search\"\n",
    "    \n",
    "    headers = {\n",
    "        'Content-Type': 'application/json'\n",
    "    }\n",
    "    \n",
    "    payload = {\n",
    "      \"query\": {\n",
    "        \"match_all\": {}\n",
    "      },\n",
    "      \"size\": 1\n",
    "    }\n",
    "    \n",
    "    response = requests.request(\"POST\", url, headers=headers, data=json.dumps(payload))\n",
    "\n",
    "    return response.json()['hits']['hits'][0]['_source']['model_id']\n",
    "\n",
    "model_id = get_model_id()"
   ]
  },
  {
   "cell_type": "code",
   "execution_count": 20,
   "id": "d124583a-46b6-4e56-a04e-f37b6950afa7",
   "metadata": {},
   "outputs": [],
   "source": [
    "def get_semantic_scores_for_query(query_string):\n",
    "    url = \"http://localhost:9200/ecommerce/_search\"\n",
    "\n",
    "    headers = {\n",
    "        'Content-Type': 'application/json'\n",
    "    }\n",
    "    \n",
    "    \n",
    "    \n",
    "    payload = {\n",
    "      \"_source\": {\n",
    "        \"excludes\": [\n",
    "          \"title_embedding\"\n",
    "        ],\n",
    "        \"includes\": \"product_title\"\n",
    "      },\n",
    "      \"query\": {\n",
    "        \"neural\": {\n",
    "          \"title_embedding\": {\n",
    "            \"query_text\": query_string,\n",
    "            \"k\": 100,\n",
    "            \"model_id\": model_id\n",
    "          }\n",
    "        }\n",
    "      },\n",
    "      \"size\": 10\n",
    "    }\n",
    "    response = requests.request(\"POST\", url, headers=headers, data=json.dumps(payload)).json()\n",
    "    titles = []\n",
    "    num_results = response['hits']['total']['value']\n",
    "    if num_results > 0:\n",
    "        # get all titles\n",
    "        scores = [item['_score'] for item in response['hits']['hits']]\n",
    "\n",
    "    return scores"
   ]
  },
  {
   "cell_type": "code",
   "execution_count": 21,
   "id": "30f1df09-5fd7-4a21-8ff1-a823f4d5f8e9",
   "metadata": {
    "scrolled": true
   },
   "outputs": [
    {
     "name": "stdout",
     "output_type": "stream",
     "text": [
      "2024-10-30 17:31:55,899 - searcharray.indexing - INFO - Indexing begins w/ 4 workers\n",
      "2024-10-30 17:31:55,899 - searcharray.indexing - INFO - 0 Batch Start tokenization\n",
      "2024-10-30 17:31:55,900 - searcharray.indexing - INFO - Tokenizing 10 documents\n",
      "2024-10-30 17:31:55,900 - searcharray.indexing - INFO - Tokenization -- vstacking\n",
      "2024-10-30 17:31:55,901 - searcharray.indexing - INFO - Tokenization -- DONE\n",
      "2024-10-30 17:31:55,901 - searcharray.indexing - INFO - Inverting docs->terms\n",
      "2024-10-30 17:31:55,901 - searcharray.indexing - INFO - Encoding positions to bit array\n",
      "2024-10-30 17:31:55,902 - searcharray.indexing - INFO - Batch tokenization complete\n",
      "2024-10-30 17:31:55,902 - searcharray.indexing - INFO - (main thread) Processing 1 batch results\n",
      "2024-10-30 17:31:55,902 - searcharray.indexing - INFO - Indexing from tokenization complete\n",
      "2024-10-30 17:31:55,921 - searcharray.indexing - INFO - Indexing begins w/ 4 workers\n",
      "2024-10-30 17:31:55,921 - searcharray.indexing - INFO - 0 Batch Start tokenization\n",
      "2024-10-30 17:31:55,922 - searcharray.indexing - INFO - Tokenizing 10 documents\n",
      "2024-10-30 17:31:55,922 - searcharray.indexing - INFO - Tokenization -- vstacking\n",
      "2024-10-30 17:31:55,923 - searcharray.indexing - INFO - Tokenization -- DONE\n",
      "2024-10-30 17:31:55,923 - searcharray.indexing - INFO - Inverting docs->terms\n",
      "2024-10-30 17:31:55,923 - searcharray.indexing - INFO - Encoding positions to bit array\n",
      "2024-10-30 17:31:55,924 - searcharray.indexing - INFO - Batch tokenization complete\n",
      "2024-10-30 17:31:55,924 - searcharray.indexing - INFO - (main thread) Processing 1 batch results\n",
      "2024-10-30 17:31:55,925 - searcharray.indexing - INFO - Indexing from tokenization complete\n",
      "2024-10-30 17:31:55,949 - searcharray.indexing - INFO - Indexing begins w/ 4 workers\n",
      "2024-10-30 17:31:55,950 - searcharray.indexing - INFO - 0 Batch Start tokenization\n",
      "2024-10-30 17:31:55,950 - searcharray.indexing - INFO - Tokenizing 10 documents\n",
      "2024-10-30 17:31:55,951 - searcharray.indexing - INFO - Tokenization -- vstacking\n",
      "2024-10-30 17:31:55,951 - searcharray.indexing - INFO - Tokenization -- DONE\n",
      "2024-10-30 17:31:55,951 - searcharray.indexing - INFO - Inverting docs->terms\n",
      "2024-10-30 17:31:55,952 - searcharray.indexing - INFO - Encoding positions to bit array\n",
      "2024-10-30 17:31:55,952 - searcharray.indexing - INFO - Batch tokenization complete\n",
      "2024-10-30 17:31:55,953 - searcharray.indexing - INFO - (main thread) Processing 1 batch results\n",
      "2024-10-30 17:31:55,953 - searcharray.indexing - INFO - Indexing from tokenization complete\n",
      "2024-10-30 17:31:55,961 - searcharray.indexing - INFO - Indexing begins w/ 4 workers\n",
      "2024-10-30 17:31:55,961 - searcharray.indexing - INFO - 0 Batch Start tokenization\n",
      "2024-10-30 17:31:55,962 - searcharray.indexing - INFO - Tokenizing 2 documents\n",
      "2024-10-30 17:31:55,962 - searcharray.indexing - INFO - Tokenization -- vstacking\n",
      "2024-10-30 17:31:55,962 - searcharray.indexing - INFO - Tokenization -- DONE\n",
      "2024-10-30 17:31:55,962 - searcharray.indexing - INFO - Inverting docs->terms\n",
      "2024-10-30 17:31:55,963 - searcharray.indexing - INFO - Encoding positions to bit array\n",
      "2024-10-30 17:31:55,963 - searcharray.indexing - INFO - Batch tokenization complete\n",
      "2024-10-30 17:31:55,963 - searcharray.indexing - INFO - (main thread) Processing 1 batch results\n",
      "2024-10-30 17:31:55,964 - searcharray.indexing - INFO - Indexing from tokenization complete\n",
      "2024-10-30 17:31:55,971 - searcharray.indexing - INFO - Indexing begins w/ 4 workers\n",
      "2024-10-30 17:31:55,971 - searcharray.indexing - INFO - 0 Batch Start tokenization\n",
      "2024-10-30 17:31:55,971 - searcharray.indexing - INFO - Tokenizing 1 documents\n",
      "2024-10-30 17:31:55,972 - searcharray.indexing - INFO - Tokenization -- vstacking\n",
      "2024-10-30 17:31:55,972 - searcharray.indexing - INFO - Tokenization -- DONE\n",
      "2024-10-30 17:31:55,972 - searcharray.indexing - INFO - Inverting docs->terms\n",
      "2024-10-30 17:31:55,972 - searcharray.indexing - INFO - Encoding positions to bit array\n",
      "2024-10-30 17:31:55,973 - searcharray.indexing - INFO - Batch tokenization complete\n",
      "2024-10-30 17:31:55,973 - searcharray.indexing - INFO - (main thread) Processing 1 batch results\n",
      "2024-10-30 17:31:55,973 - searcharray.indexing - INFO - Indexing from tokenization complete\n",
      "2024-10-30 17:31:55,987 - searcharray.indexing - INFO - Indexing begins w/ 4 workers\n",
      "2024-10-30 17:31:55,988 - searcharray.indexing - INFO - 0 Batch Start tokenization\n",
      "2024-10-30 17:31:55,988 - searcharray.indexing - INFO - Tokenizing 10 documents\n",
      "2024-10-30 17:31:55,989 - searcharray.indexing - INFO - Tokenization -- vstacking\n",
      "2024-10-30 17:31:55,989 - searcharray.indexing - INFO - Tokenization -- DONE\n",
      "2024-10-30 17:31:55,989 - searcharray.indexing - INFO - Inverting docs->terms\n",
      "2024-10-30 17:31:55,990 - searcharray.indexing - INFO - Encoding positions to bit array\n",
      "2024-10-30 17:31:55,990 - searcharray.indexing - INFO - Batch tokenization complete\n",
      "2024-10-30 17:31:55,991 - searcharray.indexing - INFO - (main thread) Processing 1 batch results\n",
      "2024-10-30 17:31:55,991 - searcharray.indexing - INFO - Indexing from tokenization complete\n",
      "2024-10-30 17:31:55,998 - searcharray.indexing - INFO - Indexing begins w/ 4 workers\n",
      "2024-10-30 17:31:55,999 - searcharray.indexing - INFO - 0 Batch Start tokenization\n",
      "2024-10-30 17:31:55,999 - searcharray.indexing - INFO - Tokenizing 10 documents\n",
      "2024-10-30 17:31:56,000 - searcharray.indexing - INFO - Tokenization -- vstacking\n",
      "2024-10-30 17:31:56,000 - searcharray.indexing - INFO - Tokenization -- DONE\n",
      "2024-10-30 17:31:56,001 - searcharray.indexing - INFO - Inverting docs->terms\n",
      "2024-10-30 17:31:56,001 - searcharray.indexing - INFO - Encoding positions to bit array\n",
      "2024-10-30 17:31:56,001 - searcharray.indexing - INFO - Batch tokenization complete\n",
      "2024-10-30 17:31:56,002 - searcharray.indexing - INFO - (main thread) Processing 1 batch results\n",
      "2024-10-30 17:31:56,002 - searcharray.indexing - INFO - Indexing from tokenization complete\n",
      "2024-10-30 17:31:56,014 - searcharray.indexing - INFO - Indexing begins w/ 4 workers\n",
      "2024-10-30 17:31:56,014 - searcharray.indexing - INFO - 0 Batch Start tokenization\n",
      "2024-10-30 17:31:56,015 - searcharray.indexing - INFO - Tokenizing 10 documents\n",
      "2024-10-30 17:31:56,015 - searcharray.indexing - INFO - Tokenization -- vstacking\n",
      "2024-10-30 17:31:56,016 - searcharray.indexing - INFO - Tokenization -- DONE\n",
      "2024-10-30 17:31:56,016 - searcharray.indexing - INFO - Inverting docs->terms\n",
      "2024-10-30 17:31:56,016 - searcharray.indexing - INFO - Encoding positions to bit array\n",
      "2024-10-30 17:31:56,017 - searcharray.indexing - INFO - Batch tokenization complete\n",
      "2024-10-30 17:31:56,017 - searcharray.indexing - INFO - (main thread) Processing 1 batch results\n",
      "2024-10-30 17:31:56,018 - searcharray.indexing - INFO - Indexing from tokenization complete\n",
      "2024-10-30 17:31:56,024 - searcharray.indexing - INFO - Indexing begins w/ 4 workers\n",
      "2024-10-30 17:31:56,025 - searcharray.indexing - INFO - 0 Batch Start tokenization\n",
      "2024-10-30 17:31:56,025 - searcharray.indexing - INFO - Tokenizing 2 documents\n",
      "2024-10-30 17:31:56,026 - searcharray.indexing - INFO - Tokenization -- vstacking\n",
      "2024-10-30 17:31:56,026 - searcharray.indexing - INFO - Tokenization -- DONE\n",
      "2024-10-30 17:31:56,026 - searcharray.indexing - INFO - Inverting docs->terms\n",
      "2024-10-30 17:31:56,026 - searcharray.indexing - INFO - Encoding positions to bit array\n",
      "2024-10-30 17:31:56,027 - searcharray.indexing - INFO - Batch tokenization complete\n",
      "2024-10-30 17:31:56,027 - searcharray.indexing - INFO - (main thread) Processing 1 batch results\n",
      "2024-10-30 17:31:56,027 - searcharray.indexing - INFO - Indexing from tokenization complete\n",
      "2024-10-30 17:31:56,034 - searcharray.indexing - INFO - Indexing begins w/ 4 workers\n",
      "2024-10-30 17:31:56,034 - searcharray.indexing - INFO - 0 Batch Start tokenization\n",
      "2024-10-30 17:31:56,034 - searcharray.indexing - INFO - Tokenizing 10 documents\n",
      "2024-10-30 17:31:56,035 - searcharray.indexing - INFO - Tokenization -- vstacking\n",
      "2024-10-30 17:31:56,035 - searcharray.indexing - INFO - Tokenization -- DONE\n",
      "2024-10-30 17:31:56,035 - searcharray.indexing - INFO - Inverting docs->terms\n",
      "2024-10-30 17:31:56,035 - searcharray.indexing - INFO - Encoding positions to bit array\n",
      "2024-10-30 17:31:56,036 - searcharray.indexing - INFO - Batch tokenization complete\n",
      "2024-10-30 17:31:56,036 - searcharray.indexing - INFO - (main thread) Processing 1 batch results\n",
      "2024-10-30 17:31:56,037 - searcharray.indexing - INFO - Indexing from tokenization complete\n",
      "2024-10-30 17:31:56,045 - searcharray.indexing - INFO - Indexing begins w/ 4 workers\n",
      "2024-10-30 17:31:56,045 - searcharray.indexing - INFO - 0 Batch Start tokenization\n",
      "2024-10-30 17:31:56,045 - searcharray.indexing - INFO - Tokenizing 8 documents\n",
      "2024-10-30 17:31:56,046 - searcharray.indexing - INFO - Tokenization -- vstacking\n",
      "2024-10-30 17:31:56,046 - searcharray.indexing - INFO - Tokenization -- DONE\n",
      "2024-10-30 17:31:56,047 - searcharray.indexing - INFO - Inverting docs->terms\n",
      "2024-10-30 17:31:56,047 - searcharray.indexing - INFO - Encoding positions to bit array\n",
      "2024-10-30 17:31:56,047 - searcharray.indexing - INFO - Batch tokenization complete\n",
      "2024-10-30 17:31:56,048 - searcharray.indexing - INFO - (main thread) Processing 1 batch results\n",
      "2024-10-30 17:31:56,048 - searcharray.indexing - INFO - Indexing from tokenization complete\n",
      "2024-10-30 17:31:56,053 - searcharray.indexing - INFO - Indexing begins w/ 4 workers\n",
      "2024-10-30 17:31:56,054 - searcharray.indexing - INFO - 0 Batch Start tokenization\n",
      "2024-10-30 17:31:56,054 - searcharray.indexing - INFO - Tokenizing 2 documents\n",
      "2024-10-30 17:31:56,054 - searcharray.indexing - INFO - Tokenization -- vstacking\n",
      "2024-10-30 17:31:56,055 - searcharray.indexing - INFO - Tokenization -- DONE\n",
      "2024-10-30 17:31:56,055 - searcharray.indexing - INFO - Inverting docs->terms\n",
      "2024-10-30 17:31:56,055 - searcharray.indexing - INFO - Encoding positions to bit array\n",
      "2024-10-30 17:31:56,055 - searcharray.indexing - INFO - Batch tokenization complete\n",
      "2024-10-30 17:31:56,056 - searcharray.indexing - INFO - (main thread) Processing 1 batch results\n",
      "2024-10-30 17:31:56,056 - searcharray.indexing - INFO - Indexing from tokenization complete\n",
      "2024-10-30 17:31:56,067 - searcharray.indexing - INFO - Indexing begins w/ 4 workers\n",
      "2024-10-30 17:31:56,067 - searcharray.indexing - INFO - 0 Batch Start tokenization\n",
      "2024-10-30 17:31:56,068 - searcharray.indexing - INFO - Tokenizing 6 documents\n",
      "2024-10-30 17:31:56,068 - searcharray.indexing - INFO - Tokenization -- vstacking\n",
      "2024-10-30 17:31:56,068 - searcharray.indexing - INFO - Tokenization -- DONE\n",
      "2024-10-30 17:31:56,069 - searcharray.indexing - INFO - Inverting docs->terms\n",
      "2024-10-30 17:31:56,069 - searcharray.indexing - INFO - Encoding positions to bit array\n",
      "2024-10-30 17:31:56,069 - searcharray.indexing - INFO - Batch tokenization complete\n",
      "2024-10-30 17:31:56,070 - searcharray.indexing - INFO - (main thread) Processing 1 batch results\n",
      "2024-10-30 17:31:56,070 - searcharray.indexing - INFO - Indexing from tokenization complete\n",
      "2024-10-30 17:31:56,076 - searcharray.indexing - INFO - Indexing begins w/ 4 workers\n",
      "2024-10-30 17:31:56,076 - searcharray.indexing - INFO - 0 Batch Start tokenization\n",
      "2024-10-30 17:31:56,077 - searcharray.indexing - INFO - Tokenizing 4 documents\n",
      "2024-10-30 17:31:56,077 - searcharray.indexing - INFO - Tokenization -- vstacking\n",
      "2024-10-30 17:31:56,078 - searcharray.indexing - INFO - Tokenization -- DONE\n",
      "2024-10-30 17:31:56,078 - searcharray.indexing - INFO - Inverting docs->terms\n",
      "2024-10-30 17:31:56,078 - searcharray.indexing - INFO - Encoding positions to bit array\n",
      "2024-10-30 17:31:56,079 - searcharray.indexing - INFO - Batch tokenization complete\n",
      "2024-10-30 17:31:56,079 - searcharray.indexing - INFO - (main thread) Processing 1 batch results\n",
      "2024-10-30 17:31:56,080 - searcharray.indexing - INFO - Indexing from tokenization complete\n",
      "2024-10-30 17:31:56,092 - searcharray.indexing - INFO - Indexing begins w/ 4 workers\n",
      "2024-10-30 17:31:56,092 - searcharray.indexing - INFO - 0 Batch Start tokenization\n",
      "2024-10-30 17:31:56,093 - searcharray.indexing - INFO - Tokenizing 1 documents\n",
      "2024-10-30 17:31:56,093 - searcharray.indexing - INFO - Tokenization -- vstacking\n",
      "2024-10-30 17:31:56,093 - searcharray.indexing - INFO - Tokenization -- DONE\n",
      "2024-10-30 17:31:56,094 - searcharray.indexing - INFO - Inverting docs->terms\n",
      "2024-10-30 17:31:56,094 - searcharray.indexing - INFO - Encoding positions to bit array\n",
      "2024-10-30 17:31:56,094 - searcharray.indexing - INFO - Batch tokenization complete\n",
      "2024-10-30 17:31:56,094 - searcharray.indexing - INFO - (main thread) Processing 1 batch results\n",
      "2024-10-30 17:31:56,095 - searcharray.indexing - INFO - Indexing from tokenization complete\n",
      "2024-10-30 17:31:56,103 - searcharray.indexing - INFO - Indexing begins w/ 4 workers\n",
      "2024-10-30 17:31:56,104 - searcharray.indexing - INFO - 0 Batch Start tokenization\n",
      "2024-10-30 17:31:56,104 - searcharray.indexing - INFO - Tokenizing 10 documents\n",
      "2024-10-30 17:31:56,105 - searcharray.indexing - INFO - Tokenization -- vstacking\n",
      "2024-10-30 17:31:56,105 - searcharray.indexing - INFO - Tokenization -- DONE\n",
      "2024-10-30 17:31:56,105 - searcharray.indexing - INFO - Inverting docs->terms\n",
      "2024-10-30 17:31:56,105 - searcharray.indexing - INFO - Encoding positions to bit array\n",
      "2024-10-30 17:31:56,106 - searcharray.indexing - INFO - Batch tokenization complete\n",
      "2024-10-30 17:31:56,106 - searcharray.indexing - INFO - (main thread) Processing 1 batch results\n",
      "2024-10-30 17:31:56,107 - searcharray.indexing - INFO - Indexing from tokenization complete\n",
      "2024-10-30 17:31:56,114 - searcharray.indexing - INFO - Indexing begins w/ 4 workers\n",
      "2024-10-30 17:31:56,115 - searcharray.indexing - INFO - 0 Batch Start tokenization\n",
      "2024-10-30 17:31:56,115 - searcharray.indexing - INFO - Tokenizing 10 documents\n",
      "2024-10-30 17:31:56,116 - searcharray.indexing - INFO - Tokenization -- vstacking\n",
      "2024-10-30 17:31:56,116 - searcharray.indexing - INFO - Tokenization -- DONE\n",
      "2024-10-30 17:31:56,116 - searcharray.indexing - INFO - Inverting docs->terms\n",
      "2024-10-30 17:31:56,117 - searcharray.indexing - INFO - Encoding positions to bit array\n",
      "2024-10-30 17:31:56,117 - searcharray.indexing - INFO - Batch tokenization complete\n",
      "2024-10-30 17:31:56,118 - searcharray.indexing - INFO - (main thread) Processing 1 batch results\n",
      "2024-10-30 17:31:56,118 - searcharray.indexing - INFO - Indexing from tokenization complete\n",
      "2024-10-30 17:31:56,124 - searcharray.indexing - INFO - Indexing begins w/ 4 workers\n",
      "2024-10-30 17:31:56,125 - searcharray.indexing - INFO - 0 Batch Start tokenization\n",
      "2024-10-30 17:31:56,125 - searcharray.indexing - INFO - Tokenizing 4 documents\n",
      "2024-10-30 17:31:56,126 - searcharray.indexing - INFO - Tokenization -- vstacking\n",
      "2024-10-30 17:31:56,126 - searcharray.indexing - INFO - Tokenization -- DONE\n",
      "2024-10-30 17:31:56,126 - searcharray.indexing - INFO - Inverting docs->terms\n",
      "2024-10-30 17:31:56,127 - searcharray.indexing - INFO - Encoding positions to bit array\n",
      "2024-10-30 17:31:56,127 - searcharray.indexing - INFO - Batch tokenization complete\n",
      "2024-10-30 17:31:56,127 - searcharray.indexing - INFO - (main thread) Processing 1 batch results\n",
      "2024-10-30 17:31:56,128 - searcharray.indexing - INFO - Indexing from tokenization complete\n",
      "2024-10-30 17:31:56,136 - searcharray.indexing - INFO - Indexing begins w/ 4 workers\n",
      "2024-10-30 17:31:56,137 - searcharray.indexing - INFO - 0 Batch Start tokenization\n",
      "2024-10-30 17:31:56,137 - searcharray.indexing - INFO - Tokenizing 1 documents\n",
      "2024-10-30 17:31:56,137 - searcharray.indexing - INFO - Tokenization -- vstacking\n",
      "2024-10-30 17:31:56,138 - searcharray.indexing - INFO - Tokenization -- DONE\n",
      "2024-10-30 17:31:56,138 - searcharray.indexing - INFO - Inverting docs->terms\n",
      "2024-10-30 17:31:56,138 - searcharray.indexing - INFO - Encoding positions to bit array\n",
      "2024-10-30 17:31:56,138 - searcharray.indexing - INFO - Batch tokenization complete\n",
      "2024-10-30 17:31:56,139 - searcharray.indexing - INFO - (main thread) Processing 1 batch results\n",
      "2024-10-30 17:31:56,139 - searcharray.indexing - INFO - Indexing from tokenization complete\n",
      "2024-10-30 17:31:56,147 - searcharray.indexing - INFO - Indexing begins w/ 4 workers\n",
      "2024-10-30 17:31:56,148 - searcharray.indexing - INFO - 0 Batch Start tokenization\n",
      "2024-10-30 17:31:56,148 - searcharray.indexing - INFO - Tokenizing 5 documents\n",
      "2024-10-30 17:31:56,148 - searcharray.indexing - INFO - Tokenization -- vstacking\n",
      "2024-10-30 17:31:56,149 - searcharray.indexing - INFO - Tokenization -- DONE\n",
      "2024-10-30 17:31:56,149 - searcharray.indexing - INFO - Inverting docs->terms\n",
      "2024-10-30 17:31:56,149 - searcharray.indexing - INFO - Encoding positions to bit array\n",
      "2024-10-30 17:31:56,150 - searcharray.indexing - INFO - Batch tokenization complete\n",
      "2024-10-30 17:31:56,150 - searcharray.indexing - INFO - (main thread) Processing 1 batch results\n",
      "2024-10-30 17:31:56,151 - searcharray.indexing - INFO - Indexing from tokenization complete\n",
      "2024-10-30 17:31:56,159 - searcharray.indexing - INFO - Indexing begins w/ 4 workers\n",
      "2024-10-30 17:31:56,160 - searcharray.indexing - INFO - 0 Batch Start tokenization\n",
      "2024-10-30 17:31:56,160 - searcharray.indexing - INFO - Tokenizing 3 documents\n",
      "2024-10-30 17:31:56,160 - searcharray.indexing - INFO - Tokenization -- vstacking\n",
      "2024-10-30 17:31:56,161 - searcharray.indexing - INFO - Tokenization -- DONE\n",
      "2024-10-30 17:31:56,161 - searcharray.indexing - INFO - Inverting docs->terms\n",
      "2024-10-30 17:31:56,161 - searcharray.indexing - INFO - Encoding positions to bit array\n",
      "2024-10-30 17:31:56,162 - searcharray.indexing - INFO - Batch tokenization complete\n",
      "2024-10-30 17:31:56,162 - searcharray.indexing - INFO - (main thread) Processing 1 batch results\n",
      "2024-10-30 17:31:56,162 - searcharray.indexing - INFO - Indexing from tokenization complete\n",
      "2024-10-30 17:31:56,170 - searcharray.indexing - INFO - Indexing begins w/ 4 workers\n",
      "2024-10-30 17:31:56,170 - searcharray.indexing - INFO - 0 Batch Start tokenization\n",
      "2024-10-30 17:31:56,171 - searcharray.indexing - INFO - Tokenizing 10 documents\n",
      "2024-10-30 17:31:56,171 - searcharray.indexing - INFO - Tokenization -- vstacking\n",
      "2024-10-30 17:31:56,171 - searcharray.indexing - INFO - Tokenization -- DONE\n",
      "2024-10-30 17:31:56,172 - searcharray.indexing - INFO - Inverting docs->terms\n",
      "2024-10-30 17:31:56,172 - searcharray.indexing - INFO - Encoding positions to bit array\n",
      "2024-10-30 17:31:56,172 - searcharray.indexing - INFO - Batch tokenization complete\n",
      "2024-10-30 17:31:56,172 - searcharray.indexing - INFO - (main thread) Processing 1 batch results\n",
      "2024-10-30 17:31:56,173 - searcharray.indexing - INFO - Indexing from tokenization complete\n",
      "2024-10-30 17:31:56,180 - searcharray.indexing - INFO - Indexing begins w/ 4 workers\n",
      "2024-10-30 17:31:56,180 - searcharray.indexing - INFO - 0 Batch Start tokenization\n",
      "2024-10-30 17:31:56,181 - searcharray.indexing - INFO - Tokenizing 2 documents\n",
      "2024-10-30 17:31:56,181 - searcharray.indexing - INFO - Tokenization -- vstacking\n",
      "2024-10-30 17:31:56,181 - searcharray.indexing - INFO - Tokenization -- DONE\n",
      "2024-10-30 17:31:56,181 - searcharray.indexing - INFO - Inverting docs->terms\n",
      "2024-10-30 17:31:56,182 - searcharray.indexing - INFO - Encoding positions to bit array\n",
      "2024-10-30 17:31:56,182 - searcharray.indexing - INFO - Batch tokenization complete\n",
      "2024-10-30 17:31:56,182 - searcharray.indexing - INFO - (main thread) Processing 1 batch results\n",
      "2024-10-30 17:31:56,182 - searcharray.indexing - INFO - Indexing from tokenization complete\n",
      "2024-10-30 17:31:56,191 - searcharray.indexing - INFO - Indexing begins w/ 4 workers\n",
      "2024-10-30 17:31:56,191 - searcharray.indexing - INFO - 0 Batch Start tokenization\n",
      "2024-10-30 17:31:56,192 - searcharray.indexing - INFO - Tokenizing 10 documents\n",
      "2024-10-30 17:31:56,192 - searcharray.indexing - INFO - Tokenization -- vstacking\n",
      "2024-10-30 17:31:56,192 - searcharray.indexing - INFO - Tokenization -- DONE\n",
      "2024-10-30 17:31:56,193 - searcharray.indexing - INFO - Inverting docs->terms\n",
      "2024-10-30 17:31:56,193 - searcharray.indexing - INFO - Encoding positions to bit array\n",
      "2024-10-30 17:31:56,193 - searcharray.indexing - INFO - Batch tokenization complete\n",
      "2024-10-30 17:31:56,194 - searcharray.indexing - INFO - (main thread) Processing 1 batch results\n",
      "2024-10-30 17:31:56,194 - searcharray.indexing - INFO - Indexing from tokenization complete\n",
      "2024-10-30 17:31:56,202 - searcharray.indexing - INFO - Indexing begins w/ 4 workers\n",
      "2024-10-30 17:31:56,203 - searcharray.indexing - INFO - 0 Batch Start tokenization\n",
      "2024-10-30 17:31:56,203 - searcharray.indexing - INFO - Tokenizing 10 documents\n",
      "2024-10-30 17:31:56,203 - searcharray.indexing - INFO - Tokenization -- vstacking\n",
      "2024-10-30 17:31:56,204 - searcharray.indexing - INFO - Tokenization -- DONE\n",
      "2024-10-30 17:31:56,204 - searcharray.indexing - INFO - Inverting docs->terms\n",
      "2024-10-30 17:31:56,204 - searcharray.indexing - INFO - Encoding positions to bit array\n",
      "2024-10-30 17:31:56,205 - searcharray.indexing - INFO - Batch tokenization complete\n",
      "2024-10-30 17:31:56,205 - searcharray.indexing - INFO - (main thread) Processing 1 batch results\n",
      "2024-10-30 17:31:56,205 - searcharray.indexing - INFO - Indexing from tokenization complete\n",
      "2024-10-30 17:31:56,213 - searcharray.indexing - INFO - Indexing begins w/ 4 workers\n",
      "2024-10-30 17:31:56,213 - searcharray.indexing - INFO - 0 Batch Start tokenization\n",
      "2024-10-30 17:31:56,213 - searcharray.indexing - INFO - Tokenizing 10 documents\n",
      "2024-10-30 17:31:56,214 - searcharray.indexing - INFO - Tokenization -- vstacking\n",
      "2024-10-30 17:31:56,214 - searcharray.indexing - INFO - Tokenization -- DONE\n",
      "2024-10-30 17:31:56,215 - searcharray.indexing - INFO - Inverting docs->terms\n",
      "2024-10-30 17:31:56,215 - searcharray.indexing - INFO - Encoding positions to bit array\n",
      "2024-10-30 17:31:56,215 - searcharray.indexing - INFO - Batch tokenization complete\n",
      "2024-10-30 17:31:56,216 - searcharray.indexing - INFO - (main thread) Processing 1 batch results\n",
      "2024-10-30 17:31:56,216 - searcharray.indexing - INFO - Indexing from tokenization complete\n",
      "2024-10-30 17:31:56,223 - searcharray.indexing - INFO - Indexing begins w/ 4 workers\n",
      "2024-10-30 17:31:56,223 - searcharray.indexing - INFO - 0 Batch Start tokenization\n",
      "2024-10-30 17:31:56,224 - searcharray.indexing - INFO - Tokenizing 10 documents\n",
      "2024-10-30 17:31:56,224 - searcharray.indexing - INFO - Tokenization -- vstacking\n",
      "2024-10-30 17:31:56,224 - searcharray.indexing - INFO - Tokenization -- DONE\n",
      "2024-10-30 17:31:56,225 - searcharray.indexing - INFO - Inverting docs->terms\n",
      "2024-10-30 17:31:56,225 - searcharray.indexing - INFO - Encoding positions to bit array\n",
      "2024-10-30 17:31:56,225 - searcharray.indexing - INFO - Batch tokenization complete\n",
      "2024-10-30 17:31:56,226 - searcharray.indexing - INFO - (main thread) Processing 1 batch results\n",
      "2024-10-30 17:31:56,226 - searcharray.indexing - INFO - Indexing from tokenization complete\n",
      "2024-10-30 17:31:56,234 - searcharray.indexing - INFO - Indexing begins w/ 4 workers\n",
      "2024-10-30 17:31:56,235 - searcharray.indexing - INFO - 0 Batch Start tokenization\n",
      "2024-10-30 17:31:56,235 - searcharray.indexing - INFO - Tokenizing 10 documents\n",
      "2024-10-30 17:31:56,236 - searcharray.indexing - INFO - Tokenization -- vstacking\n",
      "2024-10-30 17:31:56,236 - searcharray.indexing - INFO - Tokenization -- DONE\n",
      "2024-10-30 17:31:56,236 - searcharray.indexing - INFO - Inverting docs->terms\n",
      "2024-10-30 17:31:56,237 - searcharray.indexing - INFO - Encoding positions to bit array\n",
      "2024-10-30 17:31:56,237 - searcharray.indexing - INFO - Batch tokenization complete\n",
      "2024-10-30 17:31:56,237 - searcharray.indexing - INFO - (main thread) Processing 1 batch results\n",
      "2024-10-30 17:31:56,238 - searcharray.indexing - INFO - Indexing from tokenization complete\n",
      "2024-10-30 17:31:56,244 - searcharray.indexing - INFO - Indexing begins w/ 4 workers\n",
      "2024-10-30 17:31:56,245 - searcharray.indexing - INFO - 0 Batch Start tokenization\n",
      "2024-10-30 17:31:56,245 - searcharray.indexing - INFO - Tokenizing 10 documents\n",
      "2024-10-30 17:31:56,246 - searcharray.indexing - INFO - Tokenization -- vstacking\n",
      "2024-10-30 17:31:56,246 - searcharray.indexing - INFO - Tokenization -- DONE\n",
      "2024-10-30 17:31:56,246 - searcharray.indexing - INFO - Inverting docs->terms\n",
      "2024-10-30 17:31:56,247 - searcharray.indexing - INFO - Encoding positions to bit array\n",
      "2024-10-30 17:31:56,247 - searcharray.indexing - INFO - Batch tokenization complete\n",
      "2024-10-30 17:31:56,247 - searcharray.indexing - INFO - (main thread) Processing 1 batch results\n",
      "2024-10-30 17:31:56,248 - searcharray.indexing - INFO - Indexing from tokenization complete\n",
      "2024-10-30 17:31:56,261 - searcharray.indexing - INFO - Indexing begins w/ 4 workers\n",
      "2024-10-30 17:31:56,261 - searcharray.indexing - INFO - 0 Batch Start tokenization\n",
      "2024-10-30 17:31:56,262 - searcharray.indexing - INFO - Tokenizing 10 documents\n",
      "2024-10-30 17:31:56,262 - searcharray.indexing - INFO - Tokenization -- vstacking\n",
      "2024-10-30 17:31:56,262 - searcharray.indexing - INFO - Tokenization -- DONE\n",
      "2024-10-30 17:31:56,262 - searcharray.indexing - INFO - Inverting docs->terms\n",
      "2024-10-30 17:31:56,263 - searcharray.indexing - INFO - Encoding positions to bit array\n",
      "2024-10-30 17:31:56,263 - searcharray.indexing - INFO - Batch tokenization complete\n",
      "2024-10-30 17:31:56,264 - searcharray.indexing - INFO - (main thread) Processing 1 batch results\n",
      "2024-10-30 17:31:56,264 - searcharray.indexing - INFO - Indexing from tokenization complete\n",
      "2024-10-30 17:31:56,271 - searcharray.indexing - INFO - Indexing begins w/ 4 workers\n",
      "2024-10-30 17:31:56,272 - searcharray.indexing - INFO - 0 Batch Start tokenization\n",
      "2024-10-30 17:31:56,272 - searcharray.indexing - INFO - Tokenizing 6 documents\n",
      "2024-10-30 17:31:56,272 - searcharray.indexing - INFO - Tokenization -- vstacking\n",
      "2024-10-30 17:31:56,273 - searcharray.indexing - INFO - Tokenization -- DONE\n",
      "2024-10-30 17:31:56,273 - searcharray.indexing - INFO - Inverting docs->terms\n",
      "2024-10-30 17:31:56,273 - searcharray.indexing - INFO - Encoding positions to bit array\n",
      "2024-10-30 17:31:56,273 - searcharray.indexing - INFO - Batch tokenization complete\n",
      "2024-10-30 17:31:56,274 - searcharray.indexing - INFO - (main thread) Processing 1 batch results\n",
      "2024-10-30 17:31:56,274 - searcharray.indexing - INFO - Indexing from tokenization complete\n",
      "2024-10-30 17:31:56,280 - searcharray.indexing - INFO - Indexing begins w/ 4 workers\n",
      "2024-10-30 17:31:56,280 - searcharray.indexing - INFO - 0 Batch Start tokenization\n",
      "2024-10-30 17:31:56,281 - searcharray.indexing - INFO - Tokenizing 3 documents\n",
      "2024-10-30 17:31:56,281 - searcharray.indexing - INFO - Tokenization -- vstacking\n",
      "2024-10-30 17:31:56,281 - searcharray.indexing - INFO - Tokenization -- DONE\n",
      "2024-10-30 17:31:56,282 - searcharray.indexing - INFO - Inverting docs->terms\n",
      "2024-10-30 17:31:56,282 - searcharray.indexing - INFO - Encoding positions to bit array\n",
      "2024-10-30 17:31:56,282 - searcharray.indexing - INFO - Batch tokenization complete\n",
      "2024-10-30 17:31:56,282 - searcharray.indexing - INFO - (main thread) Processing 1 batch results\n",
      "2024-10-30 17:31:56,283 - searcharray.indexing - INFO - Indexing from tokenization complete\n",
      "2024-10-30 17:31:56,295 - searcharray.indexing - INFO - Indexing begins w/ 4 workers\n",
      "2024-10-30 17:31:56,296 - searcharray.indexing - INFO - 0 Batch Start tokenization\n",
      "2024-10-30 17:31:56,296 - searcharray.indexing - INFO - Tokenizing 10 documents\n",
      "2024-10-30 17:31:56,297 - searcharray.indexing - INFO - Tokenization -- vstacking\n",
      "2024-10-30 17:31:56,297 - searcharray.indexing - INFO - Tokenization -- DONE\n",
      "2024-10-30 17:31:56,297 - searcharray.indexing - INFO - Inverting docs->terms\n",
      "2024-10-30 17:31:56,298 - searcharray.indexing - INFO - Encoding positions to bit array\n",
      "2024-10-30 17:31:56,298 - searcharray.indexing - INFO - Batch tokenization complete\n",
      "2024-10-30 17:31:56,298 - searcharray.indexing - INFO - (main thread) Processing 1 batch results\n",
      "2024-10-30 17:31:56,299 - searcharray.indexing - INFO - Indexing from tokenization complete\n",
      "2024-10-30 17:31:56,311 - searcharray.indexing - INFO - Indexing begins w/ 4 workers\n",
      "2024-10-30 17:31:56,311 - searcharray.indexing - INFO - 0 Batch Start tokenization\n",
      "2024-10-30 17:31:56,312 - searcharray.indexing - INFO - Tokenizing 10 documents\n",
      "2024-10-30 17:31:56,312 - searcharray.indexing - INFO - Tokenization -- vstacking\n",
      "2024-10-30 17:31:56,312 - searcharray.indexing - INFO - Tokenization -- DONE\n",
      "2024-10-30 17:31:56,313 - searcharray.indexing - INFO - Inverting docs->terms\n",
      "2024-10-30 17:31:56,313 - searcharray.indexing - INFO - Encoding positions to bit array\n",
      "2024-10-30 17:31:56,313 - searcharray.indexing - INFO - Batch tokenization complete\n",
      "2024-10-30 17:31:56,314 - searcharray.indexing - INFO - (main thread) Processing 1 batch results\n",
      "2024-10-30 17:31:56,314 - searcharray.indexing - INFO - Indexing from tokenization complete\n",
      "2024-10-30 17:31:56,322 - searcharray.indexing - INFO - Indexing begins w/ 4 workers\n",
      "2024-10-30 17:31:56,323 - searcharray.indexing - INFO - 0 Batch Start tokenization\n",
      "2024-10-30 17:31:56,323 - searcharray.indexing - INFO - Tokenizing 10 documents\n",
      "2024-10-30 17:31:56,324 - searcharray.indexing - INFO - Tokenization -- vstacking\n",
      "2024-10-30 17:31:56,324 - searcharray.indexing - INFO - Tokenization -- DONE\n",
      "2024-10-30 17:31:56,324 - searcharray.indexing - INFO - Inverting docs->terms\n",
      "2024-10-30 17:31:56,324 - searcharray.indexing - INFO - Encoding positions to bit array\n",
      "2024-10-30 17:31:56,325 - searcharray.indexing - INFO - Batch tokenization complete\n",
      "2024-10-30 17:31:56,325 - searcharray.indexing - INFO - (main thread) Processing 1 batch results\n",
      "2024-10-30 17:31:56,325 - searcharray.indexing - INFO - Indexing from tokenization complete\n",
      "2024-10-30 17:31:56,332 - searcharray.indexing - INFO - Indexing begins w/ 4 workers\n",
      "2024-10-30 17:31:56,332 - searcharray.indexing - INFO - 0 Batch Start tokenization\n",
      "2024-10-30 17:31:56,332 - searcharray.indexing - INFO - Tokenizing 10 documents\n",
      "2024-10-30 17:31:56,333 - searcharray.indexing - INFO - Tokenization -- vstacking\n",
      "2024-10-30 17:31:56,333 - searcharray.indexing - INFO - Tokenization -- DONE\n",
      "2024-10-30 17:31:56,333 - searcharray.indexing - INFO - Inverting docs->terms\n",
      "2024-10-30 17:31:56,334 - searcharray.indexing - INFO - Encoding positions to bit array\n",
      "2024-10-30 17:31:56,334 - searcharray.indexing - INFO - Batch tokenization complete\n",
      "2024-10-30 17:31:56,334 - searcharray.indexing - INFO - (main thread) Processing 1 batch results\n",
      "2024-10-30 17:31:56,335 - searcharray.indexing - INFO - Indexing from tokenization complete\n",
      "2024-10-30 17:31:56,341 - searcharray.indexing - INFO - Indexing begins w/ 4 workers\n",
      "2024-10-30 17:31:56,341 - searcharray.indexing - INFO - 0 Batch Start tokenization\n",
      "2024-10-30 17:31:56,342 - searcharray.indexing - INFO - Tokenizing 10 documents\n",
      "2024-10-30 17:31:56,342 - searcharray.indexing - INFO - Tokenization -- vstacking\n",
      "2024-10-30 17:31:56,343 - searcharray.indexing - INFO - Tokenization -- DONE\n",
      "2024-10-30 17:31:56,343 - searcharray.indexing - INFO - Inverting docs->terms\n",
      "2024-10-30 17:31:56,343 - searcharray.indexing - INFO - Encoding positions to bit array\n",
      "2024-10-30 17:31:56,344 - searcharray.indexing - INFO - Batch tokenization complete\n",
      "2024-10-30 17:31:56,344 - searcharray.indexing - INFO - (main thread) Processing 1 batch results\n",
      "2024-10-30 17:31:56,345 - searcharray.indexing - INFO - Indexing from tokenization complete\n",
      "2024-10-30 17:31:56,353 - searcharray.indexing - INFO - Indexing begins w/ 4 workers\n",
      "2024-10-30 17:31:56,353 - searcharray.indexing - INFO - 0 Batch Start tokenization\n",
      "2024-10-30 17:31:56,354 - searcharray.indexing - INFO - Tokenizing 10 documents\n",
      "2024-10-30 17:31:56,354 - searcharray.indexing - INFO - Tokenization -- vstacking\n",
      "2024-10-30 17:31:56,354 - searcharray.indexing - INFO - Tokenization -- DONE\n",
      "2024-10-30 17:31:56,354 - searcharray.indexing - INFO - Inverting docs->terms\n",
      "2024-10-30 17:31:56,355 - searcharray.indexing - INFO - Encoding positions to bit array\n",
      "2024-10-30 17:31:56,355 - searcharray.indexing - INFO - Batch tokenization complete\n",
      "2024-10-30 17:31:56,355 - searcharray.indexing - INFO - (main thread) Processing 1 batch results\n",
      "2024-10-30 17:31:56,356 - searcharray.indexing - INFO - Indexing from tokenization complete\n",
      "2024-10-30 17:31:56,370 - searcharray.indexing - INFO - Indexing begins w/ 4 workers\n",
      "2024-10-30 17:31:56,371 - searcharray.indexing - INFO - 0 Batch Start tokenization\n",
      "2024-10-30 17:31:56,371 - searcharray.indexing - INFO - Tokenizing 6 documents\n",
      "2024-10-30 17:31:56,372 - searcharray.indexing - INFO - Tokenization -- vstacking\n",
      "2024-10-30 17:31:56,372 - searcharray.indexing - INFO - Tokenization -- DONE\n",
      "2024-10-30 17:31:56,372 - searcharray.indexing - INFO - Inverting docs->terms\n",
      "2024-10-30 17:31:56,373 - searcharray.indexing - INFO - Encoding positions to bit array\n",
      "2024-10-30 17:31:56,373 - searcharray.indexing - INFO - Batch tokenization complete\n",
      "2024-10-30 17:31:56,373 - searcharray.indexing - INFO - (main thread) Processing 1 batch results\n",
      "2024-10-30 17:31:56,374 - searcharray.indexing - INFO - Indexing from tokenization complete\n",
      "2024-10-30 17:31:56,382 - searcharray.indexing - INFO - Indexing begins w/ 4 workers\n",
      "2024-10-30 17:31:56,383 - searcharray.indexing - INFO - 0 Batch Start tokenization\n",
      "2024-10-30 17:31:56,383 - searcharray.indexing - INFO - Tokenizing 10 documents\n",
      "2024-10-30 17:31:56,383 - searcharray.indexing - INFO - Tokenization -- vstacking\n",
      "2024-10-30 17:31:56,384 - searcharray.indexing - INFO - Tokenization -- DONE\n",
      "2024-10-30 17:31:56,384 - searcharray.indexing - INFO - Inverting docs->terms\n",
      "2024-10-30 17:31:56,384 - searcharray.indexing - INFO - Encoding positions to bit array\n",
      "2024-10-30 17:31:56,385 - searcharray.indexing - INFO - Batch tokenization complete\n",
      "2024-10-30 17:31:56,385 - searcharray.indexing - INFO - (main thread) Processing 1 batch results\n",
      "2024-10-30 17:31:56,385 - searcharray.indexing - INFO - Indexing from tokenization complete\n",
      "2024-10-30 17:31:56,392 - searcharray.indexing - INFO - Indexing begins w/ 4 workers\n",
      "2024-10-30 17:31:56,393 - searcharray.indexing - INFO - 0 Batch Start tokenization\n",
      "2024-10-30 17:31:56,393 - searcharray.indexing - INFO - Tokenizing 10 documents\n",
      "2024-10-30 17:31:56,393 - searcharray.indexing - INFO - Tokenization -- vstacking\n",
      "2024-10-30 17:31:56,394 - searcharray.indexing - INFO - Tokenization -- DONE\n",
      "2024-10-30 17:31:56,394 - searcharray.indexing - INFO - Inverting docs->terms\n",
      "2024-10-30 17:31:56,394 - searcharray.indexing - INFO - Encoding positions to bit array\n",
      "2024-10-30 17:31:56,395 - searcharray.indexing - INFO - Batch tokenization complete\n",
      "2024-10-30 17:31:56,395 - searcharray.indexing - INFO - (main thread) Processing 1 batch results\n",
      "2024-10-30 17:31:56,395 - searcharray.indexing - INFO - Indexing from tokenization complete\n",
      "2024-10-30 17:31:56,403 - searcharray.indexing - INFO - Indexing begins w/ 4 workers\n",
      "2024-10-30 17:31:56,403 - searcharray.indexing - INFO - 0 Batch Start tokenization\n",
      "2024-10-30 17:31:56,404 - searcharray.indexing - INFO - Tokenizing 10 documents\n",
      "2024-10-30 17:31:56,404 - searcharray.indexing - INFO - Tokenization -- vstacking\n",
      "2024-10-30 17:31:56,405 - searcharray.indexing - INFO - Tokenization -- DONE\n",
      "2024-10-30 17:31:56,405 - searcharray.indexing - INFO - Inverting docs->terms\n",
      "2024-10-30 17:31:56,405 - searcharray.indexing - INFO - Encoding positions to bit array\n",
      "2024-10-30 17:31:56,406 - searcharray.indexing - INFO - Batch tokenization complete\n",
      "2024-10-30 17:31:56,406 - searcharray.indexing - INFO - (main thread) Processing 1 batch results\n",
      "2024-10-30 17:31:56,406 - searcharray.indexing - INFO - Indexing from tokenization complete\n",
      "2024-10-30 17:31:56,415 - searcharray.indexing - INFO - Indexing begins w/ 4 workers\n",
      "2024-10-30 17:31:56,415 - searcharray.indexing - INFO - 0 Batch Start tokenization\n",
      "2024-10-30 17:31:56,416 - searcharray.indexing - INFO - Tokenizing 10 documents\n",
      "2024-10-30 17:31:56,416 - searcharray.indexing - INFO - Tokenization -- vstacking\n",
      "2024-10-30 17:31:56,417 - searcharray.indexing - INFO - Tokenization -- DONE\n",
      "2024-10-30 17:31:56,417 - searcharray.indexing - INFO - Inverting docs->terms\n",
      "2024-10-30 17:31:56,417 - searcharray.indexing - INFO - Encoding positions to bit array\n",
      "2024-10-30 17:31:56,418 - searcharray.indexing - INFO - Batch tokenization complete\n",
      "2024-10-30 17:31:56,418 - searcharray.indexing - INFO - (main thread) Processing 1 batch results\n",
      "2024-10-30 17:31:56,419 - searcharray.indexing - INFO - Indexing from tokenization complete\n",
      "2024-10-30 17:31:56,427 - searcharray.indexing - INFO - Indexing begins w/ 4 workers\n",
      "2024-10-30 17:31:56,427 - searcharray.indexing - INFO - 0 Batch Start tokenization\n",
      "2024-10-30 17:31:56,428 - searcharray.indexing - INFO - Tokenizing 10 documents\n",
      "2024-10-30 17:31:56,428 - searcharray.indexing - INFO - Tokenization -- vstacking\n",
      "2024-10-30 17:31:56,428 - searcharray.indexing - INFO - Tokenization -- DONE\n",
      "2024-10-30 17:31:56,429 - searcharray.indexing - INFO - Inverting docs->terms\n",
      "2024-10-30 17:31:56,429 - searcharray.indexing - INFO - Encoding positions to bit array\n",
      "2024-10-30 17:31:56,429 - searcharray.indexing - INFO - Batch tokenization complete\n",
      "2024-10-30 17:31:56,429 - searcharray.indexing - INFO - (main thread) Processing 1 batch results\n",
      "2024-10-30 17:31:56,430 - searcharray.indexing - INFO - Indexing from tokenization complete\n",
      "2024-10-30 17:31:56,437 - searcharray.indexing - INFO - Indexing begins w/ 4 workers\n",
      "2024-10-30 17:31:56,438 - searcharray.indexing - INFO - 0 Batch Start tokenization\n",
      "2024-10-30 17:31:56,439 - searcharray.indexing - INFO - Tokenizing 10 documents\n",
      "2024-10-30 17:31:56,439 - searcharray.indexing - INFO - Tokenization -- vstacking\n",
      "2024-10-30 17:31:56,439 - searcharray.indexing - INFO - Tokenization -- DONE\n",
      "2024-10-30 17:31:56,440 - searcharray.indexing - INFO - Inverting docs->terms\n",
      "2024-10-30 17:31:56,440 - searcharray.indexing - INFO - Encoding positions to bit array\n",
      "2024-10-30 17:31:56,440 - searcharray.indexing - INFO - Batch tokenization complete\n",
      "2024-10-30 17:31:56,440 - searcharray.indexing - INFO - (main thread) Processing 1 batch results\n",
      "2024-10-30 17:31:56,441 - searcharray.indexing - INFO - Indexing from tokenization complete\n",
      "2024-10-30 17:31:56,451 - searcharray.indexing - INFO - Indexing begins w/ 4 workers\n",
      "2024-10-30 17:31:56,451 - searcharray.indexing - INFO - 0 Batch Start tokenization\n",
      "2024-10-30 17:31:56,452 - searcharray.indexing - INFO - Tokenizing 10 documents\n",
      "2024-10-30 17:31:56,452 - searcharray.indexing - INFO - Tokenization -- vstacking\n",
      "2024-10-30 17:31:56,452 - searcharray.indexing - INFO - Tokenization -- DONE\n",
      "2024-10-30 17:31:56,453 - searcharray.indexing - INFO - Inverting docs->terms\n",
      "2024-10-30 17:31:56,453 - searcharray.indexing - INFO - Encoding positions to bit array\n",
      "2024-10-30 17:31:56,454 - searcharray.indexing - INFO - Batch tokenization complete\n",
      "2024-10-30 17:31:56,454 - searcharray.indexing - INFO - (main thread) Processing 1 batch results\n",
      "2024-10-30 17:31:56,455 - searcharray.indexing - INFO - Indexing from tokenization complete\n",
      "2024-10-30 17:31:56,468 - searcharray.indexing - INFO - Indexing begins w/ 4 workers\n",
      "2024-10-30 17:31:56,468 - searcharray.indexing - INFO - 0 Batch Start tokenization\n",
      "2024-10-30 17:31:56,469 - searcharray.indexing - INFO - Tokenizing 10 documents\n",
      "2024-10-30 17:31:56,469 - searcharray.indexing - INFO - Tokenization -- vstacking\n",
      "2024-10-30 17:31:56,469 - searcharray.indexing - INFO - Tokenization -- DONE\n",
      "2024-10-30 17:31:56,469 - searcharray.indexing - INFO - Inverting docs->terms\n",
      "2024-10-30 17:31:56,470 - searcharray.indexing - INFO - Encoding positions to bit array\n",
      "2024-10-30 17:31:56,470 - searcharray.indexing - INFO - Batch tokenization complete\n",
      "2024-10-30 17:31:56,470 - searcharray.indexing - INFO - (main thread) Processing 1 batch results\n",
      "2024-10-30 17:31:56,470 - searcharray.indexing - INFO - Indexing from tokenization complete\n",
      "2024-10-30 17:31:56,483 - searcharray.indexing - INFO - Indexing begins w/ 4 workers\n",
      "2024-10-30 17:31:56,483 - searcharray.indexing - INFO - 0 Batch Start tokenization\n",
      "2024-10-30 17:31:56,484 - searcharray.indexing - INFO - Tokenizing 3 documents\n",
      "2024-10-30 17:31:56,484 - searcharray.indexing - INFO - Tokenization -- vstacking\n",
      "2024-10-30 17:31:56,485 - searcharray.indexing - INFO - Tokenization -- DONE\n",
      "2024-10-30 17:31:56,485 - searcharray.indexing - INFO - Inverting docs->terms\n",
      "2024-10-30 17:31:56,485 - searcharray.indexing - INFO - Encoding positions to bit array\n",
      "2024-10-30 17:31:56,485 - searcharray.indexing - INFO - Batch tokenization complete\n",
      "2024-10-30 17:31:56,486 - searcharray.indexing - INFO - (main thread) Processing 1 batch results\n",
      "2024-10-30 17:31:56,486 - searcharray.indexing - INFO - Indexing from tokenization complete\n",
      "2024-10-30 17:31:56,497 - searcharray.indexing - INFO - Indexing begins w/ 4 workers\n",
      "2024-10-30 17:31:56,497 - searcharray.indexing - INFO - 0 Batch Start tokenization\n",
      "2024-10-30 17:31:56,498 - searcharray.indexing - INFO - Tokenizing 1 documents\n",
      "2024-10-30 17:31:56,498 - searcharray.indexing - INFO - Tokenization -- vstacking\n",
      "2024-10-30 17:31:56,498 - searcharray.indexing - INFO - Tokenization -- DONE\n",
      "2024-10-30 17:31:56,499 - searcharray.indexing - INFO - Inverting docs->terms\n",
      "2024-10-30 17:31:56,499 - searcharray.indexing - INFO - Encoding positions to bit array\n",
      "2024-10-30 17:31:56,499 - searcharray.indexing - INFO - Batch tokenization complete\n",
      "2024-10-30 17:31:56,500 - searcharray.indexing - INFO - (main thread) Processing 1 batch results\n",
      "2024-10-30 17:31:56,500 - searcharray.indexing - INFO - Indexing from tokenization complete\n",
      "2024-10-30 17:31:56,507 - searcharray.indexing - INFO - Indexing begins w/ 4 workers\n",
      "2024-10-30 17:31:56,508 - searcharray.indexing - INFO - 0 Batch Start tokenization\n",
      "2024-10-30 17:31:56,508 - searcharray.indexing - INFO - Tokenizing 10 documents\n",
      "2024-10-30 17:31:56,509 - searcharray.indexing - INFO - Tokenization -- vstacking\n",
      "2024-10-30 17:31:56,509 - searcharray.indexing - INFO - Tokenization -- DONE\n",
      "2024-10-30 17:31:56,509 - searcharray.indexing - INFO - Inverting docs->terms\n",
      "2024-10-30 17:31:56,510 - searcharray.indexing - INFO - Encoding positions to bit array\n",
      "2024-10-30 17:31:56,510 - searcharray.indexing - INFO - Batch tokenization complete\n",
      "2024-10-30 17:31:56,510 - searcharray.indexing - INFO - (main thread) Processing 1 batch results\n",
      "2024-10-30 17:31:56,511 - searcharray.indexing - INFO - Indexing from tokenization complete\n",
      "2024-10-30 17:31:56,517 - searcharray.indexing - INFO - Indexing begins w/ 4 workers\n",
      "2024-10-30 17:31:56,518 - searcharray.indexing - INFO - 0 Batch Start tokenization\n",
      "2024-10-30 17:31:56,518 - searcharray.indexing - INFO - Tokenizing 10 documents\n",
      "2024-10-30 17:31:56,519 - searcharray.indexing - INFO - Tokenization -- vstacking\n",
      "2024-10-30 17:31:56,519 - searcharray.indexing - INFO - Tokenization -- DONE\n",
      "2024-10-30 17:31:56,519 - searcharray.indexing - INFO - Inverting docs->terms\n",
      "2024-10-30 17:31:56,519 - searcharray.indexing - INFO - Encoding positions to bit array\n",
      "2024-10-30 17:31:56,520 - searcharray.indexing - INFO - Batch tokenization complete\n",
      "2024-10-30 17:31:56,520 - searcharray.indexing - INFO - (main thread) Processing 1 batch results\n",
      "2024-10-30 17:31:56,520 - searcharray.indexing - INFO - Indexing from tokenization complete\n",
      "2024-10-30 17:31:56,531 - searcharray.indexing - INFO - Indexing begins w/ 4 workers\n",
      "2024-10-30 17:31:56,532 - searcharray.indexing - INFO - 0 Batch Start tokenization\n",
      "2024-10-30 17:31:56,532 - searcharray.indexing - INFO - Tokenizing 10 documents\n",
      "2024-10-30 17:31:56,532 - searcharray.indexing - INFO - Tokenization -- vstacking\n",
      "2024-10-30 17:31:56,533 - searcharray.indexing - INFO - Tokenization -- DONE\n",
      "2024-10-30 17:31:56,533 - searcharray.indexing - INFO - Inverting docs->terms\n",
      "2024-10-30 17:31:56,533 - searcharray.indexing - INFO - Encoding positions to bit array\n",
      "2024-10-30 17:31:56,534 - searcharray.indexing - INFO - Batch tokenization complete\n",
      "2024-10-30 17:31:56,534 - searcharray.indexing - INFO - (main thread) Processing 1 batch results\n",
      "2024-10-30 17:31:56,534 - searcharray.indexing - INFO - Indexing from tokenization complete\n",
      "2024-10-30 17:31:56,541 - searcharray.indexing - INFO - Indexing begins w/ 4 workers\n",
      "2024-10-30 17:31:56,542 - searcharray.indexing - INFO - 0 Batch Start tokenization\n",
      "2024-10-30 17:31:56,542 - searcharray.indexing - INFO - Tokenizing 10 documents\n",
      "2024-10-30 17:31:56,543 - searcharray.indexing - INFO - Tokenization -- vstacking\n",
      "2024-10-30 17:31:56,543 - searcharray.indexing - INFO - Tokenization -- DONE\n",
      "2024-10-30 17:31:56,543 - searcharray.indexing - INFO - Inverting docs->terms\n",
      "2024-10-30 17:31:56,543 - searcharray.indexing - INFO - Encoding positions to bit array\n",
      "2024-10-30 17:31:56,544 - searcharray.indexing - INFO - Batch tokenization complete\n",
      "2024-10-30 17:31:56,544 - searcharray.indexing - INFO - (main thread) Processing 1 batch results\n",
      "2024-10-30 17:31:56,545 - searcharray.indexing - INFO - Indexing from tokenization complete\n",
      "2024-10-30 17:31:56,555 - searcharray.indexing - INFO - Indexing begins w/ 4 workers\n",
      "2024-10-30 17:31:56,555 - searcharray.indexing - INFO - 0 Batch Start tokenization\n",
      "2024-10-30 17:31:56,556 - searcharray.indexing - INFO - Tokenizing 10 documents\n",
      "2024-10-30 17:31:56,556 - searcharray.indexing - INFO - Tokenization -- vstacking\n",
      "2024-10-30 17:31:56,557 - searcharray.indexing - INFO - Tokenization -- DONE\n",
      "2024-10-30 17:31:56,557 - searcharray.indexing - INFO - Inverting docs->terms\n",
      "2024-10-30 17:31:56,557 - searcharray.indexing - INFO - Encoding positions to bit array\n",
      "2024-10-30 17:31:56,557 - searcharray.indexing - INFO - Batch tokenization complete\n",
      "2024-10-30 17:31:56,558 - searcharray.indexing - INFO - (main thread) Processing 1 batch results\n",
      "2024-10-30 17:31:56,558 - searcharray.indexing - INFO - Indexing from tokenization complete\n",
      "2024-10-30 17:31:56,576 - searcharray.indexing - INFO - Indexing begins w/ 4 workers\n",
      "2024-10-30 17:31:56,576 - searcharray.indexing - INFO - 0 Batch Start tokenization\n",
      "2024-10-30 17:31:56,577 - searcharray.indexing - INFO - Tokenizing 10 documents\n",
      "2024-10-30 17:31:56,577 - searcharray.indexing - INFO - Tokenization -- vstacking\n",
      "2024-10-30 17:31:56,577 - searcharray.indexing - INFO - Tokenization -- DONE\n",
      "2024-10-30 17:31:56,578 - searcharray.indexing - INFO - Inverting docs->terms\n",
      "2024-10-30 17:31:56,578 - searcharray.indexing - INFO - Encoding positions to bit array\n",
      "2024-10-30 17:31:56,579 - searcharray.indexing - INFO - Batch tokenization complete\n",
      "2024-10-30 17:31:56,579 - searcharray.indexing - INFO - (main thread) Processing 1 batch results\n",
      "2024-10-30 17:31:56,579 - searcharray.indexing - INFO - Indexing from tokenization complete\n",
      "2024-10-30 17:31:56,587 - searcharray.indexing - INFO - Indexing begins w/ 4 workers\n",
      "2024-10-30 17:31:56,587 - searcharray.indexing - INFO - 0 Batch Start tokenization\n",
      "2024-10-30 17:31:56,588 - searcharray.indexing - INFO - Tokenizing 10 documents\n",
      "2024-10-30 17:31:56,588 - searcharray.indexing - INFO - Tokenization -- vstacking\n",
      "2024-10-30 17:31:56,588 - searcharray.indexing - INFO - Tokenization -- DONE\n",
      "2024-10-30 17:31:56,588 - searcharray.indexing - INFO - Inverting docs->terms\n",
      "2024-10-30 17:31:56,589 - searcharray.indexing - INFO - Encoding positions to bit array\n",
      "2024-10-30 17:31:56,589 - searcharray.indexing - INFO - Batch tokenization complete\n",
      "2024-10-30 17:31:56,590 - searcharray.indexing - INFO - (main thread) Processing 1 batch results\n",
      "2024-10-30 17:31:56,590 - searcharray.indexing - INFO - Indexing from tokenization complete\n",
      "2024-10-30 17:31:56,598 - searcharray.indexing - INFO - Indexing begins w/ 4 workers\n",
      "2024-10-30 17:31:56,599 - searcharray.indexing - INFO - 0 Batch Start tokenization\n",
      "2024-10-30 17:31:56,599 - searcharray.indexing - INFO - Tokenizing 8 documents\n",
      "2024-10-30 17:31:56,600 - searcharray.indexing - INFO - Tokenization -- vstacking\n",
      "2024-10-30 17:31:56,600 - searcharray.indexing - INFO - Tokenization -- DONE\n",
      "2024-10-30 17:31:56,600 - searcharray.indexing - INFO - Inverting docs->terms\n",
      "2024-10-30 17:31:56,600 - searcharray.indexing - INFO - Encoding positions to bit array\n",
      "2024-10-30 17:31:56,601 - searcharray.indexing - INFO - Batch tokenization complete\n",
      "2024-10-30 17:31:56,601 - searcharray.indexing - INFO - (main thread) Processing 1 batch results\n",
      "2024-10-30 17:31:56,601 - searcharray.indexing - INFO - Indexing from tokenization complete\n",
      "2024-10-30 17:31:56,611 - searcharray.indexing - INFO - Indexing begins w/ 4 workers\n",
      "2024-10-30 17:31:56,612 - searcharray.indexing - INFO - 0 Batch Start tokenization\n",
      "2024-10-30 17:31:56,612 - searcharray.indexing - INFO - Tokenizing 3 documents\n",
      "2024-10-30 17:31:56,613 - searcharray.indexing - INFO - Tokenization -- vstacking\n",
      "2024-10-30 17:31:56,613 - searcharray.indexing - INFO - Tokenization -- DONE\n",
      "2024-10-30 17:31:56,613 - searcharray.indexing - INFO - Inverting docs->terms\n",
      "2024-10-30 17:31:56,614 - searcharray.indexing - INFO - Encoding positions to bit array\n",
      "2024-10-30 17:31:56,614 - searcharray.indexing - INFO - Batch tokenization complete\n",
      "2024-10-30 17:31:56,614 - searcharray.indexing - INFO - (main thread) Processing 1 batch results\n",
      "2024-10-30 17:31:56,615 - searcharray.indexing - INFO - Indexing from tokenization complete\n",
      "2024-10-30 17:31:56,623 - searcharray.indexing - INFO - Indexing begins w/ 4 workers\n",
      "2024-10-30 17:31:56,624 - searcharray.indexing - INFO - 0 Batch Start tokenization\n",
      "2024-10-30 17:31:56,624 - searcharray.indexing - INFO - Tokenizing 10 documents\n",
      "2024-10-30 17:31:56,625 - searcharray.indexing - INFO - Tokenization -- vstacking\n",
      "2024-10-30 17:31:56,625 - searcharray.indexing - INFO - Tokenization -- DONE\n",
      "2024-10-30 17:31:56,625 - searcharray.indexing - INFO - Inverting docs->terms\n",
      "2024-10-30 17:31:56,626 - searcharray.indexing - INFO - Encoding positions to bit array\n",
      "2024-10-30 17:31:56,626 - searcharray.indexing - INFO - Batch tokenization complete\n",
      "2024-10-30 17:31:56,627 - searcharray.indexing - INFO - (main thread) Processing 1 batch results\n",
      "2024-10-30 17:31:56,627 - searcharray.indexing - INFO - Indexing from tokenization complete\n",
      "2024-10-30 17:31:56,640 - searcharray.indexing - INFO - Indexing begins w/ 4 workers\n",
      "2024-10-30 17:31:56,641 - searcharray.indexing - INFO - 0 Batch Start tokenization\n",
      "2024-10-30 17:31:56,641 - searcharray.indexing - INFO - Tokenizing 10 documents\n",
      "2024-10-30 17:31:56,642 - searcharray.indexing - INFO - Tokenization -- vstacking\n",
      "2024-10-30 17:31:56,642 - searcharray.indexing - INFO - Tokenization -- DONE\n",
      "2024-10-30 17:31:56,642 - searcharray.indexing - INFO - Inverting docs->terms\n",
      "2024-10-30 17:31:56,642 - searcharray.indexing - INFO - Encoding positions to bit array\n",
      "2024-10-30 17:31:56,643 - searcharray.indexing - INFO - Batch tokenization complete\n",
      "2024-10-30 17:31:56,643 - searcharray.indexing - INFO - (main thread) Processing 1 batch results\n",
      "2024-10-30 17:31:56,644 - searcharray.indexing - INFO - Indexing from tokenization complete\n",
      "2024-10-30 17:31:56,652 - searcharray.indexing - INFO - Indexing begins w/ 4 workers\n",
      "2024-10-30 17:31:56,653 - searcharray.indexing - INFO - 0 Batch Start tokenization\n",
      "2024-10-30 17:31:56,653 - searcharray.indexing - INFO - Tokenizing 10 documents\n",
      "2024-10-30 17:31:56,654 - searcharray.indexing - INFO - Tokenization -- vstacking\n",
      "2024-10-30 17:31:56,654 - searcharray.indexing - INFO - Tokenization -- DONE\n",
      "2024-10-30 17:31:56,654 - searcharray.indexing - INFO - Inverting docs->terms\n",
      "2024-10-30 17:31:56,654 - searcharray.indexing - INFO - Encoding positions to bit array\n",
      "2024-10-30 17:31:56,655 - searcharray.indexing - INFO - Batch tokenization complete\n",
      "2024-10-30 17:31:56,655 - searcharray.indexing - INFO - (main thread) Processing 1 batch results\n",
      "2024-10-30 17:31:56,655 - searcharray.indexing - INFO - Indexing from tokenization complete\n",
      "2024-10-30 17:31:56,664 - searcharray.indexing - INFO - Indexing begins w/ 4 workers\n",
      "2024-10-30 17:31:56,665 - searcharray.indexing - INFO - 0 Batch Start tokenization\n",
      "2024-10-30 17:31:56,665 - searcharray.indexing - INFO - Tokenizing 10 documents\n",
      "2024-10-30 17:31:56,666 - searcharray.indexing - INFO - Tokenization -- vstacking\n",
      "2024-10-30 17:31:56,666 - searcharray.indexing - INFO - Tokenization -- DONE\n",
      "2024-10-30 17:31:56,666 - searcharray.indexing - INFO - Inverting docs->terms\n",
      "2024-10-30 17:31:56,667 - searcharray.indexing - INFO - Encoding positions to bit array\n",
      "2024-10-30 17:31:56,667 - searcharray.indexing - INFO - Batch tokenization complete\n",
      "2024-10-30 17:31:56,668 - searcharray.indexing - INFO - (main thread) Processing 1 batch results\n",
      "2024-10-30 17:31:56,668 - searcharray.indexing - INFO - Indexing from tokenization complete\n",
      "2024-10-30 17:31:56,677 - searcharray.indexing - INFO - Indexing begins w/ 4 workers\n",
      "2024-10-30 17:31:56,677 - searcharray.indexing - INFO - 0 Batch Start tokenization\n",
      "2024-10-30 17:31:56,678 - searcharray.indexing - INFO - Tokenizing 10 documents\n",
      "2024-10-30 17:31:56,678 - searcharray.indexing - INFO - Tokenization -- vstacking\n",
      "2024-10-30 17:31:56,678 - searcharray.indexing - INFO - Tokenization -- DONE\n",
      "2024-10-30 17:31:56,678 - searcharray.indexing - INFO - Inverting docs->terms\n",
      "2024-10-30 17:31:56,679 - searcharray.indexing - INFO - Encoding positions to bit array\n",
      "2024-10-30 17:31:56,679 - searcharray.indexing - INFO - Batch tokenization complete\n",
      "2024-10-30 17:31:56,679 - searcharray.indexing - INFO - (main thread) Processing 1 batch results\n",
      "2024-10-30 17:31:56,680 - searcharray.indexing - INFO - Indexing from tokenization complete\n",
      "2024-10-30 17:31:56,687 - searcharray.indexing - INFO - Indexing begins w/ 4 workers\n",
      "2024-10-30 17:31:56,687 - searcharray.indexing - INFO - 0 Batch Start tokenization\n",
      "2024-10-30 17:31:56,688 - searcharray.indexing - INFO - Tokenizing 10 documents\n",
      "2024-10-30 17:31:56,688 - searcharray.indexing - INFO - Tokenization -- vstacking\n",
      "2024-10-30 17:31:56,689 - searcharray.indexing - INFO - Tokenization -- DONE\n",
      "2024-10-30 17:31:56,689 - searcharray.indexing - INFO - Inverting docs->terms\n",
      "2024-10-30 17:31:56,689 - searcharray.indexing - INFO - Encoding positions to bit array\n",
      "2024-10-30 17:31:56,689 - searcharray.indexing - INFO - Batch tokenization complete\n",
      "2024-10-30 17:31:56,690 - searcharray.indexing - INFO - (main thread) Processing 1 batch results\n",
      "2024-10-30 17:31:56,690 - searcharray.indexing - INFO - Indexing from tokenization complete\n",
      "2024-10-30 17:31:56,699 - searcharray.indexing - INFO - Indexing begins w/ 4 workers\n",
      "2024-10-30 17:31:56,699 - searcharray.indexing - INFO - 0 Batch Start tokenization\n",
      "2024-10-30 17:31:56,699 - searcharray.indexing - INFO - Tokenizing 10 documents\n",
      "2024-10-30 17:31:56,700 - searcharray.indexing - INFO - Tokenization -- vstacking\n",
      "2024-10-30 17:31:56,700 - searcharray.indexing - INFO - Tokenization -- DONE\n",
      "2024-10-30 17:31:56,700 - searcharray.indexing - INFO - Inverting docs->terms\n",
      "2024-10-30 17:31:56,700 - searcharray.indexing - INFO - Encoding positions to bit array\n",
      "2024-10-30 17:31:56,701 - searcharray.indexing - INFO - Batch tokenization complete\n",
      "2024-10-30 17:31:56,701 - searcharray.indexing - INFO - (main thread) Processing 1 batch results\n",
      "2024-10-30 17:31:56,701 - searcharray.indexing - INFO - Indexing from tokenization complete\n",
      "2024-10-30 17:31:56,710 - searcharray.indexing - INFO - Indexing begins w/ 4 workers\n",
      "2024-10-30 17:31:56,710 - searcharray.indexing - INFO - 0 Batch Start tokenization\n",
      "2024-10-30 17:31:56,711 - searcharray.indexing - INFO - Tokenizing 10 documents\n",
      "2024-10-30 17:31:56,711 - searcharray.indexing - INFO - Tokenization -- vstacking\n",
      "2024-10-30 17:31:56,711 - searcharray.indexing - INFO - Tokenization -- DONE\n",
      "2024-10-30 17:31:56,712 - searcharray.indexing - INFO - Inverting docs->terms\n",
      "2024-10-30 17:31:56,712 - searcharray.indexing - INFO - Encoding positions to bit array\n",
      "2024-10-30 17:31:56,712 - searcharray.indexing - INFO - Batch tokenization complete\n",
      "2024-10-30 17:31:56,712 - searcharray.indexing - INFO - (main thread) Processing 1 batch results\n",
      "2024-10-30 17:31:56,713 - searcharray.indexing - INFO - Indexing from tokenization complete\n",
      "2024-10-30 17:31:56,728 - searcharray.indexing - INFO - Indexing begins w/ 4 workers\n",
      "2024-10-30 17:31:56,728 - searcharray.indexing - INFO - 0 Batch Start tokenization\n",
      "2024-10-30 17:31:56,729 - searcharray.indexing - INFO - Tokenizing 10 documents\n",
      "2024-10-30 17:31:56,729 - searcharray.indexing - INFO - Tokenization -- vstacking\n",
      "2024-10-30 17:31:56,729 - searcharray.indexing - INFO - Tokenization -- DONE\n",
      "2024-10-30 17:31:56,729 - searcharray.indexing - INFO - Inverting docs->terms\n",
      "2024-10-30 17:31:56,730 - searcharray.indexing - INFO - Encoding positions to bit array\n",
      "2024-10-30 17:31:56,730 - searcharray.indexing - INFO - Batch tokenization complete\n",
      "2024-10-30 17:31:56,730 - searcharray.indexing - INFO - (main thread) Processing 1 batch results\n",
      "2024-10-30 17:31:56,730 - searcharray.indexing - INFO - Indexing from tokenization complete\n",
      "2024-10-30 17:31:56,739 - searcharray.indexing - INFO - Indexing begins w/ 4 workers\n",
      "2024-10-30 17:31:56,739 - searcharray.indexing - INFO - 0 Batch Start tokenization\n",
      "2024-10-30 17:31:56,740 - searcharray.indexing - INFO - Tokenizing 3 documents\n",
      "2024-10-30 17:31:56,740 - searcharray.indexing - INFO - Tokenization -- vstacking\n",
      "2024-10-30 17:31:56,740 - searcharray.indexing - INFO - Tokenization -- DONE\n",
      "2024-10-30 17:31:56,741 - searcharray.indexing - INFO - Inverting docs->terms\n",
      "2024-10-30 17:31:56,741 - searcharray.indexing - INFO - Encoding positions to bit array\n",
      "2024-10-30 17:31:56,741 - searcharray.indexing - INFO - Batch tokenization complete\n",
      "2024-10-30 17:31:56,741 - searcharray.indexing - INFO - (main thread) Processing 1 batch results\n",
      "2024-10-30 17:31:56,742 - searcharray.indexing - INFO - Indexing from tokenization complete\n",
      "2024-10-30 17:31:56,749 - searcharray.indexing - INFO - Indexing begins w/ 4 workers\n",
      "2024-10-30 17:31:56,749 - searcharray.indexing - INFO - 0 Batch Start tokenization\n",
      "2024-10-30 17:31:56,750 - searcharray.indexing - INFO - Tokenizing 10 documents\n",
      "2024-10-30 17:31:56,750 - searcharray.indexing - INFO - Tokenization -- vstacking\n",
      "2024-10-30 17:31:56,750 - searcharray.indexing - INFO - Tokenization -- DONE\n",
      "2024-10-30 17:31:56,751 - searcharray.indexing - INFO - Inverting docs->terms\n",
      "2024-10-30 17:31:56,751 - searcharray.indexing - INFO - Encoding positions to bit array\n",
      "2024-10-30 17:31:56,751 - searcharray.indexing - INFO - Batch tokenization complete\n",
      "2024-10-30 17:31:56,751 - searcharray.indexing - INFO - (main thread) Processing 1 batch results\n",
      "2024-10-30 17:31:56,752 - searcharray.indexing - INFO - Indexing from tokenization complete\n",
      "2024-10-30 17:31:56,762 - searcharray.indexing - INFO - Indexing begins w/ 4 workers\n",
      "2024-10-30 17:31:56,762 - searcharray.indexing - INFO - 0 Batch Start tokenization\n",
      "2024-10-30 17:31:56,763 - searcharray.indexing - INFO - Tokenizing 10 documents\n",
      "2024-10-30 17:31:56,763 - searcharray.indexing - INFO - Tokenization -- vstacking\n",
      "2024-10-30 17:31:56,764 - searcharray.indexing - INFO - Tokenization -- DONE\n",
      "2024-10-30 17:31:56,764 - searcharray.indexing - INFO - Inverting docs->terms\n",
      "2024-10-30 17:31:56,764 - searcharray.indexing - INFO - Encoding positions to bit array\n",
      "2024-10-30 17:31:56,765 - searcharray.indexing - INFO - Batch tokenization complete\n",
      "2024-10-30 17:31:56,765 - searcharray.indexing - INFO - (main thread) Processing 1 batch results\n",
      "2024-10-30 17:31:56,765 - searcharray.indexing - INFO - Indexing from tokenization complete\n",
      "2024-10-30 17:31:56,772 - searcharray.indexing - INFO - Indexing begins w/ 4 workers\n",
      "2024-10-30 17:31:56,773 - searcharray.indexing - INFO - 0 Batch Start tokenization\n",
      "2024-10-30 17:31:56,774 - searcharray.indexing - INFO - Tokenizing 10 documents\n",
      "2024-10-30 17:31:56,774 - searcharray.indexing - INFO - Tokenization -- vstacking\n",
      "2024-10-30 17:31:56,775 - searcharray.indexing - INFO - Tokenization -- DONE\n",
      "2024-10-30 17:31:56,775 - searcharray.indexing - INFO - Inverting docs->terms\n",
      "2024-10-30 17:31:56,775 - searcharray.indexing - INFO - Encoding positions to bit array\n",
      "2024-10-30 17:31:56,776 - searcharray.indexing - INFO - Batch tokenization complete\n",
      "2024-10-30 17:31:56,776 - searcharray.indexing - INFO - (main thread) Processing 1 batch results\n",
      "2024-10-30 17:31:56,777 - searcharray.indexing - INFO - Indexing from tokenization complete\n",
      "2024-10-30 17:31:56,786 - searcharray.indexing - INFO - Indexing begins w/ 4 workers\n",
      "2024-10-30 17:31:56,787 - searcharray.indexing - INFO - 0 Batch Start tokenization\n",
      "2024-10-30 17:31:56,787 - searcharray.indexing - INFO - Tokenizing 10 documents\n",
      "2024-10-30 17:31:56,788 - searcharray.indexing - INFO - Tokenization -- vstacking\n",
      "2024-10-30 17:31:56,788 - searcharray.indexing - INFO - Tokenization -- DONE\n",
      "2024-10-30 17:31:56,788 - searcharray.indexing - INFO - Inverting docs->terms\n",
      "2024-10-30 17:31:56,788 - searcharray.indexing - INFO - Encoding positions to bit array\n",
      "2024-10-30 17:31:56,789 - searcharray.indexing - INFO - Batch tokenization complete\n",
      "2024-10-30 17:31:56,789 - searcharray.indexing - INFO - (main thread) Processing 1 batch results\n",
      "2024-10-30 17:31:56,790 - searcharray.indexing - INFO - Indexing from tokenization complete\n",
      "2024-10-30 17:31:56,804 - searcharray.indexing - INFO - Indexing begins w/ 4 workers\n",
      "2024-10-30 17:31:56,804 - searcharray.indexing - INFO - 0 Batch Start tokenization\n",
      "2024-10-30 17:31:56,805 - searcharray.indexing - INFO - Tokenizing 10 documents\n",
      "2024-10-30 17:31:56,805 - searcharray.indexing - INFO - Tokenization -- vstacking\n",
      "2024-10-30 17:31:56,806 - searcharray.indexing - INFO - Tokenization -- DONE\n",
      "2024-10-30 17:31:56,806 - searcharray.indexing - INFO - Inverting docs->terms\n",
      "2024-10-30 17:31:56,806 - searcharray.indexing - INFO - Encoding positions to bit array\n",
      "2024-10-30 17:31:56,807 - searcharray.indexing - INFO - Batch tokenization complete\n",
      "2024-10-30 17:31:56,807 - searcharray.indexing - INFO - (main thread) Processing 1 batch results\n",
      "2024-10-30 17:31:56,808 - searcharray.indexing - INFO - Indexing from tokenization complete\n",
      "2024-10-30 17:31:56,816 - searcharray.indexing - INFO - Indexing begins w/ 4 workers\n",
      "2024-10-30 17:31:56,816 - searcharray.indexing - INFO - 0 Batch Start tokenization\n",
      "2024-10-30 17:31:56,817 - searcharray.indexing - INFO - Tokenizing 10 documents\n",
      "2024-10-30 17:31:56,817 - searcharray.indexing - INFO - Tokenization -- vstacking\n",
      "2024-10-30 17:31:56,818 - searcharray.indexing - INFO - Tokenization -- DONE\n",
      "2024-10-30 17:31:56,818 - searcharray.indexing - INFO - Inverting docs->terms\n",
      "2024-10-30 17:31:56,818 - searcharray.indexing - INFO - Encoding positions to bit array\n",
      "2024-10-30 17:31:56,818 - searcharray.indexing - INFO - Batch tokenization complete\n",
      "2024-10-30 17:31:56,819 - searcharray.indexing - INFO - (main thread) Processing 1 batch results\n",
      "2024-10-30 17:31:56,819 - searcharray.indexing - INFO - Indexing from tokenization complete\n",
      "2024-10-30 17:31:56,827 - searcharray.indexing - INFO - Indexing begins w/ 4 workers\n",
      "2024-10-30 17:31:56,828 - searcharray.indexing - INFO - 0 Batch Start tokenization\n",
      "2024-10-30 17:31:56,828 - searcharray.indexing - INFO - Tokenizing 10 documents\n",
      "2024-10-30 17:31:56,829 - searcharray.indexing - INFO - Tokenization -- vstacking\n",
      "2024-10-30 17:31:56,829 - searcharray.indexing - INFO - Tokenization -- DONE\n",
      "2024-10-30 17:31:56,829 - searcharray.indexing - INFO - Inverting docs->terms\n",
      "2024-10-30 17:31:56,830 - searcharray.indexing - INFO - Encoding positions to bit array\n",
      "2024-10-30 17:31:56,830 - searcharray.indexing - INFO - Batch tokenization complete\n",
      "2024-10-30 17:31:56,831 - searcharray.indexing - INFO - (main thread) Processing 1 batch results\n",
      "2024-10-30 17:31:56,831 - searcharray.indexing - INFO - Indexing from tokenization complete\n",
      "2024-10-30 17:31:56,846 - searcharray.indexing - INFO - Indexing begins w/ 4 workers\n",
      "2024-10-30 17:31:56,846 - searcharray.indexing - INFO - 0 Batch Start tokenization\n",
      "2024-10-30 17:31:56,847 - searcharray.indexing - INFO - Tokenizing 1 documents\n",
      "2024-10-30 17:31:56,847 - searcharray.indexing - INFO - Tokenization -- vstacking\n",
      "2024-10-30 17:31:56,848 - searcharray.indexing - INFO - Tokenization -- DONE\n",
      "2024-10-30 17:31:56,848 - searcharray.indexing - INFO - Inverting docs->terms\n",
      "2024-10-30 17:31:56,848 - searcharray.indexing - INFO - Encoding positions to bit array\n",
      "2024-10-30 17:31:56,848 - searcharray.indexing - INFO - Batch tokenization complete\n",
      "2024-10-30 17:31:56,849 - searcharray.indexing - INFO - (main thread) Processing 1 batch results\n",
      "2024-10-30 17:31:56,849 - searcharray.indexing - INFO - Indexing from tokenization complete\n",
      "2024-10-30 17:31:56,857 - searcharray.indexing - INFO - Indexing begins w/ 4 workers\n",
      "2024-10-30 17:31:56,858 - searcharray.indexing - INFO - 0 Batch Start tokenization\n",
      "2024-10-30 17:31:56,858 - searcharray.indexing - INFO - Tokenizing 10 documents\n",
      "2024-10-30 17:31:56,859 - searcharray.indexing - INFO - Tokenization -- vstacking\n",
      "2024-10-30 17:31:56,859 - searcharray.indexing - INFO - Tokenization -- DONE\n",
      "2024-10-30 17:31:56,859 - searcharray.indexing - INFO - Inverting docs->terms\n",
      "2024-10-30 17:31:56,859 - searcharray.indexing - INFO - Encoding positions to bit array\n",
      "2024-10-30 17:31:56,860 - searcharray.indexing - INFO - Batch tokenization complete\n",
      "2024-10-30 17:31:56,860 - searcharray.indexing - INFO - (main thread) Processing 1 batch results\n",
      "2024-10-30 17:31:56,860 - searcharray.indexing - INFO - Indexing from tokenization complete\n",
      "2024-10-30 17:31:56,868 - searcharray.indexing - INFO - Indexing begins w/ 4 workers\n",
      "2024-10-30 17:31:56,869 - searcharray.indexing - INFO - 0 Batch Start tokenization\n",
      "2024-10-30 17:31:56,870 - searcharray.indexing - INFO - Tokenizing 10 documents\n",
      "2024-10-30 17:31:56,870 - searcharray.indexing - INFO - Tokenization -- vstacking\n",
      "2024-10-30 17:31:56,870 - searcharray.indexing - INFO - Tokenization -- DONE\n",
      "2024-10-30 17:31:56,871 - searcharray.indexing - INFO - Inverting docs->terms\n",
      "2024-10-30 17:31:56,871 - searcharray.indexing - INFO - Encoding positions to bit array\n",
      "2024-10-30 17:31:56,871 - searcharray.indexing - INFO - Batch tokenization complete\n",
      "2024-10-30 17:31:56,872 - searcharray.indexing - INFO - (main thread) Processing 1 batch results\n",
      "2024-10-30 17:31:56,872 - searcharray.indexing - INFO - Indexing from tokenization complete\n",
      "2024-10-30 17:31:56,881 - searcharray.indexing - INFO - Indexing begins w/ 4 workers\n",
      "2024-10-30 17:31:56,881 - searcharray.indexing - INFO - 0 Batch Start tokenization\n",
      "2024-10-30 17:31:56,882 - searcharray.indexing - INFO - Tokenizing 10 documents\n",
      "2024-10-30 17:31:56,882 - searcharray.indexing - INFO - Tokenization -- vstacking\n",
      "2024-10-30 17:31:56,882 - searcharray.indexing - INFO - Tokenization -- DONE\n",
      "2024-10-30 17:31:56,883 - searcharray.indexing - INFO - Inverting docs->terms\n",
      "2024-10-30 17:31:56,883 - searcharray.indexing - INFO - Encoding positions to bit array\n",
      "2024-10-30 17:31:56,884 - searcharray.indexing - INFO - Batch tokenization complete\n",
      "2024-10-30 17:31:56,884 - searcharray.indexing - INFO - (main thread) Processing 1 batch results\n",
      "2024-10-30 17:31:56,884 - searcharray.indexing - INFO - Indexing from tokenization complete\n",
      "2024-10-30 17:31:56,899 - searcharray.indexing - INFO - Indexing begins w/ 4 workers\n",
      "2024-10-30 17:31:56,899 - searcharray.indexing - INFO - 0 Batch Start tokenization\n",
      "2024-10-30 17:31:56,900 - searcharray.indexing - INFO - Tokenizing 10 documents\n",
      "2024-10-30 17:31:56,900 - searcharray.indexing - INFO - Tokenization -- vstacking\n",
      "2024-10-30 17:31:56,901 - searcharray.indexing - INFO - Tokenization -- DONE\n",
      "2024-10-30 17:31:56,901 - searcharray.indexing - INFO - Inverting docs->terms\n",
      "2024-10-30 17:31:56,901 - searcharray.indexing - INFO - Encoding positions to bit array\n",
      "2024-10-30 17:31:56,902 - searcharray.indexing - INFO - Batch tokenization complete\n",
      "2024-10-30 17:31:56,902 - searcharray.indexing - INFO - (main thread) Processing 1 batch results\n",
      "2024-10-30 17:31:56,902 - searcharray.indexing - INFO - Indexing from tokenization complete\n",
      "2024-10-30 17:31:56,946 - searcharray.indexing - INFO - Indexing begins w/ 4 workers\n",
      "2024-10-30 17:31:56,947 - searcharray.indexing - INFO - 0 Batch Start tokenization\n",
      "2024-10-30 17:31:56,948 - searcharray.indexing - INFO - Tokenizing 10 documents\n",
      "2024-10-30 17:31:56,948 - searcharray.indexing - INFO - Tokenization -- vstacking\n",
      "2024-10-30 17:31:56,949 - searcharray.indexing - INFO - Tokenization -- DONE\n",
      "2024-10-30 17:31:56,949 - searcharray.indexing - INFO - Inverting docs->terms\n",
      "2024-10-30 17:31:56,950 - searcharray.indexing - INFO - Encoding positions to bit array\n",
      "2024-10-30 17:31:56,951 - searcharray.indexing - INFO - Batch tokenization complete\n",
      "2024-10-30 17:31:56,951 - searcharray.indexing - INFO - (main thread) Processing 1 batch results\n",
      "2024-10-30 17:31:56,952 - searcharray.indexing - INFO - Indexing from tokenization complete\n",
      "2024-10-30 17:31:56,961 - searcharray.indexing - INFO - Indexing begins w/ 4 workers\n",
      "2024-10-30 17:31:56,962 - searcharray.indexing - INFO - 0 Batch Start tokenization\n",
      "2024-10-30 17:31:56,962 - searcharray.indexing - INFO - Tokenizing 10 documents\n",
      "2024-10-30 17:31:56,963 - searcharray.indexing - INFO - Tokenization -- vstacking\n",
      "2024-10-30 17:31:56,963 - searcharray.indexing - INFO - Tokenization -- DONE\n",
      "2024-10-30 17:31:56,963 - searcharray.indexing - INFO - Inverting docs->terms\n",
      "2024-10-30 17:31:56,964 - searcharray.indexing - INFO - Encoding positions to bit array\n",
      "2024-10-30 17:31:56,964 - searcharray.indexing - INFO - Batch tokenization complete\n",
      "2024-10-30 17:31:56,964 - searcharray.indexing - INFO - (main thread) Processing 1 batch results\n",
      "2024-10-30 17:31:56,965 - searcharray.indexing - INFO - Indexing from tokenization complete\n",
      "2024-10-30 17:31:56,973 - searcharray.indexing - INFO - Indexing begins w/ 4 workers\n",
      "2024-10-30 17:31:56,973 - searcharray.indexing - INFO - 0 Batch Start tokenization\n",
      "2024-10-30 17:31:56,974 - searcharray.indexing - INFO - Tokenizing 10 documents\n",
      "2024-10-30 17:31:56,974 - searcharray.indexing - INFO - Tokenization -- vstacking\n",
      "2024-10-30 17:31:56,974 - searcharray.indexing - INFO - Tokenization -- DONE\n",
      "2024-10-30 17:31:56,975 - searcharray.indexing - INFO - Inverting docs->terms\n",
      "2024-10-30 17:31:56,975 - searcharray.indexing - INFO - Encoding positions to bit array\n",
      "2024-10-30 17:31:56,975 - searcharray.indexing - INFO - Batch tokenization complete\n",
      "2024-10-30 17:31:56,976 - searcharray.indexing - INFO - (main thread) Processing 1 batch results\n",
      "2024-10-30 17:31:56,976 - searcharray.indexing - INFO - Indexing from tokenization complete\n",
      "2024-10-30 17:31:56,984 - searcharray.indexing - INFO - Indexing begins w/ 4 workers\n",
      "2024-10-30 17:31:56,985 - searcharray.indexing - INFO - 0 Batch Start tokenization\n",
      "2024-10-30 17:31:56,985 - searcharray.indexing - INFO - Tokenizing 10 documents\n",
      "2024-10-30 17:31:56,985 - searcharray.indexing - INFO - Tokenization -- vstacking\n",
      "2024-10-30 17:31:56,986 - searcharray.indexing - INFO - Tokenization -- DONE\n",
      "2024-10-30 17:31:56,986 - searcharray.indexing - INFO - Inverting docs->terms\n",
      "2024-10-30 17:31:56,986 - searcharray.indexing - INFO - Encoding positions to bit array\n",
      "2024-10-30 17:31:56,987 - searcharray.indexing - INFO - Batch tokenization complete\n",
      "2024-10-30 17:31:56,987 - searcharray.indexing - INFO - (main thread) Processing 1 batch results\n",
      "2024-10-30 17:31:56,987 - searcharray.indexing - INFO - Indexing from tokenization complete\n",
      "2024-10-30 17:31:57,004 - searcharray.indexing - INFO - Indexing begins w/ 4 workers\n",
      "2024-10-30 17:31:57,004 - searcharray.indexing - INFO - 0 Batch Start tokenization\n",
      "2024-10-30 17:31:57,005 - searcharray.indexing - INFO - Tokenizing 10 documents\n",
      "2024-10-30 17:31:57,005 - searcharray.indexing - INFO - Tokenization -- vstacking\n",
      "2024-10-30 17:31:57,005 - searcharray.indexing - INFO - Tokenization -- DONE\n",
      "2024-10-30 17:31:57,006 - searcharray.indexing - INFO - Inverting docs->terms\n",
      "2024-10-30 17:31:57,006 - searcharray.indexing - INFO - Encoding positions to bit array\n",
      "2024-10-30 17:31:57,006 - searcharray.indexing - INFO - Batch tokenization complete\n",
      "2024-10-30 17:31:57,006 - searcharray.indexing - INFO - (main thread) Processing 1 batch results\n",
      "2024-10-30 17:31:57,007 - searcharray.indexing - INFO - Indexing from tokenization complete\n",
      "2024-10-30 17:31:57,023 - searcharray.indexing - INFO - Indexing begins w/ 4 workers\n",
      "2024-10-30 17:31:57,023 - searcharray.indexing - INFO - 0 Batch Start tokenization\n",
      "2024-10-30 17:31:57,024 - searcharray.indexing - INFO - Tokenizing 10 documents\n",
      "2024-10-30 17:31:57,024 - searcharray.indexing - INFO - Tokenization -- vstacking\n",
      "2024-10-30 17:31:57,024 - searcharray.indexing - INFO - Tokenization -- DONE\n",
      "2024-10-30 17:31:57,025 - searcharray.indexing - INFO - Inverting docs->terms\n",
      "2024-10-30 17:31:57,025 - searcharray.indexing - INFO - Encoding positions to bit array\n",
      "2024-10-30 17:31:57,025 - searcharray.indexing - INFO - Batch tokenization complete\n",
      "2024-10-30 17:31:57,026 - searcharray.indexing - INFO - (main thread) Processing 1 batch results\n",
      "2024-10-30 17:31:57,026 - searcharray.indexing - INFO - Indexing from tokenization complete\n",
      "2024-10-30 17:31:57,039 - searcharray.indexing - INFO - Indexing begins w/ 4 workers\n",
      "2024-10-30 17:31:57,040 - searcharray.indexing - INFO - 0 Batch Start tokenization\n",
      "2024-10-30 17:31:57,040 - searcharray.indexing - INFO - Tokenizing 10 documents\n",
      "2024-10-30 17:31:57,041 - searcharray.indexing - INFO - Tokenization -- vstacking\n",
      "2024-10-30 17:31:57,041 - searcharray.indexing - INFO - Tokenization -- DONE\n",
      "2024-10-30 17:31:57,041 - searcharray.indexing - INFO - Inverting docs->terms\n",
      "2024-10-30 17:31:57,042 - searcharray.indexing - INFO - Encoding positions to bit array\n",
      "2024-10-30 17:31:57,042 - searcharray.indexing - INFO - Batch tokenization complete\n",
      "2024-10-30 17:31:57,042 - searcharray.indexing - INFO - (main thread) Processing 1 batch results\n",
      "2024-10-30 17:31:57,043 - searcharray.indexing - INFO - Indexing from tokenization complete\n",
      "2024-10-30 17:31:57,050 - searcharray.indexing - INFO - Indexing begins w/ 4 workers\n",
      "2024-10-30 17:31:57,050 - searcharray.indexing - INFO - 0 Batch Start tokenization\n",
      "2024-10-30 17:31:57,051 - searcharray.indexing - INFO - Tokenizing 10 documents\n",
      "2024-10-30 17:31:57,051 - searcharray.indexing - INFO - Tokenization -- vstacking\n",
      "2024-10-30 17:31:57,051 - searcharray.indexing - INFO - Tokenization -- DONE\n",
      "2024-10-30 17:31:57,051 - searcharray.indexing - INFO - Inverting docs->terms\n",
      "2024-10-30 17:31:57,052 - searcharray.indexing - INFO - Encoding positions to bit array\n",
      "2024-10-30 17:31:57,052 - searcharray.indexing - INFO - Batch tokenization complete\n",
      "2024-10-30 17:31:57,052 - searcharray.indexing - INFO - (main thread) Processing 1 batch results\n",
      "2024-10-30 17:31:57,053 - searcharray.indexing - INFO - Indexing from tokenization complete\n",
      "2024-10-30 17:31:57,069 - searcharray.indexing - INFO - Indexing begins w/ 4 workers\n",
      "2024-10-30 17:31:57,070 - searcharray.indexing - INFO - 0 Batch Start tokenization\n",
      "2024-10-30 17:31:57,070 - searcharray.indexing - INFO - Tokenizing 10 documents\n",
      "2024-10-30 17:31:57,071 - searcharray.indexing - INFO - Tokenization -- vstacking\n",
      "2024-10-30 17:31:57,071 - searcharray.indexing - INFO - Tokenization -- DONE\n",
      "2024-10-30 17:31:57,071 - searcharray.indexing - INFO - Inverting docs->terms\n",
      "2024-10-30 17:31:57,071 - searcharray.indexing - INFO - Encoding positions to bit array\n",
      "2024-10-30 17:31:57,072 - searcharray.indexing - INFO - Batch tokenization complete\n",
      "2024-10-30 17:31:57,072 - searcharray.indexing - INFO - (main thread) Processing 1 batch results\n",
      "2024-10-30 17:31:57,072 - searcharray.indexing - INFO - Indexing from tokenization complete\n",
      "2024-10-30 17:31:57,097 - searcharray.indexing - INFO - Indexing begins w/ 4 workers\n",
      "2024-10-30 17:31:57,097 - searcharray.indexing - INFO - 0 Batch Start tokenization\n",
      "2024-10-30 17:31:57,098 - searcharray.indexing - INFO - Tokenizing 10 documents\n",
      "2024-10-30 17:31:57,098 - searcharray.indexing - INFO - Tokenization -- vstacking\n",
      "2024-10-30 17:31:57,099 - searcharray.indexing - INFO - Tokenization -- DONE\n",
      "2024-10-30 17:31:57,099 - searcharray.indexing - INFO - Inverting docs->terms\n",
      "2024-10-30 17:31:57,099 - searcharray.indexing - INFO - Encoding positions to bit array\n",
      "2024-10-30 17:31:57,100 - searcharray.indexing - INFO - Batch tokenization complete\n",
      "2024-10-30 17:31:57,100 - searcharray.indexing - INFO - (main thread) Processing 1 batch results\n",
      "2024-10-30 17:31:57,100 - searcharray.indexing - INFO - Indexing from tokenization complete\n",
      "2024-10-30 17:31:57,109 - searcharray.indexing - INFO - Indexing begins w/ 4 workers\n",
      "2024-10-30 17:31:57,110 - searcharray.indexing - INFO - 0 Batch Start tokenization\n",
      "2024-10-30 17:31:57,110 - searcharray.indexing - INFO - Tokenizing 10 documents\n",
      "2024-10-30 17:31:57,111 - searcharray.indexing - INFO - Tokenization -- vstacking\n",
      "2024-10-30 17:31:57,111 - searcharray.indexing - INFO - Tokenization -- DONE\n",
      "2024-10-30 17:31:57,111 - searcharray.indexing - INFO - Inverting docs->terms\n",
      "2024-10-30 17:31:57,112 - searcharray.indexing - INFO - Encoding positions to bit array\n",
      "2024-10-30 17:31:57,112 - searcharray.indexing - INFO - Batch tokenization complete\n",
      "2024-10-30 17:31:57,112 - searcharray.indexing - INFO - (main thread) Processing 1 batch results\n",
      "2024-10-30 17:31:57,112 - searcharray.indexing - INFO - Indexing from tokenization complete\n",
      "2024-10-30 17:31:57,122 - searcharray.indexing - INFO - Indexing begins w/ 4 workers\n",
      "2024-10-30 17:31:57,122 - searcharray.indexing - INFO - 0 Batch Start tokenization\n",
      "2024-10-30 17:31:57,123 - searcharray.indexing - INFO - Tokenizing 10 documents\n",
      "2024-10-30 17:31:57,123 - searcharray.indexing - INFO - Tokenization -- vstacking\n",
      "2024-10-30 17:31:57,123 - searcharray.indexing - INFO - Tokenization -- DONE\n",
      "2024-10-30 17:31:57,123 - searcharray.indexing - INFO - Inverting docs->terms\n",
      "2024-10-30 17:31:57,124 - searcharray.indexing - INFO - Encoding positions to bit array\n",
      "2024-10-30 17:31:57,124 - searcharray.indexing - INFO - Batch tokenization complete\n",
      "2024-10-30 17:31:57,124 - searcharray.indexing - INFO - (main thread) Processing 1 batch results\n",
      "2024-10-30 17:31:57,124 - searcharray.indexing - INFO - Indexing from tokenization complete\n",
      "2024-10-30 17:31:57,133 - searcharray.indexing - INFO - Indexing begins w/ 4 workers\n",
      "2024-10-30 17:31:57,133 - searcharray.indexing - INFO - 0 Batch Start tokenization\n",
      "2024-10-30 17:31:57,134 - searcharray.indexing - INFO - Tokenizing 10 documents\n",
      "2024-10-30 17:31:57,134 - searcharray.indexing - INFO - Tokenization -- vstacking\n",
      "2024-10-30 17:31:57,134 - searcharray.indexing - INFO - Tokenization -- DONE\n",
      "2024-10-30 17:31:57,135 - searcharray.indexing - INFO - Inverting docs->terms\n",
      "2024-10-30 17:31:57,135 - searcharray.indexing - INFO - Encoding positions to bit array\n",
      "2024-10-30 17:31:57,135 - searcharray.indexing - INFO - Batch tokenization complete\n",
      "2024-10-30 17:31:57,135 - searcharray.indexing - INFO - (main thread) Processing 1 batch results\n",
      "2024-10-30 17:31:57,136 - searcharray.indexing - INFO - Indexing from tokenization complete\n",
      "2024-10-30 17:31:57,147 - searcharray.indexing - INFO - Indexing begins w/ 4 workers\n",
      "2024-10-30 17:31:57,147 - searcharray.indexing - INFO - 0 Batch Start tokenization\n",
      "2024-10-30 17:31:57,148 - searcharray.indexing - INFO - Tokenizing 10 documents\n",
      "2024-10-30 17:31:57,148 - searcharray.indexing - INFO - Tokenization -- vstacking\n",
      "2024-10-30 17:31:57,148 - searcharray.indexing - INFO - Tokenization -- DONE\n",
      "2024-10-30 17:31:57,148 - searcharray.indexing - INFO - Inverting docs->terms\n",
      "2024-10-30 17:31:57,149 - searcharray.indexing - INFO - Encoding positions to bit array\n",
      "2024-10-30 17:31:57,149 - searcharray.indexing - INFO - Batch tokenization complete\n",
      "2024-10-30 17:31:57,149 - searcharray.indexing - INFO - (main thread) Processing 1 batch results\n",
      "2024-10-30 17:31:57,150 - searcharray.indexing - INFO - Indexing from tokenization complete\n",
      "2024-10-30 17:31:57,158 - searcharray.indexing - INFO - Indexing begins w/ 4 workers\n",
      "2024-10-30 17:31:57,159 - searcharray.indexing - INFO - 0 Batch Start tokenization\n",
      "2024-10-30 17:31:57,159 - searcharray.indexing - INFO - Tokenizing 10 documents\n",
      "2024-10-30 17:31:57,160 - searcharray.indexing - INFO - Tokenization -- vstacking\n",
      "2024-10-30 17:31:57,160 - searcharray.indexing - INFO - Tokenization -- DONE\n",
      "2024-10-30 17:31:57,160 - searcharray.indexing - INFO - Inverting docs->terms\n",
      "2024-10-30 17:31:57,161 - searcharray.indexing - INFO - Encoding positions to bit array\n",
      "2024-10-30 17:31:57,161 - searcharray.indexing - INFO - Batch tokenization complete\n",
      "2024-10-30 17:31:57,161 - searcharray.indexing - INFO - (main thread) Processing 1 batch results\n",
      "2024-10-30 17:31:57,162 - searcharray.indexing - INFO - Indexing from tokenization complete\n",
      "2024-10-30 17:31:57,169 - searcharray.indexing - INFO - Indexing begins w/ 4 workers\n",
      "2024-10-30 17:31:57,169 - searcharray.indexing - INFO - 0 Batch Start tokenization\n",
      "2024-10-30 17:31:57,170 - searcharray.indexing - INFO - Tokenizing 10 documents\n",
      "2024-10-30 17:31:57,170 - searcharray.indexing - INFO - Tokenization -- vstacking\n",
      "2024-10-30 17:31:57,170 - searcharray.indexing - INFO - Tokenization -- DONE\n",
      "2024-10-30 17:31:57,170 - searcharray.indexing - INFO - Inverting docs->terms\n",
      "2024-10-30 17:31:57,171 - searcharray.indexing - INFO - Encoding positions to bit array\n",
      "2024-10-30 17:31:57,171 - searcharray.indexing - INFO - Batch tokenization complete\n",
      "2024-10-30 17:31:57,171 - searcharray.indexing - INFO - (main thread) Processing 1 batch results\n",
      "2024-10-30 17:31:57,172 - searcharray.indexing - INFO - Indexing from tokenization complete\n",
      "2024-10-30 17:31:57,179 - searcharray.indexing - INFO - Indexing begins w/ 4 workers\n",
      "2024-10-30 17:31:57,179 - searcharray.indexing - INFO - 0 Batch Start tokenization\n",
      "2024-10-30 17:31:57,180 - searcharray.indexing - INFO - Tokenizing 10 documents\n",
      "2024-10-30 17:31:57,181 - searcharray.indexing - INFO - Tokenization -- vstacking\n",
      "2024-10-30 17:31:57,181 - searcharray.indexing - INFO - Tokenization -- DONE\n",
      "2024-10-30 17:31:57,182 - searcharray.indexing - INFO - Inverting docs->terms\n",
      "2024-10-30 17:31:57,182 - searcharray.indexing - INFO - Encoding positions to bit array\n",
      "2024-10-30 17:31:57,182 - searcharray.indexing - INFO - Batch tokenization complete\n",
      "2024-10-30 17:31:57,183 - searcharray.indexing - INFO - (main thread) Processing 1 batch results\n",
      "2024-10-30 17:31:57,183 - searcharray.indexing - INFO - Indexing from tokenization complete\n",
      "2024-10-30 17:31:57,195 - searcharray.indexing - INFO - Indexing begins w/ 4 workers\n",
      "2024-10-30 17:31:57,195 - searcharray.indexing - INFO - 0 Batch Start tokenization\n",
      "2024-10-30 17:31:57,196 - searcharray.indexing - INFO - Tokenizing 9 documents\n",
      "2024-10-30 17:31:57,196 - searcharray.indexing - INFO - Tokenization -- vstacking\n",
      "2024-10-30 17:31:57,196 - searcharray.indexing - INFO - Tokenization -- DONE\n",
      "2024-10-30 17:31:57,197 - searcharray.indexing - INFO - Inverting docs->terms\n",
      "2024-10-30 17:31:57,197 - searcharray.indexing - INFO - Encoding positions to bit array\n",
      "2024-10-30 17:31:57,197 - searcharray.indexing - INFO - Batch tokenization complete\n",
      "2024-10-30 17:31:57,197 - searcharray.indexing - INFO - (main thread) Processing 1 batch results\n",
      "2024-10-30 17:31:57,198 - searcharray.indexing - INFO - Indexing from tokenization complete\n",
      "2024-10-30 17:31:57,205 - searcharray.indexing - INFO - Indexing begins w/ 4 workers\n",
      "2024-10-30 17:31:57,205 - searcharray.indexing - INFO - 0 Batch Start tokenization\n",
      "2024-10-30 17:31:57,206 - searcharray.indexing - INFO - Tokenizing 10 documents\n",
      "2024-10-30 17:31:57,206 - searcharray.indexing - INFO - Tokenization -- vstacking\n",
      "2024-10-30 17:31:57,206 - searcharray.indexing - INFO - Tokenization -- DONE\n",
      "2024-10-30 17:31:57,207 - searcharray.indexing - INFO - Inverting docs->terms\n",
      "2024-10-30 17:31:57,207 - searcharray.indexing - INFO - Encoding positions to bit array\n",
      "2024-10-30 17:31:57,207 - searcharray.indexing - INFO - Batch tokenization complete\n",
      "2024-10-30 17:31:57,207 - searcharray.indexing - INFO - (main thread) Processing 1 batch results\n",
      "2024-10-30 17:31:57,208 - searcharray.indexing - INFO - Indexing from tokenization complete\n",
      "2024-10-30 17:31:57,216 - searcharray.indexing - INFO - Indexing begins w/ 4 workers\n",
      "2024-10-30 17:31:57,216 - searcharray.indexing - INFO - 0 Batch Start tokenization\n",
      "2024-10-30 17:31:57,217 - searcharray.indexing - INFO - Tokenizing 10 documents\n",
      "2024-10-30 17:31:57,217 - searcharray.indexing - INFO - Tokenization -- vstacking\n",
      "2024-10-30 17:31:57,217 - searcharray.indexing - INFO - Tokenization -- DONE\n",
      "2024-10-30 17:31:57,218 - searcharray.indexing - INFO - Inverting docs->terms\n",
      "2024-10-30 17:31:57,218 - searcharray.indexing - INFO - Encoding positions to bit array\n",
      "2024-10-30 17:31:57,218 - searcharray.indexing - INFO - Batch tokenization complete\n",
      "2024-10-30 17:31:57,219 - searcharray.indexing - INFO - (main thread) Processing 1 batch results\n",
      "2024-10-30 17:31:57,219 - searcharray.indexing - INFO - Indexing from tokenization complete\n",
      "2024-10-30 17:31:57,225 - searcharray.indexing - INFO - Indexing begins w/ 4 workers\n",
      "2024-10-30 17:31:57,226 - searcharray.indexing - INFO - 0 Batch Start tokenization\n",
      "2024-10-30 17:31:57,226 - searcharray.indexing - INFO - Tokenizing 4 documents\n",
      "2024-10-30 17:31:57,227 - searcharray.indexing - INFO - Tokenization -- vstacking\n",
      "2024-10-30 17:31:57,227 - searcharray.indexing - INFO - Tokenization -- DONE\n",
      "2024-10-30 17:31:57,227 - searcharray.indexing - INFO - Inverting docs->terms\n",
      "2024-10-30 17:31:57,227 - searcharray.indexing - INFO - Encoding positions to bit array\n",
      "2024-10-30 17:31:57,228 - searcharray.indexing - INFO - Batch tokenization complete\n",
      "2024-10-30 17:31:57,228 - searcharray.indexing - INFO - (main thread) Processing 1 batch results\n",
      "2024-10-30 17:31:57,228 - searcharray.indexing - INFO - Indexing from tokenization complete\n",
      "2024-10-30 17:31:57,237 - searcharray.indexing - INFO - Indexing begins w/ 4 workers\n",
      "2024-10-30 17:31:57,238 - searcharray.indexing - INFO - 0 Batch Start tokenization\n",
      "2024-10-30 17:31:57,238 - searcharray.indexing - INFO - Tokenizing 8 documents\n",
      "2024-10-30 17:31:57,239 - searcharray.indexing - INFO - Tokenization -- vstacking\n",
      "2024-10-30 17:31:57,239 - searcharray.indexing - INFO - Tokenization -- DONE\n",
      "2024-10-30 17:31:57,239 - searcharray.indexing - INFO - Inverting docs->terms\n",
      "2024-10-30 17:31:57,240 - searcharray.indexing - INFO - Encoding positions to bit array\n",
      "2024-10-30 17:31:57,240 - searcharray.indexing - INFO - Batch tokenization complete\n",
      "2024-10-30 17:31:57,241 - searcharray.indexing - INFO - (main thread) Processing 1 batch results\n",
      "2024-10-30 17:31:57,241 - searcharray.indexing - INFO - Indexing from tokenization complete\n",
      "2024-10-30 17:31:57,251 - searcharray.indexing - INFO - Indexing begins w/ 4 workers\n",
      "2024-10-30 17:31:57,252 - searcharray.indexing - INFO - 0 Batch Start tokenization\n",
      "2024-10-30 17:31:57,252 - searcharray.indexing - INFO - Tokenizing 10 documents\n",
      "2024-10-30 17:31:57,253 - searcharray.indexing - INFO - Tokenization -- vstacking\n",
      "2024-10-30 17:31:57,253 - searcharray.indexing - INFO - Tokenization -- DONE\n",
      "2024-10-30 17:31:57,253 - searcharray.indexing - INFO - Inverting docs->terms\n",
      "2024-10-30 17:31:57,254 - searcharray.indexing - INFO - Encoding positions to bit array\n",
      "2024-10-30 17:31:57,254 - searcharray.indexing - INFO - Batch tokenization complete\n",
      "2024-10-30 17:31:57,254 - searcharray.indexing - INFO - (main thread) Processing 1 batch results\n",
      "2024-10-30 17:31:57,255 - searcharray.indexing - INFO - Indexing from tokenization complete\n",
      "2024-10-30 17:31:57,262 - searcharray.indexing - INFO - Indexing begins w/ 4 workers\n",
      "2024-10-30 17:31:57,262 - searcharray.indexing - INFO - 0 Batch Start tokenization\n",
      "2024-10-30 17:31:57,262 - searcharray.indexing - INFO - Tokenizing 10 documents\n",
      "2024-10-30 17:31:57,263 - searcharray.indexing - INFO - Tokenization -- vstacking\n",
      "2024-10-30 17:31:57,263 - searcharray.indexing - INFO - Tokenization -- DONE\n",
      "2024-10-30 17:31:57,264 - searcharray.indexing - INFO - Inverting docs->terms\n",
      "2024-10-30 17:31:57,264 - searcharray.indexing - INFO - Encoding positions to bit array\n",
      "2024-10-30 17:31:57,264 - searcharray.indexing - INFO - Batch tokenization complete\n",
      "2024-10-30 17:31:57,265 - searcharray.indexing - INFO - (main thread) Processing 1 batch results\n",
      "2024-10-30 17:31:57,265 - searcharray.indexing - INFO - Indexing from tokenization complete\n",
      "2024-10-30 17:31:57,271 - searcharray.indexing - INFO - Indexing begins w/ 4 workers\n",
      "2024-10-30 17:31:57,272 - searcharray.indexing - INFO - 0 Batch Start tokenization\n",
      "2024-10-30 17:31:57,272 - searcharray.indexing - INFO - Tokenizing 10 documents\n",
      "2024-10-30 17:31:57,273 - searcharray.indexing - INFO - Tokenization -- vstacking\n",
      "2024-10-30 17:31:57,273 - searcharray.indexing - INFO - Tokenization -- DONE\n",
      "2024-10-30 17:31:57,273 - searcharray.indexing - INFO - Inverting docs->terms\n",
      "2024-10-30 17:31:57,274 - searcharray.indexing - INFO - Encoding positions to bit array\n",
      "2024-10-30 17:31:57,274 - searcharray.indexing - INFO - Batch tokenization complete\n",
      "2024-10-30 17:31:57,274 - searcharray.indexing - INFO - (main thread) Processing 1 batch results\n",
      "2024-10-30 17:31:57,275 - searcharray.indexing - INFO - Indexing from tokenization complete\n",
      "2024-10-30 17:31:57,281 - searcharray.indexing - INFO - Indexing begins w/ 4 workers\n",
      "2024-10-30 17:31:57,281 - searcharray.indexing - INFO - 0 Batch Start tokenization\n",
      "2024-10-30 17:31:57,282 - searcharray.indexing - INFO - Tokenizing 10 documents\n",
      "2024-10-30 17:31:57,282 - searcharray.indexing - INFO - Tokenization -- vstacking\n",
      "2024-10-30 17:31:57,282 - searcharray.indexing - INFO - Tokenization -- DONE\n",
      "2024-10-30 17:31:57,282 - searcharray.indexing - INFO - Inverting docs->terms\n",
      "2024-10-30 17:31:57,283 - searcharray.indexing - INFO - Encoding positions to bit array\n",
      "2024-10-30 17:31:57,283 - searcharray.indexing - INFO - Batch tokenization complete\n",
      "2024-10-30 17:31:57,283 - searcharray.indexing - INFO - (main thread) Processing 1 batch results\n",
      "2024-10-30 17:31:57,284 - searcharray.indexing - INFO - Indexing from tokenization complete\n",
      "2024-10-30 17:31:57,290 - searcharray.indexing - INFO - Indexing begins w/ 4 workers\n",
      "2024-10-30 17:31:57,291 - searcharray.indexing - INFO - 0 Batch Start tokenization\n",
      "2024-10-30 17:31:57,291 - searcharray.indexing - INFO - Tokenizing 10 documents\n",
      "2024-10-30 17:31:57,292 - searcharray.indexing - INFO - Tokenization -- vstacking\n",
      "2024-10-30 17:31:57,292 - searcharray.indexing - INFO - Tokenization -- DONE\n",
      "2024-10-30 17:31:57,292 - searcharray.indexing - INFO - Inverting docs->terms\n",
      "2024-10-30 17:31:57,292 - searcharray.indexing - INFO - Encoding positions to bit array\n",
      "2024-10-30 17:31:57,293 - searcharray.indexing - INFO - Batch tokenization complete\n",
      "2024-10-30 17:31:57,293 - searcharray.indexing - INFO - (main thread) Processing 1 batch results\n",
      "2024-10-30 17:31:57,293 - searcharray.indexing - INFO - Indexing from tokenization complete\n",
      "2024-10-30 17:31:57,299 - searcharray.indexing - INFO - Indexing begins w/ 4 workers\n",
      "2024-10-30 17:31:57,300 - searcharray.indexing - INFO - 0 Batch Start tokenization\n",
      "2024-10-30 17:31:57,300 - searcharray.indexing - INFO - Tokenizing 10 documents\n",
      "2024-10-30 17:31:57,301 - searcharray.indexing - INFO - Tokenization -- vstacking\n",
      "2024-10-30 17:31:57,301 - searcharray.indexing - INFO - Tokenization -- DONE\n",
      "2024-10-30 17:31:57,301 - searcharray.indexing - INFO - Inverting docs->terms\n",
      "2024-10-30 17:31:57,302 - searcharray.indexing - INFO - Encoding positions to bit array\n",
      "2024-10-30 17:31:57,302 - searcharray.indexing - INFO - Batch tokenization complete\n",
      "2024-10-30 17:31:57,302 - searcharray.indexing - INFO - (main thread) Processing 1 batch results\n",
      "2024-10-30 17:31:57,303 - searcharray.indexing - INFO - Indexing from tokenization complete\n",
      "2024-10-30 17:31:57,313 - searcharray.indexing - INFO - Indexing begins w/ 4 workers\n",
      "2024-10-30 17:31:57,314 - searcharray.indexing - INFO - 0 Batch Start tokenization\n",
      "2024-10-30 17:31:57,314 - searcharray.indexing - INFO - Tokenizing 10 documents\n",
      "2024-10-30 17:31:57,315 - searcharray.indexing - INFO - Tokenization -- vstacking\n",
      "2024-10-30 17:31:57,315 - searcharray.indexing - INFO - Tokenization -- DONE\n",
      "2024-10-30 17:31:57,315 - searcharray.indexing - INFO - Inverting docs->terms\n",
      "2024-10-30 17:31:57,316 - searcharray.indexing - INFO - Encoding positions to bit array\n",
      "2024-10-30 17:31:57,316 - searcharray.indexing - INFO - Batch tokenization complete\n",
      "2024-10-30 17:31:57,316 - searcharray.indexing - INFO - (main thread) Processing 1 batch results\n",
      "2024-10-30 17:31:57,317 - searcharray.indexing - INFO - Indexing from tokenization complete\n",
      "2024-10-30 17:31:57,329 - searcharray.indexing - INFO - Indexing begins w/ 4 workers\n",
      "2024-10-30 17:31:57,330 - searcharray.indexing - INFO - 0 Batch Start tokenization\n",
      "2024-10-30 17:31:57,330 - searcharray.indexing - INFO - Tokenizing 10 documents\n",
      "2024-10-30 17:31:57,330 - searcharray.indexing - INFO - Tokenization -- vstacking\n",
      "2024-10-30 17:31:57,331 - searcharray.indexing - INFO - Tokenization -- DONE\n",
      "2024-10-30 17:31:57,331 - searcharray.indexing - INFO - Inverting docs->terms\n",
      "2024-10-30 17:31:57,331 - searcharray.indexing - INFO - Encoding positions to bit array\n",
      "2024-10-30 17:31:57,332 - searcharray.indexing - INFO - Batch tokenization complete\n",
      "2024-10-30 17:31:57,332 - searcharray.indexing - INFO - (main thread) Processing 1 batch results\n",
      "2024-10-30 17:31:57,333 - searcharray.indexing - INFO - Indexing from tokenization complete\n",
      "2024-10-30 17:31:57,347 - searcharray.indexing - INFO - Indexing begins w/ 4 workers\n",
      "2024-10-30 17:31:57,347 - searcharray.indexing - INFO - 0 Batch Start tokenization\n",
      "2024-10-30 17:31:57,348 - searcharray.indexing - INFO - Tokenizing 10 documents\n",
      "2024-10-30 17:31:57,348 - searcharray.indexing - INFO - Tokenization -- vstacking\n",
      "2024-10-30 17:31:57,349 - searcharray.indexing - INFO - Tokenization -- DONE\n",
      "2024-10-30 17:31:57,349 - searcharray.indexing - INFO - Inverting docs->terms\n",
      "2024-10-30 17:31:57,349 - searcharray.indexing - INFO - Encoding positions to bit array\n",
      "2024-10-30 17:31:57,350 - searcharray.indexing - INFO - Batch tokenization complete\n",
      "2024-10-30 17:31:57,350 - searcharray.indexing - INFO - (main thread) Processing 1 batch results\n",
      "2024-10-30 17:31:57,350 - searcharray.indexing - INFO - Indexing from tokenization complete\n",
      "2024-10-30 17:31:57,362 - searcharray.indexing - INFO - Indexing begins w/ 4 workers\n",
      "2024-10-30 17:31:57,363 - searcharray.indexing - INFO - 0 Batch Start tokenization\n",
      "2024-10-30 17:31:57,363 - searcharray.indexing - INFO - Tokenizing 10 documents\n",
      "2024-10-30 17:31:57,364 - searcharray.indexing - INFO - Tokenization -- vstacking\n",
      "2024-10-30 17:31:57,364 - searcharray.indexing - INFO - Tokenization -- DONE\n",
      "2024-10-30 17:31:57,364 - searcharray.indexing - INFO - Inverting docs->terms\n",
      "2024-10-30 17:31:57,364 - searcharray.indexing - INFO - Encoding positions to bit array\n",
      "2024-10-30 17:31:57,365 - searcharray.indexing - INFO - Batch tokenization complete\n",
      "2024-10-30 17:31:57,365 - searcharray.indexing - INFO - (main thread) Processing 1 batch results\n",
      "2024-10-30 17:31:57,366 - searcharray.indexing - INFO - Indexing from tokenization complete\n",
      "2024-10-30 17:31:57,377 - searcharray.indexing - INFO - Indexing begins w/ 4 workers\n",
      "2024-10-30 17:31:57,378 - searcharray.indexing - INFO - 0 Batch Start tokenization\n",
      "2024-10-30 17:31:57,379 - searcharray.indexing - INFO - Tokenizing 10 documents\n",
      "2024-10-30 17:31:57,379 - searcharray.indexing - INFO - Tokenization -- vstacking\n",
      "2024-10-30 17:31:57,379 - searcharray.indexing - INFO - Tokenization -- DONE\n",
      "2024-10-30 17:31:57,379 - searcharray.indexing - INFO - Inverting docs->terms\n",
      "2024-10-30 17:31:57,379 - searcharray.indexing - INFO - Encoding positions to bit array\n",
      "2024-10-30 17:31:57,380 - searcharray.indexing - INFO - Batch tokenization complete\n",
      "2024-10-30 17:31:57,380 - searcharray.indexing - INFO - (main thread) Processing 1 batch results\n",
      "2024-10-30 17:31:57,381 - searcharray.indexing - INFO - Indexing from tokenization complete\n",
      "2024-10-30 17:31:57,388 - searcharray.indexing - INFO - Indexing begins w/ 4 workers\n",
      "2024-10-30 17:31:57,389 - searcharray.indexing - INFO - 0 Batch Start tokenization\n",
      "2024-10-30 17:31:57,389 - searcharray.indexing - INFO - Tokenizing 10 documents\n",
      "2024-10-30 17:31:57,390 - searcharray.indexing - INFO - Tokenization -- vstacking\n",
      "2024-10-30 17:31:57,390 - searcharray.indexing - INFO - Tokenization -- DONE\n",
      "2024-10-30 17:31:57,391 - searcharray.indexing - INFO - Inverting docs->terms\n",
      "2024-10-30 17:31:57,391 - searcharray.indexing - INFO - Encoding positions to bit array\n",
      "2024-10-30 17:31:57,391 - searcharray.indexing - INFO - Batch tokenization complete\n",
      "2024-10-30 17:31:57,391 - searcharray.indexing - INFO - (main thread) Processing 1 batch results\n",
      "2024-10-30 17:31:57,392 - searcharray.indexing - INFO - Indexing from tokenization complete\n",
      "2024-10-30 17:31:57,398 - searcharray.indexing - INFO - Indexing begins w/ 4 workers\n",
      "2024-10-30 17:31:57,399 - searcharray.indexing - INFO - 0 Batch Start tokenization\n",
      "2024-10-30 17:31:57,399 - searcharray.indexing - INFO - Tokenizing 7 documents\n",
      "2024-10-30 17:31:57,399 - searcharray.indexing - INFO - Tokenization -- vstacking\n",
      "2024-10-30 17:31:57,400 - searcharray.indexing - INFO - Tokenization -- DONE\n",
      "2024-10-30 17:31:57,400 - searcharray.indexing - INFO - Inverting docs->terms\n",
      "2024-10-30 17:31:57,400 - searcharray.indexing - INFO - Encoding positions to bit array\n",
      "2024-10-30 17:31:57,401 - searcharray.indexing - INFO - Batch tokenization complete\n",
      "2024-10-30 17:31:57,401 - searcharray.indexing - INFO - (main thread) Processing 1 batch results\n",
      "2024-10-30 17:31:57,402 - searcharray.indexing - INFO - Indexing from tokenization complete\n",
      "2024-10-30 17:31:57,409 - searcharray.indexing - INFO - Indexing begins w/ 4 workers\n",
      "2024-10-30 17:31:57,409 - searcharray.indexing - INFO - 0 Batch Start tokenization\n",
      "2024-10-30 17:31:57,410 - searcharray.indexing - INFO - Tokenizing 2 documents\n",
      "2024-10-30 17:31:57,410 - searcharray.indexing - INFO - Tokenization -- vstacking\n",
      "2024-10-30 17:31:57,410 - searcharray.indexing - INFO - Tokenization -- DONE\n",
      "2024-10-30 17:31:57,410 - searcharray.indexing - INFO - Inverting docs->terms\n",
      "2024-10-30 17:31:57,411 - searcharray.indexing - INFO - Encoding positions to bit array\n",
      "2024-10-30 17:31:57,411 - searcharray.indexing - INFO - Batch tokenization complete\n",
      "2024-10-30 17:31:57,411 - searcharray.indexing - INFO - (main thread) Processing 1 batch results\n",
      "2024-10-30 17:31:57,412 - searcharray.indexing - INFO - Indexing from tokenization complete\n",
      "2024-10-30 17:31:57,419 - searcharray.indexing - INFO - Indexing begins w/ 4 workers\n",
      "2024-10-30 17:31:57,420 - searcharray.indexing - INFO - 0 Batch Start tokenization\n",
      "2024-10-30 17:31:57,420 - searcharray.indexing - INFO - Tokenizing 10 documents\n",
      "2024-10-30 17:31:57,420 - searcharray.indexing - INFO - Tokenization -- vstacking\n",
      "2024-10-30 17:31:57,421 - searcharray.indexing - INFO - Tokenization -- DONE\n",
      "2024-10-30 17:31:57,421 - searcharray.indexing - INFO - Inverting docs->terms\n",
      "2024-10-30 17:31:57,421 - searcharray.indexing - INFO - Encoding positions to bit array\n",
      "2024-10-30 17:31:57,422 - searcharray.indexing - INFO - Batch tokenization complete\n",
      "2024-10-30 17:31:57,422 - searcharray.indexing - INFO - (main thread) Processing 1 batch results\n",
      "2024-10-30 17:31:57,423 - searcharray.indexing - INFO - Indexing from tokenization complete\n",
      "2024-10-30 17:31:57,430 - searcharray.indexing - INFO - Indexing begins w/ 4 workers\n",
      "2024-10-30 17:31:57,430 - searcharray.indexing - INFO - 0 Batch Start tokenization\n",
      "2024-10-30 17:31:57,431 - searcharray.indexing - INFO - Tokenizing 10 documents\n",
      "2024-10-30 17:31:57,431 - searcharray.indexing - INFO - Tokenization -- vstacking\n",
      "2024-10-30 17:31:57,432 - searcharray.indexing - INFO - Tokenization -- DONE\n",
      "2024-10-30 17:31:57,432 - searcharray.indexing - INFO - Inverting docs->terms\n",
      "2024-10-30 17:31:57,432 - searcharray.indexing - INFO - Encoding positions to bit array\n",
      "2024-10-30 17:31:57,432 - searcharray.indexing - INFO - Batch tokenization complete\n",
      "2024-10-30 17:31:57,433 - searcharray.indexing - INFO - (main thread) Processing 1 batch results\n",
      "2024-10-30 17:31:57,433 - searcharray.indexing - INFO - Indexing from tokenization complete\n",
      "2024-10-30 17:31:57,441 - searcharray.indexing - INFO - Indexing begins w/ 4 workers\n",
      "2024-10-30 17:31:57,442 - searcharray.indexing - INFO - 0 Batch Start tokenization\n",
      "2024-10-30 17:31:57,442 - searcharray.indexing - INFO - Tokenizing 10 documents\n",
      "2024-10-30 17:31:57,443 - searcharray.indexing - INFO - Tokenization -- vstacking\n",
      "2024-10-30 17:31:57,443 - searcharray.indexing - INFO - Tokenization -- DONE\n",
      "2024-10-30 17:31:57,443 - searcharray.indexing - INFO - Inverting docs->terms\n",
      "2024-10-30 17:31:57,443 - searcharray.indexing - INFO - Encoding positions to bit array\n",
      "2024-10-30 17:31:57,444 - searcharray.indexing - INFO - Batch tokenization complete\n",
      "2024-10-30 17:31:57,444 - searcharray.indexing - INFO - (main thread) Processing 1 batch results\n",
      "2024-10-30 17:31:57,444 - searcharray.indexing - INFO - Indexing from tokenization complete\n",
      "2024-10-30 17:31:57,453 - searcharray.indexing - INFO - Indexing begins w/ 4 workers\n",
      "2024-10-30 17:31:57,454 - searcharray.indexing - INFO - 0 Batch Start tokenization\n",
      "2024-10-30 17:31:57,454 - searcharray.indexing - INFO - Tokenizing 10 documents\n",
      "2024-10-30 17:31:57,455 - searcharray.indexing - INFO - Tokenization -- vstacking\n",
      "2024-10-30 17:31:57,455 - searcharray.indexing - INFO - Tokenization -- DONE\n",
      "2024-10-30 17:31:57,456 - searcharray.indexing - INFO - Inverting docs->terms\n",
      "2024-10-30 17:31:57,456 - searcharray.indexing - INFO - Encoding positions to bit array\n",
      "2024-10-30 17:31:57,456 - searcharray.indexing - INFO - Batch tokenization complete\n",
      "2024-10-30 17:31:57,456 - searcharray.indexing - INFO - (main thread) Processing 1 batch results\n",
      "2024-10-30 17:31:57,457 - searcharray.indexing - INFO - Indexing from tokenization complete\n",
      "2024-10-30 17:31:57,466 - searcharray.indexing - INFO - Indexing begins w/ 4 workers\n",
      "2024-10-30 17:31:57,467 - searcharray.indexing - INFO - 0 Batch Start tokenization\n",
      "2024-10-30 17:31:57,467 - searcharray.indexing - INFO - Tokenizing 10 documents\n",
      "2024-10-30 17:31:57,467 - searcharray.indexing - INFO - Tokenization -- vstacking\n",
      "2024-10-30 17:31:57,468 - searcharray.indexing - INFO - Tokenization -- DONE\n",
      "2024-10-30 17:31:57,468 - searcharray.indexing - INFO - Inverting docs->terms\n",
      "2024-10-30 17:31:57,468 - searcharray.indexing - INFO - Encoding positions to bit array\n",
      "2024-10-30 17:31:57,469 - searcharray.indexing - INFO - Batch tokenization complete\n",
      "2024-10-30 17:31:57,469 - searcharray.indexing - INFO - (main thread) Processing 1 batch results\n",
      "2024-10-30 17:31:57,469 - searcharray.indexing - INFO - Indexing from tokenization complete\n",
      "2024-10-30 17:31:57,477 - searcharray.indexing - INFO - Indexing begins w/ 4 workers\n",
      "2024-10-30 17:31:57,478 - searcharray.indexing - INFO - 0 Batch Start tokenization\n",
      "2024-10-30 17:31:57,478 - searcharray.indexing - INFO - Tokenizing 9 documents\n",
      "2024-10-30 17:31:57,479 - searcharray.indexing - INFO - Tokenization -- vstacking\n",
      "2024-10-30 17:31:57,479 - searcharray.indexing - INFO - Tokenization -- DONE\n",
      "2024-10-30 17:31:57,479 - searcharray.indexing - INFO - Inverting docs->terms\n",
      "2024-10-30 17:31:57,479 - searcharray.indexing - INFO - Encoding positions to bit array\n",
      "2024-10-30 17:31:57,480 - searcharray.indexing - INFO - Batch tokenization complete\n",
      "2024-10-30 17:31:57,480 - searcharray.indexing - INFO - (main thread) Processing 1 batch results\n",
      "2024-10-30 17:31:57,480 - searcharray.indexing - INFO - Indexing from tokenization complete\n",
      "2024-10-30 17:31:57,490 - searcharray.indexing - INFO - Indexing begins w/ 4 workers\n",
      "2024-10-30 17:31:57,491 - searcharray.indexing - INFO - 0 Batch Start tokenization\n",
      "2024-10-30 17:31:57,491 - searcharray.indexing - INFO - Tokenizing 10 documents\n",
      "2024-10-30 17:31:57,492 - searcharray.indexing - INFO - Tokenization -- vstacking\n",
      "2024-10-30 17:31:57,492 - searcharray.indexing - INFO - Tokenization -- DONE\n",
      "2024-10-30 17:31:57,492 - searcharray.indexing - INFO - Inverting docs->terms\n",
      "2024-10-30 17:31:57,493 - searcharray.indexing - INFO - Encoding positions to bit array\n",
      "2024-10-30 17:31:57,493 - searcharray.indexing - INFO - Batch tokenization complete\n",
      "2024-10-30 17:31:57,493 - searcharray.indexing - INFO - (main thread) Processing 1 batch results\n",
      "2024-10-30 17:31:57,494 - searcharray.indexing - INFO - Indexing from tokenization complete\n",
      "2024-10-30 17:31:57,501 - searcharray.indexing - INFO - Indexing begins w/ 4 workers\n",
      "2024-10-30 17:31:57,501 - searcharray.indexing - INFO - 0 Batch Start tokenization\n",
      "2024-10-30 17:31:57,502 - searcharray.indexing - INFO - Tokenizing 5 documents\n",
      "2024-10-30 17:31:57,502 - searcharray.indexing - INFO - Tokenization -- vstacking\n",
      "2024-10-30 17:31:57,503 - searcharray.indexing - INFO - Tokenization -- DONE\n",
      "2024-10-30 17:31:57,503 - searcharray.indexing - INFO - Inverting docs->terms\n",
      "2024-10-30 17:31:57,503 - searcharray.indexing - INFO - Encoding positions to bit array\n",
      "2024-10-30 17:31:57,504 - searcharray.indexing - INFO - Batch tokenization complete\n",
      "2024-10-30 17:31:57,504 - searcharray.indexing - INFO - (main thread) Processing 1 batch results\n",
      "2024-10-30 17:31:57,505 - searcharray.indexing - INFO - Indexing from tokenization complete\n",
      "2024-10-30 17:31:57,513 - searcharray.indexing - INFO - Indexing begins w/ 4 workers\n",
      "2024-10-30 17:31:57,514 - searcharray.indexing - INFO - 0 Batch Start tokenization\n",
      "2024-10-30 17:31:57,515 - searcharray.indexing - INFO - Tokenizing 8 documents\n",
      "2024-10-30 17:31:57,515 - searcharray.indexing - INFO - Tokenization -- vstacking\n",
      "2024-10-30 17:31:57,515 - searcharray.indexing - INFO - Tokenization -- DONE\n",
      "2024-10-30 17:31:57,516 - searcharray.indexing - INFO - Inverting docs->terms\n",
      "2024-10-30 17:31:57,516 - searcharray.indexing - INFO - Encoding positions to bit array\n",
      "2024-10-30 17:31:57,516 - searcharray.indexing - INFO - Batch tokenization complete\n",
      "2024-10-30 17:31:57,517 - searcharray.indexing - INFO - (main thread) Processing 1 batch results\n",
      "2024-10-30 17:31:57,517 - searcharray.indexing - INFO - Indexing from tokenization complete\n",
      "2024-10-30 17:31:57,528 - searcharray.indexing - INFO - Indexing begins w/ 4 workers\n",
      "2024-10-30 17:31:57,528 - searcharray.indexing - INFO - 0 Batch Start tokenization\n",
      "2024-10-30 17:31:57,529 - searcharray.indexing - INFO - Tokenizing 10 documents\n",
      "2024-10-30 17:31:57,529 - searcharray.indexing - INFO - Tokenization -- vstacking\n",
      "2024-10-30 17:31:57,530 - searcharray.indexing - INFO - Tokenization -- DONE\n",
      "2024-10-30 17:31:57,530 - searcharray.indexing - INFO - Inverting docs->terms\n",
      "2024-10-30 17:31:57,530 - searcharray.indexing - INFO - Encoding positions to bit array\n",
      "2024-10-30 17:31:57,531 - searcharray.indexing - INFO - Batch tokenization complete\n",
      "2024-10-30 17:31:57,531 - searcharray.indexing - INFO - (main thread) Processing 1 batch results\n",
      "2024-10-30 17:31:57,531 - searcharray.indexing - INFO - Indexing from tokenization complete\n",
      "2024-10-30 17:31:57,540 - searcharray.indexing - INFO - Indexing begins w/ 4 workers\n",
      "2024-10-30 17:31:57,540 - searcharray.indexing - INFO - 0 Batch Start tokenization\n",
      "2024-10-30 17:31:57,541 - searcharray.indexing - INFO - Tokenizing 10 documents\n",
      "2024-10-30 17:31:57,541 - searcharray.indexing - INFO - Tokenization -- vstacking\n",
      "2024-10-30 17:31:57,541 - searcharray.indexing - INFO - Tokenization -- DONE\n",
      "2024-10-30 17:31:57,542 - searcharray.indexing - INFO - Inverting docs->terms\n",
      "2024-10-30 17:31:57,542 - searcharray.indexing - INFO - Encoding positions to bit array\n",
      "2024-10-30 17:31:57,542 - searcharray.indexing - INFO - Batch tokenization complete\n",
      "2024-10-30 17:31:57,543 - searcharray.indexing - INFO - (main thread) Processing 1 batch results\n",
      "2024-10-30 17:31:57,543 - searcharray.indexing - INFO - Indexing from tokenization complete\n",
      "2024-10-30 17:31:57,550 - searcharray.indexing - INFO - Indexing begins w/ 4 workers\n",
      "2024-10-30 17:31:57,551 - searcharray.indexing - INFO - 0 Batch Start tokenization\n",
      "2024-10-30 17:31:57,551 - searcharray.indexing - INFO - Tokenizing 10 documents\n",
      "2024-10-30 17:31:57,552 - searcharray.indexing - INFO - Tokenization -- vstacking\n",
      "2024-10-30 17:31:57,552 - searcharray.indexing - INFO - Tokenization -- DONE\n",
      "2024-10-30 17:31:57,553 - searcharray.indexing - INFO - Inverting docs->terms\n",
      "2024-10-30 17:31:57,553 - searcharray.indexing - INFO - Encoding positions to bit array\n",
      "2024-10-30 17:31:57,553 - searcharray.indexing - INFO - Batch tokenization complete\n",
      "2024-10-30 17:31:57,554 - searcharray.indexing - INFO - (main thread) Processing 1 batch results\n",
      "2024-10-30 17:31:57,554 - searcharray.indexing - INFO - Indexing from tokenization complete\n",
      "2024-10-30 17:31:57,561 - searcharray.indexing - INFO - Indexing begins w/ 4 workers\n",
      "2024-10-30 17:31:57,562 - searcharray.indexing - INFO - 0 Batch Start tokenization\n",
      "2024-10-30 17:31:57,562 - searcharray.indexing - INFO - Tokenizing 10 documents\n",
      "2024-10-30 17:31:57,563 - searcharray.indexing - INFO - Tokenization -- vstacking\n",
      "2024-10-30 17:31:57,563 - searcharray.indexing - INFO - Tokenization -- DONE\n",
      "2024-10-30 17:31:57,563 - searcharray.indexing - INFO - Inverting docs->terms\n",
      "2024-10-30 17:31:57,564 - searcharray.indexing - INFO - Encoding positions to bit array\n",
      "2024-10-30 17:31:57,564 - searcharray.indexing - INFO - Batch tokenization complete\n",
      "2024-10-30 17:31:57,565 - searcharray.indexing - INFO - (main thread) Processing 1 batch results\n",
      "2024-10-30 17:31:57,565 - searcharray.indexing - INFO - Indexing from tokenization complete\n",
      "2024-10-30 17:31:57,571 - searcharray.indexing - INFO - Indexing begins w/ 4 workers\n",
      "2024-10-30 17:31:57,572 - searcharray.indexing - INFO - 0 Batch Start tokenization\n",
      "2024-10-30 17:31:57,572 - searcharray.indexing - INFO - Tokenizing 10 documents\n",
      "2024-10-30 17:31:57,572 - searcharray.indexing - INFO - Tokenization -- vstacking\n",
      "2024-10-30 17:31:57,573 - searcharray.indexing - INFO - Tokenization -- DONE\n",
      "2024-10-30 17:31:57,573 - searcharray.indexing - INFO - Inverting docs->terms\n",
      "2024-10-30 17:31:57,573 - searcharray.indexing - INFO - Encoding positions to bit array\n",
      "2024-10-30 17:31:57,574 - searcharray.indexing - INFO - Batch tokenization complete\n",
      "2024-10-30 17:31:57,574 - searcharray.indexing - INFO - (main thread) Processing 1 batch results\n",
      "2024-10-30 17:31:57,575 - searcharray.indexing - INFO - Indexing from tokenization complete\n",
      "2024-10-30 17:31:57,582 - searcharray.indexing - INFO - Indexing begins w/ 4 workers\n",
      "2024-10-30 17:31:57,583 - searcharray.indexing - INFO - 0 Batch Start tokenization\n",
      "2024-10-30 17:31:57,583 - searcharray.indexing - INFO - Tokenizing 10 documents\n",
      "2024-10-30 17:31:57,584 - searcharray.indexing - INFO - Tokenization -- vstacking\n",
      "2024-10-30 17:31:57,584 - searcharray.indexing - INFO - Tokenization -- DONE\n",
      "2024-10-30 17:31:57,584 - searcharray.indexing - INFO - Inverting docs->terms\n",
      "2024-10-30 17:31:57,585 - searcharray.indexing - INFO - Encoding positions to bit array\n",
      "2024-10-30 17:31:57,585 - searcharray.indexing - INFO - Batch tokenization complete\n",
      "2024-10-30 17:31:57,585 - searcharray.indexing - INFO - (main thread) Processing 1 batch results\n",
      "2024-10-30 17:31:57,586 - searcharray.indexing - INFO - Indexing from tokenization complete\n",
      "2024-10-30 17:31:57,598 - searcharray.indexing - INFO - Indexing begins w/ 4 workers\n",
      "2024-10-30 17:31:57,599 - searcharray.indexing - INFO - 0 Batch Start tokenization\n",
      "2024-10-30 17:31:57,599 - searcharray.indexing - INFO - Tokenizing 10 documents\n",
      "2024-10-30 17:31:57,600 - searcharray.indexing - INFO - Tokenization -- vstacking\n",
      "2024-10-30 17:31:57,600 - searcharray.indexing - INFO - Tokenization -- DONE\n",
      "2024-10-30 17:31:57,600 - searcharray.indexing - INFO - Inverting docs->terms\n",
      "2024-10-30 17:31:57,601 - searcharray.indexing - INFO - Encoding positions to bit array\n",
      "2024-10-30 17:31:57,601 - searcharray.indexing - INFO - Batch tokenization complete\n",
      "2024-10-30 17:31:57,601 - searcharray.indexing - INFO - (main thread) Processing 1 batch results\n",
      "2024-10-30 17:31:57,602 - searcharray.indexing - INFO - Indexing from tokenization complete\n",
      "2024-10-30 17:31:57,609 - searcharray.indexing - INFO - Indexing begins w/ 4 workers\n",
      "2024-10-30 17:31:57,609 - searcharray.indexing - INFO - 0 Batch Start tokenization\n",
      "2024-10-30 17:31:57,610 - searcharray.indexing - INFO - Tokenizing 10 documents\n",
      "2024-10-30 17:31:57,610 - searcharray.indexing - INFO - Tokenization -- vstacking\n",
      "2024-10-30 17:31:57,610 - searcharray.indexing - INFO - Tokenization -- DONE\n",
      "2024-10-30 17:31:57,611 - searcharray.indexing - INFO - Inverting docs->terms\n",
      "2024-10-30 17:31:57,611 - searcharray.indexing - INFO - Encoding positions to bit array\n",
      "2024-10-30 17:31:57,611 - searcharray.indexing - INFO - Batch tokenization complete\n",
      "2024-10-30 17:31:57,612 - searcharray.indexing - INFO - (main thread) Processing 1 batch results\n",
      "2024-10-30 17:31:57,612 - searcharray.indexing - INFO - Indexing from tokenization complete\n",
      "2024-10-30 17:31:57,623 - searcharray.indexing - INFO - Indexing begins w/ 4 workers\n",
      "2024-10-30 17:31:57,624 - searcharray.indexing - INFO - 0 Batch Start tokenization\n",
      "2024-10-30 17:31:57,625 - searcharray.indexing - INFO - Tokenizing 9 documents\n",
      "2024-10-30 17:31:57,625 - searcharray.indexing - INFO - Tokenization -- vstacking\n",
      "2024-10-30 17:31:57,625 - searcharray.indexing - INFO - Tokenization -- DONE\n",
      "2024-10-30 17:31:57,626 - searcharray.indexing - INFO - Inverting docs->terms\n",
      "2024-10-30 17:31:57,626 - searcharray.indexing - INFO - Encoding positions to bit array\n",
      "2024-10-30 17:31:57,626 - searcharray.indexing - INFO - Batch tokenization complete\n",
      "2024-10-30 17:31:57,627 - searcharray.indexing - INFO - (main thread) Processing 1 batch results\n",
      "2024-10-30 17:31:57,627 - searcharray.indexing - INFO - Indexing from tokenization complete\n",
      "2024-10-30 17:31:57,634 - searcharray.indexing - INFO - Indexing begins w/ 4 workers\n",
      "2024-10-30 17:31:57,634 - searcharray.indexing - INFO - 0 Batch Start tokenization\n",
      "2024-10-30 17:31:57,635 - searcharray.indexing - INFO - Tokenizing 8 documents\n",
      "2024-10-30 17:31:57,635 - searcharray.indexing - INFO - Tokenization -- vstacking\n",
      "2024-10-30 17:31:57,635 - searcharray.indexing - INFO - Tokenization -- DONE\n",
      "2024-10-30 17:31:57,636 - searcharray.indexing - INFO - Inverting docs->terms\n",
      "2024-10-30 17:31:57,636 - searcharray.indexing - INFO - Encoding positions to bit array\n",
      "2024-10-30 17:31:57,636 - searcharray.indexing - INFO - Batch tokenization complete\n",
      "2024-10-30 17:31:57,637 - searcharray.indexing - INFO - (main thread) Processing 1 batch results\n",
      "2024-10-30 17:31:57,637 - searcharray.indexing - INFO - Indexing from tokenization complete\n",
      "2024-10-30 17:31:57,644 - searcharray.indexing - INFO - Indexing begins w/ 4 workers\n",
      "2024-10-30 17:31:57,645 - searcharray.indexing - INFO - 0 Batch Start tokenization\n",
      "2024-10-30 17:31:57,646 - searcharray.indexing - INFO - Tokenizing 10 documents\n",
      "2024-10-30 17:31:57,646 - searcharray.indexing - INFO - Tokenization -- vstacking\n",
      "2024-10-30 17:31:57,646 - searcharray.indexing - INFO - Tokenization -- DONE\n",
      "2024-10-30 17:31:57,646 - searcharray.indexing - INFO - Inverting docs->terms\n",
      "2024-10-30 17:31:57,647 - searcharray.indexing - INFO - Encoding positions to bit array\n",
      "2024-10-30 17:31:57,647 - searcharray.indexing - INFO - Batch tokenization complete\n",
      "2024-10-30 17:31:57,647 - searcharray.indexing - INFO - (main thread) Processing 1 batch results\n",
      "2024-10-30 17:31:57,648 - searcharray.indexing - INFO - Indexing from tokenization complete\n",
      "2024-10-30 17:31:57,657 - searcharray.indexing - INFO - Indexing begins w/ 4 workers\n",
      "2024-10-30 17:31:57,658 - searcharray.indexing - INFO - 0 Batch Start tokenization\n",
      "2024-10-30 17:31:57,658 - searcharray.indexing - INFO - Tokenizing 10 documents\n",
      "2024-10-30 17:31:57,658 - searcharray.indexing - INFO - Tokenization -- vstacking\n",
      "2024-10-30 17:31:57,659 - searcharray.indexing - INFO - Tokenization -- DONE\n",
      "2024-10-30 17:31:57,659 - searcharray.indexing - INFO - Inverting docs->terms\n",
      "2024-10-30 17:31:57,659 - searcharray.indexing - INFO - Encoding positions to bit array\n",
      "2024-10-30 17:31:57,659 - searcharray.indexing - INFO - Batch tokenization complete\n",
      "2024-10-30 17:31:57,660 - searcharray.indexing - INFO - (main thread) Processing 1 batch results\n",
      "2024-10-30 17:31:57,660 - searcharray.indexing - INFO - Indexing from tokenization complete\n",
      "2024-10-30 17:31:57,668 - searcharray.indexing - INFO - Indexing begins w/ 4 workers\n",
      "2024-10-30 17:31:57,669 - searcharray.indexing - INFO - 0 Batch Start tokenization\n",
      "2024-10-30 17:31:57,669 - searcharray.indexing - INFO - Tokenizing 9 documents\n",
      "2024-10-30 17:31:57,670 - searcharray.indexing - INFO - Tokenization -- vstacking\n",
      "2024-10-30 17:31:57,670 - searcharray.indexing - INFO - Tokenization -- DONE\n",
      "2024-10-30 17:31:57,670 - searcharray.indexing - INFO - Inverting docs->terms\n",
      "2024-10-30 17:31:57,670 - searcharray.indexing - INFO - Encoding positions to bit array\n",
      "2024-10-30 17:31:57,671 - searcharray.indexing - INFO - Batch tokenization complete\n",
      "2024-10-30 17:31:57,671 - searcharray.indexing - INFO - (main thread) Processing 1 batch results\n",
      "2024-10-30 17:31:57,671 - searcharray.indexing - INFO - Indexing from tokenization complete\n",
      "2024-10-30 17:31:57,681 - searcharray.indexing - INFO - Indexing begins w/ 4 workers\n",
      "2024-10-30 17:31:57,682 - searcharray.indexing - INFO - 0 Batch Start tokenization\n",
      "2024-10-30 17:31:57,683 - searcharray.indexing - INFO - Tokenizing 10 documents\n",
      "2024-10-30 17:31:57,683 - searcharray.indexing - INFO - Tokenization -- vstacking\n",
      "2024-10-30 17:31:57,684 - searcharray.indexing - INFO - Tokenization -- DONE\n",
      "2024-10-30 17:31:57,684 - searcharray.indexing - INFO - Inverting docs->terms\n",
      "2024-10-30 17:31:57,684 - searcharray.indexing - INFO - Encoding positions to bit array\n",
      "2024-10-30 17:31:57,685 - searcharray.indexing - INFO - Batch tokenization complete\n",
      "2024-10-30 17:31:57,685 - searcharray.indexing - INFO - (main thread) Processing 1 batch results\n",
      "2024-10-30 17:31:57,686 - searcharray.indexing - INFO - Indexing from tokenization complete\n",
      "2024-10-30 17:31:57,693 - searcharray.indexing - INFO - Indexing begins w/ 4 workers\n",
      "2024-10-30 17:31:57,693 - searcharray.indexing - INFO - 0 Batch Start tokenization\n",
      "2024-10-30 17:31:57,693 - searcharray.indexing - INFO - Tokenizing 10 documents\n",
      "2024-10-30 17:31:57,694 - searcharray.indexing - INFO - Tokenization -- vstacking\n",
      "2024-10-30 17:31:57,694 - searcharray.indexing - INFO - Tokenization -- DONE\n",
      "2024-10-30 17:31:57,694 - searcharray.indexing - INFO - Inverting docs->terms\n",
      "2024-10-30 17:31:57,695 - searcharray.indexing - INFO - Encoding positions to bit array\n",
      "2024-10-30 17:31:57,695 - searcharray.indexing - INFO - Batch tokenization complete\n",
      "2024-10-30 17:31:57,696 - searcharray.indexing - INFO - (main thread) Processing 1 batch results\n",
      "2024-10-30 17:31:57,696 - searcharray.indexing - INFO - Indexing from tokenization complete\n",
      "2024-10-30 17:31:57,703 - searcharray.indexing - INFO - Indexing begins w/ 4 workers\n",
      "2024-10-30 17:31:57,704 - searcharray.indexing - INFO - 0 Batch Start tokenization\n",
      "2024-10-30 17:31:57,704 - searcharray.indexing - INFO - Tokenizing 10 documents\n",
      "2024-10-30 17:31:57,704 - searcharray.indexing - INFO - Tokenization -- vstacking\n",
      "2024-10-30 17:31:57,705 - searcharray.indexing - INFO - Tokenization -- DONE\n",
      "2024-10-30 17:31:57,705 - searcharray.indexing - INFO - Inverting docs->terms\n",
      "2024-10-30 17:31:57,705 - searcharray.indexing - INFO - Encoding positions to bit array\n",
      "2024-10-30 17:31:57,706 - searcharray.indexing - INFO - Batch tokenization complete\n",
      "2024-10-30 17:31:57,706 - searcharray.indexing - INFO - (main thread) Processing 1 batch results\n",
      "2024-10-30 17:31:57,706 - searcharray.indexing - INFO - Indexing from tokenization complete\n",
      "2024-10-30 17:31:57,715 - searcharray.indexing - INFO - Indexing begins w/ 4 workers\n",
      "2024-10-30 17:31:57,715 - searcharray.indexing - INFO - 0 Batch Start tokenization\n",
      "2024-10-30 17:31:57,715 - searcharray.indexing - INFO - Tokenizing 5 documents\n",
      "2024-10-30 17:31:57,716 - searcharray.indexing - INFO - Tokenization -- vstacking\n",
      "2024-10-30 17:31:57,716 - searcharray.indexing - INFO - Tokenization -- DONE\n",
      "2024-10-30 17:31:57,716 - searcharray.indexing - INFO - Inverting docs->terms\n",
      "2024-10-30 17:31:57,717 - searcharray.indexing - INFO - Encoding positions to bit array\n",
      "2024-10-30 17:31:57,717 - searcharray.indexing - INFO - Batch tokenization complete\n",
      "2024-10-30 17:31:57,717 - searcharray.indexing - INFO - (main thread) Processing 1 batch results\n",
      "2024-10-30 17:31:57,718 - searcharray.indexing - INFO - Indexing from tokenization complete\n",
      "2024-10-30 17:31:57,726 - searcharray.indexing - INFO - Indexing begins w/ 4 workers\n",
      "2024-10-30 17:31:57,726 - searcharray.indexing - INFO - 0 Batch Start tokenization\n",
      "2024-10-30 17:31:57,727 - searcharray.indexing - INFO - Tokenizing 10 documents\n",
      "2024-10-30 17:31:57,727 - searcharray.indexing - INFO - Tokenization -- vstacking\n",
      "2024-10-30 17:31:57,728 - searcharray.indexing - INFO - Tokenization -- DONE\n",
      "2024-10-30 17:31:57,728 - searcharray.indexing - INFO - Inverting docs->terms\n",
      "2024-10-30 17:31:57,728 - searcharray.indexing - INFO - Encoding positions to bit array\n",
      "2024-10-30 17:31:57,729 - searcharray.indexing - INFO - Batch tokenization complete\n",
      "2024-10-30 17:31:57,729 - searcharray.indexing - INFO - (main thread) Processing 1 batch results\n",
      "2024-10-30 17:31:57,730 - searcharray.indexing - INFO - Indexing from tokenization complete\n",
      "2024-10-30 17:31:57,737 - searcharray.indexing - INFO - Indexing begins w/ 4 workers\n",
      "2024-10-30 17:31:57,738 - searcharray.indexing - INFO - 0 Batch Start tokenization\n",
      "2024-10-30 17:31:57,738 - searcharray.indexing - INFO - Tokenizing 10 documents\n",
      "2024-10-30 17:31:57,738 - searcharray.indexing - INFO - Tokenization -- vstacking\n",
      "2024-10-30 17:31:57,739 - searcharray.indexing - INFO - Tokenization -- DONE\n",
      "2024-10-30 17:31:57,739 - searcharray.indexing - INFO - Inverting docs->terms\n",
      "2024-10-30 17:31:57,739 - searcharray.indexing - INFO - Encoding positions to bit array\n",
      "2024-10-30 17:31:57,740 - searcharray.indexing - INFO - Batch tokenization complete\n",
      "2024-10-30 17:31:57,740 - searcharray.indexing - INFO - (main thread) Processing 1 batch results\n",
      "2024-10-30 17:31:57,740 - searcharray.indexing - INFO - Indexing from tokenization complete\n",
      "2024-10-30 17:31:57,748 - searcharray.indexing - INFO - Indexing begins w/ 4 workers\n",
      "2024-10-30 17:31:57,748 - searcharray.indexing - INFO - 0 Batch Start tokenization\n",
      "2024-10-30 17:31:57,749 - searcharray.indexing - INFO - Tokenizing 10 documents\n",
      "2024-10-30 17:31:57,750 - searcharray.indexing - INFO - Tokenization -- vstacking\n",
      "2024-10-30 17:31:57,750 - searcharray.indexing - INFO - Tokenization -- DONE\n",
      "2024-10-30 17:31:57,750 - searcharray.indexing - INFO - Inverting docs->terms\n",
      "2024-10-30 17:31:57,751 - searcharray.indexing - INFO - Encoding positions to bit array\n",
      "2024-10-30 17:31:57,751 - searcharray.indexing - INFO - Batch tokenization complete\n",
      "2024-10-30 17:31:57,751 - searcharray.indexing - INFO - (main thread) Processing 1 batch results\n",
      "2024-10-30 17:31:57,752 - searcharray.indexing - INFO - Indexing from tokenization complete\n",
      "2024-10-30 17:31:57,761 - searcharray.indexing - INFO - Indexing begins w/ 4 workers\n",
      "2024-10-30 17:31:57,761 - searcharray.indexing - INFO - 0 Batch Start tokenization\n",
      "2024-10-30 17:31:57,762 - searcharray.indexing - INFO - Tokenizing 10 documents\n",
      "2024-10-30 17:31:57,762 - searcharray.indexing - INFO - Tokenization -- vstacking\n",
      "2024-10-30 17:31:57,763 - searcharray.indexing - INFO - Tokenization -- DONE\n",
      "2024-10-30 17:31:57,763 - searcharray.indexing - INFO - Inverting docs->terms\n",
      "2024-10-30 17:31:57,763 - searcharray.indexing - INFO - Encoding positions to bit array\n",
      "2024-10-30 17:31:57,764 - searcharray.indexing - INFO - Batch tokenization complete\n",
      "2024-10-30 17:31:57,764 - searcharray.indexing - INFO - (main thread) Processing 1 batch results\n",
      "2024-10-30 17:31:57,764 - searcharray.indexing - INFO - Indexing from tokenization complete\n",
      "2024-10-30 17:31:57,771 - searcharray.indexing - INFO - Indexing begins w/ 4 workers\n",
      "2024-10-30 17:31:57,772 - searcharray.indexing - INFO - 0 Batch Start tokenization\n",
      "2024-10-30 17:31:57,773 - searcharray.indexing - INFO - Tokenizing 10 documents\n",
      "2024-10-30 17:31:57,773 - searcharray.indexing - INFO - Tokenization -- vstacking\n",
      "2024-10-30 17:31:57,773 - searcharray.indexing - INFO - Tokenization -- DONE\n",
      "2024-10-30 17:31:57,774 - searcharray.indexing - INFO - Inverting docs->terms\n",
      "2024-10-30 17:31:57,774 - searcharray.indexing - INFO - Encoding positions to bit array\n",
      "2024-10-30 17:31:57,774 - searcharray.indexing - INFO - Batch tokenization complete\n",
      "2024-10-30 17:31:57,775 - searcharray.indexing - INFO - (main thread) Processing 1 batch results\n",
      "2024-10-30 17:31:57,775 - searcharray.indexing - INFO - Indexing from tokenization complete\n",
      "2024-10-30 17:31:57,781 - searcharray.indexing - INFO - Indexing begins w/ 4 workers\n",
      "2024-10-30 17:31:57,782 - searcharray.indexing - INFO - 0 Batch Start tokenization\n",
      "2024-10-30 17:31:57,782 - searcharray.indexing - INFO - Tokenizing 5 documents\n",
      "2024-10-30 17:31:57,783 - searcharray.indexing - INFO - Tokenization -- vstacking\n",
      "2024-10-30 17:31:57,783 - searcharray.indexing - INFO - Tokenization -- DONE\n",
      "2024-10-30 17:31:57,783 - searcharray.indexing - INFO - Inverting docs->terms\n",
      "2024-10-30 17:31:57,784 - searcharray.indexing - INFO - Encoding positions to bit array\n",
      "2024-10-30 17:31:57,784 - searcharray.indexing - INFO - Batch tokenization complete\n",
      "2024-10-30 17:31:57,784 - searcharray.indexing - INFO - (main thread) Processing 1 batch results\n",
      "2024-10-30 17:31:57,785 - searcharray.indexing - INFO - Indexing from tokenization complete\n",
      "2024-10-30 17:31:57,798 - searcharray.indexing - INFO - Indexing begins w/ 4 workers\n",
      "2024-10-30 17:31:57,798 - searcharray.indexing - INFO - 0 Batch Start tokenization\n",
      "2024-10-30 17:31:57,799 - searcharray.indexing - INFO - Tokenizing 10 documents\n",
      "2024-10-30 17:31:57,799 - searcharray.indexing - INFO - Tokenization -- vstacking\n",
      "2024-10-30 17:31:57,800 - searcharray.indexing - INFO - Tokenization -- DONE\n",
      "2024-10-30 17:31:57,800 - searcharray.indexing - INFO - Inverting docs->terms\n",
      "2024-10-30 17:31:57,800 - searcharray.indexing - INFO - Encoding positions to bit array\n",
      "2024-10-30 17:31:57,801 - searcharray.indexing - INFO - Batch tokenization complete\n",
      "2024-10-30 17:31:57,801 - searcharray.indexing - INFO - (main thread) Processing 1 batch results\n",
      "2024-10-30 17:31:57,801 - searcharray.indexing - INFO - Indexing from tokenization complete\n",
      "2024-10-30 17:31:57,808 - searcharray.indexing - INFO - Indexing begins w/ 4 workers\n",
      "2024-10-30 17:31:57,809 - searcharray.indexing - INFO - 0 Batch Start tokenization\n",
      "2024-10-30 17:31:57,809 - searcharray.indexing - INFO - Tokenizing 10 documents\n",
      "2024-10-30 17:31:57,810 - searcharray.indexing - INFO - Tokenization -- vstacking\n",
      "2024-10-30 17:31:57,810 - searcharray.indexing - INFO - Tokenization -- DONE\n",
      "2024-10-30 17:31:57,810 - searcharray.indexing - INFO - Inverting docs->terms\n",
      "2024-10-30 17:31:57,810 - searcharray.indexing - INFO - Encoding positions to bit array\n",
      "2024-10-30 17:31:57,811 - searcharray.indexing - INFO - Batch tokenization complete\n",
      "2024-10-30 17:31:57,811 - searcharray.indexing - INFO - (main thread) Processing 1 batch results\n",
      "2024-10-30 17:31:57,812 - searcharray.indexing - INFO - Indexing from tokenization complete\n",
      "2024-10-30 17:31:57,824 - searcharray.indexing - INFO - Indexing begins w/ 4 workers\n",
      "2024-10-30 17:31:57,825 - searcharray.indexing - INFO - 0 Batch Start tokenization\n",
      "2024-10-30 17:31:57,825 - searcharray.indexing - INFO - Tokenizing 10 documents\n",
      "2024-10-30 17:31:57,826 - searcharray.indexing - INFO - Tokenization -- vstacking\n",
      "2024-10-30 17:31:57,826 - searcharray.indexing - INFO - Tokenization -- DONE\n",
      "2024-10-30 17:31:57,826 - searcharray.indexing - INFO - Inverting docs->terms\n",
      "2024-10-30 17:31:57,827 - searcharray.indexing - INFO - Encoding positions to bit array\n",
      "2024-10-30 17:31:57,827 - searcharray.indexing - INFO - Batch tokenization complete\n",
      "2024-10-30 17:31:57,827 - searcharray.indexing - INFO - (main thread) Processing 1 batch results\n",
      "2024-10-30 17:31:57,828 - searcharray.indexing - INFO - Indexing from tokenization complete\n",
      "2024-10-30 17:31:57,835 - searcharray.indexing - INFO - Indexing begins w/ 4 workers\n",
      "2024-10-30 17:31:57,836 - searcharray.indexing - INFO - 0 Batch Start tokenization\n",
      "2024-10-30 17:31:57,837 - searcharray.indexing - INFO - Tokenizing 10 documents\n",
      "2024-10-30 17:31:57,837 - searcharray.indexing - INFO - Tokenization -- vstacking\n",
      "2024-10-30 17:31:57,837 - searcharray.indexing - INFO - Tokenization -- DONE\n",
      "2024-10-30 17:31:57,838 - searcharray.indexing - INFO - Inverting docs->terms\n",
      "2024-10-30 17:31:57,838 - searcharray.indexing - INFO - Encoding positions to bit array\n",
      "2024-10-30 17:31:57,838 - searcharray.indexing - INFO - Batch tokenization complete\n",
      "2024-10-30 17:31:57,839 - searcharray.indexing - INFO - (main thread) Processing 1 batch results\n",
      "2024-10-30 17:31:57,839 - searcharray.indexing - INFO - Indexing from tokenization complete\n",
      "2024-10-30 17:31:57,846 - searcharray.indexing - INFO - Indexing begins w/ 4 workers\n",
      "2024-10-30 17:31:57,847 - searcharray.indexing - INFO - 0 Batch Start tokenization\n",
      "2024-10-30 17:31:57,847 - searcharray.indexing - INFO - Tokenizing 9 documents\n",
      "2024-10-30 17:31:57,847 - searcharray.indexing - INFO - Tokenization -- vstacking\n",
      "2024-10-30 17:31:57,848 - searcharray.indexing - INFO - Tokenization -- DONE\n",
      "2024-10-30 17:31:57,848 - searcharray.indexing - INFO - Inverting docs->terms\n",
      "2024-10-30 17:31:57,848 - searcharray.indexing - INFO - Encoding positions to bit array\n",
      "2024-10-30 17:31:57,849 - searcharray.indexing - INFO - Batch tokenization complete\n",
      "2024-10-30 17:31:57,849 - searcharray.indexing - INFO - (main thread) Processing 1 batch results\n",
      "2024-10-30 17:31:57,850 - searcharray.indexing - INFO - Indexing from tokenization complete\n",
      "2024-10-30 17:31:57,858 - searcharray.indexing - INFO - Indexing begins w/ 4 workers\n",
      "2024-10-30 17:31:57,859 - searcharray.indexing - INFO - 0 Batch Start tokenization\n",
      "2024-10-30 17:31:57,859 - searcharray.indexing - INFO - Tokenizing 10 documents\n",
      "2024-10-30 17:31:57,860 - searcharray.indexing - INFO - Tokenization -- vstacking\n",
      "2024-10-30 17:31:57,860 - searcharray.indexing - INFO - Tokenization -- DONE\n",
      "2024-10-30 17:31:57,860 - searcharray.indexing - INFO - Inverting docs->terms\n",
      "2024-10-30 17:31:57,861 - searcharray.indexing - INFO - Encoding positions to bit array\n",
      "2024-10-30 17:31:57,861 - searcharray.indexing - INFO - Batch tokenization complete\n",
      "2024-10-30 17:31:57,862 - searcharray.indexing - INFO - (main thread) Processing 1 batch results\n",
      "2024-10-30 17:31:57,862 - searcharray.indexing - INFO - Indexing from tokenization complete\n",
      "2024-10-30 17:31:57,870 - searcharray.indexing - INFO - Indexing begins w/ 4 workers\n",
      "2024-10-30 17:31:57,870 - searcharray.indexing - INFO - 0 Batch Start tokenization\n",
      "2024-10-30 17:31:57,870 - searcharray.indexing - INFO - Tokenizing 10 documents\n",
      "2024-10-30 17:31:57,871 - searcharray.indexing - INFO - Tokenization -- vstacking\n",
      "2024-10-30 17:31:57,871 - searcharray.indexing - INFO - Tokenization -- DONE\n",
      "2024-10-30 17:31:57,871 - searcharray.indexing - INFO - Inverting docs->terms\n",
      "2024-10-30 17:31:57,872 - searcharray.indexing - INFO - Encoding positions to bit array\n",
      "2024-10-30 17:31:57,872 - searcharray.indexing - INFO - Batch tokenization complete\n",
      "2024-10-30 17:31:57,872 - searcharray.indexing - INFO - (main thread) Processing 1 batch results\n",
      "2024-10-30 17:31:57,873 - searcharray.indexing - INFO - Indexing from tokenization complete\n",
      "2024-10-30 17:31:57,880 - searcharray.indexing - INFO - Indexing begins w/ 4 workers\n",
      "2024-10-30 17:31:57,880 - searcharray.indexing - INFO - 0 Batch Start tokenization\n",
      "2024-10-30 17:31:57,881 - searcharray.indexing - INFO - Tokenizing 10 documents\n",
      "2024-10-30 17:31:57,881 - searcharray.indexing - INFO - Tokenization -- vstacking\n",
      "2024-10-30 17:31:57,881 - searcharray.indexing - INFO - Tokenization -- DONE\n",
      "2024-10-30 17:31:57,882 - searcharray.indexing - INFO - Inverting docs->terms\n",
      "2024-10-30 17:31:57,882 - searcharray.indexing - INFO - Encoding positions to bit array\n",
      "2024-10-30 17:31:57,883 - searcharray.indexing - INFO - Batch tokenization complete\n",
      "2024-10-30 17:31:57,883 - searcharray.indexing - INFO - (main thread) Processing 1 batch results\n",
      "2024-10-30 17:31:57,884 - searcharray.indexing - INFO - Indexing from tokenization complete\n",
      "2024-10-30 17:31:57,890 - searcharray.indexing - INFO - Indexing begins w/ 4 workers\n",
      "2024-10-30 17:31:57,891 - searcharray.indexing - INFO - 0 Batch Start tokenization\n",
      "2024-10-30 17:31:57,891 - searcharray.indexing - INFO - Tokenizing 10 documents\n",
      "2024-10-30 17:31:57,891 - searcharray.indexing - INFO - Tokenization -- vstacking\n",
      "2024-10-30 17:31:57,892 - searcharray.indexing - INFO - Tokenization -- DONE\n",
      "2024-10-30 17:31:57,892 - searcharray.indexing - INFO - Inverting docs->terms\n",
      "2024-10-30 17:31:57,892 - searcharray.indexing - INFO - Encoding positions to bit array\n",
      "2024-10-30 17:31:57,892 - searcharray.indexing - INFO - Batch tokenization complete\n",
      "2024-10-30 17:31:57,893 - searcharray.indexing - INFO - (main thread) Processing 1 batch results\n",
      "2024-10-30 17:31:57,893 - searcharray.indexing - INFO - Indexing from tokenization complete\n",
      "2024-10-30 17:31:57,899 - searcharray.indexing - INFO - Indexing begins w/ 4 workers\n",
      "2024-10-30 17:31:57,900 - searcharray.indexing - INFO - 0 Batch Start tokenization\n",
      "2024-10-30 17:31:57,900 - searcharray.indexing - INFO - Tokenizing 4 documents\n",
      "2024-10-30 17:31:57,901 - searcharray.indexing - INFO - Tokenization -- vstacking\n",
      "2024-10-30 17:31:57,901 - searcharray.indexing - INFO - Tokenization -- DONE\n",
      "2024-10-30 17:31:57,901 - searcharray.indexing - INFO - Inverting docs->terms\n",
      "2024-10-30 17:31:57,901 - searcharray.indexing - INFO - Encoding positions to bit array\n",
      "2024-10-30 17:31:57,902 - searcharray.indexing - INFO - Batch tokenization complete\n",
      "2024-10-30 17:31:57,902 - searcharray.indexing - INFO - (main thread) Processing 1 batch results\n",
      "2024-10-30 17:31:57,902 - searcharray.indexing - INFO - Indexing from tokenization complete\n",
      "2024-10-30 17:31:57,909 - searcharray.indexing - INFO - Indexing begins w/ 4 workers\n",
      "2024-10-30 17:31:57,910 - searcharray.indexing - INFO - 0 Batch Start tokenization\n",
      "2024-10-30 17:31:57,910 - searcharray.indexing - INFO - Tokenizing 10 documents\n",
      "2024-10-30 17:31:57,911 - searcharray.indexing - INFO - Tokenization -- vstacking\n",
      "2024-10-30 17:31:57,911 - searcharray.indexing - INFO - Tokenization -- DONE\n",
      "2024-10-30 17:31:57,911 - searcharray.indexing - INFO - Inverting docs->terms\n",
      "2024-10-30 17:31:57,912 - searcharray.indexing - INFO - Encoding positions to bit array\n",
      "2024-10-30 17:31:57,912 - searcharray.indexing - INFO - Batch tokenization complete\n",
      "2024-10-30 17:31:57,912 - searcharray.indexing - INFO - (main thread) Processing 1 batch results\n",
      "2024-10-30 17:31:57,913 - searcharray.indexing - INFO - Indexing from tokenization complete\n",
      "2024-10-30 17:31:57,919 - searcharray.indexing - INFO - Indexing begins w/ 4 workers\n",
      "2024-10-30 17:31:57,920 - searcharray.indexing - INFO - 0 Batch Start tokenization\n",
      "2024-10-30 17:31:57,920 - searcharray.indexing - INFO - Tokenizing 5 documents\n",
      "2024-10-30 17:31:57,921 - searcharray.indexing - INFO - Tokenization -- vstacking\n",
      "2024-10-30 17:31:57,921 - searcharray.indexing - INFO - Tokenization -- DONE\n",
      "2024-10-30 17:31:57,921 - searcharray.indexing - INFO - Inverting docs->terms\n",
      "2024-10-30 17:31:57,921 - searcharray.indexing - INFO - Encoding positions to bit array\n",
      "2024-10-30 17:31:57,922 - searcharray.indexing - INFO - Batch tokenization complete\n",
      "2024-10-30 17:31:57,922 - searcharray.indexing - INFO - (main thread) Processing 1 batch results\n",
      "2024-10-30 17:31:57,923 - searcharray.indexing - INFO - Indexing from tokenization complete\n",
      "2024-10-30 17:31:57,930 - searcharray.indexing - INFO - Indexing begins w/ 4 workers\n",
      "2024-10-30 17:31:57,931 - searcharray.indexing - INFO - 0 Batch Start tokenization\n",
      "2024-10-30 17:31:57,931 - searcharray.indexing - INFO - Tokenizing 10 documents\n",
      "2024-10-30 17:31:57,931 - searcharray.indexing - INFO - Tokenization -- vstacking\n",
      "2024-10-30 17:31:57,932 - searcharray.indexing - INFO - Tokenization -- DONE\n",
      "2024-10-30 17:31:57,932 - searcharray.indexing - INFO - Inverting docs->terms\n",
      "2024-10-30 17:31:57,932 - searcharray.indexing - INFO - Encoding positions to bit array\n",
      "2024-10-30 17:31:57,932 - searcharray.indexing - INFO - Batch tokenization complete\n",
      "2024-10-30 17:31:57,933 - searcharray.indexing - INFO - (main thread) Processing 1 batch results\n",
      "2024-10-30 17:31:57,933 - searcharray.indexing - INFO - Indexing from tokenization complete\n",
      "2024-10-30 17:31:57,940 - searcharray.indexing - INFO - Indexing begins w/ 4 workers\n",
      "2024-10-30 17:31:57,941 - searcharray.indexing - INFO - 0 Batch Start tokenization\n",
      "2024-10-30 17:31:57,941 - searcharray.indexing - INFO - Tokenizing 10 documents\n",
      "2024-10-30 17:31:57,942 - searcharray.indexing - INFO - Tokenization -- vstacking\n",
      "2024-10-30 17:31:57,942 - searcharray.indexing - INFO - Tokenization -- DONE\n",
      "2024-10-30 17:31:57,942 - searcharray.indexing - INFO - Inverting docs->terms\n",
      "2024-10-30 17:31:57,943 - searcharray.indexing - INFO - Encoding positions to bit array\n",
      "2024-10-30 17:31:57,943 - searcharray.indexing - INFO - Batch tokenization complete\n",
      "2024-10-30 17:31:57,943 - searcharray.indexing - INFO - (main thread) Processing 1 batch results\n",
      "2024-10-30 17:31:57,944 - searcharray.indexing - INFO - Indexing from tokenization complete\n",
      "2024-10-30 17:31:57,950 - searcharray.indexing - INFO - Indexing begins w/ 4 workers\n",
      "2024-10-30 17:31:57,951 - searcharray.indexing - INFO - 0 Batch Start tokenization\n",
      "2024-10-30 17:31:57,951 - searcharray.indexing - INFO - Tokenizing 10 documents\n",
      "2024-10-30 17:31:57,951 - searcharray.indexing - INFO - Tokenization -- vstacking\n",
      "2024-10-30 17:31:57,952 - searcharray.indexing - INFO - Tokenization -- DONE\n",
      "2024-10-30 17:31:57,952 - searcharray.indexing - INFO - Inverting docs->terms\n",
      "2024-10-30 17:31:57,952 - searcharray.indexing - INFO - Encoding positions to bit array\n",
      "2024-10-30 17:31:57,953 - searcharray.indexing - INFO - Batch tokenization complete\n",
      "2024-10-30 17:31:57,953 - searcharray.indexing - INFO - (main thread) Processing 1 batch results\n",
      "2024-10-30 17:31:57,954 - searcharray.indexing - INFO - Indexing from tokenization complete\n",
      "2024-10-30 17:31:57,961 - searcharray.indexing - INFO - Indexing begins w/ 4 workers\n",
      "2024-10-30 17:31:57,961 - searcharray.indexing - INFO - 0 Batch Start tokenization\n",
      "2024-10-30 17:31:57,962 - searcharray.indexing - INFO - Tokenizing 2 documents\n",
      "2024-10-30 17:31:57,962 - searcharray.indexing - INFO - Tokenization -- vstacking\n",
      "2024-10-30 17:31:57,962 - searcharray.indexing - INFO - Tokenization -- DONE\n",
      "2024-10-30 17:31:57,963 - searcharray.indexing - INFO - Inverting docs->terms\n",
      "2024-10-30 17:31:57,963 - searcharray.indexing - INFO - Encoding positions to bit array\n",
      "2024-10-30 17:31:57,963 - searcharray.indexing - INFO - Batch tokenization complete\n",
      "2024-10-30 17:31:57,964 - searcharray.indexing - INFO - (main thread) Processing 1 batch results\n",
      "2024-10-30 17:31:57,964 - searcharray.indexing - INFO - Indexing from tokenization complete\n",
      "2024-10-30 17:31:57,973 - searcharray.indexing - INFO - Indexing begins w/ 4 workers\n",
      "2024-10-30 17:31:57,973 - searcharray.indexing - INFO - 0 Batch Start tokenization\n",
      "2024-10-30 17:31:57,974 - searcharray.indexing - INFO - Tokenizing 10 documents\n",
      "2024-10-30 17:31:57,974 - searcharray.indexing - INFO - Tokenization -- vstacking\n",
      "2024-10-30 17:31:57,974 - searcharray.indexing - INFO - Tokenization -- DONE\n",
      "2024-10-30 17:31:57,975 - searcharray.indexing - INFO - Inverting docs->terms\n",
      "2024-10-30 17:31:57,975 - searcharray.indexing - INFO - Encoding positions to bit array\n",
      "2024-10-30 17:31:57,975 - searcharray.indexing - INFO - Batch tokenization complete\n",
      "2024-10-30 17:31:57,976 - searcharray.indexing - INFO - (main thread) Processing 1 batch results\n",
      "2024-10-30 17:31:57,976 - searcharray.indexing - INFO - Indexing from tokenization complete\n",
      "2024-10-30 17:31:57,984 - searcharray.indexing - INFO - Indexing begins w/ 4 workers\n",
      "2024-10-30 17:31:57,985 - searcharray.indexing - INFO - 0 Batch Start tokenization\n",
      "2024-10-30 17:31:57,985 - searcharray.indexing - INFO - Tokenizing 10 documents\n",
      "2024-10-30 17:31:57,986 - searcharray.indexing - INFO - Tokenization -- vstacking\n",
      "2024-10-30 17:31:57,986 - searcharray.indexing - INFO - Tokenization -- DONE\n",
      "2024-10-30 17:31:57,986 - searcharray.indexing - INFO - Inverting docs->terms\n",
      "2024-10-30 17:31:57,987 - searcharray.indexing - INFO - Encoding positions to bit array\n",
      "2024-10-30 17:31:57,987 - searcharray.indexing - INFO - Batch tokenization complete\n",
      "2024-10-30 17:31:57,988 - searcharray.indexing - INFO - (main thread) Processing 1 batch results\n",
      "2024-10-30 17:31:57,988 - searcharray.indexing - INFO - Indexing from tokenization complete\n",
      "2024-10-30 17:31:57,994 - searcharray.indexing - INFO - Indexing begins w/ 4 workers\n",
      "2024-10-30 17:31:57,995 - searcharray.indexing - INFO - 0 Batch Start tokenization\n",
      "2024-10-30 17:31:57,995 - searcharray.indexing - INFO - Tokenizing 3 documents\n",
      "2024-10-30 17:31:57,995 - searcharray.indexing - INFO - Tokenization -- vstacking\n",
      "2024-10-30 17:31:57,996 - searcharray.indexing - INFO - Tokenization -- DONE\n",
      "2024-10-30 17:31:57,996 - searcharray.indexing - INFO - Inverting docs->terms\n",
      "2024-10-30 17:31:57,996 - searcharray.indexing - INFO - Encoding positions to bit array\n",
      "2024-10-30 17:31:57,996 - searcharray.indexing - INFO - Batch tokenization complete\n",
      "2024-10-30 17:31:57,997 - searcharray.indexing - INFO - (main thread) Processing 1 batch results\n",
      "2024-10-30 17:31:57,997 - searcharray.indexing - INFO - Indexing from tokenization complete\n",
      "2024-10-30 17:31:58,009 - searcharray.indexing - INFO - Indexing begins w/ 4 workers\n",
      "2024-10-30 17:31:58,010 - searcharray.indexing - INFO - 0 Batch Start tokenization\n",
      "2024-10-30 17:31:58,010 - searcharray.indexing - INFO - Tokenizing 10 documents\n",
      "2024-10-30 17:31:58,011 - searcharray.indexing - INFO - Tokenization -- vstacking\n",
      "2024-10-30 17:31:58,011 - searcharray.indexing - INFO - Tokenization -- DONE\n",
      "2024-10-30 17:31:58,011 - searcharray.indexing - INFO - Inverting docs->terms\n",
      "2024-10-30 17:31:58,012 - searcharray.indexing - INFO - Encoding positions to bit array\n",
      "2024-10-30 17:31:58,012 - searcharray.indexing - INFO - Batch tokenization complete\n",
      "2024-10-30 17:31:58,012 - searcharray.indexing - INFO - (main thread) Processing 1 batch results\n",
      "2024-10-30 17:31:58,013 - searcharray.indexing - INFO - Indexing from tokenization complete\n",
      "2024-10-30 17:31:58,019 - searcharray.indexing - INFO - Indexing begins w/ 4 workers\n",
      "2024-10-30 17:31:58,020 - searcharray.indexing - INFO - 0 Batch Start tokenization\n",
      "2024-10-30 17:31:58,020 - searcharray.indexing - INFO - Tokenizing 3 documents\n",
      "2024-10-30 17:31:58,021 - searcharray.indexing - INFO - Tokenization -- vstacking\n",
      "2024-10-30 17:31:58,021 - searcharray.indexing - INFO - Tokenization -- DONE\n",
      "2024-10-30 17:31:58,021 - searcharray.indexing - INFO - Inverting docs->terms\n",
      "2024-10-30 17:31:58,021 - searcharray.indexing - INFO - Encoding positions to bit array\n",
      "2024-10-30 17:31:58,022 - searcharray.indexing - INFO - Batch tokenization complete\n",
      "2024-10-30 17:31:58,022 - searcharray.indexing - INFO - (main thread) Processing 1 batch results\n",
      "2024-10-30 17:31:58,023 - searcharray.indexing - INFO - Indexing from tokenization complete\n",
      "2024-10-30 17:31:58,035 - searcharray.indexing - INFO - Indexing begins w/ 4 workers\n",
      "2024-10-30 17:31:58,036 - searcharray.indexing - INFO - 0 Batch Start tokenization\n",
      "2024-10-30 17:31:58,036 - searcharray.indexing - INFO - Tokenizing 10 documents\n",
      "2024-10-30 17:31:58,036 - searcharray.indexing - INFO - Tokenization -- vstacking\n",
      "2024-10-30 17:31:58,037 - searcharray.indexing - INFO - Tokenization -- DONE\n",
      "2024-10-30 17:31:58,037 - searcharray.indexing - INFO - Inverting docs->terms\n",
      "2024-10-30 17:31:58,037 - searcharray.indexing - INFO - Encoding positions to bit array\n",
      "2024-10-30 17:31:58,038 - searcharray.indexing - INFO - Batch tokenization complete\n",
      "2024-10-30 17:31:58,038 - searcharray.indexing - INFO - (main thread) Processing 1 batch results\n",
      "2024-10-30 17:31:58,038 - searcharray.indexing - INFO - Indexing from tokenization complete\n",
      "2024-10-30 17:31:58,045 - searcharray.indexing - INFO - Indexing begins w/ 4 workers\n",
      "2024-10-30 17:31:58,046 - searcharray.indexing - INFO - 0 Batch Start tokenization\n",
      "2024-10-30 17:31:58,046 - searcharray.indexing - INFO - Tokenizing 10 documents\n",
      "2024-10-30 17:31:58,046 - searcharray.indexing - INFO - Tokenization -- vstacking\n",
      "2024-10-30 17:31:58,047 - searcharray.indexing - INFO - Tokenization -- DONE\n",
      "2024-10-30 17:31:58,047 - searcharray.indexing - INFO - Inverting docs->terms\n",
      "2024-10-30 17:31:58,047 - searcharray.indexing - INFO - Encoding positions to bit array\n",
      "2024-10-30 17:31:58,048 - searcharray.indexing - INFO - Batch tokenization complete\n",
      "2024-10-30 17:31:58,048 - searcharray.indexing - INFO - (main thread) Processing 1 batch results\n",
      "2024-10-30 17:31:58,049 - searcharray.indexing - INFO - Indexing from tokenization complete\n",
      "2024-10-30 17:31:58,057 - searcharray.indexing - INFO - Indexing begins w/ 4 workers\n",
      "2024-10-30 17:31:58,058 - searcharray.indexing - INFO - 0 Batch Start tokenization\n",
      "2024-10-30 17:31:58,058 - searcharray.indexing - INFO - Tokenizing 10 documents\n",
      "2024-10-30 17:31:58,059 - searcharray.indexing - INFO - Tokenization -- vstacking\n",
      "2024-10-30 17:31:58,059 - searcharray.indexing - INFO - Tokenization -- DONE\n",
      "2024-10-30 17:31:58,059 - searcharray.indexing - INFO - Inverting docs->terms\n",
      "2024-10-30 17:31:58,060 - searcharray.indexing - INFO - Encoding positions to bit array\n",
      "2024-10-30 17:31:58,060 - searcharray.indexing - INFO - Batch tokenization complete\n",
      "2024-10-30 17:31:58,060 - searcharray.indexing - INFO - (main thread) Processing 1 batch results\n",
      "2024-10-30 17:31:58,061 - searcharray.indexing - INFO - Indexing from tokenization complete\n",
      "2024-10-30 17:31:58,072 - searcharray.indexing - INFO - Indexing begins w/ 4 workers\n",
      "2024-10-30 17:31:58,073 - searcharray.indexing - INFO - 0 Batch Start tokenization\n",
      "2024-10-30 17:31:58,073 - searcharray.indexing - INFO - Tokenizing 10 documents\n",
      "2024-10-30 17:31:58,073 - searcharray.indexing - INFO - Tokenization -- vstacking\n",
      "2024-10-30 17:31:58,074 - searcharray.indexing - INFO - Tokenization -- DONE\n",
      "2024-10-30 17:31:58,074 - searcharray.indexing - INFO - Inverting docs->terms\n",
      "2024-10-30 17:31:58,074 - searcharray.indexing - INFO - Encoding positions to bit array\n",
      "2024-10-30 17:31:58,075 - searcharray.indexing - INFO - Batch tokenization complete\n",
      "2024-10-30 17:31:58,075 - searcharray.indexing - INFO - (main thread) Processing 1 batch results\n",
      "2024-10-30 17:31:58,075 - searcharray.indexing - INFO - Indexing from tokenization complete\n",
      "2024-10-30 17:31:58,085 - searcharray.indexing - INFO - Indexing begins w/ 4 workers\n",
      "2024-10-30 17:31:58,085 - searcharray.indexing - INFO - 0 Batch Start tokenization\n",
      "2024-10-30 17:31:58,086 - searcharray.indexing - INFO - Tokenizing 1 documents\n",
      "2024-10-30 17:31:58,086 - searcharray.indexing - INFO - Tokenization -- vstacking\n",
      "2024-10-30 17:31:58,086 - searcharray.indexing - INFO - Tokenization -- DONE\n",
      "2024-10-30 17:31:58,087 - searcharray.indexing - INFO - Inverting docs->terms\n",
      "2024-10-30 17:31:58,087 - searcharray.indexing - INFO - Encoding positions to bit array\n",
      "2024-10-30 17:31:58,087 - searcharray.indexing - INFO - Batch tokenization complete\n",
      "2024-10-30 17:31:58,088 - searcharray.indexing - INFO - (main thread) Processing 1 batch results\n",
      "2024-10-30 17:31:58,088 - searcharray.indexing - INFO - Indexing from tokenization complete\n",
      "2024-10-30 17:31:58,096 - searcharray.indexing - INFO - Indexing begins w/ 4 workers\n",
      "2024-10-30 17:31:58,097 - searcharray.indexing - INFO - 0 Batch Start tokenization\n",
      "2024-10-30 17:31:58,097 - searcharray.indexing - INFO - Tokenizing 10 documents\n",
      "2024-10-30 17:31:58,098 - searcharray.indexing - INFO - Tokenization -- vstacking\n",
      "2024-10-30 17:31:58,098 - searcharray.indexing - INFO - Tokenization -- DONE\n",
      "2024-10-30 17:31:58,098 - searcharray.indexing - INFO - Inverting docs->terms\n",
      "2024-10-30 17:31:58,098 - searcharray.indexing - INFO - Encoding positions to bit array\n",
      "2024-10-30 17:31:58,099 - searcharray.indexing - INFO - Batch tokenization complete\n",
      "2024-10-30 17:31:58,099 - searcharray.indexing - INFO - (main thread) Processing 1 batch results\n",
      "2024-10-30 17:31:58,099 - searcharray.indexing - INFO - Indexing from tokenization complete\n",
      "2024-10-30 17:31:58,112 - searcharray.indexing - INFO - Indexing begins w/ 4 workers\n",
      "2024-10-30 17:31:58,113 - searcharray.indexing - INFO - 0 Batch Start tokenization\n",
      "2024-10-30 17:31:58,113 - searcharray.indexing - INFO - Tokenizing 10 documents\n",
      "2024-10-30 17:31:58,114 - searcharray.indexing - INFO - Tokenization -- vstacking\n",
      "2024-10-30 17:31:58,115 - searcharray.indexing - INFO - Tokenization -- DONE\n",
      "2024-10-30 17:31:58,115 - searcharray.indexing - INFO - Inverting docs->terms\n",
      "2024-10-30 17:31:58,115 - searcharray.indexing - INFO - Encoding positions to bit array\n",
      "2024-10-30 17:31:58,116 - searcharray.indexing - INFO - Batch tokenization complete\n",
      "2024-10-30 17:31:58,116 - searcharray.indexing - INFO - (main thread) Processing 1 batch results\n",
      "2024-10-30 17:31:58,117 - searcharray.indexing - INFO - Indexing from tokenization complete\n",
      "2024-10-30 17:31:58,127 - searcharray.indexing - INFO - Indexing begins w/ 4 workers\n",
      "2024-10-30 17:31:58,127 - searcharray.indexing - INFO - 0 Batch Start tokenization\n",
      "2024-10-30 17:31:58,128 - searcharray.indexing - INFO - Tokenizing 10 documents\n",
      "2024-10-30 17:31:58,128 - searcharray.indexing - INFO - Tokenization -- vstacking\n",
      "2024-10-30 17:31:58,128 - searcharray.indexing - INFO - Tokenization -- DONE\n",
      "2024-10-30 17:31:58,128 - searcharray.indexing - INFO - Inverting docs->terms\n",
      "2024-10-30 17:31:58,129 - searcharray.indexing - INFO - Encoding positions to bit array\n",
      "2024-10-30 17:31:58,129 - searcharray.indexing - INFO - Batch tokenization complete\n",
      "2024-10-30 17:31:58,129 - searcharray.indexing - INFO - (main thread) Processing 1 batch results\n",
      "2024-10-30 17:31:58,130 - searcharray.indexing - INFO - Indexing from tokenization complete\n",
      "2024-10-30 17:31:58,137 - searcharray.indexing - INFO - Indexing begins w/ 4 workers\n",
      "2024-10-30 17:31:58,137 - searcharray.indexing - INFO - 0 Batch Start tokenization\n",
      "2024-10-30 17:31:58,138 - searcharray.indexing - INFO - Tokenizing 10 documents\n",
      "2024-10-30 17:31:58,138 - searcharray.indexing - INFO - Tokenization -- vstacking\n",
      "2024-10-30 17:31:58,138 - searcharray.indexing - INFO - Tokenization -- DONE\n",
      "2024-10-30 17:31:58,139 - searcharray.indexing - INFO - Inverting docs->terms\n",
      "2024-10-30 17:31:58,139 - searcharray.indexing - INFO - Encoding positions to bit array\n",
      "2024-10-30 17:31:58,139 - searcharray.indexing - INFO - Batch tokenization complete\n",
      "2024-10-30 17:31:58,139 - searcharray.indexing - INFO - (main thread) Processing 1 batch results\n",
      "2024-10-30 17:31:58,140 - searcharray.indexing - INFO - Indexing from tokenization complete\n",
      "2024-10-30 17:31:58,147 - searcharray.indexing - INFO - Indexing begins w/ 4 workers\n",
      "2024-10-30 17:31:58,148 - searcharray.indexing - INFO - 0 Batch Start tokenization\n",
      "2024-10-30 17:31:58,148 - searcharray.indexing - INFO - Tokenizing 10 documents\n",
      "2024-10-30 17:31:58,148 - searcharray.indexing - INFO - Tokenization -- vstacking\n",
      "2024-10-30 17:31:58,149 - searcharray.indexing - INFO - Tokenization -- DONE\n",
      "2024-10-30 17:31:58,149 - searcharray.indexing - INFO - Inverting docs->terms\n",
      "2024-10-30 17:31:58,149 - searcharray.indexing - INFO - Encoding positions to bit array\n",
      "2024-10-30 17:31:58,150 - searcharray.indexing - INFO - Batch tokenization complete\n",
      "2024-10-30 17:31:58,150 - searcharray.indexing - INFO - (main thread) Processing 1 batch results\n",
      "2024-10-30 17:31:58,150 - searcharray.indexing - INFO - Indexing from tokenization complete\n",
      "2024-10-30 17:31:58,160 - searcharray.indexing - INFO - Indexing begins w/ 4 workers\n",
      "2024-10-30 17:31:58,160 - searcharray.indexing - INFO - 0 Batch Start tokenization\n",
      "2024-10-30 17:31:58,161 - searcharray.indexing - INFO - Tokenizing 10 documents\n",
      "2024-10-30 17:31:58,161 - searcharray.indexing - INFO - Tokenization -- vstacking\n",
      "2024-10-30 17:31:58,162 - searcharray.indexing - INFO - Tokenization -- DONE\n",
      "2024-10-30 17:31:58,162 - searcharray.indexing - INFO - Inverting docs->terms\n",
      "2024-10-30 17:31:58,162 - searcharray.indexing - INFO - Encoding positions to bit array\n",
      "2024-10-30 17:31:58,163 - searcharray.indexing - INFO - Batch tokenization complete\n",
      "2024-10-30 17:31:58,163 - searcharray.indexing - INFO - (main thread) Processing 1 batch results\n",
      "2024-10-30 17:31:58,163 - searcharray.indexing - INFO - Indexing from tokenization complete\n",
      "2024-10-30 17:31:58,170 - searcharray.indexing - INFO - Indexing begins w/ 4 workers\n",
      "2024-10-30 17:31:58,171 - searcharray.indexing - INFO - 0 Batch Start tokenization\n",
      "2024-10-30 17:31:58,171 - searcharray.indexing - INFO - Tokenizing 10 documents\n",
      "2024-10-30 17:31:58,172 - searcharray.indexing - INFO - Tokenization -- vstacking\n",
      "2024-10-30 17:31:58,172 - searcharray.indexing - INFO - Tokenization -- DONE\n",
      "2024-10-30 17:31:58,172 - searcharray.indexing - INFO - Inverting docs->terms\n",
      "2024-10-30 17:31:58,173 - searcharray.indexing - INFO - Encoding positions to bit array\n",
      "2024-10-30 17:31:58,173 - searcharray.indexing - INFO - Batch tokenization complete\n",
      "2024-10-30 17:31:58,173 - searcharray.indexing - INFO - (main thread) Processing 1 batch results\n",
      "2024-10-30 17:31:58,174 - searcharray.indexing - INFO - Indexing from tokenization complete\n",
      "2024-10-30 17:31:58,180 - searcharray.indexing - INFO - Indexing begins w/ 4 workers\n",
      "2024-10-30 17:31:58,181 - searcharray.indexing - INFO - 0 Batch Start tokenization\n",
      "2024-10-30 17:31:58,181 - searcharray.indexing - INFO - Tokenizing 10 documents\n",
      "2024-10-30 17:31:58,181 - searcharray.indexing - INFO - Tokenization -- vstacking\n",
      "2024-10-30 17:31:58,182 - searcharray.indexing - INFO - Tokenization -- DONE\n",
      "2024-10-30 17:31:58,182 - searcharray.indexing - INFO - Inverting docs->terms\n",
      "2024-10-30 17:31:58,182 - searcharray.indexing - INFO - Encoding positions to bit array\n",
      "2024-10-30 17:31:58,183 - searcharray.indexing - INFO - Batch tokenization complete\n",
      "2024-10-30 17:31:58,183 - searcharray.indexing - INFO - (main thread) Processing 1 batch results\n",
      "2024-10-30 17:31:58,183 - searcharray.indexing - INFO - Indexing from tokenization complete\n",
      "2024-10-30 17:31:58,189 - searcharray.indexing - INFO - Indexing begins w/ 4 workers\n",
      "2024-10-30 17:31:58,190 - searcharray.indexing - INFO - 0 Batch Start tokenization\n",
      "2024-10-30 17:31:58,190 - searcharray.indexing - INFO - Tokenizing 10 documents\n",
      "2024-10-30 17:31:58,191 - searcharray.indexing - INFO - Tokenization -- vstacking\n",
      "2024-10-30 17:31:58,191 - searcharray.indexing - INFO - Tokenization -- DONE\n",
      "2024-10-30 17:31:58,191 - searcharray.indexing - INFO - Inverting docs->terms\n",
      "2024-10-30 17:31:58,192 - searcharray.indexing - INFO - Encoding positions to bit array\n",
      "2024-10-30 17:31:58,192 - searcharray.indexing - INFO - Batch tokenization complete\n",
      "2024-10-30 17:31:58,192 - searcharray.indexing - INFO - (main thread) Processing 1 batch results\n",
      "2024-10-30 17:31:58,193 - searcharray.indexing - INFO - Indexing from tokenization complete\n",
      "2024-10-30 17:31:58,199 - searcharray.indexing - INFO - Indexing begins w/ 4 workers\n",
      "2024-10-30 17:31:58,199 - searcharray.indexing - INFO - 0 Batch Start tokenization\n",
      "2024-10-30 17:31:58,200 - searcharray.indexing - INFO - Tokenizing 1 documents\n",
      "2024-10-30 17:31:58,200 - searcharray.indexing - INFO - Tokenization -- vstacking\n",
      "2024-10-30 17:31:58,200 - searcharray.indexing - INFO - Tokenization -- DONE\n",
      "2024-10-30 17:31:58,201 - searcharray.indexing - INFO - Inverting docs->terms\n",
      "2024-10-30 17:31:58,201 - searcharray.indexing - INFO - Encoding positions to bit array\n",
      "2024-10-30 17:31:58,201 - searcharray.indexing - INFO - Batch tokenization complete\n",
      "2024-10-30 17:31:58,201 - searcharray.indexing - INFO - (main thread) Processing 1 batch results\n",
      "2024-10-30 17:31:58,202 - searcharray.indexing - INFO - Indexing from tokenization complete\n",
      "2024-10-30 17:31:58,207 - searcharray.indexing - INFO - Indexing begins w/ 4 workers\n",
      "2024-10-30 17:31:58,207 - searcharray.indexing - INFO - 0 Batch Start tokenization\n",
      "2024-10-30 17:31:58,208 - searcharray.indexing - INFO - Tokenizing 8 documents\n",
      "2024-10-30 17:31:58,208 - searcharray.indexing - INFO - Tokenization -- vstacking\n",
      "2024-10-30 17:31:58,209 - searcharray.indexing - INFO - Tokenization -- DONE\n",
      "2024-10-30 17:31:58,209 - searcharray.indexing - INFO - Inverting docs->terms\n",
      "2024-10-30 17:31:58,209 - searcharray.indexing - INFO - Encoding positions to bit array\n",
      "2024-10-30 17:31:58,210 - searcharray.indexing - INFO - Batch tokenization complete\n",
      "2024-10-30 17:31:58,210 - searcharray.indexing - INFO - (main thread) Processing 1 batch results\n",
      "2024-10-30 17:31:58,210 - searcharray.indexing - INFO - Indexing from tokenization complete\n",
      "2024-10-30 17:31:58,221 - searcharray.indexing - INFO - Indexing begins w/ 4 workers\n",
      "2024-10-30 17:31:58,221 - searcharray.indexing - INFO - 0 Batch Start tokenization\n",
      "2024-10-30 17:31:58,222 - searcharray.indexing - INFO - Tokenizing 10 documents\n",
      "2024-10-30 17:31:58,222 - searcharray.indexing - INFO - Tokenization -- vstacking\n",
      "2024-10-30 17:31:58,223 - searcharray.indexing - INFO - Tokenization -- DONE\n",
      "2024-10-30 17:31:58,223 - searcharray.indexing - INFO - Inverting docs->terms\n",
      "2024-10-30 17:31:58,223 - searcharray.indexing - INFO - Encoding positions to bit array\n",
      "2024-10-30 17:31:58,224 - searcharray.indexing - INFO - Batch tokenization complete\n",
      "2024-10-30 17:31:58,224 - searcharray.indexing - INFO - (main thread) Processing 1 batch results\n",
      "2024-10-30 17:31:58,224 - searcharray.indexing - INFO - Indexing from tokenization complete\n",
      "2024-10-30 17:31:58,236 - searcharray.indexing - INFO - Indexing begins w/ 4 workers\n",
      "2024-10-30 17:31:58,237 - searcharray.indexing - INFO - 0 Batch Start tokenization\n",
      "2024-10-30 17:31:58,237 - searcharray.indexing - INFO - Tokenizing 10 documents\n",
      "2024-10-30 17:31:58,238 - searcharray.indexing - INFO - Tokenization -- vstacking\n",
      "2024-10-30 17:31:58,238 - searcharray.indexing - INFO - Tokenization -- DONE\n",
      "2024-10-30 17:31:58,238 - searcharray.indexing - INFO - Inverting docs->terms\n",
      "2024-10-30 17:31:58,239 - searcharray.indexing - INFO - Encoding positions to bit array\n",
      "2024-10-30 17:31:58,239 - searcharray.indexing - INFO - Batch tokenization complete\n",
      "2024-10-30 17:31:58,239 - searcharray.indexing - INFO - (main thread) Processing 1 batch results\n",
      "2024-10-30 17:31:58,240 - searcharray.indexing - INFO - Indexing from tokenization complete\n",
      "2024-10-30 17:31:58,258 - searcharray.indexing - INFO - Indexing begins w/ 4 workers\n",
      "2024-10-30 17:31:58,259 - searcharray.indexing - INFO - 0 Batch Start tokenization\n",
      "2024-10-30 17:31:58,259 - searcharray.indexing - INFO - Tokenizing 10 documents\n",
      "2024-10-30 17:31:58,259 - searcharray.indexing - INFO - Tokenization -- vstacking\n",
      "2024-10-30 17:31:58,260 - searcharray.indexing - INFO - Tokenization -- DONE\n",
      "2024-10-30 17:31:58,260 - searcharray.indexing - INFO - Inverting docs->terms\n",
      "2024-10-30 17:31:58,260 - searcharray.indexing - INFO - Encoding positions to bit array\n",
      "2024-10-30 17:31:58,261 - searcharray.indexing - INFO - Batch tokenization complete\n",
      "2024-10-30 17:31:58,261 - searcharray.indexing - INFO - (main thread) Processing 1 batch results\n",
      "2024-10-30 17:31:58,261 - searcharray.indexing - INFO - Indexing from tokenization complete\n",
      "2024-10-30 17:31:58,284 - searcharray.indexing - INFO - Indexing begins w/ 4 workers\n",
      "2024-10-30 17:31:58,285 - searcharray.indexing - INFO - 0 Batch Start tokenization\n",
      "2024-10-30 17:31:58,285 - searcharray.indexing - INFO - Tokenizing 10 documents\n",
      "2024-10-30 17:31:58,286 - searcharray.indexing - INFO - Tokenization -- vstacking\n",
      "2024-10-30 17:31:58,286 - searcharray.indexing - INFO - Tokenization -- DONE\n",
      "2024-10-30 17:31:58,286 - searcharray.indexing - INFO - Inverting docs->terms\n",
      "2024-10-30 17:31:58,287 - searcharray.indexing - INFO - Encoding positions to bit array\n",
      "2024-10-30 17:31:58,287 - searcharray.indexing - INFO - Batch tokenization complete\n",
      "2024-10-30 17:31:58,288 - searcharray.indexing - INFO - (main thread) Processing 1 batch results\n",
      "2024-10-30 17:31:58,288 - searcharray.indexing - INFO - Indexing from tokenization complete\n",
      "2024-10-30 17:31:58,296 - searcharray.indexing - INFO - Indexing begins w/ 4 workers\n",
      "2024-10-30 17:31:58,297 - searcharray.indexing - INFO - 0 Batch Start tokenization\n",
      "2024-10-30 17:31:58,297 - searcharray.indexing - INFO - Tokenizing 2 documents\n",
      "2024-10-30 17:31:58,297 - searcharray.indexing - INFO - Tokenization -- vstacking\n",
      "2024-10-30 17:31:58,298 - searcharray.indexing - INFO - Tokenization -- DONE\n",
      "2024-10-30 17:31:58,298 - searcharray.indexing - INFO - Inverting docs->terms\n",
      "2024-10-30 17:31:58,298 - searcharray.indexing - INFO - Encoding positions to bit array\n",
      "2024-10-30 17:31:58,298 - searcharray.indexing - INFO - Batch tokenization complete\n",
      "2024-10-30 17:31:58,299 - searcharray.indexing - INFO - (main thread) Processing 1 batch results\n",
      "2024-10-30 17:31:58,299 - searcharray.indexing - INFO - Indexing from tokenization complete\n",
      "2024-10-30 17:31:58,307 - searcharray.indexing - INFO - Indexing begins w/ 4 workers\n",
      "2024-10-30 17:31:58,308 - searcharray.indexing - INFO - 0 Batch Start tokenization\n",
      "2024-10-30 17:31:58,308 - searcharray.indexing - INFO - Tokenizing 1 documents\n",
      "2024-10-30 17:31:58,308 - searcharray.indexing - INFO - Tokenization -- vstacking\n",
      "2024-10-30 17:31:58,309 - searcharray.indexing - INFO - Tokenization -- DONE\n",
      "2024-10-30 17:31:58,309 - searcharray.indexing - INFO - Inverting docs->terms\n",
      "2024-10-30 17:31:58,309 - searcharray.indexing - INFO - Encoding positions to bit array\n",
      "2024-10-30 17:31:58,309 - searcharray.indexing - INFO - Batch tokenization complete\n",
      "2024-10-30 17:31:58,310 - searcharray.indexing - INFO - (main thread) Processing 1 batch results\n",
      "2024-10-30 17:31:58,310 - searcharray.indexing - INFO - Indexing from tokenization complete\n",
      "2024-10-30 17:31:58,324 - searcharray.indexing - INFO - Indexing begins w/ 4 workers\n",
      "2024-10-30 17:31:58,324 - searcharray.indexing - INFO - 0 Batch Start tokenization\n",
      "2024-10-30 17:31:58,325 - searcharray.indexing - INFO - Tokenizing 10 documents\n",
      "2024-10-30 17:31:58,325 - searcharray.indexing - INFO - Tokenization -- vstacking\n",
      "2024-10-30 17:31:58,325 - searcharray.indexing - INFO - Tokenization -- DONE\n",
      "2024-10-30 17:31:58,326 - searcharray.indexing - INFO - Inverting docs->terms\n",
      "2024-10-30 17:31:58,326 - searcharray.indexing - INFO - Encoding positions to bit array\n",
      "2024-10-30 17:31:58,326 - searcharray.indexing - INFO - Batch tokenization complete\n",
      "2024-10-30 17:31:58,326 - searcharray.indexing - INFO - (main thread) Processing 1 batch results\n",
      "2024-10-30 17:31:58,327 - searcharray.indexing - INFO - Indexing from tokenization complete\n",
      "2024-10-30 17:31:58,334 - searcharray.indexing - INFO - Indexing begins w/ 4 workers\n",
      "2024-10-30 17:31:58,334 - searcharray.indexing - INFO - 0 Batch Start tokenization\n",
      "2024-10-30 17:31:58,335 - searcharray.indexing - INFO - Tokenizing 10 documents\n",
      "2024-10-30 17:31:58,335 - searcharray.indexing - INFO - Tokenization -- vstacking\n",
      "2024-10-30 17:31:58,336 - searcharray.indexing - INFO - Tokenization -- DONE\n",
      "2024-10-30 17:31:58,336 - searcharray.indexing - INFO - Inverting docs->terms\n",
      "2024-10-30 17:31:58,336 - searcharray.indexing - INFO - Encoding positions to bit array\n",
      "2024-10-30 17:31:58,336 - searcharray.indexing - INFO - Batch tokenization complete\n",
      "2024-10-30 17:31:58,337 - searcharray.indexing - INFO - (main thread) Processing 1 batch results\n",
      "2024-10-30 17:31:58,337 - searcharray.indexing - INFO - Indexing from tokenization complete\n",
      "2024-10-30 17:31:58,349 - searcharray.indexing - INFO - Indexing begins w/ 4 workers\n",
      "2024-10-30 17:31:58,350 - searcharray.indexing - INFO - 0 Batch Start tokenization\n",
      "2024-10-30 17:31:58,350 - searcharray.indexing - INFO - Tokenizing 10 documents\n",
      "2024-10-30 17:31:58,350 - searcharray.indexing - INFO - Tokenization -- vstacking\n",
      "2024-10-30 17:31:58,351 - searcharray.indexing - INFO - Tokenization -- DONE\n",
      "2024-10-30 17:31:58,351 - searcharray.indexing - INFO - Inverting docs->terms\n",
      "2024-10-30 17:31:58,351 - searcharray.indexing - INFO - Encoding positions to bit array\n",
      "2024-10-30 17:31:58,352 - searcharray.indexing - INFO - Batch tokenization complete\n",
      "2024-10-30 17:31:58,352 - searcharray.indexing - INFO - (main thread) Processing 1 batch results\n",
      "2024-10-30 17:31:58,352 - searcharray.indexing - INFO - Indexing from tokenization complete\n",
      "2024-10-30 17:31:58,359 - searcharray.indexing - INFO - Indexing begins w/ 4 workers\n",
      "2024-10-30 17:31:58,359 - searcharray.indexing - INFO - 0 Batch Start tokenization\n",
      "2024-10-30 17:31:58,359 - searcharray.indexing - INFO - Tokenizing 2 documents\n",
      "2024-10-30 17:31:58,360 - searcharray.indexing - INFO - Tokenization -- vstacking\n",
      "2024-10-30 17:31:58,360 - searcharray.indexing - INFO - Tokenization -- DONE\n",
      "2024-10-30 17:31:58,360 - searcharray.indexing - INFO - Inverting docs->terms\n",
      "2024-10-30 17:31:58,360 - searcharray.indexing - INFO - Encoding positions to bit array\n",
      "2024-10-30 17:31:58,361 - searcharray.indexing - INFO - Batch tokenization complete\n",
      "2024-10-30 17:31:58,361 - searcharray.indexing - INFO - (main thread) Processing 1 batch results\n",
      "2024-10-30 17:31:58,361 - searcharray.indexing - INFO - Indexing from tokenization complete\n",
      "2024-10-30 17:31:58,368 - searcharray.indexing - INFO - Indexing begins w/ 4 workers\n",
      "2024-10-30 17:31:58,368 - searcharray.indexing - INFO - 0 Batch Start tokenization\n",
      "2024-10-30 17:31:58,369 - searcharray.indexing - INFO - Tokenizing 10 documents\n",
      "2024-10-30 17:31:58,369 - searcharray.indexing - INFO - Tokenization -- vstacking\n",
      "2024-10-30 17:31:58,369 - searcharray.indexing - INFO - Tokenization -- DONE\n",
      "2024-10-30 17:31:58,370 - searcharray.indexing - INFO - Inverting docs->terms\n",
      "2024-10-30 17:31:58,370 - searcharray.indexing - INFO - Encoding positions to bit array\n",
      "2024-10-30 17:31:58,370 - searcharray.indexing - INFO - Batch tokenization complete\n",
      "2024-10-30 17:31:58,370 - searcharray.indexing - INFO - (main thread) Processing 1 batch results\n",
      "2024-10-30 17:31:58,371 - searcharray.indexing - INFO - Indexing from tokenization complete\n",
      "2024-10-30 17:31:58,378 - searcharray.indexing - INFO - Indexing begins w/ 4 workers\n",
      "2024-10-30 17:31:58,379 - searcharray.indexing - INFO - 0 Batch Start tokenization\n",
      "2024-10-30 17:31:58,379 - searcharray.indexing - INFO - Tokenizing 8 documents\n",
      "2024-10-30 17:31:58,379 - searcharray.indexing - INFO - Tokenization -- vstacking\n",
      "2024-10-30 17:31:58,380 - searcharray.indexing - INFO - Tokenization -- DONE\n",
      "2024-10-30 17:31:58,380 - searcharray.indexing - INFO - Inverting docs->terms\n",
      "2024-10-30 17:31:58,380 - searcharray.indexing - INFO - Encoding positions to bit array\n",
      "2024-10-30 17:31:58,380 - searcharray.indexing - INFO - Batch tokenization complete\n",
      "2024-10-30 17:31:58,380 - searcharray.indexing - INFO - (main thread) Processing 1 batch results\n",
      "2024-10-30 17:31:58,381 - searcharray.indexing - INFO - Indexing from tokenization complete\n",
      "2024-10-30 17:31:58,388 - searcharray.indexing - INFO - Indexing begins w/ 4 workers\n",
      "2024-10-30 17:31:58,388 - searcharray.indexing - INFO - 0 Batch Start tokenization\n",
      "2024-10-30 17:31:58,389 - searcharray.indexing - INFO - Tokenizing 2 documents\n",
      "2024-10-30 17:31:58,389 - searcharray.indexing - INFO - Tokenization -- vstacking\n",
      "2024-10-30 17:31:58,389 - searcharray.indexing - INFO - Tokenization -- DONE\n",
      "2024-10-30 17:31:58,390 - searcharray.indexing - INFO - Inverting docs->terms\n",
      "2024-10-30 17:31:58,390 - searcharray.indexing - INFO - Encoding positions to bit array\n",
      "2024-10-30 17:31:58,390 - searcharray.indexing - INFO - Batch tokenization complete\n",
      "2024-10-30 17:31:58,390 - searcharray.indexing - INFO - (main thread) Processing 1 batch results\n",
      "2024-10-30 17:31:58,391 - searcharray.indexing - INFO - Indexing from tokenization complete\n",
      "2024-10-30 17:31:58,402 - searcharray.indexing - INFO - Indexing begins w/ 4 workers\n",
      "2024-10-30 17:31:58,402 - searcharray.indexing - INFO - 0 Batch Start tokenization\n",
      "2024-10-30 17:31:58,403 - searcharray.indexing - INFO - Tokenizing 6 documents\n",
      "2024-10-30 17:31:58,403 - searcharray.indexing - INFO - Tokenization -- vstacking\n",
      "2024-10-30 17:31:58,403 - searcharray.indexing - INFO - Tokenization -- DONE\n",
      "2024-10-30 17:31:58,404 - searcharray.indexing - INFO - Inverting docs->terms\n",
      "2024-10-30 17:31:58,404 - searcharray.indexing - INFO - Encoding positions to bit array\n",
      "2024-10-30 17:31:58,404 - searcharray.indexing - INFO - Batch tokenization complete\n",
      "2024-10-30 17:31:58,404 - searcharray.indexing - INFO - (main thread) Processing 1 batch results\n",
      "2024-10-30 17:31:58,405 - searcharray.indexing - INFO - Indexing from tokenization complete\n",
      "2024-10-30 17:31:58,410 - searcharray.indexing - INFO - Indexing begins w/ 4 workers\n",
      "2024-10-30 17:31:58,411 - searcharray.indexing - INFO - 0 Batch Start tokenization\n",
      "2024-10-30 17:31:58,411 - searcharray.indexing - INFO - Tokenizing 4 documents\n",
      "2024-10-30 17:31:58,411 - searcharray.indexing - INFO - Tokenization -- vstacking\n",
      "2024-10-30 17:31:58,412 - searcharray.indexing - INFO - Tokenization -- DONE\n",
      "2024-10-30 17:31:58,412 - searcharray.indexing - INFO - Inverting docs->terms\n",
      "2024-10-30 17:31:58,412 - searcharray.indexing - INFO - Encoding positions to bit array\n",
      "2024-10-30 17:31:58,412 - searcharray.indexing - INFO - Batch tokenization complete\n",
      "2024-10-30 17:31:58,412 - searcharray.indexing - INFO - (main thread) Processing 1 batch results\n",
      "2024-10-30 17:31:58,413 - searcharray.indexing - INFO - Indexing from tokenization complete\n",
      "2024-10-30 17:31:58,425 - searcharray.indexing - INFO - Indexing begins w/ 4 workers\n",
      "2024-10-30 17:31:58,426 - searcharray.indexing - INFO - 0 Batch Start tokenization\n",
      "2024-10-30 17:31:58,426 - searcharray.indexing - INFO - Tokenizing 1 documents\n",
      "2024-10-30 17:31:58,426 - searcharray.indexing - INFO - Tokenization -- vstacking\n",
      "2024-10-30 17:31:58,426 - searcharray.indexing - INFO - Tokenization -- DONE\n",
      "2024-10-30 17:31:58,427 - searcharray.indexing - INFO - Inverting docs->terms\n",
      "2024-10-30 17:31:58,427 - searcharray.indexing - INFO - Encoding positions to bit array\n",
      "2024-10-30 17:31:58,427 - searcharray.indexing - INFO - Batch tokenization complete\n",
      "2024-10-30 17:31:58,428 - searcharray.indexing - INFO - (main thread) Processing 1 batch results\n",
      "2024-10-30 17:31:58,428 - searcharray.indexing - INFO - Indexing from tokenization complete\n",
      "2024-10-30 17:31:58,437 - searcharray.indexing - INFO - Indexing begins w/ 4 workers\n",
      "2024-10-30 17:31:58,437 - searcharray.indexing - INFO - 0 Batch Start tokenization\n",
      "2024-10-30 17:31:58,438 - searcharray.indexing - INFO - Tokenizing 10 documents\n",
      "2024-10-30 17:31:58,439 - searcharray.indexing - INFO - Tokenization -- vstacking\n",
      "2024-10-30 17:31:58,439 - searcharray.indexing - INFO - Tokenization -- DONE\n",
      "2024-10-30 17:31:58,439 - searcharray.indexing - INFO - Inverting docs->terms\n",
      "2024-10-30 17:31:58,440 - searcharray.indexing - INFO - Encoding positions to bit array\n",
      "2024-10-30 17:31:58,440 - searcharray.indexing - INFO - Batch tokenization complete\n",
      "2024-10-30 17:31:58,441 - searcharray.indexing - INFO - (main thread) Processing 1 batch results\n",
      "2024-10-30 17:31:58,441 - searcharray.indexing - INFO - Indexing from tokenization complete\n",
      "2024-10-30 17:31:58,448 - searcharray.indexing - INFO - Indexing begins w/ 4 workers\n",
      "2024-10-30 17:31:58,449 - searcharray.indexing - INFO - 0 Batch Start tokenization\n",
      "2024-10-30 17:31:58,449 - searcharray.indexing - INFO - Tokenizing 10 documents\n",
      "2024-10-30 17:31:58,450 - searcharray.indexing - INFO - Tokenization -- vstacking\n",
      "2024-10-30 17:31:58,450 - searcharray.indexing - INFO - Tokenization -- DONE\n",
      "2024-10-30 17:31:58,450 - searcharray.indexing - INFO - Inverting docs->terms\n",
      "2024-10-30 17:31:58,450 - searcharray.indexing - INFO - Encoding positions to bit array\n",
      "2024-10-30 17:31:58,451 - searcharray.indexing - INFO - Batch tokenization complete\n",
      "2024-10-30 17:31:58,452 - searcharray.indexing - INFO - (main thread) Processing 1 batch results\n",
      "2024-10-30 17:31:58,452 - searcharray.indexing - INFO - Indexing from tokenization complete\n",
      "2024-10-30 17:31:58,458 - searcharray.indexing - INFO - Indexing begins w/ 4 workers\n",
      "2024-10-30 17:31:58,458 - searcharray.indexing - INFO - 0 Batch Start tokenization\n",
      "2024-10-30 17:31:58,459 - searcharray.indexing - INFO - Tokenizing 4 documents\n",
      "2024-10-30 17:31:58,459 - searcharray.indexing - INFO - Tokenization -- vstacking\n",
      "2024-10-30 17:31:58,460 - searcharray.indexing - INFO - Tokenization -- DONE\n",
      "2024-10-30 17:31:58,460 - searcharray.indexing - INFO - Inverting docs->terms\n",
      "2024-10-30 17:31:58,460 - searcharray.indexing - INFO - Encoding positions to bit array\n",
      "2024-10-30 17:31:58,461 - searcharray.indexing - INFO - Batch tokenization complete\n",
      "2024-10-30 17:31:58,461 - searcharray.indexing - INFO - (main thread) Processing 1 batch results\n",
      "2024-10-30 17:31:58,462 - searcharray.indexing - INFO - Indexing from tokenization complete\n",
      "2024-10-30 17:31:58,470 - searcharray.indexing - INFO - Indexing begins w/ 4 workers\n",
      "2024-10-30 17:31:58,471 - searcharray.indexing - INFO - 0 Batch Start tokenization\n",
      "2024-10-30 17:31:58,471 - searcharray.indexing - INFO - Tokenizing 1 documents\n",
      "2024-10-30 17:31:58,472 - searcharray.indexing - INFO - Tokenization -- vstacking\n",
      "2024-10-30 17:31:58,472 - searcharray.indexing - INFO - Tokenization -- DONE\n",
      "2024-10-30 17:31:58,472 - searcharray.indexing - INFO - Inverting docs->terms\n",
      "2024-10-30 17:31:58,472 - searcharray.indexing - INFO - Encoding positions to bit array\n",
      "2024-10-30 17:31:58,473 - searcharray.indexing - INFO - Batch tokenization complete\n",
      "2024-10-30 17:31:58,473 - searcharray.indexing - INFO - (main thread) Processing 1 batch results\n",
      "2024-10-30 17:31:58,474 - searcharray.indexing - INFO - Indexing from tokenization complete\n",
      "2024-10-30 17:31:58,488 - searcharray.indexing - INFO - Indexing begins w/ 4 workers\n",
      "2024-10-30 17:31:58,489 - searcharray.indexing - INFO - 0 Batch Start tokenization\n",
      "2024-10-30 17:31:58,489 - searcharray.indexing - INFO - Tokenizing 5 documents\n",
      "2024-10-30 17:31:58,489 - searcharray.indexing - INFO - Tokenization -- vstacking\n",
      "2024-10-30 17:31:58,490 - searcharray.indexing - INFO - Tokenization -- DONE\n",
      "2024-10-30 17:31:58,490 - searcharray.indexing - INFO - Inverting docs->terms\n",
      "2024-10-30 17:31:58,490 - searcharray.indexing - INFO - Encoding positions to bit array\n",
      "2024-10-30 17:31:58,491 - searcharray.indexing - INFO - Batch tokenization complete\n",
      "2024-10-30 17:31:58,491 - searcharray.indexing - INFO - (main thread) Processing 1 batch results\n",
      "2024-10-30 17:31:58,491 - searcharray.indexing - INFO - Indexing from tokenization complete\n",
      "2024-10-30 17:31:58,500 - searcharray.indexing - INFO - Indexing begins w/ 4 workers\n",
      "2024-10-30 17:31:58,500 - searcharray.indexing - INFO - 0 Batch Start tokenization\n",
      "2024-10-30 17:31:58,501 - searcharray.indexing - INFO - Tokenizing 3 documents\n",
      "2024-10-30 17:31:58,501 - searcharray.indexing - INFO - Tokenization -- vstacking\n",
      "2024-10-30 17:31:58,501 - searcharray.indexing - INFO - Tokenization -- DONE\n",
      "2024-10-30 17:31:58,501 - searcharray.indexing - INFO - Inverting docs->terms\n",
      "2024-10-30 17:31:58,502 - searcharray.indexing - INFO - Encoding positions to bit array\n",
      "2024-10-30 17:31:58,502 - searcharray.indexing - INFO - Batch tokenization complete\n",
      "2024-10-30 17:31:58,502 - searcharray.indexing - INFO - (main thread) Processing 1 batch results\n",
      "2024-10-30 17:31:58,503 - searcharray.indexing - INFO - Indexing from tokenization complete\n",
      "2024-10-30 17:31:58,510 - searcharray.indexing - INFO - Indexing begins w/ 4 workers\n",
      "2024-10-30 17:31:58,510 - searcharray.indexing - INFO - 0 Batch Start tokenization\n",
      "2024-10-30 17:31:58,511 - searcharray.indexing - INFO - Tokenizing 10 documents\n",
      "2024-10-30 17:31:58,511 - searcharray.indexing - INFO - Tokenization -- vstacking\n",
      "2024-10-30 17:31:58,511 - searcharray.indexing - INFO - Tokenization -- DONE\n",
      "2024-10-30 17:31:58,511 - searcharray.indexing - INFO - Inverting docs->terms\n",
      "2024-10-30 17:31:58,512 - searcharray.indexing - INFO - Encoding positions to bit array\n",
      "2024-10-30 17:31:58,512 - searcharray.indexing - INFO - Batch tokenization complete\n",
      "2024-10-30 17:31:58,512 - searcharray.indexing - INFO - (main thread) Processing 1 batch results\n",
      "2024-10-30 17:31:58,512 - searcharray.indexing - INFO - Indexing from tokenization complete\n",
      "2024-10-30 17:31:58,522 - searcharray.indexing - INFO - Indexing begins w/ 4 workers\n",
      "2024-10-30 17:31:58,522 - searcharray.indexing - INFO - 0 Batch Start tokenization\n",
      "2024-10-30 17:31:58,523 - searcharray.indexing - INFO - Tokenizing 2 documents\n",
      "2024-10-30 17:31:58,523 - searcharray.indexing - INFO - Tokenization -- vstacking\n",
      "2024-10-30 17:31:58,523 - searcharray.indexing - INFO - Tokenization -- DONE\n",
      "2024-10-30 17:31:58,524 - searcharray.indexing - INFO - Inverting docs->terms\n",
      "2024-10-30 17:31:58,524 - searcharray.indexing - INFO - Encoding positions to bit array\n",
      "2024-10-30 17:31:58,524 - searcharray.indexing - INFO - Batch tokenization complete\n",
      "2024-10-30 17:31:58,525 - searcharray.indexing - INFO - (main thread) Processing 1 batch results\n",
      "2024-10-30 17:31:58,526 - searcharray.indexing - INFO - Indexing from tokenization complete\n",
      "2024-10-30 17:31:58,536 - searcharray.indexing - INFO - Indexing begins w/ 4 workers\n",
      "2024-10-30 17:31:58,536 - searcharray.indexing - INFO - 0 Batch Start tokenization\n",
      "2024-10-30 17:31:58,537 - searcharray.indexing - INFO - Tokenizing 10 documents\n",
      "2024-10-30 17:31:58,537 - searcharray.indexing - INFO - Tokenization -- vstacking\n",
      "2024-10-30 17:31:58,537 - searcharray.indexing - INFO - Tokenization -- DONE\n",
      "2024-10-30 17:31:58,538 - searcharray.indexing - INFO - Inverting docs->terms\n",
      "2024-10-30 17:31:58,538 - searcharray.indexing - INFO - Encoding positions to bit array\n",
      "2024-10-30 17:31:58,538 - searcharray.indexing - INFO - Batch tokenization complete\n",
      "2024-10-30 17:31:58,539 - searcharray.indexing - INFO - (main thread) Processing 1 batch results\n",
      "2024-10-30 17:31:58,539 - searcharray.indexing - INFO - Indexing from tokenization complete\n",
      "2024-10-30 17:31:58,547 - searcharray.indexing - INFO - Indexing begins w/ 4 workers\n",
      "2024-10-30 17:31:58,548 - searcharray.indexing - INFO - 0 Batch Start tokenization\n",
      "2024-10-30 17:31:58,548 - searcharray.indexing - INFO - Tokenizing 10 documents\n",
      "2024-10-30 17:31:58,549 - searcharray.indexing - INFO - Tokenization -- vstacking\n",
      "2024-10-30 17:31:58,549 - searcharray.indexing - INFO - Tokenization -- DONE\n",
      "2024-10-30 17:31:58,549 - searcharray.indexing - INFO - Inverting docs->terms\n",
      "2024-10-30 17:31:58,550 - searcharray.indexing - INFO - Encoding positions to bit array\n",
      "2024-10-30 17:31:58,550 - searcharray.indexing - INFO - Batch tokenization complete\n",
      "2024-10-30 17:31:58,550 - searcharray.indexing - INFO - (main thread) Processing 1 batch results\n",
      "2024-10-30 17:31:58,551 - searcharray.indexing - INFO - Indexing from tokenization complete\n",
      "2024-10-30 17:31:58,558 - searcharray.indexing - INFO - Indexing begins w/ 4 workers\n",
      "2024-10-30 17:31:58,559 - searcharray.indexing - INFO - 0 Batch Start tokenization\n",
      "2024-10-30 17:31:58,559 - searcharray.indexing - INFO - Tokenizing 10 documents\n",
      "2024-10-30 17:31:58,560 - searcharray.indexing - INFO - Tokenization -- vstacking\n",
      "2024-10-30 17:31:58,560 - searcharray.indexing - INFO - Tokenization -- DONE\n",
      "2024-10-30 17:31:58,560 - searcharray.indexing - INFO - Inverting docs->terms\n",
      "2024-10-30 17:31:58,561 - searcharray.indexing - INFO - Encoding positions to bit array\n",
      "2024-10-30 17:31:58,561 - searcharray.indexing - INFO - Batch tokenization complete\n",
      "2024-10-30 17:31:58,561 - searcharray.indexing - INFO - (main thread) Processing 1 batch results\n",
      "2024-10-30 17:31:58,562 - searcharray.indexing - INFO - Indexing from tokenization complete\n",
      "2024-10-30 17:31:58,570 - searcharray.indexing - INFO - Indexing begins w/ 4 workers\n",
      "2024-10-30 17:31:58,570 - searcharray.indexing - INFO - 0 Batch Start tokenization\n",
      "2024-10-30 17:31:58,571 - searcharray.indexing - INFO - Tokenizing 10 documents\n",
      "2024-10-30 17:31:58,571 - searcharray.indexing - INFO - Tokenization -- vstacking\n",
      "2024-10-30 17:31:58,571 - searcharray.indexing - INFO - Tokenization -- DONE\n",
      "2024-10-30 17:31:58,572 - searcharray.indexing - INFO - Inverting docs->terms\n",
      "2024-10-30 17:31:58,572 - searcharray.indexing - INFO - Encoding positions to bit array\n",
      "2024-10-30 17:31:58,573 - searcharray.indexing - INFO - Batch tokenization complete\n",
      "2024-10-30 17:31:58,573 - searcharray.indexing - INFO - (main thread) Processing 1 batch results\n",
      "2024-10-30 17:31:58,574 - searcharray.indexing - INFO - Indexing from tokenization complete\n",
      "2024-10-30 17:31:58,581 - searcharray.indexing - INFO - Indexing begins w/ 4 workers\n",
      "2024-10-30 17:31:58,582 - searcharray.indexing - INFO - 0 Batch Start tokenization\n",
      "2024-10-30 17:31:58,582 - searcharray.indexing - INFO - Tokenizing 10 documents\n",
      "2024-10-30 17:31:58,582 - searcharray.indexing - INFO - Tokenization -- vstacking\n",
      "2024-10-30 17:31:58,583 - searcharray.indexing - INFO - Tokenization -- DONE\n",
      "2024-10-30 17:31:58,583 - searcharray.indexing - INFO - Inverting docs->terms\n",
      "2024-10-30 17:31:58,583 - searcharray.indexing - INFO - Encoding positions to bit array\n",
      "2024-10-30 17:31:58,583 - searcharray.indexing - INFO - Batch tokenization complete\n",
      "2024-10-30 17:31:58,584 - searcharray.indexing - INFO - (main thread) Processing 1 batch results\n",
      "2024-10-30 17:31:58,584 - searcharray.indexing - INFO - Indexing from tokenization complete\n",
      "2024-10-30 17:31:58,591 - searcharray.indexing - INFO - Indexing begins w/ 4 workers\n",
      "2024-10-30 17:31:58,591 - searcharray.indexing - INFO - 0 Batch Start tokenization\n",
      "2024-10-30 17:31:58,592 - searcharray.indexing - INFO - Tokenizing 10 documents\n",
      "2024-10-30 17:31:58,592 - searcharray.indexing - INFO - Tokenization -- vstacking\n",
      "2024-10-30 17:31:58,592 - searcharray.indexing - INFO - Tokenization -- DONE\n",
      "2024-10-30 17:31:58,593 - searcharray.indexing - INFO - Inverting docs->terms\n",
      "2024-10-30 17:31:58,593 - searcharray.indexing - INFO - Encoding positions to bit array\n",
      "2024-10-30 17:31:58,593 - searcharray.indexing - INFO - Batch tokenization complete\n",
      "2024-10-30 17:31:58,593 - searcharray.indexing - INFO - (main thread) Processing 1 batch results\n",
      "2024-10-30 17:31:58,594 - searcharray.indexing - INFO - Indexing from tokenization complete\n",
      "2024-10-30 17:31:58,606 - searcharray.indexing - INFO - Indexing begins w/ 4 workers\n",
      "2024-10-30 17:31:58,607 - searcharray.indexing - INFO - 0 Batch Start tokenization\n",
      "2024-10-30 17:31:58,607 - searcharray.indexing - INFO - Tokenizing 10 documents\n",
      "2024-10-30 17:31:58,608 - searcharray.indexing - INFO - Tokenization -- vstacking\n",
      "2024-10-30 17:31:58,608 - searcharray.indexing - INFO - Tokenization -- DONE\n",
      "2024-10-30 17:31:58,608 - searcharray.indexing - INFO - Inverting docs->terms\n",
      "2024-10-30 17:31:58,608 - searcharray.indexing - INFO - Encoding positions to bit array\n",
      "2024-10-30 17:31:58,609 - searcharray.indexing - INFO - Batch tokenization complete\n",
      "2024-10-30 17:31:58,609 - searcharray.indexing - INFO - (main thread) Processing 1 batch results\n",
      "2024-10-30 17:31:58,609 - searcharray.indexing - INFO - Indexing from tokenization complete\n",
      "2024-10-30 17:31:58,617 - searcharray.indexing - INFO - Indexing begins w/ 4 workers\n",
      "2024-10-30 17:31:58,617 - searcharray.indexing - INFO - 0 Batch Start tokenization\n",
      "2024-10-30 17:31:58,618 - searcharray.indexing - INFO - Tokenizing 6 documents\n",
      "2024-10-30 17:31:58,618 - searcharray.indexing - INFO - Tokenization -- vstacking\n",
      "2024-10-30 17:31:58,618 - searcharray.indexing - INFO - Tokenization -- DONE\n",
      "2024-10-30 17:31:58,619 - searcharray.indexing - INFO - Inverting docs->terms\n",
      "2024-10-30 17:31:58,619 - searcharray.indexing - INFO - Encoding positions to bit array\n",
      "2024-10-30 17:31:58,619 - searcharray.indexing - INFO - Batch tokenization complete\n",
      "2024-10-30 17:31:58,619 - searcharray.indexing - INFO - (main thread) Processing 1 batch results\n",
      "2024-10-30 17:31:58,620 - searcharray.indexing - INFO - Indexing from tokenization complete\n",
      "2024-10-30 17:31:58,626 - searcharray.indexing - INFO - Indexing begins w/ 4 workers\n",
      "2024-10-30 17:31:58,626 - searcharray.indexing - INFO - 0 Batch Start tokenization\n",
      "2024-10-30 17:31:58,627 - searcharray.indexing - INFO - Tokenizing 3 documents\n",
      "2024-10-30 17:31:58,627 - searcharray.indexing - INFO - Tokenization -- vstacking\n",
      "2024-10-30 17:31:58,627 - searcharray.indexing - INFO - Tokenization -- DONE\n",
      "2024-10-30 17:31:58,628 - searcharray.indexing - INFO - Inverting docs->terms\n",
      "2024-10-30 17:31:58,628 - searcharray.indexing - INFO - Encoding positions to bit array\n",
      "2024-10-30 17:31:58,628 - searcharray.indexing - INFO - Batch tokenization complete\n",
      "2024-10-30 17:31:58,629 - searcharray.indexing - INFO - (main thread) Processing 1 batch results\n",
      "2024-10-30 17:31:58,630 - searcharray.indexing - INFO - Indexing from tokenization complete\n",
      "2024-10-30 17:31:58,644 - searcharray.indexing - INFO - Indexing begins w/ 4 workers\n",
      "2024-10-30 17:31:58,645 - searcharray.indexing - INFO - 0 Batch Start tokenization\n",
      "2024-10-30 17:31:58,645 - searcharray.indexing - INFO - Tokenizing 10 documents\n",
      "2024-10-30 17:31:58,646 - searcharray.indexing - INFO - Tokenization -- vstacking\n",
      "2024-10-30 17:31:58,646 - searcharray.indexing - INFO - Tokenization -- DONE\n",
      "2024-10-30 17:31:58,646 - searcharray.indexing - INFO - Inverting docs->terms\n",
      "2024-10-30 17:31:58,646 - searcharray.indexing - INFO - Encoding positions to bit array\n",
      "2024-10-30 17:31:58,647 - searcharray.indexing - INFO - Batch tokenization complete\n",
      "2024-10-30 17:31:58,647 - searcharray.indexing - INFO - (main thread) Processing 1 batch results\n",
      "2024-10-30 17:31:58,648 - searcharray.indexing - INFO - Indexing from tokenization complete\n",
      "2024-10-30 17:31:58,660 - searcharray.indexing - INFO - Indexing begins w/ 4 workers\n",
      "2024-10-30 17:31:58,661 - searcharray.indexing - INFO - 0 Batch Start tokenization\n",
      "2024-10-30 17:31:58,661 - searcharray.indexing - INFO - Tokenizing 10 documents\n",
      "2024-10-30 17:31:58,662 - searcharray.indexing - INFO - Tokenization -- vstacking\n",
      "2024-10-30 17:31:58,662 - searcharray.indexing - INFO - Tokenization -- DONE\n",
      "2024-10-30 17:31:58,662 - searcharray.indexing - INFO - Inverting docs->terms\n",
      "2024-10-30 17:31:58,662 - searcharray.indexing - INFO - Encoding positions to bit array\n",
      "2024-10-30 17:31:58,662 - searcharray.indexing - INFO - Batch tokenization complete\n",
      "2024-10-30 17:31:58,663 - searcharray.indexing - INFO - (main thread) Processing 1 batch results\n",
      "2024-10-30 17:31:58,663 - searcharray.indexing - INFO - Indexing from tokenization complete\n",
      "2024-10-30 17:31:58,671 - searcharray.indexing - INFO - Indexing begins w/ 4 workers\n",
      "2024-10-30 17:31:58,671 - searcharray.indexing - INFO - 0 Batch Start tokenization\n",
      "2024-10-30 17:31:58,672 - searcharray.indexing - INFO - Tokenizing 10 documents\n",
      "2024-10-30 17:31:58,672 - searcharray.indexing - INFO - Tokenization -- vstacking\n",
      "2024-10-30 17:31:58,672 - searcharray.indexing - INFO - Tokenization -- DONE\n",
      "2024-10-30 17:31:58,673 - searcharray.indexing - INFO - Inverting docs->terms\n",
      "2024-10-30 17:31:58,673 - searcharray.indexing - INFO - Encoding positions to bit array\n",
      "2024-10-30 17:31:58,673 - searcharray.indexing - INFO - Batch tokenization complete\n",
      "2024-10-30 17:31:58,674 - searcharray.indexing - INFO - (main thread) Processing 1 batch results\n",
      "2024-10-30 17:31:58,674 - searcharray.indexing - INFO - Indexing from tokenization complete\n",
      "2024-10-30 17:31:58,682 - searcharray.indexing - INFO - Indexing begins w/ 4 workers\n",
      "2024-10-30 17:31:58,683 - searcharray.indexing - INFO - 0 Batch Start tokenization\n",
      "2024-10-30 17:31:58,683 - searcharray.indexing - INFO - Tokenizing 10 documents\n",
      "2024-10-30 17:31:58,684 - searcharray.indexing - INFO - Tokenization -- vstacking\n",
      "2024-10-30 17:31:58,684 - searcharray.indexing - INFO - Tokenization -- DONE\n",
      "2024-10-30 17:31:58,684 - searcharray.indexing - INFO - Inverting docs->terms\n",
      "2024-10-30 17:31:58,684 - searcharray.indexing - INFO - Encoding positions to bit array\n",
      "2024-10-30 17:31:58,684 - searcharray.indexing - INFO - Batch tokenization complete\n",
      "2024-10-30 17:31:58,685 - searcharray.indexing - INFO - (main thread) Processing 1 batch results\n",
      "2024-10-30 17:31:58,685 - searcharray.indexing - INFO - Indexing from tokenization complete\n",
      "2024-10-30 17:31:58,692 - searcharray.indexing - INFO - Indexing begins w/ 4 workers\n",
      "2024-10-30 17:31:58,692 - searcharray.indexing - INFO - 0 Batch Start tokenization\n",
      "2024-10-30 17:31:58,692 - searcharray.indexing - INFO - Tokenizing 10 documents\n",
      "2024-10-30 17:31:58,693 - searcharray.indexing - INFO - Tokenization -- vstacking\n",
      "2024-10-30 17:31:58,693 - searcharray.indexing - INFO - Tokenization -- DONE\n",
      "2024-10-30 17:31:58,694 - searcharray.indexing - INFO - Inverting docs->terms\n",
      "2024-10-30 17:31:58,694 - searcharray.indexing - INFO - Encoding positions to bit array\n",
      "2024-10-30 17:31:58,694 - searcharray.indexing - INFO - Batch tokenization complete\n",
      "2024-10-30 17:31:58,695 - searcharray.indexing - INFO - (main thread) Processing 1 batch results\n",
      "2024-10-30 17:31:58,695 - searcharray.indexing - INFO - Indexing from tokenization complete\n",
      "2024-10-30 17:31:58,702 - searcharray.indexing - INFO - Indexing begins w/ 4 workers\n",
      "2024-10-30 17:31:58,703 - searcharray.indexing - INFO - 0 Batch Start tokenization\n",
      "2024-10-30 17:31:58,703 - searcharray.indexing - INFO - Tokenizing 10 documents\n",
      "2024-10-30 17:31:58,703 - searcharray.indexing - INFO - Tokenization -- vstacking\n",
      "2024-10-30 17:31:58,704 - searcharray.indexing - INFO - Tokenization -- DONE\n",
      "2024-10-30 17:31:58,704 - searcharray.indexing - INFO - Inverting docs->terms\n",
      "2024-10-30 17:31:58,704 - searcharray.indexing - INFO - Encoding positions to bit array\n",
      "2024-10-30 17:31:58,705 - searcharray.indexing - INFO - Batch tokenization complete\n",
      "2024-10-30 17:31:58,705 - searcharray.indexing - INFO - (main thread) Processing 1 batch results\n",
      "2024-10-30 17:31:58,705 - searcharray.indexing - INFO - Indexing from tokenization complete\n",
      "2024-10-30 17:31:58,720 - searcharray.indexing - INFO - Indexing begins w/ 4 workers\n",
      "2024-10-30 17:31:58,720 - searcharray.indexing - INFO - 0 Batch Start tokenization\n",
      "2024-10-30 17:31:58,721 - searcharray.indexing - INFO - Tokenizing 6 documents\n",
      "2024-10-30 17:31:58,721 - searcharray.indexing - INFO - Tokenization -- vstacking\n",
      "2024-10-30 17:31:58,721 - searcharray.indexing - INFO - Tokenization -- DONE\n",
      "2024-10-30 17:31:58,722 - searcharray.indexing - INFO - Inverting docs->terms\n",
      "2024-10-30 17:31:58,722 - searcharray.indexing - INFO - Encoding positions to bit array\n",
      "2024-10-30 17:31:58,722 - searcharray.indexing - INFO - Batch tokenization complete\n",
      "2024-10-30 17:31:58,722 - searcharray.indexing - INFO - (main thread) Processing 1 batch results\n",
      "2024-10-30 17:31:58,723 - searcharray.indexing - INFO - Indexing from tokenization complete\n",
      "2024-10-30 17:31:58,731 - searcharray.indexing - INFO - Indexing begins w/ 4 workers\n",
      "2024-10-30 17:31:58,731 - searcharray.indexing - INFO - 0 Batch Start tokenization\n",
      "2024-10-30 17:31:58,732 - searcharray.indexing - INFO - Tokenizing 10 documents\n",
      "2024-10-30 17:31:58,732 - searcharray.indexing - INFO - Tokenization -- vstacking\n",
      "2024-10-30 17:31:58,732 - searcharray.indexing - INFO - Tokenization -- DONE\n",
      "2024-10-30 17:31:58,733 - searcharray.indexing - INFO - Inverting docs->terms\n",
      "2024-10-30 17:31:58,733 - searcharray.indexing - INFO - Encoding positions to bit array\n",
      "2024-10-30 17:31:58,734 - searcharray.indexing - INFO - Batch tokenization complete\n",
      "2024-10-30 17:31:58,734 - searcharray.indexing - INFO - (main thread) Processing 1 batch results\n",
      "2024-10-30 17:31:58,734 - searcharray.indexing - INFO - Indexing from tokenization complete\n",
      "2024-10-30 17:31:58,742 - searcharray.indexing - INFO - Indexing begins w/ 4 workers\n",
      "2024-10-30 17:31:58,743 - searcharray.indexing - INFO - 0 Batch Start tokenization\n",
      "2024-10-30 17:31:58,743 - searcharray.indexing - INFO - Tokenizing 10 documents\n",
      "2024-10-30 17:31:58,744 - searcharray.indexing - INFO - Tokenization -- vstacking\n",
      "2024-10-30 17:31:58,744 - searcharray.indexing - INFO - Tokenization -- DONE\n",
      "2024-10-30 17:31:58,744 - searcharray.indexing - INFO - Inverting docs->terms\n",
      "2024-10-30 17:31:58,744 - searcharray.indexing - INFO - Encoding positions to bit array\n",
      "2024-10-30 17:31:58,745 - searcharray.indexing - INFO - Batch tokenization complete\n",
      "2024-10-30 17:31:58,745 - searcharray.indexing - INFO - (main thread) Processing 1 batch results\n",
      "2024-10-30 17:31:58,746 - searcharray.indexing - INFO - Indexing from tokenization complete\n",
      "2024-10-30 17:31:58,753 - searcharray.indexing - INFO - Indexing begins w/ 4 workers\n",
      "2024-10-30 17:31:58,753 - searcharray.indexing - INFO - 0 Batch Start tokenization\n",
      "2024-10-30 17:31:58,754 - searcharray.indexing - INFO - Tokenizing 10 documents\n",
      "2024-10-30 17:31:58,754 - searcharray.indexing - INFO - Tokenization -- vstacking\n",
      "2024-10-30 17:31:58,754 - searcharray.indexing - INFO - Tokenization -- DONE\n",
      "2024-10-30 17:31:58,754 - searcharray.indexing - INFO - Inverting docs->terms\n",
      "2024-10-30 17:31:58,755 - searcharray.indexing - INFO - Encoding positions to bit array\n",
      "2024-10-30 17:31:58,755 - searcharray.indexing - INFO - Batch tokenization complete\n",
      "2024-10-30 17:31:58,755 - searcharray.indexing - INFO - (main thread) Processing 1 batch results\n",
      "2024-10-30 17:31:58,756 - searcharray.indexing - INFO - Indexing from tokenization complete\n",
      "2024-10-30 17:31:58,763 - searcharray.indexing - INFO - Indexing begins w/ 4 workers\n",
      "2024-10-30 17:31:58,764 - searcharray.indexing - INFO - 0 Batch Start tokenization\n",
      "2024-10-30 17:31:58,765 - searcharray.indexing - INFO - Tokenizing 10 documents\n",
      "2024-10-30 17:31:58,765 - searcharray.indexing - INFO - Tokenization -- vstacking\n",
      "2024-10-30 17:31:58,765 - searcharray.indexing - INFO - Tokenization -- DONE\n",
      "2024-10-30 17:31:58,766 - searcharray.indexing - INFO - Inverting docs->terms\n",
      "2024-10-30 17:31:58,766 - searcharray.indexing - INFO - Encoding positions to bit array\n",
      "2024-10-30 17:31:58,766 - searcharray.indexing - INFO - Batch tokenization complete\n",
      "2024-10-30 17:31:58,767 - searcharray.indexing - INFO - (main thread) Processing 1 batch results\n",
      "2024-10-30 17:31:58,767 - searcharray.indexing - INFO - Indexing from tokenization complete\n",
      "2024-10-30 17:31:58,774 - searcharray.indexing - INFO - Indexing begins w/ 4 workers\n",
      "2024-10-30 17:31:58,775 - searcharray.indexing - INFO - 0 Batch Start tokenization\n",
      "2024-10-30 17:31:58,775 - searcharray.indexing - INFO - Tokenizing 10 documents\n",
      "2024-10-30 17:31:58,776 - searcharray.indexing - INFO - Tokenization -- vstacking\n",
      "2024-10-30 17:31:58,776 - searcharray.indexing - INFO - Tokenization -- DONE\n",
      "2024-10-30 17:31:58,776 - searcharray.indexing - INFO - Inverting docs->terms\n",
      "2024-10-30 17:31:58,777 - searcharray.indexing - INFO - Encoding positions to bit array\n",
      "2024-10-30 17:31:58,777 - searcharray.indexing - INFO - Batch tokenization complete\n",
      "2024-10-30 17:31:58,777 - searcharray.indexing - INFO - (main thread) Processing 1 batch results\n",
      "2024-10-30 17:31:58,778 - searcharray.indexing - INFO - Indexing from tokenization complete\n",
      "2024-10-30 17:31:58,786 - searcharray.indexing - INFO - Indexing begins w/ 4 workers\n",
      "2024-10-30 17:31:58,786 - searcharray.indexing - INFO - 0 Batch Start tokenization\n",
      "2024-10-30 17:31:58,786 - searcharray.indexing - INFO - Tokenizing 10 documents\n",
      "2024-10-30 17:31:58,787 - searcharray.indexing - INFO - Tokenization -- vstacking\n",
      "2024-10-30 17:31:58,787 - searcharray.indexing - INFO - Tokenization -- DONE\n",
      "2024-10-30 17:31:58,788 - searcharray.indexing - INFO - Inverting docs->terms\n",
      "2024-10-30 17:31:58,788 - searcharray.indexing - INFO - Encoding positions to bit array\n",
      "2024-10-30 17:31:58,788 - searcharray.indexing - INFO - Batch tokenization complete\n",
      "2024-10-30 17:31:58,788 - searcharray.indexing - INFO - (main thread) Processing 1 batch results\n",
      "2024-10-30 17:31:58,789 - searcharray.indexing - INFO - Indexing from tokenization complete\n",
      "2024-10-30 17:31:58,797 - searcharray.indexing - INFO - Indexing begins w/ 4 workers\n",
      "2024-10-30 17:31:58,798 - searcharray.indexing - INFO - 0 Batch Start tokenization\n",
      "2024-10-30 17:31:58,798 - searcharray.indexing - INFO - Tokenizing 10 documents\n",
      "2024-10-30 17:31:58,799 - searcharray.indexing - INFO - Tokenization -- vstacking\n",
      "2024-10-30 17:31:58,799 - searcharray.indexing - INFO - Tokenization -- DONE\n",
      "2024-10-30 17:31:58,800 - searcharray.indexing - INFO - Inverting docs->terms\n",
      "2024-10-30 17:31:58,800 - searcharray.indexing - INFO - Encoding positions to bit array\n",
      "2024-10-30 17:31:58,801 - searcharray.indexing - INFO - Batch tokenization complete\n",
      "2024-10-30 17:31:58,801 - searcharray.indexing - INFO - (main thread) Processing 1 batch results\n",
      "2024-10-30 17:31:58,802 - searcharray.indexing - INFO - Indexing from tokenization complete\n",
      "2024-10-30 17:31:58,813 - searcharray.indexing - INFO - Indexing begins w/ 4 workers\n",
      "2024-10-30 17:31:58,813 - searcharray.indexing - INFO - 0 Batch Start tokenization\n",
      "2024-10-30 17:31:58,814 - searcharray.indexing - INFO - Tokenizing 10 documents\n",
      "2024-10-30 17:31:58,814 - searcharray.indexing - INFO - Tokenization -- vstacking\n",
      "2024-10-30 17:31:58,814 - searcharray.indexing - INFO - Tokenization -- DONE\n",
      "2024-10-30 17:31:58,815 - searcharray.indexing - INFO - Inverting docs->terms\n",
      "2024-10-30 17:31:58,815 - searcharray.indexing - INFO - Encoding positions to bit array\n",
      "2024-10-30 17:31:58,816 - searcharray.indexing - INFO - Batch tokenization complete\n",
      "2024-10-30 17:31:58,816 - searcharray.indexing - INFO - (main thread) Processing 1 batch results\n",
      "2024-10-30 17:31:58,816 - searcharray.indexing - INFO - Indexing from tokenization complete\n",
      "2024-10-30 17:31:58,830 - searcharray.indexing - INFO - Indexing begins w/ 4 workers\n",
      "2024-10-30 17:31:58,831 - searcharray.indexing - INFO - 0 Batch Start tokenization\n",
      "2024-10-30 17:31:58,831 - searcharray.indexing - INFO - Tokenizing 3 documents\n",
      "2024-10-30 17:31:58,832 - searcharray.indexing - INFO - Tokenization -- vstacking\n",
      "2024-10-30 17:31:58,832 - searcharray.indexing - INFO - Tokenization -- DONE\n",
      "2024-10-30 17:31:58,832 - searcharray.indexing - INFO - Inverting docs->terms\n",
      "2024-10-30 17:31:58,832 - searcharray.indexing - INFO - Encoding positions to bit array\n",
      "2024-10-30 17:31:58,832 - searcharray.indexing - INFO - Batch tokenization complete\n",
      "2024-10-30 17:31:58,833 - searcharray.indexing - INFO - (main thread) Processing 1 batch results\n",
      "2024-10-30 17:31:58,833 - searcharray.indexing - INFO - Indexing from tokenization complete\n",
      "2024-10-30 17:31:58,843 - searcharray.indexing - INFO - Indexing begins w/ 4 workers\n",
      "2024-10-30 17:31:58,843 - searcharray.indexing - INFO - 0 Batch Start tokenization\n",
      "2024-10-30 17:31:58,844 - searcharray.indexing - INFO - Tokenizing 1 documents\n",
      "2024-10-30 17:31:58,844 - searcharray.indexing - INFO - Tokenization -- vstacking\n",
      "2024-10-30 17:31:58,844 - searcharray.indexing - INFO - Tokenization -- DONE\n",
      "2024-10-30 17:31:58,844 - searcharray.indexing - INFO - Inverting docs->terms\n",
      "2024-10-30 17:31:58,845 - searcharray.indexing - INFO - Encoding positions to bit array\n",
      "2024-10-30 17:31:58,845 - searcharray.indexing - INFO - Batch tokenization complete\n",
      "2024-10-30 17:31:58,846 - searcharray.indexing - INFO - (main thread) Processing 1 batch results\n",
      "2024-10-30 17:31:58,846 - searcharray.indexing - INFO - Indexing from tokenization complete\n",
      "2024-10-30 17:31:58,853 - searcharray.indexing - INFO - Indexing begins w/ 4 workers\n",
      "2024-10-30 17:31:58,853 - searcharray.indexing - INFO - 0 Batch Start tokenization\n",
      "2024-10-30 17:31:58,854 - searcharray.indexing - INFO - Tokenizing 10 documents\n",
      "2024-10-30 17:31:58,854 - searcharray.indexing - INFO - Tokenization -- vstacking\n",
      "2024-10-30 17:31:58,854 - searcharray.indexing - INFO - Tokenization -- DONE\n",
      "2024-10-30 17:31:58,854 - searcharray.indexing - INFO - Inverting docs->terms\n",
      "2024-10-30 17:31:58,854 - searcharray.indexing - INFO - Encoding positions to bit array\n",
      "2024-10-30 17:31:58,855 - searcharray.indexing - INFO - Batch tokenization complete\n",
      "2024-10-30 17:31:58,855 - searcharray.indexing - INFO - (main thread) Processing 1 batch results\n",
      "2024-10-30 17:31:58,855 - searcharray.indexing - INFO - Indexing from tokenization complete\n",
      "2024-10-30 17:31:58,861 - searcharray.indexing - INFO - Indexing begins w/ 4 workers\n",
      "2024-10-30 17:31:58,862 - searcharray.indexing - INFO - 0 Batch Start tokenization\n",
      "2024-10-30 17:31:58,862 - searcharray.indexing - INFO - Tokenizing 10 documents\n",
      "2024-10-30 17:31:58,863 - searcharray.indexing - INFO - Tokenization -- vstacking\n",
      "2024-10-30 17:31:58,863 - searcharray.indexing - INFO - Tokenization -- DONE\n",
      "2024-10-30 17:31:58,863 - searcharray.indexing - INFO - Inverting docs->terms\n",
      "2024-10-30 17:31:58,863 - searcharray.indexing - INFO - Encoding positions to bit array\n",
      "2024-10-30 17:31:58,864 - searcharray.indexing - INFO - Batch tokenization complete\n",
      "2024-10-30 17:31:58,864 - searcharray.indexing - INFO - (main thread) Processing 1 batch results\n",
      "2024-10-30 17:31:58,864 - searcharray.indexing - INFO - Indexing from tokenization complete\n",
      "2024-10-30 17:31:58,871 - searcharray.indexing - INFO - Indexing begins w/ 4 workers\n",
      "2024-10-30 17:31:58,871 - searcharray.indexing - INFO - 0 Batch Start tokenization\n",
      "2024-10-30 17:31:58,872 - searcharray.indexing - INFO - Tokenizing 10 documents\n",
      "2024-10-30 17:31:58,872 - searcharray.indexing - INFO - Tokenization -- vstacking\n",
      "2024-10-30 17:31:58,873 - searcharray.indexing - INFO - Tokenization -- DONE\n",
      "2024-10-30 17:31:58,873 - searcharray.indexing - INFO - Inverting docs->terms\n",
      "2024-10-30 17:31:58,873 - searcharray.indexing - INFO - Encoding positions to bit array\n",
      "2024-10-30 17:31:58,874 - searcharray.indexing - INFO - Batch tokenization complete\n",
      "2024-10-30 17:31:58,874 - searcharray.indexing - INFO - (main thread) Processing 1 batch results\n",
      "2024-10-30 17:31:58,874 - searcharray.indexing - INFO - Indexing from tokenization complete\n",
      "2024-10-30 17:31:58,880 - searcharray.indexing - INFO - Indexing begins w/ 4 workers\n",
      "2024-10-30 17:31:58,881 - searcharray.indexing - INFO - 0 Batch Start tokenization\n",
      "2024-10-30 17:31:58,881 - searcharray.indexing - INFO - Tokenizing 10 documents\n",
      "2024-10-30 17:31:58,882 - searcharray.indexing - INFO - Tokenization -- vstacking\n",
      "2024-10-30 17:31:58,882 - searcharray.indexing - INFO - Tokenization -- DONE\n",
      "2024-10-30 17:31:58,882 - searcharray.indexing - INFO - Inverting docs->terms\n",
      "2024-10-30 17:31:58,882 - searcharray.indexing - INFO - Encoding positions to bit array\n",
      "2024-10-30 17:31:58,883 - searcharray.indexing - INFO - Batch tokenization complete\n",
      "2024-10-30 17:31:58,883 - searcharray.indexing - INFO - (main thread) Processing 1 batch results\n",
      "2024-10-30 17:31:58,883 - searcharray.indexing - INFO - Indexing from tokenization complete\n",
      "2024-10-30 17:31:58,893 - searcharray.indexing - INFO - Indexing begins w/ 4 workers\n",
      "2024-10-30 17:31:58,893 - searcharray.indexing - INFO - 0 Batch Start tokenization\n",
      "2024-10-30 17:31:58,894 - searcharray.indexing - INFO - Tokenizing 10 documents\n",
      "2024-10-30 17:31:58,894 - searcharray.indexing - INFO - Tokenization -- vstacking\n",
      "2024-10-30 17:31:58,895 - searcharray.indexing - INFO - Tokenization -- DONE\n",
      "2024-10-30 17:31:58,895 - searcharray.indexing - INFO - Inverting docs->terms\n",
      "2024-10-30 17:31:58,895 - searcharray.indexing - INFO - Encoding positions to bit array\n",
      "2024-10-30 17:31:58,895 - searcharray.indexing - INFO - Batch tokenization complete\n",
      "2024-10-30 17:31:58,896 - searcharray.indexing - INFO - (main thread) Processing 1 batch results\n",
      "2024-10-30 17:31:58,896 - searcharray.indexing - INFO - Indexing from tokenization complete\n",
      "2024-10-30 17:31:58,911 - searcharray.indexing - INFO - Indexing begins w/ 4 workers\n",
      "2024-10-30 17:31:58,912 - searcharray.indexing - INFO - 0 Batch Start tokenization\n",
      "2024-10-30 17:31:58,912 - searcharray.indexing - INFO - Tokenizing 10 documents\n",
      "2024-10-30 17:31:58,913 - searcharray.indexing - INFO - Tokenization -- vstacking\n",
      "2024-10-30 17:31:58,913 - searcharray.indexing - INFO - Tokenization -- DONE\n",
      "2024-10-30 17:31:58,914 - searcharray.indexing - INFO - Inverting docs->terms\n",
      "2024-10-30 17:31:58,914 - searcharray.indexing - INFO - Encoding positions to bit array\n",
      "2024-10-30 17:31:58,914 - searcharray.indexing - INFO - Batch tokenization complete\n",
      "2024-10-30 17:31:58,915 - searcharray.indexing - INFO - (main thread) Processing 1 batch results\n",
      "2024-10-30 17:31:58,915 - searcharray.indexing - INFO - Indexing from tokenization complete\n",
      "2024-10-30 17:31:58,923 - searcharray.indexing - INFO - Indexing begins w/ 4 workers\n",
      "2024-10-30 17:31:58,923 - searcharray.indexing - INFO - 0 Batch Start tokenization\n",
      "2024-10-30 17:31:58,924 - searcharray.indexing - INFO - Tokenizing 10 documents\n",
      "2024-10-30 17:31:58,924 - searcharray.indexing - INFO - Tokenization -- vstacking\n",
      "2024-10-30 17:31:58,924 - searcharray.indexing - INFO - Tokenization -- DONE\n",
      "2024-10-30 17:31:58,925 - searcharray.indexing - INFO - Inverting docs->terms\n",
      "2024-10-30 17:31:58,925 - searcharray.indexing - INFO - Encoding positions to bit array\n",
      "2024-10-30 17:31:58,925 - searcharray.indexing - INFO - Batch tokenization complete\n",
      "2024-10-30 17:31:58,926 - searcharray.indexing - INFO - (main thread) Processing 1 batch results\n",
      "2024-10-30 17:31:58,926 - searcharray.indexing - INFO - Indexing from tokenization complete\n",
      "2024-10-30 17:31:58,934 - searcharray.indexing - INFO - Indexing begins w/ 4 workers\n",
      "2024-10-30 17:31:58,934 - searcharray.indexing - INFO - 0 Batch Start tokenization\n",
      "2024-10-30 17:31:58,935 - searcharray.indexing - INFO - Tokenizing 8 documents\n",
      "2024-10-30 17:31:58,935 - searcharray.indexing - INFO - Tokenization -- vstacking\n",
      "2024-10-30 17:31:58,936 - searcharray.indexing - INFO - Tokenization -- DONE\n",
      "2024-10-30 17:31:58,936 - searcharray.indexing - INFO - Inverting docs->terms\n",
      "2024-10-30 17:31:58,936 - searcharray.indexing - INFO - Encoding positions to bit array\n",
      "2024-10-30 17:31:58,936 - searcharray.indexing - INFO - Batch tokenization complete\n",
      "2024-10-30 17:31:58,937 - searcharray.indexing - INFO - (main thread) Processing 1 batch results\n",
      "2024-10-30 17:31:58,937 - searcharray.indexing - INFO - Indexing from tokenization complete\n",
      "2024-10-30 17:31:58,944 - searcharray.indexing - INFO - Indexing begins w/ 4 workers\n",
      "2024-10-30 17:31:58,945 - searcharray.indexing - INFO - 0 Batch Start tokenization\n",
      "2024-10-30 17:31:58,946 - searcharray.indexing - INFO - Tokenizing 3 documents\n",
      "2024-10-30 17:31:58,946 - searcharray.indexing - INFO - Tokenization -- vstacking\n",
      "2024-10-30 17:31:58,946 - searcharray.indexing - INFO - Tokenization -- DONE\n",
      "2024-10-30 17:31:58,946 - searcharray.indexing - INFO - Inverting docs->terms\n",
      "2024-10-30 17:31:58,947 - searcharray.indexing - INFO - Encoding positions to bit array\n",
      "2024-10-30 17:31:58,947 - searcharray.indexing - INFO - Batch tokenization complete\n",
      "2024-10-30 17:31:58,947 - searcharray.indexing - INFO - (main thread) Processing 1 batch results\n",
      "2024-10-30 17:31:58,948 - searcharray.indexing - INFO - Indexing from tokenization complete\n",
      "2024-10-30 17:31:58,957 - searcharray.indexing - INFO - Indexing begins w/ 4 workers\n",
      "2024-10-30 17:31:58,958 - searcharray.indexing - INFO - 0 Batch Start tokenization\n",
      "2024-10-30 17:31:58,959 - searcharray.indexing - INFO - Tokenizing 10 documents\n",
      "2024-10-30 17:31:58,959 - searcharray.indexing - INFO - Tokenization -- vstacking\n",
      "2024-10-30 17:31:58,960 - searcharray.indexing - INFO - Tokenization -- DONE\n",
      "2024-10-30 17:31:58,960 - searcharray.indexing - INFO - Inverting docs->terms\n",
      "2024-10-30 17:31:58,960 - searcharray.indexing - INFO - Encoding positions to bit array\n",
      "2024-10-30 17:31:58,961 - searcharray.indexing - INFO - Batch tokenization complete\n",
      "2024-10-30 17:31:58,961 - searcharray.indexing - INFO - (main thread) Processing 1 batch results\n",
      "2024-10-30 17:31:58,961 - searcharray.indexing - INFO - Indexing from tokenization complete\n",
      "2024-10-30 17:31:58,975 - searcharray.indexing - INFO - Indexing begins w/ 4 workers\n",
      "2024-10-30 17:31:58,975 - searcharray.indexing - INFO - 0 Batch Start tokenization\n",
      "2024-10-30 17:31:58,976 - searcharray.indexing - INFO - Tokenizing 10 documents\n",
      "2024-10-30 17:31:58,976 - searcharray.indexing - INFO - Tokenization -- vstacking\n",
      "2024-10-30 17:31:58,977 - searcharray.indexing - INFO - Tokenization -- DONE\n",
      "2024-10-30 17:31:58,977 - searcharray.indexing - INFO - Inverting docs->terms\n",
      "2024-10-30 17:31:58,977 - searcharray.indexing - INFO - Encoding positions to bit array\n",
      "2024-10-30 17:31:58,978 - searcharray.indexing - INFO - Batch tokenization complete\n",
      "2024-10-30 17:31:58,978 - searcharray.indexing - INFO - (main thread) Processing 1 batch results\n",
      "2024-10-30 17:31:58,979 - searcharray.indexing - INFO - Indexing from tokenization complete\n",
      "2024-10-30 17:31:58,999 - searcharray.indexing - INFO - Indexing begins w/ 4 workers\n",
      "2024-10-30 17:31:58,999 - searcharray.indexing - INFO - 0 Batch Start tokenization\n",
      "2024-10-30 17:31:59,000 - searcharray.indexing - INFO - Tokenizing 10 documents\n",
      "2024-10-30 17:31:59,001 - searcharray.indexing - INFO - Tokenization -- vstacking\n",
      "2024-10-30 17:31:59,001 - searcharray.indexing - INFO - Tokenization -- DONE\n",
      "2024-10-30 17:31:59,002 - searcharray.indexing - INFO - Inverting docs->terms\n",
      "2024-10-30 17:31:59,002 - searcharray.indexing - INFO - Encoding positions to bit array\n",
      "2024-10-30 17:31:59,003 - searcharray.indexing - INFO - Batch tokenization complete\n",
      "2024-10-30 17:31:59,004 - searcharray.indexing - INFO - (main thread) Processing 1 batch results\n",
      "2024-10-30 17:31:59,004 - searcharray.indexing - INFO - Indexing from tokenization complete\n",
      "2024-10-30 17:31:59,013 - searcharray.indexing - INFO - Indexing begins w/ 4 workers\n",
      "2024-10-30 17:31:59,013 - searcharray.indexing - INFO - 0 Batch Start tokenization\n",
      "2024-10-30 17:31:59,014 - searcharray.indexing - INFO - Tokenizing 10 documents\n",
      "2024-10-30 17:31:59,014 - searcharray.indexing - INFO - Tokenization -- vstacking\n",
      "2024-10-30 17:31:59,014 - searcharray.indexing - INFO - Tokenization -- DONE\n",
      "2024-10-30 17:31:59,015 - searcharray.indexing - INFO - Inverting docs->terms\n",
      "2024-10-30 17:31:59,015 - searcharray.indexing - INFO - Encoding positions to bit array\n",
      "2024-10-30 17:31:59,015 - searcharray.indexing - INFO - Batch tokenization complete\n",
      "2024-10-30 17:31:59,016 - searcharray.indexing - INFO - (main thread) Processing 1 batch results\n",
      "2024-10-30 17:31:59,016 - searcharray.indexing - INFO - Indexing from tokenization complete\n",
      "2024-10-30 17:31:59,025 - searcharray.indexing - INFO - Indexing begins w/ 4 workers\n",
      "2024-10-30 17:31:59,026 - searcharray.indexing - INFO - 0 Batch Start tokenization\n",
      "2024-10-30 17:31:59,026 - searcharray.indexing - INFO - Tokenizing 10 documents\n",
      "2024-10-30 17:31:59,027 - searcharray.indexing - INFO - Tokenization -- vstacking\n",
      "2024-10-30 17:31:59,027 - searcharray.indexing - INFO - Tokenization -- DONE\n",
      "2024-10-30 17:31:59,027 - searcharray.indexing - INFO - Inverting docs->terms\n",
      "2024-10-30 17:31:59,027 - searcharray.indexing - INFO - Encoding positions to bit array\n",
      "2024-10-30 17:31:59,028 - searcharray.indexing - INFO - Batch tokenization complete\n",
      "2024-10-30 17:31:59,028 - searcharray.indexing - INFO - (main thread) Processing 1 batch results\n",
      "2024-10-30 17:31:59,028 - searcharray.indexing - INFO - Indexing from tokenization complete\n",
      "2024-10-30 17:31:59,035 - searcharray.indexing - INFO - Indexing begins w/ 4 workers\n",
      "2024-10-30 17:31:59,035 - searcharray.indexing - INFO - 0 Batch Start tokenization\n",
      "2024-10-30 17:31:59,036 - searcharray.indexing - INFO - Tokenizing 10 documents\n",
      "2024-10-30 17:31:59,036 - searcharray.indexing - INFO - Tokenization -- vstacking\n",
      "2024-10-30 17:31:59,036 - searcharray.indexing - INFO - Tokenization -- DONE\n",
      "2024-10-30 17:31:59,037 - searcharray.indexing - INFO - Inverting docs->terms\n",
      "2024-10-30 17:31:59,037 - searcharray.indexing - INFO - Encoding positions to bit array\n",
      "2024-10-30 17:31:59,037 - searcharray.indexing - INFO - Batch tokenization complete\n",
      "2024-10-30 17:31:59,038 - searcharray.indexing - INFO - (main thread) Processing 1 batch results\n",
      "2024-10-30 17:31:59,038 - searcharray.indexing - INFO - Indexing from tokenization complete\n",
      "2024-10-30 17:31:59,046 - searcharray.indexing - INFO - Indexing begins w/ 4 workers\n",
      "2024-10-30 17:31:59,047 - searcharray.indexing - INFO - 0 Batch Start tokenization\n",
      "2024-10-30 17:31:59,048 - searcharray.indexing - INFO - Tokenizing 10 documents\n",
      "2024-10-30 17:31:59,048 - searcharray.indexing - INFO - Tokenization -- vstacking\n",
      "2024-10-30 17:31:59,048 - searcharray.indexing - INFO - Tokenization -- DONE\n",
      "2024-10-30 17:31:59,048 - searcharray.indexing - INFO - Inverting docs->terms\n",
      "2024-10-30 17:31:59,049 - searcharray.indexing - INFO - Encoding positions to bit array\n",
      "2024-10-30 17:31:59,049 - searcharray.indexing - INFO - Batch tokenization complete\n",
      "2024-10-30 17:31:59,049 - searcharray.indexing - INFO - (main thread) Processing 1 batch results\n",
      "2024-10-30 17:31:59,050 - searcharray.indexing - INFO - Indexing from tokenization complete\n",
      "2024-10-30 17:31:59,057 - searcharray.indexing - INFO - Indexing begins w/ 4 workers\n",
      "2024-10-30 17:31:59,057 - searcharray.indexing - INFO - 0 Batch Start tokenization\n",
      "2024-10-30 17:31:59,058 - searcharray.indexing - INFO - Tokenizing 10 documents\n",
      "2024-10-30 17:31:59,058 - searcharray.indexing - INFO - Tokenization -- vstacking\n",
      "2024-10-30 17:31:59,059 - searcharray.indexing - INFO - Tokenization -- DONE\n",
      "2024-10-30 17:31:59,059 - searcharray.indexing - INFO - Inverting docs->terms\n",
      "2024-10-30 17:31:59,059 - searcharray.indexing - INFO - Encoding positions to bit array\n",
      "2024-10-30 17:31:59,060 - searcharray.indexing - INFO - Batch tokenization complete\n",
      "2024-10-30 17:31:59,060 - searcharray.indexing - INFO - (main thread) Processing 1 batch results\n",
      "2024-10-30 17:31:59,061 - searcharray.indexing - INFO - Indexing from tokenization complete\n",
      "2024-10-30 17:31:59,076 - searcharray.indexing - INFO - Indexing begins w/ 4 workers\n",
      "2024-10-30 17:31:59,077 - searcharray.indexing - INFO - 0 Batch Start tokenization\n",
      "2024-10-30 17:31:59,077 - searcharray.indexing - INFO - Tokenizing 10 documents\n",
      "2024-10-30 17:31:59,078 - searcharray.indexing - INFO - Tokenization -- vstacking\n",
      "2024-10-30 17:31:59,078 - searcharray.indexing - INFO - Tokenization -- DONE\n",
      "2024-10-30 17:31:59,078 - searcharray.indexing - INFO - Inverting docs->terms\n",
      "2024-10-30 17:31:59,079 - searcharray.indexing - INFO - Encoding positions to bit array\n",
      "2024-10-30 17:31:59,079 - searcharray.indexing - INFO - Batch tokenization complete\n",
      "2024-10-30 17:31:59,079 - searcharray.indexing - INFO - (main thread) Processing 1 batch results\n",
      "2024-10-30 17:31:59,080 - searcharray.indexing - INFO - Indexing from tokenization complete\n",
      "2024-10-30 17:31:59,086 - searcharray.indexing - INFO - Indexing begins w/ 4 workers\n",
      "2024-10-30 17:31:59,086 - searcharray.indexing - INFO - 0 Batch Start tokenization\n",
      "2024-10-30 17:31:59,087 - searcharray.indexing - INFO - Tokenizing 3 documents\n",
      "2024-10-30 17:31:59,087 - searcharray.indexing - INFO - Tokenization -- vstacking\n",
      "2024-10-30 17:31:59,088 - searcharray.indexing - INFO - Tokenization -- DONE\n",
      "2024-10-30 17:31:59,088 - searcharray.indexing - INFO - Inverting docs->terms\n",
      "2024-10-30 17:31:59,088 - searcharray.indexing - INFO - Encoding positions to bit array\n",
      "2024-10-30 17:31:59,088 - searcharray.indexing - INFO - Batch tokenization complete\n",
      "2024-10-30 17:31:59,089 - searcharray.indexing - INFO - (main thread) Processing 1 batch results\n",
      "2024-10-30 17:31:59,089 - searcharray.indexing - INFO - Indexing from tokenization complete\n",
      "2024-10-30 17:31:59,095 - searcharray.indexing - INFO - Indexing begins w/ 4 workers\n",
      "2024-10-30 17:31:59,096 - searcharray.indexing - INFO - 0 Batch Start tokenization\n",
      "2024-10-30 17:31:59,096 - searcharray.indexing - INFO - Tokenizing 10 documents\n",
      "2024-10-30 17:31:59,097 - searcharray.indexing - INFO - Tokenization -- vstacking\n",
      "2024-10-30 17:31:59,097 - searcharray.indexing - INFO - Tokenization -- DONE\n",
      "2024-10-30 17:31:59,097 - searcharray.indexing - INFO - Inverting docs->terms\n",
      "2024-10-30 17:31:59,097 - searcharray.indexing - INFO - Encoding positions to bit array\n",
      "2024-10-30 17:31:59,098 - searcharray.indexing - INFO - Batch tokenization complete\n",
      "2024-10-30 17:31:59,098 - searcharray.indexing - INFO - (main thread) Processing 1 batch results\n",
      "2024-10-30 17:31:59,098 - searcharray.indexing - INFO - Indexing from tokenization complete\n",
      "2024-10-30 17:31:59,107 - searcharray.indexing - INFO - Indexing begins w/ 4 workers\n",
      "2024-10-30 17:31:59,107 - searcharray.indexing - INFO - 0 Batch Start tokenization\n",
      "2024-10-30 17:31:59,108 - searcharray.indexing - INFO - Tokenizing 10 documents\n",
      "2024-10-30 17:31:59,109 - searcharray.indexing - INFO - Tokenization -- vstacking\n",
      "2024-10-30 17:31:59,109 - searcharray.indexing - INFO - Tokenization -- DONE\n",
      "2024-10-30 17:31:59,109 - searcharray.indexing - INFO - Inverting docs->terms\n",
      "2024-10-30 17:31:59,110 - searcharray.indexing - INFO - Encoding positions to bit array\n",
      "2024-10-30 17:31:59,110 - searcharray.indexing - INFO - Batch tokenization complete\n",
      "2024-10-30 17:31:59,111 - searcharray.indexing - INFO - (main thread) Processing 1 batch results\n",
      "2024-10-30 17:31:59,111 - searcharray.indexing - INFO - Indexing from tokenization complete\n",
      "2024-10-30 17:31:59,118 - searcharray.indexing - INFO - Indexing begins w/ 4 workers\n",
      "2024-10-30 17:31:59,119 - searcharray.indexing - INFO - 0 Batch Start tokenization\n",
      "2024-10-30 17:31:59,119 - searcharray.indexing - INFO - Tokenizing 10 documents\n",
      "2024-10-30 17:31:59,119 - searcharray.indexing - INFO - Tokenization -- vstacking\n",
      "2024-10-30 17:31:59,120 - searcharray.indexing - INFO - Tokenization -- DONE\n",
      "2024-10-30 17:31:59,120 - searcharray.indexing - INFO - Inverting docs->terms\n",
      "2024-10-30 17:31:59,120 - searcharray.indexing - INFO - Encoding positions to bit array\n",
      "2024-10-30 17:31:59,121 - searcharray.indexing - INFO - Batch tokenization complete\n",
      "2024-10-30 17:31:59,121 - searcharray.indexing - INFO - (main thread) Processing 1 batch results\n",
      "2024-10-30 17:31:59,121 - searcharray.indexing - INFO - Indexing from tokenization complete\n",
      "2024-10-30 17:31:59,131 - searcharray.indexing - INFO - Indexing begins w/ 4 workers\n",
      "2024-10-30 17:31:59,132 - searcharray.indexing - INFO - 0 Batch Start tokenization\n",
      "2024-10-30 17:31:59,132 - searcharray.indexing - INFO - Tokenizing 10 documents\n",
      "2024-10-30 17:31:59,133 - searcharray.indexing - INFO - Tokenization -- vstacking\n",
      "2024-10-30 17:31:59,133 - searcharray.indexing - INFO - Tokenization -- DONE\n",
      "2024-10-30 17:31:59,133 - searcharray.indexing - INFO - Inverting docs->terms\n",
      "2024-10-30 17:31:59,134 - searcharray.indexing - INFO - Encoding positions to bit array\n",
      "2024-10-30 17:31:59,134 - searcharray.indexing - INFO - Batch tokenization complete\n",
      "2024-10-30 17:31:59,134 - searcharray.indexing - INFO - (main thread) Processing 1 batch results\n",
      "2024-10-30 17:31:59,135 - searcharray.indexing - INFO - Indexing from tokenization complete\n",
      "2024-10-30 17:31:59,142 - searcharray.indexing - INFO - Indexing begins w/ 4 workers\n",
      "2024-10-30 17:31:59,143 - searcharray.indexing - INFO - 0 Batch Start tokenization\n",
      "2024-10-30 17:31:59,143 - searcharray.indexing - INFO - Tokenizing 10 documents\n",
      "2024-10-30 17:31:59,144 - searcharray.indexing - INFO - Tokenization -- vstacking\n",
      "2024-10-30 17:31:59,144 - searcharray.indexing - INFO - Tokenization -- DONE\n",
      "2024-10-30 17:31:59,144 - searcharray.indexing - INFO - Inverting docs->terms\n",
      "2024-10-30 17:31:59,145 - searcharray.indexing - INFO - Encoding positions to bit array\n",
      "2024-10-30 17:31:59,145 - searcharray.indexing - INFO - Batch tokenization complete\n",
      "2024-10-30 17:31:59,145 - searcharray.indexing - INFO - (main thread) Processing 1 batch results\n",
      "2024-10-30 17:31:59,146 - searcharray.indexing - INFO - Indexing from tokenization complete\n",
      "2024-10-30 17:31:59,154 - searcharray.indexing - INFO - Indexing begins w/ 4 workers\n",
      "2024-10-30 17:31:59,154 - searcharray.indexing - INFO - 0 Batch Start tokenization\n",
      "2024-10-30 17:31:59,155 - searcharray.indexing - INFO - Tokenizing 10 documents\n",
      "2024-10-30 17:31:59,155 - searcharray.indexing - INFO - Tokenization -- vstacking\n",
      "2024-10-30 17:31:59,156 - searcharray.indexing - INFO - Tokenization -- DONE\n",
      "2024-10-30 17:31:59,156 - searcharray.indexing - INFO - Inverting docs->terms\n",
      "2024-10-30 17:31:59,156 - searcharray.indexing - INFO - Encoding positions to bit array\n",
      "2024-10-30 17:31:59,156 - searcharray.indexing - INFO - Batch tokenization complete\n",
      "2024-10-30 17:31:59,157 - searcharray.indexing - INFO - (main thread) Processing 1 batch results\n",
      "2024-10-30 17:31:59,157 - searcharray.indexing - INFO - Indexing from tokenization complete\n",
      "2024-10-30 17:31:59,165 - searcharray.indexing - INFO - Indexing begins w/ 4 workers\n",
      "2024-10-30 17:31:59,165 - searcharray.indexing - INFO - 0 Batch Start tokenization\n",
      "2024-10-30 17:31:59,166 - searcharray.indexing - INFO - Tokenizing 10 documents\n",
      "2024-10-30 17:31:59,166 - searcharray.indexing - INFO - Tokenization -- vstacking\n",
      "2024-10-30 17:31:59,167 - searcharray.indexing - INFO - Tokenization -- DONE\n",
      "2024-10-30 17:31:59,167 - searcharray.indexing - INFO - Inverting docs->terms\n",
      "2024-10-30 17:31:59,167 - searcharray.indexing - INFO - Encoding positions to bit array\n",
      "2024-10-30 17:31:59,167 - searcharray.indexing - INFO - Batch tokenization complete\n",
      "2024-10-30 17:31:59,168 - searcharray.indexing - INFO - (main thread) Processing 1 batch results\n",
      "2024-10-30 17:31:59,168 - searcharray.indexing - INFO - Indexing from tokenization complete\n",
      "2024-10-30 17:31:59,182 - searcharray.indexing - INFO - Indexing begins w/ 4 workers\n",
      "2024-10-30 17:31:59,182 - searcharray.indexing - INFO - 0 Batch Start tokenization\n",
      "2024-10-30 17:31:59,183 - searcharray.indexing - INFO - Tokenizing 1 documents\n",
      "2024-10-30 17:31:59,183 - searcharray.indexing - INFO - Tokenization -- vstacking\n",
      "2024-10-30 17:31:59,183 - searcharray.indexing - INFO - Tokenization -- DONE\n",
      "2024-10-30 17:31:59,184 - searcharray.indexing - INFO - Inverting docs->terms\n",
      "2024-10-30 17:31:59,184 - searcharray.indexing - INFO - Encoding positions to bit array\n",
      "2024-10-30 17:31:59,184 - searcharray.indexing - INFO - Batch tokenization complete\n",
      "2024-10-30 17:31:59,185 - searcharray.indexing - INFO - (main thread) Processing 1 batch results\n",
      "2024-10-30 17:31:59,185 - searcharray.indexing - INFO - Indexing from tokenization complete\n",
      "2024-10-30 17:31:59,192 - searcharray.indexing - INFO - Indexing begins w/ 4 workers\n",
      "2024-10-30 17:31:59,192 - searcharray.indexing - INFO - 0 Batch Start tokenization\n",
      "2024-10-30 17:31:59,193 - searcharray.indexing - INFO - Tokenizing 10 documents\n",
      "2024-10-30 17:31:59,193 - searcharray.indexing - INFO - Tokenization -- vstacking\n",
      "2024-10-30 17:31:59,193 - searcharray.indexing - INFO - Tokenization -- DONE\n",
      "2024-10-30 17:31:59,193 - searcharray.indexing - INFO - Inverting docs->terms\n",
      "2024-10-30 17:31:59,194 - searcharray.indexing - INFO - Encoding positions to bit array\n",
      "2024-10-30 17:31:59,194 - searcharray.indexing - INFO - Batch tokenization complete\n",
      "2024-10-30 17:31:59,195 - searcharray.indexing - INFO - (main thread) Processing 1 batch results\n",
      "2024-10-30 17:31:59,195 - searcharray.indexing - INFO - Indexing from tokenization complete\n",
      "2024-10-30 17:31:59,202 - searcharray.indexing - INFO - Indexing begins w/ 4 workers\n",
      "2024-10-30 17:31:59,202 - searcharray.indexing - INFO - 0 Batch Start tokenization\n",
      "2024-10-30 17:31:59,203 - searcharray.indexing - INFO - Tokenizing 10 documents\n",
      "2024-10-30 17:31:59,203 - searcharray.indexing - INFO - Tokenization -- vstacking\n",
      "2024-10-30 17:31:59,204 - searcharray.indexing - INFO - Tokenization -- DONE\n",
      "2024-10-30 17:31:59,204 - searcharray.indexing - INFO - Inverting docs->terms\n",
      "2024-10-30 17:31:59,204 - searcharray.indexing - INFO - Encoding positions to bit array\n",
      "2024-10-30 17:31:59,205 - searcharray.indexing - INFO - Batch tokenization complete\n",
      "2024-10-30 17:31:59,205 - searcharray.indexing - INFO - (main thread) Processing 1 batch results\n",
      "2024-10-30 17:31:59,205 - searcharray.indexing - INFO - Indexing from tokenization complete\n",
      "2024-10-30 17:31:59,213 - searcharray.indexing - INFO - Indexing begins w/ 4 workers\n",
      "2024-10-30 17:31:59,214 - searcharray.indexing - INFO - 0 Batch Start tokenization\n",
      "2024-10-30 17:31:59,214 - searcharray.indexing - INFO - Tokenizing 10 documents\n",
      "2024-10-30 17:31:59,215 - searcharray.indexing - INFO - Tokenization -- vstacking\n",
      "2024-10-30 17:31:59,215 - searcharray.indexing - INFO - Tokenization -- DONE\n",
      "2024-10-30 17:31:59,215 - searcharray.indexing - INFO - Inverting docs->terms\n",
      "2024-10-30 17:31:59,216 - searcharray.indexing - INFO - Encoding positions to bit array\n",
      "2024-10-30 17:31:59,216 - searcharray.indexing - INFO - Batch tokenization complete\n",
      "2024-10-30 17:31:59,217 - searcharray.indexing - INFO - (main thread) Processing 1 batch results\n",
      "2024-10-30 17:31:59,217 - searcharray.indexing - INFO - Indexing from tokenization complete\n",
      "2024-10-30 17:31:59,228 - searcharray.indexing - INFO - Indexing begins w/ 4 workers\n",
      "2024-10-30 17:31:59,229 - searcharray.indexing - INFO - 0 Batch Start tokenization\n",
      "2024-10-30 17:31:59,229 - searcharray.indexing - INFO - Tokenizing 10 documents\n",
      "2024-10-30 17:31:59,230 - searcharray.indexing - INFO - Tokenization -- vstacking\n",
      "2024-10-30 17:31:59,230 - searcharray.indexing - INFO - Tokenization -- DONE\n",
      "2024-10-30 17:31:59,230 - searcharray.indexing - INFO - Inverting docs->terms\n",
      "2024-10-30 17:31:59,230 - searcharray.indexing - INFO - Encoding positions to bit array\n",
      "2024-10-30 17:31:59,231 - searcharray.indexing - INFO - Batch tokenization complete\n",
      "2024-10-30 17:31:59,231 - searcharray.indexing - INFO - (main thread) Processing 1 batch results\n",
      "2024-10-30 17:31:59,232 - searcharray.indexing - INFO - Indexing from tokenization complete\n",
      "2024-10-30 17:31:59,244 - searcharray.indexing - INFO - Indexing begins w/ 4 workers\n",
      "2024-10-30 17:31:59,245 - searcharray.indexing - INFO - 0 Batch Start tokenization\n",
      "2024-10-30 17:31:59,245 - searcharray.indexing - INFO - Tokenizing 10 documents\n",
      "2024-10-30 17:31:59,246 - searcharray.indexing - INFO - Tokenization -- vstacking\n",
      "2024-10-30 17:31:59,246 - searcharray.indexing - INFO - Tokenization -- DONE\n",
      "2024-10-30 17:31:59,246 - searcharray.indexing - INFO - Inverting docs->terms\n",
      "2024-10-30 17:31:59,247 - searcharray.indexing - INFO - Encoding positions to bit array\n",
      "2024-10-30 17:31:59,247 - searcharray.indexing - INFO - Batch tokenization complete\n",
      "2024-10-30 17:31:59,247 - searcharray.indexing - INFO - (main thread) Processing 1 batch results\n",
      "2024-10-30 17:31:59,248 - searcharray.indexing - INFO - Indexing from tokenization complete\n",
      "2024-10-30 17:31:59,256 - searcharray.indexing - INFO - Indexing begins w/ 4 workers\n",
      "2024-10-30 17:31:59,256 - searcharray.indexing - INFO - 0 Batch Start tokenization\n",
      "2024-10-30 17:31:59,257 - searcharray.indexing - INFO - Tokenizing 10 documents\n",
      "2024-10-30 17:31:59,258 - searcharray.indexing - INFO - Tokenization -- vstacking\n",
      "2024-10-30 17:31:59,258 - searcharray.indexing - INFO - Tokenization -- DONE\n",
      "2024-10-30 17:31:59,258 - searcharray.indexing - INFO - Inverting docs->terms\n",
      "2024-10-30 17:31:59,259 - searcharray.indexing - INFO - Encoding positions to bit array\n",
      "2024-10-30 17:31:59,259 - searcharray.indexing - INFO - Batch tokenization complete\n",
      "2024-10-30 17:31:59,260 - searcharray.indexing - INFO - (main thread) Processing 1 batch results\n",
      "2024-10-30 17:31:59,260 - searcharray.indexing - INFO - Indexing from tokenization complete\n",
      "2024-10-30 17:31:59,267 - searcharray.indexing - INFO - Indexing begins w/ 4 workers\n",
      "2024-10-30 17:31:59,268 - searcharray.indexing - INFO - 0 Batch Start tokenization\n",
      "2024-10-30 17:31:59,268 - searcharray.indexing - INFO - Tokenizing 10 documents\n",
      "2024-10-30 17:31:59,268 - searcharray.indexing - INFO - Tokenization -- vstacking\n",
      "2024-10-30 17:31:59,269 - searcharray.indexing - INFO - Tokenization -- DONE\n",
      "2024-10-30 17:31:59,269 - searcharray.indexing - INFO - Inverting docs->terms\n",
      "2024-10-30 17:31:59,269 - searcharray.indexing - INFO - Encoding positions to bit array\n",
      "2024-10-30 17:31:59,269 - searcharray.indexing - INFO - Batch tokenization complete\n",
      "2024-10-30 17:31:59,270 - searcharray.indexing - INFO - (main thread) Processing 1 batch results\n",
      "2024-10-30 17:31:59,270 - searcharray.indexing - INFO - Indexing from tokenization complete\n",
      "2024-10-30 17:31:59,277 - searcharray.indexing - INFO - Indexing begins w/ 4 workers\n",
      "2024-10-30 17:31:59,278 - searcharray.indexing - INFO - 0 Batch Start tokenization\n",
      "2024-10-30 17:31:59,279 - searcharray.indexing - INFO - Tokenizing 10 documents\n",
      "2024-10-30 17:31:59,279 - searcharray.indexing - INFO - Tokenization -- vstacking\n",
      "2024-10-30 17:31:59,280 - searcharray.indexing - INFO - Tokenization -- DONE\n",
      "2024-10-30 17:31:59,280 - searcharray.indexing - INFO - Inverting docs->terms\n",
      "2024-10-30 17:31:59,280 - searcharray.indexing - INFO - Encoding positions to bit array\n",
      "2024-10-30 17:31:59,281 - searcharray.indexing - INFO - Batch tokenization complete\n",
      "2024-10-30 17:31:59,281 - searcharray.indexing - INFO - (main thread) Processing 1 batch results\n",
      "2024-10-30 17:31:59,282 - searcharray.indexing - INFO - Indexing from tokenization complete\n",
      "2024-10-30 17:31:59,290 - searcharray.indexing - INFO - Indexing begins w/ 4 workers\n",
      "2024-10-30 17:31:59,291 - searcharray.indexing - INFO - 0 Batch Start tokenization\n",
      "2024-10-30 17:31:59,291 - searcharray.indexing - INFO - Tokenizing 10 documents\n",
      "2024-10-30 17:31:59,291 - searcharray.indexing - INFO - Tokenization -- vstacking\n",
      "2024-10-30 17:31:59,291 - searcharray.indexing - INFO - Tokenization -- DONE\n",
      "2024-10-30 17:31:59,292 - searcharray.indexing - INFO - Inverting docs->terms\n",
      "2024-10-30 17:31:59,292 - searcharray.indexing - INFO - Encoding positions to bit array\n",
      "2024-10-30 17:31:59,292 - searcharray.indexing - INFO - Batch tokenization complete\n",
      "2024-10-30 17:31:59,293 - searcharray.indexing - INFO - (main thread) Processing 1 batch results\n",
      "2024-10-30 17:31:59,293 - searcharray.indexing - INFO - Indexing from tokenization complete\n",
      "2024-10-30 17:31:59,303 - searcharray.indexing - INFO - Indexing begins w/ 4 workers\n",
      "2024-10-30 17:31:59,303 - searcharray.indexing - INFO - 0 Batch Start tokenization\n",
      "2024-10-30 17:31:59,304 - searcharray.indexing - INFO - Tokenizing 10 documents\n",
      "2024-10-30 17:31:59,304 - searcharray.indexing - INFO - Tokenization -- vstacking\n",
      "2024-10-30 17:31:59,304 - searcharray.indexing - INFO - Tokenization -- DONE\n",
      "2024-10-30 17:31:59,305 - searcharray.indexing - INFO - Inverting docs->terms\n",
      "2024-10-30 17:31:59,305 - searcharray.indexing - INFO - Encoding positions to bit array\n",
      "2024-10-30 17:31:59,305 - searcharray.indexing - INFO - Batch tokenization complete\n",
      "2024-10-30 17:31:59,306 - searcharray.indexing - INFO - (main thread) Processing 1 batch results\n",
      "2024-10-30 17:31:59,306 - searcharray.indexing - INFO - Indexing from tokenization complete\n",
      "2024-10-30 17:31:59,313 - searcharray.indexing - INFO - Indexing begins w/ 4 workers\n",
      "2024-10-30 17:31:59,314 - searcharray.indexing - INFO - 0 Batch Start tokenization\n",
      "2024-10-30 17:31:59,314 - searcharray.indexing - INFO - Tokenizing 10 documents\n",
      "2024-10-30 17:31:59,315 - searcharray.indexing - INFO - Tokenization -- vstacking\n",
      "2024-10-30 17:31:59,315 - searcharray.indexing - INFO - Tokenization -- DONE\n",
      "2024-10-30 17:31:59,315 - searcharray.indexing - INFO - Inverting docs->terms\n",
      "2024-10-30 17:31:59,316 - searcharray.indexing - INFO - Encoding positions to bit array\n",
      "2024-10-30 17:31:59,316 - searcharray.indexing - INFO - Batch tokenization complete\n",
      "2024-10-30 17:31:59,316 - searcharray.indexing - INFO - (main thread) Processing 1 batch results\n",
      "2024-10-30 17:31:59,317 - searcharray.indexing - INFO - Indexing from tokenization complete\n",
      "2024-10-30 17:31:59,324 - searcharray.indexing - INFO - Indexing begins w/ 4 workers\n",
      "2024-10-30 17:31:59,325 - searcharray.indexing - INFO - 0 Batch Start tokenization\n",
      "2024-10-30 17:31:59,326 - searcharray.indexing - INFO - Tokenizing 10 documents\n",
      "2024-10-30 17:31:59,326 - searcharray.indexing - INFO - Tokenization -- vstacking\n",
      "2024-10-30 17:31:59,326 - searcharray.indexing - INFO - Tokenization -- DONE\n",
      "2024-10-30 17:31:59,327 - searcharray.indexing - INFO - Inverting docs->terms\n",
      "2024-10-30 17:31:59,327 - searcharray.indexing - INFO - Encoding positions to bit array\n",
      "2024-10-30 17:31:59,327 - searcharray.indexing - INFO - Batch tokenization complete\n",
      "2024-10-30 17:31:59,327 - searcharray.indexing - INFO - (main thread) Processing 1 batch results\n",
      "2024-10-30 17:31:59,328 - searcharray.indexing - INFO - Indexing from tokenization complete\n",
      "2024-10-30 17:31:59,342 - searcharray.indexing - INFO - Indexing begins w/ 4 workers\n",
      "2024-10-30 17:31:59,343 - searcharray.indexing - INFO - 0 Batch Start tokenization\n",
      "2024-10-30 17:31:59,344 - searcharray.indexing - INFO - Tokenizing 10 documents\n",
      "2024-10-30 17:31:59,344 - searcharray.indexing - INFO - Tokenization -- vstacking\n",
      "2024-10-30 17:31:59,345 - searcharray.indexing - INFO - Tokenization -- DONE\n",
      "2024-10-30 17:31:59,345 - searcharray.indexing - INFO - Inverting docs->terms\n",
      "2024-10-30 17:31:59,345 - searcharray.indexing - INFO - Encoding positions to bit array\n",
      "2024-10-30 17:31:59,346 - searcharray.indexing - INFO - Batch tokenization complete\n",
      "2024-10-30 17:31:59,346 - searcharray.indexing - INFO - (main thread) Processing 1 batch results\n",
      "2024-10-30 17:31:59,347 - searcharray.indexing - INFO - Indexing from tokenization complete\n",
      "2024-10-30 17:31:59,363 - searcharray.indexing - INFO - Indexing begins w/ 4 workers\n",
      "2024-10-30 17:31:59,363 - searcharray.indexing - INFO - 0 Batch Start tokenization\n",
      "2024-10-30 17:31:59,364 - searcharray.indexing - INFO - Tokenizing 10 documents\n",
      "2024-10-30 17:31:59,364 - searcharray.indexing - INFO - Tokenization -- vstacking\n",
      "2024-10-30 17:31:59,364 - searcharray.indexing - INFO - Tokenization -- DONE\n",
      "2024-10-30 17:31:59,365 - searcharray.indexing - INFO - Inverting docs->terms\n",
      "2024-10-30 17:31:59,365 - searcharray.indexing - INFO - Encoding positions to bit array\n",
      "2024-10-30 17:31:59,365 - searcharray.indexing - INFO - Batch tokenization complete\n",
      "2024-10-30 17:31:59,366 - searcharray.indexing - INFO - (main thread) Processing 1 batch results\n",
      "2024-10-30 17:31:59,366 - searcharray.indexing - INFO - Indexing from tokenization complete\n",
      "2024-10-30 17:31:59,373 - searcharray.indexing - INFO - Indexing begins w/ 4 workers\n",
      "2024-10-30 17:31:59,374 - searcharray.indexing - INFO - 0 Batch Start tokenization\n",
      "2024-10-30 17:31:59,374 - searcharray.indexing - INFO - Tokenizing 10 documents\n",
      "2024-10-30 17:31:59,375 - searcharray.indexing - INFO - Tokenization -- vstacking\n",
      "2024-10-30 17:31:59,375 - searcharray.indexing - INFO - Tokenization -- DONE\n",
      "2024-10-30 17:31:59,375 - searcharray.indexing - INFO - Inverting docs->terms\n",
      "2024-10-30 17:31:59,376 - searcharray.indexing - INFO - Encoding positions to bit array\n",
      "2024-10-30 17:31:59,376 - searcharray.indexing - INFO - Batch tokenization complete\n",
      "2024-10-30 17:31:59,376 - searcharray.indexing - INFO - (main thread) Processing 1 batch results\n",
      "2024-10-30 17:31:59,376 - searcharray.indexing - INFO - Indexing from tokenization complete\n",
      "2024-10-30 17:31:59,383 - searcharray.indexing - INFO - Indexing begins w/ 4 workers\n",
      "2024-10-30 17:31:59,384 - searcharray.indexing - INFO - 0 Batch Start tokenization\n",
      "2024-10-30 17:31:59,384 - searcharray.indexing - INFO - Tokenizing 10 documents\n",
      "2024-10-30 17:31:59,385 - searcharray.indexing - INFO - Tokenization -- vstacking\n",
      "2024-10-30 17:31:59,385 - searcharray.indexing - INFO - Tokenization -- DONE\n",
      "2024-10-30 17:31:59,385 - searcharray.indexing - INFO - Inverting docs->terms\n",
      "2024-10-30 17:31:59,386 - searcharray.indexing - INFO - Encoding positions to bit array\n",
      "2024-10-30 17:31:59,386 - searcharray.indexing - INFO - Batch tokenization complete\n",
      "2024-10-30 17:31:59,387 - searcharray.indexing - INFO - (main thread) Processing 1 batch results\n",
      "2024-10-30 17:31:59,387 - searcharray.indexing - INFO - Indexing from tokenization complete\n",
      "2024-10-30 17:31:59,396 - searcharray.indexing - INFO - Indexing begins w/ 4 workers\n",
      "2024-10-30 17:31:59,397 - searcharray.indexing - INFO - 0 Batch Start tokenization\n",
      "2024-10-30 17:31:59,397 - searcharray.indexing - INFO - Tokenizing 10 documents\n",
      "2024-10-30 17:31:59,398 - searcharray.indexing - INFO - Tokenization -- vstacking\n",
      "2024-10-30 17:31:59,398 - searcharray.indexing - INFO - Tokenization -- DONE\n",
      "2024-10-30 17:31:59,398 - searcharray.indexing - INFO - Inverting docs->terms\n",
      "2024-10-30 17:31:59,399 - searcharray.indexing - INFO - Encoding positions to bit array\n",
      "2024-10-30 17:31:59,399 - searcharray.indexing - INFO - Batch tokenization complete\n",
      "2024-10-30 17:31:59,399 - searcharray.indexing - INFO - (main thread) Processing 1 batch results\n",
      "2024-10-30 17:31:59,400 - searcharray.indexing - INFO - Indexing from tokenization complete\n",
      "2024-10-30 17:31:59,406 - searcharray.indexing - INFO - Indexing begins w/ 4 workers\n",
      "2024-10-30 17:31:59,407 - searcharray.indexing - INFO - 0 Batch Start tokenization\n",
      "2024-10-30 17:31:59,407 - searcharray.indexing - INFO - Tokenizing 10 documents\n",
      "2024-10-30 17:31:59,408 - searcharray.indexing - INFO - Tokenization -- vstacking\n",
      "2024-10-30 17:31:59,408 - searcharray.indexing - INFO - Tokenization -- DONE\n",
      "2024-10-30 17:31:59,409 - searcharray.indexing - INFO - Inverting docs->terms\n",
      "2024-10-30 17:31:59,409 - searcharray.indexing - INFO - Encoding positions to bit array\n",
      "2024-10-30 17:31:59,410 - searcharray.indexing - INFO - Batch tokenization complete\n",
      "2024-10-30 17:31:59,410 - searcharray.indexing - INFO - (main thread) Processing 1 batch results\n",
      "2024-10-30 17:31:59,411 - searcharray.indexing - INFO - Indexing from tokenization complete\n",
      "2024-10-30 17:31:59,421 - searcharray.indexing - INFO - Indexing begins w/ 4 workers\n",
      "2024-10-30 17:31:59,422 - searcharray.indexing - INFO - 0 Batch Start tokenization\n",
      "2024-10-30 17:31:59,422 - searcharray.indexing - INFO - Tokenizing 10 documents\n",
      "2024-10-30 17:31:59,423 - searcharray.indexing - INFO - Tokenization -- vstacking\n",
      "2024-10-30 17:31:59,423 - searcharray.indexing - INFO - Tokenization -- DONE\n",
      "2024-10-30 17:31:59,423 - searcharray.indexing - INFO - Inverting docs->terms\n",
      "2024-10-30 17:31:59,423 - searcharray.indexing - INFO - Encoding positions to bit array\n",
      "2024-10-30 17:31:59,424 - searcharray.indexing - INFO - Batch tokenization complete\n",
      "2024-10-30 17:31:59,425 - searcharray.indexing - INFO - (main thread) Processing 1 batch results\n",
      "2024-10-30 17:31:59,425 - searcharray.indexing - INFO - Indexing from tokenization complete\n",
      "2024-10-30 17:31:59,432 - searcharray.indexing - INFO - Indexing begins w/ 4 workers\n",
      "2024-10-30 17:31:59,432 - searcharray.indexing - INFO - 0 Batch Start tokenization\n",
      "2024-10-30 17:31:59,433 - searcharray.indexing - INFO - Tokenizing 10 documents\n",
      "2024-10-30 17:31:59,434 - searcharray.indexing - INFO - Tokenization -- vstacking\n",
      "2024-10-30 17:31:59,434 - searcharray.indexing - INFO - Tokenization -- DONE\n",
      "2024-10-30 17:31:59,434 - searcharray.indexing - INFO - Inverting docs->terms\n",
      "2024-10-30 17:31:59,435 - searcharray.indexing - INFO - Encoding positions to bit array\n",
      "2024-10-30 17:31:59,435 - searcharray.indexing - INFO - Batch tokenization complete\n",
      "2024-10-30 17:31:59,436 - searcharray.indexing - INFO - (main thread) Processing 1 batch results\n",
      "2024-10-30 17:31:59,436 - searcharray.indexing - INFO - Indexing from tokenization complete\n",
      "2024-10-30 17:31:59,444 - searcharray.indexing - INFO - Indexing begins w/ 4 workers\n",
      "2024-10-30 17:31:59,444 - searcharray.indexing - INFO - 0 Batch Start tokenization\n",
      "2024-10-30 17:31:59,445 - searcharray.indexing - INFO - Tokenizing 10 documents\n",
      "2024-10-30 17:31:59,445 - searcharray.indexing - INFO - Tokenization -- vstacking\n",
      "2024-10-30 17:31:59,445 - searcharray.indexing - INFO - Tokenization -- DONE\n",
      "2024-10-30 17:31:59,445 - searcharray.indexing - INFO - Inverting docs->terms\n",
      "2024-10-30 17:31:59,446 - searcharray.indexing - INFO - Encoding positions to bit array\n",
      "2024-10-30 17:31:59,446 - searcharray.indexing - INFO - Batch tokenization complete\n",
      "2024-10-30 17:31:59,447 - searcharray.indexing - INFO - (main thread) Processing 1 batch results\n",
      "2024-10-30 17:31:59,447 - searcharray.indexing - INFO - Indexing from tokenization complete\n",
      "2024-10-30 17:31:59,453 - searcharray.indexing - INFO - Indexing begins w/ 4 workers\n",
      "2024-10-30 17:31:59,454 - searcharray.indexing - INFO - 0 Batch Start tokenization\n",
      "2024-10-30 17:31:59,454 - searcharray.indexing - INFO - Tokenizing 9 documents\n",
      "2024-10-30 17:31:59,455 - searcharray.indexing - INFO - Tokenization -- vstacking\n",
      "2024-10-30 17:31:59,455 - searcharray.indexing - INFO - Tokenization -- DONE\n",
      "2024-10-30 17:31:59,455 - searcharray.indexing - INFO - Inverting docs->terms\n",
      "2024-10-30 17:31:59,456 - searcharray.indexing - INFO - Encoding positions to bit array\n",
      "2024-10-30 17:31:59,456 - searcharray.indexing - INFO - Batch tokenization complete\n",
      "2024-10-30 17:31:59,456 - searcharray.indexing - INFO - (main thread) Processing 1 batch results\n",
      "2024-10-30 17:31:59,457 - searcharray.indexing - INFO - Indexing from tokenization complete\n",
      "2024-10-30 17:31:59,465 - searcharray.indexing - INFO - Indexing begins w/ 4 workers\n",
      "2024-10-30 17:31:59,465 - searcharray.indexing - INFO - 0 Batch Start tokenization\n",
      "2024-10-30 17:31:59,466 - searcharray.indexing - INFO - Tokenizing 10 documents\n",
      "2024-10-30 17:31:59,466 - searcharray.indexing - INFO - Tokenization -- vstacking\n",
      "2024-10-30 17:31:59,466 - searcharray.indexing - INFO - Tokenization -- DONE\n",
      "2024-10-30 17:31:59,467 - searcharray.indexing - INFO - Inverting docs->terms\n",
      "2024-10-30 17:31:59,467 - searcharray.indexing - INFO - Encoding positions to bit array\n",
      "2024-10-30 17:31:59,467 - searcharray.indexing - INFO - Batch tokenization complete\n",
      "2024-10-30 17:31:59,467 - searcharray.indexing - INFO - (main thread) Processing 1 batch results\n",
      "2024-10-30 17:31:59,468 - searcharray.indexing - INFO - Indexing from tokenization complete\n",
      "2024-10-30 17:31:59,477 - searcharray.indexing - INFO - Indexing begins w/ 4 workers\n",
      "2024-10-30 17:31:59,477 - searcharray.indexing - INFO - 0 Batch Start tokenization\n",
      "2024-10-30 17:31:59,478 - searcharray.indexing - INFO - Tokenizing 10 documents\n",
      "2024-10-30 17:31:59,478 - searcharray.indexing - INFO - Tokenization -- vstacking\n",
      "2024-10-30 17:31:59,479 - searcharray.indexing - INFO - Tokenization -- DONE\n",
      "2024-10-30 17:31:59,479 - searcharray.indexing - INFO - Inverting docs->terms\n",
      "2024-10-30 17:31:59,479 - searcharray.indexing - INFO - Encoding positions to bit array\n",
      "2024-10-30 17:31:59,480 - searcharray.indexing - INFO - Batch tokenization complete\n",
      "2024-10-30 17:31:59,480 - searcharray.indexing - INFO - (main thread) Processing 1 batch results\n",
      "2024-10-30 17:31:59,480 - searcharray.indexing - INFO - Indexing from tokenization complete\n",
      "2024-10-30 17:31:59,487 - searcharray.indexing - INFO - Indexing begins w/ 4 workers\n",
      "2024-10-30 17:31:59,488 - searcharray.indexing - INFO - 0 Batch Start tokenization\n",
      "2024-10-30 17:31:59,488 - searcharray.indexing - INFO - Tokenizing 4 documents\n",
      "2024-10-30 17:31:59,489 - searcharray.indexing - INFO - Tokenization -- vstacking\n",
      "2024-10-30 17:31:59,489 - searcharray.indexing - INFO - Tokenization -- DONE\n",
      "2024-10-30 17:31:59,489 - searcharray.indexing - INFO - Inverting docs->terms\n",
      "2024-10-30 17:31:59,489 - searcharray.indexing - INFO - Encoding positions to bit array\n",
      "2024-10-30 17:31:59,490 - searcharray.indexing - INFO - Batch tokenization complete\n",
      "2024-10-30 17:31:59,490 - searcharray.indexing - INFO - (main thread) Processing 1 batch results\n",
      "2024-10-30 17:31:59,490 - searcharray.indexing - INFO - Indexing from tokenization complete\n",
      "2024-10-30 17:31:59,497 - searcharray.indexing - INFO - Indexing begins w/ 4 workers\n",
      "2024-10-30 17:31:59,498 - searcharray.indexing - INFO - 0 Batch Start tokenization\n",
      "2024-10-30 17:31:59,498 - searcharray.indexing - INFO - Tokenizing 8 documents\n",
      "2024-10-30 17:31:59,499 - searcharray.indexing - INFO - Tokenization -- vstacking\n",
      "2024-10-30 17:31:59,499 - searcharray.indexing - INFO - Tokenization -- DONE\n",
      "2024-10-30 17:31:59,499 - searcharray.indexing - INFO - Inverting docs->terms\n",
      "2024-10-30 17:31:59,499 - searcharray.indexing - INFO - Encoding positions to bit array\n",
      "2024-10-30 17:31:59,500 - searcharray.indexing - INFO - Batch tokenization complete\n",
      "2024-10-30 17:31:59,500 - searcharray.indexing - INFO - (main thread) Processing 1 batch results\n",
      "2024-10-30 17:31:59,500 - searcharray.indexing - INFO - Indexing from tokenization complete\n",
      "2024-10-30 17:31:59,512 - searcharray.indexing - INFO - Indexing begins w/ 4 workers\n",
      "2024-10-30 17:31:59,513 - searcharray.indexing - INFO - 0 Batch Start tokenization\n",
      "2024-10-30 17:31:59,513 - searcharray.indexing - INFO - Tokenizing 10 documents\n",
      "2024-10-30 17:31:59,514 - searcharray.indexing - INFO - Tokenization -- vstacking\n",
      "2024-10-30 17:31:59,514 - searcharray.indexing - INFO - Tokenization -- DONE\n",
      "2024-10-30 17:31:59,515 - searcharray.indexing - INFO - Inverting docs->terms\n",
      "2024-10-30 17:31:59,515 - searcharray.indexing - INFO - Encoding positions to bit array\n",
      "2024-10-30 17:31:59,515 - searcharray.indexing - INFO - Batch tokenization complete\n",
      "2024-10-30 17:31:59,516 - searcharray.indexing - INFO - (main thread) Processing 1 batch results\n",
      "2024-10-30 17:31:59,516 - searcharray.indexing - INFO - Indexing from tokenization complete\n",
      "2024-10-30 17:31:59,526 - searcharray.indexing - INFO - Indexing begins w/ 4 workers\n",
      "2024-10-30 17:31:59,526 - searcharray.indexing - INFO - 0 Batch Start tokenization\n",
      "2024-10-30 17:31:59,527 - searcharray.indexing - INFO - Tokenizing 10 documents\n",
      "2024-10-30 17:31:59,527 - searcharray.indexing - INFO - Tokenization -- vstacking\n",
      "2024-10-30 17:31:59,527 - searcharray.indexing - INFO - Tokenization -- DONE\n",
      "2024-10-30 17:31:59,527 - searcharray.indexing - INFO - Inverting docs->terms\n",
      "2024-10-30 17:31:59,528 - searcharray.indexing - INFO - Encoding positions to bit array\n",
      "2024-10-30 17:31:59,528 - searcharray.indexing - INFO - Batch tokenization complete\n",
      "2024-10-30 17:31:59,528 - searcharray.indexing - INFO - (main thread) Processing 1 batch results\n",
      "2024-10-30 17:31:59,529 - searcharray.indexing - INFO - Indexing from tokenization complete\n",
      "2024-10-30 17:31:59,535 - searcharray.indexing - INFO - Indexing begins w/ 4 workers\n",
      "2024-10-30 17:31:59,535 - searcharray.indexing - INFO - 0 Batch Start tokenization\n",
      "2024-10-30 17:31:59,535 - searcharray.indexing - INFO - Tokenizing 10 documents\n",
      "2024-10-30 17:31:59,536 - searcharray.indexing - INFO - Tokenization -- vstacking\n",
      "2024-10-30 17:31:59,536 - searcharray.indexing - INFO - Tokenization -- DONE\n",
      "2024-10-30 17:31:59,536 - searcharray.indexing - INFO - Inverting docs->terms\n",
      "2024-10-30 17:31:59,536 - searcharray.indexing - INFO - Encoding positions to bit array\n",
      "2024-10-30 17:31:59,537 - searcharray.indexing - INFO - Batch tokenization complete\n",
      "2024-10-30 17:31:59,537 - searcharray.indexing - INFO - (main thread) Processing 1 batch results\n",
      "2024-10-30 17:31:59,537 - searcharray.indexing - INFO - Indexing from tokenization complete\n",
      "2024-10-30 17:31:59,543 - searcharray.indexing - INFO - Indexing begins w/ 4 workers\n",
      "2024-10-30 17:31:59,544 - searcharray.indexing - INFO - 0 Batch Start tokenization\n",
      "2024-10-30 17:31:59,544 - searcharray.indexing - INFO - Tokenizing 10 documents\n",
      "2024-10-30 17:31:59,545 - searcharray.indexing - INFO - Tokenization -- vstacking\n",
      "2024-10-30 17:31:59,545 - searcharray.indexing - INFO - Tokenization -- DONE\n",
      "2024-10-30 17:31:59,545 - searcharray.indexing - INFO - Inverting docs->terms\n",
      "2024-10-30 17:31:59,546 - searcharray.indexing - INFO - Encoding positions to bit array\n",
      "2024-10-30 17:31:59,546 - searcharray.indexing - INFO - Batch tokenization complete\n",
      "2024-10-30 17:31:59,546 - searcharray.indexing - INFO - (main thread) Processing 1 batch results\n",
      "2024-10-30 17:31:59,547 - searcharray.indexing - INFO - Indexing from tokenization complete\n",
      "2024-10-30 17:31:59,554 - searcharray.indexing - INFO - Indexing begins w/ 4 workers\n",
      "2024-10-30 17:31:59,555 - searcharray.indexing - INFO - 0 Batch Start tokenization\n",
      "2024-10-30 17:31:59,556 - searcharray.indexing - INFO - Tokenizing 10 documents\n",
      "2024-10-30 17:31:59,556 - searcharray.indexing - INFO - Tokenization -- vstacking\n",
      "2024-10-30 17:31:59,556 - searcharray.indexing - INFO - Tokenization -- DONE\n",
      "2024-10-30 17:31:59,557 - searcharray.indexing - INFO - Inverting docs->terms\n",
      "2024-10-30 17:31:59,557 - searcharray.indexing - INFO - Encoding positions to bit array\n",
      "2024-10-30 17:31:59,557 - searcharray.indexing - INFO - Batch tokenization complete\n",
      "2024-10-30 17:31:59,558 - searcharray.indexing - INFO - (main thread) Processing 1 batch results\n",
      "2024-10-30 17:31:59,558 - searcharray.indexing - INFO - Indexing from tokenization complete\n",
      "2024-10-30 17:31:59,565 - searcharray.indexing - INFO - Indexing begins w/ 4 workers\n",
      "2024-10-30 17:31:59,566 - searcharray.indexing - INFO - 0 Batch Start tokenization\n",
      "2024-10-30 17:31:59,567 - searcharray.indexing - INFO - Tokenizing 10 documents\n",
      "2024-10-30 17:31:59,567 - searcharray.indexing - INFO - Tokenization -- vstacking\n",
      "2024-10-30 17:31:59,567 - searcharray.indexing - INFO - Tokenization -- DONE\n",
      "2024-10-30 17:31:59,568 - searcharray.indexing - INFO - Inverting docs->terms\n",
      "2024-10-30 17:31:59,568 - searcharray.indexing - INFO - Encoding positions to bit array\n",
      "2024-10-30 17:31:59,568 - searcharray.indexing - INFO - Batch tokenization complete\n",
      "2024-10-30 17:31:59,569 - searcharray.indexing - INFO - (main thread) Processing 1 batch results\n",
      "2024-10-30 17:31:59,569 - searcharray.indexing - INFO - Indexing from tokenization complete\n",
      "2024-10-30 17:31:59,581 - searcharray.indexing - INFO - Indexing begins w/ 4 workers\n",
      "2024-10-30 17:31:59,582 - searcharray.indexing - INFO - 0 Batch Start tokenization\n",
      "2024-10-30 17:31:59,582 - searcharray.indexing - INFO - Tokenizing 10 documents\n",
      "2024-10-30 17:31:59,583 - searcharray.indexing - INFO - Tokenization -- vstacking\n",
      "2024-10-30 17:31:59,583 - searcharray.indexing - INFO - Tokenization -- DONE\n",
      "2024-10-30 17:31:59,584 - searcharray.indexing - INFO - Inverting docs->terms\n",
      "2024-10-30 17:31:59,584 - searcharray.indexing - INFO - Encoding positions to bit array\n",
      "2024-10-30 17:31:59,584 - searcharray.indexing - INFO - Batch tokenization complete\n",
      "2024-10-30 17:31:59,585 - searcharray.indexing - INFO - (main thread) Processing 1 batch results\n",
      "2024-10-30 17:31:59,585 - searcharray.indexing - INFO - Indexing from tokenization complete\n",
      "2024-10-30 17:31:59,598 - searcharray.indexing - INFO - Indexing begins w/ 4 workers\n",
      "2024-10-30 17:31:59,599 - searcharray.indexing - INFO - 0 Batch Start tokenization\n",
      "2024-10-30 17:31:59,599 - searcharray.indexing - INFO - Tokenizing 10 documents\n",
      "2024-10-30 17:31:59,600 - searcharray.indexing - INFO - Tokenization -- vstacking\n",
      "2024-10-30 17:31:59,600 - searcharray.indexing - INFO - Tokenization -- DONE\n",
      "2024-10-30 17:31:59,601 - searcharray.indexing - INFO - Inverting docs->terms\n",
      "2024-10-30 17:31:59,601 - searcharray.indexing - INFO - Encoding positions to bit array\n",
      "2024-10-30 17:31:59,601 - searcharray.indexing - INFO - Batch tokenization complete\n",
      "2024-10-30 17:31:59,602 - searcharray.indexing - INFO - (main thread) Processing 1 batch results\n",
      "2024-10-30 17:31:59,602 - searcharray.indexing - INFO - Indexing from tokenization complete\n",
      "2024-10-30 17:31:59,616 - searcharray.indexing - INFO - Indexing begins w/ 4 workers\n",
      "2024-10-30 17:31:59,617 - searcharray.indexing - INFO - 0 Batch Start tokenization\n",
      "2024-10-30 17:31:59,617 - searcharray.indexing - INFO - Tokenizing 10 documents\n",
      "2024-10-30 17:31:59,618 - searcharray.indexing - INFO - Tokenization -- vstacking\n",
      "2024-10-30 17:31:59,618 - searcharray.indexing - INFO - Tokenization -- DONE\n",
      "2024-10-30 17:31:59,618 - searcharray.indexing - INFO - Inverting docs->terms\n",
      "2024-10-30 17:31:59,618 - searcharray.indexing - INFO - Encoding positions to bit array\n",
      "2024-10-30 17:31:59,619 - searcharray.indexing - INFO - Batch tokenization complete\n",
      "2024-10-30 17:31:59,619 - searcharray.indexing - INFO - (main thread) Processing 1 batch results\n",
      "2024-10-30 17:31:59,619 - searcharray.indexing - INFO - Indexing from tokenization complete\n",
      "2024-10-30 17:31:59,631 - searcharray.indexing - INFO - Indexing begins w/ 4 workers\n",
      "2024-10-30 17:31:59,632 - searcharray.indexing - INFO - 0 Batch Start tokenization\n",
      "2024-10-30 17:31:59,632 - searcharray.indexing - INFO - Tokenizing 10 documents\n",
      "2024-10-30 17:31:59,633 - searcharray.indexing - INFO - Tokenization -- vstacking\n",
      "2024-10-30 17:31:59,633 - searcharray.indexing - INFO - Tokenization -- DONE\n",
      "2024-10-30 17:31:59,633 - searcharray.indexing - INFO - Inverting docs->terms\n",
      "2024-10-30 17:31:59,634 - searcharray.indexing - INFO - Encoding positions to bit array\n",
      "2024-10-30 17:31:59,634 - searcharray.indexing - INFO - Batch tokenization complete\n",
      "2024-10-30 17:31:59,634 - searcharray.indexing - INFO - (main thread) Processing 1 batch results\n",
      "2024-10-30 17:31:59,635 - searcharray.indexing - INFO - Indexing from tokenization complete\n",
      "2024-10-30 17:31:59,647 - searcharray.indexing - INFO - Indexing begins w/ 4 workers\n",
      "2024-10-30 17:31:59,648 - searcharray.indexing - INFO - 0 Batch Start tokenization\n",
      "2024-10-30 17:31:59,648 - searcharray.indexing - INFO - Tokenizing 10 documents\n",
      "2024-10-30 17:31:59,649 - searcharray.indexing - INFO - Tokenization -- vstacking\n",
      "2024-10-30 17:31:59,649 - searcharray.indexing - INFO - Tokenization -- DONE\n",
      "2024-10-30 17:31:59,649 - searcharray.indexing - INFO - Inverting docs->terms\n",
      "2024-10-30 17:31:59,650 - searcharray.indexing - INFO - Encoding positions to bit array\n",
      "2024-10-30 17:31:59,650 - searcharray.indexing - INFO - Batch tokenization complete\n",
      "2024-10-30 17:31:59,650 - searcharray.indexing - INFO - (main thread) Processing 1 batch results\n",
      "2024-10-30 17:31:59,651 - searcharray.indexing - INFO - Indexing from tokenization complete\n",
      "2024-10-30 17:31:59,660 - searcharray.indexing - INFO - Indexing begins w/ 4 workers\n",
      "2024-10-30 17:31:59,660 - searcharray.indexing - INFO - 0 Batch Start tokenization\n",
      "2024-10-30 17:31:59,661 - searcharray.indexing - INFO - Tokenizing 10 documents\n",
      "2024-10-30 17:31:59,661 - searcharray.indexing - INFO - Tokenization -- vstacking\n",
      "2024-10-30 17:31:59,661 - searcharray.indexing - INFO - Tokenization -- DONE\n",
      "2024-10-30 17:31:59,661 - searcharray.indexing - INFO - Inverting docs->terms\n",
      "2024-10-30 17:31:59,662 - searcharray.indexing - INFO - Encoding positions to bit array\n",
      "2024-10-30 17:31:59,662 - searcharray.indexing - INFO - Batch tokenization complete\n",
      "2024-10-30 17:31:59,662 - searcharray.indexing - INFO - (main thread) Processing 1 batch results\n",
      "2024-10-30 17:31:59,663 - searcharray.indexing - INFO - Indexing from tokenization complete\n",
      "2024-10-30 17:31:59,669 - searcharray.indexing - INFO - Indexing begins w/ 4 workers\n",
      "2024-10-30 17:31:59,670 - searcharray.indexing - INFO - 0 Batch Start tokenization\n",
      "2024-10-30 17:31:59,671 - searcharray.indexing - INFO - Tokenizing 7 documents\n",
      "2024-10-30 17:31:59,671 - searcharray.indexing - INFO - Tokenization -- vstacking\n",
      "2024-10-30 17:31:59,671 - searcharray.indexing - INFO - Tokenization -- DONE\n",
      "2024-10-30 17:31:59,672 - searcharray.indexing - INFO - Inverting docs->terms\n",
      "2024-10-30 17:31:59,672 - searcharray.indexing - INFO - Encoding positions to bit array\n",
      "2024-10-30 17:31:59,672 - searcharray.indexing - INFO - Batch tokenization complete\n",
      "2024-10-30 17:31:59,673 - searcharray.indexing - INFO - (main thread) Processing 1 batch results\n",
      "2024-10-30 17:31:59,673 - searcharray.indexing - INFO - Indexing from tokenization complete\n",
      "2024-10-30 17:31:59,680 - searcharray.indexing - INFO - Indexing begins w/ 4 workers\n",
      "2024-10-30 17:31:59,680 - searcharray.indexing - INFO - 0 Batch Start tokenization\n",
      "2024-10-30 17:31:59,681 - searcharray.indexing - INFO - Tokenizing 2 documents\n",
      "2024-10-30 17:31:59,681 - searcharray.indexing - INFO - Tokenization -- vstacking\n",
      "2024-10-30 17:31:59,682 - searcharray.indexing - INFO - Tokenization -- DONE\n",
      "2024-10-30 17:31:59,682 - searcharray.indexing - INFO - Inverting docs->terms\n",
      "2024-10-30 17:31:59,682 - searcharray.indexing - INFO - Encoding positions to bit array\n",
      "2024-10-30 17:31:59,683 - searcharray.indexing - INFO - Batch tokenization complete\n",
      "2024-10-30 17:31:59,683 - searcharray.indexing - INFO - (main thread) Processing 1 batch results\n",
      "2024-10-30 17:31:59,684 - searcharray.indexing - INFO - Indexing from tokenization complete\n",
      "2024-10-30 17:31:59,691 - searcharray.indexing - INFO - Indexing begins w/ 4 workers\n",
      "2024-10-30 17:31:59,692 - searcharray.indexing - INFO - 0 Batch Start tokenization\n",
      "2024-10-30 17:31:59,692 - searcharray.indexing - INFO - Tokenizing 10 documents\n",
      "2024-10-30 17:31:59,693 - searcharray.indexing - INFO - Tokenization -- vstacking\n",
      "2024-10-30 17:31:59,693 - searcharray.indexing - INFO - Tokenization -- DONE\n",
      "2024-10-30 17:31:59,693 - searcharray.indexing - INFO - Inverting docs->terms\n",
      "2024-10-30 17:31:59,694 - searcharray.indexing - INFO - Encoding positions to bit array\n",
      "2024-10-30 17:31:59,694 - searcharray.indexing - INFO - Batch tokenization complete\n",
      "2024-10-30 17:31:59,695 - searcharray.indexing - INFO - (main thread) Processing 1 batch results\n",
      "2024-10-30 17:31:59,695 - searcharray.indexing - INFO - Indexing from tokenization complete\n",
      "2024-10-30 17:31:59,702 - searcharray.indexing - INFO - Indexing begins w/ 4 workers\n",
      "2024-10-30 17:31:59,703 - searcharray.indexing - INFO - 0 Batch Start tokenization\n",
      "2024-10-30 17:31:59,703 - searcharray.indexing - INFO - Tokenizing 10 documents\n",
      "2024-10-30 17:31:59,703 - searcharray.indexing - INFO - Tokenization -- vstacking\n",
      "2024-10-30 17:31:59,704 - searcharray.indexing - INFO - Tokenization -- DONE\n",
      "2024-10-30 17:31:59,704 - searcharray.indexing - INFO - Inverting docs->terms\n",
      "2024-10-30 17:31:59,704 - searcharray.indexing - INFO - Encoding positions to bit array\n",
      "2024-10-30 17:31:59,704 - searcharray.indexing - INFO - Batch tokenization complete\n",
      "2024-10-30 17:31:59,705 - searcharray.indexing - INFO - (main thread) Processing 1 batch results\n",
      "2024-10-30 17:31:59,705 - searcharray.indexing - INFO - Indexing from tokenization complete\n",
      "2024-10-30 17:31:59,712 - searcharray.indexing - INFO - Indexing begins w/ 4 workers\n",
      "2024-10-30 17:31:59,713 - searcharray.indexing - INFO - 0 Batch Start tokenization\n",
      "2024-10-30 17:31:59,713 - searcharray.indexing - INFO - Tokenizing 10 documents\n",
      "2024-10-30 17:31:59,714 - searcharray.indexing - INFO - Tokenization -- vstacking\n",
      "2024-10-30 17:31:59,714 - searcharray.indexing - INFO - Tokenization -- DONE\n",
      "2024-10-30 17:31:59,714 - searcharray.indexing - INFO - Inverting docs->terms\n",
      "2024-10-30 17:31:59,714 - searcharray.indexing - INFO - Encoding positions to bit array\n",
      "2024-10-30 17:31:59,715 - searcharray.indexing - INFO - Batch tokenization complete\n",
      "2024-10-30 17:31:59,715 - searcharray.indexing - INFO - (main thread) Processing 1 batch results\n",
      "2024-10-30 17:31:59,716 - searcharray.indexing - INFO - Indexing from tokenization complete\n",
      "2024-10-30 17:31:59,725 - searcharray.indexing - INFO - Indexing begins w/ 4 workers\n",
      "2024-10-30 17:31:59,725 - searcharray.indexing - INFO - 0 Batch Start tokenization\n",
      "2024-10-30 17:31:59,726 - searcharray.indexing - INFO - Tokenizing 10 documents\n",
      "2024-10-30 17:31:59,726 - searcharray.indexing - INFO - Tokenization -- vstacking\n",
      "2024-10-30 17:31:59,726 - searcharray.indexing - INFO - Tokenization -- DONE\n",
      "2024-10-30 17:31:59,726 - searcharray.indexing - INFO - Inverting docs->terms\n",
      "2024-10-30 17:31:59,727 - searcharray.indexing - INFO - Encoding positions to bit array\n",
      "2024-10-30 17:31:59,727 - searcharray.indexing - INFO - Batch tokenization complete\n",
      "2024-10-30 17:31:59,728 - searcharray.indexing - INFO - (main thread) Processing 1 batch results\n",
      "2024-10-30 17:31:59,728 - searcharray.indexing - INFO - Indexing from tokenization complete\n",
      "2024-10-30 17:31:59,740 - searcharray.indexing - INFO - Indexing begins w/ 4 workers\n",
      "2024-10-30 17:31:59,740 - searcharray.indexing - INFO - 0 Batch Start tokenization\n",
      "2024-10-30 17:31:59,741 - searcharray.indexing - INFO - Tokenizing 10 documents\n",
      "2024-10-30 17:31:59,741 - searcharray.indexing - INFO - Tokenization -- vstacking\n",
      "2024-10-30 17:31:59,741 - searcharray.indexing - INFO - Tokenization -- DONE\n",
      "2024-10-30 17:31:59,742 - searcharray.indexing - INFO - Inverting docs->terms\n",
      "2024-10-30 17:31:59,742 - searcharray.indexing - INFO - Encoding positions to bit array\n",
      "2024-10-30 17:31:59,742 - searcharray.indexing - INFO - Batch tokenization complete\n",
      "2024-10-30 17:31:59,742 - searcharray.indexing - INFO - (main thread) Processing 1 batch results\n",
      "2024-10-30 17:31:59,743 - searcharray.indexing - INFO - Indexing from tokenization complete\n",
      "2024-10-30 17:31:59,751 - searcharray.indexing - INFO - Indexing begins w/ 4 workers\n",
      "2024-10-30 17:31:59,751 - searcharray.indexing - INFO - 0 Batch Start tokenization\n",
      "2024-10-30 17:31:59,752 - searcharray.indexing - INFO - Tokenizing 9 documents\n",
      "2024-10-30 17:31:59,752 - searcharray.indexing - INFO - Tokenization -- vstacking\n",
      "2024-10-30 17:31:59,752 - searcharray.indexing - INFO - Tokenization -- DONE\n",
      "2024-10-30 17:31:59,752 - searcharray.indexing - INFO - Inverting docs->terms\n",
      "2024-10-30 17:31:59,753 - searcharray.indexing - INFO - Encoding positions to bit array\n",
      "2024-10-30 17:31:59,753 - searcharray.indexing - INFO - Batch tokenization complete\n",
      "2024-10-30 17:31:59,754 - searcharray.indexing - INFO - (main thread) Processing 1 batch results\n",
      "2024-10-30 17:31:59,754 - searcharray.indexing - INFO - Indexing from tokenization complete\n",
      "2024-10-30 17:31:59,764 - searcharray.indexing - INFO - Indexing begins w/ 4 workers\n",
      "2024-10-30 17:31:59,764 - searcharray.indexing - INFO - 0 Batch Start tokenization\n",
      "2024-10-30 17:31:59,765 - searcharray.indexing - INFO - Tokenizing 10 documents\n",
      "2024-10-30 17:31:59,765 - searcharray.indexing - INFO - Tokenization -- vstacking\n",
      "2024-10-30 17:31:59,765 - searcharray.indexing - INFO - Tokenization -- DONE\n",
      "2024-10-30 17:31:59,765 - searcharray.indexing - INFO - Inverting docs->terms\n",
      "2024-10-30 17:31:59,766 - searcharray.indexing - INFO - Encoding positions to bit array\n",
      "2024-10-30 17:31:59,766 - searcharray.indexing - INFO - Batch tokenization complete\n",
      "2024-10-30 17:31:59,766 - searcharray.indexing - INFO - (main thread) Processing 1 batch results\n",
      "2024-10-30 17:31:59,767 - searcharray.indexing - INFO - Indexing from tokenization complete\n",
      "2024-10-30 17:31:59,774 - searcharray.indexing - INFO - Indexing begins w/ 4 workers\n",
      "2024-10-30 17:31:59,774 - searcharray.indexing - INFO - 0 Batch Start tokenization\n",
      "2024-10-30 17:31:59,775 - searcharray.indexing - INFO - Tokenizing 5 documents\n",
      "2024-10-30 17:31:59,775 - searcharray.indexing - INFO - Tokenization -- vstacking\n",
      "2024-10-30 17:31:59,776 - searcharray.indexing - INFO - Tokenization -- DONE\n",
      "2024-10-30 17:31:59,776 - searcharray.indexing - INFO - Inverting docs->terms\n",
      "2024-10-30 17:31:59,776 - searcharray.indexing - INFO - Encoding positions to bit array\n",
      "2024-10-30 17:31:59,777 - searcharray.indexing - INFO - Batch tokenization complete\n",
      "2024-10-30 17:31:59,777 - searcharray.indexing - INFO - (main thread) Processing 1 batch results\n",
      "2024-10-30 17:31:59,778 - searcharray.indexing - INFO - Indexing from tokenization complete\n",
      "2024-10-30 17:31:59,789 - searcharray.indexing - INFO - Indexing begins w/ 4 workers\n",
      "2024-10-30 17:31:59,790 - searcharray.indexing - INFO - 0 Batch Start tokenization\n",
      "2024-10-30 17:31:59,790 - searcharray.indexing - INFO - Tokenizing 8 documents\n",
      "2024-10-30 17:31:59,790 - searcharray.indexing - INFO - Tokenization -- vstacking\n",
      "2024-10-30 17:31:59,791 - searcharray.indexing - INFO - Tokenization -- DONE\n",
      "2024-10-30 17:31:59,791 - searcharray.indexing - INFO - Inverting docs->terms\n",
      "2024-10-30 17:31:59,791 - searcharray.indexing - INFO - Encoding positions to bit array\n",
      "2024-10-30 17:31:59,791 - searcharray.indexing - INFO - Batch tokenization complete\n",
      "2024-10-30 17:31:59,792 - searcharray.indexing - INFO - (main thread) Processing 1 batch results\n",
      "2024-10-30 17:31:59,792 - searcharray.indexing - INFO - Indexing from tokenization complete\n",
      "2024-10-30 17:31:59,803 - searcharray.indexing - INFO - Indexing begins w/ 4 workers\n",
      "2024-10-30 17:31:59,804 - searcharray.indexing - INFO - 0 Batch Start tokenization\n",
      "2024-10-30 17:31:59,804 - searcharray.indexing - INFO - Tokenizing 10 documents\n",
      "2024-10-30 17:31:59,805 - searcharray.indexing - INFO - Tokenization -- vstacking\n",
      "2024-10-30 17:31:59,805 - searcharray.indexing - INFO - Tokenization -- DONE\n",
      "2024-10-30 17:31:59,805 - searcharray.indexing - INFO - Inverting docs->terms\n",
      "2024-10-30 17:31:59,806 - searcharray.indexing - INFO - Encoding positions to bit array\n",
      "2024-10-30 17:31:59,806 - searcharray.indexing - INFO - Batch tokenization complete\n",
      "2024-10-30 17:31:59,807 - searcharray.indexing - INFO - (main thread) Processing 1 batch results\n",
      "2024-10-30 17:31:59,807 - searcharray.indexing - INFO - Indexing from tokenization complete\n",
      "2024-10-30 17:31:59,814 - searcharray.indexing - INFO - Indexing begins w/ 4 workers\n",
      "2024-10-30 17:31:59,815 - searcharray.indexing - INFO - 0 Batch Start tokenization\n",
      "2024-10-30 17:31:59,815 - searcharray.indexing - INFO - Tokenizing 10 documents\n",
      "2024-10-30 17:31:59,816 - searcharray.indexing - INFO - Tokenization -- vstacking\n",
      "2024-10-30 17:31:59,816 - searcharray.indexing - INFO - Tokenization -- DONE\n",
      "2024-10-30 17:31:59,817 - searcharray.indexing - INFO - Inverting docs->terms\n",
      "2024-10-30 17:31:59,817 - searcharray.indexing - INFO - Encoding positions to bit array\n",
      "2024-10-30 17:31:59,818 - searcharray.indexing - INFO - Batch tokenization complete\n",
      "2024-10-30 17:31:59,818 - searcharray.indexing - INFO - (main thread) Processing 1 batch results\n",
      "2024-10-30 17:31:59,818 - searcharray.indexing - INFO - Indexing from tokenization complete\n",
      "2024-10-30 17:31:59,825 - searcharray.indexing - INFO - Indexing begins w/ 4 workers\n",
      "2024-10-30 17:31:59,826 - searcharray.indexing - INFO - 0 Batch Start tokenization\n",
      "2024-10-30 17:31:59,827 - searcharray.indexing - INFO - Tokenizing 10 documents\n",
      "2024-10-30 17:31:59,827 - searcharray.indexing - INFO - Tokenization -- vstacking\n",
      "2024-10-30 17:31:59,827 - searcharray.indexing - INFO - Tokenization -- DONE\n",
      "2024-10-30 17:31:59,828 - searcharray.indexing - INFO - Inverting docs->terms\n",
      "2024-10-30 17:31:59,828 - searcharray.indexing - INFO - Encoding positions to bit array\n",
      "2024-10-30 17:31:59,829 - searcharray.indexing - INFO - Batch tokenization complete\n",
      "2024-10-30 17:31:59,829 - searcharray.indexing - INFO - (main thread) Processing 1 batch results\n",
      "2024-10-30 17:31:59,829 - searcharray.indexing - INFO - Indexing from tokenization complete\n",
      "2024-10-30 17:31:59,836 - searcharray.indexing - INFO - Indexing begins w/ 4 workers\n",
      "2024-10-30 17:31:59,837 - searcharray.indexing - INFO - 0 Batch Start tokenization\n",
      "2024-10-30 17:31:59,837 - searcharray.indexing - INFO - Tokenizing 10 documents\n",
      "2024-10-30 17:31:59,837 - searcharray.indexing - INFO - Tokenization -- vstacking\n",
      "2024-10-30 17:31:59,838 - searcharray.indexing - INFO - Tokenization -- DONE\n",
      "2024-10-30 17:31:59,838 - searcharray.indexing - INFO - Inverting docs->terms\n",
      "2024-10-30 17:31:59,838 - searcharray.indexing - INFO - Encoding positions to bit array\n",
      "2024-10-30 17:31:59,838 - searcharray.indexing - INFO - Batch tokenization complete\n",
      "2024-10-30 17:31:59,839 - searcharray.indexing - INFO - (main thread) Processing 1 batch results\n",
      "2024-10-30 17:31:59,839 - searcharray.indexing - INFO - Indexing from tokenization complete\n",
      "2024-10-30 17:31:59,851 - searcharray.indexing - INFO - Indexing begins w/ 4 workers\n",
      "2024-10-30 17:31:59,851 - searcharray.indexing - INFO - 0 Batch Start tokenization\n",
      "2024-10-30 17:31:59,852 - searcharray.indexing - INFO - Tokenizing 10 documents\n",
      "2024-10-30 17:31:59,852 - searcharray.indexing - INFO - Tokenization -- vstacking\n",
      "2024-10-30 17:31:59,853 - searcharray.indexing - INFO - Tokenization -- DONE\n",
      "2024-10-30 17:31:59,853 - searcharray.indexing - INFO - Inverting docs->terms\n",
      "2024-10-30 17:31:59,853 - searcharray.indexing - INFO - Encoding positions to bit array\n",
      "2024-10-30 17:31:59,854 - searcharray.indexing - INFO - Batch tokenization complete\n",
      "2024-10-30 17:31:59,854 - searcharray.indexing - INFO - (main thread) Processing 1 batch results\n",
      "2024-10-30 17:31:59,855 - searcharray.indexing - INFO - Indexing from tokenization complete\n",
      "2024-10-30 17:31:59,867 - searcharray.indexing - INFO - Indexing begins w/ 4 workers\n",
      "2024-10-30 17:31:59,868 - searcharray.indexing - INFO - 0 Batch Start tokenization\n",
      "2024-10-30 17:31:59,868 - searcharray.indexing - INFO - Tokenizing 10 documents\n",
      "2024-10-30 17:31:59,869 - searcharray.indexing - INFO - Tokenization -- vstacking\n",
      "2024-10-30 17:31:59,869 - searcharray.indexing - INFO - Tokenization -- DONE\n",
      "2024-10-30 17:31:59,869 - searcharray.indexing - INFO - Inverting docs->terms\n",
      "2024-10-30 17:31:59,870 - searcharray.indexing - INFO - Encoding positions to bit array\n",
      "2024-10-30 17:31:59,870 - searcharray.indexing - INFO - Batch tokenization complete\n",
      "2024-10-30 17:31:59,870 - searcharray.indexing - INFO - (main thread) Processing 1 batch results\n",
      "2024-10-30 17:31:59,871 - searcharray.indexing - INFO - Indexing from tokenization complete\n",
      "2024-10-30 17:31:59,882 - searcharray.indexing - INFO - Indexing begins w/ 4 workers\n",
      "2024-10-30 17:31:59,882 - searcharray.indexing - INFO - 0 Batch Start tokenization\n",
      "2024-10-30 17:31:59,883 - searcharray.indexing - INFO - Tokenizing 10 documents\n",
      "2024-10-30 17:31:59,883 - searcharray.indexing - INFO - Tokenization -- vstacking\n",
      "2024-10-30 17:31:59,883 - searcharray.indexing - INFO - Tokenization -- DONE\n",
      "2024-10-30 17:31:59,884 - searcharray.indexing - INFO - Inverting docs->terms\n",
      "2024-10-30 17:31:59,884 - searcharray.indexing - INFO - Encoding positions to bit array\n",
      "2024-10-30 17:31:59,884 - searcharray.indexing - INFO - Batch tokenization complete\n",
      "2024-10-30 17:31:59,885 - searcharray.indexing - INFO - (main thread) Processing 1 batch results\n",
      "2024-10-30 17:31:59,885 - searcharray.indexing - INFO - Indexing from tokenization complete\n",
      "2024-10-30 17:31:59,898 - searcharray.indexing - INFO - Indexing begins w/ 4 workers\n",
      "2024-10-30 17:31:59,898 - searcharray.indexing - INFO - 0 Batch Start tokenization\n",
      "2024-10-30 17:31:59,899 - searcharray.indexing - INFO - Tokenizing 10 documents\n",
      "2024-10-30 17:31:59,899 - searcharray.indexing - INFO - Tokenization -- vstacking\n",
      "2024-10-30 17:31:59,899 - searcharray.indexing - INFO - Tokenization -- DONE\n",
      "2024-10-30 17:31:59,900 - searcharray.indexing - INFO - Inverting docs->terms\n",
      "2024-10-30 17:31:59,900 - searcharray.indexing - INFO - Encoding positions to bit array\n",
      "2024-10-30 17:31:59,900 - searcharray.indexing - INFO - Batch tokenization complete\n",
      "2024-10-30 17:31:59,901 - searcharray.indexing - INFO - (main thread) Processing 1 batch results\n",
      "2024-10-30 17:31:59,901 - searcharray.indexing - INFO - Indexing from tokenization complete\n",
      "2024-10-30 17:31:59,919 - searcharray.indexing - INFO - Indexing begins w/ 4 workers\n",
      "2024-10-30 17:31:59,919 - searcharray.indexing - INFO - 0 Batch Start tokenization\n",
      "2024-10-30 17:31:59,919 - searcharray.indexing - INFO - Tokenizing 9 documents\n",
      "2024-10-30 17:31:59,920 - searcharray.indexing - INFO - Tokenization -- vstacking\n",
      "2024-10-30 17:31:59,920 - searcharray.indexing - INFO - Tokenization -- DONE\n",
      "2024-10-30 17:31:59,920 - searcharray.indexing - INFO - Inverting docs->terms\n",
      "2024-10-30 17:31:59,920 - searcharray.indexing - INFO - Encoding positions to bit array\n",
      "2024-10-30 17:31:59,921 - searcharray.indexing - INFO - Batch tokenization complete\n",
      "2024-10-30 17:31:59,921 - searcharray.indexing - INFO - (main thread) Processing 1 batch results\n",
      "2024-10-30 17:31:59,921 - searcharray.indexing - INFO - Indexing from tokenization complete\n",
      "2024-10-30 17:31:59,927 - searcharray.indexing - INFO - Indexing begins w/ 4 workers\n",
      "2024-10-30 17:31:59,928 - searcharray.indexing - INFO - 0 Batch Start tokenization\n",
      "2024-10-30 17:31:59,928 - searcharray.indexing - INFO - Tokenizing 8 documents\n",
      "2024-10-30 17:31:59,929 - searcharray.indexing - INFO - Tokenization -- vstacking\n",
      "2024-10-30 17:31:59,929 - searcharray.indexing - INFO - Tokenization -- DONE\n",
      "2024-10-30 17:31:59,929 - searcharray.indexing - INFO - Inverting docs->terms\n",
      "2024-10-30 17:31:59,929 - searcharray.indexing - INFO - Encoding positions to bit array\n",
      "2024-10-30 17:31:59,930 - searcharray.indexing - INFO - Batch tokenization complete\n",
      "2024-10-30 17:31:59,930 - searcharray.indexing - INFO - (main thread) Processing 1 batch results\n",
      "2024-10-30 17:31:59,930 - searcharray.indexing - INFO - Indexing from tokenization complete\n",
      "2024-10-30 17:31:59,942 - searcharray.indexing - INFO - Indexing begins w/ 4 workers\n",
      "2024-10-30 17:31:59,942 - searcharray.indexing - INFO - 0 Batch Start tokenization\n",
      "2024-10-30 17:31:59,943 - searcharray.indexing - INFO - Tokenizing 10 documents\n",
      "2024-10-30 17:31:59,943 - searcharray.indexing - INFO - Tokenization -- vstacking\n",
      "2024-10-30 17:31:59,943 - searcharray.indexing - INFO - Tokenization -- DONE\n",
      "2024-10-30 17:31:59,944 - searcharray.indexing - INFO - Inverting docs->terms\n",
      "2024-10-30 17:31:59,944 - searcharray.indexing - INFO - Encoding positions to bit array\n",
      "2024-10-30 17:31:59,945 - searcharray.indexing - INFO - Batch tokenization complete\n",
      "2024-10-30 17:31:59,945 - searcharray.indexing - INFO - (main thread) Processing 1 batch results\n",
      "2024-10-30 17:31:59,945 - searcharray.indexing - INFO - Indexing from tokenization complete\n",
      "2024-10-30 17:31:59,954 - searcharray.indexing - INFO - Indexing begins w/ 4 workers\n",
      "2024-10-30 17:31:59,955 - searcharray.indexing - INFO - 0 Batch Start tokenization\n",
      "2024-10-30 17:31:59,955 - searcharray.indexing - INFO - Tokenizing 10 documents\n",
      "2024-10-30 17:31:59,956 - searcharray.indexing - INFO - Tokenization -- vstacking\n",
      "2024-10-30 17:31:59,956 - searcharray.indexing - INFO - Tokenization -- DONE\n",
      "2024-10-30 17:31:59,956 - searcharray.indexing - INFO - Inverting docs->terms\n",
      "2024-10-30 17:31:59,956 - searcharray.indexing - INFO - Encoding positions to bit array\n",
      "2024-10-30 17:31:59,957 - searcharray.indexing - INFO - Batch tokenization complete\n",
      "2024-10-30 17:31:59,957 - searcharray.indexing - INFO - (main thread) Processing 1 batch results\n",
      "2024-10-30 17:31:59,957 - searcharray.indexing - INFO - Indexing from tokenization complete\n",
      "2024-10-30 17:31:59,969 - searcharray.indexing - INFO - Indexing begins w/ 4 workers\n",
      "2024-10-30 17:31:59,969 - searcharray.indexing - INFO - 0 Batch Start tokenization\n",
      "2024-10-30 17:31:59,970 - searcharray.indexing - INFO - Tokenizing 9 documents\n",
      "2024-10-30 17:31:59,970 - searcharray.indexing - INFO - Tokenization -- vstacking\n",
      "2024-10-30 17:31:59,970 - searcharray.indexing - INFO - Tokenization -- DONE\n",
      "2024-10-30 17:31:59,970 - searcharray.indexing - INFO - Inverting docs->terms\n",
      "2024-10-30 17:31:59,971 - searcharray.indexing - INFO - Encoding positions to bit array\n",
      "2024-10-30 17:31:59,971 - searcharray.indexing - INFO - Batch tokenization complete\n",
      "2024-10-30 17:31:59,971 - searcharray.indexing - INFO - (main thread) Processing 1 batch results\n",
      "2024-10-30 17:31:59,972 - searcharray.indexing - INFO - Indexing from tokenization complete\n",
      "2024-10-30 17:31:59,979 - searcharray.indexing - INFO - Indexing begins w/ 4 workers\n",
      "2024-10-30 17:31:59,979 - searcharray.indexing - INFO - 0 Batch Start tokenization\n",
      "2024-10-30 17:31:59,979 - searcharray.indexing - INFO - Tokenizing 10 documents\n",
      "2024-10-30 17:31:59,980 - searcharray.indexing - INFO - Tokenization -- vstacking\n",
      "2024-10-30 17:31:59,980 - searcharray.indexing - INFO - Tokenization -- DONE\n",
      "2024-10-30 17:31:59,980 - searcharray.indexing - INFO - Inverting docs->terms\n",
      "2024-10-30 17:31:59,980 - searcharray.indexing - INFO - Encoding positions to bit array\n",
      "2024-10-30 17:31:59,981 - searcharray.indexing - INFO - Batch tokenization complete\n",
      "2024-10-30 17:31:59,981 - searcharray.indexing - INFO - (main thread) Processing 1 batch results\n",
      "2024-10-30 17:31:59,982 - searcharray.indexing - INFO - Indexing from tokenization complete\n",
      "2024-10-30 17:31:59,993 - searcharray.indexing - INFO - Indexing begins w/ 4 workers\n",
      "2024-10-30 17:31:59,993 - searcharray.indexing - INFO - 0 Batch Start tokenization\n",
      "2024-10-30 17:31:59,994 - searcharray.indexing - INFO - Tokenizing 10 documents\n",
      "2024-10-30 17:31:59,994 - searcharray.indexing - INFO - Tokenization -- vstacking\n",
      "2024-10-30 17:31:59,995 - searcharray.indexing - INFO - Tokenization -- DONE\n",
      "2024-10-30 17:31:59,995 - searcharray.indexing - INFO - Inverting docs->terms\n",
      "2024-10-30 17:31:59,995 - searcharray.indexing - INFO - Encoding positions to bit array\n",
      "2024-10-30 17:31:59,995 - searcharray.indexing - INFO - Batch tokenization complete\n",
      "2024-10-30 17:31:59,996 - searcharray.indexing - INFO - (main thread) Processing 1 batch results\n",
      "2024-10-30 17:31:59,996 - searcharray.indexing - INFO - Indexing from tokenization complete\n",
      "2024-10-30 17:32:00,014 - searcharray.indexing - INFO - Indexing begins w/ 4 workers\n",
      "2024-10-30 17:32:00,014 - searcharray.indexing - INFO - 0 Batch Start tokenization\n",
      "2024-10-30 17:32:00,014 - searcharray.indexing - INFO - Tokenizing 10 documents\n",
      "2024-10-30 17:32:00,015 - searcharray.indexing - INFO - Tokenization -- vstacking\n",
      "2024-10-30 17:32:00,015 - searcharray.indexing - INFO - Tokenization -- DONE\n",
      "2024-10-30 17:32:00,015 - searcharray.indexing - INFO - Inverting docs->terms\n",
      "2024-10-30 17:32:00,015 - searcharray.indexing - INFO - Encoding positions to bit array\n",
      "2024-10-30 17:32:00,016 - searcharray.indexing - INFO - Batch tokenization complete\n",
      "2024-10-30 17:32:00,016 - searcharray.indexing - INFO - (main thread) Processing 1 batch results\n",
      "2024-10-30 17:32:00,017 - searcharray.indexing - INFO - Indexing from tokenization complete\n",
      "2024-10-30 17:32:00,030 - searcharray.indexing - INFO - Indexing begins w/ 4 workers\n",
      "2024-10-30 17:32:00,031 - searcharray.indexing - INFO - 0 Batch Start tokenization\n",
      "2024-10-30 17:32:00,031 - searcharray.indexing - INFO - Tokenizing 5 documents\n",
      "2024-10-30 17:32:00,032 - searcharray.indexing - INFO - Tokenization -- vstacking\n",
      "2024-10-30 17:32:00,032 - searcharray.indexing - INFO - Tokenization -- DONE\n",
      "2024-10-30 17:32:00,032 - searcharray.indexing - INFO - Inverting docs->terms\n",
      "2024-10-30 17:32:00,032 - searcharray.indexing - INFO - Encoding positions to bit array\n",
      "2024-10-30 17:32:00,033 - searcharray.indexing - INFO - Batch tokenization complete\n",
      "2024-10-30 17:32:00,033 - searcharray.indexing - INFO - (main thread) Processing 1 batch results\n",
      "2024-10-30 17:32:00,034 - searcharray.indexing - INFO - Indexing from tokenization complete\n",
      "2024-10-30 17:32:00,043 - searcharray.indexing - INFO - Indexing begins w/ 4 workers\n",
      "2024-10-30 17:32:00,043 - searcharray.indexing - INFO - 0 Batch Start tokenization\n",
      "2024-10-30 17:32:00,044 - searcharray.indexing - INFO - Tokenizing 10 documents\n",
      "2024-10-30 17:32:00,044 - searcharray.indexing - INFO - Tokenization -- vstacking\n",
      "2024-10-30 17:32:00,045 - searcharray.indexing - INFO - Tokenization -- DONE\n",
      "2024-10-30 17:32:00,045 - searcharray.indexing - INFO - Inverting docs->terms\n",
      "2024-10-30 17:32:00,045 - searcharray.indexing - INFO - Encoding positions to bit array\n",
      "2024-10-30 17:32:00,045 - searcharray.indexing - INFO - Batch tokenization complete\n",
      "2024-10-30 17:32:00,046 - searcharray.indexing - INFO - (main thread) Processing 1 batch results\n",
      "2024-10-30 17:32:00,046 - searcharray.indexing - INFO - Indexing from tokenization complete\n",
      "2024-10-30 17:32:00,052 - searcharray.indexing - INFO - Indexing begins w/ 4 workers\n",
      "2024-10-30 17:32:00,053 - searcharray.indexing - INFO - 0 Batch Start tokenization\n",
      "2024-10-30 17:32:00,053 - searcharray.indexing - INFO - Tokenizing 10 documents\n",
      "2024-10-30 17:32:00,054 - searcharray.indexing - INFO - Tokenization -- vstacking\n",
      "2024-10-30 17:32:00,054 - searcharray.indexing - INFO - Tokenization -- DONE\n",
      "2024-10-30 17:32:00,055 - searcharray.indexing - INFO - Inverting docs->terms\n",
      "2024-10-30 17:32:00,055 - searcharray.indexing - INFO - Encoding positions to bit array\n",
      "2024-10-30 17:32:00,055 - searcharray.indexing - INFO - Batch tokenization complete\n",
      "2024-10-30 17:32:00,056 - searcharray.indexing - INFO - (main thread) Processing 1 batch results\n",
      "2024-10-30 17:32:00,056 - searcharray.indexing - INFO - Indexing from tokenization complete\n",
      "2024-10-30 17:32:00,067 - searcharray.indexing - INFO - Indexing begins w/ 4 workers\n",
      "2024-10-30 17:32:00,067 - searcharray.indexing - INFO - 0 Batch Start tokenization\n",
      "2024-10-30 17:32:00,068 - searcharray.indexing - INFO - Tokenizing 10 documents\n",
      "2024-10-30 17:32:00,068 - searcharray.indexing - INFO - Tokenization -- vstacking\n",
      "2024-10-30 17:32:00,069 - searcharray.indexing - INFO - Tokenization -- DONE\n",
      "2024-10-30 17:32:00,069 - searcharray.indexing - INFO - Inverting docs->terms\n",
      "2024-10-30 17:32:00,069 - searcharray.indexing - INFO - Encoding positions to bit array\n",
      "2024-10-30 17:32:00,070 - searcharray.indexing - INFO - Batch tokenization complete\n",
      "2024-10-30 17:32:00,070 - searcharray.indexing - INFO - (main thread) Processing 1 batch results\n",
      "2024-10-30 17:32:00,070 - searcharray.indexing - INFO - Indexing from tokenization complete\n",
      "2024-10-30 17:32:00,082 - searcharray.indexing - INFO - Indexing begins w/ 4 workers\n",
      "2024-10-30 17:32:00,083 - searcharray.indexing - INFO - 0 Batch Start tokenization\n",
      "2024-10-30 17:32:00,083 - searcharray.indexing - INFO - Tokenizing 10 documents\n",
      "2024-10-30 17:32:00,084 - searcharray.indexing - INFO - Tokenization -- vstacking\n",
      "2024-10-30 17:32:00,084 - searcharray.indexing - INFO - Tokenization -- DONE\n",
      "2024-10-30 17:32:00,084 - searcharray.indexing - INFO - Inverting docs->terms\n",
      "2024-10-30 17:32:00,084 - searcharray.indexing - INFO - Encoding positions to bit array\n",
      "2024-10-30 17:32:00,085 - searcharray.indexing - INFO - Batch tokenization complete\n",
      "2024-10-30 17:32:00,085 - searcharray.indexing - INFO - (main thread) Processing 1 batch results\n",
      "2024-10-30 17:32:00,085 - searcharray.indexing - INFO - Indexing from tokenization complete\n",
      "2024-10-30 17:32:00,092 - searcharray.indexing - INFO - Indexing begins w/ 4 workers\n",
      "2024-10-30 17:32:00,092 - searcharray.indexing - INFO - 0 Batch Start tokenization\n",
      "2024-10-30 17:32:00,093 - searcharray.indexing - INFO - Tokenizing 10 documents\n",
      "2024-10-30 17:32:00,093 - searcharray.indexing - INFO - Tokenization -- vstacking\n",
      "2024-10-30 17:32:00,093 - searcharray.indexing - INFO - Tokenization -- DONE\n",
      "2024-10-30 17:32:00,094 - searcharray.indexing - INFO - Inverting docs->terms\n",
      "2024-10-30 17:32:00,094 - searcharray.indexing - INFO - Encoding positions to bit array\n",
      "2024-10-30 17:32:00,094 - searcharray.indexing - INFO - Batch tokenization complete\n",
      "2024-10-30 17:32:00,095 - searcharray.indexing - INFO - (main thread) Processing 1 batch results\n",
      "2024-10-30 17:32:00,095 - searcharray.indexing - INFO - Indexing from tokenization complete\n",
      "2024-10-30 17:32:00,100 - searcharray.indexing - INFO - Indexing begins w/ 4 workers\n",
      "2024-10-30 17:32:00,101 - searcharray.indexing - INFO - 0 Batch Start tokenization\n",
      "2024-10-30 17:32:00,101 - searcharray.indexing - INFO - Tokenizing 5 documents\n",
      "2024-10-30 17:32:00,102 - searcharray.indexing - INFO - Tokenization -- vstacking\n",
      "2024-10-30 17:32:00,102 - searcharray.indexing - INFO - Tokenization -- DONE\n",
      "2024-10-30 17:32:00,102 - searcharray.indexing - INFO - Inverting docs->terms\n",
      "2024-10-30 17:32:00,102 - searcharray.indexing - INFO - Encoding positions to bit array\n",
      "2024-10-30 17:32:00,103 - searcharray.indexing - INFO - Batch tokenization complete\n",
      "2024-10-30 17:32:00,103 - searcharray.indexing - INFO - (main thread) Processing 1 batch results\n",
      "2024-10-30 17:32:00,103 - searcharray.indexing - INFO - Indexing from tokenization complete\n",
      "2024-10-30 17:32:00,115 - searcharray.indexing - INFO - Indexing begins w/ 4 workers\n",
      "2024-10-30 17:32:00,115 - searcharray.indexing - INFO - 0 Batch Start tokenization\n",
      "2024-10-30 17:32:00,116 - searcharray.indexing - INFO - Tokenizing 10 documents\n",
      "2024-10-30 17:32:00,116 - searcharray.indexing - INFO - Tokenization -- vstacking\n",
      "2024-10-30 17:32:00,116 - searcharray.indexing - INFO - Tokenization -- DONE\n",
      "2024-10-30 17:32:00,117 - searcharray.indexing - INFO - Inverting docs->terms\n",
      "2024-10-30 17:32:00,117 - searcharray.indexing - INFO - Encoding positions to bit array\n",
      "2024-10-30 17:32:00,117 - searcharray.indexing - INFO - Batch tokenization complete\n",
      "2024-10-30 17:32:00,118 - searcharray.indexing - INFO - (main thread) Processing 1 batch results\n",
      "2024-10-30 17:32:00,118 - searcharray.indexing - INFO - Indexing from tokenization complete\n",
      "2024-10-30 17:32:00,125 - searcharray.indexing - INFO - Indexing begins w/ 4 workers\n",
      "2024-10-30 17:32:00,125 - searcharray.indexing - INFO - 0 Batch Start tokenization\n",
      "2024-10-30 17:32:00,125 - searcharray.indexing - INFO - Tokenizing 10 documents\n",
      "2024-10-30 17:32:00,126 - searcharray.indexing - INFO - Tokenization -- vstacking\n",
      "2024-10-30 17:32:00,126 - searcharray.indexing - INFO - Tokenization -- DONE\n",
      "2024-10-30 17:32:00,126 - searcharray.indexing - INFO - Inverting docs->terms\n",
      "2024-10-30 17:32:00,127 - searcharray.indexing - INFO - Encoding positions to bit array\n",
      "2024-10-30 17:32:00,127 - searcharray.indexing - INFO - Batch tokenization complete\n",
      "2024-10-30 17:32:00,128 - searcharray.indexing - INFO - (main thread) Processing 1 batch results\n",
      "2024-10-30 17:32:00,128 - searcharray.indexing - INFO - Indexing from tokenization complete\n",
      "2024-10-30 17:32:00,138 - searcharray.indexing - INFO - Indexing begins w/ 4 workers\n",
      "2024-10-30 17:32:00,138 - searcharray.indexing - INFO - 0 Batch Start tokenization\n",
      "2024-10-30 17:32:00,139 - searcharray.indexing - INFO - Tokenizing 10 documents\n",
      "2024-10-30 17:32:00,139 - searcharray.indexing - INFO - Tokenization -- vstacking\n",
      "2024-10-30 17:32:00,139 - searcharray.indexing - INFO - Tokenization -- DONE\n",
      "2024-10-30 17:32:00,140 - searcharray.indexing - INFO - Inverting docs->terms\n",
      "2024-10-30 17:32:00,140 - searcharray.indexing - INFO - Encoding positions to bit array\n",
      "2024-10-30 17:32:00,140 - searcharray.indexing - INFO - Batch tokenization complete\n",
      "2024-10-30 17:32:00,141 - searcharray.indexing - INFO - (main thread) Processing 1 batch results\n",
      "2024-10-30 17:32:00,141 - searcharray.indexing - INFO - Indexing from tokenization complete\n",
      "2024-10-30 17:32:00,148 - searcharray.indexing - INFO - Indexing begins w/ 4 workers\n",
      "2024-10-30 17:32:00,149 - searcharray.indexing - INFO - 0 Batch Start tokenization\n",
      "2024-10-30 17:32:00,149 - searcharray.indexing - INFO - Tokenizing 10 documents\n",
      "2024-10-30 17:32:00,150 - searcharray.indexing - INFO - Tokenization -- vstacking\n",
      "2024-10-30 17:32:00,150 - searcharray.indexing - INFO - Tokenization -- DONE\n",
      "2024-10-30 17:32:00,150 - searcharray.indexing - INFO - Inverting docs->terms\n",
      "2024-10-30 17:32:00,150 - searcharray.indexing - INFO - Encoding positions to bit array\n",
      "2024-10-30 17:32:00,151 - searcharray.indexing - INFO - Batch tokenization complete\n",
      "2024-10-30 17:32:00,151 - searcharray.indexing - INFO - (main thread) Processing 1 batch results\n",
      "2024-10-30 17:32:00,151 - searcharray.indexing - INFO - Indexing from tokenization complete\n",
      "2024-10-30 17:32:00,157 - searcharray.indexing - INFO - Indexing begins w/ 4 workers\n",
      "2024-10-30 17:32:00,158 - searcharray.indexing - INFO - 0 Batch Start tokenization\n",
      "2024-10-30 17:32:00,158 - searcharray.indexing - INFO - Tokenizing 9 documents\n",
      "2024-10-30 17:32:00,159 - searcharray.indexing - INFO - Tokenization -- vstacking\n",
      "2024-10-30 17:32:00,159 - searcharray.indexing - INFO - Tokenization -- DONE\n",
      "2024-10-30 17:32:00,159 - searcharray.indexing - INFO - Inverting docs->terms\n",
      "2024-10-30 17:32:00,159 - searcharray.indexing - INFO - Encoding positions to bit array\n",
      "2024-10-30 17:32:00,160 - searcharray.indexing - INFO - Batch tokenization complete\n",
      "2024-10-30 17:32:00,160 - searcharray.indexing - INFO - (main thread) Processing 1 batch results\n",
      "2024-10-30 17:32:00,161 - searcharray.indexing - INFO - Indexing from tokenization complete\n",
      "2024-10-30 17:32:00,168 - searcharray.indexing - INFO - Indexing begins w/ 4 workers\n",
      "2024-10-30 17:32:00,168 - searcharray.indexing - INFO - 0 Batch Start tokenization\n",
      "2024-10-30 17:32:00,169 - searcharray.indexing - INFO - Tokenizing 10 documents\n",
      "2024-10-30 17:32:00,169 - searcharray.indexing - INFO - Tokenization -- vstacking\n",
      "2024-10-30 17:32:00,169 - searcharray.indexing - INFO - Tokenization -- DONE\n",
      "2024-10-30 17:32:00,169 - searcharray.indexing - INFO - Inverting docs->terms\n",
      "2024-10-30 17:32:00,170 - searcharray.indexing - INFO - Encoding positions to bit array\n",
      "2024-10-30 17:32:00,170 - searcharray.indexing - INFO - Batch tokenization complete\n",
      "2024-10-30 17:32:00,170 - searcharray.indexing - INFO - (main thread) Processing 1 batch results\n",
      "2024-10-30 17:32:00,171 - searcharray.indexing - INFO - Indexing from tokenization complete\n",
      "2024-10-30 17:32:00,177 - searcharray.indexing - INFO - Indexing begins w/ 4 workers\n",
      "2024-10-30 17:32:00,177 - searcharray.indexing - INFO - 0 Batch Start tokenization\n",
      "2024-10-30 17:32:00,177 - searcharray.indexing - INFO - Tokenizing 10 documents\n",
      "2024-10-30 17:32:00,178 - searcharray.indexing - INFO - Tokenization -- vstacking\n",
      "2024-10-30 17:32:00,178 - searcharray.indexing - INFO - Tokenization -- DONE\n",
      "2024-10-30 17:32:00,178 - searcharray.indexing - INFO - Inverting docs->terms\n",
      "2024-10-30 17:32:00,178 - searcharray.indexing - INFO - Encoding positions to bit array\n",
      "2024-10-30 17:32:00,179 - searcharray.indexing - INFO - Batch tokenization complete\n",
      "2024-10-30 17:32:00,179 - searcharray.indexing - INFO - (main thread) Processing 1 batch results\n",
      "2024-10-30 17:32:00,179 - searcharray.indexing - INFO - Indexing from tokenization complete\n",
      "2024-10-30 17:32:00,186 - searcharray.indexing - INFO - Indexing begins w/ 4 workers\n",
      "2024-10-30 17:32:00,186 - searcharray.indexing - INFO - 0 Batch Start tokenization\n",
      "2024-10-30 17:32:00,187 - searcharray.indexing - INFO - Tokenizing 10 documents\n",
      "2024-10-30 17:32:00,187 - searcharray.indexing - INFO - Tokenization -- vstacking\n",
      "2024-10-30 17:32:00,187 - searcharray.indexing - INFO - Tokenization -- DONE\n",
      "2024-10-30 17:32:00,188 - searcharray.indexing - INFO - Inverting docs->terms\n",
      "2024-10-30 17:32:00,188 - searcharray.indexing - INFO - Encoding positions to bit array\n",
      "2024-10-30 17:32:00,188 - searcharray.indexing - INFO - Batch tokenization complete\n",
      "2024-10-30 17:32:00,189 - searcharray.indexing - INFO - (main thread) Processing 1 batch results\n",
      "2024-10-30 17:32:00,189 - searcharray.indexing - INFO - Indexing from tokenization complete\n",
      "2024-10-30 17:32:00,194 - searcharray.indexing - INFO - Indexing begins w/ 4 workers\n",
      "2024-10-30 17:32:00,194 - searcharray.indexing - INFO - 0 Batch Start tokenization\n",
      "2024-10-30 17:32:00,195 - searcharray.indexing - INFO - Tokenizing 10 documents\n",
      "2024-10-30 17:32:00,195 - searcharray.indexing - INFO - Tokenization -- vstacking\n",
      "2024-10-30 17:32:00,195 - searcharray.indexing - INFO - Tokenization -- DONE\n",
      "2024-10-30 17:32:00,196 - searcharray.indexing - INFO - Inverting docs->terms\n",
      "2024-10-30 17:32:00,196 - searcharray.indexing - INFO - Encoding positions to bit array\n",
      "2024-10-30 17:32:00,196 - searcharray.indexing - INFO - Batch tokenization complete\n",
      "2024-10-30 17:32:00,196 - searcharray.indexing - INFO - (main thread) Processing 1 batch results\n",
      "2024-10-30 17:32:00,197 - searcharray.indexing - INFO - Indexing from tokenization complete\n",
      "2024-10-30 17:32:00,203 - searcharray.indexing - INFO - Indexing begins w/ 4 workers\n",
      "2024-10-30 17:32:00,203 - searcharray.indexing - INFO - 0 Batch Start tokenization\n",
      "2024-10-30 17:32:00,203 - searcharray.indexing - INFO - Tokenizing 4 documents\n",
      "2024-10-30 17:32:00,204 - searcharray.indexing - INFO - Tokenization -- vstacking\n",
      "2024-10-30 17:32:00,204 - searcharray.indexing - INFO - Tokenization -- DONE\n",
      "2024-10-30 17:32:00,204 - searcharray.indexing - INFO - Inverting docs->terms\n",
      "2024-10-30 17:32:00,204 - searcharray.indexing - INFO - Encoding positions to bit array\n",
      "2024-10-30 17:32:00,205 - searcharray.indexing - INFO - Batch tokenization complete\n",
      "2024-10-30 17:32:00,205 - searcharray.indexing - INFO - (main thread) Processing 1 batch results\n",
      "2024-10-30 17:32:00,205 - searcharray.indexing - INFO - Indexing from tokenization complete\n",
      "2024-10-30 17:32:00,212 - searcharray.indexing - INFO - Indexing begins w/ 4 workers\n",
      "2024-10-30 17:32:00,212 - searcharray.indexing - INFO - 0 Batch Start tokenization\n",
      "2024-10-30 17:32:00,212 - searcharray.indexing - INFO - Tokenizing 10 documents\n",
      "2024-10-30 17:32:00,213 - searcharray.indexing - INFO - Tokenization -- vstacking\n",
      "2024-10-30 17:32:00,213 - searcharray.indexing - INFO - Tokenization -- DONE\n",
      "2024-10-30 17:32:00,213 - searcharray.indexing - INFO - Inverting docs->terms\n",
      "2024-10-30 17:32:00,213 - searcharray.indexing - INFO - Encoding positions to bit array\n",
      "2024-10-30 17:32:00,214 - searcharray.indexing - INFO - Batch tokenization complete\n",
      "2024-10-30 17:32:00,214 - searcharray.indexing - INFO - (main thread) Processing 1 batch results\n",
      "2024-10-30 17:32:00,215 - searcharray.indexing - INFO - Indexing from tokenization complete\n",
      "2024-10-30 17:32:00,221 - searcharray.indexing - INFO - Indexing begins w/ 4 workers\n",
      "2024-10-30 17:32:00,221 - searcharray.indexing - INFO - 0 Batch Start tokenization\n",
      "2024-10-30 17:32:00,221 - searcharray.indexing - INFO - Tokenizing 5 documents\n",
      "2024-10-30 17:32:00,222 - searcharray.indexing - INFO - Tokenization -- vstacking\n",
      "2024-10-30 17:32:00,222 - searcharray.indexing - INFO - Tokenization -- DONE\n",
      "2024-10-30 17:32:00,222 - searcharray.indexing - INFO - Inverting docs->terms\n",
      "2024-10-30 17:32:00,222 - searcharray.indexing - INFO - Encoding positions to bit array\n",
      "2024-10-30 17:32:00,223 - searcharray.indexing - INFO - Batch tokenization complete\n",
      "2024-10-30 17:32:00,223 - searcharray.indexing - INFO - (main thread) Processing 1 batch results\n",
      "2024-10-30 17:32:00,223 - searcharray.indexing - INFO - Indexing from tokenization complete\n",
      "2024-10-30 17:32:00,230 - searcharray.indexing - INFO - Indexing begins w/ 4 workers\n",
      "2024-10-30 17:32:00,230 - searcharray.indexing - INFO - 0 Batch Start tokenization\n",
      "2024-10-30 17:32:00,231 - searcharray.indexing - INFO - Tokenizing 10 documents\n",
      "2024-10-30 17:32:00,231 - searcharray.indexing - INFO - Tokenization -- vstacking\n",
      "2024-10-30 17:32:00,232 - searcharray.indexing - INFO - Tokenization -- DONE\n",
      "2024-10-30 17:32:00,232 - searcharray.indexing - INFO - Inverting docs->terms\n",
      "2024-10-30 17:32:00,232 - searcharray.indexing - INFO - Encoding positions to bit array\n",
      "2024-10-30 17:32:00,232 - searcharray.indexing - INFO - Batch tokenization complete\n",
      "2024-10-30 17:32:00,232 - searcharray.indexing - INFO - (main thread) Processing 1 batch results\n",
      "2024-10-30 17:32:00,233 - searcharray.indexing - INFO - Indexing from tokenization complete\n",
      "2024-10-30 17:32:00,240 - searcharray.indexing - INFO - Indexing begins w/ 4 workers\n",
      "2024-10-30 17:32:00,240 - searcharray.indexing - INFO - 0 Batch Start tokenization\n",
      "2024-10-30 17:32:00,241 - searcharray.indexing - INFO - Tokenizing 10 documents\n",
      "2024-10-30 17:32:00,241 - searcharray.indexing - INFO - Tokenization -- vstacking\n",
      "2024-10-30 17:32:00,241 - searcharray.indexing - INFO - Tokenization -- DONE\n",
      "2024-10-30 17:32:00,242 - searcharray.indexing - INFO - Inverting docs->terms\n",
      "2024-10-30 17:32:00,242 - searcharray.indexing - INFO - Encoding positions to bit array\n",
      "2024-10-30 17:32:00,242 - searcharray.indexing - INFO - Batch tokenization complete\n",
      "2024-10-30 17:32:00,242 - searcharray.indexing - INFO - (main thread) Processing 1 batch results\n",
      "2024-10-30 17:32:00,243 - searcharray.indexing - INFO - Indexing from tokenization complete\n",
      "2024-10-30 17:32:00,250 - searcharray.indexing - INFO - Indexing begins w/ 4 workers\n",
      "2024-10-30 17:32:00,250 - searcharray.indexing - INFO - 0 Batch Start tokenization\n",
      "2024-10-30 17:32:00,250 - searcharray.indexing - INFO - Tokenizing 10 documents\n",
      "2024-10-30 17:32:00,251 - searcharray.indexing - INFO - Tokenization -- vstacking\n",
      "2024-10-30 17:32:00,251 - searcharray.indexing - INFO - Tokenization -- DONE\n",
      "2024-10-30 17:32:00,252 - searcharray.indexing - INFO - Inverting docs->terms\n",
      "2024-10-30 17:32:00,252 - searcharray.indexing - INFO - Encoding positions to bit array\n",
      "2024-10-30 17:32:00,252 - searcharray.indexing - INFO - Batch tokenization complete\n",
      "2024-10-30 17:32:00,252 - searcharray.indexing - INFO - (main thread) Processing 1 batch results\n",
      "2024-10-30 17:32:00,253 - searcharray.indexing - INFO - Indexing from tokenization complete\n",
      "2024-10-30 17:32:00,261 - searcharray.indexing - INFO - Indexing begins w/ 4 workers\n",
      "2024-10-30 17:32:00,262 - searcharray.indexing - INFO - 0 Batch Start tokenization\n",
      "2024-10-30 17:32:00,262 - searcharray.indexing - INFO - Tokenizing 2 documents\n",
      "2024-10-30 17:32:00,263 - searcharray.indexing - INFO - Tokenization -- vstacking\n",
      "2024-10-30 17:32:00,263 - searcharray.indexing - INFO - Tokenization -- DONE\n",
      "2024-10-30 17:32:00,263 - searcharray.indexing - INFO - Inverting docs->terms\n",
      "2024-10-30 17:32:00,263 - searcharray.indexing - INFO - Encoding positions to bit array\n",
      "2024-10-30 17:32:00,264 - searcharray.indexing - INFO - Batch tokenization complete\n",
      "2024-10-30 17:32:00,264 - searcharray.indexing - INFO - (main thread) Processing 1 batch results\n",
      "2024-10-30 17:32:00,264 - searcharray.indexing - INFO - Indexing from tokenization complete\n",
      "2024-10-30 17:32:00,271 - searcharray.indexing - INFO - Indexing begins w/ 4 workers\n",
      "2024-10-30 17:32:00,272 - searcharray.indexing - INFO - 0 Batch Start tokenization\n",
      "2024-10-30 17:32:00,272 - searcharray.indexing - INFO - Tokenizing 10 documents\n",
      "2024-10-30 17:32:00,273 - searcharray.indexing - INFO - Tokenization -- vstacking\n",
      "2024-10-30 17:32:00,273 - searcharray.indexing - INFO - Tokenization -- DONE\n",
      "2024-10-30 17:32:00,274 - searcharray.indexing - INFO - Inverting docs->terms\n",
      "2024-10-30 17:32:00,274 - searcharray.indexing - INFO - Encoding positions to bit array\n",
      "2024-10-30 17:32:00,274 - searcharray.indexing - INFO - Batch tokenization complete\n",
      "2024-10-30 17:32:00,274 - searcharray.indexing - INFO - (main thread) Processing 1 batch results\n",
      "2024-10-30 17:32:00,275 - searcharray.indexing - INFO - Indexing from tokenization complete\n",
      "2024-10-30 17:32:00,281 - searcharray.indexing - INFO - Indexing begins w/ 4 workers\n",
      "2024-10-30 17:32:00,282 - searcharray.indexing - INFO - 0 Batch Start tokenization\n",
      "2024-10-30 17:32:00,282 - searcharray.indexing - INFO - Tokenizing 10 documents\n",
      "2024-10-30 17:32:00,283 - searcharray.indexing - INFO - Tokenization -- vstacking\n",
      "2024-10-30 17:32:00,283 - searcharray.indexing - INFO - Tokenization -- DONE\n",
      "2024-10-30 17:32:00,284 - searcharray.indexing - INFO - Inverting docs->terms\n",
      "2024-10-30 17:32:00,284 - searcharray.indexing - INFO - Encoding positions to bit array\n",
      "2024-10-30 17:32:00,284 - searcharray.indexing - INFO - Batch tokenization complete\n",
      "2024-10-30 17:32:00,285 - searcharray.indexing - INFO - (main thread) Processing 1 batch results\n",
      "2024-10-30 17:32:00,286 - searcharray.indexing - INFO - Indexing from tokenization complete\n",
      "2024-10-30 17:32:00,292 - searcharray.indexing - INFO - Indexing begins w/ 4 workers\n",
      "2024-10-30 17:32:00,293 - searcharray.indexing - INFO - 0 Batch Start tokenization\n",
      "2024-10-30 17:32:00,293 - searcharray.indexing - INFO - Tokenizing 3 documents\n",
      "2024-10-30 17:32:00,294 - searcharray.indexing - INFO - Tokenization -- vstacking\n",
      "2024-10-30 17:32:00,294 - searcharray.indexing - INFO - Tokenization -- DONE\n",
      "2024-10-30 17:32:00,295 - searcharray.indexing - INFO - Inverting docs->terms\n",
      "2024-10-30 17:32:00,295 - searcharray.indexing - INFO - Encoding positions to bit array\n",
      "2024-10-30 17:32:00,295 - searcharray.indexing - INFO - Batch tokenization complete\n",
      "2024-10-30 17:32:00,296 - searcharray.indexing - INFO - (main thread) Processing 1 batch results\n",
      "2024-10-30 17:32:00,296 - searcharray.indexing - INFO - Indexing from tokenization complete\n",
      "2024-10-30 17:32:00,304 - searcharray.indexing - INFO - Indexing begins w/ 4 workers\n",
      "2024-10-30 17:32:00,304 - searcharray.indexing - INFO - 0 Batch Start tokenization\n",
      "2024-10-30 17:32:00,305 - searcharray.indexing - INFO - Tokenizing 10 documents\n",
      "2024-10-30 17:32:00,305 - searcharray.indexing - INFO - Tokenization -- vstacking\n",
      "2024-10-30 17:32:00,306 - searcharray.indexing - INFO - Tokenization -- DONE\n",
      "2024-10-30 17:32:00,306 - searcharray.indexing - INFO - Inverting docs->terms\n",
      "2024-10-30 17:32:00,306 - searcharray.indexing - INFO - Encoding positions to bit array\n",
      "2024-10-30 17:32:00,306 - searcharray.indexing - INFO - Batch tokenization complete\n",
      "2024-10-30 17:32:00,307 - searcharray.indexing - INFO - (main thread) Processing 1 batch results\n",
      "2024-10-30 17:32:00,307 - searcharray.indexing - INFO - Indexing from tokenization complete\n",
      "2024-10-30 17:32:00,313 - searcharray.indexing - INFO - Indexing begins w/ 4 workers\n",
      "2024-10-30 17:32:00,314 - searcharray.indexing - INFO - 0 Batch Start tokenization\n",
      "2024-10-30 17:32:00,314 - searcharray.indexing - INFO - Tokenizing 3 documents\n",
      "2024-10-30 17:32:00,314 - searcharray.indexing - INFO - Tokenization -- vstacking\n",
      "2024-10-30 17:32:00,314 - searcharray.indexing - INFO - Tokenization -- DONE\n",
      "2024-10-30 17:32:00,315 - searcharray.indexing - INFO - Inverting docs->terms\n",
      "2024-10-30 17:32:00,315 - searcharray.indexing - INFO - Encoding positions to bit array\n",
      "2024-10-30 17:32:00,315 - searcharray.indexing - INFO - Batch tokenization complete\n",
      "2024-10-30 17:32:00,315 - searcharray.indexing - INFO - (main thread) Processing 1 batch results\n",
      "2024-10-30 17:32:00,316 - searcharray.indexing - INFO - Indexing from tokenization complete\n",
      "2024-10-30 17:32:00,326 - searcharray.indexing - INFO - Indexing begins w/ 4 workers\n",
      "2024-10-30 17:32:00,326 - searcharray.indexing - INFO - 0 Batch Start tokenization\n",
      "2024-10-30 17:32:00,327 - searcharray.indexing - INFO - Tokenizing 10 documents\n",
      "2024-10-30 17:32:00,327 - searcharray.indexing - INFO - Tokenization -- vstacking\n",
      "2024-10-30 17:32:00,327 - searcharray.indexing - INFO - Tokenization -- DONE\n",
      "2024-10-30 17:32:00,328 - searcharray.indexing - INFO - Inverting docs->terms\n",
      "2024-10-30 17:32:00,328 - searcharray.indexing - INFO - Encoding positions to bit array\n",
      "2024-10-30 17:32:00,328 - searcharray.indexing - INFO - Batch tokenization complete\n",
      "2024-10-30 17:32:00,328 - searcharray.indexing - INFO - (main thread) Processing 1 batch results\n",
      "2024-10-30 17:32:00,329 - searcharray.indexing - INFO - Indexing from tokenization complete\n",
      "2024-10-30 17:32:00,337 - searcharray.indexing - INFO - Indexing begins w/ 4 workers\n",
      "2024-10-30 17:32:00,337 - searcharray.indexing - INFO - 0 Batch Start tokenization\n",
      "2024-10-30 17:32:00,338 - searcharray.indexing - INFO - Tokenizing 10 documents\n",
      "2024-10-30 17:32:00,338 - searcharray.indexing - INFO - Tokenization -- vstacking\n",
      "2024-10-30 17:32:00,339 - searcharray.indexing - INFO - Tokenization -- DONE\n",
      "2024-10-30 17:32:00,339 - searcharray.indexing - INFO - Inverting docs->terms\n",
      "2024-10-30 17:32:00,339 - searcharray.indexing - INFO - Encoding positions to bit array\n",
      "2024-10-30 17:32:00,340 - searcharray.indexing - INFO - Batch tokenization complete\n",
      "2024-10-30 17:32:00,340 - searcharray.indexing - INFO - (main thread) Processing 1 batch results\n",
      "2024-10-30 17:32:00,341 - searcharray.indexing - INFO - Indexing from tokenization complete\n",
      "2024-10-30 17:32:00,350 - searcharray.indexing - INFO - Indexing begins w/ 4 workers\n",
      "2024-10-30 17:32:00,351 - searcharray.indexing - INFO - 0 Batch Start tokenization\n",
      "2024-10-30 17:32:00,351 - searcharray.indexing - INFO - Tokenizing 10 documents\n",
      "2024-10-30 17:32:00,352 - searcharray.indexing - INFO - Tokenization -- vstacking\n",
      "2024-10-30 17:32:00,352 - searcharray.indexing - INFO - Tokenization -- DONE\n",
      "2024-10-30 17:32:00,352 - searcharray.indexing - INFO - Inverting docs->terms\n",
      "2024-10-30 17:32:00,353 - searcharray.indexing - INFO - Encoding positions to bit array\n",
      "2024-10-30 17:32:00,353 - searcharray.indexing - INFO - Batch tokenization complete\n",
      "2024-10-30 17:32:00,353 - searcharray.indexing - INFO - (main thread) Processing 1 batch results\n",
      "2024-10-30 17:32:00,354 - searcharray.indexing - INFO - Indexing from tokenization complete\n",
      "2024-10-30 17:32:00,361 - searcharray.indexing - INFO - Indexing begins w/ 4 workers\n",
      "2024-10-30 17:32:00,362 - searcharray.indexing - INFO - 0 Batch Start tokenization\n",
      "2024-10-30 17:32:00,362 - searcharray.indexing - INFO - Tokenizing 10 documents\n",
      "2024-10-30 17:32:00,363 - searcharray.indexing - INFO - Tokenization -- vstacking\n",
      "2024-10-30 17:32:00,363 - searcharray.indexing - INFO - Tokenization -- DONE\n",
      "2024-10-30 17:32:00,363 - searcharray.indexing - INFO - Inverting docs->terms\n",
      "2024-10-30 17:32:00,363 - searcharray.indexing - INFO - Encoding positions to bit array\n",
      "2024-10-30 17:32:00,364 - searcharray.indexing - INFO - Batch tokenization complete\n",
      "2024-10-30 17:32:00,364 - searcharray.indexing - INFO - (main thread) Processing 1 batch results\n",
      "2024-10-30 17:32:00,364 - searcharray.indexing - INFO - Indexing from tokenization complete\n",
      "2024-10-30 17:32:00,370 - searcharray.indexing - INFO - Indexing begins w/ 4 workers\n",
      "2024-10-30 17:32:00,371 - searcharray.indexing - INFO - 0 Batch Start tokenization\n",
      "2024-10-30 17:32:00,371 - searcharray.indexing - INFO - Tokenizing 1 documents\n",
      "2024-10-30 17:32:00,372 - searcharray.indexing - INFO - Tokenization -- vstacking\n",
      "2024-10-30 17:32:00,372 - searcharray.indexing - INFO - Tokenization -- DONE\n",
      "2024-10-30 17:32:00,372 - searcharray.indexing - INFO - Inverting docs->terms\n",
      "2024-10-30 17:32:00,372 - searcharray.indexing - INFO - Encoding positions to bit array\n",
      "2024-10-30 17:32:00,372 - searcharray.indexing - INFO - Batch tokenization complete\n",
      "2024-10-30 17:32:00,373 - searcharray.indexing - INFO - (main thread) Processing 1 batch results\n",
      "2024-10-30 17:32:00,373 - searcharray.indexing - INFO - Indexing from tokenization complete\n",
      "2024-10-30 17:32:00,380 - searcharray.indexing - INFO - Indexing begins w/ 4 workers\n",
      "2024-10-30 17:32:00,380 - searcharray.indexing - INFO - 0 Batch Start tokenization\n",
      "2024-10-30 17:32:00,381 - searcharray.indexing - INFO - Tokenizing 10 documents\n",
      "2024-10-30 17:32:00,381 - searcharray.indexing - INFO - Tokenization -- vstacking\n",
      "2024-10-30 17:32:00,381 - searcharray.indexing - INFO - Tokenization -- DONE\n",
      "2024-10-30 17:32:00,382 - searcharray.indexing - INFO - Inverting docs->terms\n",
      "2024-10-30 17:32:00,382 - searcharray.indexing - INFO - Encoding positions to bit array\n",
      "2024-10-30 17:32:00,382 - searcharray.indexing - INFO - Batch tokenization complete\n",
      "2024-10-30 17:32:00,383 - searcharray.indexing - INFO - (main thread) Processing 1 batch results\n",
      "2024-10-30 17:32:00,383 - searcharray.indexing - INFO - Indexing from tokenization complete\n",
      "2024-10-30 17:32:00,393 - searcharray.indexing - INFO - Indexing begins w/ 4 workers\n",
      "2024-10-30 17:32:00,393 - searcharray.indexing - INFO - 0 Batch Start tokenization\n",
      "2024-10-30 17:32:00,394 - searcharray.indexing - INFO - Tokenizing 10 documents\n",
      "2024-10-30 17:32:00,395 - searcharray.indexing - INFO - Tokenization -- vstacking\n",
      "2024-10-30 17:32:00,395 - searcharray.indexing - INFO - Tokenization -- DONE\n",
      "2024-10-30 17:32:00,395 - searcharray.indexing - INFO - Inverting docs->terms\n",
      "2024-10-30 17:32:00,396 - searcharray.indexing - INFO - Encoding positions to bit array\n",
      "2024-10-30 17:32:00,396 - searcharray.indexing - INFO - Batch tokenization complete\n",
      "2024-10-30 17:32:00,396 - searcharray.indexing - INFO - (main thread) Processing 1 batch results\n",
      "2024-10-30 17:32:00,397 - searcharray.indexing - INFO - Indexing from tokenization complete\n",
      "2024-10-30 17:32:00,405 - searcharray.indexing - INFO - Indexing begins w/ 4 workers\n",
      "2024-10-30 17:32:00,405 - searcharray.indexing - INFO - 0 Batch Start tokenization\n",
      "2024-10-30 17:32:00,406 - searcharray.indexing - INFO - Tokenizing 10 documents\n",
      "2024-10-30 17:32:00,407 - searcharray.indexing - INFO - Tokenization -- vstacking\n",
      "2024-10-30 17:32:00,407 - searcharray.indexing - INFO - Tokenization -- DONE\n",
      "2024-10-30 17:32:00,407 - searcharray.indexing - INFO - Inverting docs->terms\n",
      "2024-10-30 17:32:00,408 - searcharray.indexing - INFO - Encoding positions to bit array\n",
      "2024-10-30 17:32:00,408 - searcharray.indexing - INFO - Batch tokenization complete\n",
      "2024-10-30 17:32:00,409 - searcharray.indexing - INFO - (main thread) Processing 1 batch results\n",
      "2024-10-30 17:32:00,409 - searcharray.indexing - INFO - Indexing from tokenization complete\n",
      "2024-10-30 17:32:00,418 - searcharray.indexing - INFO - Indexing begins w/ 4 workers\n",
      "2024-10-30 17:32:00,419 - searcharray.indexing - INFO - 0 Batch Start tokenization\n",
      "2024-10-30 17:32:00,419 - searcharray.indexing - INFO - Tokenizing 10 documents\n",
      "2024-10-30 17:32:00,419 - searcharray.indexing - INFO - Tokenization -- vstacking\n",
      "2024-10-30 17:32:00,419 - searcharray.indexing - INFO - Tokenization -- DONE\n",
      "2024-10-30 17:32:00,420 - searcharray.indexing - INFO - Inverting docs->terms\n",
      "2024-10-30 17:32:00,420 - searcharray.indexing - INFO - Encoding positions to bit array\n",
      "2024-10-30 17:32:00,420 - searcharray.indexing - INFO - Batch tokenization complete\n",
      "2024-10-30 17:32:00,420 - searcharray.indexing - INFO - (main thread) Processing 1 batch results\n",
      "2024-10-30 17:32:00,421 - searcharray.indexing - INFO - Indexing from tokenization complete\n",
      "2024-10-30 17:32:00,428 - searcharray.indexing - INFO - Indexing begins w/ 4 workers\n",
      "2024-10-30 17:32:00,428 - searcharray.indexing - INFO - 0 Batch Start tokenization\n",
      "2024-10-30 17:32:00,429 - searcharray.indexing - INFO - Tokenizing 10 documents\n",
      "2024-10-30 17:32:00,429 - searcharray.indexing - INFO - Tokenization -- vstacking\n",
      "2024-10-30 17:32:00,429 - searcharray.indexing - INFO - Tokenization -- DONE\n",
      "2024-10-30 17:32:00,430 - searcharray.indexing - INFO - Inverting docs->terms\n",
      "2024-10-30 17:32:00,430 - searcharray.indexing - INFO - Encoding positions to bit array\n",
      "2024-10-30 17:32:00,430 - searcharray.indexing - INFO - Batch tokenization complete\n",
      "2024-10-30 17:32:00,430 - searcharray.indexing - INFO - (main thread) Processing 1 batch results\n",
      "2024-10-30 17:32:00,431 - searcharray.indexing - INFO - Indexing from tokenization complete\n",
      "2024-10-30 17:32:00,440 - searcharray.indexing - INFO - Indexing begins w/ 4 workers\n",
      "2024-10-30 17:32:00,441 - searcharray.indexing - INFO - 0 Batch Start tokenization\n",
      "2024-10-30 17:32:00,442 - searcharray.indexing - INFO - Tokenizing 10 documents\n",
      "2024-10-30 17:32:00,442 - searcharray.indexing - INFO - Tokenization -- vstacking\n",
      "2024-10-30 17:32:00,442 - searcharray.indexing - INFO - Tokenization -- DONE\n",
      "2024-10-30 17:32:00,443 - searcharray.indexing - INFO - Inverting docs->terms\n",
      "2024-10-30 17:32:00,443 - searcharray.indexing - INFO - Encoding positions to bit array\n",
      "2024-10-30 17:32:00,443 - searcharray.indexing - INFO - Batch tokenization complete\n",
      "2024-10-30 17:32:00,444 - searcharray.indexing - INFO - (main thread) Processing 1 batch results\n",
      "2024-10-30 17:32:00,444 - searcharray.indexing - INFO - Indexing from tokenization complete\n",
      "2024-10-30 17:32:00,453 - searcharray.indexing - INFO - Indexing begins w/ 4 workers\n",
      "2024-10-30 17:32:00,453 - searcharray.indexing - INFO - 0 Batch Start tokenization\n",
      "2024-10-30 17:32:00,453 - searcharray.indexing - INFO - Tokenizing 10 documents\n",
      "2024-10-30 17:32:00,454 - searcharray.indexing - INFO - Tokenization -- vstacking\n",
      "2024-10-30 17:32:00,454 - searcharray.indexing - INFO - Tokenization -- DONE\n",
      "2024-10-30 17:32:00,454 - searcharray.indexing - INFO - Inverting docs->terms\n",
      "2024-10-30 17:32:00,455 - searcharray.indexing - INFO - Encoding positions to bit array\n",
      "2024-10-30 17:32:00,455 - searcharray.indexing - INFO - Batch tokenization complete\n",
      "2024-10-30 17:32:00,455 - searcharray.indexing - INFO - (main thread) Processing 1 batch results\n",
      "2024-10-30 17:32:00,455 - searcharray.indexing - INFO - Indexing from tokenization complete\n",
      "2024-10-30 17:32:00,462 - searcharray.indexing - INFO - Indexing begins w/ 4 workers\n",
      "2024-10-30 17:32:00,462 - searcharray.indexing - INFO - 0 Batch Start tokenization\n",
      "2024-10-30 17:32:00,463 - searcharray.indexing - INFO - Tokenizing 10 documents\n",
      "2024-10-30 17:32:00,463 - searcharray.indexing - INFO - Tokenization -- vstacking\n",
      "2024-10-30 17:32:00,464 - searcharray.indexing - INFO - Tokenization -- DONE\n",
      "2024-10-30 17:32:00,464 - searcharray.indexing - INFO - Inverting docs->terms\n",
      "2024-10-30 17:32:00,464 - searcharray.indexing - INFO - Encoding positions to bit array\n",
      "2024-10-30 17:32:00,465 - searcharray.indexing - INFO - Batch tokenization complete\n",
      "2024-10-30 17:32:00,465 - searcharray.indexing - INFO - (main thread) Processing 1 batch results\n",
      "2024-10-30 17:32:00,465 - searcharray.indexing - INFO - Indexing from tokenization complete\n",
      "2024-10-30 17:32:00,472 - searcharray.indexing - INFO - Indexing begins w/ 4 workers\n",
      "2024-10-30 17:32:00,473 - searcharray.indexing - INFO - 0 Batch Start tokenization\n",
      "2024-10-30 17:32:00,473 - searcharray.indexing - INFO - Tokenizing 10 documents\n",
      "2024-10-30 17:32:00,474 - searcharray.indexing - INFO - Tokenization -- vstacking\n",
      "2024-10-30 17:32:00,474 - searcharray.indexing - INFO - Tokenization -- DONE\n",
      "2024-10-30 17:32:00,474 - searcharray.indexing - INFO - Inverting docs->terms\n",
      "2024-10-30 17:32:00,475 - searcharray.indexing - INFO - Encoding positions to bit array\n",
      "2024-10-30 17:32:00,475 - searcharray.indexing - INFO - Batch tokenization complete\n",
      "2024-10-30 17:32:00,475 - searcharray.indexing - INFO - (main thread) Processing 1 batch results\n",
      "2024-10-30 17:32:00,476 - searcharray.indexing - INFO - Indexing from tokenization complete\n",
      "2024-10-30 17:32:00,484 - searcharray.indexing - INFO - Indexing begins w/ 4 workers\n",
      "2024-10-30 17:32:00,485 - searcharray.indexing - INFO - 0 Batch Start tokenization\n",
      "2024-10-30 17:32:00,485 - searcharray.indexing - INFO - Tokenizing 1 documents\n",
      "2024-10-30 17:32:00,486 - searcharray.indexing - INFO - Tokenization -- vstacking\n",
      "2024-10-30 17:32:00,486 - searcharray.indexing - INFO - Tokenization -- DONE\n",
      "2024-10-30 17:32:00,486 - searcharray.indexing - INFO - Inverting docs->terms\n",
      "2024-10-30 17:32:00,486 - searcharray.indexing - INFO - Encoding positions to bit array\n",
      "2024-10-30 17:32:00,487 - searcharray.indexing - INFO - Batch tokenization complete\n",
      "2024-10-30 17:32:00,487 - searcharray.indexing - INFO - (main thread) Processing 1 batch results\n",
      "2024-10-30 17:32:00,488 - searcharray.indexing - INFO - Indexing from tokenization complete\n",
      "2024-10-30 17:32:00,495 - searcharray.indexing - INFO - Indexing begins w/ 4 workers\n",
      "2024-10-30 17:32:00,495 - searcharray.indexing - INFO - 0 Batch Start tokenization\n",
      "2024-10-30 17:32:00,496 - searcharray.indexing - INFO - Tokenizing 8 documents\n",
      "2024-10-30 17:32:00,497 - searcharray.indexing - INFO - Tokenization -- vstacking\n",
      "2024-10-30 17:32:00,497 - searcharray.indexing - INFO - Tokenization -- DONE\n",
      "2024-10-30 17:32:00,497 - searcharray.indexing - INFO - Inverting docs->terms\n",
      "2024-10-30 17:32:00,497 - searcharray.indexing - INFO - Encoding positions to bit array\n",
      "2024-10-30 17:32:00,498 - searcharray.indexing - INFO - Batch tokenization complete\n",
      "2024-10-30 17:32:00,498 - searcharray.indexing - INFO - (main thread) Processing 1 batch results\n",
      "2024-10-30 17:32:00,498 - searcharray.indexing - INFO - Indexing from tokenization complete\n",
      "2024-10-30 17:32:00,506 - searcharray.indexing - INFO - Indexing begins w/ 4 workers\n",
      "2024-10-30 17:32:00,507 - searcharray.indexing - INFO - 0 Batch Start tokenization\n",
      "2024-10-30 17:32:00,507 - searcharray.indexing - INFO - Tokenizing 10 documents\n",
      "2024-10-30 17:32:00,508 - searcharray.indexing - INFO - Tokenization -- vstacking\n",
      "2024-10-30 17:32:00,508 - searcharray.indexing - INFO - Tokenization -- DONE\n",
      "2024-10-30 17:32:00,509 - searcharray.indexing - INFO - Inverting docs->terms\n",
      "2024-10-30 17:32:00,509 - searcharray.indexing - INFO - Encoding positions to bit array\n",
      "2024-10-30 17:32:00,510 - searcharray.indexing - INFO - Batch tokenization complete\n",
      "2024-10-30 17:32:00,510 - searcharray.indexing - INFO - (main thread) Processing 1 batch results\n",
      "2024-10-30 17:32:00,511 - searcharray.indexing - INFO - Indexing from tokenization complete\n"
     ]
    }
   ],
   "source": [
    "df_filtered['max_title_score'] = df_filtered['query_string'].apply(lambda q: max_doc_score(get_titles_for_query(q), q))\n",
    "df_filtered['sum_title_scores'] = df_filtered['query_string'].apply(lambda q: sum_of_doc_scores(get_titles_for_query(q), q))"
   ]
  },
  {
   "cell_type": "code",
   "execution_count": 22,
   "id": "6b8b00b7-0b13-43ec-902e-f0a0d63caff1",
   "metadata": {},
   "outputs": [],
   "source": [
    "df_filtered['max_semantic_score'] = df_filtered['query_string'].apply(lambda q: max(get_semantic_scores_for_query(q)))\n",
    "df_filtered['avg_semantic_score'] = df_filtered['query_string'].apply(lambda q: np.mean(get_semantic_scores_for_query(q)))"
   ]
  },
  {
   "cell_type": "code",
   "execution_count": 23,
   "id": "ef69057d-4f35-4e1d-a083-1b676dc8f12d",
   "metadata": {},
   "outputs": [
    {
     "data": {
      "text/html": [
       "<div>\n",
       "<style scoped>\n",
       "    .dataframe tbody tr th:only-of-type {\n",
       "        vertical-align: middle;\n",
       "    }\n",
       "\n",
       "    .dataframe tbody tr th {\n",
       "        vertical-align: top;\n",
       "    }\n",
       "\n",
       "    .dataframe thead th {\n",
       "        text-align: right;\n",
       "    }\n",
       "</style>\n",
       "<table border=\"1\" class=\"dataframe\">\n",
       "  <thead>\n",
       "    <tr style=\"text-align: right;\">\n",
       "      <th></th>\n",
       "      <th>query_string</th>\n",
       "      <th>ndcg</th>\n",
       "      <th>neuralness</th>\n",
       "      <th>num_of_terms</th>\n",
       "      <th>query_length</th>\n",
       "      <th>has_numbers</th>\n",
       "      <th>has_special_char</th>\n",
       "      <th>num_results</th>\n",
       "      <th>max_title_score</th>\n",
       "      <th>sum_title_scores</th>\n",
       "      <th>max_semantic_score</th>\n",
       "      <th>avg_semantic_score</th>\n",
       "    </tr>\n",
       "  </thead>\n",
       "  <tbody>\n",
       "    <tr>\n",
       "      <th>0</th>\n",
       "      <td>$30 roblox gift card not digital</td>\n",
       "      <td>0.075767</td>\n",
       "      <td>1.0</td>\n",
       "      <td>6</td>\n",
       "      <td>32</td>\n",
       "      <td>1</td>\n",
       "      <td>1</td>\n",
       "      <td>0</td>\n",
       "      <td>0.000000</td>\n",
       "      <td>0.000000</td>\n",
       "      <td>0.723621</td>\n",
       "      <td>0.690628</td>\n",
       "    </tr>\n",
       "    <tr>\n",
       "      <th>1</th>\n",
       "      <td>(fiction without frontiers)</td>\n",
       "      <td>0.451875</td>\n",
       "      <td>0.9</td>\n",
       "      <td>3</td>\n",
       "      <td>27</td>\n",
       "      <td>0</td>\n",
       "      <td>1</td>\n",
       "      <td>42</td>\n",
       "      <td>0.163126</td>\n",
       "      <td>1.418506</td>\n",
       "      <td>0.730339</td>\n",
       "      <td>0.693966</td>\n",
       "    </tr>\n",
       "    <tr>\n",
       "      <th>2</th>\n",
       "      <td>100</td>\n",
       "      <td>0.332592</td>\n",
       "      <td>0.8</td>\n",
       "      <td>1</td>\n",
       "      <td>3</td>\n",
       "      <td>1</td>\n",
       "      <td>0</td>\n",
       "      <td>220506</td>\n",
       "      <td>0.187512</td>\n",
       "      <td>1.249529</td>\n",
       "      <td>1.000000</td>\n",
       "      <td>0.637586</td>\n",
       "    </tr>\n",
       "    <tr>\n",
       "      <th>3</th>\n",
       "      <td>10x10x6 cake box without window</td>\n",
       "      <td>0.099900</td>\n",
       "      <td>1.0</td>\n",
       "      <td>5</td>\n",
       "      <td>31</td>\n",
       "      <td>1</td>\n",
       "      <td>0</td>\n",
       "      <td>0</td>\n",
       "      <td>0.000000</td>\n",
       "      <td>0.000000</td>\n",
       "      <td>0.637134</td>\n",
       "      <td>0.614345</td>\n",
       "    </tr>\n",
       "    <tr>\n",
       "      <th>4</th>\n",
       "      <td>15 inch light weight laptop that has lots of m...</td>\n",
       "      <td>0.039399</td>\n",
       "      <td>0.0</td>\n",
       "      <td>28</td>\n",
       "      <td>125</td>\n",
       "      <td>1</td>\n",
       "      <td>1</td>\n",
       "      <td>0</td>\n",
       "      <td>0.000000</td>\n",
       "      <td>0.000000</td>\n",
       "      <td>0.656478</td>\n",
       "      <td>0.611948</td>\n",
       "    </tr>\n",
       "  </tbody>\n",
       "</table>\n",
       "</div>"
      ],
      "text/plain": [
       "                                        query_string      ndcg  neuralness  \\\n",
       "0                   $30 roblox gift card not digital  0.075767         1.0   \n",
       "1                        (fiction without frontiers)  0.451875         0.9   \n",
       "2                                                100  0.332592         0.8   \n",
       "3                    10x10x6 cake box without window  0.099900         1.0   \n",
       "4  15 inch light weight laptop that has lots of m...  0.039399         0.0   \n",
       "\n",
       "   num_of_terms  query_length  has_numbers  has_special_char  num_results  \\\n",
       "0             6            32            1                 1            0   \n",
       "1             3            27            0                 1           42   \n",
       "2             1             3            1                 0       220506   \n",
       "3             5            31            1                 0            0   \n",
       "4            28           125            1                 1            0   \n",
       "\n",
       "   max_title_score  sum_title_scores  max_semantic_score  avg_semantic_score  \n",
       "0         0.000000          0.000000            0.723621            0.690628  \n",
       "1         0.163126          1.418506            0.730339            0.693966  \n",
       "2         0.187512          1.249529            1.000000            0.637586  \n",
       "3         0.000000          0.000000            0.637134            0.614345  \n",
       "4         0.000000          0.000000            0.656478            0.611948  "
      ]
     },
     "execution_count": 23,
     "metadata": {},
     "output_type": "execute_result"
    }
   ],
   "source": [
    "df_filtered.head(5)"
   ]
  },
  {
   "cell_type": "code",
   "execution_count": 24,
   "id": "bc018b6d-df2b-40dc-a56a-7c3bcc7be6a6",
   "metadata": {},
   "outputs": [
    {
     "data": {
      "text/plain": [
       "Index(['query_string', 'ndcg', 'neuralness', 'num_of_terms', 'query_length',\n",
       "       'has_numbers', 'has_special_char', 'num_results', 'max_title_score',\n",
       "       'sum_title_scores', 'max_semantic_score', 'avg_semantic_score'],\n",
       "      dtype='object')"
      ]
     },
     "execution_count": 24,
     "metadata": {},
     "output_type": "execute_result"
    }
   ],
   "source": [
    "df_filtered.columns"
   ]
  },
  {
   "cell_type": "code",
   "execution_count": 25,
   "id": "621c7c17-37da-4ba9-94e7-2934b608e832",
   "metadata": {},
   "outputs": [],
   "source": [
    "# rename the columns\n",
    "df_filtered = df_filtered.rename(columns={\"num_of_terms\": \"f_1_num_of_terms\",\n",
    "                            \"query_length\": \"f_2_query_length\",\n",
    "                            \"has_numbers\": \"f_3_has_numbers\",\n",
    "                            \"has_special_char\": \"f_4_has_special_char\",\n",
    "                            \"num_results\": \"f_5_num_results\",\n",
    "                            \"max_title_score\": \"f_6_max_title_score\",\n",
    "                            \"sum_title_scores\": \"f_7_sum_title_scores\",\n",
    "                            \"max_semantic_score\": \"f_8_max_semantic_score\",\n",
    "                            \"avg_semantic_score\": \"f_9_avg_semantic_score\"\n",
    "                           })"
   ]
  },
  {
   "cell_type": "markdown",
   "id": "d00bf3f4-39b6-4c1b-97c1-d8e7a39d1ad3",
   "metadata": {},
   "source": [
    "## Explore Random Forest Regression Models with Different Feature Combinations"
   ]
  },
  {
   "cell_type": "code",
   "execution_count": 26,
   "id": "70c5d22e-9051-4431-86cd-da6efc6a3c7f",
   "metadata": {
    "scrolled": true
   },
   "outputs": [
    {
     "name": "stdout",
     "output_type": "stream",
     "text": [
      "Best Feature Combination: ('f_1_num_of_terms', 'f_2_query_length', 'f_5_num_results', 'f_7_sum_title_scores', 'f_9_avg_semantic_score')\n",
      "Best Metrics:\n",
      "Accuracy (mean): -0.021722952974536348\n",
      "Accuracy (std dev): 0.11416548989518593\n",
      "Cross-Validation RMSE (mean): 0.32268146995299085\n"
     ]
    }
   ],
   "source": [
    "from sklearn.model_selection import ShuffleSplit, cross_val_score\n",
    "from sklearn.ensemble import RandomForestRegressor\n",
    "from sklearn.metrics import make_scorer, root_mean_squared_error, r2_score\n",
    "from itertools import combinations\n",
    "import numpy as np\n",
    "import pandas as pd\n",
    "\n",
    "# Prepare features and target\n",
    "feature_columns = [ \"f_1_num_of_terms\", \"f_2_query_length\", \"f_3_has_numbers\", \"f_4_has_special_char\", \"f_5_num_results\",\n",
    "                   \"f_6_max_title_score\", \"f_7_sum_title_scores\", \"f_8_max_semantic_score\",  \"f_9_avg_semantic_score\"]\n",
    "kws_features = [\"f_5_num_results\", \"f_6_max_title_score\", \"f_7_sum_title_scores\"]\n",
    "neural_search_features = [\"f_8_max_semantic_score\",  \"f_9_avg_semantic_score\"]\n",
    "\n",
    "y = df_filtered['neuralness']  # Target column\n",
    "\n",
    "# Initialize cross-validation strategy\n",
    "cv = ShuffleSplit(n_splits=5, test_size=0.2, random_state=0)\n",
    "\n",
    "# Define the model\n",
    "model = RandomForestRegressor(random_state=42)\n",
    "\n",
    "rmse_scorer = make_scorer(root_mean_squared_error, greater_is_better=False)\n",
    "\n",
    "# Initialize variables to track the best combination\n",
    "best_score = float('-inf')\n",
    "best_combination = None\n",
    "best_metrics = {}\n",
    "df_metrics = []\n",
    "\n",
    "# Try all feature combinations of length 2 to 9\n",
    "for r in range(2, len(feature_columns) + 1):\n",
    "    for combo in combinations(feature_columns, r):\n",
    "        X = df_filtered[list(combo)]  # Select current feature subset\n",
    "        \n",
    "        # Perform cross-validation\n",
    "        scores = cross_val_score(model, X, y, cv=cv)\n",
    "        rmse_scores = cross_val_score(model, X, y, cv=cv, scoring=rmse_scorer)\n",
    "        \n",
    "        # Calculate the mean metrics for the current combination\n",
    "        mean_score = scores.mean()\n",
    "        std_score = scores.std()\n",
    "        mean_rmse = -np.mean(rmse_scores)  # Since RMSE scorer is negative for minimization\n",
    "        #print(f\"feature combo: {combo}, score: {mean_rmse}\")\n",
    "\n",
    "        # does the current combination contain keyword search features\n",
    "        keyword_b = any(feature in combo for feature in kws_features)\n",
    "        # does the current combination contain neural search features\n",
    "        neural_b = any(feature in combo for feature in neural_search_features)\n",
    "        # does the current combination contain only query features (no keyword or neural search features)\n",
    "        query_b = not(keyword_b or neural_b)\n",
    "        \n",
    "        df_metrics.append(pd.DataFrame({\n",
    "            \"features\": [combo]*5,\n",
    "            \"scores\": scores,\n",
    "            \"rmse_scores\": rmse_scores,\n",
    "            \"keyword_f\": [keyword_b]*5,\n",
    "            \"neural_f\": [neural_b]*5,\n",
    "            \"only_query_f\": [query_b]*5,\n",
    "            }))\n",
    "        # Update if the current combination is better\n",
    "        if mean_score > best_score:\n",
    "            best_score = mean_score\n",
    "            best_combination = combo\n",
    "            best_metrics = {\n",
    "                'Accuracy (mean)': mean_score,\n",
    "                'Accuracy (std dev)': std_score,\n",
    "                'RMSE (mean)': mean_rmse\n",
    "            }\n",
    "df_metrics = pd.concat(df_metrics)\n",
    "# Output the best feature combination and its metrics\n",
    "print(\"Best Feature Combination:\", best_combination)\n",
    "print(\"Best Metrics:\")\n",
    "print(f\"Accuracy (mean): {best_metrics['Accuracy (mean)']}\")\n",
    "print(f\"Accuracy (std dev): {best_metrics['Accuracy (std dev)']}\")\n",
    "print(f\"Cross-Validation RMSE (mean): {best_metrics['RMSE (mean)']}\")"
   ]
  },
  {
   "cell_type": "code",
   "execution_count": 27,
   "id": "1c13cdcd-ae26-463d-af88-b8ff366f10de",
   "metadata": {},
   "outputs": [
    {
     "data": {
      "text/html": [
       "<div>\n",
       "<style scoped>\n",
       "    .dataframe tbody tr th:only-of-type {\n",
       "        vertical-align: middle;\n",
       "    }\n",
       "\n",
       "    .dataframe tbody tr th {\n",
       "        vertical-align: top;\n",
       "    }\n",
       "\n",
       "    .dataframe thead th {\n",
       "        text-align: right;\n",
       "    }\n",
       "</style>\n",
       "<table border=\"1\" class=\"dataframe\">\n",
       "  <thead>\n",
       "    <tr style=\"text-align: right;\">\n",
       "      <th></th>\n",
       "      <th>features</th>\n",
       "      <th>scores</th>\n",
       "      <th>rmse_scores</th>\n",
       "      <th>keyword_f</th>\n",
       "      <th>neural_f</th>\n",
       "      <th>only_query_f</th>\n",
       "    </tr>\n",
       "  </thead>\n",
       "  <tbody>\n",
       "    <tr>\n",
       "      <th>0</th>\n",
       "      <td>(f_1_num_of_terms, f_2_query_length)</td>\n",
       "      <td>-0.355622</td>\n",
       "      <td>-0.392739</td>\n",
       "      <td>False</td>\n",
       "      <td>False</td>\n",
       "      <td>True</td>\n",
       "    </tr>\n",
       "    <tr>\n",
       "      <th>1</th>\n",
       "      <td>(f_1_num_of_terms, f_2_query_length)</td>\n",
       "      <td>-0.501152</td>\n",
       "      <td>-0.422110</td>\n",
       "      <td>False</td>\n",
       "      <td>False</td>\n",
       "      <td>True</td>\n",
       "    </tr>\n",
       "    <tr>\n",
       "      <th>2</th>\n",
       "      <td>(f_1_num_of_terms, f_2_query_length)</td>\n",
       "      <td>-0.294621</td>\n",
       "      <td>-0.318900</td>\n",
       "      <td>False</td>\n",
       "      <td>False</td>\n",
       "      <td>True</td>\n",
       "    </tr>\n",
       "  </tbody>\n",
       "</table>\n",
       "</div>"
      ],
      "text/plain": [
       "                               features    scores  rmse_scores  keyword_f  \\\n",
       "0  (f_1_num_of_terms, f_2_query_length) -0.355622    -0.392739      False   \n",
       "1  (f_1_num_of_terms, f_2_query_length) -0.501152    -0.422110      False   \n",
       "2  (f_1_num_of_terms, f_2_query_length) -0.294621    -0.318900      False   \n",
       "\n",
       "   neural_f  only_query_f  \n",
       "0     False          True  \n",
       "1     False          True  \n",
       "2     False          True  "
      ]
     },
     "execution_count": 27,
     "metadata": {},
     "output_type": "execute_result"
    }
   ],
   "source": [
    "df_metrics.head(3)"
   ]
  },
  {
   "cell_type": "code",
   "execution_count": 28,
   "id": "f02f980d-78f1-4672-a082-a028c6aecf12",
   "metadata": {},
   "outputs": [],
   "source": [
    "df_metrics['rmse_scores'] = df_metrics.rmse_scores.apply(lambda x: (-1)*x)\n",
    "df_metrics['features'] =  df_metrics.features.apply(lambda x: ','.join(x))"
   ]
  },
  {
   "cell_type": "code",
   "execution_count": 29,
   "id": "c6274e7f-f981-4b0c-be3b-8743dd5543a3",
   "metadata": {},
   "outputs": [
    {
     "data": {
      "text/html": [
       "<div>\n",
       "<style scoped>\n",
       "    .dataframe tbody tr th:only-of-type {\n",
       "        vertical-align: middle;\n",
       "    }\n",
       "\n",
       "    .dataframe tbody tr th {\n",
       "        vertical-align: top;\n",
       "    }\n",
       "\n",
       "    .dataframe thead th {\n",
       "        text-align: right;\n",
       "    }\n",
       "</style>\n",
       "<table border=\"1\" class=\"dataframe\">\n",
       "  <thead>\n",
       "    <tr style=\"text-align: right;\">\n",
       "      <th></th>\n",
       "      <th>features</th>\n",
       "      <th>scores</th>\n",
       "      <th>rmse_scores</th>\n",
       "      <th>keyword_f</th>\n",
       "      <th>neural_f</th>\n",
       "      <th>only_query_f</th>\n",
       "    </tr>\n",
       "  </thead>\n",
       "  <tbody>\n",
       "    <tr>\n",
       "      <th>0</th>\n",
       "      <td>f_1_num_of_terms,f_2_query_length</td>\n",
       "      <td>-0.355622</td>\n",
       "      <td>0.392739</td>\n",
       "      <td>False</td>\n",
       "      <td>False</td>\n",
       "      <td>True</td>\n",
       "    </tr>\n",
       "    <tr>\n",
       "      <th>1</th>\n",
       "      <td>f_1_num_of_terms,f_2_query_length</td>\n",
       "      <td>-0.501152</td>\n",
       "      <td>0.422110</td>\n",
       "      <td>False</td>\n",
       "      <td>False</td>\n",
       "      <td>True</td>\n",
       "    </tr>\n",
       "    <tr>\n",
       "      <th>2</th>\n",
       "      <td>f_1_num_of_terms,f_2_query_length</td>\n",
       "      <td>-0.294621</td>\n",
       "      <td>0.318900</td>\n",
       "      <td>False</td>\n",
       "      <td>False</td>\n",
       "      <td>True</td>\n",
       "    </tr>\n",
       "    <tr>\n",
       "      <th>3</th>\n",
       "      <td>f_1_num_of_terms,f_2_query_length</td>\n",
       "      <td>-0.438284</td>\n",
       "      <td>0.365887</td>\n",
       "      <td>False</td>\n",
       "      <td>False</td>\n",
       "      <td>True</td>\n",
       "    </tr>\n",
       "    <tr>\n",
       "      <th>4</th>\n",
       "      <td>f_1_num_of_terms,f_2_query_length</td>\n",
       "      <td>-0.448687</td>\n",
       "      <td>0.400391</td>\n",
       "      <td>False</td>\n",
       "      <td>False</td>\n",
       "      <td>True</td>\n",
       "    </tr>\n",
       "    <tr>\n",
       "      <th>0</th>\n",
       "      <td>f_1_num_of_terms,f_3_has_numbers</td>\n",
       "      <td>0.079681</td>\n",
       "      <td>0.323597</td>\n",
       "      <td>False</td>\n",
       "      <td>False</td>\n",
       "      <td>True</td>\n",
       "    </tr>\n",
       "  </tbody>\n",
       "</table>\n",
       "</div>"
      ],
      "text/plain": [
       "                            features    scores  rmse_scores  keyword_f  \\\n",
       "0  f_1_num_of_terms,f_2_query_length -0.355622     0.392739      False   \n",
       "1  f_1_num_of_terms,f_2_query_length -0.501152     0.422110      False   \n",
       "2  f_1_num_of_terms,f_2_query_length -0.294621     0.318900      False   \n",
       "3  f_1_num_of_terms,f_2_query_length -0.438284     0.365887      False   \n",
       "4  f_1_num_of_terms,f_2_query_length -0.448687     0.400391      False   \n",
       "0   f_1_num_of_terms,f_3_has_numbers  0.079681     0.323597      False   \n",
       "\n",
       "   neural_f  only_query_f  \n",
       "0     False          True  \n",
       "1     False          True  \n",
       "2     False          True  \n",
       "3     False          True  \n",
       "4     False          True  \n",
       "0     False          True  "
      ]
     },
     "execution_count": 29,
     "metadata": {},
     "output_type": "execute_result"
    }
   ],
   "source": [
    "df_metrics.head(6)"
   ]
  },
  {
   "cell_type": "code",
   "execution_count": 30,
   "id": "3576e67e-5824-44d2-b48d-6232463f3289",
   "metadata": {},
   "outputs": [],
   "source": [
    "df_agg_metrics = df_metrics.groupby(by=['features', 'keyword_f', 'neural_f', 'only_query_f']).agg({\n",
    "    'rmse_scores': ['mean', 'var']\n",
    "}).reset_index()"
   ]
  },
  {
   "cell_type": "code",
   "execution_count": 31,
   "id": "f78e5008-4008-430e-b679-2a41040c847a",
   "metadata": {},
   "outputs": [],
   "source": [
    "df_agg_metrics.columns = ['features', 'keyword_f', 'neural_f', 'only_query_f', 'mean_rmse', 'var_rmse']"
   ]
  },
  {
   "cell_type": "code",
   "execution_count": 32,
   "id": "75e8aa52-080e-4097-a1c1-f3bf5ebee9a9",
   "metadata": {},
   "outputs": [
    {
     "data": {
      "text/html": [
       "<div>\n",
       "<style scoped>\n",
       "    .dataframe tbody tr th:only-of-type {\n",
       "        vertical-align: middle;\n",
       "    }\n",
       "\n",
       "    .dataframe tbody tr th {\n",
       "        vertical-align: top;\n",
       "    }\n",
       "\n",
       "    .dataframe thead th {\n",
       "        text-align: right;\n",
       "    }\n",
       "</style>\n",
       "<table border=\"1\" class=\"dataframe\">\n",
       "  <thead>\n",
       "    <tr style=\"text-align: right;\">\n",
       "      <th></th>\n",
       "      <th>features</th>\n",
       "      <th>keyword_f</th>\n",
       "      <th>neural_f</th>\n",
       "      <th>only_query_f</th>\n",
       "      <th>mean_rmse</th>\n",
       "      <th>var_rmse</th>\n",
       "    </tr>\n",
       "  </thead>\n",
       "  <tbody>\n",
       "    <tr>\n",
       "      <th>0</th>\n",
       "      <td>f_1_num_of_terms,f_2_query_length</td>\n",
       "      <td>False</td>\n",
       "      <td>False</td>\n",
       "      <td>True</td>\n",
       "      <td>0.380005</td>\n",
       "      <td>0.001571</td>\n",
       "    </tr>\n",
       "    <tr>\n",
       "      <th>1</th>\n",
       "      <td>f_1_num_of_terms,f_2_query_length,f_3_has_numbers</td>\n",
       "      <td>False</td>\n",
       "      <td>False</td>\n",
       "      <td>True</td>\n",
       "      <td>0.383656</td>\n",
       "      <td>0.001097</td>\n",
       "    </tr>\n",
       "    <tr>\n",
       "      <th>2</th>\n",
       "      <td>f_1_num_of_terms,f_2_query_length,f_3_has_numb...</td>\n",
       "      <td>False</td>\n",
       "      <td>False</td>\n",
       "      <td>True</td>\n",
       "      <td>0.382023</td>\n",
       "      <td>0.001330</td>\n",
       "    </tr>\n",
       "    <tr>\n",
       "      <th>3</th>\n",
       "      <td>f_1_num_of_terms,f_2_query_length,f_3_has_numb...</td>\n",
       "      <td>True</td>\n",
       "      <td>False</td>\n",
       "      <td>False</td>\n",
       "      <td>0.355840</td>\n",
       "      <td>0.000653</td>\n",
       "    </tr>\n",
       "    <tr>\n",
       "      <th>4</th>\n",
       "      <td>f_1_num_of_terms,f_2_query_length,f_3_has_numb...</td>\n",
       "      <td>True</td>\n",
       "      <td>False</td>\n",
       "      <td>False</td>\n",
       "      <td>0.356085</td>\n",
       "      <td>0.001390</td>\n",
       "    </tr>\n",
       "  </tbody>\n",
       "</table>\n",
       "</div>"
      ],
      "text/plain": [
       "                                            features  keyword_f  neural_f  \\\n",
       "0                  f_1_num_of_terms,f_2_query_length      False     False   \n",
       "1  f_1_num_of_terms,f_2_query_length,f_3_has_numbers      False     False   \n",
       "2  f_1_num_of_terms,f_2_query_length,f_3_has_numb...      False     False   \n",
       "3  f_1_num_of_terms,f_2_query_length,f_3_has_numb...       True     False   \n",
       "4  f_1_num_of_terms,f_2_query_length,f_3_has_numb...       True     False   \n",
       "\n",
       "   only_query_f  mean_rmse  var_rmse  \n",
       "0          True   0.380005  0.001571  \n",
       "1          True   0.383656  0.001097  \n",
       "2          True   0.382023  0.001330  \n",
       "3         False   0.355840  0.000653  \n",
       "4         False   0.356085  0.001390  "
      ]
     },
     "execution_count": 32,
     "metadata": {},
     "output_type": "execute_result"
    }
   ],
   "source": [
    "df_agg_metrics.head(5)"
   ]
  },
  {
   "cell_type": "code",
   "execution_count": 33,
   "id": "23ae382f-b112-4f8c-ba64-8f996c6ef6bd",
   "metadata": {},
   "outputs": [
    {
     "data": {
      "application/vnd.plotly.v1+json": {
       "config": {
        "plotlyServerURL": "https://plot.ly"
       },
       "data": [
        {
         "alignmentgroup": "True",
         "hovertemplate": "x=%{x}<br>y=%{y}<extra></extra>",
         "legendgroup": "",
         "marker": {
          "color": "#636efa"
         },
         "name": "",
         "notched": false,
         "offsetgroup": "",
         "orientation": "v",
         "showlegend": false,
         "type": "box",
         "x": [
          "f_1_num_of_terms,f_2_query_length",
          "f_1_num_of_terms,f_2_query_length",
          "f_1_num_of_terms,f_2_query_length",
          "f_1_num_of_terms,f_2_query_length",
          "f_1_num_of_terms,f_2_query_length",
          "f_1_num_of_terms,f_2_query_length,f_3_has_numbers",
          "f_1_num_of_terms,f_2_query_length,f_3_has_numbers",
          "f_1_num_of_terms,f_2_query_length,f_3_has_numbers",
          "f_1_num_of_terms,f_2_query_length,f_3_has_numbers",
          "f_1_num_of_terms,f_2_query_length,f_3_has_numbers",
          "f_1_num_of_terms,f_2_query_length,f_3_has_numbers,f_4_has_special_char",
          "f_1_num_of_terms,f_2_query_length,f_3_has_numbers,f_4_has_special_char",
          "f_1_num_of_terms,f_2_query_length,f_3_has_numbers,f_4_has_special_char",
          "f_1_num_of_terms,f_2_query_length,f_3_has_numbers,f_4_has_special_char",
          "f_1_num_of_terms,f_2_query_length,f_3_has_numbers,f_4_has_special_char",
          "f_1_num_of_terms,f_2_query_length,f_3_has_numbers,f_4_has_special_char,f_5_num_results",
          "f_1_num_of_terms,f_2_query_length,f_3_has_numbers,f_4_has_special_char,f_5_num_results",
          "f_1_num_of_terms,f_2_query_length,f_3_has_numbers,f_4_has_special_char,f_5_num_results",
          "f_1_num_of_terms,f_2_query_length,f_3_has_numbers,f_4_has_special_char,f_5_num_results",
          "f_1_num_of_terms,f_2_query_length,f_3_has_numbers,f_4_has_special_char,f_5_num_results",
          "f_1_num_of_terms,f_2_query_length,f_3_has_numbers,f_4_has_special_char,f_5_num_results,f_6_max_title_score",
          "f_1_num_of_terms,f_2_query_length,f_3_has_numbers,f_4_has_special_char,f_5_num_results,f_6_max_title_score",
          "f_1_num_of_terms,f_2_query_length,f_3_has_numbers,f_4_has_special_char,f_5_num_results,f_6_max_title_score",
          "f_1_num_of_terms,f_2_query_length,f_3_has_numbers,f_4_has_special_char,f_5_num_results,f_6_max_title_score",
          "f_1_num_of_terms,f_2_query_length,f_3_has_numbers,f_4_has_special_char,f_5_num_results,f_6_max_title_score",
          "f_1_num_of_terms,f_2_query_length,f_3_has_numbers,f_4_has_special_char,f_5_num_results,f_6_max_title_score,f_7_sum_title_scores",
          "f_1_num_of_terms,f_2_query_length,f_3_has_numbers,f_4_has_special_char,f_5_num_results,f_6_max_title_score,f_7_sum_title_scores",
          "f_1_num_of_terms,f_2_query_length,f_3_has_numbers,f_4_has_special_char,f_5_num_results,f_6_max_title_score,f_7_sum_title_scores",
          "f_1_num_of_terms,f_2_query_length,f_3_has_numbers,f_4_has_special_char,f_5_num_results,f_6_max_title_score,f_7_sum_title_scores",
          "f_1_num_of_terms,f_2_query_length,f_3_has_numbers,f_4_has_special_char,f_5_num_results,f_6_max_title_score,f_7_sum_title_scores",
          "f_1_num_of_terms,f_2_query_length,f_3_has_numbers,f_4_has_special_char,f_5_num_results,f_6_max_title_score,f_8_max_semantic_score",
          "f_1_num_of_terms,f_2_query_length,f_3_has_numbers,f_4_has_special_char,f_5_num_results,f_6_max_title_score,f_8_max_semantic_score",
          "f_1_num_of_terms,f_2_query_length,f_3_has_numbers,f_4_has_special_char,f_5_num_results,f_6_max_title_score,f_8_max_semantic_score",
          "f_1_num_of_terms,f_2_query_length,f_3_has_numbers,f_4_has_special_char,f_5_num_results,f_6_max_title_score,f_8_max_semantic_score",
          "f_1_num_of_terms,f_2_query_length,f_3_has_numbers,f_4_has_special_char,f_5_num_results,f_6_max_title_score,f_8_max_semantic_score",
          "f_1_num_of_terms,f_2_query_length,f_3_has_numbers,f_4_has_special_char,f_5_num_results,f_6_max_title_score,f_7_sum_title_scores,f_8_max_semantic_score",
          "f_1_num_of_terms,f_2_query_length,f_3_has_numbers,f_4_has_special_char,f_5_num_results,f_6_max_title_score,f_7_sum_title_scores,f_8_max_semantic_score",
          "f_1_num_of_terms,f_2_query_length,f_3_has_numbers,f_4_has_special_char,f_5_num_results,f_6_max_title_score,f_7_sum_title_scores,f_8_max_semantic_score",
          "f_1_num_of_terms,f_2_query_length,f_3_has_numbers,f_4_has_special_char,f_5_num_results,f_6_max_title_score,f_7_sum_title_scores,f_8_max_semantic_score",
          "f_1_num_of_terms,f_2_query_length,f_3_has_numbers,f_4_has_special_char,f_5_num_results,f_6_max_title_score,f_7_sum_title_scores,f_8_max_semantic_score",
          "f_1_num_of_terms,f_2_query_length,f_3_has_numbers,f_4_has_special_char,f_5_num_results,f_6_max_title_score,f_7_sum_title_scores,f_9_avg_semantic_score",
          "f_1_num_of_terms,f_2_query_length,f_3_has_numbers,f_4_has_special_char,f_5_num_results,f_6_max_title_score,f_7_sum_title_scores,f_9_avg_semantic_score",
          "f_1_num_of_terms,f_2_query_length,f_3_has_numbers,f_4_has_special_char,f_5_num_results,f_6_max_title_score,f_7_sum_title_scores,f_9_avg_semantic_score",
          "f_1_num_of_terms,f_2_query_length,f_3_has_numbers,f_4_has_special_char,f_5_num_results,f_6_max_title_score,f_7_sum_title_scores,f_9_avg_semantic_score",
          "f_1_num_of_terms,f_2_query_length,f_3_has_numbers,f_4_has_special_char,f_5_num_results,f_6_max_title_score,f_7_sum_title_scores,f_9_avg_semantic_score",
          "f_1_num_of_terms,f_2_query_length,f_3_has_numbers,f_4_has_special_char,f_5_num_results,f_6_max_title_score,f_7_sum_title_scores,f_8_max_semantic_score,f_9_avg_semantic_score",
          "f_1_num_of_terms,f_2_query_length,f_3_has_numbers,f_4_has_special_char,f_5_num_results,f_6_max_title_score,f_7_sum_title_scores,f_8_max_semantic_score,f_9_avg_semantic_score",
          "f_1_num_of_terms,f_2_query_length,f_3_has_numbers,f_4_has_special_char,f_5_num_results,f_6_max_title_score,f_7_sum_title_scores,f_8_max_semantic_score,f_9_avg_semantic_score",
          "f_1_num_of_terms,f_2_query_length,f_3_has_numbers,f_4_has_special_char,f_5_num_results,f_6_max_title_score,f_7_sum_title_scores,f_8_max_semantic_score,f_9_avg_semantic_score",
          "f_1_num_of_terms,f_2_query_length,f_3_has_numbers,f_4_has_special_char,f_5_num_results,f_6_max_title_score,f_7_sum_title_scores,f_8_max_semantic_score,f_9_avg_semantic_score"
         ],
         "x0": " ",
         "xaxis": "x",
         "y": [
          0.3927391183427658,
          0.42210963368643306,
          0.31890010574160654,
          0.36588702974754306,
          0.4003914768384719,
          0.3885422712699825,
          0.4272316273550865,
          0.34452576707807786,
          0.3578906448557427,
          0.40009195125595115,
          0.3896946287189018,
          0.4296131467162386,
          0.339386128878954,
          0.3522862472360269,
          0.39913662665925126,
          0.37408379975525824,
          0.3722640732724999,
          0.3120898408703485,
          0.3551271568044326,
          0.3656350933870849,
          0.40022748562465466,
          0.377965869409483,
          0.30130397173762763,
          0.3446171212044938,
          0.35631029837936123,
          0.3980704847967458,
          0.37735711558149887,
          0.29864458961965296,
          0.36196529093745217,
          0.357060699749362,
          0.3965550517783239,
          0.39285085650224244,
          0.2756285791356978,
          0.3365869129957373,
          0.33620708580494635,
          0.3918708043127573,
          0.3970100754388987,
          0.2777137178659151,
          0.346999279538157,
          0.33362301806352956,
          0.35772624754387006,
          0.335889152440612,
          0.28876630217656507,
          0.34145457570916704,
          0.32106286555184743,
          0.37280051941048487,
          0.3722260127200336,
          0.2886807374623708,
          0.3301782232233209,
          0.33231748237327075
         ],
         "y0": " ",
         "yaxis": "y"
        }
       ],
       "layout": {
        "boxmode": "group",
        "height": 800,
        "legend": {
         "tracegroupgap": 0
        },
        "template": {
         "data": {
          "bar": [
           {
            "error_x": {
             "color": "#2a3f5f"
            },
            "error_y": {
             "color": "#2a3f5f"
            },
            "marker": {
             "line": {
              "color": "#E5ECF6",
              "width": 0.5
             },
             "pattern": {
              "fillmode": "overlay",
              "size": 10,
              "solidity": 0.2
             }
            },
            "type": "bar"
           }
          ],
          "barpolar": [
           {
            "marker": {
             "line": {
              "color": "#E5ECF6",
              "width": 0.5
             },
             "pattern": {
              "fillmode": "overlay",
              "size": 10,
              "solidity": 0.2
             }
            },
            "type": "barpolar"
           }
          ],
          "carpet": [
           {
            "aaxis": {
             "endlinecolor": "#2a3f5f",
             "gridcolor": "white",
             "linecolor": "white",
             "minorgridcolor": "white",
             "startlinecolor": "#2a3f5f"
            },
            "baxis": {
             "endlinecolor": "#2a3f5f",
             "gridcolor": "white",
             "linecolor": "white",
             "minorgridcolor": "white",
             "startlinecolor": "#2a3f5f"
            },
            "type": "carpet"
           }
          ],
          "choropleth": [
           {
            "colorbar": {
             "outlinewidth": 0,
             "ticks": ""
            },
            "type": "choropleth"
           }
          ],
          "contour": [
           {
            "colorbar": {
             "outlinewidth": 0,
             "ticks": ""
            },
            "colorscale": [
             [
              0,
              "#0d0887"
             ],
             [
              0.1111111111111111,
              "#46039f"
             ],
             [
              0.2222222222222222,
              "#7201a8"
             ],
             [
              0.3333333333333333,
              "#9c179e"
             ],
             [
              0.4444444444444444,
              "#bd3786"
             ],
             [
              0.5555555555555556,
              "#d8576b"
             ],
             [
              0.6666666666666666,
              "#ed7953"
             ],
             [
              0.7777777777777778,
              "#fb9f3a"
             ],
             [
              0.8888888888888888,
              "#fdca26"
             ],
             [
              1,
              "#f0f921"
             ]
            ],
            "type": "contour"
           }
          ],
          "contourcarpet": [
           {
            "colorbar": {
             "outlinewidth": 0,
             "ticks": ""
            },
            "type": "contourcarpet"
           }
          ],
          "heatmap": [
           {
            "colorbar": {
             "outlinewidth": 0,
             "ticks": ""
            },
            "colorscale": [
             [
              0,
              "#0d0887"
             ],
             [
              0.1111111111111111,
              "#46039f"
             ],
             [
              0.2222222222222222,
              "#7201a8"
             ],
             [
              0.3333333333333333,
              "#9c179e"
             ],
             [
              0.4444444444444444,
              "#bd3786"
             ],
             [
              0.5555555555555556,
              "#d8576b"
             ],
             [
              0.6666666666666666,
              "#ed7953"
             ],
             [
              0.7777777777777778,
              "#fb9f3a"
             ],
             [
              0.8888888888888888,
              "#fdca26"
             ],
             [
              1,
              "#f0f921"
             ]
            ],
            "type": "heatmap"
           }
          ],
          "heatmapgl": [
           {
            "colorbar": {
             "outlinewidth": 0,
             "ticks": ""
            },
            "colorscale": [
             [
              0,
              "#0d0887"
             ],
             [
              0.1111111111111111,
              "#46039f"
             ],
             [
              0.2222222222222222,
              "#7201a8"
             ],
             [
              0.3333333333333333,
              "#9c179e"
             ],
             [
              0.4444444444444444,
              "#bd3786"
             ],
             [
              0.5555555555555556,
              "#d8576b"
             ],
             [
              0.6666666666666666,
              "#ed7953"
             ],
             [
              0.7777777777777778,
              "#fb9f3a"
             ],
             [
              0.8888888888888888,
              "#fdca26"
             ],
             [
              1,
              "#f0f921"
             ]
            ],
            "type": "heatmapgl"
           }
          ],
          "histogram": [
           {
            "marker": {
             "pattern": {
              "fillmode": "overlay",
              "size": 10,
              "solidity": 0.2
             }
            },
            "type": "histogram"
           }
          ],
          "histogram2d": [
           {
            "colorbar": {
             "outlinewidth": 0,
             "ticks": ""
            },
            "colorscale": [
             [
              0,
              "#0d0887"
             ],
             [
              0.1111111111111111,
              "#46039f"
             ],
             [
              0.2222222222222222,
              "#7201a8"
             ],
             [
              0.3333333333333333,
              "#9c179e"
             ],
             [
              0.4444444444444444,
              "#bd3786"
             ],
             [
              0.5555555555555556,
              "#d8576b"
             ],
             [
              0.6666666666666666,
              "#ed7953"
             ],
             [
              0.7777777777777778,
              "#fb9f3a"
             ],
             [
              0.8888888888888888,
              "#fdca26"
             ],
             [
              1,
              "#f0f921"
             ]
            ],
            "type": "histogram2d"
           }
          ],
          "histogram2dcontour": [
           {
            "colorbar": {
             "outlinewidth": 0,
             "ticks": ""
            },
            "colorscale": [
             [
              0,
              "#0d0887"
             ],
             [
              0.1111111111111111,
              "#46039f"
             ],
             [
              0.2222222222222222,
              "#7201a8"
             ],
             [
              0.3333333333333333,
              "#9c179e"
             ],
             [
              0.4444444444444444,
              "#bd3786"
             ],
             [
              0.5555555555555556,
              "#d8576b"
             ],
             [
              0.6666666666666666,
              "#ed7953"
             ],
             [
              0.7777777777777778,
              "#fb9f3a"
             ],
             [
              0.8888888888888888,
              "#fdca26"
             ],
             [
              1,
              "#f0f921"
             ]
            ],
            "type": "histogram2dcontour"
           }
          ],
          "mesh3d": [
           {
            "colorbar": {
             "outlinewidth": 0,
             "ticks": ""
            },
            "type": "mesh3d"
           }
          ],
          "parcoords": [
           {
            "line": {
             "colorbar": {
              "outlinewidth": 0,
              "ticks": ""
             }
            },
            "type": "parcoords"
           }
          ],
          "pie": [
           {
            "automargin": true,
            "type": "pie"
           }
          ],
          "scatter": [
           {
            "fillpattern": {
             "fillmode": "overlay",
             "size": 10,
             "solidity": 0.2
            },
            "type": "scatter"
           }
          ],
          "scatter3d": [
           {
            "line": {
             "colorbar": {
              "outlinewidth": 0,
              "ticks": ""
             }
            },
            "marker": {
             "colorbar": {
              "outlinewidth": 0,
              "ticks": ""
             }
            },
            "type": "scatter3d"
           }
          ],
          "scattercarpet": [
           {
            "marker": {
             "colorbar": {
              "outlinewidth": 0,
              "ticks": ""
             }
            },
            "type": "scattercarpet"
           }
          ],
          "scattergeo": [
           {
            "marker": {
             "colorbar": {
              "outlinewidth": 0,
              "ticks": ""
             }
            },
            "type": "scattergeo"
           }
          ],
          "scattergl": [
           {
            "marker": {
             "colorbar": {
              "outlinewidth": 0,
              "ticks": ""
             }
            },
            "type": "scattergl"
           }
          ],
          "scattermapbox": [
           {
            "marker": {
             "colorbar": {
              "outlinewidth": 0,
              "ticks": ""
             }
            },
            "type": "scattermapbox"
           }
          ],
          "scatterpolar": [
           {
            "marker": {
             "colorbar": {
              "outlinewidth": 0,
              "ticks": ""
             }
            },
            "type": "scatterpolar"
           }
          ],
          "scatterpolargl": [
           {
            "marker": {
             "colorbar": {
              "outlinewidth": 0,
              "ticks": ""
             }
            },
            "type": "scatterpolargl"
           }
          ],
          "scatterternary": [
           {
            "marker": {
             "colorbar": {
              "outlinewidth": 0,
              "ticks": ""
             }
            },
            "type": "scatterternary"
           }
          ],
          "surface": [
           {
            "colorbar": {
             "outlinewidth": 0,
             "ticks": ""
            },
            "colorscale": [
             [
              0,
              "#0d0887"
             ],
             [
              0.1111111111111111,
              "#46039f"
             ],
             [
              0.2222222222222222,
              "#7201a8"
             ],
             [
              0.3333333333333333,
              "#9c179e"
             ],
             [
              0.4444444444444444,
              "#bd3786"
             ],
             [
              0.5555555555555556,
              "#d8576b"
             ],
             [
              0.6666666666666666,
              "#ed7953"
             ],
             [
              0.7777777777777778,
              "#fb9f3a"
             ],
             [
              0.8888888888888888,
              "#fdca26"
             ],
             [
              1,
              "#f0f921"
             ]
            ],
            "type": "surface"
           }
          ],
          "table": [
           {
            "cells": {
             "fill": {
              "color": "#EBF0F8"
             },
             "line": {
              "color": "white"
             }
            },
            "header": {
             "fill": {
              "color": "#C8D4E3"
             },
             "line": {
              "color": "white"
             }
            },
            "type": "table"
           }
          ]
         },
         "layout": {
          "annotationdefaults": {
           "arrowcolor": "#2a3f5f",
           "arrowhead": 0,
           "arrowwidth": 1
          },
          "autotypenumbers": "strict",
          "coloraxis": {
           "colorbar": {
            "outlinewidth": 0,
            "ticks": ""
           }
          },
          "colorscale": {
           "diverging": [
            [
             0,
             "#8e0152"
            ],
            [
             0.1,
             "#c51b7d"
            ],
            [
             0.2,
             "#de77ae"
            ],
            [
             0.3,
             "#f1b6da"
            ],
            [
             0.4,
             "#fde0ef"
            ],
            [
             0.5,
             "#f7f7f7"
            ],
            [
             0.6,
             "#e6f5d0"
            ],
            [
             0.7,
             "#b8e186"
            ],
            [
             0.8,
             "#7fbc41"
            ],
            [
             0.9,
             "#4d9221"
            ],
            [
             1,
             "#276419"
            ]
           ],
           "sequential": [
            [
             0,
             "#0d0887"
            ],
            [
             0.1111111111111111,
             "#46039f"
            ],
            [
             0.2222222222222222,
             "#7201a8"
            ],
            [
             0.3333333333333333,
             "#9c179e"
            ],
            [
             0.4444444444444444,
             "#bd3786"
            ],
            [
             0.5555555555555556,
             "#d8576b"
            ],
            [
             0.6666666666666666,
             "#ed7953"
            ],
            [
             0.7777777777777778,
             "#fb9f3a"
            ],
            [
             0.8888888888888888,
             "#fdca26"
            ],
            [
             1,
             "#f0f921"
            ]
           ],
           "sequentialminus": [
            [
             0,
             "#0d0887"
            ],
            [
             0.1111111111111111,
             "#46039f"
            ],
            [
             0.2222222222222222,
             "#7201a8"
            ],
            [
             0.3333333333333333,
             "#9c179e"
            ],
            [
             0.4444444444444444,
             "#bd3786"
            ],
            [
             0.5555555555555556,
             "#d8576b"
            ],
            [
             0.6666666666666666,
             "#ed7953"
            ],
            [
             0.7777777777777778,
             "#fb9f3a"
            ],
            [
             0.8888888888888888,
             "#fdca26"
            ],
            [
             1,
             "#f0f921"
            ]
           ]
          },
          "colorway": [
           "#636efa",
           "#EF553B",
           "#00cc96",
           "#ab63fa",
           "#FFA15A",
           "#19d3f3",
           "#FF6692",
           "#B6E880",
           "#FF97FF",
           "#FECB52"
          ],
          "font": {
           "color": "#2a3f5f"
          },
          "geo": {
           "bgcolor": "white",
           "lakecolor": "white",
           "landcolor": "#E5ECF6",
           "showlakes": true,
           "showland": true,
           "subunitcolor": "white"
          },
          "hoverlabel": {
           "align": "left"
          },
          "hovermode": "closest",
          "mapbox": {
           "style": "light"
          },
          "paper_bgcolor": "white",
          "plot_bgcolor": "#E5ECF6",
          "polar": {
           "angularaxis": {
            "gridcolor": "white",
            "linecolor": "white",
            "ticks": ""
           },
           "bgcolor": "#E5ECF6",
           "radialaxis": {
            "gridcolor": "white",
            "linecolor": "white",
            "ticks": ""
           }
          },
          "scene": {
           "xaxis": {
            "backgroundcolor": "#E5ECF6",
            "gridcolor": "white",
            "gridwidth": 2,
            "linecolor": "white",
            "showbackground": true,
            "ticks": "",
            "zerolinecolor": "white"
           },
           "yaxis": {
            "backgroundcolor": "#E5ECF6",
            "gridcolor": "white",
            "gridwidth": 2,
            "linecolor": "white",
            "showbackground": true,
            "ticks": "",
            "zerolinecolor": "white"
           },
           "zaxis": {
            "backgroundcolor": "#E5ECF6",
            "gridcolor": "white",
            "gridwidth": 2,
            "linecolor": "white",
            "showbackground": true,
            "ticks": "",
            "zerolinecolor": "white"
           }
          },
          "shapedefaults": {
           "line": {
            "color": "#2a3f5f"
           }
          },
          "ternary": {
           "aaxis": {
            "gridcolor": "white",
            "linecolor": "white",
            "ticks": ""
           },
           "baxis": {
            "gridcolor": "white",
            "linecolor": "white",
            "ticks": ""
           },
           "bgcolor": "#E5ECF6",
           "caxis": {
            "gridcolor": "white",
            "linecolor": "white",
            "ticks": ""
           }
          },
          "title": {
           "x": 0.05
          },
          "xaxis": {
           "automargin": true,
           "gridcolor": "white",
           "linecolor": "white",
           "ticks": "",
           "title": {
            "standoff": 15
           },
           "zerolinecolor": "white",
           "zerolinewidth": 2
          },
          "yaxis": {
           "automargin": true,
           "gridcolor": "white",
           "linecolor": "white",
           "ticks": "",
           "title": {
            "standoff": 15
           },
           "zerolinecolor": "white",
           "zerolinewidth": 2
          }
         }
        },
        "title": {
         "text": "Top 10 Feature Combinations"
        },
        "width": 1100,
        "xaxis": {
         "anchor": "y",
         "autorange": true,
         "domain": [
          0,
          1
         ],
         "range": [
          -0.5,
          9.5
         ],
         "showticklabels": false,
         "title": {
          "text": "feature combinations"
         },
         "type": "category"
        },
        "yaxis": {
         "anchor": "x",
         "autorange": true,
         "domain": [
          0,
          1
         ],
         "range": [
          0.2670738809367789,
          0.43816784491515753
         ],
         "title": {
          "text": "rmse scores"
         },
         "type": "linear"
        }
       }
      }
     },
     "metadata": {},
     "output_type": "display_data"
    }
   ],
   "source": [
    "pio.renderers.default = 'plotly_mimetype'\n",
    "x = df_agg_metrics['features'].head(10)\n",
    "\n",
    "fig = px.box(df_metrics, x=df_metrics[df_metrics['features'].isin(x)]['features'],\n",
    "             y=df_metrics[df_metrics['features'].isin(x)]['rmse_scores'], title='RMSE Boxplot of Top 10 Feature Combinations')\n",
    "fig.update_layout(height=800, width=1100,\n",
    "                  title_text=\"Top 10 Feature Combinations\",\n",
    "                  xaxis_title=\"feature combinations\", yaxis_title=\"rmse scores\")\n",
    "fig.update_xaxes(showticklabels=False)\n",
    "fig.show()"
   ]
  },
  {
   "cell_type": "code",
   "execution_count": 34,
   "id": "81fcb177-f852-4ea5-98cb-e79b53a9f65c",
   "metadata": {},
   "outputs": [
    {
     "data": {
      "text/html": [
       "<div>\n",
       "<style scoped>\n",
       "    .dataframe tbody tr th:only-of-type {\n",
       "        vertical-align: middle;\n",
       "    }\n",
       "\n",
       "    .dataframe tbody tr th {\n",
       "        vertical-align: top;\n",
       "    }\n",
       "\n",
       "    .dataframe thead th {\n",
       "        text-align: right;\n",
       "    }\n",
       "</style>\n",
       "<table border=\"1\" class=\"dataframe\">\n",
       "  <thead>\n",
       "    <tr style=\"text-align: right;\">\n",
       "      <th></th>\n",
       "      <th>features</th>\n",
       "      <th>keyword_f</th>\n",
       "      <th>neural_f</th>\n",
       "      <th>only_query_f</th>\n",
       "      <th>mean_rmse</th>\n",
       "      <th>var_rmse</th>\n",
       "    </tr>\n",
       "  </thead>\n",
       "  <tbody>\n",
       "    <tr>\n",
       "      <th>109</th>\n",
       "      <td>f_1_num_of_terms,f_2_query_length,f_5_num_resu...</td>\n",
       "      <td>True</td>\n",
       "      <td>True</td>\n",
       "      <td>False</td>\n",
       "      <td>0.322681</td>\n",
       "      <td>0.000902</td>\n",
       "    </tr>\n",
       "    <tr>\n",
       "      <th>363</th>\n",
       "      <td>f_2_query_length,f_5_num_results,f_7_sum_title...</td>\n",
       "      <td>True</td>\n",
       "      <td>True</td>\n",
       "      <td>False</td>\n",
       "      <td>0.322931</td>\n",
       "      <td>0.000864</td>\n",
       "    </tr>\n",
       "    <tr>\n",
       "      <th>78</th>\n",
       "      <td>f_1_num_of_terms,f_2_query_length,f_4_has_spec...</td>\n",
       "      <td>True</td>\n",
       "      <td>True</td>\n",
       "      <td>False</td>\n",
       "      <td>0.324241</td>\n",
       "      <td>0.001113</td>\n",
       "    </tr>\n",
       "    <tr>\n",
       "      <th>15</th>\n",
       "      <td>f_1_num_of_terms,f_2_query_length,f_3_has_numb...</td>\n",
       "      <td>True</td>\n",
       "      <td>True</td>\n",
       "      <td>False</td>\n",
       "      <td>0.324400</td>\n",
       "      <td>0.000893</td>\n",
       "    </tr>\n",
       "    <tr>\n",
       "      <th>332</th>\n",
       "      <td>f_2_query_length,f_4_has_special_char,f_5_num_...</td>\n",
       "      <td>True</td>\n",
       "      <td>True</td>\n",
       "      <td>False</td>\n",
       "      <td>0.324495</td>\n",
       "      <td>0.001120</td>\n",
       "    </tr>\n",
       "  </tbody>\n",
       "</table>\n",
       "</div>"
      ],
      "text/plain": [
       "                                              features  keyword_f  neural_f  \\\n",
       "109  f_1_num_of_terms,f_2_query_length,f_5_num_resu...       True      True   \n",
       "363  f_2_query_length,f_5_num_results,f_7_sum_title...       True      True   \n",
       "78   f_1_num_of_terms,f_2_query_length,f_4_has_spec...       True      True   \n",
       "15   f_1_num_of_terms,f_2_query_length,f_3_has_numb...       True      True   \n",
       "332  f_2_query_length,f_4_has_special_char,f_5_num_...       True      True   \n",
       "\n",
       "     only_query_f  mean_rmse  var_rmse  \n",
       "109         False   0.322681  0.000902  \n",
       "363         False   0.322931  0.000864  \n",
       "78          False   0.324241  0.001113  \n",
       "15          False   0.324400  0.000893  \n",
       "332         False   0.324495  0.001120  "
      ]
     },
     "execution_count": 34,
     "metadata": {},
     "output_type": "execute_result"
    }
   ],
   "source": [
    "df_agg_metrics.sort_values(by=['mean_rmse']).head(5)"
   ]
  },
  {
   "cell_type": "code",
   "execution_count": 35,
   "id": "c0db91f3-6e18-402b-be62-a89601bddcb5",
   "metadata": {},
   "outputs": [
    {
     "data": {
      "text/html": [
       "<div>\n",
       "<style scoped>\n",
       "    .dataframe tbody tr th:only-of-type {\n",
       "        vertical-align: middle;\n",
       "    }\n",
       "\n",
       "    .dataframe tbody tr th {\n",
       "        vertical-align: top;\n",
       "    }\n",
       "\n",
       "    .dataframe thead th {\n",
       "        text-align: right;\n",
       "    }\n",
       "</style>\n",
       "<table border=\"1\" class=\"dataframe\">\n",
       "  <thead>\n",
       "    <tr style=\"text-align: right;\">\n",
       "      <th></th>\n",
       "      <th>features</th>\n",
       "      <th>keyword_f</th>\n",
       "      <th>neural_f</th>\n",
       "      <th>only_query_f</th>\n",
       "      <th>mean_rmse</th>\n",
       "      <th>var_rmse</th>\n",
       "    </tr>\n",
       "  </thead>\n",
       "  <tbody>\n",
       "    <tr>\n",
       "      <th>192</th>\n",
       "      <td>f_1_num_of_terms,f_4_has_special_char</td>\n",
       "      <td>False</td>\n",
       "      <td>False</td>\n",
       "      <td>True</td>\n",
       "      <td>0.325874</td>\n",
       "      <td>0.000832</td>\n",
       "    </tr>\n",
       "    <tr>\n",
       "      <th>128</th>\n",
       "      <td>f_1_num_of_terms,f_3_has_numbers</td>\n",
       "      <td>False</td>\n",
       "      <td>False</td>\n",
       "      <td>True</td>\n",
       "      <td>0.329272</td>\n",
       "      <td>0.000294</td>\n",
       "    </tr>\n",
       "    <tr>\n",
       "      <th>382</th>\n",
       "      <td>f_3_has_numbers,f_4_has_special_char</td>\n",
       "      <td>False</td>\n",
       "      <td>False</td>\n",
       "      <td>True</td>\n",
       "      <td>0.331776</td>\n",
       "      <td>0.000789</td>\n",
       "    </tr>\n",
       "    <tr>\n",
       "      <th>129</th>\n",
       "      <td>f_1_num_of_terms,f_3_has_numbers,f_4_has_speci...</td>\n",
       "      <td>False</td>\n",
       "      <td>False</td>\n",
       "      <td>True</td>\n",
       "      <td>0.332170</td>\n",
       "      <td>0.000388</td>\n",
       "    </tr>\n",
       "    <tr>\n",
       "      <th>319</th>\n",
       "      <td>f_2_query_length,f_4_has_special_char</td>\n",
       "      <td>False</td>\n",
       "      <td>False</td>\n",
       "      <td>True</td>\n",
       "      <td>0.348309</td>\n",
       "      <td>0.002437</td>\n",
       "    </tr>\n",
       "  </tbody>\n",
       "</table>\n",
       "</div>"
      ],
      "text/plain": [
       "                                              features  keyword_f  neural_f  \\\n",
       "192              f_1_num_of_terms,f_4_has_special_char      False     False   \n",
       "128                   f_1_num_of_terms,f_3_has_numbers      False     False   \n",
       "382               f_3_has_numbers,f_4_has_special_char      False     False   \n",
       "129  f_1_num_of_terms,f_3_has_numbers,f_4_has_speci...      False     False   \n",
       "319              f_2_query_length,f_4_has_special_char      False     False   \n",
       "\n",
       "     only_query_f  mean_rmse  var_rmse  \n",
       "192          True   0.325874  0.000832  \n",
       "128          True   0.329272  0.000294  \n",
       "382          True   0.331776  0.000789  \n",
       "129          True   0.332170  0.000388  \n",
       "319          True   0.348309  0.002437  "
      ]
     },
     "execution_count": 35,
     "metadata": {},
     "output_type": "execute_result"
    }
   ],
   "source": [
    "df_agg_metrics[df_agg_metrics['only_query_f'] == True].sort_values(by=['mean_rmse']).head(5)"
   ]
  },
  {
   "cell_type": "code",
   "execution_count": 36,
   "id": "d203741a-50a8-4ceb-bd3b-ede9ddd4f1b6",
   "metadata": {},
   "outputs": [
    {
     "data": {
      "application/vnd.plotly.v1+json": {
       "config": {
        "plotlyServerURL": "https://plot.ly"
       },
       "data": [
        {
         "alignmentgroup": "True",
         "hovertemplate": "mean_rmse=%{y}<extra></extra>",
         "legendgroup": "",
         "marker": {
          "color": "#636efa"
         },
         "name": "",
         "notched": false,
         "offsetgroup": "",
         "orientation": "v",
         "showlegend": false,
         "type": "box",
         "x0": " ",
         "xaxis": "x",
         "y": [
          0.32268146995299085,
          0.32293136621389407,
          0.32424148182279494,
          0.3244002019342493,
          0.32449506113560067,
          0.3247748359376488,
          0.32528588414934445,
          0.3253664832463203,
          0.32587391296691226,
          0.3265294683890335
         ],
         "y0": " ",
         "yaxis": "y"
        }
       ],
       "layout": {
        "autosize": true,
        "boxmode": "group",
        "legend": {
         "tracegroupgap": 0
        },
        "template": {
         "data": {
          "bar": [
           {
            "error_x": {
             "color": "#2a3f5f"
            },
            "error_y": {
             "color": "#2a3f5f"
            },
            "marker": {
             "line": {
              "color": "#E5ECF6",
              "width": 0.5
             },
             "pattern": {
              "fillmode": "overlay",
              "size": 10,
              "solidity": 0.2
             }
            },
            "type": "bar"
           }
          ],
          "barpolar": [
           {
            "marker": {
             "line": {
              "color": "#E5ECF6",
              "width": 0.5
             },
             "pattern": {
              "fillmode": "overlay",
              "size": 10,
              "solidity": 0.2
             }
            },
            "type": "barpolar"
           }
          ],
          "carpet": [
           {
            "aaxis": {
             "endlinecolor": "#2a3f5f",
             "gridcolor": "white",
             "linecolor": "white",
             "minorgridcolor": "white",
             "startlinecolor": "#2a3f5f"
            },
            "baxis": {
             "endlinecolor": "#2a3f5f",
             "gridcolor": "white",
             "linecolor": "white",
             "minorgridcolor": "white",
             "startlinecolor": "#2a3f5f"
            },
            "type": "carpet"
           }
          ],
          "choropleth": [
           {
            "colorbar": {
             "outlinewidth": 0,
             "ticks": ""
            },
            "type": "choropleth"
           }
          ],
          "contour": [
           {
            "colorbar": {
             "outlinewidth": 0,
             "ticks": ""
            },
            "colorscale": [
             [
              0,
              "#0d0887"
             ],
             [
              0.1111111111111111,
              "#46039f"
             ],
             [
              0.2222222222222222,
              "#7201a8"
             ],
             [
              0.3333333333333333,
              "#9c179e"
             ],
             [
              0.4444444444444444,
              "#bd3786"
             ],
             [
              0.5555555555555556,
              "#d8576b"
             ],
             [
              0.6666666666666666,
              "#ed7953"
             ],
             [
              0.7777777777777778,
              "#fb9f3a"
             ],
             [
              0.8888888888888888,
              "#fdca26"
             ],
             [
              1,
              "#f0f921"
             ]
            ],
            "type": "contour"
           }
          ],
          "contourcarpet": [
           {
            "colorbar": {
             "outlinewidth": 0,
             "ticks": ""
            },
            "type": "contourcarpet"
           }
          ],
          "heatmap": [
           {
            "colorbar": {
             "outlinewidth": 0,
             "ticks": ""
            },
            "colorscale": [
             [
              0,
              "#0d0887"
             ],
             [
              0.1111111111111111,
              "#46039f"
             ],
             [
              0.2222222222222222,
              "#7201a8"
             ],
             [
              0.3333333333333333,
              "#9c179e"
             ],
             [
              0.4444444444444444,
              "#bd3786"
             ],
             [
              0.5555555555555556,
              "#d8576b"
             ],
             [
              0.6666666666666666,
              "#ed7953"
             ],
             [
              0.7777777777777778,
              "#fb9f3a"
             ],
             [
              0.8888888888888888,
              "#fdca26"
             ],
             [
              1,
              "#f0f921"
             ]
            ],
            "type": "heatmap"
           }
          ],
          "heatmapgl": [
           {
            "colorbar": {
             "outlinewidth": 0,
             "ticks": ""
            },
            "colorscale": [
             [
              0,
              "#0d0887"
             ],
             [
              0.1111111111111111,
              "#46039f"
             ],
             [
              0.2222222222222222,
              "#7201a8"
             ],
             [
              0.3333333333333333,
              "#9c179e"
             ],
             [
              0.4444444444444444,
              "#bd3786"
             ],
             [
              0.5555555555555556,
              "#d8576b"
             ],
             [
              0.6666666666666666,
              "#ed7953"
             ],
             [
              0.7777777777777778,
              "#fb9f3a"
             ],
             [
              0.8888888888888888,
              "#fdca26"
             ],
             [
              1,
              "#f0f921"
             ]
            ],
            "type": "heatmapgl"
           }
          ],
          "histogram": [
           {
            "marker": {
             "pattern": {
              "fillmode": "overlay",
              "size": 10,
              "solidity": 0.2
             }
            },
            "type": "histogram"
           }
          ],
          "histogram2d": [
           {
            "colorbar": {
             "outlinewidth": 0,
             "ticks": ""
            },
            "colorscale": [
             [
              0,
              "#0d0887"
             ],
             [
              0.1111111111111111,
              "#46039f"
             ],
             [
              0.2222222222222222,
              "#7201a8"
             ],
             [
              0.3333333333333333,
              "#9c179e"
             ],
             [
              0.4444444444444444,
              "#bd3786"
             ],
             [
              0.5555555555555556,
              "#d8576b"
             ],
             [
              0.6666666666666666,
              "#ed7953"
             ],
             [
              0.7777777777777778,
              "#fb9f3a"
             ],
             [
              0.8888888888888888,
              "#fdca26"
             ],
             [
              1,
              "#f0f921"
             ]
            ],
            "type": "histogram2d"
           }
          ],
          "histogram2dcontour": [
           {
            "colorbar": {
             "outlinewidth": 0,
             "ticks": ""
            },
            "colorscale": [
             [
              0,
              "#0d0887"
             ],
             [
              0.1111111111111111,
              "#46039f"
             ],
             [
              0.2222222222222222,
              "#7201a8"
             ],
             [
              0.3333333333333333,
              "#9c179e"
             ],
             [
              0.4444444444444444,
              "#bd3786"
             ],
             [
              0.5555555555555556,
              "#d8576b"
             ],
             [
              0.6666666666666666,
              "#ed7953"
             ],
             [
              0.7777777777777778,
              "#fb9f3a"
             ],
             [
              0.8888888888888888,
              "#fdca26"
             ],
             [
              1,
              "#f0f921"
             ]
            ],
            "type": "histogram2dcontour"
           }
          ],
          "mesh3d": [
           {
            "colorbar": {
             "outlinewidth": 0,
             "ticks": ""
            },
            "type": "mesh3d"
           }
          ],
          "parcoords": [
           {
            "line": {
             "colorbar": {
              "outlinewidth": 0,
              "ticks": ""
             }
            },
            "type": "parcoords"
           }
          ],
          "pie": [
           {
            "automargin": true,
            "type": "pie"
           }
          ],
          "scatter": [
           {
            "fillpattern": {
             "fillmode": "overlay",
             "size": 10,
             "solidity": 0.2
            },
            "type": "scatter"
           }
          ],
          "scatter3d": [
           {
            "line": {
             "colorbar": {
              "outlinewidth": 0,
              "ticks": ""
             }
            },
            "marker": {
             "colorbar": {
              "outlinewidth": 0,
              "ticks": ""
             }
            },
            "type": "scatter3d"
           }
          ],
          "scattercarpet": [
           {
            "marker": {
             "colorbar": {
              "outlinewidth": 0,
              "ticks": ""
             }
            },
            "type": "scattercarpet"
           }
          ],
          "scattergeo": [
           {
            "marker": {
             "colorbar": {
              "outlinewidth": 0,
              "ticks": ""
             }
            },
            "type": "scattergeo"
           }
          ],
          "scattergl": [
           {
            "marker": {
             "colorbar": {
              "outlinewidth": 0,
              "ticks": ""
             }
            },
            "type": "scattergl"
           }
          ],
          "scattermapbox": [
           {
            "marker": {
             "colorbar": {
              "outlinewidth": 0,
              "ticks": ""
             }
            },
            "type": "scattermapbox"
           }
          ],
          "scatterpolar": [
           {
            "marker": {
             "colorbar": {
              "outlinewidth": 0,
              "ticks": ""
             }
            },
            "type": "scatterpolar"
           }
          ],
          "scatterpolargl": [
           {
            "marker": {
             "colorbar": {
              "outlinewidth": 0,
              "ticks": ""
             }
            },
            "type": "scatterpolargl"
           }
          ],
          "scatterternary": [
           {
            "marker": {
             "colorbar": {
              "outlinewidth": 0,
              "ticks": ""
             }
            },
            "type": "scatterternary"
           }
          ],
          "surface": [
           {
            "colorbar": {
             "outlinewidth": 0,
             "ticks": ""
            },
            "colorscale": [
             [
              0,
              "#0d0887"
             ],
             [
              0.1111111111111111,
              "#46039f"
             ],
             [
              0.2222222222222222,
              "#7201a8"
             ],
             [
              0.3333333333333333,
              "#9c179e"
             ],
             [
              0.4444444444444444,
              "#bd3786"
             ],
             [
              0.5555555555555556,
              "#d8576b"
             ],
             [
              0.6666666666666666,
              "#ed7953"
             ],
             [
              0.7777777777777778,
              "#fb9f3a"
             ],
             [
              0.8888888888888888,
              "#fdca26"
             ],
             [
              1,
              "#f0f921"
             ]
            ],
            "type": "surface"
           }
          ],
          "table": [
           {
            "cells": {
             "fill": {
              "color": "#EBF0F8"
             },
             "line": {
              "color": "white"
             }
            },
            "header": {
             "fill": {
              "color": "#C8D4E3"
             },
             "line": {
              "color": "white"
             }
            },
            "type": "table"
           }
          ]
         },
         "layout": {
          "annotationdefaults": {
           "arrowcolor": "#2a3f5f",
           "arrowhead": 0,
           "arrowwidth": 1
          },
          "autotypenumbers": "strict",
          "coloraxis": {
           "colorbar": {
            "outlinewidth": 0,
            "ticks": ""
           }
          },
          "colorscale": {
           "diverging": [
            [
             0,
             "#8e0152"
            ],
            [
             0.1,
             "#c51b7d"
            ],
            [
             0.2,
             "#de77ae"
            ],
            [
             0.3,
             "#f1b6da"
            ],
            [
             0.4,
             "#fde0ef"
            ],
            [
             0.5,
             "#f7f7f7"
            ],
            [
             0.6,
             "#e6f5d0"
            ],
            [
             0.7,
             "#b8e186"
            ],
            [
             0.8,
             "#7fbc41"
            ],
            [
             0.9,
             "#4d9221"
            ],
            [
             1,
             "#276419"
            ]
           ],
           "sequential": [
            [
             0,
             "#0d0887"
            ],
            [
             0.1111111111111111,
             "#46039f"
            ],
            [
             0.2222222222222222,
             "#7201a8"
            ],
            [
             0.3333333333333333,
             "#9c179e"
            ],
            [
             0.4444444444444444,
             "#bd3786"
            ],
            [
             0.5555555555555556,
             "#d8576b"
            ],
            [
             0.6666666666666666,
             "#ed7953"
            ],
            [
             0.7777777777777778,
             "#fb9f3a"
            ],
            [
             0.8888888888888888,
             "#fdca26"
            ],
            [
             1,
             "#f0f921"
            ]
           ],
           "sequentialminus": [
            [
             0,
             "#0d0887"
            ],
            [
             0.1111111111111111,
             "#46039f"
            ],
            [
             0.2222222222222222,
             "#7201a8"
            ],
            [
             0.3333333333333333,
             "#9c179e"
            ],
            [
             0.4444444444444444,
             "#bd3786"
            ],
            [
             0.5555555555555556,
             "#d8576b"
            ],
            [
             0.6666666666666666,
             "#ed7953"
            ],
            [
             0.7777777777777778,
             "#fb9f3a"
            ],
            [
             0.8888888888888888,
             "#fdca26"
            ],
            [
             1,
             "#f0f921"
            ]
           ]
          },
          "colorway": [
           "#636efa",
           "#EF553B",
           "#00cc96",
           "#ab63fa",
           "#FFA15A",
           "#19d3f3",
           "#FF6692",
           "#B6E880",
           "#FF97FF",
           "#FECB52"
          ],
          "font": {
           "color": "#2a3f5f"
          },
          "geo": {
           "bgcolor": "white",
           "lakecolor": "white",
           "landcolor": "#E5ECF6",
           "showlakes": true,
           "showland": true,
           "subunitcolor": "white"
          },
          "hoverlabel": {
           "align": "left"
          },
          "hovermode": "closest",
          "mapbox": {
           "style": "light"
          },
          "paper_bgcolor": "white",
          "plot_bgcolor": "#E5ECF6",
          "polar": {
           "angularaxis": {
            "gridcolor": "white",
            "linecolor": "white",
            "ticks": ""
           },
           "bgcolor": "#E5ECF6",
           "radialaxis": {
            "gridcolor": "white",
            "linecolor": "white",
            "ticks": ""
           }
          },
          "scene": {
           "xaxis": {
            "backgroundcolor": "#E5ECF6",
            "gridcolor": "white",
            "gridwidth": 2,
            "linecolor": "white",
            "showbackground": true,
            "ticks": "",
            "zerolinecolor": "white"
           },
           "yaxis": {
            "backgroundcolor": "#E5ECF6",
            "gridcolor": "white",
            "gridwidth": 2,
            "linecolor": "white",
            "showbackground": true,
            "ticks": "",
            "zerolinecolor": "white"
           },
           "zaxis": {
            "backgroundcolor": "#E5ECF6",
            "gridcolor": "white",
            "gridwidth": 2,
            "linecolor": "white",
            "showbackground": true,
            "ticks": "",
            "zerolinecolor": "white"
           }
          },
          "shapedefaults": {
           "line": {
            "color": "#2a3f5f"
           }
          },
          "ternary": {
           "aaxis": {
            "gridcolor": "white",
            "linecolor": "white",
            "ticks": ""
           },
           "baxis": {
            "gridcolor": "white",
            "linecolor": "white",
            "ticks": ""
           },
           "bgcolor": "#E5ECF6",
           "caxis": {
            "gridcolor": "white",
            "linecolor": "white",
            "ticks": ""
           }
          },
          "title": {
           "x": 0.05
          },
          "xaxis": {
           "automargin": true,
           "gridcolor": "white",
           "linecolor": "white",
           "ticks": "",
           "title": {
            "standoff": 15
           },
           "zerolinecolor": "white",
           "zerolinewidth": 2
          },
          "yaxis": {
           "automargin": true,
           "gridcolor": "white",
           "linecolor": "white",
           "ticks": "",
           "title": {
            "standoff": 15
           },
           "zerolinecolor": "white",
           "zerolinewidth": 2
          }
         }
        },
        "title": {
         "text": "RMSE Boxplot of Top 10 Feature Combinations"
        },
        "xaxis": {
         "anchor": "y",
         "autorange": true,
         "domain": [
          0,
          1
         ],
         "range": [
          -0.5,
          0.5
         ],
         "type": "category"
        },
        "yaxis": {
         "anchor": "x",
         "autorange": true,
         "domain": [
          0,
          1
         ],
         "range": [
          0.3224676922620996,
          0.3267432460799248
         ],
         "title": {
          "text": "mean_rmse"
         },
         "type": "linear"
        }
       }
      }
     },
     "metadata": {},
     "output_type": "display_data"
    }
   ],
   "source": [
    "pio.renderers.default = 'plotly_mimetype'\n",
    "fig = px.box(df_agg_metrics.sort_values(by=['mean_rmse']).head(10), y='mean_rmse', title='RMSE Boxplot of Top 10 Feature Combinations')\n",
    "fig.show()"
   ]
  },
  {
   "cell_type": "code",
   "execution_count": 37,
   "id": "d7a9009f-cf68-40a1-bdcf-704c1cc4acee",
   "metadata": {},
   "outputs": [
    {
     "data": {
      "application/vnd.plotly.v1+json": {
       "config": {
        "plotlyServerURL": "https://plot.ly"
       },
       "data": [
        {
         "name": "all combinations",
         "type": "box",
         "xaxis": "x",
         "y": [
          0.32268146995299085,
          0.32293136621389407,
          0.32424148182279494,
          0.3244002019342493,
          0.32449506113560067,
          0.3247748359376488,
          0.32528588414934445,
          0.3253664832463203,
          0.32587391296691226,
          0.3265294683890335
         ],
         "yaxis": "y"
        },
        {
         "name": "keyword & no neural feature",
         "type": "box",
         "xaxis": "x2",
         "y": [
          0.3514051388887459,
          0.35155621781300195,
          0.3518319680072682,
          0.35278863021946216,
          0.35299985052853006,
          0.3531820091471628,
          0.353671355615616,
          0.35375336047571265,
          0.35409216252041065,
          0.3543853021060337
         ],
         "yaxis": "y2"
        },
        {
         "name": "neural & no keyword feature",
         "type": "box",
         "xaxis": "x3",
         "y": [
          0.34464311265040093,
          0.346269683135649,
          0.3467443417470871,
          0.3469193030340668,
          0.3483996017335232,
          0.3486016686022671,
          0.34890650887451474,
          0.34898819512847956,
          0.34915212124503203,
          0.3491712650769796
         ],
         "yaxis": "y3"
        },
        {
         "name": "only query features",
         "type": "box",
         "xaxis": "x4",
         "y": [
          0.32587391296691226,
          0.32927153161063794,
          0.3317760701463717,
          0.3321695419595441,
          0.34830900121280456,
          0.36238253538944576,
          0.36304035340964524,
          0.3800054728713641,
          0.38046007708067675,
          0.3820233556418745
         ],
         "yaxis": "y4"
        }
       ],
       "layout": {
        "height": 800,
        "template": {
         "data": {
          "bar": [
           {
            "error_x": {
             "color": "#2a3f5f"
            },
            "error_y": {
             "color": "#2a3f5f"
            },
            "marker": {
             "line": {
              "color": "#E5ECF6",
              "width": 0.5
             },
             "pattern": {
              "fillmode": "overlay",
              "size": 10,
              "solidity": 0.2
             }
            },
            "type": "bar"
           }
          ],
          "barpolar": [
           {
            "marker": {
             "line": {
              "color": "#E5ECF6",
              "width": 0.5
             },
             "pattern": {
              "fillmode": "overlay",
              "size": 10,
              "solidity": 0.2
             }
            },
            "type": "barpolar"
           }
          ],
          "carpet": [
           {
            "aaxis": {
             "endlinecolor": "#2a3f5f",
             "gridcolor": "white",
             "linecolor": "white",
             "minorgridcolor": "white",
             "startlinecolor": "#2a3f5f"
            },
            "baxis": {
             "endlinecolor": "#2a3f5f",
             "gridcolor": "white",
             "linecolor": "white",
             "minorgridcolor": "white",
             "startlinecolor": "#2a3f5f"
            },
            "type": "carpet"
           }
          ],
          "choropleth": [
           {
            "colorbar": {
             "outlinewidth": 0,
             "ticks": ""
            },
            "type": "choropleth"
           }
          ],
          "contour": [
           {
            "colorbar": {
             "outlinewidth": 0,
             "ticks": ""
            },
            "colorscale": [
             [
              0,
              "#0d0887"
             ],
             [
              0.1111111111111111,
              "#46039f"
             ],
             [
              0.2222222222222222,
              "#7201a8"
             ],
             [
              0.3333333333333333,
              "#9c179e"
             ],
             [
              0.4444444444444444,
              "#bd3786"
             ],
             [
              0.5555555555555556,
              "#d8576b"
             ],
             [
              0.6666666666666666,
              "#ed7953"
             ],
             [
              0.7777777777777778,
              "#fb9f3a"
             ],
             [
              0.8888888888888888,
              "#fdca26"
             ],
             [
              1,
              "#f0f921"
             ]
            ],
            "type": "contour"
           }
          ],
          "contourcarpet": [
           {
            "colorbar": {
             "outlinewidth": 0,
             "ticks": ""
            },
            "type": "contourcarpet"
           }
          ],
          "heatmap": [
           {
            "colorbar": {
             "outlinewidth": 0,
             "ticks": ""
            },
            "colorscale": [
             [
              0,
              "#0d0887"
             ],
             [
              0.1111111111111111,
              "#46039f"
             ],
             [
              0.2222222222222222,
              "#7201a8"
             ],
             [
              0.3333333333333333,
              "#9c179e"
             ],
             [
              0.4444444444444444,
              "#bd3786"
             ],
             [
              0.5555555555555556,
              "#d8576b"
             ],
             [
              0.6666666666666666,
              "#ed7953"
             ],
             [
              0.7777777777777778,
              "#fb9f3a"
             ],
             [
              0.8888888888888888,
              "#fdca26"
             ],
             [
              1,
              "#f0f921"
             ]
            ],
            "type": "heatmap"
           }
          ],
          "heatmapgl": [
           {
            "colorbar": {
             "outlinewidth": 0,
             "ticks": ""
            },
            "colorscale": [
             [
              0,
              "#0d0887"
             ],
             [
              0.1111111111111111,
              "#46039f"
             ],
             [
              0.2222222222222222,
              "#7201a8"
             ],
             [
              0.3333333333333333,
              "#9c179e"
             ],
             [
              0.4444444444444444,
              "#bd3786"
             ],
             [
              0.5555555555555556,
              "#d8576b"
             ],
             [
              0.6666666666666666,
              "#ed7953"
             ],
             [
              0.7777777777777778,
              "#fb9f3a"
             ],
             [
              0.8888888888888888,
              "#fdca26"
             ],
             [
              1,
              "#f0f921"
             ]
            ],
            "type": "heatmapgl"
           }
          ],
          "histogram": [
           {
            "marker": {
             "pattern": {
              "fillmode": "overlay",
              "size": 10,
              "solidity": 0.2
             }
            },
            "type": "histogram"
           }
          ],
          "histogram2d": [
           {
            "colorbar": {
             "outlinewidth": 0,
             "ticks": ""
            },
            "colorscale": [
             [
              0,
              "#0d0887"
             ],
             [
              0.1111111111111111,
              "#46039f"
             ],
             [
              0.2222222222222222,
              "#7201a8"
             ],
             [
              0.3333333333333333,
              "#9c179e"
             ],
             [
              0.4444444444444444,
              "#bd3786"
             ],
             [
              0.5555555555555556,
              "#d8576b"
             ],
             [
              0.6666666666666666,
              "#ed7953"
             ],
             [
              0.7777777777777778,
              "#fb9f3a"
             ],
             [
              0.8888888888888888,
              "#fdca26"
             ],
             [
              1,
              "#f0f921"
             ]
            ],
            "type": "histogram2d"
           }
          ],
          "histogram2dcontour": [
           {
            "colorbar": {
             "outlinewidth": 0,
             "ticks": ""
            },
            "colorscale": [
             [
              0,
              "#0d0887"
             ],
             [
              0.1111111111111111,
              "#46039f"
             ],
             [
              0.2222222222222222,
              "#7201a8"
             ],
             [
              0.3333333333333333,
              "#9c179e"
             ],
             [
              0.4444444444444444,
              "#bd3786"
             ],
             [
              0.5555555555555556,
              "#d8576b"
             ],
             [
              0.6666666666666666,
              "#ed7953"
             ],
             [
              0.7777777777777778,
              "#fb9f3a"
             ],
             [
              0.8888888888888888,
              "#fdca26"
             ],
             [
              1,
              "#f0f921"
             ]
            ],
            "type": "histogram2dcontour"
           }
          ],
          "mesh3d": [
           {
            "colorbar": {
             "outlinewidth": 0,
             "ticks": ""
            },
            "type": "mesh3d"
           }
          ],
          "parcoords": [
           {
            "line": {
             "colorbar": {
              "outlinewidth": 0,
              "ticks": ""
             }
            },
            "type": "parcoords"
           }
          ],
          "pie": [
           {
            "automargin": true,
            "type": "pie"
           }
          ],
          "scatter": [
           {
            "fillpattern": {
             "fillmode": "overlay",
             "size": 10,
             "solidity": 0.2
            },
            "type": "scatter"
           }
          ],
          "scatter3d": [
           {
            "line": {
             "colorbar": {
              "outlinewidth": 0,
              "ticks": ""
             }
            },
            "marker": {
             "colorbar": {
              "outlinewidth": 0,
              "ticks": ""
             }
            },
            "type": "scatter3d"
           }
          ],
          "scattercarpet": [
           {
            "marker": {
             "colorbar": {
              "outlinewidth": 0,
              "ticks": ""
             }
            },
            "type": "scattercarpet"
           }
          ],
          "scattergeo": [
           {
            "marker": {
             "colorbar": {
              "outlinewidth": 0,
              "ticks": ""
             }
            },
            "type": "scattergeo"
           }
          ],
          "scattergl": [
           {
            "marker": {
             "colorbar": {
              "outlinewidth": 0,
              "ticks": ""
             }
            },
            "type": "scattergl"
           }
          ],
          "scattermapbox": [
           {
            "marker": {
             "colorbar": {
              "outlinewidth": 0,
              "ticks": ""
             }
            },
            "type": "scattermapbox"
           }
          ],
          "scatterpolar": [
           {
            "marker": {
             "colorbar": {
              "outlinewidth": 0,
              "ticks": ""
             }
            },
            "type": "scatterpolar"
           }
          ],
          "scatterpolargl": [
           {
            "marker": {
             "colorbar": {
              "outlinewidth": 0,
              "ticks": ""
             }
            },
            "type": "scatterpolargl"
           }
          ],
          "scatterternary": [
           {
            "marker": {
             "colorbar": {
              "outlinewidth": 0,
              "ticks": ""
             }
            },
            "type": "scatterternary"
           }
          ],
          "surface": [
           {
            "colorbar": {
             "outlinewidth": 0,
             "ticks": ""
            },
            "colorscale": [
             [
              0,
              "#0d0887"
             ],
             [
              0.1111111111111111,
              "#46039f"
             ],
             [
              0.2222222222222222,
              "#7201a8"
             ],
             [
              0.3333333333333333,
              "#9c179e"
             ],
             [
              0.4444444444444444,
              "#bd3786"
             ],
             [
              0.5555555555555556,
              "#d8576b"
             ],
             [
              0.6666666666666666,
              "#ed7953"
             ],
             [
              0.7777777777777778,
              "#fb9f3a"
             ],
             [
              0.8888888888888888,
              "#fdca26"
             ],
             [
              1,
              "#f0f921"
             ]
            ],
            "type": "surface"
           }
          ],
          "table": [
           {
            "cells": {
             "fill": {
              "color": "#EBF0F8"
             },
             "line": {
              "color": "white"
             }
            },
            "header": {
             "fill": {
              "color": "#C8D4E3"
             },
             "line": {
              "color": "white"
             }
            },
            "type": "table"
           }
          ]
         },
         "layout": {
          "annotationdefaults": {
           "arrowcolor": "#2a3f5f",
           "arrowhead": 0,
           "arrowwidth": 1
          },
          "autotypenumbers": "strict",
          "coloraxis": {
           "colorbar": {
            "outlinewidth": 0,
            "ticks": ""
           }
          },
          "colorscale": {
           "diverging": [
            [
             0,
             "#8e0152"
            ],
            [
             0.1,
             "#c51b7d"
            ],
            [
             0.2,
             "#de77ae"
            ],
            [
             0.3,
             "#f1b6da"
            ],
            [
             0.4,
             "#fde0ef"
            ],
            [
             0.5,
             "#f7f7f7"
            ],
            [
             0.6,
             "#e6f5d0"
            ],
            [
             0.7,
             "#b8e186"
            ],
            [
             0.8,
             "#7fbc41"
            ],
            [
             0.9,
             "#4d9221"
            ],
            [
             1,
             "#276419"
            ]
           ],
           "sequential": [
            [
             0,
             "#0d0887"
            ],
            [
             0.1111111111111111,
             "#46039f"
            ],
            [
             0.2222222222222222,
             "#7201a8"
            ],
            [
             0.3333333333333333,
             "#9c179e"
            ],
            [
             0.4444444444444444,
             "#bd3786"
            ],
            [
             0.5555555555555556,
             "#d8576b"
            ],
            [
             0.6666666666666666,
             "#ed7953"
            ],
            [
             0.7777777777777778,
             "#fb9f3a"
            ],
            [
             0.8888888888888888,
             "#fdca26"
            ],
            [
             1,
             "#f0f921"
            ]
           ],
           "sequentialminus": [
            [
             0,
             "#0d0887"
            ],
            [
             0.1111111111111111,
             "#46039f"
            ],
            [
             0.2222222222222222,
             "#7201a8"
            ],
            [
             0.3333333333333333,
             "#9c179e"
            ],
            [
             0.4444444444444444,
             "#bd3786"
            ],
            [
             0.5555555555555556,
             "#d8576b"
            ],
            [
             0.6666666666666666,
             "#ed7953"
            ],
            [
             0.7777777777777778,
             "#fb9f3a"
            ],
            [
             0.8888888888888888,
             "#fdca26"
            ],
            [
             1,
             "#f0f921"
            ]
           ]
          },
          "colorway": [
           "#636efa",
           "#EF553B",
           "#00cc96",
           "#ab63fa",
           "#FFA15A",
           "#19d3f3",
           "#FF6692",
           "#B6E880",
           "#FF97FF",
           "#FECB52"
          ],
          "font": {
           "color": "#2a3f5f"
          },
          "geo": {
           "bgcolor": "white",
           "lakecolor": "white",
           "landcolor": "#E5ECF6",
           "showlakes": true,
           "showland": true,
           "subunitcolor": "white"
          },
          "hoverlabel": {
           "align": "left"
          },
          "hovermode": "closest",
          "mapbox": {
           "style": "light"
          },
          "paper_bgcolor": "white",
          "plot_bgcolor": "#E5ECF6",
          "polar": {
           "angularaxis": {
            "gridcolor": "white",
            "linecolor": "white",
            "ticks": ""
           },
           "bgcolor": "#E5ECF6",
           "radialaxis": {
            "gridcolor": "white",
            "linecolor": "white",
            "ticks": ""
           }
          },
          "scene": {
           "xaxis": {
            "backgroundcolor": "#E5ECF6",
            "gridcolor": "white",
            "gridwidth": 2,
            "linecolor": "white",
            "showbackground": true,
            "ticks": "",
            "zerolinecolor": "white"
           },
           "yaxis": {
            "backgroundcolor": "#E5ECF6",
            "gridcolor": "white",
            "gridwidth": 2,
            "linecolor": "white",
            "showbackground": true,
            "ticks": "",
            "zerolinecolor": "white"
           },
           "zaxis": {
            "backgroundcolor": "#E5ECF6",
            "gridcolor": "white",
            "gridwidth": 2,
            "linecolor": "white",
            "showbackground": true,
            "ticks": "",
            "zerolinecolor": "white"
           }
          },
          "shapedefaults": {
           "line": {
            "color": "#2a3f5f"
           }
          },
          "ternary": {
           "aaxis": {
            "gridcolor": "white",
            "linecolor": "white",
            "ticks": ""
           },
           "baxis": {
            "gridcolor": "white",
            "linecolor": "white",
            "ticks": ""
           },
           "bgcolor": "#E5ECF6",
           "caxis": {
            "gridcolor": "white",
            "linecolor": "white",
            "ticks": ""
           }
          },
          "title": {
           "x": 0.05
          },
          "xaxis": {
           "automargin": true,
           "gridcolor": "white",
           "linecolor": "white",
           "ticks": "",
           "title": {
            "standoff": 15
           },
           "zerolinecolor": "white",
           "zerolinewidth": 2
          },
          "yaxis": {
           "automargin": true,
           "gridcolor": "white",
           "linecolor": "white",
           "ticks": "",
           "title": {
            "standoff": 15
           },
           "zerolinecolor": "white",
           "zerolinewidth": 2
          }
         }
        },
        "title": {
         "text": "Top 10 Feature Combinations"
        },
        "width": 1100,
        "xaxis": {
         "anchor": "y",
         "autorange": true,
         "domain": [
          0,
          0.2125
         ],
         "range": [
          -0.5,
          0.5
         ],
         "type": "category"
        },
        "xaxis2": {
         "anchor": "y2",
         "autorange": true,
         "domain": [
          0.2625,
          0.475
         ],
         "range": [
          -0.5,
          0.5
         ],
         "type": "category"
        },
        "xaxis3": {
         "anchor": "y3",
         "autorange": true,
         "domain": [
          0.525,
          0.7375
         ],
         "range": [
          -0.5,
          0.5
         ],
         "type": "category"
        },
        "xaxis4": {
         "anchor": "y4",
         "autorange": true,
         "domain": [
          0.7875,
          1
         ],
         "range": [
          -0.5,
          0.5
         ],
         "type": "category"
        },
        "yaxis": {
         "anchor": "x",
         "autorange": true,
         "domain": [
          0,
          1
         ],
         "range": [
          0.3193846985258306,
          0.38532012706903473
         ],
         "type": "linear"
        },
        "yaxis2": {
         "anchor": "x2",
         "autorange": true,
         "domain": [
          0,
          1
         ],
         "matches": "y",
         "range": [
          0.3193846985258306,
          0.38532012706903473
         ],
         "showticklabels": false,
         "type": "linear"
        },
        "yaxis3": {
         "anchor": "x3",
         "autorange": true,
         "domain": [
          0,
          1
         ],
         "matches": "y",
         "range": [
          0.3193846985258306,
          0.38532012706903473
         ],
         "showticklabels": false,
         "type": "linear"
        },
        "yaxis4": {
         "anchor": "x4",
         "autorange": true,
         "domain": [
          0,
          1
         ],
         "matches": "y",
         "range": [
          0.3193846985258306,
          0.38532012706903473
         ],
         "showticklabels": false,
         "type": "linear"
        }
       }
      }
     },
     "metadata": {},
     "output_type": "display_data"
    }
   ],
   "source": [
    "fig = make_subplots(rows=1, cols=4, shared_yaxes=True)\n",
    "\n",
    "fig.add_trace(go.Box(y=df_agg_metrics.sort_values(by=['mean_rmse']).head(10)['mean_rmse'],\n",
    "                     name=\"all combinations\"),\n",
    "              row=1, col=1)\n",
    "\n",
    "fig.add_trace(go.Box(y=df_agg_metrics[(df_agg_metrics['keyword_f'] == True) & (df_agg_metrics['neural_f'] == False)].sort_values(by=['mean_rmse']).head(10)['mean_rmse'],\n",
    "                    name=\"keyword & no neural feature\"),\n",
    "              row=1, col=2)\n",
    "\n",
    "fig.add_trace(go.Box(y=df_agg_metrics[(df_agg_metrics['neural_f'] == True) & (df_agg_metrics['keyword_f'] == False)].sort_values(by=['mean_rmse']).head(10)['mean_rmse'],\n",
    "                    name=\"neural & no keyword feature\"),\n",
    "              row=1, col=3)\n",
    "\n",
    "fig.add_trace(go.Box(y=df_agg_metrics[df_agg_metrics['only_query_f'] == True].sort_values(by=['mean_rmse']).head(10)['mean_rmse'],\n",
    "                    name=\"only query features\"),\n",
    "              row=1, col=4)\n",
    "\n",
    "fig.update_layout(height=800, width=1100,\n",
    "                  title_text=\"Top 10 Feature Combinations\")\n",
    "fig.show()"
   ]
  },
  {
   "cell_type": "markdown",
   "id": "f58de3fa-8610-4e0f-b5ad-8dd12ca74c98",
   "metadata": {},
   "source": [
    "## Train a Random Forest Regression Model with cross-validation"
   ]
  },
  {
   "cell_type": "code",
   "execution_count": 38,
   "id": "cd9b5f31-4809-44e6-ac60-3106fccad5f1",
   "metadata": {},
   "outputs": [
    {
     "name": "stdout",
     "output_type": "stream",
     "text": [
      "Accuray: -0.12377425503111397\n",
      "Standard deviation: 0.08182795705905409\n",
      "Cross-Validation Root Mean Squared Error: 0.3392405950378962\n",
      "Root Mean Squared Error: 0.31486909256792006\n",
      "R^2 Score: -0.40522708836664445\n"
     ]
    }
   ],
   "source": [
    "from sklearn.model_selection import ShuffleSplit, cross_val_score, train_test_split\n",
    "from sklearn.ensemble import RandomForestRegressor\n",
    "from sklearn.metrics import make_scorer, root_mean_squared_error, r2_score\n",
    "import numpy as np\n",
    "\n",
    "# Prepare features and target\n",
    "feature_columns = [ \"f_1_num_of_terms\", \"f_2_query_length\", \"f_3_has_numbers\", \"f_4_has_special_char\", \"f_5_num_results\",\n",
    "                   \"f_6_max_title_score\", \"f_7_sum_title_scores\", \"f_8_max_semantic_score\",  \"f_9_avg_semantic_score\"]\n",
    "X = df_filtered[feature_columns]   # Select feature columns\n",
    "y = df_filtered['neuralness']      # Select the target column\n",
    "\n",
    "# Initialize cross-validation strategy\n",
    "cv = ShuffleSplit(n_splits=5, test_size=0.2, random_state=0)\n",
    "\n",
    "# Define the model\n",
    "model = RandomForestRegressor(random_state=42)\n",
    "\n",
    "# Perform cross-validation\n",
    "scores = cross_val_score(model, X, y, cv=cv)\n",
    "rmse_scorer = make_scorer(root_mean_squared_error)\n",
    "\n",
    "rmse_scores = cross_val_score(model, X, y, cv=cv, scoring=rmse_scorer)\n",
    "\n",
    "# Output the results\n",
    "print(\"Accuray:\", scores.mean())\n",
    "print(\"Standard deviation:\", scores.std())\n",
    "print(\"Cross-Validation Root Mean Squared Error:\", np.mean(rmse_scores))\n",
    "\n",
    "# Split data into training and testing sets\n",
    "X_train, X_test, y_train, y_test = train_test_split(X, y, test_size=0.2, random_state=42)\n",
    "\n",
    "# Train the model on the training data\n",
    "model.fit(X_train, y_train)\n",
    "\n",
    "# Predict on the test data\n",
    "y_pred = model.predict(X_test)\n",
    "\n",
    "# Evaluate the model\n",
    "rmse = root_mean_squared_error(y_test, y_pred)\n",
    "r2 = r2_score(y_test, y_pred)\n",
    "\n",
    "print(\"Root Mean Squared Error:\", rmse)\n",
    "print(\"R^2 Score:\", r2)"
   ]
  },
  {
   "cell_type": "markdown",
   "id": "48f90d39-97aa-4c43-a020-89dce9dbdcea",
   "metadata": {},
   "source": [
    "## Explore Linear Regression Models with Different Feature Combinations"
   ]
  },
  {
   "cell_type": "code",
   "execution_count": 39,
   "id": "f65a1d21-07a1-4d11-bf6d-7aa0de7c4e83",
   "metadata": {
    "scrolled": true
   },
   "outputs": [
    {
     "name": "stdout",
     "output_type": "stream",
     "text": [
      "Best Feature Combination: ('f_4_has_special_char', 'f_8_max_semantic_score')\n",
      "Best Metrics:\n",
      "Accuracy (mean): 0.007694232831054059\n",
      "Accuracy (std dev): 0.03887129880529849\n",
      "Cross-Validation RMSE (mean): 0.3188353751609646\n"
     ]
    }
   ],
   "source": [
    "from sklearn.model_selection import ShuffleSplit, cross_val_score\n",
    "from sklearn.linear_model import LinearRegression\n",
    "from sklearn.metrics import make_scorer, mean_squared_error, r2_score\n",
    "from itertools import combinations\n",
    "import numpy as np\n",
    "import pandas as pd\n",
    "\n",
    "# Prepare features and target\n",
    "feature_columns = [ \"f_1_num_of_terms\", \"f_2_query_length\", \"f_3_has_numbers\", \"f_4_has_special_char\", \"f_5_num_results\",\n",
    "                   \"f_6_max_title_score\", \"f_7_sum_title_scores\", \"f_8_max_semantic_score\",  \"f_9_avg_semantic_score\"]\n",
    "kws_features = [\"f_5_num_results\", \"f_6_max_title_score\", \"f_7_sum_title_scores\"]\n",
    "neural_search_features = [\"f_8_max_semantic_score\",  \"f_9_avg_semantic_score\"]\n",
    "y = df_filtered['neuralness']  # Target column\n",
    "\n",
    "# Initialize cross-validation strategy\n",
    "cv = ShuffleSplit(n_splits=5, test_size=0.2, random_state=0)\n",
    "\n",
    "# Define the model\n",
    "regr = LinearRegression()\n",
    "\n",
    "rmse_scorer = make_scorer(root_mean_squared_error, greater_is_better=False)\n",
    "\n",
    "# Initialize variables to track the best combination\n",
    "best_score = float('-inf')\n",
    "best_combination = None\n",
    "best_metrics = {}\n",
    "df_metrics = []\n",
    "\n",
    "# Try all feature combinations of length 2 to 9\n",
    "for r in range(2, len(feature_columns) + 1):\n",
    "    for combo in combinations(feature_columns, r):\n",
    "        X = df_filtered[list(combo)]  # Select current feature subset\n",
    "        \n",
    "        # Perform cross-validation\n",
    "        scores = cross_val_score(regr, X, y, cv=cv)\n",
    "        rmse_scores = cross_val_score(regr, X, y, cv=cv, scoring=rmse_scorer)\n",
    "        \n",
    "        # Calculate the mean metrics for the current combination\n",
    "        mean_score = scores.mean()\n",
    "        std_score = scores.std()\n",
    "        mean_rmse = -np.mean(rmse_scores)  # Since RMSE scorer is negative for minimization\n",
    "\n",
    "        # does the current combination contain keyword search features\n",
    "        keyword_b = any(feature in combo for feature in kws_features)\n",
    "        # does the current combination contain neural search features\n",
    "        neural_b = any(feature in combo for feature in neural_search_features)\n",
    "        # does the current combination contain only query features (no keyword or neural search features)\n",
    "        query_b = not(keyword_b or neural_b)\n",
    "        \n",
    "        #print(f\"feature combo: {combo}, score: {mean_rmse}\")\n",
    "        df_metrics.append(pd.DataFrame({\n",
    "            \"features\": [combo]*5,\n",
    "            \"scores\": scores,\n",
    "            \"rmse_scores\": rmse_scores,\n",
    "            \"keyword_f\": [keyword_b]*5,\n",
    "            \"neural_f\": [neural_b]*5,\n",
    "            \"only_query_f\": [query_b]*5,\n",
    "            }))\n",
    "        \n",
    "        # Update if the current combination is better\n",
    "        if mean_score > best_score:\n",
    "            best_score = mean_score\n",
    "            best_combination = combo\n",
    "            best_metrics = {\n",
    "                'Accuracy (mean)': mean_score,\n",
    "                'Accuracy (std dev)': std_score,\n",
    "                'RMSE (mean)': mean_rmse\n",
    "            }\n",
    "\n",
    "df_metrics = pd.concat(df_metrics)\n",
    "\n",
    "# Output the best feature combination and its metrics\n",
    "print(\"Best Feature Combination:\", best_combination)\n",
    "print(\"Best Metrics:\")\n",
    "print(f\"Accuracy (mean): {best_metrics['Accuracy (mean)']}\")\n",
    "print(f\"Accuracy (std dev): {best_metrics['Accuracy (std dev)']}\")\n",
    "print(f\"Cross-Validation RMSE (mean): {best_metrics['RMSE (mean)']}\")"
   ]
  },
  {
   "cell_type": "code",
   "execution_count": 40,
   "id": "07f13665-6a52-4973-a2e8-d5eb443e2383",
   "metadata": {},
   "outputs": [
    {
     "data": {
      "text/html": [
       "<div>\n",
       "<style scoped>\n",
       "    .dataframe tbody tr th:only-of-type {\n",
       "        vertical-align: middle;\n",
       "    }\n",
       "\n",
       "    .dataframe tbody tr th {\n",
       "        vertical-align: top;\n",
       "    }\n",
       "\n",
       "    .dataframe thead th {\n",
       "        text-align: right;\n",
       "    }\n",
       "</style>\n",
       "<table border=\"1\" class=\"dataframe\">\n",
       "  <thead>\n",
       "    <tr style=\"text-align: right;\">\n",
       "      <th></th>\n",
       "      <th>features</th>\n",
       "      <th>scores</th>\n",
       "      <th>rmse_scores</th>\n",
       "      <th>keyword_f</th>\n",
       "      <th>neural_f</th>\n",
       "      <th>only_query_f</th>\n",
       "    </tr>\n",
       "  </thead>\n",
       "  <tbody>\n",
       "    <tr>\n",
       "      <th>0</th>\n",
       "      <td>(f_1_num_of_terms, f_2_query_length)</td>\n",
       "      <td>-0.006863</td>\n",
       "      <td>-0.338470</td>\n",
       "      <td>False</td>\n",
       "      <td>False</td>\n",
       "      <td>True</td>\n",
       "    </tr>\n",
       "    <tr>\n",
       "      <th>1</th>\n",
       "      <td>(f_1_num_of_terms, f_2_query_length)</td>\n",
       "      <td>-0.019518</td>\n",
       "      <td>-0.347865</td>\n",
       "      <td>False</td>\n",
       "      <td>False</td>\n",
       "      <td>True</td>\n",
       "    </tr>\n",
       "    <tr>\n",
       "      <th>2</th>\n",
       "      <td>(f_1_num_of_terms, f_2_query_length)</td>\n",
       "      <td>-0.031380</td>\n",
       "      <td>-0.284638</td>\n",
       "      <td>False</td>\n",
       "      <td>False</td>\n",
       "      <td>True</td>\n",
       "    </tr>\n",
       "  </tbody>\n",
       "</table>\n",
       "</div>"
      ],
      "text/plain": [
       "                               features    scores  rmse_scores  keyword_f  \\\n",
       "0  (f_1_num_of_terms, f_2_query_length) -0.006863    -0.338470      False   \n",
       "1  (f_1_num_of_terms, f_2_query_length) -0.019518    -0.347865      False   \n",
       "2  (f_1_num_of_terms, f_2_query_length) -0.031380    -0.284638      False   \n",
       "\n",
       "   neural_f  only_query_f  \n",
       "0     False          True  \n",
       "1     False          True  \n",
       "2     False          True  "
      ]
     },
     "execution_count": 40,
     "metadata": {},
     "output_type": "execute_result"
    }
   ],
   "source": [
    "df_metrics.head(3)"
   ]
  },
  {
   "cell_type": "code",
   "execution_count": 41,
   "id": "5ff127d8-ccce-4e6e-bb47-0e8cb65ff60e",
   "metadata": {},
   "outputs": [],
   "source": [
    "df_metrics['rmse_scores'] = df_metrics.rmse_scores.apply(lambda x: (-1)*x)\n",
    "df_metrics['features'] =  df_metrics.features.apply(lambda x: ','.join(x))"
   ]
  },
  {
   "cell_type": "code",
   "execution_count": 42,
   "id": "085958ba-1d12-4e38-8477-8b73c759f0a8",
   "metadata": {},
   "outputs": [
    {
     "data": {
      "text/html": [
       "<div>\n",
       "<style scoped>\n",
       "    .dataframe tbody tr th:only-of-type {\n",
       "        vertical-align: middle;\n",
       "    }\n",
       "\n",
       "    .dataframe tbody tr th {\n",
       "        vertical-align: top;\n",
       "    }\n",
       "\n",
       "    .dataframe thead th {\n",
       "        text-align: right;\n",
       "    }\n",
       "</style>\n",
       "<table border=\"1\" class=\"dataframe\">\n",
       "  <thead>\n",
       "    <tr style=\"text-align: right;\">\n",
       "      <th></th>\n",
       "      <th>features</th>\n",
       "      <th>scores</th>\n",
       "      <th>rmse_scores</th>\n",
       "      <th>keyword_f</th>\n",
       "      <th>neural_f</th>\n",
       "      <th>only_query_f</th>\n",
       "    </tr>\n",
       "  </thead>\n",
       "  <tbody>\n",
       "    <tr>\n",
       "      <th>0</th>\n",
       "      <td>f_1_num_of_terms,f_2_query_length</td>\n",
       "      <td>-0.006863</td>\n",
       "      <td>0.338470</td>\n",
       "      <td>False</td>\n",
       "      <td>False</td>\n",
       "      <td>True</td>\n",
       "    </tr>\n",
       "    <tr>\n",
       "      <th>1</th>\n",
       "      <td>f_1_num_of_terms,f_2_query_length</td>\n",
       "      <td>-0.019518</td>\n",
       "      <td>0.347865</td>\n",
       "      <td>False</td>\n",
       "      <td>False</td>\n",
       "      <td>True</td>\n",
       "    </tr>\n",
       "    <tr>\n",
       "      <th>2</th>\n",
       "      <td>f_1_num_of_terms,f_2_query_length</td>\n",
       "      <td>-0.031380</td>\n",
       "      <td>0.284638</td>\n",
       "      <td>False</td>\n",
       "      <td>False</td>\n",
       "      <td>True</td>\n",
       "    </tr>\n",
       "    <tr>\n",
       "      <th>3</th>\n",
       "      <td>f_1_num_of_terms,f_2_query_length</td>\n",
       "      <td>-0.030340</td>\n",
       "      <td>0.309681</td>\n",
       "      <td>False</td>\n",
       "      <td>False</td>\n",
       "      <td>True</td>\n",
       "    </tr>\n",
       "    <tr>\n",
       "      <th>4</th>\n",
       "      <td>f_1_num_of_terms,f_2_query_length</td>\n",
       "      <td>-0.260015</td>\n",
       "      <td>0.373410</td>\n",
       "      <td>False</td>\n",
       "      <td>False</td>\n",
       "      <td>True</td>\n",
       "    </tr>\n",
       "    <tr>\n",
       "      <th>0</th>\n",
       "      <td>f_1_num_of_terms,f_3_has_numbers</td>\n",
       "      <td>-0.007532</td>\n",
       "      <td>0.338582</td>\n",
       "      <td>False</td>\n",
       "      <td>False</td>\n",
       "      <td>True</td>\n",
       "    </tr>\n",
       "  </tbody>\n",
       "</table>\n",
       "</div>"
      ],
      "text/plain": [
       "                            features    scores  rmse_scores  keyword_f  \\\n",
       "0  f_1_num_of_terms,f_2_query_length -0.006863     0.338470      False   \n",
       "1  f_1_num_of_terms,f_2_query_length -0.019518     0.347865      False   \n",
       "2  f_1_num_of_terms,f_2_query_length -0.031380     0.284638      False   \n",
       "3  f_1_num_of_terms,f_2_query_length -0.030340     0.309681      False   \n",
       "4  f_1_num_of_terms,f_2_query_length -0.260015     0.373410      False   \n",
       "0   f_1_num_of_terms,f_3_has_numbers -0.007532     0.338582      False   \n",
       "\n",
       "   neural_f  only_query_f  \n",
       "0     False          True  \n",
       "1     False          True  \n",
       "2     False          True  \n",
       "3     False          True  \n",
       "4     False          True  \n",
       "0     False          True  "
      ]
     },
     "execution_count": 42,
     "metadata": {},
     "output_type": "execute_result"
    }
   ],
   "source": [
    "df_metrics.head(6)"
   ]
  },
  {
   "cell_type": "code",
   "execution_count": 43,
   "id": "85294ea5-100f-4433-be2d-a9141beba34f",
   "metadata": {},
   "outputs": [],
   "source": [
    "df_agg_metrics = df_metrics.groupby(by=['features', 'keyword_f', 'neural_f', 'only_query_f']).agg({\n",
    "    'rmse_scores': ['mean', 'var']\n",
    "}).reset_index()"
   ]
  },
  {
   "cell_type": "code",
   "execution_count": 44,
   "id": "5ffc20f5-7bda-443e-ae49-7154ff80548a",
   "metadata": {},
   "outputs": [],
   "source": [
    "df_agg_metrics.columns = ['features', 'keyword_f', 'neural_f', 'only_query_f', 'mean_rmse', 'var_rmse']"
   ]
  },
  {
   "cell_type": "code",
   "execution_count": 45,
   "id": "1e184a85-9964-42d4-a669-70785063351d",
   "metadata": {},
   "outputs": [
    {
     "data": {
      "text/html": [
       "<div>\n",
       "<style scoped>\n",
       "    .dataframe tbody tr th:only-of-type {\n",
       "        vertical-align: middle;\n",
       "    }\n",
       "\n",
       "    .dataframe tbody tr th {\n",
       "        vertical-align: top;\n",
       "    }\n",
       "\n",
       "    .dataframe thead th {\n",
       "        text-align: right;\n",
       "    }\n",
       "</style>\n",
       "<table border=\"1\" class=\"dataframe\">\n",
       "  <thead>\n",
       "    <tr style=\"text-align: right;\">\n",
       "      <th></th>\n",
       "      <th>features</th>\n",
       "      <th>keyword_f</th>\n",
       "      <th>neural_f</th>\n",
       "      <th>only_query_f</th>\n",
       "      <th>mean_rmse</th>\n",
       "      <th>var_rmse</th>\n",
       "    </tr>\n",
       "  </thead>\n",
       "  <tbody>\n",
       "    <tr>\n",
       "      <th>0</th>\n",
       "      <td>f_1_num_of_terms,f_2_query_length</td>\n",
       "      <td>False</td>\n",
       "      <td>False</td>\n",
       "      <td>True</td>\n",
       "      <td>0.330813</td>\n",
       "      <td>0.001186</td>\n",
       "    </tr>\n",
       "    <tr>\n",
       "      <th>1</th>\n",
       "      <td>f_1_num_of_terms,f_2_query_length,f_3_has_numbers</td>\n",
       "      <td>False</td>\n",
       "      <td>False</td>\n",
       "      <td>True</td>\n",
       "      <td>0.332031</td>\n",
       "      <td>0.001303</td>\n",
       "    </tr>\n",
       "    <tr>\n",
       "      <th>2</th>\n",
       "      <td>f_1_num_of_terms,f_2_query_length,f_3_has_numb...</td>\n",
       "      <td>False</td>\n",
       "      <td>False</td>\n",
       "      <td>True</td>\n",
       "      <td>0.333961</td>\n",
       "      <td>0.001512</td>\n",
       "    </tr>\n",
       "    <tr>\n",
       "      <th>3</th>\n",
       "      <td>f_1_num_of_terms,f_2_query_length,f_3_has_numb...</td>\n",
       "      <td>True</td>\n",
       "      <td>False</td>\n",
       "      <td>False</td>\n",
       "      <td>0.442141</td>\n",
       "      <td>0.045927</td>\n",
       "    </tr>\n",
       "    <tr>\n",
       "      <th>4</th>\n",
       "      <td>f_1_num_of_terms,f_2_query_length,f_3_has_numb...</td>\n",
       "      <td>True</td>\n",
       "      <td>False</td>\n",
       "      <td>False</td>\n",
       "      <td>0.446210</td>\n",
       "      <td>0.046370</td>\n",
       "    </tr>\n",
       "  </tbody>\n",
       "</table>\n",
       "</div>"
      ],
      "text/plain": [
       "                                            features  keyword_f  neural_f  \\\n",
       "0                  f_1_num_of_terms,f_2_query_length      False     False   \n",
       "1  f_1_num_of_terms,f_2_query_length,f_3_has_numbers      False     False   \n",
       "2  f_1_num_of_terms,f_2_query_length,f_3_has_numb...      False     False   \n",
       "3  f_1_num_of_terms,f_2_query_length,f_3_has_numb...       True     False   \n",
       "4  f_1_num_of_terms,f_2_query_length,f_3_has_numb...       True     False   \n",
       "\n",
       "   only_query_f  mean_rmse  var_rmse  \n",
       "0          True   0.330813  0.001186  \n",
       "1          True   0.332031  0.001303  \n",
       "2          True   0.333961  0.001512  \n",
       "3         False   0.442141  0.045927  \n",
       "4         False   0.446210  0.046370  "
      ]
     },
     "execution_count": 45,
     "metadata": {},
     "output_type": "execute_result"
    }
   ],
   "source": [
    "df_agg_metrics.head(5)"
   ]
  },
  {
   "cell_type": "code",
   "execution_count": 46,
   "id": "1a52a3f7-ffd6-41a6-a55c-47d24f1785fb",
   "metadata": {},
   "outputs": [
    {
     "data": {
      "application/vnd.plotly.v1+json": {
       "config": {
        "plotlyServerURL": "https://plot.ly"
       },
       "data": [
        {
         "alignmentgroup": "True",
         "hovertemplate": "x=%{x}<br>y=%{y}<extra></extra>",
         "legendgroup": "",
         "marker": {
          "color": "#636efa"
         },
         "name": "",
         "notched": false,
         "offsetgroup": "",
         "orientation": "v",
         "showlegend": false,
         "type": "box",
         "x": [
          "f_1_num_of_terms,f_2_query_length",
          "f_1_num_of_terms,f_2_query_length",
          "f_1_num_of_terms,f_2_query_length",
          "f_1_num_of_terms,f_2_query_length",
          "f_1_num_of_terms,f_2_query_length",
          "f_1_num_of_terms,f_2_query_length,f_3_has_numbers",
          "f_1_num_of_terms,f_2_query_length,f_3_has_numbers",
          "f_1_num_of_terms,f_2_query_length,f_3_has_numbers",
          "f_1_num_of_terms,f_2_query_length,f_3_has_numbers",
          "f_1_num_of_terms,f_2_query_length,f_3_has_numbers",
          "f_1_num_of_terms,f_2_query_length,f_3_has_numbers,f_4_has_special_char",
          "f_1_num_of_terms,f_2_query_length,f_3_has_numbers,f_4_has_special_char",
          "f_1_num_of_terms,f_2_query_length,f_3_has_numbers,f_4_has_special_char",
          "f_1_num_of_terms,f_2_query_length,f_3_has_numbers,f_4_has_special_char",
          "f_1_num_of_terms,f_2_query_length,f_3_has_numbers,f_4_has_special_char",
          "f_1_num_of_terms,f_2_query_length,f_3_has_numbers,f_4_has_special_char,f_5_num_results",
          "f_1_num_of_terms,f_2_query_length,f_3_has_numbers,f_4_has_special_char,f_5_num_results",
          "f_1_num_of_terms,f_2_query_length,f_3_has_numbers,f_4_has_special_char,f_5_num_results",
          "f_1_num_of_terms,f_2_query_length,f_3_has_numbers,f_4_has_special_char,f_5_num_results",
          "f_1_num_of_terms,f_2_query_length,f_3_has_numbers,f_4_has_special_char,f_5_num_results",
          "f_1_num_of_terms,f_2_query_length,f_3_has_numbers,f_4_has_special_char,f_5_num_results,f_6_max_title_score",
          "f_1_num_of_terms,f_2_query_length,f_3_has_numbers,f_4_has_special_char,f_5_num_results,f_6_max_title_score",
          "f_1_num_of_terms,f_2_query_length,f_3_has_numbers,f_4_has_special_char,f_5_num_results,f_6_max_title_score",
          "f_1_num_of_terms,f_2_query_length,f_3_has_numbers,f_4_has_special_char,f_5_num_results,f_6_max_title_score",
          "f_1_num_of_terms,f_2_query_length,f_3_has_numbers,f_4_has_special_char,f_5_num_results,f_6_max_title_score",
          "f_1_num_of_terms,f_2_query_length,f_3_has_numbers,f_4_has_special_char,f_5_num_results,f_6_max_title_score,f_7_sum_title_scores",
          "f_1_num_of_terms,f_2_query_length,f_3_has_numbers,f_4_has_special_char,f_5_num_results,f_6_max_title_score,f_7_sum_title_scores",
          "f_1_num_of_terms,f_2_query_length,f_3_has_numbers,f_4_has_special_char,f_5_num_results,f_6_max_title_score,f_7_sum_title_scores",
          "f_1_num_of_terms,f_2_query_length,f_3_has_numbers,f_4_has_special_char,f_5_num_results,f_6_max_title_score,f_7_sum_title_scores",
          "f_1_num_of_terms,f_2_query_length,f_3_has_numbers,f_4_has_special_char,f_5_num_results,f_6_max_title_score,f_7_sum_title_scores",
          "f_1_num_of_terms,f_2_query_length,f_3_has_numbers,f_4_has_special_char,f_5_num_results,f_6_max_title_score,f_8_max_semantic_score",
          "f_1_num_of_terms,f_2_query_length,f_3_has_numbers,f_4_has_special_char,f_5_num_results,f_6_max_title_score,f_8_max_semantic_score",
          "f_1_num_of_terms,f_2_query_length,f_3_has_numbers,f_4_has_special_char,f_5_num_results,f_6_max_title_score,f_8_max_semantic_score",
          "f_1_num_of_terms,f_2_query_length,f_3_has_numbers,f_4_has_special_char,f_5_num_results,f_6_max_title_score,f_8_max_semantic_score",
          "f_1_num_of_terms,f_2_query_length,f_3_has_numbers,f_4_has_special_char,f_5_num_results,f_6_max_title_score,f_8_max_semantic_score",
          "f_1_num_of_terms,f_2_query_length,f_3_has_numbers,f_4_has_special_char,f_5_num_results,f_6_max_title_score,f_7_sum_title_scores,f_8_max_semantic_score",
          "f_1_num_of_terms,f_2_query_length,f_3_has_numbers,f_4_has_special_char,f_5_num_results,f_6_max_title_score,f_7_sum_title_scores,f_8_max_semantic_score",
          "f_1_num_of_terms,f_2_query_length,f_3_has_numbers,f_4_has_special_char,f_5_num_results,f_6_max_title_score,f_7_sum_title_scores,f_8_max_semantic_score",
          "f_1_num_of_terms,f_2_query_length,f_3_has_numbers,f_4_has_special_char,f_5_num_results,f_6_max_title_score,f_7_sum_title_scores,f_8_max_semantic_score",
          "f_1_num_of_terms,f_2_query_length,f_3_has_numbers,f_4_has_special_char,f_5_num_results,f_6_max_title_score,f_7_sum_title_scores,f_8_max_semantic_score",
          "f_1_num_of_terms,f_2_query_length,f_3_has_numbers,f_4_has_special_char,f_5_num_results,f_6_max_title_score,f_7_sum_title_scores,f_9_avg_semantic_score",
          "f_1_num_of_terms,f_2_query_length,f_3_has_numbers,f_4_has_special_char,f_5_num_results,f_6_max_title_score,f_7_sum_title_scores,f_9_avg_semantic_score",
          "f_1_num_of_terms,f_2_query_length,f_3_has_numbers,f_4_has_special_char,f_5_num_results,f_6_max_title_score,f_7_sum_title_scores,f_9_avg_semantic_score",
          "f_1_num_of_terms,f_2_query_length,f_3_has_numbers,f_4_has_special_char,f_5_num_results,f_6_max_title_score,f_7_sum_title_scores,f_9_avg_semantic_score",
          "f_1_num_of_terms,f_2_query_length,f_3_has_numbers,f_4_has_special_char,f_5_num_results,f_6_max_title_score,f_7_sum_title_scores,f_9_avg_semantic_score",
          "f_1_num_of_terms,f_2_query_length,f_3_has_numbers,f_4_has_special_char,f_5_num_results,f_6_max_title_score,f_7_sum_title_scores,f_8_max_semantic_score,f_9_avg_semantic_score",
          "f_1_num_of_terms,f_2_query_length,f_3_has_numbers,f_4_has_special_char,f_5_num_results,f_6_max_title_score,f_7_sum_title_scores,f_8_max_semantic_score,f_9_avg_semantic_score",
          "f_1_num_of_terms,f_2_query_length,f_3_has_numbers,f_4_has_special_char,f_5_num_results,f_6_max_title_score,f_7_sum_title_scores,f_8_max_semantic_score,f_9_avg_semantic_score",
          "f_1_num_of_terms,f_2_query_length,f_3_has_numbers,f_4_has_special_char,f_5_num_results,f_6_max_title_score,f_7_sum_title_scores,f_8_max_semantic_score,f_9_avg_semantic_score",
          "f_1_num_of_terms,f_2_query_length,f_3_has_numbers,f_4_has_special_char,f_5_num_results,f_6_max_title_score,f_7_sum_title_scores,f_8_max_semantic_score,f_9_avg_semantic_score"
         ],
         "x0": " ",
         "xaxis": "x",
         "y": [
          0.338469828488464,
          0.34786468558478395,
          0.2846378728632044,
          0.30968136017578607,
          0.37340959718711736,
          0.33860379971459004,
          0.34871412885476333,
          0.2847156593123462,
          0.30969336261427266,
          0.3784267167531397,
          0.34548474588130595,
          0.3514126216756799,
          0.283873034057447,
          0.3065711877789312,
          0.3824654098067124,
          0.3453138813822471,
          0.35135073629415453,
          0.8222246334154085,
          0.30652059448177243,
          0.38529484406568243,
          0.3584690612950403,
          0.35240112360943915,
          0.8280581242261608,
          0.30659213028781696,
          0.38553189140109756,
          0.35188023715065775,
          0.3485402972233377,
          1.013603745730244,
          0.31036667739960105,
          0.38335125030081707,
          0.35552361227776796,
          0.36189871228455145,
          0.7806204165426002,
          0.3015805160840689,
          0.3776304388976848,
          0.3466408506865544,
          0.3570523751057107,
          0.9756745433030194,
          0.30469994652150706,
          0.3727321216334634,
          0.3505363641498616,
          0.3498263479114868,
          0.9653979686967239,
          0.3085739410146569,
          0.3878039108319097,
          0.34577118069178253,
          0.3621606354140827,
          1.12364940924899,
          0.3044580590634382,
          0.3788705489751901
         ],
         "y0": " ",
         "yaxis": "y"
        }
       ],
       "layout": {
        "boxmode": "group",
        "height": 800,
        "legend": {
         "tracegroupgap": 0
        },
        "template": {
         "data": {
          "bar": [
           {
            "error_x": {
             "color": "#2a3f5f"
            },
            "error_y": {
             "color": "#2a3f5f"
            },
            "marker": {
             "line": {
              "color": "#E5ECF6",
              "width": 0.5
             },
             "pattern": {
              "fillmode": "overlay",
              "size": 10,
              "solidity": 0.2
             }
            },
            "type": "bar"
           }
          ],
          "barpolar": [
           {
            "marker": {
             "line": {
              "color": "#E5ECF6",
              "width": 0.5
             },
             "pattern": {
              "fillmode": "overlay",
              "size": 10,
              "solidity": 0.2
             }
            },
            "type": "barpolar"
           }
          ],
          "carpet": [
           {
            "aaxis": {
             "endlinecolor": "#2a3f5f",
             "gridcolor": "white",
             "linecolor": "white",
             "minorgridcolor": "white",
             "startlinecolor": "#2a3f5f"
            },
            "baxis": {
             "endlinecolor": "#2a3f5f",
             "gridcolor": "white",
             "linecolor": "white",
             "minorgridcolor": "white",
             "startlinecolor": "#2a3f5f"
            },
            "type": "carpet"
           }
          ],
          "choropleth": [
           {
            "colorbar": {
             "outlinewidth": 0,
             "ticks": ""
            },
            "type": "choropleth"
           }
          ],
          "contour": [
           {
            "colorbar": {
             "outlinewidth": 0,
             "ticks": ""
            },
            "colorscale": [
             [
              0,
              "#0d0887"
             ],
             [
              0.1111111111111111,
              "#46039f"
             ],
             [
              0.2222222222222222,
              "#7201a8"
             ],
             [
              0.3333333333333333,
              "#9c179e"
             ],
             [
              0.4444444444444444,
              "#bd3786"
             ],
             [
              0.5555555555555556,
              "#d8576b"
             ],
             [
              0.6666666666666666,
              "#ed7953"
             ],
             [
              0.7777777777777778,
              "#fb9f3a"
             ],
             [
              0.8888888888888888,
              "#fdca26"
             ],
             [
              1,
              "#f0f921"
             ]
            ],
            "type": "contour"
           }
          ],
          "contourcarpet": [
           {
            "colorbar": {
             "outlinewidth": 0,
             "ticks": ""
            },
            "type": "contourcarpet"
           }
          ],
          "heatmap": [
           {
            "colorbar": {
             "outlinewidth": 0,
             "ticks": ""
            },
            "colorscale": [
             [
              0,
              "#0d0887"
             ],
             [
              0.1111111111111111,
              "#46039f"
             ],
             [
              0.2222222222222222,
              "#7201a8"
             ],
             [
              0.3333333333333333,
              "#9c179e"
             ],
             [
              0.4444444444444444,
              "#bd3786"
             ],
             [
              0.5555555555555556,
              "#d8576b"
             ],
             [
              0.6666666666666666,
              "#ed7953"
             ],
             [
              0.7777777777777778,
              "#fb9f3a"
             ],
             [
              0.8888888888888888,
              "#fdca26"
             ],
             [
              1,
              "#f0f921"
             ]
            ],
            "type": "heatmap"
           }
          ],
          "heatmapgl": [
           {
            "colorbar": {
             "outlinewidth": 0,
             "ticks": ""
            },
            "colorscale": [
             [
              0,
              "#0d0887"
             ],
             [
              0.1111111111111111,
              "#46039f"
             ],
             [
              0.2222222222222222,
              "#7201a8"
             ],
             [
              0.3333333333333333,
              "#9c179e"
             ],
             [
              0.4444444444444444,
              "#bd3786"
             ],
             [
              0.5555555555555556,
              "#d8576b"
             ],
             [
              0.6666666666666666,
              "#ed7953"
             ],
             [
              0.7777777777777778,
              "#fb9f3a"
             ],
             [
              0.8888888888888888,
              "#fdca26"
             ],
             [
              1,
              "#f0f921"
             ]
            ],
            "type": "heatmapgl"
           }
          ],
          "histogram": [
           {
            "marker": {
             "pattern": {
              "fillmode": "overlay",
              "size": 10,
              "solidity": 0.2
             }
            },
            "type": "histogram"
           }
          ],
          "histogram2d": [
           {
            "colorbar": {
             "outlinewidth": 0,
             "ticks": ""
            },
            "colorscale": [
             [
              0,
              "#0d0887"
             ],
             [
              0.1111111111111111,
              "#46039f"
             ],
             [
              0.2222222222222222,
              "#7201a8"
             ],
             [
              0.3333333333333333,
              "#9c179e"
             ],
             [
              0.4444444444444444,
              "#bd3786"
             ],
             [
              0.5555555555555556,
              "#d8576b"
             ],
             [
              0.6666666666666666,
              "#ed7953"
             ],
             [
              0.7777777777777778,
              "#fb9f3a"
             ],
             [
              0.8888888888888888,
              "#fdca26"
             ],
             [
              1,
              "#f0f921"
             ]
            ],
            "type": "histogram2d"
           }
          ],
          "histogram2dcontour": [
           {
            "colorbar": {
             "outlinewidth": 0,
             "ticks": ""
            },
            "colorscale": [
             [
              0,
              "#0d0887"
             ],
             [
              0.1111111111111111,
              "#46039f"
             ],
             [
              0.2222222222222222,
              "#7201a8"
             ],
             [
              0.3333333333333333,
              "#9c179e"
             ],
             [
              0.4444444444444444,
              "#bd3786"
             ],
             [
              0.5555555555555556,
              "#d8576b"
             ],
             [
              0.6666666666666666,
              "#ed7953"
             ],
             [
              0.7777777777777778,
              "#fb9f3a"
             ],
             [
              0.8888888888888888,
              "#fdca26"
             ],
             [
              1,
              "#f0f921"
             ]
            ],
            "type": "histogram2dcontour"
           }
          ],
          "mesh3d": [
           {
            "colorbar": {
             "outlinewidth": 0,
             "ticks": ""
            },
            "type": "mesh3d"
           }
          ],
          "parcoords": [
           {
            "line": {
             "colorbar": {
              "outlinewidth": 0,
              "ticks": ""
             }
            },
            "type": "parcoords"
           }
          ],
          "pie": [
           {
            "automargin": true,
            "type": "pie"
           }
          ],
          "scatter": [
           {
            "fillpattern": {
             "fillmode": "overlay",
             "size": 10,
             "solidity": 0.2
            },
            "type": "scatter"
           }
          ],
          "scatter3d": [
           {
            "line": {
             "colorbar": {
              "outlinewidth": 0,
              "ticks": ""
             }
            },
            "marker": {
             "colorbar": {
              "outlinewidth": 0,
              "ticks": ""
             }
            },
            "type": "scatter3d"
           }
          ],
          "scattercarpet": [
           {
            "marker": {
             "colorbar": {
              "outlinewidth": 0,
              "ticks": ""
             }
            },
            "type": "scattercarpet"
           }
          ],
          "scattergeo": [
           {
            "marker": {
             "colorbar": {
              "outlinewidth": 0,
              "ticks": ""
             }
            },
            "type": "scattergeo"
           }
          ],
          "scattergl": [
           {
            "marker": {
             "colorbar": {
              "outlinewidth": 0,
              "ticks": ""
             }
            },
            "type": "scattergl"
           }
          ],
          "scattermapbox": [
           {
            "marker": {
             "colorbar": {
              "outlinewidth": 0,
              "ticks": ""
             }
            },
            "type": "scattermapbox"
           }
          ],
          "scatterpolar": [
           {
            "marker": {
             "colorbar": {
              "outlinewidth": 0,
              "ticks": ""
             }
            },
            "type": "scatterpolar"
           }
          ],
          "scatterpolargl": [
           {
            "marker": {
             "colorbar": {
              "outlinewidth": 0,
              "ticks": ""
             }
            },
            "type": "scatterpolargl"
           }
          ],
          "scatterternary": [
           {
            "marker": {
             "colorbar": {
              "outlinewidth": 0,
              "ticks": ""
             }
            },
            "type": "scatterternary"
           }
          ],
          "surface": [
           {
            "colorbar": {
             "outlinewidth": 0,
             "ticks": ""
            },
            "colorscale": [
             [
              0,
              "#0d0887"
             ],
             [
              0.1111111111111111,
              "#46039f"
             ],
             [
              0.2222222222222222,
              "#7201a8"
             ],
             [
              0.3333333333333333,
              "#9c179e"
             ],
             [
              0.4444444444444444,
              "#bd3786"
             ],
             [
              0.5555555555555556,
              "#d8576b"
             ],
             [
              0.6666666666666666,
              "#ed7953"
             ],
             [
              0.7777777777777778,
              "#fb9f3a"
             ],
             [
              0.8888888888888888,
              "#fdca26"
             ],
             [
              1,
              "#f0f921"
             ]
            ],
            "type": "surface"
           }
          ],
          "table": [
           {
            "cells": {
             "fill": {
              "color": "#EBF0F8"
             },
             "line": {
              "color": "white"
             }
            },
            "header": {
             "fill": {
              "color": "#C8D4E3"
             },
             "line": {
              "color": "white"
             }
            },
            "type": "table"
           }
          ]
         },
         "layout": {
          "annotationdefaults": {
           "arrowcolor": "#2a3f5f",
           "arrowhead": 0,
           "arrowwidth": 1
          },
          "autotypenumbers": "strict",
          "coloraxis": {
           "colorbar": {
            "outlinewidth": 0,
            "ticks": ""
           }
          },
          "colorscale": {
           "diverging": [
            [
             0,
             "#8e0152"
            ],
            [
             0.1,
             "#c51b7d"
            ],
            [
             0.2,
             "#de77ae"
            ],
            [
             0.3,
             "#f1b6da"
            ],
            [
             0.4,
             "#fde0ef"
            ],
            [
             0.5,
             "#f7f7f7"
            ],
            [
             0.6,
             "#e6f5d0"
            ],
            [
             0.7,
             "#b8e186"
            ],
            [
             0.8,
             "#7fbc41"
            ],
            [
             0.9,
             "#4d9221"
            ],
            [
             1,
             "#276419"
            ]
           ],
           "sequential": [
            [
             0,
             "#0d0887"
            ],
            [
             0.1111111111111111,
             "#46039f"
            ],
            [
             0.2222222222222222,
             "#7201a8"
            ],
            [
             0.3333333333333333,
             "#9c179e"
            ],
            [
             0.4444444444444444,
             "#bd3786"
            ],
            [
             0.5555555555555556,
             "#d8576b"
            ],
            [
             0.6666666666666666,
             "#ed7953"
            ],
            [
             0.7777777777777778,
             "#fb9f3a"
            ],
            [
             0.8888888888888888,
             "#fdca26"
            ],
            [
             1,
             "#f0f921"
            ]
           ],
           "sequentialminus": [
            [
             0,
             "#0d0887"
            ],
            [
             0.1111111111111111,
             "#46039f"
            ],
            [
             0.2222222222222222,
             "#7201a8"
            ],
            [
             0.3333333333333333,
             "#9c179e"
            ],
            [
             0.4444444444444444,
             "#bd3786"
            ],
            [
             0.5555555555555556,
             "#d8576b"
            ],
            [
             0.6666666666666666,
             "#ed7953"
            ],
            [
             0.7777777777777778,
             "#fb9f3a"
            ],
            [
             0.8888888888888888,
             "#fdca26"
            ],
            [
             1,
             "#f0f921"
            ]
           ]
          },
          "colorway": [
           "#636efa",
           "#EF553B",
           "#00cc96",
           "#ab63fa",
           "#FFA15A",
           "#19d3f3",
           "#FF6692",
           "#B6E880",
           "#FF97FF",
           "#FECB52"
          ],
          "font": {
           "color": "#2a3f5f"
          },
          "geo": {
           "bgcolor": "white",
           "lakecolor": "white",
           "landcolor": "#E5ECF6",
           "showlakes": true,
           "showland": true,
           "subunitcolor": "white"
          },
          "hoverlabel": {
           "align": "left"
          },
          "hovermode": "closest",
          "mapbox": {
           "style": "light"
          },
          "paper_bgcolor": "white",
          "plot_bgcolor": "#E5ECF6",
          "polar": {
           "angularaxis": {
            "gridcolor": "white",
            "linecolor": "white",
            "ticks": ""
           },
           "bgcolor": "#E5ECF6",
           "radialaxis": {
            "gridcolor": "white",
            "linecolor": "white",
            "ticks": ""
           }
          },
          "scene": {
           "xaxis": {
            "backgroundcolor": "#E5ECF6",
            "gridcolor": "white",
            "gridwidth": 2,
            "linecolor": "white",
            "showbackground": true,
            "ticks": "",
            "zerolinecolor": "white"
           },
           "yaxis": {
            "backgroundcolor": "#E5ECF6",
            "gridcolor": "white",
            "gridwidth": 2,
            "linecolor": "white",
            "showbackground": true,
            "ticks": "",
            "zerolinecolor": "white"
           },
           "zaxis": {
            "backgroundcolor": "#E5ECF6",
            "gridcolor": "white",
            "gridwidth": 2,
            "linecolor": "white",
            "showbackground": true,
            "ticks": "",
            "zerolinecolor": "white"
           }
          },
          "shapedefaults": {
           "line": {
            "color": "#2a3f5f"
           }
          },
          "ternary": {
           "aaxis": {
            "gridcolor": "white",
            "linecolor": "white",
            "ticks": ""
           },
           "baxis": {
            "gridcolor": "white",
            "linecolor": "white",
            "ticks": ""
           },
           "bgcolor": "#E5ECF6",
           "caxis": {
            "gridcolor": "white",
            "linecolor": "white",
            "ticks": ""
           }
          },
          "title": {
           "x": 0.05
          },
          "xaxis": {
           "automargin": true,
           "gridcolor": "white",
           "linecolor": "white",
           "ticks": "",
           "title": {
            "standoff": 15
           },
           "zerolinecolor": "white",
           "zerolinewidth": 2
          },
          "yaxis": {
           "automargin": true,
           "gridcolor": "white",
           "linecolor": "white",
           "ticks": "",
           "title": {
            "standoff": 15
           },
           "zerolinecolor": "white",
           "zerolinewidth": 2
          }
         }
        },
        "title": {
         "text": "Top 10 Feature Combinations"
        },
        "width": 1100,
        "xaxis": {
         "anchor": "y",
         "autorange": true,
         "domain": [
          0,
          1
         ],
         "range": [
          -0.5,
          9.5
         ],
         "showticklabels": false,
         "title": {
          "text": "feature combinations"
         },
         "type": "category"
        },
        "yaxis": {
         "anchor": "x",
         "autorange": true,
         "domain": [
          0,
          1
         ],
         "range": [
          0.2372187909912502,
          1.1703036523151868
         ],
         "title": {
          "text": "rmse scores"
         },
         "type": "linear"
        }
       }
      }
     },
     "metadata": {},
     "output_type": "display_data"
    }
   ],
   "source": [
    "pio.renderers.default = 'plotly_mimetype'\n",
    "x = df_agg_metrics['features'].head(10)\n",
    "\n",
    "fig = px.box(df_metrics, x=df_metrics[df_metrics['features'].isin(x)]['features'],\n",
    "             y=df_metrics[df_metrics['features'].isin(x)]['rmse_scores'], title='RMSE Boxplot of Top 10 Feature Combinations')\n",
    "fig.update_layout(height=800, width=1100,\n",
    "                  title_text=\"Top 10 Feature Combinations\",\n",
    "                  xaxis_title=\"feature combinations\", yaxis_title=\"rmse scores\")\n",
    "fig.update_xaxes(showticklabels=False)\n",
    "fig.show()"
   ]
  },
  {
   "cell_type": "code",
   "execution_count": 47,
   "id": "ebc7e26b-4a5c-4119-bdcf-6207947aa65a",
   "metadata": {},
   "outputs": [
    {
     "data": {
      "text/html": [
       "<div>\n",
       "<style scoped>\n",
       "    .dataframe tbody tr th:only-of-type {\n",
       "        vertical-align: middle;\n",
       "    }\n",
       "\n",
       "    .dataframe tbody tr th {\n",
       "        vertical-align: top;\n",
       "    }\n",
       "\n",
       "    .dataframe thead th {\n",
       "        text-align: right;\n",
       "    }\n",
       "</style>\n",
       "<table border=\"1\" class=\"dataframe\">\n",
       "  <thead>\n",
       "    <tr style=\"text-align: right;\">\n",
       "      <th></th>\n",
       "      <th>features</th>\n",
       "      <th>keyword_f</th>\n",
       "      <th>neural_f</th>\n",
       "      <th>only_query_f</th>\n",
       "      <th>mean_rmse</th>\n",
       "      <th>var_rmse</th>\n",
       "    </tr>\n",
       "  </thead>\n",
       "  <tbody>\n",
       "    <tr>\n",
       "      <th>473</th>\n",
       "      <td>f_4_has_special_char,f_8_max_semantic_score</td>\n",
       "      <td>False</td>\n",
       "      <td>True</td>\n",
       "      <td>False</td>\n",
       "      <td>0.318835</td>\n",
       "      <td>0.000895</td>\n",
       "    </tr>\n",
       "    <tr>\n",
       "      <th>474</th>\n",
       "      <td>f_4_has_special_char,f_8_max_semantic_score,f_...</td>\n",
       "      <td>False</td>\n",
       "      <td>True</td>\n",
       "      <td>False</td>\n",
       "      <td>0.318906</td>\n",
       "      <td>0.000859</td>\n",
       "    </tr>\n",
       "    <tr>\n",
       "      <th>501</th>\n",
       "      <td>f_8_max_semantic_score,f_9_avg_semantic_score</td>\n",
       "      <td>False</td>\n",
       "      <td>True</td>\n",
       "      <td>False</td>\n",
       "      <td>0.319009</td>\n",
       "      <td>0.000734</td>\n",
       "    </tr>\n",
       "    <tr>\n",
       "      <th>411</th>\n",
       "      <td>f_3_has_numbers,f_4_has_special_char,f_8_max_s...</td>\n",
       "      <td>False</td>\n",
       "      <td>True</td>\n",
       "      <td>False</td>\n",
       "      <td>0.319089</td>\n",
       "      <td>0.000895</td>\n",
       "    </tr>\n",
       "    <tr>\n",
       "      <th>412</th>\n",
       "      <td>f_3_has_numbers,f_4_has_special_char,f_8_max_s...</td>\n",
       "      <td>False</td>\n",
       "      <td>True</td>\n",
       "      <td>False</td>\n",
       "      <td>0.319164</td>\n",
       "      <td>0.000855</td>\n",
       "    </tr>\n",
       "  </tbody>\n",
       "</table>\n",
       "</div>"
      ],
      "text/plain": [
       "                                              features  keyword_f  neural_f  \\\n",
       "473        f_4_has_special_char,f_8_max_semantic_score      False      True   \n",
       "474  f_4_has_special_char,f_8_max_semantic_score,f_...      False      True   \n",
       "501      f_8_max_semantic_score,f_9_avg_semantic_score      False      True   \n",
       "411  f_3_has_numbers,f_4_has_special_char,f_8_max_s...      False      True   \n",
       "412  f_3_has_numbers,f_4_has_special_char,f_8_max_s...      False      True   \n",
       "\n",
       "     only_query_f  mean_rmse  var_rmse  \n",
       "473         False   0.318835  0.000895  \n",
       "474         False   0.318906  0.000859  \n",
       "501         False   0.319009  0.000734  \n",
       "411         False   0.319089  0.000895  \n",
       "412         False   0.319164  0.000855  "
      ]
     },
     "execution_count": 47,
     "metadata": {},
     "output_type": "execute_result"
    }
   ],
   "source": [
    "df_agg_metrics.sort_values(by=['mean_rmse']).head(5)"
   ]
  },
  {
   "cell_type": "code",
   "execution_count": 48,
   "id": "cfe692ef-ef9d-47bb-bc2c-5178378a15c7",
   "metadata": {},
   "outputs": [
    {
     "data": {
      "text/html": [
       "<div>\n",
       "<style scoped>\n",
       "    .dataframe tbody tr th:only-of-type {\n",
       "        vertical-align: middle;\n",
       "    }\n",
       "\n",
       "    .dataframe tbody tr th {\n",
       "        vertical-align: top;\n",
       "    }\n",
       "\n",
       "    .dataframe thead th {\n",
       "        text-align: right;\n",
       "    }\n",
       "</style>\n",
       "<table border=\"1\" class=\"dataframe\">\n",
       "  <thead>\n",
       "    <tr style=\"text-align: right;\">\n",
       "      <th></th>\n",
       "      <th>features</th>\n",
       "      <th>keyword_f</th>\n",
       "      <th>neural_f</th>\n",
       "      <th>only_query_f</th>\n",
       "      <th>mean_rmse</th>\n",
       "      <th>var_rmse</th>\n",
       "    </tr>\n",
       "  </thead>\n",
       "  <tbody>\n",
       "    <tr>\n",
       "      <th>382</th>\n",
       "      <td>f_3_has_numbers,f_4_has_special_char</td>\n",
       "      <td>False</td>\n",
       "      <td>False</td>\n",
       "      <td>True</td>\n",
       "      <td>0.322308</td>\n",
       "      <td>0.000745</td>\n",
       "    </tr>\n",
       "    <tr>\n",
       "      <th>255</th>\n",
       "      <td>f_2_query_length,f_3_has_numbers</td>\n",
       "      <td>False</td>\n",
       "      <td>False</td>\n",
       "      <td>True</td>\n",
       "      <td>0.325827</td>\n",
       "      <td>0.000783</td>\n",
       "    </tr>\n",
       "    <tr>\n",
       "      <th>319</th>\n",
       "      <td>f_2_query_length,f_4_has_special_char</td>\n",
       "      <td>False</td>\n",
       "      <td>False</td>\n",
       "      <td>True</td>\n",
       "      <td>0.326538</td>\n",
       "      <td>0.000898</td>\n",
       "    </tr>\n",
       "    <tr>\n",
       "      <th>256</th>\n",
       "      <td>f_2_query_length,f_3_has_numbers,f_4_has_speci...</td>\n",
       "      <td>False</td>\n",
       "      <td>False</td>\n",
       "      <td>True</td>\n",
       "      <td>0.326572</td>\n",
       "      <td>0.000896</td>\n",
       "    </tr>\n",
       "    <tr>\n",
       "      <th>128</th>\n",
       "      <td>f_1_num_of_terms,f_3_has_numbers</td>\n",
       "      <td>False</td>\n",
       "      <td>False</td>\n",
       "      <td>True</td>\n",
       "      <td>0.329833</td>\n",
       "      <td>0.001103</td>\n",
       "    </tr>\n",
       "  </tbody>\n",
       "</table>\n",
       "</div>"
      ],
      "text/plain": [
       "                                              features  keyword_f  neural_f  \\\n",
       "382               f_3_has_numbers,f_4_has_special_char      False     False   \n",
       "255                   f_2_query_length,f_3_has_numbers      False     False   \n",
       "319              f_2_query_length,f_4_has_special_char      False     False   \n",
       "256  f_2_query_length,f_3_has_numbers,f_4_has_speci...      False     False   \n",
       "128                   f_1_num_of_terms,f_3_has_numbers      False     False   \n",
       "\n",
       "     only_query_f  mean_rmse  var_rmse  \n",
       "382          True   0.322308  0.000745  \n",
       "255          True   0.325827  0.000783  \n",
       "319          True   0.326538  0.000898  \n",
       "256          True   0.326572  0.000896  \n",
       "128          True   0.329833  0.001103  "
      ]
     },
     "execution_count": 48,
     "metadata": {},
     "output_type": "execute_result"
    }
   ],
   "source": [
    "df_agg_metrics[df_agg_metrics['only_query_f'] == True].sort_values(by=['mean_rmse']).head(5)"
   ]
  },
  {
   "cell_type": "code",
   "execution_count": 49,
   "id": "937870ae-3ca0-4e68-8570-f3d29cfdbdd4",
   "metadata": {},
   "outputs": [
    {
     "data": {
      "application/vnd.plotly.v1+json": {
       "config": {
        "plotlyServerURL": "https://plot.ly"
       },
       "data": [
        {
         "alignmentgroup": "True",
         "hovertemplate": "mean_rmse=%{y}<extra></extra>",
         "legendgroup": "",
         "marker": {
          "color": "#636efa"
         },
         "name": "",
         "notched": false,
         "offsetgroup": "",
         "orientation": "v",
         "showlegend": false,
         "type": "box",
         "x0": " ",
         "xaxis": "x",
         "y": [
          0.3188353751609646,
          0.31890576236429535,
          0.3190093030147664,
          0.31908854648887286,
          0.31916444396522914,
          0.3193451876956759,
          0.3193646852598204,
          0.3197173936087022,
          0.31981914277349927,
          0.3198901350836817
         ],
         "y0": " ",
         "yaxis": "y"
        }
       ],
       "layout": {
        "autosize": true,
        "boxmode": "group",
        "legend": {
         "tracegroupgap": 0
        },
        "template": {
         "data": {
          "bar": [
           {
            "error_x": {
             "color": "#2a3f5f"
            },
            "error_y": {
             "color": "#2a3f5f"
            },
            "marker": {
             "line": {
              "color": "#E5ECF6",
              "width": 0.5
             },
             "pattern": {
              "fillmode": "overlay",
              "size": 10,
              "solidity": 0.2
             }
            },
            "type": "bar"
           }
          ],
          "barpolar": [
           {
            "marker": {
             "line": {
              "color": "#E5ECF6",
              "width": 0.5
             },
             "pattern": {
              "fillmode": "overlay",
              "size": 10,
              "solidity": 0.2
             }
            },
            "type": "barpolar"
           }
          ],
          "carpet": [
           {
            "aaxis": {
             "endlinecolor": "#2a3f5f",
             "gridcolor": "white",
             "linecolor": "white",
             "minorgridcolor": "white",
             "startlinecolor": "#2a3f5f"
            },
            "baxis": {
             "endlinecolor": "#2a3f5f",
             "gridcolor": "white",
             "linecolor": "white",
             "minorgridcolor": "white",
             "startlinecolor": "#2a3f5f"
            },
            "type": "carpet"
           }
          ],
          "choropleth": [
           {
            "colorbar": {
             "outlinewidth": 0,
             "ticks": ""
            },
            "type": "choropleth"
           }
          ],
          "contour": [
           {
            "colorbar": {
             "outlinewidth": 0,
             "ticks": ""
            },
            "colorscale": [
             [
              0,
              "#0d0887"
             ],
             [
              0.1111111111111111,
              "#46039f"
             ],
             [
              0.2222222222222222,
              "#7201a8"
             ],
             [
              0.3333333333333333,
              "#9c179e"
             ],
             [
              0.4444444444444444,
              "#bd3786"
             ],
             [
              0.5555555555555556,
              "#d8576b"
             ],
             [
              0.6666666666666666,
              "#ed7953"
             ],
             [
              0.7777777777777778,
              "#fb9f3a"
             ],
             [
              0.8888888888888888,
              "#fdca26"
             ],
             [
              1,
              "#f0f921"
             ]
            ],
            "type": "contour"
           }
          ],
          "contourcarpet": [
           {
            "colorbar": {
             "outlinewidth": 0,
             "ticks": ""
            },
            "type": "contourcarpet"
           }
          ],
          "heatmap": [
           {
            "colorbar": {
             "outlinewidth": 0,
             "ticks": ""
            },
            "colorscale": [
             [
              0,
              "#0d0887"
             ],
             [
              0.1111111111111111,
              "#46039f"
             ],
             [
              0.2222222222222222,
              "#7201a8"
             ],
             [
              0.3333333333333333,
              "#9c179e"
             ],
             [
              0.4444444444444444,
              "#bd3786"
             ],
             [
              0.5555555555555556,
              "#d8576b"
             ],
             [
              0.6666666666666666,
              "#ed7953"
             ],
             [
              0.7777777777777778,
              "#fb9f3a"
             ],
             [
              0.8888888888888888,
              "#fdca26"
             ],
             [
              1,
              "#f0f921"
             ]
            ],
            "type": "heatmap"
           }
          ],
          "heatmapgl": [
           {
            "colorbar": {
             "outlinewidth": 0,
             "ticks": ""
            },
            "colorscale": [
             [
              0,
              "#0d0887"
             ],
             [
              0.1111111111111111,
              "#46039f"
             ],
             [
              0.2222222222222222,
              "#7201a8"
             ],
             [
              0.3333333333333333,
              "#9c179e"
             ],
             [
              0.4444444444444444,
              "#bd3786"
             ],
             [
              0.5555555555555556,
              "#d8576b"
             ],
             [
              0.6666666666666666,
              "#ed7953"
             ],
             [
              0.7777777777777778,
              "#fb9f3a"
             ],
             [
              0.8888888888888888,
              "#fdca26"
             ],
             [
              1,
              "#f0f921"
             ]
            ],
            "type": "heatmapgl"
           }
          ],
          "histogram": [
           {
            "marker": {
             "pattern": {
              "fillmode": "overlay",
              "size": 10,
              "solidity": 0.2
             }
            },
            "type": "histogram"
           }
          ],
          "histogram2d": [
           {
            "colorbar": {
             "outlinewidth": 0,
             "ticks": ""
            },
            "colorscale": [
             [
              0,
              "#0d0887"
             ],
             [
              0.1111111111111111,
              "#46039f"
             ],
             [
              0.2222222222222222,
              "#7201a8"
             ],
             [
              0.3333333333333333,
              "#9c179e"
             ],
             [
              0.4444444444444444,
              "#bd3786"
             ],
             [
              0.5555555555555556,
              "#d8576b"
             ],
             [
              0.6666666666666666,
              "#ed7953"
             ],
             [
              0.7777777777777778,
              "#fb9f3a"
             ],
             [
              0.8888888888888888,
              "#fdca26"
             ],
             [
              1,
              "#f0f921"
             ]
            ],
            "type": "histogram2d"
           }
          ],
          "histogram2dcontour": [
           {
            "colorbar": {
             "outlinewidth": 0,
             "ticks": ""
            },
            "colorscale": [
             [
              0,
              "#0d0887"
             ],
             [
              0.1111111111111111,
              "#46039f"
             ],
             [
              0.2222222222222222,
              "#7201a8"
             ],
             [
              0.3333333333333333,
              "#9c179e"
             ],
             [
              0.4444444444444444,
              "#bd3786"
             ],
             [
              0.5555555555555556,
              "#d8576b"
             ],
             [
              0.6666666666666666,
              "#ed7953"
             ],
             [
              0.7777777777777778,
              "#fb9f3a"
             ],
             [
              0.8888888888888888,
              "#fdca26"
             ],
             [
              1,
              "#f0f921"
             ]
            ],
            "type": "histogram2dcontour"
           }
          ],
          "mesh3d": [
           {
            "colorbar": {
             "outlinewidth": 0,
             "ticks": ""
            },
            "type": "mesh3d"
           }
          ],
          "parcoords": [
           {
            "line": {
             "colorbar": {
              "outlinewidth": 0,
              "ticks": ""
             }
            },
            "type": "parcoords"
           }
          ],
          "pie": [
           {
            "automargin": true,
            "type": "pie"
           }
          ],
          "scatter": [
           {
            "fillpattern": {
             "fillmode": "overlay",
             "size": 10,
             "solidity": 0.2
            },
            "type": "scatter"
           }
          ],
          "scatter3d": [
           {
            "line": {
             "colorbar": {
              "outlinewidth": 0,
              "ticks": ""
             }
            },
            "marker": {
             "colorbar": {
              "outlinewidth": 0,
              "ticks": ""
             }
            },
            "type": "scatter3d"
           }
          ],
          "scattercarpet": [
           {
            "marker": {
             "colorbar": {
              "outlinewidth": 0,
              "ticks": ""
             }
            },
            "type": "scattercarpet"
           }
          ],
          "scattergeo": [
           {
            "marker": {
             "colorbar": {
              "outlinewidth": 0,
              "ticks": ""
             }
            },
            "type": "scattergeo"
           }
          ],
          "scattergl": [
           {
            "marker": {
             "colorbar": {
              "outlinewidth": 0,
              "ticks": ""
             }
            },
            "type": "scattergl"
           }
          ],
          "scattermapbox": [
           {
            "marker": {
             "colorbar": {
              "outlinewidth": 0,
              "ticks": ""
             }
            },
            "type": "scattermapbox"
           }
          ],
          "scatterpolar": [
           {
            "marker": {
             "colorbar": {
              "outlinewidth": 0,
              "ticks": ""
             }
            },
            "type": "scatterpolar"
           }
          ],
          "scatterpolargl": [
           {
            "marker": {
             "colorbar": {
              "outlinewidth": 0,
              "ticks": ""
             }
            },
            "type": "scatterpolargl"
           }
          ],
          "scatterternary": [
           {
            "marker": {
             "colorbar": {
              "outlinewidth": 0,
              "ticks": ""
             }
            },
            "type": "scatterternary"
           }
          ],
          "surface": [
           {
            "colorbar": {
             "outlinewidth": 0,
             "ticks": ""
            },
            "colorscale": [
             [
              0,
              "#0d0887"
             ],
             [
              0.1111111111111111,
              "#46039f"
             ],
             [
              0.2222222222222222,
              "#7201a8"
             ],
             [
              0.3333333333333333,
              "#9c179e"
             ],
             [
              0.4444444444444444,
              "#bd3786"
             ],
             [
              0.5555555555555556,
              "#d8576b"
             ],
             [
              0.6666666666666666,
              "#ed7953"
             ],
             [
              0.7777777777777778,
              "#fb9f3a"
             ],
             [
              0.8888888888888888,
              "#fdca26"
             ],
             [
              1,
              "#f0f921"
             ]
            ],
            "type": "surface"
           }
          ],
          "table": [
           {
            "cells": {
             "fill": {
              "color": "#EBF0F8"
             },
             "line": {
              "color": "white"
             }
            },
            "header": {
             "fill": {
              "color": "#C8D4E3"
             },
             "line": {
              "color": "white"
             }
            },
            "type": "table"
           }
          ]
         },
         "layout": {
          "annotationdefaults": {
           "arrowcolor": "#2a3f5f",
           "arrowhead": 0,
           "arrowwidth": 1
          },
          "autotypenumbers": "strict",
          "coloraxis": {
           "colorbar": {
            "outlinewidth": 0,
            "ticks": ""
           }
          },
          "colorscale": {
           "diverging": [
            [
             0,
             "#8e0152"
            ],
            [
             0.1,
             "#c51b7d"
            ],
            [
             0.2,
             "#de77ae"
            ],
            [
             0.3,
             "#f1b6da"
            ],
            [
             0.4,
             "#fde0ef"
            ],
            [
             0.5,
             "#f7f7f7"
            ],
            [
             0.6,
             "#e6f5d0"
            ],
            [
             0.7,
             "#b8e186"
            ],
            [
             0.8,
             "#7fbc41"
            ],
            [
             0.9,
             "#4d9221"
            ],
            [
             1,
             "#276419"
            ]
           ],
           "sequential": [
            [
             0,
             "#0d0887"
            ],
            [
             0.1111111111111111,
             "#46039f"
            ],
            [
             0.2222222222222222,
             "#7201a8"
            ],
            [
             0.3333333333333333,
             "#9c179e"
            ],
            [
             0.4444444444444444,
             "#bd3786"
            ],
            [
             0.5555555555555556,
             "#d8576b"
            ],
            [
             0.6666666666666666,
             "#ed7953"
            ],
            [
             0.7777777777777778,
             "#fb9f3a"
            ],
            [
             0.8888888888888888,
             "#fdca26"
            ],
            [
             1,
             "#f0f921"
            ]
           ],
           "sequentialminus": [
            [
             0,
             "#0d0887"
            ],
            [
             0.1111111111111111,
             "#46039f"
            ],
            [
             0.2222222222222222,
             "#7201a8"
            ],
            [
             0.3333333333333333,
             "#9c179e"
            ],
            [
             0.4444444444444444,
             "#bd3786"
            ],
            [
             0.5555555555555556,
             "#d8576b"
            ],
            [
             0.6666666666666666,
             "#ed7953"
            ],
            [
             0.7777777777777778,
             "#fb9f3a"
            ],
            [
             0.8888888888888888,
             "#fdca26"
            ],
            [
             1,
             "#f0f921"
            ]
           ]
          },
          "colorway": [
           "#636efa",
           "#EF553B",
           "#00cc96",
           "#ab63fa",
           "#FFA15A",
           "#19d3f3",
           "#FF6692",
           "#B6E880",
           "#FF97FF",
           "#FECB52"
          ],
          "font": {
           "color": "#2a3f5f"
          },
          "geo": {
           "bgcolor": "white",
           "lakecolor": "white",
           "landcolor": "#E5ECF6",
           "showlakes": true,
           "showland": true,
           "subunitcolor": "white"
          },
          "hoverlabel": {
           "align": "left"
          },
          "hovermode": "closest",
          "mapbox": {
           "style": "light"
          },
          "paper_bgcolor": "white",
          "plot_bgcolor": "#E5ECF6",
          "polar": {
           "angularaxis": {
            "gridcolor": "white",
            "linecolor": "white",
            "ticks": ""
           },
           "bgcolor": "#E5ECF6",
           "radialaxis": {
            "gridcolor": "white",
            "linecolor": "white",
            "ticks": ""
           }
          },
          "scene": {
           "xaxis": {
            "backgroundcolor": "#E5ECF6",
            "gridcolor": "white",
            "gridwidth": 2,
            "linecolor": "white",
            "showbackground": true,
            "ticks": "",
            "zerolinecolor": "white"
           },
           "yaxis": {
            "backgroundcolor": "#E5ECF6",
            "gridcolor": "white",
            "gridwidth": 2,
            "linecolor": "white",
            "showbackground": true,
            "ticks": "",
            "zerolinecolor": "white"
           },
           "zaxis": {
            "backgroundcolor": "#E5ECF6",
            "gridcolor": "white",
            "gridwidth": 2,
            "linecolor": "white",
            "showbackground": true,
            "ticks": "",
            "zerolinecolor": "white"
           }
          },
          "shapedefaults": {
           "line": {
            "color": "#2a3f5f"
           }
          },
          "ternary": {
           "aaxis": {
            "gridcolor": "white",
            "linecolor": "white",
            "ticks": ""
           },
           "baxis": {
            "gridcolor": "white",
            "linecolor": "white",
            "ticks": ""
           },
           "bgcolor": "#E5ECF6",
           "caxis": {
            "gridcolor": "white",
            "linecolor": "white",
            "ticks": ""
           }
          },
          "title": {
           "x": 0.05
          },
          "xaxis": {
           "automargin": true,
           "gridcolor": "white",
           "linecolor": "white",
           "ticks": "",
           "title": {
            "standoff": 15
           },
           "zerolinecolor": "white",
           "zerolinewidth": 2
          },
          "yaxis": {
           "automargin": true,
           "gridcolor": "white",
           "linecolor": "white",
           "ticks": "",
           "title": {
            "standoff": 15
           },
           "zerolinecolor": "white",
           "zerolinewidth": 2
          }
         }
        },
        "title": {
         "text": "RMSE Boxplot of Top 10 Feature Combinations"
        },
        "xaxis": {
         "anchor": "y",
         "autorange": true,
         "domain": [
          0,
          1
         ],
         "range": [
          -0.5,
          0.5
         ],
         "type": "category"
        },
        "yaxis": {
         "anchor": "x",
         "autorange": true,
         "domain": [
          0,
          1
         ],
         "range": [
          0.31877677738748034,
          0.31994873285716596
         ],
         "title": {
          "text": "mean_rmse"
         },
         "type": "linear"
        }
       }
      }
     },
     "metadata": {},
     "output_type": "display_data"
    }
   ],
   "source": [
    "pio.renderers.default = 'plotly_mimetype'\n",
    "fig = px.box(df_agg_metrics.sort_values(by=['mean_rmse']).head(10), y='mean_rmse', title='RMSE Boxplot of Top 10 Feature Combinations')\n",
    "fig.show()"
   ]
  },
  {
   "cell_type": "code",
   "execution_count": 50,
   "id": "9b4d013f-d2e0-4fa8-a163-efc6ae5cb64c",
   "metadata": {},
   "outputs": [
    {
     "data": {
      "application/vnd.plotly.v1+json": {
       "config": {
        "plotlyServerURL": "https://plot.ly"
       },
       "data": [
        {
         "name": "all combinations",
         "type": "box",
         "xaxis": "x",
         "y": [
          0.3188353751609646,
          0.31890576236429535,
          0.3190093030147664,
          0.31908854648887286,
          0.31916444396522914,
          0.3193451876956759,
          0.3193646852598204,
          0.3197173936087022,
          0.31981914277349927,
          0.3198901350836817
         ],
         "yaxis": "y"
        },
        {
         "name": "keyword & no neural feature",
         "type": "box",
         "xaxis": "x2",
         "y": [
          0.3232502771295305,
          0.3234014122017466,
          0.32348118438193374,
          0.3236142318311678,
          0.3237484970748528,
          0.3239124965068598,
          0.3243441003421141,
          0.32496794418091113,
          0.3253635180136804,
          0.32555181306839154
         ],
         "yaxis": "y2"
        },
        {
         "name": "neural & no keyword feature",
         "type": "box",
         "xaxis": "x3",
         "y": [
          0.3188353751609646,
          0.31890576236429535,
          0.3190093030147664,
          0.31908854648887286,
          0.31916444396522914,
          0.3193451876956759,
          0.3193646852598204,
          0.3217369198635686,
          0.321745575913848,
          0.32199203662138975
         ],
         "yaxis": "y3"
        },
        {
         "name": "only query features",
         "type": "box",
         "xaxis": "x4",
         "y": [
          0.32230826705117666,
          0.3258265671940376,
          0.32653807851535055,
          0.3265721366511841,
          0.3298325966675315,
          0.3303192482828764,
          0.33081266885987115,
          0.33093325063281015,
          0.33203073344982237,
          0.33245472062536596
         ],
         "yaxis": "y4"
        }
       ],
       "layout": {
        "height": 800,
        "template": {
         "data": {
          "bar": [
           {
            "error_x": {
             "color": "#2a3f5f"
            },
            "error_y": {
             "color": "#2a3f5f"
            },
            "marker": {
             "line": {
              "color": "#E5ECF6",
              "width": 0.5
             },
             "pattern": {
              "fillmode": "overlay",
              "size": 10,
              "solidity": 0.2
             }
            },
            "type": "bar"
           }
          ],
          "barpolar": [
           {
            "marker": {
             "line": {
              "color": "#E5ECF6",
              "width": 0.5
             },
             "pattern": {
              "fillmode": "overlay",
              "size": 10,
              "solidity": 0.2
             }
            },
            "type": "barpolar"
           }
          ],
          "carpet": [
           {
            "aaxis": {
             "endlinecolor": "#2a3f5f",
             "gridcolor": "white",
             "linecolor": "white",
             "minorgridcolor": "white",
             "startlinecolor": "#2a3f5f"
            },
            "baxis": {
             "endlinecolor": "#2a3f5f",
             "gridcolor": "white",
             "linecolor": "white",
             "minorgridcolor": "white",
             "startlinecolor": "#2a3f5f"
            },
            "type": "carpet"
           }
          ],
          "choropleth": [
           {
            "colorbar": {
             "outlinewidth": 0,
             "ticks": ""
            },
            "type": "choropleth"
           }
          ],
          "contour": [
           {
            "colorbar": {
             "outlinewidth": 0,
             "ticks": ""
            },
            "colorscale": [
             [
              0,
              "#0d0887"
             ],
             [
              0.1111111111111111,
              "#46039f"
             ],
             [
              0.2222222222222222,
              "#7201a8"
             ],
             [
              0.3333333333333333,
              "#9c179e"
             ],
             [
              0.4444444444444444,
              "#bd3786"
             ],
             [
              0.5555555555555556,
              "#d8576b"
             ],
             [
              0.6666666666666666,
              "#ed7953"
             ],
             [
              0.7777777777777778,
              "#fb9f3a"
             ],
             [
              0.8888888888888888,
              "#fdca26"
             ],
             [
              1,
              "#f0f921"
             ]
            ],
            "type": "contour"
           }
          ],
          "contourcarpet": [
           {
            "colorbar": {
             "outlinewidth": 0,
             "ticks": ""
            },
            "type": "contourcarpet"
           }
          ],
          "heatmap": [
           {
            "colorbar": {
             "outlinewidth": 0,
             "ticks": ""
            },
            "colorscale": [
             [
              0,
              "#0d0887"
             ],
             [
              0.1111111111111111,
              "#46039f"
             ],
             [
              0.2222222222222222,
              "#7201a8"
             ],
             [
              0.3333333333333333,
              "#9c179e"
             ],
             [
              0.4444444444444444,
              "#bd3786"
             ],
             [
              0.5555555555555556,
              "#d8576b"
             ],
             [
              0.6666666666666666,
              "#ed7953"
             ],
             [
              0.7777777777777778,
              "#fb9f3a"
             ],
             [
              0.8888888888888888,
              "#fdca26"
             ],
             [
              1,
              "#f0f921"
             ]
            ],
            "type": "heatmap"
           }
          ],
          "heatmapgl": [
           {
            "colorbar": {
             "outlinewidth": 0,
             "ticks": ""
            },
            "colorscale": [
             [
              0,
              "#0d0887"
             ],
             [
              0.1111111111111111,
              "#46039f"
             ],
             [
              0.2222222222222222,
              "#7201a8"
             ],
             [
              0.3333333333333333,
              "#9c179e"
             ],
             [
              0.4444444444444444,
              "#bd3786"
             ],
             [
              0.5555555555555556,
              "#d8576b"
             ],
             [
              0.6666666666666666,
              "#ed7953"
             ],
             [
              0.7777777777777778,
              "#fb9f3a"
             ],
             [
              0.8888888888888888,
              "#fdca26"
             ],
             [
              1,
              "#f0f921"
             ]
            ],
            "type": "heatmapgl"
           }
          ],
          "histogram": [
           {
            "marker": {
             "pattern": {
              "fillmode": "overlay",
              "size": 10,
              "solidity": 0.2
             }
            },
            "type": "histogram"
           }
          ],
          "histogram2d": [
           {
            "colorbar": {
             "outlinewidth": 0,
             "ticks": ""
            },
            "colorscale": [
             [
              0,
              "#0d0887"
             ],
             [
              0.1111111111111111,
              "#46039f"
             ],
             [
              0.2222222222222222,
              "#7201a8"
             ],
             [
              0.3333333333333333,
              "#9c179e"
             ],
             [
              0.4444444444444444,
              "#bd3786"
             ],
             [
              0.5555555555555556,
              "#d8576b"
             ],
             [
              0.6666666666666666,
              "#ed7953"
             ],
             [
              0.7777777777777778,
              "#fb9f3a"
             ],
             [
              0.8888888888888888,
              "#fdca26"
             ],
             [
              1,
              "#f0f921"
             ]
            ],
            "type": "histogram2d"
           }
          ],
          "histogram2dcontour": [
           {
            "colorbar": {
             "outlinewidth": 0,
             "ticks": ""
            },
            "colorscale": [
             [
              0,
              "#0d0887"
             ],
             [
              0.1111111111111111,
              "#46039f"
             ],
             [
              0.2222222222222222,
              "#7201a8"
             ],
             [
              0.3333333333333333,
              "#9c179e"
             ],
             [
              0.4444444444444444,
              "#bd3786"
             ],
             [
              0.5555555555555556,
              "#d8576b"
             ],
             [
              0.6666666666666666,
              "#ed7953"
             ],
             [
              0.7777777777777778,
              "#fb9f3a"
             ],
             [
              0.8888888888888888,
              "#fdca26"
             ],
             [
              1,
              "#f0f921"
             ]
            ],
            "type": "histogram2dcontour"
           }
          ],
          "mesh3d": [
           {
            "colorbar": {
             "outlinewidth": 0,
             "ticks": ""
            },
            "type": "mesh3d"
           }
          ],
          "parcoords": [
           {
            "line": {
             "colorbar": {
              "outlinewidth": 0,
              "ticks": ""
             }
            },
            "type": "parcoords"
           }
          ],
          "pie": [
           {
            "automargin": true,
            "type": "pie"
           }
          ],
          "scatter": [
           {
            "fillpattern": {
             "fillmode": "overlay",
             "size": 10,
             "solidity": 0.2
            },
            "type": "scatter"
           }
          ],
          "scatter3d": [
           {
            "line": {
             "colorbar": {
              "outlinewidth": 0,
              "ticks": ""
             }
            },
            "marker": {
             "colorbar": {
              "outlinewidth": 0,
              "ticks": ""
             }
            },
            "type": "scatter3d"
           }
          ],
          "scattercarpet": [
           {
            "marker": {
             "colorbar": {
              "outlinewidth": 0,
              "ticks": ""
             }
            },
            "type": "scattercarpet"
           }
          ],
          "scattergeo": [
           {
            "marker": {
             "colorbar": {
              "outlinewidth": 0,
              "ticks": ""
             }
            },
            "type": "scattergeo"
           }
          ],
          "scattergl": [
           {
            "marker": {
             "colorbar": {
              "outlinewidth": 0,
              "ticks": ""
             }
            },
            "type": "scattergl"
           }
          ],
          "scattermapbox": [
           {
            "marker": {
             "colorbar": {
              "outlinewidth": 0,
              "ticks": ""
             }
            },
            "type": "scattermapbox"
           }
          ],
          "scatterpolar": [
           {
            "marker": {
             "colorbar": {
              "outlinewidth": 0,
              "ticks": ""
             }
            },
            "type": "scatterpolar"
           }
          ],
          "scatterpolargl": [
           {
            "marker": {
             "colorbar": {
              "outlinewidth": 0,
              "ticks": ""
             }
            },
            "type": "scatterpolargl"
           }
          ],
          "scatterternary": [
           {
            "marker": {
             "colorbar": {
              "outlinewidth": 0,
              "ticks": ""
             }
            },
            "type": "scatterternary"
           }
          ],
          "surface": [
           {
            "colorbar": {
             "outlinewidth": 0,
             "ticks": ""
            },
            "colorscale": [
             [
              0,
              "#0d0887"
             ],
             [
              0.1111111111111111,
              "#46039f"
             ],
             [
              0.2222222222222222,
              "#7201a8"
             ],
             [
              0.3333333333333333,
              "#9c179e"
             ],
             [
              0.4444444444444444,
              "#bd3786"
             ],
             [
              0.5555555555555556,
              "#d8576b"
             ],
             [
              0.6666666666666666,
              "#ed7953"
             ],
             [
              0.7777777777777778,
              "#fb9f3a"
             ],
             [
              0.8888888888888888,
              "#fdca26"
             ],
             [
              1,
              "#f0f921"
             ]
            ],
            "type": "surface"
           }
          ],
          "table": [
           {
            "cells": {
             "fill": {
              "color": "#EBF0F8"
             },
             "line": {
              "color": "white"
             }
            },
            "header": {
             "fill": {
              "color": "#C8D4E3"
             },
             "line": {
              "color": "white"
             }
            },
            "type": "table"
           }
          ]
         },
         "layout": {
          "annotationdefaults": {
           "arrowcolor": "#2a3f5f",
           "arrowhead": 0,
           "arrowwidth": 1
          },
          "autotypenumbers": "strict",
          "coloraxis": {
           "colorbar": {
            "outlinewidth": 0,
            "ticks": ""
           }
          },
          "colorscale": {
           "diverging": [
            [
             0,
             "#8e0152"
            ],
            [
             0.1,
             "#c51b7d"
            ],
            [
             0.2,
             "#de77ae"
            ],
            [
             0.3,
             "#f1b6da"
            ],
            [
             0.4,
             "#fde0ef"
            ],
            [
             0.5,
             "#f7f7f7"
            ],
            [
             0.6,
             "#e6f5d0"
            ],
            [
             0.7,
             "#b8e186"
            ],
            [
             0.8,
             "#7fbc41"
            ],
            [
             0.9,
             "#4d9221"
            ],
            [
             1,
             "#276419"
            ]
           ],
           "sequential": [
            [
             0,
             "#0d0887"
            ],
            [
             0.1111111111111111,
             "#46039f"
            ],
            [
             0.2222222222222222,
             "#7201a8"
            ],
            [
             0.3333333333333333,
             "#9c179e"
            ],
            [
             0.4444444444444444,
             "#bd3786"
            ],
            [
             0.5555555555555556,
             "#d8576b"
            ],
            [
             0.6666666666666666,
             "#ed7953"
            ],
            [
             0.7777777777777778,
             "#fb9f3a"
            ],
            [
             0.8888888888888888,
             "#fdca26"
            ],
            [
             1,
             "#f0f921"
            ]
           ],
           "sequentialminus": [
            [
             0,
             "#0d0887"
            ],
            [
             0.1111111111111111,
             "#46039f"
            ],
            [
             0.2222222222222222,
             "#7201a8"
            ],
            [
             0.3333333333333333,
             "#9c179e"
            ],
            [
             0.4444444444444444,
             "#bd3786"
            ],
            [
             0.5555555555555556,
             "#d8576b"
            ],
            [
             0.6666666666666666,
             "#ed7953"
            ],
            [
             0.7777777777777778,
             "#fb9f3a"
            ],
            [
             0.8888888888888888,
             "#fdca26"
            ],
            [
             1,
             "#f0f921"
            ]
           ]
          },
          "colorway": [
           "#636efa",
           "#EF553B",
           "#00cc96",
           "#ab63fa",
           "#FFA15A",
           "#19d3f3",
           "#FF6692",
           "#B6E880",
           "#FF97FF",
           "#FECB52"
          ],
          "font": {
           "color": "#2a3f5f"
          },
          "geo": {
           "bgcolor": "white",
           "lakecolor": "white",
           "landcolor": "#E5ECF6",
           "showlakes": true,
           "showland": true,
           "subunitcolor": "white"
          },
          "hoverlabel": {
           "align": "left"
          },
          "hovermode": "closest",
          "mapbox": {
           "style": "light"
          },
          "paper_bgcolor": "white",
          "plot_bgcolor": "#E5ECF6",
          "polar": {
           "angularaxis": {
            "gridcolor": "white",
            "linecolor": "white",
            "ticks": ""
           },
           "bgcolor": "#E5ECF6",
           "radialaxis": {
            "gridcolor": "white",
            "linecolor": "white",
            "ticks": ""
           }
          },
          "scene": {
           "xaxis": {
            "backgroundcolor": "#E5ECF6",
            "gridcolor": "white",
            "gridwidth": 2,
            "linecolor": "white",
            "showbackground": true,
            "ticks": "",
            "zerolinecolor": "white"
           },
           "yaxis": {
            "backgroundcolor": "#E5ECF6",
            "gridcolor": "white",
            "gridwidth": 2,
            "linecolor": "white",
            "showbackground": true,
            "ticks": "",
            "zerolinecolor": "white"
           },
           "zaxis": {
            "backgroundcolor": "#E5ECF6",
            "gridcolor": "white",
            "gridwidth": 2,
            "linecolor": "white",
            "showbackground": true,
            "ticks": "",
            "zerolinecolor": "white"
           }
          },
          "shapedefaults": {
           "line": {
            "color": "#2a3f5f"
           }
          },
          "ternary": {
           "aaxis": {
            "gridcolor": "white",
            "linecolor": "white",
            "ticks": ""
           },
           "baxis": {
            "gridcolor": "white",
            "linecolor": "white",
            "ticks": ""
           },
           "bgcolor": "#E5ECF6",
           "caxis": {
            "gridcolor": "white",
            "linecolor": "white",
            "ticks": ""
           }
          },
          "title": {
           "x": 0.05
          },
          "xaxis": {
           "automargin": true,
           "gridcolor": "white",
           "linecolor": "white",
           "ticks": "",
           "title": {
            "standoff": 15
           },
           "zerolinecolor": "white",
           "zerolinewidth": 2
          },
          "yaxis": {
           "automargin": true,
           "gridcolor": "white",
           "linecolor": "white",
           "ticks": "",
           "title": {
            "standoff": 15
           },
           "zerolinecolor": "white",
           "zerolinewidth": 2
          }
         }
        },
        "title": {
         "text": "Top 10 Feature Combinations"
        },
        "width": 1100,
        "xaxis": {
         "anchor": "y",
         "autorange": true,
         "domain": [
          0,
          0.2125
         ],
         "range": [
          -0.5,
          0.5
         ],
         "type": "category"
        },
        "xaxis2": {
         "anchor": "y2",
         "autorange": true,
         "domain": [
          0.2625,
          0.475
         ],
         "range": [
          -0.5,
          0.5
         ],
         "type": "category"
        },
        "xaxis3": {
         "anchor": "y3",
         "autorange": true,
         "domain": [
          0.525,
          0.7375
         ],
         "range": [
          -0.5,
          0.5
         ],
         "type": "category"
        },
        "xaxis4": {
         "anchor": "y4",
         "autorange": true,
         "domain": [
          0.7875,
          1
         ],
         "range": [
          -0.5,
          0.5
         ],
         "type": "category"
        },
        "yaxis": {
         "anchor": "x",
         "autorange": true,
         "domain": [
          0,
          1
         ],
         "range": [
          0.31807874485738674,
          0.33321135092894383
         ],
         "type": "linear"
        },
        "yaxis2": {
         "anchor": "x2",
         "autorange": true,
         "domain": [
          0,
          1
         ],
         "matches": "y",
         "range": [
          0.31807874485738674,
          0.33321135092894383
         ],
         "showticklabels": false,
         "type": "linear"
        },
        "yaxis3": {
         "anchor": "x3",
         "autorange": true,
         "domain": [
          0,
          1
         ],
         "matches": "y",
         "range": [
          0.31807874485738674,
          0.33321135092894383
         ],
         "showticklabels": false,
         "type": "linear"
        },
        "yaxis4": {
         "anchor": "x4",
         "autorange": true,
         "domain": [
          0,
          1
         ],
         "matches": "y",
         "range": [
          0.31807874485738674,
          0.33321135092894383
         ],
         "showticklabels": false,
         "type": "linear"
        }
       }
      }
     },
     "metadata": {},
     "output_type": "display_data"
    }
   ],
   "source": [
    "fig = make_subplots(rows=1, cols=4, shared_yaxes=True)\n",
    "\n",
    "fig.add_trace(go.Box(y=df_agg_metrics.sort_values(by=['mean_rmse']).head(10)['mean_rmse'],\n",
    "                     name=\"all combinations\"),\n",
    "              row=1, col=1)\n",
    "\n",
    "fig.add_trace(go.Box(y=df_agg_metrics[(df_agg_metrics['keyword_f'] == True) & (df_agg_metrics['neural_f'] == False)].sort_values(by=['mean_rmse']).head(10)['mean_rmse'],\n",
    "                    name=\"keyword & no neural feature\"),\n",
    "              row=1, col=2)\n",
    "\n",
    "fig.add_trace(go.Box(y=df_agg_metrics[(df_agg_metrics['neural_f'] == True) & (df_agg_metrics['keyword_f'] == False)].sort_values(by=['mean_rmse']).head(10)['mean_rmse'],\n",
    "                    name=\"neural & no keyword feature\"),\n",
    "              row=1, col=3)\n",
    "\n",
    "fig.add_trace(go.Box(y=df_agg_metrics[df_agg_metrics['only_query_f'] == True].sort_values(by=['mean_rmse']).head(10)['mean_rmse'],\n",
    "                    name=\"only query features\"),\n",
    "              row=1, col=4)\n",
    "\n",
    "fig.update_layout(height=800, width=1100,\n",
    "                  title_text=\"Top 10 Feature Combinations\")\n",
    "fig.show()"
   ]
  },
  {
   "cell_type": "markdown",
   "id": "9a08e042-2293-43a4-b088-5202f232355d",
   "metadata": {},
   "source": [
    "## Train a Linear Regression Model with cross-validation"
   ]
  },
  {
   "cell_type": "code",
   "execution_count": 51,
   "id": "e2059c2e-1ca9-4529-949c-c939225ff637",
   "metadata": {},
   "outputs": [
    {
     "name": "stdout",
     "output_type": "stream",
     "text": [
      "Accuray: -3.104349443117165\n",
      "Standard deviation: 5.985149030520057\n",
      "Cross-Validation Root Mean Squared Error: 0.5029819666786967\n",
      "Root Mean Squared Error: 0.265534111435833\n",
      "R^2 Score: 0.0006282059116358152\n"
     ]
    }
   ],
   "source": [
    "from sklearn.linear_model import LinearRegression\n",
    "\n",
    "# Prepare features and target\n",
    "feature_columns = [ \"f_1_num_of_terms\", \"f_2_query_length\", \"f_3_has_numbers\", \"f_4_has_special_char\", \"f_5_num_results\",\n",
    "                   \"f_6_max_title_score\", \"f_7_sum_title_scores\", \"f_8_max_semantic_score\",  \"f_9_avg_semantic_score\"]\n",
    "X = df_filtered[feature_columns]   # Select feature columns\n",
    "y = df_filtered['neuralness']      # Select the target column\n",
    "\n",
    "# Initialize cross-validation strategy\n",
    "cv = ShuffleSplit(n_splits=5, test_size=0.2, random_state=0)\n",
    "\n",
    "# Define the model\n",
    "regr = LinearRegression()\n",
    "\n",
    "# Perform cross-validation\n",
    "scores = cross_val_score(regr, X, y, cv=cv)\n",
    "rmse_scorer = make_scorer(root_mean_squared_error)\n",
    "\n",
    "rmse_scores = cross_val_score(regr, X, y, cv=cv, scoring=rmse_scorer)\n",
    "\n",
    "# Output the results\n",
    "print(\"Accuray:\", scores.mean())\n",
    "print(\"Standard deviation:\", scores.std())\n",
    "print(\"Cross-Validation Root Mean Squared Error:\", np.mean(rmse_scores))\n",
    "\n",
    "regr.fit(X_train, y_train)\n",
    "\n",
    "y_regr_pred = regr.predict(X_test)\n",
    "\n",
    "# Evaluate the model\n",
    "rmse = root_mean_squared_error(y_test, y_regr_pred)\n",
    "r2 = r2_score(y_test, y_regr_pred)\n",
    "\n",
    "print(\"Root Mean Squared Error:\", rmse)\n",
    "print(\"R^2 Score:\", r2)"
   ]
  },
  {
   "cell_type": "code",
   "execution_count": 52,
   "id": "e76b7f49-b11f-401c-82ac-537d04048105",
   "metadata": {},
   "outputs": [
    {
     "data": {
      "text/html": [
       "<div>\n",
       "<style scoped>\n",
       "    .dataframe tbody tr th:only-of-type {\n",
       "        vertical-align: middle;\n",
       "    }\n",
       "\n",
       "    .dataframe tbody tr th {\n",
       "        vertical-align: top;\n",
       "    }\n",
       "\n",
       "    .dataframe thead th {\n",
       "        text-align: right;\n",
       "    }\n",
       "</style>\n",
       "<table border=\"1\" class=\"dataframe\">\n",
       "  <thead>\n",
       "    <tr style=\"text-align: right;\">\n",
       "      <th></th>\n",
       "      <th>f_1_num_of_terms</th>\n",
       "      <th>f_2_query_length</th>\n",
       "      <th>f_3_has_numbers</th>\n",
       "      <th>f_4_has_special_char</th>\n",
       "      <th>f_5_num_results</th>\n",
       "      <th>f_6_max_title_score</th>\n",
       "      <th>f_7_sum_title_scores</th>\n",
       "      <th>f_8_max_semantic_score</th>\n",
       "      <th>f_9_avg_semantic_score</th>\n",
       "    </tr>\n",
       "  </thead>\n",
       "  <tbody>\n",
       "    <tr>\n",
       "      <th>0</th>\n",
       "      <td>3</td>\n",
       "      <td>21</td>\n",
       "      <td>0</td>\n",
       "      <td>0</td>\n",
       "      <td>22</td>\n",
       "      <td>1.239339</td>\n",
       "      <td>3.411745</td>\n",
       "      <td>0.600457</td>\n",
       "      <td>0.55043</td>\n",
       "    </tr>\n",
       "  </tbody>\n",
       "</table>\n",
       "</div>"
      ],
      "text/plain": [
       "   f_1_num_of_terms  f_2_query_length  f_3_has_numbers  f_4_has_special_char  \\\n",
       "0                 3                21                0                     0   \n",
       "\n",
       "   f_5_num_results  f_6_max_title_score  f_7_sum_title_scores  \\\n",
       "0               22             1.239339              3.411745   \n",
       "\n",
       "   f_8_max_semantic_score  f_9_avg_semantic_score  \n",
       "0                0.600457                 0.55043  "
      ]
     },
     "execution_count": 52,
     "metadata": {},
     "output_type": "execute_result"
    }
   ],
   "source": [
    "vector = [[3, 21, 0, 0, 22, 1.239339, 3.411745, 0.600457, 0.550430]]\n",
    "df_test = pd.DataFrame(vector, columns=feature_columns)\n",
    "df_test"
   ]
  },
  {
   "cell_type": "code",
   "execution_count": 53,
   "id": "b18d758e-2fe7-4c31-b11e-cca859415604",
   "metadata": {},
   "outputs": [
    {
     "data": {
      "text/plain": [
       "array([0.457])"
      ]
     },
     "execution_count": 53,
     "metadata": {},
     "output_type": "execute_result"
    }
   ],
   "source": [
    "model.predict(df_test)"
   ]
  },
  {
   "cell_type": "code",
   "execution_count": 54,
   "id": "5d22bda4-0b30-4d3f-bbf6-a2be85782a27",
   "metadata": {},
   "outputs": [
    {
     "data": {
      "text/plain": [
       "array([0.72486381])"
      ]
     },
     "execution_count": 54,
     "metadata": {},
     "output_type": "execute_result"
    }
   ],
   "source": [
    "regr.predict(df_test)"
   ]
  },
  {
   "cell_type": "code",
   "execution_count": 55,
   "id": "7aea421c-8b5f-4834-99ce-4aa96e09cbaa",
   "metadata": {},
   "outputs": [
    {
     "data": {
      "text/plain": [
       "44"
      ]
     },
     "execution_count": 55,
     "metadata": {},
     "output_type": "execute_result"
    }
   ],
   "source": [
    "X_test.shape[0]"
   ]
  },
  {
   "cell_type": "code",
   "execution_count": 56,
   "id": "0d5a110d-f344-46e5-a238-29484e3e735e",
   "metadata": {},
   "outputs": [
    {
     "data": {
      "text/plain": [
       "Index([132, 148,  93, 180,  15, 115, 172, 209,  75, 142, 100,  30, 190,   9,\n",
       "        67, 218, 175,  18, 197,  66, 189,  96, 210,  25, 127, 201,  97,  16,\n",
       "        45, 154, 111,  55, 108, 196,  73, 109,  82, 138, 141, 101,  86, 193,\n",
       "       120,  95],\n",
       "      dtype='int64')"
      ]
     },
     "execution_count": 56,
     "metadata": {},
     "output_type": "execute_result"
    }
   ],
   "source": [
    "X_test.index"
   ]
  },
  {
   "cell_type": "code",
   "execution_count": 57,
   "id": "681b2a04-c41f-432f-8434-94bfa95f2cfa",
   "metadata": {},
   "outputs": [],
   "source": [
    "# Store the test data\n",
    "df_filtered.loc[df_filtered.index.isin(X_test.index)].to_csv('dynamic_optimizer_test_data.csv', index=False)"
   ]
  },
  {
   "cell_type": "markdown",
   "id": "7ceaa570-31b8-46e7-a581-76b7e8eec921",
   "metadata": {},
   "source": [
    "## Save Models"
   ]
  },
  {
   "cell_type": "code",
   "execution_count": 58,
   "id": "7b78d3a4-1b1f-4205-b0b2-82ec37938626",
   "metadata": {},
   "outputs": [],
   "source": [
    "import pickle\n",
    "\n",
    "with open('regression_model.pkl', 'wb') as fid:\n",
    "    pickle.dump(regr, fid) \n",
    "\n",
    "with open('random_forest_model.pkl', 'wb') as fid:\n",
    "    pickle.dump(model, fid) "
   ]
  },
  {
   "cell_type": "code",
   "execution_count": null,
   "id": "20392fb9-1a46-4172-9727-1ffe562abb35",
   "metadata": {},
   "outputs": [],
   "source": []
  },
  {
   "cell_type": "code",
   "execution_count": null,
   "id": "3eb0e40b-9093-4a8e-9b28-1e535a3bb576",
   "metadata": {},
   "outputs": [],
   "source": []
  }
 ],
 "metadata": {
  "kernelspec": {
   "display_name": ".venv",
   "language": "python",
   "name": ".venv"
  },
  "language_info": {
   "codemirror_mode": {
    "name": "ipython",
    "version": 3
   },
   "file_extension": ".py",
   "mimetype": "text/x-python",
   "name": "python",
   "nbconvert_exporter": "python",
   "pygments_lexer": "ipython3",
   "version": "3.12.6"
  }
 },
 "nbformat": 4,
 "nbformat_minor": 5
}
