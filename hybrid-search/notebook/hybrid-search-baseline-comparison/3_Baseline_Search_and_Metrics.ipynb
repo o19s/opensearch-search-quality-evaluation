{
 "cells": [
  {
   "cell_type": "markdown",
   "id": "f6d5920f-1abe-4e3e-aa3b-ff8794577491",
   "metadata": {
    "editable": true,
    "slideshow": {
     "slide_type": ""
    },
    "tags": []
   },
   "source": [
    "# 3a) Baseline Search & Metrics\n",
    "\n",
    "In this notebook we create a query set and run a `best_match` query with a reasonable set of search fields and weights.\n",
    "\n",
    "In addition to the ESCI product data we are making use of the judgements that we map to numeric values.\n",
    "\n",
    "For each query we calculate search metrics and an average over all queries.\n",
    "\n",
    "This gives us a baseline that we can use as our foundation when exploring different hybrid search configurations in the next notebook."
   ]
  },
  {
   "cell_type": "code",
   "execution_count": 1,
   "id": "6c958f91-0bba-4273-a895-71fca705f326",
   "metadata": {
    "editable": true,
    "slideshow": {
     "slide_type": ""
    },
    "tags": []
   },
   "outputs": [],
   "source": [
    "import pandas as pd\n",
    "import numpy as np\n",
    "import mercury as mr\n",
    "import requests\n",
    "import json\n",
    "import plotly.express as px\n",
    "import plotly.io as pio\n",
    "from opensearchpy import OpenSearch"
   ]
  },
  {
   "cell_type": "code",
   "execution_count": 2,
   "id": "84f51ccf-6038-46fe-89f1-ab58fb576761",
   "metadata": {},
   "outputs": [],
   "source": [
    "DATA_DIR = '/Users/danielwrigley/work/Testing/git_repos/esci-data/shopping_queries_dataset/'"
   ]
  },
  {
   "cell_type": "code",
   "execution_count": 3,
   "id": "8337794a-3b44-4edb-90c7-c5331e953735",
   "metadata": {
    "editable": true,
    "slideshow": {
     "slide_type": ""
    },
    "tags": []
   },
   "outputs": [],
   "source": [
    "df_examples = pd.read_parquet(DATA_DIR + '/shopping_queries_dataset_examples.parquet')"
   ]
  },
  {
   "cell_type": "markdown",
   "id": "2f6c9455-8eaf-4efd-9e60-5f8fb91e4a34",
   "metadata": {
    "editable": true,
    "slideshow": {
     "slide_type": ""
    },
    "tags": []
   },
   "source": [
    "## Query set\n",
    "A query set has the columns:\n",
    "\n",
    "* `query_set_id`\n",
    "* `query`\n",
    "\n",
    "There is currently no date corresponding to the query set. And currently the sampling is not done based on frequency."
   ]
  },
  {
   "cell_type": "code",
   "execution_count": 4,
   "id": "a8aebb70-0bd0-49c7-9268-b89975d65e9c",
   "metadata": {
    "editable": true,
    "slideshow": {
     "slide_type": ""
    },
    "tags": []
   },
   "outputs": [],
   "source": [
    "# We only use English queries for now\n",
    "df_queries_us = df_examples[df_examples['product_locale'] == 'us']"
   ]
  },
  {
   "cell_type": "code",
   "execution_count": 5,
   "id": "d19040e2-af91-41b4-a600-7a5caca14cc5",
   "metadata": {},
   "outputs": [],
   "source": [
    "np.random.seed(10)"
   ]
  },
  {
   "cell_type": "code",
   "execution_count": 6,
   "id": "6a7bcb47-6da7-4974-b87e-a5ac9d557697",
   "metadata": {},
   "outputs": [
    {
     "data": {
      "text/html": [
       "<div>\n",
       "<style scoped>\n",
       "    .dataframe tbody tr th:only-of-type {\n",
       "        vertical-align: middle;\n",
       "    }\n",
       "\n",
       "    .dataframe tbody tr th {\n",
       "        vertical-align: top;\n",
       "    }\n",
       "\n",
       "    .dataframe thead th {\n",
       "        text-align: right;\n",
       "    }\n",
       "</style>\n",
       "<table border=\"1\" class=\"dataframe\">\n",
       "  <thead>\n",
       "    <tr style=\"text-align: right;\">\n",
       "      <th></th>\n",
       "      <th>query</th>\n",
       "      <th>query_set_id</th>\n",
       "    </tr>\n",
       "  </thead>\n",
       "  <tbody>\n",
       "    <tr>\n",
       "      <th>0</th>\n",
       "      <td>runtz</td>\n",
       "      <td>sampled_queries</td>\n",
       "    </tr>\n",
       "    <tr>\n",
       "      <th>1</th>\n",
       "      <td>trooper bandana shoe</td>\n",
       "      <td>sampled_queries</td>\n",
       "    </tr>\n",
       "    <tr>\n",
       "      <th>2</th>\n",
       "      <td>tcl a1x phone case straight talk</td>\n",
       "      <td>sampled_queries</td>\n",
       "    </tr>\n",
       "    <tr>\n",
       "      <th>3</th>\n",
       "      <td>bose headphones replacement cord</td>\n",
       "      <td>sampled_queries</td>\n",
       "    </tr>\n",
       "    <tr>\n",
       "      <th>4</th>\n",
       "      <td>uniball vision elite</td>\n",
       "      <td>sampled_queries</td>\n",
       "    </tr>\n",
       "    <tr>\n",
       "      <th>5</th>\n",
       "      <td>definitely not paid enough for this</td>\n",
       "      <td>sampled_queries</td>\n",
       "    </tr>\n",
       "    <tr>\n",
       "      <th>6</th>\n",
       "      <td>raid deep reach fogger</td>\n",
       "      <td>sampled_queries</td>\n",
       "    </tr>\n",
       "    <tr>\n",
       "      <th>7</th>\n",
       "      <td>usb camera</td>\n",
       "      <td>sampled_queries</td>\n",
       "    </tr>\n",
       "    <tr>\n",
       "      <th>8</th>\n",
       "      <td>reusable produce bags</td>\n",
       "      <td>sampled_queries</td>\n",
       "    </tr>\n",
       "    <tr>\n",
       "      <th>9</th>\n",
       "      <td>latex dental dam</td>\n",
       "      <td>sampled_queries</td>\n",
       "    </tr>\n",
       "  </tbody>\n",
       "</table>\n",
       "</div>"
      ],
      "text/plain": [
       "                                 query     query_set_id\n",
       "0                                runtz  sampled_queries\n",
       "1                 trooper bandana shoe  sampled_queries\n",
       "2     tcl a1x phone case straight talk  sampled_queries\n",
       "3     bose headphones replacement cord  sampled_queries\n",
       "4                 uniball vision elite  sampled_queries\n",
       "5  definitely not paid enough for this  sampled_queries\n",
       "6               raid deep reach fogger  sampled_queries\n",
       "7                           usb camera  sampled_queries\n",
       "8                reusable produce bags  sampled_queries\n",
       "9                     latex dental dam  sampled_queries"
      ]
     },
     "execution_count": 6,
     "metadata": {},
     "output_type": "execute_result"
    }
   ],
   "source": [
    "# Sample query sets\n",
    "# In the file most_judged.csv are the queries with most judgements in the ESCI dataset.\n",
    "# Use it by setting b_most_judged = True to have metrics calculations based on minimal missing judgements.\n",
    "b_most_judged = False\n",
    "\n",
    "query_sets = [(\"sampled_queries\", 200), (\"top_queries\", 20)]\n",
    "\n",
    "res = []\n",
    "\n",
    "if b_most_judged:\n",
    "    df_query_set = pd.read_csv('most_judged.csv')\n",
    "else:\n",
    "    for query_set_id, n_query_set in query_sets:\n",
    "        # todo: sampling proportional to frequency\n",
    "        query_set = np.random.choice(df_queries_us[\"query\"].unique(), n_query_set, replace=False)\n",
    "    \n",
    "        df = pd.DataFrame({\"query\": query_set})\n",
    "        df[\"query_set_id\"] = query_set_id\n",
    "        res.append(df)\n",
    "    df_query_set = pd.concat(res)\n",
    "df_query_set.head(10)"
   ]
  },
  {
   "cell_type": "markdown",
   "id": "8c163328-fbe5-4caa-88e8-4d840f3001ef",
   "metadata": {},
   "source": [
    "## Judgments\n",
    "The judgments dataset has a row per query instance and document and has the following columns:\n",
    "\n",
    "* datetime: date of query/document instance\n",
    "* query_id: identifier of query instance\n",
    "* query: the query\n",
    "* document: identifier of a document result\n",
    "* judgment: Here we use the proposed ESCI mapping for DCG: `{\"E\": 0, \"S\": 1, \"C\": 2, \"I\": 3}` --> this looks odd. These look more like labels since `E` means \"Exact Match\" and would be the lowest score according to that wording"
   ]
  },
  {
   "cell_type": "code",
   "execution_count": 7,
   "id": "7262afa1-c418-487f-bc62-f78e985ff9fb",
   "metadata": {
    "editable": true,
    "slideshow": {
     "slide_type": ""
    },
    "tags": []
   },
   "outputs": [
    {
     "data": {
      "text/html": [
       "<div>\n",
       "<style scoped>\n",
       "    .dataframe tbody tr th:only-of-type {\n",
       "        vertical-align: middle;\n",
       "    }\n",
       "\n",
       "    .dataframe tbody tr th {\n",
       "        vertical-align: top;\n",
       "    }\n",
       "\n",
       "    .dataframe thead th {\n",
       "        text-align: right;\n",
       "    }\n",
       "</style>\n",
       "<table border=\"1\" class=\"dataframe\">\n",
       "  <thead>\n",
       "    <tr style=\"text-align: right;\">\n",
       "      <th></th>\n",
       "      <th>query</th>\n",
       "      <th>document</th>\n",
       "      <th>judgment</th>\n",
       "    </tr>\n",
       "  </thead>\n",
       "  <tbody>\n",
       "    <tr>\n",
       "      <th>0</th>\n",
       "      <td>$30 roblox gift card not digital</td>\n",
       "      <td>B07RX6FBFR</td>\n",
       "      <td>3</td>\n",
       "    </tr>\n",
       "    <tr>\n",
       "      <th>1</th>\n",
       "      <td>$30 roblox gift card not digital</td>\n",
       "      <td>B09194H44R</td>\n",
       "      <td>0</td>\n",
       "    </tr>\n",
       "    <tr>\n",
       "      <th>2</th>\n",
       "      <td>$30 roblox gift card not digital</td>\n",
       "      <td>B08R5N6W6B</td>\n",
       "      <td>2</td>\n",
       "    </tr>\n",
       "  </tbody>\n",
       "</table>\n",
       "</div>"
      ],
      "text/plain": [
       "                              query    document  judgment\n",
       "0  $30 roblox gift card not digital  B07RX6FBFR         3\n",
       "1  $30 roblox gift card not digital  B09194H44R         0\n",
       "2  $30 roblox gift card not digital  B08R5N6W6B         2"
      ]
     },
     "execution_count": 7,
     "metadata": {},
     "output_type": "execute_result"
    }
   ],
   "source": [
    "# Select judgments\n",
    "# Map esci_label to score\n",
    "# create judgments per day in range\n",
    "# create noise in score\n",
    "\n",
    "label_num = {\"E\": 0, \"S\": 1, \"C\": 2, \"I\": 3}\n",
    "label_score = [3, 2, 1, 0]\n",
    "#label_score = [1, 0.1, 0.01, 0]\n",
    "\n",
    "def label_to_score(label):\n",
    "    return label_score[label_num[label]]\n",
    "\n",
    "df_judge = df_examples[df_examples[\"query\"].isin(set(df_query_set[\"query\"].values))].copy()\n",
    "df_judge[\"judgment\"] = df_judge.esci_label.apply(lambda x: label_to_score(x))\n",
    "df_judge[\"document\"] = df_judge.product_id\n",
    "df_judge = df_judge[[\"query\", \"document\", \"judgment\"]].reset_index(drop=True)\n",
    "df_judge.head(3)"
   ]
  },
  {
   "cell_type": "markdown",
   "id": "c9656fab-dc59-423e-921e-733211ce790b",
   "metadata": {},
   "source": [
    "# Transform the queries and judgments"
   ]
  },
  {
   "cell_type": "markdown",
   "id": "c149e699-8fbb-4495-a8b6-772cdec80b5d",
   "metadata": {},
   "source": [
    "### Group by queries and export to a file with the index to have queries and query ids"
   ]
  },
  {
   "cell_type": "code",
   "execution_count": 8,
   "id": "26405d50-513d-4f8e-a1cf-38cdc0e965f7",
   "metadata": {
    "editable": true,
    "slideshow": {
     "slide_type": ""
    },
    "tags": []
   },
   "outputs": [],
   "source": [
    "df_queries = df_judge.groupby(by='query', as_index=False).agg({\n",
    "    'judgment': ['count']\n",
    "})\n",
    "df_query_idx = df_queries['query']\n",
    "# save the generated query set if the most judged queries are not used\n",
    "if not b_most_judged:\n",
    "    name = 'queries.txt'\n",
    "    df_query_idx.to_csv(name, sep=\"\\t\", header=False)"
   ]
  },
  {
   "cell_type": "code",
   "execution_count": 9,
   "id": "72bd39f8-e2df-4864-89ae-b4f51362e14d",
   "metadata": {},
   "outputs": [
    {
     "data": {
      "text/html": [
       "<div>\n",
       "<style scoped>\n",
       "    .dataframe tbody tr th:only-of-type {\n",
       "        vertical-align: middle;\n",
       "    }\n",
       "\n",
       "    .dataframe tbody tr th {\n",
       "        vertical-align: top;\n",
       "    }\n",
       "\n",
       "    .dataframe thead tr th {\n",
       "        text-align: left;\n",
       "    }\n",
       "</style>\n",
       "<table border=\"1\" class=\"dataframe\">\n",
       "  <thead>\n",
       "    <tr>\n",
       "      <th></th>\n",
       "      <th>query</th>\n",
       "      <th>judgment</th>\n",
       "    </tr>\n",
       "    <tr>\n",
       "      <th></th>\n",
       "      <th></th>\n",
       "      <th>count</th>\n",
       "    </tr>\n",
       "  </thead>\n",
       "  <tbody>\n",
       "    <tr>\n",
       "      <th>0</th>\n",
       "      <td>$30 roblox gift card not digital</td>\n",
       "      <td>15</td>\n",
       "    </tr>\n",
       "    <tr>\n",
       "      <th>1</th>\n",
       "      <td>(fiction without frontiers)</td>\n",
       "      <td>16</td>\n",
       "    </tr>\n",
       "    <tr>\n",
       "      <th>2</th>\n",
       "      <td>100</td>\n",
       "      <td>16</td>\n",
       "    </tr>\n",
       "    <tr>\n",
       "      <th>3</th>\n",
       "      <td>10x10x6 cake box without window</td>\n",
       "      <td>16</td>\n",
       "    </tr>\n",
       "    <tr>\n",
       "      <th>4</th>\n",
       "      <td>15 inch light weight laptop that has lots of m...</td>\n",
       "      <td>15</td>\n",
       "    </tr>\n",
       "    <tr>\n",
       "      <th>...</th>\n",
       "      <td>...</td>\n",
       "      <td>...</td>\n",
       "    </tr>\n",
       "    <tr>\n",
       "      <th>215</th>\n",
       "      <td>wooden stool</td>\n",
       "      <td>16</td>\n",
       "    </tr>\n",
       "    <tr>\n",
       "      <th>216</th>\n",
       "      <td>woodwick wax melt</td>\n",
       "      <td>16</td>\n",
       "    </tr>\n",
       "    <tr>\n",
       "      <th>217</th>\n",
       "      <td>world of warcraft anniversary collector's edition</td>\n",
       "      <td>16</td>\n",
       "    </tr>\n",
       "    <tr>\n",
       "      <th>218</th>\n",
       "      <td>wowled</td>\n",
       "      <td>16</td>\n",
       "    </tr>\n",
       "    <tr>\n",
       "      <th>219</th>\n",
       "      <td>yarn purple and pink</td>\n",
       "      <td>40</td>\n",
       "    </tr>\n",
       "  </tbody>\n",
       "</table>\n",
       "<p>220 rows × 2 columns</p>\n",
       "</div>"
      ],
      "text/plain": [
       "                                                 query judgment\n",
       "                                                          count\n",
       "0                     $30 roblox gift card not digital       15\n",
       "1                          (fiction without frontiers)       16\n",
       "2                                                  100       16\n",
       "3                      10x10x6 cake box without window       16\n",
       "4    15 inch light weight laptop that has lots of m...       15\n",
       "..                                                 ...      ...\n",
       "215                                       wooden stool       16\n",
       "216                                  woodwick wax melt       16\n",
       "217  world of warcraft anniversary collector's edition       16\n",
       "218                                             wowled       16\n",
       "219                               yarn purple and pink       40\n",
       "\n",
       "[220 rows x 2 columns]"
      ]
     },
     "execution_count": 9,
     "metadata": {},
     "output_type": "execute_result"
    }
   ],
   "source": [
    "df_queries"
   ]
  },
  {
   "cell_type": "markdown",
   "id": "da04f6cf-d3a2-4756-a265-46b50a5bdda5",
   "metadata": {
    "editable": true,
    "slideshow": {
     "slide_type": ""
    },
    "tags": []
   },
   "source": [
    "### Go through the queries and update the original ratings with the query ids"
   ]
  },
  {
   "cell_type": "code",
   "execution_count": 10,
   "id": "cdb0ea4c-6a81-4e9c-afb2-00cbed5f0109",
   "metadata": {},
   "outputs": [],
   "source": [
    "df_query_idx = pd.DataFrame(df_query_idx)"
   ]
  },
  {
   "cell_type": "code",
   "execution_count": 11,
   "id": "23e2793d-f459-48a7-9196-99e2908fd825",
   "metadata": {
    "editable": true,
    "slideshow": {
     "slide_type": ""
    },
    "tags": []
   },
   "outputs": [],
   "source": [
    "df_query_idx = df_query_idx.reset_index().rename(columns={'index': 'idx'})\n",
    "\n",
    "df_merged = pd.merge(df_judge, df_query_idx, on='query', how='left')\n",
    "df_merged.columns = ['query', 'docid', 'rating', 'idx']"
   ]
  },
  {
   "cell_type": "code",
   "execution_count": 12,
   "id": "cebd00bd-7916-4f35-a309-c763cca4fb52",
   "metadata": {},
   "outputs": [
    {
     "data": {
      "text/html": [
       "<div>\n",
       "<style scoped>\n",
       "    .dataframe tbody tr th:only-of-type {\n",
       "        vertical-align: middle;\n",
       "    }\n",
       "\n",
       "    .dataframe tbody tr th {\n",
       "        vertical-align: top;\n",
       "    }\n",
       "\n",
       "    .dataframe thead th {\n",
       "        text-align: right;\n",
       "    }\n",
       "</style>\n",
       "<table border=\"1\" class=\"dataframe\">\n",
       "  <thead>\n",
       "    <tr style=\"text-align: right;\">\n",
       "      <th></th>\n",
       "      <th>query</th>\n",
       "      <th>docid</th>\n",
       "      <th>rating</th>\n",
       "      <th>idx</th>\n",
       "    </tr>\n",
       "  </thead>\n",
       "  <tbody>\n",
       "    <tr>\n",
       "      <th>0</th>\n",
       "      <td>$30 roblox gift card not digital</td>\n",
       "      <td>B07RX6FBFR</td>\n",
       "      <td>3</td>\n",
       "      <td>0</td>\n",
       "    </tr>\n",
       "    <tr>\n",
       "      <th>1</th>\n",
       "      <td>$30 roblox gift card not digital</td>\n",
       "      <td>B09194H44R</td>\n",
       "      <td>0</td>\n",
       "      <td>0</td>\n",
       "    </tr>\n",
       "    <tr>\n",
       "      <th>2</th>\n",
       "      <td>$30 roblox gift card not digital</td>\n",
       "      <td>B08R5N6W6B</td>\n",
       "      <td>2</td>\n",
       "      <td>0</td>\n",
       "    </tr>\n",
       "    <tr>\n",
       "      <th>3</th>\n",
       "      <td>$30 roblox gift card not digital</td>\n",
       "      <td>B07Y693ND1</td>\n",
       "      <td>0</td>\n",
       "      <td>0</td>\n",
       "    </tr>\n",
       "    <tr>\n",
       "      <th>4</th>\n",
       "      <td>$30 roblox gift card not digital</td>\n",
       "      <td>B07RZ75JW3</td>\n",
       "      <td>2</td>\n",
       "      <td>0</td>\n",
       "    </tr>\n",
       "    <tr>\n",
       "      <th>...</th>\n",
       "      <td>...</td>\n",
       "      <td>...</td>\n",
       "      <td>...</td>\n",
       "      <td>...</td>\n",
       "    </tr>\n",
       "    <tr>\n",
       "      <th>4060</th>\n",
       "      <td>yarn purple and pink</td>\n",
       "      <td>B00JX10Q2O</td>\n",
       "      <td>2</td>\n",
       "      <td>219</td>\n",
       "    </tr>\n",
       "    <tr>\n",
       "      <th>4061</th>\n",
       "      <td>yarn purple and pink</td>\n",
       "      <td>B00KY41UHO</td>\n",
       "      <td>3</td>\n",
       "      <td>219</td>\n",
       "    </tr>\n",
       "    <tr>\n",
       "      <th>4062</th>\n",
       "      <td>yarn purple and pink</td>\n",
       "      <td>B00QXJOUL2</td>\n",
       "      <td>3</td>\n",
       "      <td>219</td>\n",
       "    </tr>\n",
       "    <tr>\n",
       "      <th>4063</th>\n",
       "      <td>yarn purple and pink</td>\n",
       "      <td>B00UY14WCM</td>\n",
       "      <td>3</td>\n",
       "      <td>219</td>\n",
       "    </tr>\n",
       "    <tr>\n",
       "      <th>4064</th>\n",
       "      <td>yarn purple and pink</td>\n",
       "      <td>B0080E58AK</td>\n",
       "      <td>2</td>\n",
       "      <td>219</td>\n",
       "    </tr>\n",
       "  </tbody>\n",
       "</table>\n",
       "<p>4065 rows × 4 columns</p>\n",
       "</div>"
      ],
      "text/plain": [
       "                                 query       docid  rating  idx\n",
       "0     $30 roblox gift card not digital  B07RX6FBFR       3    0\n",
       "1     $30 roblox gift card not digital  B09194H44R       0    0\n",
       "2     $30 roblox gift card not digital  B08R5N6W6B       2    0\n",
       "3     $30 roblox gift card not digital  B07Y693ND1       0    0\n",
       "4     $30 roblox gift card not digital  B07RZ75JW3       2    0\n",
       "...                                ...         ...     ...  ...\n",
       "4060              yarn purple and pink  B00JX10Q2O       2  219\n",
       "4061              yarn purple and pink  B00KY41UHO       3  219\n",
       "4062              yarn purple and pink  B00QXJOUL2       3  219\n",
       "4063              yarn purple and pink  B00UY14WCM       3  219\n",
       "4064              yarn purple and pink  B0080E58AK       2  219\n",
       "\n",
       "[4065 rows x 4 columns]"
      ]
     },
     "execution_count": 12,
     "metadata": {},
     "output_type": "execute_result"
    }
   ],
   "source": [
    "df_merged"
   ]
  },
  {
   "cell_type": "code",
   "execution_count": 13,
   "id": "37921f8d-5c95-4cba-8d43-af1c1331ceb9",
   "metadata": {
    "editable": true,
    "scrolled": true,
    "slideshow": {
     "slide_type": ""
    },
    "tags": []
   },
   "outputs": [
    {
     "data": {
      "text/html": [
       "<div>\n",
       "<style scoped>\n",
       "    .dataframe tbody tr th:only-of-type {\n",
       "        vertical-align: middle;\n",
       "    }\n",
       "\n",
       "    .dataframe tbody tr th {\n",
       "        vertical-align: top;\n",
       "    }\n",
       "\n",
       "    .dataframe thead th {\n",
       "        text-align: right;\n",
       "    }\n",
       "</style>\n",
       "<table border=\"1\" class=\"dataframe\">\n",
       "  <thead>\n",
       "    <tr style=\"text-align: right;\">\n",
       "      <th></th>\n",
       "      <th>query</th>\n",
       "      <th>docid</th>\n",
       "      <th>rating</th>\n",
       "      <th>idx</th>\n",
       "    </tr>\n",
       "  </thead>\n",
       "  <tbody>\n",
       "    <tr>\n",
       "      <th>0</th>\n",
       "      <td>$30 roblox gift card not digital</td>\n",
       "      <td>B07RX6FBFR</td>\n",
       "      <td>3</td>\n",
       "      <td>0</td>\n",
       "    </tr>\n",
       "    <tr>\n",
       "      <th>1</th>\n",
       "      <td>$30 roblox gift card not digital</td>\n",
       "      <td>B09194H44R</td>\n",
       "      <td>0</td>\n",
       "      <td>0</td>\n",
       "    </tr>\n",
       "    <tr>\n",
       "      <th>2</th>\n",
       "      <td>$30 roblox gift card not digital</td>\n",
       "      <td>B08R5N6W6B</td>\n",
       "      <td>2</td>\n",
       "      <td>0</td>\n",
       "    </tr>\n",
       "  </tbody>\n",
       "</table>\n",
       "</div>"
      ],
      "text/plain": [
       "                              query       docid  rating  idx\n",
       "0  $30 roblox gift card not digital  B07RX6FBFR       3    0\n",
       "1  $30 roblox gift card not digital  B09194H44R       0    0\n",
       "2  $30 roblox gift card not digital  B08R5N6W6B       2    0"
      ]
     },
     "execution_count": 13,
     "metadata": {},
     "output_type": "execute_result"
    }
   ],
   "source": [
    "name = 'ratings.csv'\n",
    "\n",
    "df_merged.to_csv(name, sep=\"\\t\", header=False, index=False)\n",
    "df_merged.head(3)"
   ]
  },
  {
   "cell_type": "markdown",
   "id": "dfb85fc7-9f76-4002-b5de-6cd469055fe7",
   "metadata": {
    "editable": true,
    "slideshow": {
     "slide_type": ""
    },
    "tags": []
   },
   "source": [
    "## Query OpenSearch with the Baseline Configuration\n",
    "\n",
    "We use a simple `multi_match` query with a couple of fields and field weights.\n",
    "\n",
    "This will serve as our baseline. We get the first 10 results for each query we have in `df_judge` and store the results in a format that `trec_eval`can work with later when evaluating the results.\n",
    "\n",
    "This gives us a quantification of the quality of the baseline configuration.\n",
    "\n",
    "We will use this to compare our hybrid search configurations against."
   ]
  },
  {
   "cell_type": "code",
   "execution_count": 14,
   "id": "60d7e15b-542f-4236-ab78-969ac1bf09d3",
   "metadata": {
    "editable": true,
    "scrolled": true,
    "slideshow": {
     "slide_type": ""
    },
    "tags": []
   },
   "outputs": [],
   "source": [
    "url = \"http://localhost:9200/ecommerce/_search\"\n",
    "\n",
    "headers = {\n",
    "    'Content-Type': 'application/json'\n",
    "}\n",
    "\n",
    "df_relevance = pd.DataFrame()\n",
    "\n",
    "for query in df_query_idx.itertuples():\n",
    "\n",
    "    payload = {\n",
    "      \"_source\": {\n",
    "        \"excludes\": [\n",
    "          \"title_embedding\"\n",
    "        ]\n",
    "      },\n",
    "      \"query\": {\n",
    "        \"multi_match\" : {\n",
    "          \"type\":       \"best_fields\",\n",
    "          \"fields\":     [\n",
    "              \"product_id^100\",\n",
    "            \"product_bullet_point^3\",\n",
    "            \"product_color^2\",\n",
    "            \"product_brand^5\",\n",
    "            \"product_description\",\n",
    "            \"product_title^10\"\n",
    "          ],\n",
    "          \"operator\":   \"and\",\n",
    "          \"query\":      query[2]\n",
    "        }\n",
    "      }\n",
    "    }\n",
    "\n",
    "    response = requests.request(\"POST\", url, headers=headers, data=json.dumps(payload)).json()\n",
    "    \n",
    "    position = 0\n",
    "    num_results = response['hits']['total']['value']\n",
    "    for hit in response['hits']['hits']:\n",
    "        # create a new row for the DataFrame and append it\n",
    "        row = { 'query_id' : str(query[1]), 'query_string': query[2], 'product_id' : hit[\"_id\"], 'position' : position, 'num_results' : num_results, 'relevance' : hit[\"_score\"], 'run': 'default' }\n",
    "    \n",
    "        new_row_df = pd.DataFrame([row])\n",
    "        df_relevance = pd.concat([df_relevance, new_row_df], ignore_index=True)\n",
    "        position += 1\n",
    "    \n",
    "# work with two for loops:\n",
    "# 1) one to iterate over the list of queries and have a query id instead of a query\n",
    "# 2) another one to iterate over the result sets to have the position of the result in the result set \n",
    "\n",
    "# DataFrame with columns:\n",
    "# query_id: the id of the query as the trec_eval tool needs a numeric id rather than a query string as an identifier\n",
    "# product_id: the id of the product in the hit list\n",
    "# position: the position of the product in the result set\n",
    "# relevance: relevance as given by the search engine\n",
    "# run: the name of the query run"
   ]
  },
  {
   "cell_type": "code",
   "execution_count": 15,
   "id": "91d348a2-c066-4f87-9b28-b8e6bb41b593",
   "metadata": {},
   "outputs": [],
   "source": [
    "name = 'baseline_results'\n",
    "df_relevance.to_csv(name, sep=\"\\t\", header=False, index=False)"
   ]
  },
  {
   "cell_type": "code",
   "execution_count": 16,
   "id": "e2280edf-148d-4660-b378-09d7c4d9e7d6",
   "metadata": {},
   "outputs": [
    {
     "data": {
      "text/html": [
       "<div>\n",
       "<style scoped>\n",
       "    .dataframe tbody tr th:only-of-type {\n",
       "        vertical-align: middle;\n",
       "    }\n",
       "\n",
       "    .dataframe tbody tr th {\n",
       "        vertical-align: top;\n",
       "    }\n",
       "\n",
       "    .dataframe thead th {\n",
       "        text-align: right;\n",
       "    }\n",
       "</style>\n",
       "<table border=\"1\" class=\"dataframe\">\n",
       "  <thead>\n",
       "    <tr style=\"text-align: right;\">\n",
       "      <th></th>\n",
       "      <th>query_id</th>\n",
       "      <th>query_string</th>\n",
       "      <th>product_id</th>\n",
       "      <th>position</th>\n",
       "      <th>num_results</th>\n",
       "      <th>relevance</th>\n",
       "      <th>run</th>\n",
       "    </tr>\n",
       "  </thead>\n",
       "  <tbody>\n",
       "    <tr>\n",
       "      <th>0</th>\n",
       "      <td>1</td>\n",
       "      <td>(fiction without frontiers)</td>\n",
       "      <td>1787581780</td>\n",
       "      <td>0</td>\n",
       "      <td>42</td>\n",
       "      <td>309.1219</td>\n",
       "      <td>default</td>\n",
       "    </tr>\n",
       "    <tr>\n",
       "      <th>1</th>\n",
       "      <td>1</td>\n",
       "      <td>(fiction without frontiers)</td>\n",
       "      <td>B082VGLV18</td>\n",
       "      <td>1</td>\n",
       "      <td>42</td>\n",
       "      <td>309.1219</td>\n",
       "      <td>default</td>\n",
       "    </tr>\n",
       "    <tr>\n",
       "      <th>2</th>\n",
       "      <td>1</td>\n",
       "      <td>(fiction without frontiers)</td>\n",
       "      <td>B07GJVWWWR</td>\n",
       "      <td>2</td>\n",
       "      <td>42</td>\n",
       "      <td>309.1219</td>\n",
       "      <td>default</td>\n",
       "    </tr>\n",
       "  </tbody>\n",
       "</table>\n",
       "</div>"
      ],
      "text/plain": [
       "  query_id                 query_string  product_id  position  num_results  \\\n",
       "0        1  (fiction without frontiers)  1787581780         0           42   \n",
       "1        1  (fiction without frontiers)  B082VGLV18         1           42   \n",
       "2        1  (fiction without frontiers)  B07GJVWWWR         2           42   \n",
       "\n",
       "   relevance      run  \n",
       "0   309.1219  default  \n",
       "1   309.1219  default  \n",
       "2   309.1219  default  "
      ]
     },
     "execution_count": 16,
     "metadata": {},
     "output_type": "execute_result"
    }
   ],
   "source": [
    "df_relevance.head(3)"
   ]
  },
  {
   "cell_type": "code",
   "execution_count": 17,
   "id": "5e8cdfd4-f5bb-4315-9ddd-3ed3fc6875d6",
   "metadata": {},
   "outputs": [
    {
     "data": {
      "text/html": [
       "<div>\n",
       "<style scoped>\n",
       "    .dataframe tbody tr th:only-of-type {\n",
       "        vertical-align: middle;\n",
       "    }\n",
       "\n",
       "    .dataframe tbody tr th {\n",
       "        vertical-align: top;\n",
       "    }\n",
       "\n",
       "    .dataframe thead th {\n",
       "        text-align: right;\n",
       "    }\n",
       "</style>\n",
       "<table border=\"1\" class=\"dataframe\">\n",
       "  <thead>\n",
       "    <tr style=\"text-align: right;\">\n",
       "      <th></th>\n",
       "      <th>query</th>\n",
       "      <th>docid</th>\n",
       "      <th>rating</th>\n",
       "      <th>idx</th>\n",
       "    </tr>\n",
       "  </thead>\n",
       "  <tbody>\n",
       "    <tr>\n",
       "      <th>0</th>\n",
       "      <td>$30 roblox gift card not digital</td>\n",
       "      <td>B07RX6FBFR</td>\n",
       "      <td>3</td>\n",
       "      <td>0</td>\n",
       "    </tr>\n",
       "    <tr>\n",
       "      <th>1</th>\n",
       "      <td>$30 roblox gift card not digital</td>\n",
       "      <td>B09194H44R</td>\n",
       "      <td>0</td>\n",
       "      <td>0</td>\n",
       "    </tr>\n",
       "    <tr>\n",
       "      <th>2</th>\n",
       "      <td>$30 roblox gift card not digital</td>\n",
       "      <td>B08R5N6W6B</td>\n",
       "      <td>2</td>\n",
       "      <td>0</td>\n",
       "    </tr>\n",
       "  </tbody>\n",
       "</table>\n",
       "</div>"
      ],
      "text/plain": [
       "                              query       docid  rating  idx\n",
       "0  $30 roblox gift card not digital  B07RX6FBFR       3    0\n",
       "1  $30 roblox gift card not digital  B09194H44R       0    0\n",
       "2  $30 roblox gift card not digital  B08R5N6W6B       2    0"
      ]
     },
     "execution_count": 17,
     "metadata": {},
     "output_type": "execute_result"
    }
   ],
   "source": [
    "df_merged.head(3)"
   ]
  },
  {
   "cell_type": "code",
   "execution_count": 18,
   "id": "4aa72a3f-0cd4-42a9-a122-4c05bd1ab50b",
   "metadata": {},
   "outputs": [],
   "source": [
    "# Make sure ids are strings - otherwise the merge operation might cause an error\n",
    "df_relevance['query_id'] = df_relevance['query_id'].astype(str)\n",
    "df_merged['idx'] = df_merged['idx'].astype(str)\n",
    "# Remove duplicates from the ratings DataFrame\n",
    "df_unique_ratings = df_merged.drop_duplicates(subset=['docid', 'idx'])"
   ]
  },
  {
   "cell_type": "code",
   "execution_count": 19,
   "id": "0c0024bd-7199-4e1a-9587-b71d66913dcc",
   "metadata": {},
   "outputs": [
    {
     "data": {
      "text/html": [
       "<div>\n",
       "<style scoped>\n",
       "    .dataframe tbody tr th:only-of-type {\n",
       "        vertical-align: middle;\n",
       "    }\n",
       "\n",
       "    .dataframe tbody tr th {\n",
       "        vertical-align: top;\n",
       "    }\n",
       "\n",
       "    .dataframe thead th {\n",
       "        text-align: right;\n",
       "    }\n",
       "</style>\n",
       "<table border=\"1\" class=\"dataframe\">\n",
       "  <thead>\n",
       "    <tr style=\"text-align: right;\">\n",
       "      <th></th>\n",
       "      <th>query_id</th>\n",
       "      <th>query_string</th>\n",
       "      <th>product_id</th>\n",
       "      <th>position</th>\n",
       "      <th>num_results</th>\n",
       "      <th>relevance</th>\n",
       "      <th>run</th>\n",
       "      <th>rating</th>\n",
       "    </tr>\n",
       "  </thead>\n",
       "  <tbody>\n",
       "    <tr>\n",
       "      <th>0</th>\n",
       "      <td>1</td>\n",
       "      <td>(fiction without frontiers)</td>\n",
       "      <td>1787581780</td>\n",
       "      <td>0</td>\n",
       "      <td>42</td>\n",
       "      <td>309.12190</td>\n",
       "      <td>default</td>\n",
       "      <td>NaN</td>\n",
       "    </tr>\n",
       "    <tr>\n",
       "      <th>1</th>\n",
       "      <td>1</td>\n",
       "      <td>(fiction without frontiers)</td>\n",
       "      <td>B082VGLV18</td>\n",
       "      <td>1</td>\n",
       "      <td>42</td>\n",
       "      <td>309.12190</td>\n",
       "      <td>default</td>\n",
       "      <td>NaN</td>\n",
       "    </tr>\n",
       "    <tr>\n",
       "      <th>2</th>\n",
       "      <td>1</td>\n",
       "      <td>(fiction without frontiers)</td>\n",
       "      <td>B07GJVWWWR</td>\n",
       "      <td>2</td>\n",
       "      <td>42</td>\n",
       "      <td>309.12190</td>\n",
       "      <td>default</td>\n",
       "      <td>3.0</td>\n",
       "    </tr>\n",
       "    <tr>\n",
       "      <th>3</th>\n",
       "      <td>1</td>\n",
       "      <td>(fiction without frontiers)</td>\n",
       "      <td>B08C5MQFCY</td>\n",
       "      <td>3</td>\n",
       "      <td>42</td>\n",
       "      <td>309.12190</td>\n",
       "      <td>default</td>\n",
       "      <td>3.0</td>\n",
       "    </tr>\n",
       "    <tr>\n",
       "      <th>4</th>\n",
       "      <td>1</td>\n",
       "      <td>(fiction without frontiers)</td>\n",
       "      <td>1787583325</td>\n",
       "      <td>4</td>\n",
       "      <td>42</td>\n",
       "      <td>298.64386</td>\n",
       "      <td>default</td>\n",
       "      <td>NaN</td>\n",
       "    </tr>\n",
       "    <tr>\n",
       "      <th>5</th>\n",
       "      <td>1</td>\n",
       "      <td>(fiction without frontiers)</td>\n",
       "      <td>B07KL6QTN1</td>\n",
       "      <td>5</td>\n",
       "      <td>42</td>\n",
       "      <td>298.64386</td>\n",
       "      <td>default</td>\n",
       "      <td>NaN</td>\n",
       "    </tr>\n",
       "    <tr>\n",
       "      <th>6</th>\n",
       "      <td>1</td>\n",
       "      <td>(fiction without frontiers)</td>\n",
       "      <td>B07QCVBDRS</td>\n",
       "      <td>6</td>\n",
       "      <td>42</td>\n",
       "      <td>298.64386</td>\n",
       "      <td>default</td>\n",
       "      <td>NaN</td>\n",
       "    </tr>\n",
       "    <tr>\n",
       "      <th>7</th>\n",
       "      <td>1</td>\n",
       "      <td>(fiction without frontiers)</td>\n",
       "      <td>B07SM9NJCP</td>\n",
       "      <td>7</td>\n",
       "      <td>42</td>\n",
       "      <td>298.64386</td>\n",
       "      <td>default</td>\n",
       "      <td>NaN</td>\n",
       "    </tr>\n",
       "    <tr>\n",
       "      <th>8</th>\n",
       "      <td>1</td>\n",
       "      <td>(fiction without frontiers)</td>\n",
       "      <td>B07RG5TT93</td>\n",
       "      <td>8</td>\n",
       "      <td>42</td>\n",
       "      <td>298.64386</td>\n",
       "      <td>default</td>\n",
       "      <td>NaN</td>\n",
       "    </tr>\n",
       "    <tr>\n",
       "      <th>9</th>\n",
       "      <td>1</td>\n",
       "      <td>(fiction without frontiers)</td>\n",
       "      <td>B07L9JSMT8</td>\n",
       "      <td>9</td>\n",
       "      <td>42</td>\n",
       "      <td>298.64386</td>\n",
       "      <td>default</td>\n",
       "      <td>3.0</td>\n",
       "    </tr>\n",
       "  </tbody>\n",
       "</table>\n",
       "</div>"
      ],
      "text/plain": [
       "  query_id                 query_string  product_id  position  num_results  \\\n",
       "0        1  (fiction without frontiers)  1787581780         0           42   \n",
       "1        1  (fiction without frontiers)  B082VGLV18         1           42   \n",
       "2        1  (fiction without frontiers)  B07GJVWWWR         2           42   \n",
       "3        1  (fiction without frontiers)  B08C5MQFCY         3           42   \n",
       "4        1  (fiction without frontiers)  1787583325         4           42   \n",
       "5        1  (fiction without frontiers)  B07KL6QTN1         5           42   \n",
       "6        1  (fiction without frontiers)  B07QCVBDRS         6           42   \n",
       "7        1  (fiction without frontiers)  B07SM9NJCP         7           42   \n",
       "8        1  (fiction without frontiers)  B07RG5TT93         8           42   \n",
       "9        1  (fiction without frontiers)  B07L9JSMT8         9           42   \n",
       "\n",
       "   relevance      run  rating  \n",
       "0  309.12190  default     NaN  \n",
       "1  309.12190  default     NaN  \n",
       "2  309.12190  default     3.0  \n",
       "3  309.12190  default     3.0  \n",
       "4  298.64386  default     NaN  \n",
       "5  298.64386  default     NaN  \n",
       "6  298.64386  default     NaN  \n",
       "7  298.64386  default     NaN  \n",
       "8  298.64386  default     NaN  \n",
       "9  298.64386  default     3.0  "
      ]
     },
     "execution_count": 19,
     "metadata": {},
     "output_type": "execute_result"
    }
   ],
   "source": [
    "# Merge results on query_id and product_id so that the resulting DataFrame has the ratings together with the search results\n",
    "df_merged = df_relevance.merge(df_unique_ratings, left_on=['query_id', 'product_id'], right_on=['idx', 'docid'], how='left', validate='one_to_one')\n",
    "df_merged = df_merged.drop(columns=['query', 'docid', 'idx'])\n",
    "\n",
    "df_merged.head(10)"
   ]
  },
  {
   "cell_type": "code",
   "execution_count": 20,
   "id": "d2530be8-1c7a-4a75-a5a4-290613115bdd",
   "metadata": {},
   "outputs": [
    {
     "name": "stdout",
     "output_type": "stream",
     "text": [
      "There are 1619 rows and 995 do not contain a rating\n"
     ]
    }
   ],
   "source": [
    "# Count the rows without ratings - the higher the count is the less reliable the results will be\n",
    "nan_count_rating = df_merged['rating'].isna().sum()\n",
    "print(f\"There are {df_merged.shape[0]} rows and {nan_count_rating} do not contain a rating\")"
   ]
  },
  {
   "cell_type": "markdown",
   "id": "faffcfb0-0411-4cef-ae9c-39a4a91f3d97",
   "metadata": {},
   "source": [
    "## Metrics"
   ]
  },
  {
   "cell_type": "code",
   "execution_count": 21,
   "id": "0e72bf72-7e8b-4c6b-82f9-ad3bcddd8d31",
   "metadata": {},
   "outputs": [],
   "source": [
    "def dcg_at_10(df):\n",
    "    # Sort DataFrame by position and take the top 10 results\n",
    "    df = df.head(10)\n",
    "    \n",
    "    # Apply DCG formula\n",
    "    dcg = np.sum((df['rating']) / np.log2(df['position'] + 2))\n",
    "    \n",
    "    return dcg\n",
    "\n",
    "def ndcg_at_10(df):\n",
    "    # Sort DataFrame by position and take the top 10 results\n",
    "    top_10 = df.sort_values('position').head(10)\n",
    "    \n",
    "    # Calculate DCG@10\n",
    "    dcg = dcg_at_10(top_10)\n",
    "    \n",
    "    # Sort by rating in descending order to get the ideal DCG\n",
    "    ideal_top_10 = df.sort_values('rating', ascending=False).head(10)\n",
    "    \n",
    "    # Reset the positional information - otherwise it uses the original positions and the \n",
    "    # changed sorting would have no effect\n",
    "    ideal_top_10['position'] = range(ideal_top_10.shape[0])\n",
    "    \n",
    "    # Calculate iDCG (ideal DCG)\n",
    "    idcg = np.sum((ideal_top_10['rating']) / np.log2(ideal_top_10['position'] + 2))\n",
    "    \n",
    "    # Handle cases where iDCG is 0\n",
    "    if idcg == 0:\n",
    "        return 0\n",
    "    \n",
    "    # Normalize DCG\n",
    "    ndcg = dcg / idcg\n",
    "    \n",
    "    return ndcg\n",
    "\n",
    "def precision_at_k(df, k=10):\n",
    "    # Sort by position and take the top k results\n",
    "    top_k = df.sort_values('position').head(k)\n",
    "    \n",
    "    # Calculate the number of relevant results (assuming relevance > 1 is relevant)\n",
    "    relevant_count = np.sum(top_k['rating'] > 1)\n",
    "    \n",
    "    # Calculate precision\n",
    "    precision = relevant_count / k\n",
    "    \n",
    "    return precision\n",
    "\n",
    "def ratio_of_ratings(df, k=10, **kwargs):\n",
    "    top_k = df.sort_values('position').head(k)\n",
    "    num_of_ratings = top_k[~top_k['rating'].isna()].shape[0]\n",
    "    num_of_shown_results = top_k.shape[0]\n",
    "    if num_of_shown_results == 0:\n",
    "        return 0\n",
    "    else:\n",
    "        return num_of_ratings/num_of_shown_results\n",
    "\n",
    "metrics = [\n",
    "    (\"dcg\", dcg_at_10, None),\n",
    "    (\"ndcg\", ndcg_at_10, None),\n",
    "    (\"prec@10\", lambda x: precision_at_k(x, 10), None),\n",
    "    (\"ratio_of_ratings\", lambda x: ratio_of_ratings(x), None)\n",
    "]"
   ]
  },
  {
   "cell_type": "markdown",
   "id": "94dbfce1-fe96-44c1-aee2-655d169ac30f",
   "metadata": {},
   "source": [
    "## Calculate Metrics\n",
    "\n",
    "Iterate over the queries in the query set, calculate the three metrics dcg@10, ndcg@10 and precision@10 and store the results for every query in a DataFrame"
   ]
  },
  {
   "cell_type": "code",
   "execution_count": 22,
   "id": "eab0809d-0ef1-49cf-8e34-099718832d2d",
   "metadata": {
    "scrolled": true
   },
   "outputs": [],
   "source": [
    "df_metrics = []\n",
    "for m_name, m_function, ref_search in metrics:\n",
    "    for query in df_query_idx.itertuples():\n",
    "        metric = m_function(df_merged[df_merged['query_string'] == query[2]])\n",
    "        df_metrics.append(pd.DataFrame({\n",
    "            \"query\": [query[2]],\n",
    "            \"metric\": [m_name],\n",
    "            \"value\": [metric],\n",
    "        }))\n",
    "df_metrics = pd.concat(df_metrics)"
   ]
  },
  {
   "cell_type": "code",
   "execution_count": 23,
   "id": "b571a2c9-d842-4362-8f9f-bc8e8555d73f",
   "metadata": {},
   "outputs": [
    {
     "data": {
      "text/html": [
       "<div>\n",
       "<style scoped>\n",
       "    .dataframe tbody tr th:only-of-type {\n",
       "        vertical-align: middle;\n",
       "    }\n",
       "\n",
       "    .dataframe tbody tr th {\n",
       "        vertical-align: top;\n",
       "    }\n",
       "\n",
       "    .dataframe thead th {\n",
       "        text-align: right;\n",
       "    }\n",
       "</style>\n",
       "<table border=\"1\" class=\"dataframe\">\n",
       "  <thead>\n",
       "    <tr style=\"text-align: right;\">\n",
       "      <th></th>\n",
       "      <th>query</th>\n",
       "      <th>metric</th>\n",
       "      <th>value</th>\n",
       "    </tr>\n",
       "  </thead>\n",
       "  <tbody>\n",
       "    <tr>\n",
       "      <th>0</th>\n",
       "      <td>$30 roblox gift card not digital</td>\n",
       "      <td>dcg</td>\n",
       "      <td>0.000000</td>\n",
       "    </tr>\n",
       "    <tr>\n",
       "      <th>0</th>\n",
       "      <td>(fiction without frontiers)</td>\n",
       "      <td>dcg</td>\n",
       "      <td>3.659224</td>\n",
       "    </tr>\n",
       "    <tr>\n",
       "      <th>0</th>\n",
       "      <td>100</td>\n",
       "      <td>dcg</td>\n",
       "      <td>0.000000</td>\n",
       "    </tr>\n",
       "    <tr>\n",
       "      <th>0</th>\n",
       "      <td>10x10x6 cake box without window</td>\n",
       "      <td>dcg</td>\n",
       "      <td>0.000000</td>\n",
       "    </tr>\n",
       "    <tr>\n",
       "      <th>0</th>\n",
       "      <td>15 inch light weight laptop that has lots of m...</td>\n",
       "      <td>dcg</td>\n",
       "      <td>0.000000</td>\n",
       "    </tr>\n",
       "    <tr>\n",
       "      <th>...</th>\n",
       "      <td>...</td>\n",
       "      <td>...</td>\n",
       "      <td>...</td>\n",
       "    </tr>\n",
       "    <tr>\n",
       "      <th>0</th>\n",
       "      <td>wooden stool</td>\n",
       "      <td>ratio_of_ratings</td>\n",
       "      <td>0.000000</td>\n",
       "    </tr>\n",
       "    <tr>\n",
       "      <th>0</th>\n",
       "      <td>woodwick wax melt</td>\n",
       "      <td>ratio_of_ratings</td>\n",
       "      <td>1.000000</td>\n",
       "    </tr>\n",
       "    <tr>\n",
       "      <th>0</th>\n",
       "      <td>world of warcraft anniversary collector's edition</td>\n",
       "      <td>ratio_of_ratings</td>\n",
       "      <td>1.000000</td>\n",
       "    </tr>\n",
       "    <tr>\n",
       "      <th>0</th>\n",
       "      <td>wowled</td>\n",
       "      <td>ratio_of_ratings</td>\n",
       "      <td>1.000000</td>\n",
       "    </tr>\n",
       "    <tr>\n",
       "      <th>0</th>\n",
       "      <td>yarn purple and pink</td>\n",
       "      <td>ratio_of_ratings</td>\n",
       "      <td>0.300000</td>\n",
       "    </tr>\n",
       "  </tbody>\n",
       "</table>\n",
       "<p>880 rows × 3 columns</p>\n",
       "</div>"
      ],
      "text/plain": [
       "                                                query            metric  \\\n",
       "0                    $30 roblox gift card not digital               dcg   \n",
       "0                         (fiction without frontiers)               dcg   \n",
       "0                                                 100               dcg   \n",
       "0                     10x10x6 cake box without window               dcg   \n",
       "0   15 inch light weight laptop that has lots of m...               dcg   \n",
       "..                                                ...               ...   \n",
       "0                                        wooden stool  ratio_of_ratings   \n",
       "0                                   woodwick wax melt  ratio_of_ratings   \n",
       "0   world of warcraft anniversary collector's edition  ratio_of_ratings   \n",
       "0                                              wowled  ratio_of_ratings   \n",
       "0                                yarn purple and pink  ratio_of_ratings   \n",
       "\n",
       "       value  \n",
       "0   0.000000  \n",
       "0   3.659224  \n",
       "0   0.000000  \n",
       "0   0.000000  \n",
       "0   0.000000  \n",
       "..       ...  \n",
       "0   0.000000  \n",
       "0   1.000000  \n",
       "0   1.000000  \n",
       "0   1.000000  \n",
       "0   0.300000  \n",
       "\n",
       "[880 rows x 3 columns]"
      ]
     },
     "execution_count": 23,
     "metadata": {},
     "output_type": "execute_result"
    }
   ],
   "source": [
    "df_metrics"
   ]
  },
  {
   "cell_type": "code",
   "execution_count": 24,
   "id": "abc92d36-f615-4e24-b966-2c2a1a5f437d",
   "metadata": {},
   "outputs": [
    {
     "data": {
      "text/html": [
       "<div>\n",
       "<style scoped>\n",
       "    .dataframe tbody tr th:only-of-type {\n",
       "        vertical-align: middle;\n",
       "    }\n",
       "\n",
       "    .dataframe tbody tr th {\n",
       "        vertical-align: top;\n",
       "    }\n",
       "\n",
       "    .dataframe thead th {\n",
       "        text-align: right;\n",
       "    }\n",
       "</style>\n",
       "<table border=\"1\" class=\"dataframe\">\n",
       "  <thead>\n",
       "    <tr style=\"text-align: right;\">\n",
       "      <th></th>\n",
       "      <th>query</th>\n",
       "      <th>metric</th>\n",
       "      <th>value</th>\n",
       "    </tr>\n",
       "  </thead>\n",
       "  <tbody>\n",
       "    <tr>\n",
       "      <th>0</th>\n",
       "      <td>(fiction without frontiers)</td>\n",
       "      <td>dcg</td>\n",
       "      <td>3.659224</td>\n",
       "    </tr>\n",
       "    <tr>\n",
       "      <th>0</th>\n",
       "      <td>(fiction without frontiers)</td>\n",
       "      <td>ndcg</td>\n",
       "      <td>0.572399</td>\n",
       "    </tr>\n",
       "    <tr>\n",
       "      <th>0</th>\n",
       "      <td>(fiction without frontiers)</td>\n",
       "      <td>prec@10</td>\n",
       "      <td>0.300000</td>\n",
       "    </tr>\n",
       "    <tr>\n",
       "      <th>0</th>\n",
       "      <td>(fiction without frontiers)</td>\n",
       "      <td>ratio_of_ratings</td>\n",
       "      <td>0.300000</td>\n",
       "    </tr>\n",
       "  </tbody>\n",
       "</table>\n",
       "</div>"
      ],
      "text/plain": [
       "                         query            metric     value\n",
       "0  (fiction without frontiers)               dcg  3.659224\n",
       "0  (fiction without frontiers)              ndcg  0.572399\n",
       "0  (fiction without frontiers)           prec@10  0.300000\n",
       "0  (fiction without frontiers)  ratio_of_ratings  0.300000"
      ]
     },
     "execution_count": 24,
     "metadata": {},
     "output_type": "execute_result"
    }
   ],
   "source": [
    "# Use query (fiction without frontiers) for random query set, and 3 ring binder for most judged query set\n",
    "df_metrics[df_metrics['query'] == '(fiction without frontiers)']\n",
    "#df_metrics[df_metrics['query'] == '3 ring binder']"
   ]
  },
  {
   "cell_type": "code",
   "execution_count": 25,
   "id": "22aeb550-b3cf-42b1-8ead-269908b7d0f4",
   "metadata": {},
   "outputs": [
    {
     "name": "stdout",
     "output_type": "stream",
     "text": [
      "Average DCG: 4.1\n",
      "Average NDCG: 0.54\n",
      "Average Precision: 0.27\n"
     ]
    }
   ],
   "source": [
    "print(f\"Average DCG: {df_metrics[df_metrics['metric'] == 'dcg']['value'].mean().round(2)}\")\n",
    "print(f\"Average NDCG: {df_metrics[df_metrics['metric'] == 'ndcg']['value'].mean().round(2)}\")\n",
    "print(f\"Average Precision: {df_metrics[df_metrics['metric'] == 'prec@10']['value'].mean().round(2)}\")"
   ]
  },
  {
   "cell_type": "code",
   "execution_count": 26,
   "id": "00000364-ae65-4cd9-ad04-7916154ec99d",
   "metadata": {},
   "outputs": [],
   "source": [
    "df_metrics.reset_index(drop=True, inplace=True)"
   ]
  },
  {
   "cell_type": "code",
   "execution_count": 27,
   "id": "435d47d2-4eb9-408b-bf56-6faa8d90036a",
   "metadata": {},
   "outputs": [
    {
     "data": {
      "text/html": [
       "<div>\n",
       "<style scoped>\n",
       "    .dataframe tbody tr th:only-of-type {\n",
       "        vertical-align: middle;\n",
       "    }\n",
       "\n",
       "    .dataframe tbody tr th {\n",
       "        vertical-align: top;\n",
       "    }\n",
       "\n",
       "    .dataframe thead th {\n",
       "        text-align: right;\n",
       "    }\n",
       "</style>\n",
       "<table border=\"1\" class=\"dataframe\">\n",
       "  <thead>\n",
       "    <tr style=\"text-align: right;\">\n",
       "      <th></th>\n",
       "      <th>query</th>\n",
       "      <th>metric</th>\n",
       "      <th>value</th>\n",
       "    </tr>\n",
       "  </thead>\n",
       "  <tbody>\n",
       "    <tr>\n",
       "      <th>0</th>\n",
       "      <td>$30 roblox gift card not digital</td>\n",
       "      <td>dcg</td>\n",
       "      <td>0.000000</td>\n",
       "    </tr>\n",
       "    <tr>\n",
       "      <th>1</th>\n",
       "      <td>(fiction without frontiers)</td>\n",
       "      <td>dcg</td>\n",
       "      <td>3.659224</td>\n",
       "    </tr>\n",
       "    <tr>\n",
       "      <th>2</th>\n",
       "      <td>100</td>\n",
       "      <td>dcg</td>\n",
       "      <td>0.000000</td>\n",
       "    </tr>\n",
       "    <tr>\n",
       "      <th>3</th>\n",
       "      <td>10x10x6 cake box without window</td>\n",
       "      <td>dcg</td>\n",
       "      <td>0.000000</td>\n",
       "    </tr>\n",
       "    <tr>\n",
       "      <th>4</th>\n",
       "      <td>15 inch light weight laptop that has lots of m...</td>\n",
       "      <td>dcg</td>\n",
       "      <td>0.000000</td>\n",
       "    </tr>\n",
       "    <tr>\n",
       "      <th>...</th>\n",
       "      <td>...</td>\n",
       "      <td>...</td>\n",
       "      <td>...</td>\n",
       "    </tr>\n",
       "    <tr>\n",
       "      <th>875</th>\n",
       "      <td>wooden stool</td>\n",
       "      <td>ratio_of_ratings</td>\n",
       "      <td>0.000000</td>\n",
       "    </tr>\n",
       "    <tr>\n",
       "      <th>876</th>\n",
       "      <td>woodwick wax melt</td>\n",
       "      <td>ratio_of_ratings</td>\n",
       "      <td>1.000000</td>\n",
       "    </tr>\n",
       "    <tr>\n",
       "      <th>877</th>\n",
       "      <td>world of warcraft anniversary collector's edition</td>\n",
       "      <td>ratio_of_ratings</td>\n",
       "      <td>1.000000</td>\n",
       "    </tr>\n",
       "    <tr>\n",
       "      <th>878</th>\n",
       "      <td>wowled</td>\n",
       "      <td>ratio_of_ratings</td>\n",
       "      <td>1.000000</td>\n",
       "    </tr>\n",
       "    <tr>\n",
       "      <th>879</th>\n",
       "      <td>yarn purple and pink</td>\n",
       "      <td>ratio_of_ratings</td>\n",
       "      <td>0.300000</td>\n",
       "    </tr>\n",
       "  </tbody>\n",
       "</table>\n",
       "<p>880 rows × 3 columns</p>\n",
       "</div>"
      ],
      "text/plain": [
       "                                                 query            metric  \\\n",
       "0                     $30 roblox gift card not digital               dcg   \n",
       "1                          (fiction without frontiers)               dcg   \n",
       "2                                                  100               dcg   \n",
       "3                      10x10x6 cake box without window               dcg   \n",
       "4    15 inch light weight laptop that has lots of m...               dcg   \n",
       "..                                                 ...               ...   \n",
       "875                                       wooden stool  ratio_of_ratings   \n",
       "876                                  woodwick wax melt  ratio_of_ratings   \n",
       "877  world of warcraft anniversary collector's edition  ratio_of_ratings   \n",
       "878                                             wowled  ratio_of_ratings   \n",
       "879                               yarn purple and pink  ratio_of_ratings   \n",
       "\n",
       "        value  \n",
       "0    0.000000  \n",
       "1    3.659224  \n",
       "2    0.000000  \n",
       "3    0.000000  \n",
       "4    0.000000  \n",
       "..        ...  \n",
       "875  0.000000  \n",
       "876  1.000000  \n",
       "877  1.000000  \n",
       "878  1.000000  \n",
       "879  0.300000  \n",
       "\n",
       "[880 rows x 3 columns]"
      ]
     },
     "execution_count": 27,
     "metadata": {},
     "output_type": "execute_result"
    }
   ],
   "source": [
    "df_metrics"
   ]
  },
  {
   "cell_type": "code",
   "execution_count": 28,
   "id": "1adb9d68-3ab3-4a0e-8efe-b5fbaf09a1e1",
   "metadata": {},
   "outputs": [],
   "source": [
    "df_pivot = df_metrics.pivot(index='query', columns='metric', values='value').reset_index()"
   ]
  },
  {
   "cell_type": "code",
   "execution_count": 29,
   "id": "c0d70f32-16ff-47b4-8bd8-fd6a51e8d95d",
   "metadata": {},
   "outputs": [
    {
     "data": {
      "text/html": [
       "<div>\n",
       "<style scoped>\n",
       "    .dataframe tbody tr th:only-of-type {\n",
       "        vertical-align: middle;\n",
       "    }\n",
       "\n",
       "    .dataframe tbody tr th {\n",
       "        vertical-align: top;\n",
       "    }\n",
       "\n",
       "    .dataframe thead th {\n",
       "        text-align: right;\n",
       "    }\n",
       "</style>\n",
       "<table border=\"1\" class=\"dataframe\">\n",
       "  <thead>\n",
       "    <tr style=\"text-align: right;\">\n",
       "      <th>metric</th>\n",
       "      <th>query</th>\n",
       "      <th>dcg</th>\n",
       "      <th>ndcg</th>\n",
       "      <th>prec@10</th>\n",
       "      <th>ratio_of_ratings</th>\n",
       "    </tr>\n",
       "  </thead>\n",
       "  <tbody>\n",
       "    <tr>\n",
       "      <th>0</th>\n",
       "      <td>$30 roblox gift card not digital</td>\n",
       "      <td>0.000000</td>\n",
       "      <td>0.000000</td>\n",
       "      <td>0.0</td>\n",
       "      <td>0.0</td>\n",
       "    </tr>\n",
       "    <tr>\n",
       "      <th>1</th>\n",
       "      <td>(fiction without frontiers)</td>\n",
       "      <td>3.659224</td>\n",
       "      <td>0.572399</td>\n",
       "      <td>0.3</td>\n",
       "      <td>0.3</td>\n",
       "    </tr>\n",
       "    <tr>\n",
       "      <th>2</th>\n",
       "      <td>100</td>\n",
       "      <td>0.000000</td>\n",
       "      <td>0.000000</td>\n",
       "      <td>0.0</td>\n",
       "      <td>0.0</td>\n",
       "    </tr>\n",
       "    <tr>\n",
       "      <th>3</th>\n",
       "      <td>10x10x6 cake box without window</td>\n",
       "      <td>0.000000</td>\n",
       "      <td>0.000000</td>\n",
       "      <td>0.0</td>\n",
       "      <td>0.0</td>\n",
       "    </tr>\n",
       "    <tr>\n",
       "      <th>4</th>\n",
       "      <td>15 inch light weight laptop that has lots of m...</td>\n",
       "      <td>0.000000</td>\n",
       "      <td>0.000000</td>\n",
       "      <td>0.0</td>\n",
       "      <td>0.0</td>\n",
       "    </tr>\n",
       "    <tr>\n",
       "      <th>...</th>\n",
       "      <td>...</td>\n",
       "      <td>...</td>\n",
       "      <td>...</td>\n",
       "      <td>...</td>\n",
       "      <td>...</td>\n",
       "    </tr>\n",
       "    <tr>\n",
       "      <th>215</th>\n",
       "      <td>wooden stool</td>\n",
       "      <td>0.000000</td>\n",
       "      <td>0.000000</td>\n",
       "      <td>0.0</td>\n",
       "      <td>0.0</td>\n",
       "    </tr>\n",
       "    <tr>\n",
       "      <th>216</th>\n",
       "      <td>woodwick wax melt</td>\n",
       "      <td>13.630678</td>\n",
       "      <td>1.000000</td>\n",
       "      <td>1.0</td>\n",
       "      <td>1.0</td>\n",
       "    </tr>\n",
       "    <tr>\n",
       "      <th>217</th>\n",
       "      <td>world of warcraft anniversary collector's edition</td>\n",
       "      <td>3.000000</td>\n",
       "      <td>1.000000</td>\n",
       "      <td>0.1</td>\n",
       "      <td>1.0</td>\n",
       "    </tr>\n",
       "    <tr>\n",
       "      <th>218</th>\n",
       "      <td>wowled</td>\n",
       "      <td>11.860394</td>\n",
       "      <td>1.000000</td>\n",
       "      <td>0.8</td>\n",
       "      <td>1.0</td>\n",
       "    </tr>\n",
       "    <tr>\n",
       "      <th>219</th>\n",
       "      <td>yarn purple and pink</td>\n",
       "      <td>4.404635</td>\n",
       "      <td>0.837087</td>\n",
       "      <td>0.3</td>\n",
       "      <td>0.3</td>\n",
       "    </tr>\n",
       "  </tbody>\n",
       "</table>\n",
       "<p>220 rows × 5 columns</p>\n",
       "</div>"
      ],
      "text/plain": [
       "metric                                              query        dcg  \\\n",
       "0                        $30 roblox gift card not digital   0.000000   \n",
       "1                             (fiction without frontiers)   3.659224   \n",
       "2                                                     100   0.000000   \n",
       "3                         10x10x6 cake box without window   0.000000   \n",
       "4       15 inch light weight laptop that has lots of m...   0.000000   \n",
       "..                                                    ...        ...   \n",
       "215                                          wooden stool   0.000000   \n",
       "216                                     woodwick wax melt  13.630678   \n",
       "217     world of warcraft anniversary collector's edition   3.000000   \n",
       "218                                                wowled  11.860394   \n",
       "219                                  yarn purple and pink   4.404635   \n",
       "\n",
       "metric      ndcg  prec@10  ratio_of_ratings  \n",
       "0       0.000000      0.0               0.0  \n",
       "1       0.572399      0.3               0.3  \n",
       "2       0.000000      0.0               0.0  \n",
       "3       0.000000      0.0               0.0  \n",
       "4       0.000000      0.0               0.0  \n",
       "..           ...      ...               ...  \n",
       "215     0.000000      0.0               0.0  \n",
       "216     1.000000      1.0               1.0  \n",
       "217     1.000000      0.1               1.0  \n",
       "218     1.000000      0.8               1.0  \n",
       "219     0.837087      0.3               0.3  \n",
       "\n",
       "[220 rows x 5 columns]"
      ]
     },
     "execution_count": 29,
     "metadata": {},
     "output_type": "execute_result"
    }
   ],
   "source": [
    "df_pivot"
   ]
  },
  {
   "cell_type": "code",
   "execution_count": 30,
   "id": "78aa40b7-922a-4960-bdd2-5fea61876274",
   "metadata": {},
   "outputs": [],
   "source": [
    "%matplotlib inline\n",
    "%config InlineBackend.figure_format = 'retina'"
   ]
  },
  {
   "cell_type": "code",
   "execution_count": 31,
   "id": "0a1eb8fc-2972-4143-97ba-a31caf6607a1",
   "metadata": {},
   "outputs": [
    {
     "data": {
      "application/vnd.plotly.v1+json": {
       "config": {
        "plotlyServerURL": "https://plot.ly"
       },
       "data": [
        {
         "customdata": [
          [
           "$30 roblox gift card not digital"
          ],
          [
           "(fiction without frontiers)"
          ],
          [
           "100"
          ],
          [
           "10x10x6 cake box without window"
          ],
          [
           "15 inch light weight laptop that has lots of memory storage and RAM.  It should include a HDMI port as well as a USB drive.  "
          ],
          [
           "15 microsoft card"
          ],
          [
           "40 amp 240 volt timer"
          ],
          [
           "45 women birthday party supplies"
          ],
          [
           "4khdip168nv-1"
          ],
          [
           "7 days without a pun makes one weak"
          ],
          [
           "a deed without a name"
          ],
          [
           "adaptador control xbox 360 a pc"
          ],
          [
           "adidas soccer cleats"
          ],
          [
           "alexa leak detector"
          ],
          [
           "alphabet stickers"
          ],
          [
           "american flag 5x8 outdoor made in usa"
          ],
          [
           "andis t edger"
          ],
          [
           "back to december taylor swift"
          ],
          [
           "backpacks lunchbox combo"
          ],
          [
           "bambu utensil set"
          ],
          [
           "barbie puppy movies"
          ],
          [
           "baseball shirt 6 under armour"
          ],
          [
           "battery samsung galaxy s7 edge"
          ],
          [
           "beeswax wood polish"
          ],
          [
           "belief without borders"
          ],
          [
           "best ride on cars mercedes 3-in-1 push car in white"
          ],
          [
           "black and white checkered curtains 2 panels"
          ],
          [
           "body shop gift set for men"
          ],
          [
           "boho earrings"
          ],
          [
           "boo costume monsters inc"
          ],
          [
           "bookshelf 4 tier"
          ],
          [
           "bose headphones replacement cord"
          ],
          [
           "boys smart watch"
          ],
          [
           "bra shiny"
          ],
          [
           "bridal shower decorations"
          ],
          [
           "bulwark flame resistant jacket"
          ],
          [
           "card holders for four decksplaying cards"
          ],
          [
           "cargo pants men big and tall"
          ],
          [
           "carhartt extreme cold weather boot socks"
          ],
          [
           "carhartt windbreaker"
          ],
          [
           "casio illuminator watches for men"
          ],
          [
           "cat balls"
          ],
          [
           "ceramtic coating"
          ],
          [
           "charger wireless for iphone"
          ],
          [
           "christmas dress for petite women"
          ],
          [
           "coil incense"
          ],
          [
           "cole haan grand crosscourt"
          ],
          [
           "collagen supplements"
          ],
          [
           "columbia ice maiden ii womens insulated snow boots"
          ],
          [
           "computer software programs adobe"
          ],
          [
           "computer table"
          ],
          [
           "concealer color changing foundation"
          ],
          [
           "contact lens colored for eyes"
          ],
          [
           "converse sneakers for women"
          ],
          [
           "corn hole game wooden"
          ],
          [
           "cousin it costume"
          ],
          [
           "custom 3 panel wall art"
          ],
          [
           "cwine glasses"
          ],
          [
           "dachshund case"
          ],
          [
           "daves killer bread"
          ],
          [
           "definitely not paid enough for this"
          ],
          [
           "dental floss 0.3"
          ],
          [
           "detective pikachu digital"
          ],
          [
           "dieter roth"
          ],
          [
           "dildo for sex"
          ],
          [
           "dinosaur decorations orange"
          ],
          [
           "dji goggles"
          ],
          [
           "do not enter tape"
          ],
          [
           "double couple famous painting compression socks"
          ],
          [
           "drone with live camera for adults"
          ],
          [
           "drywall anchors heavy duty"
          ],
          [
           "dummy door handle brass"
          ],
          [
           "echo dot flush mount"
          ],
          [
           "eye mask without strap"
          ],
          [
           "ez bow maker for ribbon"
          ],
          [
           "fabric aprons"
          ],
          [
           "fast charging wireless charger"
          ],
          [
           "fire 7 kids edition tablet"
          ],
          [
           "fitness rollers deep tissue massage"
          ],
          [
           "fletchings for arrows"
          ],
          [
           "floral wallpaper stick and peel"
          ],
          [
           "fluoride coated scissors"
          ],
          [
           "four paws magic coat instant dog mat remover"
          ],
          [
           "frixion pens"
          ],
          [
           "frolic flowers"
          ],
          [
           "futon queen"
          ],
          [
           "galaxy 8 note case"
          ],
          [
           "gatorade bottle"
          ],
          [
           "gift teen girl"
          ],
          [
           "girls bible"
          ],
          [
           "girls tights"
          ],
          [
           "glitter lamp color change"
          ],
          [
           "go chef 8 in 1 cooker"
          ],
          [
           "golf sets for men left handed"
          ],
          [
           "ground lift box"
          ],
          [
           "halloween glow bracelets kids"
          ],
          [
           "heavy duty plastic folders with pockets"
          ],
          [
           "helen kaminski hats"
          ],
          [
           "henley shirts for men"
          ],
          [
           "hey water antoinette portis"
          ],
          [
           "hug machine"
          ],
          [
           "if lost or drunk please return to bestie"
          ],
          [
           "ikea wood desk"
          ],
          [
           "ink 61 black and color"
          ],
          [
           "instant pot air fryer"
          ],
          [
           "iphone 11 alpha glass screen protector"
          ],
          [
           "iphone grip"
          ],
          [
           "jbl bluetooth speakers"
          ],
          [
           "jobs evergreen tree spikes"
          ],
          [
           "kid animal plates"
          ],
          [
           "kids play rug pj mask"
          ],
          [
           "kobe baby jersey"
          ],
          [
           "laptop refurbished"
          ],
          [
           "latex dental dam"
          ],
          [
           "lg v20 case"
          ],
          [
           "lights bulbs color changing"
          ],
          [
           "linkin park"
          ],
          [
           "long workout tank tops for women loose fit"
          ],
          [
           "macaw toys"
          ],
          [
           "margarita glasses"
          ],
          [
           "mary meyer baby mat"
          ],
          [
           "maxi pads without wings"
          ],
          [
           "men school bag"
          ],
          [
           "mens ralph lauren puffer jacket"
          ],
          [
           "military face paint kit"
          ],
          [
           "mora wood carving knife"
          ],
          [
           "mortara"
          ],
          [
           "moto play screen protector"
          ],
          [
           "mre beef"
          ],
          [
           "muzzy broadheads"
          ],
          [
           "my tv"
          ],
          [
           "navistar international"
          ],
          [
           "neuroquell for neuropathy"
          ],
          [
           "newborn onesies"
          ],
          [
           "ninja 4qt air fryer black af101"
          ],
          [
           "old fashion mix"
          ],
          [
           "opi linkin park after dark"
          ],
          [
           "orange textured paint"
          ],
          [
           "organicbone broth"
          ],
          [
           "outdoor baby swing"
          ],
          [
           "pack abd play sheet"
          ],
          [
           "panties"
          ],
          [
           "patio chair swing"
          ],
          [
           "phoenix model a330"
          ],
          [
           "pilot knee board"
          ],
          [
           "pine tree garland"
          ],
          [
           "pink ski mask"
          ],
          [
           "plastic divider container"
          ],
          [
           "play kitchen for toddlers accessories"
          ],
          [
           "plus size black shirt"
          ],
          [
           "plywood clips for windows"
          ],
          [
           "pocket storage"
          ],
          [
           "pokemon shield nintendo switch"
          ],
          [
           "porch shades outdoor roll up"
          ],
          [
           "posh moomy"
          ],
          [
           "pot organizer"
          ],
          [
           "powdered lemonade drink mix"
          ],
          [
           "power ball hand exerciser"
          ],
          [
           "psp"
          ],
          [
           "pumping backpack"
          ],
          [
           "puzzle interlocking"
          ],
          [
           "quick grip american tool mini"
          ],
          [
           "quickbooks'"
          ],
          [
           "rae dunn christmas mug"
          ],
          [
           "rag doll kindergarten"
          ],
          [
           "raid deep reach fogger"
          ],
          [
           "razer kishi"
          ],
          [
           "red flannel nightgowns for women"
          ],
          [
           "red long sleeve dress"
          ],
          [
           "renogy 100w solar panel"
          ],
          [
           "reusable produce bags"
          ],
          [
           "ribeye steaks"
          ],
          [
           "rose petals for romantic night"
          ],
          [
           "rudin by ivan turgenev"
          ],
          [
           "runa energy drink"
          ],
          [
           "runtz"
          ],
          [
           "rv sink drain"
          ],
          [
           "samsung galaxy note 8 case"
          ],
          [
           "science diet"
          ],
          [
           "shark vacmop"
          ],
          [
           "slarm window sensor"
          ],
          [
           "slip in sneakers for men"
          ],
          [
           "small cigarette case"
          ],
          [
           "smarty jr"
          ],
          [
           "snuff bullet"
          ],
          [
           "spice variety pack"
          ],
          [
           "ss officer"
          ],
          [
           "starbucks mugs you are here"
          ],
          [
           "still eyeliner"
          ],
          [
           "stuffed animal washer bag"
          ],
          [
           "sundiata"
          ],
          [
           "super nes wires"
          ],
          [
           "surgical pathology"
          ],
          [
           "sushi go card game"
          ],
          [
           "tcl a1x phone case straight talk"
          ],
          [
           "telescopic handle"
          ],
          [
           "tetley"
          ],
          [
           "the first years gate parts"
          ],
          [
           "the gallows"
          ],
          [
           "thrive mascara"
          ],
          [
           "trooper bandana shoe"
          ],
          [
           "ultra fast keto boost 800mg"
          ],
          [
           "uniball vision elite"
          ],
          [
           "usb camera"
          ],
          [
           "used pc desktop"
          ],
          [
           "wallets for men"
          ],
          [
           "water brushes"
          ],
          [
           "wella 7r 810"
          ],
          [
           "white mesh bodysuit"
          ],
          [
           "wiggle scooters for kids"
          ],
          [
           "winter cycling shoe covers"
          ],
          [
           "winter jacket"
          ],
          [
           "wireless keyboard mouse combo"
          ],
          [
           "women sexy dresses for party"
          ],
          [
           "women shawl for winter"
          ],
          [
           "wooden stool"
          ],
          [
           "woodwick wax melt"
          ],
          [
           "world of warcraft anniversary collector's edition"
          ],
          [
           "wowled"
          ],
          [
           "yarn purple and pink"
          ]
         ],
         "hovertemplate": "DCG=%{x}<br>Ratio of Judgements=%{y}<br>query=%{customdata[0]}<extra></extra>",
         "legendgroup": "",
         "marker": {
          "color": "#636efa",
          "symbol": "circle"
         },
         "mode": "markers",
         "name": "",
         "orientation": "v",
         "showlegend": false,
         "type": "scatter",
         "x": [
          0,
          3.659224153173843,
          0,
          0,
          0,
          3,
          4.892789260714372,
          3,
          0,
          11.737888753550665,
          12.243825207030495,
          0,
          3.3927892607143724,
          4.892789260714372,
          10.567029605569468,
          10.913998917962243,
          3,
          0,
          0,
          0,
          0,
          0,
          12.727588027273093,
          10.366936791728847,
          5.892789260714372,
          3,
          8.845377356638178,
          0,
          3,
          0,
          2.8927892607143724,
          10.691514294303055,
          0.9463946303571862,
          6.47427388135896,
          0,
          12.727588027273093,
          0,
          0,
          2.4525880959238044,
          0,
          0,
          0,
          0,
          0,
          0,
          11.523724962204227,
          3,
          0,
          0,
          0,
          0,
          4.068621561324067,
          0,
          0,
          3.0533476824179973,
          4.892789260714372,
          0,
          0,
          12.470119592561412,
          0,
          0,
          0,
          3,
          13.630678014265037,
          0,
          10.177079413181309,
          7.995619283649168,
          4.781895277518447,
          0,
          3.795879247706316,
          7.184818934934552,
          5.461410822038439,
          3,
          8.791494123193479,
          0,
          1.8671944789536634,
          0,
          2.9350107715705986,
          2.2920296742201796,
          7.021209657247871,
          12.56205645294097,
          11.471453861091195,
          0,
          1.8671944789536634,
          0,
          2.2920296742201796,
          0,
          3.9030899869919438,
          0,
          0.9030899869919436,
          3,
          4.892789260714372,
          0,
          3,
          5.795879247706316,
          0.9030899869919436,
          1.1605584217036249,
          0,
          0,
          0,
          3.6309297535714578,
          13.630678014265037,
          2.8927892607143724,
          10.067029605569468,
          1.7702844659456072,
          3,
          0,
          1.1605584217036249,
          0,
          3.1309297535714578,
          0,
          0,
          0,
          11.87138084016507,
          2.759983739668036,
          2.795879247706316,
          8.25344049625862,
          10.498408044245402,
          4.053347682417997,
          9.791771986995363,
          12.462453539647392,
          8.989163722695729,
          0,
          3.3927892607143724,
          0,
          0,
          12.999748260693579,
          11.68428338390785,
          7.699835126615804,
          10.834798766558722,
          0,
          13.630678014265037,
          0,
          5.4525880959238044,
          0,
          2.4525880959238044,
          0,
          0,
          0,
          4.5,
          0,
          0,
          2.4030899869919438,
          10.913998917962244,
          4.892789260714372,
          4.388404136201535,
          8.266177205234655,
          4.907805452395625,
          1.9030899869919438,
          1.9463946303571862,
          12.763483535311373,
          1.5,
          3,
          5.961410822038439,
          0,
          4.052013413888216,
          2.0636484086955686,
          5.559455927381039,
          4.059092167837549,
          6.053347682417997,
          3,
          0,
          10.194861973987306,
          6.791494123193479,
          0,
          12.763483535311373,
          9.22533481770356,
          3.8927892607143724,
          1.1605584217036249,
          6.563648408695569,
          1.1605584217036249,
          6.508708770522974,
          2.795879247706316,
          8.458524549403634,
          5.413998917962243,
          8.48723550986517,
          0.3333333333333333,
          0,
          0.8671944789536635,
          4.29202967422018,
          0,
          0,
          5.961410822038439,
          0,
          10.781193396915906,
          0.8671944789536635,
          9.913998917962243,
          12.727588027273093,
          1.8927892607143724,
          3,
          13.630678014265037,
          3,
          12.763483535311373,
          7.166494875183456,
          7.951005008369249,
          4.160558421703625,
          12.470119592561412,
          0,
          12.653730385048625,
          6.392789260714372,
          6.392789260714372,
          7.781895277518447,
          4.892789260714372,
          0.3562071871080222,
          0,
          0,
          2.446394630357186,
          3,
          9.248467343630121,
          8.722872561869412,
          10.839189838989956,
          0,
          5.97171154831601,
          0,
          0.9463946303571862,
          0,
          13.630678014265037,
          3,
          11.86039354831943,
          4.404635368040541
         ],
         "xaxis": "x",
         "y": [
          0,
          0.3,
          0,
          0,
          0,
          0.1,
          1,
          1,
          0,
          0.9,
          0.9,
          0,
          0.2,
          1,
          0.7,
          0.875,
          0.5,
          0,
          0,
          0,
          0,
          0,
          0.9,
          0.7,
          0.75,
          1,
          1,
          0,
          0.1,
          0,
          0.2,
          0.8,
          0.1,
          0.4,
          0,
          0.9,
          0,
          0,
          0.3333333333333333,
          0,
          0,
          0,
          0,
          0,
          0,
          0.8,
          0.1,
          0,
          0,
          0,
          0,
          0.2,
          0,
          0,
          0.2,
          0.2,
          0,
          0,
          0.9,
          0,
          0,
          0,
          1,
          1,
          0,
          0.8,
          0.9,
          0.4,
          0,
          0.3,
          0.4,
          0.5,
          0.3333333333333333,
          0.7,
          0,
          0.2,
          0,
          0.4,
          0.2,
          0.5,
          0.9,
          0.8,
          0,
          0.2,
          0.3333333333333333,
          0.2,
          0,
          0.2,
          0,
          0.1,
          0.1,
          0.2,
          0,
          1,
          0.3,
          0.1,
          0.1,
          0,
          0,
          0,
          0.2,
          1,
          0.2,
          0.7,
          0.3,
          0.3,
          0,
          0.1,
          0,
          0.3,
          0,
          0,
          0,
          0.9,
          0.2,
          0.2,
          0.5,
          0.7,
          0.3,
          0.6,
          1,
          0.6,
          0,
          0.5,
          0,
          0,
          1,
          0.8,
          0.6,
          0.8,
          0,
          1,
          0,
          0.3,
          0,
          0.2,
          0,
          0,
          0,
          0.2,
          0,
          0,
          0.2,
          1,
          1,
          0.4,
          0.6,
          0.4,
          0.2,
          0.2,
          1,
          0.1,
          0.2,
          0.375,
          0,
          0.3,
          0.2,
          0.4,
          0.6,
          0.3,
          0.1,
          0,
          0.7,
          0.6,
          0,
          1,
          1,
          0.2,
          0.1,
          0.5555555555555556,
          0.1,
          0.6,
          0.2,
          1,
          0.4,
          0.7,
          0.1,
          0,
          0.1,
          0.4,
          0,
          0,
          0.3,
          0,
          0.7,
          0.1,
          0.7777777777777778,
          0.9,
          0.1,
          0.1,
          1,
          0.25,
          0.9,
          0.8,
          0.8,
          0.2,
          0.9,
          0,
          1,
          0.3,
          1,
          0.5,
          0.6666666666666666,
          0.1,
          0,
          0,
          0.2,
          1,
          0.6,
          0.6,
          0.8,
          0,
          0.4,
          0,
          0.1,
          0,
          1,
          1,
          1,
          0.3
         ],
         "yaxis": "y"
        }
       ],
       "layout": {
        "autosize": true,
        "hovermode": "closest",
        "legend": {
         "tracegroupgap": 0
        },
        "margin": {
         "t": 60
        },
        "template": {
         "data": {
          "bar": [
           {
            "error_x": {
             "color": "#2a3f5f"
            },
            "error_y": {
             "color": "#2a3f5f"
            },
            "marker": {
             "line": {
              "color": "#E5ECF6",
              "width": 0.5
             },
             "pattern": {
              "fillmode": "overlay",
              "size": 10,
              "solidity": 0.2
             }
            },
            "type": "bar"
           }
          ],
          "barpolar": [
           {
            "marker": {
             "line": {
              "color": "#E5ECF6",
              "width": 0.5
             },
             "pattern": {
              "fillmode": "overlay",
              "size": 10,
              "solidity": 0.2
             }
            },
            "type": "barpolar"
           }
          ],
          "carpet": [
           {
            "aaxis": {
             "endlinecolor": "#2a3f5f",
             "gridcolor": "white",
             "linecolor": "white",
             "minorgridcolor": "white",
             "startlinecolor": "#2a3f5f"
            },
            "baxis": {
             "endlinecolor": "#2a3f5f",
             "gridcolor": "white",
             "linecolor": "white",
             "minorgridcolor": "white",
             "startlinecolor": "#2a3f5f"
            },
            "type": "carpet"
           }
          ],
          "choropleth": [
           {
            "colorbar": {
             "outlinewidth": 0,
             "ticks": ""
            },
            "type": "choropleth"
           }
          ],
          "contour": [
           {
            "colorbar": {
             "outlinewidth": 0,
             "ticks": ""
            },
            "colorscale": [
             [
              0,
              "#0d0887"
             ],
             [
              0.1111111111111111,
              "#46039f"
             ],
             [
              0.2222222222222222,
              "#7201a8"
             ],
             [
              0.3333333333333333,
              "#9c179e"
             ],
             [
              0.4444444444444444,
              "#bd3786"
             ],
             [
              0.5555555555555556,
              "#d8576b"
             ],
             [
              0.6666666666666666,
              "#ed7953"
             ],
             [
              0.7777777777777778,
              "#fb9f3a"
             ],
             [
              0.8888888888888888,
              "#fdca26"
             ],
             [
              1,
              "#f0f921"
             ]
            ],
            "type": "contour"
           }
          ],
          "contourcarpet": [
           {
            "colorbar": {
             "outlinewidth": 0,
             "ticks": ""
            },
            "type": "contourcarpet"
           }
          ],
          "heatmap": [
           {
            "colorbar": {
             "outlinewidth": 0,
             "ticks": ""
            },
            "colorscale": [
             [
              0,
              "#0d0887"
             ],
             [
              0.1111111111111111,
              "#46039f"
             ],
             [
              0.2222222222222222,
              "#7201a8"
             ],
             [
              0.3333333333333333,
              "#9c179e"
             ],
             [
              0.4444444444444444,
              "#bd3786"
             ],
             [
              0.5555555555555556,
              "#d8576b"
             ],
             [
              0.6666666666666666,
              "#ed7953"
             ],
             [
              0.7777777777777778,
              "#fb9f3a"
             ],
             [
              0.8888888888888888,
              "#fdca26"
             ],
             [
              1,
              "#f0f921"
             ]
            ],
            "type": "heatmap"
           }
          ],
          "heatmapgl": [
           {
            "colorbar": {
             "outlinewidth": 0,
             "ticks": ""
            },
            "colorscale": [
             [
              0,
              "#0d0887"
             ],
             [
              0.1111111111111111,
              "#46039f"
             ],
             [
              0.2222222222222222,
              "#7201a8"
             ],
             [
              0.3333333333333333,
              "#9c179e"
             ],
             [
              0.4444444444444444,
              "#bd3786"
             ],
             [
              0.5555555555555556,
              "#d8576b"
             ],
             [
              0.6666666666666666,
              "#ed7953"
             ],
             [
              0.7777777777777778,
              "#fb9f3a"
             ],
             [
              0.8888888888888888,
              "#fdca26"
             ],
             [
              1,
              "#f0f921"
             ]
            ],
            "type": "heatmapgl"
           }
          ],
          "histogram": [
           {
            "marker": {
             "pattern": {
              "fillmode": "overlay",
              "size": 10,
              "solidity": 0.2
             }
            },
            "type": "histogram"
           }
          ],
          "histogram2d": [
           {
            "colorbar": {
             "outlinewidth": 0,
             "ticks": ""
            },
            "colorscale": [
             [
              0,
              "#0d0887"
             ],
             [
              0.1111111111111111,
              "#46039f"
             ],
             [
              0.2222222222222222,
              "#7201a8"
             ],
             [
              0.3333333333333333,
              "#9c179e"
             ],
             [
              0.4444444444444444,
              "#bd3786"
             ],
             [
              0.5555555555555556,
              "#d8576b"
             ],
             [
              0.6666666666666666,
              "#ed7953"
             ],
             [
              0.7777777777777778,
              "#fb9f3a"
             ],
             [
              0.8888888888888888,
              "#fdca26"
             ],
             [
              1,
              "#f0f921"
             ]
            ],
            "type": "histogram2d"
           }
          ],
          "histogram2dcontour": [
           {
            "colorbar": {
             "outlinewidth": 0,
             "ticks": ""
            },
            "colorscale": [
             [
              0,
              "#0d0887"
             ],
             [
              0.1111111111111111,
              "#46039f"
             ],
             [
              0.2222222222222222,
              "#7201a8"
             ],
             [
              0.3333333333333333,
              "#9c179e"
             ],
             [
              0.4444444444444444,
              "#bd3786"
             ],
             [
              0.5555555555555556,
              "#d8576b"
             ],
             [
              0.6666666666666666,
              "#ed7953"
             ],
             [
              0.7777777777777778,
              "#fb9f3a"
             ],
             [
              0.8888888888888888,
              "#fdca26"
             ],
             [
              1,
              "#f0f921"
             ]
            ],
            "type": "histogram2dcontour"
           }
          ],
          "mesh3d": [
           {
            "colorbar": {
             "outlinewidth": 0,
             "ticks": ""
            },
            "type": "mesh3d"
           }
          ],
          "parcoords": [
           {
            "line": {
             "colorbar": {
              "outlinewidth": 0,
              "ticks": ""
             }
            },
            "type": "parcoords"
           }
          ],
          "pie": [
           {
            "automargin": true,
            "type": "pie"
           }
          ],
          "scatter": [
           {
            "fillpattern": {
             "fillmode": "overlay",
             "size": 10,
             "solidity": 0.2
            },
            "type": "scatter"
           }
          ],
          "scatter3d": [
           {
            "line": {
             "colorbar": {
              "outlinewidth": 0,
              "ticks": ""
             }
            },
            "marker": {
             "colorbar": {
              "outlinewidth": 0,
              "ticks": ""
             }
            },
            "type": "scatter3d"
           }
          ],
          "scattercarpet": [
           {
            "marker": {
             "colorbar": {
              "outlinewidth": 0,
              "ticks": ""
             }
            },
            "type": "scattercarpet"
           }
          ],
          "scattergeo": [
           {
            "marker": {
             "colorbar": {
              "outlinewidth": 0,
              "ticks": ""
             }
            },
            "type": "scattergeo"
           }
          ],
          "scattergl": [
           {
            "marker": {
             "colorbar": {
              "outlinewidth": 0,
              "ticks": ""
             }
            },
            "type": "scattergl"
           }
          ],
          "scattermapbox": [
           {
            "marker": {
             "colorbar": {
              "outlinewidth": 0,
              "ticks": ""
             }
            },
            "type": "scattermapbox"
           }
          ],
          "scatterpolar": [
           {
            "marker": {
             "colorbar": {
              "outlinewidth": 0,
              "ticks": ""
             }
            },
            "type": "scatterpolar"
           }
          ],
          "scatterpolargl": [
           {
            "marker": {
             "colorbar": {
              "outlinewidth": 0,
              "ticks": ""
             }
            },
            "type": "scatterpolargl"
           }
          ],
          "scatterternary": [
           {
            "marker": {
             "colorbar": {
              "outlinewidth": 0,
              "ticks": ""
             }
            },
            "type": "scatterternary"
           }
          ],
          "surface": [
           {
            "colorbar": {
             "outlinewidth": 0,
             "ticks": ""
            },
            "colorscale": [
             [
              0,
              "#0d0887"
             ],
             [
              0.1111111111111111,
              "#46039f"
             ],
             [
              0.2222222222222222,
              "#7201a8"
             ],
             [
              0.3333333333333333,
              "#9c179e"
             ],
             [
              0.4444444444444444,
              "#bd3786"
             ],
             [
              0.5555555555555556,
              "#d8576b"
             ],
             [
              0.6666666666666666,
              "#ed7953"
             ],
             [
              0.7777777777777778,
              "#fb9f3a"
             ],
             [
              0.8888888888888888,
              "#fdca26"
             ],
             [
              1,
              "#f0f921"
             ]
            ],
            "type": "surface"
           }
          ],
          "table": [
           {
            "cells": {
             "fill": {
              "color": "#EBF0F8"
             },
             "line": {
              "color": "white"
             }
            },
            "header": {
             "fill": {
              "color": "#C8D4E3"
             },
             "line": {
              "color": "white"
             }
            },
            "type": "table"
           }
          ]
         },
         "layout": {
          "annotationdefaults": {
           "arrowcolor": "#2a3f5f",
           "arrowhead": 0,
           "arrowwidth": 1
          },
          "autotypenumbers": "strict",
          "coloraxis": {
           "colorbar": {
            "outlinewidth": 0,
            "ticks": ""
           }
          },
          "colorscale": {
           "diverging": [
            [
             0,
             "#8e0152"
            ],
            [
             0.1,
             "#c51b7d"
            ],
            [
             0.2,
             "#de77ae"
            ],
            [
             0.3,
             "#f1b6da"
            ],
            [
             0.4,
             "#fde0ef"
            ],
            [
             0.5,
             "#f7f7f7"
            ],
            [
             0.6,
             "#e6f5d0"
            ],
            [
             0.7,
             "#b8e186"
            ],
            [
             0.8,
             "#7fbc41"
            ],
            [
             0.9,
             "#4d9221"
            ],
            [
             1,
             "#276419"
            ]
           ],
           "sequential": [
            [
             0,
             "#0d0887"
            ],
            [
             0.1111111111111111,
             "#46039f"
            ],
            [
             0.2222222222222222,
             "#7201a8"
            ],
            [
             0.3333333333333333,
             "#9c179e"
            ],
            [
             0.4444444444444444,
             "#bd3786"
            ],
            [
             0.5555555555555556,
             "#d8576b"
            ],
            [
             0.6666666666666666,
             "#ed7953"
            ],
            [
             0.7777777777777778,
             "#fb9f3a"
            ],
            [
             0.8888888888888888,
             "#fdca26"
            ],
            [
             1,
             "#f0f921"
            ]
           ],
           "sequentialminus": [
            [
             0,
             "#0d0887"
            ],
            [
             0.1111111111111111,
             "#46039f"
            ],
            [
             0.2222222222222222,
             "#7201a8"
            ],
            [
             0.3333333333333333,
             "#9c179e"
            ],
            [
             0.4444444444444444,
             "#bd3786"
            ],
            [
             0.5555555555555556,
             "#d8576b"
            ],
            [
             0.6666666666666666,
             "#ed7953"
            ],
            [
             0.7777777777777778,
             "#fb9f3a"
            ],
            [
             0.8888888888888888,
             "#fdca26"
            ],
            [
             1,
             "#f0f921"
            ]
           ]
          },
          "colorway": [
           "#636efa",
           "#EF553B",
           "#00cc96",
           "#ab63fa",
           "#FFA15A",
           "#19d3f3",
           "#FF6692",
           "#B6E880",
           "#FF97FF",
           "#FECB52"
          ],
          "font": {
           "color": "#2a3f5f"
          },
          "geo": {
           "bgcolor": "white",
           "lakecolor": "white",
           "landcolor": "#E5ECF6",
           "showlakes": true,
           "showland": true,
           "subunitcolor": "white"
          },
          "hoverlabel": {
           "align": "left"
          },
          "hovermode": "closest",
          "mapbox": {
           "style": "light"
          },
          "paper_bgcolor": "white",
          "plot_bgcolor": "#E5ECF6",
          "polar": {
           "angularaxis": {
            "gridcolor": "white",
            "linecolor": "white",
            "ticks": ""
           },
           "bgcolor": "#E5ECF6",
           "radialaxis": {
            "gridcolor": "white",
            "linecolor": "white",
            "ticks": ""
           }
          },
          "scene": {
           "xaxis": {
            "backgroundcolor": "#E5ECF6",
            "gridcolor": "white",
            "gridwidth": 2,
            "linecolor": "white",
            "showbackground": true,
            "ticks": "",
            "zerolinecolor": "white"
           },
           "yaxis": {
            "backgroundcolor": "#E5ECF6",
            "gridcolor": "white",
            "gridwidth": 2,
            "linecolor": "white",
            "showbackground": true,
            "ticks": "",
            "zerolinecolor": "white"
           },
           "zaxis": {
            "backgroundcolor": "#E5ECF6",
            "gridcolor": "white",
            "gridwidth": 2,
            "linecolor": "white",
            "showbackground": true,
            "ticks": "",
            "zerolinecolor": "white"
           }
          },
          "shapedefaults": {
           "line": {
            "color": "#2a3f5f"
           }
          },
          "ternary": {
           "aaxis": {
            "gridcolor": "white",
            "linecolor": "white",
            "ticks": ""
           },
           "baxis": {
            "gridcolor": "white",
            "linecolor": "white",
            "ticks": ""
           },
           "bgcolor": "#E5ECF6",
           "caxis": {
            "gridcolor": "white",
            "linecolor": "white",
            "ticks": ""
           }
          },
          "title": {
           "x": 0.05
          },
          "xaxis": {
           "automargin": true,
           "gridcolor": "white",
           "linecolor": "white",
           "ticks": "",
           "title": {
            "standoff": 15
           },
           "zerolinecolor": "white",
           "zerolinewidth": 2
          },
          "yaxis": {
           "automargin": true,
           "gridcolor": "white",
           "linecolor": "white",
           "ticks": "",
           "title": {
            "standoff": 15
           },
           "zerolinecolor": "white",
           "zerolinewidth": 2
          }
         }
        },
        "title": {
         "text": "Scatterplot of DCG vs Ratio of Judgements"
        },
        "xaxis": {
         "anchor": "y",
         "autorange": true,
         "domain": [
          0,
          1
         ],
         "range": [
          -0.8247759283477061,
          14.455453942612742
         ],
         "title": {
          "text": "DCG"
         },
         "type": "linear"
        },
        "yaxis": {
         "anchor": "x",
         "autorange": true,
         "domain": [
          0,
          1
         ],
         "range": [
          -0.0774278215223097,
          1.0774278215223096
         ],
         "title": {
          "text": "Ratio of Judgements"
         },
         "type": "linear"
        }
       }
      },
      "image/png": "[encoded data removed]"
     },
     "metadata": {},
     "output_type": "display_data"
    }
   ],
   "source": [
    "pio.renderers.default = 'plotly_mimetype'\n",
    "fig = px.scatter(df_pivot, \n",
    "                 x='dcg', y='ratio_of_ratings', \n",
    "                 hover_data={'query': True},  # Show query on hover\n",
    "                 labels={'dcg': 'DCG', 'ratio_of_ratings': 'Ratio of Judgements'})\n",
    "\n",
    "# Customize the layout\n",
    "fig.update_layout(title=\"Scatterplot of DCG vs Ratio of Judgements\",\n",
    "                  xaxis_title=\"DCG\",\n",
    "                  yaxis_title=\"Ratio of Judgements\",\n",
    "                  hovermode=\"closest\")\n",
    "\n",
    "# Show the plot\n",
    "fig.show()"
   ]
  },
  {
   "cell_type": "code",
   "execution_count": null,
   "id": "0e00e0c2-2833-4a4f-a1ea-c61c1ab344b7",
   "metadata": {},
   "outputs": [],
   "source": []
  }
 ],
 "metadata": {
  "kernelspec": {
   "display_name": "Python 3 (ipykernel)",
   "language": "python",
   "name": "python3"
  },
  "language_info": {
   "codemirror_mode": {
    "name": "ipython",
    "version": 3
   },
   "file_extension": ".py",
   "mimetype": "text/x-python",
   "name": "python",
   "nbconvert_exporter": "python",
   "pygments_lexer": "ipython3",
   "version": "3.12.6"
  }
 },
 "nbformat": 4,
 "nbformat_minor": 5
}
