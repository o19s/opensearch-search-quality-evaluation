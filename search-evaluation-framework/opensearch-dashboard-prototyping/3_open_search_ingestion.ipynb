{
 "cells": [
  {
   "cell_type": "code",
   "execution_count": 20,
   "id": "225a5ab7",
   "metadata": {},
   "outputs": [
    {
     "name": "stdout",
     "output_type": "stream",
     "text": [
      "{\"error\":{\"root_cause\":[{\"type\":\"index_not_found_exception\",\"reason\":\"no such index [sqe_metrics]\",\"index\":\"sqe_metrics\",\"resource.id\":\"sqe_metrics\",\"resource.type\":\"index_or_alias\",\"index_uuid\":\"_na_\"}],\"type\":\"index_not_found_exception\",\"reason\":\"no such index [sqe_metrics]\",\"index\":\"sqe_metrics\",\"resource.id\":\"sqe_metrics\",\"resource.type\":\"index_or_alias\",\"index_uuid\":\"_na_\"},\"status\":404}"
     ]
    }
   ],
   "source": [
    "!curl -s -X DELETE http://localhost:9200/sqe_metrics/"
   ]
  },
  {
   "cell_type": "code",
   "execution_count": 174,
   "id": "48c82e00",
   "metadata": {},
   "outputs": [
    {
     "name": "stdout",
     "output_type": "stream",
     "text": [
      "{\"acknowledged\":true,\"persistent\":{},\"transient\":{\"cluster\":{\"routing\":{\"allocation\":{\"disk\":{\"threshold_enabled\":\"false\"}}}}}}"
     ]
    }
   ],
   "source": [
    "# Hack needed due to not high enough disk space locally\n",
    "# See reference at bottom of Notebook\n",
    "\n",
    "# !curl -XPUT -H \"Content-Type: application/json\" http://localhost:9200/_cluster/settings -d '{ \"transient\": { \"cluster.routing.allocation.disk.threshold_enabled\": false } }'"
   ]
  },
  {
   "cell_type": "code",
   "execution_count": 21,
   "id": "53c43ae6",
   "metadata": {},
   "outputs": [],
   "source": [
    "import time\n",
    "import json\n",
    "import random\n",
    "import uuid\n",
    "import pandas as pd\n",
    "\n",
    "from opensearchpy import OpenSearch\n",
    "\n",
    "client = OpenSearch(\"http://localhost:9200\", use_ssl=False)"
   ]
  },
  {
   "cell_type": "code",
   "execution_count": 22,
   "id": "028bd961",
   "metadata": {},
   "outputs": [],
   "source": [
    "df = pd.read_csv(\"metrics.csv\")"
   ]
  },
  {
   "cell_type": "code",
   "execution_count": 23,
   "id": "24265e76",
   "metadata": {},
   "outputs": [
    {
     "data": {
      "text/html": [
       "<div>\n",
       "<style scoped>\n",
       "    .dataframe tbody tr th:only-of-type {\n",
       "        vertical-align: middle;\n",
       "    }\n",
       "\n",
       "    .dataframe tbody tr th {\n",
       "        vertical-align: top;\n",
       "    }\n",
       "\n",
       "    .dataframe thead th {\n",
       "        text-align: right;\n",
       "    }\n",
       "</style>\n",
       "<table border=\"1\" class=\"dataframe\">\n",
       "  <thead>\n",
       "    <tr style=\"text-align: right;\">\n",
       "      <th></th>\n",
       "      <th>datetime</th>\n",
       "      <th>search_config</th>\n",
       "      <th>query_set_id</th>\n",
       "      <th>query</th>\n",
       "      <th>metric</th>\n",
       "      <th>value</th>\n",
       "    </tr>\n",
       "  </thead>\n",
       "  <tbody>\n",
       "    <tr>\n",
       "      <th>0</th>\n",
       "      <td>2024-07-01</td>\n",
       "      <td>research_1</td>\n",
       "      <td>sampled_queries</td>\n",
       "      <td>00g 目立たない</td>\n",
       "      <td>dcg</td>\n",
       "      <td>1.633380</td>\n",
       "    </tr>\n",
       "    <tr>\n",
       "      <th>1</th>\n",
       "      <td>2024-07-01</td>\n",
       "      <td>research_1</td>\n",
       "      <td>sampled_queries</td>\n",
       "      <td>1 &amp; 1/4 pvp water suction hose without couplin...</td>\n",
       "      <td>dcg</td>\n",
       "      <td>0.117057</td>\n",
       "    </tr>\n",
       "    <tr>\n",
       "      <th>2</th>\n",
       "      <td>2024-07-01</td>\n",
       "      <td>research_1</td>\n",
       "      <td>sampled_queries</td>\n",
       "      <td>10 and 8 yr old. make up without the nieal plush</td>\n",
       "      <td>dcg</td>\n",
       "      <td>1.630930</td>\n",
       "    </tr>\n",
       "    <tr>\n",
       "      <th>3</th>\n",
       "      <td>2024-07-01</td>\n",
       "      <td>research_1</td>\n",
       "      <td>sampled_queries</td>\n",
       "      <td>11' x 11' patio umbrella square without led li...</td>\n",
       "      <td>dcg</td>\n",
       "      <td>1.081171</td>\n",
       "    </tr>\n",
       "    <tr>\n",
       "      <th>4</th>\n",
       "      <td>2024-07-01</td>\n",
       "      <td>research_1</td>\n",
       "      <td>sampled_queries</td>\n",
       "      <td>23x10.5 tractor intertubes</td>\n",
       "      <td>dcg</td>\n",
       "      <td>1.000000</td>\n",
       "    </tr>\n",
       "  </tbody>\n",
       "</table>\n",
       "</div>"
      ],
      "text/plain": [
       "     datetime search_config     query_set_id  \\\n",
       "0  2024-07-01    research_1  sampled_queries   \n",
       "1  2024-07-01    research_1  sampled_queries   \n",
       "2  2024-07-01    research_1  sampled_queries   \n",
       "3  2024-07-01    research_1  sampled_queries   \n",
       "4  2024-07-01    research_1  sampled_queries   \n",
       "\n",
       "                                               query metric     value  \n",
       "0                                          00g 目立たない    dcg  1.633380  \n",
       "1  1 & 1/4 pvp water suction hose without couplin...    dcg  0.117057  \n",
       "2   10 and 8 yr old. make up without the nieal plush    dcg  1.630930  \n",
       "3  11' x 11' patio umbrella square without led li...    dcg  1.081171  \n",
       "4                         23x10.5 tractor intertubes    dcg  1.000000  "
      ]
     },
     "execution_count": 23,
     "metadata": {},
     "output_type": "execute_result"
    }
   ],
   "source": [
    "df.head()"
   ]
  },
  {
   "cell_type": "code",
   "execution_count": 24,
   "id": "cb3a7e72",
   "metadata": {},
   "outputs": [],
   "source": [
    "bulk = []\n",
    "\n",
    "for ix, metric in df.iterrows():\n",
    "    metric_dict = {\n",
    "        \"datetime\": metric[\"datetime\"],\n",
    "        \"search_config\": metric[\"search_config\"],\n",
    "        \"query_set_id\": metric[\"query_set_id\"],\n",
    "        \"query\": metric[\"query\"],\n",
    "        \"metric\": metric[\"metric\"],\n",
    "        \"value\": metric[\"value\"],\n",
    "    }\n",
    "    event_id = str(uuid.uuid4())\n",
    "    bulk.append(\n",
    "        {\"index\": {\"_index\": \"sqe_metrics\", \"_id\": event_id}}\n",
    "    )\n",
    "    bulk.append(metric_dict)\n",
    "\n",
    "response = client.bulk(bulk)"
   ]
  },
  {
   "cell_type": "code",
   "execution_count": 25,
   "id": "97657e3b",
   "metadata": {},
   "outputs": [
    {
     "data": {
      "text/plain": [
       "36960"
      ]
     },
     "execution_count": 25,
     "metadata": {},
     "output_type": "execute_result"
    }
   ],
   "source": [
    "df.query_set_id.size"
   ]
  },
  {
   "cell_type": "code",
   "execution_count": 26,
   "id": "f17b14de",
   "metadata": {},
   "outputs": [
    {
     "name": "stdout",
     "output_type": "stream",
     "text": [
      "\u001b[1;37m{\r\n",
      "  \u001b[0m\u001b[1;34m\"count\"\u001b[0m\u001b[1;37m: \u001b[0m\u001b[0;37m36248\u001b[0m\u001b[1;37m,\r\n",
      "  \u001b[0m\u001b[1;34m\"_shards\"\u001b[0m\u001b[1;37m: \u001b[0m\u001b[1;37m{\r\n",
      "    \u001b[0m\u001b[1;34m\"total\"\u001b[0m\u001b[1;37m: \u001b[0m\u001b[0;37m1\u001b[0m\u001b[1;37m,\r\n",
      "    \u001b[0m\u001b[1;34m\"successful\"\u001b[0m\u001b[1;37m: \u001b[0m\u001b[0;37m1\u001b[0m\u001b[1;37m,\r\n",
      "    \u001b[0m\u001b[1;34m\"skipped\"\u001b[0m\u001b[1;37m: \u001b[0m\u001b[0;37m0\u001b[0m\u001b[1;37m,\r\n",
      "    \u001b[0m\u001b[1;34m\"failed\"\u001b[0m\u001b[1;37m: \u001b[0m\u001b[0;37m0\u001b[0m\u001b[1;37m\r\n",
      "  \u001b[1;37m}\u001b[0m\u001b[1;37m\r\n",
      "\u001b[1;37m}\u001b[0m\r\n"
     ]
    }
   ],
   "source": [
    "!curl -s http://localhost:9200/sqe_metrics/_count | jq"
   ]
  },
  {
   "cell_type": "code",
   "execution_count": 27,
   "id": "c43f23c3",
   "metadata": {
    "scrolled": false
   },
   "outputs": [
    {
     "name": "stdout",
     "output_type": "stream",
     "text": [
      "\u001b[1;37m{\r\n",
      "  \u001b[0m\u001b[1;34m\"took\"\u001b[0m\u001b[1;37m: \u001b[0m\u001b[0;37m19\u001b[0m\u001b[1;37m,\r\n",
      "  \u001b[0m\u001b[1;34m\"timed_out\"\u001b[0m\u001b[1;37m: \u001b[0m\u001b[0;37mfalse\u001b[0m\u001b[1;37m,\r\n",
      "  \u001b[0m\u001b[1;34m\"_shards\"\u001b[0m\u001b[1;37m: \u001b[0m\u001b[1;37m{\r\n",
      "    \u001b[0m\u001b[1;34m\"total\"\u001b[0m\u001b[1;37m: \u001b[0m\u001b[0;37m1\u001b[0m\u001b[1;37m,\r\n",
      "    \u001b[0m\u001b[1;34m\"successful\"\u001b[0m\u001b[1;37m: \u001b[0m\u001b[0;37m1\u001b[0m\u001b[1;37m,\r\n",
      "    \u001b[0m\u001b[1;34m\"skipped\"\u001b[0m\u001b[1;37m: \u001b[0m\u001b[0;37m0\u001b[0m\u001b[1;37m,\r\n",
      "    \u001b[0m\u001b[1;34m\"failed\"\u001b[0m\u001b[1;37m: \u001b[0m\u001b[0;37m0\u001b[0m\u001b[1;37m\r\n",
      "  \u001b[1;37m}\u001b[0m\u001b[1;37m,\r\n",
      "  \u001b[0m\u001b[1;34m\"hits\"\u001b[0m\u001b[1;37m: \u001b[0m\u001b[1;37m{\r\n",
      "    \u001b[0m\u001b[1;34m\"total\"\u001b[0m\u001b[1;37m: \u001b[0m\u001b[1;37m{\r\n",
      "      \u001b[0m\u001b[1;34m\"value\"\u001b[0m\u001b[1;37m: \u001b[0m\u001b[0;37m672\u001b[0m\u001b[1;37m,\r\n",
      "      \u001b[0m\u001b[1;34m\"relation\"\u001b[0m\u001b[1;37m: \u001b[0m\u001b[0;32m\"eq\"\u001b[0m\u001b[1;37m\r\n",
      "    \u001b[1;37m}\u001b[0m\u001b[1;37m,\r\n",
      "    \u001b[0m\u001b[1;34m\"max_score\"\u001b[0m\u001b[1;37m: \u001b[0m\u001b[0;37m18.596354\u001b[0m\u001b[1;37m,\r\n",
      "    \u001b[0m\u001b[1;34m\"hits\"\u001b[0m\u001b[1;37m: \u001b[0m\u001b[1;37m[\r\n",
      "      \u001b[1;37m{\r\n",
      "        \u001b[0m\u001b[1;34m\"_index\"\u001b[0m\u001b[1;37m: \u001b[0m\u001b[0;32m\"sqe_metrics\"\u001b[0m\u001b[1;37m,\r\n",
      "        \u001b[0m\u001b[1;34m\"_id\"\u001b[0m\u001b[1;37m: \u001b[0m\u001b[0;32m\"772b1227-6f2c-4362-b27b-7b2a1ac50547\"\u001b[0m\u001b[1;37m,\r\n",
      "        \u001b[0m\u001b[1;34m\"_score\"\u001b[0m\u001b[1;37m: \u001b[0m\u001b[0;37m18.596354\u001b[0m\u001b[1;37m,\r\n",
      "        \u001b[0m\u001b[1;34m\"_source\"\u001b[0m\u001b[1;37m: \u001b[0m\u001b[1;37m{\r\n",
      "          \u001b[0m\u001b[1;34m\"datetime\"\u001b[0m\u001b[1;37m: \u001b[0m\u001b[0;32m\"2024-07-01\"\u001b[0m\u001b[1;37m,\r\n",
      "          \u001b[0m\u001b[1;34m\"search_config\"\u001b[0m\u001b[1;37m: \u001b[0m\u001b[0;32m\"research_1\"\u001b[0m\u001b[1;37m,\r\n",
      "          \u001b[0m\u001b[1;34m\"query_set_id\"\u001b[0m\u001b[1;37m: \u001b[0m\u001b[0;32m\"sampled_queries\"\u001b[0m\u001b[1;37m,\r\n",
      "          \u001b[0m\u001b[1;34m\"query\"\u001b[0m\u001b[1;37m: \u001b[0m\u001b[0;32m\"4t camo sweat shirt\"\u001b[0m\u001b[1;37m,\r\n",
      "          \u001b[0m\u001b[1;34m\"metric\"\u001b[0m\u001b[1;37m: \u001b[0m\u001b[0;32m\"dcg\"\u001b[0m\u001b[1;37m,\r\n",
      "          \u001b[0m\u001b[1;34m\"value\"\u001b[0m\u001b[1;37m: \u001b[0m\u001b[0;37m0.0717734625362931\u001b[0m\u001b[1;37m\r\n",
      "        \u001b[1;37m}\u001b[0m\u001b[1;37m\r\n",
      "      \u001b[1;37m}\u001b[0m\u001b[1;37m,\r\n",
      "      \u001b[1;37m{\r\n",
      "        \u001b[0m\u001b[1;34m\"_index\"\u001b[0m\u001b[1;37m: \u001b[0m\u001b[0;32m\"sqe_metrics\"\u001b[0m\u001b[1;37m,\r\n",
      "        \u001b[0m\u001b[1;34m\"_id\"\u001b[0m\u001b[1;37m: \u001b[0m\u001b[0;32m\"675e18e0-3b7c-470f-b43f-85e4ec93472f\"\u001b[0m\u001b[1;37m,\r\n",
      "        \u001b[0m\u001b[1;34m\"_score\"\u001b[0m\u001b[1;37m: \u001b[0m\u001b[0;37m18.596354\u001b[0m\u001b[1;37m,\r\n",
      "        \u001b[0m\u001b[1;34m\"_source\"\u001b[0m\u001b[1;37m: \u001b[0m\u001b[1;37m{\r\n",
      "          \u001b[0m\u001b[1;34m\"datetime\"\u001b[0m\u001b[1;37m: \u001b[0m\u001b[0;32m\"2024-06-30\"\u001b[0m\u001b[1;37m,\r\n",
      "          \u001b[0m\u001b[1;34m\"search_config\"\u001b[0m\u001b[1;37m: \u001b[0m\u001b[0;32m\"research_1\"\u001b[0m\u001b[1;37m,\r\n",
      "          \u001b[0m\u001b[1;34m\"query_set_id\"\u001b[0m\u001b[1;37m: \u001b[0m\u001b[0;32m\"sampled_queries\"\u001b[0m\u001b[1;37m,\r\n",
      "          \u001b[0m\u001b[1;34m\"query\"\u001b[0m\u001b[1;37m: \u001b[0m\u001b[0;32m\"4t camo sweat shirt\"\u001b[0m\u001b[1;37m,\r\n",
      "          \u001b[0m\u001b[1;34m\"metric\"\u001b[0m\u001b[1;37m: \u001b[0m\u001b[0;32m\"dcg\"\u001b[0m\u001b[1;37m,\r\n",
      "          \u001b[0m\u001b[1;34m\"value\"\u001b[0m\u001b[1;37m: \u001b[0m\u001b[0;37m0.0717734625362931\u001b[0m\u001b[1;37m\r\n",
      "        \u001b[1;37m}\u001b[0m\u001b[1;37m\r\n",
      "      \u001b[1;37m}\u001b[0m\u001b[1;37m,\r\n",
      "      \u001b[1;37m{\r\n",
      "        \u001b[0m\u001b[1;34m\"_index\"\u001b[0m\u001b[1;37m: \u001b[0m\u001b[0;32m\"sqe_metrics\"\u001b[0m\u001b[1;37m,\r\n",
      "        \u001b[0m\u001b[1;34m\"_id\"\u001b[0m\u001b[1;37m: \u001b[0m\u001b[0;32m\"a747f3b6-1e80-4c10-82e8-6c29f7268fdd\"\u001b[0m\u001b[1;37m,\r\n",
      "        \u001b[0m\u001b[1;34m\"_score\"\u001b[0m\u001b[1;37m: \u001b[0m\u001b[0;37m18.596354\u001b[0m\u001b[1;37m,\r\n",
      "        \u001b[0m\u001b[1;34m\"_source\"\u001b[0m\u001b[1;37m: \u001b[0m\u001b[1;37m{\r\n",
      "          \u001b[0m\u001b[1;34m\"datetime\"\u001b[0m\u001b[1;37m: \u001b[0m\u001b[0;32m\"2024-06-29\"\u001b[0m\u001b[1;37m,\r\n",
      "          \u001b[0m\u001b[1;34m\"search_config\"\u001b[0m\u001b[1;37m: \u001b[0m\u001b[0;32m\"research_1\"\u001b[0m\u001b[1;37m,\r\n",
      "          \u001b[0m\u001b[1;34m\"query_set_id\"\u001b[0m\u001b[1;37m: \u001b[0m\u001b[0;32m\"sampled_queries\"\u001b[0m\u001b[1;37m,\r\n",
      "          \u001b[0m\u001b[1;34m\"query\"\u001b[0m\u001b[1;37m: \u001b[0m\u001b[0;32m\"4t camo sweat shirt\"\u001b[0m\u001b[1;37m,\r\n",
      "          \u001b[0m\u001b[1;34m\"metric\"\u001b[0m\u001b[1;37m: \u001b[0m\u001b[0;32m\"dcg\"\u001b[0m\u001b[1;37m,\r\n",
      "          \u001b[0m\u001b[1;34m\"value\"\u001b[0m\u001b[1;37m: \u001b[0m\u001b[0;37m0.0717734625362931\u001b[0m\u001b[1;37m\r\n",
      "        \u001b[1;37m}\u001b[0m\u001b[1;37m\r\n",
      "      \u001b[1;37m}\u001b[0m\u001b[1;37m,\r\n",
      "      \u001b[1;37m{\r\n",
      "        \u001b[0m\u001b[1;34m\"_index\"\u001b[0m\u001b[1;37m: \u001b[0m\u001b[0;32m\"sqe_metrics\"\u001b[0m\u001b[1;37m,\r\n",
      "        \u001b[0m\u001b[1;34m\"_id\"\u001b[0m\u001b[1;37m: \u001b[0m\u001b[0;32m\"64a77f8b-7558-4f0c-828f-228536324f1d\"\u001b[0m\u001b[1;37m,\r\n",
      "        \u001b[0m\u001b[1;34m\"_score\"\u001b[0m\u001b[1;37m: \u001b[0m\u001b[0;37m18.596354\u001b[0m\u001b[1;37m,\r\n",
      "        \u001b[0m\u001b[1;34m\"_source\"\u001b[0m\u001b[1;37m: \u001b[0m\u001b[1;37m{\r\n",
      "          \u001b[0m\u001b[1;34m\"datetime\"\u001b[0m\u001b[1;37m: \u001b[0m\u001b[0;32m\"2024-06-28\"\u001b[0m\u001b[1;37m,\r\n",
      "          \u001b[0m\u001b[1;34m\"search_config\"\u001b[0m\u001b[1;37m: \u001b[0m\u001b[0;32m\"research_1\"\u001b[0m\u001b[1;37m,\r\n",
      "          \u001b[0m\u001b[1;34m\"query_set_id\"\u001b[0m\u001b[1;37m: \u001b[0m\u001b[0;32m\"sampled_queries\"\u001b[0m\u001b[1;37m,\r\n",
      "          \u001b[0m\u001b[1;34m\"query\"\u001b[0m\u001b[1;37m: \u001b[0m\u001b[0;32m\"4t camo sweat shirt\"\u001b[0m\u001b[1;37m,\r\n",
      "          \u001b[0m\u001b[1;34m\"metric\"\u001b[0m\u001b[1;37m: \u001b[0m\u001b[0;32m\"dcg\"\u001b[0m\u001b[1;37m,\r\n",
      "          \u001b[0m\u001b[1;34m\"value\"\u001b[0m\u001b[1;37m: \u001b[0m\u001b[0;37m0.0717734625362931\u001b[0m\u001b[1;37m\r\n",
      "        \u001b[1;37m}\u001b[0m\u001b[1;37m\r\n",
      "      \u001b[1;37m}\u001b[0m\u001b[1;37m,\r\n",
      "      \u001b[1;37m{\r\n",
      "        \u001b[0m\u001b[1;34m\"_index\"\u001b[0m\u001b[1;37m: \u001b[0m\u001b[0;32m\"sqe_metrics\"\u001b[0m\u001b[1;37m,\r\n",
      "        \u001b[0m\u001b[1;34m\"_id\"\u001b[0m\u001b[1;37m: \u001b[0m\u001b[0;32m\"8dfb8bbb-0dee-4f61-a5c5-f8b58e87408c\"\u001b[0m\u001b[1;37m,\r\n",
      "        \u001b[0m\u001b[1;34m\"_score\"\u001b[0m\u001b[1;37m: \u001b[0m\u001b[0;37m18.596354\u001b[0m\u001b[1;37m,\r\n",
      "        \u001b[0m\u001b[1;34m\"_source\"\u001b[0m\u001b[1;37m: \u001b[0m\u001b[1;37m{\r\n",
      "          \u001b[0m\u001b[1;34m\"datetime\"\u001b[0m\u001b[1;37m: \u001b[0m\u001b[0;32m\"2024-06-27\"\u001b[0m\u001b[1;37m,\r\n",
      "          \u001b[0m\u001b[1;34m\"search_config\"\u001b[0m\u001b[1;37m: \u001b[0m\u001b[0;32m\"research_1\"\u001b[0m\u001b[1;37m,\r\n",
      "          \u001b[0m\u001b[1;34m\"query_set_id\"\u001b[0m\u001b[1;37m: \u001b[0m\u001b[0;32m\"sampled_queries\"\u001b[0m\u001b[1;37m,\r\n",
      "          \u001b[0m\u001b[1;34m\"query\"\u001b[0m\u001b[1;37m: \u001b[0m\u001b[0;32m\"4t camo sweat shirt\"\u001b[0m\u001b[1;37m,\r\n",
      "          \u001b[0m\u001b[1;34m\"metric\"\u001b[0m\u001b[1;37m: \u001b[0m\u001b[0;32m\"dcg\"\u001b[0m\u001b[1;37m,\r\n",
      "          \u001b[0m\u001b[1;34m\"value\"\u001b[0m\u001b[1;37m: \u001b[0m\u001b[0;37m0.0717734625362931\u001b[0m\u001b[1;37m\r\n",
      "        \u001b[1;37m}\u001b[0m\u001b[1;37m\r\n",
      "      \u001b[1;37m}\u001b[0m\u001b[1;37m,\r\n",
      "      \u001b[1;37m{\r\n",
      "        \u001b[0m\u001b[1;34m\"_index\"\u001b[0m\u001b[1;37m: \u001b[0m\u001b[0;32m\"sqe_metrics\"\u001b[0m\u001b[1;37m,\r\n",
      "        \u001b[0m\u001b[1;34m\"_id\"\u001b[0m\u001b[1;37m: \u001b[0m\u001b[0;32m\"f41f465f-13fb-4151-8932-6d5ce07d1792\"\u001b[0m\u001b[1;37m,\r\n",
      "        \u001b[0m\u001b[1;34m\"_score\"\u001b[0m\u001b[1;37m: \u001b[0m\u001b[0;37m18.596354\u001b[0m\u001b[1;37m,\r\n",
      "        \u001b[0m\u001b[1;34m\"_source\"\u001b[0m\u001b[1;37m: \u001b[0m\u001b[1;37m{\r\n",
      "          \u001b[0m\u001b[1;34m\"datetime\"\u001b[0m\u001b[1;37m: \u001b[0m\u001b[0;32m\"2024-06-26\"\u001b[0m\u001b[1;37m,\r\n",
      "          \u001b[0m\u001b[1;34m\"search_config\"\u001b[0m\u001b[1;37m: \u001b[0m\u001b[0;32m\"research_1\"\u001b[0m\u001b[1;37m,\r\n",
      "          \u001b[0m\u001b[1;34m\"query_set_id\"\u001b[0m\u001b[1;37m: \u001b[0m\u001b[0;32m\"sampled_queries\"\u001b[0m\u001b[1;37m,\r\n",
      "          \u001b[0m\u001b[1;34m\"query\"\u001b[0m\u001b[1;37m: \u001b[0m\u001b[0;32m\"4t camo sweat shirt\"\u001b[0m\u001b[1;37m,\r\n",
      "          \u001b[0m\u001b[1;34m\"metric\"\u001b[0m\u001b[1;37m: \u001b[0m\u001b[0;32m\"dcg\"\u001b[0m\u001b[1;37m,\r\n",
      "          \u001b[0m\u001b[1;34m\"value\"\u001b[0m\u001b[1;37m: \u001b[0m\u001b[0;37m0.6479686233734272\u001b[0m\u001b[1;37m\r\n",
      "        \u001b[1;37m}\u001b[0m\u001b[1;37m\r\n",
      "      \u001b[1;37m}\u001b[0m\u001b[1;37m,\r\n",
      "      \u001b[1;37m{\r\n",
      "        \u001b[0m\u001b[1;34m\"_index\"\u001b[0m\u001b[1;37m: \u001b[0m\u001b[0;32m\"sqe_metrics\"\u001b[0m\u001b[1;37m,\r\n",
      "        \u001b[0m\u001b[1;34m\"_id\"\u001b[0m\u001b[1;37m: \u001b[0m\u001b[0;32m\"d20ba848-f901-4a93-afb8-d51532c1d7d4\"\u001b[0m\u001b[1;37m,\r\n",
      "        \u001b[0m\u001b[1;34m\"_score\"\u001b[0m\u001b[1;37m: \u001b[0m\u001b[0;37m18.596354\u001b[0m\u001b[1;37m,\r\n",
      "        \u001b[0m\u001b[1;34m\"_source\"\u001b[0m\u001b[1;37m: \u001b[0m\u001b[1;37m{\r\n",
      "          \u001b[0m\u001b[1;34m\"datetime\"\u001b[0m\u001b[1;37m: \u001b[0m\u001b[0;32m\"2024-06-25\"\u001b[0m\u001b[1;37m,\r\n",
      "          \u001b[0m\u001b[1;34m\"search_config\"\u001b[0m\u001b[1;37m: \u001b[0m\u001b[0;32m\"research_1\"\u001b[0m\u001b[1;37m,\r\n",
      "          \u001b[0m\u001b[1;34m\"query_set_id\"\u001b[0m\u001b[1;37m: \u001b[0m\u001b[0;32m\"sampled_queries\"\u001b[0m\u001b[1;37m,\r\n",
      "          \u001b[0m\u001b[1;34m\"query\"\u001b[0m\u001b[1;37m: \u001b[0m\u001b[0;32m\"4t camo sweat shirt\"\u001b[0m\u001b[1;37m,\r\n",
      "          \u001b[0m\u001b[1;34m\"metric\"\u001b[0m\u001b[1;37m: \u001b[0m\u001b[0;32m\"dcg\"\u001b[0m\u001b[1;37m,\r\n",
      "          \u001b[0m\u001b[1;34m\"value\"\u001b[0m\u001b[1;37m: \u001b[0m\u001b[0;37m0.0717734625362931\u001b[0m\u001b[1;37m\r\n",
      "        \u001b[1;37m}\u001b[0m\u001b[1;37m\r\n",
      "      \u001b[1;37m}\u001b[0m\u001b[1;37m,\r\n",
      "      \u001b[1;37m{\r\n",
      "        \u001b[0m\u001b[1;34m\"_index\"\u001b[0m\u001b[1;37m: \u001b[0m\u001b[0;32m\"sqe_metrics\"\u001b[0m\u001b[1;37m,\r\n",
      "        \u001b[0m\u001b[1;34m\"_id\"\u001b[0m\u001b[1;37m: \u001b[0m\u001b[0;32m\"1f229f45-adbc-43db-81e9-b49319efcb3f\"\u001b[0m\u001b[1;37m,\r\n",
      "        \u001b[0m\u001b[1;34m\"_score\"\u001b[0m\u001b[1;37m: \u001b[0m\u001b[0;37m18.596354\u001b[0m\u001b[1;37m,\r\n",
      "        \u001b[0m\u001b[1;34m\"_source\"\u001b[0m\u001b[1;37m: \u001b[0m\u001b[1;37m{\r\n",
      "          \u001b[0m\u001b[1;34m\"datetime\"\u001b[0m\u001b[1;37m: \u001b[0m\u001b[0;32m\"2024-07-01\"\u001b[0m\u001b[1;37m,\r\n",
      "          \u001b[0m\u001b[1;34m\"search_config\"\u001b[0m\u001b[1;37m: \u001b[0m\u001b[0;32m\"research_1\"\u001b[0m\u001b[1;37m,\r\n",
      "          \u001b[0m\u001b[1;34m\"query_set_id\"\u001b[0m\u001b[1;37m: \u001b[0m\u001b[0;32m\"sampled_queries\"\u001b[0m\u001b[1;37m,\r\n",
      "          \u001b[0m\u001b[1;34m\"query\"\u001b[0m\u001b[1;37m: \u001b[0m\u001b[0;32m\"4t camo sweat shirt\"\u001b[0m\u001b[1;37m,\r\n",
      "          \u001b[0m\u001b[1;34m\"metric\"\u001b[0m\u001b[1;37m: \u001b[0m\u001b[0;32m\"ndcg\"\u001b[0m\u001b[1;37m,\r\n",
      "          \u001b[0m\u001b[1;34m\"value\"\u001b[0m\u001b[1;37m: \u001b[0m\u001b[0;37m0.0254877387651201\u001b[0m\u001b[1;37m\r\n",
      "        \u001b[1;37m}\u001b[0m\u001b[1;37m\r\n",
      "      \u001b[1;37m}\u001b[0m\u001b[1;37m,\r\n",
      "      \u001b[1;37m{\r\n",
      "        \u001b[0m\u001b[1;34m\"_index\"\u001b[0m\u001b[1;37m: \u001b[0m\u001b[0;32m\"sqe_metrics\"\u001b[0m\u001b[1;37m,\r\n",
      "        \u001b[0m\u001b[1;34m\"_id\"\u001b[0m\u001b[1;37m: \u001b[0m\u001b[0;32m\"1eb2ca3d-8712-4c17-82d1-2bd3df7cae86\"\u001b[0m\u001b[1;37m,\r\n",
      "        \u001b[0m\u001b[1;34m\"_score\"\u001b[0m\u001b[1;37m: \u001b[0m\u001b[0;37m18.596354\u001b[0m\u001b[1;37m,\r\n",
      "        \u001b[0m\u001b[1;34m\"_source\"\u001b[0m\u001b[1;37m: \u001b[0m\u001b[1;37m{\r\n",
      "          \u001b[0m\u001b[1;34m\"datetime\"\u001b[0m\u001b[1;37m: \u001b[0m\u001b[0;32m\"2024-06-30\"\u001b[0m\u001b[1;37m,\r\n",
      "          \u001b[0m\u001b[1;34m\"search_config\"\u001b[0m\u001b[1;37m: \u001b[0m\u001b[0;32m\"research_1\"\u001b[0m\u001b[1;37m,\r\n",
      "          \u001b[0m\u001b[1;34m\"query_set_id\"\u001b[0m\u001b[1;37m: \u001b[0m\u001b[0;32m\"sampled_queries\"\u001b[0m\u001b[1;37m,\r\n",
      "          \u001b[0m\u001b[1;34m\"query\"\u001b[0m\u001b[1;37m: \u001b[0m\u001b[0;32m\"4t camo sweat shirt\"\u001b[0m\u001b[1;37m,\r\n",
      "          \u001b[0m\u001b[1;34m\"metric\"\u001b[0m\u001b[1;37m: \u001b[0m\u001b[0;32m\"ndcg\"\u001b[0m\u001b[1;37m,\r\n",
      "          \u001b[0m\u001b[1;34m\"value\"\u001b[0m\u001b[1;37m: \u001b[0m\u001b[0;37m0.0254877387651201\u001b[0m\u001b[1;37m\r\n",
      "        \u001b[1;37m}\u001b[0m\u001b[1;37m\r\n",
      "      \u001b[1;37m}\u001b[0m\u001b[1;37m,\r\n",
      "      \u001b[1;37m{\r\n",
      "        \u001b[0m\u001b[1;34m\"_index\"\u001b[0m\u001b[1;37m: \u001b[0m\u001b[0;32m\"sqe_metrics\"\u001b[0m\u001b[1;37m,\r\n",
      "        \u001b[0m\u001b[1;34m\"_id\"\u001b[0m\u001b[1;37m: \u001b[0m\u001b[0;32m\"3dfd8de1-c426-442e-b9e0-0dc86f81e88c\"\u001b[0m\u001b[1;37m,\r\n",
      "        \u001b[0m\u001b[1;34m\"_score\"\u001b[0m\u001b[1;37m: \u001b[0m\u001b[0;37m18.596354\u001b[0m\u001b[1;37m,\r\n",
      "        \u001b[0m\u001b[1;34m\"_source\"\u001b[0m\u001b[1;37m: \u001b[0m\u001b[1;37m{\r\n",
      "          \u001b[0m\u001b[1;34m\"datetime\"\u001b[0m\u001b[1;37m: \u001b[0m\u001b[0;32m\"2024-06-29\"\u001b[0m\u001b[1;37m,\r\n",
      "          \u001b[0m\u001b[1;34m\"search_config\"\u001b[0m\u001b[1;37m: \u001b[0m\u001b[0;32m\"research_1\"\u001b[0m\u001b[1;37m,\r\n",
      "          \u001b[0m\u001b[1;34m\"query_set_id\"\u001b[0m\u001b[1;37m: \u001b[0m\u001b[0;32m\"sampled_queries\"\u001b[0m\u001b[1;37m,\r\n",
      "          \u001b[0m\u001b[1;34m\"query\"\u001b[0m\u001b[1;37m: \u001b[0m\u001b[0;32m\"4t camo sweat shirt\"\u001b[0m\u001b[1;37m,\r\n",
      "          \u001b[0m\u001b[1;34m\"metric\"\u001b[0m\u001b[1;37m: \u001b[0m\u001b[0;32m\"ndcg\"\u001b[0m\u001b[1;37m,\r\n",
      "          \u001b[0m\u001b[1;34m\"value\"\u001b[0m\u001b[1;37m: \u001b[0m\u001b[0;37m0.0254877387651201\u001b[0m\u001b[1;37m\r\n",
      "        \u001b[1;37m}\u001b[0m\u001b[1;37m\r\n",
      "      \u001b[1;37m}\u001b[0m\u001b[1;37m\r\n",
      "    \u001b[1;37m]\u001b[0m\u001b[1;37m\r\n",
      "  \u001b[1;37m}\u001b[0m\u001b[1;37m\r\n",
      "\u001b[1;37m}\u001b[0m\r\n"
     ]
    }
   ],
   "source": [
    "!curl -s -XGET http://localhost:9200/sqe_metrics/_search -H 'Content-Type: application/json' -d' \\\n",
    "{ \\\n",
    "  \"query\": { \\\n",
    "    \"match\": { \\\n",
    "      \"query\": \"4t camo sweat shirt\" \\\n",
    "    } \\\n",
    "  } \\\n",
    "}' | jq\n"
   ]
  },
  {
   "cell_type": "code",
   "execution_count": 28,
   "id": "7ce0e9bc",
   "metadata": {},
   "outputs": [
    {
     "name": "stdout",
     "output_type": "stream",
     "text": [
      "{\"acknowledged\":true,\"persistent\":{},\"transient\":{\"cluster\":{\"routing\":{\"allocation\":{\"disk\":{\"threshold_enabled\":\"false\"}}}}}}{\"acknowledged\":true}"
     ]
    }
   ],
   "source": [
    "# Hacky, disk space checks need to be disabled on my system to allow Dashboards to work\n",
    "#\n",
    "# https://stackoverflow.com/a/57675654\n",
    "\n",
    "# !curl -XPUT -H \"Content-Type: application/json\" http://localhost:9200/_cluster/settings -d '{ \"transient\": { \"cluster.routing.allocation.disk.threshold_enabled\": false } }'\n",
    "# !curl -XPUT -H \"Content-Type: application/json\" http://localhost:9200/_all/_settings -d '{\"index.blocks.read_only_allow_delete\": null}'"
   ]
  },
  {
   "cell_type": "code",
   "execution_count": null,
   "id": "64d38fef",
   "metadata": {},
   "outputs": [],
   "source": []
  }
 ],
 "metadata": {
  "kernelspec": {
   "display_name": "Python 3 (ipykernel)",
   "language": "python",
   "name": "python3"
  },
  "language_info": {
   "codemirror_mode": {
    "name": "ipython",
    "version": 3
   },
   "file_extension": ".py",
   "mimetype": "text/x-python",
   "name": "python",
   "nbconvert_exporter": "python",
   "pygments_lexer": "ipython3",
   "version": "3.9.7"
  }
 },
 "nbformat": 4,
 "nbformat_minor": 5
}
