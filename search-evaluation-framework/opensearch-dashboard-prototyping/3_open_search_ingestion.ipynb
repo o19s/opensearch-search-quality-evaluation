{
 "cells": [
  {
   "cell_type": "code",
   "execution_count": 173,
   "id": "225a5ab7",
   "metadata": {},
   "outputs": [
    {
     "name": "stdout",
     "output_type": "stream",
     "text": [
      "{\"acknowledged\":true}"
     ]
    }
   ],
   "source": [
    "!curl -s -X DELETE http://localhost:9200/sqe_metrics/"
   ]
  },
  {
   "cell_type": "code",
   "execution_count": 174,
   "id": "48c82e00",
   "metadata": {},
   "outputs": [
    {
     "name": "stdout",
     "output_type": "stream",
     "text": [
      "{\"acknowledged\":true,\"persistent\":{},\"transient\":{\"cluster\":{\"routing\":{\"allocation\":{\"disk\":{\"threshold_enabled\":\"false\"}}}}}}"
     ]
    }
   ],
   "source": [
    "# Hack needed due to not high enough disk space locally\n",
    "# See reference at bottom of Notebook\n",
    "\n",
    "# !curl -XPUT -H \"Content-Type: application/json\" http://localhost:9200/_cluster/settings -d '{ \"transient\": { \"cluster.routing.allocation.disk.threshold_enabled\": false } }'"
   ]
  },
  {
   "cell_type": "code",
   "execution_count": 175,
   "id": "53c43ae6",
   "metadata": {},
   "outputs": [],
   "source": [
    "import time\n",
    "import json\n",
    "import random\n",
    "import uuid\n",
    "import pandas as pd\n",
    "\n",
    "from opensearchpy import OpenSearch\n",
    "\n",
    "client = OpenSearch(\"http://localhost:9200\", use_ssl=False)"
   ]
  },
  {
   "cell_type": "code",
   "execution_count": 176,
   "id": "028bd961",
   "metadata": {},
   "outputs": [],
   "source": [
    "df = pd.read_csv(\"metrics.csv\")"
   ]
  },
  {
   "cell_type": "code",
   "execution_count": 177,
   "id": "24265e76",
   "metadata": {},
   "outputs": [
    {
     "data": {
      "text/html": [
       "<div>\n",
       "<style scoped>\n",
       "    .dataframe tbody tr th:only-of-type {\n",
       "        vertical-align: middle;\n",
       "    }\n",
       "\n",
       "    .dataframe tbody tr th {\n",
       "        vertical-align: top;\n",
       "    }\n",
       "\n",
       "    .dataframe thead th {\n",
       "        text-align: right;\n",
       "    }\n",
       "</style>\n",
       "<table border=\"1\" class=\"dataframe\">\n",
       "  <thead>\n",
       "    <tr style=\"text-align: right;\">\n",
       "      <th></th>\n",
       "      <th>datetime</th>\n",
       "      <th>search_config</th>\n",
       "      <th>query_set_id</th>\n",
       "      <th>query</th>\n",
       "      <th>metric</th>\n",
       "      <th>value</th>\n",
       "    </tr>\n",
       "  </thead>\n",
       "  <tbody>\n",
       "    <tr>\n",
       "      <th>0</th>\n",
       "      <td>2024-07-01</td>\n",
       "      <td>research_1</td>\n",
       "      <td>sampled_queries</td>\n",
       "      <td>00g 目立たない</td>\n",
       "      <td>dcg</td>\n",
       "      <td>1.633380</td>\n",
       "    </tr>\n",
       "    <tr>\n",
       "      <th>1</th>\n",
       "      <td>2024-07-01</td>\n",
       "      <td>research_1</td>\n",
       "      <td>sampled_queries</td>\n",
       "      <td>1 &amp; 1/4 pvp water suction hose without couplin...</td>\n",
       "      <td>dcg</td>\n",
       "      <td>0.117057</td>\n",
       "    </tr>\n",
       "    <tr>\n",
       "      <th>2</th>\n",
       "      <td>2024-07-01</td>\n",
       "      <td>research_1</td>\n",
       "      <td>sampled_queries</td>\n",
       "      <td>10 and 8 yr old. make up without the nieal plush</td>\n",
       "      <td>dcg</td>\n",
       "      <td>1.630930</td>\n",
       "    </tr>\n",
       "    <tr>\n",
       "      <th>3</th>\n",
       "      <td>2024-07-01</td>\n",
       "      <td>research_1</td>\n",
       "      <td>sampled_queries</td>\n",
       "      <td>11' x 11' patio umbrella square without led li...</td>\n",
       "      <td>dcg</td>\n",
       "      <td>1.081171</td>\n",
       "    </tr>\n",
       "    <tr>\n",
       "      <th>4</th>\n",
       "      <td>2024-07-01</td>\n",
       "      <td>research_1</td>\n",
       "      <td>sampled_queries</td>\n",
       "      <td>23x10.5 tractor intertubes</td>\n",
       "      <td>dcg</td>\n",
       "      <td>1.000000</td>\n",
       "    </tr>\n",
       "  </tbody>\n",
       "</table>\n",
       "</div>"
      ],
      "text/plain": [
       "     datetime search_config     query_set_id  \\\n",
       "0  2024-07-01    research_1  sampled_queries   \n",
       "1  2024-07-01    research_1  sampled_queries   \n",
       "2  2024-07-01    research_1  sampled_queries   \n",
       "3  2024-07-01    research_1  sampled_queries   \n",
       "4  2024-07-01    research_1  sampled_queries   \n",
       "\n",
       "                                               query metric     value  \n",
       "0                                          00g 目立たない    dcg  1.633380  \n",
       "1  1 & 1/4 pvp water suction hose without couplin...    dcg  0.117057  \n",
       "2   10 and 8 yr old. make up without the nieal plush    dcg  1.630930  \n",
       "3  11' x 11' patio umbrella square without led li...    dcg  1.081171  \n",
       "4                         23x10.5 tractor intertubes    dcg  1.000000  "
      ]
     },
     "execution_count": 177,
     "metadata": {},
     "output_type": "execute_result"
    }
   ],
   "source": [
    "df.head()"
   ]
  },
  {
   "cell_type": "code",
   "execution_count": 178,
   "id": "cb3a7e72",
   "metadata": {},
   "outputs": [],
   "source": [
    "bulk = []\n",
    "\n",
    "for ix, metric in df.iterrows():\n",
    "    metric_dict = {\n",
    "        \"datetime\": metric[\"datetime\"],\n",
    "        \"search_config\": metric[\"search_config\"],\n",
    "        \"query_set_id\": metric[\"query_set_id\"],\n",
    "        \"query\": metric[\"query\"],\n",
    "        \"metric\": metric[\"metric\"],\n",
    "        \"value\": metric[\"value\"],\n",
    "    }\n",
    "    event_id = str(uuid.uuid4())\n",
    "    bulk.append(\n",
    "        {\"index\": {\"_index\": \"sqe_metrics\", \"_id\": event_id}}\n",
    "    )\n",
    "    bulk.append(metric_dict)\n",
    "\n",
    "response = client.bulk(bulk)"
   ]
  },
  {
   "cell_type": "code",
   "execution_count": 180,
   "id": "97657e3b",
   "metadata": {},
   "outputs": [
    {
     "data": {
      "text/plain": [
       "36960"
      ]
     },
     "execution_count": 180,
     "metadata": {},
     "output_type": "execute_result"
    }
   ],
   "source": [
    "df.query_set_id.size"
   ]
  },
  {
   "cell_type": "code",
   "execution_count": 181,
   "id": "f17b14de",
   "metadata": {},
   "outputs": [
    {
     "name": "stdout",
     "output_type": "stream",
     "text": [
      "\u001b[1;37m{\r\n",
      "  \u001b[0m\u001b[1;34m\"count\"\u001b[0m\u001b[1;37m: \u001b[0m\u001b[0;37m36960\u001b[0m\u001b[1;37m,\r\n",
      "  \u001b[0m\u001b[1;34m\"_shards\"\u001b[0m\u001b[1;37m: \u001b[0m\u001b[1;37m{\r\n",
      "    \u001b[0m\u001b[1;34m\"total\"\u001b[0m\u001b[1;37m: \u001b[0m\u001b[0;37m1\u001b[0m\u001b[1;37m,\r\n",
      "    \u001b[0m\u001b[1;34m\"successful\"\u001b[0m\u001b[1;37m: \u001b[0m\u001b[0;37m1\u001b[0m\u001b[1;37m,\r\n",
      "    \u001b[0m\u001b[1;34m\"skipped\"\u001b[0m\u001b[1;37m: \u001b[0m\u001b[0;37m0\u001b[0m\u001b[1;37m,\r\n",
      "    \u001b[0m\u001b[1;34m\"failed\"\u001b[0m\u001b[1;37m: \u001b[0m\u001b[0;37m0\u001b[0m\u001b[1;37m\r\n",
      "  \u001b[1;37m}\u001b[0m\u001b[1;37m\r\n",
      "\u001b[1;37m}\u001b[0m\r\n"
     ]
    }
   ],
   "source": [
    "!curl -s http://localhost:9200/sqe_metrics/_count | jq"
   ]
  },
  {
   "cell_type": "code",
   "execution_count": 182,
   "id": "c43f23c3",
   "metadata": {
    "scrolled": false
   },
   "outputs": [
    {
     "name": "stdout",
     "output_type": "stream",
     "text": [
      "\u001b[1;37m{\r\n",
      "  \u001b[0m\u001b[1;34m\"took\"\u001b[0m\u001b[1;37m: \u001b[0m\u001b[0;37m33\u001b[0m\u001b[1;37m,\r\n",
      "  \u001b[0m\u001b[1;34m\"timed_out\"\u001b[0m\u001b[1;37m: \u001b[0m\u001b[0;37mfalse\u001b[0m\u001b[1;37m,\r\n",
      "  \u001b[0m\u001b[1;34m\"_shards\"\u001b[0m\u001b[1;37m: \u001b[0m\u001b[1;37m{\r\n",
      "    \u001b[0m\u001b[1;34m\"total\"\u001b[0m\u001b[1;37m: \u001b[0m\u001b[0;37m1\u001b[0m\u001b[1;37m,\r\n",
      "    \u001b[0m\u001b[1;34m\"successful\"\u001b[0m\u001b[1;37m: \u001b[0m\u001b[0;37m1\u001b[0m\u001b[1;37m,\r\n",
      "    \u001b[0m\u001b[1;34m\"skipped\"\u001b[0m\u001b[1;37m: \u001b[0m\u001b[0;37m0\u001b[0m\u001b[1;37m,\r\n",
      "    \u001b[0m\u001b[1;34m\"failed\"\u001b[0m\u001b[1;37m: \u001b[0m\u001b[0;37m0\u001b[0m\u001b[1;37m\r\n",
      "  \u001b[1;37m}\u001b[0m\u001b[1;37m,\r\n",
      "  \u001b[0m\u001b[1;34m\"hits\"\u001b[0m\u001b[1;37m: \u001b[0m\u001b[1;37m{\r\n",
      "    \u001b[0m\u001b[1;34m\"total\"\u001b[0m\u001b[1;37m: \u001b[0m\u001b[1;37m{\r\n",
      "      \u001b[0m\u001b[1;34m\"value\"\u001b[0m\u001b[1;37m: \u001b[0m\u001b[0;37m672\u001b[0m\u001b[1;37m,\r\n",
      "      \u001b[0m\u001b[1;34m\"relation\"\u001b[0m\u001b[1;37m: \u001b[0m\u001b[0;32m\"eq\"\u001b[0m\u001b[1;37m\r\n",
      "    \u001b[1;37m}\u001b[0m\u001b[1;37m,\r\n",
      "    \u001b[0m\u001b[1;34m\"max_score\"\u001b[0m\u001b[1;37m: \u001b[0m\u001b[0;37m18.596354\u001b[0m\u001b[1;37m,\r\n",
      "    \u001b[0m\u001b[1;34m\"hits\"\u001b[0m\u001b[1;37m: \u001b[0m\u001b[1;37m[\r\n",
      "      \u001b[1;37m{\r\n",
      "        \u001b[0m\u001b[1;34m\"_index\"\u001b[0m\u001b[1;37m: \u001b[0m\u001b[0;32m\"sqe_metrics\"\u001b[0m\u001b[1;37m,\r\n",
      "        \u001b[0m\u001b[1;34m\"_id\"\u001b[0m\u001b[1;37m: \u001b[0m\u001b[0;32m\"db864514-9531-435c-b4fc-76c515ebc8c9\"\u001b[0m\u001b[1;37m,\r\n",
      "        \u001b[0m\u001b[1;34m\"_score\"\u001b[0m\u001b[1;37m: \u001b[0m\u001b[0;37m18.596354\u001b[0m\u001b[1;37m,\r\n",
      "        \u001b[0m\u001b[1;34m\"_source\"\u001b[0m\u001b[1;37m: \u001b[0m\u001b[1;37m{\r\n",
      "          \u001b[0m\u001b[1;34m\"datetime\"\u001b[0m\u001b[1;37m: \u001b[0m\u001b[0;32m\"2024-07-01\"\u001b[0m\u001b[1;37m,\r\n",
      "          \u001b[0m\u001b[1;34m\"search_config\"\u001b[0m\u001b[1;37m: \u001b[0m\u001b[0;32m\"research_1\"\u001b[0m\u001b[1;37m,\r\n",
      "          \u001b[0m\u001b[1;34m\"query_set_id\"\u001b[0m\u001b[1;37m: \u001b[0m\u001b[0;32m\"sampled_queries\"\u001b[0m\u001b[1;37m,\r\n",
      "          \u001b[0m\u001b[1;34m\"query\"\u001b[0m\u001b[1;37m: \u001b[0m\u001b[0;32m\"4t camo sweat shirt\"\u001b[0m\u001b[1;37m,\r\n",
      "          \u001b[0m\u001b[1;34m\"metric\"\u001b[0m\u001b[1;37m: \u001b[0m\u001b[0;32m\"dcg\"\u001b[0m\u001b[1;37m,\r\n",
      "          \u001b[0m\u001b[1;34m\"value\"\u001b[0m\u001b[1;37m: \u001b[0m\u001b[0;37m0.0717734625362931\u001b[0m\u001b[1;37m\r\n",
      "        \u001b[1;37m}\u001b[0m\u001b[1;37m\r\n",
      "      \u001b[1;37m}\u001b[0m\u001b[1;37m,\r\n",
      "      \u001b[1;37m{\r\n",
      "        \u001b[0m\u001b[1;34m\"_index\"\u001b[0m\u001b[1;37m: \u001b[0m\u001b[0;32m\"sqe_metrics\"\u001b[0m\u001b[1;37m,\r\n",
      "        \u001b[0m\u001b[1;34m\"_id\"\u001b[0m\u001b[1;37m: \u001b[0m\u001b[0;32m\"b9fc953b-11c6-40c9-b34b-3a53ae2670e8\"\u001b[0m\u001b[1;37m,\r\n",
      "        \u001b[0m\u001b[1;34m\"_score\"\u001b[0m\u001b[1;37m: \u001b[0m\u001b[0;37m18.596354\u001b[0m\u001b[1;37m,\r\n",
      "        \u001b[0m\u001b[1;34m\"_source\"\u001b[0m\u001b[1;37m: \u001b[0m\u001b[1;37m{\r\n",
      "          \u001b[0m\u001b[1;34m\"datetime\"\u001b[0m\u001b[1;37m: \u001b[0m\u001b[0;32m\"2024-06-30\"\u001b[0m\u001b[1;37m,\r\n",
      "          \u001b[0m\u001b[1;34m\"search_config\"\u001b[0m\u001b[1;37m: \u001b[0m\u001b[0;32m\"research_1\"\u001b[0m\u001b[1;37m,\r\n",
      "          \u001b[0m\u001b[1;34m\"query_set_id\"\u001b[0m\u001b[1;37m: \u001b[0m\u001b[0;32m\"sampled_queries\"\u001b[0m\u001b[1;37m,\r\n",
      "          \u001b[0m\u001b[1;34m\"query\"\u001b[0m\u001b[1;37m: \u001b[0m\u001b[0;32m\"4t camo sweat shirt\"\u001b[0m\u001b[1;37m,\r\n",
      "          \u001b[0m\u001b[1;34m\"metric\"\u001b[0m\u001b[1;37m: \u001b[0m\u001b[0;32m\"dcg\"\u001b[0m\u001b[1;37m,\r\n",
      "          \u001b[0m\u001b[1;34m\"value\"\u001b[0m\u001b[1;37m: \u001b[0m\u001b[0;37m0.0717734625362931\u001b[0m\u001b[1;37m\r\n",
      "        \u001b[1;37m}\u001b[0m\u001b[1;37m\r\n",
      "      \u001b[1;37m}\u001b[0m\u001b[1;37m,\r\n",
      "      \u001b[1;37m{\r\n",
      "        \u001b[0m\u001b[1;34m\"_index\"\u001b[0m\u001b[1;37m: \u001b[0m\u001b[0;32m\"sqe_metrics\"\u001b[0m\u001b[1;37m,\r\n",
      "        \u001b[0m\u001b[1;34m\"_id\"\u001b[0m\u001b[1;37m: \u001b[0m\u001b[0;32m\"ec15f047-b724-461e-9974-297875267687\"\u001b[0m\u001b[1;37m,\r\n",
      "        \u001b[0m\u001b[1;34m\"_score\"\u001b[0m\u001b[1;37m: \u001b[0m\u001b[0;37m18.596354\u001b[0m\u001b[1;37m,\r\n",
      "        \u001b[0m\u001b[1;34m\"_source\"\u001b[0m\u001b[1;37m: \u001b[0m\u001b[1;37m{\r\n",
      "          \u001b[0m\u001b[1;34m\"datetime\"\u001b[0m\u001b[1;37m: \u001b[0m\u001b[0;32m\"2024-06-29\"\u001b[0m\u001b[1;37m,\r\n",
      "          \u001b[0m\u001b[1;34m\"search_config\"\u001b[0m\u001b[1;37m: \u001b[0m\u001b[0;32m\"research_1\"\u001b[0m\u001b[1;37m,\r\n",
      "          \u001b[0m\u001b[1;34m\"query_set_id\"\u001b[0m\u001b[1;37m: \u001b[0m\u001b[0;32m\"sampled_queries\"\u001b[0m\u001b[1;37m,\r\n",
      "          \u001b[0m\u001b[1;34m\"query\"\u001b[0m\u001b[1;37m: \u001b[0m\u001b[0;32m\"4t camo sweat shirt\"\u001b[0m\u001b[1;37m,\r\n",
      "          \u001b[0m\u001b[1;34m\"metric\"\u001b[0m\u001b[1;37m: \u001b[0m\u001b[0;32m\"dcg\"\u001b[0m\u001b[1;37m,\r\n",
      "          \u001b[0m\u001b[1;34m\"value\"\u001b[0m\u001b[1;37m: \u001b[0m\u001b[0;37m0.0717734625362931\u001b[0m\u001b[1;37m\r\n",
      "        \u001b[1;37m}\u001b[0m\u001b[1;37m\r\n",
      "      \u001b[1;37m}\u001b[0m\u001b[1;37m,\r\n",
      "      \u001b[1;37m{\r\n",
      "        \u001b[0m\u001b[1;34m\"_index\"\u001b[0m\u001b[1;37m: \u001b[0m\u001b[0;32m\"sqe_metrics\"\u001b[0m\u001b[1;37m,\r\n",
      "        \u001b[0m\u001b[1;34m\"_id\"\u001b[0m\u001b[1;37m: \u001b[0m\u001b[0;32m\"efe8b1d2-c27c-4d8e-aab4-db57e2148770\"\u001b[0m\u001b[1;37m,\r\n",
      "        \u001b[0m\u001b[1;34m\"_score\"\u001b[0m\u001b[1;37m: \u001b[0m\u001b[0;37m18.596354\u001b[0m\u001b[1;37m,\r\n",
      "        \u001b[0m\u001b[1;34m\"_source\"\u001b[0m\u001b[1;37m: \u001b[0m\u001b[1;37m{\r\n",
      "          \u001b[0m\u001b[1;34m\"datetime\"\u001b[0m\u001b[1;37m: \u001b[0m\u001b[0;32m\"2024-06-28\"\u001b[0m\u001b[1;37m,\r\n",
      "          \u001b[0m\u001b[1;34m\"search_config\"\u001b[0m\u001b[1;37m: \u001b[0m\u001b[0;32m\"research_1\"\u001b[0m\u001b[1;37m,\r\n",
      "          \u001b[0m\u001b[1;34m\"query_set_id\"\u001b[0m\u001b[1;37m: \u001b[0m\u001b[0;32m\"sampled_queries\"\u001b[0m\u001b[1;37m,\r\n",
      "          \u001b[0m\u001b[1;34m\"query\"\u001b[0m\u001b[1;37m: \u001b[0m\u001b[0;32m\"4t camo sweat shirt\"\u001b[0m\u001b[1;37m,\r\n",
      "          \u001b[0m\u001b[1;34m\"metric\"\u001b[0m\u001b[1;37m: \u001b[0m\u001b[0;32m\"dcg\"\u001b[0m\u001b[1;37m,\r\n",
      "          \u001b[0m\u001b[1;34m\"value\"\u001b[0m\u001b[1;37m: \u001b[0m\u001b[0;37m0.0717734625362931\u001b[0m\u001b[1;37m\r\n",
      "        \u001b[1;37m}\u001b[0m\u001b[1;37m\r\n",
      "      \u001b[1;37m}\u001b[0m\u001b[1;37m,\r\n",
      "      \u001b[1;37m{\r\n",
      "        \u001b[0m\u001b[1;34m\"_index\"\u001b[0m\u001b[1;37m: \u001b[0m\u001b[0;32m\"sqe_metrics\"\u001b[0m\u001b[1;37m,\r\n",
      "        \u001b[0m\u001b[1;34m\"_id\"\u001b[0m\u001b[1;37m: \u001b[0m\u001b[0;32m\"2e4c198d-20ef-49e9-99ad-c386c76125ef\"\u001b[0m\u001b[1;37m,\r\n",
      "        \u001b[0m\u001b[1;34m\"_score\"\u001b[0m\u001b[1;37m: \u001b[0m\u001b[0;37m18.596354\u001b[0m\u001b[1;37m,\r\n",
      "        \u001b[0m\u001b[1;34m\"_source\"\u001b[0m\u001b[1;37m: \u001b[0m\u001b[1;37m{\r\n",
      "          \u001b[0m\u001b[1;34m\"datetime\"\u001b[0m\u001b[1;37m: \u001b[0m\u001b[0;32m\"2024-06-27\"\u001b[0m\u001b[1;37m,\r\n",
      "          \u001b[0m\u001b[1;34m\"search_config\"\u001b[0m\u001b[1;37m: \u001b[0m\u001b[0;32m\"research_1\"\u001b[0m\u001b[1;37m,\r\n",
      "          \u001b[0m\u001b[1;34m\"query_set_id\"\u001b[0m\u001b[1;37m: \u001b[0m\u001b[0;32m\"sampled_queries\"\u001b[0m\u001b[1;37m,\r\n",
      "          \u001b[0m\u001b[1;34m\"query\"\u001b[0m\u001b[1;37m: \u001b[0m\u001b[0;32m\"4t camo sweat shirt\"\u001b[0m\u001b[1;37m,\r\n",
      "          \u001b[0m\u001b[1;34m\"metric\"\u001b[0m\u001b[1;37m: \u001b[0m\u001b[0;32m\"dcg\"\u001b[0m\u001b[1;37m,\r\n",
      "          \u001b[0m\u001b[1;34m\"value\"\u001b[0m\u001b[1;37m: \u001b[0m\u001b[0;37m0.0717734625362931\u001b[0m\u001b[1;37m\r\n",
      "        \u001b[1;37m}\u001b[0m\u001b[1;37m\r\n",
      "      \u001b[1;37m}\u001b[0m\u001b[1;37m,\r\n",
      "      \u001b[1;37m{\r\n",
      "        \u001b[0m\u001b[1;34m\"_index\"\u001b[0m\u001b[1;37m: \u001b[0m\u001b[0;32m\"sqe_metrics\"\u001b[0m\u001b[1;37m,\r\n",
      "        \u001b[0m\u001b[1;34m\"_id\"\u001b[0m\u001b[1;37m: \u001b[0m\u001b[0;32m\"019e0b37-1be9-4a5b-9ee7-8ac55bff906d\"\u001b[0m\u001b[1;37m,\r\n",
      "        \u001b[0m\u001b[1;34m\"_score\"\u001b[0m\u001b[1;37m: \u001b[0m\u001b[0;37m18.596354\u001b[0m\u001b[1;37m,\r\n",
      "        \u001b[0m\u001b[1;34m\"_source\"\u001b[0m\u001b[1;37m: \u001b[0m\u001b[1;37m{\r\n",
      "          \u001b[0m\u001b[1;34m\"datetime\"\u001b[0m\u001b[1;37m: \u001b[0m\u001b[0;32m\"2024-06-26\"\u001b[0m\u001b[1;37m,\r\n",
      "          \u001b[0m\u001b[1;34m\"search_config\"\u001b[0m\u001b[1;37m: \u001b[0m\u001b[0;32m\"research_1\"\u001b[0m\u001b[1;37m,\r\n",
      "          \u001b[0m\u001b[1;34m\"query_set_id\"\u001b[0m\u001b[1;37m: \u001b[0m\u001b[0;32m\"sampled_queries\"\u001b[0m\u001b[1;37m,\r\n",
      "          \u001b[0m\u001b[1;34m\"query\"\u001b[0m\u001b[1;37m: \u001b[0m\u001b[0;32m\"4t camo sweat shirt\"\u001b[0m\u001b[1;37m,\r\n",
      "          \u001b[0m\u001b[1;34m\"metric\"\u001b[0m\u001b[1;37m: \u001b[0m\u001b[0;32m\"dcg\"\u001b[0m\u001b[1;37m,\r\n",
      "          \u001b[0m\u001b[1;34m\"value\"\u001b[0m\u001b[1;37m: \u001b[0m\u001b[0;37m0.6479686233734272\u001b[0m\u001b[1;37m\r\n",
      "        \u001b[1;37m}\u001b[0m\u001b[1;37m\r\n",
      "      \u001b[1;37m}\u001b[0m\u001b[1;37m,\r\n",
      "      \u001b[1;37m{\r\n",
      "        \u001b[0m\u001b[1;34m\"_index\"\u001b[0m\u001b[1;37m: \u001b[0m\u001b[0;32m\"sqe_metrics\"\u001b[0m\u001b[1;37m,\r\n",
      "        \u001b[0m\u001b[1;34m\"_id\"\u001b[0m\u001b[1;37m: \u001b[0m\u001b[0;32m\"6380f4a1-10da-433f-b926-e99cb73dadcb\"\u001b[0m\u001b[1;37m,\r\n",
      "        \u001b[0m\u001b[1;34m\"_score\"\u001b[0m\u001b[1;37m: \u001b[0m\u001b[0;37m18.596354\u001b[0m\u001b[1;37m,\r\n",
      "        \u001b[0m\u001b[1;34m\"_source\"\u001b[0m\u001b[1;37m: \u001b[0m\u001b[1;37m{\r\n",
      "          \u001b[0m\u001b[1;34m\"datetime\"\u001b[0m\u001b[1;37m: \u001b[0m\u001b[0;32m\"2024-06-25\"\u001b[0m\u001b[1;37m,\r\n",
      "          \u001b[0m\u001b[1;34m\"search_config\"\u001b[0m\u001b[1;37m: \u001b[0m\u001b[0;32m\"research_1\"\u001b[0m\u001b[1;37m,\r\n",
      "          \u001b[0m\u001b[1;34m\"query_set_id\"\u001b[0m\u001b[1;37m: \u001b[0m\u001b[0;32m\"sampled_queries\"\u001b[0m\u001b[1;37m,\r\n",
      "          \u001b[0m\u001b[1;34m\"query\"\u001b[0m\u001b[1;37m: \u001b[0m\u001b[0;32m\"4t camo sweat shirt\"\u001b[0m\u001b[1;37m,\r\n",
      "          \u001b[0m\u001b[1;34m\"metric\"\u001b[0m\u001b[1;37m: \u001b[0m\u001b[0;32m\"dcg\"\u001b[0m\u001b[1;37m,\r\n",
      "          \u001b[0m\u001b[1;34m\"value\"\u001b[0m\u001b[1;37m: \u001b[0m\u001b[0;37m0.0717734625362931\u001b[0m\u001b[1;37m\r\n",
      "        \u001b[1;37m}\u001b[0m\u001b[1;37m\r\n",
      "      \u001b[1;37m}\u001b[0m\u001b[1;37m,\r\n",
      "      \u001b[1;37m{\r\n",
      "        \u001b[0m\u001b[1;34m\"_index\"\u001b[0m\u001b[1;37m: \u001b[0m\u001b[0;32m\"sqe_metrics\"\u001b[0m\u001b[1;37m,\r\n",
      "        \u001b[0m\u001b[1;34m\"_id\"\u001b[0m\u001b[1;37m: \u001b[0m\u001b[0;32m\"a1ad07d1-68ba-4b4d-9e1a-c6d4ed207421\"\u001b[0m\u001b[1;37m,\r\n",
      "        \u001b[0m\u001b[1;34m\"_score\"\u001b[0m\u001b[1;37m: \u001b[0m\u001b[0;37m18.596354\u001b[0m\u001b[1;37m,\r\n",
      "        \u001b[0m\u001b[1;34m\"_source\"\u001b[0m\u001b[1;37m: \u001b[0m\u001b[1;37m{\r\n",
      "          \u001b[0m\u001b[1;34m\"datetime\"\u001b[0m\u001b[1;37m: \u001b[0m\u001b[0;32m\"2024-07-01\"\u001b[0m\u001b[1;37m,\r\n",
      "          \u001b[0m\u001b[1;34m\"search_config\"\u001b[0m\u001b[1;37m: \u001b[0m\u001b[0;32m\"research_1\"\u001b[0m\u001b[1;37m,\r\n",
      "          \u001b[0m\u001b[1;34m\"query_set_id\"\u001b[0m\u001b[1;37m: \u001b[0m\u001b[0;32m\"sampled_queries\"\u001b[0m\u001b[1;37m,\r\n",
      "          \u001b[0m\u001b[1;34m\"query\"\u001b[0m\u001b[1;37m: \u001b[0m\u001b[0;32m\"4t camo sweat shirt\"\u001b[0m\u001b[1;37m,\r\n",
      "          \u001b[0m\u001b[1;34m\"metric\"\u001b[0m\u001b[1;37m: \u001b[0m\u001b[0;32m\"ndcg\"\u001b[0m\u001b[1;37m,\r\n",
      "          \u001b[0m\u001b[1;34m\"value\"\u001b[0m\u001b[1;37m: \u001b[0m\u001b[0;37m0.0254877387651201\u001b[0m\u001b[1;37m\r\n",
      "        \u001b[1;37m}\u001b[0m\u001b[1;37m\r\n",
      "      \u001b[1;37m}\u001b[0m\u001b[1;37m,\r\n",
      "      \u001b[1;37m{\r\n",
      "        \u001b[0m\u001b[1;34m\"_index\"\u001b[0m\u001b[1;37m: \u001b[0m\u001b[0;32m\"sqe_metrics\"\u001b[0m\u001b[1;37m,\r\n",
      "        \u001b[0m\u001b[1;34m\"_id\"\u001b[0m\u001b[1;37m: \u001b[0m\u001b[0;32m\"0cacddbf-83a6-4790-81fa-af0fdd2d7f72\"\u001b[0m\u001b[1;37m,\r\n",
      "        \u001b[0m\u001b[1;34m\"_score\"\u001b[0m\u001b[1;37m: \u001b[0m\u001b[0;37m18.596354\u001b[0m\u001b[1;37m,\r\n",
      "        \u001b[0m\u001b[1;34m\"_source\"\u001b[0m\u001b[1;37m: \u001b[0m\u001b[1;37m{\r\n",
      "          \u001b[0m\u001b[1;34m\"datetime\"\u001b[0m\u001b[1;37m: \u001b[0m\u001b[0;32m\"2024-06-30\"\u001b[0m\u001b[1;37m,\r\n",
      "          \u001b[0m\u001b[1;34m\"search_config\"\u001b[0m\u001b[1;37m: \u001b[0m\u001b[0;32m\"research_1\"\u001b[0m\u001b[1;37m,\r\n",
      "          \u001b[0m\u001b[1;34m\"query_set_id\"\u001b[0m\u001b[1;37m: \u001b[0m\u001b[0;32m\"sampled_queries\"\u001b[0m\u001b[1;37m,\r\n",
      "          \u001b[0m\u001b[1;34m\"query\"\u001b[0m\u001b[1;37m: \u001b[0m\u001b[0;32m\"4t camo sweat shirt\"\u001b[0m\u001b[1;37m,\r\n",
      "          \u001b[0m\u001b[1;34m\"metric\"\u001b[0m\u001b[1;37m: \u001b[0m\u001b[0;32m\"ndcg\"\u001b[0m\u001b[1;37m,\r\n",
      "          \u001b[0m\u001b[1;34m\"value\"\u001b[0m\u001b[1;37m: \u001b[0m\u001b[0;37m0.0254877387651201\u001b[0m\u001b[1;37m\r\n",
      "        \u001b[1;37m}\u001b[0m\u001b[1;37m\r\n",
      "      \u001b[1;37m}\u001b[0m\u001b[1;37m,\r\n",
      "      \u001b[1;37m{\r\n",
      "        \u001b[0m\u001b[1;34m\"_index\"\u001b[0m\u001b[1;37m: \u001b[0m\u001b[0;32m\"sqe_metrics\"\u001b[0m\u001b[1;37m,\r\n",
      "        \u001b[0m\u001b[1;34m\"_id\"\u001b[0m\u001b[1;37m: \u001b[0m\u001b[0;32m\"5ba6a2fd-a5bc-43d2-9720-e06b73db5b3a\"\u001b[0m\u001b[1;37m,\r\n",
      "        \u001b[0m\u001b[1;34m\"_score\"\u001b[0m\u001b[1;37m: \u001b[0m\u001b[0;37m18.596354\u001b[0m\u001b[1;37m,\r\n",
      "        \u001b[0m\u001b[1;34m\"_source\"\u001b[0m\u001b[1;37m: \u001b[0m\u001b[1;37m{\r\n",
      "          \u001b[0m\u001b[1;34m\"datetime\"\u001b[0m\u001b[1;37m: \u001b[0m\u001b[0;32m\"2024-06-29\"\u001b[0m\u001b[1;37m,\r\n",
      "          \u001b[0m\u001b[1;34m\"search_config\"\u001b[0m\u001b[1;37m: \u001b[0m\u001b[0;32m\"research_1\"\u001b[0m\u001b[1;37m,\r\n",
      "          \u001b[0m\u001b[1;34m\"query_set_id\"\u001b[0m\u001b[1;37m: \u001b[0m\u001b[0;32m\"sampled_queries\"\u001b[0m\u001b[1;37m,\r\n",
      "          \u001b[0m\u001b[1;34m\"query\"\u001b[0m\u001b[1;37m: \u001b[0m\u001b[0;32m\"4t camo sweat shirt\"\u001b[0m\u001b[1;37m,\r\n",
      "          \u001b[0m\u001b[1;34m\"metric\"\u001b[0m\u001b[1;37m: \u001b[0m\u001b[0;32m\"ndcg\"\u001b[0m\u001b[1;37m,\r\n",
      "          \u001b[0m\u001b[1;34m\"value\"\u001b[0m\u001b[1;37m: \u001b[0m\u001b[0;37m0.0254877387651201\u001b[0m\u001b[1;37m\r\n",
      "        \u001b[1;37m}\u001b[0m\u001b[1;37m\r\n",
      "      \u001b[1;37m}\u001b[0m\u001b[1;37m\r\n",
      "    \u001b[1;37m]\u001b[0m\u001b[1;37m\r\n",
      "  \u001b[1;37m}\u001b[0m\u001b[1;37m\r\n",
      "\u001b[1;37m}\u001b[0m\r\n"
     ]
    }
   ],
   "source": [
    "!curl -s -XGET http://localhost:9200/sqe_metrics/_search -H 'Content-Type: application/json' -d' \\\n",
    "{ \\\n",
    "  \"query\": { \\\n",
    "    \"match\": { \\\n",
    "      \"query\": \"4t camo sweat shirt\" \\\n",
    "    } \\\n",
    "  } \\\n",
    "}' | jq\n"
   ]
  },
  {
   "cell_type": "code",
   "execution_count": 183,
   "id": "7ce0e9bc",
   "metadata": {},
   "outputs": [
    {
     "name": "stdout",
     "output_type": "stream",
     "text": [
      "{\"acknowledged\":true,\"persistent\":{},\"transient\":{\"cluster\":{\"routing\":{\"allocation\":{\"disk\":{\"threshold_enabled\":\"false\"}}}}}}{\"acknowledged\":true}"
     ]
    }
   ],
   "source": [
    "# Hacky, disk space checks need to be disabled on my system to allow Dashboards to work\n",
    "#\n",
    "# https://stackoverflow.com/a/57675654\n",
    "\n",
    "# !curl -XPUT -H \"Content-Type: application/json\" http://localhost:9200/_cluster/settings -d '{ \"transient\": { \"cluster.routing.allocation.disk.threshold_enabled\": false } }'\n",
    "# !curl -XPUT -H \"Content-Type: application/json\" http://localhost:9200/_all/_settings -d '{\"index.blocks.read_only_allow_delete\": null}'"
   ]
  },
  {
   "cell_type": "code",
   "execution_count": null,
   "id": "64d38fef",
   "metadata": {},
   "outputs": [],
   "source": []
  }
 ],
 "metadata": {
  "kernelspec": {
   "display_name": "Python 3 (ipykernel)",
   "language": "python",
   "name": "python3"
  },
  "language_info": {
   "codemirror_mode": {
    "name": "ipython",
    "version": 3
   },
   "file_extension": ".py",
   "mimetype": "text/x-python",
   "name": "python",
   "nbconvert_exporter": "python",
   "pygments_lexer": "ipython3",
   "version": "3.9.7"
  }
 },
 "nbformat": 4,
 "nbformat_minor": 5
}
