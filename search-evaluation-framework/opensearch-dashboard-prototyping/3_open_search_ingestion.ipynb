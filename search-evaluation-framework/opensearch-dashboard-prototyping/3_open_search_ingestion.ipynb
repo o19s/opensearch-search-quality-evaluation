{
 "cells": [
  {
   "cell_type": "code",
   "execution_count": 162,
   "id": "8b097a62",
   "metadata": {},
   "outputs": [
    {
     "name": "stdout",
     "output_type": "stream",
     "text": [
      "{\"error\":{\"root_cause\":[{\"type\":\"index_not_found_exception\",\"reason\":\"no such index [sqe_metrics]\",\"index\":\"sqe_metrics\",\"resource.id\":\"sqe_metrics\",\"resource.type\":\"index_or_alias\",\"index_uuid\":\"_na_\"}],\"type\":\"index_not_found_exception\",\"reason\":\"no such index [sqe_metrics]\",\"index\":\"sqe_metrics\",\"resource.id\":\"sqe_metrics\",\"resource.type\":\"index_or_alias\",\"index_uuid\":\"_na_\"},\"status\":404}"
     ]
    }
   ],
   "source": [
    "!curl -s -X DELETE http://localhost:9200/sqe_metrics/"
   ]
  },
  {
   "cell_type": "code",
   "execution_count": 163,
   "id": "f2ae4f3e",
   "metadata": {},
   "outputs": [
    {
     "name": "stdout",
     "output_type": "stream",
     "text": [
      "{\"acknowledged\":true,\"persistent\":{},\"transient\":{\"cluster\":{\"routing\":{\"allocation\":{\"disk\":{\"threshold_enabled\":\"false\"}}}}}}"
     ]
    }
   ],
   "source": [
    "# Hack needed due to not high enough disk space locally\n",
    "# See reference at bottom of Notebook\n",
    "\n",
    "# !curl -XPUT -H \"Content-Type: application/json\" http://localhost:9200/_cluster/settings -d '{ \"transient\": { \"cluster.routing.allocation.disk.threshold_enabled\": false } }'"
   ]
  },
  {
   "cell_type": "code",
   "execution_count": 151,
   "id": "5b35f4a0",
   "metadata": {},
   "outputs": [],
   "source": [
    "import time\n",
    "import json\n",
    "import random\n",
    "import uuid\n",
    "import pandas as pd\n",
    "\n",
    "from opensearchpy import OpenSearch\n",
    "\n",
    "client = OpenSearch(\"http://localhost:9200\", use_ssl=False)"
   ]
  },
  {
   "cell_type": "code",
   "execution_count": 152,
   "id": "61ff790a",
   "metadata": {},
   "outputs": [],
   "source": [
    "df = pd.read_csv(\"metrics.csv\")"
   ]
  },
  {
   "cell_type": "code",
   "execution_count": 153,
   "id": "924129a4",
   "metadata": {},
   "outputs": [
    {
     "data": {
      "text/html": [
       "<div>\n",
       "<style scoped>\n",
       "    .dataframe tbody tr th:only-of-type {\n",
       "        vertical-align: middle;\n",
       "    }\n",
       "\n",
       "    .dataframe tbody tr th {\n",
       "        vertical-align: top;\n",
       "    }\n",
       "\n",
       "    .dataframe thead th {\n",
       "        text-align: right;\n",
       "    }\n",
       "</style>\n",
       "<table border=\"1\" class=\"dataframe\">\n",
       "  <thead>\n",
       "    <tr style=\"text-align: right;\">\n",
       "      <th></th>\n",
       "      <th>Unnamed: 0</th>\n",
       "      <th>datetime</th>\n",
       "      <th>search_config</th>\n",
       "      <th>query_id</th>\n",
       "      <th>query</th>\n",
       "      <th>metric</th>\n",
       "      <th>value</th>\n",
       "    </tr>\n",
       "  </thead>\n",
       "  <tbody>\n",
       "    <tr>\n",
       "      <th>0</th>\n",
       "      <td>0</td>\n",
       "      <td>2024-06-25</td>\n",
       "      <td>research_1</td>\n",
       "      <td>4428</td>\n",
       "      <td>4t camo sweat shirt</td>\n",
       "      <td>dcg</td>\n",
       "      <td>0.117057</td>\n",
       "    </tr>\n",
       "    <tr>\n",
       "      <th>1</th>\n",
       "      <td>0</td>\n",
       "      <td>2024-06-25</td>\n",
       "      <td>research_1</td>\n",
       "      <td>8077</td>\n",
       "      <td>all day office chair</td>\n",
       "      <td>dcg</td>\n",
       "      <td>1.000000</td>\n",
       "    </tr>\n",
       "    <tr>\n",
       "      <th>2</th>\n",
       "      <td>0</td>\n",
       "      <td>2024-06-25</td>\n",
       "      <td>research_1</td>\n",
       "      <td>17666</td>\n",
       "      <td>bluray movie collection</td>\n",
       "      <td>dcg</td>\n",
       "      <td>1.000000</td>\n",
       "    </tr>\n",
       "    <tr>\n",
       "      <th>3</th>\n",
       "      <td>0</td>\n",
       "      <td>2024-06-25</td>\n",
       "      <td>research_1</td>\n",
       "      <td>26436</td>\n",
       "      <td>citizen limited edition</td>\n",
       "      <td>dcg</td>\n",
       "      <td>0.071773</td>\n",
       "    </tr>\n",
       "    <tr>\n",
       "      <th>4</th>\n",
       "      <td>0</td>\n",
       "      <td>2024-06-25</td>\n",
       "      <td>research_1</td>\n",
       "      <td>30400</td>\n",
       "      <td>cruz comunion niño</td>\n",
       "      <td>dcg</td>\n",
       "      <td>1.891241</td>\n",
       "    </tr>\n",
       "  </tbody>\n",
       "</table>\n",
       "</div>"
      ],
      "text/plain": [
       "   Unnamed: 0    datetime search_config  query_id                    query  \\\n",
       "0           0  2024-06-25    research_1      4428      4t camo sweat shirt   \n",
       "1           0  2024-06-25    research_1      8077     all day office chair   \n",
       "2           0  2024-06-25    research_1     17666  bluray movie collection   \n",
       "3           0  2024-06-25    research_1     26436  citizen limited edition   \n",
       "4           0  2024-06-25    research_1     30400       cruz comunion niño   \n",
       "\n",
       "  metric     value  \n",
       "0    dcg  0.117057  \n",
       "1    dcg  1.000000  \n",
       "2    dcg  1.000000  \n",
       "3    dcg  0.071773  \n",
       "4    dcg  1.891241  "
      ]
     },
     "execution_count": 153,
     "metadata": {},
     "output_type": "execute_result"
    }
   ],
   "source": [
    "df.head()"
   ]
  },
  {
   "cell_type": "code",
   "execution_count": 164,
   "id": "59b62fff",
   "metadata": {},
   "outputs": [],
   "source": [
    "bulk = []\n",
    "\n",
    "for ix, metric in df.iterrows():\n",
    "    metric_dict = {\n",
    "        \"datetime\": metric[\"datetime\"],\n",
    "        \"search_config\": metric[\"search_config\"],\n",
    "        \"query_id\": metric[\"query_id\"],\n",
    "        \"query\": metric[\"query\"],\n",
    "        \"metric\": metric[\"metric\"],\n",
    "        \"value\": metric[\"value\"],\n",
    "    }\n",
    "    event_id = str(uuid.uuid4())\n",
    "    bulk.append(\n",
    "        {\"index\": {\"_index\": \"sqe_metrics\", \"_id\": event_id}}\n",
    "    )\n",
    "    bulk.append(metric_dict)\n",
    "    response = client.bulk(bulk)"
   ]
  },
  {
   "cell_type": "code",
   "execution_count": 154,
   "id": "8c939476",
   "metadata": {},
   "outputs": [
    {
     "data": {
      "text/plain": [
       "2240"
      ]
     },
     "execution_count": 154,
     "metadata": {},
     "output_type": "execute_result"
    }
   ],
   "source": [
    "df.query_id.size"
   ]
  },
  {
   "cell_type": "code",
   "execution_count": 165,
   "id": "2b49df8c",
   "metadata": {},
   "outputs": [
    {
     "name": "stdout",
     "output_type": "stream",
     "text": [
      "\u001b[1;37m{\r\n",
      "  \u001b[0m\u001b[1;34m\"count\"\u001b[0m\u001b[1;37m: \u001b[0m\u001b[0;37m2240\u001b[0m\u001b[1;37m,\r\n",
      "  \u001b[0m\u001b[1;34m\"_shards\"\u001b[0m\u001b[1;37m: \u001b[0m\u001b[1;37m{\r\n",
      "    \u001b[0m\u001b[1;34m\"total\"\u001b[0m\u001b[1;37m: \u001b[0m\u001b[0;37m1\u001b[0m\u001b[1;37m,\r\n",
      "    \u001b[0m\u001b[1;34m\"successful\"\u001b[0m\u001b[1;37m: \u001b[0m\u001b[0;37m1\u001b[0m\u001b[1;37m,\r\n",
      "    \u001b[0m\u001b[1;34m\"skipped\"\u001b[0m\u001b[1;37m: \u001b[0m\u001b[0;37m0\u001b[0m\u001b[1;37m,\r\n",
      "    \u001b[0m\u001b[1;34m\"failed\"\u001b[0m\u001b[1;37m: \u001b[0m\u001b[0;37m0\u001b[0m\u001b[1;37m\r\n",
      "  \u001b[1;37m}\u001b[0m\u001b[1;37m\r\n",
      "\u001b[1;37m}\u001b[0m\r\n"
     ]
    }
   ],
   "source": [
    "!curl -s http://localhost:9200/sqe_metrics/_count | jq"
   ]
  },
  {
   "cell_type": "code",
   "execution_count": 161,
   "id": "d08b12d0",
   "metadata": {
    "scrolled": false
   },
   "outputs": [
    {
     "name": "stdout",
     "output_type": "stream",
     "text": [
      "\u001b[1;37m{\r\n",
      "  \u001b[0m\u001b[1;34m\"took\"\u001b[0m\u001b[1;37m: \u001b[0m\u001b[0;37m43\u001b[0m\u001b[1;37m,\r\n",
      "  \u001b[0m\u001b[1;34m\"timed_out\"\u001b[0m\u001b[1;37m: \u001b[0m\u001b[0;37mfalse\u001b[0m\u001b[1;37m,\r\n",
      "  \u001b[0m\u001b[1;34m\"_shards\"\u001b[0m\u001b[1;37m: \u001b[0m\u001b[1;37m{\r\n",
      "    \u001b[0m\u001b[1;34m\"total\"\u001b[0m\u001b[1;37m: \u001b[0m\u001b[0;37m1\u001b[0m\u001b[1;37m,\r\n",
      "    \u001b[0m\u001b[1;34m\"successful\"\u001b[0m\u001b[1;37m: \u001b[0m\u001b[0;37m1\u001b[0m\u001b[1;37m,\r\n",
      "    \u001b[0m\u001b[1;34m\"skipped\"\u001b[0m\u001b[1;37m: \u001b[0m\u001b[0;37m0\u001b[0m\u001b[1;37m,\r\n",
      "    \u001b[0m\u001b[1;34m\"failed\"\u001b[0m\u001b[1;37m: \u001b[0m\u001b[0;37m0\u001b[0m\u001b[1;37m\r\n",
      "  \u001b[1;37m}\u001b[0m\u001b[1;37m,\r\n",
      "  \u001b[0m\u001b[1;34m\"hits\"\u001b[0m\u001b[1;37m: \u001b[0m\u001b[1;37m{\r\n",
      "    \u001b[0m\u001b[1;34m\"total\"\u001b[0m\u001b[1;37m: \u001b[0m\u001b[1;37m{\r\n",
      "      \u001b[0m\u001b[1;34m\"value\"\u001b[0m\u001b[1;37m: \u001b[0m\u001b[0;37m224\u001b[0m\u001b[1;37m,\r\n",
      "      \u001b[0m\u001b[1;34m\"relation\"\u001b[0m\u001b[1;37m: \u001b[0m\u001b[0;32m\"eq\"\u001b[0m\u001b[1;37m\r\n",
      "    \u001b[1;37m}\u001b[0m\u001b[1;37m,\r\n",
      "    \u001b[0m\u001b[1;34m\"max_score\"\u001b[0m\u001b[1;37m: \u001b[0m\u001b[0;37m10.913962\u001b[0m\u001b[1;37m,\r\n",
      "    \u001b[0m\u001b[1;34m\"hits\"\u001b[0m\u001b[1;37m: \u001b[0m\u001b[1;37m[\r\n",
      "      \u001b[1;37m{\r\n",
      "        \u001b[0m\u001b[1;34m\"_index\"\u001b[0m\u001b[1;37m: \u001b[0m\u001b[0;32m\"sqe_metrics\"\u001b[0m\u001b[1;37m,\r\n",
      "        \u001b[0m\u001b[1;34m\"_id\"\u001b[0m\u001b[1;37m: \u001b[0m\u001b[0;32m\"87e876f0-b04a-4722-9719-616123510695\"\u001b[0m\u001b[1;37m,\r\n",
      "        \u001b[0m\u001b[1;34m\"_score\"\u001b[0m\u001b[1;37m: \u001b[0m\u001b[0;37m10.913962\u001b[0m\u001b[1;37m,\r\n",
      "        \u001b[0m\u001b[1;34m\"_source\"\u001b[0m\u001b[1;37m: \u001b[0m\u001b[1;37m{\r\n",
      "          \u001b[0m\u001b[1;34m\"datetime\"\u001b[0m\u001b[1;37m: \u001b[0m\u001b[0;32m\"2024-07-01\"\u001b[0m\u001b[1;37m,\r\n",
      "          \u001b[0m\u001b[1;34m\"search_config\"\u001b[0m\u001b[1;37m: \u001b[0m\u001b[0;32m\"research_1\"\u001b[0m\u001b[1;37m,\r\n",
      "          \u001b[0m\u001b[1;34m\"query_id\"\u001b[0m\u001b[1;37m: \u001b[0m\u001b[0;37m4428\u001b[0m\u001b[1;37m,\r\n",
      "          \u001b[0m\u001b[1;34m\"query\"\u001b[0m\u001b[1;37m: \u001b[0m\u001b[0;32m\"4t camo sweat shirt\"\u001b[0m\u001b[1;37m,\r\n",
      "          \u001b[0m\u001b[1;34m\"metric\"\u001b[0m\u001b[1;37m: \u001b[0m\u001b[0;32m\"dcg\"\u001b[0m\u001b[1;37m,\r\n",
      "          \u001b[0m\u001b[1;34m\"value\"\u001b[0m\u001b[1;37m: \u001b[0m\u001b[0;37m0.1170574755672868\u001b[0m\u001b[1;37m\r\n",
      "        \u001b[1;37m}\u001b[0m\u001b[1;37m\r\n",
      "      \u001b[1;37m}\u001b[0m\u001b[1;37m,\r\n",
      "      \u001b[1;37m{\r\n",
      "        \u001b[0m\u001b[1;34m\"_index\"\u001b[0m\u001b[1;37m: \u001b[0m\u001b[0;32m\"sqe_metrics\"\u001b[0m\u001b[1;37m,\r\n",
      "        \u001b[0m\u001b[1;34m\"_id\"\u001b[0m\u001b[1;37m: \u001b[0m\u001b[0;32m\"613de313-5dc7-43da-adc4-a059bd4035d6\"\u001b[0m\u001b[1;37m,\r\n",
      "        \u001b[0m\u001b[1;34m\"_score\"\u001b[0m\u001b[1;37m: \u001b[0m\u001b[0;37m10.913962\u001b[0m\u001b[1;37m,\r\n",
      "        \u001b[0m\u001b[1;34m\"_source\"\u001b[0m\u001b[1;37m: \u001b[0m\u001b[1;37m{\r\n",
      "          \u001b[0m\u001b[1;34m\"datetime\"\u001b[0m\u001b[1;37m: \u001b[0m\u001b[0;32m\"2024-06-28\"\u001b[0m\u001b[1;37m,\r\n",
      "          \u001b[0m\u001b[1;34m\"search_config\"\u001b[0m\u001b[1;37m: \u001b[0m\u001b[0;32m\"research_1\"\u001b[0m\u001b[1;37m,\r\n",
      "          \u001b[0m\u001b[1;34m\"query_id\"\u001b[0m\u001b[1;37m: \u001b[0m\u001b[0;37m4428\u001b[0m\u001b[1;37m,\r\n",
      "          \u001b[0m\u001b[1;34m\"query\"\u001b[0m\u001b[1;37m: \u001b[0m\u001b[0;32m\"4t camo sweat shirt\"\u001b[0m\u001b[1;37m,\r\n",
      "          \u001b[0m\u001b[1;34m\"metric\"\u001b[0m\u001b[1;37m: \u001b[0m\u001b[0;32m\"ndcg\"\u001b[0m\u001b[1;37m,\r\n",
      "          \u001b[0m\u001b[1;34m\"value\"\u001b[0m\u001b[1;37m: \u001b[0m\u001b[0;37m0.0415687115032911\u001b[0m\u001b[1;37m\r\n",
      "        \u001b[1;37m}\u001b[0m\u001b[1;37m\r\n",
      "      \u001b[1;37m}\u001b[0m\u001b[1;37m,\r\n",
      "      \u001b[1;37m{\r\n",
      "        \u001b[0m\u001b[1;34m\"_index\"\u001b[0m\u001b[1;37m: \u001b[0m\u001b[0;32m\"sqe_metrics\"\u001b[0m\u001b[1;37m,\r\n",
      "        \u001b[0m\u001b[1;34m\"_id\"\u001b[0m\u001b[1;37m: \u001b[0m\u001b[0;32m\"3f03b3f4-8498-4e7c-b134-8c5aac06b616\"\u001b[0m\u001b[1;37m,\r\n",
      "        \u001b[0m\u001b[1;34m\"_score\"\u001b[0m\u001b[1;37m: \u001b[0m\u001b[0;37m10.913962\u001b[0m\u001b[1;37m,\r\n",
      "        \u001b[0m\u001b[1;34m\"_source\"\u001b[0m\u001b[1;37m: \u001b[0m\u001b[1;37m{\r\n",
      "          \u001b[0m\u001b[1;34m\"datetime\"\u001b[0m\u001b[1;37m: \u001b[0m\u001b[0;32m\"2024-06-29\"\u001b[0m\u001b[1;37m,\r\n",
      "          \u001b[0m\u001b[1;34m\"search_config\"\u001b[0m\u001b[1;37m: \u001b[0m\u001b[0;32m\"research_1\"\u001b[0m\u001b[1;37m,\r\n",
      "          \u001b[0m\u001b[1;34m\"query_id\"\u001b[0m\u001b[1;37m: \u001b[0m\u001b[0;37m4428\u001b[0m\u001b[1;37m,\r\n",
      "          \u001b[0m\u001b[1;34m\"query\"\u001b[0m\u001b[1;37m: \u001b[0m\u001b[0;32m\"4t camo sweat shirt\"\u001b[0m\u001b[1;37m,\r\n",
      "          \u001b[0m\u001b[1;34m\"metric\"\u001b[0m\u001b[1;37m: \u001b[0m\u001b[0;32m\"ndcg\"\u001b[0m\u001b[1;37m,\r\n",
      "          \u001b[0m\u001b[1;34m\"value\"\u001b[0m\u001b[1;37m: \u001b[0m\u001b[0;37m0.0418041230435442\u001b[0m\u001b[1;37m\r\n",
      "        \u001b[1;37m}\u001b[0m\u001b[1;37m\r\n",
      "      \u001b[1;37m}\u001b[0m\u001b[1;37m,\r\n",
      "      \u001b[1;37m{\r\n",
      "        \u001b[0m\u001b[1;34m\"_index\"\u001b[0m\u001b[1;37m: \u001b[0m\u001b[0;32m\"sqe_metrics\"\u001b[0m\u001b[1;37m,\r\n",
      "        \u001b[0m\u001b[1;34m\"_id\"\u001b[0m\u001b[1;37m: \u001b[0m\u001b[0;32m\"1ede7181-cbe7-4011-bd4c-584cb402f6f1\"\u001b[0m\u001b[1;37m,\r\n",
      "        \u001b[0m\u001b[1;34m\"_score\"\u001b[0m\u001b[1;37m: \u001b[0m\u001b[0;37m10.913962\u001b[0m\u001b[1;37m,\r\n",
      "        \u001b[0m\u001b[1;34m\"_source\"\u001b[0m\u001b[1;37m: \u001b[0m\u001b[1;37m{\r\n",
      "          \u001b[0m\u001b[1;34m\"datetime\"\u001b[0m\u001b[1;37m: \u001b[0m\u001b[0;32m\"2024-06-30\"\u001b[0m\u001b[1;37m,\r\n",
      "          \u001b[0m\u001b[1;34m\"search_config\"\u001b[0m\u001b[1;37m: \u001b[0m\u001b[0;32m\"research_1\"\u001b[0m\u001b[1;37m,\r\n",
      "          \u001b[0m\u001b[1;34m\"query_id\"\u001b[0m\u001b[1;37m: \u001b[0m\u001b[0;37m4428\u001b[0m\u001b[1;37m,\r\n",
      "          \u001b[0m\u001b[1;34m\"query\"\u001b[0m\u001b[1;37m: \u001b[0m\u001b[0;32m\"4t camo sweat shirt\"\u001b[0m\u001b[1;37m,\r\n",
      "          \u001b[0m\u001b[1;34m\"metric\"\u001b[0m\u001b[1;37m: \u001b[0m\u001b[0;32m\"ndcg\"\u001b[0m\u001b[1;37m,\r\n",
      "          \u001b[0m\u001b[1;34m\"value\"\u001b[0m\u001b[1;37m: \u001b[0m\u001b[0;37m0.0368674900060836\u001b[0m\u001b[1;37m\r\n",
      "        \u001b[1;37m}\u001b[0m\u001b[1;37m\r\n",
      "      \u001b[1;37m}\u001b[0m\u001b[1;37m,\r\n",
      "      \u001b[1;37m{\r\n",
      "        \u001b[0m\u001b[1;34m\"_index\"\u001b[0m\u001b[1;37m: \u001b[0m\u001b[0;32m\"sqe_metrics\"\u001b[0m\u001b[1;37m,\r\n",
      "        \u001b[0m\u001b[1;34m\"_id\"\u001b[0m\u001b[1;37m: \u001b[0m\u001b[0;32m\"bd914e18-1d99-4ded-8f63-4b7ef7582b71\"\u001b[0m\u001b[1;37m,\r\n",
      "        \u001b[0m\u001b[1;34m\"_score\"\u001b[0m\u001b[1;37m: \u001b[0m\u001b[0;37m10.913962\u001b[0m\u001b[1;37m,\r\n",
      "        \u001b[0m\u001b[1;34m\"_source\"\u001b[0m\u001b[1;37m: \u001b[0m\u001b[1;37m{\r\n",
      "          \u001b[0m\u001b[1;34m\"datetime\"\u001b[0m\u001b[1;37m: \u001b[0m\u001b[0;32m\"2024-07-01\"\u001b[0m\u001b[1;37m,\r\n",
      "          \u001b[0m\u001b[1;34m\"search_config\"\u001b[0m\u001b[1;37m: \u001b[0m\u001b[0;32m\"research_1\"\u001b[0m\u001b[1;37m,\r\n",
      "          \u001b[0m\u001b[1;34m\"query_id\"\u001b[0m\u001b[1;37m: \u001b[0m\u001b[0;37m4428\u001b[0m\u001b[1;37m,\r\n",
      "          \u001b[0m\u001b[1;34m\"query\"\u001b[0m\u001b[1;37m: \u001b[0m\u001b[0;32m\"4t camo sweat shirt\"\u001b[0m\u001b[1;37m,\r\n",
      "          \u001b[0m\u001b[1;34m\"metric\"\u001b[0m\u001b[1;37m: \u001b[0m\u001b[0;32m\"ndcg\"\u001b[0m\u001b[1;37m,\r\n",
      "          \u001b[0m\u001b[1;34m\"value\"\u001b[0m\u001b[1;37m: \u001b[0m\u001b[0;37m0.0333903509487126\u001b[0m\u001b[1;37m\r\n",
      "        \u001b[1;37m}\u001b[0m\u001b[1;37m\r\n",
      "      \u001b[1;37m}\u001b[0m\u001b[1;37m,\r\n",
      "      \u001b[1;37m{\r\n",
      "        \u001b[0m\u001b[1;34m\"_index\"\u001b[0m\u001b[1;37m: \u001b[0m\u001b[0;32m\"sqe_metrics\"\u001b[0m\u001b[1;37m,\r\n",
      "        \u001b[0m\u001b[1;34m\"_id\"\u001b[0m\u001b[1;37m: \u001b[0m\u001b[0;32m\"09472958-6472-480d-a872-f40e9ac98e17\"\u001b[0m\u001b[1;37m,\r\n",
      "        \u001b[0m\u001b[1;34m\"_score\"\u001b[0m\u001b[1;37m: \u001b[0m\u001b[0;37m10.913962\u001b[0m\u001b[1;37m,\r\n",
      "        \u001b[0m\u001b[1;34m\"_source\"\u001b[0m\u001b[1;37m: \u001b[0m\u001b[1;37m{\r\n",
      "          \u001b[0m\u001b[1;34m\"datetime\"\u001b[0m\u001b[1;37m: \u001b[0m\u001b[0;32m\"2024-06-25\"\u001b[0m\u001b[1;37m,\r\n",
      "          \u001b[0m\u001b[1;34m\"search_config\"\u001b[0m\u001b[1;37m: \u001b[0m\u001b[0;32m\"research_1\"\u001b[0m\u001b[1;37m,\r\n",
      "          \u001b[0m\u001b[1;34m\"query_id\"\u001b[0m\u001b[1;37m: \u001b[0m\u001b[0;37m4428\u001b[0m\u001b[1;37m,\r\n",
      "          \u001b[0m\u001b[1;34m\"query\"\u001b[0m\u001b[1;37m: \u001b[0m\u001b[0;32m\"4t camo sweat shirt\"\u001b[0m\u001b[1;37m,\r\n",
      "          \u001b[0m\u001b[1;34m\"metric\"\u001b[0m\u001b[1;37m: \u001b[0m\u001b[0;32m\"prec@1\"\u001b[0m\u001b[1;37m,\r\n",
      "          \u001b[0m\u001b[1;34m\"value\"\u001b[0m\u001b[1;37m: \u001b[0m\u001b[0;37m0.1\u001b[0m\u001b[1;37m\r\n",
      "        \u001b[1;37m}\u001b[0m\u001b[1;37m\r\n",
      "      \u001b[1;37m}\u001b[0m\u001b[1;37m,\r\n",
      "      \u001b[1;37m{\r\n",
      "        \u001b[0m\u001b[1;34m\"_index\"\u001b[0m\u001b[1;37m: \u001b[0m\u001b[0;32m\"sqe_metrics\"\u001b[0m\u001b[1;37m,\r\n",
      "        \u001b[0m\u001b[1;34m\"_id\"\u001b[0m\u001b[1;37m: \u001b[0m\u001b[0;32m\"f42ce176-b542-4b34-80ce-e1ed855d2162\"\u001b[0m\u001b[1;37m,\r\n",
      "        \u001b[0m\u001b[1;34m\"_score\"\u001b[0m\u001b[1;37m: \u001b[0m\u001b[0;37m10.913962\u001b[0m\u001b[1;37m,\r\n",
      "        \u001b[0m\u001b[1;34m\"_source\"\u001b[0m\u001b[1;37m: \u001b[0m\u001b[1;37m{\r\n",
      "          \u001b[0m\u001b[1;34m\"datetime\"\u001b[0m\u001b[1;37m: \u001b[0m\u001b[0;32m\"2024-06-28\"\u001b[0m\u001b[1;37m,\r\n",
      "          \u001b[0m\u001b[1;34m\"search_config\"\u001b[0m\u001b[1;37m: \u001b[0m\u001b[0;32m\"research_1\"\u001b[0m\u001b[1;37m,\r\n",
      "          \u001b[0m\u001b[1;34m\"query_id\"\u001b[0m\u001b[1;37m: \u001b[0m\u001b[0;37m4428\u001b[0m\u001b[1;37m,\r\n",
      "          \u001b[0m\u001b[1;34m\"query\"\u001b[0m\u001b[1;37m: \u001b[0m\u001b[0;32m\"4t camo sweat shirt\"\u001b[0m\u001b[1;37m,\r\n",
      "          \u001b[0m\u001b[1;34m\"metric\"\u001b[0m\u001b[1;37m: \u001b[0m\u001b[0;32m\"prec@1\"\u001b[0m\u001b[1;37m,\r\n",
      "          \u001b[0m\u001b[1;34m\"value\"\u001b[0m\u001b[1;37m: \u001b[0m\u001b[0;37m0.1\u001b[0m\u001b[1;37m\r\n",
      "        \u001b[1;37m}\u001b[0m\u001b[1;37m\r\n",
      "      \u001b[1;37m}\u001b[0m\u001b[1;37m,\r\n",
      "      \u001b[1;37m{\r\n",
      "        \u001b[0m\u001b[1;34m\"_index\"\u001b[0m\u001b[1;37m: \u001b[0m\u001b[0;32m\"sqe_metrics\"\u001b[0m\u001b[1;37m,\r\n",
      "        \u001b[0m\u001b[1;34m\"_id\"\u001b[0m\u001b[1;37m: \u001b[0m\u001b[0;32m\"eae2ef66-7980-4ab0-8034-d07fd8928f73\"\u001b[0m\u001b[1;37m,\r\n",
      "        \u001b[0m\u001b[1;34m\"_score\"\u001b[0m\u001b[1;37m: \u001b[0m\u001b[0;37m10.913962\u001b[0m\u001b[1;37m,\r\n",
      "        \u001b[0m\u001b[1;34m\"_source\"\u001b[0m\u001b[1;37m: \u001b[0m\u001b[1;37m{\r\n",
      "          \u001b[0m\u001b[1;34m\"datetime\"\u001b[0m\u001b[1;37m: \u001b[0m\u001b[0;32m\"2024-06-29\"\u001b[0m\u001b[1;37m,\r\n",
      "          \u001b[0m\u001b[1;34m\"search_config\"\u001b[0m\u001b[1;37m: \u001b[0m\u001b[0;32m\"research_1\"\u001b[0m\u001b[1;37m,\r\n",
      "          \u001b[0m\u001b[1;34m\"query_id\"\u001b[0m\u001b[1;37m: \u001b[0m\u001b[0;37m4428\u001b[0m\u001b[1;37m,\r\n",
      "          \u001b[0m\u001b[1;34m\"query\"\u001b[0m\u001b[1;37m: \u001b[0m\u001b[0;32m\"4t camo sweat shirt\"\u001b[0m\u001b[1;37m,\r\n",
      "          \u001b[0m\u001b[1;34m\"metric\"\u001b[0m\u001b[1;37m: \u001b[0m\u001b[0;32m\"prec@1\"\u001b[0m\u001b[1;37m,\r\n",
      "          \u001b[0m\u001b[1;34m\"value\"\u001b[0m\u001b[1;37m: \u001b[0m\u001b[0;37m0.1\u001b[0m\u001b[1;37m\r\n",
      "        \u001b[1;37m}\u001b[0m\u001b[1;37m\r\n",
      "      \u001b[1;37m}\u001b[0m\u001b[1;37m,\r\n",
      "      \u001b[1;37m{\r\n",
      "        \u001b[0m\u001b[1;34m\"_index\"\u001b[0m\u001b[1;37m: \u001b[0m\u001b[0;32m\"sqe_metrics\"\u001b[0m\u001b[1;37m,\r\n",
      "        \u001b[0m\u001b[1;34m\"_id\"\u001b[0m\u001b[1;37m: \u001b[0m\u001b[0;32m\"d3e1190c-62da-4f09-90e7-4612c09a1f0a\"\u001b[0m\u001b[1;37m,\r\n",
      "        \u001b[0m\u001b[1;34m\"_score\"\u001b[0m\u001b[1;37m: \u001b[0m\u001b[0;37m10.913962\u001b[0m\u001b[1;37m,\r\n",
      "        \u001b[0m\u001b[1;34m\"_source\"\u001b[0m\u001b[1;37m: \u001b[0m\u001b[1;37m{\r\n",
      "          \u001b[0m\u001b[1;34m\"datetime\"\u001b[0m\u001b[1;37m: \u001b[0m\u001b[0;32m\"2024-06-28\"\u001b[0m\u001b[1;37m,\r\n",
      "          \u001b[0m\u001b[1;34m\"search_config\"\u001b[0m\u001b[1;37m: \u001b[0m\u001b[0;32m\"research_1\"\u001b[0m\u001b[1;37m,\r\n",
      "          \u001b[0m\u001b[1;34m\"query_id\"\u001b[0m\u001b[1;37m: \u001b[0m\u001b[0;37m4428\u001b[0m\u001b[1;37m,\r\n",
      "          \u001b[0m\u001b[1;34m\"query\"\u001b[0m\u001b[1;37m: \u001b[0m\u001b[0;32m\"4t camo sweat shirt\"\u001b[0m\u001b[1;37m,\r\n",
      "          \u001b[0m\u001b[1;34m\"metric\"\u001b[0m\u001b[1;37m: \u001b[0m\u001b[0;32m\"jaccard\"\u001b[0m\u001b[1;37m,\r\n",
      "          \u001b[0m\u001b[1;34m\"value\"\u001b[0m\u001b[1;37m: \u001b[0m\u001b[0;37m0.0\u001b[0m\u001b[1;37m\r\n",
      "        \u001b[1;37m}\u001b[0m\u001b[1;37m\r\n",
      "      \u001b[1;37m}\u001b[0m\u001b[1;37m,\r\n",
      "      \u001b[1;37m{\r\n",
      "        \u001b[0m\u001b[1;34m\"_index\"\u001b[0m\u001b[1;37m: \u001b[0m\u001b[0;32m\"sqe_metrics\"\u001b[0m\u001b[1;37m,\r\n",
      "        \u001b[0m\u001b[1;34m\"_id\"\u001b[0m\u001b[1;37m: \u001b[0m\u001b[0;32m\"bce8caf1-5044-4197-9341-9d1be6d338a9\"\u001b[0m\u001b[1;37m,\r\n",
      "        \u001b[0m\u001b[1;34m\"_score\"\u001b[0m\u001b[1;37m: \u001b[0m\u001b[0;37m10.913962\u001b[0m\u001b[1;37m,\r\n",
      "        \u001b[0m\u001b[1;34m\"_source\"\u001b[0m\u001b[1;37m: \u001b[0m\u001b[1;37m{\r\n",
      "          \u001b[0m\u001b[1;34m\"datetime\"\u001b[0m\u001b[1;37m: \u001b[0m\u001b[0;32m\"2024-06-29\"\u001b[0m\u001b[1;37m,\r\n",
      "          \u001b[0m\u001b[1;34m\"search_config\"\u001b[0m\u001b[1;37m: \u001b[0m\u001b[0;32m\"research_1\"\u001b[0m\u001b[1;37m,\r\n",
      "          \u001b[0m\u001b[1;34m\"query_id\"\u001b[0m\u001b[1;37m: \u001b[0m\u001b[0;37m4428\u001b[0m\u001b[1;37m,\r\n",
      "          \u001b[0m\u001b[1;34m\"query\"\u001b[0m\u001b[1;37m: \u001b[0m\u001b[0;32m\"4t camo sweat shirt\"\u001b[0m\u001b[1;37m,\r\n",
      "          \u001b[0m\u001b[1;34m\"metric\"\u001b[0m\u001b[1;37m: \u001b[0m\u001b[0;32m\"jaccard\"\u001b[0m\u001b[1;37m,\r\n",
      "          \u001b[0m\u001b[1;34m\"value\"\u001b[0m\u001b[1;37m: \u001b[0m\u001b[0;37m0.0\u001b[0m\u001b[1;37m\r\n",
      "        \u001b[1;37m}\u001b[0m\u001b[1;37m\r\n",
      "      \u001b[1;37m}\u001b[0m\u001b[1;37m\r\n",
      "    \u001b[1;37m]\u001b[0m\u001b[1;37m\r\n",
      "  \u001b[1;37m}\u001b[0m\u001b[1;37m\r\n",
      "\u001b[1;37m}\u001b[0m\r\n"
     ]
    }
   ],
   "source": [
    "!curl -s -XGET http://localhost:9200/sqe_metrics/_search -H 'Content-Type: application/json' -d' \\\n",
    "{ \\\n",
    "  \"query\": { \\\n",
    "    \"match\": { \\\n",
    "      \"query\": \"4t camo sweat shirt\" \\\n",
    "    } \\\n",
    "  } \\\n",
    "}' | jq\n"
   ]
  },
  {
   "cell_type": "code",
   "execution_count": 166,
   "id": "d38221e6",
   "metadata": {},
   "outputs": [
    {
     "name": "stdout",
     "output_type": "stream",
     "text": [
      "{\"acknowledged\":true,\"persistent\":{},\"transient\":{\"cluster\":{\"routing\":{\"allocation\":{\"disk\":{\"threshold_enabled\":\"false\"}}}}}}{\"acknowledged\":true}"
     ]
    }
   ],
   "source": [
    "# Hacky, disk space checks need to be disabled on my system to allow Dashboards to work\n",
    "#\n",
    "# https://stackoverflow.com/a/57675654\n",
    "\n",
    "!curl -XPUT -H \"Content-Type: application/json\" http://localhost:9200/_cluster/settings -d '{ \"transient\": { \"cluster.routing.allocation.disk.threshold_enabled\": false } }'\n",
    "!curl -XPUT -H \"Content-Type: application/json\" http://localhost:9200/_all/_settings -d '{\"index.blocks.read_only_allow_delete\": null}'"
   ]
  },
  {
   "cell_type": "code",
   "execution_count": null,
   "id": "06775e64",
   "metadata": {},
   "outputs": [],
   "source": []
  }
 ],
 "metadata": {
  "kernelspec": {
   "display_name": "Python 3 (ipykernel)",
   "language": "python",
   "name": "python3"
  },
  "language_info": {
   "codemirror_mode": {
    "name": "ipython",
    "version": 3
   },
   "file_extension": ".py",
   "mimetype": "text/x-python",
   "name": "python",
   "nbconvert_exporter": "python",
   "pygments_lexer": "ipython3",
   "version": "3.9.7"
  }
 },
 "nbformat": 4,
 "nbformat_minor": 5
}
