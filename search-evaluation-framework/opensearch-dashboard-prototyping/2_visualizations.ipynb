{
 "cells": [
  {
   "cell_type": "code",
   "execution_count": 22,
   "id": "1c1ef680",
   "metadata": {},
   "outputs": [],
   "source": [
    "import pandas as pd\n",
    "import numpy as np\n",
    "from datetime import datetime, timedelta\n",
    "import plotly.express as px\n",
    "pd.set_option('display.float_format','{:.2f}'.format)"
   ]
  },
  {
   "cell_type": "code",
   "execution_count": 23,
   "id": "956f0299",
   "metadata": {},
   "outputs": [],
   "source": [
    "# Loading metrics\n",
    "df_metrics = pd.read_csv(\"metrics.csv\")"
   ]
  },
  {
   "cell_type": "code",
   "execution_count": 24,
   "id": "f176da7d",
   "metadata": {},
   "outputs": [
    {
     "data": {
      "text/html": [
       "<div>\n",
       "<style scoped>\n",
       "    .dataframe tbody tr th:only-of-type {\n",
       "        vertical-align: middle;\n",
       "    }\n",
       "\n",
       "    .dataframe tbody tr th {\n",
       "        vertical-align: top;\n",
       "    }\n",
       "\n",
       "    .dataframe thead th {\n",
       "        text-align: right;\n",
       "    }\n",
       "</style>\n",
       "<table border=\"1\" class=\"dataframe\">\n",
       "  <thead>\n",
       "    <tr style=\"text-align: right;\">\n",
       "      <th></th>\n",
       "      <th>datetime</th>\n",
       "      <th>search_config</th>\n",
       "      <th>query_set_id</th>\n",
       "      <th>query</th>\n",
       "      <th>metric</th>\n",
       "      <th>value</th>\n",
       "    </tr>\n",
       "  </thead>\n",
       "  <tbody>\n",
       "    <tr>\n",
       "      <th>0</th>\n",
       "      <td>2024-07-01</td>\n",
       "      <td>research_1</td>\n",
       "      <td>sampled_queries</td>\n",
       "      <td>00g 目立たない</td>\n",
       "      <td>dcg</td>\n",
       "      <td>1.63</td>\n",
       "    </tr>\n",
       "    <tr>\n",
       "      <th>1</th>\n",
       "      <td>2024-07-01</td>\n",
       "      <td>research_1</td>\n",
       "      <td>sampled_queries</td>\n",
       "      <td>1 &amp; 1/4 pvp water suction hose without couplin...</td>\n",
       "      <td>dcg</td>\n",
       "      <td>0.12</td>\n",
       "    </tr>\n",
       "    <tr>\n",
       "      <th>2</th>\n",
       "      <td>2024-07-01</td>\n",
       "      <td>research_1</td>\n",
       "      <td>sampled_queries</td>\n",
       "      <td>10 and 8 yr old. make up without the nieal plush</td>\n",
       "      <td>dcg</td>\n",
       "      <td>1.63</td>\n",
       "    </tr>\n",
       "    <tr>\n",
       "      <th>3</th>\n",
       "      <td>2024-07-01</td>\n",
       "      <td>research_1</td>\n",
       "      <td>sampled_queries</td>\n",
       "      <td>11' x 11' patio umbrella square without led li...</td>\n",
       "      <td>dcg</td>\n",
       "      <td>1.08</td>\n",
       "    </tr>\n",
       "    <tr>\n",
       "      <th>4</th>\n",
       "      <td>2024-07-01</td>\n",
       "      <td>research_1</td>\n",
       "      <td>sampled_queries</td>\n",
       "      <td>23x10.5 tractor intertubes</td>\n",
       "      <td>dcg</td>\n",
       "      <td>1.00</td>\n",
       "    </tr>\n",
       "  </tbody>\n",
       "</table>\n",
       "</div>"
      ],
      "text/plain": [
       "     datetime search_config     query_set_id  \\\n",
       "0  2024-07-01    research_1  sampled_queries   \n",
       "1  2024-07-01    research_1  sampled_queries   \n",
       "2  2024-07-01    research_1  sampled_queries   \n",
       "3  2024-07-01    research_1  sampled_queries   \n",
       "4  2024-07-01    research_1  sampled_queries   \n",
       "\n",
       "                                               query metric  value  \n",
       "0                                          00g 目立たない    dcg   1.63  \n",
       "1  1 & 1/4 pvp water suction hose without couplin...    dcg   0.12  \n",
       "2   10 and 8 yr old. make up without the nieal plush    dcg   1.63  \n",
       "3  11' x 11' patio umbrella square without led li...    dcg   1.08  \n",
       "4                         23x10.5 tractor intertubes    dcg   1.00  "
      ]
     },
     "execution_count": 24,
     "metadata": {},
     "output_type": "execute_result"
    }
   ],
   "source": [
    "df_metrics.head()"
   ]
  },
  {
   "cell_type": "code",
   "execution_count": 25,
   "id": "64430d59",
   "metadata": {},
   "outputs": [
    {
     "data": {
      "text/plain": [
       "36960"
      ]
     },
     "execution_count": 25,
     "metadata": {},
     "output_type": "execute_result"
    }
   ],
   "source": [
    "df_metrics.datetime.size"
   ]
  },
  {
   "cell_type": "code",
   "execution_count": 26,
   "id": "eff0ef92",
   "metadata": {},
   "outputs": [
    {
     "data": {
      "text/html": [
       "<div>\n",
       "<style scoped>\n",
       "    .dataframe tbody tr th:only-of-type {\n",
       "        vertical-align: middle;\n",
       "    }\n",
       "\n",
       "    .dataframe tbody tr th {\n",
       "        vertical-align: top;\n",
       "    }\n",
       "\n",
       "    .dataframe thead th {\n",
       "        text-align: right;\n",
       "    }\n",
       "</style>\n",
       "<table border=\"1\" class=\"dataframe\">\n",
       "  <thead>\n",
       "    <tr style=\"text-align: right;\">\n",
       "      <th></th>\n",
       "      <th>metric</th>\n",
       "      <th>dcg</th>\n",
       "      <th>jaccard</th>\n",
       "      <th>ndcg</th>\n",
       "      <th>prec@1</th>\n",
       "      <th>prec@10</th>\n",
       "      <th>prec@5</th>\n",
       "    </tr>\n",
       "    <tr>\n",
       "      <th>query_set_id</th>\n",
       "      <th>search_config</th>\n",
       "      <th></th>\n",
       "      <th></th>\n",
       "      <th></th>\n",
       "      <th></th>\n",
       "      <th></th>\n",
       "      <th></th>\n",
       "    </tr>\n",
       "  </thead>\n",
       "  <tbody>\n",
       "    <tr>\n",
       "      <th rowspan=\"4\" valign=\"top\">sampled_queries</th>\n",
       "      <th>baseline</th>\n",
       "      <td>2.46</td>\n",
       "      <td>1.00</td>\n",
       "      <td>0.47</td>\n",
       "      <td>0.64</td>\n",
       "      <td>0.46</td>\n",
       "      <td>0.64</td>\n",
       "    </tr>\n",
       "    <tr>\n",
       "      <th>challenger_1</th>\n",
       "      <td>2.79</td>\n",
       "      <td>0.28</td>\n",
       "      <td>0.53</td>\n",
       "      <td>0.65</td>\n",
       "      <td>0.53</td>\n",
       "      <td>0.65</td>\n",
       "    </tr>\n",
       "    <tr>\n",
       "      <th>research_1</th>\n",
       "      <td>0.77</td>\n",
       "      <td>0.07</td>\n",
       "      <td>0.14</td>\n",
       "      <td>0.52</td>\n",
       "      <td>0.10</td>\n",
       "      <td>0.52</td>\n",
       "    </tr>\n",
       "    <tr>\n",
       "      <th>research_2</th>\n",
       "      <td>2.03</td>\n",
       "      <td>0.21</td>\n",
       "      <td>0.40</td>\n",
       "      <td>0.65</td>\n",
       "      <td>0.36</td>\n",
       "      <td>0.65</td>\n",
       "    </tr>\n",
       "    <tr>\n",
       "      <th rowspan=\"4\" valign=\"top\">top_queries</th>\n",
       "      <th>baseline</th>\n",
       "      <td>3.05</td>\n",
       "      <td>1.00</td>\n",
       "      <td>0.51</td>\n",
       "      <td>0.63</td>\n",
       "      <td>0.60</td>\n",
       "      <td>0.63</td>\n",
       "    </tr>\n",
       "    <tr>\n",
       "      <th>challenger_1</th>\n",
       "      <td>3.51</td>\n",
       "      <td>0.27</td>\n",
       "      <td>0.59</td>\n",
       "      <td>0.82</td>\n",
       "      <td>0.66</td>\n",
       "      <td>0.82</td>\n",
       "    </tr>\n",
       "    <tr>\n",
       "      <th>research_1</th>\n",
       "      <td>0.91</td>\n",
       "      <td>0.05</td>\n",
       "      <td>0.14</td>\n",
       "      <td>0.54</td>\n",
       "      <td>0.13</td>\n",
       "      <td>0.54</td>\n",
       "    </tr>\n",
       "    <tr>\n",
       "      <th>research_2</th>\n",
       "      <td>2.59</td>\n",
       "      <td>0.21</td>\n",
       "      <td>0.44</td>\n",
       "      <td>0.82</td>\n",
       "      <td>0.45</td>\n",
       "      <td>0.82</td>\n",
       "    </tr>\n",
       "  </tbody>\n",
       "</table>\n",
       "</div>"
      ],
      "text/plain": [
       "metric                         dcg  jaccard  ndcg  prec@1  prec@10  prec@5\n",
       "query_set_id    search_config                                             \n",
       "sampled_queries baseline      2.46     1.00  0.47    0.64     0.46    0.64\n",
       "                challenger_1  2.79     0.28  0.53    0.65     0.53    0.65\n",
       "                research_1    0.77     0.07  0.14    0.52     0.10    0.52\n",
       "                research_2    2.03     0.21  0.40    0.65     0.36    0.65\n",
       "top_queries     baseline      3.05     1.00  0.51    0.63     0.60    0.63\n",
       "                challenger_1  3.51     0.27  0.59    0.82     0.66    0.82\n",
       "                research_1    0.91     0.05  0.14    0.54     0.13    0.54\n",
       "                research_2    2.59     0.21  0.44    0.82     0.45    0.82"
      ]
     },
     "execution_count": 26,
     "metadata": {},
     "output_type": "execute_result"
    }
   ],
   "source": [
    "pd.crosstab([df_metrics.query_set_id, df_metrics.search_config], df_metrics.metric, df_metrics.value, aggfunc=\"mean\")"
   ]
  },
  {
   "cell_type": "markdown",
   "id": "41183201",
   "metadata": {},
   "source": [
    "# Visualizations"
   ]
  },
  {
   "cell_type": "markdown",
   "id": "edc04b09",
   "metadata": {},
   "source": [
    "## Visualization of single configuration"
   ]
  },
  {
   "cell_type": "code",
   "execution_count": 28,
   "id": "976437b2",
   "metadata": {},
   "outputs": [
    {
     "data": {
      "application/vnd.plotly.v1+json": {
       "config": {
        "plotlyServerURL": "https://plot.ly"
       },
       "data": [
        {
         "hovertemplate": "metric=dcg<br>datetime=%{x}<br>value=%{y}<extra></extra>",
         "legendgroup": "dcg",
         "line": {
          "color": "#636efa",
          "dash": "solid"
         },
         "marker": {
          "symbol": "circle"
         },
         "mode": "lines",
         "name": "dcg",
         "orientation": "v",
         "showlegend": true,
         "type": "scatter",
         "x": [
          "2024-06-25",
          "2024-06-26",
          "2024-06-27",
          "2024-06-28",
          "2024-06-29",
          "2024-06-30",
          "2024-07-01"
         ],
         "xaxis": "x2",
         "y": [
          0.5276906230962871,
          1.1683370511736235,
          0.8235632421465333,
          0.6314892823787792,
          0.6652673803077725,
          0.7221642124939176,
          0.8365977352144303
         ],
         "yaxis": "y2"
        },
        {
         "hovertemplate": "metric=prec@1<br>datetime=%{x}<br>value=%{y}<extra></extra>",
         "legendgroup": "prec@1",
         "line": {
          "color": "#EF553B",
          "dash": "solid"
         },
         "marker": {
          "symbol": "circle"
         },
         "mode": "lines",
         "name": "prec@1",
         "orientation": "v",
         "showlegend": true,
         "type": "scatter",
         "x": [
          "2024-06-25",
          "2024-06-26",
          "2024-06-27",
          "2024-06-28",
          "2024-06-29",
          "2024-06-30",
          "2024-07-01"
         ],
         "xaxis": "x",
         "y": [
          0.4292,
          0.61625,
          0.5492,
          0.4727,
          0.4827,
          0.5136999999999999,
          0.54975
         ],
         "yaxis": "y"
        }
       ],
       "layout": {
        "annotations": [
         {
          "font": {},
          "showarrow": false,
          "text": "metric=prec@1",
          "textangle": 90,
          "x": 0.98,
          "xanchor": "left",
          "xref": "paper",
          "y": 0.2425,
          "yanchor": "middle",
          "yref": "paper"
         },
         {
          "font": {},
          "showarrow": false,
          "text": "metric=dcg",
          "textangle": 90,
          "x": 0.98,
          "xanchor": "left",
          "xref": "paper",
          "y": 0.7575000000000001,
          "yanchor": "middle",
          "yref": "paper"
         }
        ],
        "legend": {
         "title": {
          "text": "metric"
         },
         "tracegroupgap": 0
        },
        "margin": {
         "t": 60
        },
        "template": {
         "data": {
          "bar": [
           {
            "error_x": {
             "color": "#2a3f5f"
            },
            "error_y": {
             "color": "#2a3f5f"
            },
            "marker": {
             "line": {
              "color": "#E5ECF6",
              "width": 0.5
             },
             "pattern": {
              "fillmode": "overlay",
              "size": 10,
              "solidity": 0.2
             }
            },
            "type": "bar"
           }
          ],
          "barpolar": [
           {
            "marker": {
             "line": {
              "color": "#E5ECF6",
              "width": 0.5
             },
             "pattern": {
              "fillmode": "overlay",
              "size": 10,
              "solidity": 0.2
             }
            },
            "type": "barpolar"
           }
          ],
          "carpet": [
           {
            "aaxis": {
             "endlinecolor": "#2a3f5f",
             "gridcolor": "white",
             "linecolor": "white",
             "minorgridcolor": "white",
             "startlinecolor": "#2a3f5f"
            },
            "baxis": {
             "endlinecolor": "#2a3f5f",
             "gridcolor": "white",
             "linecolor": "white",
             "minorgridcolor": "white",
             "startlinecolor": "#2a3f5f"
            },
            "type": "carpet"
           }
          ],
          "choropleth": [
           {
            "colorbar": {
             "outlinewidth": 0,
             "ticks": ""
            },
            "type": "choropleth"
           }
          ],
          "contour": [
           {
            "colorbar": {
             "outlinewidth": 0,
             "ticks": ""
            },
            "colorscale": [
             [
              0,
              "#0d0887"
             ],
             [
              0.1111111111111111,
              "#46039f"
             ],
             [
              0.2222222222222222,
              "#7201a8"
             ],
             [
              0.3333333333333333,
              "#9c179e"
             ],
             [
              0.4444444444444444,
              "#bd3786"
             ],
             [
              0.5555555555555556,
              "#d8576b"
             ],
             [
              0.6666666666666666,
              "#ed7953"
             ],
             [
              0.7777777777777778,
              "#fb9f3a"
             ],
             [
              0.8888888888888888,
              "#fdca26"
             ],
             [
              1,
              "#f0f921"
             ]
            ],
            "type": "contour"
           }
          ],
          "contourcarpet": [
           {
            "colorbar": {
             "outlinewidth": 0,
             "ticks": ""
            },
            "type": "contourcarpet"
           }
          ],
          "heatmap": [
           {
            "colorbar": {
             "outlinewidth": 0,
             "ticks": ""
            },
            "colorscale": [
             [
              0,
              "#0d0887"
             ],
             [
              0.1111111111111111,
              "#46039f"
             ],
             [
              0.2222222222222222,
              "#7201a8"
             ],
             [
              0.3333333333333333,
              "#9c179e"
             ],
             [
              0.4444444444444444,
              "#bd3786"
             ],
             [
              0.5555555555555556,
              "#d8576b"
             ],
             [
              0.6666666666666666,
              "#ed7953"
             ],
             [
              0.7777777777777778,
              "#fb9f3a"
             ],
             [
              0.8888888888888888,
              "#fdca26"
             ],
             [
              1,
              "#f0f921"
             ]
            ],
            "type": "heatmap"
           }
          ],
          "heatmapgl": [
           {
            "colorbar": {
             "outlinewidth": 0,
             "ticks": ""
            },
            "colorscale": [
             [
              0,
              "#0d0887"
             ],
             [
              0.1111111111111111,
              "#46039f"
             ],
             [
              0.2222222222222222,
              "#7201a8"
             ],
             [
              0.3333333333333333,
              "#9c179e"
             ],
             [
              0.4444444444444444,
              "#bd3786"
             ],
             [
              0.5555555555555556,
              "#d8576b"
             ],
             [
              0.6666666666666666,
              "#ed7953"
             ],
             [
              0.7777777777777778,
              "#fb9f3a"
             ],
             [
              0.8888888888888888,
              "#fdca26"
             ],
             [
              1,
              "#f0f921"
             ]
            ],
            "type": "heatmapgl"
           }
          ],
          "histogram": [
           {
            "marker": {
             "pattern": {
              "fillmode": "overlay",
              "size": 10,
              "solidity": 0.2
             }
            },
            "type": "histogram"
           }
          ],
          "histogram2d": [
           {
            "colorbar": {
             "outlinewidth": 0,
             "ticks": ""
            },
            "colorscale": [
             [
              0,
              "#0d0887"
             ],
             [
              0.1111111111111111,
              "#46039f"
             ],
             [
              0.2222222222222222,
              "#7201a8"
             ],
             [
              0.3333333333333333,
              "#9c179e"
             ],
             [
              0.4444444444444444,
              "#bd3786"
             ],
             [
              0.5555555555555556,
              "#d8576b"
             ],
             [
              0.6666666666666666,
              "#ed7953"
             ],
             [
              0.7777777777777778,
              "#fb9f3a"
             ],
             [
              0.8888888888888888,
              "#fdca26"
             ],
             [
              1,
              "#f0f921"
             ]
            ],
            "type": "histogram2d"
           }
          ],
          "histogram2dcontour": [
           {
            "colorbar": {
             "outlinewidth": 0,
             "ticks": ""
            },
            "colorscale": [
             [
              0,
              "#0d0887"
             ],
             [
              0.1111111111111111,
              "#46039f"
             ],
             [
              0.2222222222222222,
              "#7201a8"
             ],
             [
              0.3333333333333333,
              "#9c179e"
             ],
             [
              0.4444444444444444,
              "#bd3786"
             ],
             [
              0.5555555555555556,
              "#d8576b"
             ],
             [
              0.6666666666666666,
              "#ed7953"
             ],
             [
              0.7777777777777778,
              "#fb9f3a"
             ],
             [
              0.8888888888888888,
              "#fdca26"
             ],
             [
              1,
              "#f0f921"
             ]
            ],
            "type": "histogram2dcontour"
           }
          ],
          "mesh3d": [
           {
            "colorbar": {
             "outlinewidth": 0,
             "ticks": ""
            },
            "type": "mesh3d"
           }
          ],
          "parcoords": [
           {
            "line": {
             "colorbar": {
              "outlinewidth": 0,
              "ticks": ""
             }
            },
            "type": "parcoords"
           }
          ],
          "pie": [
           {
            "automargin": true,
            "type": "pie"
           }
          ],
          "scatter": [
           {
            "fillpattern": {
             "fillmode": "overlay",
             "size": 10,
             "solidity": 0.2
            },
            "type": "scatter"
           }
          ],
          "scatter3d": [
           {
            "line": {
             "colorbar": {
              "outlinewidth": 0,
              "ticks": ""
             }
            },
            "marker": {
             "colorbar": {
              "outlinewidth": 0,
              "ticks": ""
             }
            },
            "type": "scatter3d"
           }
          ],
          "scattercarpet": [
           {
            "marker": {
             "colorbar": {
              "outlinewidth": 0,
              "ticks": ""
             }
            },
            "type": "scattercarpet"
           }
          ],
          "scattergeo": [
           {
            "marker": {
             "colorbar": {
              "outlinewidth": 0,
              "ticks": ""
             }
            },
            "type": "scattergeo"
           }
          ],
          "scattergl": [
           {
            "marker": {
             "colorbar": {
              "outlinewidth": 0,
              "ticks": ""
             }
            },
            "type": "scattergl"
           }
          ],
          "scattermapbox": [
           {
            "marker": {
             "colorbar": {
              "outlinewidth": 0,
              "ticks": ""
             }
            },
            "type": "scattermapbox"
           }
          ],
          "scatterpolar": [
           {
            "marker": {
             "colorbar": {
              "outlinewidth": 0,
              "ticks": ""
             }
            },
            "type": "scatterpolar"
           }
          ],
          "scatterpolargl": [
           {
            "marker": {
             "colorbar": {
              "outlinewidth": 0,
              "ticks": ""
             }
            },
            "type": "scatterpolargl"
           }
          ],
          "scatterternary": [
           {
            "marker": {
             "colorbar": {
              "outlinewidth": 0,
              "ticks": ""
             }
            },
            "type": "scatterternary"
           }
          ],
          "surface": [
           {
            "colorbar": {
             "outlinewidth": 0,
             "ticks": ""
            },
            "colorscale": [
             [
              0,
              "#0d0887"
             ],
             [
              0.1111111111111111,
              "#46039f"
             ],
             [
              0.2222222222222222,
              "#7201a8"
             ],
             [
              0.3333333333333333,
              "#9c179e"
             ],
             [
              0.4444444444444444,
              "#bd3786"
             ],
             [
              0.5555555555555556,
              "#d8576b"
             ],
             [
              0.6666666666666666,
              "#ed7953"
             ],
             [
              0.7777777777777778,
              "#fb9f3a"
             ],
             [
              0.8888888888888888,
              "#fdca26"
             ],
             [
              1,
              "#f0f921"
             ]
            ],
            "type": "surface"
           }
          ],
          "table": [
           {
            "cells": {
             "fill": {
              "color": "#EBF0F8"
             },
             "line": {
              "color": "white"
             }
            },
            "header": {
             "fill": {
              "color": "#C8D4E3"
             },
             "line": {
              "color": "white"
             }
            },
            "type": "table"
           }
          ]
         },
         "layout": {
          "annotationdefaults": {
           "arrowcolor": "#2a3f5f",
           "arrowhead": 0,
           "arrowwidth": 1
          },
          "autotypenumbers": "strict",
          "coloraxis": {
           "colorbar": {
            "outlinewidth": 0,
            "ticks": ""
           }
          },
          "colorscale": {
           "diverging": [
            [
             0,
             "#8e0152"
            ],
            [
             0.1,
             "#c51b7d"
            ],
            [
             0.2,
             "#de77ae"
            ],
            [
             0.3,
             "#f1b6da"
            ],
            [
             0.4,
             "#fde0ef"
            ],
            [
             0.5,
             "#f7f7f7"
            ],
            [
             0.6,
             "#e6f5d0"
            ],
            [
             0.7,
             "#b8e186"
            ],
            [
             0.8,
             "#7fbc41"
            ],
            [
             0.9,
             "#4d9221"
            ],
            [
             1,
             "#276419"
            ]
           ],
           "sequential": [
            [
             0,
             "#0d0887"
            ],
            [
             0.1111111111111111,
             "#46039f"
            ],
            [
             0.2222222222222222,
             "#7201a8"
            ],
            [
             0.3333333333333333,
             "#9c179e"
            ],
            [
             0.4444444444444444,
             "#bd3786"
            ],
            [
             0.5555555555555556,
             "#d8576b"
            ],
            [
             0.6666666666666666,
             "#ed7953"
            ],
            [
             0.7777777777777778,
             "#fb9f3a"
            ],
            [
             0.8888888888888888,
             "#fdca26"
            ],
            [
             1,
             "#f0f921"
            ]
           ],
           "sequentialminus": [
            [
             0,
             "#0d0887"
            ],
            [
             0.1111111111111111,
             "#46039f"
            ],
            [
             0.2222222222222222,
             "#7201a8"
            ],
            [
             0.3333333333333333,
             "#9c179e"
            ],
            [
             0.4444444444444444,
             "#bd3786"
            ],
            [
             0.5555555555555556,
             "#d8576b"
            ],
            [
             0.6666666666666666,
             "#ed7953"
            ],
            [
             0.7777777777777778,
             "#fb9f3a"
            ],
            [
             0.8888888888888888,
             "#fdca26"
            ],
            [
             1,
             "#f0f921"
            ]
           ]
          },
          "colorway": [
           "#636efa",
           "#EF553B",
           "#00cc96",
           "#ab63fa",
           "#FFA15A",
           "#19d3f3",
           "#FF6692",
           "#B6E880",
           "#FF97FF",
           "#FECB52"
          ],
          "font": {
           "color": "#2a3f5f"
          },
          "geo": {
           "bgcolor": "white",
           "lakecolor": "white",
           "landcolor": "#E5ECF6",
           "showlakes": true,
           "showland": true,
           "subunitcolor": "white"
          },
          "hoverlabel": {
           "align": "left"
          },
          "hovermode": "closest",
          "mapbox": {
           "style": "light"
          },
          "paper_bgcolor": "white",
          "plot_bgcolor": "#E5ECF6",
          "polar": {
           "angularaxis": {
            "gridcolor": "white",
            "linecolor": "white",
            "ticks": ""
           },
           "bgcolor": "#E5ECF6",
           "radialaxis": {
            "gridcolor": "white",
            "linecolor": "white",
            "ticks": ""
           }
          },
          "scene": {
           "xaxis": {
            "backgroundcolor": "#E5ECF6",
            "gridcolor": "white",
            "gridwidth": 2,
            "linecolor": "white",
            "showbackground": true,
            "ticks": "",
            "zerolinecolor": "white"
           },
           "yaxis": {
            "backgroundcolor": "#E5ECF6",
            "gridcolor": "white",
            "gridwidth": 2,
            "linecolor": "white",
            "showbackground": true,
            "ticks": "",
            "zerolinecolor": "white"
           },
           "zaxis": {
            "backgroundcolor": "#E5ECF6",
            "gridcolor": "white",
            "gridwidth": 2,
            "linecolor": "white",
            "showbackground": true,
            "ticks": "",
            "zerolinecolor": "white"
           }
          },
          "shapedefaults": {
           "line": {
            "color": "#2a3f5f"
           }
          },
          "ternary": {
           "aaxis": {
            "gridcolor": "white",
            "linecolor": "white",
            "ticks": ""
           },
           "baxis": {
            "gridcolor": "white",
            "linecolor": "white",
            "ticks": ""
           },
           "bgcolor": "#E5ECF6",
           "caxis": {
            "gridcolor": "white",
            "linecolor": "white",
            "ticks": ""
           }
          },
          "title": {
           "x": 0.05
          },
          "xaxis": {
           "automargin": true,
           "gridcolor": "white",
           "linecolor": "white",
           "ticks": "",
           "title": {
            "standoff": 15
           },
           "zerolinecolor": "white",
           "zerolinewidth": 2
          },
          "yaxis": {
           "automargin": true,
           "gridcolor": "white",
           "linecolor": "white",
           "ticks": "",
           "title": {
            "standoff": 15
           },
           "zerolinecolor": "white",
           "zerolinewidth": 2
          }
         }
        },
        "xaxis": {
         "anchor": "y",
         "domain": [
          0,
          0.98
         ],
         "title": {
          "text": "datetime"
         }
        },
        "xaxis2": {
         "anchor": "y2",
         "domain": [
          0,
          0.98
         ],
         "matches": "x",
         "showticklabels": false
        },
        "yaxis": {
         "anchor": "x",
         "domain": [
          0,
          0.485
         ],
         "title": {
          "text": "value"
         }
        },
        "yaxis2": {
         "anchor": "x2",
         "domain": [
          0.515,
          1
         ],
         "title": {
          "text": "value"
         }
        }
       }
      },
      "text/html": [
       "<div>                            <div id=\"c317c16a-4b65-40c0-9637-6934eb06c163\" class=\"plotly-graph-div\" style=\"height:525px; width:100%;\"></div>            <script type=\"text/javascript\">                require([\"plotly\"], function(Plotly) {                    window.PLOTLYENV=window.PLOTLYENV || {};                                    if (document.getElementById(\"c317c16a-4b65-40c0-9637-6934eb06c163\")) {                    Plotly.newPlot(                        \"c317c16a-4b65-40c0-9637-6934eb06c163\",                        [{\"hovertemplate\":\"metric=dcg\\u003cbr\\u003edatetime=%{x}\\u003cbr\\u003evalue=%{y}\\u003cextra\\u003e\\u003c\\u002fextra\\u003e\",\"legendgroup\":\"dcg\",\"line\":{\"color\":\"#636efa\",\"dash\":\"solid\"},\"marker\":{\"symbol\":\"circle\"},\"mode\":\"lines\",\"name\":\"dcg\",\"orientation\":\"v\",\"showlegend\":true,\"x\":[\"2024-06-25\",\"2024-06-26\",\"2024-06-27\",\"2024-06-28\",\"2024-06-29\",\"2024-06-30\",\"2024-07-01\"],\"xaxis\":\"x2\",\"y\":[0.5276906230962871,1.1683370511736235,0.8235632421465333,0.6314892823787792,0.6652673803077725,0.7221642124939176,0.8365977352144303],\"yaxis\":\"y2\",\"type\":\"scatter\"},{\"hovertemplate\":\"metric=prec@1\\u003cbr\\u003edatetime=%{x}\\u003cbr\\u003evalue=%{y}\\u003cextra\\u003e\\u003c\\u002fextra\\u003e\",\"legendgroup\":\"prec@1\",\"line\":{\"color\":\"#EF553B\",\"dash\":\"solid\"},\"marker\":{\"symbol\":\"circle\"},\"mode\":\"lines\",\"name\":\"prec@1\",\"orientation\":\"v\",\"showlegend\":true,\"x\":[\"2024-06-25\",\"2024-06-26\",\"2024-06-27\",\"2024-06-28\",\"2024-06-29\",\"2024-06-30\",\"2024-07-01\"],\"xaxis\":\"x\",\"y\":[0.4292,0.61625,0.5492,0.4727,0.4827,0.5136999999999999,0.54975],\"yaxis\":\"y\",\"type\":\"scatter\"}],                        {\"template\":{\"data\":{\"histogram2dcontour\":[{\"type\":\"histogram2dcontour\",\"colorbar\":{\"outlinewidth\":0,\"ticks\":\"\"},\"colorscale\":[[0.0,\"#0d0887\"],[0.1111111111111111,\"#46039f\"],[0.2222222222222222,\"#7201a8\"],[0.3333333333333333,\"#9c179e\"],[0.4444444444444444,\"#bd3786\"],[0.5555555555555556,\"#d8576b\"],[0.6666666666666666,\"#ed7953\"],[0.7777777777777778,\"#fb9f3a\"],[0.8888888888888888,\"#fdca26\"],[1.0,\"#f0f921\"]]}],\"choropleth\":[{\"type\":\"choropleth\",\"colorbar\":{\"outlinewidth\":0,\"ticks\":\"\"}}],\"histogram2d\":[{\"type\":\"histogram2d\",\"colorbar\":{\"outlinewidth\":0,\"ticks\":\"\"},\"colorscale\":[[0.0,\"#0d0887\"],[0.1111111111111111,\"#46039f\"],[0.2222222222222222,\"#7201a8\"],[0.3333333333333333,\"#9c179e\"],[0.4444444444444444,\"#bd3786\"],[0.5555555555555556,\"#d8576b\"],[0.6666666666666666,\"#ed7953\"],[0.7777777777777778,\"#fb9f3a\"],[0.8888888888888888,\"#fdca26\"],[1.0,\"#f0f921\"]]}],\"heatmap\":[{\"type\":\"heatmap\",\"colorbar\":{\"outlinewidth\":0,\"ticks\":\"\"},\"colorscale\":[[0.0,\"#0d0887\"],[0.1111111111111111,\"#46039f\"],[0.2222222222222222,\"#7201a8\"],[0.3333333333333333,\"#9c179e\"],[0.4444444444444444,\"#bd3786\"],[0.5555555555555556,\"#d8576b\"],[0.6666666666666666,\"#ed7953\"],[0.7777777777777778,\"#fb9f3a\"],[0.8888888888888888,\"#fdca26\"],[1.0,\"#f0f921\"]]}],\"heatmapgl\":[{\"type\":\"heatmapgl\",\"colorbar\":{\"outlinewidth\":0,\"ticks\":\"\"},\"colorscale\":[[0.0,\"#0d0887\"],[0.1111111111111111,\"#46039f\"],[0.2222222222222222,\"#7201a8\"],[0.3333333333333333,\"#9c179e\"],[0.4444444444444444,\"#bd3786\"],[0.5555555555555556,\"#d8576b\"],[0.6666666666666666,\"#ed7953\"],[0.7777777777777778,\"#fb9f3a\"],[0.8888888888888888,\"#fdca26\"],[1.0,\"#f0f921\"]]}],\"contourcarpet\":[{\"type\":\"contourcarpet\",\"colorbar\":{\"outlinewidth\":0,\"ticks\":\"\"}}],\"contour\":[{\"type\":\"contour\",\"colorbar\":{\"outlinewidth\":0,\"ticks\":\"\"},\"colorscale\":[[0.0,\"#0d0887\"],[0.1111111111111111,\"#46039f\"],[0.2222222222222222,\"#7201a8\"],[0.3333333333333333,\"#9c179e\"],[0.4444444444444444,\"#bd3786\"],[0.5555555555555556,\"#d8576b\"],[0.6666666666666666,\"#ed7953\"],[0.7777777777777778,\"#fb9f3a\"],[0.8888888888888888,\"#fdca26\"],[1.0,\"#f0f921\"]]}],\"surface\":[{\"type\":\"surface\",\"colorbar\":{\"outlinewidth\":0,\"ticks\":\"\"},\"colorscale\":[[0.0,\"#0d0887\"],[0.1111111111111111,\"#46039f\"],[0.2222222222222222,\"#7201a8\"],[0.3333333333333333,\"#9c179e\"],[0.4444444444444444,\"#bd3786\"],[0.5555555555555556,\"#d8576b\"],[0.6666666666666666,\"#ed7953\"],[0.7777777777777778,\"#fb9f3a\"],[0.8888888888888888,\"#fdca26\"],[1.0,\"#f0f921\"]]}],\"mesh3d\":[{\"type\":\"mesh3d\",\"colorbar\":{\"outlinewidth\":0,\"ticks\":\"\"}}],\"scatter\":[{\"fillpattern\":{\"fillmode\":\"overlay\",\"size\":10,\"solidity\":0.2},\"type\":\"scatter\"}],\"parcoords\":[{\"type\":\"parcoords\",\"line\":{\"colorbar\":{\"outlinewidth\":0,\"ticks\":\"\"}}}],\"scatterpolargl\":[{\"type\":\"scatterpolargl\",\"marker\":{\"colorbar\":{\"outlinewidth\":0,\"ticks\":\"\"}}}],\"bar\":[{\"error_x\":{\"color\":\"#2a3f5f\"},\"error_y\":{\"color\":\"#2a3f5f\"},\"marker\":{\"line\":{\"color\":\"#E5ECF6\",\"width\":0.5},\"pattern\":{\"fillmode\":\"overlay\",\"size\":10,\"solidity\":0.2}},\"type\":\"bar\"}],\"scattergeo\":[{\"type\":\"scattergeo\",\"marker\":{\"colorbar\":{\"outlinewidth\":0,\"ticks\":\"\"}}}],\"scatterpolar\":[{\"type\":\"scatterpolar\",\"marker\":{\"colorbar\":{\"outlinewidth\":0,\"ticks\":\"\"}}}],\"histogram\":[{\"marker\":{\"pattern\":{\"fillmode\":\"overlay\",\"size\":10,\"solidity\":0.2}},\"type\":\"histogram\"}],\"scattergl\":[{\"type\":\"scattergl\",\"marker\":{\"colorbar\":{\"outlinewidth\":0,\"ticks\":\"\"}}}],\"scatter3d\":[{\"type\":\"scatter3d\",\"line\":{\"colorbar\":{\"outlinewidth\":0,\"ticks\":\"\"}},\"marker\":{\"colorbar\":{\"outlinewidth\":0,\"ticks\":\"\"}}}],\"scattermapbox\":[{\"type\":\"scattermapbox\",\"marker\":{\"colorbar\":{\"outlinewidth\":0,\"ticks\":\"\"}}}],\"scatterternary\":[{\"type\":\"scatterternary\",\"marker\":{\"colorbar\":{\"outlinewidth\":0,\"ticks\":\"\"}}}],\"scattercarpet\":[{\"type\":\"scattercarpet\",\"marker\":{\"colorbar\":{\"outlinewidth\":0,\"ticks\":\"\"}}}],\"carpet\":[{\"aaxis\":{\"endlinecolor\":\"#2a3f5f\",\"gridcolor\":\"white\",\"linecolor\":\"white\",\"minorgridcolor\":\"white\",\"startlinecolor\":\"#2a3f5f\"},\"baxis\":{\"endlinecolor\":\"#2a3f5f\",\"gridcolor\":\"white\",\"linecolor\":\"white\",\"minorgridcolor\":\"white\",\"startlinecolor\":\"#2a3f5f\"},\"type\":\"carpet\"}],\"table\":[{\"cells\":{\"fill\":{\"color\":\"#EBF0F8\"},\"line\":{\"color\":\"white\"}},\"header\":{\"fill\":{\"color\":\"#C8D4E3\"},\"line\":{\"color\":\"white\"}},\"type\":\"table\"}],\"barpolar\":[{\"marker\":{\"line\":{\"color\":\"#E5ECF6\",\"width\":0.5},\"pattern\":{\"fillmode\":\"overlay\",\"size\":10,\"solidity\":0.2}},\"type\":\"barpolar\"}],\"pie\":[{\"automargin\":true,\"type\":\"pie\"}]},\"layout\":{\"autotypenumbers\":\"strict\",\"colorway\":[\"#636efa\",\"#EF553B\",\"#00cc96\",\"#ab63fa\",\"#FFA15A\",\"#19d3f3\",\"#FF6692\",\"#B6E880\",\"#FF97FF\",\"#FECB52\"],\"font\":{\"color\":\"#2a3f5f\"},\"hovermode\":\"closest\",\"hoverlabel\":{\"align\":\"left\"},\"paper_bgcolor\":\"white\",\"plot_bgcolor\":\"#E5ECF6\",\"polar\":{\"bgcolor\":\"#E5ECF6\",\"angularaxis\":{\"gridcolor\":\"white\",\"linecolor\":\"white\",\"ticks\":\"\"},\"radialaxis\":{\"gridcolor\":\"white\",\"linecolor\":\"white\",\"ticks\":\"\"}},\"ternary\":{\"bgcolor\":\"#E5ECF6\",\"aaxis\":{\"gridcolor\":\"white\",\"linecolor\":\"white\",\"ticks\":\"\"},\"baxis\":{\"gridcolor\":\"white\",\"linecolor\":\"white\",\"ticks\":\"\"},\"caxis\":{\"gridcolor\":\"white\",\"linecolor\":\"white\",\"ticks\":\"\"}},\"coloraxis\":{\"colorbar\":{\"outlinewidth\":0,\"ticks\":\"\"}},\"colorscale\":{\"sequential\":[[0.0,\"#0d0887\"],[0.1111111111111111,\"#46039f\"],[0.2222222222222222,\"#7201a8\"],[0.3333333333333333,\"#9c179e\"],[0.4444444444444444,\"#bd3786\"],[0.5555555555555556,\"#d8576b\"],[0.6666666666666666,\"#ed7953\"],[0.7777777777777778,\"#fb9f3a\"],[0.8888888888888888,\"#fdca26\"],[1.0,\"#f0f921\"]],\"sequentialminus\":[[0.0,\"#0d0887\"],[0.1111111111111111,\"#46039f\"],[0.2222222222222222,\"#7201a8\"],[0.3333333333333333,\"#9c179e\"],[0.4444444444444444,\"#bd3786\"],[0.5555555555555556,\"#d8576b\"],[0.6666666666666666,\"#ed7953\"],[0.7777777777777778,\"#fb9f3a\"],[0.8888888888888888,\"#fdca26\"],[1.0,\"#f0f921\"]],\"diverging\":[[0,\"#8e0152\"],[0.1,\"#c51b7d\"],[0.2,\"#de77ae\"],[0.3,\"#f1b6da\"],[0.4,\"#fde0ef\"],[0.5,\"#f7f7f7\"],[0.6,\"#e6f5d0\"],[0.7,\"#b8e186\"],[0.8,\"#7fbc41\"],[0.9,\"#4d9221\"],[1,\"#276419\"]]},\"xaxis\":{\"gridcolor\":\"white\",\"linecolor\":\"white\",\"ticks\":\"\",\"title\":{\"standoff\":15},\"zerolinecolor\":\"white\",\"automargin\":true,\"zerolinewidth\":2},\"yaxis\":{\"gridcolor\":\"white\",\"linecolor\":\"white\",\"ticks\":\"\",\"title\":{\"standoff\":15},\"zerolinecolor\":\"white\",\"automargin\":true,\"zerolinewidth\":2},\"scene\":{\"xaxis\":{\"backgroundcolor\":\"#E5ECF6\",\"gridcolor\":\"white\",\"linecolor\":\"white\",\"showbackground\":true,\"ticks\":\"\",\"zerolinecolor\":\"white\",\"gridwidth\":2},\"yaxis\":{\"backgroundcolor\":\"#E5ECF6\",\"gridcolor\":\"white\",\"linecolor\":\"white\",\"showbackground\":true,\"ticks\":\"\",\"zerolinecolor\":\"white\",\"gridwidth\":2},\"zaxis\":{\"backgroundcolor\":\"#E5ECF6\",\"gridcolor\":\"white\",\"linecolor\":\"white\",\"showbackground\":true,\"ticks\":\"\",\"zerolinecolor\":\"white\",\"gridwidth\":2}},\"shapedefaults\":{\"line\":{\"color\":\"#2a3f5f\"}},\"annotationdefaults\":{\"arrowcolor\":\"#2a3f5f\",\"arrowhead\":0,\"arrowwidth\":1},\"geo\":{\"bgcolor\":\"white\",\"landcolor\":\"#E5ECF6\",\"subunitcolor\":\"white\",\"showland\":true,\"showlakes\":true,\"lakecolor\":\"white\"},\"title\":{\"x\":0.05},\"mapbox\":{\"style\":\"light\"}}},\"xaxis\":{\"anchor\":\"y\",\"domain\":[0.0,0.98],\"title\":{\"text\":\"datetime\"}},\"yaxis\":{\"anchor\":\"x\",\"domain\":[0.0,0.485],\"title\":{\"text\":\"value\"}},\"xaxis2\":{\"anchor\":\"y2\",\"domain\":[0.0,0.98],\"matches\":\"x\",\"showticklabels\":false},\"yaxis2\":{\"anchor\":\"x2\",\"domain\":[0.515,1.0],\"title\":{\"text\":\"value\"}},\"annotations\":[{\"font\":{},\"showarrow\":false,\"text\":\"metric=prec@1\",\"textangle\":90,\"x\":0.98,\"xanchor\":\"left\",\"xref\":\"paper\",\"y\":0.2425,\"yanchor\":\"middle\",\"yref\":\"paper\"},{\"font\":{},\"showarrow\":false,\"text\":\"metric=dcg\",\"textangle\":90,\"x\":0.98,\"xanchor\":\"left\",\"xref\":\"paper\",\"y\":0.7575000000000001,\"yanchor\":\"middle\",\"yref\":\"paper\"}],\"legend\":{\"title\":{\"text\":\"metric\"},\"tracegroupgap\":0},\"margin\":{\"t\":60}},                        {\"responsive\": true}                    ).then(function(){\n",
       "                            \n",
       "var gd = document.getElementById('c317c16a-4b65-40c0-9637-6934eb06c163');\n",
       "var x = new MutationObserver(function (mutations, observer) {{\n",
       "        var display = window.getComputedStyle(gd).display;\n",
       "        if (!display || display === 'none') {{\n",
       "            console.log([gd, 'removed!']);\n",
       "            Plotly.purge(gd);\n",
       "            observer.disconnect();\n",
       "        }}\n",
       "}});\n",
       "\n",
       "// Listen for the removal of the full notebook cells\n",
       "var notebookContainer = gd.closest('#notebook-container');\n",
       "if (notebookContainer) {{\n",
       "    x.observe(notebookContainer, {childList: true});\n",
       "}}\n",
       "\n",
       "// Listen for the clearing of the current output cell\n",
       "var outputEl = gd.closest('.output');\n",
       "if (outputEl) {{\n",
       "    x.observe(outputEl, {childList: true});\n",
       "}}\n",
       "\n",
       "                        })                };                });            </script>        </div>"
      ]
     },
     "metadata": {},
     "output_type": "display_data"
    }
   ],
   "source": [
    "sel = df_metrics.search_config.isin([\"research_1\"])\n",
    "sel = sel & (df_metrics.metric.isin([\"prec@1\", \"dcg\"]))\n",
    "sel = sel & (df_metrics.query_set_id==\"sampled_queries\")\n",
    "cols = [\"search_config\", \"datetime\", \"metric\"]\n",
    "df = df_metrics[sel][cols + [\"value\"]].groupby(cols).mean().reset_index()\n",
    "\n",
    "fig = px.line(df, x=\"datetime\", y=\"value\", facet_row=\"metric\", color=\"metric\")\n",
    "fig.update_yaxes(matches=None)\n",
    "fig"
   ]
  },
  {
   "cell_type": "markdown",
   "id": "f45d3864",
   "metadata": {},
   "source": [
    "## Evaluating multiple search configurations"
   ]
  },
  {
   "cell_type": "code",
   "execution_count": 5,
   "id": "bce9ca31",
   "metadata": {
    "scrolled": false
   },
   "outputs": [
    {
     "data": {
      "application/vnd.plotly.v1+json": {
       "config": {
        "plotlyServerURL": "https://plot.ly"
       },
       "data": [
        {
         "hovertemplate": "search_config=challenger_1<br>metric=dcg<br>datetime=%{x}<br>value=%{y}<extra></extra>",
         "legendgroup": "challenger_1",
         "line": {
          "color": "#636efa",
          "dash": "solid"
         },
         "marker": {
          "symbol": "circle"
         },
         "mode": "lines",
         "name": "challenger_1",
         "orientation": "v",
         "showlegend": true,
         "type": "scatter",
         "x": [
          "2024-06-25",
          "2024-06-26",
          "2024-06-27",
          "2024-06-28",
          "2024-06-29",
          "2024-06-30",
          "2024-07-01"
         ],
         "xaxis": "x2",
         "y": [
          2.10976584120168,
          2.0795237894328853,
          2.188429011406437,
          2.177673869788854,
          1.9801690175885327,
          2.1609928589883074,
          2.21286779819295
         ],
         "yaxis": "y2"
        },
        {
         "hovertemplate": "search_config=challenger_1<br>metric=prec@1<br>datetime=%{x}<br>value=%{y}<extra></extra>",
         "legendgroup": "challenger_1",
         "line": {
          "color": "#636efa",
          "dash": "solid"
         },
         "marker": {
          "symbol": "circle"
         },
         "mode": "lines",
         "name": "challenger_1",
         "orientation": "v",
         "showlegend": false,
         "type": "scatter",
         "x": [
          "2024-06-25",
          "2024-06-26",
          "2024-06-27",
          "2024-06-28",
          "2024-06-29",
          "2024-06-30",
          "2024-07-01"
         ],
         "xaxis": "x",
         "y": [
          0.622,
          0.577,
          0.667,
          0.6265,
          0.48200000000000004,
          0.622,
          0.6214999999999999
         ],
         "yaxis": "y"
        },
        {
         "hovertemplate": "search_config=research_1<br>metric=dcg<br>datetime=%{x}<br>value=%{y}<extra></extra>",
         "legendgroup": "research_1",
         "line": {
          "color": "#EF553B",
          "dash": "solid"
         },
         "marker": {
          "symbol": "circle"
         },
         "mode": "lines",
         "name": "research_1",
         "orientation": "v",
         "showlegend": true,
         "type": "scatter",
         "x": [
          "2024-06-25",
          "2024-06-26",
          "2024-06-27",
          "2024-06-28",
          "2024-06-29",
          "2024-06-30",
          "2024-07-01"
         ],
         "xaxis": "x2",
         "y": [
          0.9328726831174261,
          0.9064261240568546,
          0.9317428143933604,
          0.9619355469702873,
          0.9296317874934473,
          0.8229209895248932,
          0.912652527265182
         ],
         "yaxis": "y2"
        },
        {
         "hovertemplate": "search_config=research_1<br>metric=prec@1<br>datetime=%{x}<br>value=%{y}<extra></extra>",
         "legendgroup": "research_1",
         "line": {
          "color": "#EF553B",
          "dash": "solid"
         },
         "marker": {
          "symbol": "circle"
         },
         "mode": "lines",
         "name": "research_1",
         "orientation": "v",
         "showlegend": false,
         "type": "scatter",
         "x": [
          "2024-06-25",
          "2024-06-26",
          "2024-06-27",
          "2024-06-28",
          "2024-06-29",
          "2024-06-30",
          "2024-07-01"
         ],
         "xaxis": "x",
         "y": [
          0.5805,
          0.576,
          0.5805,
          0.5805,
          0.576,
          0.4455,
          0.531
         ],
         "yaxis": "y"
        },
        {
         "hovertemplate": "search_config=research_2<br>metric=dcg<br>datetime=%{x}<br>value=%{y}<extra></extra>",
         "legendgroup": "research_2",
         "line": {
          "color": "#00cc96",
          "dash": "solid"
         },
         "marker": {
          "symbol": "circle"
         },
         "mode": "lines",
         "name": "research_2",
         "orientation": "v",
         "showlegend": true,
         "type": "scatter",
         "x": [
          "2024-06-25",
          "2024-06-26",
          "2024-06-27",
          "2024-06-28",
          "2024-06-29",
          "2024-06-30",
          "2024-07-01"
         ],
         "xaxis": "x2",
         "y": [
          1.8611765956603328,
          1.7484867257066863,
          1.8539010150546413,
          1.9329835215637643,
          1.7883823137681056,
          1.910302620448239,
          1.8933164103955573
         ],
         "yaxis": "y2"
        },
        {
         "hovertemplate": "search_config=research_2<br>metric=prec@1<br>datetime=%{x}<br>value=%{y}<extra></extra>",
         "legendgroup": "research_2",
         "line": {
          "color": "#00cc96",
          "dash": "solid"
         },
         "marker": {
          "symbol": "circle"
         },
         "mode": "lines",
         "name": "research_2",
         "orientation": "v",
         "showlegend": false,
         "type": "scatter",
         "x": [
          "2024-06-25",
          "2024-06-26",
          "2024-06-27",
          "2024-06-28",
          "2024-06-29",
          "2024-06-30",
          "2024-07-01"
         ],
         "xaxis": "x",
         "y": [
          0.6355000000000001,
          0.5905,
          0.6355000000000001,
          0.6849999999999999,
          0.5455,
          0.6355000000000001,
          0.6355000000000001
         ],
         "yaxis": "y"
        }
       ],
       "layout": {
        "annotations": [
         {
          "font": {},
          "showarrow": false,
          "text": "metric=prec@1",
          "textangle": 90,
          "x": 0.98,
          "xanchor": "left",
          "xref": "paper",
          "y": 0.2425,
          "yanchor": "middle",
          "yref": "paper"
         },
         {
          "font": {},
          "showarrow": false,
          "text": "metric=dcg",
          "textangle": 90,
          "x": 0.98,
          "xanchor": "left",
          "xref": "paper",
          "y": 0.7575000000000001,
          "yanchor": "middle",
          "yref": "paper"
         }
        ],
        "legend": {
         "title": {
          "text": "search_config"
         },
         "tracegroupgap": 0
        },
        "margin": {
         "t": 60
        },
        "template": {
         "data": {
          "bar": [
           {
            "error_x": {
             "color": "#2a3f5f"
            },
            "error_y": {
             "color": "#2a3f5f"
            },
            "marker": {
             "line": {
              "color": "#E5ECF6",
              "width": 0.5
             },
             "pattern": {
              "fillmode": "overlay",
              "size": 10,
              "solidity": 0.2
             }
            },
            "type": "bar"
           }
          ],
          "barpolar": [
           {
            "marker": {
             "line": {
              "color": "#E5ECF6",
              "width": 0.5
             },
             "pattern": {
              "fillmode": "overlay",
              "size": 10,
              "solidity": 0.2
             }
            },
            "type": "barpolar"
           }
          ],
          "carpet": [
           {
            "aaxis": {
             "endlinecolor": "#2a3f5f",
             "gridcolor": "white",
             "linecolor": "white",
             "minorgridcolor": "white",
             "startlinecolor": "#2a3f5f"
            },
            "baxis": {
             "endlinecolor": "#2a3f5f",
             "gridcolor": "white",
             "linecolor": "white",
             "minorgridcolor": "white",
             "startlinecolor": "#2a3f5f"
            },
            "type": "carpet"
           }
          ],
          "choropleth": [
           {
            "colorbar": {
             "outlinewidth": 0,
             "ticks": ""
            },
            "type": "choropleth"
           }
          ],
          "contour": [
           {
            "colorbar": {
             "outlinewidth": 0,
             "ticks": ""
            },
            "colorscale": [
             [
              0,
              "#0d0887"
             ],
             [
              0.1111111111111111,
              "#46039f"
             ],
             [
              0.2222222222222222,
              "#7201a8"
             ],
             [
              0.3333333333333333,
              "#9c179e"
             ],
             [
              0.4444444444444444,
              "#bd3786"
             ],
             [
              0.5555555555555556,
              "#d8576b"
             ],
             [
              0.6666666666666666,
              "#ed7953"
             ],
             [
              0.7777777777777778,
              "#fb9f3a"
             ],
             [
              0.8888888888888888,
              "#fdca26"
             ],
             [
              1,
              "#f0f921"
             ]
            ],
            "type": "contour"
           }
          ],
          "contourcarpet": [
           {
            "colorbar": {
             "outlinewidth": 0,
             "ticks": ""
            },
            "type": "contourcarpet"
           }
          ],
          "heatmap": [
           {
            "colorbar": {
             "outlinewidth": 0,
             "ticks": ""
            },
            "colorscale": [
             [
              0,
              "#0d0887"
             ],
             [
              0.1111111111111111,
              "#46039f"
             ],
             [
              0.2222222222222222,
              "#7201a8"
             ],
             [
              0.3333333333333333,
              "#9c179e"
             ],
             [
              0.4444444444444444,
              "#bd3786"
             ],
             [
              0.5555555555555556,
              "#d8576b"
             ],
             [
              0.6666666666666666,
              "#ed7953"
             ],
             [
              0.7777777777777778,
              "#fb9f3a"
             ],
             [
              0.8888888888888888,
              "#fdca26"
             ],
             [
              1,
              "#f0f921"
             ]
            ],
            "type": "heatmap"
           }
          ],
          "heatmapgl": [
           {
            "colorbar": {
             "outlinewidth": 0,
             "ticks": ""
            },
            "colorscale": [
             [
              0,
              "#0d0887"
             ],
             [
              0.1111111111111111,
              "#46039f"
             ],
             [
              0.2222222222222222,
              "#7201a8"
             ],
             [
              0.3333333333333333,
              "#9c179e"
             ],
             [
              0.4444444444444444,
              "#bd3786"
             ],
             [
              0.5555555555555556,
              "#d8576b"
             ],
             [
              0.6666666666666666,
              "#ed7953"
             ],
             [
              0.7777777777777778,
              "#fb9f3a"
             ],
             [
              0.8888888888888888,
              "#fdca26"
             ],
             [
              1,
              "#f0f921"
             ]
            ],
            "type": "heatmapgl"
           }
          ],
          "histogram": [
           {
            "marker": {
             "pattern": {
              "fillmode": "overlay",
              "size": 10,
              "solidity": 0.2
             }
            },
            "type": "histogram"
           }
          ],
          "histogram2d": [
           {
            "colorbar": {
             "outlinewidth": 0,
             "ticks": ""
            },
            "colorscale": [
             [
              0,
              "#0d0887"
             ],
             [
              0.1111111111111111,
              "#46039f"
             ],
             [
              0.2222222222222222,
              "#7201a8"
             ],
             [
              0.3333333333333333,
              "#9c179e"
             ],
             [
              0.4444444444444444,
              "#bd3786"
             ],
             [
              0.5555555555555556,
              "#d8576b"
             ],
             [
              0.6666666666666666,
              "#ed7953"
             ],
             [
              0.7777777777777778,
              "#fb9f3a"
             ],
             [
              0.8888888888888888,
              "#fdca26"
             ],
             [
              1,
              "#f0f921"
             ]
            ],
            "type": "histogram2d"
           }
          ],
          "histogram2dcontour": [
           {
            "colorbar": {
             "outlinewidth": 0,
             "ticks": ""
            },
            "colorscale": [
             [
              0,
              "#0d0887"
             ],
             [
              0.1111111111111111,
              "#46039f"
             ],
             [
              0.2222222222222222,
              "#7201a8"
             ],
             [
              0.3333333333333333,
              "#9c179e"
             ],
             [
              0.4444444444444444,
              "#bd3786"
             ],
             [
              0.5555555555555556,
              "#d8576b"
             ],
             [
              0.6666666666666666,
              "#ed7953"
             ],
             [
              0.7777777777777778,
              "#fb9f3a"
             ],
             [
              0.8888888888888888,
              "#fdca26"
             ],
             [
              1,
              "#f0f921"
             ]
            ],
            "type": "histogram2dcontour"
           }
          ],
          "mesh3d": [
           {
            "colorbar": {
             "outlinewidth": 0,
             "ticks": ""
            },
            "type": "mesh3d"
           }
          ],
          "parcoords": [
           {
            "line": {
             "colorbar": {
              "outlinewidth": 0,
              "ticks": ""
             }
            },
            "type": "parcoords"
           }
          ],
          "pie": [
           {
            "automargin": true,
            "type": "pie"
           }
          ],
          "scatter": [
           {
            "fillpattern": {
             "fillmode": "overlay",
             "size": 10,
             "solidity": 0.2
            },
            "type": "scatter"
           }
          ],
          "scatter3d": [
           {
            "line": {
             "colorbar": {
              "outlinewidth": 0,
              "ticks": ""
             }
            },
            "marker": {
             "colorbar": {
              "outlinewidth": 0,
              "ticks": ""
             }
            },
            "type": "scatter3d"
           }
          ],
          "scattercarpet": [
           {
            "marker": {
             "colorbar": {
              "outlinewidth": 0,
              "ticks": ""
             }
            },
            "type": "scattercarpet"
           }
          ],
          "scattergeo": [
           {
            "marker": {
             "colorbar": {
              "outlinewidth": 0,
              "ticks": ""
             }
            },
            "type": "scattergeo"
           }
          ],
          "scattergl": [
           {
            "marker": {
             "colorbar": {
              "outlinewidth": 0,
              "ticks": ""
             }
            },
            "type": "scattergl"
           }
          ],
          "scattermapbox": [
           {
            "marker": {
             "colorbar": {
              "outlinewidth": 0,
              "ticks": ""
             }
            },
            "type": "scattermapbox"
           }
          ],
          "scatterpolar": [
           {
            "marker": {
             "colorbar": {
              "outlinewidth": 0,
              "ticks": ""
             }
            },
            "type": "scatterpolar"
           }
          ],
          "scatterpolargl": [
           {
            "marker": {
             "colorbar": {
              "outlinewidth": 0,
              "ticks": ""
             }
            },
            "type": "scatterpolargl"
           }
          ],
          "scatterternary": [
           {
            "marker": {
             "colorbar": {
              "outlinewidth": 0,
              "ticks": ""
             }
            },
            "type": "scatterternary"
           }
          ],
          "surface": [
           {
            "colorbar": {
             "outlinewidth": 0,
             "ticks": ""
            },
            "colorscale": [
             [
              0,
              "#0d0887"
             ],
             [
              0.1111111111111111,
              "#46039f"
             ],
             [
              0.2222222222222222,
              "#7201a8"
             ],
             [
              0.3333333333333333,
              "#9c179e"
             ],
             [
              0.4444444444444444,
              "#bd3786"
             ],
             [
              0.5555555555555556,
              "#d8576b"
             ],
             [
              0.6666666666666666,
              "#ed7953"
             ],
             [
              0.7777777777777778,
              "#fb9f3a"
             ],
             [
              0.8888888888888888,
              "#fdca26"
             ],
             [
              1,
              "#f0f921"
             ]
            ],
            "type": "surface"
           }
          ],
          "table": [
           {
            "cells": {
             "fill": {
              "color": "#EBF0F8"
             },
             "line": {
              "color": "white"
             }
            },
            "header": {
             "fill": {
              "color": "#C8D4E3"
             },
             "line": {
              "color": "white"
             }
            },
            "type": "table"
           }
          ]
         },
         "layout": {
          "annotationdefaults": {
           "arrowcolor": "#2a3f5f",
           "arrowhead": 0,
           "arrowwidth": 1
          },
          "autotypenumbers": "strict",
          "coloraxis": {
           "colorbar": {
            "outlinewidth": 0,
            "ticks": ""
           }
          },
          "colorscale": {
           "diverging": [
            [
             0,
             "#8e0152"
            ],
            [
             0.1,
             "#c51b7d"
            ],
            [
             0.2,
             "#de77ae"
            ],
            [
             0.3,
             "#f1b6da"
            ],
            [
             0.4,
             "#fde0ef"
            ],
            [
             0.5,
             "#f7f7f7"
            ],
            [
             0.6,
             "#e6f5d0"
            ],
            [
             0.7,
             "#b8e186"
            ],
            [
             0.8,
             "#7fbc41"
            ],
            [
             0.9,
             "#4d9221"
            ],
            [
             1,
             "#276419"
            ]
           ],
           "sequential": [
            [
             0,
             "#0d0887"
            ],
            [
             0.1111111111111111,
             "#46039f"
            ],
            [
             0.2222222222222222,
             "#7201a8"
            ],
            [
             0.3333333333333333,
             "#9c179e"
            ],
            [
             0.4444444444444444,
             "#bd3786"
            ],
            [
             0.5555555555555556,
             "#d8576b"
            ],
            [
             0.6666666666666666,
             "#ed7953"
            ],
            [
             0.7777777777777778,
             "#fb9f3a"
            ],
            [
             0.8888888888888888,
             "#fdca26"
            ],
            [
             1,
             "#f0f921"
            ]
           ],
           "sequentialminus": [
            [
             0,
             "#0d0887"
            ],
            [
             0.1111111111111111,
             "#46039f"
            ],
            [
             0.2222222222222222,
             "#7201a8"
            ],
            [
             0.3333333333333333,
             "#9c179e"
            ],
            [
             0.4444444444444444,
             "#bd3786"
            ],
            [
             0.5555555555555556,
             "#d8576b"
            ],
            [
             0.6666666666666666,
             "#ed7953"
            ],
            [
             0.7777777777777778,
             "#fb9f3a"
            ],
            [
             0.8888888888888888,
             "#fdca26"
            ],
            [
             1,
             "#f0f921"
            ]
           ]
          },
          "colorway": [
           "#636efa",
           "#EF553B",
           "#00cc96",
           "#ab63fa",
           "#FFA15A",
           "#19d3f3",
           "#FF6692",
           "#B6E880",
           "#FF97FF",
           "#FECB52"
          ],
          "font": {
           "color": "#2a3f5f"
          },
          "geo": {
           "bgcolor": "white",
           "lakecolor": "white",
           "landcolor": "#E5ECF6",
           "showlakes": true,
           "showland": true,
           "subunitcolor": "white"
          },
          "hoverlabel": {
           "align": "left"
          },
          "hovermode": "closest",
          "mapbox": {
           "style": "light"
          },
          "paper_bgcolor": "white",
          "plot_bgcolor": "#E5ECF6",
          "polar": {
           "angularaxis": {
            "gridcolor": "white",
            "linecolor": "white",
            "ticks": ""
           },
           "bgcolor": "#E5ECF6",
           "radialaxis": {
            "gridcolor": "white",
            "linecolor": "white",
            "ticks": ""
           }
          },
          "scene": {
           "xaxis": {
            "backgroundcolor": "#E5ECF6",
            "gridcolor": "white",
            "gridwidth": 2,
            "linecolor": "white",
            "showbackground": true,
            "ticks": "",
            "zerolinecolor": "white"
           },
           "yaxis": {
            "backgroundcolor": "#E5ECF6",
            "gridcolor": "white",
            "gridwidth": 2,
            "linecolor": "white",
            "showbackground": true,
            "ticks": "",
            "zerolinecolor": "white"
           },
           "zaxis": {
            "backgroundcolor": "#E5ECF6",
            "gridcolor": "white",
            "gridwidth": 2,
            "linecolor": "white",
            "showbackground": true,
            "ticks": "",
            "zerolinecolor": "white"
           }
          },
          "shapedefaults": {
           "line": {
            "color": "#2a3f5f"
           }
          },
          "ternary": {
           "aaxis": {
            "gridcolor": "white",
            "linecolor": "white",
            "ticks": ""
           },
           "baxis": {
            "gridcolor": "white",
            "linecolor": "white",
            "ticks": ""
           },
           "bgcolor": "#E5ECF6",
           "caxis": {
            "gridcolor": "white",
            "linecolor": "white",
            "ticks": ""
           }
          },
          "title": {
           "x": 0.05
          },
          "xaxis": {
           "automargin": true,
           "gridcolor": "white",
           "linecolor": "white",
           "ticks": "",
           "title": {
            "standoff": 15
           },
           "zerolinecolor": "white",
           "zerolinewidth": 2
          },
          "yaxis": {
           "automargin": true,
           "gridcolor": "white",
           "linecolor": "white",
           "ticks": "",
           "title": {
            "standoff": 15
           },
           "zerolinecolor": "white",
           "zerolinewidth": 2
          }
         }
        },
        "xaxis": {
         "anchor": "y",
         "domain": [
          0,
          0.98
         ],
         "title": {
          "text": "datetime"
         }
        },
        "xaxis2": {
         "anchor": "y2",
         "domain": [
          0,
          0.98
         ],
         "matches": "x",
         "showticklabels": false
        },
        "yaxis": {
         "anchor": "x",
         "domain": [
          0,
          0.485
         ],
         "title": {
          "text": "value"
         }
        },
        "yaxis2": {
         "anchor": "x2",
         "domain": [
          0.515,
          1
         ],
         "title": {
          "text": "value"
         }
        }
       }
      },
      "text/html": [
       "<div>                            <div id=\"6bb95605-a94a-46f4-b919-43938569ee66\" class=\"plotly-graph-div\" style=\"height:525px; width:100%;\"></div>            <script type=\"text/javascript\">                require([\"plotly\"], function(Plotly) {                    window.PLOTLYENV=window.PLOTLYENV || {};                                    if (document.getElementById(\"6bb95605-a94a-46f4-b919-43938569ee66\")) {                    Plotly.newPlot(                        \"6bb95605-a94a-46f4-b919-43938569ee66\",                        [{\"hovertemplate\":\"search_config=challenger_1\\u003cbr\\u003emetric=dcg\\u003cbr\\u003edatetime=%{x}\\u003cbr\\u003evalue=%{y}\\u003cextra\\u003e\\u003c\\u002fextra\\u003e\",\"legendgroup\":\"challenger_1\",\"line\":{\"color\":\"#636efa\",\"dash\":\"solid\"},\"marker\":{\"symbol\":\"circle\"},\"mode\":\"lines\",\"name\":\"challenger_1\",\"orientation\":\"v\",\"showlegend\":true,\"x\":[\"2024-06-25\",\"2024-06-26\",\"2024-06-27\",\"2024-06-28\",\"2024-06-29\",\"2024-06-30\",\"2024-07-01\"],\"xaxis\":\"x2\",\"y\":[2.10976584120168,2.0795237894328853,2.188429011406437,2.177673869788854,1.9801690175885327,2.1609928589883074,2.21286779819295],\"yaxis\":\"y2\",\"type\":\"scatter\"},{\"hovertemplate\":\"search_config=challenger_1\\u003cbr\\u003emetric=prec@1\\u003cbr\\u003edatetime=%{x}\\u003cbr\\u003evalue=%{y}\\u003cextra\\u003e\\u003c\\u002fextra\\u003e\",\"legendgroup\":\"challenger_1\",\"line\":{\"color\":\"#636efa\",\"dash\":\"solid\"},\"marker\":{\"symbol\":\"circle\"},\"mode\":\"lines\",\"name\":\"challenger_1\",\"orientation\":\"v\",\"showlegend\":false,\"x\":[\"2024-06-25\",\"2024-06-26\",\"2024-06-27\",\"2024-06-28\",\"2024-06-29\",\"2024-06-30\",\"2024-07-01\"],\"xaxis\":\"x\",\"y\":[0.622,0.577,0.667,0.6265,0.48200000000000004,0.622,0.6214999999999999],\"yaxis\":\"y\",\"type\":\"scatter\"},{\"hovertemplate\":\"search_config=research_1\\u003cbr\\u003emetric=dcg\\u003cbr\\u003edatetime=%{x}\\u003cbr\\u003evalue=%{y}\\u003cextra\\u003e\\u003c\\u002fextra\\u003e\",\"legendgroup\":\"research_1\",\"line\":{\"color\":\"#EF553B\",\"dash\":\"solid\"},\"marker\":{\"symbol\":\"circle\"},\"mode\":\"lines\",\"name\":\"research_1\",\"orientation\":\"v\",\"showlegend\":true,\"x\":[\"2024-06-25\",\"2024-06-26\",\"2024-06-27\",\"2024-06-28\",\"2024-06-29\",\"2024-06-30\",\"2024-07-01\"],\"xaxis\":\"x2\",\"y\":[0.9328726831174261,0.9064261240568546,0.9317428143933604,0.9619355469702873,0.9296317874934473,0.8229209895248932,0.912652527265182],\"yaxis\":\"y2\",\"type\":\"scatter\"},{\"hovertemplate\":\"search_config=research_1\\u003cbr\\u003emetric=prec@1\\u003cbr\\u003edatetime=%{x}\\u003cbr\\u003evalue=%{y}\\u003cextra\\u003e\\u003c\\u002fextra\\u003e\",\"legendgroup\":\"research_1\",\"line\":{\"color\":\"#EF553B\",\"dash\":\"solid\"},\"marker\":{\"symbol\":\"circle\"},\"mode\":\"lines\",\"name\":\"research_1\",\"orientation\":\"v\",\"showlegend\":false,\"x\":[\"2024-06-25\",\"2024-06-26\",\"2024-06-27\",\"2024-06-28\",\"2024-06-29\",\"2024-06-30\",\"2024-07-01\"],\"xaxis\":\"x\",\"y\":[0.5805,0.576,0.5805,0.5805,0.576,0.4455,0.531],\"yaxis\":\"y\",\"type\":\"scatter\"},{\"hovertemplate\":\"search_config=research_2\\u003cbr\\u003emetric=dcg\\u003cbr\\u003edatetime=%{x}\\u003cbr\\u003evalue=%{y}\\u003cextra\\u003e\\u003c\\u002fextra\\u003e\",\"legendgroup\":\"research_2\",\"line\":{\"color\":\"#00cc96\",\"dash\":\"solid\"},\"marker\":{\"symbol\":\"circle\"},\"mode\":\"lines\",\"name\":\"research_2\",\"orientation\":\"v\",\"showlegend\":true,\"x\":[\"2024-06-25\",\"2024-06-26\",\"2024-06-27\",\"2024-06-28\",\"2024-06-29\",\"2024-06-30\",\"2024-07-01\"],\"xaxis\":\"x2\",\"y\":[1.8611765956603328,1.7484867257066863,1.8539010150546413,1.9329835215637643,1.7883823137681056,1.910302620448239,1.8933164103955573],\"yaxis\":\"y2\",\"type\":\"scatter\"},{\"hovertemplate\":\"search_config=research_2\\u003cbr\\u003emetric=prec@1\\u003cbr\\u003edatetime=%{x}\\u003cbr\\u003evalue=%{y}\\u003cextra\\u003e\\u003c\\u002fextra\\u003e\",\"legendgroup\":\"research_2\",\"line\":{\"color\":\"#00cc96\",\"dash\":\"solid\"},\"marker\":{\"symbol\":\"circle\"},\"mode\":\"lines\",\"name\":\"research_2\",\"orientation\":\"v\",\"showlegend\":false,\"x\":[\"2024-06-25\",\"2024-06-26\",\"2024-06-27\",\"2024-06-28\",\"2024-06-29\",\"2024-06-30\",\"2024-07-01\"],\"xaxis\":\"x\",\"y\":[0.6355000000000001,0.5905,0.6355000000000001,0.6849999999999999,0.5455,0.6355000000000001,0.6355000000000001],\"yaxis\":\"y\",\"type\":\"scatter\"}],                        {\"template\":{\"data\":{\"histogram2dcontour\":[{\"type\":\"histogram2dcontour\",\"colorbar\":{\"outlinewidth\":0,\"ticks\":\"\"},\"colorscale\":[[0.0,\"#0d0887\"],[0.1111111111111111,\"#46039f\"],[0.2222222222222222,\"#7201a8\"],[0.3333333333333333,\"#9c179e\"],[0.4444444444444444,\"#bd3786\"],[0.5555555555555556,\"#d8576b\"],[0.6666666666666666,\"#ed7953\"],[0.7777777777777778,\"#fb9f3a\"],[0.8888888888888888,\"#fdca26\"],[1.0,\"#f0f921\"]]}],\"choropleth\":[{\"type\":\"choropleth\",\"colorbar\":{\"outlinewidth\":0,\"ticks\":\"\"}}],\"histogram2d\":[{\"type\":\"histogram2d\",\"colorbar\":{\"outlinewidth\":0,\"ticks\":\"\"},\"colorscale\":[[0.0,\"#0d0887\"],[0.1111111111111111,\"#46039f\"],[0.2222222222222222,\"#7201a8\"],[0.3333333333333333,\"#9c179e\"],[0.4444444444444444,\"#bd3786\"],[0.5555555555555556,\"#d8576b\"],[0.6666666666666666,\"#ed7953\"],[0.7777777777777778,\"#fb9f3a\"],[0.8888888888888888,\"#fdca26\"],[1.0,\"#f0f921\"]]}],\"heatmap\":[{\"type\":\"heatmap\",\"colorbar\":{\"outlinewidth\":0,\"ticks\":\"\"},\"colorscale\":[[0.0,\"#0d0887\"],[0.1111111111111111,\"#46039f\"],[0.2222222222222222,\"#7201a8\"],[0.3333333333333333,\"#9c179e\"],[0.4444444444444444,\"#bd3786\"],[0.5555555555555556,\"#d8576b\"],[0.6666666666666666,\"#ed7953\"],[0.7777777777777778,\"#fb9f3a\"],[0.8888888888888888,\"#fdca26\"],[1.0,\"#f0f921\"]]}],\"heatmapgl\":[{\"type\":\"heatmapgl\",\"colorbar\":{\"outlinewidth\":0,\"ticks\":\"\"},\"colorscale\":[[0.0,\"#0d0887\"],[0.1111111111111111,\"#46039f\"],[0.2222222222222222,\"#7201a8\"],[0.3333333333333333,\"#9c179e\"],[0.4444444444444444,\"#bd3786\"],[0.5555555555555556,\"#d8576b\"],[0.6666666666666666,\"#ed7953\"],[0.7777777777777778,\"#fb9f3a\"],[0.8888888888888888,\"#fdca26\"],[1.0,\"#f0f921\"]]}],\"contourcarpet\":[{\"type\":\"contourcarpet\",\"colorbar\":{\"outlinewidth\":0,\"ticks\":\"\"}}],\"contour\":[{\"type\":\"contour\",\"colorbar\":{\"outlinewidth\":0,\"ticks\":\"\"},\"colorscale\":[[0.0,\"#0d0887\"],[0.1111111111111111,\"#46039f\"],[0.2222222222222222,\"#7201a8\"],[0.3333333333333333,\"#9c179e\"],[0.4444444444444444,\"#bd3786\"],[0.5555555555555556,\"#d8576b\"],[0.6666666666666666,\"#ed7953\"],[0.7777777777777778,\"#fb9f3a\"],[0.8888888888888888,\"#fdca26\"],[1.0,\"#f0f921\"]]}],\"surface\":[{\"type\":\"surface\",\"colorbar\":{\"outlinewidth\":0,\"ticks\":\"\"},\"colorscale\":[[0.0,\"#0d0887\"],[0.1111111111111111,\"#46039f\"],[0.2222222222222222,\"#7201a8\"],[0.3333333333333333,\"#9c179e\"],[0.4444444444444444,\"#bd3786\"],[0.5555555555555556,\"#d8576b\"],[0.6666666666666666,\"#ed7953\"],[0.7777777777777778,\"#fb9f3a\"],[0.8888888888888888,\"#fdca26\"],[1.0,\"#f0f921\"]]}],\"mesh3d\":[{\"type\":\"mesh3d\",\"colorbar\":{\"outlinewidth\":0,\"ticks\":\"\"}}],\"scatter\":[{\"fillpattern\":{\"fillmode\":\"overlay\",\"size\":10,\"solidity\":0.2},\"type\":\"scatter\"}],\"parcoords\":[{\"type\":\"parcoords\",\"line\":{\"colorbar\":{\"outlinewidth\":0,\"ticks\":\"\"}}}],\"scatterpolargl\":[{\"type\":\"scatterpolargl\",\"marker\":{\"colorbar\":{\"outlinewidth\":0,\"ticks\":\"\"}}}],\"bar\":[{\"error_x\":{\"color\":\"#2a3f5f\"},\"error_y\":{\"color\":\"#2a3f5f\"},\"marker\":{\"line\":{\"color\":\"#E5ECF6\",\"width\":0.5},\"pattern\":{\"fillmode\":\"overlay\",\"size\":10,\"solidity\":0.2}},\"type\":\"bar\"}],\"scattergeo\":[{\"type\":\"scattergeo\",\"marker\":{\"colorbar\":{\"outlinewidth\":0,\"ticks\":\"\"}}}],\"scatterpolar\":[{\"type\":\"scatterpolar\",\"marker\":{\"colorbar\":{\"outlinewidth\":0,\"ticks\":\"\"}}}],\"histogram\":[{\"marker\":{\"pattern\":{\"fillmode\":\"overlay\",\"size\":10,\"solidity\":0.2}},\"type\":\"histogram\"}],\"scattergl\":[{\"type\":\"scattergl\",\"marker\":{\"colorbar\":{\"outlinewidth\":0,\"ticks\":\"\"}}}],\"scatter3d\":[{\"type\":\"scatter3d\",\"line\":{\"colorbar\":{\"outlinewidth\":0,\"ticks\":\"\"}},\"marker\":{\"colorbar\":{\"outlinewidth\":0,\"ticks\":\"\"}}}],\"scattermapbox\":[{\"type\":\"scattermapbox\",\"marker\":{\"colorbar\":{\"outlinewidth\":0,\"ticks\":\"\"}}}],\"scatterternary\":[{\"type\":\"scatterternary\",\"marker\":{\"colorbar\":{\"outlinewidth\":0,\"ticks\":\"\"}}}],\"scattercarpet\":[{\"type\":\"scattercarpet\",\"marker\":{\"colorbar\":{\"outlinewidth\":0,\"ticks\":\"\"}}}],\"carpet\":[{\"aaxis\":{\"endlinecolor\":\"#2a3f5f\",\"gridcolor\":\"white\",\"linecolor\":\"white\",\"minorgridcolor\":\"white\",\"startlinecolor\":\"#2a3f5f\"},\"baxis\":{\"endlinecolor\":\"#2a3f5f\",\"gridcolor\":\"white\",\"linecolor\":\"white\",\"minorgridcolor\":\"white\",\"startlinecolor\":\"#2a3f5f\"},\"type\":\"carpet\"}],\"table\":[{\"cells\":{\"fill\":{\"color\":\"#EBF0F8\"},\"line\":{\"color\":\"white\"}},\"header\":{\"fill\":{\"color\":\"#C8D4E3\"},\"line\":{\"color\":\"white\"}},\"type\":\"table\"}],\"barpolar\":[{\"marker\":{\"line\":{\"color\":\"#E5ECF6\",\"width\":0.5},\"pattern\":{\"fillmode\":\"overlay\",\"size\":10,\"solidity\":0.2}},\"type\":\"barpolar\"}],\"pie\":[{\"automargin\":true,\"type\":\"pie\"}]},\"layout\":{\"autotypenumbers\":\"strict\",\"colorway\":[\"#636efa\",\"#EF553B\",\"#00cc96\",\"#ab63fa\",\"#FFA15A\",\"#19d3f3\",\"#FF6692\",\"#B6E880\",\"#FF97FF\",\"#FECB52\"],\"font\":{\"color\":\"#2a3f5f\"},\"hovermode\":\"closest\",\"hoverlabel\":{\"align\":\"left\"},\"paper_bgcolor\":\"white\",\"plot_bgcolor\":\"#E5ECF6\",\"polar\":{\"bgcolor\":\"#E5ECF6\",\"angularaxis\":{\"gridcolor\":\"white\",\"linecolor\":\"white\",\"ticks\":\"\"},\"radialaxis\":{\"gridcolor\":\"white\",\"linecolor\":\"white\",\"ticks\":\"\"}},\"ternary\":{\"bgcolor\":\"#E5ECF6\",\"aaxis\":{\"gridcolor\":\"white\",\"linecolor\":\"white\",\"ticks\":\"\"},\"baxis\":{\"gridcolor\":\"white\",\"linecolor\":\"white\",\"ticks\":\"\"},\"caxis\":{\"gridcolor\":\"white\",\"linecolor\":\"white\",\"ticks\":\"\"}},\"coloraxis\":{\"colorbar\":{\"outlinewidth\":0,\"ticks\":\"\"}},\"colorscale\":{\"sequential\":[[0.0,\"#0d0887\"],[0.1111111111111111,\"#46039f\"],[0.2222222222222222,\"#7201a8\"],[0.3333333333333333,\"#9c179e\"],[0.4444444444444444,\"#bd3786\"],[0.5555555555555556,\"#d8576b\"],[0.6666666666666666,\"#ed7953\"],[0.7777777777777778,\"#fb9f3a\"],[0.8888888888888888,\"#fdca26\"],[1.0,\"#f0f921\"]],\"sequentialminus\":[[0.0,\"#0d0887\"],[0.1111111111111111,\"#46039f\"],[0.2222222222222222,\"#7201a8\"],[0.3333333333333333,\"#9c179e\"],[0.4444444444444444,\"#bd3786\"],[0.5555555555555556,\"#d8576b\"],[0.6666666666666666,\"#ed7953\"],[0.7777777777777778,\"#fb9f3a\"],[0.8888888888888888,\"#fdca26\"],[1.0,\"#f0f921\"]],\"diverging\":[[0,\"#8e0152\"],[0.1,\"#c51b7d\"],[0.2,\"#de77ae\"],[0.3,\"#f1b6da\"],[0.4,\"#fde0ef\"],[0.5,\"#f7f7f7\"],[0.6,\"#e6f5d0\"],[0.7,\"#b8e186\"],[0.8,\"#7fbc41\"],[0.9,\"#4d9221\"],[1,\"#276419\"]]},\"xaxis\":{\"gridcolor\":\"white\",\"linecolor\":\"white\",\"ticks\":\"\",\"title\":{\"standoff\":15},\"zerolinecolor\":\"white\",\"automargin\":true,\"zerolinewidth\":2},\"yaxis\":{\"gridcolor\":\"white\",\"linecolor\":\"white\",\"ticks\":\"\",\"title\":{\"standoff\":15},\"zerolinecolor\":\"white\",\"automargin\":true,\"zerolinewidth\":2},\"scene\":{\"xaxis\":{\"backgroundcolor\":\"#E5ECF6\",\"gridcolor\":\"white\",\"linecolor\":\"white\",\"showbackground\":true,\"ticks\":\"\",\"zerolinecolor\":\"white\",\"gridwidth\":2},\"yaxis\":{\"backgroundcolor\":\"#E5ECF6\",\"gridcolor\":\"white\",\"linecolor\":\"white\",\"showbackground\":true,\"ticks\":\"\",\"zerolinecolor\":\"white\",\"gridwidth\":2},\"zaxis\":{\"backgroundcolor\":\"#E5ECF6\",\"gridcolor\":\"white\",\"linecolor\":\"white\",\"showbackground\":true,\"ticks\":\"\",\"zerolinecolor\":\"white\",\"gridwidth\":2}},\"shapedefaults\":{\"line\":{\"color\":\"#2a3f5f\"}},\"annotationdefaults\":{\"arrowcolor\":\"#2a3f5f\",\"arrowhead\":0,\"arrowwidth\":1},\"geo\":{\"bgcolor\":\"white\",\"landcolor\":\"#E5ECF6\",\"subunitcolor\":\"white\",\"showland\":true,\"showlakes\":true,\"lakecolor\":\"white\"},\"title\":{\"x\":0.05},\"mapbox\":{\"style\":\"light\"}}},\"xaxis\":{\"anchor\":\"y\",\"domain\":[0.0,0.98],\"title\":{\"text\":\"datetime\"}},\"yaxis\":{\"anchor\":\"x\",\"domain\":[0.0,0.485],\"title\":{\"text\":\"value\"}},\"xaxis2\":{\"anchor\":\"y2\",\"domain\":[0.0,0.98],\"matches\":\"x\",\"showticklabels\":false},\"yaxis2\":{\"anchor\":\"x2\",\"domain\":[0.515,1.0],\"title\":{\"text\":\"value\"}},\"annotations\":[{\"font\":{},\"showarrow\":false,\"text\":\"metric=prec@1\",\"textangle\":90,\"x\":0.98,\"xanchor\":\"left\",\"xref\":\"paper\",\"y\":0.2425,\"yanchor\":\"middle\",\"yref\":\"paper\"},{\"font\":{},\"showarrow\":false,\"text\":\"metric=dcg\",\"textangle\":90,\"x\":0.98,\"xanchor\":\"left\",\"xref\":\"paper\",\"y\":0.7575000000000001,\"yanchor\":\"middle\",\"yref\":\"paper\"}],\"legend\":{\"title\":{\"text\":\"search_config\"},\"tracegroupgap\":0},\"margin\":{\"t\":60}},                        {\"responsive\": true}                    ).then(function(){\n",
       "                            \n",
       "var gd = document.getElementById('6bb95605-a94a-46f4-b919-43938569ee66');\n",
       "var x = new MutationObserver(function (mutations, observer) {{\n",
       "        var display = window.getComputedStyle(gd).display;\n",
       "        if (!display || display === 'none') {{\n",
       "            console.log([gd, 'removed!']);\n",
       "            Plotly.purge(gd);\n",
       "            observer.disconnect();\n",
       "        }}\n",
       "}});\n",
       "\n",
       "// Listen for the removal of the full notebook cells\n",
       "var notebookContainer = gd.closest('#notebook-container');\n",
       "if (notebookContainer) {{\n",
       "    x.observe(notebookContainer, {childList: true});\n",
       "}}\n",
       "\n",
       "// Listen for the clearing of the current output cell\n",
       "var outputEl = gd.closest('.output');\n",
       "if (outputEl) {{\n",
       "    x.observe(outputEl, {childList: true});\n",
       "}}\n",
       "\n",
       "                        })                };                });            </script>        </div>"
      ]
     },
     "metadata": {},
     "output_type": "display_data"
    }
   ],
   "source": [
    "sel = df_metrics.search_config.isin([\"research_1\", \"research_2\", \"challenger_1\"])\n",
    "sel = sel & (df_metrics.metric.isin([\"prec@1\", \"dcg\"]))\n",
    "cols = [\"search_config\", \"datetime\", \"metric\"]\n",
    "df = df_metrics[sel][cols + [\"value\"]].groupby(cols).mean().reset_index()\n",
    "\n",
    "fig = px.line(df, x=\"datetime\", y=\"value\", color=\"search_config\", facet_row=\"metric\")\n",
    "fig.update_yaxes(matches=None)\n",
    "fig"
   ]
  },
  {
   "cell_type": "code",
   "execution_count": 6,
   "id": "8c7c7016",
   "metadata": {},
   "outputs": [
    {
     "data": {
      "application/vnd.plotly.v1+json": {
       "config": {
        "plotlyServerURL": "https://plot.ly"
       },
       "data": [
        {
         "alignmentgroup": "True",
         "box": {
          "visible": false
         },
         "customdata": [
          [
           "jaccard",
           "4t camo sweat shirt",
           "2024-06-25"
          ],
          [
           "jaccard",
           "all day office chair",
           "2024-06-25"
          ],
          [
           "jaccard",
           "bluray movie collection",
           "2024-06-25"
          ],
          [
           "jaccard",
           "citizen limited edition",
           "2024-06-25"
          ],
          [
           "jaccard",
           "cruz comunion niño",
           "2024-06-25"
          ],
          [
           "jaccard",
           "explorer k2",
           "2024-06-25"
          ],
          [
           "jaccard",
           "fishing pole",
           "2024-06-25"
          ],
          [
           "jaccard",
           "gold shirt women",
           "2024-06-25"
          ],
          [
           "jaccard",
           "green wall decals",
           "2024-06-25"
          ],
          [
           "jaccard",
           "habitrail ovo twist",
           "2024-06-25"
          ],
          [
           "jaccard",
           "nail light",
           "2024-06-25"
          ],
          [
           "jaccard",
           "northface hydration packs",
           "2024-06-25"
          ],
          [
           "jaccard",
           "one man and his dog",
           "2024-06-25"
          ],
          [
           "jaccard",
           "small dog muzzle",
           "2024-06-25"
          ],
          [
           "jaccard",
           "vape pen",
           "2024-06-25"
          ],
          [
           "jaccard",
           "ゆうびん番号枠入り はがき 切手なし",
           "2024-06-25"
          ],
          [
           "jaccard",
           "エプロン 子供",
           "2024-06-25"
          ],
          [
           "jaccard",
           "スマホ レーダー探知機",
           "2024-06-25"
          ],
          [
           "jaccard",
           "新米",
           "2024-06-25"
          ],
          [
           "jaccard",
           "舞台 アイシャドウ",
           "2024-06-25"
          ],
          [
           "jaccard",
           "4t camo sweat shirt",
           "2024-06-26"
          ],
          [
           "jaccard",
           "all day office chair",
           "2024-06-26"
          ],
          [
           "jaccard",
           "bluray movie collection",
           "2024-06-26"
          ],
          [
           "jaccard",
           "citizen limited edition",
           "2024-06-26"
          ],
          [
           "jaccard",
           "cruz comunion niño",
           "2024-06-26"
          ],
          [
           "jaccard",
           "explorer k2",
           "2024-06-26"
          ],
          [
           "jaccard",
           "fishing pole",
           "2024-06-26"
          ],
          [
           "jaccard",
           "gold shirt women",
           "2024-06-26"
          ],
          [
           "jaccard",
           "green wall decals",
           "2024-06-26"
          ],
          [
           "jaccard",
           "habitrail ovo twist",
           "2024-06-26"
          ],
          [
           "jaccard",
           "nail light",
           "2024-06-26"
          ],
          [
           "jaccard",
           "northface hydration packs",
           "2024-06-26"
          ],
          [
           "jaccard",
           "one man and his dog",
           "2024-06-26"
          ],
          [
           "jaccard",
           "small dog muzzle",
           "2024-06-26"
          ],
          [
           "jaccard",
           "vape pen",
           "2024-06-26"
          ],
          [
           "jaccard",
           "ゆうびん番号枠入り はがき 切手なし",
           "2024-06-26"
          ],
          [
           "jaccard",
           "エプロン 子供",
           "2024-06-26"
          ],
          [
           "jaccard",
           "スマホ レーダー探知機",
           "2024-06-26"
          ],
          [
           "jaccard",
           "新米",
           "2024-06-26"
          ],
          [
           "jaccard",
           "舞台 アイシャドウ",
           "2024-06-26"
          ],
          [
           "jaccard",
           "4t camo sweat shirt",
           "2024-06-27"
          ],
          [
           "jaccard",
           "all day office chair",
           "2024-06-27"
          ],
          [
           "jaccard",
           "bluray movie collection",
           "2024-06-27"
          ],
          [
           "jaccard",
           "citizen limited edition",
           "2024-06-27"
          ],
          [
           "jaccard",
           "cruz comunion niño",
           "2024-06-27"
          ],
          [
           "jaccard",
           "explorer k2",
           "2024-06-27"
          ],
          [
           "jaccard",
           "fishing pole",
           "2024-06-27"
          ],
          [
           "jaccard",
           "gold shirt women",
           "2024-06-27"
          ],
          [
           "jaccard",
           "green wall decals",
           "2024-06-27"
          ],
          [
           "jaccard",
           "habitrail ovo twist",
           "2024-06-27"
          ],
          [
           "jaccard",
           "nail light",
           "2024-06-27"
          ],
          [
           "jaccard",
           "northface hydration packs",
           "2024-06-27"
          ],
          [
           "jaccard",
           "one man and his dog",
           "2024-06-27"
          ],
          [
           "jaccard",
           "small dog muzzle",
           "2024-06-27"
          ],
          [
           "jaccard",
           "vape pen",
           "2024-06-27"
          ],
          [
           "jaccard",
           "ゆうびん番号枠入り はがき 切手なし",
           "2024-06-27"
          ],
          [
           "jaccard",
           "エプロン 子供",
           "2024-06-27"
          ],
          [
           "jaccard",
           "スマホ レーダー探知機",
           "2024-06-27"
          ],
          [
           "jaccard",
           "新米",
           "2024-06-27"
          ],
          [
           "jaccard",
           "舞台 アイシャドウ",
           "2024-06-27"
          ],
          [
           "jaccard",
           "4t camo sweat shirt",
           "2024-06-28"
          ],
          [
           "jaccard",
           "all day office chair",
           "2024-06-28"
          ],
          [
           "jaccard",
           "bluray movie collection",
           "2024-06-28"
          ],
          [
           "jaccard",
           "citizen limited edition",
           "2024-06-28"
          ],
          [
           "jaccard",
           "cruz comunion niño",
           "2024-06-28"
          ],
          [
           "jaccard",
           "explorer k2",
           "2024-06-28"
          ],
          [
           "jaccard",
           "fishing pole",
           "2024-06-28"
          ],
          [
           "jaccard",
           "gold shirt women",
           "2024-06-28"
          ],
          [
           "jaccard",
           "green wall decals",
           "2024-06-28"
          ],
          [
           "jaccard",
           "habitrail ovo twist",
           "2024-06-28"
          ],
          [
           "jaccard",
           "nail light",
           "2024-06-28"
          ],
          [
           "jaccard",
           "northface hydration packs",
           "2024-06-28"
          ],
          [
           "jaccard",
           "one man and his dog",
           "2024-06-28"
          ],
          [
           "jaccard",
           "small dog muzzle",
           "2024-06-28"
          ],
          [
           "jaccard",
           "vape pen",
           "2024-06-28"
          ],
          [
           "jaccard",
           "ゆうびん番号枠入り はがき 切手なし",
           "2024-06-28"
          ],
          [
           "jaccard",
           "エプロン 子供",
           "2024-06-28"
          ],
          [
           "jaccard",
           "スマホ レーダー探知機",
           "2024-06-28"
          ],
          [
           "jaccard",
           "新米",
           "2024-06-28"
          ],
          [
           "jaccard",
           "舞台 アイシャドウ",
           "2024-06-28"
          ],
          [
           "jaccard",
           "4t camo sweat shirt",
           "2024-06-29"
          ],
          [
           "jaccard",
           "all day office chair",
           "2024-06-29"
          ],
          [
           "jaccard",
           "bluray movie collection",
           "2024-06-29"
          ],
          [
           "jaccard",
           "citizen limited edition",
           "2024-06-29"
          ],
          [
           "jaccard",
           "cruz comunion niño",
           "2024-06-29"
          ],
          [
           "jaccard",
           "explorer k2",
           "2024-06-29"
          ],
          [
           "jaccard",
           "fishing pole",
           "2024-06-29"
          ],
          [
           "jaccard",
           "gold shirt women",
           "2024-06-29"
          ],
          [
           "jaccard",
           "green wall decals",
           "2024-06-29"
          ],
          [
           "jaccard",
           "habitrail ovo twist",
           "2024-06-29"
          ],
          [
           "jaccard",
           "nail light",
           "2024-06-29"
          ],
          [
           "jaccard",
           "northface hydration packs",
           "2024-06-29"
          ],
          [
           "jaccard",
           "one man and his dog",
           "2024-06-29"
          ],
          [
           "jaccard",
           "small dog muzzle",
           "2024-06-29"
          ],
          [
           "jaccard",
           "vape pen",
           "2024-06-29"
          ],
          [
           "jaccard",
           "ゆうびん番号枠入り はがき 切手なし",
           "2024-06-29"
          ],
          [
           "jaccard",
           "エプロン 子供",
           "2024-06-29"
          ],
          [
           "jaccard",
           "スマホ レーダー探知機",
           "2024-06-29"
          ],
          [
           "jaccard",
           "新米",
           "2024-06-29"
          ],
          [
           "jaccard",
           "舞台 アイシャドウ",
           "2024-06-29"
          ],
          [
           "jaccard",
           "4t camo sweat shirt",
           "2024-06-30"
          ],
          [
           "jaccard",
           "all day office chair",
           "2024-06-30"
          ],
          [
           "jaccard",
           "bluray movie collection",
           "2024-06-30"
          ],
          [
           "jaccard",
           "citizen limited edition",
           "2024-06-30"
          ],
          [
           "jaccard",
           "cruz comunion niño",
           "2024-06-30"
          ],
          [
           "jaccard",
           "explorer k2",
           "2024-06-30"
          ],
          [
           "jaccard",
           "fishing pole",
           "2024-06-30"
          ],
          [
           "jaccard",
           "gold shirt women",
           "2024-06-30"
          ],
          [
           "jaccard",
           "green wall decals",
           "2024-06-30"
          ],
          [
           "jaccard",
           "habitrail ovo twist",
           "2024-06-30"
          ],
          [
           "jaccard",
           "nail light",
           "2024-06-30"
          ],
          [
           "jaccard",
           "northface hydration packs",
           "2024-06-30"
          ],
          [
           "jaccard",
           "one man and his dog",
           "2024-06-30"
          ],
          [
           "jaccard",
           "small dog muzzle",
           "2024-06-30"
          ],
          [
           "jaccard",
           "vape pen",
           "2024-06-30"
          ],
          [
           "jaccard",
           "ゆうびん番号枠入り はがき 切手なし",
           "2024-06-30"
          ],
          [
           "jaccard",
           "エプロン 子供",
           "2024-06-30"
          ],
          [
           "jaccard",
           "スマホ レーダー探知機",
           "2024-06-30"
          ],
          [
           "jaccard",
           "新米",
           "2024-06-30"
          ],
          [
           "jaccard",
           "舞台 アイシャドウ",
           "2024-06-30"
          ],
          [
           "jaccard",
           "4t camo sweat shirt",
           "2024-07-01"
          ],
          [
           "jaccard",
           "all day office chair",
           "2024-07-01"
          ],
          [
           "jaccard",
           "bluray movie collection",
           "2024-07-01"
          ],
          [
           "jaccard",
           "citizen limited edition",
           "2024-07-01"
          ],
          [
           "jaccard",
           "cruz comunion niño",
           "2024-07-01"
          ],
          [
           "jaccard",
           "explorer k2",
           "2024-07-01"
          ],
          [
           "jaccard",
           "fishing pole",
           "2024-07-01"
          ],
          [
           "jaccard",
           "gold shirt women",
           "2024-07-01"
          ],
          [
           "jaccard",
           "green wall decals",
           "2024-07-01"
          ],
          [
           "jaccard",
           "habitrail ovo twist",
           "2024-07-01"
          ],
          [
           "jaccard",
           "nail light",
           "2024-07-01"
          ],
          [
           "jaccard",
           "northface hydration packs",
           "2024-07-01"
          ],
          [
           "jaccard",
           "one man and his dog",
           "2024-07-01"
          ],
          [
           "jaccard",
           "small dog muzzle",
           "2024-07-01"
          ],
          [
           "jaccard",
           "vape pen",
           "2024-07-01"
          ],
          [
           "jaccard",
           "ゆうびん番号枠入り はがき 切手なし",
           "2024-07-01"
          ],
          [
           "jaccard",
           "エプロン 子供",
           "2024-07-01"
          ],
          [
           "jaccard",
           "スマホ レーダー探知機",
           "2024-07-01"
          ],
          [
           "jaccard",
           "新米",
           "2024-07-01"
          ],
          [
           "jaccard",
           "舞台 アイシャドウ",
           "2024-07-01"
          ],
          [
           "jaccard",
           "4t camo sweat shirt",
           "2024-06-25"
          ],
          [
           "jaccard",
           "all day office chair",
           "2024-06-25"
          ],
          [
           "jaccard",
           "bluray movie collection",
           "2024-06-25"
          ],
          [
           "jaccard",
           "citizen limited edition",
           "2024-06-25"
          ],
          [
           "jaccard",
           "cruz comunion niño",
           "2024-06-25"
          ],
          [
           "jaccard",
           "explorer k2",
           "2024-06-25"
          ],
          [
           "jaccard",
           "fishing pole",
           "2024-06-25"
          ],
          [
           "jaccard",
           "gold shirt women",
           "2024-06-25"
          ],
          [
           "jaccard",
           "green wall decals",
           "2024-06-25"
          ],
          [
           "jaccard",
           "habitrail ovo twist",
           "2024-06-25"
          ],
          [
           "jaccard",
           "nail light",
           "2024-06-25"
          ],
          [
           "jaccard",
           "northface hydration packs",
           "2024-06-25"
          ],
          [
           "jaccard",
           "one man and his dog",
           "2024-06-25"
          ],
          [
           "jaccard",
           "small dog muzzle",
           "2024-06-25"
          ],
          [
           "jaccard",
           "vape pen",
           "2024-06-25"
          ],
          [
           "jaccard",
           "ゆうびん番号枠入り はがき 切手なし",
           "2024-06-25"
          ],
          [
           "jaccard",
           "エプロン 子供",
           "2024-06-25"
          ],
          [
           "jaccard",
           "スマホ レーダー探知機",
           "2024-06-25"
          ],
          [
           "jaccard",
           "新米",
           "2024-06-25"
          ],
          [
           "jaccard",
           "舞台 アイシャドウ",
           "2024-06-25"
          ],
          [
           "jaccard",
           "4t camo sweat shirt",
           "2024-06-26"
          ],
          [
           "jaccard",
           "all day office chair",
           "2024-06-26"
          ],
          [
           "jaccard",
           "bluray movie collection",
           "2024-06-26"
          ],
          [
           "jaccard",
           "citizen limited edition",
           "2024-06-26"
          ],
          [
           "jaccard",
           "cruz comunion niño",
           "2024-06-26"
          ],
          [
           "jaccard",
           "explorer k2",
           "2024-06-26"
          ],
          [
           "jaccard",
           "fishing pole",
           "2024-06-26"
          ],
          [
           "jaccard",
           "gold shirt women",
           "2024-06-26"
          ],
          [
           "jaccard",
           "green wall decals",
           "2024-06-26"
          ],
          [
           "jaccard",
           "habitrail ovo twist",
           "2024-06-26"
          ],
          [
           "jaccard",
           "nail light",
           "2024-06-26"
          ],
          [
           "jaccard",
           "northface hydration packs",
           "2024-06-26"
          ],
          [
           "jaccard",
           "one man and his dog",
           "2024-06-26"
          ],
          [
           "jaccard",
           "small dog muzzle",
           "2024-06-26"
          ],
          [
           "jaccard",
           "vape pen",
           "2024-06-26"
          ],
          [
           "jaccard",
           "ゆうびん番号枠入り はがき 切手なし",
           "2024-06-26"
          ],
          [
           "jaccard",
           "エプロン 子供",
           "2024-06-26"
          ],
          [
           "jaccard",
           "スマホ レーダー探知機",
           "2024-06-26"
          ],
          [
           "jaccard",
           "新米",
           "2024-06-26"
          ],
          [
           "jaccard",
           "舞台 アイシャドウ",
           "2024-06-26"
          ],
          [
           "jaccard",
           "4t camo sweat shirt",
           "2024-06-27"
          ],
          [
           "jaccard",
           "all day office chair",
           "2024-06-27"
          ],
          [
           "jaccard",
           "bluray movie collection",
           "2024-06-27"
          ],
          [
           "jaccard",
           "citizen limited edition",
           "2024-06-27"
          ],
          [
           "jaccard",
           "cruz comunion niño",
           "2024-06-27"
          ],
          [
           "jaccard",
           "explorer k2",
           "2024-06-27"
          ],
          [
           "jaccard",
           "fishing pole",
           "2024-06-27"
          ],
          [
           "jaccard",
           "gold shirt women",
           "2024-06-27"
          ],
          [
           "jaccard",
           "green wall decals",
           "2024-06-27"
          ],
          [
           "jaccard",
           "habitrail ovo twist",
           "2024-06-27"
          ],
          [
           "jaccard",
           "nail light",
           "2024-06-27"
          ],
          [
           "jaccard",
           "northface hydration packs",
           "2024-06-27"
          ],
          [
           "jaccard",
           "one man and his dog",
           "2024-06-27"
          ],
          [
           "jaccard",
           "small dog muzzle",
           "2024-06-27"
          ],
          [
           "jaccard",
           "vape pen",
           "2024-06-27"
          ],
          [
           "jaccard",
           "ゆうびん番号枠入り はがき 切手なし",
           "2024-06-27"
          ],
          [
           "jaccard",
           "エプロン 子供",
           "2024-06-27"
          ],
          [
           "jaccard",
           "スマホ レーダー探知機",
           "2024-06-27"
          ],
          [
           "jaccard",
           "新米",
           "2024-06-27"
          ],
          [
           "jaccard",
           "舞台 アイシャドウ",
           "2024-06-27"
          ],
          [
           "jaccard",
           "4t camo sweat shirt",
           "2024-06-28"
          ],
          [
           "jaccard",
           "all day office chair",
           "2024-06-28"
          ],
          [
           "jaccard",
           "bluray movie collection",
           "2024-06-28"
          ],
          [
           "jaccard",
           "citizen limited edition",
           "2024-06-28"
          ],
          [
           "jaccard",
           "cruz comunion niño",
           "2024-06-28"
          ],
          [
           "jaccard",
           "explorer k2",
           "2024-06-28"
          ],
          [
           "jaccard",
           "fishing pole",
           "2024-06-28"
          ],
          [
           "jaccard",
           "gold shirt women",
           "2024-06-28"
          ],
          [
           "jaccard",
           "green wall decals",
           "2024-06-28"
          ],
          [
           "jaccard",
           "habitrail ovo twist",
           "2024-06-28"
          ],
          [
           "jaccard",
           "nail light",
           "2024-06-28"
          ],
          [
           "jaccard",
           "northface hydration packs",
           "2024-06-28"
          ],
          [
           "jaccard",
           "one man and his dog",
           "2024-06-28"
          ],
          [
           "jaccard",
           "small dog muzzle",
           "2024-06-28"
          ],
          [
           "jaccard",
           "vape pen",
           "2024-06-28"
          ],
          [
           "jaccard",
           "ゆうびん番号枠入り はがき 切手なし",
           "2024-06-28"
          ],
          [
           "jaccard",
           "エプロン 子供",
           "2024-06-28"
          ],
          [
           "jaccard",
           "スマホ レーダー探知機",
           "2024-06-28"
          ],
          [
           "jaccard",
           "新米",
           "2024-06-28"
          ],
          [
           "jaccard",
           "舞台 アイシャドウ",
           "2024-06-28"
          ],
          [
           "jaccard",
           "4t camo sweat shirt",
           "2024-06-29"
          ],
          [
           "jaccard",
           "all day office chair",
           "2024-06-29"
          ],
          [
           "jaccard",
           "bluray movie collection",
           "2024-06-29"
          ],
          [
           "jaccard",
           "citizen limited edition",
           "2024-06-29"
          ],
          [
           "jaccard",
           "cruz comunion niño",
           "2024-06-29"
          ],
          [
           "jaccard",
           "explorer k2",
           "2024-06-29"
          ],
          [
           "jaccard",
           "fishing pole",
           "2024-06-29"
          ],
          [
           "jaccard",
           "gold shirt women",
           "2024-06-29"
          ],
          [
           "jaccard",
           "green wall decals",
           "2024-06-29"
          ],
          [
           "jaccard",
           "habitrail ovo twist",
           "2024-06-29"
          ],
          [
           "jaccard",
           "nail light",
           "2024-06-29"
          ],
          [
           "jaccard",
           "northface hydration packs",
           "2024-06-29"
          ],
          [
           "jaccard",
           "one man and his dog",
           "2024-06-29"
          ],
          [
           "jaccard",
           "small dog muzzle",
           "2024-06-29"
          ],
          [
           "jaccard",
           "vape pen",
           "2024-06-29"
          ],
          [
           "jaccard",
           "ゆうびん番号枠入り はがき 切手なし",
           "2024-06-29"
          ],
          [
           "jaccard",
           "エプロン 子供",
           "2024-06-29"
          ],
          [
           "jaccard",
           "スマホ レーダー探知機",
           "2024-06-29"
          ],
          [
           "jaccard",
           "新米",
           "2024-06-29"
          ],
          [
           "jaccard",
           "舞台 アイシャドウ",
           "2024-06-29"
          ],
          [
           "jaccard",
           "4t camo sweat shirt",
           "2024-06-30"
          ],
          [
           "jaccard",
           "all day office chair",
           "2024-06-30"
          ],
          [
           "jaccard",
           "bluray movie collection",
           "2024-06-30"
          ],
          [
           "jaccard",
           "citizen limited edition",
           "2024-06-30"
          ],
          [
           "jaccard",
           "cruz comunion niño",
           "2024-06-30"
          ],
          [
           "jaccard",
           "explorer k2",
           "2024-06-30"
          ],
          [
           "jaccard",
           "fishing pole",
           "2024-06-30"
          ],
          [
           "jaccard",
           "gold shirt women",
           "2024-06-30"
          ],
          [
           "jaccard",
           "green wall decals",
           "2024-06-30"
          ],
          [
           "jaccard",
           "habitrail ovo twist",
           "2024-06-30"
          ],
          [
           "jaccard",
           "nail light",
           "2024-06-30"
          ],
          [
           "jaccard",
           "northface hydration packs",
           "2024-06-30"
          ],
          [
           "jaccard",
           "one man and his dog",
           "2024-06-30"
          ],
          [
           "jaccard",
           "small dog muzzle",
           "2024-06-30"
          ],
          [
           "jaccard",
           "vape pen",
           "2024-06-30"
          ],
          [
           "jaccard",
           "ゆうびん番号枠入り はがき 切手なし",
           "2024-06-30"
          ],
          [
           "jaccard",
           "エプロン 子供",
           "2024-06-30"
          ],
          [
           "jaccard",
           "スマホ レーダー探知機",
           "2024-06-30"
          ],
          [
           "jaccard",
           "新米",
           "2024-06-30"
          ],
          [
           "jaccard",
           "舞台 アイシャドウ",
           "2024-06-30"
          ],
          [
           "jaccard",
           "4t camo sweat shirt",
           "2024-07-01"
          ],
          [
           "jaccard",
           "all day office chair",
           "2024-07-01"
          ],
          [
           "jaccard",
           "bluray movie collection",
           "2024-07-01"
          ],
          [
           "jaccard",
           "citizen limited edition",
           "2024-07-01"
          ],
          [
           "jaccard",
           "cruz comunion niño",
           "2024-07-01"
          ],
          [
           "jaccard",
           "explorer k2",
           "2024-07-01"
          ],
          [
           "jaccard",
           "fishing pole",
           "2024-07-01"
          ],
          [
           "jaccard",
           "gold shirt women",
           "2024-07-01"
          ],
          [
           "jaccard",
           "green wall decals",
           "2024-07-01"
          ],
          [
           "jaccard",
           "habitrail ovo twist",
           "2024-07-01"
          ],
          [
           "jaccard",
           "nail light",
           "2024-07-01"
          ],
          [
           "jaccard",
           "northface hydration packs",
           "2024-07-01"
          ],
          [
           "jaccard",
           "one man and his dog",
           "2024-07-01"
          ],
          [
           "jaccard",
           "small dog muzzle",
           "2024-07-01"
          ],
          [
           "jaccard",
           "vape pen",
           "2024-07-01"
          ],
          [
           "jaccard",
           "ゆうびん番号枠入り はがき 切手なし",
           "2024-07-01"
          ],
          [
           "jaccard",
           "エプロン 子供",
           "2024-07-01"
          ],
          [
           "jaccard",
           "スマホ レーダー探知機",
           "2024-07-01"
          ],
          [
           "jaccard",
           "新米",
           "2024-07-01"
          ],
          [
           "jaccard",
           "舞台 アイシャドウ",
           "2024-07-01"
          ],
          [
           "jaccard",
           "4t camo sweat shirt",
           "2024-06-25"
          ],
          [
           "jaccard",
           "all day office chair",
           "2024-06-25"
          ],
          [
           "jaccard",
           "bluray movie collection",
           "2024-06-25"
          ],
          [
           "jaccard",
           "citizen limited edition",
           "2024-06-25"
          ],
          [
           "jaccard",
           "cruz comunion niño",
           "2024-06-25"
          ],
          [
           "jaccard",
           "explorer k2",
           "2024-06-25"
          ],
          [
           "jaccard",
           "fishing pole",
           "2024-06-25"
          ],
          [
           "jaccard",
           "gold shirt women",
           "2024-06-25"
          ],
          [
           "jaccard",
           "green wall decals",
           "2024-06-25"
          ],
          [
           "jaccard",
           "habitrail ovo twist",
           "2024-06-25"
          ],
          [
           "jaccard",
           "nail light",
           "2024-06-25"
          ],
          [
           "jaccard",
           "northface hydration packs",
           "2024-06-25"
          ],
          [
           "jaccard",
           "one man and his dog",
           "2024-06-25"
          ],
          [
           "jaccard",
           "small dog muzzle",
           "2024-06-25"
          ],
          [
           "jaccard",
           "vape pen",
           "2024-06-25"
          ],
          [
           "jaccard",
           "ゆうびん番号枠入り はがき 切手なし",
           "2024-06-25"
          ],
          [
           "jaccard",
           "エプロン 子供",
           "2024-06-25"
          ],
          [
           "jaccard",
           "スマホ レーダー探知機",
           "2024-06-25"
          ],
          [
           "jaccard",
           "新米",
           "2024-06-25"
          ],
          [
           "jaccard",
           "舞台 アイシャドウ",
           "2024-06-25"
          ],
          [
           "jaccard",
           "4t camo sweat shirt",
           "2024-06-26"
          ],
          [
           "jaccard",
           "all day office chair",
           "2024-06-26"
          ],
          [
           "jaccard",
           "bluray movie collection",
           "2024-06-26"
          ],
          [
           "jaccard",
           "citizen limited edition",
           "2024-06-26"
          ],
          [
           "jaccard",
           "cruz comunion niño",
           "2024-06-26"
          ],
          [
           "jaccard",
           "explorer k2",
           "2024-06-26"
          ],
          [
           "jaccard",
           "fishing pole",
           "2024-06-26"
          ],
          [
           "jaccard",
           "gold shirt women",
           "2024-06-26"
          ],
          [
           "jaccard",
           "green wall decals",
           "2024-06-26"
          ],
          [
           "jaccard",
           "habitrail ovo twist",
           "2024-06-26"
          ],
          [
           "jaccard",
           "nail light",
           "2024-06-26"
          ],
          [
           "jaccard",
           "northface hydration packs",
           "2024-06-26"
          ],
          [
           "jaccard",
           "one man and his dog",
           "2024-06-26"
          ],
          [
           "jaccard",
           "small dog muzzle",
           "2024-06-26"
          ],
          [
           "jaccard",
           "vape pen",
           "2024-06-26"
          ],
          [
           "jaccard",
           "ゆうびん番号枠入り はがき 切手なし",
           "2024-06-26"
          ],
          [
           "jaccard",
           "エプロン 子供",
           "2024-06-26"
          ],
          [
           "jaccard",
           "スマホ レーダー探知機",
           "2024-06-26"
          ],
          [
           "jaccard",
           "新米",
           "2024-06-26"
          ],
          [
           "jaccard",
           "舞台 アイシャドウ",
           "2024-06-26"
          ],
          [
           "jaccard",
           "4t camo sweat shirt",
           "2024-06-27"
          ],
          [
           "jaccard",
           "all day office chair",
           "2024-06-27"
          ],
          [
           "jaccard",
           "bluray movie collection",
           "2024-06-27"
          ],
          [
           "jaccard",
           "citizen limited edition",
           "2024-06-27"
          ],
          [
           "jaccard",
           "cruz comunion niño",
           "2024-06-27"
          ],
          [
           "jaccard",
           "explorer k2",
           "2024-06-27"
          ],
          [
           "jaccard",
           "fishing pole",
           "2024-06-27"
          ],
          [
           "jaccard",
           "gold shirt women",
           "2024-06-27"
          ],
          [
           "jaccard",
           "green wall decals",
           "2024-06-27"
          ],
          [
           "jaccard",
           "habitrail ovo twist",
           "2024-06-27"
          ],
          [
           "jaccard",
           "nail light",
           "2024-06-27"
          ],
          [
           "jaccard",
           "northface hydration packs",
           "2024-06-27"
          ],
          [
           "jaccard",
           "one man and his dog",
           "2024-06-27"
          ],
          [
           "jaccard",
           "small dog muzzle",
           "2024-06-27"
          ],
          [
           "jaccard",
           "vape pen",
           "2024-06-27"
          ],
          [
           "jaccard",
           "ゆうびん番号枠入り はがき 切手なし",
           "2024-06-27"
          ],
          [
           "jaccard",
           "エプロン 子供",
           "2024-06-27"
          ],
          [
           "jaccard",
           "スマホ レーダー探知機",
           "2024-06-27"
          ],
          [
           "jaccard",
           "新米",
           "2024-06-27"
          ],
          [
           "jaccard",
           "舞台 アイシャドウ",
           "2024-06-27"
          ],
          [
           "jaccard",
           "4t camo sweat shirt",
           "2024-06-28"
          ],
          [
           "jaccard",
           "all day office chair",
           "2024-06-28"
          ],
          [
           "jaccard",
           "bluray movie collection",
           "2024-06-28"
          ],
          [
           "jaccard",
           "citizen limited edition",
           "2024-06-28"
          ],
          [
           "jaccard",
           "cruz comunion niño",
           "2024-06-28"
          ],
          [
           "jaccard",
           "explorer k2",
           "2024-06-28"
          ],
          [
           "jaccard",
           "fishing pole",
           "2024-06-28"
          ],
          [
           "jaccard",
           "gold shirt women",
           "2024-06-28"
          ],
          [
           "jaccard",
           "green wall decals",
           "2024-06-28"
          ],
          [
           "jaccard",
           "habitrail ovo twist",
           "2024-06-28"
          ],
          [
           "jaccard",
           "nail light",
           "2024-06-28"
          ],
          [
           "jaccard",
           "northface hydration packs",
           "2024-06-28"
          ],
          [
           "jaccard",
           "one man and his dog",
           "2024-06-28"
          ],
          [
           "jaccard",
           "small dog muzzle",
           "2024-06-28"
          ],
          [
           "jaccard",
           "vape pen",
           "2024-06-28"
          ],
          [
           "jaccard",
           "ゆうびん番号枠入り はがき 切手なし",
           "2024-06-28"
          ],
          [
           "jaccard",
           "エプロン 子供",
           "2024-06-28"
          ],
          [
           "jaccard",
           "スマホ レーダー探知機",
           "2024-06-28"
          ],
          [
           "jaccard",
           "新米",
           "2024-06-28"
          ],
          [
           "jaccard",
           "舞台 アイシャドウ",
           "2024-06-28"
          ],
          [
           "jaccard",
           "4t camo sweat shirt",
           "2024-06-29"
          ],
          [
           "jaccard",
           "all day office chair",
           "2024-06-29"
          ],
          [
           "jaccard",
           "bluray movie collection",
           "2024-06-29"
          ],
          [
           "jaccard",
           "citizen limited edition",
           "2024-06-29"
          ],
          [
           "jaccard",
           "cruz comunion niño",
           "2024-06-29"
          ],
          [
           "jaccard",
           "explorer k2",
           "2024-06-29"
          ],
          [
           "jaccard",
           "fishing pole",
           "2024-06-29"
          ],
          [
           "jaccard",
           "gold shirt women",
           "2024-06-29"
          ],
          [
           "jaccard",
           "green wall decals",
           "2024-06-29"
          ],
          [
           "jaccard",
           "habitrail ovo twist",
           "2024-06-29"
          ],
          [
           "jaccard",
           "nail light",
           "2024-06-29"
          ],
          [
           "jaccard",
           "northface hydration packs",
           "2024-06-29"
          ],
          [
           "jaccard",
           "one man and his dog",
           "2024-06-29"
          ],
          [
           "jaccard",
           "small dog muzzle",
           "2024-06-29"
          ],
          [
           "jaccard",
           "vape pen",
           "2024-06-29"
          ],
          [
           "jaccard",
           "ゆうびん番号枠入り はがき 切手なし",
           "2024-06-29"
          ],
          [
           "jaccard",
           "エプロン 子供",
           "2024-06-29"
          ],
          [
           "jaccard",
           "スマホ レーダー探知機",
           "2024-06-29"
          ],
          [
           "jaccard",
           "新米",
           "2024-06-29"
          ],
          [
           "jaccard",
           "舞台 アイシャドウ",
           "2024-06-29"
          ],
          [
           "jaccard",
           "4t camo sweat shirt",
           "2024-06-30"
          ],
          [
           "jaccard",
           "all day office chair",
           "2024-06-30"
          ],
          [
           "jaccard",
           "bluray movie collection",
           "2024-06-30"
          ],
          [
           "jaccard",
           "citizen limited edition",
           "2024-06-30"
          ],
          [
           "jaccard",
           "cruz comunion niño",
           "2024-06-30"
          ],
          [
           "jaccard",
           "explorer k2",
           "2024-06-30"
          ],
          [
           "jaccard",
           "fishing pole",
           "2024-06-30"
          ],
          [
           "jaccard",
           "gold shirt women",
           "2024-06-30"
          ],
          [
           "jaccard",
           "green wall decals",
           "2024-06-30"
          ],
          [
           "jaccard",
           "habitrail ovo twist",
           "2024-06-30"
          ],
          [
           "jaccard",
           "nail light",
           "2024-06-30"
          ],
          [
           "jaccard",
           "northface hydration packs",
           "2024-06-30"
          ],
          [
           "jaccard",
           "one man and his dog",
           "2024-06-30"
          ],
          [
           "jaccard",
           "small dog muzzle",
           "2024-06-30"
          ],
          [
           "jaccard",
           "vape pen",
           "2024-06-30"
          ],
          [
           "jaccard",
           "ゆうびん番号枠入り はがき 切手なし",
           "2024-06-30"
          ],
          [
           "jaccard",
           "エプロン 子供",
           "2024-06-30"
          ],
          [
           "jaccard",
           "スマホ レーダー探知機",
           "2024-06-30"
          ],
          [
           "jaccard",
           "新米",
           "2024-06-30"
          ],
          [
           "jaccard",
           "舞台 アイシャドウ",
           "2024-06-30"
          ],
          [
           "jaccard",
           "4t camo sweat shirt",
           "2024-07-01"
          ],
          [
           "jaccard",
           "all day office chair",
           "2024-07-01"
          ],
          [
           "jaccard",
           "bluray movie collection",
           "2024-07-01"
          ],
          [
           "jaccard",
           "citizen limited edition",
           "2024-07-01"
          ],
          [
           "jaccard",
           "cruz comunion niño",
           "2024-07-01"
          ],
          [
           "jaccard",
           "explorer k2",
           "2024-07-01"
          ],
          [
           "jaccard",
           "fishing pole",
           "2024-07-01"
          ],
          [
           "jaccard",
           "gold shirt women",
           "2024-07-01"
          ],
          [
           "jaccard",
           "green wall decals",
           "2024-07-01"
          ],
          [
           "jaccard",
           "habitrail ovo twist",
           "2024-07-01"
          ],
          [
           "jaccard",
           "nail light",
           "2024-07-01"
          ],
          [
           "jaccard",
           "northface hydration packs",
           "2024-07-01"
          ],
          [
           "jaccard",
           "one man and his dog",
           "2024-07-01"
          ],
          [
           "jaccard",
           "small dog muzzle",
           "2024-07-01"
          ],
          [
           "jaccard",
           "vape pen",
           "2024-07-01"
          ],
          [
           "jaccard",
           "ゆうびん番号枠入り はがき 切手なし",
           "2024-07-01"
          ],
          [
           "jaccard",
           "エプロン 子供",
           "2024-07-01"
          ],
          [
           "jaccard",
           "スマホ レーダー探知機",
           "2024-07-01"
          ],
          [
           "jaccard",
           "新米",
           "2024-07-01"
          ],
          [
           "jaccard",
           "舞台 アイシャドウ",
           "2024-07-01"
          ]
         ],
         "hovertemplate": "metric=%{customdata[0]}<br>search_config=%{x}<br>value=%{y}<br>query=%{customdata[1]}<br>datetime=%{customdata[2]}<extra></extra>",
         "legendgroup": "jaccard",
         "marker": {
          "color": "#636efa"
         },
         "name": "jaccard",
         "offsetgroup": "jaccard",
         "orientation": "v",
         "points": "all",
         "scalegroup": "True",
         "showlegend": true,
         "type": "violin",
         "x": [
          "research_1",
          "research_1",
          "research_1",
          "research_1",
          "research_1",
          "research_1",
          "research_1",
          "research_1",
          "research_1",
          "research_1",
          "research_1",
          "research_1",
          "research_1",
          "research_1",
          "research_1",
          "research_1",
          "research_1",
          "research_1",
          "research_1",
          "research_1",
          "research_1",
          "research_1",
          "research_1",
          "research_1",
          "research_1",
          "research_1",
          "research_1",
          "research_1",
          "research_1",
          "research_1",
          "research_1",
          "research_1",
          "research_1",
          "research_1",
          "research_1",
          "research_1",
          "research_1",
          "research_1",
          "research_1",
          "research_1",
          "research_1",
          "research_1",
          "research_1",
          "research_1",
          "research_1",
          "research_1",
          "research_1",
          "research_1",
          "research_1",
          "research_1",
          "research_1",
          "research_1",
          "research_1",
          "research_1",
          "research_1",
          "research_1",
          "research_1",
          "research_1",
          "research_1",
          "research_1",
          "research_1",
          "research_1",
          "research_1",
          "research_1",
          "research_1",
          "research_1",
          "research_1",
          "research_1",
          "research_1",
          "research_1",
          "research_1",
          "research_1",
          "research_1",
          "research_1",
          "research_1",
          "research_1",
          "research_1",
          "research_1",
          "research_1",
          "research_1",
          "research_1",
          "research_1",
          "research_1",
          "research_1",
          "research_1",
          "research_1",
          "research_1",
          "research_1",
          "research_1",
          "research_1",
          "research_1",
          "research_1",
          "research_1",
          "research_1",
          "research_1",
          "research_1",
          "research_1",
          "research_1",
          "research_1",
          "research_1",
          "research_1",
          "research_1",
          "research_1",
          "research_1",
          "research_1",
          "research_1",
          "research_1",
          "research_1",
          "research_1",
          "research_1",
          "research_1",
          "research_1",
          "research_1",
          "research_1",
          "research_1",
          "research_1",
          "research_1",
          "research_1",
          "research_1",
          "research_1",
          "research_1",
          "research_1",
          "research_1",
          "research_1",
          "research_1",
          "research_1",
          "research_1",
          "research_1",
          "research_1",
          "research_1",
          "research_1",
          "research_1",
          "research_1",
          "research_1",
          "research_1",
          "research_1",
          "research_1",
          "research_1",
          "research_1",
          "research_1",
          "research_2",
          "research_2",
          "research_2",
          "research_2",
          "research_2",
          "research_2",
          "research_2",
          "research_2",
          "research_2",
          "research_2",
          "research_2",
          "research_2",
          "research_2",
          "research_2",
          "research_2",
          "research_2",
          "research_2",
          "research_2",
          "research_2",
          "research_2",
          "research_2",
          "research_2",
          "research_2",
          "research_2",
          "research_2",
          "research_2",
          "research_2",
          "research_2",
          "research_2",
          "research_2",
          "research_2",
          "research_2",
          "research_2",
          "research_2",
          "research_2",
          "research_2",
          "research_2",
          "research_2",
          "research_2",
          "research_2",
          "research_2",
          "research_2",
          "research_2",
          "research_2",
          "research_2",
          "research_2",
          "research_2",
          "research_2",
          "research_2",
          "research_2",
          "research_2",
          "research_2",
          "research_2",
          "research_2",
          "research_2",
          "research_2",
          "research_2",
          "research_2",
          "research_2",
          "research_2",
          "research_2",
          "research_2",
          "research_2",
          "research_2",
          "research_2",
          "research_2",
          "research_2",
          "research_2",
          "research_2",
          "research_2",
          "research_2",
          "research_2",
          "research_2",
          "research_2",
          "research_2",
          "research_2",
          "research_2",
          "research_2",
          "research_2",
          "research_2",
          "research_2",
          "research_2",
          "research_2",
          "research_2",
          "research_2",
          "research_2",
          "research_2",
          "research_2",
          "research_2",
          "research_2",
          "research_2",
          "research_2",
          "research_2",
          "research_2",
          "research_2",
          "research_2",
          "research_2",
          "research_2",
          "research_2",
          "research_2",
          "research_2",
          "research_2",
          "research_2",
          "research_2",
          "research_2",
          "research_2",
          "research_2",
          "research_2",
          "research_2",
          "research_2",
          "research_2",
          "research_2",
          "research_2",
          "research_2",
          "research_2",
          "research_2",
          "research_2",
          "research_2",
          "research_2",
          "research_2",
          "research_2",
          "research_2",
          "research_2",
          "research_2",
          "research_2",
          "research_2",
          "research_2",
          "research_2",
          "research_2",
          "research_2",
          "research_2",
          "research_2",
          "research_2",
          "research_2",
          "research_2",
          "research_2",
          "research_2",
          "research_2",
          "research_2",
          "research_2",
          "challenger_1",
          "challenger_1",
          "challenger_1",
          "challenger_1",
          "challenger_1",
          "challenger_1",
          "challenger_1",
          "challenger_1",
          "challenger_1",
          "challenger_1",
          "challenger_1",
          "challenger_1",
          "challenger_1",
          "challenger_1",
          "challenger_1",
          "challenger_1",
          "challenger_1",
          "challenger_1",
          "challenger_1",
          "challenger_1",
          "challenger_1",
          "challenger_1",
          "challenger_1",
          "challenger_1",
          "challenger_1",
          "challenger_1",
          "challenger_1",
          "challenger_1",
          "challenger_1",
          "challenger_1",
          "challenger_1",
          "challenger_1",
          "challenger_1",
          "challenger_1",
          "challenger_1",
          "challenger_1",
          "challenger_1",
          "challenger_1",
          "challenger_1",
          "challenger_1",
          "challenger_1",
          "challenger_1",
          "challenger_1",
          "challenger_1",
          "challenger_1",
          "challenger_1",
          "challenger_1",
          "challenger_1",
          "challenger_1",
          "challenger_1",
          "challenger_1",
          "challenger_1",
          "challenger_1",
          "challenger_1",
          "challenger_1",
          "challenger_1",
          "challenger_1",
          "challenger_1",
          "challenger_1",
          "challenger_1",
          "challenger_1",
          "challenger_1",
          "challenger_1",
          "challenger_1",
          "challenger_1",
          "challenger_1",
          "challenger_1",
          "challenger_1",
          "challenger_1",
          "challenger_1",
          "challenger_1",
          "challenger_1",
          "challenger_1",
          "challenger_1",
          "challenger_1",
          "challenger_1",
          "challenger_1",
          "challenger_1",
          "challenger_1",
          "challenger_1",
          "challenger_1",
          "challenger_1",
          "challenger_1",
          "challenger_1",
          "challenger_1",
          "challenger_1",
          "challenger_1",
          "challenger_1",
          "challenger_1",
          "challenger_1",
          "challenger_1",
          "challenger_1",
          "challenger_1",
          "challenger_1",
          "challenger_1",
          "challenger_1",
          "challenger_1",
          "challenger_1",
          "challenger_1",
          "challenger_1",
          "challenger_1",
          "challenger_1",
          "challenger_1",
          "challenger_1",
          "challenger_1",
          "challenger_1",
          "challenger_1",
          "challenger_1",
          "challenger_1",
          "challenger_1",
          "challenger_1",
          "challenger_1",
          "challenger_1",
          "challenger_1",
          "challenger_1",
          "challenger_1",
          "challenger_1",
          "challenger_1",
          "challenger_1",
          "challenger_1",
          "challenger_1",
          "challenger_1",
          "challenger_1",
          "challenger_1",
          "challenger_1",
          "challenger_1",
          "challenger_1",
          "challenger_1",
          "challenger_1",
          "challenger_1",
          "challenger_1",
          "challenger_1",
          "challenger_1",
          "challenger_1",
          "challenger_1",
          "challenger_1",
          "challenger_1",
          "challenger_1",
          "challenger_1",
          "challenger_1"
         ],
         "x0": " ",
         "xaxis": "x",
         "y": [
          0,
          0.1428571428571428,
          0,
          0,
          0,
          0,
          0.125,
          0,
          0.125,
          0,
          0.25,
          0.5,
          0.1764705882352941,
          0.5,
          0.1111111111111111,
          0.1333333333333333,
          0,
          0,
          0,
          0,
          0,
          0.1428571428571428,
          0,
          0,
          0,
          0,
          0.125,
          0,
          0.125,
          0,
          0.25,
          0.5,
          0.1764705882352941,
          0.5,
          0.1111111111111111,
          0.1333333333333333,
          0,
          0,
          0,
          0,
          0,
          0.1428571428571428,
          0,
          0,
          0,
          0,
          0.125,
          0,
          0.125,
          0,
          0.25,
          0.5,
          0.1764705882352941,
          0.5,
          0.1111111111111111,
          0.1333333333333333,
          0,
          0,
          0,
          0,
          0,
          0.1428571428571428,
          0,
          0,
          0,
          0,
          0.125,
          0,
          0.125,
          0,
          0.25,
          0.5,
          0.1764705882352941,
          0.5,
          0.1111111111111111,
          0.1333333333333333,
          0,
          0,
          0,
          0,
          0,
          0.1428571428571428,
          0,
          0,
          0,
          0,
          0.125,
          0,
          0.125,
          0,
          0.25,
          0.5,
          0.1764705882352941,
          0.5,
          0.1111111111111111,
          0.1333333333333333,
          0,
          0,
          0,
          0,
          0,
          0.1428571428571428,
          0,
          0,
          0,
          0,
          0.125,
          0,
          0.125,
          0,
          0.25,
          0.5,
          0.1764705882352941,
          0.5,
          0.1111111111111111,
          0.1333333333333333,
          0,
          0,
          0,
          0,
          0,
          0.1428571428571428,
          0,
          0,
          0,
          0,
          0.125,
          0,
          0.125,
          0,
          0.25,
          0.5,
          0.1764705882352941,
          0.5,
          0.1111111111111111,
          0.1333333333333333,
          0,
          0,
          0,
          0,
          0.5555555555555556,
          0,
          0.125,
          0,
          0.1428571428571428,
          0.1578947368421052,
          0.125,
          0.1,
          0.2857142857142857,
          0.125,
          0,
          0,
          0.1034482758620689,
          0.2857142857142857,
          0.4,
          0.1904761904761904,
          0.2222222222222222,
          0,
          0.125,
          0.3333333333333333,
          0.5555555555555556,
          0,
          0.125,
          0,
          0.1428571428571428,
          0.1578947368421052,
          0.125,
          0.1,
          0.2857142857142857,
          0.125,
          0,
          0,
          0.1034482758620689,
          0.2857142857142857,
          0.4,
          0.1904761904761904,
          0.2222222222222222,
          0,
          0.125,
          0.3333333333333333,
          0.5555555555555556,
          0,
          0.125,
          0,
          0.1428571428571428,
          0.1578947368421052,
          0.125,
          0.1,
          0.2857142857142857,
          0.125,
          0,
          0,
          0.1034482758620689,
          0.2857142857142857,
          0.4,
          0.1904761904761904,
          0.2222222222222222,
          0,
          0.125,
          0.3333333333333333,
          0.5555555555555556,
          0,
          0.125,
          0,
          0.1428571428571428,
          0.1578947368421052,
          0.125,
          0.1,
          0.2857142857142857,
          0.125,
          0,
          0,
          0.1034482758620689,
          0.2857142857142857,
          0.4,
          0.1904761904761904,
          0.2222222222222222,
          0,
          0.125,
          0.3333333333333333,
          0.5555555555555556,
          0,
          0.125,
          0,
          0.1428571428571428,
          0.1578947368421052,
          0.125,
          0.1,
          0.2857142857142857,
          0.125,
          0,
          0,
          0.1034482758620689,
          0.2857142857142857,
          0.4,
          0.1904761904761904,
          0.2222222222222222,
          0,
          0.125,
          0.3333333333333333,
          0.5555555555555556,
          0,
          0.125,
          0,
          0.1428571428571428,
          0.1578947368421052,
          0.125,
          0.1,
          0.2857142857142857,
          0.125,
          0,
          0,
          0.1034482758620689,
          0.2857142857142857,
          0.4,
          0.1904761904761904,
          0.2222222222222222,
          0,
          0.125,
          0.3333333333333333,
          0.5555555555555556,
          0,
          0.125,
          0,
          0.1428571428571428,
          0.1578947368421052,
          0.125,
          0.1,
          0.2857142857142857,
          0.125,
          0,
          0,
          0.1034482758620689,
          0.2857142857142857,
          0.4,
          0.1904761904761904,
          0.2222222222222222,
          0,
          0.125,
          0.3333333333333333,
          0.5,
          0.2,
          0.125,
          0,
          0.0869565217391304,
          0.1363636363636363,
          0.1428571428571428,
          0,
          0.5555555555555556,
          0,
          0,
          0.1,
          0.2222222222222222,
          0.2222222222222222,
          0.1875,
          0.2857142857142857,
          0.125,
          0.3333333333333333,
          0.1111111111111111,
          0.2727272727272727,
          0.5,
          0.2,
          0.125,
          0,
          0.0869565217391304,
          0.1363636363636363,
          0.1428571428571428,
          0,
          0.5555555555555556,
          0,
          0,
          0.1,
          0.2222222222222222,
          0.2222222222222222,
          0.1875,
          0.2857142857142857,
          0.125,
          0.3333333333333333,
          0.1111111111111111,
          0.2727272727272727,
          0.5,
          0.2,
          0.125,
          0,
          0.0869565217391304,
          0.1363636363636363,
          0.1428571428571428,
          0,
          0.5555555555555556,
          0,
          0,
          0.1,
          0.2222222222222222,
          0.2222222222222222,
          0.1875,
          0.2857142857142857,
          0.125,
          0.3333333333333333,
          0.1111111111111111,
          0.2727272727272727,
          0.5,
          0.2,
          0.125,
          0,
          0.0869565217391304,
          0.1363636363636363,
          0.1428571428571428,
          0,
          0.5555555555555556,
          0,
          0,
          0.1,
          0.2222222222222222,
          0.2222222222222222,
          0.1875,
          0.2857142857142857,
          0.125,
          0.3333333333333333,
          0.1111111111111111,
          0.2727272727272727,
          0.5,
          0.2,
          0.125,
          0,
          0.0869565217391304,
          0.1363636363636363,
          0.1428571428571428,
          0,
          0.5555555555555556,
          0,
          0,
          0.1,
          0.2222222222222222,
          0.2222222222222222,
          0.1875,
          0.2857142857142857,
          0.125,
          0.3333333333333333,
          0.1111111111111111,
          0.2727272727272727,
          0.5,
          0.2,
          0.125,
          0,
          0.0869565217391304,
          0.1363636363636363,
          0.1428571428571428,
          0,
          0.5555555555555556,
          0,
          0,
          0.1,
          0.2222222222222222,
          0.2222222222222222,
          0.1875,
          0.2857142857142857,
          0.125,
          0.3333333333333333,
          0.1111111111111111,
          0.2727272727272727,
          0.5,
          0.2,
          0.125,
          0,
          0.0869565217391304,
          0.1363636363636363,
          0.1428571428571428,
          0,
          0.5555555555555556,
          0,
          0,
          0.1,
          0.2222222222222222,
          0.2222222222222222,
          0.1875,
          0.2857142857142857,
          0.125,
          0.3333333333333333,
          0.1111111111111111,
          0.2727272727272727
         ],
         "y0": " ",
         "yaxis": "y"
        }
       ],
       "layout": {
        "legend": {
         "title": {
          "text": "metric"
         },
         "tracegroupgap": 0
        },
        "margin": {
         "t": 60
        },
        "template": {
         "data": {
          "bar": [
           {
            "error_x": {
             "color": "#2a3f5f"
            },
            "error_y": {
             "color": "#2a3f5f"
            },
            "marker": {
             "line": {
              "color": "#E5ECF6",
              "width": 0.5
             },
             "pattern": {
              "fillmode": "overlay",
              "size": 10,
              "solidity": 0.2
             }
            },
            "type": "bar"
           }
          ],
          "barpolar": [
           {
            "marker": {
             "line": {
              "color": "#E5ECF6",
              "width": 0.5
             },
             "pattern": {
              "fillmode": "overlay",
              "size": 10,
              "solidity": 0.2
             }
            },
            "type": "barpolar"
           }
          ],
          "carpet": [
           {
            "aaxis": {
             "endlinecolor": "#2a3f5f",
             "gridcolor": "white",
             "linecolor": "white",
             "minorgridcolor": "white",
             "startlinecolor": "#2a3f5f"
            },
            "baxis": {
             "endlinecolor": "#2a3f5f",
             "gridcolor": "white",
             "linecolor": "white",
             "minorgridcolor": "white",
             "startlinecolor": "#2a3f5f"
            },
            "type": "carpet"
           }
          ],
          "choropleth": [
           {
            "colorbar": {
             "outlinewidth": 0,
             "ticks": ""
            },
            "type": "choropleth"
           }
          ],
          "contour": [
           {
            "colorbar": {
             "outlinewidth": 0,
             "ticks": ""
            },
            "colorscale": [
             [
              0,
              "#0d0887"
             ],
             [
              0.1111111111111111,
              "#46039f"
             ],
             [
              0.2222222222222222,
              "#7201a8"
             ],
             [
              0.3333333333333333,
              "#9c179e"
             ],
             [
              0.4444444444444444,
              "#bd3786"
             ],
             [
              0.5555555555555556,
              "#d8576b"
             ],
             [
              0.6666666666666666,
              "#ed7953"
             ],
             [
              0.7777777777777778,
              "#fb9f3a"
             ],
             [
              0.8888888888888888,
              "#fdca26"
             ],
             [
              1,
              "#f0f921"
             ]
            ],
            "type": "contour"
           }
          ],
          "contourcarpet": [
           {
            "colorbar": {
             "outlinewidth": 0,
             "ticks": ""
            },
            "type": "contourcarpet"
           }
          ],
          "heatmap": [
           {
            "colorbar": {
             "outlinewidth": 0,
             "ticks": ""
            },
            "colorscale": [
             [
              0,
              "#0d0887"
             ],
             [
              0.1111111111111111,
              "#46039f"
             ],
             [
              0.2222222222222222,
              "#7201a8"
             ],
             [
              0.3333333333333333,
              "#9c179e"
             ],
             [
              0.4444444444444444,
              "#bd3786"
             ],
             [
              0.5555555555555556,
              "#d8576b"
             ],
             [
              0.6666666666666666,
              "#ed7953"
             ],
             [
              0.7777777777777778,
              "#fb9f3a"
             ],
             [
              0.8888888888888888,
              "#fdca26"
             ],
             [
              1,
              "#f0f921"
             ]
            ],
            "type": "heatmap"
           }
          ],
          "heatmapgl": [
           {
            "colorbar": {
             "outlinewidth": 0,
             "ticks": ""
            },
            "colorscale": [
             [
              0,
              "#0d0887"
             ],
             [
              0.1111111111111111,
              "#46039f"
             ],
             [
              0.2222222222222222,
              "#7201a8"
             ],
             [
              0.3333333333333333,
              "#9c179e"
             ],
             [
              0.4444444444444444,
              "#bd3786"
             ],
             [
              0.5555555555555556,
              "#d8576b"
             ],
             [
              0.6666666666666666,
              "#ed7953"
             ],
             [
              0.7777777777777778,
              "#fb9f3a"
             ],
             [
              0.8888888888888888,
              "#fdca26"
             ],
             [
              1,
              "#f0f921"
             ]
            ],
            "type": "heatmapgl"
           }
          ],
          "histogram": [
           {
            "marker": {
             "pattern": {
              "fillmode": "overlay",
              "size": 10,
              "solidity": 0.2
             }
            },
            "type": "histogram"
           }
          ],
          "histogram2d": [
           {
            "colorbar": {
             "outlinewidth": 0,
             "ticks": ""
            },
            "colorscale": [
             [
              0,
              "#0d0887"
             ],
             [
              0.1111111111111111,
              "#46039f"
             ],
             [
              0.2222222222222222,
              "#7201a8"
             ],
             [
              0.3333333333333333,
              "#9c179e"
             ],
             [
              0.4444444444444444,
              "#bd3786"
             ],
             [
              0.5555555555555556,
              "#d8576b"
             ],
             [
              0.6666666666666666,
              "#ed7953"
             ],
             [
              0.7777777777777778,
              "#fb9f3a"
             ],
             [
              0.8888888888888888,
              "#fdca26"
             ],
             [
              1,
              "#f0f921"
             ]
            ],
            "type": "histogram2d"
           }
          ],
          "histogram2dcontour": [
           {
            "colorbar": {
             "outlinewidth": 0,
             "ticks": ""
            },
            "colorscale": [
             [
              0,
              "#0d0887"
             ],
             [
              0.1111111111111111,
              "#46039f"
             ],
             [
              0.2222222222222222,
              "#7201a8"
             ],
             [
              0.3333333333333333,
              "#9c179e"
             ],
             [
              0.4444444444444444,
              "#bd3786"
             ],
             [
              0.5555555555555556,
              "#d8576b"
             ],
             [
              0.6666666666666666,
              "#ed7953"
             ],
             [
              0.7777777777777778,
              "#fb9f3a"
             ],
             [
              0.8888888888888888,
              "#fdca26"
             ],
             [
              1,
              "#f0f921"
             ]
            ],
            "type": "histogram2dcontour"
           }
          ],
          "mesh3d": [
           {
            "colorbar": {
             "outlinewidth": 0,
             "ticks": ""
            },
            "type": "mesh3d"
           }
          ],
          "parcoords": [
           {
            "line": {
             "colorbar": {
              "outlinewidth": 0,
              "ticks": ""
             }
            },
            "type": "parcoords"
           }
          ],
          "pie": [
           {
            "automargin": true,
            "type": "pie"
           }
          ],
          "scatter": [
           {
            "fillpattern": {
             "fillmode": "overlay",
             "size": 10,
             "solidity": 0.2
            },
            "type": "scatter"
           }
          ],
          "scatter3d": [
           {
            "line": {
             "colorbar": {
              "outlinewidth": 0,
              "ticks": ""
             }
            },
            "marker": {
             "colorbar": {
              "outlinewidth": 0,
              "ticks": ""
             }
            },
            "type": "scatter3d"
           }
          ],
          "scattercarpet": [
           {
            "marker": {
             "colorbar": {
              "outlinewidth": 0,
              "ticks": ""
             }
            },
            "type": "scattercarpet"
           }
          ],
          "scattergeo": [
           {
            "marker": {
             "colorbar": {
              "outlinewidth": 0,
              "ticks": ""
             }
            },
            "type": "scattergeo"
           }
          ],
          "scattergl": [
           {
            "marker": {
             "colorbar": {
              "outlinewidth": 0,
              "ticks": ""
             }
            },
            "type": "scattergl"
           }
          ],
          "scattermapbox": [
           {
            "marker": {
             "colorbar": {
              "outlinewidth": 0,
              "ticks": ""
             }
            },
            "type": "scattermapbox"
           }
          ],
          "scatterpolar": [
           {
            "marker": {
             "colorbar": {
              "outlinewidth": 0,
              "ticks": ""
             }
            },
            "type": "scatterpolar"
           }
          ],
          "scatterpolargl": [
           {
            "marker": {
             "colorbar": {
              "outlinewidth": 0,
              "ticks": ""
             }
            },
            "type": "scatterpolargl"
           }
          ],
          "scatterternary": [
           {
            "marker": {
             "colorbar": {
              "outlinewidth": 0,
              "ticks": ""
             }
            },
            "type": "scatterternary"
           }
          ],
          "surface": [
           {
            "colorbar": {
             "outlinewidth": 0,
             "ticks": ""
            },
            "colorscale": [
             [
              0,
              "#0d0887"
             ],
             [
              0.1111111111111111,
              "#46039f"
             ],
             [
              0.2222222222222222,
              "#7201a8"
             ],
             [
              0.3333333333333333,
              "#9c179e"
             ],
             [
              0.4444444444444444,
              "#bd3786"
             ],
             [
              0.5555555555555556,
              "#d8576b"
             ],
             [
              0.6666666666666666,
              "#ed7953"
             ],
             [
              0.7777777777777778,
              "#fb9f3a"
             ],
             [
              0.8888888888888888,
              "#fdca26"
             ],
             [
              1,
              "#f0f921"
             ]
            ],
            "type": "surface"
           }
          ],
          "table": [
           {
            "cells": {
             "fill": {
              "color": "#EBF0F8"
             },
             "line": {
              "color": "white"
             }
            },
            "header": {
             "fill": {
              "color": "#C8D4E3"
             },
             "line": {
              "color": "white"
             }
            },
            "type": "table"
           }
          ]
         },
         "layout": {
          "annotationdefaults": {
           "arrowcolor": "#2a3f5f",
           "arrowhead": 0,
           "arrowwidth": 1
          },
          "autotypenumbers": "strict",
          "coloraxis": {
           "colorbar": {
            "outlinewidth": 0,
            "ticks": ""
           }
          },
          "colorscale": {
           "diverging": [
            [
             0,
             "#8e0152"
            ],
            [
             0.1,
             "#c51b7d"
            ],
            [
             0.2,
             "#de77ae"
            ],
            [
             0.3,
             "#f1b6da"
            ],
            [
             0.4,
             "#fde0ef"
            ],
            [
             0.5,
             "#f7f7f7"
            ],
            [
             0.6,
             "#e6f5d0"
            ],
            [
             0.7,
             "#b8e186"
            ],
            [
             0.8,
             "#7fbc41"
            ],
            [
             0.9,
             "#4d9221"
            ],
            [
             1,
             "#276419"
            ]
           ],
           "sequential": [
            [
             0,
             "#0d0887"
            ],
            [
             0.1111111111111111,
             "#46039f"
            ],
            [
             0.2222222222222222,
             "#7201a8"
            ],
            [
             0.3333333333333333,
             "#9c179e"
            ],
            [
             0.4444444444444444,
             "#bd3786"
            ],
            [
             0.5555555555555556,
             "#d8576b"
            ],
            [
             0.6666666666666666,
             "#ed7953"
            ],
            [
             0.7777777777777778,
             "#fb9f3a"
            ],
            [
             0.8888888888888888,
             "#fdca26"
            ],
            [
             1,
             "#f0f921"
            ]
           ],
           "sequentialminus": [
            [
             0,
             "#0d0887"
            ],
            [
             0.1111111111111111,
             "#46039f"
            ],
            [
             0.2222222222222222,
             "#7201a8"
            ],
            [
             0.3333333333333333,
             "#9c179e"
            ],
            [
             0.4444444444444444,
             "#bd3786"
            ],
            [
             0.5555555555555556,
             "#d8576b"
            ],
            [
             0.6666666666666666,
             "#ed7953"
            ],
            [
             0.7777777777777778,
             "#fb9f3a"
            ],
            [
             0.8888888888888888,
             "#fdca26"
            ],
            [
             1,
             "#f0f921"
            ]
           ]
          },
          "colorway": [
           "#636efa",
           "#EF553B",
           "#00cc96",
           "#ab63fa",
           "#FFA15A",
           "#19d3f3",
           "#FF6692",
           "#B6E880",
           "#FF97FF",
           "#FECB52"
          ],
          "font": {
           "color": "#2a3f5f"
          },
          "geo": {
           "bgcolor": "white",
           "lakecolor": "white",
           "landcolor": "#E5ECF6",
           "showlakes": true,
           "showland": true,
           "subunitcolor": "white"
          },
          "hoverlabel": {
           "align": "left"
          },
          "hovermode": "closest",
          "mapbox": {
           "style": "light"
          },
          "paper_bgcolor": "white",
          "plot_bgcolor": "#E5ECF6",
          "polar": {
           "angularaxis": {
            "gridcolor": "white",
            "linecolor": "white",
            "ticks": ""
           },
           "bgcolor": "#E5ECF6",
           "radialaxis": {
            "gridcolor": "white",
            "linecolor": "white",
            "ticks": ""
           }
          },
          "scene": {
           "xaxis": {
            "backgroundcolor": "#E5ECF6",
            "gridcolor": "white",
            "gridwidth": 2,
            "linecolor": "white",
            "showbackground": true,
            "ticks": "",
            "zerolinecolor": "white"
           },
           "yaxis": {
            "backgroundcolor": "#E5ECF6",
            "gridcolor": "white",
            "gridwidth": 2,
            "linecolor": "white",
            "showbackground": true,
            "ticks": "",
            "zerolinecolor": "white"
           },
           "zaxis": {
            "backgroundcolor": "#E5ECF6",
            "gridcolor": "white",
            "gridwidth": 2,
            "linecolor": "white",
            "showbackground": true,
            "ticks": "",
            "zerolinecolor": "white"
           }
          },
          "shapedefaults": {
           "line": {
            "color": "#2a3f5f"
           }
          },
          "ternary": {
           "aaxis": {
            "gridcolor": "white",
            "linecolor": "white",
            "ticks": ""
           },
           "baxis": {
            "gridcolor": "white",
            "linecolor": "white",
            "ticks": ""
           },
           "bgcolor": "#E5ECF6",
           "caxis": {
            "gridcolor": "white",
            "linecolor": "white",
            "ticks": ""
           }
          },
          "title": {
           "x": 0.05
          },
          "xaxis": {
           "automargin": true,
           "gridcolor": "white",
           "linecolor": "white",
           "ticks": "",
           "title": {
            "standoff": 15
           },
           "zerolinecolor": "white",
           "zerolinewidth": 2
          },
          "yaxis": {
           "automargin": true,
           "gridcolor": "white",
           "linecolor": "white",
           "ticks": "",
           "title": {
            "standoff": 15
           },
           "zerolinecolor": "white",
           "zerolinewidth": 2
          }
         }
        },
        "violinmode": "group",
        "xaxis": {
         "anchor": "y",
         "domain": [
          0,
          1
         ],
         "title": {
          "text": "search_config"
         }
        },
        "yaxis": {
         "anchor": "x",
         "domain": [
          0,
          1
         ],
         "title": {
          "text": "value"
         }
        }
       }
      },
      "text/html": [
       "<div>                            <div id=\"05e55fc2-d0b4-44d5-b2b4-3453c8fca97e\" class=\"plotly-graph-div\" style=\"height:525px; width:100%;\"></div>            <script type=\"text/javascript\">                require([\"plotly\"], function(Plotly) {                    window.PLOTLYENV=window.PLOTLYENV || {};                                    if (document.getElementById(\"05e55fc2-d0b4-44d5-b2b4-3453c8fca97e\")) {                    Plotly.newPlot(                        \"05e55fc2-d0b4-44d5-b2b4-3453c8fca97e\",                        [{\"alignmentgroup\":\"True\",\"box\":{\"visible\":false},\"customdata\":[[\"jaccard\",\"4t camo sweat shirt\",\"2024-06-25\"],[\"jaccard\",\"all day office chair\",\"2024-06-25\"],[\"jaccard\",\"bluray movie collection\",\"2024-06-25\"],[\"jaccard\",\"citizen limited edition\",\"2024-06-25\"],[\"jaccard\",\"cruz comunion ni\\u00f1o\",\"2024-06-25\"],[\"jaccard\",\"explorer k2\",\"2024-06-25\"],[\"jaccard\",\"fishing pole\",\"2024-06-25\"],[\"jaccard\",\"gold shirt women\",\"2024-06-25\"],[\"jaccard\",\"green wall decals\",\"2024-06-25\"],[\"jaccard\",\"habitrail ovo twist\",\"2024-06-25\"],[\"jaccard\",\"nail light\",\"2024-06-25\"],[\"jaccard\",\"northface hydration packs\",\"2024-06-25\"],[\"jaccard\",\"one man and his dog\",\"2024-06-25\"],[\"jaccard\",\"small dog muzzle\",\"2024-06-25\"],[\"jaccard\",\"vape pen\",\"2024-06-25\"],[\"jaccard\",\"\\u3086\\u3046\\u3073\\u3093\\u756a\\u53f7\\u67a0\\u5165\\u308a \\u306f\\u304c\\u304d \\u5207\\u624b\\u306a\\u3057\",\"2024-06-25\"],[\"jaccard\",\"\\u30a8\\u30d7\\u30ed\\u30f3 \\u5b50\\u4f9b\",\"2024-06-25\"],[\"jaccard\",\"\\u30b9\\u30de\\u30db \\u30ec\\u30fc\\u30c0\\u30fc\\u63a2\\u77e5\\u6a5f\",\"2024-06-25\"],[\"jaccard\",\"\\u65b0\\u7c73\",\"2024-06-25\"],[\"jaccard\",\"\\u821e\\u53f0 \\u30a2\\u30a4\\u30b7\\u30e3\\u30c9\\u30a6\",\"2024-06-25\"],[\"jaccard\",\"4t camo sweat shirt\",\"2024-06-26\"],[\"jaccard\",\"all day office chair\",\"2024-06-26\"],[\"jaccard\",\"bluray movie collection\",\"2024-06-26\"],[\"jaccard\",\"citizen limited edition\",\"2024-06-26\"],[\"jaccard\",\"cruz comunion ni\\u00f1o\",\"2024-06-26\"],[\"jaccard\",\"explorer k2\",\"2024-06-26\"],[\"jaccard\",\"fishing pole\",\"2024-06-26\"],[\"jaccard\",\"gold shirt women\",\"2024-06-26\"],[\"jaccard\",\"green wall decals\",\"2024-06-26\"],[\"jaccard\",\"habitrail ovo twist\",\"2024-06-26\"],[\"jaccard\",\"nail light\",\"2024-06-26\"],[\"jaccard\",\"northface hydration packs\",\"2024-06-26\"],[\"jaccard\",\"one man and his dog\",\"2024-06-26\"],[\"jaccard\",\"small dog muzzle\",\"2024-06-26\"],[\"jaccard\",\"vape pen\",\"2024-06-26\"],[\"jaccard\",\"\\u3086\\u3046\\u3073\\u3093\\u756a\\u53f7\\u67a0\\u5165\\u308a \\u306f\\u304c\\u304d \\u5207\\u624b\\u306a\\u3057\",\"2024-06-26\"],[\"jaccard\",\"\\u30a8\\u30d7\\u30ed\\u30f3 \\u5b50\\u4f9b\",\"2024-06-26\"],[\"jaccard\",\"\\u30b9\\u30de\\u30db \\u30ec\\u30fc\\u30c0\\u30fc\\u63a2\\u77e5\\u6a5f\",\"2024-06-26\"],[\"jaccard\",\"\\u65b0\\u7c73\",\"2024-06-26\"],[\"jaccard\",\"\\u821e\\u53f0 \\u30a2\\u30a4\\u30b7\\u30e3\\u30c9\\u30a6\",\"2024-06-26\"],[\"jaccard\",\"4t camo sweat shirt\",\"2024-06-27\"],[\"jaccard\",\"all day office chair\",\"2024-06-27\"],[\"jaccard\",\"bluray movie collection\",\"2024-06-27\"],[\"jaccard\",\"citizen limited edition\",\"2024-06-27\"],[\"jaccard\",\"cruz comunion ni\\u00f1o\",\"2024-06-27\"],[\"jaccard\",\"explorer k2\",\"2024-06-27\"],[\"jaccard\",\"fishing pole\",\"2024-06-27\"],[\"jaccard\",\"gold shirt women\",\"2024-06-27\"],[\"jaccard\",\"green wall decals\",\"2024-06-27\"],[\"jaccard\",\"habitrail ovo twist\",\"2024-06-27\"],[\"jaccard\",\"nail light\",\"2024-06-27\"],[\"jaccard\",\"northface hydration packs\",\"2024-06-27\"],[\"jaccard\",\"one man and his dog\",\"2024-06-27\"],[\"jaccard\",\"small dog muzzle\",\"2024-06-27\"],[\"jaccard\",\"vape pen\",\"2024-06-27\"],[\"jaccard\",\"\\u3086\\u3046\\u3073\\u3093\\u756a\\u53f7\\u67a0\\u5165\\u308a \\u306f\\u304c\\u304d \\u5207\\u624b\\u306a\\u3057\",\"2024-06-27\"],[\"jaccard\",\"\\u30a8\\u30d7\\u30ed\\u30f3 \\u5b50\\u4f9b\",\"2024-06-27\"],[\"jaccard\",\"\\u30b9\\u30de\\u30db \\u30ec\\u30fc\\u30c0\\u30fc\\u63a2\\u77e5\\u6a5f\",\"2024-06-27\"],[\"jaccard\",\"\\u65b0\\u7c73\",\"2024-06-27\"],[\"jaccard\",\"\\u821e\\u53f0 \\u30a2\\u30a4\\u30b7\\u30e3\\u30c9\\u30a6\",\"2024-06-27\"],[\"jaccard\",\"4t camo sweat shirt\",\"2024-06-28\"],[\"jaccard\",\"all day office chair\",\"2024-06-28\"],[\"jaccard\",\"bluray movie collection\",\"2024-06-28\"],[\"jaccard\",\"citizen limited edition\",\"2024-06-28\"],[\"jaccard\",\"cruz comunion ni\\u00f1o\",\"2024-06-28\"],[\"jaccard\",\"explorer k2\",\"2024-06-28\"],[\"jaccard\",\"fishing pole\",\"2024-06-28\"],[\"jaccard\",\"gold shirt women\",\"2024-06-28\"],[\"jaccard\",\"green wall decals\",\"2024-06-28\"],[\"jaccard\",\"habitrail ovo twist\",\"2024-06-28\"],[\"jaccard\",\"nail light\",\"2024-06-28\"],[\"jaccard\",\"northface hydration packs\",\"2024-06-28\"],[\"jaccard\",\"one man and his dog\",\"2024-06-28\"],[\"jaccard\",\"small dog muzzle\",\"2024-06-28\"],[\"jaccard\",\"vape pen\",\"2024-06-28\"],[\"jaccard\",\"\\u3086\\u3046\\u3073\\u3093\\u756a\\u53f7\\u67a0\\u5165\\u308a \\u306f\\u304c\\u304d \\u5207\\u624b\\u306a\\u3057\",\"2024-06-28\"],[\"jaccard\",\"\\u30a8\\u30d7\\u30ed\\u30f3 \\u5b50\\u4f9b\",\"2024-06-28\"],[\"jaccard\",\"\\u30b9\\u30de\\u30db \\u30ec\\u30fc\\u30c0\\u30fc\\u63a2\\u77e5\\u6a5f\",\"2024-06-28\"],[\"jaccard\",\"\\u65b0\\u7c73\",\"2024-06-28\"],[\"jaccard\",\"\\u821e\\u53f0 \\u30a2\\u30a4\\u30b7\\u30e3\\u30c9\\u30a6\",\"2024-06-28\"],[\"jaccard\",\"4t camo sweat shirt\",\"2024-06-29\"],[\"jaccard\",\"all day office chair\",\"2024-06-29\"],[\"jaccard\",\"bluray movie collection\",\"2024-06-29\"],[\"jaccard\",\"citizen limited edition\",\"2024-06-29\"],[\"jaccard\",\"cruz comunion ni\\u00f1o\",\"2024-06-29\"],[\"jaccard\",\"explorer k2\",\"2024-06-29\"],[\"jaccard\",\"fishing pole\",\"2024-06-29\"],[\"jaccard\",\"gold shirt women\",\"2024-06-29\"],[\"jaccard\",\"green wall decals\",\"2024-06-29\"],[\"jaccard\",\"habitrail ovo twist\",\"2024-06-29\"],[\"jaccard\",\"nail light\",\"2024-06-29\"],[\"jaccard\",\"northface hydration packs\",\"2024-06-29\"],[\"jaccard\",\"one man and his dog\",\"2024-06-29\"],[\"jaccard\",\"small dog muzzle\",\"2024-06-29\"],[\"jaccard\",\"vape pen\",\"2024-06-29\"],[\"jaccard\",\"\\u3086\\u3046\\u3073\\u3093\\u756a\\u53f7\\u67a0\\u5165\\u308a \\u306f\\u304c\\u304d \\u5207\\u624b\\u306a\\u3057\",\"2024-06-29\"],[\"jaccard\",\"\\u30a8\\u30d7\\u30ed\\u30f3 \\u5b50\\u4f9b\",\"2024-06-29\"],[\"jaccard\",\"\\u30b9\\u30de\\u30db \\u30ec\\u30fc\\u30c0\\u30fc\\u63a2\\u77e5\\u6a5f\",\"2024-06-29\"],[\"jaccard\",\"\\u65b0\\u7c73\",\"2024-06-29\"],[\"jaccard\",\"\\u821e\\u53f0 \\u30a2\\u30a4\\u30b7\\u30e3\\u30c9\\u30a6\",\"2024-06-29\"],[\"jaccard\",\"4t camo sweat shirt\",\"2024-06-30\"],[\"jaccard\",\"all day office chair\",\"2024-06-30\"],[\"jaccard\",\"bluray movie collection\",\"2024-06-30\"],[\"jaccard\",\"citizen limited edition\",\"2024-06-30\"],[\"jaccard\",\"cruz comunion ni\\u00f1o\",\"2024-06-30\"],[\"jaccard\",\"explorer k2\",\"2024-06-30\"],[\"jaccard\",\"fishing pole\",\"2024-06-30\"],[\"jaccard\",\"gold shirt women\",\"2024-06-30\"],[\"jaccard\",\"green wall decals\",\"2024-06-30\"],[\"jaccard\",\"habitrail ovo twist\",\"2024-06-30\"],[\"jaccard\",\"nail light\",\"2024-06-30\"],[\"jaccard\",\"northface hydration packs\",\"2024-06-30\"],[\"jaccard\",\"one man and his dog\",\"2024-06-30\"],[\"jaccard\",\"small dog muzzle\",\"2024-06-30\"],[\"jaccard\",\"vape pen\",\"2024-06-30\"],[\"jaccard\",\"\\u3086\\u3046\\u3073\\u3093\\u756a\\u53f7\\u67a0\\u5165\\u308a \\u306f\\u304c\\u304d \\u5207\\u624b\\u306a\\u3057\",\"2024-06-30\"],[\"jaccard\",\"\\u30a8\\u30d7\\u30ed\\u30f3 \\u5b50\\u4f9b\",\"2024-06-30\"],[\"jaccard\",\"\\u30b9\\u30de\\u30db \\u30ec\\u30fc\\u30c0\\u30fc\\u63a2\\u77e5\\u6a5f\",\"2024-06-30\"],[\"jaccard\",\"\\u65b0\\u7c73\",\"2024-06-30\"],[\"jaccard\",\"\\u821e\\u53f0 \\u30a2\\u30a4\\u30b7\\u30e3\\u30c9\\u30a6\",\"2024-06-30\"],[\"jaccard\",\"4t camo sweat shirt\",\"2024-07-01\"],[\"jaccard\",\"all day office chair\",\"2024-07-01\"],[\"jaccard\",\"bluray movie collection\",\"2024-07-01\"],[\"jaccard\",\"citizen limited edition\",\"2024-07-01\"],[\"jaccard\",\"cruz comunion ni\\u00f1o\",\"2024-07-01\"],[\"jaccard\",\"explorer k2\",\"2024-07-01\"],[\"jaccard\",\"fishing pole\",\"2024-07-01\"],[\"jaccard\",\"gold shirt women\",\"2024-07-01\"],[\"jaccard\",\"green wall decals\",\"2024-07-01\"],[\"jaccard\",\"habitrail ovo twist\",\"2024-07-01\"],[\"jaccard\",\"nail light\",\"2024-07-01\"],[\"jaccard\",\"northface hydration packs\",\"2024-07-01\"],[\"jaccard\",\"one man and his dog\",\"2024-07-01\"],[\"jaccard\",\"small dog muzzle\",\"2024-07-01\"],[\"jaccard\",\"vape pen\",\"2024-07-01\"],[\"jaccard\",\"\\u3086\\u3046\\u3073\\u3093\\u756a\\u53f7\\u67a0\\u5165\\u308a \\u306f\\u304c\\u304d \\u5207\\u624b\\u306a\\u3057\",\"2024-07-01\"],[\"jaccard\",\"\\u30a8\\u30d7\\u30ed\\u30f3 \\u5b50\\u4f9b\",\"2024-07-01\"],[\"jaccard\",\"\\u30b9\\u30de\\u30db \\u30ec\\u30fc\\u30c0\\u30fc\\u63a2\\u77e5\\u6a5f\",\"2024-07-01\"],[\"jaccard\",\"\\u65b0\\u7c73\",\"2024-07-01\"],[\"jaccard\",\"\\u821e\\u53f0 \\u30a2\\u30a4\\u30b7\\u30e3\\u30c9\\u30a6\",\"2024-07-01\"],[\"jaccard\",\"4t camo sweat shirt\",\"2024-06-25\"],[\"jaccard\",\"all day office chair\",\"2024-06-25\"],[\"jaccard\",\"bluray movie collection\",\"2024-06-25\"],[\"jaccard\",\"citizen limited edition\",\"2024-06-25\"],[\"jaccard\",\"cruz comunion ni\\u00f1o\",\"2024-06-25\"],[\"jaccard\",\"explorer k2\",\"2024-06-25\"],[\"jaccard\",\"fishing pole\",\"2024-06-25\"],[\"jaccard\",\"gold shirt women\",\"2024-06-25\"],[\"jaccard\",\"green wall decals\",\"2024-06-25\"],[\"jaccard\",\"habitrail ovo twist\",\"2024-06-25\"],[\"jaccard\",\"nail light\",\"2024-06-25\"],[\"jaccard\",\"northface hydration packs\",\"2024-06-25\"],[\"jaccard\",\"one man and his dog\",\"2024-06-25\"],[\"jaccard\",\"small dog muzzle\",\"2024-06-25\"],[\"jaccard\",\"vape pen\",\"2024-06-25\"],[\"jaccard\",\"\\u3086\\u3046\\u3073\\u3093\\u756a\\u53f7\\u67a0\\u5165\\u308a \\u306f\\u304c\\u304d \\u5207\\u624b\\u306a\\u3057\",\"2024-06-25\"],[\"jaccard\",\"\\u30a8\\u30d7\\u30ed\\u30f3 \\u5b50\\u4f9b\",\"2024-06-25\"],[\"jaccard\",\"\\u30b9\\u30de\\u30db \\u30ec\\u30fc\\u30c0\\u30fc\\u63a2\\u77e5\\u6a5f\",\"2024-06-25\"],[\"jaccard\",\"\\u65b0\\u7c73\",\"2024-06-25\"],[\"jaccard\",\"\\u821e\\u53f0 \\u30a2\\u30a4\\u30b7\\u30e3\\u30c9\\u30a6\",\"2024-06-25\"],[\"jaccard\",\"4t camo sweat shirt\",\"2024-06-26\"],[\"jaccard\",\"all day office chair\",\"2024-06-26\"],[\"jaccard\",\"bluray movie collection\",\"2024-06-26\"],[\"jaccard\",\"citizen limited edition\",\"2024-06-26\"],[\"jaccard\",\"cruz comunion ni\\u00f1o\",\"2024-06-26\"],[\"jaccard\",\"explorer k2\",\"2024-06-26\"],[\"jaccard\",\"fishing pole\",\"2024-06-26\"],[\"jaccard\",\"gold shirt women\",\"2024-06-26\"],[\"jaccard\",\"green wall decals\",\"2024-06-26\"],[\"jaccard\",\"habitrail ovo twist\",\"2024-06-26\"],[\"jaccard\",\"nail light\",\"2024-06-26\"],[\"jaccard\",\"northface hydration packs\",\"2024-06-26\"],[\"jaccard\",\"one man and his dog\",\"2024-06-26\"],[\"jaccard\",\"small dog muzzle\",\"2024-06-26\"],[\"jaccard\",\"vape pen\",\"2024-06-26\"],[\"jaccard\",\"\\u3086\\u3046\\u3073\\u3093\\u756a\\u53f7\\u67a0\\u5165\\u308a \\u306f\\u304c\\u304d \\u5207\\u624b\\u306a\\u3057\",\"2024-06-26\"],[\"jaccard\",\"\\u30a8\\u30d7\\u30ed\\u30f3 \\u5b50\\u4f9b\",\"2024-06-26\"],[\"jaccard\",\"\\u30b9\\u30de\\u30db \\u30ec\\u30fc\\u30c0\\u30fc\\u63a2\\u77e5\\u6a5f\",\"2024-06-26\"],[\"jaccard\",\"\\u65b0\\u7c73\",\"2024-06-26\"],[\"jaccard\",\"\\u821e\\u53f0 \\u30a2\\u30a4\\u30b7\\u30e3\\u30c9\\u30a6\",\"2024-06-26\"],[\"jaccard\",\"4t camo sweat shirt\",\"2024-06-27\"],[\"jaccard\",\"all day office chair\",\"2024-06-27\"],[\"jaccard\",\"bluray movie collection\",\"2024-06-27\"],[\"jaccard\",\"citizen limited edition\",\"2024-06-27\"],[\"jaccard\",\"cruz comunion ni\\u00f1o\",\"2024-06-27\"],[\"jaccard\",\"explorer k2\",\"2024-06-27\"],[\"jaccard\",\"fishing pole\",\"2024-06-27\"],[\"jaccard\",\"gold shirt women\",\"2024-06-27\"],[\"jaccard\",\"green wall decals\",\"2024-06-27\"],[\"jaccard\",\"habitrail ovo twist\",\"2024-06-27\"],[\"jaccard\",\"nail light\",\"2024-06-27\"],[\"jaccard\",\"northface hydration packs\",\"2024-06-27\"],[\"jaccard\",\"one man and his dog\",\"2024-06-27\"],[\"jaccard\",\"small dog muzzle\",\"2024-06-27\"],[\"jaccard\",\"vape pen\",\"2024-06-27\"],[\"jaccard\",\"\\u3086\\u3046\\u3073\\u3093\\u756a\\u53f7\\u67a0\\u5165\\u308a \\u306f\\u304c\\u304d \\u5207\\u624b\\u306a\\u3057\",\"2024-06-27\"],[\"jaccard\",\"\\u30a8\\u30d7\\u30ed\\u30f3 \\u5b50\\u4f9b\",\"2024-06-27\"],[\"jaccard\",\"\\u30b9\\u30de\\u30db \\u30ec\\u30fc\\u30c0\\u30fc\\u63a2\\u77e5\\u6a5f\",\"2024-06-27\"],[\"jaccard\",\"\\u65b0\\u7c73\",\"2024-06-27\"],[\"jaccard\",\"\\u821e\\u53f0 \\u30a2\\u30a4\\u30b7\\u30e3\\u30c9\\u30a6\",\"2024-06-27\"],[\"jaccard\",\"4t camo sweat shirt\",\"2024-06-28\"],[\"jaccard\",\"all day office chair\",\"2024-06-28\"],[\"jaccard\",\"bluray movie collection\",\"2024-06-28\"],[\"jaccard\",\"citizen limited edition\",\"2024-06-28\"],[\"jaccard\",\"cruz comunion ni\\u00f1o\",\"2024-06-28\"],[\"jaccard\",\"explorer k2\",\"2024-06-28\"],[\"jaccard\",\"fishing pole\",\"2024-06-28\"],[\"jaccard\",\"gold shirt women\",\"2024-06-28\"],[\"jaccard\",\"green wall decals\",\"2024-06-28\"],[\"jaccard\",\"habitrail ovo twist\",\"2024-06-28\"],[\"jaccard\",\"nail light\",\"2024-06-28\"],[\"jaccard\",\"northface hydration packs\",\"2024-06-28\"],[\"jaccard\",\"one man and his dog\",\"2024-06-28\"],[\"jaccard\",\"small dog muzzle\",\"2024-06-28\"],[\"jaccard\",\"vape pen\",\"2024-06-28\"],[\"jaccard\",\"\\u3086\\u3046\\u3073\\u3093\\u756a\\u53f7\\u67a0\\u5165\\u308a \\u306f\\u304c\\u304d \\u5207\\u624b\\u306a\\u3057\",\"2024-06-28\"],[\"jaccard\",\"\\u30a8\\u30d7\\u30ed\\u30f3 \\u5b50\\u4f9b\",\"2024-06-28\"],[\"jaccard\",\"\\u30b9\\u30de\\u30db \\u30ec\\u30fc\\u30c0\\u30fc\\u63a2\\u77e5\\u6a5f\",\"2024-06-28\"],[\"jaccard\",\"\\u65b0\\u7c73\",\"2024-06-28\"],[\"jaccard\",\"\\u821e\\u53f0 \\u30a2\\u30a4\\u30b7\\u30e3\\u30c9\\u30a6\",\"2024-06-28\"],[\"jaccard\",\"4t camo sweat shirt\",\"2024-06-29\"],[\"jaccard\",\"all day office chair\",\"2024-06-29\"],[\"jaccard\",\"bluray movie collection\",\"2024-06-29\"],[\"jaccard\",\"citizen limited edition\",\"2024-06-29\"],[\"jaccard\",\"cruz comunion ni\\u00f1o\",\"2024-06-29\"],[\"jaccard\",\"explorer k2\",\"2024-06-29\"],[\"jaccard\",\"fishing pole\",\"2024-06-29\"],[\"jaccard\",\"gold shirt women\",\"2024-06-29\"],[\"jaccard\",\"green wall decals\",\"2024-06-29\"],[\"jaccard\",\"habitrail ovo twist\",\"2024-06-29\"],[\"jaccard\",\"nail light\",\"2024-06-29\"],[\"jaccard\",\"northface hydration packs\",\"2024-06-29\"],[\"jaccard\",\"one man and his dog\",\"2024-06-29\"],[\"jaccard\",\"small dog muzzle\",\"2024-06-29\"],[\"jaccard\",\"vape pen\",\"2024-06-29\"],[\"jaccard\",\"\\u3086\\u3046\\u3073\\u3093\\u756a\\u53f7\\u67a0\\u5165\\u308a \\u306f\\u304c\\u304d \\u5207\\u624b\\u306a\\u3057\",\"2024-06-29\"],[\"jaccard\",\"\\u30a8\\u30d7\\u30ed\\u30f3 \\u5b50\\u4f9b\",\"2024-06-29\"],[\"jaccard\",\"\\u30b9\\u30de\\u30db \\u30ec\\u30fc\\u30c0\\u30fc\\u63a2\\u77e5\\u6a5f\",\"2024-06-29\"],[\"jaccard\",\"\\u65b0\\u7c73\",\"2024-06-29\"],[\"jaccard\",\"\\u821e\\u53f0 \\u30a2\\u30a4\\u30b7\\u30e3\\u30c9\\u30a6\",\"2024-06-29\"],[\"jaccard\",\"4t camo sweat shirt\",\"2024-06-30\"],[\"jaccard\",\"all day office chair\",\"2024-06-30\"],[\"jaccard\",\"bluray movie collection\",\"2024-06-30\"],[\"jaccard\",\"citizen limited edition\",\"2024-06-30\"],[\"jaccard\",\"cruz comunion ni\\u00f1o\",\"2024-06-30\"],[\"jaccard\",\"explorer k2\",\"2024-06-30\"],[\"jaccard\",\"fishing pole\",\"2024-06-30\"],[\"jaccard\",\"gold shirt women\",\"2024-06-30\"],[\"jaccard\",\"green wall decals\",\"2024-06-30\"],[\"jaccard\",\"habitrail ovo twist\",\"2024-06-30\"],[\"jaccard\",\"nail light\",\"2024-06-30\"],[\"jaccard\",\"northface hydration packs\",\"2024-06-30\"],[\"jaccard\",\"one man and his dog\",\"2024-06-30\"],[\"jaccard\",\"small dog muzzle\",\"2024-06-30\"],[\"jaccard\",\"vape pen\",\"2024-06-30\"],[\"jaccard\",\"\\u3086\\u3046\\u3073\\u3093\\u756a\\u53f7\\u67a0\\u5165\\u308a \\u306f\\u304c\\u304d \\u5207\\u624b\\u306a\\u3057\",\"2024-06-30\"],[\"jaccard\",\"\\u30a8\\u30d7\\u30ed\\u30f3 \\u5b50\\u4f9b\",\"2024-06-30\"],[\"jaccard\",\"\\u30b9\\u30de\\u30db \\u30ec\\u30fc\\u30c0\\u30fc\\u63a2\\u77e5\\u6a5f\",\"2024-06-30\"],[\"jaccard\",\"\\u65b0\\u7c73\",\"2024-06-30\"],[\"jaccard\",\"\\u821e\\u53f0 \\u30a2\\u30a4\\u30b7\\u30e3\\u30c9\\u30a6\",\"2024-06-30\"],[\"jaccard\",\"4t camo sweat shirt\",\"2024-07-01\"],[\"jaccard\",\"all day office chair\",\"2024-07-01\"],[\"jaccard\",\"bluray movie collection\",\"2024-07-01\"],[\"jaccard\",\"citizen limited edition\",\"2024-07-01\"],[\"jaccard\",\"cruz comunion ni\\u00f1o\",\"2024-07-01\"],[\"jaccard\",\"explorer k2\",\"2024-07-01\"],[\"jaccard\",\"fishing pole\",\"2024-07-01\"],[\"jaccard\",\"gold shirt women\",\"2024-07-01\"],[\"jaccard\",\"green wall decals\",\"2024-07-01\"],[\"jaccard\",\"habitrail ovo twist\",\"2024-07-01\"],[\"jaccard\",\"nail light\",\"2024-07-01\"],[\"jaccard\",\"northface hydration packs\",\"2024-07-01\"],[\"jaccard\",\"one man and his dog\",\"2024-07-01\"],[\"jaccard\",\"small dog muzzle\",\"2024-07-01\"],[\"jaccard\",\"vape pen\",\"2024-07-01\"],[\"jaccard\",\"\\u3086\\u3046\\u3073\\u3093\\u756a\\u53f7\\u67a0\\u5165\\u308a \\u306f\\u304c\\u304d \\u5207\\u624b\\u306a\\u3057\",\"2024-07-01\"],[\"jaccard\",\"\\u30a8\\u30d7\\u30ed\\u30f3 \\u5b50\\u4f9b\",\"2024-07-01\"],[\"jaccard\",\"\\u30b9\\u30de\\u30db \\u30ec\\u30fc\\u30c0\\u30fc\\u63a2\\u77e5\\u6a5f\",\"2024-07-01\"],[\"jaccard\",\"\\u65b0\\u7c73\",\"2024-07-01\"],[\"jaccard\",\"\\u821e\\u53f0 \\u30a2\\u30a4\\u30b7\\u30e3\\u30c9\\u30a6\",\"2024-07-01\"],[\"jaccard\",\"4t camo sweat shirt\",\"2024-06-25\"],[\"jaccard\",\"all day office chair\",\"2024-06-25\"],[\"jaccard\",\"bluray movie collection\",\"2024-06-25\"],[\"jaccard\",\"citizen limited edition\",\"2024-06-25\"],[\"jaccard\",\"cruz comunion ni\\u00f1o\",\"2024-06-25\"],[\"jaccard\",\"explorer k2\",\"2024-06-25\"],[\"jaccard\",\"fishing pole\",\"2024-06-25\"],[\"jaccard\",\"gold shirt women\",\"2024-06-25\"],[\"jaccard\",\"green wall decals\",\"2024-06-25\"],[\"jaccard\",\"habitrail ovo twist\",\"2024-06-25\"],[\"jaccard\",\"nail light\",\"2024-06-25\"],[\"jaccard\",\"northface hydration packs\",\"2024-06-25\"],[\"jaccard\",\"one man and his dog\",\"2024-06-25\"],[\"jaccard\",\"small dog muzzle\",\"2024-06-25\"],[\"jaccard\",\"vape pen\",\"2024-06-25\"],[\"jaccard\",\"\\u3086\\u3046\\u3073\\u3093\\u756a\\u53f7\\u67a0\\u5165\\u308a \\u306f\\u304c\\u304d \\u5207\\u624b\\u306a\\u3057\",\"2024-06-25\"],[\"jaccard\",\"\\u30a8\\u30d7\\u30ed\\u30f3 \\u5b50\\u4f9b\",\"2024-06-25\"],[\"jaccard\",\"\\u30b9\\u30de\\u30db \\u30ec\\u30fc\\u30c0\\u30fc\\u63a2\\u77e5\\u6a5f\",\"2024-06-25\"],[\"jaccard\",\"\\u65b0\\u7c73\",\"2024-06-25\"],[\"jaccard\",\"\\u821e\\u53f0 \\u30a2\\u30a4\\u30b7\\u30e3\\u30c9\\u30a6\",\"2024-06-25\"],[\"jaccard\",\"4t camo sweat shirt\",\"2024-06-26\"],[\"jaccard\",\"all day office chair\",\"2024-06-26\"],[\"jaccard\",\"bluray movie collection\",\"2024-06-26\"],[\"jaccard\",\"citizen limited edition\",\"2024-06-26\"],[\"jaccard\",\"cruz comunion ni\\u00f1o\",\"2024-06-26\"],[\"jaccard\",\"explorer k2\",\"2024-06-26\"],[\"jaccard\",\"fishing pole\",\"2024-06-26\"],[\"jaccard\",\"gold shirt women\",\"2024-06-26\"],[\"jaccard\",\"green wall decals\",\"2024-06-26\"],[\"jaccard\",\"habitrail ovo twist\",\"2024-06-26\"],[\"jaccard\",\"nail light\",\"2024-06-26\"],[\"jaccard\",\"northface hydration packs\",\"2024-06-26\"],[\"jaccard\",\"one man and his dog\",\"2024-06-26\"],[\"jaccard\",\"small dog muzzle\",\"2024-06-26\"],[\"jaccard\",\"vape pen\",\"2024-06-26\"],[\"jaccard\",\"\\u3086\\u3046\\u3073\\u3093\\u756a\\u53f7\\u67a0\\u5165\\u308a \\u306f\\u304c\\u304d \\u5207\\u624b\\u306a\\u3057\",\"2024-06-26\"],[\"jaccard\",\"\\u30a8\\u30d7\\u30ed\\u30f3 \\u5b50\\u4f9b\",\"2024-06-26\"],[\"jaccard\",\"\\u30b9\\u30de\\u30db \\u30ec\\u30fc\\u30c0\\u30fc\\u63a2\\u77e5\\u6a5f\",\"2024-06-26\"],[\"jaccard\",\"\\u65b0\\u7c73\",\"2024-06-26\"],[\"jaccard\",\"\\u821e\\u53f0 \\u30a2\\u30a4\\u30b7\\u30e3\\u30c9\\u30a6\",\"2024-06-26\"],[\"jaccard\",\"4t camo sweat shirt\",\"2024-06-27\"],[\"jaccard\",\"all day office chair\",\"2024-06-27\"],[\"jaccard\",\"bluray movie collection\",\"2024-06-27\"],[\"jaccard\",\"citizen limited edition\",\"2024-06-27\"],[\"jaccard\",\"cruz comunion ni\\u00f1o\",\"2024-06-27\"],[\"jaccard\",\"explorer k2\",\"2024-06-27\"],[\"jaccard\",\"fishing pole\",\"2024-06-27\"],[\"jaccard\",\"gold shirt women\",\"2024-06-27\"],[\"jaccard\",\"green wall decals\",\"2024-06-27\"],[\"jaccard\",\"habitrail ovo twist\",\"2024-06-27\"],[\"jaccard\",\"nail light\",\"2024-06-27\"],[\"jaccard\",\"northface hydration packs\",\"2024-06-27\"],[\"jaccard\",\"one man and his dog\",\"2024-06-27\"],[\"jaccard\",\"small dog muzzle\",\"2024-06-27\"],[\"jaccard\",\"vape pen\",\"2024-06-27\"],[\"jaccard\",\"\\u3086\\u3046\\u3073\\u3093\\u756a\\u53f7\\u67a0\\u5165\\u308a \\u306f\\u304c\\u304d \\u5207\\u624b\\u306a\\u3057\",\"2024-06-27\"],[\"jaccard\",\"\\u30a8\\u30d7\\u30ed\\u30f3 \\u5b50\\u4f9b\",\"2024-06-27\"],[\"jaccard\",\"\\u30b9\\u30de\\u30db \\u30ec\\u30fc\\u30c0\\u30fc\\u63a2\\u77e5\\u6a5f\",\"2024-06-27\"],[\"jaccard\",\"\\u65b0\\u7c73\",\"2024-06-27\"],[\"jaccard\",\"\\u821e\\u53f0 \\u30a2\\u30a4\\u30b7\\u30e3\\u30c9\\u30a6\",\"2024-06-27\"],[\"jaccard\",\"4t camo sweat shirt\",\"2024-06-28\"],[\"jaccard\",\"all day office chair\",\"2024-06-28\"],[\"jaccard\",\"bluray movie collection\",\"2024-06-28\"],[\"jaccard\",\"citizen limited edition\",\"2024-06-28\"],[\"jaccard\",\"cruz comunion ni\\u00f1o\",\"2024-06-28\"],[\"jaccard\",\"explorer k2\",\"2024-06-28\"],[\"jaccard\",\"fishing pole\",\"2024-06-28\"],[\"jaccard\",\"gold shirt women\",\"2024-06-28\"],[\"jaccard\",\"green wall decals\",\"2024-06-28\"],[\"jaccard\",\"habitrail ovo twist\",\"2024-06-28\"],[\"jaccard\",\"nail light\",\"2024-06-28\"],[\"jaccard\",\"northface hydration packs\",\"2024-06-28\"],[\"jaccard\",\"one man and his dog\",\"2024-06-28\"],[\"jaccard\",\"small dog muzzle\",\"2024-06-28\"],[\"jaccard\",\"vape pen\",\"2024-06-28\"],[\"jaccard\",\"\\u3086\\u3046\\u3073\\u3093\\u756a\\u53f7\\u67a0\\u5165\\u308a \\u306f\\u304c\\u304d \\u5207\\u624b\\u306a\\u3057\",\"2024-06-28\"],[\"jaccard\",\"\\u30a8\\u30d7\\u30ed\\u30f3 \\u5b50\\u4f9b\",\"2024-06-28\"],[\"jaccard\",\"\\u30b9\\u30de\\u30db \\u30ec\\u30fc\\u30c0\\u30fc\\u63a2\\u77e5\\u6a5f\",\"2024-06-28\"],[\"jaccard\",\"\\u65b0\\u7c73\",\"2024-06-28\"],[\"jaccard\",\"\\u821e\\u53f0 \\u30a2\\u30a4\\u30b7\\u30e3\\u30c9\\u30a6\",\"2024-06-28\"],[\"jaccard\",\"4t camo sweat shirt\",\"2024-06-29\"],[\"jaccard\",\"all day office chair\",\"2024-06-29\"],[\"jaccard\",\"bluray movie collection\",\"2024-06-29\"],[\"jaccard\",\"citizen limited edition\",\"2024-06-29\"],[\"jaccard\",\"cruz comunion ni\\u00f1o\",\"2024-06-29\"],[\"jaccard\",\"explorer k2\",\"2024-06-29\"],[\"jaccard\",\"fishing pole\",\"2024-06-29\"],[\"jaccard\",\"gold shirt women\",\"2024-06-29\"],[\"jaccard\",\"green wall decals\",\"2024-06-29\"],[\"jaccard\",\"habitrail ovo twist\",\"2024-06-29\"],[\"jaccard\",\"nail light\",\"2024-06-29\"],[\"jaccard\",\"northface hydration packs\",\"2024-06-29\"],[\"jaccard\",\"one man and his dog\",\"2024-06-29\"],[\"jaccard\",\"small dog muzzle\",\"2024-06-29\"],[\"jaccard\",\"vape pen\",\"2024-06-29\"],[\"jaccard\",\"\\u3086\\u3046\\u3073\\u3093\\u756a\\u53f7\\u67a0\\u5165\\u308a \\u306f\\u304c\\u304d \\u5207\\u624b\\u306a\\u3057\",\"2024-06-29\"],[\"jaccard\",\"\\u30a8\\u30d7\\u30ed\\u30f3 \\u5b50\\u4f9b\",\"2024-06-29\"],[\"jaccard\",\"\\u30b9\\u30de\\u30db \\u30ec\\u30fc\\u30c0\\u30fc\\u63a2\\u77e5\\u6a5f\",\"2024-06-29\"],[\"jaccard\",\"\\u65b0\\u7c73\",\"2024-06-29\"],[\"jaccard\",\"\\u821e\\u53f0 \\u30a2\\u30a4\\u30b7\\u30e3\\u30c9\\u30a6\",\"2024-06-29\"],[\"jaccard\",\"4t camo sweat shirt\",\"2024-06-30\"],[\"jaccard\",\"all day office chair\",\"2024-06-30\"],[\"jaccard\",\"bluray movie collection\",\"2024-06-30\"],[\"jaccard\",\"citizen limited edition\",\"2024-06-30\"],[\"jaccard\",\"cruz comunion ni\\u00f1o\",\"2024-06-30\"],[\"jaccard\",\"explorer k2\",\"2024-06-30\"],[\"jaccard\",\"fishing pole\",\"2024-06-30\"],[\"jaccard\",\"gold shirt women\",\"2024-06-30\"],[\"jaccard\",\"green wall decals\",\"2024-06-30\"],[\"jaccard\",\"habitrail ovo twist\",\"2024-06-30\"],[\"jaccard\",\"nail light\",\"2024-06-30\"],[\"jaccard\",\"northface hydration packs\",\"2024-06-30\"],[\"jaccard\",\"one man and his dog\",\"2024-06-30\"],[\"jaccard\",\"small dog muzzle\",\"2024-06-30\"],[\"jaccard\",\"vape pen\",\"2024-06-30\"],[\"jaccard\",\"\\u3086\\u3046\\u3073\\u3093\\u756a\\u53f7\\u67a0\\u5165\\u308a \\u306f\\u304c\\u304d \\u5207\\u624b\\u306a\\u3057\",\"2024-06-30\"],[\"jaccard\",\"\\u30a8\\u30d7\\u30ed\\u30f3 \\u5b50\\u4f9b\",\"2024-06-30\"],[\"jaccard\",\"\\u30b9\\u30de\\u30db \\u30ec\\u30fc\\u30c0\\u30fc\\u63a2\\u77e5\\u6a5f\",\"2024-06-30\"],[\"jaccard\",\"\\u65b0\\u7c73\",\"2024-06-30\"],[\"jaccard\",\"\\u821e\\u53f0 \\u30a2\\u30a4\\u30b7\\u30e3\\u30c9\\u30a6\",\"2024-06-30\"],[\"jaccard\",\"4t camo sweat shirt\",\"2024-07-01\"],[\"jaccard\",\"all day office chair\",\"2024-07-01\"],[\"jaccard\",\"bluray movie collection\",\"2024-07-01\"],[\"jaccard\",\"citizen limited edition\",\"2024-07-01\"],[\"jaccard\",\"cruz comunion ni\\u00f1o\",\"2024-07-01\"],[\"jaccard\",\"explorer k2\",\"2024-07-01\"],[\"jaccard\",\"fishing pole\",\"2024-07-01\"],[\"jaccard\",\"gold shirt women\",\"2024-07-01\"],[\"jaccard\",\"green wall decals\",\"2024-07-01\"],[\"jaccard\",\"habitrail ovo twist\",\"2024-07-01\"],[\"jaccard\",\"nail light\",\"2024-07-01\"],[\"jaccard\",\"northface hydration packs\",\"2024-07-01\"],[\"jaccard\",\"one man and his dog\",\"2024-07-01\"],[\"jaccard\",\"small dog muzzle\",\"2024-07-01\"],[\"jaccard\",\"vape pen\",\"2024-07-01\"],[\"jaccard\",\"\\u3086\\u3046\\u3073\\u3093\\u756a\\u53f7\\u67a0\\u5165\\u308a \\u306f\\u304c\\u304d \\u5207\\u624b\\u306a\\u3057\",\"2024-07-01\"],[\"jaccard\",\"\\u30a8\\u30d7\\u30ed\\u30f3 \\u5b50\\u4f9b\",\"2024-07-01\"],[\"jaccard\",\"\\u30b9\\u30de\\u30db \\u30ec\\u30fc\\u30c0\\u30fc\\u63a2\\u77e5\\u6a5f\",\"2024-07-01\"],[\"jaccard\",\"\\u65b0\\u7c73\",\"2024-07-01\"],[\"jaccard\",\"\\u821e\\u53f0 \\u30a2\\u30a4\\u30b7\\u30e3\\u30c9\\u30a6\",\"2024-07-01\"]],\"hovertemplate\":\"metric=%{customdata[0]}\\u003cbr\\u003esearch_config=%{x}\\u003cbr\\u003evalue=%{y}\\u003cbr\\u003equery=%{customdata[1]}\\u003cbr\\u003edatetime=%{customdata[2]}\\u003cextra\\u003e\\u003c\\u002fextra\\u003e\",\"legendgroup\":\"jaccard\",\"marker\":{\"color\":\"#636efa\"},\"name\":\"jaccard\",\"offsetgroup\":\"jaccard\",\"orientation\":\"v\",\"points\":\"all\",\"scalegroup\":\"True\",\"showlegend\":true,\"x\":[\"research_1\",\"research_1\",\"research_1\",\"research_1\",\"research_1\",\"research_1\",\"research_1\",\"research_1\",\"research_1\",\"research_1\",\"research_1\",\"research_1\",\"research_1\",\"research_1\",\"research_1\",\"research_1\",\"research_1\",\"research_1\",\"research_1\",\"research_1\",\"research_1\",\"research_1\",\"research_1\",\"research_1\",\"research_1\",\"research_1\",\"research_1\",\"research_1\",\"research_1\",\"research_1\",\"research_1\",\"research_1\",\"research_1\",\"research_1\",\"research_1\",\"research_1\",\"research_1\",\"research_1\",\"research_1\",\"research_1\",\"research_1\",\"research_1\",\"research_1\",\"research_1\",\"research_1\",\"research_1\",\"research_1\",\"research_1\",\"research_1\",\"research_1\",\"research_1\",\"research_1\",\"research_1\",\"research_1\",\"research_1\",\"research_1\",\"research_1\",\"research_1\",\"research_1\",\"research_1\",\"research_1\",\"research_1\",\"research_1\",\"research_1\",\"research_1\",\"research_1\",\"research_1\",\"research_1\",\"research_1\",\"research_1\",\"research_1\",\"research_1\",\"research_1\",\"research_1\",\"research_1\",\"research_1\",\"research_1\",\"research_1\",\"research_1\",\"research_1\",\"research_1\",\"research_1\",\"research_1\",\"research_1\",\"research_1\",\"research_1\",\"research_1\",\"research_1\",\"research_1\",\"research_1\",\"research_1\",\"research_1\",\"research_1\",\"research_1\",\"research_1\",\"research_1\",\"research_1\",\"research_1\",\"research_1\",\"research_1\",\"research_1\",\"research_1\",\"research_1\",\"research_1\",\"research_1\",\"research_1\",\"research_1\",\"research_1\",\"research_1\",\"research_1\",\"research_1\",\"research_1\",\"research_1\",\"research_1\",\"research_1\",\"research_1\",\"research_1\",\"research_1\",\"research_1\",\"research_1\",\"research_1\",\"research_1\",\"research_1\",\"research_1\",\"research_1\",\"research_1\",\"research_1\",\"research_1\",\"research_1\",\"research_1\",\"research_1\",\"research_1\",\"research_1\",\"research_1\",\"research_1\",\"research_1\",\"research_1\",\"research_1\",\"research_1\",\"research_1\",\"research_2\",\"research_2\",\"research_2\",\"research_2\",\"research_2\",\"research_2\",\"research_2\",\"research_2\",\"research_2\",\"research_2\",\"research_2\",\"research_2\",\"research_2\",\"research_2\",\"research_2\",\"research_2\",\"research_2\",\"research_2\",\"research_2\",\"research_2\",\"research_2\",\"research_2\",\"research_2\",\"research_2\",\"research_2\",\"research_2\",\"research_2\",\"research_2\",\"research_2\",\"research_2\",\"research_2\",\"research_2\",\"research_2\",\"research_2\",\"research_2\",\"research_2\",\"research_2\",\"research_2\",\"research_2\",\"research_2\",\"research_2\",\"research_2\",\"research_2\",\"research_2\",\"research_2\",\"research_2\",\"research_2\",\"research_2\",\"research_2\",\"research_2\",\"research_2\",\"research_2\",\"research_2\",\"research_2\",\"research_2\",\"research_2\",\"research_2\",\"research_2\",\"research_2\",\"research_2\",\"research_2\",\"research_2\",\"research_2\",\"research_2\",\"research_2\",\"research_2\",\"research_2\",\"research_2\",\"research_2\",\"research_2\",\"research_2\",\"research_2\",\"research_2\",\"research_2\",\"research_2\",\"research_2\",\"research_2\",\"research_2\",\"research_2\",\"research_2\",\"research_2\",\"research_2\",\"research_2\",\"research_2\",\"research_2\",\"research_2\",\"research_2\",\"research_2\",\"research_2\",\"research_2\",\"research_2\",\"research_2\",\"research_2\",\"research_2\",\"research_2\",\"research_2\",\"research_2\",\"research_2\",\"research_2\",\"research_2\",\"research_2\",\"research_2\",\"research_2\",\"research_2\",\"research_2\",\"research_2\",\"research_2\",\"research_2\",\"research_2\",\"research_2\",\"research_2\",\"research_2\",\"research_2\",\"research_2\",\"research_2\",\"research_2\",\"research_2\",\"research_2\",\"research_2\",\"research_2\",\"research_2\",\"research_2\",\"research_2\",\"research_2\",\"research_2\",\"research_2\",\"research_2\",\"research_2\",\"research_2\",\"research_2\",\"research_2\",\"research_2\",\"research_2\",\"research_2\",\"research_2\",\"research_2\",\"research_2\",\"research_2\",\"research_2\",\"research_2\",\"challenger_1\",\"challenger_1\",\"challenger_1\",\"challenger_1\",\"challenger_1\",\"challenger_1\",\"challenger_1\",\"challenger_1\",\"challenger_1\",\"challenger_1\",\"challenger_1\",\"challenger_1\",\"challenger_1\",\"challenger_1\",\"challenger_1\",\"challenger_1\",\"challenger_1\",\"challenger_1\",\"challenger_1\",\"challenger_1\",\"challenger_1\",\"challenger_1\",\"challenger_1\",\"challenger_1\",\"challenger_1\",\"challenger_1\",\"challenger_1\",\"challenger_1\",\"challenger_1\",\"challenger_1\",\"challenger_1\",\"challenger_1\",\"challenger_1\",\"challenger_1\",\"challenger_1\",\"challenger_1\",\"challenger_1\",\"challenger_1\",\"challenger_1\",\"challenger_1\",\"challenger_1\",\"challenger_1\",\"challenger_1\",\"challenger_1\",\"challenger_1\",\"challenger_1\",\"challenger_1\",\"challenger_1\",\"challenger_1\",\"challenger_1\",\"challenger_1\",\"challenger_1\",\"challenger_1\",\"challenger_1\",\"challenger_1\",\"challenger_1\",\"challenger_1\",\"challenger_1\",\"challenger_1\",\"challenger_1\",\"challenger_1\",\"challenger_1\",\"challenger_1\",\"challenger_1\",\"challenger_1\",\"challenger_1\",\"challenger_1\",\"challenger_1\",\"challenger_1\",\"challenger_1\",\"challenger_1\",\"challenger_1\",\"challenger_1\",\"challenger_1\",\"challenger_1\",\"challenger_1\",\"challenger_1\",\"challenger_1\",\"challenger_1\",\"challenger_1\",\"challenger_1\",\"challenger_1\",\"challenger_1\",\"challenger_1\",\"challenger_1\",\"challenger_1\",\"challenger_1\",\"challenger_1\",\"challenger_1\",\"challenger_1\",\"challenger_1\",\"challenger_1\",\"challenger_1\",\"challenger_1\",\"challenger_1\",\"challenger_1\",\"challenger_1\",\"challenger_1\",\"challenger_1\",\"challenger_1\",\"challenger_1\",\"challenger_1\",\"challenger_1\",\"challenger_1\",\"challenger_1\",\"challenger_1\",\"challenger_1\",\"challenger_1\",\"challenger_1\",\"challenger_1\",\"challenger_1\",\"challenger_1\",\"challenger_1\",\"challenger_1\",\"challenger_1\",\"challenger_1\",\"challenger_1\",\"challenger_1\",\"challenger_1\",\"challenger_1\",\"challenger_1\",\"challenger_1\",\"challenger_1\",\"challenger_1\",\"challenger_1\",\"challenger_1\",\"challenger_1\",\"challenger_1\",\"challenger_1\",\"challenger_1\",\"challenger_1\",\"challenger_1\",\"challenger_1\",\"challenger_1\",\"challenger_1\",\"challenger_1\",\"challenger_1\",\"challenger_1\",\"challenger_1\",\"challenger_1\"],\"x0\":\" \",\"xaxis\":\"x\",\"y\":[0.0,0.1428571428571428,0.0,0.0,0.0,0.0,0.125,0.0,0.125,0.0,0.25,0.5,0.1764705882352941,0.5,0.1111111111111111,0.1333333333333333,0.0,0.0,0.0,0.0,0.0,0.1428571428571428,0.0,0.0,0.0,0.0,0.125,0.0,0.125,0.0,0.25,0.5,0.1764705882352941,0.5,0.1111111111111111,0.1333333333333333,0.0,0.0,0.0,0.0,0.0,0.1428571428571428,0.0,0.0,0.0,0.0,0.125,0.0,0.125,0.0,0.25,0.5,0.1764705882352941,0.5,0.1111111111111111,0.1333333333333333,0.0,0.0,0.0,0.0,0.0,0.1428571428571428,0.0,0.0,0.0,0.0,0.125,0.0,0.125,0.0,0.25,0.5,0.1764705882352941,0.5,0.1111111111111111,0.1333333333333333,0.0,0.0,0.0,0.0,0.0,0.1428571428571428,0.0,0.0,0.0,0.0,0.125,0.0,0.125,0.0,0.25,0.5,0.1764705882352941,0.5,0.1111111111111111,0.1333333333333333,0.0,0.0,0.0,0.0,0.0,0.1428571428571428,0.0,0.0,0.0,0.0,0.125,0.0,0.125,0.0,0.25,0.5,0.1764705882352941,0.5,0.1111111111111111,0.1333333333333333,0.0,0.0,0.0,0.0,0.0,0.1428571428571428,0.0,0.0,0.0,0.0,0.125,0.0,0.125,0.0,0.25,0.5,0.1764705882352941,0.5,0.1111111111111111,0.1333333333333333,0.0,0.0,0.0,0.0,0.5555555555555556,0.0,0.125,0.0,0.1428571428571428,0.1578947368421052,0.125,0.1,0.2857142857142857,0.125,0.0,0.0,0.1034482758620689,0.2857142857142857,0.4,0.1904761904761904,0.2222222222222222,0.0,0.125,0.3333333333333333,0.5555555555555556,0.0,0.125,0.0,0.1428571428571428,0.1578947368421052,0.125,0.1,0.2857142857142857,0.125,0.0,0.0,0.1034482758620689,0.2857142857142857,0.4,0.1904761904761904,0.2222222222222222,0.0,0.125,0.3333333333333333,0.5555555555555556,0.0,0.125,0.0,0.1428571428571428,0.1578947368421052,0.125,0.1,0.2857142857142857,0.125,0.0,0.0,0.1034482758620689,0.2857142857142857,0.4,0.1904761904761904,0.2222222222222222,0.0,0.125,0.3333333333333333,0.5555555555555556,0.0,0.125,0.0,0.1428571428571428,0.1578947368421052,0.125,0.1,0.2857142857142857,0.125,0.0,0.0,0.1034482758620689,0.2857142857142857,0.4,0.1904761904761904,0.2222222222222222,0.0,0.125,0.3333333333333333,0.5555555555555556,0.0,0.125,0.0,0.1428571428571428,0.1578947368421052,0.125,0.1,0.2857142857142857,0.125,0.0,0.0,0.1034482758620689,0.2857142857142857,0.4,0.1904761904761904,0.2222222222222222,0.0,0.125,0.3333333333333333,0.5555555555555556,0.0,0.125,0.0,0.1428571428571428,0.1578947368421052,0.125,0.1,0.2857142857142857,0.125,0.0,0.0,0.1034482758620689,0.2857142857142857,0.4,0.1904761904761904,0.2222222222222222,0.0,0.125,0.3333333333333333,0.5555555555555556,0.0,0.125,0.0,0.1428571428571428,0.1578947368421052,0.125,0.1,0.2857142857142857,0.125,0.0,0.0,0.1034482758620689,0.2857142857142857,0.4,0.1904761904761904,0.2222222222222222,0.0,0.125,0.3333333333333333,0.5,0.2,0.125,0.0,0.0869565217391304,0.1363636363636363,0.1428571428571428,0.0,0.5555555555555556,0.0,0.0,0.1,0.2222222222222222,0.2222222222222222,0.1875,0.2857142857142857,0.125,0.3333333333333333,0.1111111111111111,0.2727272727272727,0.5,0.2,0.125,0.0,0.0869565217391304,0.1363636363636363,0.1428571428571428,0.0,0.5555555555555556,0.0,0.0,0.1,0.2222222222222222,0.2222222222222222,0.1875,0.2857142857142857,0.125,0.3333333333333333,0.1111111111111111,0.2727272727272727,0.5,0.2,0.125,0.0,0.0869565217391304,0.1363636363636363,0.1428571428571428,0.0,0.5555555555555556,0.0,0.0,0.1,0.2222222222222222,0.2222222222222222,0.1875,0.2857142857142857,0.125,0.3333333333333333,0.1111111111111111,0.2727272727272727,0.5,0.2,0.125,0.0,0.0869565217391304,0.1363636363636363,0.1428571428571428,0.0,0.5555555555555556,0.0,0.0,0.1,0.2222222222222222,0.2222222222222222,0.1875,0.2857142857142857,0.125,0.3333333333333333,0.1111111111111111,0.2727272727272727,0.5,0.2,0.125,0.0,0.0869565217391304,0.1363636363636363,0.1428571428571428,0.0,0.5555555555555556,0.0,0.0,0.1,0.2222222222222222,0.2222222222222222,0.1875,0.2857142857142857,0.125,0.3333333333333333,0.1111111111111111,0.2727272727272727,0.5,0.2,0.125,0.0,0.0869565217391304,0.1363636363636363,0.1428571428571428,0.0,0.5555555555555556,0.0,0.0,0.1,0.2222222222222222,0.2222222222222222,0.1875,0.2857142857142857,0.125,0.3333333333333333,0.1111111111111111,0.2727272727272727,0.5,0.2,0.125,0.0,0.0869565217391304,0.1363636363636363,0.1428571428571428,0.0,0.5555555555555556,0.0,0.0,0.1,0.2222222222222222,0.2222222222222222,0.1875,0.2857142857142857,0.125,0.3333333333333333,0.1111111111111111,0.2727272727272727],\"y0\":\" \",\"yaxis\":\"y\",\"type\":\"violin\"}],                        {\"template\":{\"data\":{\"histogram2dcontour\":[{\"type\":\"histogram2dcontour\",\"colorbar\":{\"outlinewidth\":0,\"ticks\":\"\"},\"colorscale\":[[0.0,\"#0d0887\"],[0.1111111111111111,\"#46039f\"],[0.2222222222222222,\"#7201a8\"],[0.3333333333333333,\"#9c179e\"],[0.4444444444444444,\"#bd3786\"],[0.5555555555555556,\"#d8576b\"],[0.6666666666666666,\"#ed7953\"],[0.7777777777777778,\"#fb9f3a\"],[0.8888888888888888,\"#fdca26\"],[1.0,\"#f0f921\"]]}],\"choropleth\":[{\"type\":\"choropleth\",\"colorbar\":{\"outlinewidth\":0,\"ticks\":\"\"}}],\"histogram2d\":[{\"type\":\"histogram2d\",\"colorbar\":{\"outlinewidth\":0,\"ticks\":\"\"},\"colorscale\":[[0.0,\"#0d0887\"],[0.1111111111111111,\"#46039f\"],[0.2222222222222222,\"#7201a8\"],[0.3333333333333333,\"#9c179e\"],[0.4444444444444444,\"#bd3786\"],[0.5555555555555556,\"#d8576b\"],[0.6666666666666666,\"#ed7953\"],[0.7777777777777778,\"#fb9f3a\"],[0.8888888888888888,\"#fdca26\"],[1.0,\"#f0f921\"]]}],\"heatmap\":[{\"type\":\"heatmap\",\"colorbar\":{\"outlinewidth\":0,\"ticks\":\"\"},\"colorscale\":[[0.0,\"#0d0887\"],[0.1111111111111111,\"#46039f\"],[0.2222222222222222,\"#7201a8\"],[0.3333333333333333,\"#9c179e\"],[0.4444444444444444,\"#bd3786\"],[0.5555555555555556,\"#d8576b\"],[0.6666666666666666,\"#ed7953\"],[0.7777777777777778,\"#fb9f3a\"],[0.8888888888888888,\"#fdca26\"],[1.0,\"#f0f921\"]]}],\"heatmapgl\":[{\"type\":\"heatmapgl\",\"colorbar\":{\"outlinewidth\":0,\"ticks\":\"\"},\"colorscale\":[[0.0,\"#0d0887\"],[0.1111111111111111,\"#46039f\"],[0.2222222222222222,\"#7201a8\"],[0.3333333333333333,\"#9c179e\"],[0.4444444444444444,\"#bd3786\"],[0.5555555555555556,\"#d8576b\"],[0.6666666666666666,\"#ed7953\"],[0.7777777777777778,\"#fb9f3a\"],[0.8888888888888888,\"#fdca26\"],[1.0,\"#f0f921\"]]}],\"contourcarpet\":[{\"type\":\"contourcarpet\",\"colorbar\":{\"outlinewidth\":0,\"ticks\":\"\"}}],\"contour\":[{\"type\":\"contour\",\"colorbar\":{\"outlinewidth\":0,\"ticks\":\"\"},\"colorscale\":[[0.0,\"#0d0887\"],[0.1111111111111111,\"#46039f\"],[0.2222222222222222,\"#7201a8\"],[0.3333333333333333,\"#9c179e\"],[0.4444444444444444,\"#bd3786\"],[0.5555555555555556,\"#d8576b\"],[0.6666666666666666,\"#ed7953\"],[0.7777777777777778,\"#fb9f3a\"],[0.8888888888888888,\"#fdca26\"],[1.0,\"#f0f921\"]]}],\"surface\":[{\"type\":\"surface\",\"colorbar\":{\"outlinewidth\":0,\"ticks\":\"\"},\"colorscale\":[[0.0,\"#0d0887\"],[0.1111111111111111,\"#46039f\"],[0.2222222222222222,\"#7201a8\"],[0.3333333333333333,\"#9c179e\"],[0.4444444444444444,\"#bd3786\"],[0.5555555555555556,\"#d8576b\"],[0.6666666666666666,\"#ed7953\"],[0.7777777777777778,\"#fb9f3a\"],[0.8888888888888888,\"#fdca26\"],[1.0,\"#f0f921\"]]}],\"mesh3d\":[{\"type\":\"mesh3d\",\"colorbar\":{\"outlinewidth\":0,\"ticks\":\"\"}}],\"scatter\":[{\"fillpattern\":{\"fillmode\":\"overlay\",\"size\":10,\"solidity\":0.2},\"type\":\"scatter\"}],\"parcoords\":[{\"type\":\"parcoords\",\"line\":{\"colorbar\":{\"outlinewidth\":0,\"ticks\":\"\"}}}],\"scatterpolargl\":[{\"type\":\"scatterpolargl\",\"marker\":{\"colorbar\":{\"outlinewidth\":0,\"ticks\":\"\"}}}],\"bar\":[{\"error_x\":{\"color\":\"#2a3f5f\"},\"error_y\":{\"color\":\"#2a3f5f\"},\"marker\":{\"line\":{\"color\":\"#E5ECF6\",\"width\":0.5},\"pattern\":{\"fillmode\":\"overlay\",\"size\":10,\"solidity\":0.2}},\"type\":\"bar\"}],\"scattergeo\":[{\"type\":\"scattergeo\",\"marker\":{\"colorbar\":{\"outlinewidth\":0,\"ticks\":\"\"}}}],\"scatterpolar\":[{\"type\":\"scatterpolar\",\"marker\":{\"colorbar\":{\"outlinewidth\":0,\"ticks\":\"\"}}}],\"histogram\":[{\"marker\":{\"pattern\":{\"fillmode\":\"overlay\",\"size\":10,\"solidity\":0.2}},\"type\":\"histogram\"}],\"scattergl\":[{\"type\":\"scattergl\",\"marker\":{\"colorbar\":{\"outlinewidth\":0,\"ticks\":\"\"}}}],\"scatter3d\":[{\"type\":\"scatter3d\",\"line\":{\"colorbar\":{\"outlinewidth\":0,\"ticks\":\"\"}},\"marker\":{\"colorbar\":{\"outlinewidth\":0,\"ticks\":\"\"}}}],\"scattermapbox\":[{\"type\":\"scattermapbox\",\"marker\":{\"colorbar\":{\"outlinewidth\":0,\"ticks\":\"\"}}}],\"scatterternary\":[{\"type\":\"scatterternary\",\"marker\":{\"colorbar\":{\"outlinewidth\":0,\"ticks\":\"\"}}}],\"scattercarpet\":[{\"type\":\"scattercarpet\",\"marker\":{\"colorbar\":{\"outlinewidth\":0,\"ticks\":\"\"}}}],\"carpet\":[{\"aaxis\":{\"endlinecolor\":\"#2a3f5f\",\"gridcolor\":\"white\",\"linecolor\":\"white\",\"minorgridcolor\":\"white\",\"startlinecolor\":\"#2a3f5f\"},\"baxis\":{\"endlinecolor\":\"#2a3f5f\",\"gridcolor\":\"white\",\"linecolor\":\"white\",\"minorgridcolor\":\"white\",\"startlinecolor\":\"#2a3f5f\"},\"type\":\"carpet\"}],\"table\":[{\"cells\":{\"fill\":{\"color\":\"#EBF0F8\"},\"line\":{\"color\":\"white\"}},\"header\":{\"fill\":{\"color\":\"#C8D4E3\"},\"line\":{\"color\":\"white\"}},\"type\":\"table\"}],\"barpolar\":[{\"marker\":{\"line\":{\"color\":\"#E5ECF6\",\"width\":0.5},\"pattern\":{\"fillmode\":\"overlay\",\"size\":10,\"solidity\":0.2}},\"type\":\"barpolar\"}],\"pie\":[{\"automargin\":true,\"type\":\"pie\"}]},\"layout\":{\"autotypenumbers\":\"strict\",\"colorway\":[\"#636efa\",\"#EF553B\",\"#00cc96\",\"#ab63fa\",\"#FFA15A\",\"#19d3f3\",\"#FF6692\",\"#B6E880\",\"#FF97FF\",\"#FECB52\"],\"font\":{\"color\":\"#2a3f5f\"},\"hovermode\":\"closest\",\"hoverlabel\":{\"align\":\"left\"},\"paper_bgcolor\":\"white\",\"plot_bgcolor\":\"#E5ECF6\",\"polar\":{\"bgcolor\":\"#E5ECF6\",\"angularaxis\":{\"gridcolor\":\"white\",\"linecolor\":\"white\",\"ticks\":\"\"},\"radialaxis\":{\"gridcolor\":\"white\",\"linecolor\":\"white\",\"ticks\":\"\"}},\"ternary\":{\"bgcolor\":\"#E5ECF6\",\"aaxis\":{\"gridcolor\":\"white\",\"linecolor\":\"white\",\"ticks\":\"\"},\"baxis\":{\"gridcolor\":\"white\",\"linecolor\":\"white\",\"ticks\":\"\"},\"caxis\":{\"gridcolor\":\"white\",\"linecolor\":\"white\",\"ticks\":\"\"}},\"coloraxis\":{\"colorbar\":{\"outlinewidth\":0,\"ticks\":\"\"}},\"colorscale\":{\"sequential\":[[0.0,\"#0d0887\"],[0.1111111111111111,\"#46039f\"],[0.2222222222222222,\"#7201a8\"],[0.3333333333333333,\"#9c179e\"],[0.4444444444444444,\"#bd3786\"],[0.5555555555555556,\"#d8576b\"],[0.6666666666666666,\"#ed7953\"],[0.7777777777777778,\"#fb9f3a\"],[0.8888888888888888,\"#fdca26\"],[1.0,\"#f0f921\"]],\"sequentialminus\":[[0.0,\"#0d0887\"],[0.1111111111111111,\"#46039f\"],[0.2222222222222222,\"#7201a8\"],[0.3333333333333333,\"#9c179e\"],[0.4444444444444444,\"#bd3786\"],[0.5555555555555556,\"#d8576b\"],[0.6666666666666666,\"#ed7953\"],[0.7777777777777778,\"#fb9f3a\"],[0.8888888888888888,\"#fdca26\"],[1.0,\"#f0f921\"]],\"diverging\":[[0,\"#8e0152\"],[0.1,\"#c51b7d\"],[0.2,\"#de77ae\"],[0.3,\"#f1b6da\"],[0.4,\"#fde0ef\"],[0.5,\"#f7f7f7\"],[0.6,\"#e6f5d0\"],[0.7,\"#b8e186\"],[0.8,\"#7fbc41\"],[0.9,\"#4d9221\"],[1,\"#276419\"]]},\"xaxis\":{\"gridcolor\":\"white\",\"linecolor\":\"white\",\"ticks\":\"\",\"title\":{\"standoff\":15},\"zerolinecolor\":\"white\",\"automargin\":true,\"zerolinewidth\":2},\"yaxis\":{\"gridcolor\":\"white\",\"linecolor\":\"white\",\"ticks\":\"\",\"title\":{\"standoff\":15},\"zerolinecolor\":\"white\",\"automargin\":true,\"zerolinewidth\":2},\"scene\":{\"xaxis\":{\"backgroundcolor\":\"#E5ECF6\",\"gridcolor\":\"white\",\"linecolor\":\"white\",\"showbackground\":true,\"ticks\":\"\",\"zerolinecolor\":\"white\",\"gridwidth\":2},\"yaxis\":{\"backgroundcolor\":\"#E5ECF6\",\"gridcolor\":\"white\",\"linecolor\":\"white\",\"showbackground\":true,\"ticks\":\"\",\"zerolinecolor\":\"white\",\"gridwidth\":2},\"zaxis\":{\"backgroundcolor\":\"#E5ECF6\",\"gridcolor\":\"white\",\"linecolor\":\"white\",\"showbackground\":true,\"ticks\":\"\",\"zerolinecolor\":\"white\",\"gridwidth\":2}},\"shapedefaults\":{\"line\":{\"color\":\"#2a3f5f\"}},\"annotationdefaults\":{\"arrowcolor\":\"#2a3f5f\",\"arrowhead\":0,\"arrowwidth\":1},\"geo\":{\"bgcolor\":\"white\",\"landcolor\":\"#E5ECF6\",\"subunitcolor\":\"white\",\"showland\":true,\"showlakes\":true,\"lakecolor\":\"white\"},\"title\":{\"x\":0.05},\"mapbox\":{\"style\":\"light\"}}},\"xaxis\":{\"anchor\":\"y\",\"domain\":[0.0,1.0],\"title\":{\"text\":\"search_config\"}},\"yaxis\":{\"anchor\":\"x\",\"domain\":[0.0,1.0],\"title\":{\"text\":\"value\"}},\"legend\":{\"title\":{\"text\":\"metric\"},\"tracegroupgap\":0},\"margin\":{\"t\":60},\"violinmode\":\"group\"},                        {\"responsive\": true}                    ).then(function(){\n",
       "                            \n",
       "var gd = document.getElementById('05e55fc2-d0b4-44d5-b2b4-3453c8fca97e');\n",
       "var x = new MutationObserver(function (mutations, observer) {{\n",
       "        var display = window.getComputedStyle(gd).display;\n",
       "        if (!display || display === 'none') {{\n",
       "            console.log([gd, 'removed!']);\n",
       "            Plotly.purge(gd);\n",
       "            observer.disconnect();\n",
       "        }}\n",
       "}});\n",
       "\n",
       "// Listen for the removal of the full notebook cells\n",
       "var notebookContainer = gd.closest('#notebook-container');\n",
       "if (notebookContainer) {{\n",
       "    x.observe(notebookContainer, {childList: true});\n",
       "}}\n",
       "\n",
       "// Listen for the clearing of the current output cell\n",
       "var outputEl = gd.closest('.output');\n",
       "if (outputEl) {{\n",
       "    x.observe(outputEl, {childList: true});\n",
       "}}\n",
       "\n",
       "                        })                };                });            </script>        </div>"
      ]
     },
     "metadata": {},
     "output_type": "display_data"
    }
   ],
   "source": [
    "sel = df_metrics.search_config.isin([\"research_1\", \"research_2\", \"challenger_1\"])\n",
    "sel = sel & (df_metrics.metric.isin([\"jaccard\"]))\n",
    "df = df_metrics[sel]\n",
    "df = df[[\"value\", \"metric\", \"search_config\", \"query\", \"datetime\"]]\n",
    "\n",
    "fig = px.violin(df, y=\"value\", x=\"search_config\", points=\"all\", color=\"metric\", hover_data=df.columns)\n",
    "fig"
   ]
  },
  {
   "cell_type": "code",
   "execution_count": 7,
   "id": "b0cbea9c",
   "metadata": {},
   "outputs": [
    {
     "data": {
      "application/vnd.plotly.v1+json": {
       "config": {
        "plotlyServerURL": "https://plot.ly"
       },
       "data": [
        {
         "alignmentgroup": "True",
         "box": {
          "visible": false
         },
         "customdata": [
          [
           "dcg",
           "4t camo sweat shirt",
           "2024-06-25"
          ],
          [
           "dcg",
           "all day office chair",
           "2024-06-25"
          ],
          [
           "dcg",
           "bluray movie collection",
           "2024-06-25"
          ],
          [
           "dcg",
           "citizen limited edition",
           "2024-06-25"
          ],
          [
           "dcg",
           "cruz comunion niño",
           "2024-06-25"
          ],
          [
           "dcg",
           "explorer k2",
           "2024-06-25"
          ],
          [
           "dcg",
           "fishing pole",
           "2024-06-25"
          ],
          [
           "dcg",
           "gold shirt women",
           "2024-06-25"
          ],
          [
           "dcg",
           "green wall decals",
           "2024-06-25"
          ],
          [
           "dcg",
           "habitrail ovo twist",
           "2024-06-25"
          ],
          [
           "dcg",
           "nail light",
           "2024-06-25"
          ],
          [
           "dcg",
           "northface hydration packs",
           "2024-06-25"
          ],
          [
           "dcg",
           "one man and his dog",
           "2024-06-25"
          ],
          [
           "dcg",
           "small dog muzzle",
           "2024-06-25"
          ],
          [
           "dcg",
           "vape pen",
           "2024-06-25"
          ],
          [
           "dcg",
           "ゆうびん番号枠入り はがき 切手なし",
           "2024-06-25"
          ],
          [
           "dcg",
           "エプロン 子供",
           "2024-06-25"
          ],
          [
           "dcg",
           "スマホ レーダー探知機",
           "2024-06-25"
          ],
          [
           "dcg",
           "新米",
           "2024-06-25"
          ],
          [
           "dcg",
           "舞台 アイシャドウ",
           "2024-06-25"
          ],
          [
           "dcg",
           "4t camo sweat shirt",
           "2024-06-26"
          ],
          [
           "dcg",
           "all day office chair",
           "2024-06-26"
          ],
          [
           "dcg",
           "bluray movie collection",
           "2024-06-26"
          ],
          [
           "dcg",
           "citizen limited edition",
           "2024-06-26"
          ],
          [
           "dcg",
           "cruz comunion niño",
           "2024-06-26"
          ],
          [
           "dcg",
           "explorer k2",
           "2024-06-26"
          ],
          [
           "dcg",
           "fishing pole",
           "2024-06-26"
          ],
          [
           "dcg",
           "gold shirt women",
           "2024-06-26"
          ],
          [
           "dcg",
           "green wall decals",
           "2024-06-26"
          ],
          [
           "dcg",
           "habitrail ovo twist",
           "2024-06-26"
          ],
          [
           "dcg",
           "nail light",
           "2024-06-26"
          ],
          [
           "dcg",
           "northface hydration packs",
           "2024-06-26"
          ],
          [
           "dcg",
           "one man and his dog",
           "2024-06-26"
          ],
          [
           "dcg",
           "small dog muzzle",
           "2024-06-26"
          ],
          [
           "dcg",
           "vape pen",
           "2024-06-26"
          ],
          [
           "dcg",
           "ゆうびん番号枠入り はがき 切手なし",
           "2024-06-26"
          ],
          [
           "dcg",
           "エプロン 子供",
           "2024-06-26"
          ],
          [
           "dcg",
           "スマホ レーダー探知機",
           "2024-06-26"
          ],
          [
           "dcg",
           "新米",
           "2024-06-26"
          ],
          [
           "dcg",
           "舞台 アイシャドウ",
           "2024-06-26"
          ],
          [
           "dcg",
           "4t camo sweat shirt",
           "2024-06-27"
          ],
          [
           "dcg",
           "all day office chair",
           "2024-06-27"
          ],
          [
           "dcg",
           "bluray movie collection",
           "2024-06-27"
          ],
          [
           "dcg",
           "citizen limited edition",
           "2024-06-27"
          ],
          [
           "dcg",
           "cruz comunion niño",
           "2024-06-27"
          ],
          [
           "dcg",
           "explorer k2",
           "2024-06-27"
          ],
          [
           "dcg",
           "fishing pole",
           "2024-06-27"
          ],
          [
           "dcg",
           "gold shirt women",
           "2024-06-27"
          ],
          [
           "dcg",
           "green wall decals",
           "2024-06-27"
          ],
          [
           "dcg",
           "habitrail ovo twist",
           "2024-06-27"
          ],
          [
           "dcg",
           "nail light",
           "2024-06-27"
          ],
          [
           "dcg",
           "northface hydration packs",
           "2024-06-27"
          ],
          [
           "dcg",
           "one man and his dog",
           "2024-06-27"
          ],
          [
           "dcg",
           "small dog muzzle",
           "2024-06-27"
          ],
          [
           "dcg",
           "vape pen",
           "2024-06-27"
          ],
          [
           "dcg",
           "ゆうびん番号枠入り はがき 切手なし",
           "2024-06-27"
          ],
          [
           "dcg",
           "エプロン 子供",
           "2024-06-27"
          ],
          [
           "dcg",
           "スマホ レーダー探知機",
           "2024-06-27"
          ],
          [
           "dcg",
           "新米",
           "2024-06-27"
          ],
          [
           "dcg",
           "舞台 アイシャドウ",
           "2024-06-27"
          ],
          [
           "dcg",
           "4t camo sweat shirt",
           "2024-06-28"
          ],
          [
           "dcg",
           "all day office chair",
           "2024-06-28"
          ],
          [
           "dcg",
           "bluray movie collection",
           "2024-06-28"
          ],
          [
           "dcg",
           "citizen limited edition",
           "2024-06-28"
          ],
          [
           "dcg",
           "cruz comunion niño",
           "2024-06-28"
          ],
          [
           "dcg",
           "explorer k2",
           "2024-06-28"
          ],
          [
           "dcg",
           "fishing pole",
           "2024-06-28"
          ],
          [
           "dcg",
           "gold shirt women",
           "2024-06-28"
          ],
          [
           "dcg",
           "green wall decals",
           "2024-06-28"
          ],
          [
           "dcg",
           "habitrail ovo twist",
           "2024-06-28"
          ],
          [
           "dcg",
           "nail light",
           "2024-06-28"
          ],
          [
           "dcg",
           "northface hydration packs",
           "2024-06-28"
          ],
          [
           "dcg",
           "one man and his dog",
           "2024-06-28"
          ],
          [
           "dcg",
           "small dog muzzle",
           "2024-06-28"
          ],
          [
           "dcg",
           "vape pen",
           "2024-06-28"
          ],
          [
           "dcg",
           "ゆうびん番号枠入り はがき 切手なし",
           "2024-06-28"
          ],
          [
           "dcg",
           "エプロン 子供",
           "2024-06-28"
          ],
          [
           "dcg",
           "スマホ レーダー探知機",
           "2024-06-28"
          ],
          [
           "dcg",
           "新米",
           "2024-06-28"
          ],
          [
           "dcg",
           "舞台 アイシャドウ",
           "2024-06-28"
          ],
          [
           "dcg",
           "4t camo sweat shirt",
           "2024-06-29"
          ],
          [
           "dcg",
           "all day office chair",
           "2024-06-29"
          ],
          [
           "dcg",
           "bluray movie collection",
           "2024-06-29"
          ],
          [
           "dcg",
           "citizen limited edition",
           "2024-06-29"
          ],
          [
           "dcg",
           "cruz comunion niño",
           "2024-06-29"
          ],
          [
           "dcg",
           "explorer k2",
           "2024-06-29"
          ],
          [
           "dcg",
           "fishing pole",
           "2024-06-29"
          ],
          [
           "dcg",
           "gold shirt women",
           "2024-06-29"
          ],
          [
           "dcg",
           "green wall decals",
           "2024-06-29"
          ],
          [
           "dcg",
           "habitrail ovo twist",
           "2024-06-29"
          ],
          [
           "dcg",
           "nail light",
           "2024-06-29"
          ],
          [
           "dcg",
           "northface hydration packs",
           "2024-06-29"
          ],
          [
           "dcg",
           "one man and his dog",
           "2024-06-29"
          ],
          [
           "dcg",
           "small dog muzzle",
           "2024-06-29"
          ],
          [
           "dcg",
           "vape pen",
           "2024-06-29"
          ],
          [
           "dcg",
           "ゆうびん番号枠入り はがき 切手なし",
           "2024-06-29"
          ],
          [
           "dcg",
           "エプロン 子供",
           "2024-06-29"
          ],
          [
           "dcg",
           "スマホ レーダー探知機",
           "2024-06-29"
          ],
          [
           "dcg",
           "新米",
           "2024-06-29"
          ],
          [
           "dcg",
           "舞台 アイシャドウ",
           "2024-06-29"
          ],
          [
           "dcg",
           "4t camo sweat shirt",
           "2024-06-30"
          ],
          [
           "dcg",
           "all day office chair",
           "2024-06-30"
          ],
          [
           "dcg",
           "bluray movie collection",
           "2024-06-30"
          ],
          [
           "dcg",
           "citizen limited edition",
           "2024-06-30"
          ],
          [
           "dcg",
           "cruz comunion niño",
           "2024-06-30"
          ],
          [
           "dcg",
           "explorer k2",
           "2024-06-30"
          ],
          [
           "dcg",
           "fishing pole",
           "2024-06-30"
          ],
          [
           "dcg",
           "gold shirt women",
           "2024-06-30"
          ],
          [
           "dcg",
           "green wall decals",
           "2024-06-30"
          ],
          [
           "dcg",
           "habitrail ovo twist",
           "2024-06-30"
          ],
          [
           "dcg",
           "nail light",
           "2024-06-30"
          ],
          [
           "dcg",
           "northface hydration packs",
           "2024-06-30"
          ],
          [
           "dcg",
           "one man and his dog",
           "2024-06-30"
          ],
          [
           "dcg",
           "small dog muzzle",
           "2024-06-30"
          ],
          [
           "dcg",
           "vape pen",
           "2024-06-30"
          ],
          [
           "dcg",
           "ゆうびん番号枠入り はがき 切手なし",
           "2024-06-30"
          ],
          [
           "dcg",
           "エプロン 子供",
           "2024-06-30"
          ],
          [
           "dcg",
           "スマホ レーダー探知機",
           "2024-06-30"
          ],
          [
           "dcg",
           "新米",
           "2024-06-30"
          ],
          [
           "dcg",
           "舞台 アイシャドウ",
           "2024-06-30"
          ],
          [
           "dcg",
           "4t camo sweat shirt",
           "2024-07-01"
          ],
          [
           "dcg",
           "all day office chair",
           "2024-07-01"
          ],
          [
           "dcg",
           "bluray movie collection",
           "2024-07-01"
          ],
          [
           "dcg",
           "citizen limited edition",
           "2024-07-01"
          ],
          [
           "dcg",
           "cruz comunion niño",
           "2024-07-01"
          ],
          [
           "dcg",
           "explorer k2",
           "2024-07-01"
          ],
          [
           "dcg",
           "fishing pole",
           "2024-07-01"
          ],
          [
           "dcg",
           "gold shirt women",
           "2024-07-01"
          ],
          [
           "dcg",
           "green wall decals",
           "2024-07-01"
          ],
          [
           "dcg",
           "habitrail ovo twist",
           "2024-07-01"
          ],
          [
           "dcg",
           "nail light",
           "2024-07-01"
          ],
          [
           "dcg",
           "northface hydration packs",
           "2024-07-01"
          ],
          [
           "dcg",
           "one man and his dog",
           "2024-07-01"
          ],
          [
           "dcg",
           "small dog muzzle",
           "2024-07-01"
          ],
          [
           "dcg",
           "vape pen",
           "2024-07-01"
          ],
          [
           "dcg",
           "ゆうびん番号枠入り はがき 切手なし",
           "2024-07-01"
          ],
          [
           "dcg",
           "エプロン 子供",
           "2024-07-01"
          ],
          [
           "dcg",
           "スマホ レーダー探知機",
           "2024-07-01"
          ],
          [
           "dcg",
           "新米",
           "2024-07-01"
          ],
          [
           "dcg",
           "舞台 アイシャドウ",
           "2024-07-01"
          ],
          [
           "dcg",
           "4t camo sweat shirt",
           "2024-06-25"
          ],
          [
           "dcg",
           "all day office chair",
           "2024-06-25"
          ],
          [
           "dcg",
           "bluray movie collection",
           "2024-06-25"
          ],
          [
           "dcg",
           "citizen limited edition",
           "2024-06-25"
          ],
          [
           "dcg",
           "cruz comunion niño",
           "2024-06-25"
          ],
          [
           "dcg",
           "explorer k2",
           "2024-06-25"
          ],
          [
           "dcg",
           "fishing pole",
           "2024-06-25"
          ],
          [
           "dcg",
           "gold shirt women",
           "2024-06-25"
          ],
          [
           "dcg",
           "green wall decals",
           "2024-06-25"
          ],
          [
           "dcg",
           "habitrail ovo twist",
           "2024-06-25"
          ],
          [
           "dcg",
           "nail light",
           "2024-06-25"
          ],
          [
           "dcg",
           "northface hydration packs",
           "2024-06-25"
          ],
          [
           "dcg",
           "one man and his dog",
           "2024-06-25"
          ],
          [
           "dcg",
           "small dog muzzle",
           "2024-06-25"
          ],
          [
           "dcg",
           "vape pen",
           "2024-06-25"
          ],
          [
           "dcg",
           "ゆうびん番号枠入り はがき 切手なし",
           "2024-06-25"
          ],
          [
           "dcg",
           "エプロン 子供",
           "2024-06-25"
          ],
          [
           "dcg",
           "スマホ レーダー探知機",
           "2024-06-25"
          ],
          [
           "dcg",
           "新米",
           "2024-06-25"
          ],
          [
           "dcg",
           "舞台 アイシャドウ",
           "2024-06-25"
          ],
          [
           "dcg",
           "4t camo sweat shirt",
           "2024-06-26"
          ],
          [
           "dcg",
           "all day office chair",
           "2024-06-26"
          ],
          [
           "dcg",
           "bluray movie collection",
           "2024-06-26"
          ],
          [
           "dcg",
           "citizen limited edition",
           "2024-06-26"
          ],
          [
           "dcg",
           "cruz comunion niño",
           "2024-06-26"
          ],
          [
           "dcg",
           "explorer k2",
           "2024-06-26"
          ],
          [
           "dcg",
           "fishing pole",
           "2024-06-26"
          ],
          [
           "dcg",
           "gold shirt women",
           "2024-06-26"
          ],
          [
           "dcg",
           "green wall decals",
           "2024-06-26"
          ],
          [
           "dcg",
           "habitrail ovo twist",
           "2024-06-26"
          ],
          [
           "dcg",
           "nail light",
           "2024-06-26"
          ],
          [
           "dcg",
           "northface hydration packs",
           "2024-06-26"
          ],
          [
           "dcg",
           "one man and his dog",
           "2024-06-26"
          ],
          [
           "dcg",
           "small dog muzzle",
           "2024-06-26"
          ],
          [
           "dcg",
           "vape pen",
           "2024-06-26"
          ],
          [
           "dcg",
           "ゆうびん番号枠入り はがき 切手なし",
           "2024-06-26"
          ],
          [
           "dcg",
           "エプロン 子供",
           "2024-06-26"
          ],
          [
           "dcg",
           "スマホ レーダー探知機",
           "2024-06-26"
          ],
          [
           "dcg",
           "新米",
           "2024-06-26"
          ],
          [
           "dcg",
           "舞台 アイシャドウ",
           "2024-06-26"
          ],
          [
           "dcg",
           "4t camo sweat shirt",
           "2024-06-27"
          ],
          [
           "dcg",
           "all day office chair",
           "2024-06-27"
          ],
          [
           "dcg",
           "bluray movie collection",
           "2024-06-27"
          ],
          [
           "dcg",
           "citizen limited edition",
           "2024-06-27"
          ],
          [
           "dcg",
           "cruz comunion niño",
           "2024-06-27"
          ],
          [
           "dcg",
           "explorer k2",
           "2024-06-27"
          ],
          [
           "dcg",
           "fishing pole",
           "2024-06-27"
          ],
          [
           "dcg",
           "gold shirt women",
           "2024-06-27"
          ],
          [
           "dcg",
           "green wall decals",
           "2024-06-27"
          ],
          [
           "dcg",
           "habitrail ovo twist",
           "2024-06-27"
          ],
          [
           "dcg",
           "nail light",
           "2024-06-27"
          ],
          [
           "dcg",
           "northface hydration packs",
           "2024-06-27"
          ],
          [
           "dcg",
           "one man and his dog",
           "2024-06-27"
          ],
          [
           "dcg",
           "small dog muzzle",
           "2024-06-27"
          ],
          [
           "dcg",
           "vape pen",
           "2024-06-27"
          ],
          [
           "dcg",
           "ゆうびん番号枠入り はがき 切手なし",
           "2024-06-27"
          ],
          [
           "dcg",
           "エプロン 子供",
           "2024-06-27"
          ],
          [
           "dcg",
           "スマホ レーダー探知機",
           "2024-06-27"
          ],
          [
           "dcg",
           "新米",
           "2024-06-27"
          ],
          [
           "dcg",
           "舞台 アイシャドウ",
           "2024-06-27"
          ],
          [
           "dcg",
           "4t camo sweat shirt",
           "2024-06-28"
          ],
          [
           "dcg",
           "all day office chair",
           "2024-06-28"
          ],
          [
           "dcg",
           "bluray movie collection",
           "2024-06-28"
          ],
          [
           "dcg",
           "citizen limited edition",
           "2024-06-28"
          ],
          [
           "dcg",
           "cruz comunion niño",
           "2024-06-28"
          ],
          [
           "dcg",
           "explorer k2",
           "2024-06-28"
          ],
          [
           "dcg",
           "fishing pole",
           "2024-06-28"
          ],
          [
           "dcg",
           "gold shirt women",
           "2024-06-28"
          ],
          [
           "dcg",
           "green wall decals",
           "2024-06-28"
          ],
          [
           "dcg",
           "habitrail ovo twist",
           "2024-06-28"
          ],
          [
           "dcg",
           "nail light",
           "2024-06-28"
          ],
          [
           "dcg",
           "northface hydration packs",
           "2024-06-28"
          ],
          [
           "dcg",
           "one man and his dog",
           "2024-06-28"
          ],
          [
           "dcg",
           "small dog muzzle",
           "2024-06-28"
          ],
          [
           "dcg",
           "vape pen",
           "2024-06-28"
          ],
          [
           "dcg",
           "ゆうびん番号枠入り はがき 切手なし",
           "2024-06-28"
          ],
          [
           "dcg",
           "エプロン 子供",
           "2024-06-28"
          ],
          [
           "dcg",
           "スマホ レーダー探知機",
           "2024-06-28"
          ],
          [
           "dcg",
           "新米",
           "2024-06-28"
          ],
          [
           "dcg",
           "舞台 アイシャドウ",
           "2024-06-28"
          ],
          [
           "dcg",
           "4t camo sweat shirt",
           "2024-06-29"
          ],
          [
           "dcg",
           "all day office chair",
           "2024-06-29"
          ],
          [
           "dcg",
           "bluray movie collection",
           "2024-06-29"
          ],
          [
           "dcg",
           "citizen limited edition",
           "2024-06-29"
          ],
          [
           "dcg",
           "cruz comunion niño",
           "2024-06-29"
          ],
          [
           "dcg",
           "explorer k2",
           "2024-06-29"
          ],
          [
           "dcg",
           "fishing pole",
           "2024-06-29"
          ],
          [
           "dcg",
           "gold shirt women",
           "2024-06-29"
          ],
          [
           "dcg",
           "green wall decals",
           "2024-06-29"
          ],
          [
           "dcg",
           "habitrail ovo twist",
           "2024-06-29"
          ],
          [
           "dcg",
           "nail light",
           "2024-06-29"
          ],
          [
           "dcg",
           "northface hydration packs",
           "2024-06-29"
          ],
          [
           "dcg",
           "one man and his dog",
           "2024-06-29"
          ],
          [
           "dcg",
           "small dog muzzle",
           "2024-06-29"
          ],
          [
           "dcg",
           "vape pen",
           "2024-06-29"
          ],
          [
           "dcg",
           "ゆうびん番号枠入り はがき 切手なし",
           "2024-06-29"
          ],
          [
           "dcg",
           "エプロン 子供",
           "2024-06-29"
          ],
          [
           "dcg",
           "スマホ レーダー探知機",
           "2024-06-29"
          ],
          [
           "dcg",
           "新米",
           "2024-06-29"
          ],
          [
           "dcg",
           "舞台 アイシャドウ",
           "2024-06-29"
          ],
          [
           "dcg",
           "4t camo sweat shirt",
           "2024-06-30"
          ],
          [
           "dcg",
           "all day office chair",
           "2024-06-30"
          ],
          [
           "dcg",
           "bluray movie collection",
           "2024-06-30"
          ],
          [
           "dcg",
           "citizen limited edition",
           "2024-06-30"
          ],
          [
           "dcg",
           "cruz comunion niño",
           "2024-06-30"
          ],
          [
           "dcg",
           "explorer k2",
           "2024-06-30"
          ],
          [
           "dcg",
           "fishing pole",
           "2024-06-30"
          ],
          [
           "dcg",
           "gold shirt women",
           "2024-06-30"
          ],
          [
           "dcg",
           "green wall decals",
           "2024-06-30"
          ],
          [
           "dcg",
           "habitrail ovo twist",
           "2024-06-30"
          ],
          [
           "dcg",
           "nail light",
           "2024-06-30"
          ],
          [
           "dcg",
           "northface hydration packs",
           "2024-06-30"
          ],
          [
           "dcg",
           "one man and his dog",
           "2024-06-30"
          ],
          [
           "dcg",
           "small dog muzzle",
           "2024-06-30"
          ],
          [
           "dcg",
           "vape pen",
           "2024-06-30"
          ],
          [
           "dcg",
           "ゆうびん番号枠入り はがき 切手なし",
           "2024-06-30"
          ],
          [
           "dcg",
           "エプロン 子供",
           "2024-06-30"
          ],
          [
           "dcg",
           "スマホ レーダー探知機",
           "2024-06-30"
          ],
          [
           "dcg",
           "新米",
           "2024-06-30"
          ],
          [
           "dcg",
           "舞台 アイシャドウ",
           "2024-06-30"
          ],
          [
           "dcg",
           "4t camo sweat shirt",
           "2024-07-01"
          ],
          [
           "dcg",
           "all day office chair",
           "2024-07-01"
          ],
          [
           "dcg",
           "bluray movie collection",
           "2024-07-01"
          ],
          [
           "dcg",
           "citizen limited edition",
           "2024-07-01"
          ],
          [
           "dcg",
           "cruz comunion niño",
           "2024-07-01"
          ],
          [
           "dcg",
           "explorer k2",
           "2024-07-01"
          ],
          [
           "dcg",
           "fishing pole",
           "2024-07-01"
          ],
          [
           "dcg",
           "gold shirt women",
           "2024-07-01"
          ],
          [
           "dcg",
           "green wall decals",
           "2024-07-01"
          ],
          [
           "dcg",
           "habitrail ovo twist",
           "2024-07-01"
          ],
          [
           "dcg",
           "nail light",
           "2024-07-01"
          ],
          [
           "dcg",
           "northface hydration packs",
           "2024-07-01"
          ],
          [
           "dcg",
           "one man and his dog",
           "2024-07-01"
          ],
          [
           "dcg",
           "small dog muzzle",
           "2024-07-01"
          ],
          [
           "dcg",
           "vape pen",
           "2024-07-01"
          ],
          [
           "dcg",
           "ゆうびん番号枠入り はがき 切手なし",
           "2024-07-01"
          ],
          [
           "dcg",
           "エプロン 子供",
           "2024-07-01"
          ],
          [
           "dcg",
           "スマホ レーダー探知機",
           "2024-07-01"
          ],
          [
           "dcg",
           "新米",
           "2024-07-01"
          ],
          [
           "dcg",
           "舞台 アイシャドウ",
           "2024-07-01"
          ],
          [
           "dcg",
           "4t camo sweat shirt",
           "2024-06-25"
          ],
          [
           "dcg",
           "all day office chair",
           "2024-06-25"
          ],
          [
           "dcg",
           "bluray movie collection",
           "2024-06-25"
          ],
          [
           "dcg",
           "citizen limited edition",
           "2024-06-25"
          ],
          [
           "dcg",
           "cruz comunion niño",
           "2024-06-25"
          ],
          [
           "dcg",
           "explorer k2",
           "2024-06-25"
          ],
          [
           "dcg",
           "fishing pole",
           "2024-06-25"
          ],
          [
           "dcg",
           "gold shirt women",
           "2024-06-25"
          ],
          [
           "dcg",
           "green wall decals",
           "2024-06-25"
          ],
          [
           "dcg",
           "habitrail ovo twist",
           "2024-06-25"
          ],
          [
           "dcg",
           "nail light",
           "2024-06-25"
          ],
          [
           "dcg",
           "northface hydration packs",
           "2024-06-25"
          ],
          [
           "dcg",
           "one man and his dog",
           "2024-06-25"
          ],
          [
           "dcg",
           "small dog muzzle",
           "2024-06-25"
          ],
          [
           "dcg",
           "vape pen",
           "2024-06-25"
          ],
          [
           "dcg",
           "ゆうびん番号枠入り はがき 切手なし",
           "2024-06-25"
          ],
          [
           "dcg",
           "エプロン 子供",
           "2024-06-25"
          ],
          [
           "dcg",
           "スマホ レーダー探知機",
           "2024-06-25"
          ],
          [
           "dcg",
           "新米",
           "2024-06-25"
          ],
          [
           "dcg",
           "舞台 アイシャドウ",
           "2024-06-25"
          ],
          [
           "dcg",
           "4t camo sweat shirt",
           "2024-06-26"
          ],
          [
           "dcg",
           "all day office chair",
           "2024-06-26"
          ],
          [
           "dcg",
           "bluray movie collection",
           "2024-06-26"
          ],
          [
           "dcg",
           "citizen limited edition",
           "2024-06-26"
          ],
          [
           "dcg",
           "cruz comunion niño",
           "2024-06-26"
          ],
          [
           "dcg",
           "explorer k2",
           "2024-06-26"
          ],
          [
           "dcg",
           "fishing pole",
           "2024-06-26"
          ],
          [
           "dcg",
           "gold shirt women",
           "2024-06-26"
          ],
          [
           "dcg",
           "green wall decals",
           "2024-06-26"
          ],
          [
           "dcg",
           "habitrail ovo twist",
           "2024-06-26"
          ],
          [
           "dcg",
           "nail light",
           "2024-06-26"
          ],
          [
           "dcg",
           "northface hydration packs",
           "2024-06-26"
          ],
          [
           "dcg",
           "one man and his dog",
           "2024-06-26"
          ],
          [
           "dcg",
           "small dog muzzle",
           "2024-06-26"
          ],
          [
           "dcg",
           "vape pen",
           "2024-06-26"
          ],
          [
           "dcg",
           "ゆうびん番号枠入り はがき 切手なし",
           "2024-06-26"
          ],
          [
           "dcg",
           "エプロン 子供",
           "2024-06-26"
          ],
          [
           "dcg",
           "スマホ レーダー探知機",
           "2024-06-26"
          ],
          [
           "dcg",
           "新米",
           "2024-06-26"
          ],
          [
           "dcg",
           "舞台 アイシャドウ",
           "2024-06-26"
          ],
          [
           "dcg",
           "4t camo sweat shirt",
           "2024-06-27"
          ],
          [
           "dcg",
           "all day office chair",
           "2024-06-27"
          ],
          [
           "dcg",
           "bluray movie collection",
           "2024-06-27"
          ],
          [
           "dcg",
           "citizen limited edition",
           "2024-06-27"
          ],
          [
           "dcg",
           "cruz comunion niño",
           "2024-06-27"
          ],
          [
           "dcg",
           "explorer k2",
           "2024-06-27"
          ],
          [
           "dcg",
           "fishing pole",
           "2024-06-27"
          ],
          [
           "dcg",
           "gold shirt women",
           "2024-06-27"
          ],
          [
           "dcg",
           "green wall decals",
           "2024-06-27"
          ],
          [
           "dcg",
           "habitrail ovo twist",
           "2024-06-27"
          ],
          [
           "dcg",
           "nail light",
           "2024-06-27"
          ],
          [
           "dcg",
           "northface hydration packs",
           "2024-06-27"
          ],
          [
           "dcg",
           "one man and his dog",
           "2024-06-27"
          ],
          [
           "dcg",
           "small dog muzzle",
           "2024-06-27"
          ],
          [
           "dcg",
           "vape pen",
           "2024-06-27"
          ],
          [
           "dcg",
           "ゆうびん番号枠入り はがき 切手なし",
           "2024-06-27"
          ],
          [
           "dcg",
           "エプロン 子供",
           "2024-06-27"
          ],
          [
           "dcg",
           "スマホ レーダー探知機",
           "2024-06-27"
          ],
          [
           "dcg",
           "新米",
           "2024-06-27"
          ],
          [
           "dcg",
           "舞台 アイシャドウ",
           "2024-06-27"
          ],
          [
           "dcg",
           "4t camo sweat shirt",
           "2024-06-28"
          ],
          [
           "dcg",
           "all day office chair",
           "2024-06-28"
          ],
          [
           "dcg",
           "bluray movie collection",
           "2024-06-28"
          ],
          [
           "dcg",
           "citizen limited edition",
           "2024-06-28"
          ],
          [
           "dcg",
           "cruz comunion niño",
           "2024-06-28"
          ],
          [
           "dcg",
           "explorer k2",
           "2024-06-28"
          ],
          [
           "dcg",
           "fishing pole",
           "2024-06-28"
          ],
          [
           "dcg",
           "gold shirt women",
           "2024-06-28"
          ],
          [
           "dcg",
           "green wall decals",
           "2024-06-28"
          ],
          [
           "dcg",
           "habitrail ovo twist",
           "2024-06-28"
          ],
          [
           "dcg",
           "nail light",
           "2024-06-28"
          ],
          [
           "dcg",
           "northface hydration packs",
           "2024-06-28"
          ],
          [
           "dcg",
           "one man and his dog",
           "2024-06-28"
          ],
          [
           "dcg",
           "small dog muzzle",
           "2024-06-28"
          ],
          [
           "dcg",
           "vape pen",
           "2024-06-28"
          ],
          [
           "dcg",
           "ゆうびん番号枠入り はがき 切手なし",
           "2024-06-28"
          ],
          [
           "dcg",
           "エプロン 子供",
           "2024-06-28"
          ],
          [
           "dcg",
           "スマホ レーダー探知機",
           "2024-06-28"
          ],
          [
           "dcg",
           "新米",
           "2024-06-28"
          ],
          [
           "dcg",
           "舞台 アイシャドウ",
           "2024-06-28"
          ],
          [
           "dcg",
           "4t camo sweat shirt",
           "2024-06-29"
          ],
          [
           "dcg",
           "all day office chair",
           "2024-06-29"
          ],
          [
           "dcg",
           "bluray movie collection",
           "2024-06-29"
          ],
          [
           "dcg",
           "citizen limited edition",
           "2024-06-29"
          ],
          [
           "dcg",
           "cruz comunion niño",
           "2024-06-29"
          ],
          [
           "dcg",
           "explorer k2",
           "2024-06-29"
          ],
          [
           "dcg",
           "fishing pole",
           "2024-06-29"
          ],
          [
           "dcg",
           "gold shirt women",
           "2024-06-29"
          ],
          [
           "dcg",
           "green wall decals",
           "2024-06-29"
          ],
          [
           "dcg",
           "habitrail ovo twist",
           "2024-06-29"
          ],
          [
           "dcg",
           "nail light",
           "2024-06-29"
          ],
          [
           "dcg",
           "northface hydration packs",
           "2024-06-29"
          ],
          [
           "dcg",
           "one man and his dog",
           "2024-06-29"
          ],
          [
           "dcg",
           "small dog muzzle",
           "2024-06-29"
          ],
          [
           "dcg",
           "vape pen",
           "2024-06-29"
          ],
          [
           "dcg",
           "ゆうびん番号枠入り はがき 切手なし",
           "2024-06-29"
          ],
          [
           "dcg",
           "エプロン 子供",
           "2024-06-29"
          ],
          [
           "dcg",
           "スマホ レーダー探知機",
           "2024-06-29"
          ],
          [
           "dcg",
           "新米",
           "2024-06-29"
          ],
          [
           "dcg",
           "舞台 アイシャドウ",
           "2024-06-29"
          ],
          [
           "dcg",
           "4t camo sweat shirt",
           "2024-06-30"
          ],
          [
           "dcg",
           "all day office chair",
           "2024-06-30"
          ],
          [
           "dcg",
           "bluray movie collection",
           "2024-06-30"
          ],
          [
           "dcg",
           "citizen limited edition",
           "2024-06-30"
          ],
          [
           "dcg",
           "cruz comunion niño",
           "2024-06-30"
          ],
          [
           "dcg",
           "explorer k2",
           "2024-06-30"
          ],
          [
           "dcg",
           "fishing pole",
           "2024-06-30"
          ],
          [
           "dcg",
           "gold shirt women",
           "2024-06-30"
          ],
          [
           "dcg",
           "green wall decals",
           "2024-06-30"
          ],
          [
           "dcg",
           "habitrail ovo twist",
           "2024-06-30"
          ],
          [
           "dcg",
           "nail light",
           "2024-06-30"
          ],
          [
           "dcg",
           "northface hydration packs",
           "2024-06-30"
          ],
          [
           "dcg",
           "one man and his dog",
           "2024-06-30"
          ],
          [
           "dcg",
           "small dog muzzle",
           "2024-06-30"
          ],
          [
           "dcg",
           "vape pen",
           "2024-06-30"
          ],
          [
           "dcg",
           "ゆうびん番号枠入り はがき 切手なし",
           "2024-06-30"
          ],
          [
           "dcg",
           "エプロン 子供",
           "2024-06-30"
          ],
          [
           "dcg",
           "スマホ レーダー探知機",
           "2024-06-30"
          ],
          [
           "dcg",
           "新米",
           "2024-06-30"
          ],
          [
           "dcg",
           "舞台 アイシャドウ",
           "2024-06-30"
          ],
          [
           "dcg",
           "4t camo sweat shirt",
           "2024-07-01"
          ],
          [
           "dcg",
           "all day office chair",
           "2024-07-01"
          ],
          [
           "dcg",
           "bluray movie collection",
           "2024-07-01"
          ],
          [
           "dcg",
           "citizen limited edition",
           "2024-07-01"
          ],
          [
           "dcg",
           "cruz comunion niño",
           "2024-07-01"
          ],
          [
           "dcg",
           "explorer k2",
           "2024-07-01"
          ],
          [
           "dcg",
           "fishing pole",
           "2024-07-01"
          ],
          [
           "dcg",
           "gold shirt women",
           "2024-07-01"
          ],
          [
           "dcg",
           "green wall decals",
           "2024-07-01"
          ],
          [
           "dcg",
           "habitrail ovo twist",
           "2024-07-01"
          ],
          [
           "dcg",
           "nail light",
           "2024-07-01"
          ],
          [
           "dcg",
           "northface hydration packs",
           "2024-07-01"
          ],
          [
           "dcg",
           "one man and his dog",
           "2024-07-01"
          ],
          [
           "dcg",
           "small dog muzzle",
           "2024-07-01"
          ],
          [
           "dcg",
           "vape pen",
           "2024-07-01"
          ],
          [
           "dcg",
           "ゆうびん番号枠入り はがき 切手なし",
           "2024-07-01"
          ],
          [
           "dcg",
           "エプロン 子供",
           "2024-07-01"
          ],
          [
           "dcg",
           "スマホ レーダー探知機",
           "2024-07-01"
          ],
          [
           "dcg",
           "新米",
           "2024-07-01"
          ],
          [
           "dcg",
           "舞台 アイシャドウ",
           "2024-07-01"
          ]
         ],
         "hovertemplate": "metric=%{customdata[0]}<br>search_config=%{x}<br>value=%{y}<br>query=%{customdata[1]}<br>datetime=%{customdata[2]}<extra></extra>",
         "legendgroup": "dcg",
         "marker": {
          "color": "#636efa"
         },
         "name": "dcg",
         "offsetgroup": "dcg",
         "orientation": "v",
         "points": "all",
         "scalegroup": "True",
         "showlegend": true,
         "type": "violin",
         "x": [
          "research_1",
          "research_1",
          "research_1",
          "research_1",
          "research_1",
          "research_1",
          "research_1",
          "research_1",
          "research_1",
          "research_1",
          "research_1",
          "research_1",
          "research_1",
          "research_1",
          "research_1",
          "research_1",
          "research_1",
          "research_1",
          "research_1",
          "research_1",
          "research_1",
          "research_1",
          "research_1",
          "research_1",
          "research_1",
          "research_1",
          "research_1",
          "research_1",
          "research_1",
          "research_1",
          "research_1",
          "research_1",
          "research_1",
          "research_1",
          "research_1",
          "research_1",
          "research_1",
          "research_1",
          "research_1",
          "research_1",
          "research_1",
          "research_1",
          "research_1",
          "research_1",
          "research_1",
          "research_1",
          "research_1",
          "research_1",
          "research_1",
          "research_1",
          "research_1",
          "research_1",
          "research_1",
          "research_1",
          "research_1",
          "research_1",
          "research_1",
          "research_1",
          "research_1",
          "research_1",
          "research_1",
          "research_1",
          "research_1",
          "research_1",
          "research_1",
          "research_1",
          "research_1",
          "research_1",
          "research_1",
          "research_1",
          "research_1",
          "research_1",
          "research_1",
          "research_1",
          "research_1",
          "research_1",
          "research_1",
          "research_1",
          "research_1",
          "research_1",
          "research_1",
          "research_1",
          "research_1",
          "research_1",
          "research_1",
          "research_1",
          "research_1",
          "research_1",
          "research_1",
          "research_1",
          "research_1",
          "research_1",
          "research_1",
          "research_1",
          "research_1",
          "research_1",
          "research_1",
          "research_1",
          "research_1",
          "research_1",
          "research_1",
          "research_1",
          "research_1",
          "research_1",
          "research_1",
          "research_1",
          "research_1",
          "research_1",
          "research_1",
          "research_1",
          "research_1",
          "research_1",
          "research_1",
          "research_1",
          "research_1",
          "research_1",
          "research_1",
          "research_1",
          "research_1",
          "research_1",
          "research_1",
          "research_1",
          "research_1",
          "research_1",
          "research_1",
          "research_1",
          "research_1",
          "research_1",
          "research_1",
          "research_1",
          "research_1",
          "research_1",
          "research_1",
          "research_1",
          "research_1",
          "research_1",
          "research_1",
          "research_1",
          "research_1",
          "research_1",
          "research_2",
          "research_2",
          "research_2",
          "research_2",
          "research_2",
          "research_2",
          "research_2",
          "research_2",
          "research_2",
          "research_2",
          "research_2",
          "research_2",
          "research_2",
          "research_2",
          "research_2",
          "research_2",
          "research_2",
          "research_2",
          "research_2",
          "research_2",
          "research_2",
          "research_2",
          "research_2",
          "research_2",
          "research_2",
          "research_2",
          "research_2",
          "research_2",
          "research_2",
          "research_2",
          "research_2",
          "research_2",
          "research_2",
          "research_2",
          "research_2",
          "research_2",
          "research_2",
          "research_2",
          "research_2",
          "research_2",
          "research_2",
          "research_2",
          "research_2",
          "research_2",
          "research_2",
          "research_2",
          "research_2",
          "research_2",
          "research_2",
          "research_2",
          "research_2",
          "research_2",
          "research_2",
          "research_2",
          "research_2",
          "research_2",
          "research_2",
          "research_2",
          "research_2",
          "research_2",
          "research_2",
          "research_2",
          "research_2",
          "research_2",
          "research_2",
          "research_2",
          "research_2",
          "research_2",
          "research_2",
          "research_2",
          "research_2",
          "research_2",
          "research_2",
          "research_2",
          "research_2",
          "research_2",
          "research_2",
          "research_2",
          "research_2",
          "research_2",
          "research_2",
          "research_2",
          "research_2",
          "research_2",
          "research_2",
          "research_2",
          "research_2",
          "research_2",
          "research_2",
          "research_2",
          "research_2",
          "research_2",
          "research_2",
          "research_2",
          "research_2",
          "research_2",
          "research_2",
          "research_2",
          "research_2",
          "research_2",
          "research_2",
          "research_2",
          "research_2",
          "research_2",
          "research_2",
          "research_2",
          "research_2",
          "research_2",
          "research_2",
          "research_2",
          "research_2",
          "research_2",
          "research_2",
          "research_2",
          "research_2",
          "research_2",
          "research_2",
          "research_2",
          "research_2",
          "research_2",
          "research_2",
          "research_2",
          "research_2",
          "research_2",
          "research_2",
          "research_2",
          "research_2",
          "research_2",
          "research_2",
          "research_2",
          "research_2",
          "research_2",
          "research_2",
          "research_2",
          "research_2",
          "research_2",
          "research_2",
          "research_2",
          "research_2",
          "research_2",
          "challenger_1",
          "challenger_1",
          "challenger_1",
          "challenger_1",
          "challenger_1",
          "challenger_1",
          "challenger_1",
          "challenger_1",
          "challenger_1",
          "challenger_1",
          "challenger_1",
          "challenger_1",
          "challenger_1",
          "challenger_1",
          "challenger_1",
          "challenger_1",
          "challenger_1",
          "challenger_1",
          "challenger_1",
          "challenger_1",
          "challenger_1",
          "challenger_1",
          "challenger_1",
          "challenger_1",
          "challenger_1",
          "challenger_1",
          "challenger_1",
          "challenger_1",
          "challenger_1",
          "challenger_1",
          "challenger_1",
          "challenger_1",
          "challenger_1",
          "challenger_1",
          "challenger_1",
          "challenger_1",
          "challenger_1",
          "challenger_1",
          "challenger_1",
          "challenger_1",
          "challenger_1",
          "challenger_1",
          "challenger_1",
          "challenger_1",
          "challenger_1",
          "challenger_1",
          "challenger_1",
          "challenger_1",
          "challenger_1",
          "challenger_1",
          "challenger_1",
          "challenger_1",
          "challenger_1",
          "challenger_1",
          "challenger_1",
          "challenger_1",
          "challenger_1",
          "challenger_1",
          "challenger_1",
          "challenger_1",
          "challenger_1",
          "challenger_1",
          "challenger_1",
          "challenger_1",
          "challenger_1",
          "challenger_1",
          "challenger_1",
          "challenger_1",
          "challenger_1",
          "challenger_1",
          "challenger_1",
          "challenger_1",
          "challenger_1",
          "challenger_1",
          "challenger_1",
          "challenger_1",
          "challenger_1",
          "challenger_1",
          "challenger_1",
          "challenger_1",
          "challenger_1",
          "challenger_1",
          "challenger_1",
          "challenger_1",
          "challenger_1",
          "challenger_1",
          "challenger_1",
          "challenger_1",
          "challenger_1",
          "challenger_1",
          "challenger_1",
          "challenger_1",
          "challenger_1",
          "challenger_1",
          "challenger_1",
          "challenger_1",
          "challenger_1",
          "challenger_1",
          "challenger_1",
          "challenger_1",
          "challenger_1",
          "challenger_1",
          "challenger_1",
          "challenger_1",
          "challenger_1",
          "challenger_1",
          "challenger_1",
          "challenger_1",
          "challenger_1",
          "challenger_1",
          "challenger_1",
          "challenger_1",
          "challenger_1",
          "challenger_1",
          "challenger_1",
          "challenger_1",
          "challenger_1",
          "challenger_1",
          "challenger_1",
          "challenger_1",
          "challenger_1",
          "challenger_1",
          "challenger_1",
          "challenger_1",
          "challenger_1",
          "challenger_1",
          "challenger_1",
          "challenger_1",
          "challenger_1",
          "challenger_1",
          "challenger_1",
          "challenger_1",
          "challenger_1",
          "challenger_1",
          "challenger_1",
          "challenger_1",
          "challenger_1",
          "challenger_1",
          "challenger_1",
          "challenger_1"
         ],
         "x0": " ",
         "xaxis": "x",
         "y": [
          0.1170574755672868,
          1,
          1,
          0.0717734625362931,
          1.8912412707177813,
          0.1170574755672868,
          1.5452840130309935,
          0.0717734625362931,
          1.6309297535714575,
          0.0717734625362931,
          1.6309297535714575,
          1,
          0.5,
          2.1309297535714578,
          0.0034777750283594,
          0.6757343888405354,
          2.56160631164485,
          0.0069555500567188,
          1.6309297535714575,
          1,
          0.1170574755672868,
          1,
          1,
          0.0069555500567188,
          1.8912412707177813,
          0.1170574755672868,
          2.1309297535714578,
          0.0717734625362931,
          1.6309297535714575,
          0.0717734625362931,
          1.0452840130309935,
          1,
          0.0358867312681465,
          2.1309297535714578,
          0.0034777750283594,
          0.6757343888405354,
          2.56160631164485,
          0.0069555500567188,
          1.6309297535714575,
          1,
          0.1170574755672868,
          1,
          1,
          0.0717734625362931,
          1.8912412707177813,
          0.1170574755672868,
          2.1309297535714578,
          0.0717734625362931,
          1.0452840130309935,
          0.0717734625362931,
          1.6309297535714575,
          1,
          0.5024776169204929,
          2.1309297535714578,
          0.0034777750283594,
          0.6506593974387292,
          2.56160631164485,
          0.0069555500567188,
          1.6309297535714575,
          1,
          0.1170574755672868,
          1,
          1,
          0.0717734625362931,
          1.8868528072345416,
          0.1170574755672868,
          2.1309297535714578,
          0.0717734625362931,
          1.6309297535714575,
          0.0717734625362931,
          1.6309297535714575,
          1,
          0.5,
          2.1309297535714578,
          0.0034777750283594,
          0.6757343888405354,
          2.56160631164485,
          0.0069555500567188,
          1.6309297535714575,
          1,
          0.1170574755672868,
          1,
          1,
          0.0717734625362931,
          1.8912412707177813,
          0.1170574755672868,
          2.1309297535714578,
          0.0717734625362931,
          1.0452840130309935,
          0.0717734625362931,
          1.6309297535714575,
          1,
          0.5,
          2.1309297535714578,
          0.0034777750283594,
          0.6109164763609611,
          2.56160631164485,
          0.0069555500567188,
          1.6309297535714575,
          1,
          0.1170574755672868,
          1,
          1,
          0.0717734625362931,
          0.9630147332540744,
          0.1170574755672868,
          2.1309297535714578,
          0.0717734625362931,
          1.6309297535714575,
          0.0717734625362931,
          0.7027032161077507,
          0.0717734625362931,
          0.5,
          2.1309297535714578,
          0.0034777750283594,
          0.6757343888405354,
          2.56160631164485,
          0.0069555500567188,
          1.6309297535714575,
          1,
          0.1170574755672868,
          1,
          0.0717734625362931,
          0.0717734625362931,
          1.8912412707177813,
          0.1170574755672868,
          2.1309297535714578,
          0.0069555500567188,
          1.6309297535714575,
          0.0717734625362931,
          1.6309297535714575,
          1,
          0.5029955923579349,
          2.1309297535714578,
          0.0034777750283594,
          0.6757343888405354,
          2.56160631164485,
          0.0069555500567188,
          1.6309297535714575,
          1,
          0.7972668606491458,
          1,
          2.6781250158991963,
          1.0452840130309935,
          2.6224113102563686,
          0.6055310164816006,
          4.267996020753618,
          0.5678283072167041,
          1.6309297535714575,
          0.1452876320332152,
          2.0202325814156854,
          3.052353898780284,
          1.603954725452561,
          3.304666305987414,
          0.3969409118487693,
          2.1614942463231377,
          3.304666305987414,
          0.4454983466417109,
          2.56160631164485,
          3.0114583492325298,
          0.7972668606491458,
          1,
          1.7907940279832435,
          0.1170574755672868,
          2.6224113102563686,
          0.8738486593172015,
          4.267996020753618,
          0.5678283072167041,
          1.6309297535714575,
          0.1452876320332152,
          2.9484591188793923,
          3.052353898780284,
          1.3201422314214293,
          3.304666305987414,
          0.3969409118487693,
          1.7994116121977697,
          3.304666305987414,
          0.4420205716133515,
          1.576195160837134,
          3.0114583492325298,
          0.7648579044093586,
          1,
          2.7190205654469506,
          0.1170574755672868,
          2.227034363472355,
          0.8738486593172015,
          3.975173150483385,
          0.8945063927443504,
          1.6309297535714575,
          0.0878036843916219,
          2.9484591188793923,
          3.637999639320748,
          1.6036401487212957,
          3.304666305987414,
          0.3969409118487693,
          1.5728529134247389,
          3.304666305987414,
          0.4454983466417109,
          2.56160631164485,
          3.0114583492325298,
          0.7972668606491458,
          1,
          2.3883796015379843,
          0.1170574755672868,
          2.6224113102563686,
          1.1666715295874337,
          3.801942550400319,
          0.5678283072167041,
          1.6309297535714575,
          0.2092717878595324,
          2.9484591188793923,
          3.637999639320748,
          1.5995662619693214,
          3.304666305987414,
          1.3530830047606817,
          2.126089697725416,
          3.304666305987414,
          0.5103162591212852,
          2.56160631164485,
          3.0114583492325298,
          0.7721918692473396,
          1,
          1.7907940279832435,
          0.1170574755672868,
          2.6224113102563686,
          1.4594943998576655,
          4.267996020753618,
          0.5678283072167041,
          1.6309297535714575,
          0.1452876320332152,
          2.9484591188793923,
          2.8432454066799284,
          1.5671573057295345,
          2.3764397685237078,
          0.3969409118487693,
          2.4022969224392297,
          3.304666305987414,
          0.4454983466417109,
          2.097493042912997,
          3.0114583492325298,
          1.1970322709163983,
          1,
          2.6781250158991963,
          0.1170574755672868,
          2.6224113102563686,
          0.6055310164816006,
          4.267996020753618,
          0.5399127517684986,
          1.6309297535714575,
          0.1452876320332152,
          2.9484591188793923,
          3.637999639320748,
          1.5995662619693214,
          3.304666305987414,
          0.3969409118487693,
          2.1584986539652027,
          3.304666305987414,
          0.4779073028814981,
          2.56160631164485,
          3.0114583492325298,
          1.1970322709163983,
          1,
          2.3599335236795174,
          0.1170574755672868,
          2.626799773739608,
          0.8738486593172015,
          4.267996020753618,
          0.5678283072167041,
          1.6309297535714575,
          0.1861831815809693,
          2.9484591188793923,
          3.637999639320748,
          1.5995662619693214,
          3.304666305987414,
          0.3969409118487693,
          1.8278576900562369,
          3.304666305987414,
          0.4454983466417109,
          2.56160631164485,
          3.0114583492325298,
          1.5096817285203474,
          2.9484591188793923,
          2.920504272818175,
          0.5701468239022771,
          3.855868133013727,
          0.7434619233764298,
          4.286490001044111,
          0.6479686233734272,
          3.637999639320748,
          0.0529171112313419,
          2.56160631164485,
          4.254494511770458,
          0.6807990221653558,
          3.660641645836245,
          0.0349505407338255,
          2.119262149037977,
          2.56160631164485,
          0.5660744909112829,
          2.06160631164485,
          2.520778153163934,
          1.5651792910386977,
          2.9484591188793923,
          2.017352726756274,
          0.5917527947288017,
          4.148691003283959,
          0.7434619233764298,
          4.875322877413239,
          0.6479686233734272,
          3.637999639320748,
          0.0808326666795474,
          2.097493042912997,
          4.254494511770458,
          0.6825007012574625,
          3.6228235521975103,
          0.3311967912030928,
          2.1019901181905394,
          2.56160631164485,
          0.0989656298214945,
          2.06160631164485,
          2.520778153163934,
          1.5401042996368914,
          2.9484591188793923,
          2.945579264219981,
          0.5917527947288017,
          4.151009519969532,
          0.7434619233764298,
          4.875322877413239,
          1.5482796053889287,
          3.637999639320748,
          0.0529171112313419,
          2.56160631164485,
          4.254494511770458,
          0.6824670497807956,
          3.367818775566013,
          0.0574921447111173,
          2.5638632818571567,
          2.56160631164485,
          0.1019612221794294,
          2.06160631164485,
          2.520778153163934,
          1.5651792910386977,
          2.362813378338928,
          2.4814659954881275,
          0.5917527947288017,
          4.148691003283959,
          1.5664450528277818,
          4.631524608939212,
          0.6479686233734272,
          3.637999639320748,
          0.1150442496456141,
          2.56160631164485,
          4.254494511770458,
          1.0823447612865922,
          3.953464516106477,
          0.0804733069095087,
          2.560286811491268,
          2.56160631164485,
          0.1679317631289896,
          2.06160631164485,
          2.520778153163934,
          1.5651792910386977,
          2.9484591188793923,
          2.945579264219981,
          0.5917527947288017,
          3.91464432762822,
          0.7253814239384202,
          4.875322877413239,
          0.6479686233734272,
          3.052353898780284,
          0.0529171112313419,
          2.56160631164485,
          3.585998624181789,
          0.6159811096857816,
          3.0252379786427697,
          0.2991965839817293,
          1.878075551232572,
          2.56160631164485,
          0.1019612221794294,
          1.1333797741811438,
          2.520778153163934,
          2.1508250315791613,
          2.9484591188793923,
          2.920504272818175,
          0.2611118308198356,
          4.148691003283959,
          0.7434619233764298,
          4.875322877413239,
          0.6479686233734272,
          3.637999639320748,
          0.0529171112313419,
          2.56160631164485,
          3.9616716415002258,
          0.6807990221653558,
          3.953464516106477,
          0.0553983155077026,
          2.345788386664566,
          2.56160631164485,
          0.1298767776276349,
          2.06160631164485,
          2.520778153163934,
          2.6149383003110147,
          2.9484591188793923,
          2.945579264219981,
          1.5199793321925088,
          4.14173545322724,
          0.7434619233764298,
          4.875322877413239,
          0.6070730738256731,
          3.238234229053495,
          0.0529171112313419,
          2.56160631164485,
          4.254494511770458,
          0.6807990221653558,
          3.953464516106477,
          0.0553983155077026,
          3.145932552031732,
          1.6333797741811438,
          0.1019612221794294,
          1.661840901377598,
          2.520778153163934
         ],
         "y0": " ",
         "yaxis": "y"
        }
       ],
       "layout": {
        "legend": {
         "title": {
          "text": "metric"
         },
         "tracegroupgap": 0
        },
        "margin": {
         "t": 60
        },
        "template": {
         "data": {
          "bar": [
           {
            "error_x": {
             "color": "#2a3f5f"
            },
            "error_y": {
             "color": "#2a3f5f"
            },
            "marker": {
             "line": {
              "color": "#E5ECF6",
              "width": 0.5
             },
             "pattern": {
              "fillmode": "overlay",
              "size": 10,
              "solidity": 0.2
             }
            },
            "type": "bar"
           }
          ],
          "barpolar": [
           {
            "marker": {
             "line": {
              "color": "#E5ECF6",
              "width": 0.5
             },
             "pattern": {
              "fillmode": "overlay",
              "size": 10,
              "solidity": 0.2
             }
            },
            "type": "barpolar"
           }
          ],
          "carpet": [
           {
            "aaxis": {
             "endlinecolor": "#2a3f5f",
             "gridcolor": "white",
             "linecolor": "white",
             "minorgridcolor": "white",
             "startlinecolor": "#2a3f5f"
            },
            "baxis": {
             "endlinecolor": "#2a3f5f",
             "gridcolor": "white",
             "linecolor": "white",
             "minorgridcolor": "white",
             "startlinecolor": "#2a3f5f"
            },
            "type": "carpet"
           }
          ],
          "choropleth": [
           {
            "colorbar": {
             "outlinewidth": 0,
             "ticks": ""
            },
            "type": "choropleth"
           }
          ],
          "contour": [
           {
            "colorbar": {
             "outlinewidth": 0,
             "ticks": ""
            },
            "colorscale": [
             [
              0,
              "#0d0887"
             ],
             [
              0.1111111111111111,
              "#46039f"
             ],
             [
              0.2222222222222222,
              "#7201a8"
             ],
             [
              0.3333333333333333,
              "#9c179e"
             ],
             [
              0.4444444444444444,
              "#bd3786"
             ],
             [
              0.5555555555555556,
              "#d8576b"
             ],
             [
              0.6666666666666666,
              "#ed7953"
             ],
             [
              0.7777777777777778,
              "#fb9f3a"
             ],
             [
              0.8888888888888888,
              "#fdca26"
             ],
             [
              1,
              "#f0f921"
             ]
            ],
            "type": "contour"
           }
          ],
          "contourcarpet": [
           {
            "colorbar": {
             "outlinewidth": 0,
             "ticks": ""
            },
            "type": "contourcarpet"
           }
          ],
          "heatmap": [
           {
            "colorbar": {
             "outlinewidth": 0,
             "ticks": ""
            },
            "colorscale": [
             [
              0,
              "#0d0887"
             ],
             [
              0.1111111111111111,
              "#46039f"
             ],
             [
              0.2222222222222222,
              "#7201a8"
             ],
             [
              0.3333333333333333,
              "#9c179e"
             ],
             [
              0.4444444444444444,
              "#bd3786"
             ],
             [
              0.5555555555555556,
              "#d8576b"
             ],
             [
              0.6666666666666666,
              "#ed7953"
             ],
             [
              0.7777777777777778,
              "#fb9f3a"
             ],
             [
              0.8888888888888888,
              "#fdca26"
             ],
             [
              1,
              "#f0f921"
             ]
            ],
            "type": "heatmap"
           }
          ],
          "heatmapgl": [
           {
            "colorbar": {
             "outlinewidth": 0,
             "ticks": ""
            },
            "colorscale": [
             [
              0,
              "#0d0887"
             ],
             [
              0.1111111111111111,
              "#46039f"
             ],
             [
              0.2222222222222222,
              "#7201a8"
             ],
             [
              0.3333333333333333,
              "#9c179e"
             ],
             [
              0.4444444444444444,
              "#bd3786"
             ],
             [
              0.5555555555555556,
              "#d8576b"
             ],
             [
              0.6666666666666666,
              "#ed7953"
             ],
             [
              0.7777777777777778,
              "#fb9f3a"
             ],
             [
              0.8888888888888888,
              "#fdca26"
             ],
             [
              1,
              "#f0f921"
             ]
            ],
            "type": "heatmapgl"
           }
          ],
          "histogram": [
           {
            "marker": {
             "pattern": {
              "fillmode": "overlay",
              "size": 10,
              "solidity": 0.2
             }
            },
            "type": "histogram"
           }
          ],
          "histogram2d": [
           {
            "colorbar": {
             "outlinewidth": 0,
             "ticks": ""
            },
            "colorscale": [
             [
              0,
              "#0d0887"
             ],
             [
              0.1111111111111111,
              "#46039f"
             ],
             [
              0.2222222222222222,
              "#7201a8"
             ],
             [
              0.3333333333333333,
              "#9c179e"
             ],
             [
              0.4444444444444444,
              "#bd3786"
             ],
             [
              0.5555555555555556,
              "#d8576b"
             ],
             [
              0.6666666666666666,
              "#ed7953"
             ],
             [
              0.7777777777777778,
              "#fb9f3a"
             ],
             [
              0.8888888888888888,
              "#fdca26"
             ],
             [
              1,
              "#f0f921"
             ]
            ],
            "type": "histogram2d"
           }
          ],
          "histogram2dcontour": [
           {
            "colorbar": {
             "outlinewidth": 0,
             "ticks": ""
            },
            "colorscale": [
             [
              0,
              "#0d0887"
             ],
             [
              0.1111111111111111,
              "#46039f"
             ],
             [
              0.2222222222222222,
              "#7201a8"
             ],
             [
              0.3333333333333333,
              "#9c179e"
             ],
             [
              0.4444444444444444,
              "#bd3786"
             ],
             [
              0.5555555555555556,
              "#d8576b"
             ],
             [
              0.6666666666666666,
              "#ed7953"
             ],
             [
              0.7777777777777778,
              "#fb9f3a"
             ],
             [
              0.8888888888888888,
              "#fdca26"
             ],
             [
              1,
              "#f0f921"
             ]
            ],
            "type": "histogram2dcontour"
           }
          ],
          "mesh3d": [
           {
            "colorbar": {
             "outlinewidth": 0,
             "ticks": ""
            },
            "type": "mesh3d"
           }
          ],
          "parcoords": [
           {
            "line": {
             "colorbar": {
              "outlinewidth": 0,
              "ticks": ""
             }
            },
            "type": "parcoords"
           }
          ],
          "pie": [
           {
            "automargin": true,
            "type": "pie"
           }
          ],
          "scatter": [
           {
            "fillpattern": {
             "fillmode": "overlay",
             "size": 10,
             "solidity": 0.2
            },
            "type": "scatter"
           }
          ],
          "scatter3d": [
           {
            "line": {
             "colorbar": {
              "outlinewidth": 0,
              "ticks": ""
             }
            },
            "marker": {
             "colorbar": {
              "outlinewidth": 0,
              "ticks": ""
             }
            },
            "type": "scatter3d"
           }
          ],
          "scattercarpet": [
           {
            "marker": {
             "colorbar": {
              "outlinewidth": 0,
              "ticks": ""
             }
            },
            "type": "scattercarpet"
           }
          ],
          "scattergeo": [
           {
            "marker": {
             "colorbar": {
              "outlinewidth": 0,
              "ticks": ""
             }
            },
            "type": "scattergeo"
           }
          ],
          "scattergl": [
           {
            "marker": {
             "colorbar": {
              "outlinewidth": 0,
              "ticks": ""
             }
            },
            "type": "scattergl"
           }
          ],
          "scattermapbox": [
           {
            "marker": {
             "colorbar": {
              "outlinewidth": 0,
              "ticks": ""
             }
            },
            "type": "scattermapbox"
           }
          ],
          "scatterpolar": [
           {
            "marker": {
             "colorbar": {
              "outlinewidth": 0,
              "ticks": ""
             }
            },
            "type": "scatterpolar"
           }
          ],
          "scatterpolargl": [
           {
            "marker": {
             "colorbar": {
              "outlinewidth": 0,
              "ticks": ""
             }
            },
            "type": "scatterpolargl"
           }
          ],
          "scatterternary": [
           {
            "marker": {
             "colorbar": {
              "outlinewidth": 0,
              "ticks": ""
             }
            },
            "type": "scatterternary"
           }
          ],
          "surface": [
           {
            "colorbar": {
             "outlinewidth": 0,
             "ticks": ""
            },
            "colorscale": [
             [
              0,
              "#0d0887"
             ],
             [
              0.1111111111111111,
              "#46039f"
             ],
             [
              0.2222222222222222,
              "#7201a8"
             ],
             [
              0.3333333333333333,
              "#9c179e"
             ],
             [
              0.4444444444444444,
              "#bd3786"
             ],
             [
              0.5555555555555556,
              "#d8576b"
             ],
             [
              0.6666666666666666,
              "#ed7953"
             ],
             [
              0.7777777777777778,
              "#fb9f3a"
             ],
             [
              0.8888888888888888,
              "#fdca26"
             ],
             [
              1,
              "#f0f921"
             ]
            ],
            "type": "surface"
           }
          ],
          "table": [
           {
            "cells": {
             "fill": {
              "color": "#EBF0F8"
             },
             "line": {
              "color": "white"
             }
            },
            "header": {
             "fill": {
              "color": "#C8D4E3"
             },
             "line": {
              "color": "white"
             }
            },
            "type": "table"
           }
          ]
         },
         "layout": {
          "annotationdefaults": {
           "arrowcolor": "#2a3f5f",
           "arrowhead": 0,
           "arrowwidth": 1
          },
          "autotypenumbers": "strict",
          "coloraxis": {
           "colorbar": {
            "outlinewidth": 0,
            "ticks": ""
           }
          },
          "colorscale": {
           "diverging": [
            [
             0,
             "#8e0152"
            ],
            [
             0.1,
             "#c51b7d"
            ],
            [
             0.2,
             "#de77ae"
            ],
            [
             0.3,
             "#f1b6da"
            ],
            [
             0.4,
             "#fde0ef"
            ],
            [
             0.5,
             "#f7f7f7"
            ],
            [
             0.6,
             "#e6f5d0"
            ],
            [
             0.7,
             "#b8e186"
            ],
            [
             0.8,
             "#7fbc41"
            ],
            [
             0.9,
             "#4d9221"
            ],
            [
             1,
             "#276419"
            ]
           ],
           "sequential": [
            [
             0,
             "#0d0887"
            ],
            [
             0.1111111111111111,
             "#46039f"
            ],
            [
             0.2222222222222222,
             "#7201a8"
            ],
            [
             0.3333333333333333,
             "#9c179e"
            ],
            [
             0.4444444444444444,
             "#bd3786"
            ],
            [
             0.5555555555555556,
             "#d8576b"
            ],
            [
             0.6666666666666666,
             "#ed7953"
            ],
            [
             0.7777777777777778,
             "#fb9f3a"
            ],
            [
             0.8888888888888888,
             "#fdca26"
            ],
            [
             1,
             "#f0f921"
            ]
           ],
           "sequentialminus": [
            [
             0,
             "#0d0887"
            ],
            [
             0.1111111111111111,
             "#46039f"
            ],
            [
             0.2222222222222222,
             "#7201a8"
            ],
            [
             0.3333333333333333,
             "#9c179e"
            ],
            [
             0.4444444444444444,
             "#bd3786"
            ],
            [
             0.5555555555555556,
             "#d8576b"
            ],
            [
             0.6666666666666666,
             "#ed7953"
            ],
            [
             0.7777777777777778,
             "#fb9f3a"
            ],
            [
             0.8888888888888888,
             "#fdca26"
            ],
            [
             1,
             "#f0f921"
            ]
           ]
          },
          "colorway": [
           "#636efa",
           "#EF553B",
           "#00cc96",
           "#ab63fa",
           "#FFA15A",
           "#19d3f3",
           "#FF6692",
           "#B6E880",
           "#FF97FF",
           "#FECB52"
          ],
          "font": {
           "color": "#2a3f5f"
          },
          "geo": {
           "bgcolor": "white",
           "lakecolor": "white",
           "landcolor": "#E5ECF6",
           "showlakes": true,
           "showland": true,
           "subunitcolor": "white"
          },
          "hoverlabel": {
           "align": "left"
          },
          "hovermode": "closest",
          "mapbox": {
           "style": "light"
          },
          "paper_bgcolor": "white",
          "plot_bgcolor": "#E5ECF6",
          "polar": {
           "angularaxis": {
            "gridcolor": "white",
            "linecolor": "white",
            "ticks": ""
           },
           "bgcolor": "#E5ECF6",
           "radialaxis": {
            "gridcolor": "white",
            "linecolor": "white",
            "ticks": ""
           }
          },
          "scene": {
           "xaxis": {
            "backgroundcolor": "#E5ECF6",
            "gridcolor": "white",
            "gridwidth": 2,
            "linecolor": "white",
            "showbackground": true,
            "ticks": "",
            "zerolinecolor": "white"
           },
           "yaxis": {
            "backgroundcolor": "#E5ECF6",
            "gridcolor": "white",
            "gridwidth": 2,
            "linecolor": "white",
            "showbackground": true,
            "ticks": "",
            "zerolinecolor": "white"
           },
           "zaxis": {
            "backgroundcolor": "#E5ECF6",
            "gridcolor": "white",
            "gridwidth": 2,
            "linecolor": "white",
            "showbackground": true,
            "ticks": "",
            "zerolinecolor": "white"
           }
          },
          "shapedefaults": {
           "line": {
            "color": "#2a3f5f"
           }
          },
          "ternary": {
           "aaxis": {
            "gridcolor": "white",
            "linecolor": "white",
            "ticks": ""
           },
           "baxis": {
            "gridcolor": "white",
            "linecolor": "white",
            "ticks": ""
           },
           "bgcolor": "#E5ECF6",
           "caxis": {
            "gridcolor": "white",
            "linecolor": "white",
            "ticks": ""
           }
          },
          "title": {
           "x": 0.05
          },
          "xaxis": {
           "automargin": true,
           "gridcolor": "white",
           "linecolor": "white",
           "ticks": "",
           "title": {
            "standoff": 15
           },
           "zerolinecolor": "white",
           "zerolinewidth": 2
          },
          "yaxis": {
           "automargin": true,
           "gridcolor": "white",
           "linecolor": "white",
           "ticks": "",
           "title": {
            "standoff": 15
           },
           "zerolinecolor": "white",
           "zerolinewidth": 2
          }
         }
        },
        "violinmode": "group",
        "xaxis": {
         "anchor": "y",
         "domain": [
          0,
          1
         ],
         "title": {
          "text": "search_config"
         }
        },
        "yaxis": {
         "anchor": "x",
         "domain": [
          0,
          1
         ],
         "title": {
          "text": "value"
         }
        }
       }
      },
      "text/html": [
       "<div>                            <div id=\"c86296eb-509b-4f62-8929-3ce49b04cc6f\" class=\"plotly-graph-div\" style=\"height:525px; width:100%;\"></div>            <script type=\"text/javascript\">                require([\"plotly\"], function(Plotly) {                    window.PLOTLYENV=window.PLOTLYENV || {};                                    if (document.getElementById(\"c86296eb-509b-4f62-8929-3ce49b04cc6f\")) {                    Plotly.newPlot(                        \"c86296eb-509b-4f62-8929-3ce49b04cc6f\",                        [{\"alignmentgroup\":\"True\",\"box\":{\"visible\":false},\"customdata\":[[\"dcg\",\"4t camo sweat shirt\",\"2024-06-25\"],[\"dcg\",\"all day office chair\",\"2024-06-25\"],[\"dcg\",\"bluray movie collection\",\"2024-06-25\"],[\"dcg\",\"citizen limited edition\",\"2024-06-25\"],[\"dcg\",\"cruz comunion ni\\u00f1o\",\"2024-06-25\"],[\"dcg\",\"explorer k2\",\"2024-06-25\"],[\"dcg\",\"fishing pole\",\"2024-06-25\"],[\"dcg\",\"gold shirt women\",\"2024-06-25\"],[\"dcg\",\"green wall decals\",\"2024-06-25\"],[\"dcg\",\"habitrail ovo twist\",\"2024-06-25\"],[\"dcg\",\"nail light\",\"2024-06-25\"],[\"dcg\",\"northface hydration packs\",\"2024-06-25\"],[\"dcg\",\"one man and his dog\",\"2024-06-25\"],[\"dcg\",\"small dog muzzle\",\"2024-06-25\"],[\"dcg\",\"vape pen\",\"2024-06-25\"],[\"dcg\",\"\\u3086\\u3046\\u3073\\u3093\\u756a\\u53f7\\u67a0\\u5165\\u308a \\u306f\\u304c\\u304d \\u5207\\u624b\\u306a\\u3057\",\"2024-06-25\"],[\"dcg\",\"\\u30a8\\u30d7\\u30ed\\u30f3 \\u5b50\\u4f9b\",\"2024-06-25\"],[\"dcg\",\"\\u30b9\\u30de\\u30db \\u30ec\\u30fc\\u30c0\\u30fc\\u63a2\\u77e5\\u6a5f\",\"2024-06-25\"],[\"dcg\",\"\\u65b0\\u7c73\",\"2024-06-25\"],[\"dcg\",\"\\u821e\\u53f0 \\u30a2\\u30a4\\u30b7\\u30e3\\u30c9\\u30a6\",\"2024-06-25\"],[\"dcg\",\"4t camo sweat shirt\",\"2024-06-26\"],[\"dcg\",\"all day office chair\",\"2024-06-26\"],[\"dcg\",\"bluray movie collection\",\"2024-06-26\"],[\"dcg\",\"citizen limited edition\",\"2024-06-26\"],[\"dcg\",\"cruz comunion ni\\u00f1o\",\"2024-06-26\"],[\"dcg\",\"explorer k2\",\"2024-06-26\"],[\"dcg\",\"fishing pole\",\"2024-06-26\"],[\"dcg\",\"gold shirt women\",\"2024-06-26\"],[\"dcg\",\"green wall decals\",\"2024-06-26\"],[\"dcg\",\"habitrail ovo twist\",\"2024-06-26\"],[\"dcg\",\"nail light\",\"2024-06-26\"],[\"dcg\",\"northface hydration packs\",\"2024-06-26\"],[\"dcg\",\"one man and his dog\",\"2024-06-26\"],[\"dcg\",\"small dog muzzle\",\"2024-06-26\"],[\"dcg\",\"vape pen\",\"2024-06-26\"],[\"dcg\",\"\\u3086\\u3046\\u3073\\u3093\\u756a\\u53f7\\u67a0\\u5165\\u308a \\u306f\\u304c\\u304d \\u5207\\u624b\\u306a\\u3057\",\"2024-06-26\"],[\"dcg\",\"\\u30a8\\u30d7\\u30ed\\u30f3 \\u5b50\\u4f9b\",\"2024-06-26\"],[\"dcg\",\"\\u30b9\\u30de\\u30db \\u30ec\\u30fc\\u30c0\\u30fc\\u63a2\\u77e5\\u6a5f\",\"2024-06-26\"],[\"dcg\",\"\\u65b0\\u7c73\",\"2024-06-26\"],[\"dcg\",\"\\u821e\\u53f0 \\u30a2\\u30a4\\u30b7\\u30e3\\u30c9\\u30a6\",\"2024-06-26\"],[\"dcg\",\"4t camo sweat shirt\",\"2024-06-27\"],[\"dcg\",\"all day office chair\",\"2024-06-27\"],[\"dcg\",\"bluray movie collection\",\"2024-06-27\"],[\"dcg\",\"citizen limited edition\",\"2024-06-27\"],[\"dcg\",\"cruz comunion ni\\u00f1o\",\"2024-06-27\"],[\"dcg\",\"explorer k2\",\"2024-06-27\"],[\"dcg\",\"fishing pole\",\"2024-06-27\"],[\"dcg\",\"gold shirt women\",\"2024-06-27\"],[\"dcg\",\"green wall decals\",\"2024-06-27\"],[\"dcg\",\"habitrail ovo twist\",\"2024-06-27\"],[\"dcg\",\"nail light\",\"2024-06-27\"],[\"dcg\",\"northface hydration packs\",\"2024-06-27\"],[\"dcg\",\"one man and his dog\",\"2024-06-27\"],[\"dcg\",\"small dog muzzle\",\"2024-06-27\"],[\"dcg\",\"vape pen\",\"2024-06-27\"],[\"dcg\",\"\\u3086\\u3046\\u3073\\u3093\\u756a\\u53f7\\u67a0\\u5165\\u308a \\u306f\\u304c\\u304d \\u5207\\u624b\\u306a\\u3057\",\"2024-06-27\"],[\"dcg\",\"\\u30a8\\u30d7\\u30ed\\u30f3 \\u5b50\\u4f9b\",\"2024-06-27\"],[\"dcg\",\"\\u30b9\\u30de\\u30db \\u30ec\\u30fc\\u30c0\\u30fc\\u63a2\\u77e5\\u6a5f\",\"2024-06-27\"],[\"dcg\",\"\\u65b0\\u7c73\",\"2024-06-27\"],[\"dcg\",\"\\u821e\\u53f0 \\u30a2\\u30a4\\u30b7\\u30e3\\u30c9\\u30a6\",\"2024-06-27\"],[\"dcg\",\"4t camo sweat shirt\",\"2024-06-28\"],[\"dcg\",\"all day office chair\",\"2024-06-28\"],[\"dcg\",\"bluray movie collection\",\"2024-06-28\"],[\"dcg\",\"citizen limited edition\",\"2024-06-28\"],[\"dcg\",\"cruz comunion ni\\u00f1o\",\"2024-06-28\"],[\"dcg\",\"explorer k2\",\"2024-06-28\"],[\"dcg\",\"fishing pole\",\"2024-06-28\"],[\"dcg\",\"gold shirt women\",\"2024-06-28\"],[\"dcg\",\"green wall decals\",\"2024-06-28\"],[\"dcg\",\"habitrail ovo twist\",\"2024-06-28\"],[\"dcg\",\"nail light\",\"2024-06-28\"],[\"dcg\",\"northface hydration packs\",\"2024-06-28\"],[\"dcg\",\"one man and his dog\",\"2024-06-28\"],[\"dcg\",\"small dog muzzle\",\"2024-06-28\"],[\"dcg\",\"vape pen\",\"2024-06-28\"],[\"dcg\",\"\\u3086\\u3046\\u3073\\u3093\\u756a\\u53f7\\u67a0\\u5165\\u308a \\u306f\\u304c\\u304d \\u5207\\u624b\\u306a\\u3057\",\"2024-06-28\"],[\"dcg\",\"\\u30a8\\u30d7\\u30ed\\u30f3 \\u5b50\\u4f9b\",\"2024-06-28\"],[\"dcg\",\"\\u30b9\\u30de\\u30db \\u30ec\\u30fc\\u30c0\\u30fc\\u63a2\\u77e5\\u6a5f\",\"2024-06-28\"],[\"dcg\",\"\\u65b0\\u7c73\",\"2024-06-28\"],[\"dcg\",\"\\u821e\\u53f0 \\u30a2\\u30a4\\u30b7\\u30e3\\u30c9\\u30a6\",\"2024-06-28\"],[\"dcg\",\"4t camo sweat shirt\",\"2024-06-29\"],[\"dcg\",\"all day office chair\",\"2024-06-29\"],[\"dcg\",\"bluray movie collection\",\"2024-06-29\"],[\"dcg\",\"citizen limited edition\",\"2024-06-29\"],[\"dcg\",\"cruz comunion ni\\u00f1o\",\"2024-06-29\"],[\"dcg\",\"explorer k2\",\"2024-06-29\"],[\"dcg\",\"fishing pole\",\"2024-06-29\"],[\"dcg\",\"gold shirt women\",\"2024-06-29\"],[\"dcg\",\"green wall decals\",\"2024-06-29\"],[\"dcg\",\"habitrail ovo twist\",\"2024-06-29\"],[\"dcg\",\"nail light\",\"2024-06-29\"],[\"dcg\",\"northface hydration packs\",\"2024-06-29\"],[\"dcg\",\"one man and his dog\",\"2024-06-29\"],[\"dcg\",\"small dog muzzle\",\"2024-06-29\"],[\"dcg\",\"vape pen\",\"2024-06-29\"],[\"dcg\",\"\\u3086\\u3046\\u3073\\u3093\\u756a\\u53f7\\u67a0\\u5165\\u308a \\u306f\\u304c\\u304d \\u5207\\u624b\\u306a\\u3057\",\"2024-06-29\"],[\"dcg\",\"\\u30a8\\u30d7\\u30ed\\u30f3 \\u5b50\\u4f9b\",\"2024-06-29\"],[\"dcg\",\"\\u30b9\\u30de\\u30db \\u30ec\\u30fc\\u30c0\\u30fc\\u63a2\\u77e5\\u6a5f\",\"2024-06-29\"],[\"dcg\",\"\\u65b0\\u7c73\",\"2024-06-29\"],[\"dcg\",\"\\u821e\\u53f0 \\u30a2\\u30a4\\u30b7\\u30e3\\u30c9\\u30a6\",\"2024-06-29\"],[\"dcg\",\"4t camo sweat shirt\",\"2024-06-30\"],[\"dcg\",\"all day office chair\",\"2024-06-30\"],[\"dcg\",\"bluray movie collection\",\"2024-06-30\"],[\"dcg\",\"citizen limited edition\",\"2024-06-30\"],[\"dcg\",\"cruz comunion ni\\u00f1o\",\"2024-06-30\"],[\"dcg\",\"explorer k2\",\"2024-06-30\"],[\"dcg\",\"fishing pole\",\"2024-06-30\"],[\"dcg\",\"gold shirt women\",\"2024-06-30\"],[\"dcg\",\"green wall decals\",\"2024-06-30\"],[\"dcg\",\"habitrail ovo twist\",\"2024-06-30\"],[\"dcg\",\"nail light\",\"2024-06-30\"],[\"dcg\",\"northface hydration packs\",\"2024-06-30\"],[\"dcg\",\"one man and his dog\",\"2024-06-30\"],[\"dcg\",\"small dog muzzle\",\"2024-06-30\"],[\"dcg\",\"vape pen\",\"2024-06-30\"],[\"dcg\",\"\\u3086\\u3046\\u3073\\u3093\\u756a\\u53f7\\u67a0\\u5165\\u308a \\u306f\\u304c\\u304d \\u5207\\u624b\\u306a\\u3057\",\"2024-06-30\"],[\"dcg\",\"\\u30a8\\u30d7\\u30ed\\u30f3 \\u5b50\\u4f9b\",\"2024-06-30\"],[\"dcg\",\"\\u30b9\\u30de\\u30db \\u30ec\\u30fc\\u30c0\\u30fc\\u63a2\\u77e5\\u6a5f\",\"2024-06-30\"],[\"dcg\",\"\\u65b0\\u7c73\",\"2024-06-30\"],[\"dcg\",\"\\u821e\\u53f0 \\u30a2\\u30a4\\u30b7\\u30e3\\u30c9\\u30a6\",\"2024-06-30\"],[\"dcg\",\"4t camo sweat shirt\",\"2024-07-01\"],[\"dcg\",\"all day office chair\",\"2024-07-01\"],[\"dcg\",\"bluray movie collection\",\"2024-07-01\"],[\"dcg\",\"citizen limited edition\",\"2024-07-01\"],[\"dcg\",\"cruz comunion ni\\u00f1o\",\"2024-07-01\"],[\"dcg\",\"explorer k2\",\"2024-07-01\"],[\"dcg\",\"fishing pole\",\"2024-07-01\"],[\"dcg\",\"gold shirt women\",\"2024-07-01\"],[\"dcg\",\"green wall decals\",\"2024-07-01\"],[\"dcg\",\"habitrail ovo twist\",\"2024-07-01\"],[\"dcg\",\"nail light\",\"2024-07-01\"],[\"dcg\",\"northface hydration packs\",\"2024-07-01\"],[\"dcg\",\"one man and his dog\",\"2024-07-01\"],[\"dcg\",\"small dog muzzle\",\"2024-07-01\"],[\"dcg\",\"vape pen\",\"2024-07-01\"],[\"dcg\",\"\\u3086\\u3046\\u3073\\u3093\\u756a\\u53f7\\u67a0\\u5165\\u308a \\u306f\\u304c\\u304d \\u5207\\u624b\\u306a\\u3057\",\"2024-07-01\"],[\"dcg\",\"\\u30a8\\u30d7\\u30ed\\u30f3 \\u5b50\\u4f9b\",\"2024-07-01\"],[\"dcg\",\"\\u30b9\\u30de\\u30db \\u30ec\\u30fc\\u30c0\\u30fc\\u63a2\\u77e5\\u6a5f\",\"2024-07-01\"],[\"dcg\",\"\\u65b0\\u7c73\",\"2024-07-01\"],[\"dcg\",\"\\u821e\\u53f0 \\u30a2\\u30a4\\u30b7\\u30e3\\u30c9\\u30a6\",\"2024-07-01\"],[\"dcg\",\"4t camo sweat shirt\",\"2024-06-25\"],[\"dcg\",\"all day office chair\",\"2024-06-25\"],[\"dcg\",\"bluray movie collection\",\"2024-06-25\"],[\"dcg\",\"citizen limited edition\",\"2024-06-25\"],[\"dcg\",\"cruz comunion ni\\u00f1o\",\"2024-06-25\"],[\"dcg\",\"explorer k2\",\"2024-06-25\"],[\"dcg\",\"fishing pole\",\"2024-06-25\"],[\"dcg\",\"gold shirt women\",\"2024-06-25\"],[\"dcg\",\"green wall decals\",\"2024-06-25\"],[\"dcg\",\"habitrail ovo twist\",\"2024-06-25\"],[\"dcg\",\"nail light\",\"2024-06-25\"],[\"dcg\",\"northface hydration packs\",\"2024-06-25\"],[\"dcg\",\"one man and his dog\",\"2024-06-25\"],[\"dcg\",\"small dog muzzle\",\"2024-06-25\"],[\"dcg\",\"vape pen\",\"2024-06-25\"],[\"dcg\",\"\\u3086\\u3046\\u3073\\u3093\\u756a\\u53f7\\u67a0\\u5165\\u308a \\u306f\\u304c\\u304d \\u5207\\u624b\\u306a\\u3057\",\"2024-06-25\"],[\"dcg\",\"\\u30a8\\u30d7\\u30ed\\u30f3 \\u5b50\\u4f9b\",\"2024-06-25\"],[\"dcg\",\"\\u30b9\\u30de\\u30db \\u30ec\\u30fc\\u30c0\\u30fc\\u63a2\\u77e5\\u6a5f\",\"2024-06-25\"],[\"dcg\",\"\\u65b0\\u7c73\",\"2024-06-25\"],[\"dcg\",\"\\u821e\\u53f0 \\u30a2\\u30a4\\u30b7\\u30e3\\u30c9\\u30a6\",\"2024-06-25\"],[\"dcg\",\"4t camo sweat shirt\",\"2024-06-26\"],[\"dcg\",\"all day office chair\",\"2024-06-26\"],[\"dcg\",\"bluray movie collection\",\"2024-06-26\"],[\"dcg\",\"citizen limited edition\",\"2024-06-26\"],[\"dcg\",\"cruz comunion ni\\u00f1o\",\"2024-06-26\"],[\"dcg\",\"explorer k2\",\"2024-06-26\"],[\"dcg\",\"fishing pole\",\"2024-06-26\"],[\"dcg\",\"gold shirt women\",\"2024-06-26\"],[\"dcg\",\"green wall decals\",\"2024-06-26\"],[\"dcg\",\"habitrail ovo twist\",\"2024-06-26\"],[\"dcg\",\"nail light\",\"2024-06-26\"],[\"dcg\",\"northface hydration packs\",\"2024-06-26\"],[\"dcg\",\"one man and his dog\",\"2024-06-26\"],[\"dcg\",\"small dog muzzle\",\"2024-06-26\"],[\"dcg\",\"vape pen\",\"2024-06-26\"],[\"dcg\",\"\\u3086\\u3046\\u3073\\u3093\\u756a\\u53f7\\u67a0\\u5165\\u308a \\u306f\\u304c\\u304d \\u5207\\u624b\\u306a\\u3057\",\"2024-06-26\"],[\"dcg\",\"\\u30a8\\u30d7\\u30ed\\u30f3 \\u5b50\\u4f9b\",\"2024-06-26\"],[\"dcg\",\"\\u30b9\\u30de\\u30db \\u30ec\\u30fc\\u30c0\\u30fc\\u63a2\\u77e5\\u6a5f\",\"2024-06-26\"],[\"dcg\",\"\\u65b0\\u7c73\",\"2024-06-26\"],[\"dcg\",\"\\u821e\\u53f0 \\u30a2\\u30a4\\u30b7\\u30e3\\u30c9\\u30a6\",\"2024-06-26\"],[\"dcg\",\"4t camo sweat shirt\",\"2024-06-27\"],[\"dcg\",\"all day office chair\",\"2024-06-27\"],[\"dcg\",\"bluray movie collection\",\"2024-06-27\"],[\"dcg\",\"citizen limited edition\",\"2024-06-27\"],[\"dcg\",\"cruz comunion ni\\u00f1o\",\"2024-06-27\"],[\"dcg\",\"explorer k2\",\"2024-06-27\"],[\"dcg\",\"fishing pole\",\"2024-06-27\"],[\"dcg\",\"gold shirt women\",\"2024-06-27\"],[\"dcg\",\"green wall decals\",\"2024-06-27\"],[\"dcg\",\"habitrail ovo twist\",\"2024-06-27\"],[\"dcg\",\"nail light\",\"2024-06-27\"],[\"dcg\",\"northface hydration packs\",\"2024-06-27\"],[\"dcg\",\"one man and his dog\",\"2024-06-27\"],[\"dcg\",\"small dog muzzle\",\"2024-06-27\"],[\"dcg\",\"vape pen\",\"2024-06-27\"],[\"dcg\",\"\\u3086\\u3046\\u3073\\u3093\\u756a\\u53f7\\u67a0\\u5165\\u308a \\u306f\\u304c\\u304d \\u5207\\u624b\\u306a\\u3057\",\"2024-06-27\"],[\"dcg\",\"\\u30a8\\u30d7\\u30ed\\u30f3 \\u5b50\\u4f9b\",\"2024-06-27\"],[\"dcg\",\"\\u30b9\\u30de\\u30db \\u30ec\\u30fc\\u30c0\\u30fc\\u63a2\\u77e5\\u6a5f\",\"2024-06-27\"],[\"dcg\",\"\\u65b0\\u7c73\",\"2024-06-27\"],[\"dcg\",\"\\u821e\\u53f0 \\u30a2\\u30a4\\u30b7\\u30e3\\u30c9\\u30a6\",\"2024-06-27\"],[\"dcg\",\"4t camo sweat shirt\",\"2024-06-28\"],[\"dcg\",\"all day office chair\",\"2024-06-28\"],[\"dcg\",\"bluray movie collection\",\"2024-06-28\"],[\"dcg\",\"citizen limited edition\",\"2024-06-28\"],[\"dcg\",\"cruz comunion ni\\u00f1o\",\"2024-06-28\"],[\"dcg\",\"explorer k2\",\"2024-06-28\"],[\"dcg\",\"fishing pole\",\"2024-06-28\"],[\"dcg\",\"gold shirt women\",\"2024-06-28\"],[\"dcg\",\"green wall decals\",\"2024-06-28\"],[\"dcg\",\"habitrail ovo twist\",\"2024-06-28\"],[\"dcg\",\"nail light\",\"2024-06-28\"],[\"dcg\",\"northface hydration packs\",\"2024-06-28\"],[\"dcg\",\"one man and his dog\",\"2024-06-28\"],[\"dcg\",\"small dog muzzle\",\"2024-06-28\"],[\"dcg\",\"vape pen\",\"2024-06-28\"],[\"dcg\",\"\\u3086\\u3046\\u3073\\u3093\\u756a\\u53f7\\u67a0\\u5165\\u308a \\u306f\\u304c\\u304d \\u5207\\u624b\\u306a\\u3057\",\"2024-06-28\"],[\"dcg\",\"\\u30a8\\u30d7\\u30ed\\u30f3 \\u5b50\\u4f9b\",\"2024-06-28\"],[\"dcg\",\"\\u30b9\\u30de\\u30db \\u30ec\\u30fc\\u30c0\\u30fc\\u63a2\\u77e5\\u6a5f\",\"2024-06-28\"],[\"dcg\",\"\\u65b0\\u7c73\",\"2024-06-28\"],[\"dcg\",\"\\u821e\\u53f0 \\u30a2\\u30a4\\u30b7\\u30e3\\u30c9\\u30a6\",\"2024-06-28\"],[\"dcg\",\"4t camo sweat shirt\",\"2024-06-29\"],[\"dcg\",\"all day office chair\",\"2024-06-29\"],[\"dcg\",\"bluray movie collection\",\"2024-06-29\"],[\"dcg\",\"citizen limited edition\",\"2024-06-29\"],[\"dcg\",\"cruz comunion ni\\u00f1o\",\"2024-06-29\"],[\"dcg\",\"explorer k2\",\"2024-06-29\"],[\"dcg\",\"fishing pole\",\"2024-06-29\"],[\"dcg\",\"gold shirt women\",\"2024-06-29\"],[\"dcg\",\"green wall decals\",\"2024-06-29\"],[\"dcg\",\"habitrail ovo twist\",\"2024-06-29\"],[\"dcg\",\"nail light\",\"2024-06-29\"],[\"dcg\",\"northface hydration packs\",\"2024-06-29\"],[\"dcg\",\"one man and his dog\",\"2024-06-29\"],[\"dcg\",\"small dog muzzle\",\"2024-06-29\"],[\"dcg\",\"vape pen\",\"2024-06-29\"],[\"dcg\",\"\\u3086\\u3046\\u3073\\u3093\\u756a\\u53f7\\u67a0\\u5165\\u308a \\u306f\\u304c\\u304d \\u5207\\u624b\\u306a\\u3057\",\"2024-06-29\"],[\"dcg\",\"\\u30a8\\u30d7\\u30ed\\u30f3 \\u5b50\\u4f9b\",\"2024-06-29\"],[\"dcg\",\"\\u30b9\\u30de\\u30db \\u30ec\\u30fc\\u30c0\\u30fc\\u63a2\\u77e5\\u6a5f\",\"2024-06-29\"],[\"dcg\",\"\\u65b0\\u7c73\",\"2024-06-29\"],[\"dcg\",\"\\u821e\\u53f0 \\u30a2\\u30a4\\u30b7\\u30e3\\u30c9\\u30a6\",\"2024-06-29\"],[\"dcg\",\"4t camo sweat shirt\",\"2024-06-30\"],[\"dcg\",\"all day office chair\",\"2024-06-30\"],[\"dcg\",\"bluray movie collection\",\"2024-06-30\"],[\"dcg\",\"citizen limited edition\",\"2024-06-30\"],[\"dcg\",\"cruz comunion ni\\u00f1o\",\"2024-06-30\"],[\"dcg\",\"explorer k2\",\"2024-06-30\"],[\"dcg\",\"fishing pole\",\"2024-06-30\"],[\"dcg\",\"gold shirt women\",\"2024-06-30\"],[\"dcg\",\"green wall decals\",\"2024-06-30\"],[\"dcg\",\"habitrail ovo twist\",\"2024-06-30\"],[\"dcg\",\"nail light\",\"2024-06-30\"],[\"dcg\",\"northface hydration packs\",\"2024-06-30\"],[\"dcg\",\"one man and his dog\",\"2024-06-30\"],[\"dcg\",\"small dog muzzle\",\"2024-06-30\"],[\"dcg\",\"vape pen\",\"2024-06-30\"],[\"dcg\",\"\\u3086\\u3046\\u3073\\u3093\\u756a\\u53f7\\u67a0\\u5165\\u308a \\u306f\\u304c\\u304d \\u5207\\u624b\\u306a\\u3057\",\"2024-06-30\"],[\"dcg\",\"\\u30a8\\u30d7\\u30ed\\u30f3 \\u5b50\\u4f9b\",\"2024-06-30\"],[\"dcg\",\"\\u30b9\\u30de\\u30db \\u30ec\\u30fc\\u30c0\\u30fc\\u63a2\\u77e5\\u6a5f\",\"2024-06-30\"],[\"dcg\",\"\\u65b0\\u7c73\",\"2024-06-30\"],[\"dcg\",\"\\u821e\\u53f0 \\u30a2\\u30a4\\u30b7\\u30e3\\u30c9\\u30a6\",\"2024-06-30\"],[\"dcg\",\"4t camo sweat shirt\",\"2024-07-01\"],[\"dcg\",\"all day office chair\",\"2024-07-01\"],[\"dcg\",\"bluray movie collection\",\"2024-07-01\"],[\"dcg\",\"citizen limited edition\",\"2024-07-01\"],[\"dcg\",\"cruz comunion ni\\u00f1o\",\"2024-07-01\"],[\"dcg\",\"explorer k2\",\"2024-07-01\"],[\"dcg\",\"fishing pole\",\"2024-07-01\"],[\"dcg\",\"gold shirt women\",\"2024-07-01\"],[\"dcg\",\"green wall decals\",\"2024-07-01\"],[\"dcg\",\"habitrail ovo twist\",\"2024-07-01\"],[\"dcg\",\"nail light\",\"2024-07-01\"],[\"dcg\",\"northface hydration packs\",\"2024-07-01\"],[\"dcg\",\"one man and his dog\",\"2024-07-01\"],[\"dcg\",\"small dog muzzle\",\"2024-07-01\"],[\"dcg\",\"vape pen\",\"2024-07-01\"],[\"dcg\",\"\\u3086\\u3046\\u3073\\u3093\\u756a\\u53f7\\u67a0\\u5165\\u308a \\u306f\\u304c\\u304d \\u5207\\u624b\\u306a\\u3057\",\"2024-07-01\"],[\"dcg\",\"\\u30a8\\u30d7\\u30ed\\u30f3 \\u5b50\\u4f9b\",\"2024-07-01\"],[\"dcg\",\"\\u30b9\\u30de\\u30db \\u30ec\\u30fc\\u30c0\\u30fc\\u63a2\\u77e5\\u6a5f\",\"2024-07-01\"],[\"dcg\",\"\\u65b0\\u7c73\",\"2024-07-01\"],[\"dcg\",\"\\u821e\\u53f0 \\u30a2\\u30a4\\u30b7\\u30e3\\u30c9\\u30a6\",\"2024-07-01\"],[\"dcg\",\"4t camo sweat shirt\",\"2024-06-25\"],[\"dcg\",\"all day office chair\",\"2024-06-25\"],[\"dcg\",\"bluray movie collection\",\"2024-06-25\"],[\"dcg\",\"citizen limited edition\",\"2024-06-25\"],[\"dcg\",\"cruz comunion ni\\u00f1o\",\"2024-06-25\"],[\"dcg\",\"explorer k2\",\"2024-06-25\"],[\"dcg\",\"fishing pole\",\"2024-06-25\"],[\"dcg\",\"gold shirt women\",\"2024-06-25\"],[\"dcg\",\"green wall decals\",\"2024-06-25\"],[\"dcg\",\"habitrail ovo twist\",\"2024-06-25\"],[\"dcg\",\"nail light\",\"2024-06-25\"],[\"dcg\",\"northface hydration packs\",\"2024-06-25\"],[\"dcg\",\"one man and his dog\",\"2024-06-25\"],[\"dcg\",\"small dog muzzle\",\"2024-06-25\"],[\"dcg\",\"vape pen\",\"2024-06-25\"],[\"dcg\",\"\\u3086\\u3046\\u3073\\u3093\\u756a\\u53f7\\u67a0\\u5165\\u308a \\u306f\\u304c\\u304d \\u5207\\u624b\\u306a\\u3057\",\"2024-06-25\"],[\"dcg\",\"\\u30a8\\u30d7\\u30ed\\u30f3 \\u5b50\\u4f9b\",\"2024-06-25\"],[\"dcg\",\"\\u30b9\\u30de\\u30db \\u30ec\\u30fc\\u30c0\\u30fc\\u63a2\\u77e5\\u6a5f\",\"2024-06-25\"],[\"dcg\",\"\\u65b0\\u7c73\",\"2024-06-25\"],[\"dcg\",\"\\u821e\\u53f0 \\u30a2\\u30a4\\u30b7\\u30e3\\u30c9\\u30a6\",\"2024-06-25\"],[\"dcg\",\"4t camo sweat shirt\",\"2024-06-26\"],[\"dcg\",\"all day office chair\",\"2024-06-26\"],[\"dcg\",\"bluray movie collection\",\"2024-06-26\"],[\"dcg\",\"citizen limited edition\",\"2024-06-26\"],[\"dcg\",\"cruz comunion ni\\u00f1o\",\"2024-06-26\"],[\"dcg\",\"explorer k2\",\"2024-06-26\"],[\"dcg\",\"fishing pole\",\"2024-06-26\"],[\"dcg\",\"gold shirt women\",\"2024-06-26\"],[\"dcg\",\"green wall decals\",\"2024-06-26\"],[\"dcg\",\"habitrail ovo twist\",\"2024-06-26\"],[\"dcg\",\"nail light\",\"2024-06-26\"],[\"dcg\",\"northface hydration packs\",\"2024-06-26\"],[\"dcg\",\"one man and his dog\",\"2024-06-26\"],[\"dcg\",\"small dog muzzle\",\"2024-06-26\"],[\"dcg\",\"vape pen\",\"2024-06-26\"],[\"dcg\",\"\\u3086\\u3046\\u3073\\u3093\\u756a\\u53f7\\u67a0\\u5165\\u308a \\u306f\\u304c\\u304d \\u5207\\u624b\\u306a\\u3057\",\"2024-06-26\"],[\"dcg\",\"\\u30a8\\u30d7\\u30ed\\u30f3 \\u5b50\\u4f9b\",\"2024-06-26\"],[\"dcg\",\"\\u30b9\\u30de\\u30db \\u30ec\\u30fc\\u30c0\\u30fc\\u63a2\\u77e5\\u6a5f\",\"2024-06-26\"],[\"dcg\",\"\\u65b0\\u7c73\",\"2024-06-26\"],[\"dcg\",\"\\u821e\\u53f0 \\u30a2\\u30a4\\u30b7\\u30e3\\u30c9\\u30a6\",\"2024-06-26\"],[\"dcg\",\"4t camo sweat shirt\",\"2024-06-27\"],[\"dcg\",\"all day office chair\",\"2024-06-27\"],[\"dcg\",\"bluray movie collection\",\"2024-06-27\"],[\"dcg\",\"citizen limited edition\",\"2024-06-27\"],[\"dcg\",\"cruz comunion ni\\u00f1o\",\"2024-06-27\"],[\"dcg\",\"explorer k2\",\"2024-06-27\"],[\"dcg\",\"fishing pole\",\"2024-06-27\"],[\"dcg\",\"gold shirt women\",\"2024-06-27\"],[\"dcg\",\"green wall decals\",\"2024-06-27\"],[\"dcg\",\"habitrail ovo twist\",\"2024-06-27\"],[\"dcg\",\"nail light\",\"2024-06-27\"],[\"dcg\",\"northface hydration packs\",\"2024-06-27\"],[\"dcg\",\"one man and his dog\",\"2024-06-27\"],[\"dcg\",\"small dog muzzle\",\"2024-06-27\"],[\"dcg\",\"vape pen\",\"2024-06-27\"],[\"dcg\",\"\\u3086\\u3046\\u3073\\u3093\\u756a\\u53f7\\u67a0\\u5165\\u308a \\u306f\\u304c\\u304d \\u5207\\u624b\\u306a\\u3057\",\"2024-06-27\"],[\"dcg\",\"\\u30a8\\u30d7\\u30ed\\u30f3 \\u5b50\\u4f9b\",\"2024-06-27\"],[\"dcg\",\"\\u30b9\\u30de\\u30db \\u30ec\\u30fc\\u30c0\\u30fc\\u63a2\\u77e5\\u6a5f\",\"2024-06-27\"],[\"dcg\",\"\\u65b0\\u7c73\",\"2024-06-27\"],[\"dcg\",\"\\u821e\\u53f0 \\u30a2\\u30a4\\u30b7\\u30e3\\u30c9\\u30a6\",\"2024-06-27\"],[\"dcg\",\"4t camo sweat shirt\",\"2024-06-28\"],[\"dcg\",\"all day office chair\",\"2024-06-28\"],[\"dcg\",\"bluray movie collection\",\"2024-06-28\"],[\"dcg\",\"citizen limited edition\",\"2024-06-28\"],[\"dcg\",\"cruz comunion ni\\u00f1o\",\"2024-06-28\"],[\"dcg\",\"explorer k2\",\"2024-06-28\"],[\"dcg\",\"fishing pole\",\"2024-06-28\"],[\"dcg\",\"gold shirt women\",\"2024-06-28\"],[\"dcg\",\"green wall decals\",\"2024-06-28\"],[\"dcg\",\"habitrail ovo twist\",\"2024-06-28\"],[\"dcg\",\"nail light\",\"2024-06-28\"],[\"dcg\",\"northface hydration packs\",\"2024-06-28\"],[\"dcg\",\"one man and his dog\",\"2024-06-28\"],[\"dcg\",\"small dog muzzle\",\"2024-06-28\"],[\"dcg\",\"vape pen\",\"2024-06-28\"],[\"dcg\",\"\\u3086\\u3046\\u3073\\u3093\\u756a\\u53f7\\u67a0\\u5165\\u308a \\u306f\\u304c\\u304d \\u5207\\u624b\\u306a\\u3057\",\"2024-06-28\"],[\"dcg\",\"\\u30a8\\u30d7\\u30ed\\u30f3 \\u5b50\\u4f9b\",\"2024-06-28\"],[\"dcg\",\"\\u30b9\\u30de\\u30db \\u30ec\\u30fc\\u30c0\\u30fc\\u63a2\\u77e5\\u6a5f\",\"2024-06-28\"],[\"dcg\",\"\\u65b0\\u7c73\",\"2024-06-28\"],[\"dcg\",\"\\u821e\\u53f0 \\u30a2\\u30a4\\u30b7\\u30e3\\u30c9\\u30a6\",\"2024-06-28\"],[\"dcg\",\"4t camo sweat shirt\",\"2024-06-29\"],[\"dcg\",\"all day office chair\",\"2024-06-29\"],[\"dcg\",\"bluray movie collection\",\"2024-06-29\"],[\"dcg\",\"citizen limited edition\",\"2024-06-29\"],[\"dcg\",\"cruz comunion ni\\u00f1o\",\"2024-06-29\"],[\"dcg\",\"explorer k2\",\"2024-06-29\"],[\"dcg\",\"fishing pole\",\"2024-06-29\"],[\"dcg\",\"gold shirt women\",\"2024-06-29\"],[\"dcg\",\"green wall decals\",\"2024-06-29\"],[\"dcg\",\"habitrail ovo twist\",\"2024-06-29\"],[\"dcg\",\"nail light\",\"2024-06-29\"],[\"dcg\",\"northface hydration packs\",\"2024-06-29\"],[\"dcg\",\"one man and his dog\",\"2024-06-29\"],[\"dcg\",\"small dog muzzle\",\"2024-06-29\"],[\"dcg\",\"vape pen\",\"2024-06-29\"],[\"dcg\",\"\\u3086\\u3046\\u3073\\u3093\\u756a\\u53f7\\u67a0\\u5165\\u308a \\u306f\\u304c\\u304d \\u5207\\u624b\\u306a\\u3057\",\"2024-06-29\"],[\"dcg\",\"\\u30a8\\u30d7\\u30ed\\u30f3 \\u5b50\\u4f9b\",\"2024-06-29\"],[\"dcg\",\"\\u30b9\\u30de\\u30db \\u30ec\\u30fc\\u30c0\\u30fc\\u63a2\\u77e5\\u6a5f\",\"2024-06-29\"],[\"dcg\",\"\\u65b0\\u7c73\",\"2024-06-29\"],[\"dcg\",\"\\u821e\\u53f0 \\u30a2\\u30a4\\u30b7\\u30e3\\u30c9\\u30a6\",\"2024-06-29\"],[\"dcg\",\"4t camo sweat shirt\",\"2024-06-30\"],[\"dcg\",\"all day office chair\",\"2024-06-30\"],[\"dcg\",\"bluray movie collection\",\"2024-06-30\"],[\"dcg\",\"citizen limited edition\",\"2024-06-30\"],[\"dcg\",\"cruz comunion ni\\u00f1o\",\"2024-06-30\"],[\"dcg\",\"explorer k2\",\"2024-06-30\"],[\"dcg\",\"fishing pole\",\"2024-06-30\"],[\"dcg\",\"gold shirt women\",\"2024-06-30\"],[\"dcg\",\"green wall decals\",\"2024-06-30\"],[\"dcg\",\"habitrail ovo twist\",\"2024-06-30\"],[\"dcg\",\"nail light\",\"2024-06-30\"],[\"dcg\",\"northface hydration packs\",\"2024-06-30\"],[\"dcg\",\"one man and his dog\",\"2024-06-30\"],[\"dcg\",\"small dog muzzle\",\"2024-06-30\"],[\"dcg\",\"vape pen\",\"2024-06-30\"],[\"dcg\",\"\\u3086\\u3046\\u3073\\u3093\\u756a\\u53f7\\u67a0\\u5165\\u308a \\u306f\\u304c\\u304d \\u5207\\u624b\\u306a\\u3057\",\"2024-06-30\"],[\"dcg\",\"\\u30a8\\u30d7\\u30ed\\u30f3 \\u5b50\\u4f9b\",\"2024-06-30\"],[\"dcg\",\"\\u30b9\\u30de\\u30db \\u30ec\\u30fc\\u30c0\\u30fc\\u63a2\\u77e5\\u6a5f\",\"2024-06-30\"],[\"dcg\",\"\\u65b0\\u7c73\",\"2024-06-30\"],[\"dcg\",\"\\u821e\\u53f0 \\u30a2\\u30a4\\u30b7\\u30e3\\u30c9\\u30a6\",\"2024-06-30\"],[\"dcg\",\"4t camo sweat shirt\",\"2024-07-01\"],[\"dcg\",\"all day office chair\",\"2024-07-01\"],[\"dcg\",\"bluray movie collection\",\"2024-07-01\"],[\"dcg\",\"citizen limited edition\",\"2024-07-01\"],[\"dcg\",\"cruz comunion ni\\u00f1o\",\"2024-07-01\"],[\"dcg\",\"explorer k2\",\"2024-07-01\"],[\"dcg\",\"fishing pole\",\"2024-07-01\"],[\"dcg\",\"gold shirt women\",\"2024-07-01\"],[\"dcg\",\"green wall decals\",\"2024-07-01\"],[\"dcg\",\"habitrail ovo twist\",\"2024-07-01\"],[\"dcg\",\"nail light\",\"2024-07-01\"],[\"dcg\",\"northface hydration packs\",\"2024-07-01\"],[\"dcg\",\"one man and his dog\",\"2024-07-01\"],[\"dcg\",\"small dog muzzle\",\"2024-07-01\"],[\"dcg\",\"vape pen\",\"2024-07-01\"],[\"dcg\",\"\\u3086\\u3046\\u3073\\u3093\\u756a\\u53f7\\u67a0\\u5165\\u308a \\u306f\\u304c\\u304d \\u5207\\u624b\\u306a\\u3057\",\"2024-07-01\"],[\"dcg\",\"\\u30a8\\u30d7\\u30ed\\u30f3 \\u5b50\\u4f9b\",\"2024-07-01\"],[\"dcg\",\"\\u30b9\\u30de\\u30db \\u30ec\\u30fc\\u30c0\\u30fc\\u63a2\\u77e5\\u6a5f\",\"2024-07-01\"],[\"dcg\",\"\\u65b0\\u7c73\",\"2024-07-01\"],[\"dcg\",\"\\u821e\\u53f0 \\u30a2\\u30a4\\u30b7\\u30e3\\u30c9\\u30a6\",\"2024-07-01\"]],\"hovertemplate\":\"metric=%{customdata[0]}\\u003cbr\\u003esearch_config=%{x}\\u003cbr\\u003evalue=%{y}\\u003cbr\\u003equery=%{customdata[1]}\\u003cbr\\u003edatetime=%{customdata[2]}\\u003cextra\\u003e\\u003c\\u002fextra\\u003e\",\"legendgroup\":\"dcg\",\"marker\":{\"color\":\"#636efa\"},\"name\":\"dcg\",\"offsetgroup\":\"dcg\",\"orientation\":\"v\",\"points\":\"all\",\"scalegroup\":\"True\",\"showlegend\":true,\"x\":[\"research_1\",\"research_1\",\"research_1\",\"research_1\",\"research_1\",\"research_1\",\"research_1\",\"research_1\",\"research_1\",\"research_1\",\"research_1\",\"research_1\",\"research_1\",\"research_1\",\"research_1\",\"research_1\",\"research_1\",\"research_1\",\"research_1\",\"research_1\",\"research_1\",\"research_1\",\"research_1\",\"research_1\",\"research_1\",\"research_1\",\"research_1\",\"research_1\",\"research_1\",\"research_1\",\"research_1\",\"research_1\",\"research_1\",\"research_1\",\"research_1\",\"research_1\",\"research_1\",\"research_1\",\"research_1\",\"research_1\",\"research_1\",\"research_1\",\"research_1\",\"research_1\",\"research_1\",\"research_1\",\"research_1\",\"research_1\",\"research_1\",\"research_1\",\"research_1\",\"research_1\",\"research_1\",\"research_1\",\"research_1\",\"research_1\",\"research_1\",\"research_1\",\"research_1\",\"research_1\",\"research_1\",\"research_1\",\"research_1\",\"research_1\",\"research_1\",\"research_1\",\"research_1\",\"research_1\",\"research_1\",\"research_1\",\"research_1\",\"research_1\",\"research_1\",\"research_1\",\"research_1\",\"research_1\",\"research_1\",\"research_1\",\"research_1\",\"research_1\",\"research_1\",\"research_1\",\"research_1\",\"research_1\",\"research_1\",\"research_1\",\"research_1\",\"research_1\",\"research_1\",\"research_1\",\"research_1\",\"research_1\",\"research_1\",\"research_1\",\"research_1\",\"research_1\",\"research_1\",\"research_1\",\"research_1\",\"research_1\",\"research_1\",\"research_1\",\"research_1\",\"research_1\",\"research_1\",\"research_1\",\"research_1\",\"research_1\",\"research_1\",\"research_1\",\"research_1\",\"research_1\",\"research_1\",\"research_1\",\"research_1\",\"research_1\",\"research_1\",\"research_1\",\"research_1\",\"research_1\",\"research_1\",\"research_1\",\"research_1\",\"research_1\",\"research_1\",\"research_1\",\"research_1\",\"research_1\",\"research_1\",\"research_1\",\"research_1\",\"research_1\",\"research_1\",\"research_1\",\"research_1\",\"research_1\",\"research_1\",\"research_1\",\"research_1\",\"research_1\",\"research_2\",\"research_2\",\"research_2\",\"research_2\",\"research_2\",\"research_2\",\"research_2\",\"research_2\",\"research_2\",\"research_2\",\"research_2\",\"research_2\",\"research_2\",\"research_2\",\"research_2\",\"research_2\",\"research_2\",\"research_2\",\"research_2\",\"research_2\",\"research_2\",\"research_2\",\"research_2\",\"research_2\",\"research_2\",\"research_2\",\"research_2\",\"research_2\",\"research_2\",\"research_2\",\"research_2\",\"research_2\",\"research_2\",\"research_2\",\"research_2\",\"research_2\",\"research_2\",\"research_2\",\"research_2\",\"research_2\",\"research_2\",\"research_2\",\"research_2\",\"research_2\",\"research_2\",\"research_2\",\"research_2\",\"research_2\",\"research_2\",\"research_2\",\"research_2\",\"research_2\",\"research_2\",\"research_2\",\"research_2\",\"research_2\",\"research_2\",\"research_2\",\"research_2\",\"research_2\",\"research_2\",\"research_2\",\"research_2\",\"research_2\",\"research_2\",\"research_2\",\"research_2\",\"research_2\",\"research_2\",\"research_2\",\"research_2\",\"research_2\",\"research_2\",\"research_2\",\"research_2\",\"research_2\",\"research_2\",\"research_2\",\"research_2\",\"research_2\",\"research_2\",\"research_2\",\"research_2\",\"research_2\",\"research_2\",\"research_2\",\"research_2\",\"research_2\",\"research_2\",\"research_2\",\"research_2\",\"research_2\",\"research_2\",\"research_2\",\"research_2\",\"research_2\",\"research_2\",\"research_2\",\"research_2\",\"research_2\",\"research_2\",\"research_2\",\"research_2\",\"research_2\",\"research_2\",\"research_2\",\"research_2\",\"research_2\",\"research_2\",\"research_2\",\"research_2\",\"research_2\",\"research_2\",\"research_2\",\"research_2\",\"research_2\",\"research_2\",\"research_2\",\"research_2\",\"research_2\",\"research_2\",\"research_2\",\"research_2\",\"research_2\",\"research_2\",\"research_2\",\"research_2\",\"research_2\",\"research_2\",\"research_2\",\"research_2\",\"research_2\",\"research_2\",\"research_2\",\"research_2\",\"research_2\",\"research_2\",\"research_2\",\"research_2\",\"research_2\",\"challenger_1\",\"challenger_1\",\"challenger_1\",\"challenger_1\",\"challenger_1\",\"challenger_1\",\"challenger_1\",\"challenger_1\",\"challenger_1\",\"challenger_1\",\"challenger_1\",\"challenger_1\",\"challenger_1\",\"challenger_1\",\"challenger_1\",\"challenger_1\",\"challenger_1\",\"challenger_1\",\"challenger_1\",\"challenger_1\",\"challenger_1\",\"challenger_1\",\"challenger_1\",\"challenger_1\",\"challenger_1\",\"challenger_1\",\"challenger_1\",\"challenger_1\",\"challenger_1\",\"challenger_1\",\"challenger_1\",\"challenger_1\",\"challenger_1\",\"challenger_1\",\"challenger_1\",\"challenger_1\",\"challenger_1\",\"challenger_1\",\"challenger_1\",\"challenger_1\",\"challenger_1\",\"challenger_1\",\"challenger_1\",\"challenger_1\",\"challenger_1\",\"challenger_1\",\"challenger_1\",\"challenger_1\",\"challenger_1\",\"challenger_1\",\"challenger_1\",\"challenger_1\",\"challenger_1\",\"challenger_1\",\"challenger_1\",\"challenger_1\",\"challenger_1\",\"challenger_1\",\"challenger_1\",\"challenger_1\",\"challenger_1\",\"challenger_1\",\"challenger_1\",\"challenger_1\",\"challenger_1\",\"challenger_1\",\"challenger_1\",\"challenger_1\",\"challenger_1\",\"challenger_1\",\"challenger_1\",\"challenger_1\",\"challenger_1\",\"challenger_1\",\"challenger_1\",\"challenger_1\",\"challenger_1\",\"challenger_1\",\"challenger_1\",\"challenger_1\",\"challenger_1\",\"challenger_1\",\"challenger_1\",\"challenger_1\",\"challenger_1\",\"challenger_1\",\"challenger_1\",\"challenger_1\",\"challenger_1\",\"challenger_1\",\"challenger_1\",\"challenger_1\",\"challenger_1\",\"challenger_1\",\"challenger_1\",\"challenger_1\",\"challenger_1\",\"challenger_1\",\"challenger_1\",\"challenger_1\",\"challenger_1\",\"challenger_1\",\"challenger_1\",\"challenger_1\",\"challenger_1\",\"challenger_1\",\"challenger_1\",\"challenger_1\",\"challenger_1\",\"challenger_1\",\"challenger_1\",\"challenger_1\",\"challenger_1\",\"challenger_1\",\"challenger_1\",\"challenger_1\",\"challenger_1\",\"challenger_1\",\"challenger_1\",\"challenger_1\",\"challenger_1\",\"challenger_1\",\"challenger_1\",\"challenger_1\",\"challenger_1\",\"challenger_1\",\"challenger_1\",\"challenger_1\",\"challenger_1\",\"challenger_1\",\"challenger_1\",\"challenger_1\",\"challenger_1\",\"challenger_1\",\"challenger_1\",\"challenger_1\",\"challenger_1\",\"challenger_1\",\"challenger_1\",\"challenger_1\"],\"x0\":\" \",\"xaxis\":\"x\",\"y\":[0.1170574755672868,1.0,1.0,0.0717734625362931,1.8912412707177813,0.1170574755672868,1.5452840130309935,0.0717734625362931,1.6309297535714575,0.0717734625362931,1.6309297535714575,1.0,0.5,2.1309297535714578,0.0034777750283594,0.6757343888405354,2.56160631164485,0.0069555500567188,1.6309297535714575,1.0,0.1170574755672868,1.0,1.0,0.0069555500567188,1.8912412707177813,0.1170574755672868,2.1309297535714578,0.0717734625362931,1.6309297535714575,0.0717734625362931,1.0452840130309935,1.0,0.0358867312681465,2.1309297535714578,0.0034777750283594,0.6757343888405354,2.56160631164485,0.0069555500567188,1.6309297535714575,1.0,0.1170574755672868,1.0,1.0,0.0717734625362931,1.8912412707177813,0.1170574755672868,2.1309297535714578,0.0717734625362931,1.0452840130309935,0.0717734625362931,1.6309297535714575,1.0,0.5024776169204929,2.1309297535714578,0.0034777750283594,0.6506593974387292,2.56160631164485,0.0069555500567188,1.6309297535714575,1.0,0.1170574755672868,1.0,1.0,0.0717734625362931,1.8868528072345416,0.1170574755672868,2.1309297535714578,0.0717734625362931,1.6309297535714575,0.0717734625362931,1.6309297535714575,1.0,0.5,2.1309297535714578,0.0034777750283594,0.6757343888405354,2.56160631164485,0.0069555500567188,1.6309297535714575,1.0,0.1170574755672868,1.0,1.0,0.0717734625362931,1.8912412707177813,0.1170574755672868,2.1309297535714578,0.0717734625362931,1.0452840130309935,0.0717734625362931,1.6309297535714575,1.0,0.5,2.1309297535714578,0.0034777750283594,0.6109164763609611,2.56160631164485,0.0069555500567188,1.6309297535714575,1.0,0.1170574755672868,1.0,1.0,0.0717734625362931,0.9630147332540744,0.1170574755672868,2.1309297535714578,0.0717734625362931,1.6309297535714575,0.0717734625362931,0.7027032161077507,0.0717734625362931,0.5,2.1309297535714578,0.0034777750283594,0.6757343888405354,2.56160631164485,0.0069555500567188,1.6309297535714575,1.0,0.1170574755672868,1.0,0.0717734625362931,0.0717734625362931,1.8912412707177813,0.1170574755672868,2.1309297535714578,0.0069555500567188,1.6309297535714575,0.0717734625362931,1.6309297535714575,1.0,0.5029955923579349,2.1309297535714578,0.0034777750283594,0.6757343888405354,2.56160631164485,0.0069555500567188,1.6309297535714575,1.0,0.7972668606491458,1.0,2.6781250158991963,1.0452840130309935,2.6224113102563686,0.6055310164816006,4.267996020753618,0.5678283072167041,1.6309297535714575,0.1452876320332152,2.0202325814156854,3.052353898780284,1.603954725452561,3.304666305987414,0.3969409118487693,2.1614942463231377,3.304666305987414,0.4454983466417109,2.56160631164485,3.0114583492325298,0.7972668606491458,1.0,1.7907940279832435,0.1170574755672868,2.6224113102563686,0.8738486593172015,4.267996020753618,0.5678283072167041,1.6309297535714575,0.1452876320332152,2.9484591188793923,3.052353898780284,1.3201422314214293,3.304666305987414,0.3969409118487693,1.7994116121977697,3.304666305987414,0.4420205716133515,1.576195160837134,3.0114583492325298,0.7648579044093586,1.0,2.7190205654469506,0.1170574755672868,2.227034363472355,0.8738486593172015,3.975173150483385,0.8945063927443504,1.6309297535714575,0.0878036843916219,2.9484591188793923,3.637999639320748,1.6036401487212957,3.304666305987414,0.3969409118487693,1.5728529134247389,3.304666305987414,0.4454983466417109,2.56160631164485,3.0114583492325298,0.7972668606491458,1.0,2.3883796015379843,0.1170574755672868,2.6224113102563686,1.1666715295874337,3.801942550400319,0.5678283072167041,1.6309297535714575,0.2092717878595324,2.9484591188793923,3.637999639320748,1.5995662619693214,3.304666305987414,1.3530830047606817,2.126089697725416,3.304666305987414,0.5103162591212852,2.56160631164485,3.0114583492325298,0.7721918692473396,1.0,1.7907940279832435,0.1170574755672868,2.6224113102563686,1.4594943998576655,4.267996020753618,0.5678283072167041,1.6309297535714575,0.1452876320332152,2.9484591188793923,2.8432454066799284,1.5671573057295345,2.3764397685237078,0.3969409118487693,2.4022969224392297,3.304666305987414,0.4454983466417109,2.097493042912997,3.0114583492325298,1.1970322709163983,1.0,2.6781250158991963,0.1170574755672868,2.6224113102563686,0.6055310164816006,4.267996020753618,0.5399127517684986,1.6309297535714575,0.1452876320332152,2.9484591188793923,3.637999639320748,1.5995662619693214,3.304666305987414,0.3969409118487693,2.1584986539652027,3.304666305987414,0.4779073028814981,2.56160631164485,3.0114583492325298,1.1970322709163983,1.0,2.3599335236795174,0.1170574755672868,2.626799773739608,0.8738486593172015,4.267996020753618,0.5678283072167041,1.6309297535714575,0.1861831815809693,2.9484591188793923,3.637999639320748,1.5995662619693214,3.304666305987414,0.3969409118487693,1.8278576900562369,3.304666305987414,0.4454983466417109,2.56160631164485,3.0114583492325298,1.5096817285203474,2.9484591188793923,2.920504272818175,0.5701468239022771,3.855868133013727,0.7434619233764298,4.286490001044111,0.6479686233734272,3.637999639320748,0.0529171112313419,2.56160631164485,4.254494511770458,0.6807990221653558,3.660641645836245,0.0349505407338255,2.119262149037977,2.56160631164485,0.5660744909112829,2.06160631164485,2.520778153163934,1.5651792910386977,2.9484591188793923,2.017352726756274,0.5917527947288017,4.148691003283959,0.7434619233764298,4.875322877413239,0.6479686233734272,3.637999639320748,0.0808326666795474,2.097493042912997,4.254494511770458,0.6825007012574625,3.6228235521975103,0.3311967912030928,2.1019901181905394,2.56160631164485,0.0989656298214945,2.06160631164485,2.520778153163934,1.5401042996368914,2.9484591188793923,2.945579264219981,0.5917527947288017,4.151009519969532,0.7434619233764298,4.875322877413239,1.5482796053889287,3.637999639320748,0.0529171112313419,2.56160631164485,4.254494511770458,0.6824670497807956,3.367818775566013,0.0574921447111173,2.5638632818571567,2.56160631164485,0.1019612221794294,2.06160631164485,2.520778153163934,1.5651792910386977,2.362813378338928,2.4814659954881275,0.5917527947288017,4.148691003283959,1.5664450528277818,4.631524608939212,0.6479686233734272,3.637999639320748,0.1150442496456141,2.56160631164485,4.254494511770458,1.0823447612865922,3.953464516106477,0.0804733069095087,2.560286811491268,2.56160631164485,0.1679317631289896,2.06160631164485,2.520778153163934,1.5651792910386977,2.9484591188793923,2.945579264219981,0.5917527947288017,3.91464432762822,0.7253814239384202,4.875322877413239,0.6479686233734272,3.052353898780284,0.0529171112313419,2.56160631164485,3.585998624181789,0.6159811096857816,3.0252379786427697,0.2991965839817293,1.878075551232572,2.56160631164485,0.1019612221794294,1.1333797741811438,2.520778153163934,2.1508250315791613,2.9484591188793923,2.920504272818175,0.2611118308198356,4.148691003283959,0.7434619233764298,4.875322877413239,0.6479686233734272,3.637999639320748,0.0529171112313419,2.56160631164485,3.9616716415002258,0.6807990221653558,3.953464516106477,0.0553983155077026,2.345788386664566,2.56160631164485,0.1298767776276349,2.06160631164485,2.520778153163934,2.6149383003110147,2.9484591188793923,2.945579264219981,1.5199793321925088,4.14173545322724,0.7434619233764298,4.875322877413239,0.6070730738256731,3.238234229053495,0.0529171112313419,2.56160631164485,4.254494511770458,0.6807990221653558,3.953464516106477,0.0553983155077026,3.145932552031732,1.6333797741811438,0.1019612221794294,1.661840901377598,2.520778153163934],\"y0\":\" \",\"yaxis\":\"y\",\"type\":\"violin\"}],                        {\"template\":{\"data\":{\"histogram2dcontour\":[{\"type\":\"histogram2dcontour\",\"colorbar\":{\"outlinewidth\":0,\"ticks\":\"\"},\"colorscale\":[[0.0,\"#0d0887\"],[0.1111111111111111,\"#46039f\"],[0.2222222222222222,\"#7201a8\"],[0.3333333333333333,\"#9c179e\"],[0.4444444444444444,\"#bd3786\"],[0.5555555555555556,\"#d8576b\"],[0.6666666666666666,\"#ed7953\"],[0.7777777777777778,\"#fb9f3a\"],[0.8888888888888888,\"#fdca26\"],[1.0,\"#f0f921\"]]}],\"choropleth\":[{\"type\":\"choropleth\",\"colorbar\":{\"outlinewidth\":0,\"ticks\":\"\"}}],\"histogram2d\":[{\"type\":\"histogram2d\",\"colorbar\":{\"outlinewidth\":0,\"ticks\":\"\"},\"colorscale\":[[0.0,\"#0d0887\"],[0.1111111111111111,\"#46039f\"],[0.2222222222222222,\"#7201a8\"],[0.3333333333333333,\"#9c179e\"],[0.4444444444444444,\"#bd3786\"],[0.5555555555555556,\"#d8576b\"],[0.6666666666666666,\"#ed7953\"],[0.7777777777777778,\"#fb9f3a\"],[0.8888888888888888,\"#fdca26\"],[1.0,\"#f0f921\"]]}],\"heatmap\":[{\"type\":\"heatmap\",\"colorbar\":{\"outlinewidth\":0,\"ticks\":\"\"},\"colorscale\":[[0.0,\"#0d0887\"],[0.1111111111111111,\"#46039f\"],[0.2222222222222222,\"#7201a8\"],[0.3333333333333333,\"#9c179e\"],[0.4444444444444444,\"#bd3786\"],[0.5555555555555556,\"#d8576b\"],[0.6666666666666666,\"#ed7953\"],[0.7777777777777778,\"#fb9f3a\"],[0.8888888888888888,\"#fdca26\"],[1.0,\"#f0f921\"]]}],\"heatmapgl\":[{\"type\":\"heatmapgl\",\"colorbar\":{\"outlinewidth\":0,\"ticks\":\"\"},\"colorscale\":[[0.0,\"#0d0887\"],[0.1111111111111111,\"#46039f\"],[0.2222222222222222,\"#7201a8\"],[0.3333333333333333,\"#9c179e\"],[0.4444444444444444,\"#bd3786\"],[0.5555555555555556,\"#d8576b\"],[0.6666666666666666,\"#ed7953\"],[0.7777777777777778,\"#fb9f3a\"],[0.8888888888888888,\"#fdca26\"],[1.0,\"#f0f921\"]]}],\"contourcarpet\":[{\"type\":\"contourcarpet\",\"colorbar\":{\"outlinewidth\":0,\"ticks\":\"\"}}],\"contour\":[{\"type\":\"contour\",\"colorbar\":{\"outlinewidth\":0,\"ticks\":\"\"},\"colorscale\":[[0.0,\"#0d0887\"],[0.1111111111111111,\"#46039f\"],[0.2222222222222222,\"#7201a8\"],[0.3333333333333333,\"#9c179e\"],[0.4444444444444444,\"#bd3786\"],[0.5555555555555556,\"#d8576b\"],[0.6666666666666666,\"#ed7953\"],[0.7777777777777778,\"#fb9f3a\"],[0.8888888888888888,\"#fdca26\"],[1.0,\"#f0f921\"]]}],\"surface\":[{\"type\":\"surface\",\"colorbar\":{\"outlinewidth\":0,\"ticks\":\"\"},\"colorscale\":[[0.0,\"#0d0887\"],[0.1111111111111111,\"#46039f\"],[0.2222222222222222,\"#7201a8\"],[0.3333333333333333,\"#9c179e\"],[0.4444444444444444,\"#bd3786\"],[0.5555555555555556,\"#d8576b\"],[0.6666666666666666,\"#ed7953\"],[0.7777777777777778,\"#fb9f3a\"],[0.8888888888888888,\"#fdca26\"],[1.0,\"#f0f921\"]]}],\"mesh3d\":[{\"type\":\"mesh3d\",\"colorbar\":{\"outlinewidth\":0,\"ticks\":\"\"}}],\"scatter\":[{\"fillpattern\":{\"fillmode\":\"overlay\",\"size\":10,\"solidity\":0.2},\"type\":\"scatter\"}],\"parcoords\":[{\"type\":\"parcoords\",\"line\":{\"colorbar\":{\"outlinewidth\":0,\"ticks\":\"\"}}}],\"scatterpolargl\":[{\"type\":\"scatterpolargl\",\"marker\":{\"colorbar\":{\"outlinewidth\":0,\"ticks\":\"\"}}}],\"bar\":[{\"error_x\":{\"color\":\"#2a3f5f\"},\"error_y\":{\"color\":\"#2a3f5f\"},\"marker\":{\"line\":{\"color\":\"#E5ECF6\",\"width\":0.5},\"pattern\":{\"fillmode\":\"overlay\",\"size\":10,\"solidity\":0.2}},\"type\":\"bar\"}],\"scattergeo\":[{\"type\":\"scattergeo\",\"marker\":{\"colorbar\":{\"outlinewidth\":0,\"ticks\":\"\"}}}],\"scatterpolar\":[{\"type\":\"scatterpolar\",\"marker\":{\"colorbar\":{\"outlinewidth\":0,\"ticks\":\"\"}}}],\"histogram\":[{\"marker\":{\"pattern\":{\"fillmode\":\"overlay\",\"size\":10,\"solidity\":0.2}},\"type\":\"histogram\"}],\"scattergl\":[{\"type\":\"scattergl\",\"marker\":{\"colorbar\":{\"outlinewidth\":0,\"ticks\":\"\"}}}],\"scatter3d\":[{\"type\":\"scatter3d\",\"line\":{\"colorbar\":{\"outlinewidth\":0,\"ticks\":\"\"}},\"marker\":{\"colorbar\":{\"outlinewidth\":0,\"ticks\":\"\"}}}],\"scattermapbox\":[{\"type\":\"scattermapbox\",\"marker\":{\"colorbar\":{\"outlinewidth\":0,\"ticks\":\"\"}}}],\"scatterternary\":[{\"type\":\"scatterternary\",\"marker\":{\"colorbar\":{\"outlinewidth\":0,\"ticks\":\"\"}}}],\"scattercarpet\":[{\"type\":\"scattercarpet\",\"marker\":{\"colorbar\":{\"outlinewidth\":0,\"ticks\":\"\"}}}],\"carpet\":[{\"aaxis\":{\"endlinecolor\":\"#2a3f5f\",\"gridcolor\":\"white\",\"linecolor\":\"white\",\"minorgridcolor\":\"white\",\"startlinecolor\":\"#2a3f5f\"},\"baxis\":{\"endlinecolor\":\"#2a3f5f\",\"gridcolor\":\"white\",\"linecolor\":\"white\",\"minorgridcolor\":\"white\",\"startlinecolor\":\"#2a3f5f\"},\"type\":\"carpet\"}],\"table\":[{\"cells\":{\"fill\":{\"color\":\"#EBF0F8\"},\"line\":{\"color\":\"white\"}},\"header\":{\"fill\":{\"color\":\"#C8D4E3\"},\"line\":{\"color\":\"white\"}},\"type\":\"table\"}],\"barpolar\":[{\"marker\":{\"line\":{\"color\":\"#E5ECF6\",\"width\":0.5},\"pattern\":{\"fillmode\":\"overlay\",\"size\":10,\"solidity\":0.2}},\"type\":\"barpolar\"}],\"pie\":[{\"automargin\":true,\"type\":\"pie\"}]},\"layout\":{\"autotypenumbers\":\"strict\",\"colorway\":[\"#636efa\",\"#EF553B\",\"#00cc96\",\"#ab63fa\",\"#FFA15A\",\"#19d3f3\",\"#FF6692\",\"#B6E880\",\"#FF97FF\",\"#FECB52\"],\"font\":{\"color\":\"#2a3f5f\"},\"hovermode\":\"closest\",\"hoverlabel\":{\"align\":\"left\"},\"paper_bgcolor\":\"white\",\"plot_bgcolor\":\"#E5ECF6\",\"polar\":{\"bgcolor\":\"#E5ECF6\",\"angularaxis\":{\"gridcolor\":\"white\",\"linecolor\":\"white\",\"ticks\":\"\"},\"radialaxis\":{\"gridcolor\":\"white\",\"linecolor\":\"white\",\"ticks\":\"\"}},\"ternary\":{\"bgcolor\":\"#E5ECF6\",\"aaxis\":{\"gridcolor\":\"white\",\"linecolor\":\"white\",\"ticks\":\"\"},\"baxis\":{\"gridcolor\":\"white\",\"linecolor\":\"white\",\"ticks\":\"\"},\"caxis\":{\"gridcolor\":\"white\",\"linecolor\":\"white\",\"ticks\":\"\"}},\"coloraxis\":{\"colorbar\":{\"outlinewidth\":0,\"ticks\":\"\"}},\"colorscale\":{\"sequential\":[[0.0,\"#0d0887\"],[0.1111111111111111,\"#46039f\"],[0.2222222222222222,\"#7201a8\"],[0.3333333333333333,\"#9c179e\"],[0.4444444444444444,\"#bd3786\"],[0.5555555555555556,\"#d8576b\"],[0.6666666666666666,\"#ed7953\"],[0.7777777777777778,\"#fb9f3a\"],[0.8888888888888888,\"#fdca26\"],[1.0,\"#f0f921\"]],\"sequentialminus\":[[0.0,\"#0d0887\"],[0.1111111111111111,\"#46039f\"],[0.2222222222222222,\"#7201a8\"],[0.3333333333333333,\"#9c179e\"],[0.4444444444444444,\"#bd3786\"],[0.5555555555555556,\"#d8576b\"],[0.6666666666666666,\"#ed7953\"],[0.7777777777777778,\"#fb9f3a\"],[0.8888888888888888,\"#fdca26\"],[1.0,\"#f0f921\"]],\"diverging\":[[0,\"#8e0152\"],[0.1,\"#c51b7d\"],[0.2,\"#de77ae\"],[0.3,\"#f1b6da\"],[0.4,\"#fde0ef\"],[0.5,\"#f7f7f7\"],[0.6,\"#e6f5d0\"],[0.7,\"#b8e186\"],[0.8,\"#7fbc41\"],[0.9,\"#4d9221\"],[1,\"#276419\"]]},\"xaxis\":{\"gridcolor\":\"white\",\"linecolor\":\"white\",\"ticks\":\"\",\"title\":{\"standoff\":15},\"zerolinecolor\":\"white\",\"automargin\":true,\"zerolinewidth\":2},\"yaxis\":{\"gridcolor\":\"white\",\"linecolor\":\"white\",\"ticks\":\"\",\"title\":{\"standoff\":15},\"zerolinecolor\":\"white\",\"automargin\":true,\"zerolinewidth\":2},\"scene\":{\"xaxis\":{\"backgroundcolor\":\"#E5ECF6\",\"gridcolor\":\"white\",\"linecolor\":\"white\",\"showbackground\":true,\"ticks\":\"\",\"zerolinecolor\":\"white\",\"gridwidth\":2},\"yaxis\":{\"backgroundcolor\":\"#E5ECF6\",\"gridcolor\":\"white\",\"linecolor\":\"white\",\"showbackground\":true,\"ticks\":\"\",\"zerolinecolor\":\"white\",\"gridwidth\":2},\"zaxis\":{\"backgroundcolor\":\"#E5ECF6\",\"gridcolor\":\"white\",\"linecolor\":\"white\",\"showbackground\":true,\"ticks\":\"\",\"zerolinecolor\":\"white\",\"gridwidth\":2}},\"shapedefaults\":{\"line\":{\"color\":\"#2a3f5f\"}},\"annotationdefaults\":{\"arrowcolor\":\"#2a3f5f\",\"arrowhead\":0,\"arrowwidth\":1},\"geo\":{\"bgcolor\":\"white\",\"landcolor\":\"#E5ECF6\",\"subunitcolor\":\"white\",\"showland\":true,\"showlakes\":true,\"lakecolor\":\"white\"},\"title\":{\"x\":0.05},\"mapbox\":{\"style\":\"light\"}}},\"xaxis\":{\"anchor\":\"y\",\"domain\":[0.0,1.0],\"title\":{\"text\":\"search_config\"}},\"yaxis\":{\"anchor\":\"x\",\"domain\":[0.0,1.0],\"title\":{\"text\":\"value\"}},\"legend\":{\"title\":{\"text\":\"metric\"},\"tracegroupgap\":0},\"margin\":{\"t\":60},\"violinmode\":\"group\"},                        {\"responsive\": true}                    ).then(function(){\n",
       "                            \n",
       "var gd = document.getElementById('c86296eb-509b-4f62-8929-3ce49b04cc6f');\n",
       "var x = new MutationObserver(function (mutations, observer) {{\n",
       "        var display = window.getComputedStyle(gd).display;\n",
       "        if (!display || display === 'none') {{\n",
       "            console.log([gd, 'removed!']);\n",
       "            Plotly.purge(gd);\n",
       "            observer.disconnect();\n",
       "        }}\n",
       "}});\n",
       "\n",
       "// Listen for the removal of the full notebook cells\n",
       "var notebookContainer = gd.closest('#notebook-container');\n",
       "if (notebookContainer) {{\n",
       "    x.observe(notebookContainer, {childList: true});\n",
       "}}\n",
       "\n",
       "// Listen for the clearing of the current output cell\n",
       "var outputEl = gd.closest('.output');\n",
       "if (outputEl) {{\n",
       "    x.observe(outputEl, {childList: true});\n",
       "}}\n",
       "\n",
       "                        })                };                });            </script>        </div>"
      ]
     },
     "metadata": {},
     "output_type": "display_data"
    }
   ],
   "source": [
    "sel = df_metrics.search_config.isin([\"research_1\", \"research_2\", \"challenger_1\"])\n",
    "sel = sel & (df_metrics.metric.isin([\"dcg\"]))\n",
    "df = df_metrics[sel]\n",
    "df = df[[\"value\", \"metric\", \"search_config\", \"query\", \"datetime\"]]\n",
    "\n",
    "fig = px.violin(df, y=\"value\", x=\"search_config\", points=\"all\", color=\"metric\", hover_data=df.columns)\n",
    "fig"
   ]
  },
  {
   "cell_type": "markdown",
   "id": "2e2ec0e2",
   "metadata": {},
   "source": [
    "## Comparing two search configurations"
   ]
  },
  {
   "cell_type": "code",
   "execution_count": 8,
   "id": "30e19176",
   "metadata": {},
   "outputs": [
    {
     "data": {
      "application/vnd.plotly.v1+json": {
       "config": {
        "plotlyServerURL": "https://plot.ly"
       },
       "data": [
        {
         "alignmentgroup": "True",
         "box": {
          "visible": false
         },
         "customdata": [
          [
           "dcg",
           "4t camo sweat shirt",
           "2024-06-25"
          ],
          [
           "dcg",
           "all day office chair",
           "2024-06-25"
          ],
          [
           "dcg",
           "bluray movie collection",
           "2024-06-25"
          ],
          [
           "dcg",
           "citizen limited edition",
           "2024-06-25"
          ],
          [
           "dcg",
           "cruz comunion niño",
           "2024-06-25"
          ],
          [
           "dcg",
           "explorer k2",
           "2024-06-25"
          ],
          [
           "dcg",
           "fishing pole",
           "2024-06-25"
          ],
          [
           "dcg",
           "gold shirt women",
           "2024-06-25"
          ],
          [
           "dcg",
           "green wall decals",
           "2024-06-25"
          ],
          [
           "dcg",
           "habitrail ovo twist",
           "2024-06-25"
          ],
          [
           "dcg",
           "nail light",
           "2024-06-25"
          ],
          [
           "dcg",
           "northface hydration packs",
           "2024-06-25"
          ],
          [
           "dcg",
           "one man and his dog",
           "2024-06-25"
          ],
          [
           "dcg",
           "small dog muzzle",
           "2024-06-25"
          ],
          [
           "dcg",
           "vape pen",
           "2024-06-25"
          ],
          [
           "dcg",
           "ゆうびん番号枠入り はがき 切手なし",
           "2024-06-25"
          ],
          [
           "dcg",
           "エプロン 子供",
           "2024-06-25"
          ],
          [
           "dcg",
           "スマホ レーダー探知機",
           "2024-06-25"
          ],
          [
           "dcg",
           "新米",
           "2024-06-25"
          ],
          [
           "dcg",
           "舞台 アイシャドウ",
           "2024-06-25"
          ],
          [
           "dcg",
           "4t camo sweat shirt",
           "2024-06-26"
          ],
          [
           "dcg",
           "all day office chair",
           "2024-06-26"
          ],
          [
           "dcg",
           "bluray movie collection",
           "2024-06-26"
          ],
          [
           "dcg",
           "citizen limited edition",
           "2024-06-26"
          ],
          [
           "dcg",
           "cruz comunion niño",
           "2024-06-26"
          ],
          [
           "dcg",
           "explorer k2",
           "2024-06-26"
          ],
          [
           "dcg",
           "fishing pole",
           "2024-06-26"
          ],
          [
           "dcg",
           "gold shirt women",
           "2024-06-26"
          ],
          [
           "dcg",
           "green wall decals",
           "2024-06-26"
          ],
          [
           "dcg",
           "habitrail ovo twist",
           "2024-06-26"
          ],
          [
           "dcg",
           "nail light",
           "2024-06-26"
          ],
          [
           "dcg",
           "northface hydration packs",
           "2024-06-26"
          ],
          [
           "dcg",
           "one man and his dog",
           "2024-06-26"
          ],
          [
           "dcg",
           "small dog muzzle",
           "2024-06-26"
          ],
          [
           "dcg",
           "vape pen",
           "2024-06-26"
          ],
          [
           "dcg",
           "ゆうびん番号枠入り はがき 切手なし",
           "2024-06-26"
          ],
          [
           "dcg",
           "エプロン 子供",
           "2024-06-26"
          ],
          [
           "dcg",
           "スマホ レーダー探知機",
           "2024-06-26"
          ],
          [
           "dcg",
           "新米",
           "2024-06-26"
          ],
          [
           "dcg",
           "舞台 アイシャドウ",
           "2024-06-26"
          ],
          [
           "dcg",
           "4t camo sweat shirt",
           "2024-06-27"
          ],
          [
           "dcg",
           "all day office chair",
           "2024-06-27"
          ],
          [
           "dcg",
           "bluray movie collection",
           "2024-06-27"
          ],
          [
           "dcg",
           "citizen limited edition",
           "2024-06-27"
          ],
          [
           "dcg",
           "cruz comunion niño",
           "2024-06-27"
          ],
          [
           "dcg",
           "explorer k2",
           "2024-06-27"
          ],
          [
           "dcg",
           "fishing pole",
           "2024-06-27"
          ],
          [
           "dcg",
           "gold shirt women",
           "2024-06-27"
          ],
          [
           "dcg",
           "green wall decals",
           "2024-06-27"
          ],
          [
           "dcg",
           "habitrail ovo twist",
           "2024-06-27"
          ],
          [
           "dcg",
           "nail light",
           "2024-06-27"
          ],
          [
           "dcg",
           "northface hydration packs",
           "2024-06-27"
          ],
          [
           "dcg",
           "one man and his dog",
           "2024-06-27"
          ],
          [
           "dcg",
           "small dog muzzle",
           "2024-06-27"
          ],
          [
           "dcg",
           "vape pen",
           "2024-06-27"
          ],
          [
           "dcg",
           "ゆうびん番号枠入り はがき 切手なし",
           "2024-06-27"
          ],
          [
           "dcg",
           "エプロン 子供",
           "2024-06-27"
          ],
          [
           "dcg",
           "スマホ レーダー探知機",
           "2024-06-27"
          ],
          [
           "dcg",
           "新米",
           "2024-06-27"
          ],
          [
           "dcg",
           "舞台 アイシャドウ",
           "2024-06-27"
          ],
          [
           "dcg",
           "4t camo sweat shirt",
           "2024-06-28"
          ],
          [
           "dcg",
           "all day office chair",
           "2024-06-28"
          ],
          [
           "dcg",
           "bluray movie collection",
           "2024-06-28"
          ],
          [
           "dcg",
           "citizen limited edition",
           "2024-06-28"
          ],
          [
           "dcg",
           "cruz comunion niño",
           "2024-06-28"
          ],
          [
           "dcg",
           "explorer k2",
           "2024-06-28"
          ],
          [
           "dcg",
           "fishing pole",
           "2024-06-28"
          ],
          [
           "dcg",
           "gold shirt women",
           "2024-06-28"
          ],
          [
           "dcg",
           "green wall decals",
           "2024-06-28"
          ],
          [
           "dcg",
           "habitrail ovo twist",
           "2024-06-28"
          ],
          [
           "dcg",
           "nail light",
           "2024-06-28"
          ],
          [
           "dcg",
           "northface hydration packs",
           "2024-06-28"
          ],
          [
           "dcg",
           "one man and his dog",
           "2024-06-28"
          ],
          [
           "dcg",
           "small dog muzzle",
           "2024-06-28"
          ],
          [
           "dcg",
           "vape pen",
           "2024-06-28"
          ],
          [
           "dcg",
           "ゆうびん番号枠入り はがき 切手なし",
           "2024-06-28"
          ],
          [
           "dcg",
           "エプロン 子供",
           "2024-06-28"
          ],
          [
           "dcg",
           "スマホ レーダー探知機",
           "2024-06-28"
          ],
          [
           "dcg",
           "新米",
           "2024-06-28"
          ],
          [
           "dcg",
           "舞台 アイシャドウ",
           "2024-06-28"
          ],
          [
           "dcg",
           "4t camo sweat shirt",
           "2024-06-29"
          ],
          [
           "dcg",
           "all day office chair",
           "2024-06-29"
          ],
          [
           "dcg",
           "bluray movie collection",
           "2024-06-29"
          ],
          [
           "dcg",
           "citizen limited edition",
           "2024-06-29"
          ],
          [
           "dcg",
           "cruz comunion niño",
           "2024-06-29"
          ],
          [
           "dcg",
           "explorer k2",
           "2024-06-29"
          ],
          [
           "dcg",
           "fishing pole",
           "2024-06-29"
          ],
          [
           "dcg",
           "gold shirt women",
           "2024-06-29"
          ],
          [
           "dcg",
           "green wall decals",
           "2024-06-29"
          ],
          [
           "dcg",
           "habitrail ovo twist",
           "2024-06-29"
          ],
          [
           "dcg",
           "nail light",
           "2024-06-29"
          ],
          [
           "dcg",
           "northface hydration packs",
           "2024-06-29"
          ],
          [
           "dcg",
           "one man and his dog",
           "2024-06-29"
          ],
          [
           "dcg",
           "small dog muzzle",
           "2024-06-29"
          ],
          [
           "dcg",
           "vape pen",
           "2024-06-29"
          ],
          [
           "dcg",
           "ゆうびん番号枠入り はがき 切手なし",
           "2024-06-29"
          ],
          [
           "dcg",
           "エプロン 子供",
           "2024-06-29"
          ],
          [
           "dcg",
           "スマホ レーダー探知機",
           "2024-06-29"
          ],
          [
           "dcg",
           "新米",
           "2024-06-29"
          ],
          [
           "dcg",
           "舞台 アイシャドウ",
           "2024-06-29"
          ],
          [
           "dcg",
           "4t camo sweat shirt",
           "2024-06-30"
          ],
          [
           "dcg",
           "all day office chair",
           "2024-06-30"
          ],
          [
           "dcg",
           "bluray movie collection",
           "2024-06-30"
          ],
          [
           "dcg",
           "citizen limited edition",
           "2024-06-30"
          ],
          [
           "dcg",
           "cruz comunion niño",
           "2024-06-30"
          ],
          [
           "dcg",
           "explorer k2",
           "2024-06-30"
          ],
          [
           "dcg",
           "fishing pole",
           "2024-06-30"
          ],
          [
           "dcg",
           "gold shirt women",
           "2024-06-30"
          ],
          [
           "dcg",
           "green wall decals",
           "2024-06-30"
          ],
          [
           "dcg",
           "habitrail ovo twist",
           "2024-06-30"
          ],
          [
           "dcg",
           "nail light",
           "2024-06-30"
          ],
          [
           "dcg",
           "northface hydration packs",
           "2024-06-30"
          ],
          [
           "dcg",
           "one man and his dog",
           "2024-06-30"
          ],
          [
           "dcg",
           "small dog muzzle",
           "2024-06-30"
          ],
          [
           "dcg",
           "vape pen",
           "2024-06-30"
          ],
          [
           "dcg",
           "ゆうびん番号枠入り はがき 切手なし",
           "2024-06-30"
          ],
          [
           "dcg",
           "エプロン 子供",
           "2024-06-30"
          ],
          [
           "dcg",
           "スマホ レーダー探知機",
           "2024-06-30"
          ],
          [
           "dcg",
           "新米",
           "2024-06-30"
          ],
          [
           "dcg",
           "舞台 アイシャドウ",
           "2024-06-30"
          ],
          [
           "dcg",
           "4t camo sweat shirt",
           "2024-07-01"
          ],
          [
           "dcg",
           "all day office chair",
           "2024-07-01"
          ],
          [
           "dcg",
           "bluray movie collection",
           "2024-07-01"
          ],
          [
           "dcg",
           "citizen limited edition",
           "2024-07-01"
          ],
          [
           "dcg",
           "cruz comunion niño",
           "2024-07-01"
          ],
          [
           "dcg",
           "explorer k2",
           "2024-07-01"
          ],
          [
           "dcg",
           "fishing pole",
           "2024-07-01"
          ],
          [
           "dcg",
           "gold shirt women",
           "2024-07-01"
          ],
          [
           "dcg",
           "green wall decals",
           "2024-07-01"
          ],
          [
           "dcg",
           "habitrail ovo twist",
           "2024-07-01"
          ],
          [
           "dcg",
           "nail light",
           "2024-07-01"
          ],
          [
           "dcg",
           "northface hydration packs",
           "2024-07-01"
          ],
          [
           "dcg",
           "one man and his dog",
           "2024-07-01"
          ],
          [
           "dcg",
           "small dog muzzle",
           "2024-07-01"
          ],
          [
           "dcg",
           "vape pen",
           "2024-07-01"
          ],
          [
           "dcg",
           "ゆうびん番号枠入り はがき 切手なし",
           "2024-07-01"
          ],
          [
           "dcg",
           "エプロン 子供",
           "2024-07-01"
          ],
          [
           "dcg",
           "スマホ レーダー探知機",
           "2024-07-01"
          ],
          [
           "dcg",
           "新米",
           "2024-07-01"
          ],
          [
           "dcg",
           "舞台 アイシャドウ",
           "2024-07-01"
          ],
          [
           "dcg",
           "4t camo sweat shirt",
           "2024-06-25"
          ],
          [
           "dcg",
           "all day office chair",
           "2024-06-25"
          ],
          [
           "dcg",
           "bluray movie collection",
           "2024-06-25"
          ],
          [
           "dcg",
           "citizen limited edition",
           "2024-06-25"
          ],
          [
           "dcg",
           "cruz comunion niño",
           "2024-06-25"
          ],
          [
           "dcg",
           "explorer k2",
           "2024-06-25"
          ],
          [
           "dcg",
           "fishing pole",
           "2024-06-25"
          ],
          [
           "dcg",
           "gold shirt women",
           "2024-06-25"
          ],
          [
           "dcg",
           "green wall decals",
           "2024-06-25"
          ],
          [
           "dcg",
           "habitrail ovo twist",
           "2024-06-25"
          ],
          [
           "dcg",
           "nail light",
           "2024-06-25"
          ],
          [
           "dcg",
           "northface hydration packs",
           "2024-06-25"
          ],
          [
           "dcg",
           "one man and his dog",
           "2024-06-25"
          ],
          [
           "dcg",
           "small dog muzzle",
           "2024-06-25"
          ],
          [
           "dcg",
           "vape pen",
           "2024-06-25"
          ],
          [
           "dcg",
           "ゆうびん番号枠入り はがき 切手なし",
           "2024-06-25"
          ],
          [
           "dcg",
           "エプロン 子供",
           "2024-06-25"
          ],
          [
           "dcg",
           "スマホ レーダー探知機",
           "2024-06-25"
          ],
          [
           "dcg",
           "新米",
           "2024-06-25"
          ],
          [
           "dcg",
           "舞台 アイシャドウ",
           "2024-06-25"
          ],
          [
           "dcg",
           "4t camo sweat shirt",
           "2024-06-26"
          ],
          [
           "dcg",
           "all day office chair",
           "2024-06-26"
          ],
          [
           "dcg",
           "bluray movie collection",
           "2024-06-26"
          ],
          [
           "dcg",
           "citizen limited edition",
           "2024-06-26"
          ],
          [
           "dcg",
           "cruz comunion niño",
           "2024-06-26"
          ],
          [
           "dcg",
           "explorer k2",
           "2024-06-26"
          ],
          [
           "dcg",
           "fishing pole",
           "2024-06-26"
          ],
          [
           "dcg",
           "gold shirt women",
           "2024-06-26"
          ],
          [
           "dcg",
           "green wall decals",
           "2024-06-26"
          ],
          [
           "dcg",
           "habitrail ovo twist",
           "2024-06-26"
          ],
          [
           "dcg",
           "nail light",
           "2024-06-26"
          ],
          [
           "dcg",
           "northface hydration packs",
           "2024-06-26"
          ],
          [
           "dcg",
           "one man and his dog",
           "2024-06-26"
          ],
          [
           "dcg",
           "small dog muzzle",
           "2024-06-26"
          ],
          [
           "dcg",
           "vape pen",
           "2024-06-26"
          ],
          [
           "dcg",
           "ゆうびん番号枠入り はがき 切手なし",
           "2024-06-26"
          ],
          [
           "dcg",
           "エプロン 子供",
           "2024-06-26"
          ],
          [
           "dcg",
           "スマホ レーダー探知機",
           "2024-06-26"
          ],
          [
           "dcg",
           "新米",
           "2024-06-26"
          ],
          [
           "dcg",
           "舞台 アイシャドウ",
           "2024-06-26"
          ],
          [
           "dcg",
           "4t camo sweat shirt",
           "2024-06-27"
          ],
          [
           "dcg",
           "all day office chair",
           "2024-06-27"
          ],
          [
           "dcg",
           "bluray movie collection",
           "2024-06-27"
          ],
          [
           "dcg",
           "citizen limited edition",
           "2024-06-27"
          ],
          [
           "dcg",
           "cruz comunion niño",
           "2024-06-27"
          ],
          [
           "dcg",
           "explorer k2",
           "2024-06-27"
          ],
          [
           "dcg",
           "fishing pole",
           "2024-06-27"
          ],
          [
           "dcg",
           "gold shirt women",
           "2024-06-27"
          ],
          [
           "dcg",
           "green wall decals",
           "2024-06-27"
          ],
          [
           "dcg",
           "habitrail ovo twist",
           "2024-06-27"
          ],
          [
           "dcg",
           "nail light",
           "2024-06-27"
          ],
          [
           "dcg",
           "northface hydration packs",
           "2024-06-27"
          ],
          [
           "dcg",
           "one man and his dog",
           "2024-06-27"
          ],
          [
           "dcg",
           "small dog muzzle",
           "2024-06-27"
          ],
          [
           "dcg",
           "vape pen",
           "2024-06-27"
          ],
          [
           "dcg",
           "ゆうびん番号枠入り はがき 切手なし",
           "2024-06-27"
          ],
          [
           "dcg",
           "エプロン 子供",
           "2024-06-27"
          ],
          [
           "dcg",
           "スマホ レーダー探知機",
           "2024-06-27"
          ],
          [
           "dcg",
           "新米",
           "2024-06-27"
          ],
          [
           "dcg",
           "舞台 アイシャドウ",
           "2024-06-27"
          ],
          [
           "dcg",
           "4t camo sweat shirt",
           "2024-06-28"
          ],
          [
           "dcg",
           "all day office chair",
           "2024-06-28"
          ],
          [
           "dcg",
           "bluray movie collection",
           "2024-06-28"
          ],
          [
           "dcg",
           "citizen limited edition",
           "2024-06-28"
          ],
          [
           "dcg",
           "cruz comunion niño",
           "2024-06-28"
          ],
          [
           "dcg",
           "explorer k2",
           "2024-06-28"
          ],
          [
           "dcg",
           "fishing pole",
           "2024-06-28"
          ],
          [
           "dcg",
           "gold shirt women",
           "2024-06-28"
          ],
          [
           "dcg",
           "green wall decals",
           "2024-06-28"
          ],
          [
           "dcg",
           "habitrail ovo twist",
           "2024-06-28"
          ],
          [
           "dcg",
           "nail light",
           "2024-06-28"
          ],
          [
           "dcg",
           "northface hydration packs",
           "2024-06-28"
          ],
          [
           "dcg",
           "one man and his dog",
           "2024-06-28"
          ],
          [
           "dcg",
           "small dog muzzle",
           "2024-06-28"
          ],
          [
           "dcg",
           "vape pen",
           "2024-06-28"
          ],
          [
           "dcg",
           "ゆうびん番号枠入り はがき 切手なし",
           "2024-06-28"
          ],
          [
           "dcg",
           "エプロン 子供",
           "2024-06-28"
          ],
          [
           "dcg",
           "スマホ レーダー探知機",
           "2024-06-28"
          ],
          [
           "dcg",
           "新米",
           "2024-06-28"
          ],
          [
           "dcg",
           "舞台 アイシャドウ",
           "2024-06-28"
          ],
          [
           "dcg",
           "4t camo sweat shirt",
           "2024-06-29"
          ],
          [
           "dcg",
           "all day office chair",
           "2024-06-29"
          ],
          [
           "dcg",
           "bluray movie collection",
           "2024-06-29"
          ],
          [
           "dcg",
           "citizen limited edition",
           "2024-06-29"
          ],
          [
           "dcg",
           "cruz comunion niño",
           "2024-06-29"
          ],
          [
           "dcg",
           "explorer k2",
           "2024-06-29"
          ],
          [
           "dcg",
           "fishing pole",
           "2024-06-29"
          ],
          [
           "dcg",
           "gold shirt women",
           "2024-06-29"
          ],
          [
           "dcg",
           "green wall decals",
           "2024-06-29"
          ],
          [
           "dcg",
           "habitrail ovo twist",
           "2024-06-29"
          ],
          [
           "dcg",
           "nail light",
           "2024-06-29"
          ],
          [
           "dcg",
           "northface hydration packs",
           "2024-06-29"
          ],
          [
           "dcg",
           "one man and his dog",
           "2024-06-29"
          ],
          [
           "dcg",
           "small dog muzzle",
           "2024-06-29"
          ],
          [
           "dcg",
           "vape pen",
           "2024-06-29"
          ],
          [
           "dcg",
           "ゆうびん番号枠入り はがき 切手なし",
           "2024-06-29"
          ],
          [
           "dcg",
           "エプロン 子供",
           "2024-06-29"
          ],
          [
           "dcg",
           "スマホ レーダー探知機",
           "2024-06-29"
          ],
          [
           "dcg",
           "新米",
           "2024-06-29"
          ],
          [
           "dcg",
           "舞台 アイシャドウ",
           "2024-06-29"
          ],
          [
           "dcg",
           "4t camo sweat shirt",
           "2024-06-30"
          ],
          [
           "dcg",
           "all day office chair",
           "2024-06-30"
          ],
          [
           "dcg",
           "bluray movie collection",
           "2024-06-30"
          ],
          [
           "dcg",
           "citizen limited edition",
           "2024-06-30"
          ],
          [
           "dcg",
           "cruz comunion niño",
           "2024-06-30"
          ],
          [
           "dcg",
           "explorer k2",
           "2024-06-30"
          ],
          [
           "dcg",
           "fishing pole",
           "2024-06-30"
          ],
          [
           "dcg",
           "gold shirt women",
           "2024-06-30"
          ],
          [
           "dcg",
           "green wall decals",
           "2024-06-30"
          ],
          [
           "dcg",
           "habitrail ovo twist",
           "2024-06-30"
          ],
          [
           "dcg",
           "nail light",
           "2024-06-30"
          ],
          [
           "dcg",
           "northface hydration packs",
           "2024-06-30"
          ],
          [
           "dcg",
           "one man and his dog",
           "2024-06-30"
          ],
          [
           "dcg",
           "small dog muzzle",
           "2024-06-30"
          ],
          [
           "dcg",
           "vape pen",
           "2024-06-30"
          ],
          [
           "dcg",
           "ゆうびん番号枠入り はがき 切手なし",
           "2024-06-30"
          ],
          [
           "dcg",
           "エプロン 子供",
           "2024-06-30"
          ],
          [
           "dcg",
           "スマホ レーダー探知機",
           "2024-06-30"
          ],
          [
           "dcg",
           "新米",
           "2024-06-30"
          ],
          [
           "dcg",
           "舞台 アイシャドウ",
           "2024-06-30"
          ],
          [
           "dcg",
           "4t camo sweat shirt",
           "2024-07-01"
          ],
          [
           "dcg",
           "all day office chair",
           "2024-07-01"
          ],
          [
           "dcg",
           "bluray movie collection",
           "2024-07-01"
          ],
          [
           "dcg",
           "citizen limited edition",
           "2024-07-01"
          ],
          [
           "dcg",
           "cruz comunion niño",
           "2024-07-01"
          ],
          [
           "dcg",
           "explorer k2",
           "2024-07-01"
          ],
          [
           "dcg",
           "fishing pole",
           "2024-07-01"
          ],
          [
           "dcg",
           "gold shirt women",
           "2024-07-01"
          ],
          [
           "dcg",
           "green wall decals",
           "2024-07-01"
          ],
          [
           "dcg",
           "habitrail ovo twist",
           "2024-07-01"
          ],
          [
           "dcg",
           "nail light",
           "2024-07-01"
          ],
          [
           "dcg",
           "northface hydration packs",
           "2024-07-01"
          ],
          [
           "dcg",
           "one man and his dog",
           "2024-07-01"
          ],
          [
           "dcg",
           "small dog muzzle",
           "2024-07-01"
          ],
          [
           "dcg",
           "vape pen",
           "2024-07-01"
          ],
          [
           "dcg",
           "ゆうびん番号枠入り はがき 切手なし",
           "2024-07-01"
          ],
          [
           "dcg",
           "エプロン 子供",
           "2024-07-01"
          ],
          [
           "dcg",
           "スマホ レーダー探知機",
           "2024-07-01"
          ],
          [
           "dcg",
           "新米",
           "2024-07-01"
          ],
          [
           "dcg",
           "舞台 アイシャドウ",
           "2024-07-01"
          ]
         ],
         "hovertemplate": "metric=%{customdata[0]}<br>search_config=%{x}<br>value=%{y}<br>query=%{customdata[1]}<br>datetime=%{customdata[2]}<extra></extra>",
         "legendgroup": "dcg",
         "marker": {
          "color": "#636efa"
         },
         "name": "dcg",
         "offsetgroup": "dcg",
         "orientation": "v",
         "points": "all",
         "scalegroup": "True",
         "showlegend": true,
         "type": "violin",
         "x": [
          "baseline",
          "baseline",
          "baseline",
          "baseline",
          "baseline",
          "baseline",
          "baseline",
          "baseline",
          "baseline",
          "baseline",
          "baseline",
          "baseline",
          "baseline",
          "baseline",
          "baseline",
          "baseline",
          "baseline",
          "baseline",
          "baseline",
          "baseline",
          "baseline",
          "baseline",
          "baseline",
          "baseline",
          "baseline",
          "baseline",
          "baseline",
          "baseline",
          "baseline",
          "baseline",
          "baseline",
          "baseline",
          "baseline",
          "baseline",
          "baseline",
          "baseline",
          "baseline",
          "baseline",
          "baseline",
          "baseline",
          "baseline",
          "baseline",
          "baseline",
          "baseline",
          "baseline",
          "baseline",
          "baseline",
          "baseline",
          "baseline",
          "baseline",
          "baseline",
          "baseline",
          "baseline",
          "baseline",
          "baseline",
          "baseline",
          "baseline",
          "baseline",
          "baseline",
          "baseline",
          "baseline",
          "baseline",
          "baseline",
          "baseline",
          "baseline",
          "baseline",
          "baseline",
          "baseline",
          "baseline",
          "baseline",
          "baseline",
          "baseline",
          "baseline",
          "baseline",
          "baseline",
          "baseline",
          "baseline",
          "baseline",
          "baseline",
          "baseline",
          "baseline",
          "baseline",
          "baseline",
          "baseline",
          "baseline",
          "baseline",
          "baseline",
          "baseline",
          "baseline",
          "baseline",
          "baseline",
          "baseline",
          "baseline",
          "baseline",
          "baseline",
          "baseline",
          "baseline",
          "baseline",
          "baseline",
          "baseline",
          "baseline",
          "baseline",
          "baseline",
          "baseline",
          "baseline",
          "baseline",
          "baseline",
          "baseline",
          "baseline",
          "baseline",
          "baseline",
          "baseline",
          "baseline",
          "baseline",
          "baseline",
          "baseline",
          "baseline",
          "baseline",
          "baseline",
          "baseline",
          "baseline",
          "baseline",
          "baseline",
          "baseline",
          "baseline",
          "baseline",
          "baseline",
          "baseline",
          "baseline",
          "baseline",
          "baseline",
          "baseline",
          "baseline",
          "baseline",
          "baseline",
          "baseline",
          "baseline",
          "baseline",
          "baseline",
          "baseline",
          "challenger_1",
          "challenger_1",
          "challenger_1",
          "challenger_1",
          "challenger_1",
          "challenger_1",
          "challenger_1",
          "challenger_1",
          "challenger_1",
          "challenger_1",
          "challenger_1",
          "challenger_1",
          "challenger_1",
          "challenger_1",
          "challenger_1",
          "challenger_1",
          "challenger_1",
          "challenger_1",
          "challenger_1",
          "challenger_1",
          "challenger_1",
          "challenger_1",
          "challenger_1",
          "challenger_1",
          "challenger_1",
          "challenger_1",
          "challenger_1",
          "challenger_1",
          "challenger_1",
          "challenger_1",
          "challenger_1",
          "challenger_1",
          "challenger_1",
          "challenger_1",
          "challenger_1",
          "challenger_1",
          "challenger_1",
          "challenger_1",
          "challenger_1",
          "challenger_1",
          "challenger_1",
          "challenger_1",
          "challenger_1",
          "challenger_1",
          "challenger_1",
          "challenger_1",
          "challenger_1",
          "challenger_1",
          "challenger_1",
          "challenger_1",
          "challenger_1",
          "challenger_1",
          "challenger_1",
          "challenger_1",
          "challenger_1",
          "challenger_1",
          "challenger_1",
          "challenger_1",
          "challenger_1",
          "challenger_1",
          "challenger_1",
          "challenger_1",
          "challenger_1",
          "challenger_1",
          "challenger_1",
          "challenger_1",
          "challenger_1",
          "challenger_1",
          "challenger_1",
          "challenger_1",
          "challenger_1",
          "challenger_1",
          "challenger_1",
          "challenger_1",
          "challenger_1",
          "challenger_1",
          "challenger_1",
          "challenger_1",
          "challenger_1",
          "challenger_1",
          "challenger_1",
          "challenger_1",
          "challenger_1",
          "challenger_1",
          "challenger_1",
          "challenger_1",
          "challenger_1",
          "challenger_1",
          "challenger_1",
          "challenger_1",
          "challenger_1",
          "challenger_1",
          "challenger_1",
          "challenger_1",
          "challenger_1",
          "challenger_1",
          "challenger_1",
          "challenger_1",
          "challenger_1",
          "challenger_1",
          "challenger_1",
          "challenger_1",
          "challenger_1",
          "challenger_1",
          "challenger_1",
          "challenger_1",
          "challenger_1",
          "challenger_1",
          "challenger_1",
          "challenger_1",
          "challenger_1",
          "challenger_1",
          "challenger_1",
          "challenger_1",
          "challenger_1",
          "challenger_1",
          "challenger_1",
          "challenger_1",
          "challenger_1",
          "challenger_1",
          "challenger_1",
          "challenger_1",
          "challenger_1",
          "challenger_1",
          "challenger_1",
          "challenger_1",
          "challenger_1",
          "challenger_1",
          "challenger_1",
          "challenger_1",
          "challenger_1",
          "challenger_1",
          "challenger_1",
          "challenger_1",
          "challenger_1",
          "challenger_1",
          "challenger_1",
          "challenger_1",
          "challenger_1",
          "challenger_1"
         ],
         "x0": " ",
         "xaxis": "x",
         "y": [
          0.8903498055064737,
          3.637999639320748,
          2.1309297535714578,
          0,
          1.6895405204413554,
          0.6966951013650575,
          0.996039795342424,
          1.661145539648252,
          3.328590793499512,
          0.0402751947513861,
          2.1309297535714578,
          1.6309297535714575,
          0.627769433150023,
          2.1309297535714578,
          0.0611905473944997,
          1.654903944445162,
          2.9484591188793923,
          0.9829161211611056,
          2.5177825608059994,
          4.254494511770458,
          1.5010705374487436,
          3.637999639320748,
          2.1309297535714578,
          0,
          1.6925361127992904,
          0.724610656813263,
          1.7907940279832435,
          1.661145539648252,
          3.637999639320748,
          0.047230744808105,
          2.1309297535714578,
          1.6309297535714575,
          0.6233809696667835,
          2.1309297535714578,
          0.0587129304740068,
          1.9855449083541283,
          2.9484591188793923,
          0.583150710893853,
          1.468023551533682,
          4.254494511770458,
          0.8949770221344028,
          3.637999639320748,
          2.1309297535714578,
          0,
          1.6895405204413554,
          0.724610656813263,
          1.7907940279832435,
          1.661145539648252,
          3.637999639320748,
          0.0796397010478921,
          2.1309297535714578,
          1.6309297535714575,
          0.6233809696667835,
          2.1309297535714578,
          0.0587129304740068,
          1.957629352905923,
          2.9484591188793923,
          0.583150710893853,
          2.053669292074145,
          4.254494511770458,
          0.9154247969082798,
          3.637999639320748,
          2.1309297535714578,
          0,
          1.6895405204413554,
          1.2519045554228787,
          1.7907940279832435,
          2.0202325814156854,
          3.637999639320748,
          0.047230744808105,
          2.1309297535714578,
          1.6309297535714575,
          0.8706570131691697,
          2.1309297535714578,
          0.6767676272542579,
          1.946422664485292,
          2.9484591188793923,
          0.583150710893853,
          2.5177825608059994,
          4.254494511770458,
          0.893818826081755,
          3.637999639320748,
          2.1309297535714578,
          0,
          1.6895405204413554,
          1.640897361262693,
          1.7907940279832435,
          1.661145539648252,
          3.637999639320748,
          0.047230744808105,
          2.1309297535714578,
          1.6309297535714575,
          0.6233809696667835,
          2.1309297535714578,
          0.0587129304740068,
          1.9855449083541283,
          2.9484591188793923,
          0.583150710893853,
          2.5177825608059994,
          4.254494511770458,
          1.3151902071755326,
          3.637999639320748,
          2.1309297535714578,
          0,
          1.6895405204413554,
          0.9538469123613916,
          1.7907940279832435,
          1.661145539648252,
          3.637999639320748,
          0.047230744808105,
          1.0811707442991405,
          0.7027032161077507,
          0.6233809696667835,
          2.1309297535714578,
          0.0587129304740068,
          1.9855449083541283,
          2.9484591188793923,
          0.583150710893853,
          2.5177825608059994,
          4.254494511770458,
          1.3151902071755326,
          3.637999639320748,
          2.1309297535714578,
          0,
          1.6895405204413554,
          0.7041628820393859,
          1.7907940279832435,
          1.661145539648252,
          3.238234229053495,
          0.047230744808105,
          2.1309297535714578,
          1.6309297535714575,
          0.6256994863523564,
          2.1309297535714578,
          0.0587129304740068,
          1.963938937527604,
          2.9484591188793923,
          0.583150710893853,
          2.5177825608059994,
          4.254494511770458,
          1.5096817285203474,
          2.9484591188793923,
          2.920504272818175,
          0.5701468239022771,
          3.855868133013727,
          0.7434619233764298,
          4.286490001044111,
          0.6479686233734272,
          3.637999639320748,
          0.0529171112313419,
          2.56160631164485,
          4.254494511770458,
          0.6807990221653558,
          3.660641645836245,
          0.0349505407338255,
          2.119262149037977,
          2.56160631164485,
          0.5660744909112829,
          2.06160631164485,
          2.520778153163934,
          1.5651792910386977,
          2.9484591188793923,
          2.017352726756274,
          0.5917527947288017,
          4.148691003283959,
          0.7434619233764298,
          4.875322877413239,
          0.6479686233734272,
          3.637999639320748,
          0.0808326666795474,
          2.097493042912997,
          4.254494511770458,
          0.6825007012574625,
          3.6228235521975103,
          0.3311967912030928,
          2.1019901181905394,
          2.56160631164485,
          0.0989656298214945,
          2.06160631164485,
          2.520778153163934,
          1.5401042996368914,
          2.9484591188793923,
          2.945579264219981,
          0.5917527947288017,
          4.151009519969532,
          0.7434619233764298,
          4.875322877413239,
          1.5482796053889287,
          3.637999639320748,
          0.0529171112313419,
          2.56160631164485,
          4.254494511770458,
          0.6824670497807956,
          3.367818775566013,
          0.0574921447111173,
          2.5638632818571567,
          2.56160631164485,
          0.1019612221794294,
          2.06160631164485,
          2.520778153163934,
          1.5651792910386977,
          2.362813378338928,
          2.4814659954881275,
          0.5917527947288017,
          4.148691003283959,
          1.5664450528277818,
          4.631524608939212,
          0.6479686233734272,
          3.637999639320748,
          0.1150442496456141,
          2.56160631164485,
          4.254494511770458,
          1.0823447612865922,
          3.953464516106477,
          0.0804733069095087,
          2.560286811491268,
          2.56160631164485,
          0.1679317631289896,
          2.06160631164485,
          2.520778153163934,
          1.5651792910386977,
          2.9484591188793923,
          2.945579264219981,
          0.5917527947288017,
          3.91464432762822,
          0.7253814239384202,
          4.875322877413239,
          0.6479686233734272,
          3.052353898780284,
          0.0529171112313419,
          2.56160631164485,
          3.585998624181789,
          0.6159811096857816,
          3.0252379786427697,
          0.2991965839817293,
          1.878075551232572,
          2.56160631164485,
          0.1019612221794294,
          1.1333797741811438,
          2.520778153163934,
          2.1508250315791613,
          2.9484591188793923,
          2.920504272818175,
          0.2611118308198356,
          4.148691003283959,
          0.7434619233764298,
          4.875322877413239,
          0.6479686233734272,
          3.637999639320748,
          0.0529171112313419,
          2.56160631164485,
          3.9616716415002258,
          0.6807990221653558,
          3.953464516106477,
          0.0553983155077026,
          2.345788386664566,
          2.56160631164485,
          0.1298767776276349,
          2.06160631164485,
          2.520778153163934,
          2.6149383003110147,
          2.9484591188793923,
          2.945579264219981,
          1.5199793321925088,
          4.14173545322724,
          0.7434619233764298,
          4.875322877413239,
          0.6070730738256731,
          3.238234229053495,
          0.0529171112313419,
          2.56160631164485,
          4.254494511770458,
          0.6807990221653558,
          3.953464516106477,
          0.0553983155077026,
          3.145932552031732,
          1.6333797741811438,
          0.1019612221794294,
          1.661840901377598,
          2.520778153163934
         ],
         "y0": " ",
         "yaxis": "y"
        }
       ],
       "layout": {
        "legend": {
         "title": {
          "text": "metric"
         },
         "tracegroupgap": 0
        },
        "margin": {
         "t": 60
        },
        "template": {
         "data": {
          "bar": [
           {
            "error_x": {
             "color": "#2a3f5f"
            },
            "error_y": {
             "color": "#2a3f5f"
            },
            "marker": {
             "line": {
              "color": "#E5ECF6",
              "width": 0.5
             },
             "pattern": {
              "fillmode": "overlay",
              "size": 10,
              "solidity": 0.2
             }
            },
            "type": "bar"
           }
          ],
          "barpolar": [
           {
            "marker": {
             "line": {
              "color": "#E5ECF6",
              "width": 0.5
             },
             "pattern": {
              "fillmode": "overlay",
              "size": 10,
              "solidity": 0.2
             }
            },
            "type": "barpolar"
           }
          ],
          "carpet": [
           {
            "aaxis": {
             "endlinecolor": "#2a3f5f",
             "gridcolor": "white",
             "linecolor": "white",
             "minorgridcolor": "white",
             "startlinecolor": "#2a3f5f"
            },
            "baxis": {
             "endlinecolor": "#2a3f5f",
             "gridcolor": "white",
             "linecolor": "white",
             "minorgridcolor": "white",
             "startlinecolor": "#2a3f5f"
            },
            "type": "carpet"
           }
          ],
          "choropleth": [
           {
            "colorbar": {
             "outlinewidth": 0,
             "ticks": ""
            },
            "type": "choropleth"
           }
          ],
          "contour": [
           {
            "colorbar": {
             "outlinewidth": 0,
             "ticks": ""
            },
            "colorscale": [
             [
              0,
              "#0d0887"
             ],
             [
              0.1111111111111111,
              "#46039f"
             ],
             [
              0.2222222222222222,
              "#7201a8"
             ],
             [
              0.3333333333333333,
              "#9c179e"
             ],
             [
              0.4444444444444444,
              "#bd3786"
             ],
             [
              0.5555555555555556,
              "#d8576b"
             ],
             [
              0.6666666666666666,
              "#ed7953"
             ],
             [
              0.7777777777777778,
              "#fb9f3a"
             ],
             [
              0.8888888888888888,
              "#fdca26"
             ],
             [
              1,
              "#f0f921"
             ]
            ],
            "type": "contour"
           }
          ],
          "contourcarpet": [
           {
            "colorbar": {
             "outlinewidth": 0,
             "ticks": ""
            },
            "type": "contourcarpet"
           }
          ],
          "heatmap": [
           {
            "colorbar": {
             "outlinewidth": 0,
             "ticks": ""
            },
            "colorscale": [
             [
              0,
              "#0d0887"
             ],
             [
              0.1111111111111111,
              "#46039f"
             ],
             [
              0.2222222222222222,
              "#7201a8"
             ],
             [
              0.3333333333333333,
              "#9c179e"
             ],
             [
              0.4444444444444444,
              "#bd3786"
             ],
             [
              0.5555555555555556,
              "#d8576b"
             ],
             [
              0.6666666666666666,
              "#ed7953"
             ],
             [
              0.7777777777777778,
              "#fb9f3a"
             ],
             [
              0.8888888888888888,
              "#fdca26"
             ],
             [
              1,
              "#f0f921"
             ]
            ],
            "type": "heatmap"
           }
          ],
          "heatmapgl": [
           {
            "colorbar": {
             "outlinewidth": 0,
             "ticks": ""
            },
            "colorscale": [
             [
              0,
              "#0d0887"
             ],
             [
              0.1111111111111111,
              "#46039f"
             ],
             [
              0.2222222222222222,
              "#7201a8"
             ],
             [
              0.3333333333333333,
              "#9c179e"
             ],
             [
              0.4444444444444444,
              "#bd3786"
             ],
             [
              0.5555555555555556,
              "#d8576b"
             ],
             [
              0.6666666666666666,
              "#ed7953"
             ],
             [
              0.7777777777777778,
              "#fb9f3a"
             ],
             [
              0.8888888888888888,
              "#fdca26"
             ],
             [
              1,
              "#f0f921"
             ]
            ],
            "type": "heatmapgl"
           }
          ],
          "histogram": [
           {
            "marker": {
             "pattern": {
              "fillmode": "overlay",
              "size": 10,
              "solidity": 0.2
             }
            },
            "type": "histogram"
           }
          ],
          "histogram2d": [
           {
            "colorbar": {
             "outlinewidth": 0,
             "ticks": ""
            },
            "colorscale": [
             [
              0,
              "#0d0887"
             ],
             [
              0.1111111111111111,
              "#46039f"
             ],
             [
              0.2222222222222222,
              "#7201a8"
             ],
             [
              0.3333333333333333,
              "#9c179e"
             ],
             [
              0.4444444444444444,
              "#bd3786"
             ],
             [
              0.5555555555555556,
              "#d8576b"
             ],
             [
              0.6666666666666666,
              "#ed7953"
             ],
             [
              0.7777777777777778,
              "#fb9f3a"
             ],
             [
              0.8888888888888888,
              "#fdca26"
             ],
             [
              1,
              "#f0f921"
             ]
            ],
            "type": "histogram2d"
           }
          ],
          "histogram2dcontour": [
           {
            "colorbar": {
             "outlinewidth": 0,
             "ticks": ""
            },
            "colorscale": [
             [
              0,
              "#0d0887"
             ],
             [
              0.1111111111111111,
              "#46039f"
             ],
             [
              0.2222222222222222,
              "#7201a8"
             ],
             [
              0.3333333333333333,
              "#9c179e"
             ],
             [
              0.4444444444444444,
              "#bd3786"
             ],
             [
              0.5555555555555556,
              "#d8576b"
             ],
             [
              0.6666666666666666,
              "#ed7953"
             ],
             [
              0.7777777777777778,
              "#fb9f3a"
             ],
             [
              0.8888888888888888,
              "#fdca26"
             ],
             [
              1,
              "#f0f921"
             ]
            ],
            "type": "histogram2dcontour"
           }
          ],
          "mesh3d": [
           {
            "colorbar": {
             "outlinewidth": 0,
             "ticks": ""
            },
            "type": "mesh3d"
           }
          ],
          "parcoords": [
           {
            "line": {
             "colorbar": {
              "outlinewidth": 0,
              "ticks": ""
             }
            },
            "type": "parcoords"
           }
          ],
          "pie": [
           {
            "automargin": true,
            "type": "pie"
           }
          ],
          "scatter": [
           {
            "fillpattern": {
             "fillmode": "overlay",
             "size": 10,
             "solidity": 0.2
            },
            "type": "scatter"
           }
          ],
          "scatter3d": [
           {
            "line": {
             "colorbar": {
              "outlinewidth": 0,
              "ticks": ""
             }
            },
            "marker": {
             "colorbar": {
              "outlinewidth": 0,
              "ticks": ""
             }
            },
            "type": "scatter3d"
           }
          ],
          "scattercarpet": [
           {
            "marker": {
             "colorbar": {
              "outlinewidth": 0,
              "ticks": ""
             }
            },
            "type": "scattercarpet"
           }
          ],
          "scattergeo": [
           {
            "marker": {
             "colorbar": {
              "outlinewidth": 0,
              "ticks": ""
             }
            },
            "type": "scattergeo"
           }
          ],
          "scattergl": [
           {
            "marker": {
             "colorbar": {
              "outlinewidth": 0,
              "ticks": ""
             }
            },
            "type": "scattergl"
           }
          ],
          "scattermapbox": [
           {
            "marker": {
             "colorbar": {
              "outlinewidth": 0,
              "ticks": ""
             }
            },
            "type": "scattermapbox"
           }
          ],
          "scatterpolar": [
           {
            "marker": {
             "colorbar": {
              "outlinewidth": 0,
              "ticks": ""
             }
            },
            "type": "scatterpolar"
           }
          ],
          "scatterpolargl": [
           {
            "marker": {
             "colorbar": {
              "outlinewidth": 0,
              "ticks": ""
             }
            },
            "type": "scatterpolargl"
           }
          ],
          "scatterternary": [
           {
            "marker": {
             "colorbar": {
              "outlinewidth": 0,
              "ticks": ""
             }
            },
            "type": "scatterternary"
           }
          ],
          "surface": [
           {
            "colorbar": {
             "outlinewidth": 0,
             "ticks": ""
            },
            "colorscale": [
             [
              0,
              "#0d0887"
             ],
             [
              0.1111111111111111,
              "#46039f"
             ],
             [
              0.2222222222222222,
              "#7201a8"
             ],
             [
              0.3333333333333333,
              "#9c179e"
             ],
             [
              0.4444444444444444,
              "#bd3786"
             ],
             [
              0.5555555555555556,
              "#d8576b"
             ],
             [
              0.6666666666666666,
              "#ed7953"
             ],
             [
              0.7777777777777778,
              "#fb9f3a"
             ],
             [
              0.8888888888888888,
              "#fdca26"
             ],
             [
              1,
              "#f0f921"
             ]
            ],
            "type": "surface"
           }
          ],
          "table": [
           {
            "cells": {
             "fill": {
              "color": "#EBF0F8"
             },
             "line": {
              "color": "white"
             }
            },
            "header": {
             "fill": {
              "color": "#C8D4E3"
             },
             "line": {
              "color": "white"
             }
            },
            "type": "table"
           }
          ]
         },
         "layout": {
          "annotationdefaults": {
           "arrowcolor": "#2a3f5f",
           "arrowhead": 0,
           "arrowwidth": 1
          },
          "autotypenumbers": "strict",
          "coloraxis": {
           "colorbar": {
            "outlinewidth": 0,
            "ticks": ""
           }
          },
          "colorscale": {
           "diverging": [
            [
             0,
             "#8e0152"
            ],
            [
             0.1,
             "#c51b7d"
            ],
            [
             0.2,
             "#de77ae"
            ],
            [
             0.3,
             "#f1b6da"
            ],
            [
             0.4,
             "#fde0ef"
            ],
            [
             0.5,
             "#f7f7f7"
            ],
            [
             0.6,
             "#e6f5d0"
            ],
            [
             0.7,
             "#b8e186"
            ],
            [
             0.8,
             "#7fbc41"
            ],
            [
             0.9,
             "#4d9221"
            ],
            [
             1,
             "#276419"
            ]
           ],
           "sequential": [
            [
             0,
             "#0d0887"
            ],
            [
             0.1111111111111111,
             "#46039f"
            ],
            [
             0.2222222222222222,
             "#7201a8"
            ],
            [
             0.3333333333333333,
             "#9c179e"
            ],
            [
             0.4444444444444444,
             "#bd3786"
            ],
            [
             0.5555555555555556,
             "#d8576b"
            ],
            [
             0.6666666666666666,
             "#ed7953"
            ],
            [
             0.7777777777777778,
             "#fb9f3a"
            ],
            [
             0.8888888888888888,
             "#fdca26"
            ],
            [
             1,
             "#f0f921"
            ]
           ],
           "sequentialminus": [
            [
             0,
             "#0d0887"
            ],
            [
             0.1111111111111111,
             "#46039f"
            ],
            [
             0.2222222222222222,
             "#7201a8"
            ],
            [
             0.3333333333333333,
             "#9c179e"
            ],
            [
             0.4444444444444444,
             "#bd3786"
            ],
            [
             0.5555555555555556,
             "#d8576b"
            ],
            [
             0.6666666666666666,
             "#ed7953"
            ],
            [
             0.7777777777777778,
             "#fb9f3a"
            ],
            [
             0.8888888888888888,
             "#fdca26"
            ],
            [
             1,
             "#f0f921"
            ]
           ]
          },
          "colorway": [
           "#636efa",
           "#EF553B",
           "#00cc96",
           "#ab63fa",
           "#FFA15A",
           "#19d3f3",
           "#FF6692",
           "#B6E880",
           "#FF97FF",
           "#FECB52"
          ],
          "font": {
           "color": "#2a3f5f"
          },
          "geo": {
           "bgcolor": "white",
           "lakecolor": "white",
           "landcolor": "#E5ECF6",
           "showlakes": true,
           "showland": true,
           "subunitcolor": "white"
          },
          "hoverlabel": {
           "align": "left"
          },
          "hovermode": "closest",
          "mapbox": {
           "style": "light"
          },
          "paper_bgcolor": "white",
          "plot_bgcolor": "#E5ECF6",
          "polar": {
           "angularaxis": {
            "gridcolor": "white",
            "linecolor": "white",
            "ticks": ""
           },
           "bgcolor": "#E5ECF6",
           "radialaxis": {
            "gridcolor": "white",
            "linecolor": "white",
            "ticks": ""
           }
          },
          "scene": {
           "xaxis": {
            "backgroundcolor": "#E5ECF6",
            "gridcolor": "white",
            "gridwidth": 2,
            "linecolor": "white",
            "showbackground": true,
            "ticks": "",
            "zerolinecolor": "white"
           },
           "yaxis": {
            "backgroundcolor": "#E5ECF6",
            "gridcolor": "white",
            "gridwidth": 2,
            "linecolor": "white",
            "showbackground": true,
            "ticks": "",
            "zerolinecolor": "white"
           },
           "zaxis": {
            "backgroundcolor": "#E5ECF6",
            "gridcolor": "white",
            "gridwidth": 2,
            "linecolor": "white",
            "showbackground": true,
            "ticks": "",
            "zerolinecolor": "white"
           }
          },
          "shapedefaults": {
           "line": {
            "color": "#2a3f5f"
           }
          },
          "ternary": {
           "aaxis": {
            "gridcolor": "white",
            "linecolor": "white",
            "ticks": ""
           },
           "baxis": {
            "gridcolor": "white",
            "linecolor": "white",
            "ticks": ""
           },
           "bgcolor": "#E5ECF6",
           "caxis": {
            "gridcolor": "white",
            "linecolor": "white",
            "ticks": ""
           }
          },
          "title": {
           "x": 0.05
          },
          "xaxis": {
           "automargin": true,
           "gridcolor": "white",
           "linecolor": "white",
           "ticks": "",
           "title": {
            "standoff": 15
           },
           "zerolinecolor": "white",
           "zerolinewidth": 2
          },
          "yaxis": {
           "automargin": true,
           "gridcolor": "white",
           "linecolor": "white",
           "ticks": "",
           "title": {
            "standoff": 15
           },
           "zerolinecolor": "white",
           "zerolinewidth": 2
          }
         }
        },
        "violinmode": "group",
        "xaxis": {
         "anchor": "y",
         "domain": [
          0,
          1
         ],
         "title": {
          "text": "search_config"
         }
        },
        "yaxis": {
         "anchor": "x",
         "domain": [
          0,
          1
         ],
         "title": {
          "text": "value"
         }
        }
       }
      },
      "text/html": [
       "<div>                            <div id=\"2f35604d-7fbc-4f35-8228-1e5da405e4b6\" class=\"plotly-graph-div\" style=\"height:525px; width:100%;\"></div>            <script type=\"text/javascript\">                require([\"plotly\"], function(Plotly) {                    window.PLOTLYENV=window.PLOTLYENV || {};                                    if (document.getElementById(\"2f35604d-7fbc-4f35-8228-1e5da405e4b6\")) {                    Plotly.newPlot(                        \"2f35604d-7fbc-4f35-8228-1e5da405e4b6\",                        [{\"alignmentgroup\":\"True\",\"box\":{\"visible\":false},\"customdata\":[[\"dcg\",\"4t camo sweat shirt\",\"2024-06-25\"],[\"dcg\",\"all day office chair\",\"2024-06-25\"],[\"dcg\",\"bluray movie collection\",\"2024-06-25\"],[\"dcg\",\"citizen limited edition\",\"2024-06-25\"],[\"dcg\",\"cruz comunion ni\\u00f1o\",\"2024-06-25\"],[\"dcg\",\"explorer k2\",\"2024-06-25\"],[\"dcg\",\"fishing pole\",\"2024-06-25\"],[\"dcg\",\"gold shirt women\",\"2024-06-25\"],[\"dcg\",\"green wall decals\",\"2024-06-25\"],[\"dcg\",\"habitrail ovo twist\",\"2024-06-25\"],[\"dcg\",\"nail light\",\"2024-06-25\"],[\"dcg\",\"northface hydration packs\",\"2024-06-25\"],[\"dcg\",\"one man and his dog\",\"2024-06-25\"],[\"dcg\",\"small dog muzzle\",\"2024-06-25\"],[\"dcg\",\"vape pen\",\"2024-06-25\"],[\"dcg\",\"\\u3086\\u3046\\u3073\\u3093\\u756a\\u53f7\\u67a0\\u5165\\u308a \\u306f\\u304c\\u304d \\u5207\\u624b\\u306a\\u3057\",\"2024-06-25\"],[\"dcg\",\"\\u30a8\\u30d7\\u30ed\\u30f3 \\u5b50\\u4f9b\",\"2024-06-25\"],[\"dcg\",\"\\u30b9\\u30de\\u30db \\u30ec\\u30fc\\u30c0\\u30fc\\u63a2\\u77e5\\u6a5f\",\"2024-06-25\"],[\"dcg\",\"\\u65b0\\u7c73\",\"2024-06-25\"],[\"dcg\",\"\\u821e\\u53f0 \\u30a2\\u30a4\\u30b7\\u30e3\\u30c9\\u30a6\",\"2024-06-25\"],[\"dcg\",\"4t camo sweat shirt\",\"2024-06-26\"],[\"dcg\",\"all day office chair\",\"2024-06-26\"],[\"dcg\",\"bluray movie collection\",\"2024-06-26\"],[\"dcg\",\"citizen limited edition\",\"2024-06-26\"],[\"dcg\",\"cruz comunion ni\\u00f1o\",\"2024-06-26\"],[\"dcg\",\"explorer k2\",\"2024-06-26\"],[\"dcg\",\"fishing pole\",\"2024-06-26\"],[\"dcg\",\"gold shirt women\",\"2024-06-26\"],[\"dcg\",\"green wall decals\",\"2024-06-26\"],[\"dcg\",\"habitrail ovo twist\",\"2024-06-26\"],[\"dcg\",\"nail light\",\"2024-06-26\"],[\"dcg\",\"northface hydration packs\",\"2024-06-26\"],[\"dcg\",\"one man and his dog\",\"2024-06-26\"],[\"dcg\",\"small dog muzzle\",\"2024-06-26\"],[\"dcg\",\"vape pen\",\"2024-06-26\"],[\"dcg\",\"\\u3086\\u3046\\u3073\\u3093\\u756a\\u53f7\\u67a0\\u5165\\u308a \\u306f\\u304c\\u304d \\u5207\\u624b\\u306a\\u3057\",\"2024-06-26\"],[\"dcg\",\"\\u30a8\\u30d7\\u30ed\\u30f3 \\u5b50\\u4f9b\",\"2024-06-26\"],[\"dcg\",\"\\u30b9\\u30de\\u30db \\u30ec\\u30fc\\u30c0\\u30fc\\u63a2\\u77e5\\u6a5f\",\"2024-06-26\"],[\"dcg\",\"\\u65b0\\u7c73\",\"2024-06-26\"],[\"dcg\",\"\\u821e\\u53f0 \\u30a2\\u30a4\\u30b7\\u30e3\\u30c9\\u30a6\",\"2024-06-26\"],[\"dcg\",\"4t camo sweat shirt\",\"2024-06-27\"],[\"dcg\",\"all day office chair\",\"2024-06-27\"],[\"dcg\",\"bluray movie collection\",\"2024-06-27\"],[\"dcg\",\"citizen limited edition\",\"2024-06-27\"],[\"dcg\",\"cruz comunion ni\\u00f1o\",\"2024-06-27\"],[\"dcg\",\"explorer k2\",\"2024-06-27\"],[\"dcg\",\"fishing pole\",\"2024-06-27\"],[\"dcg\",\"gold shirt women\",\"2024-06-27\"],[\"dcg\",\"green wall decals\",\"2024-06-27\"],[\"dcg\",\"habitrail ovo twist\",\"2024-06-27\"],[\"dcg\",\"nail light\",\"2024-06-27\"],[\"dcg\",\"northface hydration packs\",\"2024-06-27\"],[\"dcg\",\"one man and his dog\",\"2024-06-27\"],[\"dcg\",\"small dog muzzle\",\"2024-06-27\"],[\"dcg\",\"vape pen\",\"2024-06-27\"],[\"dcg\",\"\\u3086\\u3046\\u3073\\u3093\\u756a\\u53f7\\u67a0\\u5165\\u308a \\u306f\\u304c\\u304d \\u5207\\u624b\\u306a\\u3057\",\"2024-06-27\"],[\"dcg\",\"\\u30a8\\u30d7\\u30ed\\u30f3 \\u5b50\\u4f9b\",\"2024-06-27\"],[\"dcg\",\"\\u30b9\\u30de\\u30db \\u30ec\\u30fc\\u30c0\\u30fc\\u63a2\\u77e5\\u6a5f\",\"2024-06-27\"],[\"dcg\",\"\\u65b0\\u7c73\",\"2024-06-27\"],[\"dcg\",\"\\u821e\\u53f0 \\u30a2\\u30a4\\u30b7\\u30e3\\u30c9\\u30a6\",\"2024-06-27\"],[\"dcg\",\"4t camo sweat shirt\",\"2024-06-28\"],[\"dcg\",\"all day office chair\",\"2024-06-28\"],[\"dcg\",\"bluray movie collection\",\"2024-06-28\"],[\"dcg\",\"citizen limited edition\",\"2024-06-28\"],[\"dcg\",\"cruz comunion ni\\u00f1o\",\"2024-06-28\"],[\"dcg\",\"explorer k2\",\"2024-06-28\"],[\"dcg\",\"fishing pole\",\"2024-06-28\"],[\"dcg\",\"gold shirt women\",\"2024-06-28\"],[\"dcg\",\"green wall decals\",\"2024-06-28\"],[\"dcg\",\"habitrail ovo twist\",\"2024-06-28\"],[\"dcg\",\"nail light\",\"2024-06-28\"],[\"dcg\",\"northface hydration packs\",\"2024-06-28\"],[\"dcg\",\"one man and his dog\",\"2024-06-28\"],[\"dcg\",\"small dog muzzle\",\"2024-06-28\"],[\"dcg\",\"vape pen\",\"2024-06-28\"],[\"dcg\",\"\\u3086\\u3046\\u3073\\u3093\\u756a\\u53f7\\u67a0\\u5165\\u308a \\u306f\\u304c\\u304d \\u5207\\u624b\\u306a\\u3057\",\"2024-06-28\"],[\"dcg\",\"\\u30a8\\u30d7\\u30ed\\u30f3 \\u5b50\\u4f9b\",\"2024-06-28\"],[\"dcg\",\"\\u30b9\\u30de\\u30db \\u30ec\\u30fc\\u30c0\\u30fc\\u63a2\\u77e5\\u6a5f\",\"2024-06-28\"],[\"dcg\",\"\\u65b0\\u7c73\",\"2024-06-28\"],[\"dcg\",\"\\u821e\\u53f0 \\u30a2\\u30a4\\u30b7\\u30e3\\u30c9\\u30a6\",\"2024-06-28\"],[\"dcg\",\"4t camo sweat shirt\",\"2024-06-29\"],[\"dcg\",\"all day office chair\",\"2024-06-29\"],[\"dcg\",\"bluray movie collection\",\"2024-06-29\"],[\"dcg\",\"citizen limited edition\",\"2024-06-29\"],[\"dcg\",\"cruz comunion ni\\u00f1o\",\"2024-06-29\"],[\"dcg\",\"explorer k2\",\"2024-06-29\"],[\"dcg\",\"fishing pole\",\"2024-06-29\"],[\"dcg\",\"gold shirt women\",\"2024-06-29\"],[\"dcg\",\"green wall decals\",\"2024-06-29\"],[\"dcg\",\"habitrail ovo twist\",\"2024-06-29\"],[\"dcg\",\"nail light\",\"2024-06-29\"],[\"dcg\",\"northface hydration packs\",\"2024-06-29\"],[\"dcg\",\"one man and his dog\",\"2024-06-29\"],[\"dcg\",\"small dog muzzle\",\"2024-06-29\"],[\"dcg\",\"vape pen\",\"2024-06-29\"],[\"dcg\",\"\\u3086\\u3046\\u3073\\u3093\\u756a\\u53f7\\u67a0\\u5165\\u308a \\u306f\\u304c\\u304d \\u5207\\u624b\\u306a\\u3057\",\"2024-06-29\"],[\"dcg\",\"\\u30a8\\u30d7\\u30ed\\u30f3 \\u5b50\\u4f9b\",\"2024-06-29\"],[\"dcg\",\"\\u30b9\\u30de\\u30db \\u30ec\\u30fc\\u30c0\\u30fc\\u63a2\\u77e5\\u6a5f\",\"2024-06-29\"],[\"dcg\",\"\\u65b0\\u7c73\",\"2024-06-29\"],[\"dcg\",\"\\u821e\\u53f0 \\u30a2\\u30a4\\u30b7\\u30e3\\u30c9\\u30a6\",\"2024-06-29\"],[\"dcg\",\"4t camo sweat shirt\",\"2024-06-30\"],[\"dcg\",\"all day office chair\",\"2024-06-30\"],[\"dcg\",\"bluray movie collection\",\"2024-06-30\"],[\"dcg\",\"citizen limited edition\",\"2024-06-30\"],[\"dcg\",\"cruz comunion ni\\u00f1o\",\"2024-06-30\"],[\"dcg\",\"explorer k2\",\"2024-06-30\"],[\"dcg\",\"fishing pole\",\"2024-06-30\"],[\"dcg\",\"gold shirt women\",\"2024-06-30\"],[\"dcg\",\"green wall decals\",\"2024-06-30\"],[\"dcg\",\"habitrail ovo twist\",\"2024-06-30\"],[\"dcg\",\"nail light\",\"2024-06-30\"],[\"dcg\",\"northface hydration packs\",\"2024-06-30\"],[\"dcg\",\"one man and his dog\",\"2024-06-30\"],[\"dcg\",\"small dog muzzle\",\"2024-06-30\"],[\"dcg\",\"vape pen\",\"2024-06-30\"],[\"dcg\",\"\\u3086\\u3046\\u3073\\u3093\\u756a\\u53f7\\u67a0\\u5165\\u308a \\u306f\\u304c\\u304d \\u5207\\u624b\\u306a\\u3057\",\"2024-06-30\"],[\"dcg\",\"\\u30a8\\u30d7\\u30ed\\u30f3 \\u5b50\\u4f9b\",\"2024-06-30\"],[\"dcg\",\"\\u30b9\\u30de\\u30db \\u30ec\\u30fc\\u30c0\\u30fc\\u63a2\\u77e5\\u6a5f\",\"2024-06-30\"],[\"dcg\",\"\\u65b0\\u7c73\",\"2024-06-30\"],[\"dcg\",\"\\u821e\\u53f0 \\u30a2\\u30a4\\u30b7\\u30e3\\u30c9\\u30a6\",\"2024-06-30\"],[\"dcg\",\"4t camo sweat shirt\",\"2024-07-01\"],[\"dcg\",\"all day office chair\",\"2024-07-01\"],[\"dcg\",\"bluray movie collection\",\"2024-07-01\"],[\"dcg\",\"citizen limited edition\",\"2024-07-01\"],[\"dcg\",\"cruz comunion ni\\u00f1o\",\"2024-07-01\"],[\"dcg\",\"explorer k2\",\"2024-07-01\"],[\"dcg\",\"fishing pole\",\"2024-07-01\"],[\"dcg\",\"gold shirt women\",\"2024-07-01\"],[\"dcg\",\"green wall decals\",\"2024-07-01\"],[\"dcg\",\"habitrail ovo twist\",\"2024-07-01\"],[\"dcg\",\"nail light\",\"2024-07-01\"],[\"dcg\",\"northface hydration packs\",\"2024-07-01\"],[\"dcg\",\"one man and his dog\",\"2024-07-01\"],[\"dcg\",\"small dog muzzle\",\"2024-07-01\"],[\"dcg\",\"vape pen\",\"2024-07-01\"],[\"dcg\",\"\\u3086\\u3046\\u3073\\u3093\\u756a\\u53f7\\u67a0\\u5165\\u308a \\u306f\\u304c\\u304d \\u5207\\u624b\\u306a\\u3057\",\"2024-07-01\"],[\"dcg\",\"\\u30a8\\u30d7\\u30ed\\u30f3 \\u5b50\\u4f9b\",\"2024-07-01\"],[\"dcg\",\"\\u30b9\\u30de\\u30db \\u30ec\\u30fc\\u30c0\\u30fc\\u63a2\\u77e5\\u6a5f\",\"2024-07-01\"],[\"dcg\",\"\\u65b0\\u7c73\",\"2024-07-01\"],[\"dcg\",\"\\u821e\\u53f0 \\u30a2\\u30a4\\u30b7\\u30e3\\u30c9\\u30a6\",\"2024-07-01\"],[\"dcg\",\"4t camo sweat shirt\",\"2024-06-25\"],[\"dcg\",\"all day office chair\",\"2024-06-25\"],[\"dcg\",\"bluray movie collection\",\"2024-06-25\"],[\"dcg\",\"citizen limited edition\",\"2024-06-25\"],[\"dcg\",\"cruz comunion ni\\u00f1o\",\"2024-06-25\"],[\"dcg\",\"explorer k2\",\"2024-06-25\"],[\"dcg\",\"fishing pole\",\"2024-06-25\"],[\"dcg\",\"gold shirt women\",\"2024-06-25\"],[\"dcg\",\"green wall decals\",\"2024-06-25\"],[\"dcg\",\"habitrail ovo twist\",\"2024-06-25\"],[\"dcg\",\"nail light\",\"2024-06-25\"],[\"dcg\",\"northface hydration packs\",\"2024-06-25\"],[\"dcg\",\"one man and his dog\",\"2024-06-25\"],[\"dcg\",\"small dog muzzle\",\"2024-06-25\"],[\"dcg\",\"vape pen\",\"2024-06-25\"],[\"dcg\",\"\\u3086\\u3046\\u3073\\u3093\\u756a\\u53f7\\u67a0\\u5165\\u308a \\u306f\\u304c\\u304d \\u5207\\u624b\\u306a\\u3057\",\"2024-06-25\"],[\"dcg\",\"\\u30a8\\u30d7\\u30ed\\u30f3 \\u5b50\\u4f9b\",\"2024-06-25\"],[\"dcg\",\"\\u30b9\\u30de\\u30db \\u30ec\\u30fc\\u30c0\\u30fc\\u63a2\\u77e5\\u6a5f\",\"2024-06-25\"],[\"dcg\",\"\\u65b0\\u7c73\",\"2024-06-25\"],[\"dcg\",\"\\u821e\\u53f0 \\u30a2\\u30a4\\u30b7\\u30e3\\u30c9\\u30a6\",\"2024-06-25\"],[\"dcg\",\"4t camo sweat shirt\",\"2024-06-26\"],[\"dcg\",\"all day office chair\",\"2024-06-26\"],[\"dcg\",\"bluray movie collection\",\"2024-06-26\"],[\"dcg\",\"citizen limited edition\",\"2024-06-26\"],[\"dcg\",\"cruz comunion ni\\u00f1o\",\"2024-06-26\"],[\"dcg\",\"explorer k2\",\"2024-06-26\"],[\"dcg\",\"fishing pole\",\"2024-06-26\"],[\"dcg\",\"gold shirt women\",\"2024-06-26\"],[\"dcg\",\"green wall decals\",\"2024-06-26\"],[\"dcg\",\"habitrail ovo twist\",\"2024-06-26\"],[\"dcg\",\"nail light\",\"2024-06-26\"],[\"dcg\",\"northface hydration packs\",\"2024-06-26\"],[\"dcg\",\"one man and his dog\",\"2024-06-26\"],[\"dcg\",\"small dog muzzle\",\"2024-06-26\"],[\"dcg\",\"vape pen\",\"2024-06-26\"],[\"dcg\",\"\\u3086\\u3046\\u3073\\u3093\\u756a\\u53f7\\u67a0\\u5165\\u308a \\u306f\\u304c\\u304d \\u5207\\u624b\\u306a\\u3057\",\"2024-06-26\"],[\"dcg\",\"\\u30a8\\u30d7\\u30ed\\u30f3 \\u5b50\\u4f9b\",\"2024-06-26\"],[\"dcg\",\"\\u30b9\\u30de\\u30db \\u30ec\\u30fc\\u30c0\\u30fc\\u63a2\\u77e5\\u6a5f\",\"2024-06-26\"],[\"dcg\",\"\\u65b0\\u7c73\",\"2024-06-26\"],[\"dcg\",\"\\u821e\\u53f0 \\u30a2\\u30a4\\u30b7\\u30e3\\u30c9\\u30a6\",\"2024-06-26\"],[\"dcg\",\"4t camo sweat shirt\",\"2024-06-27\"],[\"dcg\",\"all day office chair\",\"2024-06-27\"],[\"dcg\",\"bluray movie collection\",\"2024-06-27\"],[\"dcg\",\"citizen limited edition\",\"2024-06-27\"],[\"dcg\",\"cruz comunion ni\\u00f1o\",\"2024-06-27\"],[\"dcg\",\"explorer k2\",\"2024-06-27\"],[\"dcg\",\"fishing pole\",\"2024-06-27\"],[\"dcg\",\"gold shirt women\",\"2024-06-27\"],[\"dcg\",\"green wall decals\",\"2024-06-27\"],[\"dcg\",\"habitrail ovo twist\",\"2024-06-27\"],[\"dcg\",\"nail light\",\"2024-06-27\"],[\"dcg\",\"northface hydration packs\",\"2024-06-27\"],[\"dcg\",\"one man and his dog\",\"2024-06-27\"],[\"dcg\",\"small dog muzzle\",\"2024-06-27\"],[\"dcg\",\"vape pen\",\"2024-06-27\"],[\"dcg\",\"\\u3086\\u3046\\u3073\\u3093\\u756a\\u53f7\\u67a0\\u5165\\u308a \\u306f\\u304c\\u304d \\u5207\\u624b\\u306a\\u3057\",\"2024-06-27\"],[\"dcg\",\"\\u30a8\\u30d7\\u30ed\\u30f3 \\u5b50\\u4f9b\",\"2024-06-27\"],[\"dcg\",\"\\u30b9\\u30de\\u30db \\u30ec\\u30fc\\u30c0\\u30fc\\u63a2\\u77e5\\u6a5f\",\"2024-06-27\"],[\"dcg\",\"\\u65b0\\u7c73\",\"2024-06-27\"],[\"dcg\",\"\\u821e\\u53f0 \\u30a2\\u30a4\\u30b7\\u30e3\\u30c9\\u30a6\",\"2024-06-27\"],[\"dcg\",\"4t camo sweat shirt\",\"2024-06-28\"],[\"dcg\",\"all day office chair\",\"2024-06-28\"],[\"dcg\",\"bluray movie collection\",\"2024-06-28\"],[\"dcg\",\"citizen limited edition\",\"2024-06-28\"],[\"dcg\",\"cruz comunion ni\\u00f1o\",\"2024-06-28\"],[\"dcg\",\"explorer k2\",\"2024-06-28\"],[\"dcg\",\"fishing pole\",\"2024-06-28\"],[\"dcg\",\"gold shirt women\",\"2024-06-28\"],[\"dcg\",\"green wall decals\",\"2024-06-28\"],[\"dcg\",\"habitrail ovo twist\",\"2024-06-28\"],[\"dcg\",\"nail light\",\"2024-06-28\"],[\"dcg\",\"northface hydration packs\",\"2024-06-28\"],[\"dcg\",\"one man and his dog\",\"2024-06-28\"],[\"dcg\",\"small dog muzzle\",\"2024-06-28\"],[\"dcg\",\"vape pen\",\"2024-06-28\"],[\"dcg\",\"\\u3086\\u3046\\u3073\\u3093\\u756a\\u53f7\\u67a0\\u5165\\u308a \\u306f\\u304c\\u304d \\u5207\\u624b\\u306a\\u3057\",\"2024-06-28\"],[\"dcg\",\"\\u30a8\\u30d7\\u30ed\\u30f3 \\u5b50\\u4f9b\",\"2024-06-28\"],[\"dcg\",\"\\u30b9\\u30de\\u30db \\u30ec\\u30fc\\u30c0\\u30fc\\u63a2\\u77e5\\u6a5f\",\"2024-06-28\"],[\"dcg\",\"\\u65b0\\u7c73\",\"2024-06-28\"],[\"dcg\",\"\\u821e\\u53f0 \\u30a2\\u30a4\\u30b7\\u30e3\\u30c9\\u30a6\",\"2024-06-28\"],[\"dcg\",\"4t camo sweat shirt\",\"2024-06-29\"],[\"dcg\",\"all day office chair\",\"2024-06-29\"],[\"dcg\",\"bluray movie collection\",\"2024-06-29\"],[\"dcg\",\"citizen limited edition\",\"2024-06-29\"],[\"dcg\",\"cruz comunion ni\\u00f1o\",\"2024-06-29\"],[\"dcg\",\"explorer k2\",\"2024-06-29\"],[\"dcg\",\"fishing pole\",\"2024-06-29\"],[\"dcg\",\"gold shirt women\",\"2024-06-29\"],[\"dcg\",\"green wall decals\",\"2024-06-29\"],[\"dcg\",\"habitrail ovo twist\",\"2024-06-29\"],[\"dcg\",\"nail light\",\"2024-06-29\"],[\"dcg\",\"northface hydration packs\",\"2024-06-29\"],[\"dcg\",\"one man and his dog\",\"2024-06-29\"],[\"dcg\",\"small dog muzzle\",\"2024-06-29\"],[\"dcg\",\"vape pen\",\"2024-06-29\"],[\"dcg\",\"\\u3086\\u3046\\u3073\\u3093\\u756a\\u53f7\\u67a0\\u5165\\u308a \\u306f\\u304c\\u304d \\u5207\\u624b\\u306a\\u3057\",\"2024-06-29\"],[\"dcg\",\"\\u30a8\\u30d7\\u30ed\\u30f3 \\u5b50\\u4f9b\",\"2024-06-29\"],[\"dcg\",\"\\u30b9\\u30de\\u30db \\u30ec\\u30fc\\u30c0\\u30fc\\u63a2\\u77e5\\u6a5f\",\"2024-06-29\"],[\"dcg\",\"\\u65b0\\u7c73\",\"2024-06-29\"],[\"dcg\",\"\\u821e\\u53f0 \\u30a2\\u30a4\\u30b7\\u30e3\\u30c9\\u30a6\",\"2024-06-29\"],[\"dcg\",\"4t camo sweat shirt\",\"2024-06-30\"],[\"dcg\",\"all day office chair\",\"2024-06-30\"],[\"dcg\",\"bluray movie collection\",\"2024-06-30\"],[\"dcg\",\"citizen limited edition\",\"2024-06-30\"],[\"dcg\",\"cruz comunion ni\\u00f1o\",\"2024-06-30\"],[\"dcg\",\"explorer k2\",\"2024-06-30\"],[\"dcg\",\"fishing pole\",\"2024-06-30\"],[\"dcg\",\"gold shirt women\",\"2024-06-30\"],[\"dcg\",\"green wall decals\",\"2024-06-30\"],[\"dcg\",\"habitrail ovo twist\",\"2024-06-30\"],[\"dcg\",\"nail light\",\"2024-06-30\"],[\"dcg\",\"northface hydration packs\",\"2024-06-30\"],[\"dcg\",\"one man and his dog\",\"2024-06-30\"],[\"dcg\",\"small dog muzzle\",\"2024-06-30\"],[\"dcg\",\"vape pen\",\"2024-06-30\"],[\"dcg\",\"\\u3086\\u3046\\u3073\\u3093\\u756a\\u53f7\\u67a0\\u5165\\u308a \\u306f\\u304c\\u304d \\u5207\\u624b\\u306a\\u3057\",\"2024-06-30\"],[\"dcg\",\"\\u30a8\\u30d7\\u30ed\\u30f3 \\u5b50\\u4f9b\",\"2024-06-30\"],[\"dcg\",\"\\u30b9\\u30de\\u30db \\u30ec\\u30fc\\u30c0\\u30fc\\u63a2\\u77e5\\u6a5f\",\"2024-06-30\"],[\"dcg\",\"\\u65b0\\u7c73\",\"2024-06-30\"],[\"dcg\",\"\\u821e\\u53f0 \\u30a2\\u30a4\\u30b7\\u30e3\\u30c9\\u30a6\",\"2024-06-30\"],[\"dcg\",\"4t camo sweat shirt\",\"2024-07-01\"],[\"dcg\",\"all day office chair\",\"2024-07-01\"],[\"dcg\",\"bluray movie collection\",\"2024-07-01\"],[\"dcg\",\"citizen limited edition\",\"2024-07-01\"],[\"dcg\",\"cruz comunion ni\\u00f1o\",\"2024-07-01\"],[\"dcg\",\"explorer k2\",\"2024-07-01\"],[\"dcg\",\"fishing pole\",\"2024-07-01\"],[\"dcg\",\"gold shirt women\",\"2024-07-01\"],[\"dcg\",\"green wall decals\",\"2024-07-01\"],[\"dcg\",\"habitrail ovo twist\",\"2024-07-01\"],[\"dcg\",\"nail light\",\"2024-07-01\"],[\"dcg\",\"northface hydration packs\",\"2024-07-01\"],[\"dcg\",\"one man and his dog\",\"2024-07-01\"],[\"dcg\",\"small dog muzzle\",\"2024-07-01\"],[\"dcg\",\"vape pen\",\"2024-07-01\"],[\"dcg\",\"\\u3086\\u3046\\u3073\\u3093\\u756a\\u53f7\\u67a0\\u5165\\u308a \\u306f\\u304c\\u304d \\u5207\\u624b\\u306a\\u3057\",\"2024-07-01\"],[\"dcg\",\"\\u30a8\\u30d7\\u30ed\\u30f3 \\u5b50\\u4f9b\",\"2024-07-01\"],[\"dcg\",\"\\u30b9\\u30de\\u30db \\u30ec\\u30fc\\u30c0\\u30fc\\u63a2\\u77e5\\u6a5f\",\"2024-07-01\"],[\"dcg\",\"\\u65b0\\u7c73\",\"2024-07-01\"],[\"dcg\",\"\\u821e\\u53f0 \\u30a2\\u30a4\\u30b7\\u30e3\\u30c9\\u30a6\",\"2024-07-01\"]],\"hovertemplate\":\"metric=%{customdata[0]}\\u003cbr\\u003esearch_config=%{x}\\u003cbr\\u003evalue=%{y}\\u003cbr\\u003equery=%{customdata[1]}\\u003cbr\\u003edatetime=%{customdata[2]}\\u003cextra\\u003e\\u003c\\u002fextra\\u003e\",\"legendgroup\":\"dcg\",\"marker\":{\"color\":\"#636efa\"},\"name\":\"dcg\",\"offsetgroup\":\"dcg\",\"orientation\":\"v\",\"points\":\"all\",\"scalegroup\":\"True\",\"showlegend\":true,\"x\":[\"baseline\",\"baseline\",\"baseline\",\"baseline\",\"baseline\",\"baseline\",\"baseline\",\"baseline\",\"baseline\",\"baseline\",\"baseline\",\"baseline\",\"baseline\",\"baseline\",\"baseline\",\"baseline\",\"baseline\",\"baseline\",\"baseline\",\"baseline\",\"baseline\",\"baseline\",\"baseline\",\"baseline\",\"baseline\",\"baseline\",\"baseline\",\"baseline\",\"baseline\",\"baseline\",\"baseline\",\"baseline\",\"baseline\",\"baseline\",\"baseline\",\"baseline\",\"baseline\",\"baseline\",\"baseline\",\"baseline\",\"baseline\",\"baseline\",\"baseline\",\"baseline\",\"baseline\",\"baseline\",\"baseline\",\"baseline\",\"baseline\",\"baseline\",\"baseline\",\"baseline\",\"baseline\",\"baseline\",\"baseline\",\"baseline\",\"baseline\",\"baseline\",\"baseline\",\"baseline\",\"baseline\",\"baseline\",\"baseline\",\"baseline\",\"baseline\",\"baseline\",\"baseline\",\"baseline\",\"baseline\",\"baseline\",\"baseline\",\"baseline\",\"baseline\",\"baseline\",\"baseline\",\"baseline\",\"baseline\",\"baseline\",\"baseline\",\"baseline\",\"baseline\",\"baseline\",\"baseline\",\"baseline\",\"baseline\",\"baseline\",\"baseline\",\"baseline\",\"baseline\",\"baseline\",\"baseline\",\"baseline\",\"baseline\",\"baseline\",\"baseline\",\"baseline\",\"baseline\",\"baseline\",\"baseline\",\"baseline\",\"baseline\",\"baseline\",\"baseline\",\"baseline\",\"baseline\",\"baseline\",\"baseline\",\"baseline\",\"baseline\",\"baseline\",\"baseline\",\"baseline\",\"baseline\",\"baseline\",\"baseline\",\"baseline\",\"baseline\",\"baseline\",\"baseline\",\"baseline\",\"baseline\",\"baseline\",\"baseline\",\"baseline\",\"baseline\",\"baseline\",\"baseline\",\"baseline\",\"baseline\",\"baseline\",\"baseline\",\"baseline\",\"baseline\",\"baseline\",\"baseline\",\"baseline\",\"baseline\",\"baseline\",\"baseline\",\"baseline\",\"challenger_1\",\"challenger_1\",\"challenger_1\",\"challenger_1\",\"challenger_1\",\"challenger_1\",\"challenger_1\",\"challenger_1\",\"challenger_1\",\"challenger_1\",\"challenger_1\",\"challenger_1\",\"challenger_1\",\"challenger_1\",\"challenger_1\",\"challenger_1\",\"challenger_1\",\"challenger_1\",\"challenger_1\",\"challenger_1\",\"challenger_1\",\"challenger_1\",\"challenger_1\",\"challenger_1\",\"challenger_1\",\"challenger_1\",\"challenger_1\",\"challenger_1\",\"challenger_1\",\"challenger_1\",\"challenger_1\",\"challenger_1\",\"challenger_1\",\"challenger_1\",\"challenger_1\",\"challenger_1\",\"challenger_1\",\"challenger_1\",\"challenger_1\",\"challenger_1\",\"challenger_1\",\"challenger_1\",\"challenger_1\",\"challenger_1\",\"challenger_1\",\"challenger_1\",\"challenger_1\",\"challenger_1\",\"challenger_1\",\"challenger_1\",\"challenger_1\",\"challenger_1\",\"challenger_1\",\"challenger_1\",\"challenger_1\",\"challenger_1\",\"challenger_1\",\"challenger_1\",\"challenger_1\",\"challenger_1\",\"challenger_1\",\"challenger_1\",\"challenger_1\",\"challenger_1\",\"challenger_1\",\"challenger_1\",\"challenger_1\",\"challenger_1\",\"challenger_1\",\"challenger_1\",\"challenger_1\",\"challenger_1\",\"challenger_1\",\"challenger_1\",\"challenger_1\",\"challenger_1\",\"challenger_1\",\"challenger_1\",\"challenger_1\",\"challenger_1\",\"challenger_1\",\"challenger_1\",\"challenger_1\",\"challenger_1\",\"challenger_1\",\"challenger_1\",\"challenger_1\",\"challenger_1\",\"challenger_1\",\"challenger_1\",\"challenger_1\",\"challenger_1\",\"challenger_1\",\"challenger_1\",\"challenger_1\",\"challenger_1\",\"challenger_1\",\"challenger_1\",\"challenger_1\",\"challenger_1\",\"challenger_1\",\"challenger_1\",\"challenger_1\",\"challenger_1\",\"challenger_1\",\"challenger_1\",\"challenger_1\",\"challenger_1\",\"challenger_1\",\"challenger_1\",\"challenger_1\",\"challenger_1\",\"challenger_1\",\"challenger_1\",\"challenger_1\",\"challenger_1\",\"challenger_1\",\"challenger_1\",\"challenger_1\",\"challenger_1\",\"challenger_1\",\"challenger_1\",\"challenger_1\",\"challenger_1\",\"challenger_1\",\"challenger_1\",\"challenger_1\",\"challenger_1\",\"challenger_1\",\"challenger_1\",\"challenger_1\",\"challenger_1\",\"challenger_1\",\"challenger_1\",\"challenger_1\",\"challenger_1\",\"challenger_1\",\"challenger_1\",\"challenger_1\",\"challenger_1\"],\"x0\":\" \",\"xaxis\":\"x\",\"y\":[0.8903498055064737,3.637999639320748,2.1309297535714578,0.0,1.6895405204413554,0.6966951013650575,0.996039795342424,1.661145539648252,3.328590793499512,0.0402751947513861,2.1309297535714578,1.6309297535714575,0.627769433150023,2.1309297535714578,0.0611905473944997,1.654903944445162,2.9484591188793923,0.9829161211611056,2.5177825608059994,4.254494511770458,1.5010705374487436,3.637999639320748,2.1309297535714578,0.0,1.6925361127992904,0.724610656813263,1.7907940279832435,1.661145539648252,3.637999639320748,0.047230744808105,2.1309297535714578,1.6309297535714575,0.6233809696667835,2.1309297535714578,0.0587129304740068,1.9855449083541283,2.9484591188793923,0.583150710893853,1.468023551533682,4.254494511770458,0.8949770221344028,3.637999639320748,2.1309297535714578,0.0,1.6895405204413554,0.724610656813263,1.7907940279832435,1.661145539648252,3.637999639320748,0.0796397010478921,2.1309297535714578,1.6309297535714575,0.6233809696667835,2.1309297535714578,0.0587129304740068,1.957629352905923,2.9484591188793923,0.583150710893853,2.053669292074145,4.254494511770458,0.9154247969082798,3.637999639320748,2.1309297535714578,0.0,1.6895405204413554,1.2519045554228787,1.7907940279832435,2.0202325814156854,3.637999639320748,0.047230744808105,2.1309297535714578,1.6309297535714575,0.8706570131691697,2.1309297535714578,0.6767676272542579,1.946422664485292,2.9484591188793923,0.583150710893853,2.5177825608059994,4.254494511770458,0.893818826081755,3.637999639320748,2.1309297535714578,0.0,1.6895405204413554,1.640897361262693,1.7907940279832435,1.661145539648252,3.637999639320748,0.047230744808105,2.1309297535714578,1.6309297535714575,0.6233809696667835,2.1309297535714578,0.0587129304740068,1.9855449083541283,2.9484591188793923,0.583150710893853,2.5177825608059994,4.254494511770458,1.3151902071755326,3.637999639320748,2.1309297535714578,0.0,1.6895405204413554,0.9538469123613916,1.7907940279832435,1.661145539648252,3.637999639320748,0.047230744808105,1.0811707442991405,0.7027032161077507,0.6233809696667835,2.1309297535714578,0.0587129304740068,1.9855449083541283,2.9484591188793923,0.583150710893853,2.5177825608059994,4.254494511770458,1.3151902071755326,3.637999639320748,2.1309297535714578,0.0,1.6895405204413554,0.7041628820393859,1.7907940279832435,1.661145539648252,3.238234229053495,0.047230744808105,2.1309297535714578,1.6309297535714575,0.6256994863523564,2.1309297535714578,0.0587129304740068,1.963938937527604,2.9484591188793923,0.583150710893853,2.5177825608059994,4.254494511770458,1.5096817285203474,2.9484591188793923,2.920504272818175,0.5701468239022771,3.855868133013727,0.7434619233764298,4.286490001044111,0.6479686233734272,3.637999639320748,0.0529171112313419,2.56160631164485,4.254494511770458,0.6807990221653558,3.660641645836245,0.0349505407338255,2.119262149037977,2.56160631164485,0.5660744909112829,2.06160631164485,2.520778153163934,1.5651792910386977,2.9484591188793923,2.017352726756274,0.5917527947288017,4.148691003283959,0.7434619233764298,4.875322877413239,0.6479686233734272,3.637999639320748,0.0808326666795474,2.097493042912997,4.254494511770458,0.6825007012574625,3.6228235521975103,0.3311967912030928,2.1019901181905394,2.56160631164485,0.0989656298214945,2.06160631164485,2.520778153163934,1.5401042996368914,2.9484591188793923,2.945579264219981,0.5917527947288017,4.151009519969532,0.7434619233764298,4.875322877413239,1.5482796053889287,3.637999639320748,0.0529171112313419,2.56160631164485,4.254494511770458,0.6824670497807956,3.367818775566013,0.0574921447111173,2.5638632818571567,2.56160631164485,0.1019612221794294,2.06160631164485,2.520778153163934,1.5651792910386977,2.362813378338928,2.4814659954881275,0.5917527947288017,4.148691003283959,1.5664450528277818,4.631524608939212,0.6479686233734272,3.637999639320748,0.1150442496456141,2.56160631164485,4.254494511770458,1.0823447612865922,3.953464516106477,0.0804733069095087,2.560286811491268,2.56160631164485,0.1679317631289896,2.06160631164485,2.520778153163934,1.5651792910386977,2.9484591188793923,2.945579264219981,0.5917527947288017,3.91464432762822,0.7253814239384202,4.875322877413239,0.6479686233734272,3.052353898780284,0.0529171112313419,2.56160631164485,3.585998624181789,0.6159811096857816,3.0252379786427697,0.2991965839817293,1.878075551232572,2.56160631164485,0.1019612221794294,1.1333797741811438,2.520778153163934,2.1508250315791613,2.9484591188793923,2.920504272818175,0.2611118308198356,4.148691003283959,0.7434619233764298,4.875322877413239,0.6479686233734272,3.637999639320748,0.0529171112313419,2.56160631164485,3.9616716415002258,0.6807990221653558,3.953464516106477,0.0553983155077026,2.345788386664566,2.56160631164485,0.1298767776276349,2.06160631164485,2.520778153163934,2.6149383003110147,2.9484591188793923,2.945579264219981,1.5199793321925088,4.14173545322724,0.7434619233764298,4.875322877413239,0.6070730738256731,3.238234229053495,0.0529171112313419,2.56160631164485,4.254494511770458,0.6807990221653558,3.953464516106477,0.0553983155077026,3.145932552031732,1.6333797741811438,0.1019612221794294,1.661840901377598,2.520778153163934],\"y0\":\" \",\"yaxis\":\"y\",\"type\":\"violin\"}],                        {\"template\":{\"data\":{\"histogram2dcontour\":[{\"type\":\"histogram2dcontour\",\"colorbar\":{\"outlinewidth\":0,\"ticks\":\"\"},\"colorscale\":[[0.0,\"#0d0887\"],[0.1111111111111111,\"#46039f\"],[0.2222222222222222,\"#7201a8\"],[0.3333333333333333,\"#9c179e\"],[0.4444444444444444,\"#bd3786\"],[0.5555555555555556,\"#d8576b\"],[0.6666666666666666,\"#ed7953\"],[0.7777777777777778,\"#fb9f3a\"],[0.8888888888888888,\"#fdca26\"],[1.0,\"#f0f921\"]]}],\"choropleth\":[{\"type\":\"choropleth\",\"colorbar\":{\"outlinewidth\":0,\"ticks\":\"\"}}],\"histogram2d\":[{\"type\":\"histogram2d\",\"colorbar\":{\"outlinewidth\":0,\"ticks\":\"\"},\"colorscale\":[[0.0,\"#0d0887\"],[0.1111111111111111,\"#46039f\"],[0.2222222222222222,\"#7201a8\"],[0.3333333333333333,\"#9c179e\"],[0.4444444444444444,\"#bd3786\"],[0.5555555555555556,\"#d8576b\"],[0.6666666666666666,\"#ed7953\"],[0.7777777777777778,\"#fb9f3a\"],[0.8888888888888888,\"#fdca26\"],[1.0,\"#f0f921\"]]}],\"heatmap\":[{\"type\":\"heatmap\",\"colorbar\":{\"outlinewidth\":0,\"ticks\":\"\"},\"colorscale\":[[0.0,\"#0d0887\"],[0.1111111111111111,\"#46039f\"],[0.2222222222222222,\"#7201a8\"],[0.3333333333333333,\"#9c179e\"],[0.4444444444444444,\"#bd3786\"],[0.5555555555555556,\"#d8576b\"],[0.6666666666666666,\"#ed7953\"],[0.7777777777777778,\"#fb9f3a\"],[0.8888888888888888,\"#fdca26\"],[1.0,\"#f0f921\"]]}],\"heatmapgl\":[{\"type\":\"heatmapgl\",\"colorbar\":{\"outlinewidth\":0,\"ticks\":\"\"},\"colorscale\":[[0.0,\"#0d0887\"],[0.1111111111111111,\"#46039f\"],[0.2222222222222222,\"#7201a8\"],[0.3333333333333333,\"#9c179e\"],[0.4444444444444444,\"#bd3786\"],[0.5555555555555556,\"#d8576b\"],[0.6666666666666666,\"#ed7953\"],[0.7777777777777778,\"#fb9f3a\"],[0.8888888888888888,\"#fdca26\"],[1.0,\"#f0f921\"]]}],\"contourcarpet\":[{\"type\":\"contourcarpet\",\"colorbar\":{\"outlinewidth\":0,\"ticks\":\"\"}}],\"contour\":[{\"type\":\"contour\",\"colorbar\":{\"outlinewidth\":0,\"ticks\":\"\"},\"colorscale\":[[0.0,\"#0d0887\"],[0.1111111111111111,\"#46039f\"],[0.2222222222222222,\"#7201a8\"],[0.3333333333333333,\"#9c179e\"],[0.4444444444444444,\"#bd3786\"],[0.5555555555555556,\"#d8576b\"],[0.6666666666666666,\"#ed7953\"],[0.7777777777777778,\"#fb9f3a\"],[0.8888888888888888,\"#fdca26\"],[1.0,\"#f0f921\"]]}],\"surface\":[{\"type\":\"surface\",\"colorbar\":{\"outlinewidth\":0,\"ticks\":\"\"},\"colorscale\":[[0.0,\"#0d0887\"],[0.1111111111111111,\"#46039f\"],[0.2222222222222222,\"#7201a8\"],[0.3333333333333333,\"#9c179e\"],[0.4444444444444444,\"#bd3786\"],[0.5555555555555556,\"#d8576b\"],[0.6666666666666666,\"#ed7953\"],[0.7777777777777778,\"#fb9f3a\"],[0.8888888888888888,\"#fdca26\"],[1.0,\"#f0f921\"]]}],\"mesh3d\":[{\"type\":\"mesh3d\",\"colorbar\":{\"outlinewidth\":0,\"ticks\":\"\"}}],\"scatter\":[{\"fillpattern\":{\"fillmode\":\"overlay\",\"size\":10,\"solidity\":0.2},\"type\":\"scatter\"}],\"parcoords\":[{\"type\":\"parcoords\",\"line\":{\"colorbar\":{\"outlinewidth\":0,\"ticks\":\"\"}}}],\"scatterpolargl\":[{\"type\":\"scatterpolargl\",\"marker\":{\"colorbar\":{\"outlinewidth\":0,\"ticks\":\"\"}}}],\"bar\":[{\"error_x\":{\"color\":\"#2a3f5f\"},\"error_y\":{\"color\":\"#2a3f5f\"},\"marker\":{\"line\":{\"color\":\"#E5ECF6\",\"width\":0.5},\"pattern\":{\"fillmode\":\"overlay\",\"size\":10,\"solidity\":0.2}},\"type\":\"bar\"}],\"scattergeo\":[{\"type\":\"scattergeo\",\"marker\":{\"colorbar\":{\"outlinewidth\":0,\"ticks\":\"\"}}}],\"scatterpolar\":[{\"type\":\"scatterpolar\",\"marker\":{\"colorbar\":{\"outlinewidth\":0,\"ticks\":\"\"}}}],\"histogram\":[{\"marker\":{\"pattern\":{\"fillmode\":\"overlay\",\"size\":10,\"solidity\":0.2}},\"type\":\"histogram\"}],\"scattergl\":[{\"type\":\"scattergl\",\"marker\":{\"colorbar\":{\"outlinewidth\":0,\"ticks\":\"\"}}}],\"scatter3d\":[{\"type\":\"scatter3d\",\"line\":{\"colorbar\":{\"outlinewidth\":0,\"ticks\":\"\"}},\"marker\":{\"colorbar\":{\"outlinewidth\":0,\"ticks\":\"\"}}}],\"scattermapbox\":[{\"type\":\"scattermapbox\",\"marker\":{\"colorbar\":{\"outlinewidth\":0,\"ticks\":\"\"}}}],\"scatterternary\":[{\"type\":\"scatterternary\",\"marker\":{\"colorbar\":{\"outlinewidth\":0,\"ticks\":\"\"}}}],\"scattercarpet\":[{\"type\":\"scattercarpet\",\"marker\":{\"colorbar\":{\"outlinewidth\":0,\"ticks\":\"\"}}}],\"carpet\":[{\"aaxis\":{\"endlinecolor\":\"#2a3f5f\",\"gridcolor\":\"white\",\"linecolor\":\"white\",\"minorgridcolor\":\"white\",\"startlinecolor\":\"#2a3f5f\"},\"baxis\":{\"endlinecolor\":\"#2a3f5f\",\"gridcolor\":\"white\",\"linecolor\":\"white\",\"minorgridcolor\":\"white\",\"startlinecolor\":\"#2a3f5f\"},\"type\":\"carpet\"}],\"table\":[{\"cells\":{\"fill\":{\"color\":\"#EBF0F8\"},\"line\":{\"color\":\"white\"}},\"header\":{\"fill\":{\"color\":\"#C8D4E3\"},\"line\":{\"color\":\"white\"}},\"type\":\"table\"}],\"barpolar\":[{\"marker\":{\"line\":{\"color\":\"#E5ECF6\",\"width\":0.5},\"pattern\":{\"fillmode\":\"overlay\",\"size\":10,\"solidity\":0.2}},\"type\":\"barpolar\"}],\"pie\":[{\"automargin\":true,\"type\":\"pie\"}]},\"layout\":{\"autotypenumbers\":\"strict\",\"colorway\":[\"#636efa\",\"#EF553B\",\"#00cc96\",\"#ab63fa\",\"#FFA15A\",\"#19d3f3\",\"#FF6692\",\"#B6E880\",\"#FF97FF\",\"#FECB52\"],\"font\":{\"color\":\"#2a3f5f\"},\"hovermode\":\"closest\",\"hoverlabel\":{\"align\":\"left\"},\"paper_bgcolor\":\"white\",\"plot_bgcolor\":\"#E5ECF6\",\"polar\":{\"bgcolor\":\"#E5ECF6\",\"angularaxis\":{\"gridcolor\":\"white\",\"linecolor\":\"white\",\"ticks\":\"\"},\"radialaxis\":{\"gridcolor\":\"white\",\"linecolor\":\"white\",\"ticks\":\"\"}},\"ternary\":{\"bgcolor\":\"#E5ECF6\",\"aaxis\":{\"gridcolor\":\"white\",\"linecolor\":\"white\",\"ticks\":\"\"},\"baxis\":{\"gridcolor\":\"white\",\"linecolor\":\"white\",\"ticks\":\"\"},\"caxis\":{\"gridcolor\":\"white\",\"linecolor\":\"white\",\"ticks\":\"\"}},\"coloraxis\":{\"colorbar\":{\"outlinewidth\":0,\"ticks\":\"\"}},\"colorscale\":{\"sequential\":[[0.0,\"#0d0887\"],[0.1111111111111111,\"#46039f\"],[0.2222222222222222,\"#7201a8\"],[0.3333333333333333,\"#9c179e\"],[0.4444444444444444,\"#bd3786\"],[0.5555555555555556,\"#d8576b\"],[0.6666666666666666,\"#ed7953\"],[0.7777777777777778,\"#fb9f3a\"],[0.8888888888888888,\"#fdca26\"],[1.0,\"#f0f921\"]],\"sequentialminus\":[[0.0,\"#0d0887\"],[0.1111111111111111,\"#46039f\"],[0.2222222222222222,\"#7201a8\"],[0.3333333333333333,\"#9c179e\"],[0.4444444444444444,\"#bd3786\"],[0.5555555555555556,\"#d8576b\"],[0.6666666666666666,\"#ed7953\"],[0.7777777777777778,\"#fb9f3a\"],[0.8888888888888888,\"#fdca26\"],[1.0,\"#f0f921\"]],\"diverging\":[[0,\"#8e0152\"],[0.1,\"#c51b7d\"],[0.2,\"#de77ae\"],[0.3,\"#f1b6da\"],[0.4,\"#fde0ef\"],[0.5,\"#f7f7f7\"],[0.6,\"#e6f5d0\"],[0.7,\"#b8e186\"],[0.8,\"#7fbc41\"],[0.9,\"#4d9221\"],[1,\"#276419\"]]},\"xaxis\":{\"gridcolor\":\"white\",\"linecolor\":\"white\",\"ticks\":\"\",\"title\":{\"standoff\":15},\"zerolinecolor\":\"white\",\"automargin\":true,\"zerolinewidth\":2},\"yaxis\":{\"gridcolor\":\"white\",\"linecolor\":\"white\",\"ticks\":\"\",\"title\":{\"standoff\":15},\"zerolinecolor\":\"white\",\"automargin\":true,\"zerolinewidth\":2},\"scene\":{\"xaxis\":{\"backgroundcolor\":\"#E5ECF6\",\"gridcolor\":\"white\",\"linecolor\":\"white\",\"showbackground\":true,\"ticks\":\"\",\"zerolinecolor\":\"white\",\"gridwidth\":2},\"yaxis\":{\"backgroundcolor\":\"#E5ECF6\",\"gridcolor\":\"white\",\"linecolor\":\"white\",\"showbackground\":true,\"ticks\":\"\",\"zerolinecolor\":\"white\",\"gridwidth\":2},\"zaxis\":{\"backgroundcolor\":\"#E5ECF6\",\"gridcolor\":\"white\",\"linecolor\":\"white\",\"showbackground\":true,\"ticks\":\"\",\"zerolinecolor\":\"white\",\"gridwidth\":2}},\"shapedefaults\":{\"line\":{\"color\":\"#2a3f5f\"}},\"annotationdefaults\":{\"arrowcolor\":\"#2a3f5f\",\"arrowhead\":0,\"arrowwidth\":1},\"geo\":{\"bgcolor\":\"white\",\"landcolor\":\"#E5ECF6\",\"subunitcolor\":\"white\",\"showland\":true,\"showlakes\":true,\"lakecolor\":\"white\"},\"title\":{\"x\":0.05},\"mapbox\":{\"style\":\"light\"}}},\"xaxis\":{\"anchor\":\"y\",\"domain\":[0.0,1.0],\"title\":{\"text\":\"search_config\"}},\"yaxis\":{\"anchor\":\"x\",\"domain\":[0.0,1.0],\"title\":{\"text\":\"value\"}},\"legend\":{\"title\":{\"text\":\"metric\"},\"tracegroupgap\":0},\"margin\":{\"t\":60},\"violinmode\":\"group\"},                        {\"responsive\": true}                    ).then(function(){\n",
       "                            \n",
       "var gd = document.getElementById('2f35604d-7fbc-4f35-8228-1e5da405e4b6');\n",
       "var x = new MutationObserver(function (mutations, observer) {{\n",
       "        var display = window.getComputedStyle(gd).display;\n",
       "        if (!display || display === 'none') {{\n",
       "            console.log([gd, 'removed!']);\n",
       "            Plotly.purge(gd);\n",
       "            observer.disconnect();\n",
       "        }}\n",
       "}});\n",
       "\n",
       "// Listen for the removal of the full notebook cells\n",
       "var notebookContainer = gd.closest('#notebook-container');\n",
       "if (notebookContainer) {{\n",
       "    x.observe(notebookContainer, {childList: true});\n",
       "}}\n",
       "\n",
       "// Listen for the clearing of the current output cell\n",
       "var outputEl = gd.closest('.output');\n",
       "if (outputEl) {{\n",
       "    x.observe(outputEl, {childList: true});\n",
       "}}\n",
       "\n",
       "                        })                };                });            </script>        </div>"
      ]
     },
     "metadata": {},
     "output_type": "display_data"
    }
   ],
   "source": [
    "sel = df_metrics.search_config.isin([\"baseline\", \"challenger_1\"])\n",
    "sel = sel & (df_metrics.metric.isin([\"dcg\"]))\n",
    "df = df_metrics[sel]\n",
    "df = df[[\"value\", \"metric\", \"search_config\", \"query\", \"datetime\"]]\n",
    "\n",
    "fig = px.violin(df, y=\"value\", x=\"search_config\", points=\"all\", color=\"metric\", hover_data=df.columns)\n",
    "fig"
   ]
  },
  {
   "cell_type": "code",
   "execution_count": null,
   "id": "d45910b7",
   "metadata": {},
   "outputs": [],
   "source": []
  }
 ],
 "metadata": {
  "kernelspec": {
   "display_name": "Python 3 (ipykernel)",
   "language": "python",
   "name": "python3"
  },
  "language_info": {
   "codemirror_mode": {
    "name": "ipython",
    "version": 3
   },
   "file_extension": ".py",
   "mimetype": "text/x-python",
   "name": "python",
   "nbconvert_exporter": "python",
   "pygments_lexer": "ipython3",
   "version": "3.9.7"
  }
 },
 "nbformat": 4,
 "nbformat_minor": 5
}
