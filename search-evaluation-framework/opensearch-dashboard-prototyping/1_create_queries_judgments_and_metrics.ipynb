{
 "cells": [
  {
   "cell_type": "code",
   "execution_count": 249,
   "id": "1c1ef680",
   "metadata": {},
   "outputs": [],
   "source": [
    "import pandas as pd\n",
    "import numpy as np\n",
    "from datetime import datetime, timedelta\n",
    "import plotly.express as px"
   ]
  },
  {
   "cell_type": "code",
   "execution_count": 14,
   "id": "235f175c",
   "metadata": {},
   "outputs": [],
   "source": [
    "esci_data_path = \"../esci-data/shopping_queries_dataset/\"\n",
    "\n",
    "df_examples = pd.read_parquet(esci_data_path + \"shopping_queries_dataset_examples.parquet\")"
   ]
  },
  {
   "cell_type": "code",
   "execution_count": 15,
   "id": "41cd854f",
   "metadata": {},
   "outputs": [
    {
     "data": {
      "text/html": [
       "<div>\n",
       "<style scoped>\n",
       "    .dataframe tbody tr th:only-of-type {\n",
       "        vertical-align: middle;\n",
       "    }\n",
       "\n",
       "    .dataframe tbody tr th {\n",
       "        vertical-align: top;\n",
       "    }\n",
       "\n",
       "    .dataframe thead th {\n",
       "        text-align: right;\n",
       "    }\n",
       "</style>\n",
       "<table border=\"1\" class=\"dataframe\">\n",
       "  <thead>\n",
       "    <tr style=\"text-align: right;\">\n",
       "      <th></th>\n",
       "      <th>example_id</th>\n",
       "      <th>query</th>\n",
       "      <th>query_id</th>\n",
       "      <th>product_id</th>\n",
       "      <th>product_locale</th>\n",
       "      <th>esci_label</th>\n",
       "      <th>small_version</th>\n",
       "      <th>large_version</th>\n",
       "      <th>split</th>\n",
       "    </tr>\n",
       "  </thead>\n",
       "  <tbody>\n",
       "    <tr>\n",
       "      <th>0</th>\n",
       "      <td>0</td>\n",
       "      <td>revent 80 cfm</td>\n",
       "      <td>0</td>\n",
       "      <td>B000MOO21W</td>\n",
       "      <td>us</td>\n",
       "      <td>I</td>\n",
       "      <td>0</td>\n",
       "      <td>1</td>\n",
       "      <td>train</td>\n",
       "    </tr>\n",
       "    <tr>\n",
       "      <th>1</th>\n",
       "      <td>1</td>\n",
       "      <td>revent 80 cfm</td>\n",
       "      <td>0</td>\n",
       "      <td>B07X3Y6B1V</td>\n",
       "      <td>us</td>\n",
       "      <td>E</td>\n",
       "      <td>0</td>\n",
       "      <td>1</td>\n",
       "      <td>train</td>\n",
       "    </tr>\n",
       "    <tr>\n",
       "      <th>2</th>\n",
       "      <td>2</td>\n",
       "      <td>revent 80 cfm</td>\n",
       "      <td>0</td>\n",
       "      <td>B07WDM7MQQ</td>\n",
       "      <td>us</td>\n",
       "      <td>E</td>\n",
       "      <td>0</td>\n",
       "      <td>1</td>\n",
       "      <td>train</td>\n",
       "    </tr>\n",
       "    <tr>\n",
       "      <th>3</th>\n",
       "      <td>3</td>\n",
       "      <td>revent 80 cfm</td>\n",
       "      <td>0</td>\n",
       "      <td>B07RH6Z8KW</td>\n",
       "      <td>us</td>\n",
       "      <td>E</td>\n",
       "      <td>0</td>\n",
       "      <td>1</td>\n",
       "      <td>train</td>\n",
       "    </tr>\n",
       "    <tr>\n",
       "      <th>4</th>\n",
       "      <td>4</td>\n",
       "      <td>revent 80 cfm</td>\n",
       "      <td>0</td>\n",
       "      <td>B07QJ7WYFQ</td>\n",
       "      <td>us</td>\n",
       "      <td>E</td>\n",
       "      <td>0</td>\n",
       "      <td>1</td>\n",
       "      <td>train</td>\n",
       "    </tr>\n",
       "    <tr>\n",
       "      <th>5</th>\n",
       "      <td>5</td>\n",
       "      <td>revent 80 cfm</td>\n",
       "      <td>0</td>\n",
       "      <td>B076Q7V5WX</td>\n",
       "      <td>us</td>\n",
       "      <td>E</td>\n",
       "      <td>0</td>\n",
       "      <td>1</td>\n",
       "      <td>train</td>\n",
       "    </tr>\n",
       "    <tr>\n",
       "      <th>6</th>\n",
       "      <td>6</td>\n",
       "      <td>revent 80 cfm</td>\n",
       "      <td>0</td>\n",
       "      <td>B075ZBF9HG</td>\n",
       "      <td>us</td>\n",
       "      <td>E</td>\n",
       "      <td>0</td>\n",
       "      <td>1</td>\n",
       "      <td>train</td>\n",
       "    </tr>\n",
       "    <tr>\n",
       "      <th>7</th>\n",
       "      <td>7</td>\n",
       "      <td>revent 80 cfm</td>\n",
       "      <td>0</td>\n",
       "      <td>B06W2LB17J</td>\n",
       "      <td>us</td>\n",
       "      <td>E</td>\n",
       "      <td>0</td>\n",
       "      <td>1</td>\n",
       "      <td>train</td>\n",
       "    </tr>\n",
       "    <tr>\n",
       "      <th>8</th>\n",
       "      <td>8</td>\n",
       "      <td>revent 80 cfm</td>\n",
       "      <td>0</td>\n",
       "      <td>B07JY1PQNT</td>\n",
       "      <td>us</td>\n",
       "      <td>E</td>\n",
       "      <td>0</td>\n",
       "      <td>1</td>\n",
       "      <td>train</td>\n",
       "    </tr>\n",
       "    <tr>\n",
       "      <th>9</th>\n",
       "      <td>9</td>\n",
       "      <td>revent 80 cfm</td>\n",
       "      <td>0</td>\n",
       "      <td>B01MZIK0PI</td>\n",
       "      <td>us</td>\n",
       "      <td>E</td>\n",
       "      <td>0</td>\n",
       "      <td>1</td>\n",
       "      <td>train</td>\n",
       "    </tr>\n",
       "    <tr>\n",
       "      <th>10</th>\n",
       "      <td>10</td>\n",
       "      <td>revent 80 cfm</td>\n",
       "      <td>0</td>\n",
       "      <td>B011RX6PNO</td>\n",
       "      <td>us</td>\n",
       "      <td>I</td>\n",
       "      <td>0</td>\n",
       "      <td>1</td>\n",
       "      <td>train</td>\n",
       "    </tr>\n",
       "    <tr>\n",
       "      <th>11</th>\n",
       "      <td>11</td>\n",
       "      <td>revent 80 cfm</td>\n",
       "      <td>0</td>\n",
       "      <td>B00XBZFWWM</td>\n",
       "      <td>us</td>\n",
       "      <td>E</td>\n",
       "      <td>0</td>\n",
       "      <td>1</td>\n",
       "      <td>train</td>\n",
       "    </tr>\n",
       "    <tr>\n",
       "      <th>12</th>\n",
       "      <td>12</td>\n",
       "      <td>revent 80 cfm</td>\n",
       "      <td>0</td>\n",
       "      <td>B00MARNO5Y</td>\n",
       "      <td>us</td>\n",
       "      <td>E</td>\n",
       "      <td>0</td>\n",
       "      <td>1</td>\n",
       "      <td>train</td>\n",
       "    </tr>\n",
       "    <tr>\n",
       "      <th>13</th>\n",
       "      <td>13</td>\n",
       "      <td>revent 80 cfm</td>\n",
       "      <td>0</td>\n",
       "      <td>B003O0MNGC</td>\n",
       "      <td>us</td>\n",
       "      <td>E</td>\n",
       "      <td>0</td>\n",
       "      <td>1</td>\n",
       "      <td>train</td>\n",
       "    </tr>\n",
       "    <tr>\n",
       "      <th>14</th>\n",
       "      <td>14</td>\n",
       "      <td>revent 80 cfm</td>\n",
       "      <td>0</td>\n",
       "      <td>B001E6DMKY</td>\n",
       "      <td>us</td>\n",
       "      <td>E</td>\n",
       "      <td>0</td>\n",
       "      <td>1</td>\n",
       "      <td>train</td>\n",
       "    </tr>\n",
       "    <tr>\n",
       "      <th>15</th>\n",
       "      <td>15</td>\n",
       "      <td>revent 80 cfm</td>\n",
       "      <td>0</td>\n",
       "      <td>B01N5Y6002</td>\n",
       "      <td>us</td>\n",
       "      <td>E</td>\n",
       "      <td>0</td>\n",
       "      <td>1</td>\n",
       "      <td>train</td>\n",
       "    </tr>\n",
       "    <tr>\n",
       "      <th>16</th>\n",
       "      <td>16</td>\n",
       "      <td>!awnmower tires without rims</td>\n",
       "      <td>1</td>\n",
       "      <td>B075SCHMPY</td>\n",
       "      <td>us</td>\n",
       "      <td>I</td>\n",
       "      <td>1</td>\n",
       "      <td>1</td>\n",
       "      <td>train</td>\n",
       "    </tr>\n",
       "    <tr>\n",
       "      <th>17</th>\n",
       "      <td>17</td>\n",
       "      <td>!awnmower tires without rims</td>\n",
       "      <td>1</td>\n",
       "      <td>B08L3B9B9P</td>\n",
       "      <td>us</td>\n",
       "      <td>E</td>\n",
       "      <td>1</td>\n",
       "      <td>1</td>\n",
       "      <td>train</td>\n",
       "    </tr>\n",
       "    <tr>\n",
       "      <th>18</th>\n",
       "      <td>18</td>\n",
       "      <td>!awnmower tires without rims</td>\n",
       "      <td>1</td>\n",
       "      <td>B082K7V2GZ</td>\n",
       "      <td>us</td>\n",
       "      <td>I</td>\n",
       "      <td>1</td>\n",
       "      <td>1</td>\n",
       "      <td>train</td>\n",
       "    </tr>\n",
       "    <tr>\n",
       "      <th>19</th>\n",
       "      <td>19</td>\n",
       "      <td>!awnmower tires without rims</td>\n",
       "      <td>1</td>\n",
       "      <td>B07P4CF3DP</td>\n",
       "      <td>us</td>\n",
       "      <td>S</td>\n",
       "      <td>1</td>\n",
       "      <td>1</td>\n",
       "      <td>train</td>\n",
       "    </tr>\n",
       "  </tbody>\n",
       "</table>\n",
       "</div>"
      ],
      "text/plain": [
       "    example_id                         query  query_id  product_id  \\\n",
       "0            0                 revent 80 cfm         0  B000MOO21W   \n",
       "1            1                 revent 80 cfm         0  B07X3Y6B1V   \n",
       "2            2                 revent 80 cfm         0  B07WDM7MQQ   \n",
       "3            3                 revent 80 cfm         0  B07RH6Z8KW   \n",
       "4            4                 revent 80 cfm         0  B07QJ7WYFQ   \n",
       "5            5                 revent 80 cfm         0  B076Q7V5WX   \n",
       "6            6                 revent 80 cfm         0  B075ZBF9HG   \n",
       "7            7                 revent 80 cfm         0  B06W2LB17J   \n",
       "8            8                 revent 80 cfm         0  B07JY1PQNT   \n",
       "9            9                 revent 80 cfm         0  B01MZIK0PI   \n",
       "10          10                 revent 80 cfm         0  B011RX6PNO   \n",
       "11          11                 revent 80 cfm         0  B00XBZFWWM   \n",
       "12          12                 revent 80 cfm         0  B00MARNO5Y   \n",
       "13          13                 revent 80 cfm         0  B003O0MNGC   \n",
       "14          14                 revent 80 cfm         0  B001E6DMKY   \n",
       "15          15                 revent 80 cfm         0  B01N5Y6002   \n",
       "16          16  !awnmower tires without rims         1  B075SCHMPY   \n",
       "17          17  !awnmower tires without rims         1  B08L3B9B9P   \n",
       "18          18  !awnmower tires without rims         1  B082K7V2GZ   \n",
       "19          19  !awnmower tires without rims         1  B07P4CF3DP   \n",
       "\n",
       "   product_locale esci_label  small_version  large_version  split  \n",
       "0              us          I              0              1  train  \n",
       "1              us          E              0              1  train  \n",
       "2              us          E              0              1  train  \n",
       "3              us          E              0              1  train  \n",
       "4              us          E              0              1  train  \n",
       "5              us          E              0              1  train  \n",
       "6              us          E              0              1  train  \n",
       "7              us          E              0              1  train  \n",
       "8              us          E              0              1  train  \n",
       "9              us          E              0              1  train  \n",
       "10             us          I              0              1  train  \n",
       "11             us          E              0              1  train  \n",
       "12             us          E              0              1  train  \n",
       "13             us          E              0              1  train  \n",
       "14             us          E              0              1  train  \n",
       "15             us          E              0              1  train  \n",
       "16             us          I              1              1  train  \n",
       "17             us          E              1              1  train  \n",
       "18             us          I              1              1  train  \n",
       "19             us          S              1              1  train  "
      ]
     },
     "execution_count": 15,
     "metadata": {},
     "output_type": "execute_result"
    }
   ],
   "source": [
    "df_examples.head(20)"
   ]
  },
  {
   "cell_type": "code",
   "execution_count": 16,
   "id": "7e285c96",
   "metadata": {},
   "outputs": [
    {
     "data": {
      "text/html": [
       "<div>\n",
       "<style scoped>\n",
       "    .dataframe tbody tr th:only-of-type {\n",
       "        vertical-align: middle;\n",
       "    }\n",
       "\n",
       "    .dataframe tbody tr th {\n",
       "        vertical-align: top;\n",
       "    }\n",
       "\n",
       "    .dataframe thead th {\n",
       "        text-align: right;\n",
       "    }\n",
       "</style>\n",
       "<table border=\"1\" class=\"dataframe\">\n",
       "  <thead>\n",
       "    <tr style=\"text-align: right;\">\n",
       "      <th></th>\n",
       "      <th>query</th>\n",
       "      <th>product_id</th>\n",
       "      <th>product_locale</th>\n",
       "      <th>esci_label</th>\n",
       "      <th>split</th>\n",
       "    </tr>\n",
       "  </thead>\n",
       "  <tbody>\n",
       "    <tr>\n",
       "      <th>count</th>\n",
       "      <td>2621288</td>\n",
       "      <td>2621288</td>\n",
       "      <td>2621288</td>\n",
       "      <td>2621288</td>\n",
       "      <td>2621288</td>\n",
       "    </tr>\n",
       "    <tr>\n",
       "      <th>unique</th>\n",
       "      <td>130193</td>\n",
       "      <td>1802772</td>\n",
       "      <td>3</td>\n",
       "      <td>4</td>\n",
       "      <td>2</td>\n",
       "    </tr>\n",
       "    <tr>\n",
       "      <th>top</th>\n",
       "      <td>airpods</td>\n",
       "      <td>B01HFFXLNA</td>\n",
       "      <td>us</td>\n",
       "      <td>E</td>\n",
       "      <td>train</td>\n",
       "    </tr>\n",
       "    <tr>\n",
       "      <th>freq</th>\n",
       "      <td>233</td>\n",
       "      <td>120</td>\n",
       "      <td>1818825</td>\n",
       "      <td>1708158</td>\n",
       "      <td>1983272</td>\n",
       "    </tr>\n",
       "  </tbody>\n",
       "</table>\n",
       "</div>"
      ],
      "text/plain": [
       "          query  product_id product_locale esci_label    split\n",
       "count   2621288     2621288        2621288    2621288  2621288\n",
       "unique   130193     1802772              3          4        2\n",
       "top     airpods  B01HFFXLNA             us          E    train\n",
       "freq        233         120        1818825    1708158  1983272"
      ]
     },
     "execution_count": 16,
     "metadata": {},
     "output_type": "execute_result"
    }
   ],
   "source": [
    "df_examples.describe(include='object')"
   ]
  },
  {
   "cell_type": "code",
   "execution_count": 17,
   "id": "a5924862",
   "metadata": {},
   "outputs": [
    {
     "data": {
      "text/plain": [
       "130652"
      ]
     },
     "execution_count": 17,
     "metadata": {},
     "output_type": "execute_result"
    }
   ],
   "source": [
    "df_examples.query_id.unique().size"
   ]
  },
  {
   "cell_type": "markdown",
   "id": "6f9eb924",
   "metadata": {},
   "source": [
    "## Query set"
   ]
  },
  {
   "cell_type": "code",
   "execution_count": 28,
   "id": "a4bde457",
   "metadata": {},
   "outputs": [],
   "source": [
    "np.random.seed(10)"
   ]
  },
  {
   "cell_type": "code",
   "execution_count": 185,
   "id": "13806ae4",
   "metadata": {},
   "outputs": [
    {
     "data": {
      "text/html": [
       "<div>\n",
       "<style scoped>\n",
       "    .dataframe tbody tr th:only-of-type {\n",
       "        vertical-align: middle;\n",
       "    }\n",
       "\n",
       "    .dataframe tbody tr th {\n",
       "        vertical-align: top;\n",
       "    }\n",
       "\n",
       "    .dataframe thead th {\n",
       "        text-align: right;\n",
       "    }\n",
       "</style>\n",
       "<table border=\"1\" class=\"dataframe\">\n",
       "  <thead>\n",
       "    <tr style=\"text-align: right;\">\n",
       "      <th></th>\n",
       "      <th>query</th>\n",
       "      <th>weight</th>\n",
       "    </tr>\n",
       "  </thead>\n",
       "  <tbody>\n",
       "    <tr>\n",
       "      <th>0</th>\n",
       "      <td>3d tree wall owl</td>\n",
       "      <td>1</td>\n",
       "    </tr>\n",
       "    <tr>\n",
       "      <th>1</th>\n",
       "      <td>handlebars</td>\n",
       "      <td>1</td>\n",
       "    </tr>\n",
       "    <tr>\n",
       "      <th>2</th>\n",
       "      <td>joyce meyer</td>\n",
       "      <td>1</td>\n",
       "    </tr>\n",
       "    <tr>\n",
       "      <th>3</th>\n",
       "      <td>mct oil capsules</td>\n",
       "      <td>1</td>\n",
       "    </tr>\n",
       "    <tr>\n",
       "      <th>4</th>\n",
       "      <td>nike air force 1 men</td>\n",
       "      <td>1</td>\n",
       "    </tr>\n",
       "    <tr>\n",
       "      <th>5</th>\n",
       "      <td>level tools</td>\n",
       "      <td>1</td>\n",
       "    </tr>\n",
       "    <tr>\n",
       "      <th>6</th>\n",
       "      <td>solar pool covers for inground pools</td>\n",
       "      <td>1</td>\n",
       "    </tr>\n",
       "    <tr>\n",
       "      <th>7</th>\n",
       "      <td>cute vans for women</td>\n",
       "      <td>1</td>\n",
       "    </tr>\n",
       "    <tr>\n",
       "      <th>8</th>\n",
       "      <td>classic black dresses for women</td>\n",
       "      <td>1</td>\n",
       "    </tr>\n",
       "    <tr>\n",
       "      <th>9</th>\n",
       "      <td>cuadro para oficina</td>\n",
       "      <td>1</td>\n",
       "    </tr>\n",
       "  </tbody>\n",
       "</table>\n",
       "</div>"
      ],
      "text/plain": [
       "                                  query  weight\n",
       "0                      3d tree wall owl       1\n",
       "1                            handlebars       1\n",
       "2                           joyce meyer       1\n",
       "3                      mct oil capsules       1\n",
       "4                  nike air force 1 men       1\n",
       "5                           level tools       1\n",
       "6  solar pool covers for inground pools       1\n",
       "7                   cute vans for women       1\n",
       "8       classic black dresses for women       1\n",
       "9                   cuadro para oficina       1"
      ]
     },
     "execution_count": 185,
     "metadata": {},
     "output_type": "execute_result"
    }
   ],
   "source": [
    "# Sample query set\n",
    "n_query_set = 20\n",
    "# todo: sampling proportional to frequency\n",
    "query_set = np.random.choice(df_examples[\"query\"].unique(), n_query_set, replace=False)\n",
    "\n",
    "# todo: perhaps consider product_locale? what about small/large version?\n",
    "\n",
    "df_query_set = pd.DataFrame({\"query\": query_set})\n",
    "df_query_set[\"weight\"] = 1\n",
    "df_query_set.head(10)"
   ]
  },
  {
   "cell_type": "markdown",
   "id": "a3b94c98",
   "metadata": {},
   "source": [
    "## Judgments"
   ]
  },
  {
   "cell_type": "code",
   "execution_count": 186,
   "id": "3daaa1a3",
   "metadata": {},
   "outputs": [
    {
     "data": {
      "text/html": [
       "<div>\n",
       "<style scoped>\n",
       "    .dataframe tbody tr th:only-of-type {\n",
       "        vertical-align: middle;\n",
       "    }\n",
       "\n",
       "    .dataframe tbody tr th {\n",
       "        vertical-align: top;\n",
       "    }\n",
       "\n",
       "    .dataframe thead th {\n",
       "        text-align: right;\n",
       "    }\n",
       "</style>\n",
       "<table border=\"1\" class=\"dataframe\">\n",
       "  <thead>\n",
       "    <tr style=\"text-align: right;\">\n",
       "      <th></th>\n",
       "      <th>datetime</th>\n",
       "      <th>query_id</th>\n",
       "      <th>query</th>\n",
       "      <th>document</th>\n",
       "      <th>judgment</th>\n",
       "    </tr>\n",
       "  </thead>\n",
       "  <tbody>\n",
       "    <tr>\n",
       "      <th>0</th>\n",
       "      <td>2024-07-01</td>\n",
       "      <td>3885</td>\n",
       "      <td>3d tree wall owl</td>\n",
       "      <td>B0797N6X4C</td>\n",
       "      <td>0.1</td>\n",
       "    </tr>\n",
       "    <tr>\n",
       "      <th>1</th>\n",
       "      <td>2024-07-01</td>\n",
       "      <td>3885</td>\n",
       "      <td>3d tree wall owl</td>\n",
       "      <td>B07W73XXQX</td>\n",
       "      <td>0.1</td>\n",
       "    </tr>\n",
       "    <tr>\n",
       "      <th>2</th>\n",
       "      <td>2024-07-01</td>\n",
       "      <td>3885</td>\n",
       "      <td>3d tree wall owl</td>\n",
       "      <td>B07TLKZT2Z</td>\n",
       "      <td>0.1</td>\n",
       "    </tr>\n",
       "    <tr>\n",
       "      <th>3</th>\n",
       "      <td>2024-07-01</td>\n",
       "      <td>3885</td>\n",
       "      <td>3d tree wall owl</td>\n",
       "      <td>B07YSCJSL3</td>\n",
       "      <td>1.0</td>\n",
       "    </tr>\n",
       "    <tr>\n",
       "      <th>4</th>\n",
       "      <td>2024-07-01</td>\n",
       "      <td>3885</td>\n",
       "      <td>3d tree wall owl</td>\n",
       "      <td>B07MDC94SD</td>\n",
       "      <td>0.1</td>\n",
       "    </tr>\n",
       "    <tr>\n",
       "      <th>5</th>\n",
       "      <td>2024-07-01</td>\n",
       "      <td>3885</td>\n",
       "      <td>3d tree wall owl</td>\n",
       "      <td>B07DLB4YKY</td>\n",
       "      <td>0.1</td>\n",
       "    </tr>\n",
       "    <tr>\n",
       "      <th>6</th>\n",
       "      <td>2024-07-01</td>\n",
       "      <td>3885</td>\n",
       "      <td>3d tree wall owl</td>\n",
       "      <td>B07BH3XQT2</td>\n",
       "      <td>1.0</td>\n",
       "    </tr>\n",
       "    <tr>\n",
       "      <th>7</th>\n",
       "      <td>2024-07-01</td>\n",
       "      <td>3885</td>\n",
       "      <td>3d tree wall owl</td>\n",
       "      <td>B075QGM8ZF</td>\n",
       "      <td>0.1</td>\n",
       "    </tr>\n",
       "    <tr>\n",
       "      <th>8</th>\n",
       "      <td>2024-07-01</td>\n",
       "      <td>3885</td>\n",
       "      <td>3d tree wall owl</td>\n",
       "      <td>B01E2Y7OZS</td>\n",
       "      <td>1.0</td>\n",
       "    </tr>\n",
       "    <tr>\n",
       "      <th>9</th>\n",
       "      <td>2024-07-01</td>\n",
       "      <td>3885</td>\n",
       "      <td>3d tree wall owl</td>\n",
       "      <td>B072DY7WJZ</td>\n",
       "      <td>0.1</td>\n",
       "    </tr>\n",
       "    <tr>\n",
       "      <th>10</th>\n",
       "      <td>2024-07-01</td>\n",
       "      <td>3885</td>\n",
       "      <td>3d tree wall owl</td>\n",
       "      <td>B06ZYX5KY2</td>\n",
       "      <td>0.1</td>\n",
       "    </tr>\n",
       "    <tr>\n",
       "      <th>11</th>\n",
       "      <td>2024-07-01</td>\n",
       "      <td>3885</td>\n",
       "      <td>3d tree wall owl</td>\n",
       "      <td>B01M5HFOEZ</td>\n",
       "      <td>1.0</td>\n",
       "    </tr>\n",
       "    <tr>\n",
       "      <th>12</th>\n",
       "      <td>2024-07-01</td>\n",
       "      <td>3885</td>\n",
       "      <td>3d tree wall owl</td>\n",
       "      <td>B01F9FXKOS</td>\n",
       "      <td>0.1</td>\n",
       "    </tr>\n",
       "    <tr>\n",
       "      <th>13</th>\n",
       "      <td>2024-07-01</td>\n",
       "      <td>3885</td>\n",
       "      <td>3d tree wall owl</td>\n",
       "      <td>B013NQ8XCE</td>\n",
       "      <td>0.1</td>\n",
       "    </tr>\n",
       "    <tr>\n",
       "      <th>14</th>\n",
       "      <td>2024-07-01</td>\n",
       "      <td>3885</td>\n",
       "      <td>3d tree wall owl</td>\n",
       "      <td>B00O7B7IO4</td>\n",
       "      <td>0.1</td>\n",
       "    </tr>\n",
       "    <tr>\n",
       "      <th>15</th>\n",
       "      <td>2024-07-01</td>\n",
       "      <td>3885</td>\n",
       "      <td>3d tree wall owl</td>\n",
       "      <td>B075KGYNZ2</td>\n",
       "      <td>0.1</td>\n",
       "    </tr>\n",
       "    <tr>\n",
       "      <th>16</th>\n",
       "      <td>2024-07-01</td>\n",
       "      <td>26561</td>\n",
       "      <td>classic black dresses for women</td>\n",
       "      <td>B07QGWB3BZ</td>\n",
       "      <td>1.0</td>\n",
       "    </tr>\n",
       "    <tr>\n",
       "      <th>17</th>\n",
       "      <td>2024-07-01</td>\n",
       "      <td>26561</td>\n",
       "      <td>classic black dresses for women</td>\n",
       "      <td>B07R55R5GN</td>\n",
       "      <td>1.0</td>\n",
       "    </tr>\n",
       "    <tr>\n",
       "      <th>18</th>\n",
       "      <td>2024-07-01</td>\n",
       "      <td>26561</td>\n",
       "      <td>classic black dresses for women</td>\n",
       "      <td>B07SR5215X</td>\n",
       "      <td>1.0</td>\n",
       "    </tr>\n",
       "    <tr>\n",
       "      <th>19</th>\n",
       "      <td>2024-07-01</td>\n",
       "      <td>26561</td>\n",
       "      <td>classic black dresses for women</td>\n",
       "      <td>B07TQG8MVJ</td>\n",
       "      <td>1.0</td>\n",
       "    </tr>\n",
       "  </tbody>\n",
       "</table>\n",
       "</div>"
      ],
      "text/plain": [
       "     datetime  query_id                            query    document  judgment\n",
       "0  2024-07-01      3885                 3d tree wall owl  B0797N6X4C       0.1\n",
       "1  2024-07-01      3885                 3d tree wall owl  B07W73XXQX       0.1\n",
       "2  2024-07-01      3885                 3d tree wall owl  B07TLKZT2Z       0.1\n",
       "3  2024-07-01      3885                 3d tree wall owl  B07YSCJSL3       1.0\n",
       "4  2024-07-01      3885                 3d tree wall owl  B07MDC94SD       0.1\n",
       "5  2024-07-01      3885                 3d tree wall owl  B07DLB4YKY       0.1\n",
       "6  2024-07-01      3885                 3d tree wall owl  B07BH3XQT2       1.0\n",
       "7  2024-07-01      3885                 3d tree wall owl  B075QGM8ZF       0.1\n",
       "8  2024-07-01      3885                 3d tree wall owl  B01E2Y7OZS       1.0\n",
       "9  2024-07-01      3885                 3d tree wall owl  B072DY7WJZ       0.1\n",
       "10 2024-07-01      3885                 3d tree wall owl  B06ZYX5KY2       0.1\n",
       "11 2024-07-01      3885                 3d tree wall owl  B01M5HFOEZ       1.0\n",
       "12 2024-07-01      3885                 3d tree wall owl  B01F9FXKOS       0.1\n",
       "13 2024-07-01      3885                 3d tree wall owl  B013NQ8XCE       0.1\n",
       "14 2024-07-01      3885                 3d tree wall owl  B00O7B7IO4       0.1\n",
       "15 2024-07-01      3885                 3d tree wall owl  B075KGYNZ2       0.1\n",
       "16 2024-07-01     26561  classic black dresses for women  B07QGWB3BZ       1.0\n",
       "17 2024-07-01     26561  classic black dresses for women  B07R55R5GN       1.0\n",
       "18 2024-07-01     26561  classic black dresses for women  B07SR5215X       1.0\n",
       "19 2024-07-01     26561  classic black dresses for women  B07TQG8MVJ       1.0"
      ]
     },
     "execution_count": 186,
     "metadata": {},
     "output_type": "execute_result"
    }
   ],
   "source": [
    "# Select judgments\n",
    "# Map esci_label to score\n",
    "# create judgments per day in range\n",
    "# create noise in score\n",
    "\n",
    "label_num = {\"E\": 0, \"S\": 1, \"C\": 2, \"I\": 3}\n",
    "label_score = [1, 0.1, 0.01, 0]\n",
    "label_p_noise = 0.1\n",
    "\n",
    "def label_noise(label):\n",
    "    index = label_num[label]\n",
    "    x = np.random.rand()\n",
    "    if x < label_p_noise:\n",
    "        index += 1 if x < label_p_noise / 2 else -1\n",
    "        index = np.clip(index, 0, 3)\n",
    "    return \"ESCI\"[index]\n",
    "\n",
    "def label_to_score(label):\n",
    "    return label_score[label_num[label]]\n",
    "\n",
    "\n",
    "# Create dataset for 7 days\n",
    "n_days = 7\n",
    "end_date = datetime(2024,7,1)\n",
    "\n",
    "dfs = []\n",
    "\n",
    "\n",
    "for x in range(n_days):\n",
    "    col_date = end_date - timedelta(days=x)\n",
    "    df_judge = df_examples[df_examples[\"query\"].isin(query_set)].copy()\n",
    "    df_judge[\"judgment\"] = df_judge.esci_label.apply(lambda x: label_to_score(label_noise(x)))\n",
    "    df_judge[\"document\"] = df_judge.product_id\n",
    "    df_judge[\"datetime\"] = col_date\n",
    "    dfs.append(df_judge[[\"datetime\", \"query_id\", \"query\", \"document\", \"judgment\"]])\n",
    "\n",
    "df_judge = pd.concat(dfs).reset_index(drop=True)\n",
    "df_judge.head(20)"
   ]
  },
  {
   "cell_type": "markdown",
   "id": "4ddc5684",
   "metadata": {},
   "source": [
    "## Fake Search Algorithms"
   ]
  },
  {
   "cell_type": "code",
   "execution_count": 233,
   "id": "382207c4",
   "metadata": {},
   "outputs": [
    {
     "data": {
      "text/html": [
       "<div>\n",
       "<style scoped>\n",
       "    .dataframe tbody tr th:only-of-type {\n",
       "        vertical-align: middle;\n",
       "    }\n",
       "\n",
       "    .dataframe tbody tr th {\n",
       "        vertical-align: top;\n",
       "    }\n",
       "\n",
       "    .dataframe thead th {\n",
       "        text-align: right;\n",
       "    }\n",
       "</style>\n",
       "<table border=\"1\" class=\"dataframe\">\n",
       "  <thead>\n",
       "    <tr style=\"text-align: right;\">\n",
       "      <th></th>\n",
       "      <th>datetime</th>\n",
       "      <th>query_id</th>\n",
       "      <th>query</th>\n",
       "      <th>document</th>\n",
       "      <th>judgment</th>\n",
       "      <th>keep</th>\n",
       "      <th>score</th>\n",
       "    </tr>\n",
       "  </thead>\n",
       "  <tbody>\n",
       "    <tr>\n",
       "      <th>0</th>\n",
       "      <td>2024-07-01</td>\n",
       "      <td>3885</td>\n",
       "      <td>3d tree wall owl</td>\n",
       "      <td>B0797N6X4C</td>\n",
       "      <td>0.1</td>\n",
       "      <td>False</td>\n",
       "      <td>0.000000</td>\n",
       "    </tr>\n",
       "    <tr>\n",
       "      <th>1</th>\n",
       "      <td>2024-07-01</td>\n",
       "      <td>3885</td>\n",
       "      <td>3d tree wall owl</td>\n",
       "      <td>B07W73XXQX</td>\n",
       "      <td>0.1</td>\n",
       "      <td>True</td>\n",
       "      <td>0.894531</td>\n",
       "    </tr>\n",
       "    <tr>\n",
       "      <th>2</th>\n",
       "      <td>2024-07-01</td>\n",
       "      <td>3885</td>\n",
       "      <td>3d tree wall owl</td>\n",
       "      <td>B07TLKZT2Z</td>\n",
       "      <td>0.1</td>\n",
       "      <td>False</td>\n",
       "      <td>0.000000</td>\n",
       "    </tr>\n",
       "    <tr>\n",
       "      <th>3</th>\n",
       "      <td>2024-07-01</td>\n",
       "      <td>3885</td>\n",
       "      <td>3d tree wall owl</td>\n",
       "      <td>B07YSCJSL3</td>\n",
       "      <td>1.0</td>\n",
       "      <td>False</td>\n",
       "      <td>0.000000</td>\n",
       "    </tr>\n",
       "    <tr>\n",
       "      <th>4</th>\n",
       "      <td>2024-07-01</td>\n",
       "      <td>3885</td>\n",
       "      <td>3d tree wall owl</td>\n",
       "      <td>B07MDC94SD</td>\n",
       "      <td>0.1</td>\n",
       "      <td>False</td>\n",
       "      <td>0.000000</td>\n",
       "    </tr>\n",
       "    <tr>\n",
       "      <th>5</th>\n",
       "      <td>2024-07-01</td>\n",
       "      <td>3885</td>\n",
       "      <td>3d tree wall owl</td>\n",
       "      <td>B07DLB4YKY</td>\n",
       "      <td>0.1</td>\n",
       "      <td>False</td>\n",
       "      <td>0.000000</td>\n",
       "    </tr>\n",
       "    <tr>\n",
       "      <th>6</th>\n",
       "      <td>2024-07-01</td>\n",
       "      <td>3885</td>\n",
       "      <td>3d tree wall owl</td>\n",
       "      <td>B07BH3XQT2</td>\n",
       "      <td>1.0</td>\n",
       "      <td>False</td>\n",
       "      <td>0.000000</td>\n",
       "    </tr>\n",
       "    <tr>\n",
       "      <th>7</th>\n",
       "      <td>2024-07-01</td>\n",
       "      <td>3885</td>\n",
       "      <td>3d tree wall owl</td>\n",
       "      <td>B075QGM8ZF</td>\n",
       "      <td>0.1</td>\n",
       "      <td>False</td>\n",
       "      <td>0.000000</td>\n",
       "    </tr>\n",
       "    <tr>\n",
       "      <th>8</th>\n",
       "      <td>2024-07-01</td>\n",
       "      <td>3885</td>\n",
       "      <td>3d tree wall owl</td>\n",
       "      <td>B01E2Y7OZS</td>\n",
       "      <td>1.0</td>\n",
       "      <td>False</td>\n",
       "      <td>0.000000</td>\n",
       "    </tr>\n",
       "    <tr>\n",
       "      <th>9</th>\n",
       "      <td>2024-07-01</td>\n",
       "      <td>3885</td>\n",
       "      <td>3d tree wall owl</td>\n",
       "      <td>B072DY7WJZ</td>\n",
       "      <td>0.1</td>\n",
       "      <td>False</td>\n",
       "      <td>0.000000</td>\n",
       "    </tr>\n",
       "    <tr>\n",
       "      <th>10</th>\n",
       "      <td>2024-07-01</td>\n",
       "      <td>3885</td>\n",
       "      <td>3d tree wall owl</td>\n",
       "      <td>B06ZYX5KY2</td>\n",
       "      <td>0.1</td>\n",
       "      <td>False</td>\n",
       "      <td>0.000000</td>\n",
       "    </tr>\n",
       "    <tr>\n",
       "      <th>11</th>\n",
       "      <td>2024-07-01</td>\n",
       "      <td>3885</td>\n",
       "      <td>3d tree wall owl</td>\n",
       "      <td>B01M5HFOEZ</td>\n",
       "      <td>1.0</td>\n",
       "      <td>False</td>\n",
       "      <td>0.000000</td>\n",
       "    </tr>\n",
       "    <tr>\n",
       "      <th>12</th>\n",
       "      <td>2024-07-01</td>\n",
       "      <td>3885</td>\n",
       "      <td>3d tree wall owl</td>\n",
       "      <td>B01F9FXKOS</td>\n",
       "      <td>0.1</td>\n",
       "      <td>False</td>\n",
       "      <td>0.000000</td>\n",
       "    </tr>\n",
       "    <tr>\n",
       "      <th>13</th>\n",
       "      <td>2024-07-01</td>\n",
       "      <td>3885</td>\n",
       "      <td>3d tree wall owl</td>\n",
       "      <td>B013NQ8XCE</td>\n",
       "      <td>0.1</td>\n",
       "      <td>False</td>\n",
       "      <td>0.000000</td>\n",
       "    </tr>\n",
       "    <tr>\n",
       "      <th>14</th>\n",
       "      <td>2024-07-01</td>\n",
       "      <td>3885</td>\n",
       "      <td>3d tree wall owl</td>\n",
       "      <td>B00O7B7IO4</td>\n",
       "      <td>0.1</td>\n",
       "      <td>True</td>\n",
       "      <td>0.765625</td>\n",
       "    </tr>\n",
       "    <tr>\n",
       "      <th>15</th>\n",
       "      <td>2024-07-01</td>\n",
       "      <td>3885</td>\n",
       "      <td>3d tree wall owl</td>\n",
       "      <td>B075KGYNZ2</td>\n",
       "      <td>0.1</td>\n",
       "      <td>False</td>\n",
       "      <td>0.000000</td>\n",
       "    </tr>\n",
       "    <tr>\n",
       "      <th>16</th>\n",
       "      <td>2024-07-01</td>\n",
       "      <td>26561</td>\n",
       "      <td>classic black dresses for women</td>\n",
       "      <td>B07QGWB3BZ</td>\n",
       "      <td>1.0</td>\n",
       "      <td>True</td>\n",
       "      <td>0.910156</td>\n",
       "    </tr>\n",
       "    <tr>\n",
       "      <th>17</th>\n",
       "      <td>2024-07-01</td>\n",
       "      <td>26561</td>\n",
       "      <td>classic black dresses for women</td>\n",
       "      <td>B07R55R5GN</td>\n",
       "      <td>1.0</td>\n",
       "      <td>True</td>\n",
       "      <td>0.734375</td>\n",
       "    </tr>\n",
       "    <tr>\n",
       "      <th>18</th>\n",
       "      <td>2024-07-01</td>\n",
       "      <td>26561</td>\n",
       "      <td>classic black dresses for women</td>\n",
       "      <td>B07SR5215X</td>\n",
       "      <td>1.0</td>\n",
       "      <td>False</td>\n",
       "      <td>0.000000</td>\n",
       "    </tr>\n",
       "    <tr>\n",
       "      <th>19</th>\n",
       "      <td>2024-07-01</td>\n",
       "      <td>26561</td>\n",
       "      <td>classic black dresses for women</td>\n",
       "      <td>B07TQG8MVJ</td>\n",
       "      <td>1.0</td>\n",
       "      <td>True</td>\n",
       "      <td>0.734375</td>\n",
       "    </tr>\n",
       "  </tbody>\n",
       "</table>\n",
       "</div>"
      ],
      "text/plain": [
       "     datetime  query_id                            query    document  \\\n",
       "0  2024-07-01      3885                 3d tree wall owl  B0797N6X4C   \n",
       "1  2024-07-01      3885                 3d tree wall owl  B07W73XXQX   \n",
       "2  2024-07-01      3885                 3d tree wall owl  B07TLKZT2Z   \n",
       "3  2024-07-01      3885                 3d tree wall owl  B07YSCJSL3   \n",
       "4  2024-07-01      3885                 3d tree wall owl  B07MDC94SD   \n",
       "5  2024-07-01      3885                 3d tree wall owl  B07DLB4YKY   \n",
       "6  2024-07-01      3885                 3d tree wall owl  B07BH3XQT2   \n",
       "7  2024-07-01      3885                 3d tree wall owl  B075QGM8ZF   \n",
       "8  2024-07-01      3885                 3d tree wall owl  B01E2Y7OZS   \n",
       "9  2024-07-01      3885                 3d tree wall owl  B072DY7WJZ   \n",
       "10 2024-07-01      3885                 3d tree wall owl  B06ZYX5KY2   \n",
       "11 2024-07-01      3885                 3d tree wall owl  B01M5HFOEZ   \n",
       "12 2024-07-01      3885                 3d tree wall owl  B01F9FXKOS   \n",
       "13 2024-07-01      3885                 3d tree wall owl  B013NQ8XCE   \n",
       "14 2024-07-01      3885                 3d tree wall owl  B00O7B7IO4   \n",
       "15 2024-07-01      3885                 3d tree wall owl  B075KGYNZ2   \n",
       "16 2024-07-01     26561  classic black dresses for women  B07QGWB3BZ   \n",
       "17 2024-07-01     26561  classic black dresses for women  B07R55R5GN   \n",
       "18 2024-07-01     26561  classic black dresses for women  B07SR5215X   \n",
       "19 2024-07-01     26561  classic black dresses for women  B07TQG8MVJ   \n",
       "\n",
       "    judgment   keep     score  \n",
       "0        0.1  False  0.000000  \n",
       "1        0.1   True  0.894531  \n",
       "2        0.1  False  0.000000  \n",
       "3        1.0  False  0.000000  \n",
       "4        0.1  False  0.000000  \n",
       "5        0.1  False  0.000000  \n",
       "6        1.0  False  0.000000  \n",
       "7        0.1  False  0.000000  \n",
       "8        1.0  False  0.000000  \n",
       "9        0.1  False  0.000000  \n",
       "10       0.1  False  0.000000  \n",
       "11       1.0  False  0.000000  \n",
       "12       0.1  False  0.000000  \n",
       "13       0.1  False  0.000000  \n",
       "14       0.1   True  0.765625  \n",
       "15       0.1  False  0.000000  \n",
       "16       1.0   True  0.910156  \n",
       "17       1.0   True  0.734375  \n",
       "18       1.0  False  0.000000  \n",
       "19       1.0   True  0.734375  "
      ]
     },
     "execution_count": 233,
     "metadata": {},
     "output_type": "execute_result"
    }
   ],
   "source": [
    "import hashlib\n",
    "\n",
    "def digest_str(s):\n",
    "    m = hashlib.sha256()\n",
    "    m.update(str.encode(s))\n",
    "    return float(m.digest()[0]) / 256\n",
    "\n",
    "class DropAndTopSearch:\n",
    "    \"\"\"\n",
    "    Randomly drops documents from judgments and returns scores for kept documents.\n",
    "    Emulates selecting some documents presents in judgments and showing them in top positions.\n",
    "    \"\"\"\n",
    "    def __init__(self, name, p_keep):\n",
    "        self.name = name\n",
    "        self.p_keep = p_keep\n",
    "    def run_search(self, df_judgment):\n",
    "        \"\"\"\n",
    "        inputs\n",
    "          df_judgment: query results dataframe for a single query,\n",
    "            it contains the columns `query`, `document`.\n",
    "            \n",
    "        returns additional columns\n",
    "          keep: whether the document is returned as part of the search\n",
    "          score: what is the score by which the document is ranked\n",
    "        \"\"\"\n",
    "        seed = df_judgment[\"query\"] + df_judgment.document + self.name\n",
    "        num = seed.apply(digest_str)\n",
    "        df_judgment = df_judgment.copy()\n",
    "        df_judgment[\"keep\"] = num < self.p_keep\n",
    "        df_judgment[\"score\"] = np.where(num < self.p_keep, 1-num, 0)\n",
    "        return df_judgment\n",
    "\n",
    "ts1 = DropAndTopSearch(\"research_1\", 0.1)\n",
    "ts2 = DropAndTopSearch(\"research_2\", 0.3)\n",
    "ts3 = DropAndTopSearch(\"baseline\", 0.3)\n",
    "ts4 = DropAndTopSearch(\"challenger_1\", 0.4)\n",
    "\n",
    "search_configs = [ts1, ts2, ts3, ts4]\n",
    "\n",
    "ts2.run_search(df_judge).head(20)"
   ]
  },
  {
   "cell_type": "markdown",
   "id": "534c3cfc",
   "metadata": {},
   "source": [
    "## Metrics"
   ]
  },
  {
   "cell_type": "markdown",
   "id": "400896e3",
   "metadata": {},
   "source": [
    "### Metrics definitions\n",
    "\n",
    "Metrics evaluate the performance of a search configuration\n",
    "To this purpose, they receive a dataframe that contains a search result per row\n",
    "Metrics functions expect the following columns:\n",
    " * keep: whether the result is kept by the search config under evaluation\n",
    " * score: the score given to the search result (higher is better)\n",
    " * judgment: the judgment value for that row\n"
   ]
  },
  {
   "cell_type": "code",
   "execution_count": 242,
   "id": "06ab7005",
   "metadata": {},
   "outputs": [],
   "source": [
    "def dcg(df, sorting_col=\"score\", mask=\"keep\"):\n",
    "    df = df.sort_values(sorting_col, ascending=False)\n",
    "    positions = np.arange(df.query_id.size) + 1\n",
    "    dcgs = (2 ** df.judgment - 1) / np.log2(positions+1)\n",
    "    dcgs = dcgs * df[mask] if mask else dcgs\n",
    "    return np.sum(dcgs)\n",
    "\n",
    "def ndcg(df):\n",
    "    return dcg(df) / dcg(df, \"judgment\", None)\n",
    "\n",
    "def precision(df, k):\n",
    "    df = df.sort_values(\"score\", ascending=False)\n",
    "    return (df.judgment * df.keep).head(k).sum() / k\n",
    "\n",
    "def jaccard(df):\n",
    "    return (df.keep&df.ref_keep).sum() / (df.keep|df.ref_keep).sum()\n",
    "\n",
    "metrics = [\n",
    "    (\"dcg\", dcg, None),\n",
    "    (\"ndcg\", ndcg, None),\n",
    "    (\"prec@1\", lambda x: precision(x, 1), None),\n",
    "    (\"jaccard\", jaccard, ts3),\n",
    "]"
   ]
  },
  {
   "cell_type": "markdown",
   "id": "0add38d2",
   "metadata": {},
   "source": [
    "### Metrics Calculation\n",
    "\n",
    "Nested loop over:\n",
    " * Search configurations\n",
    " * Metrics\n",
    " * Judgments dataset (grouped by date and query)"
   ]
  },
  {
   "cell_type": "code",
   "execution_count": 246,
   "id": "9767575f",
   "metadata": {
    "scrolled": false
   },
   "outputs": [],
   "source": [
    "df_metrics = []\n",
    "\n",
    "for search in search_configs:\n",
    "    for m_name, m_function, ref_search in metrics:\n",
    "        for (dt, q_id, query), df_sq in df_judge.groupby([\"datetime\", \"query_id\", \"query\"]):\n",
    "            ranked_df_sq = search.run_search(df_sq)\n",
    "            if ref_search:\n",
    "                ref_ranked_df_sq = ref_search.run_search(df_sq)\n",
    "                ranked_df_sq[\"ref_keep\"] = ref_ranked_df_sq.keep\n",
    "                ranked_df_sq[\"ref_score\"] = ref_ranked_df_sq.score\n",
    "            metric = m_function(ranked_df_sq)\n",
    "            df_metrics.append(pd.DataFrame({\n",
    "                \"datetime\": [dt],\n",
    "                \"search_config\": [search.name],\n",
    "                \"query_id\": [q_id],\n",
    "                \"query\": [query],\n",
    "                \"metric\": [m_name],\n",
    "                \"value\": [metric],\n",
    "            }))\n",
    "df_metrics = pd.concat(df_metrics)"
   ]
  },
  {
   "cell_type": "markdown",
   "id": "85b3058a",
   "metadata": {},
   "source": [
    "### Metrics dataset\n",
    "\n",
    "The metrics dataset contains the result of evaluating a search config on judgments.\n",
    "Each row contains the evaluation of a search config on a query on a given metric.\n",
    "\n",
    "It contains the following fields:\n",
    " * datetime: the date and time of the judgment\n",
    " * search_config: search config under evaluation\n",
    " * query_id: query_id from which judgment was derived\n",
    " * query: query from which judgment was derived\n",
    " * metric: name of metric used for evaluation\n",
    " * value: evaluation result"
   ]
  },
  {
   "cell_type": "code",
   "execution_count": 248,
   "id": "45a3cd33",
   "metadata": {},
   "outputs": [
    {
     "data": {
      "text/html": [
       "<div>\n",
       "<style scoped>\n",
       "    .dataframe tbody tr th:only-of-type {\n",
       "        vertical-align: middle;\n",
       "    }\n",
       "\n",
       "    .dataframe tbody tr th {\n",
       "        vertical-align: top;\n",
       "    }\n",
       "\n",
       "    .dataframe thead th {\n",
       "        text-align: right;\n",
       "    }\n",
       "</style>\n",
       "<table border=\"1\" class=\"dataframe\">\n",
       "  <thead>\n",
       "    <tr style=\"text-align: right;\">\n",
       "      <th></th>\n",
       "      <th>datetime</th>\n",
       "      <th>search_config</th>\n",
       "      <th>query_id</th>\n",
       "      <th>query</th>\n",
       "      <th>metric</th>\n",
       "      <th>value</th>\n",
       "    </tr>\n",
       "  </thead>\n",
       "  <tbody>\n",
       "    <tr>\n",
       "      <th>0</th>\n",
       "      <td>2024-06-25</td>\n",
       "      <td>challenger_1</td>\n",
       "      <td>63476</td>\n",
       "      <td>long johns for men</td>\n",
       "      <td>jaccard</td>\n",
       "      <td>0.125000</td>\n",
       "    </tr>\n",
       "    <tr>\n",
       "      <th>0</th>\n",
       "      <td>2024-06-28</td>\n",
       "      <td>challenger_1</td>\n",
       "      <td>66671</td>\n",
       "      <td>mct oil capsules</td>\n",
       "      <td>jaccard</td>\n",
       "      <td>0.250000</td>\n",
       "    </tr>\n",
       "    <tr>\n",
       "      <th>0</th>\n",
       "      <td>2024-06-26</td>\n",
       "      <td>research_2</td>\n",
       "      <td>61683</td>\n",
       "      <td>level tools</td>\n",
       "      <td>ndcg</td>\n",
       "      <td>0.435728</td>\n",
       "    </tr>\n",
       "    <tr>\n",
       "      <th>0</th>\n",
       "      <td>2024-06-30</td>\n",
       "      <td>challenger_1</td>\n",
       "      <td>26561</td>\n",
       "      <td>classic black dresses for women</td>\n",
       "      <td>dcg</td>\n",
       "      <td>5.123781</td>\n",
       "    </tr>\n",
       "    <tr>\n",
       "      <th>0</th>\n",
       "      <td>2024-06-30</td>\n",
       "      <td>research_1</td>\n",
       "      <td>30507</td>\n",
       "      <td>cuadro para oficina</td>\n",
       "      <td>jaccard</td>\n",
       "      <td>0.000000</td>\n",
       "    </tr>\n",
       "    <tr>\n",
       "      <th>0</th>\n",
       "      <td>2024-06-30</td>\n",
       "      <td>research_1</td>\n",
       "      <td>48936</td>\n",
       "      <td>handlebars</td>\n",
       "      <td>prec@1</td>\n",
       "      <td>1.000000</td>\n",
       "    </tr>\n",
       "    <tr>\n",
       "      <th>0</th>\n",
       "      <td>2024-07-01</td>\n",
       "      <td>research_1</td>\n",
       "      <td>104600</td>\n",
       "      <td>toyota white touch up</td>\n",
       "      <td>jaccard</td>\n",
       "      <td>0.176471</td>\n",
       "    </tr>\n",
       "    <tr>\n",
       "      <th>0</th>\n",
       "      <td>2024-06-30</td>\n",
       "      <td>research_2</td>\n",
       "      <td>32916</td>\n",
       "      <td>diabetic massager</td>\n",
       "      <td>jaccard</td>\n",
       "      <td>0.181818</td>\n",
       "    </tr>\n",
       "    <tr>\n",
       "      <th>0</th>\n",
       "      <td>2024-06-26</td>\n",
       "      <td>challenger_1</td>\n",
       "      <td>61683</td>\n",
       "      <td>level tools</td>\n",
       "      <td>prec@1</td>\n",
       "      <td>1.000000</td>\n",
       "    </tr>\n",
       "    <tr>\n",
       "      <th>0</th>\n",
       "      <td>2024-06-30</td>\n",
       "      <td>research_2</td>\n",
       "      <td>63476</td>\n",
       "      <td>long johns for men</td>\n",
       "      <td>jaccard</td>\n",
       "      <td>0.125000</td>\n",
       "    </tr>\n",
       "  </tbody>\n",
       "</table>\n",
       "</div>"
      ],
      "text/plain": [
       "    datetime search_config  query_id                            query  \\\n",
       "0 2024-06-25  challenger_1     63476               long johns for men   \n",
       "0 2024-06-28  challenger_1     66671                 mct oil capsules   \n",
       "0 2024-06-26    research_2     61683                      level tools   \n",
       "0 2024-06-30  challenger_1     26561  classic black dresses for women   \n",
       "0 2024-06-30    research_1     30507              cuadro para oficina   \n",
       "0 2024-06-30    research_1     48936                       handlebars   \n",
       "0 2024-07-01    research_1    104600            toyota white touch up   \n",
       "0 2024-06-30    research_2     32916                diabetic massager   \n",
       "0 2024-06-26  challenger_1     61683                      level tools   \n",
       "0 2024-06-30    research_2     63476               long johns for men   \n",
       "\n",
       "    metric     value  \n",
       "0  jaccard  0.125000  \n",
       "0  jaccard  0.250000  \n",
       "0     ndcg  0.435728  \n",
       "0      dcg  5.123781  \n",
       "0  jaccard  0.000000  \n",
       "0   prec@1  1.000000  \n",
       "0  jaccard  0.176471  \n",
       "0  jaccard  0.181818  \n",
       "0   prec@1  1.000000  \n",
       "0  jaccard  0.125000  "
      ]
     },
     "execution_count": 248,
     "metadata": {},
     "output_type": "execute_result"
    }
   ],
   "source": [
    "df_metrics.sample(10)"
   ]
  },
  {
   "cell_type": "code",
   "execution_count": 240,
   "id": "a24b3578",
   "metadata": {},
   "outputs": [
    {
     "data": {
      "text/html": [
       "<div>\n",
       "<style scoped>\n",
       "    .dataframe tbody tr th:only-of-type {\n",
       "        vertical-align: middle;\n",
       "    }\n",
       "\n",
       "    .dataframe tbody tr th {\n",
       "        vertical-align: top;\n",
       "    }\n",
       "\n",
       "    .dataframe thead th {\n",
       "        text-align: right;\n",
       "    }\n",
       "</style>\n",
       "<table border=\"1\" class=\"dataframe\">\n",
       "  <thead>\n",
       "    <tr style=\"text-align: right;\">\n",
       "      <th></th>\n",
       "      <th></th>\n",
       "      <th>value</th>\n",
       "    </tr>\n",
       "    <tr>\n",
       "      <th>search_config</th>\n",
       "      <th>metric</th>\n",
       "      <th></th>\n",
       "    </tr>\n",
       "  </thead>\n",
       "  <tbody>\n",
       "    <tr>\n",
       "      <th rowspan=\"4\" valign=\"top\">baseline</th>\n",
       "      <th>dcg</th>\n",
       "      <td>2.590198</td>\n",
       "    </tr>\n",
       "    <tr>\n",
       "      <th>jaccard</th>\n",
       "      <td>1.000000</td>\n",
       "    </tr>\n",
       "    <tr>\n",
       "      <th>ndcg</th>\n",
       "      <td>0.411534</td>\n",
       "    </tr>\n",
       "    <tr>\n",
       "      <th>prec@1</th>\n",
       "      <td>0.790071</td>\n",
       "    </tr>\n",
       "    <tr>\n",
       "      <th rowspan=\"4\" valign=\"top\">challenger_1</th>\n",
       "      <th>dcg</th>\n",
       "      <td>3.175085</td>\n",
       "    </tr>\n",
       "    <tr>\n",
       "      <th>jaccard</th>\n",
       "      <td>0.224918</td>\n",
       "    </tr>\n",
       "    <tr>\n",
       "      <th>ndcg</th>\n",
       "      <td>0.504038</td>\n",
       "    </tr>\n",
       "    <tr>\n",
       "      <th>prec@1</th>\n",
       "      <td>0.774071</td>\n",
       "    </tr>\n",
       "    <tr>\n",
       "      <th rowspan=\"4\" valign=\"top\">research_1</th>\n",
       "      <th>dcg</th>\n",
       "      <td>1.156757</td>\n",
       "    </tr>\n",
       "    <tr>\n",
       "      <th>jaccard</th>\n",
       "      <td>0.066443</td>\n",
       "    </tr>\n",
       "    <tr>\n",
       "      <th>ndcg</th>\n",
       "      <td>0.181782</td>\n",
       "    </tr>\n",
       "    <tr>\n",
       "      <th>prec@1</th>\n",
       "      <td>0.643786</td>\n",
       "    </tr>\n",
       "    <tr>\n",
       "      <th rowspan=\"4\" valign=\"top\">research_2</th>\n",
       "      <th>dcg</th>\n",
       "      <td>2.726661</td>\n",
       "    </tr>\n",
       "    <tr>\n",
       "      <th>jaccard</th>\n",
       "      <td>0.173595</td>\n",
       "    </tr>\n",
       "    <tr>\n",
       "      <th>ndcg</th>\n",
       "      <td>0.428034</td>\n",
       "    </tr>\n",
       "    <tr>\n",
       "      <th>prec@1</th>\n",
       "      <td>0.772000</td>\n",
       "    </tr>\n",
       "  </tbody>\n",
       "</table>\n",
       "</div>"
      ],
      "text/plain": [
       "                          value\n",
       "search_config metric           \n",
       "baseline      dcg      2.590198\n",
       "              jaccard  1.000000\n",
       "              ndcg     0.411534\n",
       "              prec@1   0.790071\n",
       "challenger_1  dcg      3.175085\n",
       "              jaccard  0.224918\n",
       "              ndcg     0.504038\n",
       "              prec@1   0.774071\n",
       "research_1    dcg      1.156757\n",
       "              jaccard  0.066443\n",
       "              ndcg     0.181782\n",
       "              prec@1   0.643786\n",
       "research_2    dcg      2.726661\n",
       "              jaccard  0.173595\n",
       "              ndcg     0.428034\n",
       "              prec@1   0.772000"
      ]
     },
     "execution_count": 240,
     "metadata": {},
     "output_type": "execute_result"
    }
   ],
   "source": [
    "df_metrics[[\"search_config\", \"metric\", \"value\"]].groupby([\"search_config\", \"metric\"]).mean()"
   ]
  },
  {
   "cell_type": "code",
   "execution_count": 260,
   "id": "e0ffa430",
   "metadata": {},
   "outputs": [
    {
     "data": {
      "text/html": [
       "<div>\n",
       "<style scoped>\n",
       "    .dataframe tbody tr th:only-of-type {\n",
       "        vertical-align: middle;\n",
       "    }\n",
       "\n",
       "    .dataframe tbody tr th {\n",
       "        vertical-align: top;\n",
       "    }\n",
       "\n",
       "    .dataframe thead th {\n",
       "        text-align: right;\n",
       "    }\n",
       "</style>\n",
       "<table border=\"1\" class=\"dataframe\">\n",
       "  <thead>\n",
       "    <tr style=\"text-align: right;\">\n",
       "      <th></th>\n",
       "      <th></th>\n",
       "      <th></th>\n",
       "      <th>value</th>\n",
       "    </tr>\n",
       "    <tr>\n",
       "      <th>search_config</th>\n",
       "      <th>metric</th>\n",
       "      <th>datetime</th>\n",
       "      <th></th>\n",
       "    </tr>\n",
       "  </thead>\n",
       "  <tbody>\n",
       "    <tr>\n",
       "      <th rowspan=\"5\" valign=\"top\">baseline</th>\n",
       "      <th rowspan=\"5\" valign=\"top\">dcg</th>\n",
       "      <th>2024-06-25</th>\n",
       "      <td>2.523220</td>\n",
       "    </tr>\n",
       "    <tr>\n",
       "      <th>2024-06-26</th>\n",
       "      <td>2.548838</td>\n",
       "    </tr>\n",
       "    <tr>\n",
       "      <th>2024-06-27</th>\n",
       "      <td>2.679400</td>\n",
       "    </tr>\n",
       "    <tr>\n",
       "      <th>2024-06-28</th>\n",
       "      <td>2.593999</td>\n",
       "    </tr>\n",
       "    <tr>\n",
       "      <th>2024-06-29</th>\n",
       "      <td>2.578848</td>\n",
       "    </tr>\n",
       "    <tr>\n",
       "      <th>...</th>\n",
       "      <th>...</th>\n",
       "      <th>...</th>\n",
       "      <td>...</td>\n",
       "    </tr>\n",
       "    <tr>\n",
       "      <th rowspan=\"5\" valign=\"top\">research_2</th>\n",
       "      <th rowspan=\"5\" valign=\"top\">prec@1</th>\n",
       "      <th>2024-06-27</th>\n",
       "      <td>0.765500</td>\n",
       "    </tr>\n",
       "    <tr>\n",
       "      <th>2024-06-28</th>\n",
       "      <td>0.725000</td>\n",
       "    </tr>\n",
       "    <tr>\n",
       "      <th>2024-06-29</th>\n",
       "      <td>0.810500</td>\n",
       "    </tr>\n",
       "    <tr>\n",
       "      <th>2024-06-30</th>\n",
       "      <td>0.765500</td>\n",
       "    </tr>\n",
       "    <tr>\n",
       "      <th>2024-07-01</th>\n",
       "      <td>0.761500</td>\n",
       "    </tr>\n",
       "  </tbody>\n",
       "</table>\n",
       "<p>112 rows × 1 columns</p>\n",
       "</div>"
      ],
      "text/plain": [
       "                                    value\n",
       "search_config metric datetime            \n",
       "baseline      dcg    2024-06-25  2.523220\n",
       "                     2024-06-26  2.548838\n",
       "                     2024-06-27  2.679400\n",
       "                     2024-06-28  2.593999\n",
       "                     2024-06-29  2.578848\n",
       "...                                   ...\n",
       "research_2    prec@1 2024-06-27  0.765500\n",
       "                     2024-06-28  0.725000\n",
       "                     2024-06-29  0.810500\n",
       "                     2024-06-30  0.765500\n",
       "                     2024-07-01  0.761500\n",
       "\n",
       "[112 rows x 1 columns]"
      ]
     },
     "execution_count": 260,
     "metadata": {},
     "output_type": "execute_result"
    }
   ],
   "source": [
    "df_metrics[[\"search_config\", \"metric\", \"value\", \"datetime\"]].groupby([\"search_config\", \"metric\", \"datetime\"]).mean()"
   ]
  },
  {
   "cell_type": "markdown",
   "id": "41183201",
   "metadata": {},
   "source": [
    "# Visualizations"
   ]
  },
  {
   "cell_type": "markdown",
   "id": "edc04b09",
   "metadata": {},
   "source": [
    "## Visualization of single configuration"
   ]
  },
  {
   "cell_type": "code",
   "execution_count": 269,
   "id": "976437b2",
   "metadata": {},
   "outputs": [
    {
     "data": {
      "application/vnd.plotly.v1+json": {
       "config": {
        "plotlyServerURL": "https://plot.ly"
       },
       "data": [
        {
         "hovertemplate": "metric=jaccard<br>datetime=%{x}<br>value=%{y}<extra></extra>",
         "legendgroup": "jaccard",
         "line": {
          "color": "#636efa",
          "dash": "solid"
         },
         "marker": {
          "symbol": "circle"
         },
         "mode": "lines",
         "name": "jaccard",
         "orientation": "v",
         "showlegend": true,
         "type": "scatter",
         "x": [
          "2024-06-25T00:00:00",
          "2024-06-26T00:00:00",
          "2024-06-27T00:00:00",
          "2024-06-28T00:00:00",
          "2024-06-29T00:00:00",
          "2024-06-30T00:00:00",
          "2024-07-01T00:00:00"
         ],
         "xaxis": "x",
         "y": [
          0.06644257703081233,
          0.06644257703081233,
          0.06644257703081233,
          0.06644257703081233,
          0.06644257703081233,
          0.06644257703081233,
          0.06644257703081233
         ],
         "yaxis": "y"
        },
        {
         "hovertemplate": "metric=prec@1<br>datetime=%{x}<br>value=%{y}<extra></extra>",
         "legendgroup": "prec@1",
         "line": {
          "color": "#EF553B",
          "dash": "solid"
         },
         "marker": {
          "symbol": "circle"
         },
         "mode": "lines",
         "name": "prec@1",
         "orientation": "v",
         "showlegend": true,
         "type": "scatter",
         "x": [
          "2024-06-25T00:00:00",
          "2024-06-26T00:00:00",
          "2024-06-27T00:00:00",
          "2024-06-28T00:00:00",
          "2024-06-29T00:00:00",
          "2024-06-30T00:00:00",
          "2024-07-01T00:00:00"
         ],
         "xaxis": "x",
         "y": [
          0.6605000000000001,
          0.665,
          0.7055,
          0.62,
          0.6155,
          0.62,
          0.62
         ],
         "yaxis": "y"
        }
       ],
       "layout": {
        "legend": {
         "title": {
          "text": "metric"
         },
         "tracegroupgap": 0
        },
        "margin": {
         "t": 60
        },
        "template": {
         "data": {
          "bar": [
           {
            "error_x": {
             "color": "#2a3f5f"
            },
            "error_y": {
             "color": "#2a3f5f"
            },
            "marker": {
             "line": {
              "color": "#E5ECF6",
              "width": 0.5
             },
             "pattern": {
              "fillmode": "overlay",
              "size": 10,
              "solidity": 0.2
             }
            },
            "type": "bar"
           }
          ],
          "barpolar": [
           {
            "marker": {
             "line": {
              "color": "#E5ECF6",
              "width": 0.5
             },
             "pattern": {
              "fillmode": "overlay",
              "size": 10,
              "solidity": 0.2
             }
            },
            "type": "barpolar"
           }
          ],
          "carpet": [
           {
            "aaxis": {
             "endlinecolor": "#2a3f5f",
             "gridcolor": "white",
             "linecolor": "white",
             "minorgridcolor": "white",
             "startlinecolor": "#2a3f5f"
            },
            "baxis": {
             "endlinecolor": "#2a3f5f",
             "gridcolor": "white",
             "linecolor": "white",
             "minorgridcolor": "white",
             "startlinecolor": "#2a3f5f"
            },
            "type": "carpet"
           }
          ],
          "choropleth": [
           {
            "colorbar": {
             "outlinewidth": 0,
             "ticks": ""
            },
            "type": "choropleth"
           }
          ],
          "contour": [
           {
            "colorbar": {
             "outlinewidth": 0,
             "ticks": ""
            },
            "colorscale": [
             [
              0,
              "#0d0887"
             ],
             [
              0.1111111111111111,
              "#46039f"
             ],
             [
              0.2222222222222222,
              "#7201a8"
             ],
             [
              0.3333333333333333,
              "#9c179e"
             ],
             [
              0.4444444444444444,
              "#bd3786"
             ],
             [
              0.5555555555555556,
              "#d8576b"
             ],
             [
              0.6666666666666666,
              "#ed7953"
             ],
             [
              0.7777777777777778,
              "#fb9f3a"
             ],
             [
              0.8888888888888888,
              "#fdca26"
             ],
             [
              1,
              "#f0f921"
             ]
            ],
            "type": "contour"
           }
          ],
          "contourcarpet": [
           {
            "colorbar": {
             "outlinewidth": 0,
             "ticks": ""
            },
            "type": "contourcarpet"
           }
          ],
          "heatmap": [
           {
            "colorbar": {
             "outlinewidth": 0,
             "ticks": ""
            },
            "colorscale": [
             [
              0,
              "#0d0887"
             ],
             [
              0.1111111111111111,
              "#46039f"
             ],
             [
              0.2222222222222222,
              "#7201a8"
             ],
             [
              0.3333333333333333,
              "#9c179e"
             ],
             [
              0.4444444444444444,
              "#bd3786"
             ],
             [
              0.5555555555555556,
              "#d8576b"
             ],
             [
              0.6666666666666666,
              "#ed7953"
             ],
             [
              0.7777777777777778,
              "#fb9f3a"
             ],
             [
              0.8888888888888888,
              "#fdca26"
             ],
             [
              1,
              "#f0f921"
             ]
            ],
            "type": "heatmap"
           }
          ],
          "heatmapgl": [
           {
            "colorbar": {
             "outlinewidth": 0,
             "ticks": ""
            },
            "colorscale": [
             [
              0,
              "#0d0887"
             ],
             [
              0.1111111111111111,
              "#46039f"
             ],
             [
              0.2222222222222222,
              "#7201a8"
             ],
             [
              0.3333333333333333,
              "#9c179e"
             ],
             [
              0.4444444444444444,
              "#bd3786"
             ],
             [
              0.5555555555555556,
              "#d8576b"
             ],
             [
              0.6666666666666666,
              "#ed7953"
             ],
             [
              0.7777777777777778,
              "#fb9f3a"
             ],
             [
              0.8888888888888888,
              "#fdca26"
             ],
             [
              1,
              "#f0f921"
             ]
            ],
            "type": "heatmapgl"
           }
          ],
          "histogram": [
           {
            "marker": {
             "pattern": {
              "fillmode": "overlay",
              "size": 10,
              "solidity": 0.2
             }
            },
            "type": "histogram"
           }
          ],
          "histogram2d": [
           {
            "colorbar": {
             "outlinewidth": 0,
             "ticks": ""
            },
            "colorscale": [
             [
              0,
              "#0d0887"
             ],
             [
              0.1111111111111111,
              "#46039f"
             ],
             [
              0.2222222222222222,
              "#7201a8"
             ],
             [
              0.3333333333333333,
              "#9c179e"
             ],
             [
              0.4444444444444444,
              "#bd3786"
             ],
             [
              0.5555555555555556,
              "#d8576b"
             ],
             [
              0.6666666666666666,
              "#ed7953"
             ],
             [
              0.7777777777777778,
              "#fb9f3a"
             ],
             [
              0.8888888888888888,
              "#fdca26"
             ],
             [
              1,
              "#f0f921"
             ]
            ],
            "type": "histogram2d"
           }
          ],
          "histogram2dcontour": [
           {
            "colorbar": {
             "outlinewidth": 0,
             "ticks": ""
            },
            "colorscale": [
             [
              0,
              "#0d0887"
             ],
             [
              0.1111111111111111,
              "#46039f"
             ],
             [
              0.2222222222222222,
              "#7201a8"
             ],
             [
              0.3333333333333333,
              "#9c179e"
             ],
             [
              0.4444444444444444,
              "#bd3786"
             ],
             [
              0.5555555555555556,
              "#d8576b"
             ],
             [
              0.6666666666666666,
              "#ed7953"
             ],
             [
              0.7777777777777778,
              "#fb9f3a"
             ],
             [
              0.8888888888888888,
              "#fdca26"
             ],
             [
              1,
              "#f0f921"
             ]
            ],
            "type": "histogram2dcontour"
           }
          ],
          "mesh3d": [
           {
            "colorbar": {
             "outlinewidth": 0,
             "ticks": ""
            },
            "type": "mesh3d"
           }
          ],
          "parcoords": [
           {
            "line": {
             "colorbar": {
              "outlinewidth": 0,
              "ticks": ""
             }
            },
            "type": "parcoords"
           }
          ],
          "pie": [
           {
            "automargin": true,
            "type": "pie"
           }
          ],
          "scatter": [
           {
            "fillpattern": {
             "fillmode": "overlay",
             "size": 10,
             "solidity": 0.2
            },
            "type": "scatter"
           }
          ],
          "scatter3d": [
           {
            "line": {
             "colorbar": {
              "outlinewidth": 0,
              "ticks": ""
             }
            },
            "marker": {
             "colorbar": {
              "outlinewidth": 0,
              "ticks": ""
             }
            },
            "type": "scatter3d"
           }
          ],
          "scattercarpet": [
           {
            "marker": {
             "colorbar": {
              "outlinewidth": 0,
              "ticks": ""
             }
            },
            "type": "scattercarpet"
           }
          ],
          "scattergeo": [
           {
            "marker": {
             "colorbar": {
              "outlinewidth": 0,
              "ticks": ""
             }
            },
            "type": "scattergeo"
           }
          ],
          "scattergl": [
           {
            "marker": {
             "colorbar": {
              "outlinewidth": 0,
              "ticks": ""
             }
            },
            "type": "scattergl"
           }
          ],
          "scattermapbox": [
           {
            "marker": {
             "colorbar": {
              "outlinewidth": 0,
              "ticks": ""
             }
            },
            "type": "scattermapbox"
           }
          ],
          "scatterpolar": [
           {
            "marker": {
             "colorbar": {
              "outlinewidth": 0,
              "ticks": ""
             }
            },
            "type": "scatterpolar"
           }
          ],
          "scatterpolargl": [
           {
            "marker": {
             "colorbar": {
              "outlinewidth": 0,
              "ticks": ""
             }
            },
            "type": "scatterpolargl"
           }
          ],
          "scatterternary": [
           {
            "marker": {
             "colorbar": {
              "outlinewidth": 0,
              "ticks": ""
             }
            },
            "type": "scatterternary"
           }
          ],
          "surface": [
           {
            "colorbar": {
             "outlinewidth": 0,
             "ticks": ""
            },
            "colorscale": [
             [
              0,
              "#0d0887"
             ],
             [
              0.1111111111111111,
              "#46039f"
             ],
             [
              0.2222222222222222,
              "#7201a8"
             ],
             [
              0.3333333333333333,
              "#9c179e"
             ],
             [
              0.4444444444444444,
              "#bd3786"
             ],
             [
              0.5555555555555556,
              "#d8576b"
             ],
             [
              0.6666666666666666,
              "#ed7953"
             ],
             [
              0.7777777777777778,
              "#fb9f3a"
             ],
             [
              0.8888888888888888,
              "#fdca26"
             ],
             [
              1,
              "#f0f921"
             ]
            ],
            "type": "surface"
           }
          ],
          "table": [
           {
            "cells": {
             "fill": {
              "color": "#EBF0F8"
             },
             "line": {
              "color": "white"
             }
            },
            "header": {
             "fill": {
              "color": "#C8D4E3"
             },
             "line": {
              "color": "white"
             }
            },
            "type": "table"
           }
          ]
         },
         "layout": {
          "annotationdefaults": {
           "arrowcolor": "#2a3f5f",
           "arrowhead": 0,
           "arrowwidth": 1
          },
          "autotypenumbers": "strict",
          "coloraxis": {
           "colorbar": {
            "outlinewidth": 0,
            "ticks": ""
           }
          },
          "colorscale": {
           "diverging": [
            [
             0,
             "#8e0152"
            ],
            [
             0.1,
             "#c51b7d"
            ],
            [
             0.2,
             "#de77ae"
            ],
            [
             0.3,
             "#f1b6da"
            ],
            [
             0.4,
             "#fde0ef"
            ],
            [
             0.5,
             "#f7f7f7"
            ],
            [
             0.6,
             "#e6f5d0"
            ],
            [
             0.7,
             "#b8e186"
            ],
            [
             0.8,
             "#7fbc41"
            ],
            [
             0.9,
             "#4d9221"
            ],
            [
             1,
             "#276419"
            ]
           ],
           "sequential": [
            [
             0,
             "#0d0887"
            ],
            [
             0.1111111111111111,
             "#46039f"
            ],
            [
             0.2222222222222222,
             "#7201a8"
            ],
            [
             0.3333333333333333,
             "#9c179e"
            ],
            [
             0.4444444444444444,
             "#bd3786"
            ],
            [
             0.5555555555555556,
             "#d8576b"
            ],
            [
             0.6666666666666666,
             "#ed7953"
            ],
            [
             0.7777777777777778,
             "#fb9f3a"
            ],
            [
             0.8888888888888888,
             "#fdca26"
            ],
            [
             1,
             "#f0f921"
            ]
           ],
           "sequentialminus": [
            [
             0,
             "#0d0887"
            ],
            [
             0.1111111111111111,
             "#46039f"
            ],
            [
             0.2222222222222222,
             "#7201a8"
            ],
            [
             0.3333333333333333,
             "#9c179e"
            ],
            [
             0.4444444444444444,
             "#bd3786"
            ],
            [
             0.5555555555555556,
             "#d8576b"
            ],
            [
             0.6666666666666666,
             "#ed7953"
            ],
            [
             0.7777777777777778,
             "#fb9f3a"
            ],
            [
             0.8888888888888888,
             "#fdca26"
            ],
            [
             1,
             "#f0f921"
            ]
           ]
          },
          "colorway": [
           "#636efa",
           "#EF553B",
           "#00cc96",
           "#ab63fa",
           "#FFA15A",
           "#19d3f3",
           "#FF6692",
           "#B6E880",
           "#FF97FF",
           "#FECB52"
          ],
          "font": {
           "color": "#2a3f5f"
          },
          "geo": {
           "bgcolor": "white",
           "lakecolor": "white",
           "landcolor": "#E5ECF6",
           "showlakes": true,
           "showland": true,
           "subunitcolor": "white"
          },
          "hoverlabel": {
           "align": "left"
          },
          "hovermode": "closest",
          "mapbox": {
           "style": "light"
          },
          "paper_bgcolor": "white",
          "plot_bgcolor": "#E5ECF6",
          "polar": {
           "angularaxis": {
            "gridcolor": "white",
            "linecolor": "white",
            "ticks": ""
           },
           "bgcolor": "#E5ECF6",
           "radialaxis": {
            "gridcolor": "white",
            "linecolor": "white",
            "ticks": ""
           }
          },
          "scene": {
           "xaxis": {
            "backgroundcolor": "#E5ECF6",
            "gridcolor": "white",
            "gridwidth": 2,
            "linecolor": "white",
            "showbackground": true,
            "ticks": "",
            "zerolinecolor": "white"
           },
           "yaxis": {
            "backgroundcolor": "#E5ECF6",
            "gridcolor": "white",
            "gridwidth": 2,
            "linecolor": "white",
            "showbackground": true,
            "ticks": "",
            "zerolinecolor": "white"
           },
           "zaxis": {
            "backgroundcolor": "#E5ECF6",
            "gridcolor": "white",
            "gridwidth": 2,
            "linecolor": "white",
            "showbackground": true,
            "ticks": "",
            "zerolinecolor": "white"
           }
          },
          "shapedefaults": {
           "line": {
            "color": "#2a3f5f"
           }
          },
          "ternary": {
           "aaxis": {
            "gridcolor": "white",
            "linecolor": "white",
            "ticks": ""
           },
           "baxis": {
            "gridcolor": "white",
            "linecolor": "white",
            "ticks": ""
           },
           "bgcolor": "#E5ECF6",
           "caxis": {
            "gridcolor": "white",
            "linecolor": "white",
            "ticks": ""
           }
          },
          "title": {
           "x": 0.05
          },
          "xaxis": {
           "automargin": true,
           "gridcolor": "white",
           "linecolor": "white",
           "ticks": "",
           "title": {
            "standoff": 15
           },
           "zerolinecolor": "white",
           "zerolinewidth": 2
          },
          "yaxis": {
           "automargin": true,
           "gridcolor": "white",
           "linecolor": "white",
           "ticks": "",
           "title": {
            "standoff": 15
           },
           "zerolinecolor": "white",
           "zerolinewidth": 2
          }
         }
        },
        "xaxis": {
         "anchor": "y",
         "domain": [
          0,
          1
         ],
         "title": {
          "text": "datetime"
         }
        },
        "yaxis": {
         "anchor": "x",
         "domain": [
          0,
          1
         ],
         "title": {
          "text": "value"
         }
        }
       }
      },
      "text/html": [
       "<div>                            <div id=\"c6355e28-2e69-45ea-a9e1-90013455da04\" class=\"plotly-graph-div\" style=\"height:525px; width:100%;\"></div>            <script type=\"text/javascript\">                require([\"plotly\"], function(Plotly) {                    window.PLOTLYENV=window.PLOTLYENV || {};                                    if (document.getElementById(\"c6355e28-2e69-45ea-a9e1-90013455da04\")) {                    Plotly.newPlot(                        \"c6355e28-2e69-45ea-a9e1-90013455da04\",                        [{\"hovertemplate\":\"metric=jaccard\\u003cbr\\u003edatetime=%{x}\\u003cbr\\u003evalue=%{y}\\u003cextra\\u003e\\u003c\\u002fextra\\u003e\",\"legendgroup\":\"jaccard\",\"line\":{\"color\":\"#636efa\",\"dash\":\"solid\"},\"marker\":{\"symbol\":\"circle\"},\"mode\":\"lines\",\"name\":\"jaccard\",\"orientation\":\"v\",\"showlegend\":true,\"x\":[\"2024-06-25T00:00:00\",\"2024-06-26T00:00:00\",\"2024-06-27T00:00:00\",\"2024-06-28T00:00:00\",\"2024-06-29T00:00:00\",\"2024-06-30T00:00:00\",\"2024-07-01T00:00:00\"],\"xaxis\":\"x\",\"y\":[0.06644257703081233,0.06644257703081233,0.06644257703081233,0.06644257703081233,0.06644257703081233,0.06644257703081233,0.06644257703081233],\"yaxis\":\"y\",\"type\":\"scatter\"},{\"hovertemplate\":\"metric=prec@1\\u003cbr\\u003edatetime=%{x}\\u003cbr\\u003evalue=%{y}\\u003cextra\\u003e\\u003c\\u002fextra\\u003e\",\"legendgroup\":\"prec@1\",\"line\":{\"color\":\"#EF553B\",\"dash\":\"solid\"},\"marker\":{\"symbol\":\"circle\"},\"mode\":\"lines\",\"name\":\"prec@1\",\"orientation\":\"v\",\"showlegend\":true,\"x\":[\"2024-06-25T00:00:00\",\"2024-06-26T00:00:00\",\"2024-06-27T00:00:00\",\"2024-06-28T00:00:00\",\"2024-06-29T00:00:00\",\"2024-06-30T00:00:00\",\"2024-07-01T00:00:00\"],\"xaxis\":\"x\",\"y\":[0.6605000000000001,0.665,0.7055,0.62,0.6155,0.62,0.62],\"yaxis\":\"y\",\"type\":\"scatter\"}],                        {\"template\":{\"data\":{\"histogram2dcontour\":[{\"type\":\"histogram2dcontour\",\"colorbar\":{\"outlinewidth\":0,\"ticks\":\"\"},\"colorscale\":[[0.0,\"#0d0887\"],[0.1111111111111111,\"#46039f\"],[0.2222222222222222,\"#7201a8\"],[0.3333333333333333,\"#9c179e\"],[0.4444444444444444,\"#bd3786\"],[0.5555555555555556,\"#d8576b\"],[0.6666666666666666,\"#ed7953\"],[0.7777777777777778,\"#fb9f3a\"],[0.8888888888888888,\"#fdca26\"],[1.0,\"#f0f921\"]]}],\"choropleth\":[{\"type\":\"choropleth\",\"colorbar\":{\"outlinewidth\":0,\"ticks\":\"\"}}],\"histogram2d\":[{\"type\":\"histogram2d\",\"colorbar\":{\"outlinewidth\":0,\"ticks\":\"\"},\"colorscale\":[[0.0,\"#0d0887\"],[0.1111111111111111,\"#46039f\"],[0.2222222222222222,\"#7201a8\"],[0.3333333333333333,\"#9c179e\"],[0.4444444444444444,\"#bd3786\"],[0.5555555555555556,\"#d8576b\"],[0.6666666666666666,\"#ed7953\"],[0.7777777777777778,\"#fb9f3a\"],[0.8888888888888888,\"#fdca26\"],[1.0,\"#f0f921\"]]}],\"heatmap\":[{\"type\":\"heatmap\",\"colorbar\":{\"outlinewidth\":0,\"ticks\":\"\"},\"colorscale\":[[0.0,\"#0d0887\"],[0.1111111111111111,\"#46039f\"],[0.2222222222222222,\"#7201a8\"],[0.3333333333333333,\"#9c179e\"],[0.4444444444444444,\"#bd3786\"],[0.5555555555555556,\"#d8576b\"],[0.6666666666666666,\"#ed7953\"],[0.7777777777777778,\"#fb9f3a\"],[0.8888888888888888,\"#fdca26\"],[1.0,\"#f0f921\"]]}],\"heatmapgl\":[{\"type\":\"heatmapgl\",\"colorbar\":{\"outlinewidth\":0,\"ticks\":\"\"},\"colorscale\":[[0.0,\"#0d0887\"],[0.1111111111111111,\"#46039f\"],[0.2222222222222222,\"#7201a8\"],[0.3333333333333333,\"#9c179e\"],[0.4444444444444444,\"#bd3786\"],[0.5555555555555556,\"#d8576b\"],[0.6666666666666666,\"#ed7953\"],[0.7777777777777778,\"#fb9f3a\"],[0.8888888888888888,\"#fdca26\"],[1.0,\"#f0f921\"]]}],\"contourcarpet\":[{\"type\":\"contourcarpet\",\"colorbar\":{\"outlinewidth\":0,\"ticks\":\"\"}}],\"contour\":[{\"type\":\"contour\",\"colorbar\":{\"outlinewidth\":0,\"ticks\":\"\"},\"colorscale\":[[0.0,\"#0d0887\"],[0.1111111111111111,\"#46039f\"],[0.2222222222222222,\"#7201a8\"],[0.3333333333333333,\"#9c179e\"],[0.4444444444444444,\"#bd3786\"],[0.5555555555555556,\"#d8576b\"],[0.6666666666666666,\"#ed7953\"],[0.7777777777777778,\"#fb9f3a\"],[0.8888888888888888,\"#fdca26\"],[1.0,\"#f0f921\"]]}],\"surface\":[{\"type\":\"surface\",\"colorbar\":{\"outlinewidth\":0,\"ticks\":\"\"},\"colorscale\":[[0.0,\"#0d0887\"],[0.1111111111111111,\"#46039f\"],[0.2222222222222222,\"#7201a8\"],[0.3333333333333333,\"#9c179e\"],[0.4444444444444444,\"#bd3786\"],[0.5555555555555556,\"#d8576b\"],[0.6666666666666666,\"#ed7953\"],[0.7777777777777778,\"#fb9f3a\"],[0.8888888888888888,\"#fdca26\"],[1.0,\"#f0f921\"]]}],\"mesh3d\":[{\"type\":\"mesh3d\",\"colorbar\":{\"outlinewidth\":0,\"ticks\":\"\"}}],\"scatter\":[{\"fillpattern\":{\"fillmode\":\"overlay\",\"size\":10,\"solidity\":0.2},\"type\":\"scatter\"}],\"parcoords\":[{\"type\":\"parcoords\",\"line\":{\"colorbar\":{\"outlinewidth\":0,\"ticks\":\"\"}}}],\"scatterpolargl\":[{\"type\":\"scatterpolargl\",\"marker\":{\"colorbar\":{\"outlinewidth\":0,\"ticks\":\"\"}}}],\"bar\":[{\"error_x\":{\"color\":\"#2a3f5f\"},\"error_y\":{\"color\":\"#2a3f5f\"},\"marker\":{\"line\":{\"color\":\"#E5ECF6\",\"width\":0.5},\"pattern\":{\"fillmode\":\"overlay\",\"size\":10,\"solidity\":0.2}},\"type\":\"bar\"}],\"scattergeo\":[{\"type\":\"scattergeo\",\"marker\":{\"colorbar\":{\"outlinewidth\":0,\"ticks\":\"\"}}}],\"scatterpolar\":[{\"type\":\"scatterpolar\",\"marker\":{\"colorbar\":{\"outlinewidth\":0,\"ticks\":\"\"}}}],\"histogram\":[{\"marker\":{\"pattern\":{\"fillmode\":\"overlay\",\"size\":10,\"solidity\":0.2}},\"type\":\"histogram\"}],\"scattergl\":[{\"type\":\"scattergl\",\"marker\":{\"colorbar\":{\"outlinewidth\":0,\"ticks\":\"\"}}}],\"scatter3d\":[{\"type\":\"scatter3d\",\"line\":{\"colorbar\":{\"outlinewidth\":0,\"ticks\":\"\"}},\"marker\":{\"colorbar\":{\"outlinewidth\":0,\"ticks\":\"\"}}}],\"scattermapbox\":[{\"type\":\"scattermapbox\",\"marker\":{\"colorbar\":{\"outlinewidth\":0,\"ticks\":\"\"}}}],\"scatterternary\":[{\"type\":\"scatterternary\",\"marker\":{\"colorbar\":{\"outlinewidth\":0,\"ticks\":\"\"}}}],\"scattercarpet\":[{\"type\":\"scattercarpet\",\"marker\":{\"colorbar\":{\"outlinewidth\":0,\"ticks\":\"\"}}}],\"carpet\":[{\"aaxis\":{\"endlinecolor\":\"#2a3f5f\",\"gridcolor\":\"white\",\"linecolor\":\"white\",\"minorgridcolor\":\"white\",\"startlinecolor\":\"#2a3f5f\"},\"baxis\":{\"endlinecolor\":\"#2a3f5f\",\"gridcolor\":\"white\",\"linecolor\":\"white\",\"minorgridcolor\":\"white\",\"startlinecolor\":\"#2a3f5f\"},\"type\":\"carpet\"}],\"table\":[{\"cells\":{\"fill\":{\"color\":\"#EBF0F8\"},\"line\":{\"color\":\"white\"}},\"header\":{\"fill\":{\"color\":\"#C8D4E3\"},\"line\":{\"color\":\"white\"}},\"type\":\"table\"}],\"barpolar\":[{\"marker\":{\"line\":{\"color\":\"#E5ECF6\",\"width\":0.5},\"pattern\":{\"fillmode\":\"overlay\",\"size\":10,\"solidity\":0.2}},\"type\":\"barpolar\"}],\"pie\":[{\"automargin\":true,\"type\":\"pie\"}]},\"layout\":{\"autotypenumbers\":\"strict\",\"colorway\":[\"#636efa\",\"#EF553B\",\"#00cc96\",\"#ab63fa\",\"#FFA15A\",\"#19d3f3\",\"#FF6692\",\"#B6E880\",\"#FF97FF\",\"#FECB52\"],\"font\":{\"color\":\"#2a3f5f\"},\"hovermode\":\"closest\",\"hoverlabel\":{\"align\":\"left\"},\"paper_bgcolor\":\"white\",\"plot_bgcolor\":\"#E5ECF6\",\"polar\":{\"bgcolor\":\"#E5ECF6\",\"angularaxis\":{\"gridcolor\":\"white\",\"linecolor\":\"white\",\"ticks\":\"\"},\"radialaxis\":{\"gridcolor\":\"white\",\"linecolor\":\"white\",\"ticks\":\"\"}},\"ternary\":{\"bgcolor\":\"#E5ECF6\",\"aaxis\":{\"gridcolor\":\"white\",\"linecolor\":\"white\",\"ticks\":\"\"},\"baxis\":{\"gridcolor\":\"white\",\"linecolor\":\"white\",\"ticks\":\"\"},\"caxis\":{\"gridcolor\":\"white\",\"linecolor\":\"white\",\"ticks\":\"\"}},\"coloraxis\":{\"colorbar\":{\"outlinewidth\":0,\"ticks\":\"\"}},\"colorscale\":{\"sequential\":[[0.0,\"#0d0887\"],[0.1111111111111111,\"#46039f\"],[0.2222222222222222,\"#7201a8\"],[0.3333333333333333,\"#9c179e\"],[0.4444444444444444,\"#bd3786\"],[0.5555555555555556,\"#d8576b\"],[0.6666666666666666,\"#ed7953\"],[0.7777777777777778,\"#fb9f3a\"],[0.8888888888888888,\"#fdca26\"],[1.0,\"#f0f921\"]],\"sequentialminus\":[[0.0,\"#0d0887\"],[0.1111111111111111,\"#46039f\"],[0.2222222222222222,\"#7201a8\"],[0.3333333333333333,\"#9c179e\"],[0.4444444444444444,\"#bd3786\"],[0.5555555555555556,\"#d8576b\"],[0.6666666666666666,\"#ed7953\"],[0.7777777777777778,\"#fb9f3a\"],[0.8888888888888888,\"#fdca26\"],[1.0,\"#f0f921\"]],\"diverging\":[[0,\"#8e0152\"],[0.1,\"#c51b7d\"],[0.2,\"#de77ae\"],[0.3,\"#f1b6da\"],[0.4,\"#fde0ef\"],[0.5,\"#f7f7f7\"],[0.6,\"#e6f5d0\"],[0.7,\"#b8e186\"],[0.8,\"#7fbc41\"],[0.9,\"#4d9221\"],[1,\"#276419\"]]},\"xaxis\":{\"gridcolor\":\"white\",\"linecolor\":\"white\",\"ticks\":\"\",\"title\":{\"standoff\":15},\"zerolinecolor\":\"white\",\"automargin\":true,\"zerolinewidth\":2},\"yaxis\":{\"gridcolor\":\"white\",\"linecolor\":\"white\",\"ticks\":\"\",\"title\":{\"standoff\":15},\"zerolinecolor\":\"white\",\"automargin\":true,\"zerolinewidth\":2},\"scene\":{\"xaxis\":{\"backgroundcolor\":\"#E5ECF6\",\"gridcolor\":\"white\",\"linecolor\":\"white\",\"showbackground\":true,\"ticks\":\"\",\"zerolinecolor\":\"white\",\"gridwidth\":2},\"yaxis\":{\"backgroundcolor\":\"#E5ECF6\",\"gridcolor\":\"white\",\"linecolor\":\"white\",\"showbackground\":true,\"ticks\":\"\",\"zerolinecolor\":\"white\",\"gridwidth\":2},\"zaxis\":{\"backgroundcolor\":\"#E5ECF6\",\"gridcolor\":\"white\",\"linecolor\":\"white\",\"showbackground\":true,\"ticks\":\"\",\"zerolinecolor\":\"white\",\"gridwidth\":2}},\"shapedefaults\":{\"line\":{\"color\":\"#2a3f5f\"}},\"annotationdefaults\":{\"arrowcolor\":\"#2a3f5f\",\"arrowhead\":0,\"arrowwidth\":1},\"geo\":{\"bgcolor\":\"white\",\"landcolor\":\"#E5ECF6\",\"subunitcolor\":\"white\",\"showland\":true,\"showlakes\":true,\"lakecolor\":\"white\"},\"title\":{\"x\":0.05},\"mapbox\":{\"style\":\"light\"}}},\"xaxis\":{\"anchor\":\"y\",\"domain\":[0.0,1.0],\"title\":{\"text\":\"datetime\"}},\"yaxis\":{\"anchor\":\"x\",\"domain\":[0.0,1.0],\"title\":{\"text\":\"value\"}},\"legend\":{\"title\":{\"text\":\"metric\"},\"tracegroupgap\":0},\"margin\":{\"t\":60}},                        {\"responsive\": true}                    ).then(function(){\n",
       "                            \n",
       "var gd = document.getElementById('c6355e28-2e69-45ea-a9e1-90013455da04');\n",
       "var x = new MutationObserver(function (mutations, observer) {{\n",
       "        var display = window.getComputedStyle(gd).display;\n",
       "        if (!display || display === 'none') {{\n",
       "            console.log([gd, 'removed!']);\n",
       "            Plotly.purge(gd);\n",
       "            observer.disconnect();\n",
       "        }}\n",
       "}});\n",
       "\n",
       "// Listen for the removal of the full notebook cells\n",
       "var notebookContainer = gd.closest('#notebook-container');\n",
       "if (notebookContainer) {{\n",
       "    x.observe(notebookContainer, {childList: true});\n",
       "}}\n",
       "\n",
       "// Listen for the clearing of the current output cell\n",
       "var outputEl = gd.closest('.output');\n",
       "if (outputEl) {{\n",
       "    x.observe(outputEl, {childList: true});\n",
       "}}\n",
       "\n",
       "                        })                };                });            </script>        </div>"
      ]
     },
     "metadata": {},
     "output_type": "display_data"
    }
   ],
   "source": [
    "sel = df_metrics.search_config.isin([\"research_1\"])\n",
    "sel = sel & (df_metrics.metric.isin([\"prec@1\", \"jaccard\"]))\n",
    "cols = [\"search_config\", \"datetime\", \"metric\"]\n",
    "df = df_metrics[sel][cols + [\"value\"]].groupby(cols).mean().reset_index()\n",
    "\n",
    "fig = px.line(df, x=\"datetime\", y=\"value\", color=\"metric\")\n",
    "fig.update_yaxes(matches=None)\n",
    "fig"
   ]
  },
  {
   "cell_type": "markdown",
   "id": "f45d3864",
   "metadata": {},
   "source": [
    "## Evaluating multiple search configurations"
   ]
  },
  {
   "cell_type": "code",
   "execution_count": 273,
   "id": "bce9ca31",
   "metadata": {
    "scrolled": false
   },
   "outputs": [
    {
     "data": {
      "application/vnd.plotly.v1+json": {
       "config": {
        "plotlyServerURL": "https://plot.ly"
       },
       "data": [
        {
         "hovertemplate": "search_config=challenger_1<br>metric=dcg<br>datetime=%{x}<br>value=%{y}<extra></extra>",
         "legendgroup": "challenger_1",
         "line": {
          "color": "#636efa",
          "dash": "solid"
         },
         "marker": {
          "symbol": "circle"
         },
         "mode": "lines",
         "name": "challenger_1",
         "orientation": "v",
         "showlegend": true,
         "type": "scatter",
         "x": [
          "2024-06-25T00:00:00",
          "2024-06-26T00:00:00",
          "2024-06-27T00:00:00",
          "2024-06-28T00:00:00",
          "2024-06-29T00:00:00",
          "2024-06-30T00:00:00",
          "2024-07-01T00:00:00"
         ],
         "xaxis": "x2",
         "y": [
          3.098677019550343,
          3.138645795425625,
          3.2546768314564885,
          3.167414415343914,
          3.2477065728773247,
          3.12574723461902,
          3.1927240040436553
         ],
         "yaxis": "y2"
        },
        {
         "hovertemplate": "search_config=challenger_1<br>metric=prec@1<br>datetime=%{x}<br>value=%{y}<extra></extra>",
         "legendgroup": "challenger_1",
         "line": {
          "color": "#636efa",
          "dash": "solid"
         },
         "marker": {
          "symbol": "circle"
         },
         "mode": "lines",
         "name": "challenger_1",
         "orientation": "v",
         "showlegend": false,
         "type": "scatter",
         "x": [
          "2024-06-25T00:00:00",
          "2024-06-26T00:00:00",
          "2024-06-27T00:00:00",
          "2024-06-28T00:00:00",
          "2024-06-29T00:00:00",
          "2024-06-30T00:00:00",
          "2024-07-01T00:00:00"
         ],
         "xaxis": "x",
         "y": [
          0.806,
          0.7155,
          0.8055,
          0.765,
          0.8055,
          0.7605000000000001,
          0.7605000000000001
         ],
         "yaxis": "y"
        },
        {
         "hovertemplate": "search_config=research_1<br>metric=dcg<br>datetime=%{x}<br>value=%{y}<extra></extra>",
         "legendgroup": "research_1",
         "line": {
          "color": "#EF553B",
          "dash": "solid"
         },
         "marker": {
          "symbol": "circle"
         },
         "mode": "lines",
         "name": "research_1",
         "orientation": "v",
         "showlegend": true,
         "type": "scatter",
         "x": [
          "2024-06-25T00:00:00",
          "2024-06-26T00:00:00",
          "2024-06-27T00:00:00",
          "2024-06-28T00:00:00",
          "2024-06-29T00:00:00",
          "2024-06-30T00:00:00",
          "2024-07-01T00:00:00"
         ],
         "xaxis": "x2",
         "y": [
          1.1679264967108016,
          1.1479617288981878,
          1.2456540290360012,
          1.1247560654615951,
          1.1707857273780022,
          1.1154620489479345,
          1.1247560654615951
         ],
         "yaxis": "y2"
        },
        {
         "hovertemplate": "search_config=research_1<br>metric=prec@1<br>datetime=%{x}<br>value=%{y}<extra></extra>",
         "legendgroup": "research_1",
         "line": {
          "color": "#EF553B",
          "dash": "solid"
         },
         "marker": {
          "symbol": "circle"
         },
         "mode": "lines",
         "name": "research_1",
         "orientation": "v",
         "showlegend": false,
         "type": "scatter",
         "x": [
          "2024-06-25T00:00:00",
          "2024-06-26T00:00:00",
          "2024-06-27T00:00:00",
          "2024-06-28T00:00:00",
          "2024-06-29T00:00:00",
          "2024-06-30T00:00:00",
          "2024-07-01T00:00:00"
         ],
         "xaxis": "x",
         "y": [
          0.6605000000000001,
          0.665,
          0.7055,
          0.62,
          0.6155,
          0.62,
          0.62
         ],
         "yaxis": "y"
        },
        {
         "hovertemplate": "search_config=research_2<br>metric=dcg<br>datetime=%{x}<br>value=%{y}<extra></extra>",
         "legendgroup": "research_2",
         "line": {
          "color": "#00cc96",
          "dash": "solid"
         },
         "marker": {
          "symbol": "circle"
         },
         "mode": "lines",
         "name": "research_2",
         "orientation": "v",
         "showlegend": true,
         "type": "scatter",
         "x": [
          "2024-06-25T00:00:00",
          "2024-06-26T00:00:00",
          "2024-06-27T00:00:00",
          "2024-06-28T00:00:00",
          "2024-06-29T00:00:00",
          "2024-06-30T00:00:00",
          "2024-07-01T00:00:00"
         ],
         "xaxis": "x2",
         "y": [
          2.7787249848241946,
          2.777926718657238,
          2.7714719005555297,
          2.6492599285031098,
          2.7080662918579987,
          2.6830864744482197,
          2.718093898722489
         ],
         "yaxis": "y2"
        },
        {
         "hovertemplate": "search_config=research_2<br>metric=prec@1<br>datetime=%{x}<br>value=%{y}<extra></extra>",
         "legendgroup": "research_2",
         "line": {
          "color": "#00cc96",
          "dash": "solid"
         },
         "marker": {
          "symbol": "circle"
         },
         "mode": "lines",
         "name": "research_2",
         "orientation": "v",
         "showlegend": false,
         "type": "scatter",
         "x": [
          "2024-06-25T00:00:00",
          "2024-06-26T00:00:00",
          "2024-06-27T00:00:00",
          "2024-06-28T00:00:00",
          "2024-06-29T00:00:00",
          "2024-06-30T00:00:00",
          "2024-07-01T00:00:00"
         ],
         "xaxis": "x",
         "y": [
          0.8105,
          0.7655000000000001,
          0.7655000000000001,
          0.725,
          0.8105,
          0.7655000000000001,
          0.7615000000000001
         ],
         "yaxis": "y"
        }
       ],
       "layout": {
        "annotations": [
         {
          "font": {},
          "showarrow": false,
          "text": "metric=prec@1",
          "textangle": 90,
          "x": 0.98,
          "xanchor": "left",
          "xref": "paper",
          "y": 0.2425,
          "yanchor": "middle",
          "yref": "paper"
         },
         {
          "font": {},
          "showarrow": false,
          "text": "metric=dcg",
          "textangle": 90,
          "x": 0.98,
          "xanchor": "left",
          "xref": "paper",
          "y": 0.7575000000000001,
          "yanchor": "middle",
          "yref": "paper"
         }
        ],
        "legend": {
         "title": {
          "text": "search_config"
         },
         "tracegroupgap": 0
        },
        "margin": {
         "t": 60
        },
        "template": {
         "data": {
          "bar": [
           {
            "error_x": {
             "color": "#2a3f5f"
            },
            "error_y": {
             "color": "#2a3f5f"
            },
            "marker": {
             "line": {
              "color": "#E5ECF6",
              "width": 0.5
             },
             "pattern": {
              "fillmode": "overlay",
              "size": 10,
              "solidity": 0.2
             }
            },
            "type": "bar"
           }
          ],
          "barpolar": [
           {
            "marker": {
             "line": {
              "color": "#E5ECF6",
              "width": 0.5
             },
             "pattern": {
              "fillmode": "overlay",
              "size": 10,
              "solidity": 0.2
             }
            },
            "type": "barpolar"
           }
          ],
          "carpet": [
           {
            "aaxis": {
             "endlinecolor": "#2a3f5f",
             "gridcolor": "white",
             "linecolor": "white",
             "minorgridcolor": "white",
             "startlinecolor": "#2a3f5f"
            },
            "baxis": {
             "endlinecolor": "#2a3f5f",
             "gridcolor": "white",
             "linecolor": "white",
             "minorgridcolor": "white",
             "startlinecolor": "#2a3f5f"
            },
            "type": "carpet"
           }
          ],
          "choropleth": [
           {
            "colorbar": {
             "outlinewidth": 0,
             "ticks": ""
            },
            "type": "choropleth"
           }
          ],
          "contour": [
           {
            "colorbar": {
             "outlinewidth": 0,
             "ticks": ""
            },
            "colorscale": [
             [
              0,
              "#0d0887"
             ],
             [
              0.1111111111111111,
              "#46039f"
             ],
             [
              0.2222222222222222,
              "#7201a8"
             ],
             [
              0.3333333333333333,
              "#9c179e"
             ],
             [
              0.4444444444444444,
              "#bd3786"
             ],
             [
              0.5555555555555556,
              "#d8576b"
             ],
             [
              0.6666666666666666,
              "#ed7953"
             ],
             [
              0.7777777777777778,
              "#fb9f3a"
             ],
             [
              0.8888888888888888,
              "#fdca26"
             ],
             [
              1,
              "#f0f921"
             ]
            ],
            "type": "contour"
           }
          ],
          "contourcarpet": [
           {
            "colorbar": {
             "outlinewidth": 0,
             "ticks": ""
            },
            "type": "contourcarpet"
           }
          ],
          "heatmap": [
           {
            "colorbar": {
             "outlinewidth": 0,
             "ticks": ""
            },
            "colorscale": [
             [
              0,
              "#0d0887"
             ],
             [
              0.1111111111111111,
              "#46039f"
             ],
             [
              0.2222222222222222,
              "#7201a8"
             ],
             [
              0.3333333333333333,
              "#9c179e"
             ],
             [
              0.4444444444444444,
              "#bd3786"
             ],
             [
              0.5555555555555556,
              "#d8576b"
             ],
             [
              0.6666666666666666,
              "#ed7953"
             ],
             [
              0.7777777777777778,
              "#fb9f3a"
             ],
             [
              0.8888888888888888,
              "#fdca26"
             ],
             [
              1,
              "#f0f921"
             ]
            ],
            "type": "heatmap"
           }
          ],
          "heatmapgl": [
           {
            "colorbar": {
             "outlinewidth": 0,
             "ticks": ""
            },
            "colorscale": [
             [
              0,
              "#0d0887"
             ],
             [
              0.1111111111111111,
              "#46039f"
             ],
             [
              0.2222222222222222,
              "#7201a8"
             ],
             [
              0.3333333333333333,
              "#9c179e"
             ],
             [
              0.4444444444444444,
              "#bd3786"
             ],
             [
              0.5555555555555556,
              "#d8576b"
             ],
             [
              0.6666666666666666,
              "#ed7953"
             ],
             [
              0.7777777777777778,
              "#fb9f3a"
             ],
             [
              0.8888888888888888,
              "#fdca26"
             ],
             [
              1,
              "#f0f921"
             ]
            ],
            "type": "heatmapgl"
           }
          ],
          "histogram": [
           {
            "marker": {
             "pattern": {
              "fillmode": "overlay",
              "size": 10,
              "solidity": 0.2
             }
            },
            "type": "histogram"
           }
          ],
          "histogram2d": [
           {
            "colorbar": {
             "outlinewidth": 0,
             "ticks": ""
            },
            "colorscale": [
             [
              0,
              "#0d0887"
             ],
             [
              0.1111111111111111,
              "#46039f"
             ],
             [
              0.2222222222222222,
              "#7201a8"
             ],
             [
              0.3333333333333333,
              "#9c179e"
             ],
             [
              0.4444444444444444,
              "#bd3786"
             ],
             [
              0.5555555555555556,
              "#d8576b"
             ],
             [
              0.6666666666666666,
              "#ed7953"
             ],
             [
              0.7777777777777778,
              "#fb9f3a"
             ],
             [
              0.8888888888888888,
              "#fdca26"
             ],
             [
              1,
              "#f0f921"
             ]
            ],
            "type": "histogram2d"
           }
          ],
          "histogram2dcontour": [
           {
            "colorbar": {
             "outlinewidth": 0,
             "ticks": ""
            },
            "colorscale": [
             [
              0,
              "#0d0887"
             ],
             [
              0.1111111111111111,
              "#46039f"
             ],
             [
              0.2222222222222222,
              "#7201a8"
             ],
             [
              0.3333333333333333,
              "#9c179e"
             ],
             [
              0.4444444444444444,
              "#bd3786"
             ],
             [
              0.5555555555555556,
              "#d8576b"
             ],
             [
              0.6666666666666666,
              "#ed7953"
             ],
             [
              0.7777777777777778,
              "#fb9f3a"
             ],
             [
              0.8888888888888888,
              "#fdca26"
             ],
             [
              1,
              "#f0f921"
             ]
            ],
            "type": "histogram2dcontour"
           }
          ],
          "mesh3d": [
           {
            "colorbar": {
             "outlinewidth": 0,
             "ticks": ""
            },
            "type": "mesh3d"
           }
          ],
          "parcoords": [
           {
            "line": {
             "colorbar": {
              "outlinewidth": 0,
              "ticks": ""
             }
            },
            "type": "parcoords"
           }
          ],
          "pie": [
           {
            "automargin": true,
            "type": "pie"
           }
          ],
          "scatter": [
           {
            "fillpattern": {
             "fillmode": "overlay",
             "size": 10,
             "solidity": 0.2
            },
            "type": "scatter"
           }
          ],
          "scatter3d": [
           {
            "line": {
             "colorbar": {
              "outlinewidth": 0,
              "ticks": ""
             }
            },
            "marker": {
             "colorbar": {
              "outlinewidth": 0,
              "ticks": ""
             }
            },
            "type": "scatter3d"
           }
          ],
          "scattercarpet": [
           {
            "marker": {
             "colorbar": {
              "outlinewidth": 0,
              "ticks": ""
             }
            },
            "type": "scattercarpet"
           }
          ],
          "scattergeo": [
           {
            "marker": {
             "colorbar": {
              "outlinewidth": 0,
              "ticks": ""
             }
            },
            "type": "scattergeo"
           }
          ],
          "scattergl": [
           {
            "marker": {
             "colorbar": {
              "outlinewidth": 0,
              "ticks": ""
             }
            },
            "type": "scattergl"
           }
          ],
          "scattermapbox": [
           {
            "marker": {
             "colorbar": {
              "outlinewidth": 0,
              "ticks": ""
             }
            },
            "type": "scattermapbox"
           }
          ],
          "scatterpolar": [
           {
            "marker": {
             "colorbar": {
              "outlinewidth": 0,
              "ticks": ""
             }
            },
            "type": "scatterpolar"
           }
          ],
          "scatterpolargl": [
           {
            "marker": {
             "colorbar": {
              "outlinewidth": 0,
              "ticks": ""
             }
            },
            "type": "scatterpolargl"
           }
          ],
          "scatterternary": [
           {
            "marker": {
             "colorbar": {
              "outlinewidth": 0,
              "ticks": ""
             }
            },
            "type": "scatterternary"
           }
          ],
          "surface": [
           {
            "colorbar": {
             "outlinewidth": 0,
             "ticks": ""
            },
            "colorscale": [
             [
              0,
              "#0d0887"
             ],
             [
              0.1111111111111111,
              "#46039f"
             ],
             [
              0.2222222222222222,
              "#7201a8"
             ],
             [
              0.3333333333333333,
              "#9c179e"
             ],
             [
              0.4444444444444444,
              "#bd3786"
             ],
             [
              0.5555555555555556,
              "#d8576b"
             ],
             [
              0.6666666666666666,
              "#ed7953"
             ],
             [
              0.7777777777777778,
              "#fb9f3a"
             ],
             [
              0.8888888888888888,
              "#fdca26"
             ],
             [
              1,
              "#f0f921"
             ]
            ],
            "type": "surface"
           }
          ],
          "table": [
           {
            "cells": {
             "fill": {
              "color": "#EBF0F8"
             },
             "line": {
              "color": "white"
             }
            },
            "header": {
             "fill": {
              "color": "#C8D4E3"
             },
             "line": {
              "color": "white"
             }
            },
            "type": "table"
           }
          ]
         },
         "layout": {
          "annotationdefaults": {
           "arrowcolor": "#2a3f5f",
           "arrowhead": 0,
           "arrowwidth": 1
          },
          "autotypenumbers": "strict",
          "coloraxis": {
           "colorbar": {
            "outlinewidth": 0,
            "ticks": ""
           }
          },
          "colorscale": {
           "diverging": [
            [
             0,
             "#8e0152"
            ],
            [
             0.1,
             "#c51b7d"
            ],
            [
             0.2,
             "#de77ae"
            ],
            [
             0.3,
             "#f1b6da"
            ],
            [
             0.4,
             "#fde0ef"
            ],
            [
             0.5,
             "#f7f7f7"
            ],
            [
             0.6,
             "#e6f5d0"
            ],
            [
             0.7,
             "#b8e186"
            ],
            [
             0.8,
             "#7fbc41"
            ],
            [
             0.9,
             "#4d9221"
            ],
            [
             1,
             "#276419"
            ]
           ],
           "sequential": [
            [
             0,
             "#0d0887"
            ],
            [
             0.1111111111111111,
             "#46039f"
            ],
            [
             0.2222222222222222,
             "#7201a8"
            ],
            [
             0.3333333333333333,
             "#9c179e"
            ],
            [
             0.4444444444444444,
             "#bd3786"
            ],
            [
             0.5555555555555556,
             "#d8576b"
            ],
            [
             0.6666666666666666,
             "#ed7953"
            ],
            [
             0.7777777777777778,
             "#fb9f3a"
            ],
            [
             0.8888888888888888,
             "#fdca26"
            ],
            [
             1,
             "#f0f921"
            ]
           ],
           "sequentialminus": [
            [
             0,
             "#0d0887"
            ],
            [
             0.1111111111111111,
             "#46039f"
            ],
            [
             0.2222222222222222,
             "#7201a8"
            ],
            [
             0.3333333333333333,
             "#9c179e"
            ],
            [
             0.4444444444444444,
             "#bd3786"
            ],
            [
             0.5555555555555556,
             "#d8576b"
            ],
            [
             0.6666666666666666,
             "#ed7953"
            ],
            [
             0.7777777777777778,
             "#fb9f3a"
            ],
            [
             0.8888888888888888,
             "#fdca26"
            ],
            [
             1,
             "#f0f921"
            ]
           ]
          },
          "colorway": [
           "#636efa",
           "#EF553B",
           "#00cc96",
           "#ab63fa",
           "#FFA15A",
           "#19d3f3",
           "#FF6692",
           "#B6E880",
           "#FF97FF",
           "#FECB52"
          ],
          "font": {
           "color": "#2a3f5f"
          },
          "geo": {
           "bgcolor": "white",
           "lakecolor": "white",
           "landcolor": "#E5ECF6",
           "showlakes": true,
           "showland": true,
           "subunitcolor": "white"
          },
          "hoverlabel": {
           "align": "left"
          },
          "hovermode": "closest",
          "mapbox": {
           "style": "light"
          },
          "paper_bgcolor": "white",
          "plot_bgcolor": "#E5ECF6",
          "polar": {
           "angularaxis": {
            "gridcolor": "white",
            "linecolor": "white",
            "ticks": ""
           },
           "bgcolor": "#E5ECF6",
           "radialaxis": {
            "gridcolor": "white",
            "linecolor": "white",
            "ticks": ""
           }
          },
          "scene": {
           "xaxis": {
            "backgroundcolor": "#E5ECF6",
            "gridcolor": "white",
            "gridwidth": 2,
            "linecolor": "white",
            "showbackground": true,
            "ticks": "",
            "zerolinecolor": "white"
           },
           "yaxis": {
            "backgroundcolor": "#E5ECF6",
            "gridcolor": "white",
            "gridwidth": 2,
            "linecolor": "white",
            "showbackground": true,
            "ticks": "",
            "zerolinecolor": "white"
           },
           "zaxis": {
            "backgroundcolor": "#E5ECF6",
            "gridcolor": "white",
            "gridwidth": 2,
            "linecolor": "white",
            "showbackground": true,
            "ticks": "",
            "zerolinecolor": "white"
           }
          },
          "shapedefaults": {
           "line": {
            "color": "#2a3f5f"
           }
          },
          "ternary": {
           "aaxis": {
            "gridcolor": "white",
            "linecolor": "white",
            "ticks": ""
           },
           "baxis": {
            "gridcolor": "white",
            "linecolor": "white",
            "ticks": ""
           },
           "bgcolor": "#E5ECF6",
           "caxis": {
            "gridcolor": "white",
            "linecolor": "white",
            "ticks": ""
           }
          },
          "title": {
           "x": 0.05
          },
          "xaxis": {
           "automargin": true,
           "gridcolor": "white",
           "linecolor": "white",
           "ticks": "",
           "title": {
            "standoff": 15
           },
           "zerolinecolor": "white",
           "zerolinewidth": 2
          },
          "yaxis": {
           "automargin": true,
           "gridcolor": "white",
           "linecolor": "white",
           "ticks": "",
           "title": {
            "standoff": 15
           },
           "zerolinecolor": "white",
           "zerolinewidth": 2
          }
         }
        },
        "xaxis": {
         "anchor": "y",
         "domain": [
          0,
          0.98
         ],
         "title": {
          "text": "datetime"
         }
        },
        "xaxis2": {
         "anchor": "y2",
         "domain": [
          0,
          0.98
         ],
         "matches": "x",
         "showticklabels": false
        },
        "yaxis": {
         "anchor": "x",
         "domain": [
          0,
          0.485
         ],
         "title": {
          "text": "value"
         }
        },
        "yaxis2": {
         "anchor": "x2",
         "domain": [
          0.515,
          1
         ],
         "title": {
          "text": "value"
         }
        }
       }
      },
      "text/html": [
       "<div>                            <div id=\"a5a39c79-2e35-4298-b8ee-d54eb72c3d35\" class=\"plotly-graph-div\" style=\"height:525px; width:100%;\"></div>            <script type=\"text/javascript\">                require([\"plotly\"], function(Plotly) {                    window.PLOTLYENV=window.PLOTLYENV || {};                                    if (document.getElementById(\"a5a39c79-2e35-4298-b8ee-d54eb72c3d35\")) {                    Plotly.newPlot(                        \"a5a39c79-2e35-4298-b8ee-d54eb72c3d35\",                        [{\"hovertemplate\":\"search_config=challenger_1\\u003cbr\\u003emetric=dcg\\u003cbr\\u003edatetime=%{x}\\u003cbr\\u003evalue=%{y}\\u003cextra\\u003e\\u003c\\u002fextra\\u003e\",\"legendgroup\":\"challenger_1\",\"line\":{\"color\":\"#636efa\",\"dash\":\"solid\"},\"marker\":{\"symbol\":\"circle\"},\"mode\":\"lines\",\"name\":\"challenger_1\",\"orientation\":\"v\",\"showlegend\":true,\"x\":[\"2024-06-25T00:00:00\",\"2024-06-26T00:00:00\",\"2024-06-27T00:00:00\",\"2024-06-28T00:00:00\",\"2024-06-29T00:00:00\",\"2024-06-30T00:00:00\",\"2024-07-01T00:00:00\"],\"xaxis\":\"x2\",\"y\":[3.098677019550343,3.138645795425625,3.2546768314564885,3.167414415343914,3.2477065728773247,3.12574723461902,3.1927240040436553],\"yaxis\":\"y2\",\"type\":\"scatter\"},{\"hovertemplate\":\"search_config=challenger_1\\u003cbr\\u003emetric=prec@1\\u003cbr\\u003edatetime=%{x}\\u003cbr\\u003evalue=%{y}\\u003cextra\\u003e\\u003c\\u002fextra\\u003e\",\"legendgroup\":\"challenger_1\",\"line\":{\"color\":\"#636efa\",\"dash\":\"solid\"},\"marker\":{\"symbol\":\"circle\"},\"mode\":\"lines\",\"name\":\"challenger_1\",\"orientation\":\"v\",\"showlegend\":false,\"x\":[\"2024-06-25T00:00:00\",\"2024-06-26T00:00:00\",\"2024-06-27T00:00:00\",\"2024-06-28T00:00:00\",\"2024-06-29T00:00:00\",\"2024-06-30T00:00:00\",\"2024-07-01T00:00:00\"],\"xaxis\":\"x\",\"y\":[0.806,0.7155,0.8055,0.765,0.8055,0.7605000000000001,0.7605000000000001],\"yaxis\":\"y\",\"type\":\"scatter\"},{\"hovertemplate\":\"search_config=research_1\\u003cbr\\u003emetric=dcg\\u003cbr\\u003edatetime=%{x}\\u003cbr\\u003evalue=%{y}\\u003cextra\\u003e\\u003c\\u002fextra\\u003e\",\"legendgroup\":\"research_1\",\"line\":{\"color\":\"#EF553B\",\"dash\":\"solid\"},\"marker\":{\"symbol\":\"circle\"},\"mode\":\"lines\",\"name\":\"research_1\",\"orientation\":\"v\",\"showlegend\":true,\"x\":[\"2024-06-25T00:00:00\",\"2024-06-26T00:00:00\",\"2024-06-27T00:00:00\",\"2024-06-28T00:00:00\",\"2024-06-29T00:00:00\",\"2024-06-30T00:00:00\",\"2024-07-01T00:00:00\"],\"xaxis\":\"x2\",\"y\":[1.1679264967108016,1.1479617288981878,1.2456540290360012,1.1247560654615951,1.1707857273780022,1.1154620489479345,1.1247560654615951],\"yaxis\":\"y2\",\"type\":\"scatter\"},{\"hovertemplate\":\"search_config=research_1\\u003cbr\\u003emetric=prec@1\\u003cbr\\u003edatetime=%{x}\\u003cbr\\u003evalue=%{y}\\u003cextra\\u003e\\u003c\\u002fextra\\u003e\",\"legendgroup\":\"research_1\",\"line\":{\"color\":\"#EF553B\",\"dash\":\"solid\"},\"marker\":{\"symbol\":\"circle\"},\"mode\":\"lines\",\"name\":\"research_1\",\"orientation\":\"v\",\"showlegend\":false,\"x\":[\"2024-06-25T00:00:00\",\"2024-06-26T00:00:00\",\"2024-06-27T00:00:00\",\"2024-06-28T00:00:00\",\"2024-06-29T00:00:00\",\"2024-06-30T00:00:00\",\"2024-07-01T00:00:00\"],\"xaxis\":\"x\",\"y\":[0.6605000000000001,0.665,0.7055,0.62,0.6155,0.62,0.62],\"yaxis\":\"y\",\"type\":\"scatter\"},{\"hovertemplate\":\"search_config=research_2\\u003cbr\\u003emetric=dcg\\u003cbr\\u003edatetime=%{x}\\u003cbr\\u003evalue=%{y}\\u003cextra\\u003e\\u003c\\u002fextra\\u003e\",\"legendgroup\":\"research_2\",\"line\":{\"color\":\"#00cc96\",\"dash\":\"solid\"},\"marker\":{\"symbol\":\"circle\"},\"mode\":\"lines\",\"name\":\"research_2\",\"orientation\":\"v\",\"showlegend\":true,\"x\":[\"2024-06-25T00:00:00\",\"2024-06-26T00:00:00\",\"2024-06-27T00:00:00\",\"2024-06-28T00:00:00\",\"2024-06-29T00:00:00\",\"2024-06-30T00:00:00\",\"2024-07-01T00:00:00\"],\"xaxis\":\"x2\",\"y\":[2.7787249848241946,2.777926718657238,2.7714719005555297,2.6492599285031098,2.7080662918579987,2.6830864744482197,2.718093898722489],\"yaxis\":\"y2\",\"type\":\"scatter\"},{\"hovertemplate\":\"search_config=research_2\\u003cbr\\u003emetric=prec@1\\u003cbr\\u003edatetime=%{x}\\u003cbr\\u003evalue=%{y}\\u003cextra\\u003e\\u003c\\u002fextra\\u003e\",\"legendgroup\":\"research_2\",\"line\":{\"color\":\"#00cc96\",\"dash\":\"solid\"},\"marker\":{\"symbol\":\"circle\"},\"mode\":\"lines\",\"name\":\"research_2\",\"orientation\":\"v\",\"showlegend\":false,\"x\":[\"2024-06-25T00:00:00\",\"2024-06-26T00:00:00\",\"2024-06-27T00:00:00\",\"2024-06-28T00:00:00\",\"2024-06-29T00:00:00\",\"2024-06-30T00:00:00\",\"2024-07-01T00:00:00\"],\"xaxis\":\"x\",\"y\":[0.8105,0.7655000000000001,0.7655000000000001,0.725,0.8105,0.7655000000000001,0.7615000000000001],\"yaxis\":\"y\",\"type\":\"scatter\"}],                        {\"template\":{\"data\":{\"histogram2dcontour\":[{\"type\":\"histogram2dcontour\",\"colorbar\":{\"outlinewidth\":0,\"ticks\":\"\"},\"colorscale\":[[0.0,\"#0d0887\"],[0.1111111111111111,\"#46039f\"],[0.2222222222222222,\"#7201a8\"],[0.3333333333333333,\"#9c179e\"],[0.4444444444444444,\"#bd3786\"],[0.5555555555555556,\"#d8576b\"],[0.6666666666666666,\"#ed7953\"],[0.7777777777777778,\"#fb9f3a\"],[0.8888888888888888,\"#fdca26\"],[1.0,\"#f0f921\"]]}],\"choropleth\":[{\"type\":\"choropleth\",\"colorbar\":{\"outlinewidth\":0,\"ticks\":\"\"}}],\"histogram2d\":[{\"type\":\"histogram2d\",\"colorbar\":{\"outlinewidth\":0,\"ticks\":\"\"},\"colorscale\":[[0.0,\"#0d0887\"],[0.1111111111111111,\"#46039f\"],[0.2222222222222222,\"#7201a8\"],[0.3333333333333333,\"#9c179e\"],[0.4444444444444444,\"#bd3786\"],[0.5555555555555556,\"#d8576b\"],[0.6666666666666666,\"#ed7953\"],[0.7777777777777778,\"#fb9f3a\"],[0.8888888888888888,\"#fdca26\"],[1.0,\"#f0f921\"]]}],\"heatmap\":[{\"type\":\"heatmap\",\"colorbar\":{\"outlinewidth\":0,\"ticks\":\"\"},\"colorscale\":[[0.0,\"#0d0887\"],[0.1111111111111111,\"#46039f\"],[0.2222222222222222,\"#7201a8\"],[0.3333333333333333,\"#9c179e\"],[0.4444444444444444,\"#bd3786\"],[0.5555555555555556,\"#d8576b\"],[0.6666666666666666,\"#ed7953\"],[0.7777777777777778,\"#fb9f3a\"],[0.8888888888888888,\"#fdca26\"],[1.0,\"#f0f921\"]]}],\"heatmapgl\":[{\"type\":\"heatmapgl\",\"colorbar\":{\"outlinewidth\":0,\"ticks\":\"\"},\"colorscale\":[[0.0,\"#0d0887\"],[0.1111111111111111,\"#46039f\"],[0.2222222222222222,\"#7201a8\"],[0.3333333333333333,\"#9c179e\"],[0.4444444444444444,\"#bd3786\"],[0.5555555555555556,\"#d8576b\"],[0.6666666666666666,\"#ed7953\"],[0.7777777777777778,\"#fb9f3a\"],[0.8888888888888888,\"#fdca26\"],[1.0,\"#f0f921\"]]}],\"contourcarpet\":[{\"type\":\"contourcarpet\",\"colorbar\":{\"outlinewidth\":0,\"ticks\":\"\"}}],\"contour\":[{\"type\":\"contour\",\"colorbar\":{\"outlinewidth\":0,\"ticks\":\"\"},\"colorscale\":[[0.0,\"#0d0887\"],[0.1111111111111111,\"#46039f\"],[0.2222222222222222,\"#7201a8\"],[0.3333333333333333,\"#9c179e\"],[0.4444444444444444,\"#bd3786\"],[0.5555555555555556,\"#d8576b\"],[0.6666666666666666,\"#ed7953\"],[0.7777777777777778,\"#fb9f3a\"],[0.8888888888888888,\"#fdca26\"],[1.0,\"#f0f921\"]]}],\"surface\":[{\"type\":\"surface\",\"colorbar\":{\"outlinewidth\":0,\"ticks\":\"\"},\"colorscale\":[[0.0,\"#0d0887\"],[0.1111111111111111,\"#46039f\"],[0.2222222222222222,\"#7201a8\"],[0.3333333333333333,\"#9c179e\"],[0.4444444444444444,\"#bd3786\"],[0.5555555555555556,\"#d8576b\"],[0.6666666666666666,\"#ed7953\"],[0.7777777777777778,\"#fb9f3a\"],[0.8888888888888888,\"#fdca26\"],[1.0,\"#f0f921\"]]}],\"mesh3d\":[{\"type\":\"mesh3d\",\"colorbar\":{\"outlinewidth\":0,\"ticks\":\"\"}}],\"scatter\":[{\"fillpattern\":{\"fillmode\":\"overlay\",\"size\":10,\"solidity\":0.2},\"type\":\"scatter\"}],\"parcoords\":[{\"type\":\"parcoords\",\"line\":{\"colorbar\":{\"outlinewidth\":0,\"ticks\":\"\"}}}],\"scatterpolargl\":[{\"type\":\"scatterpolargl\",\"marker\":{\"colorbar\":{\"outlinewidth\":0,\"ticks\":\"\"}}}],\"bar\":[{\"error_x\":{\"color\":\"#2a3f5f\"},\"error_y\":{\"color\":\"#2a3f5f\"},\"marker\":{\"line\":{\"color\":\"#E5ECF6\",\"width\":0.5},\"pattern\":{\"fillmode\":\"overlay\",\"size\":10,\"solidity\":0.2}},\"type\":\"bar\"}],\"scattergeo\":[{\"type\":\"scattergeo\",\"marker\":{\"colorbar\":{\"outlinewidth\":0,\"ticks\":\"\"}}}],\"scatterpolar\":[{\"type\":\"scatterpolar\",\"marker\":{\"colorbar\":{\"outlinewidth\":0,\"ticks\":\"\"}}}],\"histogram\":[{\"marker\":{\"pattern\":{\"fillmode\":\"overlay\",\"size\":10,\"solidity\":0.2}},\"type\":\"histogram\"}],\"scattergl\":[{\"type\":\"scattergl\",\"marker\":{\"colorbar\":{\"outlinewidth\":0,\"ticks\":\"\"}}}],\"scatter3d\":[{\"type\":\"scatter3d\",\"line\":{\"colorbar\":{\"outlinewidth\":0,\"ticks\":\"\"}},\"marker\":{\"colorbar\":{\"outlinewidth\":0,\"ticks\":\"\"}}}],\"scattermapbox\":[{\"type\":\"scattermapbox\",\"marker\":{\"colorbar\":{\"outlinewidth\":0,\"ticks\":\"\"}}}],\"scatterternary\":[{\"type\":\"scatterternary\",\"marker\":{\"colorbar\":{\"outlinewidth\":0,\"ticks\":\"\"}}}],\"scattercarpet\":[{\"type\":\"scattercarpet\",\"marker\":{\"colorbar\":{\"outlinewidth\":0,\"ticks\":\"\"}}}],\"carpet\":[{\"aaxis\":{\"endlinecolor\":\"#2a3f5f\",\"gridcolor\":\"white\",\"linecolor\":\"white\",\"minorgridcolor\":\"white\",\"startlinecolor\":\"#2a3f5f\"},\"baxis\":{\"endlinecolor\":\"#2a3f5f\",\"gridcolor\":\"white\",\"linecolor\":\"white\",\"minorgridcolor\":\"white\",\"startlinecolor\":\"#2a3f5f\"},\"type\":\"carpet\"}],\"table\":[{\"cells\":{\"fill\":{\"color\":\"#EBF0F8\"},\"line\":{\"color\":\"white\"}},\"header\":{\"fill\":{\"color\":\"#C8D4E3\"},\"line\":{\"color\":\"white\"}},\"type\":\"table\"}],\"barpolar\":[{\"marker\":{\"line\":{\"color\":\"#E5ECF6\",\"width\":0.5},\"pattern\":{\"fillmode\":\"overlay\",\"size\":10,\"solidity\":0.2}},\"type\":\"barpolar\"}],\"pie\":[{\"automargin\":true,\"type\":\"pie\"}]},\"layout\":{\"autotypenumbers\":\"strict\",\"colorway\":[\"#636efa\",\"#EF553B\",\"#00cc96\",\"#ab63fa\",\"#FFA15A\",\"#19d3f3\",\"#FF6692\",\"#B6E880\",\"#FF97FF\",\"#FECB52\"],\"font\":{\"color\":\"#2a3f5f\"},\"hovermode\":\"closest\",\"hoverlabel\":{\"align\":\"left\"},\"paper_bgcolor\":\"white\",\"plot_bgcolor\":\"#E5ECF6\",\"polar\":{\"bgcolor\":\"#E5ECF6\",\"angularaxis\":{\"gridcolor\":\"white\",\"linecolor\":\"white\",\"ticks\":\"\"},\"radialaxis\":{\"gridcolor\":\"white\",\"linecolor\":\"white\",\"ticks\":\"\"}},\"ternary\":{\"bgcolor\":\"#E5ECF6\",\"aaxis\":{\"gridcolor\":\"white\",\"linecolor\":\"white\",\"ticks\":\"\"},\"baxis\":{\"gridcolor\":\"white\",\"linecolor\":\"white\",\"ticks\":\"\"},\"caxis\":{\"gridcolor\":\"white\",\"linecolor\":\"white\",\"ticks\":\"\"}},\"coloraxis\":{\"colorbar\":{\"outlinewidth\":0,\"ticks\":\"\"}},\"colorscale\":{\"sequential\":[[0.0,\"#0d0887\"],[0.1111111111111111,\"#46039f\"],[0.2222222222222222,\"#7201a8\"],[0.3333333333333333,\"#9c179e\"],[0.4444444444444444,\"#bd3786\"],[0.5555555555555556,\"#d8576b\"],[0.6666666666666666,\"#ed7953\"],[0.7777777777777778,\"#fb9f3a\"],[0.8888888888888888,\"#fdca26\"],[1.0,\"#f0f921\"]],\"sequentialminus\":[[0.0,\"#0d0887\"],[0.1111111111111111,\"#46039f\"],[0.2222222222222222,\"#7201a8\"],[0.3333333333333333,\"#9c179e\"],[0.4444444444444444,\"#bd3786\"],[0.5555555555555556,\"#d8576b\"],[0.6666666666666666,\"#ed7953\"],[0.7777777777777778,\"#fb9f3a\"],[0.8888888888888888,\"#fdca26\"],[1.0,\"#f0f921\"]],\"diverging\":[[0,\"#8e0152\"],[0.1,\"#c51b7d\"],[0.2,\"#de77ae\"],[0.3,\"#f1b6da\"],[0.4,\"#fde0ef\"],[0.5,\"#f7f7f7\"],[0.6,\"#e6f5d0\"],[0.7,\"#b8e186\"],[0.8,\"#7fbc41\"],[0.9,\"#4d9221\"],[1,\"#276419\"]]},\"xaxis\":{\"gridcolor\":\"white\",\"linecolor\":\"white\",\"ticks\":\"\",\"title\":{\"standoff\":15},\"zerolinecolor\":\"white\",\"automargin\":true,\"zerolinewidth\":2},\"yaxis\":{\"gridcolor\":\"white\",\"linecolor\":\"white\",\"ticks\":\"\",\"title\":{\"standoff\":15},\"zerolinecolor\":\"white\",\"automargin\":true,\"zerolinewidth\":2},\"scene\":{\"xaxis\":{\"backgroundcolor\":\"#E5ECF6\",\"gridcolor\":\"white\",\"linecolor\":\"white\",\"showbackground\":true,\"ticks\":\"\",\"zerolinecolor\":\"white\",\"gridwidth\":2},\"yaxis\":{\"backgroundcolor\":\"#E5ECF6\",\"gridcolor\":\"white\",\"linecolor\":\"white\",\"showbackground\":true,\"ticks\":\"\",\"zerolinecolor\":\"white\",\"gridwidth\":2},\"zaxis\":{\"backgroundcolor\":\"#E5ECF6\",\"gridcolor\":\"white\",\"linecolor\":\"white\",\"showbackground\":true,\"ticks\":\"\",\"zerolinecolor\":\"white\",\"gridwidth\":2}},\"shapedefaults\":{\"line\":{\"color\":\"#2a3f5f\"}},\"annotationdefaults\":{\"arrowcolor\":\"#2a3f5f\",\"arrowhead\":0,\"arrowwidth\":1},\"geo\":{\"bgcolor\":\"white\",\"landcolor\":\"#E5ECF6\",\"subunitcolor\":\"white\",\"showland\":true,\"showlakes\":true,\"lakecolor\":\"white\"},\"title\":{\"x\":0.05},\"mapbox\":{\"style\":\"light\"}}},\"xaxis\":{\"anchor\":\"y\",\"domain\":[0.0,0.98],\"title\":{\"text\":\"datetime\"}},\"yaxis\":{\"anchor\":\"x\",\"domain\":[0.0,0.485],\"title\":{\"text\":\"value\"}},\"xaxis2\":{\"anchor\":\"y2\",\"domain\":[0.0,0.98],\"matches\":\"x\",\"showticklabels\":false},\"yaxis2\":{\"anchor\":\"x2\",\"domain\":[0.515,1.0],\"title\":{\"text\":\"value\"}},\"annotations\":[{\"font\":{},\"showarrow\":false,\"text\":\"metric=prec@1\",\"textangle\":90,\"x\":0.98,\"xanchor\":\"left\",\"xref\":\"paper\",\"y\":0.2425,\"yanchor\":\"middle\",\"yref\":\"paper\"},{\"font\":{},\"showarrow\":false,\"text\":\"metric=dcg\",\"textangle\":90,\"x\":0.98,\"xanchor\":\"left\",\"xref\":\"paper\",\"y\":0.7575000000000001,\"yanchor\":\"middle\",\"yref\":\"paper\"}],\"legend\":{\"title\":{\"text\":\"search_config\"},\"tracegroupgap\":0},\"margin\":{\"t\":60}},                        {\"responsive\": true}                    ).then(function(){\n",
       "                            \n",
       "var gd = document.getElementById('a5a39c79-2e35-4298-b8ee-d54eb72c3d35');\n",
       "var x = new MutationObserver(function (mutations, observer) {{\n",
       "        var display = window.getComputedStyle(gd).display;\n",
       "        if (!display || display === 'none') {{\n",
       "            console.log([gd, 'removed!']);\n",
       "            Plotly.purge(gd);\n",
       "            observer.disconnect();\n",
       "        }}\n",
       "}});\n",
       "\n",
       "// Listen for the removal of the full notebook cells\n",
       "var notebookContainer = gd.closest('#notebook-container');\n",
       "if (notebookContainer) {{\n",
       "    x.observe(notebookContainer, {childList: true});\n",
       "}}\n",
       "\n",
       "// Listen for the clearing of the current output cell\n",
       "var outputEl = gd.closest('.output');\n",
       "if (outputEl) {{\n",
       "    x.observe(outputEl, {childList: true});\n",
       "}}\n",
       "\n",
       "                        })                };                });            </script>        </div>"
      ]
     },
     "metadata": {},
     "output_type": "display_data"
    }
   ],
   "source": [
    "sel = df_metrics.search_config.isin([\"research_1\", \"research_2\", \"challenger_1\"])\n",
    "sel = sel & (df_metrics.metric.isin([\"prec@1\", \"dcg\"]))\n",
    "cols = [\"search_config\", \"datetime\", \"metric\"]\n",
    "df = df_metrics[sel][cols + [\"value\"]].groupby(cols).mean().reset_index()\n",
    "\n",
    "fig = px.line(df, x=\"datetime\", y=\"value\", color=\"search_config\", facet_row=\"metric\")\n",
    "fig.update_yaxes(matches=None)\n",
    "fig"
   ]
  },
  {
   "cell_type": "code",
   "execution_count": 289,
   "id": "8c7c7016",
   "metadata": {},
   "outputs": [
    {
     "data": {
      "application/vnd.plotly.v1+json": {
       "config": {
        "plotlyServerURL": "https://plot.ly"
       },
       "data": [
        {
         "alignmentgroup": "True",
         "box": {
          "visible": false
         },
         "customdata": [
          [
           "jaccard",
           "3d tree wall owl",
           "2024-06-25T00:00:00"
          ],
          [
           "jaccard",
           "classic black dresses for women",
           "2024-06-25T00:00:00"
          ],
          [
           "jaccard",
           "cuadro para oficina",
           "2024-06-25T00:00:00"
          ],
          [
           "jaccard",
           "cute vans for women",
           "2024-06-25T00:00:00"
          ],
          [
           "jaccard",
           "diabetic massager",
           "2024-06-25T00:00:00"
          ],
          [
           "jaccard",
           "greenpan ceramic nonstick fry pan 12 inch",
           "2024-06-25T00:00:00"
          ],
          [
           "jaccard",
           "guano de murciélago",
           "2024-06-25T00:00:00"
          ],
          [
           "jaccard",
           "handlebars",
           "2024-06-25T00:00:00"
          ],
          [
           "jaccard",
           "joyce meyer",
           "2024-06-25T00:00:00"
          ],
          [
           "jaccard",
           "level tools",
           "2024-06-25T00:00:00"
          ],
          [
           "jaccard",
           "long johns for men",
           "2024-06-25T00:00:00"
          ],
          [
           "jaccard",
           "mct oil capsules",
           "2024-06-25T00:00:00"
          ],
          [
           "jaccard",
           "nike air force 1 men",
           "2024-06-25T00:00:00"
          ],
          [
           "jaccard",
           "nipple clamps",
           "2024-06-25T00:00:00"
          ],
          [
           "jaccard",
           "patinete niño 9 años",
           "2024-06-25T00:00:00"
          ],
          [
           "jaccard",
           "replacement brush heads sonicare",
           "2024-06-25T00:00:00"
          ],
          [
           "jaccard",
           "shoot rubber bullets",
           "2024-06-25T00:00:00"
          ],
          [
           "jaccard",
           "solar pool covers for inground pools",
           "2024-06-25T00:00:00"
          ],
          [
           "jaccard",
           "toyota white touch up",
           "2024-06-25T00:00:00"
          ],
          [
           "jaccard",
           "ブルートゥースイヤホン",
           "2024-06-25T00:00:00"
          ],
          [
           "jaccard",
           "3d tree wall owl",
           "2024-06-26T00:00:00"
          ],
          [
           "jaccard",
           "classic black dresses for women",
           "2024-06-26T00:00:00"
          ],
          [
           "jaccard",
           "cuadro para oficina",
           "2024-06-26T00:00:00"
          ],
          [
           "jaccard",
           "cute vans for women",
           "2024-06-26T00:00:00"
          ],
          [
           "jaccard",
           "diabetic massager",
           "2024-06-26T00:00:00"
          ],
          [
           "jaccard",
           "greenpan ceramic nonstick fry pan 12 inch",
           "2024-06-26T00:00:00"
          ],
          [
           "jaccard",
           "guano de murciélago",
           "2024-06-26T00:00:00"
          ],
          [
           "jaccard",
           "handlebars",
           "2024-06-26T00:00:00"
          ],
          [
           "jaccard",
           "joyce meyer",
           "2024-06-26T00:00:00"
          ],
          [
           "jaccard",
           "level tools",
           "2024-06-26T00:00:00"
          ],
          [
           "jaccard",
           "long johns for men",
           "2024-06-26T00:00:00"
          ],
          [
           "jaccard",
           "mct oil capsules",
           "2024-06-26T00:00:00"
          ],
          [
           "jaccard",
           "nike air force 1 men",
           "2024-06-26T00:00:00"
          ],
          [
           "jaccard",
           "nipple clamps",
           "2024-06-26T00:00:00"
          ],
          [
           "jaccard",
           "patinete niño 9 años",
           "2024-06-26T00:00:00"
          ],
          [
           "jaccard",
           "replacement brush heads sonicare",
           "2024-06-26T00:00:00"
          ],
          [
           "jaccard",
           "shoot rubber bullets",
           "2024-06-26T00:00:00"
          ],
          [
           "jaccard",
           "solar pool covers for inground pools",
           "2024-06-26T00:00:00"
          ],
          [
           "jaccard",
           "toyota white touch up",
           "2024-06-26T00:00:00"
          ],
          [
           "jaccard",
           "ブルートゥースイヤホン",
           "2024-06-26T00:00:00"
          ],
          [
           "jaccard",
           "3d tree wall owl",
           "2024-06-27T00:00:00"
          ],
          [
           "jaccard",
           "classic black dresses for women",
           "2024-06-27T00:00:00"
          ],
          [
           "jaccard",
           "cuadro para oficina",
           "2024-06-27T00:00:00"
          ],
          [
           "jaccard",
           "cute vans for women",
           "2024-06-27T00:00:00"
          ],
          [
           "jaccard",
           "diabetic massager",
           "2024-06-27T00:00:00"
          ],
          [
           "jaccard",
           "greenpan ceramic nonstick fry pan 12 inch",
           "2024-06-27T00:00:00"
          ],
          [
           "jaccard",
           "guano de murciélago",
           "2024-06-27T00:00:00"
          ],
          [
           "jaccard",
           "handlebars",
           "2024-06-27T00:00:00"
          ],
          [
           "jaccard",
           "joyce meyer",
           "2024-06-27T00:00:00"
          ],
          [
           "jaccard",
           "level tools",
           "2024-06-27T00:00:00"
          ],
          [
           "jaccard",
           "long johns for men",
           "2024-06-27T00:00:00"
          ],
          [
           "jaccard",
           "mct oil capsules",
           "2024-06-27T00:00:00"
          ],
          [
           "jaccard",
           "nike air force 1 men",
           "2024-06-27T00:00:00"
          ],
          [
           "jaccard",
           "nipple clamps",
           "2024-06-27T00:00:00"
          ],
          [
           "jaccard",
           "patinete niño 9 años",
           "2024-06-27T00:00:00"
          ],
          [
           "jaccard",
           "replacement brush heads sonicare",
           "2024-06-27T00:00:00"
          ],
          [
           "jaccard",
           "shoot rubber bullets",
           "2024-06-27T00:00:00"
          ],
          [
           "jaccard",
           "solar pool covers for inground pools",
           "2024-06-27T00:00:00"
          ],
          [
           "jaccard",
           "toyota white touch up",
           "2024-06-27T00:00:00"
          ],
          [
           "jaccard",
           "ブルートゥースイヤホン",
           "2024-06-27T00:00:00"
          ],
          [
           "jaccard",
           "3d tree wall owl",
           "2024-06-28T00:00:00"
          ],
          [
           "jaccard",
           "classic black dresses for women",
           "2024-06-28T00:00:00"
          ],
          [
           "jaccard",
           "cuadro para oficina",
           "2024-06-28T00:00:00"
          ],
          [
           "jaccard",
           "cute vans for women",
           "2024-06-28T00:00:00"
          ],
          [
           "jaccard",
           "diabetic massager",
           "2024-06-28T00:00:00"
          ],
          [
           "jaccard",
           "greenpan ceramic nonstick fry pan 12 inch",
           "2024-06-28T00:00:00"
          ],
          [
           "jaccard",
           "guano de murciélago",
           "2024-06-28T00:00:00"
          ],
          [
           "jaccard",
           "handlebars",
           "2024-06-28T00:00:00"
          ],
          [
           "jaccard",
           "joyce meyer",
           "2024-06-28T00:00:00"
          ],
          [
           "jaccard",
           "level tools",
           "2024-06-28T00:00:00"
          ],
          [
           "jaccard",
           "long johns for men",
           "2024-06-28T00:00:00"
          ],
          [
           "jaccard",
           "mct oil capsules",
           "2024-06-28T00:00:00"
          ],
          [
           "jaccard",
           "nike air force 1 men",
           "2024-06-28T00:00:00"
          ],
          [
           "jaccard",
           "nipple clamps",
           "2024-06-28T00:00:00"
          ],
          [
           "jaccard",
           "patinete niño 9 años",
           "2024-06-28T00:00:00"
          ],
          [
           "jaccard",
           "replacement brush heads sonicare",
           "2024-06-28T00:00:00"
          ],
          [
           "jaccard",
           "shoot rubber bullets",
           "2024-06-28T00:00:00"
          ],
          [
           "jaccard",
           "solar pool covers for inground pools",
           "2024-06-28T00:00:00"
          ],
          [
           "jaccard",
           "toyota white touch up",
           "2024-06-28T00:00:00"
          ],
          [
           "jaccard",
           "ブルートゥースイヤホン",
           "2024-06-28T00:00:00"
          ],
          [
           "jaccard",
           "3d tree wall owl",
           "2024-06-29T00:00:00"
          ],
          [
           "jaccard",
           "classic black dresses for women",
           "2024-06-29T00:00:00"
          ],
          [
           "jaccard",
           "cuadro para oficina",
           "2024-06-29T00:00:00"
          ],
          [
           "jaccard",
           "cute vans for women",
           "2024-06-29T00:00:00"
          ],
          [
           "jaccard",
           "diabetic massager",
           "2024-06-29T00:00:00"
          ],
          [
           "jaccard",
           "greenpan ceramic nonstick fry pan 12 inch",
           "2024-06-29T00:00:00"
          ],
          [
           "jaccard",
           "guano de murciélago",
           "2024-06-29T00:00:00"
          ],
          [
           "jaccard",
           "handlebars",
           "2024-06-29T00:00:00"
          ],
          [
           "jaccard",
           "joyce meyer",
           "2024-06-29T00:00:00"
          ],
          [
           "jaccard",
           "level tools",
           "2024-06-29T00:00:00"
          ],
          [
           "jaccard",
           "long johns for men",
           "2024-06-29T00:00:00"
          ],
          [
           "jaccard",
           "mct oil capsules",
           "2024-06-29T00:00:00"
          ],
          [
           "jaccard",
           "nike air force 1 men",
           "2024-06-29T00:00:00"
          ],
          [
           "jaccard",
           "nipple clamps",
           "2024-06-29T00:00:00"
          ],
          [
           "jaccard",
           "patinete niño 9 años",
           "2024-06-29T00:00:00"
          ],
          [
           "jaccard",
           "replacement brush heads sonicare",
           "2024-06-29T00:00:00"
          ],
          [
           "jaccard",
           "shoot rubber bullets",
           "2024-06-29T00:00:00"
          ],
          [
           "jaccard",
           "solar pool covers for inground pools",
           "2024-06-29T00:00:00"
          ],
          [
           "jaccard",
           "toyota white touch up",
           "2024-06-29T00:00:00"
          ],
          [
           "jaccard",
           "ブルートゥースイヤホン",
           "2024-06-29T00:00:00"
          ],
          [
           "jaccard",
           "3d tree wall owl",
           "2024-06-30T00:00:00"
          ],
          [
           "jaccard",
           "classic black dresses for women",
           "2024-06-30T00:00:00"
          ],
          [
           "jaccard",
           "cuadro para oficina",
           "2024-06-30T00:00:00"
          ],
          [
           "jaccard",
           "cute vans for women",
           "2024-06-30T00:00:00"
          ],
          [
           "jaccard",
           "diabetic massager",
           "2024-06-30T00:00:00"
          ],
          [
           "jaccard",
           "greenpan ceramic nonstick fry pan 12 inch",
           "2024-06-30T00:00:00"
          ],
          [
           "jaccard",
           "guano de murciélago",
           "2024-06-30T00:00:00"
          ],
          [
           "jaccard",
           "handlebars",
           "2024-06-30T00:00:00"
          ],
          [
           "jaccard",
           "joyce meyer",
           "2024-06-30T00:00:00"
          ],
          [
           "jaccard",
           "level tools",
           "2024-06-30T00:00:00"
          ],
          [
           "jaccard",
           "long johns for men",
           "2024-06-30T00:00:00"
          ],
          [
           "jaccard",
           "mct oil capsules",
           "2024-06-30T00:00:00"
          ],
          [
           "jaccard",
           "nike air force 1 men",
           "2024-06-30T00:00:00"
          ],
          [
           "jaccard",
           "nipple clamps",
           "2024-06-30T00:00:00"
          ],
          [
           "jaccard",
           "patinete niño 9 años",
           "2024-06-30T00:00:00"
          ],
          [
           "jaccard",
           "replacement brush heads sonicare",
           "2024-06-30T00:00:00"
          ],
          [
           "jaccard",
           "shoot rubber bullets",
           "2024-06-30T00:00:00"
          ],
          [
           "jaccard",
           "solar pool covers for inground pools",
           "2024-06-30T00:00:00"
          ],
          [
           "jaccard",
           "toyota white touch up",
           "2024-06-30T00:00:00"
          ],
          [
           "jaccard",
           "ブルートゥースイヤホン",
           "2024-06-30T00:00:00"
          ],
          [
           "jaccard",
           "3d tree wall owl",
           "2024-07-01T00:00:00"
          ],
          [
           "jaccard",
           "classic black dresses for women",
           "2024-07-01T00:00:00"
          ],
          [
           "jaccard",
           "cuadro para oficina",
           "2024-07-01T00:00:00"
          ],
          [
           "jaccard",
           "cute vans for women",
           "2024-07-01T00:00:00"
          ],
          [
           "jaccard",
           "diabetic massager",
           "2024-07-01T00:00:00"
          ],
          [
           "jaccard",
           "greenpan ceramic nonstick fry pan 12 inch",
           "2024-07-01T00:00:00"
          ],
          [
           "jaccard",
           "guano de murciélago",
           "2024-07-01T00:00:00"
          ],
          [
           "jaccard",
           "handlebars",
           "2024-07-01T00:00:00"
          ],
          [
           "jaccard",
           "joyce meyer",
           "2024-07-01T00:00:00"
          ],
          [
           "jaccard",
           "level tools",
           "2024-07-01T00:00:00"
          ],
          [
           "jaccard",
           "long johns for men",
           "2024-07-01T00:00:00"
          ],
          [
           "jaccard",
           "mct oil capsules",
           "2024-07-01T00:00:00"
          ],
          [
           "jaccard",
           "nike air force 1 men",
           "2024-07-01T00:00:00"
          ],
          [
           "jaccard",
           "nipple clamps",
           "2024-07-01T00:00:00"
          ],
          [
           "jaccard",
           "patinete niño 9 años",
           "2024-07-01T00:00:00"
          ],
          [
           "jaccard",
           "replacement brush heads sonicare",
           "2024-07-01T00:00:00"
          ],
          [
           "jaccard",
           "shoot rubber bullets",
           "2024-07-01T00:00:00"
          ],
          [
           "jaccard",
           "solar pool covers for inground pools",
           "2024-07-01T00:00:00"
          ],
          [
           "jaccard",
           "toyota white touch up",
           "2024-07-01T00:00:00"
          ],
          [
           "jaccard",
           "ブルートゥースイヤホン",
           "2024-07-01T00:00:00"
          ],
          [
           "jaccard",
           "3d tree wall owl",
           "2024-06-25T00:00:00"
          ],
          [
           "jaccard",
           "classic black dresses for women",
           "2024-06-25T00:00:00"
          ],
          [
           "jaccard",
           "cuadro para oficina",
           "2024-06-25T00:00:00"
          ],
          [
           "jaccard",
           "cute vans for women",
           "2024-06-25T00:00:00"
          ],
          [
           "jaccard",
           "diabetic massager",
           "2024-06-25T00:00:00"
          ],
          [
           "jaccard",
           "greenpan ceramic nonstick fry pan 12 inch",
           "2024-06-25T00:00:00"
          ],
          [
           "jaccard",
           "guano de murciélago",
           "2024-06-25T00:00:00"
          ],
          [
           "jaccard",
           "handlebars",
           "2024-06-25T00:00:00"
          ],
          [
           "jaccard",
           "joyce meyer",
           "2024-06-25T00:00:00"
          ],
          [
           "jaccard",
           "level tools",
           "2024-06-25T00:00:00"
          ],
          [
           "jaccard",
           "long johns for men",
           "2024-06-25T00:00:00"
          ],
          [
           "jaccard",
           "mct oil capsules",
           "2024-06-25T00:00:00"
          ],
          [
           "jaccard",
           "nike air force 1 men",
           "2024-06-25T00:00:00"
          ],
          [
           "jaccard",
           "nipple clamps",
           "2024-06-25T00:00:00"
          ],
          [
           "jaccard",
           "patinete niño 9 años",
           "2024-06-25T00:00:00"
          ],
          [
           "jaccard",
           "replacement brush heads sonicare",
           "2024-06-25T00:00:00"
          ],
          [
           "jaccard",
           "shoot rubber bullets",
           "2024-06-25T00:00:00"
          ],
          [
           "jaccard",
           "solar pool covers for inground pools",
           "2024-06-25T00:00:00"
          ],
          [
           "jaccard",
           "toyota white touch up",
           "2024-06-25T00:00:00"
          ],
          [
           "jaccard",
           "ブルートゥースイヤホン",
           "2024-06-25T00:00:00"
          ],
          [
           "jaccard",
           "3d tree wall owl",
           "2024-06-26T00:00:00"
          ],
          [
           "jaccard",
           "classic black dresses for women",
           "2024-06-26T00:00:00"
          ],
          [
           "jaccard",
           "cuadro para oficina",
           "2024-06-26T00:00:00"
          ],
          [
           "jaccard",
           "cute vans for women",
           "2024-06-26T00:00:00"
          ],
          [
           "jaccard",
           "diabetic massager",
           "2024-06-26T00:00:00"
          ],
          [
           "jaccard",
           "greenpan ceramic nonstick fry pan 12 inch",
           "2024-06-26T00:00:00"
          ],
          [
           "jaccard",
           "guano de murciélago",
           "2024-06-26T00:00:00"
          ],
          [
           "jaccard",
           "handlebars",
           "2024-06-26T00:00:00"
          ],
          [
           "jaccard",
           "joyce meyer",
           "2024-06-26T00:00:00"
          ],
          [
           "jaccard",
           "level tools",
           "2024-06-26T00:00:00"
          ],
          [
           "jaccard",
           "long johns for men",
           "2024-06-26T00:00:00"
          ],
          [
           "jaccard",
           "mct oil capsules",
           "2024-06-26T00:00:00"
          ],
          [
           "jaccard",
           "nike air force 1 men",
           "2024-06-26T00:00:00"
          ],
          [
           "jaccard",
           "nipple clamps",
           "2024-06-26T00:00:00"
          ],
          [
           "jaccard",
           "patinete niño 9 años",
           "2024-06-26T00:00:00"
          ],
          [
           "jaccard",
           "replacement brush heads sonicare",
           "2024-06-26T00:00:00"
          ],
          [
           "jaccard",
           "shoot rubber bullets",
           "2024-06-26T00:00:00"
          ],
          [
           "jaccard",
           "solar pool covers for inground pools",
           "2024-06-26T00:00:00"
          ],
          [
           "jaccard",
           "toyota white touch up",
           "2024-06-26T00:00:00"
          ],
          [
           "jaccard",
           "ブルートゥースイヤホン",
           "2024-06-26T00:00:00"
          ],
          [
           "jaccard",
           "3d tree wall owl",
           "2024-06-27T00:00:00"
          ],
          [
           "jaccard",
           "classic black dresses for women",
           "2024-06-27T00:00:00"
          ],
          [
           "jaccard",
           "cuadro para oficina",
           "2024-06-27T00:00:00"
          ],
          [
           "jaccard",
           "cute vans for women",
           "2024-06-27T00:00:00"
          ],
          [
           "jaccard",
           "diabetic massager",
           "2024-06-27T00:00:00"
          ],
          [
           "jaccard",
           "greenpan ceramic nonstick fry pan 12 inch",
           "2024-06-27T00:00:00"
          ],
          [
           "jaccard",
           "guano de murciélago",
           "2024-06-27T00:00:00"
          ],
          [
           "jaccard",
           "handlebars",
           "2024-06-27T00:00:00"
          ],
          [
           "jaccard",
           "joyce meyer",
           "2024-06-27T00:00:00"
          ],
          [
           "jaccard",
           "level tools",
           "2024-06-27T00:00:00"
          ],
          [
           "jaccard",
           "long johns for men",
           "2024-06-27T00:00:00"
          ],
          [
           "jaccard",
           "mct oil capsules",
           "2024-06-27T00:00:00"
          ],
          [
           "jaccard",
           "nike air force 1 men",
           "2024-06-27T00:00:00"
          ],
          [
           "jaccard",
           "nipple clamps",
           "2024-06-27T00:00:00"
          ],
          [
           "jaccard",
           "patinete niño 9 años",
           "2024-06-27T00:00:00"
          ],
          [
           "jaccard",
           "replacement brush heads sonicare",
           "2024-06-27T00:00:00"
          ],
          [
           "jaccard",
           "shoot rubber bullets",
           "2024-06-27T00:00:00"
          ],
          [
           "jaccard",
           "solar pool covers for inground pools",
           "2024-06-27T00:00:00"
          ],
          [
           "jaccard",
           "toyota white touch up",
           "2024-06-27T00:00:00"
          ],
          [
           "jaccard",
           "ブルートゥースイヤホン",
           "2024-06-27T00:00:00"
          ],
          [
           "jaccard",
           "3d tree wall owl",
           "2024-06-28T00:00:00"
          ],
          [
           "jaccard",
           "classic black dresses for women",
           "2024-06-28T00:00:00"
          ],
          [
           "jaccard",
           "cuadro para oficina",
           "2024-06-28T00:00:00"
          ],
          [
           "jaccard",
           "cute vans for women",
           "2024-06-28T00:00:00"
          ],
          [
           "jaccard",
           "diabetic massager",
           "2024-06-28T00:00:00"
          ],
          [
           "jaccard",
           "greenpan ceramic nonstick fry pan 12 inch",
           "2024-06-28T00:00:00"
          ],
          [
           "jaccard",
           "guano de murciélago",
           "2024-06-28T00:00:00"
          ],
          [
           "jaccard",
           "handlebars",
           "2024-06-28T00:00:00"
          ],
          [
           "jaccard",
           "joyce meyer",
           "2024-06-28T00:00:00"
          ],
          [
           "jaccard",
           "level tools",
           "2024-06-28T00:00:00"
          ],
          [
           "jaccard",
           "long johns for men",
           "2024-06-28T00:00:00"
          ],
          [
           "jaccard",
           "mct oil capsules",
           "2024-06-28T00:00:00"
          ],
          [
           "jaccard",
           "nike air force 1 men",
           "2024-06-28T00:00:00"
          ],
          [
           "jaccard",
           "nipple clamps",
           "2024-06-28T00:00:00"
          ],
          [
           "jaccard",
           "patinete niño 9 años",
           "2024-06-28T00:00:00"
          ],
          [
           "jaccard",
           "replacement brush heads sonicare",
           "2024-06-28T00:00:00"
          ],
          [
           "jaccard",
           "shoot rubber bullets",
           "2024-06-28T00:00:00"
          ],
          [
           "jaccard",
           "solar pool covers for inground pools",
           "2024-06-28T00:00:00"
          ],
          [
           "jaccard",
           "toyota white touch up",
           "2024-06-28T00:00:00"
          ],
          [
           "jaccard",
           "ブルートゥースイヤホン",
           "2024-06-28T00:00:00"
          ],
          [
           "jaccard",
           "3d tree wall owl",
           "2024-06-29T00:00:00"
          ],
          [
           "jaccard",
           "classic black dresses for women",
           "2024-06-29T00:00:00"
          ],
          [
           "jaccard",
           "cuadro para oficina",
           "2024-06-29T00:00:00"
          ],
          [
           "jaccard",
           "cute vans for women",
           "2024-06-29T00:00:00"
          ],
          [
           "jaccard",
           "diabetic massager",
           "2024-06-29T00:00:00"
          ],
          [
           "jaccard",
           "greenpan ceramic nonstick fry pan 12 inch",
           "2024-06-29T00:00:00"
          ],
          [
           "jaccard",
           "guano de murciélago",
           "2024-06-29T00:00:00"
          ],
          [
           "jaccard",
           "handlebars",
           "2024-06-29T00:00:00"
          ],
          [
           "jaccard",
           "joyce meyer",
           "2024-06-29T00:00:00"
          ],
          [
           "jaccard",
           "level tools",
           "2024-06-29T00:00:00"
          ],
          [
           "jaccard",
           "long johns for men",
           "2024-06-29T00:00:00"
          ],
          [
           "jaccard",
           "mct oil capsules",
           "2024-06-29T00:00:00"
          ],
          [
           "jaccard",
           "nike air force 1 men",
           "2024-06-29T00:00:00"
          ],
          [
           "jaccard",
           "nipple clamps",
           "2024-06-29T00:00:00"
          ],
          [
           "jaccard",
           "patinete niño 9 años",
           "2024-06-29T00:00:00"
          ],
          [
           "jaccard",
           "replacement brush heads sonicare",
           "2024-06-29T00:00:00"
          ],
          [
           "jaccard",
           "shoot rubber bullets",
           "2024-06-29T00:00:00"
          ],
          [
           "jaccard",
           "solar pool covers for inground pools",
           "2024-06-29T00:00:00"
          ],
          [
           "jaccard",
           "toyota white touch up",
           "2024-06-29T00:00:00"
          ],
          [
           "jaccard",
           "ブルートゥースイヤホン",
           "2024-06-29T00:00:00"
          ],
          [
           "jaccard",
           "3d tree wall owl",
           "2024-06-30T00:00:00"
          ],
          [
           "jaccard",
           "classic black dresses for women",
           "2024-06-30T00:00:00"
          ],
          [
           "jaccard",
           "cuadro para oficina",
           "2024-06-30T00:00:00"
          ],
          [
           "jaccard",
           "cute vans for women",
           "2024-06-30T00:00:00"
          ],
          [
           "jaccard",
           "diabetic massager",
           "2024-06-30T00:00:00"
          ],
          [
           "jaccard",
           "greenpan ceramic nonstick fry pan 12 inch",
           "2024-06-30T00:00:00"
          ],
          [
           "jaccard",
           "guano de murciélago",
           "2024-06-30T00:00:00"
          ],
          [
           "jaccard",
           "handlebars",
           "2024-06-30T00:00:00"
          ],
          [
           "jaccard",
           "joyce meyer",
           "2024-06-30T00:00:00"
          ],
          [
           "jaccard",
           "level tools",
           "2024-06-30T00:00:00"
          ],
          [
           "jaccard",
           "long johns for men",
           "2024-06-30T00:00:00"
          ],
          [
           "jaccard",
           "mct oil capsules",
           "2024-06-30T00:00:00"
          ],
          [
           "jaccard",
           "nike air force 1 men",
           "2024-06-30T00:00:00"
          ],
          [
           "jaccard",
           "nipple clamps",
           "2024-06-30T00:00:00"
          ],
          [
           "jaccard",
           "patinete niño 9 años",
           "2024-06-30T00:00:00"
          ],
          [
           "jaccard",
           "replacement brush heads sonicare",
           "2024-06-30T00:00:00"
          ],
          [
           "jaccard",
           "shoot rubber bullets",
           "2024-06-30T00:00:00"
          ],
          [
           "jaccard",
           "solar pool covers for inground pools",
           "2024-06-30T00:00:00"
          ],
          [
           "jaccard",
           "toyota white touch up",
           "2024-06-30T00:00:00"
          ],
          [
           "jaccard",
           "ブルートゥースイヤホン",
           "2024-06-30T00:00:00"
          ],
          [
           "jaccard",
           "3d tree wall owl",
           "2024-07-01T00:00:00"
          ],
          [
           "jaccard",
           "classic black dresses for women",
           "2024-07-01T00:00:00"
          ],
          [
           "jaccard",
           "cuadro para oficina",
           "2024-07-01T00:00:00"
          ],
          [
           "jaccard",
           "cute vans for women",
           "2024-07-01T00:00:00"
          ],
          [
           "jaccard",
           "diabetic massager",
           "2024-07-01T00:00:00"
          ],
          [
           "jaccard",
           "greenpan ceramic nonstick fry pan 12 inch",
           "2024-07-01T00:00:00"
          ],
          [
           "jaccard",
           "guano de murciélago",
           "2024-07-01T00:00:00"
          ],
          [
           "jaccard",
           "handlebars",
           "2024-07-01T00:00:00"
          ],
          [
           "jaccard",
           "joyce meyer",
           "2024-07-01T00:00:00"
          ],
          [
           "jaccard",
           "level tools",
           "2024-07-01T00:00:00"
          ],
          [
           "jaccard",
           "long johns for men",
           "2024-07-01T00:00:00"
          ],
          [
           "jaccard",
           "mct oil capsules",
           "2024-07-01T00:00:00"
          ],
          [
           "jaccard",
           "nike air force 1 men",
           "2024-07-01T00:00:00"
          ],
          [
           "jaccard",
           "nipple clamps",
           "2024-07-01T00:00:00"
          ],
          [
           "jaccard",
           "patinete niño 9 años",
           "2024-07-01T00:00:00"
          ],
          [
           "jaccard",
           "replacement brush heads sonicare",
           "2024-07-01T00:00:00"
          ],
          [
           "jaccard",
           "shoot rubber bullets",
           "2024-07-01T00:00:00"
          ],
          [
           "jaccard",
           "solar pool covers for inground pools",
           "2024-07-01T00:00:00"
          ],
          [
           "jaccard",
           "toyota white touch up",
           "2024-07-01T00:00:00"
          ],
          [
           "jaccard",
           "ブルートゥースイヤホン",
           "2024-07-01T00:00:00"
          ],
          [
           "jaccard",
           "3d tree wall owl",
           "2024-06-25T00:00:00"
          ],
          [
           "jaccard",
           "classic black dresses for women",
           "2024-06-25T00:00:00"
          ],
          [
           "jaccard",
           "cuadro para oficina",
           "2024-06-25T00:00:00"
          ],
          [
           "jaccard",
           "cute vans for women",
           "2024-06-25T00:00:00"
          ],
          [
           "jaccard",
           "diabetic massager",
           "2024-06-25T00:00:00"
          ],
          [
           "jaccard",
           "greenpan ceramic nonstick fry pan 12 inch",
           "2024-06-25T00:00:00"
          ],
          [
           "jaccard",
           "guano de murciélago",
           "2024-06-25T00:00:00"
          ],
          [
           "jaccard",
           "handlebars",
           "2024-06-25T00:00:00"
          ],
          [
           "jaccard",
           "joyce meyer",
           "2024-06-25T00:00:00"
          ],
          [
           "jaccard",
           "level tools",
           "2024-06-25T00:00:00"
          ],
          [
           "jaccard",
           "long johns for men",
           "2024-06-25T00:00:00"
          ],
          [
           "jaccard",
           "mct oil capsules",
           "2024-06-25T00:00:00"
          ],
          [
           "jaccard",
           "nike air force 1 men",
           "2024-06-25T00:00:00"
          ],
          [
           "jaccard",
           "nipple clamps",
           "2024-06-25T00:00:00"
          ],
          [
           "jaccard",
           "patinete niño 9 años",
           "2024-06-25T00:00:00"
          ],
          [
           "jaccard",
           "replacement brush heads sonicare",
           "2024-06-25T00:00:00"
          ],
          [
           "jaccard",
           "shoot rubber bullets",
           "2024-06-25T00:00:00"
          ],
          [
           "jaccard",
           "solar pool covers for inground pools",
           "2024-06-25T00:00:00"
          ],
          [
           "jaccard",
           "toyota white touch up",
           "2024-06-25T00:00:00"
          ],
          [
           "jaccard",
           "ブルートゥースイヤホン",
           "2024-06-25T00:00:00"
          ],
          [
           "jaccard",
           "3d tree wall owl",
           "2024-06-26T00:00:00"
          ],
          [
           "jaccard",
           "classic black dresses for women",
           "2024-06-26T00:00:00"
          ],
          [
           "jaccard",
           "cuadro para oficina",
           "2024-06-26T00:00:00"
          ],
          [
           "jaccard",
           "cute vans for women",
           "2024-06-26T00:00:00"
          ],
          [
           "jaccard",
           "diabetic massager",
           "2024-06-26T00:00:00"
          ],
          [
           "jaccard",
           "greenpan ceramic nonstick fry pan 12 inch",
           "2024-06-26T00:00:00"
          ],
          [
           "jaccard",
           "guano de murciélago",
           "2024-06-26T00:00:00"
          ],
          [
           "jaccard",
           "handlebars",
           "2024-06-26T00:00:00"
          ],
          [
           "jaccard",
           "joyce meyer",
           "2024-06-26T00:00:00"
          ],
          [
           "jaccard",
           "level tools",
           "2024-06-26T00:00:00"
          ],
          [
           "jaccard",
           "long johns for men",
           "2024-06-26T00:00:00"
          ],
          [
           "jaccard",
           "mct oil capsules",
           "2024-06-26T00:00:00"
          ],
          [
           "jaccard",
           "nike air force 1 men",
           "2024-06-26T00:00:00"
          ],
          [
           "jaccard",
           "nipple clamps",
           "2024-06-26T00:00:00"
          ],
          [
           "jaccard",
           "patinete niño 9 años",
           "2024-06-26T00:00:00"
          ],
          [
           "jaccard",
           "replacement brush heads sonicare",
           "2024-06-26T00:00:00"
          ],
          [
           "jaccard",
           "shoot rubber bullets",
           "2024-06-26T00:00:00"
          ],
          [
           "jaccard",
           "solar pool covers for inground pools",
           "2024-06-26T00:00:00"
          ],
          [
           "jaccard",
           "toyota white touch up",
           "2024-06-26T00:00:00"
          ],
          [
           "jaccard",
           "ブルートゥースイヤホン",
           "2024-06-26T00:00:00"
          ],
          [
           "jaccard",
           "3d tree wall owl",
           "2024-06-27T00:00:00"
          ],
          [
           "jaccard",
           "classic black dresses for women",
           "2024-06-27T00:00:00"
          ],
          [
           "jaccard",
           "cuadro para oficina",
           "2024-06-27T00:00:00"
          ],
          [
           "jaccard",
           "cute vans for women",
           "2024-06-27T00:00:00"
          ],
          [
           "jaccard",
           "diabetic massager",
           "2024-06-27T00:00:00"
          ],
          [
           "jaccard",
           "greenpan ceramic nonstick fry pan 12 inch",
           "2024-06-27T00:00:00"
          ],
          [
           "jaccard",
           "guano de murciélago",
           "2024-06-27T00:00:00"
          ],
          [
           "jaccard",
           "handlebars",
           "2024-06-27T00:00:00"
          ],
          [
           "jaccard",
           "joyce meyer",
           "2024-06-27T00:00:00"
          ],
          [
           "jaccard",
           "level tools",
           "2024-06-27T00:00:00"
          ],
          [
           "jaccard",
           "long johns for men",
           "2024-06-27T00:00:00"
          ],
          [
           "jaccard",
           "mct oil capsules",
           "2024-06-27T00:00:00"
          ],
          [
           "jaccard",
           "nike air force 1 men",
           "2024-06-27T00:00:00"
          ],
          [
           "jaccard",
           "nipple clamps",
           "2024-06-27T00:00:00"
          ],
          [
           "jaccard",
           "patinete niño 9 años",
           "2024-06-27T00:00:00"
          ],
          [
           "jaccard",
           "replacement brush heads sonicare",
           "2024-06-27T00:00:00"
          ],
          [
           "jaccard",
           "shoot rubber bullets",
           "2024-06-27T00:00:00"
          ],
          [
           "jaccard",
           "solar pool covers for inground pools",
           "2024-06-27T00:00:00"
          ],
          [
           "jaccard",
           "toyota white touch up",
           "2024-06-27T00:00:00"
          ],
          [
           "jaccard",
           "ブルートゥースイヤホン",
           "2024-06-27T00:00:00"
          ],
          [
           "jaccard",
           "3d tree wall owl",
           "2024-06-28T00:00:00"
          ],
          [
           "jaccard",
           "classic black dresses for women",
           "2024-06-28T00:00:00"
          ],
          [
           "jaccard",
           "cuadro para oficina",
           "2024-06-28T00:00:00"
          ],
          [
           "jaccard",
           "cute vans for women",
           "2024-06-28T00:00:00"
          ],
          [
           "jaccard",
           "diabetic massager",
           "2024-06-28T00:00:00"
          ],
          [
           "jaccard",
           "greenpan ceramic nonstick fry pan 12 inch",
           "2024-06-28T00:00:00"
          ],
          [
           "jaccard",
           "guano de murciélago",
           "2024-06-28T00:00:00"
          ],
          [
           "jaccard",
           "handlebars",
           "2024-06-28T00:00:00"
          ],
          [
           "jaccard",
           "joyce meyer",
           "2024-06-28T00:00:00"
          ],
          [
           "jaccard",
           "level tools",
           "2024-06-28T00:00:00"
          ],
          [
           "jaccard",
           "long johns for men",
           "2024-06-28T00:00:00"
          ],
          [
           "jaccard",
           "mct oil capsules",
           "2024-06-28T00:00:00"
          ],
          [
           "jaccard",
           "nike air force 1 men",
           "2024-06-28T00:00:00"
          ],
          [
           "jaccard",
           "nipple clamps",
           "2024-06-28T00:00:00"
          ],
          [
           "jaccard",
           "patinete niño 9 años",
           "2024-06-28T00:00:00"
          ],
          [
           "jaccard",
           "replacement brush heads sonicare",
           "2024-06-28T00:00:00"
          ],
          [
           "jaccard",
           "shoot rubber bullets",
           "2024-06-28T00:00:00"
          ],
          [
           "jaccard",
           "solar pool covers for inground pools",
           "2024-06-28T00:00:00"
          ],
          [
           "jaccard",
           "toyota white touch up",
           "2024-06-28T00:00:00"
          ],
          [
           "jaccard",
           "ブルートゥースイヤホン",
           "2024-06-28T00:00:00"
          ],
          [
           "jaccard",
           "3d tree wall owl",
           "2024-06-29T00:00:00"
          ],
          [
           "jaccard",
           "classic black dresses for women",
           "2024-06-29T00:00:00"
          ],
          [
           "jaccard",
           "cuadro para oficina",
           "2024-06-29T00:00:00"
          ],
          [
           "jaccard",
           "cute vans for women",
           "2024-06-29T00:00:00"
          ],
          [
           "jaccard",
           "diabetic massager",
           "2024-06-29T00:00:00"
          ],
          [
           "jaccard",
           "greenpan ceramic nonstick fry pan 12 inch",
           "2024-06-29T00:00:00"
          ],
          [
           "jaccard",
           "guano de murciélago",
           "2024-06-29T00:00:00"
          ],
          [
           "jaccard",
           "handlebars",
           "2024-06-29T00:00:00"
          ],
          [
           "jaccard",
           "joyce meyer",
           "2024-06-29T00:00:00"
          ],
          [
           "jaccard",
           "level tools",
           "2024-06-29T00:00:00"
          ],
          [
           "jaccard",
           "long johns for men",
           "2024-06-29T00:00:00"
          ],
          [
           "jaccard",
           "mct oil capsules",
           "2024-06-29T00:00:00"
          ],
          [
           "jaccard",
           "nike air force 1 men",
           "2024-06-29T00:00:00"
          ],
          [
           "jaccard",
           "nipple clamps",
           "2024-06-29T00:00:00"
          ],
          [
           "jaccard",
           "patinete niño 9 años",
           "2024-06-29T00:00:00"
          ],
          [
           "jaccard",
           "replacement brush heads sonicare",
           "2024-06-29T00:00:00"
          ],
          [
           "jaccard",
           "shoot rubber bullets",
           "2024-06-29T00:00:00"
          ],
          [
           "jaccard",
           "solar pool covers for inground pools",
           "2024-06-29T00:00:00"
          ],
          [
           "jaccard",
           "toyota white touch up",
           "2024-06-29T00:00:00"
          ],
          [
           "jaccard",
           "ブルートゥースイヤホン",
           "2024-06-29T00:00:00"
          ],
          [
           "jaccard",
           "3d tree wall owl",
           "2024-06-30T00:00:00"
          ],
          [
           "jaccard",
           "classic black dresses for women",
           "2024-06-30T00:00:00"
          ],
          [
           "jaccard",
           "cuadro para oficina",
           "2024-06-30T00:00:00"
          ],
          [
           "jaccard",
           "cute vans for women",
           "2024-06-30T00:00:00"
          ],
          [
           "jaccard",
           "diabetic massager",
           "2024-06-30T00:00:00"
          ],
          [
           "jaccard",
           "greenpan ceramic nonstick fry pan 12 inch",
           "2024-06-30T00:00:00"
          ],
          [
           "jaccard",
           "guano de murciélago",
           "2024-06-30T00:00:00"
          ],
          [
           "jaccard",
           "handlebars",
           "2024-06-30T00:00:00"
          ],
          [
           "jaccard",
           "joyce meyer",
           "2024-06-30T00:00:00"
          ],
          [
           "jaccard",
           "level tools",
           "2024-06-30T00:00:00"
          ],
          [
           "jaccard",
           "long johns for men",
           "2024-06-30T00:00:00"
          ],
          [
           "jaccard",
           "mct oil capsules",
           "2024-06-30T00:00:00"
          ],
          [
           "jaccard",
           "nike air force 1 men",
           "2024-06-30T00:00:00"
          ],
          [
           "jaccard",
           "nipple clamps",
           "2024-06-30T00:00:00"
          ],
          [
           "jaccard",
           "patinete niño 9 años",
           "2024-06-30T00:00:00"
          ],
          [
           "jaccard",
           "replacement brush heads sonicare",
           "2024-06-30T00:00:00"
          ],
          [
           "jaccard",
           "shoot rubber bullets",
           "2024-06-30T00:00:00"
          ],
          [
           "jaccard",
           "solar pool covers for inground pools",
           "2024-06-30T00:00:00"
          ],
          [
           "jaccard",
           "toyota white touch up",
           "2024-06-30T00:00:00"
          ],
          [
           "jaccard",
           "ブルートゥースイヤホン",
           "2024-06-30T00:00:00"
          ],
          [
           "jaccard",
           "3d tree wall owl",
           "2024-07-01T00:00:00"
          ],
          [
           "jaccard",
           "classic black dresses for women",
           "2024-07-01T00:00:00"
          ],
          [
           "jaccard",
           "cuadro para oficina",
           "2024-07-01T00:00:00"
          ],
          [
           "jaccard",
           "cute vans for women",
           "2024-07-01T00:00:00"
          ],
          [
           "jaccard",
           "diabetic massager",
           "2024-07-01T00:00:00"
          ],
          [
           "jaccard",
           "greenpan ceramic nonstick fry pan 12 inch",
           "2024-07-01T00:00:00"
          ],
          [
           "jaccard",
           "guano de murciélago",
           "2024-07-01T00:00:00"
          ],
          [
           "jaccard",
           "handlebars",
           "2024-07-01T00:00:00"
          ],
          [
           "jaccard",
           "joyce meyer",
           "2024-07-01T00:00:00"
          ],
          [
           "jaccard",
           "level tools",
           "2024-07-01T00:00:00"
          ],
          [
           "jaccard",
           "long johns for men",
           "2024-07-01T00:00:00"
          ],
          [
           "jaccard",
           "mct oil capsules",
           "2024-07-01T00:00:00"
          ],
          [
           "jaccard",
           "nike air force 1 men",
           "2024-07-01T00:00:00"
          ],
          [
           "jaccard",
           "nipple clamps",
           "2024-07-01T00:00:00"
          ],
          [
           "jaccard",
           "patinete niño 9 años",
           "2024-07-01T00:00:00"
          ],
          [
           "jaccard",
           "replacement brush heads sonicare",
           "2024-07-01T00:00:00"
          ],
          [
           "jaccard",
           "shoot rubber bullets",
           "2024-07-01T00:00:00"
          ],
          [
           "jaccard",
           "solar pool covers for inground pools",
           "2024-07-01T00:00:00"
          ],
          [
           "jaccard",
           "toyota white touch up",
           "2024-07-01T00:00:00"
          ],
          [
           "jaccard",
           "ブルートゥースイヤホン",
           "2024-07-01T00:00:00"
          ]
         ],
         "hovertemplate": "metric=%{customdata[0]}<br>search_config=%{x}<br>value=%{y}<br>query=%{customdata[1]}<br>datetime=%{customdata[2]}<extra></extra>",
         "legendgroup": "jaccard",
         "marker": {
          "color": "#636efa"
         },
         "name": "jaccard",
         "offsetgroup": "jaccard",
         "orientation": "v",
         "points": "all",
         "scalegroup": "True",
         "showlegend": true,
         "type": "violin",
         "x": [
          "research_1",
          "research_1",
          "research_1",
          "research_1",
          "research_1",
          "research_1",
          "research_1",
          "research_1",
          "research_1",
          "research_1",
          "research_1",
          "research_1",
          "research_1",
          "research_1",
          "research_1",
          "research_1",
          "research_1",
          "research_1",
          "research_1",
          "research_1",
          "research_1",
          "research_1",
          "research_1",
          "research_1",
          "research_1",
          "research_1",
          "research_1",
          "research_1",
          "research_1",
          "research_1",
          "research_1",
          "research_1",
          "research_1",
          "research_1",
          "research_1",
          "research_1",
          "research_1",
          "research_1",
          "research_1",
          "research_1",
          "research_1",
          "research_1",
          "research_1",
          "research_1",
          "research_1",
          "research_1",
          "research_1",
          "research_1",
          "research_1",
          "research_1",
          "research_1",
          "research_1",
          "research_1",
          "research_1",
          "research_1",
          "research_1",
          "research_1",
          "research_1",
          "research_1",
          "research_1",
          "research_1",
          "research_1",
          "research_1",
          "research_1",
          "research_1",
          "research_1",
          "research_1",
          "research_1",
          "research_1",
          "research_1",
          "research_1",
          "research_1",
          "research_1",
          "research_1",
          "research_1",
          "research_1",
          "research_1",
          "research_1",
          "research_1",
          "research_1",
          "research_1",
          "research_1",
          "research_1",
          "research_1",
          "research_1",
          "research_1",
          "research_1",
          "research_1",
          "research_1",
          "research_1",
          "research_1",
          "research_1",
          "research_1",
          "research_1",
          "research_1",
          "research_1",
          "research_1",
          "research_1",
          "research_1",
          "research_1",
          "research_1",
          "research_1",
          "research_1",
          "research_1",
          "research_1",
          "research_1",
          "research_1",
          "research_1",
          "research_1",
          "research_1",
          "research_1",
          "research_1",
          "research_1",
          "research_1",
          "research_1",
          "research_1",
          "research_1",
          "research_1",
          "research_1",
          "research_1",
          "research_1",
          "research_1",
          "research_1",
          "research_1",
          "research_1",
          "research_1",
          "research_1",
          "research_1",
          "research_1",
          "research_1",
          "research_1",
          "research_1",
          "research_1",
          "research_1",
          "research_1",
          "research_1",
          "research_1",
          "research_1",
          "research_1",
          "research_1",
          "research_2",
          "research_2",
          "research_2",
          "research_2",
          "research_2",
          "research_2",
          "research_2",
          "research_2",
          "research_2",
          "research_2",
          "research_2",
          "research_2",
          "research_2",
          "research_2",
          "research_2",
          "research_2",
          "research_2",
          "research_2",
          "research_2",
          "research_2",
          "research_2",
          "research_2",
          "research_2",
          "research_2",
          "research_2",
          "research_2",
          "research_2",
          "research_2",
          "research_2",
          "research_2",
          "research_2",
          "research_2",
          "research_2",
          "research_2",
          "research_2",
          "research_2",
          "research_2",
          "research_2",
          "research_2",
          "research_2",
          "research_2",
          "research_2",
          "research_2",
          "research_2",
          "research_2",
          "research_2",
          "research_2",
          "research_2",
          "research_2",
          "research_2",
          "research_2",
          "research_2",
          "research_2",
          "research_2",
          "research_2",
          "research_2",
          "research_2",
          "research_2",
          "research_2",
          "research_2",
          "research_2",
          "research_2",
          "research_2",
          "research_2",
          "research_2",
          "research_2",
          "research_2",
          "research_2",
          "research_2",
          "research_2",
          "research_2",
          "research_2",
          "research_2",
          "research_2",
          "research_2",
          "research_2",
          "research_2",
          "research_2",
          "research_2",
          "research_2",
          "research_2",
          "research_2",
          "research_2",
          "research_2",
          "research_2",
          "research_2",
          "research_2",
          "research_2",
          "research_2",
          "research_2",
          "research_2",
          "research_2",
          "research_2",
          "research_2",
          "research_2",
          "research_2",
          "research_2",
          "research_2",
          "research_2",
          "research_2",
          "research_2",
          "research_2",
          "research_2",
          "research_2",
          "research_2",
          "research_2",
          "research_2",
          "research_2",
          "research_2",
          "research_2",
          "research_2",
          "research_2",
          "research_2",
          "research_2",
          "research_2",
          "research_2",
          "research_2",
          "research_2",
          "research_2",
          "research_2",
          "research_2",
          "research_2",
          "research_2",
          "research_2",
          "research_2",
          "research_2",
          "research_2",
          "research_2",
          "research_2",
          "research_2",
          "research_2",
          "research_2",
          "research_2",
          "research_2",
          "research_2",
          "research_2",
          "research_2",
          "research_2",
          "research_2",
          "research_2",
          "challenger_1",
          "challenger_1",
          "challenger_1",
          "challenger_1",
          "challenger_1",
          "challenger_1",
          "challenger_1",
          "challenger_1",
          "challenger_1",
          "challenger_1",
          "challenger_1",
          "challenger_1",
          "challenger_1",
          "challenger_1",
          "challenger_1",
          "challenger_1",
          "challenger_1",
          "challenger_1",
          "challenger_1",
          "challenger_1",
          "challenger_1",
          "challenger_1",
          "challenger_1",
          "challenger_1",
          "challenger_1",
          "challenger_1",
          "challenger_1",
          "challenger_1",
          "challenger_1",
          "challenger_1",
          "challenger_1",
          "challenger_1",
          "challenger_1",
          "challenger_1",
          "challenger_1",
          "challenger_1",
          "challenger_1",
          "challenger_1",
          "challenger_1",
          "challenger_1",
          "challenger_1",
          "challenger_1",
          "challenger_1",
          "challenger_1",
          "challenger_1",
          "challenger_1",
          "challenger_1",
          "challenger_1",
          "challenger_1",
          "challenger_1",
          "challenger_1",
          "challenger_1",
          "challenger_1",
          "challenger_1",
          "challenger_1",
          "challenger_1",
          "challenger_1",
          "challenger_1",
          "challenger_1",
          "challenger_1",
          "challenger_1",
          "challenger_1",
          "challenger_1",
          "challenger_1",
          "challenger_1",
          "challenger_1",
          "challenger_1",
          "challenger_1",
          "challenger_1",
          "challenger_1",
          "challenger_1",
          "challenger_1",
          "challenger_1",
          "challenger_1",
          "challenger_1",
          "challenger_1",
          "challenger_1",
          "challenger_1",
          "challenger_1",
          "challenger_1",
          "challenger_1",
          "challenger_1",
          "challenger_1",
          "challenger_1",
          "challenger_1",
          "challenger_1",
          "challenger_1",
          "challenger_1",
          "challenger_1",
          "challenger_1",
          "challenger_1",
          "challenger_1",
          "challenger_1",
          "challenger_1",
          "challenger_1",
          "challenger_1",
          "challenger_1",
          "challenger_1",
          "challenger_1",
          "challenger_1",
          "challenger_1",
          "challenger_1",
          "challenger_1",
          "challenger_1",
          "challenger_1",
          "challenger_1",
          "challenger_1",
          "challenger_1",
          "challenger_1",
          "challenger_1",
          "challenger_1",
          "challenger_1",
          "challenger_1",
          "challenger_1",
          "challenger_1",
          "challenger_1",
          "challenger_1",
          "challenger_1",
          "challenger_1",
          "challenger_1",
          "challenger_1",
          "challenger_1",
          "challenger_1",
          "challenger_1",
          "challenger_1",
          "challenger_1",
          "challenger_1",
          "challenger_1",
          "challenger_1",
          "challenger_1",
          "challenger_1",
          "challenger_1",
          "challenger_1",
          "challenger_1",
          "challenger_1",
          "challenger_1",
          "challenger_1",
          "challenger_1",
          "challenger_1",
          "challenger_1"
         ],
         "x0": " ",
         "xaxis": "x",
         "y": [
          0.16666666666666666,
          0.14285714285714285,
          0,
          0.2,
          0,
          0,
          0,
          0.3333333333333333,
          0,
          0,
          0.16666666666666666,
          0,
          0.14285714285714285,
          0,
          0,
          0,
          0,
          0,
          0.17647058823529413,
          0,
          0.16666666666666666,
          0.14285714285714285,
          0,
          0.2,
          0,
          0,
          0,
          0.3333333333333333,
          0,
          0,
          0.16666666666666666,
          0,
          0.14285714285714285,
          0,
          0,
          0,
          0,
          0,
          0.17647058823529413,
          0,
          0.16666666666666666,
          0.14285714285714285,
          0,
          0.2,
          0,
          0,
          0,
          0.3333333333333333,
          0,
          0,
          0.16666666666666666,
          0,
          0.14285714285714285,
          0,
          0,
          0,
          0,
          0,
          0.17647058823529413,
          0,
          0.16666666666666666,
          0.14285714285714285,
          0,
          0.2,
          0,
          0,
          0,
          0.3333333333333333,
          0,
          0,
          0.16666666666666666,
          0,
          0.14285714285714285,
          0,
          0,
          0,
          0,
          0,
          0.17647058823529413,
          0,
          0.16666666666666666,
          0.14285714285714285,
          0,
          0.2,
          0,
          0,
          0,
          0.3333333333333333,
          0,
          0,
          0.16666666666666666,
          0,
          0.14285714285714285,
          0,
          0,
          0,
          0,
          0,
          0.17647058823529413,
          0,
          0.16666666666666666,
          0.14285714285714285,
          0,
          0.2,
          0,
          0,
          0,
          0.3333333333333333,
          0,
          0,
          0.16666666666666666,
          0,
          0.14285714285714285,
          0,
          0,
          0,
          0,
          0,
          0.17647058823529413,
          0,
          0.16666666666666666,
          0.14285714285714285,
          0,
          0.2,
          0,
          0,
          0,
          0.3333333333333333,
          0,
          0,
          0.16666666666666666,
          0,
          0.14285714285714285,
          0,
          0,
          0,
          0,
          0,
          0.17647058823529413,
          0,
          0.14285714285714285,
          0.35,
          0.3333333333333333,
          0,
          0.18181818181818182,
          0.3,
          0.25,
          0.5,
          0.2222222222222222,
          0.14285714285714285,
          0.125,
          0,
          0.1111111111111111,
          0.1,
          0.2,
          0.19047619047619047,
          0.2222222222222222,
          0,
          0.1,
          0,
          0.14285714285714285,
          0.35,
          0.3333333333333333,
          0,
          0.18181818181818182,
          0.3,
          0.25,
          0.5,
          0.2222222222222222,
          0.14285714285714285,
          0.125,
          0,
          0.1111111111111111,
          0.1,
          0.2,
          0.19047619047619047,
          0.2222222222222222,
          0,
          0.1,
          0,
          0.14285714285714285,
          0.35,
          0.3333333333333333,
          0,
          0.18181818181818182,
          0.3,
          0.25,
          0.5,
          0.2222222222222222,
          0.14285714285714285,
          0.125,
          0,
          0.1111111111111111,
          0.1,
          0.2,
          0.19047619047619047,
          0.2222222222222222,
          0,
          0.1,
          0,
          0.14285714285714285,
          0.35,
          0.3333333333333333,
          0,
          0.18181818181818182,
          0.3,
          0.25,
          0.5,
          0.2222222222222222,
          0.14285714285714285,
          0.125,
          0,
          0.1111111111111111,
          0.1,
          0.2,
          0.19047619047619047,
          0.2222222222222222,
          0,
          0.1,
          0,
          0.14285714285714285,
          0.35,
          0.3333333333333333,
          0,
          0.18181818181818182,
          0.3,
          0.25,
          0.5,
          0.2222222222222222,
          0.14285714285714285,
          0.125,
          0,
          0.1111111111111111,
          0.1,
          0.2,
          0.19047619047619047,
          0.2222222222222222,
          0,
          0.1,
          0,
          0.14285714285714285,
          0.35,
          0.3333333333333333,
          0,
          0.18181818181818182,
          0.3,
          0.25,
          0.5,
          0.2222222222222222,
          0.14285714285714285,
          0.125,
          0,
          0.1111111111111111,
          0.1,
          0.2,
          0.19047619047619047,
          0.2222222222222222,
          0,
          0.1,
          0,
          0.14285714285714285,
          0.35,
          0.3333333333333333,
          0,
          0.18181818181818182,
          0.3,
          0.25,
          0.5,
          0.2222222222222222,
          0.14285714285714285,
          0.125,
          0,
          0.1111111111111111,
          0.1,
          0.2,
          0.19047619047619047,
          0.2222222222222222,
          0,
          0.1,
          0,
          0.4444444444444444,
          0.3333333333333333,
          0.125,
          0.5555555555555556,
          0.2727272727272727,
          0.3,
          0.12,
          0.1,
          0.25,
          0.2857142857142857,
          0.125,
          0.25,
          0.18181818181818182,
          0.3333333333333333,
          0,
          0.25,
          0.14285714285714285,
          0,
          0.42857142857142855,
          0,
          0.4444444444444444,
          0.3333333333333333,
          0.125,
          0.5555555555555556,
          0.2727272727272727,
          0.3,
          0.12,
          0.1,
          0.25,
          0.2857142857142857,
          0.125,
          0.25,
          0.18181818181818182,
          0.3333333333333333,
          0,
          0.25,
          0.14285714285714285,
          0,
          0.42857142857142855,
          0,
          0.4444444444444444,
          0.3333333333333333,
          0.125,
          0.5555555555555556,
          0.2727272727272727,
          0.3,
          0.12,
          0.1,
          0.25,
          0.2857142857142857,
          0.125,
          0.25,
          0.18181818181818182,
          0.3333333333333333,
          0,
          0.25,
          0.14285714285714285,
          0,
          0.42857142857142855,
          0,
          0.4444444444444444,
          0.3333333333333333,
          0.125,
          0.5555555555555556,
          0.2727272727272727,
          0.3,
          0.12,
          0.1,
          0.25,
          0.2857142857142857,
          0.125,
          0.25,
          0.18181818181818182,
          0.3333333333333333,
          0,
          0.25,
          0.14285714285714285,
          0,
          0.42857142857142855,
          0,
          0.4444444444444444,
          0.3333333333333333,
          0.125,
          0.5555555555555556,
          0.2727272727272727,
          0.3,
          0.12,
          0.1,
          0.25,
          0.2857142857142857,
          0.125,
          0.25,
          0.18181818181818182,
          0.3333333333333333,
          0,
          0.25,
          0.14285714285714285,
          0,
          0.42857142857142855,
          0,
          0.4444444444444444,
          0.3333333333333333,
          0.125,
          0.5555555555555556,
          0.2727272727272727,
          0.3,
          0.12,
          0.1,
          0.25,
          0.2857142857142857,
          0.125,
          0.25,
          0.18181818181818182,
          0.3333333333333333,
          0,
          0.25,
          0.14285714285714285,
          0,
          0.42857142857142855,
          0,
          0.4444444444444444,
          0.3333333333333333,
          0.125,
          0.5555555555555556,
          0.2727272727272727,
          0.3,
          0.12,
          0.1,
          0.25,
          0.2857142857142857,
          0.125,
          0.25,
          0.18181818181818182,
          0.3333333333333333,
          0,
          0.25,
          0.14285714285714285,
          0,
          0.42857142857142855,
          0
         ],
         "y0": " ",
         "yaxis": "y"
        }
       ],
       "layout": {
        "legend": {
         "title": {
          "text": "metric"
         },
         "tracegroupgap": 0
        },
        "margin": {
         "t": 60
        },
        "template": {
         "data": {
          "bar": [
           {
            "error_x": {
             "color": "#2a3f5f"
            },
            "error_y": {
             "color": "#2a3f5f"
            },
            "marker": {
             "line": {
              "color": "#E5ECF6",
              "width": 0.5
             },
             "pattern": {
              "fillmode": "overlay",
              "size": 10,
              "solidity": 0.2
             }
            },
            "type": "bar"
           }
          ],
          "barpolar": [
           {
            "marker": {
             "line": {
              "color": "#E5ECF6",
              "width": 0.5
             },
             "pattern": {
              "fillmode": "overlay",
              "size": 10,
              "solidity": 0.2
             }
            },
            "type": "barpolar"
           }
          ],
          "carpet": [
           {
            "aaxis": {
             "endlinecolor": "#2a3f5f",
             "gridcolor": "white",
             "linecolor": "white",
             "minorgridcolor": "white",
             "startlinecolor": "#2a3f5f"
            },
            "baxis": {
             "endlinecolor": "#2a3f5f",
             "gridcolor": "white",
             "linecolor": "white",
             "minorgridcolor": "white",
             "startlinecolor": "#2a3f5f"
            },
            "type": "carpet"
           }
          ],
          "choropleth": [
           {
            "colorbar": {
             "outlinewidth": 0,
             "ticks": ""
            },
            "type": "choropleth"
           }
          ],
          "contour": [
           {
            "colorbar": {
             "outlinewidth": 0,
             "ticks": ""
            },
            "colorscale": [
             [
              0,
              "#0d0887"
             ],
             [
              0.1111111111111111,
              "#46039f"
             ],
             [
              0.2222222222222222,
              "#7201a8"
             ],
             [
              0.3333333333333333,
              "#9c179e"
             ],
             [
              0.4444444444444444,
              "#bd3786"
             ],
             [
              0.5555555555555556,
              "#d8576b"
             ],
             [
              0.6666666666666666,
              "#ed7953"
             ],
             [
              0.7777777777777778,
              "#fb9f3a"
             ],
             [
              0.8888888888888888,
              "#fdca26"
             ],
             [
              1,
              "#f0f921"
             ]
            ],
            "type": "contour"
           }
          ],
          "contourcarpet": [
           {
            "colorbar": {
             "outlinewidth": 0,
             "ticks": ""
            },
            "type": "contourcarpet"
           }
          ],
          "heatmap": [
           {
            "colorbar": {
             "outlinewidth": 0,
             "ticks": ""
            },
            "colorscale": [
             [
              0,
              "#0d0887"
             ],
             [
              0.1111111111111111,
              "#46039f"
             ],
             [
              0.2222222222222222,
              "#7201a8"
             ],
             [
              0.3333333333333333,
              "#9c179e"
             ],
             [
              0.4444444444444444,
              "#bd3786"
             ],
             [
              0.5555555555555556,
              "#d8576b"
             ],
             [
              0.6666666666666666,
              "#ed7953"
             ],
             [
              0.7777777777777778,
              "#fb9f3a"
             ],
             [
              0.8888888888888888,
              "#fdca26"
             ],
             [
              1,
              "#f0f921"
             ]
            ],
            "type": "heatmap"
           }
          ],
          "heatmapgl": [
           {
            "colorbar": {
             "outlinewidth": 0,
             "ticks": ""
            },
            "colorscale": [
             [
              0,
              "#0d0887"
             ],
             [
              0.1111111111111111,
              "#46039f"
             ],
             [
              0.2222222222222222,
              "#7201a8"
             ],
             [
              0.3333333333333333,
              "#9c179e"
             ],
             [
              0.4444444444444444,
              "#bd3786"
             ],
             [
              0.5555555555555556,
              "#d8576b"
             ],
             [
              0.6666666666666666,
              "#ed7953"
             ],
             [
              0.7777777777777778,
              "#fb9f3a"
             ],
             [
              0.8888888888888888,
              "#fdca26"
             ],
             [
              1,
              "#f0f921"
             ]
            ],
            "type": "heatmapgl"
           }
          ],
          "histogram": [
           {
            "marker": {
             "pattern": {
              "fillmode": "overlay",
              "size": 10,
              "solidity": 0.2
             }
            },
            "type": "histogram"
           }
          ],
          "histogram2d": [
           {
            "colorbar": {
             "outlinewidth": 0,
             "ticks": ""
            },
            "colorscale": [
             [
              0,
              "#0d0887"
             ],
             [
              0.1111111111111111,
              "#46039f"
             ],
             [
              0.2222222222222222,
              "#7201a8"
             ],
             [
              0.3333333333333333,
              "#9c179e"
             ],
             [
              0.4444444444444444,
              "#bd3786"
             ],
             [
              0.5555555555555556,
              "#d8576b"
             ],
             [
              0.6666666666666666,
              "#ed7953"
             ],
             [
              0.7777777777777778,
              "#fb9f3a"
             ],
             [
              0.8888888888888888,
              "#fdca26"
             ],
             [
              1,
              "#f0f921"
             ]
            ],
            "type": "histogram2d"
           }
          ],
          "histogram2dcontour": [
           {
            "colorbar": {
             "outlinewidth": 0,
             "ticks": ""
            },
            "colorscale": [
             [
              0,
              "#0d0887"
             ],
             [
              0.1111111111111111,
              "#46039f"
             ],
             [
              0.2222222222222222,
              "#7201a8"
             ],
             [
              0.3333333333333333,
              "#9c179e"
             ],
             [
              0.4444444444444444,
              "#bd3786"
             ],
             [
              0.5555555555555556,
              "#d8576b"
             ],
             [
              0.6666666666666666,
              "#ed7953"
             ],
             [
              0.7777777777777778,
              "#fb9f3a"
             ],
             [
              0.8888888888888888,
              "#fdca26"
             ],
             [
              1,
              "#f0f921"
             ]
            ],
            "type": "histogram2dcontour"
           }
          ],
          "mesh3d": [
           {
            "colorbar": {
             "outlinewidth": 0,
             "ticks": ""
            },
            "type": "mesh3d"
           }
          ],
          "parcoords": [
           {
            "line": {
             "colorbar": {
              "outlinewidth": 0,
              "ticks": ""
             }
            },
            "type": "parcoords"
           }
          ],
          "pie": [
           {
            "automargin": true,
            "type": "pie"
           }
          ],
          "scatter": [
           {
            "fillpattern": {
             "fillmode": "overlay",
             "size": 10,
             "solidity": 0.2
            },
            "type": "scatter"
           }
          ],
          "scatter3d": [
           {
            "line": {
             "colorbar": {
              "outlinewidth": 0,
              "ticks": ""
             }
            },
            "marker": {
             "colorbar": {
              "outlinewidth": 0,
              "ticks": ""
             }
            },
            "type": "scatter3d"
           }
          ],
          "scattercarpet": [
           {
            "marker": {
             "colorbar": {
              "outlinewidth": 0,
              "ticks": ""
             }
            },
            "type": "scattercarpet"
           }
          ],
          "scattergeo": [
           {
            "marker": {
             "colorbar": {
              "outlinewidth": 0,
              "ticks": ""
             }
            },
            "type": "scattergeo"
           }
          ],
          "scattergl": [
           {
            "marker": {
             "colorbar": {
              "outlinewidth": 0,
              "ticks": ""
             }
            },
            "type": "scattergl"
           }
          ],
          "scattermapbox": [
           {
            "marker": {
             "colorbar": {
              "outlinewidth": 0,
              "ticks": ""
             }
            },
            "type": "scattermapbox"
           }
          ],
          "scatterpolar": [
           {
            "marker": {
             "colorbar": {
              "outlinewidth": 0,
              "ticks": ""
             }
            },
            "type": "scatterpolar"
           }
          ],
          "scatterpolargl": [
           {
            "marker": {
             "colorbar": {
              "outlinewidth": 0,
              "ticks": ""
             }
            },
            "type": "scatterpolargl"
           }
          ],
          "scatterternary": [
           {
            "marker": {
             "colorbar": {
              "outlinewidth": 0,
              "ticks": ""
             }
            },
            "type": "scatterternary"
           }
          ],
          "surface": [
           {
            "colorbar": {
             "outlinewidth": 0,
             "ticks": ""
            },
            "colorscale": [
             [
              0,
              "#0d0887"
             ],
             [
              0.1111111111111111,
              "#46039f"
             ],
             [
              0.2222222222222222,
              "#7201a8"
             ],
             [
              0.3333333333333333,
              "#9c179e"
             ],
             [
              0.4444444444444444,
              "#bd3786"
             ],
             [
              0.5555555555555556,
              "#d8576b"
             ],
             [
              0.6666666666666666,
              "#ed7953"
             ],
             [
              0.7777777777777778,
              "#fb9f3a"
             ],
             [
              0.8888888888888888,
              "#fdca26"
             ],
             [
              1,
              "#f0f921"
             ]
            ],
            "type": "surface"
           }
          ],
          "table": [
           {
            "cells": {
             "fill": {
              "color": "#EBF0F8"
             },
             "line": {
              "color": "white"
             }
            },
            "header": {
             "fill": {
              "color": "#C8D4E3"
             },
             "line": {
              "color": "white"
             }
            },
            "type": "table"
           }
          ]
         },
         "layout": {
          "annotationdefaults": {
           "arrowcolor": "#2a3f5f",
           "arrowhead": 0,
           "arrowwidth": 1
          },
          "autotypenumbers": "strict",
          "coloraxis": {
           "colorbar": {
            "outlinewidth": 0,
            "ticks": ""
           }
          },
          "colorscale": {
           "diverging": [
            [
             0,
             "#8e0152"
            ],
            [
             0.1,
             "#c51b7d"
            ],
            [
             0.2,
             "#de77ae"
            ],
            [
             0.3,
             "#f1b6da"
            ],
            [
             0.4,
             "#fde0ef"
            ],
            [
             0.5,
             "#f7f7f7"
            ],
            [
             0.6,
             "#e6f5d0"
            ],
            [
             0.7,
             "#b8e186"
            ],
            [
             0.8,
             "#7fbc41"
            ],
            [
             0.9,
             "#4d9221"
            ],
            [
             1,
             "#276419"
            ]
           ],
           "sequential": [
            [
             0,
             "#0d0887"
            ],
            [
             0.1111111111111111,
             "#46039f"
            ],
            [
             0.2222222222222222,
             "#7201a8"
            ],
            [
             0.3333333333333333,
             "#9c179e"
            ],
            [
             0.4444444444444444,
             "#bd3786"
            ],
            [
             0.5555555555555556,
             "#d8576b"
            ],
            [
             0.6666666666666666,
             "#ed7953"
            ],
            [
             0.7777777777777778,
             "#fb9f3a"
            ],
            [
             0.8888888888888888,
             "#fdca26"
            ],
            [
             1,
             "#f0f921"
            ]
           ],
           "sequentialminus": [
            [
             0,
             "#0d0887"
            ],
            [
             0.1111111111111111,
             "#46039f"
            ],
            [
             0.2222222222222222,
             "#7201a8"
            ],
            [
             0.3333333333333333,
             "#9c179e"
            ],
            [
             0.4444444444444444,
             "#bd3786"
            ],
            [
             0.5555555555555556,
             "#d8576b"
            ],
            [
             0.6666666666666666,
             "#ed7953"
            ],
            [
             0.7777777777777778,
             "#fb9f3a"
            ],
            [
             0.8888888888888888,
             "#fdca26"
            ],
            [
             1,
             "#f0f921"
            ]
           ]
          },
          "colorway": [
           "#636efa",
           "#EF553B",
           "#00cc96",
           "#ab63fa",
           "#FFA15A",
           "#19d3f3",
           "#FF6692",
           "#B6E880",
           "#FF97FF",
           "#FECB52"
          ],
          "font": {
           "color": "#2a3f5f"
          },
          "geo": {
           "bgcolor": "white",
           "lakecolor": "white",
           "landcolor": "#E5ECF6",
           "showlakes": true,
           "showland": true,
           "subunitcolor": "white"
          },
          "hoverlabel": {
           "align": "left"
          },
          "hovermode": "closest",
          "mapbox": {
           "style": "light"
          },
          "paper_bgcolor": "white",
          "plot_bgcolor": "#E5ECF6",
          "polar": {
           "angularaxis": {
            "gridcolor": "white",
            "linecolor": "white",
            "ticks": ""
           },
           "bgcolor": "#E5ECF6",
           "radialaxis": {
            "gridcolor": "white",
            "linecolor": "white",
            "ticks": ""
           }
          },
          "scene": {
           "xaxis": {
            "backgroundcolor": "#E5ECF6",
            "gridcolor": "white",
            "gridwidth": 2,
            "linecolor": "white",
            "showbackground": true,
            "ticks": "",
            "zerolinecolor": "white"
           },
           "yaxis": {
            "backgroundcolor": "#E5ECF6",
            "gridcolor": "white",
            "gridwidth": 2,
            "linecolor": "white",
            "showbackground": true,
            "ticks": "",
            "zerolinecolor": "white"
           },
           "zaxis": {
            "backgroundcolor": "#E5ECF6",
            "gridcolor": "white",
            "gridwidth": 2,
            "linecolor": "white",
            "showbackground": true,
            "ticks": "",
            "zerolinecolor": "white"
           }
          },
          "shapedefaults": {
           "line": {
            "color": "#2a3f5f"
           }
          },
          "ternary": {
           "aaxis": {
            "gridcolor": "white",
            "linecolor": "white",
            "ticks": ""
           },
           "baxis": {
            "gridcolor": "white",
            "linecolor": "white",
            "ticks": ""
           },
           "bgcolor": "#E5ECF6",
           "caxis": {
            "gridcolor": "white",
            "linecolor": "white",
            "ticks": ""
           }
          },
          "title": {
           "x": 0.05
          },
          "xaxis": {
           "automargin": true,
           "gridcolor": "white",
           "linecolor": "white",
           "ticks": "",
           "title": {
            "standoff": 15
           },
           "zerolinecolor": "white",
           "zerolinewidth": 2
          },
          "yaxis": {
           "automargin": true,
           "gridcolor": "white",
           "linecolor": "white",
           "ticks": "",
           "title": {
            "standoff": 15
           },
           "zerolinecolor": "white",
           "zerolinewidth": 2
          }
         }
        },
        "violinmode": "group",
        "xaxis": {
         "anchor": "y",
         "domain": [
          0,
          1
         ],
         "title": {
          "text": "search_config"
         }
        },
        "yaxis": {
         "anchor": "x",
         "domain": [
          0,
          1
         ],
         "title": {
          "text": "value"
         }
        }
       }
      },
      "text/html": [
       "<div>                            <div id=\"a0a4801d-bbe9-4ba7-9ffe-3461f7fff24d\" class=\"plotly-graph-div\" style=\"height:525px; width:100%;\"></div>            <script type=\"text/javascript\">                require([\"plotly\"], function(Plotly) {                    window.PLOTLYENV=window.PLOTLYENV || {};                                    if (document.getElementById(\"a0a4801d-bbe9-4ba7-9ffe-3461f7fff24d\")) {                    Plotly.newPlot(                        \"a0a4801d-bbe9-4ba7-9ffe-3461f7fff24d\",                        [{\"alignmentgroup\":\"True\",\"box\":{\"visible\":false},\"customdata\":[[\"jaccard\",\"3d tree wall owl\",\"2024-06-25T00:00:00\"],[\"jaccard\",\"classic black dresses for women\",\"2024-06-25T00:00:00\"],[\"jaccard\",\"cuadro para oficina\",\"2024-06-25T00:00:00\"],[\"jaccard\",\"cute vans for women\",\"2024-06-25T00:00:00\"],[\"jaccard\",\"diabetic massager\",\"2024-06-25T00:00:00\"],[\"jaccard\",\"greenpan ceramic nonstick fry pan 12 inch\",\"2024-06-25T00:00:00\"],[\"jaccard\",\"guano de murci\\u00e9lago\",\"2024-06-25T00:00:00\"],[\"jaccard\",\"handlebars\",\"2024-06-25T00:00:00\"],[\"jaccard\",\"joyce meyer\",\"2024-06-25T00:00:00\"],[\"jaccard\",\"level tools\",\"2024-06-25T00:00:00\"],[\"jaccard\",\"long johns for men\",\"2024-06-25T00:00:00\"],[\"jaccard\",\"mct oil capsules\",\"2024-06-25T00:00:00\"],[\"jaccard\",\"nike air force 1 men\",\"2024-06-25T00:00:00\"],[\"jaccard\",\"nipple clamps\",\"2024-06-25T00:00:00\"],[\"jaccard\",\"patinete ni\\u00f1o 9 a\\u00f1os\",\"2024-06-25T00:00:00\"],[\"jaccard\",\"replacement brush heads sonicare\",\"2024-06-25T00:00:00\"],[\"jaccard\",\"shoot rubber bullets\",\"2024-06-25T00:00:00\"],[\"jaccard\",\"solar pool covers for inground pools\",\"2024-06-25T00:00:00\"],[\"jaccard\",\"toyota white touch up\",\"2024-06-25T00:00:00\"],[\"jaccard\",\"\\u30d6\\u30eb\\u30fc\\u30c8\\u30a5\\u30fc\\u30b9\\u30a4\\u30e4\\u30db\\u30f3\",\"2024-06-25T00:00:00\"],[\"jaccard\",\"3d tree wall owl\",\"2024-06-26T00:00:00\"],[\"jaccard\",\"classic black dresses for women\",\"2024-06-26T00:00:00\"],[\"jaccard\",\"cuadro para oficina\",\"2024-06-26T00:00:00\"],[\"jaccard\",\"cute vans for women\",\"2024-06-26T00:00:00\"],[\"jaccard\",\"diabetic massager\",\"2024-06-26T00:00:00\"],[\"jaccard\",\"greenpan ceramic nonstick fry pan 12 inch\",\"2024-06-26T00:00:00\"],[\"jaccard\",\"guano de murci\\u00e9lago\",\"2024-06-26T00:00:00\"],[\"jaccard\",\"handlebars\",\"2024-06-26T00:00:00\"],[\"jaccard\",\"joyce meyer\",\"2024-06-26T00:00:00\"],[\"jaccard\",\"level tools\",\"2024-06-26T00:00:00\"],[\"jaccard\",\"long johns for men\",\"2024-06-26T00:00:00\"],[\"jaccard\",\"mct oil capsules\",\"2024-06-26T00:00:00\"],[\"jaccard\",\"nike air force 1 men\",\"2024-06-26T00:00:00\"],[\"jaccard\",\"nipple clamps\",\"2024-06-26T00:00:00\"],[\"jaccard\",\"patinete ni\\u00f1o 9 a\\u00f1os\",\"2024-06-26T00:00:00\"],[\"jaccard\",\"replacement brush heads sonicare\",\"2024-06-26T00:00:00\"],[\"jaccard\",\"shoot rubber bullets\",\"2024-06-26T00:00:00\"],[\"jaccard\",\"solar pool covers for inground pools\",\"2024-06-26T00:00:00\"],[\"jaccard\",\"toyota white touch up\",\"2024-06-26T00:00:00\"],[\"jaccard\",\"\\u30d6\\u30eb\\u30fc\\u30c8\\u30a5\\u30fc\\u30b9\\u30a4\\u30e4\\u30db\\u30f3\",\"2024-06-26T00:00:00\"],[\"jaccard\",\"3d tree wall owl\",\"2024-06-27T00:00:00\"],[\"jaccard\",\"classic black dresses for women\",\"2024-06-27T00:00:00\"],[\"jaccard\",\"cuadro para oficina\",\"2024-06-27T00:00:00\"],[\"jaccard\",\"cute vans for women\",\"2024-06-27T00:00:00\"],[\"jaccard\",\"diabetic massager\",\"2024-06-27T00:00:00\"],[\"jaccard\",\"greenpan ceramic nonstick fry pan 12 inch\",\"2024-06-27T00:00:00\"],[\"jaccard\",\"guano de murci\\u00e9lago\",\"2024-06-27T00:00:00\"],[\"jaccard\",\"handlebars\",\"2024-06-27T00:00:00\"],[\"jaccard\",\"joyce meyer\",\"2024-06-27T00:00:00\"],[\"jaccard\",\"level tools\",\"2024-06-27T00:00:00\"],[\"jaccard\",\"long johns for men\",\"2024-06-27T00:00:00\"],[\"jaccard\",\"mct oil capsules\",\"2024-06-27T00:00:00\"],[\"jaccard\",\"nike air force 1 men\",\"2024-06-27T00:00:00\"],[\"jaccard\",\"nipple clamps\",\"2024-06-27T00:00:00\"],[\"jaccard\",\"patinete ni\\u00f1o 9 a\\u00f1os\",\"2024-06-27T00:00:00\"],[\"jaccard\",\"replacement brush heads sonicare\",\"2024-06-27T00:00:00\"],[\"jaccard\",\"shoot rubber bullets\",\"2024-06-27T00:00:00\"],[\"jaccard\",\"solar pool covers for inground pools\",\"2024-06-27T00:00:00\"],[\"jaccard\",\"toyota white touch up\",\"2024-06-27T00:00:00\"],[\"jaccard\",\"\\u30d6\\u30eb\\u30fc\\u30c8\\u30a5\\u30fc\\u30b9\\u30a4\\u30e4\\u30db\\u30f3\",\"2024-06-27T00:00:00\"],[\"jaccard\",\"3d tree wall owl\",\"2024-06-28T00:00:00\"],[\"jaccard\",\"classic black dresses for women\",\"2024-06-28T00:00:00\"],[\"jaccard\",\"cuadro para oficina\",\"2024-06-28T00:00:00\"],[\"jaccard\",\"cute vans for women\",\"2024-06-28T00:00:00\"],[\"jaccard\",\"diabetic massager\",\"2024-06-28T00:00:00\"],[\"jaccard\",\"greenpan ceramic nonstick fry pan 12 inch\",\"2024-06-28T00:00:00\"],[\"jaccard\",\"guano de murci\\u00e9lago\",\"2024-06-28T00:00:00\"],[\"jaccard\",\"handlebars\",\"2024-06-28T00:00:00\"],[\"jaccard\",\"joyce meyer\",\"2024-06-28T00:00:00\"],[\"jaccard\",\"level tools\",\"2024-06-28T00:00:00\"],[\"jaccard\",\"long johns for men\",\"2024-06-28T00:00:00\"],[\"jaccard\",\"mct oil capsules\",\"2024-06-28T00:00:00\"],[\"jaccard\",\"nike air force 1 men\",\"2024-06-28T00:00:00\"],[\"jaccard\",\"nipple clamps\",\"2024-06-28T00:00:00\"],[\"jaccard\",\"patinete ni\\u00f1o 9 a\\u00f1os\",\"2024-06-28T00:00:00\"],[\"jaccard\",\"replacement brush heads sonicare\",\"2024-06-28T00:00:00\"],[\"jaccard\",\"shoot rubber bullets\",\"2024-06-28T00:00:00\"],[\"jaccard\",\"solar pool covers for inground pools\",\"2024-06-28T00:00:00\"],[\"jaccard\",\"toyota white touch up\",\"2024-06-28T00:00:00\"],[\"jaccard\",\"\\u30d6\\u30eb\\u30fc\\u30c8\\u30a5\\u30fc\\u30b9\\u30a4\\u30e4\\u30db\\u30f3\",\"2024-06-28T00:00:00\"],[\"jaccard\",\"3d tree wall owl\",\"2024-06-29T00:00:00\"],[\"jaccard\",\"classic black dresses for women\",\"2024-06-29T00:00:00\"],[\"jaccard\",\"cuadro para oficina\",\"2024-06-29T00:00:00\"],[\"jaccard\",\"cute vans for women\",\"2024-06-29T00:00:00\"],[\"jaccard\",\"diabetic massager\",\"2024-06-29T00:00:00\"],[\"jaccard\",\"greenpan ceramic nonstick fry pan 12 inch\",\"2024-06-29T00:00:00\"],[\"jaccard\",\"guano de murci\\u00e9lago\",\"2024-06-29T00:00:00\"],[\"jaccard\",\"handlebars\",\"2024-06-29T00:00:00\"],[\"jaccard\",\"joyce meyer\",\"2024-06-29T00:00:00\"],[\"jaccard\",\"level tools\",\"2024-06-29T00:00:00\"],[\"jaccard\",\"long johns for men\",\"2024-06-29T00:00:00\"],[\"jaccard\",\"mct oil capsules\",\"2024-06-29T00:00:00\"],[\"jaccard\",\"nike air force 1 men\",\"2024-06-29T00:00:00\"],[\"jaccard\",\"nipple clamps\",\"2024-06-29T00:00:00\"],[\"jaccard\",\"patinete ni\\u00f1o 9 a\\u00f1os\",\"2024-06-29T00:00:00\"],[\"jaccard\",\"replacement brush heads sonicare\",\"2024-06-29T00:00:00\"],[\"jaccard\",\"shoot rubber bullets\",\"2024-06-29T00:00:00\"],[\"jaccard\",\"solar pool covers for inground pools\",\"2024-06-29T00:00:00\"],[\"jaccard\",\"toyota white touch up\",\"2024-06-29T00:00:00\"],[\"jaccard\",\"\\u30d6\\u30eb\\u30fc\\u30c8\\u30a5\\u30fc\\u30b9\\u30a4\\u30e4\\u30db\\u30f3\",\"2024-06-29T00:00:00\"],[\"jaccard\",\"3d tree wall owl\",\"2024-06-30T00:00:00\"],[\"jaccard\",\"classic black dresses for women\",\"2024-06-30T00:00:00\"],[\"jaccard\",\"cuadro para oficina\",\"2024-06-30T00:00:00\"],[\"jaccard\",\"cute vans for women\",\"2024-06-30T00:00:00\"],[\"jaccard\",\"diabetic massager\",\"2024-06-30T00:00:00\"],[\"jaccard\",\"greenpan ceramic nonstick fry pan 12 inch\",\"2024-06-30T00:00:00\"],[\"jaccard\",\"guano de murci\\u00e9lago\",\"2024-06-30T00:00:00\"],[\"jaccard\",\"handlebars\",\"2024-06-30T00:00:00\"],[\"jaccard\",\"joyce meyer\",\"2024-06-30T00:00:00\"],[\"jaccard\",\"level tools\",\"2024-06-30T00:00:00\"],[\"jaccard\",\"long johns for men\",\"2024-06-30T00:00:00\"],[\"jaccard\",\"mct oil capsules\",\"2024-06-30T00:00:00\"],[\"jaccard\",\"nike air force 1 men\",\"2024-06-30T00:00:00\"],[\"jaccard\",\"nipple clamps\",\"2024-06-30T00:00:00\"],[\"jaccard\",\"patinete ni\\u00f1o 9 a\\u00f1os\",\"2024-06-30T00:00:00\"],[\"jaccard\",\"replacement brush heads sonicare\",\"2024-06-30T00:00:00\"],[\"jaccard\",\"shoot rubber bullets\",\"2024-06-30T00:00:00\"],[\"jaccard\",\"solar pool covers for inground pools\",\"2024-06-30T00:00:00\"],[\"jaccard\",\"toyota white touch up\",\"2024-06-30T00:00:00\"],[\"jaccard\",\"\\u30d6\\u30eb\\u30fc\\u30c8\\u30a5\\u30fc\\u30b9\\u30a4\\u30e4\\u30db\\u30f3\",\"2024-06-30T00:00:00\"],[\"jaccard\",\"3d tree wall owl\",\"2024-07-01T00:00:00\"],[\"jaccard\",\"classic black dresses for women\",\"2024-07-01T00:00:00\"],[\"jaccard\",\"cuadro para oficina\",\"2024-07-01T00:00:00\"],[\"jaccard\",\"cute vans for women\",\"2024-07-01T00:00:00\"],[\"jaccard\",\"diabetic massager\",\"2024-07-01T00:00:00\"],[\"jaccard\",\"greenpan ceramic nonstick fry pan 12 inch\",\"2024-07-01T00:00:00\"],[\"jaccard\",\"guano de murci\\u00e9lago\",\"2024-07-01T00:00:00\"],[\"jaccard\",\"handlebars\",\"2024-07-01T00:00:00\"],[\"jaccard\",\"joyce meyer\",\"2024-07-01T00:00:00\"],[\"jaccard\",\"level tools\",\"2024-07-01T00:00:00\"],[\"jaccard\",\"long johns for men\",\"2024-07-01T00:00:00\"],[\"jaccard\",\"mct oil capsules\",\"2024-07-01T00:00:00\"],[\"jaccard\",\"nike air force 1 men\",\"2024-07-01T00:00:00\"],[\"jaccard\",\"nipple clamps\",\"2024-07-01T00:00:00\"],[\"jaccard\",\"patinete ni\\u00f1o 9 a\\u00f1os\",\"2024-07-01T00:00:00\"],[\"jaccard\",\"replacement brush heads sonicare\",\"2024-07-01T00:00:00\"],[\"jaccard\",\"shoot rubber bullets\",\"2024-07-01T00:00:00\"],[\"jaccard\",\"solar pool covers for inground pools\",\"2024-07-01T00:00:00\"],[\"jaccard\",\"toyota white touch up\",\"2024-07-01T00:00:00\"],[\"jaccard\",\"\\u30d6\\u30eb\\u30fc\\u30c8\\u30a5\\u30fc\\u30b9\\u30a4\\u30e4\\u30db\\u30f3\",\"2024-07-01T00:00:00\"],[\"jaccard\",\"3d tree wall owl\",\"2024-06-25T00:00:00\"],[\"jaccard\",\"classic black dresses for women\",\"2024-06-25T00:00:00\"],[\"jaccard\",\"cuadro para oficina\",\"2024-06-25T00:00:00\"],[\"jaccard\",\"cute vans for women\",\"2024-06-25T00:00:00\"],[\"jaccard\",\"diabetic massager\",\"2024-06-25T00:00:00\"],[\"jaccard\",\"greenpan ceramic nonstick fry pan 12 inch\",\"2024-06-25T00:00:00\"],[\"jaccard\",\"guano de murci\\u00e9lago\",\"2024-06-25T00:00:00\"],[\"jaccard\",\"handlebars\",\"2024-06-25T00:00:00\"],[\"jaccard\",\"joyce meyer\",\"2024-06-25T00:00:00\"],[\"jaccard\",\"level tools\",\"2024-06-25T00:00:00\"],[\"jaccard\",\"long johns for men\",\"2024-06-25T00:00:00\"],[\"jaccard\",\"mct oil capsules\",\"2024-06-25T00:00:00\"],[\"jaccard\",\"nike air force 1 men\",\"2024-06-25T00:00:00\"],[\"jaccard\",\"nipple clamps\",\"2024-06-25T00:00:00\"],[\"jaccard\",\"patinete ni\\u00f1o 9 a\\u00f1os\",\"2024-06-25T00:00:00\"],[\"jaccard\",\"replacement brush heads sonicare\",\"2024-06-25T00:00:00\"],[\"jaccard\",\"shoot rubber bullets\",\"2024-06-25T00:00:00\"],[\"jaccard\",\"solar pool covers for inground pools\",\"2024-06-25T00:00:00\"],[\"jaccard\",\"toyota white touch up\",\"2024-06-25T00:00:00\"],[\"jaccard\",\"\\u30d6\\u30eb\\u30fc\\u30c8\\u30a5\\u30fc\\u30b9\\u30a4\\u30e4\\u30db\\u30f3\",\"2024-06-25T00:00:00\"],[\"jaccard\",\"3d tree wall owl\",\"2024-06-26T00:00:00\"],[\"jaccard\",\"classic black dresses for women\",\"2024-06-26T00:00:00\"],[\"jaccard\",\"cuadro para oficina\",\"2024-06-26T00:00:00\"],[\"jaccard\",\"cute vans for women\",\"2024-06-26T00:00:00\"],[\"jaccard\",\"diabetic massager\",\"2024-06-26T00:00:00\"],[\"jaccard\",\"greenpan ceramic nonstick fry pan 12 inch\",\"2024-06-26T00:00:00\"],[\"jaccard\",\"guano de murci\\u00e9lago\",\"2024-06-26T00:00:00\"],[\"jaccard\",\"handlebars\",\"2024-06-26T00:00:00\"],[\"jaccard\",\"joyce meyer\",\"2024-06-26T00:00:00\"],[\"jaccard\",\"level tools\",\"2024-06-26T00:00:00\"],[\"jaccard\",\"long johns for men\",\"2024-06-26T00:00:00\"],[\"jaccard\",\"mct oil capsules\",\"2024-06-26T00:00:00\"],[\"jaccard\",\"nike air force 1 men\",\"2024-06-26T00:00:00\"],[\"jaccard\",\"nipple clamps\",\"2024-06-26T00:00:00\"],[\"jaccard\",\"patinete ni\\u00f1o 9 a\\u00f1os\",\"2024-06-26T00:00:00\"],[\"jaccard\",\"replacement brush heads sonicare\",\"2024-06-26T00:00:00\"],[\"jaccard\",\"shoot rubber bullets\",\"2024-06-26T00:00:00\"],[\"jaccard\",\"solar pool covers for inground pools\",\"2024-06-26T00:00:00\"],[\"jaccard\",\"toyota white touch up\",\"2024-06-26T00:00:00\"],[\"jaccard\",\"\\u30d6\\u30eb\\u30fc\\u30c8\\u30a5\\u30fc\\u30b9\\u30a4\\u30e4\\u30db\\u30f3\",\"2024-06-26T00:00:00\"],[\"jaccard\",\"3d tree wall owl\",\"2024-06-27T00:00:00\"],[\"jaccard\",\"classic black dresses for women\",\"2024-06-27T00:00:00\"],[\"jaccard\",\"cuadro para oficina\",\"2024-06-27T00:00:00\"],[\"jaccard\",\"cute vans for women\",\"2024-06-27T00:00:00\"],[\"jaccard\",\"diabetic massager\",\"2024-06-27T00:00:00\"],[\"jaccard\",\"greenpan ceramic nonstick fry pan 12 inch\",\"2024-06-27T00:00:00\"],[\"jaccard\",\"guano de murci\\u00e9lago\",\"2024-06-27T00:00:00\"],[\"jaccard\",\"handlebars\",\"2024-06-27T00:00:00\"],[\"jaccard\",\"joyce meyer\",\"2024-06-27T00:00:00\"],[\"jaccard\",\"level tools\",\"2024-06-27T00:00:00\"],[\"jaccard\",\"long johns for men\",\"2024-06-27T00:00:00\"],[\"jaccard\",\"mct oil capsules\",\"2024-06-27T00:00:00\"],[\"jaccard\",\"nike air force 1 men\",\"2024-06-27T00:00:00\"],[\"jaccard\",\"nipple clamps\",\"2024-06-27T00:00:00\"],[\"jaccard\",\"patinete ni\\u00f1o 9 a\\u00f1os\",\"2024-06-27T00:00:00\"],[\"jaccard\",\"replacement brush heads sonicare\",\"2024-06-27T00:00:00\"],[\"jaccard\",\"shoot rubber bullets\",\"2024-06-27T00:00:00\"],[\"jaccard\",\"solar pool covers for inground pools\",\"2024-06-27T00:00:00\"],[\"jaccard\",\"toyota white touch up\",\"2024-06-27T00:00:00\"],[\"jaccard\",\"\\u30d6\\u30eb\\u30fc\\u30c8\\u30a5\\u30fc\\u30b9\\u30a4\\u30e4\\u30db\\u30f3\",\"2024-06-27T00:00:00\"],[\"jaccard\",\"3d tree wall owl\",\"2024-06-28T00:00:00\"],[\"jaccard\",\"classic black dresses for women\",\"2024-06-28T00:00:00\"],[\"jaccard\",\"cuadro para oficina\",\"2024-06-28T00:00:00\"],[\"jaccard\",\"cute vans for women\",\"2024-06-28T00:00:00\"],[\"jaccard\",\"diabetic massager\",\"2024-06-28T00:00:00\"],[\"jaccard\",\"greenpan ceramic nonstick fry pan 12 inch\",\"2024-06-28T00:00:00\"],[\"jaccard\",\"guano de murci\\u00e9lago\",\"2024-06-28T00:00:00\"],[\"jaccard\",\"handlebars\",\"2024-06-28T00:00:00\"],[\"jaccard\",\"joyce meyer\",\"2024-06-28T00:00:00\"],[\"jaccard\",\"level tools\",\"2024-06-28T00:00:00\"],[\"jaccard\",\"long johns for men\",\"2024-06-28T00:00:00\"],[\"jaccard\",\"mct oil capsules\",\"2024-06-28T00:00:00\"],[\"jaccard\",\"nike air force 1 men\",\"2024-06-28T00:00:00\"],[\"jaccard\",\"nipple clamps\",\"2024-06-28T00:00:00\"],[\"jaccard\",\"patinete ni\\u00f1o 9 a\\u00f1os\",\"2024-06-28T00:00:00\"],[\"jaccard\",\"replacement brush heads sonicare\",\"2024-06-28T00:00:00\"],[\"jaccard\",\"shoot rubber bullets\",\"2024-06-28T00:00:00\"],[\"jaccard\",\"solar pool covers for inground pools\",\"2024-06-28T00:00:00\"],[\"jaccard\",\"toyota white touch up\",\"2024-06-28T00:00:00\"],[\"jaccard\",\"\\u30d6\\u30eb\\u30fc\\u30c8\\u30a5\\u30fc\\u30b9\\u30a4\\u30e4\\u30db\\u30f3\",\"2024-06-28T00:00:00\"],[\"jaccard\",\"3d tree wall owl\",\"2024-06-29T00:00:00\"],[\"jaccard\",\"classic black dresses for women\",\"2024-06-29T00:00:00\"],[\"jaccard\",\"cuadro para oficina\",\"2024-06-29T00:00:00\"],[\"jaccard\",\"cute vans for women\",\"2024-06-29T00:00:00\"],[\"jaccard\",\"diabetic massager\",\"2024-06-29T00:00:00\"],[\"jaccard\",\"greenpan ceramic nonstick fry pan 12 inch\",\"2024-06-29T00:00:00\"],[\"jaccard\",\"guano de murci\\u00e9lago\",\"2024-06-29T00:00:00\"],[\"jaccard\",\"handlebars\",\"2024-06-29T00:00:00\"],[\"jaccard\",\"joyce meyer\",\"2024-06-29T00:00:00\"],[\"jaccard\",\"level tools\",\"2024-06-29T00:00:00\"],[\"jaccard\",\"long johns for men\",\"2024-06-29T00:00:00\"],[\"jaccard\",\"mct oil capsules\",\"2024-06-29T00:00:00\"],[\"jaccard\",\"nike air force 1 men\",\"2024-06-29T00:00:00\"],[\"jaccard\",\"nipple clamps\",\"2024-06-29T00:00:00\"],[\"jaccard\",\"patinete ni\\u00f1o 9 a\\u00f1os\",\"2024-06-29T00:00:00\"],[\"jaccard\",\"replacement brush heads sonicare\",\"2024-06-29T00:00:00\"],[\"jaccard\",\"shoot rubber bullets\",\"2024-06-29T00:00:00\"],[\"jaccard\",\"solar pool covers for inground pools\",\"2024-06-29T00:00:00\"],[\"jaccard\",\"toyota white touch up\",\"2024-06-29T00:00:00\"],[\"jaccard\",\"\\u30d6\\u30eb\\u30fc\\u30c8\\u30a5\\u30fc\\u30b9\\u30a4\\u30e4\\u30db\\u30f3\",\"2024-06-29T00:00:00\"],[\"jaccard\",\"3d tree wall owl\",\"2024-06-30T00:00:00\"],[\"jaccard\",\"classic black dresses for women\",\"2024-06-30T00:00:00\"],[\"jaccard\",\"cuadro para oficina\",\"2024-06-30T00:00:00\"],[\"jaccard\",\"cute vans for women\",\"2024-06-30T00:00:00\"],[\"jaccard\",\"diabetic massager\",\"2024-06-30T00:00:00\"],[\"jaccard\",\"greenpan ceramic nonstick fry pan 12 inch\",\"2024-06-30T00:00:00\"],[\"jaccard\",\"guano de murci\\u00e9lago\",\"2024-06-30T00:00:00\"],[\"jaccard\",\"handlebars\",\"2024-06-30T00:00:00\"],[\"jaccard\",\"joyce meyer\",\"2024-06-30T00:00:00\"],[\"jaccard\",\"level tools\",\"2024-06-30T00:00:00\"],[\"jaccard\",\"long johns for men\",\"2024-06-30T00:00:00\"],[\"jaccard\",\"mct oil capsules\",\"2024-06-30T00:00:00\"],[\"jaccard\",\"nike air force 1 men\",\"2024-06-30T00:00:00\"],[\"jaccard\",\"nipple clamps\",\"2024-06-30T00:00:00\"],[\"jaccard\",\"patinete ni\\u00f1o 9 a\\u00f1os\",\"2024-06-30T00:00:00\"],[\"jaccard\",\"replacement brush heads sonicare\",\"2024-06-30T00:00:00\"],[\"jaccard\",\"shoot rubber bullets\",\"2024-06-30T00:00:00\"],[\"jaccard\",\"solar pool covers for inground pools\",\"2024-06-30T00:00:00\"],[\"jaccard\",\"toyota white touch up\",\"2024-06-30T00:00:00\"],[\"jaccard\",\"\\u30d6\\u30eb\\u30fc\\u30c8\\u30a5\\u30fc\\u30b9\\u30a4\\u30e4\\u30db\\u30f3\",\"2024-06-30T00:00:00\"],[\"jaccard\",\"3d tree wall owl\",\"2024-07-01T00:00:00\"],[\"jaccard\",\"classic black dresses for women\",\"2024-07-01T00:00:00\"],[\"jaccard\",\"cuadro para oficina\",\"2024-07-01T00:00:00\"],[\"jaccard\",\"cute vans for women\",\"2024-07-01T00:00:00\"],[\"jaccard\",\"diabetic massager\",\"2024-07-01T00:00:00\"],[\"jaccard\",\"greenpan ceramic nonstick fry pan 12 inch\",\"2024-07-01T00:00:00\"],[\"jaccard\",\"guano de murci\\u00e9lago\",\"2024-07-01T00:00:00\"],[\"jaccard\",\"handlebars\",\"2024-07-01T00:00:00\"],[\"jaccard\",\"joyce meyer\",\"2024-07-01T00:00:00\"],[\"jaccard\",\"level tools\",\"2024-07-01T00:00:00\"],[\"jaccard\",\"long johns for men\",\"2024-07-01T00:00:00\"],[\"jaccard\",\"mct oil capsules\",\"2024-07-01T00:00:00\"],[\"jaccard\",\"nike air force 1 men\",\"2024-07-01T00:00:00\"],[\"jaccard\",\"nipple clamps\",\"2024-07-01T00:00:00\"],[\"jaccard\",\"patinete ni\\u00f1o 9 a\\u00f1os\",\"2024-07-01T00:00:00\"],[\"jaccard\",\"replacement brush heads sonicare\",\"2024-07-01T00:00:00\"],[\"jaccard\",\"shoot rubber bullets\",\"2024-07-01T00:00:00\"],[\"jaccard\",\"solar pool covers for inground pools\",\"2024-07-01T00:00:00\"],[\"jaccard\",\"toyota white touch up\",\"2024-07-01T00:00:00\"],[\"jaccard\",\"\\u30d6\\u30eb\\u30fc\\u30c8\\u30a5\\u30fc\\u30b9\\u30a4\\u30e4\\u30db\\u30f3\",\"2024-07-01T00:00:00\"],[\"jaccard\",\"3d tree wall owl\",\"2024-06-25T00:00:00\"],[\"jaccard\",\"classic black dresses for women\",\"2024-06-25T00:00:00\"],[\"jaccard\",\"cuadro para oficina\",\"2024-06-25T00:00:00\"],[\"jaccard\",\"cute vans for women\",\"2024-06-25T00:00:00\"],[\"jaccard\",\"diabetic massager\",\"2024-06-25T00:00:00\"],[\"jaccard\",\"greenpan ceramic nonstick fry pan 12 inch\",\"2024-06-25T00:00:00\"],[\"jaccard\",\"guano de murci\\u00e9lago\",\"2024-06-25T00:00:00\"],[\"jaccard\",\"handlebars\",\"2024-06-25T00:00:00\"],[\"jaccard\",\"joyce meyer\",\"2024-06-25T00:00:00\"],[\"jaccard\",\"level tools\",\"2024-06-25T00:00:00\"],[\"jaccard\",\"long johns for men\",\"2024-06-25T00:00:00\"],[\"jaccard\",\"mct oil capsules\",\"2024-06-25T00:00:00\"],[\"jaccard\",\"nike air force 1 men\",\"2024-06-25T00:00:00\"],[\"jaccard\",\"nipple clamps\",\"2024-06-25T00:00:00\"],[\"jaccard\",\"patinete ni\\u00f1o 9 a\\u00f1os\",\"2024-06-25T00:00:00\"],[\"jaccard\",\"replacement brush heads sonicare\",\"2024-06-25T00:00:00\"],[\"jaccard\",\"shoot rubber bullets\",\"2024-06-25T00:00:00\"],[\"jaccard\",\"solar pool covers for inground pools\",\"2024-06-25T00:00:00\"],[\"jaccard\",\"toyota white touch up\",\"2024-06-25T00:00:00\"],[\"jaccard\",\"\\u30d6\\u30eb\\u30fc\\u30c8\\u30a5\\u30fc\\u30b9\\u30a4\\u30e4\\u30db\\u30f3\",\"2024-06-25T00:00:00\"],[\"jaccard\",\"3d tree wall owl\",\"2024-06-26T00:00:00\"],[\"jaccard\",\"classic black dresses for women\",\"2024-06-26T00:00:00\"],[\"jaccard\",\"cuadro para oficina\",\"2024-06-26T00:00:00\"],[\"jaccard\",\"cute vans for women\",\"2024-06-26T00:00:00\"],[\"jaccard\",\"diabetic massager\",\"2024-06-26T00:00:00\"],[\"jaccard\",\"greenpan ceramic nonstick fry pan 12 inch\",\"2024-06-26T00:00:00\"],[\"jaccard\",\"guano de murci\\u00e9lago\",\"2024-06-26T00:00:00\"],[\"jaccard\",\"handlebars\",\"2024-06-26T00:00:00\"],[\"jaccard\",\"joyce meyer\",\"2024-06-26T00:00:00\"],[\"jaccard\",\"level tools\",\"2024-06-26T00:00:00\"],[\"jaccard\",\"long johns for men\",\"2024-06-26T00:00:00\"],[\"jaccard\",\"mct oil capsules\",\"2024-06-26T00:00:00\"],[\"jaccard\",\"nike air force 1 men\",\"2024-06-26T00:00:00\"],[\"jaccard\",\"nipple clamps\",\"2024-06-26T00:00:00\"],[\"jaccard\",\"patinete ni\\u00f1o 9 a\\u00f1os\",\"2024-06-26T00:00:00\"],[\"jaccard\",\"replacement brush heads sonicare\",\"2024-06-26T00:00:00\"],[\"jaccard\",\"shoot rubber bullets\",\"2024-06-26T00:00:00\"],[\"jaccard\",\"solar pool covers for inground pools\",\"2024-06-26T00:00:00\"],[\"jaccard\",\"toyota white touch up\",\"2024-06-26T00:00:00\"],[\"jaccard\",\"\\u30d6\\u30eb\\u30fc\\u30c8\\u30a5\\u30fc\\u30b9\\u30a4\\u30e4\\u30db\\u30f3\",\"2024-06-26T00:00:00\"],[\"jaccard\",\"3d tree wall owl\",\"2024-06-27T00:00:00\"],[\"jaccard\",\"classic black dresses for women\",\"2024-06-27T00:00:00\"],[\"jaccard\",\"cuadro para oficina\",\"2024-06-27T00:00:00\"],[\"jaccard\",\"cute vans for women\",\"2024-06-27T00:00:00\"],[\"jaccard\",\"diabetic massager\",\"2024-06-27T00:00:00\"],[\"jaccard\",\"greenpan ceramic nonstick fry pan 12 inch\",\"2024-06-27T00:00:00\"],[\"jaccard\",\"guano de murci\\u00e9lago\",\"2024-06-27T00:00:00\"],[\"jaccard\",\"handlebars\",\"2024-06-27T00:00:00\"],[\"jaccard\",\"joyce meyer\",\"2024-06-27T00:00:00\"],[\"jaccard\",\"level tools\",\"2024-06-27T00:00:00\"],[\"jaccard\",\"long johns for men\",\"2024-06-27T00:00:00\"],[\"jaccard\",\"mct oil capsules\",\"2024-06-27T00:00:00\"],[\"jaccard\",\"nike air force 1 men\",\"2024-06-27T00:00:00\"],[\"jaccard\",\"nipple clamps\",\"2024-06-27T00:00:00\"],[\"jaccard\",\"patinete ni\\u00f1o 9 a\\u00f1os\",\"2024-06-27T00:00:00\"],[\"jaccard\",\"replacement brush heads sonicare\",\"2024-06-27T00:00:00\"],[\"jaccard\",\"shoot rubber bullets\",\"2024-06-27T00:00:00\"],[\"jaccard\",\"solar pool covers for inground pools\",\"2024-06-27T00:00:00\"],[\"jaccard\",\"toyota white touch up\",\"2024-06-27T00:00:00\"],[\"jaccard\",\"\\u30d6\\u30eb\\u30fc\\u30c8\\u30a5\\u30fc\\u30b9\\u30a4\\u30e4\\u30db\\u30f3\",\"2024-06-27T00:00:00\"],[\"jaccard\",\"3d tree wall owl\",\"2024-06-28T00:00:00\"],[\"jaccard\",\"classic black dresses for women\",\"2024-06-28T00:00:00\"],[\"jaccard\",\"cuadro para oficina\",\"2024-06-28T00:00:00\"],[\"jaccard\",\"cute vans for women\",\"2024-06-28T00:00:00\"],[\"jaccard\",\"diabetic massager\",\"2024-06-28T00:00:00\"],[\"jaccard\",\"greenpan ceramic nonstick fry pan 12 inch\",\"2024-06-28T00:00:00\"],[\"jaccard\",\"guano de murci\\u00e9lago\",\"2024-06-28T00:00:00\"],[\"jaccard\",\"handlebars\",\"2024-06-28T00:00:00\"],[\"jaccard\",\"joyce meyer\",\"2024-06-28T00:00:00\"],[\"jaccard\",\"level tools\",\"2024-06-28T00:00:00\"],[\"jaccard\",\"long johns for men\",\"2024-06-28T00:00:00\"],[\"jaccard\",\"mct oil capsules\",\"2024-06-28T00:00:00\"],[\"jaccard\",\"nike air force 1 men\",\"2024-06-28T00:00:00\"],[\"jaccard\",\"nipple clamps\",\"2024-06-28T00:00:00\"],[\"jaccard\",\"patinete ni\\u00f1o 9 a\\u00f1os\",\"2024-06-28T00:00:00\"],[\"jaccard\",\"replacement brush heads sonicare\",\"2024-06-28T00:00:00\"],[\"jaccard\",\"shoot rubber bullets\",\"2024-06-28T00:00:00\"],[\"jaccard\",\"solar pool covers for inground pools\",\"2024-06-28T00:00:00\"],[\"jaccard\",\"toyota white touch up\",\"2024-06-28T00:00:00\"],[\"jaccard\",\"\\u30d6\\u30eb\\u30fc\\u30c8\\u30a5\\u30fc\\u30b9\\u30a4\\u30e4\\u30db\\u30f3\",\"2024-06-28T00:00:00\"],[\"jaccard\",\"3d tree wall owl\",\"2024-06-29T00:00:00\"],[\"jaccard\",\"classic black dresses for women\",\"2024-06-29T00:00:00\"],[\"jaccard\",\"cuadro para oficina\",\"2024-06-29T00:00:00\"],[\"jaccard\",\"cute vans for women\",\"2024-06-29T00:00:00\"],[\"jaccard\",\"diabetic massager\",\"2024-06-29T00:00:00\"],[\"jaccard\",\"greenpan ceramic nonstick fry pan 12 inch\",\"2024-06-29T00:00:00\"],[\"jaccard\",\"guano de murci\\u00e9lago\",\"2024-06-29T00:00:00\"],[\"jaccard\",\"handlebars\",\"2024-06-29T00:00:00\"],[\"jaccard\",\"joyce meyer\",\"2024-06-29T00:00:00\"],[\"jaccard\",\"level tools\",\"2024-06-29T00:00:00\"],[\"jaccard\",\"long johns for men\",\"2024-06-29T00:00:00\"],[\"jaccard\",\"mct oil capsules\",\"2024-06-29T00:00:00\"],[\"jaccard\",\"nike air force 1 men\",\"2024-06-29T00:00:00\"],[\"jaccard\",\"nipple clamps\",\"2024-06-29T00:00:00\"],[\"jaccard\",\"patinete ni\\u00f1o 9 a\\u00f1os\",\"2024-06-29T00:00:00\"],[\"jaccard\",\"replacement brush heads sonicare\",\"2024-06-29T00:00:00\"],[\"jaccard\",\"shoot rubber bullets\",\"2024-06-29T00:00:00\"],[\"jaccard\",\"solar pool covers for inground pools\",\"2024-06-29T00:00:00\"],[\"jaccard\",\"toyota white touch up\",\"2024-06-29T00:00:00\"],[\"jaccard\",\"\\u30d6\\u30eb\\u30fc\\u30c8\\u30a5\\u30fc\\u30b9\\u30a4\\u30e4\\u30db\\u30f3\",\"2024-06-29T00:00:00\"],[\"jaccard\",\"3d tree wall owl\",\"2024-06-30T00:00:00\"],[\"jaccard\",\"classic black dresses for women\",\"2024-06-30T00:00:00\"],[\"jaccard\",\"cuadro para oficina\",\"2024-06-30T00:00:00\"],[\"jaccard\",\"cute vans for women\",\"2024-06-30T00:00:00\"],[\"jaccard\",\"diabetic massager\",\"2024-06-30T00:00:00\"],[\"jaccard\",\"greenpan ceramic nonstick fry pan 12 inch\",\"2024-06-30T00:00:00\"],[\"jaccard\",\"guano de murci\\u00e9lago\",\"2024-06-30T00:00:00\"],[\"jaccard\",\"handlebars\",\"2024-06-30T00:00:00\"],[\"jaccard\",\"joyce meyer\",\"2024-06-30T00:00:00\"],[\"jaccard\",\"level tools\",\"2024-06-30T00:00:00\"],[\"jaccard\",\"long johns for men\",\"2024-06-30T00:00:00\"],[\"jaccard\",\"mct oil capsules\",\"2024-06-30T00:00:00\"],[\"jaccard\",\"nike air force 1 men\",\"2024-06-30T00:00:00\"],[\"jaccard\",\"nipple clamps\",\"2024-06-30T00:00:00\"],[\"jaccard\",\"patinete ni\\u00f1o 9 a\\u00f1os\",\"2024-06-30T00:00:00\"],[\"jaccard\",\"replacement brush heads sonicare\",\"2024-06-30T00:00:00\"],[\"jaccard\",\"shoot rubber bullets\",\"2024-06-30T00:00:00\"],[\"jaccard\",\"solar pool covers for inground pools\",\"2024-06-30T00:00:00\"],[\"jaccard\",\"toyota white touch up\",\"2024-06-30T00:00:00\"],[\"jaccard\",\"\\u30d6\\u30eb\\u30fc\\u30c8\\u30a5\\u30fc\\u30b9\\u30a4\\u30e4\\u30db\\u30f3\",\"2024-06-30T00:00:00\"],[\"jaccard\",\"3d tree wall owl\",\"2024-07-01T00:00:00\"],[\"jaccard\",\"classic black dresses for women\",\"2024-07-01T00:00:00\"],[\"jaccard\",\"cuadro para oficina\",\"2024-07-01T00:00:00\"],[\"jaccard\",\"cute vans for women\",\"2024-07-01T00:00:00\"],[\"jaccard\",\"diabetic massager\",\"2024-07-01T00:00:00\"],[\"jaccard\",\"greenpan ceramic nonstick fry pan 12 inch\",\"2024-07-01T00:00:00\"],[\"jaccard\",\"guano de murci\\u00e9lago\",\"2024-07-01T00:00:00\"],[\"jaccard\",\"handlebars\",\"2024-07-01T00:00:00\"],[\"jaccard\",\"joyce meyer\",\"2024-07-01T00:00:00\"],[\"jaccard\",\"level tools\",\"2024-07-01T00:00:00\"],[\"jaccard\",\"long johns for men\",\"2024-07-01T00:00:00\"],[\"jaccard\",\"mct oil capsules\",\"2024-07-01T00:00:00\"],[\"jaccard\",\"nike air force 1 men\",\"2024-07-01T00:00:00\"],[\"jaccard\",\"nipple clamps\",\"2024-07-01T00:00:00\"],[\"jaccard\",\"patinete ni\\u00f1o 9 a\\u00f1os\",\"2024-07-01T00:00:00\"],[\"jaccard\",\"replacement brush heads sonicare\",\"2024-07-01T00:00:00\"],[\"jaccard\",\"shoot rubber bullets\",\"2024-07-01T00:00:00\"],[\"jaccard\",\"solar pool covers for inground pools\",\"2024-07-01T00:00:00\"],[\"jaccard\",\"toyota white touch up\",\"2024-07-01T00:00:00\"],[\"jaccard\",\"\\u30d6\\u30eb\\u30fc\\u30c8\\u30a5\\u30fc\\u30b9\\u30a4\\u30e4\\u30db\\u30f3\",\"2024-07-01T00:00:00\"]],\"hovertemplate\":\"metric=%{customdata[0]}\\u003cbr\\u003esearch_config=%{x}\\u003cbr\\u003evalue=%{y}\\u003cbr\\u003equery=%{customdata[1]}\\u003cbr\\u003edatetime=%{customdata[2]}\\u003cextra\\u003e\\u003c\\u002fextra\\u003e\",\"legendgroup\":\"jaccard\",\"marker\":{\"color\":\"#636efa\"},\"name\":\"jaccard\",\"offsetgroup\":\"jaccard\",\"orientation\":\"v\",\"points\":\"all\",\"scalegroup\":\"True\",\"showlegend\":true,\"x\":[\"research_1\",\"research_1\",\"research_1\",\"research_1\",\"research_1\",\"research_1\",\"research_1\",\"research_1\",\"research_1\",\"research_1\",\"research_1\",\"research_1\",\"research_1\",\"research_1\",\"research_1\",\"research_1\",\"research_1\",\"research_1\",\"research_1\",\"research_1\",\"research_1\",\"research_1\",\"research_1\",\"research_1\",\"research_1\",\"research_1\",\"research_1\",\"research_1\",\"research_1\",\"research_1\",\"research_1\",\"research_1\",\"research_1\",\"research_1\",\"research_1\",\"research_1\",\"research_1\",\"research_1\",\"research_1\",\"research_1\",\"research_1\",\"research_1\",\"research_1\",\"research_1\",\"research_1\",\"research_1\",\"research_1\",\"research_1\",\"research_1\",\"research_1\",\"research_1\",\"research_1\",\"research_1\",\"research_1\",\"research_1\",\"research_1\",\"research_1\",\"research_1\",\"research_1\",\"research_1\",\"research_1\",\"research_1\",\"research_1\",\"research_1\",\"research_1\",\"research_1\",\"research_1\",\"research_1\",\"research_1\",\"research_1\",\"research_1\",\"research_1\",\"research_1\",\"research_1\",\"research_1\",\"research_1\",\"research_1\",\"research_1\",\"research_1\",\"research_1\",\"research_1\",\"research_1\",\"research_1\",\"research_1\",\"research_1\",\"research_1\",\"research_1\",\"research_1\",\"research_1\",\"research_1\",\"research_1\",\"research_1\",\"research_1\",\"research_1\",\"research_1\",\"research_1\",\"research_1\",\"research_1\",\"research_1\",\"research_1\",\"research_1\",\"research_1\",\"research_1\",\"research_1\",\"research_1\",\"research_1\",\"research_1\",\"research_1\",\"research_1\",\"research_1\",\"research_1\",\"research_1\",\"research_1\",\"research_1\",\"research_1\",\"research_1\",\"research_1\",\"research_1\",\"research_1\",\"research_1\",\"research_1\",\"research_1\",\"research_1\",\"research_1\",\"research_1\",\"research_1\",\"research_1\",\"research_1\",\"research_1\",\"research_1\",\"research_1\",\"research_1\",\"research_1\",\"research_1\",\"research_1\",\"research_1\",\"research_1\",\"research_1\",\"research_1\",\"research_1\",\"research_2\",\"research_2\",\"research_2\",\"research_2\",\"research_2\",\"research_2\",\"research_2\",\"research_2\",\"research_2\",\"research_2\",\"research_2\",\"research_2\",\"research_2\",\"research_2\",\"research_2\",\"research_2\",\"research_2\",\"research_2\",\"research_2\",\"research_2\",\"research_2\",\"research_2\",\"research_2\",\"research_2\",\"research_2\",\"research_2\",\"research_2\",\"research_2\",\"research_2\",\"research_2\",\"research_2\",\"research_2\",\"research_2\",\"research_2\",\"research_2\",\"research_2\",\"research_2\",\"research_2\",\"research_2\",\"research_2\",\"research_2\",\"research_2\",\"research_2\",\"research_2\",\"research_2\",\"research_2\",\"research_2\",\"research_2\",\"research_2\",\"research_2\",\"research_2\",\"research_2\",\"research_2\",\"research_2\",\"research_2\",\"research_2\",\"research_2\",\"research_2\",\"research_2\",\"research_2\",\"research_2\",\"research_2\",\"research_2\",\"research_2\",\"research_2\",\"research_2\",\"research_2\",\"research_2\",\"research_2\",\"research_2\",\"research_2\",\"research_2\",\"research_2\",\"research_2\",\"research_2\",\"research_2\",\"research_2\",\"research_2\",\"research_2\",\"research_2\",\"research_2\",\"research_2\",\"research_2\",\"research_2\",\"research_2\",\"research_2\",\"research_2\",\"research_2\",\"research_2\",\"research_2\",\"research_2\",\"research_2\",\"research_2\",\"research_2\",\"research_2\",\"research_2\",\"research_2\",\"research_2\",\"research_2\",\"research_2\",\"research_2\",\"research_2\",\"research_2\",\"research_2\",\"research_2\",\"research_2\",\"research_2\",\"research_2\",\"research_2\",\"research_2\",\"research_2\",\"research_2\",\"research_2\",\"research_2\",\"research_2\",\"research_2\",\"research_2\",\"research_2\",\"research_2\",\"research_2\",\"research_2\",\"research_2\",\"research_2\",\"research_2\",\"research_2\",\"research_2\",\"research_2\",\"research_2\",\"research_2\",\"research_2\",\"research_2\",\"research_2\",\"research_2\",\"research_2\",\"research_2\",\"research_2\",\"research_2\",\"research_2\",\"research_2\",\"research_2\",\"challenger_1\",\"challenger_1\",\"challenger_1\",\"challenger_1\",\"challenger_1\",\"challenger_1\",\"challenger_1\",\"challenger_1\",\"challenger_1\",\"challenger_1\",\"challenger_1\",\"challenger_1\",\"challenger_1\",\"challenger_1\",\"challenger_1\",\"challenger_1\",\"challenger_1\",\"challenger_1\",\"challenger_1\",\"challenger_1\",\"challenger_1\",\"challenger_1\",\"challenger_1\",\"challenger_1\",\"challenger_1\",\"challenger_1\",\"challenger_1\",\"challenger_1\",\"challenger_1\",\"challenger_1\",\"challenger_1\",\"challenger_1\",\"challenger_1\",\"challenger_1\",\"challenger_1\",\"challenger_1\",\"challenger_1\",\"challenger_1\",\"challenger_1\",\"challenger_1\",\"challenger_1\",\"challenger_1\",\"challenger_1\",\"challenger_1\",\"challenger_1\",\"challenger_1\",\"challenger_1\",\"challenger_1\",\"challenger_1\",\"challenger_1\",\"challenger_1\",\"challenger_1\",\"challenger_1\",\"challenger_1\",\"challenger_1\",\"challenger_1\",\"challenger_1\",\"challenger_1\",\"challenger_1\",\"challenger_1\",\"challenger_1\",\"challenger_1\",\"challenger_1\",\"challenger_1\",\"challenger_1\",\"challenger_1\",\"challenger_1\",\"challenger_1\",\"challenger_1\",\"challenger_1\",\"challenger_1\",\"challenger_1\",\"challenger_1\",\"challenger_1\",\"challenger_1\",\"challenger_1\",\"challenger_1\",\"challenger_1\",\"challenger_1\",\"challenger_1\",\"challenger_1\",\"challenger_1\",\"challenger_1\",\"challenger_1\",\"challenger_1\",\"challenger_1\",\"challenger_1\",\"challenger_1\",\"challenger_1\",\"challenger_1\",\"challenger_1\",\"challenger_1\",\"challenger_1\",\"challenger_1\",\"challenger_1\",\"challenger_1\",\"challenger_1\",\"challenger_1\",\"challenger_1\",\"challenger_1\",\"challenger_1\",\"challenger_1\",\"challenger_1\",\"challenger_1\",\"challenger_1\",\"challenger_1\",\"challenger_1\",\"challenger_1\",\"challenger_1\",\"challenger_1\",\"challenger_1\",\"challenger_1\",\"challenger_1\",\"challenger_1\",\"challenger_1\",\"challenger_1\",\"challenger_1\",\"challenger_1\",\"challenger_1\",\"challenger_1\",\"challenger_1\",\"challenger_1\",\"challenger_1\",\"challenger_1\",\"challenger_1\",\"challenger_1\",\"challenger_1\",\"challenger_1\",\"challenger_1\",\"challenger_1\",\"challenger_1\",\"challenger_1\",\"challenger_1\",\"challenger_1\",\"challenger_1\",\"challenger_1\",\"challenger_1\",\"challenger_1\",\"challenger_1\",\"challenger_1\"],\"x0\":\" \",\"xaxis\":\"x\",\"y\":[0.16666666666666666,0.14285714285714285,0.0,0.2,0.0,0.0,0.0,0.3333333333333333,0.0,0.0,0.16666666666666666,0.0,0.14285714285714285,0.0,0.0,0.0,0.0,0.0,0.17647058823529413,0.0,0.16666666666666666,0.14285714285714285,0.0,0.2,0.0,0.0,0.0,0.3333333333333333,0.0,0.0,0.16666666666666666,0.0,0.14285714285714285,0.0,0.0,0.0,0.0,0.0,0.17647058823529413,0.0,0.16666666666666666,0.14285714285714285,0.0,0.2,0.0,0.0,0.0,0.3333333333333333,0.0,0.0,0.16666666666666666,0.0,0.14285714285714285,0.0,0.0,0.0,0.0,0.0,0.17647058823529413,0.0,0.16666666666666666,0.14285714285714285,0.0,0.2,0.0,0.0,0.0,0.3333333333333333,0.0,0.0,0.16666666666666666,0.0,0.14285714285714285,0.0,0.0,0.0,0.0,0.0,0.17647058823529413,0.0,0.16666666666666666,0.14285714285714285,0.0,0.2,0.0,0.0,0.0,0.3333333333333333,0.0,0.0,0.16666666666666666,0.0,0.14285714285714285,0.0,0.0,0.0,0.0,0.0,0.17647058823529413,0.0,0.16666666666666666,0.14285714285714285,0.0,0.2,0.0,0.0,0.0,0.3333333333333333,0.0,0.0,0.16666666666666666,0.0,0.14285714285714285,0.0,0.0,0.0,0.0,0.0,0.17647058823529413,0.0,0.16666666666666666,0.14285714285714285,0.0,0.2,0.0,0.0,0.0,0.3333333333333333,0.0,0.0,0.16666666666666666,0.0,0.14285714285714285,0.0,0.0,0.0,0.0,0.0,0.17647058823529413,0.0,0.14285714285714285,0.35,0.3333333333333333,0.0,0.18181818181818182,0.3,0.25,0.5,0.2222222222222222,0.14285714285714285,0.125,0.0,0.1111111111111111,0.1,0.2,0.19047619047619047,0.2222222222222222,0.0,0.1,0.0,0.14285714285714285,0.35,0.3333333333333333,0.0,0.18181818181818182,0.3,0.25,0.5,0.2222222222222222,0.14285714285714285,0.125,0.0,0.1111111111111111,0.1,0.2,0.19047619047619047,0.2222222222222222,0.0,0.1,0.0,0.14285714285714285,0.35,0.3333333333333333,0.0,0.18181818181818182,0.3,0.25,0.5,0.2222222222222222,0.14285714285714285,0.125,0.0,0.1111111111111111,0.1,0.2,0.19047619047619047,0.2222222222222222,0.0,0.1,0.0,0.14285714285714285,0.35,0.3333333333333333,0.0,0.18181818181818182,0.3,0.25,0.5,0.2222222222222222,0.14285714285714285,0.125,0.0,0.1111111111111111,0.1,0.2,0.19047619047619047,0.2222222222222222,0.0,0.1,0.0,0.14285714285714285,0.35,0.3333333333333333,0.0,0.18181818181818182,0.3,0.25,0.5,0.2222222222222222,0.14285714285714285,0.125,0.0,0.1111111111111111,0.1,0.2,0.19047619047619047,0.2222222222222222,0.0,0.1,0.0,0.14285714285714285,0.35,0.3333333333333333,0.0,0.18181818181818182,0.3,0.25,0.5,0.2222222222222222,0.14285714285714285,0.125,0.0,0.1111111111111111,0.1,0.2,0.19047619047619047,0.2222222222222222,0.0,0.1,0.0,0.14285714285714285,0.35,0.3333333333333333,0.0,0.18181818181818182,0.3,0.25,0.5,0.2222222222222222,0.14285714285714285,0.125,0.0,0.1111111111111111,0.1,0.2,0.19047619047619047,0.2222222222222222,0.0,0.1,0.0,0.4444444444444444,0.3333333333333333,0.125,0.5555555555555556,0.2727272727272727,0.3,0.12,0.1,0.25,0.2857142857142857,0.125,0.25,0.18181818181818182,0.3333333333333333,0.0,0.25,0.14285714285714285,0.0,0.42857142857142855,0.0,0.4444444444444444,0.3333333333333333,0.125,0.5555555555555556,0.2727272727272727,0.3,0.12,0.1,0.25,0.2857142857142857,0.125,0.25,0.18181818181818182,0.3333333333333333,0.0,0.25,0.14285714285714285,0.0,0.42857142857142855,0.0,0.4444444444444444,0.3333333333333333,0.125,0.5555555555555556,0.2727272727272727,0.3,0.12,0.1,0.25,0.2857142857142857,0.125,0.25,0.18181818181818182,0.3333333333333333,0.0,0.25,0.14285714285714285,0.0,0.42857142857142855,0.0,0.4444444444444444,0.3333333333333333,0.125,0.5555555555555556,0.2727272727272727,0.3,0.12,0.1,0.25,0.2857142857142857,0.125,0.25,0.18181818181818182,0.3333333333333333,0.0,0.25,0.14285714285714285,0.0,0.42857142857142855,0.0,0.4444444444444444,0.3333333333333333,0.125,0.5555555555555556,0.2727272727272727,0.3,0.12,0.1,0.25,0.2857142857142857,0.125,0.25,0.18181818181818182,0.3333333333333333,0.0,0.25,0.14285714285714285,0.0,0.42857142857142855,0.0,0.4444444444444444,0.3333333333333333,0.125,0.5555555555555556,0.2727272727272727,0.3,0.12,0.1,0.25,0.2857142857142857,0.125,0.25,0.18181818181818182,0.3333333333333333,0.0,0.25,0.14285714285714285,0.0,0.42857142857142855,0.0,0.4444444444444444,0.3333333333333333,0.125,0.5555555555555556,0.2727272727272727,0.3,0.12,0.1,0.25,0.2857142857142857,0.125,0.25,0.18181818181818182,0.3333333333333333,0.0,0.25,0.14285714285714285,0.0,0.42857142857142855,0.0],\"y0\":\" \",\"yaxis\":\"y\",\"type\":\"violin\"}],                        {\"template\":{\"data\":{\"histogram2dcontour\":[{\"type\":\"histogram2dcontour\",\"colorbar\":{\"outlinewidth\":0,\"ticks\":\"\"},\"colorscale\":[[0.0,\"#0d0887\"],[0.1111111111111111,\"#46039f\"],[0.2222222222222222,\"#7201a8\"],[0.3333333333333333,\"#9c179e\"],[0.4444444444444444,\"#bd3786\"],[0.5555555555555556,\"#d8576b\"],[0.6666666666666666,\"#ed7953\"],[0.7777777777777778,\"#fb9f3a\"],[0.8888888888888888,\"#fdca26\"],[1.0,\"#f0f921\"]]}],\"choropleth\":[{\"type\":\"choropleth\",\"colorbar\":{\"outlinewidth\":0,\"ticks\":\"\"}}],\"histogram2d\":[{\"type\":\"histogram2d\",\"colorbar\":{\"outlinewidth\":0,\"ticks\":\"\"},\"colorscale\":[[0.0,\"#0d0887\"],[0.1111111111111111,\"#46039f\"],[0.2222222222222222,\"#7201a8\"],[0.3333333333333333,\"#9c179e\"],[0.4444444444444444,\"#bd3786\"],[0.5555555555555556,\"#d8576b\"],[0.6666666666666666,\"#ed7953\"],[0.7777777777777778,\"#fb9f3a\"],[0.8888888888888888,\"#fdca26\"],[1.0,\"#f0f921\"]]}],\"heatmap\":[{\"type\":\"heatmap\",\"colorbar\":{\"outlinewidth\":0,\"ticks\":\"\"},\"colorscale\":[[0.0,\"#0d0887\"],[0.1111111111111111,\"#46039f\"],[0.2222222222222222,\"#7201a8\"],[0.3333333333333333,\"#9c179e\"],[0.4444444444444444,\"#bd3786\"],[0.5555555555555556,\"#d8576b\"],[0.6666666666666666,\"#ed7953\"],[0.7777777777777778,\"#fb9f3a\"],[0.8888888888888888,\"#fdca26\"],[1.0,\"#f0f921\"]]}],\"heatmapgl\":[{\"type\":\"heatmapgl\",\"colorbar\":{\"outlinewidth\":0,\"ticks\":\"\"},\"colorscale\":[[0.0,\"#0d0887\"],[0.1111111111111111,\"#46039f\"],[0.2222222222222222,\"#7201a8\"],[0.3333333333333333,\"#9c179e\"],[0.4444444444444444,\"#bd3786\"],[0.5555555555555556,\"#d8576b\"],[0.6666666666666666,\"#ed7953\"],[0.7777777777777778,\"#fb9f3a\"],[0.8888888888888888,\"#fdca26\"],[1.0,\"#f0f921\"]]}],\"contourcarpet\":[{\"type\":\"contourcarpet\",\"colorbar\":{\"outlinewidth\":0,\"ticks\":\"\"}}],\"contour\":[{\"type\":\"contour\",\"colorbar\":{\"outlinewidth\":0,\"ticks\":\"\"},\"colorscale\":[[0.0,\"#0d0887\"],[0.1111111111111111,\"#46039f\"],[0.2222222222222222,\"#7201a8\"],[0.3333333333333333,\"#9c179e\"],[0.4444444444444444,\"#bd3786\"],[0.5555555555555556,\"#d8576b\"],[0.6666666666666666,\"#ed7953\"],[0.7777777777777778,\"#fb9f3a\"],[0.8888888888888888,\"#fdca26\"],[1.0,\"#f0f921\"]]}],\"surface\":[{\"type\":\"surface\",\"colorbar\":{\"outlinewidth\":0,\"ticks\":\"\"},\"colorscale\":[[0.0,\"#0d0887\"],[0.1111111111111111,\"#46039f\"],[0.2222222222222222,\"#7201a8\"],[0.3333333333333333,\"#9c179e\"],[0.4444444444444444,\"#bd3786\"],[0.5555555555555556,\"#d8576b\"],[0.6666666666666666,\"#ed7953\"],[0.7777777777777778,\"#fb9f3a\"],[0.8888888888888888,\"#fdca26\"],[1.0,\"#f0f921\"]]}],\"mesh3d\":[{\"type\":\"mesh3d\",\"colorbar\":{\"outlinewidth\":0,\"ticks\":\"\"}}],\"scatter\":[{\"fillpattern\":{\"fillmode\":\"overlay\",\"size\":10,\"solidity\":0.2},\"type\":\"scatter\"}],\"parcoords\":[{\"type\":\"parcoords\",\"line\":{\"colorbar\":{\"outlinewidth\":0,\"ticks\":\"\"}}}],\"scatterpolargl\":[{\"type\":\"scatterpolargl\",\"marker\":{\"colorbar\":{\"outlinewidth\":0,\"ticks\":\"\"}}}],\"bar\":[{\"error_x\":{\"color\":\"#2a3f5f\"},\"error_y\":{\"color\":\"#2a3f5f\"},\"marker\":{\"line\":{\"color\":\"#E5ECF6\",\"width\":0.5},\"pattern\":{\"fillmode\":\"overlay\",\"size\":10,\"solidity\":0.2}},\"type\":\"bar\"}],\"scattergeo\":[{\"type\":\"scattergeo\",\"marker\":{\"colorbar\":{\"outlinewidth\":0,\"ticks\":\"\"}}}],\"scatterpolar\":[{\"type\":\"scatterpolar\",\"marker\":{\"colorbar\":{\"outlinewidth\":0,\"ticks\":\"\"}}}],\"histogram\":[{\"marker\":{\"pattern\":{\"fillmode\":\"overlay\",\"size\":10,\"solidity\":0.2}},\"type\":\"histogram\"}],\"scattergl\":[{\"type\":\"scattergl\",\"marker\":{\"colorbar\":{\"outlinewidth\":0,\"ticks\":\"\"}}}],\"scatter3d\":[{\"type\":\"scatter3d\",\"line\":{\"colorbar\":{\"outlinewidth\":0,\"ticks\":\"\"}},\"marker\":{\"colorbar\":{\"outlinewidth\":0,\"ticks\":\"\"}}}],\"scattermapbox\":[{\"type\":\"scattermapbox\",\"marker\":{\"colorbar\":{\"outlinewidth\":0,\"ticks\":\"\"}}}],\"scatterternary\":[{\"type\":\"scatterternary\",\"marker\":{\"colorbar\":{\"outlinewidth\":0,\"ticks\":\"\"}}}],\"scattercarpet\":[{\"type\":\"scattercarpet\",\"marker\":{\"colorbar\":{\"outlinewidth\":0,\"ticks\":\"\"}}}],\"carpet\":[{\"aaxis\":{\"endlinecolor\":\"#2a3f5f\",\"gridcolor\":\"white\",\"linecolor\":\"white\",\"minorgridcolor\":\"white\",\"startlinecolor\":\"#2a3f5f\"},\"baxis\":{\"endlinecolor\":\"#2a3f5f\",\"gridcolor\":\"white\",\"linecolor\":\"white\",\"minorgridcolor\":\"white\",\"startlinecolor\":\"#2a3f5f\"},\"type\":\"carpet\"}],\"table\":[{\"cells\":{\"fill\":{\"color\":\"#EBF0F8\"},\"line\":{\"color\":\"white\"}},\"header\":{\"fill\":{\"color\":\"#C8D4E3\"},\"line\":{\"color\":\"white\"}},\"type\":\"table\"}],\"barpolar\":[{\"marker\":{\"line\":{\"color\":\"#E5ECF6\",\"width\":0.5},\"pattern\":{\"fillmode\":\"overlay\",\"size\":10,\"solidity\":0.2}},\"type\":\"barpolar\"}],\"pie\":[{\"automargin\":true,\"type\":\"pie\"}]},\"layout\":{\"autotypenumbers\":\"strict\",\"colorway\":[\"#636efa\",\"#EF553B\",\"#00cc96\",\"#ab63fa\",\"#FFA15A\",\"#19d3f3\",\"#FF6692\",\"#B6E880\",\"#FF97FF\",\"#FECB52\"],\"font\":{\"color\":\"#2a3f5f\"},\"hovermode\":\"closest\",\"hoverlabel\":{\"align\":\"left\"},\"paper_bgcolor\":\"white\",\"plot_bgcolor\":\"#E5ECF6\",\"polar\":{\"bgcolor\":\"#E5ECF6\",\"angularaxis\":{\"gridcolor\":\"white\",\"linecolor\":\"white\",\"ticks\":\"\"},\"radialaxis\":{\"gridcolor\":\"white\",\"linecolor\":\"white\",\"ticks\":\"\"}},\"ternary\":{\"bgcolor\":\"#E5ECF6\",\"aaxis\":{\"gridcolor\":\"white\",\"linecolor\":\"white\",\"ticks\":\"\"},\"baxis\":{\"gridcolor\":\"white\",\"linecolor\":\"white\",\"ticks\":\"\"},\"caxis\":{\"gridcolor\":\"white\",\"linecolor\":\"white\",\"ticks\":\"\"}},\"coloraxis\":{\"colorbar\":{\"outlinewidth\":0,\"ticks\":\"\"}},\"colorscale\":{\"sequential\":[[0.0,\"#0d0887\"],[0.1111111111111111,\"#46039f\"],[0.2222222222222222,\"#7201a8\"],[0.3333333333333333,\"#9c179e\"],[0.4444444444444444,\"#bd3786\"],[0.5555555555555556,\"#d8576b\"],[0.6666666666666666,\"#ed7953\"],[0.7777777777777778,\"#fb9f3a\"],[0.8888888888888888,\"#fdca26\"],[1.0,\"#f0f921\"]],\"sequentialminus\":[[0.0,\"#0d0887\"],[0.1111111111111111,\"#46039f\"],[0.2222222222222222,\"#7201a8\"],[0.3333333333333333,\"#9c179e\"],[0.4444444444444444,\"#bd3786\"],[0.5555555555555556,\"#d8576b\"],[0.6666666666666666,\"#ed7953\"],[0.7777777777777778,\"#fb9f3a\"],[0.8888888888888888,\"#fdca26\"],[1.0,\"#f0f921\"]],\"diverging\":[[0,\"#8e0152\"],[0.1,\"#c51b7d\"],[0.2,\"#de77ae\"],[0.3,\"#f1b6da\"],[0.4,\"#fde0ef\"],[0.5,\"#f7f7f7\"],[0.6,\"#e6f5d0\"],[0.7,\"#b8e186\"],[0.8,\"#7fbc41\"],[0.9,\"#4d9221\"],[1,\"#276419\"]]},\"xaxis\":{\"gridcolor\":\"white\",\"linecolor\":\"white\",\"ticks\":\"\",\"title\":{\"standoff\":15},\"zerolinecolor\":\"white\",\"automargin\":true,\"zerolinewidth\":2},\"yaxis\":{\"gridcolor\":\"white\",\"linecolor\":\"white\",\"ticks\":\"\",\"title\":{\"standoff\":15},\"zerolinecolor\":\"white\",\"automargin\":true,\"zerolinewidth\":2},\"scene\":{\"xaxis\":{\"backgroundcolor\":\"#E5ECF6\",\"gridcolor\":\"white\",\"linecolor\":\"white\",\"showbackground\":true,\"ticks\":\"\",\"zerolinecolor\":\"white\",\"gridwidth\":2},\"yaxis\":{\"backgroundcolor\":\"#E5ECF6\",\"gridcolor\":\"white\",\"linecolor\":\"white\",\"showbackground\":true,\"ticks\":\"\",\"zerolinecolor\":\"white\",\"gridwidth\":2},\"zaxis\":{\"backgroundcolor\":\"#E5ECF6\",\"gridcolor\":\"white\",\"linecolor\":\"white\",\"showbackground\":true,\"ticks\":\"\",\"zerolinecolor\":\"white\",\"gridwidth\":2}},\"shapedefaults\":{\"line\":{\"color\":\"#2a3f5f\"}},\"annotationdefaults\":{\"arrowcolor\":\"#2a3f5f\",\"arrowhead\":0,\"arrowwidth\":1},\"geo\":{\"bgcolor\":\"white\",\"landcolor\":\"#E5ECF6\",\"subunitcolor\":\"white\",\"showland\":true,\"showlakes\":true,\"lakecolor\":\"white\"},\"title\":{\"x\":0.05},\"mapbox\":{\"style\":\"light\"}}},\"xaxis\":{\"anchor\":\"y\",\"domain\":[0.0,1.0],\"title\":{\"text\":\"search_config\"}},\"yaxis\":{\"anchor\":\"x\",\"domain\":[0.0,1.0],\"title\":{\"text\":\"value\"}},\"legend\":{\"title\":{\"text\":\"metric\"},\"tracegroupgap\":0},\"margin\":{\"t\":60},\"violinmode\":\"group\"},                        {\"responsive\": true}                    ).then(function(){\n",
       "                            \n",
       "var gd = document.getElementById('a0a4801d-bbe9-4ba7-9ffe-3461f7fff24d');\n",
       "var x = new MutationObserver(function (mutations, observer) {{\n",
       "        var display = window.getComputedStyle(gd).display;\n",
       "        if (!display || display === 'none') {{\n",
       "            console.log([gd, 'removed!']);\n",
       "            Plotly.purge(gd);\n",
       "            observer.disconnect();\n",
       "        }}\n",
       "}});\n",
       "\n",
       "// Listen for the removal of the full notebook cells\n",
       "var notebookContainer = gd.closest('#notebook-container');\n",
       "if (notebookContainer) {{\n",
       "    x.observe(notebookContainer, {childList: true});\n",
       "}}\n",
       "\n",
       "// Listen for the clearing of the current output cell\n",
       "var outputEl = gd.closest('.output');\n",
       "if (outputEl) {{\n",
       "    x.observe(outputEl, {childList: true});\n",
       "}}\n",
       "\n",
       "                        })                };                });            </script>        </div>"
      ]
     },
     "metadata": {},
     "output_type": "display_data"
    }
   ],
   "source": [
    "sel = df_metrics.search_config.isin([\"research_1\", \"research_2\", \"challenger_1\"])\n",
    "sel = sel & (df_metrics.metric.isin([\"jaccard\"]))\n",
    "df = df_metrics[sel]\n",
    "df = df[[\"value\", \"metric\", \"search_config\", \"query\", \"datetime\"]]\n",
    "\n",
    "fig = px.violin(df, y=\"value\", x=\"search_config\", points=\"all\", color=\"metric\", hover_data=df.columns)\n",
    "fig"
   ]
  },
  {
   "cell_type": "code",
   "execution_count": 292,
   "id": "b0cbea9c",
   "metadata": {},
   "outputs": [
    {
     "data": {
      "application/vnd.plotly.v1+json": {
       "config": {
        "plotlyServerURL": "https://plot.ly"
       },
       "data": [
        {
         "alignmentgroup": "True",
         "box": {
          "visible": false
         },
         "customdata": [
          [
           "dcg",
           "3d tree wall owl",
           "2024-06-25T00:00:00"
          ],
          [
           "dcg",
           "classic black dresses for women",
           "2024-06-25T00:00:00"
          ],
          [
           "dcg",
           "cuadro para oficina",
           "2024-06-25T00:00:00"
          ],
          [
           "dcg",
           "cute vans for women",
           "2024-06-25T00:00:00"
          ],
          [
           "dcg",
           "diabetic massager",
           "2024-06-25T00:00:00"
          ],
          [
           "dcg",
           "greenpan ceramic nonstick fry pan 12 inch",
           "2024-06-25T00:00:00"
          ],
          [
           "dcg",
           "guano de murciélago",
           "2024-06-25T00:00:00"
          ],
          [
           "dcg",
           "handlebars",
           "2024-06-25T00:00:00"
          ],
          [
           "dcg",
           "joyce meyer",
           "2024-06-25T00:00:00"
          ],
          [
           "dcg",
           "level tools",
           "2024-06-25T00:00:00"
          ],
          [
           "dcg",
           "long johns for men",
           "2024-06-25T00:00:00"
          ],
          [
           "dcg",
           "mct oil capsules",
           "2024-06-25T00:00:00"
          ],
          [
           "dcg",
           "nike air force 1 men",
           "2024-06-25T00:00:00"
          ],
          [
           "dcg",
           "nipple clamps",
           "2024-06-25T00:00:00"
          ],
          [
           "dcg",
           "patinete niño 9 años",
           "2024-06-25T00:00:00"
          ],
          [
           "dcg",
           "replacement brush heads sonicare",
           "2024-06-25T00:00:00"
          ],
          [
           "dcg",
           "shoot rubber bullets",
           "2024-06-25T00:00:00"
          ],
          [
           "dcg",
           "solar pool covers for inground pools",
           "2024-06-25T00:00:00"
          ],
          [
           "dcg",
           "toyota white touch up",
           "2024-06-25T00:00:00"
          ],
          [
           "dcg",
           "ブルートゥースイヤホン",
           "2024-06-25T00:00:00"
          ],
          [
           "dcg",
           "3d tree wall owl",
           "2024-06-26T00:00:00"
          ],
          [
           "dcg",
           "classic black dresses for women",
           "2024-06-26T00:00:00"
          ],
          [
           "dcg",
           "cuadro para oficina",
           "2024-06-26T00:00:00"
          ],
          [
           "dcg",
           "cute vans for women",
           "2024-06-26T00:00:00"
          ],
          [
           "dcg",
           "diabetic massager",
           "2024-06-26T00:00:00"
          ],
          [
           "dcg",
           "greenpan ceramic nonstick fry pan 12 inch",
           "2024-06-26T00:00:00"
          ],
          [
           "dcg",
           "guano de murciélago",
           "2024-06-26T00:00:00"
          ],
          [
           "dcg",
           "handlebars",
           "2024-06-26T00:00:00"
          ],
          [
           "dcg",
           "joyce meyer",
           "2024-06-26T00:00:00"
          ],
          [
           "dcg",
           "level tools",
           "2024-06-26T00:00:00"
          ],
          [
           "dcg",
           "long johns for men",
           "2024-06-26T00:00:00"
          ],
          [
           "dcg",
           "mct oil capsules",
           "2024-06-26T00:00:00"
          ],
          [
           "dcg",
           "nike air force 1 men",
           "2024-06-26T00:00:00"
          ],
          [
           "dcg",
           "nipple clamps",
           "2024-06-26T00:00:00"
          ],
          [
           "dcg",
           "patinete niño 9 años",
           "2024-06-26T00:00:00"
          ],
          [
           "dcg",
           "replacement brush heads sonicare",
           "2024-06-26T00:00:00"
          ],
          [
           "dcg",
           "shoot rubber bullets",
           "2024-06-26T00:00:00"
          ],
          [
           "dcg",
           "solar pool covers for inground pools",
           "2024-06-26T00:00:00"
          ],
          [
           "dcg",
           "toyota white touch up",
           "2024-06-26T00:00:00"
          ],
          [
           "dcg",
           "ブルートゥースイヤホン",
           "2024-06-26T00:00:00"
          ],
          [
           "dcg",
           "3d tree wall owl",
           "2024-06-27T00:00:00"
          ],
          [
           "dcg",
           "classic black dresses for women",
           "2024-06-27T00:00:00"
          ],
          [
           "dcg",
           "cuadro para oficina",
           "2024-06-27T00:00:00"
          ],
          [
           "dcg",
           "cute vans for women",
           "2024-06-27T00:00:00"
          ],
          [
           "dcg",
           "diabetic massager",
           "2024-06-27T00:00:00"
          ],
          [
           "dcg",
           "greenpan ceramic nonstick fry pan 12 inch",
           "2024-06-27T00:00:00"
          ],
          [
           "dcg",
           "guano de murciélago",
           "2024-06-27T00:00:00"
          ],
          [
           "dcg",
           "handlebars",
           "2024-06-27T00:00:00"
          ],
          [
           "dcg",
           "joyce meyer",
           "2024-06-27T00:00:00"
          ],
          [
           "dcg",
           "level tools",
           "2024-06-27T00:00:00"
          ],
          [
           "dcg",
           "long johns for men",
           "2024-06-27T00:00:00"
          ],
          [
           "dcg",
           "mct oil capsules",
           "2024-06-27T00:00:00"
          ],
          [
           "dcg",
           "nike air force 1 men",
           "2024-06-27T00:00:00"
          ],
          [
           "dcg",
           "nipple clamps",
           "2024-06-27T00:00:00"
          ],
          [
           "dcg",
           "patinete niño 9 años",
           "2024-06-27T00:00:00"
          ],
          [
           "dcg",
           "replacement brush heads sonicare",
           "2024-06-27T00:00:00"
          ],
          [
           "dcg",
           "shoot rubber bullets",
           "2024-06-27T00:00:00"
          ],
          [
           "dcg",
           "solar pool covers for inground pools",
           "2024-06-27T00:00:00"
          ],
          [
           "dcg",
           "toyota white touch up",
           "2024-06-27T00:00:00"
          ],
          [
           "dcg",
           "ブルートゥースイヤホン",
           "2024-06-27T00:00:00"
          ],
          [
           "dcg",
           "3d tree wall owl",
           "2024-06-28T00:00:00"
          ],
          [
           "dcg",
           "classic black dresses for women",
           "2024-06-28T00:00:00"
          ],
          [
           "dcg",
           "cuadro para oficina",
           "2024-06-28T00:00:00"
          ],
          [
           "dcg",
           "cute vans for women",
           "2024-06-28T00:00:00"
          ],
          [
           "dcg",
           "diabetic massager",
           "2024-06-28T00:00:00"
          ],
          [
           "dcg",
           "greenpan ceramic nonstick fry pan 12 inch",
           "2024-06-28T00:00:00"
          ],
          [
           "dcg",
           "guano de murciélago",
           "2024-06-28T00:00:00"
          ],
          [
           "dcg",
           "handlebars",
           "2024-06-28T00:00:00"
          ],
          [
           "dcg",
           "joyce meyer",
           "2024-06-28T00:00:00"
          ],
          [
           "dcg",
           "level tools",
           "2024-06-28T00:00:00"
          ],
          [
           "dcg",
           "long johns for men",
           "2024-06-28T00:00:00"
          ],
          [
           "dcg",
           "mct oil capsules",
           "2024-06-28T00:00:00"
          ],
          [
           "dcg",
           "nike air force 1 men",
           "2024-06-28T00:00:00"
          ],
          [
           "dcg",
           "nipple clamps",
           "2024-06-28T00:00:00"
          ],
          [
           "dcg",
           "patinete niño 9 años",
           "2024-06-28T00:00:00"
          ],
          [
           "dcg",
           "replacement brush heads sonicare",
           "2024-06-28T00:00:00"
          ],
          [
           "dcg",
           "shoot rubber bullets",
           "2024-06-28T00:00:00"
          ],
          [
           "dcg",
           "solar pool covers for inground pools",
           "2024-06-28T00:00:00"
          ],
          [
           "dcg",
           "toyota white touch up",
           "2024-06-28T00:00:00"
          ],
          [
           "dcg",
           "ブルートゥースイヤホン",
           "2024-06-28T00:00:00"
          ],
          [
           "dcg",
           "3d tree wall owl",
           "2024-06-29T00:00:00"
          ],
          [
           "dcg",
           "classic black dresses for women",
           "2024-06-29T00:00:00"
          ],
          [
           "dcg",
           "cuadro para oficina",
           "2024-06-29T00:00:00"
          ],
          [
           "dcg",
           "cute vans for women",
           "2024-06-29T00:00:00"
          ],
          [
           "dcg",
           "diabetic massager",
           "2024-06-29T00:00:00"
          ],
          [
           "dcg",
           "greenpan ceramic nonstick fry pan 12 inch",
           "2024-06-29T00:00:00"
          ],
          [
           "dcg",
           "guano de murciélago",
           "2024-06-29T00:00:00"
          ],
          [
           "dcg",
           "handlebars",
           "2024-06-29T00:00:00"
          ],
          [
           "dcg",
           "joyce meyer",
           "2024-06-29T00:00:00"
          ],
          [
           "dcg",
           "level tools",
           "2024-06-29T00:00:00"
          ],
          [
           "dcg",
           "long johns for men",
           "2024-06-29T00:00:00"
          ],
          [
           "dcg",
           "mct oil capsules",
           "2024-06-29T00:00:00"
          ],
          [
           "dcg",
           "nike air force 1 men",
           "2024-06-29T00:00:00"
          ],
          [
           "dcg",
           "nipple clamps",
           "2024-06-29T00:00:00"
          ],
          [
           "dcg",
           "patinete niño 9 años",
           "2024-06-29T00:00:00"
          ],
          [
           "dcg",
           "replacement brush heads sonicare",
           "2024-06-29T00:00:00"
          ],
          [
           "dcg",
           "shoot rubber bullets",
           "2024-06-29T00:00:00"
          ],
          [
           "dcg",
           "solar pool covers for inground pools",
           "2024-06-29T00:00:00"
          ],
          [
           "dcg",
           "toyota white touch up",
           "2024-06-29T00:00:00"
          ],
          [
           "dcg",
           "ブルートゥースイヤホン",
           "2024-06-29T00:00:00"
          ],
          [
           "dcg",
           "3d tree wall owl",
           "2024-06-30T00:00:00"
          ],
          [
           "dcg",
           "classic black dresses for women",
           "2024-06-30T00:00:00"
          ],
          [
           "dcg",
           "cuadro para oficina",
           "2024-06-30T00:00:00"
          ],
          [
           "dcg",
           "cute vans for women",
           "2024-06-30T00:00:00"
          ],
          [
           "dcg",
           "diabetic massager",
           "2024-06-30T00:00:00"
          ],
          [
           "dcg",
           "greenpan ceramic nonstick fry pan 12 inch",
           "2024-06-30T00:00:00"
          ],
          [
           "dcg",
           "guano de murciélago",
           "2024-06-30T00:00:00"
          ],
          [
           "dcg",
           "handlebars",
           "2024-06-30T00:00:00"
          ],
          [
           "dcg",
           "joyce meyer",
           "2024-06-30T00:00:00"
          ],
          [
           "dcg",
           "level tools",
           "2024-06-30T00:00:00"
          ],
          [
           "dcg",
           "long johns for men",
           "2024-06-30T00:00:00"
          ],
          [
           "dcg",
           "mct oil capsules",
           "2024-06-30T00:00:00"
          ],
          [
           "dcg",
           "nike air force 1 men",
           "2024-06-30T00:00:00"
          ],
          [
           "dcg",
           "nipple clamps",
           "2024-06-30T00:00:00"
          ],
          [
           "dcg",
           "patinete niño 9 años",
           "2024-06-30T00:00:00"
          ],
          [
           "dcg",
           "replacement brush heads sonicare",
           "2024-06-30T00:00:00"
          ],
          [
           "dcg",
           "shoot rubber bullets",
           "2024-06-30T00:00:00"
          ],
          [
           "dcg",
           "solar pool covers for inground pools",
           "2024-06-30T00:00:00"
          ],
          [
           "dcg",
           "toyota white touch up",
           "2024-06-30T00:00:00"
          ],
          [
           "dcg",
           "ブルートゥースイヤホン",
           "2024-06-30T00:00:00"
          ],
          [
           "dcg",
           "3d tree wall owl",
           "2024-07-01T00:00:00"
          ],
          [
           "dcg",
           "classic black dresses for women",
           "2024-07-01T00:00:00"
          ],
          [
           "dcg",
           "cuadro para oficina",
           "2024-07-01T00:00:00"
          ],
          [
           "dcg",
           "cute vans for women",
           "2024-07-01T00:00:00"
          ],
          [
           "dcg",
           "diabetic massager",
           "2024-07-01T00:00:00"
          ],
          [
           "dcg",
           "greenpan ceramic nonstick fry pan 12 inch",
           "2024-07-01T00:00:00"
          ],
          [
           "dcg",
           "guano de murciélago",
           "2024-07-01T00:00:00"
          ],
          [
           "dcg",
           "handlebars",
           "2024-07-01T00:00:00"
          ],
          [
           "dcg",
           "joyce meyer",
           "2024-07-01T00:00:00"
          ],
          [
           "dcg",
           "level tools",
           "2024-07-01T00:00:00"
          ],
          [
           "dcg",
           "long johns for men",
           "2024-07-01T00:00:00"
          ],
          [
           "dcg",
           "mct oil capsules",
           "2024-07-01T00:00:00"
          ],
          [
           "dcg",
           "nike air force 1 men",
           "2024-07-01T00:00:00"
          ],
          [
           "dcg",
           "nipple clamps",
           "2024-07-01T00:00:00"
          ],
          [
           "dcg",
           "patinete niño 9 años",
           "2024-07-01T00:00:00"
          ],
          [
           "dcg",
           "replacement brush heads sonicare",
           "2024-07-01T00:00:00"
          ],
          [
           "dcg",
           "shoot rubber bullets",
           "2024-07-01T00:00:00"
          ],
          [
           "dcg",
           "solar pool covers for inground pools",
           "2024-07-01T00:00:00"
          ],
          [
           "dcg",
           "toyota white touch up",
           "2024-07-01T00:00:00"
          ],
          [
           "dcg",
           "ブルートゥースイヤホン",
           "2024-07-01T00:00:00"
          ],
          [
           "dcg",
           "3d tree wall owl",
           "2024-06-25T00:00:00"
          ],
          [
           "dcg",
           "classic black dresses for women",
           "2024-06-25T00:00:00"
          ],
          [
           "dcg",
           "cuadro para oficina",
           "2024-06-25T00:00:00"
          ],
          [
           "dcg",
           "cute vans for women",
           "2024-06-25T00:00:00"
          ],
          [
           "dcg",
           "diabetic massager",
           "2024-06-25T00:00:00"
          ],
          [
           "dcg",
           "greenpan ceramic nonstick fry pan 12 inch",
           "2024-06-25T00:00:00"
          ],
          [
           "dcg",
           "guano de murciélago",
           "2024-06-25T00:00:00"
          ],
          [
           "dcg",
           "handlebars",
           "2024-06-25T00:00:00"
          ],
          [
           "dcg",
           "joyce meyer",
           "2024-06-25T00:00:00"
          ],
          [
           "dcg",
           "level tools",
           "2024-06-25T00:00:00"
          ],
          [
           "dcg",
           "long johns for men",
           "2024-06-25T00:00:00"
          ],
          [
           "dcg",
           "mct oil capsules",
           "2024-06-25T00:00:00"
          ],
          [
           "dcg",
           "nike air force 1 men",
           "2024-06-25T00:00:00"
          ],
          [
           "dcg",
           "nipple clamps",
           "2024-06-25T00:00:00"
          ],
          [
           "dcg",
           "patinete niño 9 años",
           "2024-06-25T00:00:00"
          ],
          [
           "dcg",
           "replacement brush heads sonicare",
           "2024-06-25T00:00:00"
          ],
          [
           "dcg",
           "shoot rubber bullets",
           "2024-06-25T00:00:00"
          ],
          [
           "dcg",
           "solar pool covers for inground pools",
           "2024-06-25T00:00:00"
          ],
          [
           "dcg",
           "toyota white touch up",
           "2024-06-25T00:00:00"
          ],
          [
           "dcg",
           "ブルートゥースイヤホン",
           "2024-06-25T00:00:00"
          ],
          [
           "dcg",
           "3d tree wall owl",
           "2024-06-26T00:00:00"
          ],
          [
           "dcg",
           "classic black dresses for women",
           "2024-06-26T00:00:00"
          ],
          [
           "dcg",
           "cuadro para oficina",
           "2024-06-26T00:00:00"
          ],
          [
           "dcg",
           "cute vans for women",
           "2024-06-26T00:00:00"
          ],
          [
           "dcg",
           "diabetic massager",
           "2024-06-26T00:00:00"
          ],
          [
           "dcg",
           "greenpan ceramic nonstick fry pan 12 inch",
           "2024-06-26T00:00:00"
          ],
          [
           "dcg",
           "guano de murciélago",
           "2024-06-26T00:00:00"
          ],
          [
           "dcg",
           "handlebars",
           "2024-06-26T00:00:00"
          ],
          [
           "dcg",
           "joyce meyer",
           "2024-06-26T00:00:00"
          ],
          [
           "dcg",
           "level tools",
           "2024-06-26T00:00:00"
          ],
          [
           "dcg",
           "long johns for men",
           "2024-06-26T00:00:00"
          ],
          [
           "dcg",
           "mct oil capsules",
           "2024-06-26T00:00:00"
          ],
          [
           "dcg",
           "nike air force 1 men",
           "2024-06-26T00:00:00"
          ],
          [
           "dcg",
           "nipple clamps",
           "2024-06-26T00:00:00"
          ],
          [
           "dcg",
           "patinete niño 9 años",
           "2024-06-26T00:00:00"
          ],
          [
           "dcg",
           "replacement brush heads sonicare",
           "2024-06-26T00:00:00"
          ],
          [
           "dcg",
           "shoot rubber bullets",
           "2024-06-26T00:00:00"
          ],
          [
           "dcg",
           "solar pool covers for inground pools",
           "2024-06-26T00:00:00"
          ],
          [
           "dcg",
           "toyota white touch up",
           "2024-06-26T00:00:00"
          ],
          [
           "dcg",
           "ブルートゥースイヤホン",
           "2024-06-26T00:00:00"
          ],
          [
           "dcg",
           "3d tree wall owl",
           "2024-06-27T00:00:00"
          ],
          [
           "dcg",
           "classic black dresses for women",
           "2024-06-27T00:00:00"
          ],
          [
           "dcg",
           "cuadro para oficina",
           "2024-06-27T00:00:00"
          ],
          [
           "dcg",
           "cute vans for women",
           "2024-06-27T00:00:00"
          ],
          [
           "dcg",
           "diabetic massager",
           "2024-06-27T00:00:00"
          ],
          [
           "dcg",
           "greenpan ceramic nonstick fry pan 12 inch",
           "2024-06-27T00:00:00"
          ],
          [
           "dcg",
           "guano de murciélago",
           "2024-06-27T00:00:00"
          ],
          [
           "dcg",
           "handlebars",
           "2024-06-27T00:00:00"
          ],
          [
           "dcg",
           "joyce meyer",
           "2024-06-27T00:00:00"
          ],
          [
           "dcg",
           "level tools",
           "2024-06-27T00:00:00"
          ],
          [
           "dcg",
           "long johns for men",
           "2024-06-27T00:00:00"
          ],
          [
           "dcg",
           "mct oil capsules",
           "2024-06-27T00:00:00"
          ],
          [
           "dcg",
           "nike air force 1 men",
           "2024-06-27T00:00:00"
          ],
          [
           "dcg",
           "nipple clamps",
           "2024-06-27T00:00:00"
          ],
          [
           "dcg",
           "patinete niño 9 años",
           "2024-06-27T00:00:00"
          ],
          [
           "dcg",
           "replacement brush heads sonicare",
           "2024-06-27T00:00:00"
          ],
          [
           "dcg",
           "shoot rubber bullets",
           "2024-06-27T00:00:00"
          ],
          [
           "dcg",
           "solar pool covers for inground pools",
           "2024-06-27T00:00:00"
          ],
          [
           "dcg",
           "toyota white touch up",
           "2024-06-27T00:00:00"
          ],
          [
           "dcg",
           "ブルートゥースイヤホン",
           "2024-06-27T00:00:00"
          ],
          [
           "dcg",
           "3d tree wall owl",
           "2024-06-28T00:00:00"
          ],
          [
           "dcg",
           "classic black dresses for women",
           "2024-06-28T00:00:00"
          ],
          [
           "dcg",
           "cuadro para oficina",
           "2024-06-28T00:00:00"
          ],
          [
           "dcg",
           "cute vans for women",
           "2024-06-28T00:00:00"
          ],
          [
           "dcg",
           "diabetic massager",
           "2024-06-28T00:00:00"
          ],
          [
           "dcg",
           "greenpan ceramic nonstick fry pan 12 inch",
           "2024-06-28T00:00:00"
          ],
          [
           "dcg",
           "guano de murciélago",
           "2024-06-28T00:00:00"
          ],
          [
           "dcg",
           "handlebars",
           "2024-06-28T00:00:00"
          ],
          [
           "dcg",
           "joyce meyer",
           "2024-06-28T00:00:00"
          ],
          [
           "dcg",
           "level tools",
           "2024-06-28T00:00:00"
          ],
          [
           "dcg",
           "long johns for men",
           "2024-06-28T00:00:00"
          ],
          [
           "dcg",
           "mct oil capsules",
           "2024-06-28T00:00:00"
          ],
          [
           "dcg",
           "nike air force 1 men",
           "2024-06-28T00:00:00"
          ],
          [
           "dcg",
           "nipple clamps",
           "2024-06-28T00:00:00"
          ],
          [
           "dcg",
           "patinete niño 9 años",
           "2024-06-28T00:00:00"
          ],
          [
           "dcg",
           "replacement brush heads sonicare",
           "2024-06-28T00:00:00"
          ],
          [
           "dcg",
           "shoot rubber bullets",
           "2024-06-28T00:00:00"
          ],
          [
           "dcg",
           "solar pool covers for inground pools",
           "2024-06-28T00:00:00"
          ],
          [
           "dcg",
           "toyota white touch up",
           "2024-06-28T00:00:00"
          ],
          [
           "dcg",
           "ブルートゥースイヤホン",
           "2024-06-28T00:00:00"
          ],
          [
           "dcg",
           "3d tree wall owl",
           "2024-06-29T00:00:00"
          ],
          [
           "dcg",
           "classic black dresses for women",
           "2024-06-29T00:00:00"
          ],
          [
           "dcg",
           "cuadro para oficina",
           "2024-06-29T00:00:00"
          ],
          [
           "dcg",
           "cute vans for women",
           "2024-06-29T00:00:00"
          ],
          [
           "dcg",
           "diabetic massager",
           "2024-06-29T00:00:00"
          ],
          [
           "dcg",
           "greenpan ceramic nonstick fry pan 12 inch",
           "2024-06-29T00:00:00"
          ],
          [
           "dcg",
           "guano de murciélago",
           "2024-06-29T00:00:00"
          ],
          [
           "dcg",
           "handlebars",
           "2024-06-29T00:00:00"
          ],
          [
           "dcg",
           "joyce meyer",
           "2024-06-29T00:00:00"
          ],
          [
           "dcg",
           "level tools",
           "2024-06-29T00:00:00"
          ],
          [
           "dcg",
           "long johns for men",
           "2024-06-29T00:00:00"
          ],
          [
           "dcg",
           "mct oil capsules",
           "2024-06-29T00:00:00"
          ],
          [
           "dcg",
           "nike air force 1 men",
           "2024-06-29T00:00:00"
          ],
          [
           "dcg",
           "nipple clamps",
           "2024-06-29T00:00:00"
          ],
          [
           "dcg",
           "patinete niño 9 años",
           "2024-06-29T00:00:00"
          ],
          [
           "dcg",
           "replacement brush heads sonicare",
           "2024-06-29T00:00:00"
          ],
          [
           "dcg",
           "shoot rubber bullets",
           "2024-06-29T00:00:00"
          ],
          [
           "dcg",
           "solar pool covers for inground pools",
           "2024-06-29T00:00:00"
          ],
          [
           "dcg",
           "toyota white touch up",
           "2024-06-29T00:00:00"
          ],
          [
           "dcg",
           "ブルートゥースイヤホン",
           "2024-06-29T00:00:00"
          ],
          [
           "dcg",
           "3d tree wall owl",
           "2024-06-30T00:00:00"
          ],
          [
           "dcg",
           "classic black dresses for women",
           "2024-06-30T00:00:00"
          ],
          [
           "dcg",
           "cuadro para oficina",
           "2024-06-30T00:00:00"
          ],
          [
           "dcg",
           "cute vans for women",
           "2024-06-30T00:00:00"
          ],
          [
           "dcg",
           "diabetic massager",
           "2024-06-30T00:00:00"
          ],
          [
           "dcg",
           "greenpan ceramic nonstick fry pan 12 inch",
           "2024-06-30T00:00:00"
          ],
          [
           "dcg",
           "guano de murciélago",
           "2024-06-30T00:00:00"
          ],
          [
           "dcg",
           "handlebars",
           "2024-06-30T00:00:00"
          ],
          [
           "dcg",
           "joyce meyer",
           "2024-06-30T00:00:00"
          ],
          [
           "dcg",
           "level tools",
           "2024-06-30T00:00:00"
          ],
          [
           "dcg",
           "long johns for men",
           "2024-06-30T00:00:00"
          ],
          [
           "dcg",
           "mct oil capsules",
           "2024-06-30T00:00:00"
          ],
          [
           "dcg",
           "nike air force 1 men",
           "2024-06-30T00:00:00"
          ],
          [
           "dcg",
           "nipple clamps",
           "2024-06-30T00:00:00"
          ],
          [
           "dcg",
           "patinete niño 9 años",
           "2024-06-30T00:00:00"
          ],
          [
           "dcg",
           "replacement brush heads sonicare",
           "2024-06-30T00:00:00"
          ],
          [
           "dcg",
           "shoot rubber bullets",
           "2024-06-30T00:00:00"
          ],
          [
           "dcg",
           "solar pool covers for inground pools",
           "2024-06-30T00:00:00"
          ],
          [
           "dcg",
           "toyota white touch up",
           "2024-06-30T00:00:00"
          ],
          [
           "dcg",
           "ブルートゥースイヤホン",
           "2024-06-30T00:00:00"
          ],
          [
           "dcg",
           "3d tree wall owl",
           "2024-07-01T00:00:00"
          ],
          [
           "dcg",
           "classic black dresses for women",
           "2024-07-01T00:00:00"
          ],
          [
           "dcg",
           "cuadro para oficina",
           "2024-07-01T00:00:00"
          ],
          [
           "dcg",
           "cute vans for women",
           "2024-07-01T00:00:00"
          ],
          [
           "dcg",
           "diabetic massager",
           "2024-07-01T00:00:00"
          ],
          [
           "dcg",
           "greenpan ceramic nonstick fry pan 12 inch",
           "2024-07-01T00:00:00"
          ],
          [
           "dcg",
           "guano de murciélago",
           "2024-07-01T00:00:00"
          ],
          [
           "dcg",
           "handlebars",
           "2024-07-01T00:00:00"
          ],
          [
           "dcg",
           "joyce meyer",
           "2024-07-01T00:00:00"
          ],
          [
           "dcg",
           "level tools",
           "2024-07-01T00:00:00"
          ],
          [
           "dcg",
           "long johns for men",
           "2024-07-01T00:00:00"
          ],
          [
           "dcg",
           "mct oil capsules",
           "2024-07-01T00:00:00"
          ],
          [
           "dcg",
           "nike air force 1 men",
           "2024-07-01T00:00:00"
          ],
          [
           "dcg",
           "nipple clamps",
           "2024-07-01T00:00:00"
          ],
          [
           "dcg",
           "patinete niño 9 años",
           "2024-07-01T00:00:00"
          ],
          [
           "dcg",
           "replacement brush heads sonicare",
           "2024-07-01T00:00:00"
          ],
          [
           "dcg",
           "shoot rubber bullets",
           "2024-07-01T00:00:00"
          ],
          [
           "dcg",
           "solar pool covers for inground pools",
           "2024-07-01T00:00:00"
          ],
          [
           "dcg",
           "toyota white touch up",
           "2024-07-01T00:00:00"
          ],
          [
           "dcg",
           "ブルートゥースイヤホン",
           "2024-07-01T00:00:00"
          ],
          [
           "dcg",
           "3d tree wall owl",
           "2024-06-25T00:00:00"
          ],
          [
           "dcg",
           "classic black dresses for women",
           "2024-06-25T00:00:00"
          ],
          [
           "dcg",
           "cuadro para oficina",
           "2024-06-25T00:00:00"
          ],
          [
           "dcg",
           "cute vans for women",
           "2024-06-25T00:00:00"
          ],
          [
           "dcg",
           "diabetic massager",
           "2024-06-25T00:00:00"
          ],
          [
           "dcg",
           "greenpan ceramic nonstick fry pan 12 inch",
           "2024-06-25T00:00:00"
          ],
          [
           "dcg",
           "guano de murciélago",
           "2024-06-25T00:00:00"
          ],
          [
           "dcg",
           "handlebars",
           "2024-06-25T00:00:00"
          ],
          [
           "dcg",
           "joyce meyer",
           "2024-06-25T00:00:00"
          ],
          [
           "dcg",
           "level tools",
           "2024-06-25T00:00:00"
          ],
          [
           "dcg",
           "long johns for men",
           "2024-06-25T00:00:00"
          ],
          [
           "dcg",
           "mct oil capsules",
           "2024-06-25T00:00:00"
          ],
          [
           "dcg",
           "nike air force 1 men",
           "2024-06-25T00:00:00"
          ],
          [
           "dcg",
           "nipple clamps",
           "2024-06-25T00:00:00"
          ],
          [
           "dcg",
           "patinete niño 9 años",
           "2024-06-25T00:00:00"
          ],
          [
           "dcg",
           "replacement brush heads sonicare",
           "2024-06-25T00:00:00"
          ],
          [
           "dcg",
           "shoot rubber bullets",
           "2024-06-25T00:00:00"
          ],
          [
           "dcg",
           "solar pool covers for inground pools",
           "2024-06-25T00:00:00"
          ],
          [
           "dcg",
           "toyota white touch up",
           "2024-06-25T00:00:00"
          ],
          [
           "dcg",
           "ブルートゥースイヤホン",
           "2024-06-25T00:00:00"
          ],
          [
           "dcg",
           "3d tree wall owl",
           "2024-06-26T00:00:00"
          ],
          [
           "dcg",
           "classic black dresses for women",
           "2024-06-26T00:00:00"
          ],
          [
           "dcg",
           "cuadro para oficina",
           "2024-06-26T00:00:00"
          ],
          [
           "dcg",
           "cute vans for women",
           "2024-06-26T00:00:00"
          ],
          [
           "dcg",
           "diabetic massager",
           "2024-06-26T00:00:00"
          ],
          [
           "dcg",
           "greenpan ceramic nonstick fry pan 12 inch",
           "2024-06-26T00:00:00"
          ],
          [
           "dcg",
           "guano de murciélago",
           "2024-06-26T00:00:00"
          ],
          [
           "dcg",
           "handlebars",
           "2024-06-26T00:00:00"
          ],
          [
           "dcg",
           "joyce meyer",
           "2024-06-26T00:00:00"
          ],
          [
           "dcg",
           "level tools",
           "2024-06-26T00:00:00"
          ],
          [
           "dcg",
           "long johns for men",
           "2024-06-26T00:00:00"
          ],
          [
           "dcg",
           "mct oil capsules",
           "2024-06-26T00:00:00"
          ],
          [
           "dcg",
           "nike air force 1 men",
           "2024-06-26T00:00:00"
          ],
          [
           "dcg",
           "nipple clamps",
           "2024-06-26T00:00:00"
          ],
          [
           "dcg",
           "patinete niño 9 años",
           "2024-06-26T00:00:00"
          ],
          [
           "dcg",
           "replacement brush heads sonicare",
           "2024-06-26T00:00:00"
          ],
          [
           "dcg",
           "shoot rubber bullets",
           "2024-06-26T00:00:00"
          ],
          [
           "dcg",
           "solar pool covers for inground pools",
           "2024-06-26T00:00:00"
          ],
          [
           "dcg",
           "toyota white touch up",
           "2024-06-26T00:00:00"
          ],
          [
           "dcg",
           "ブルートゥースイヤホン",
           "2024-06-26T00:00:00"
          ],
          [
           "dcg",
           "3d tree wall owl",
           "2024-06-27T00:00:00"
          ],
          [
           "dcg",
           "classic black dresses for women",
           "2024-06-27T00:00:00"
          ],
          [
           "dcg",
           "cuadro para oficina",
           "2024-06-27T00:00:00"
          ],
          [
           "dcg",
           "cute vans for women",
           "2024-06-27T00:00:00"
          ],
          [
           "dcg",
           "diabetic massager",
           "2024-06-27T00:00:00"
          ],
          [
           "dcg",
           "greenpan ceramic nonstick fry pan 12 inch",
           "2024-06-27T00:00:00"
          ],
          [
           "dcg",
           "guano de murciélago",
           "2024-06-27T00:00:00"
          ],
          [
           "dcg",
           "handlebars",
           "2024-06-27T00:00:00"
          ],
          [
           "dcg",
           "joyce meyer",
           "2024-06-27T00:00:00"
          ],
          [
           "dcg",
           "level tools",
           "2024-06-27T00:00:00"
          ],
          [
           "dcg",
           "long johns for men",
           "2024-06-27T00:00:00"
          ],
          [
           "dcg",
           "mct oil capsules",
           "2024-06-27T00:00:00"
          ],
          [
           "dcg",
           "nike air force 1 men",
           "2024-06-27T00:00:00"
          ],
          [
           "dcg",
           "nipple clamps",
           "2024-06-27T00:00:00"
          ],
          [
           "dcg",
           "patinete niño 9 años",
           "2024-06-27T00:00:00"
          ],
          [
           "dcg",
           "replacement brush heads sonicare",
           "2024-06-27T00:00:00"
          ],
          [
           "dcg",
           "shoot rubber bullets",
           "2024-06-27T00:00:00"
          ],
          [
           "dcg",
           "solar pool covers for inground pools",
           "2024-06-27T00:00:00"
          ],
          [
           "dcg",
           "toyota white touch up",
           "2024-06-27T00:00:00"
          ],
          [
           "dcg",
           "ブルートゥースイヤホン",
           "2024-06-27T00:00:00"
          ],
          [
           "dcg",
           "3d tree wall owl",
           "2024-06-28T00:00:00"
          ],
          [
           "dcg",
           "classic black dresses for women",
           "2024-06-28T00:00:00"
          ],
          [
           "dcg",
           "cuadro para oficina",
           "2024-06-28T00:00:00"
          ],
          [
           "dcg",
           "cute vans for women",
           "2024-06-28T00:00:00"
          ],
          [
           "dcg",
           "diabetic massager",
           "2024-06-28T00:00:00"
          ],
          [
           "dcg",
           "greenpan ceramic nonstick fry pan 12 inch",
           "2024-06-28T00:00:00"
          ],
          [
           "dcg",
           "guano de murciélago",
           "2024-06-28T00:00:00"
          ],
          [
           "dcg",
           "handlebars",
           "2024-06-28T00:00:00"
          ],
          [
           "dcg",
           "joyce meyer",
           "2024-06-28T00:00:00"
          ],
          [
           "dcg",
           "level tools",
           "2024-06-28T00:00:00"
          ],
          [
           "dcg",
           "long johns for men",
           "2024-06-28T00:00:00"
          ],
          [
           "dcg",
           "mct oil capsules",
           "2024-06-28T00:00:00"
          ],
          [
           "dcg",
           "nike air force 1 men",
           "2024-06-28T00:00:00"
          ],
          [
           "dcg",
           "nipple clamps",
           "2024-06-28T00:00:00"
          ],
          [
           "dcg",
           "patinete niño 9 años",
           "2024-06-28T00:00:00"
          ],
          [
           "dcg",
           "replacement brush heads sonicare",
           "2024-06-28T00:00:00"
          ],
          [
           "dcg",
           "shoot rubber bullets",
           "2024-06-28T00:00:00"
          ],
          [
           "dcg",
           "solar pool covers for inground pools",
           "2024-06-28T00:00:00"
          ],
          [
           "dcg",
           "toyota white touch up",
           "2024-06-28T00:00:00"
          ],
          [
           "dcg",
           "ブルートゥースイヤホン",
           "2024-06-28T00:00:00"
          ],
          [
           "dcg",
           "3d tree wall owl",
           "2024-06-29T00:00:00"
          ],
          [
           "dcg",
           "classic black dresses for women",
           "2024-06-29T00:00:00"
          ],
          [
           "dcg",
           "cuadro para oficina",
           "2024-06-29T00:00:00"
          ],
          [
           "dcg",
           "cute vans for women",
           "2024-06-29T00:00:00"
          ],
          [
           "dcg",
           "diabetic massager",
           "2024-06-29T00:00:00"
          ],
          [
           "dcg",
           "greenpan ceramic nonstick fry pan 12 inch",
           "2024-06-29T00:00:00"
          ],
          [
           "dcg",
           "guano de murciélago",
           "2024-06-29T00:00:00"
          ],
          [
           "dcg",
           "handlebars",
           "2024-06-29T00:00:00"
          ],
          [
           "dcg",
           "joyce meyer",
           "2024-06-29T00:00:00"
          ],
          [
           "dcg",
           "level tools",
           "2024-06-29T00:00:00"
          ],
          [
           "dcg",
           "long johns for men",
           "2024-06-29T00:00:00"
          ],
          [
           "dcg",
           "mct oil capsules",
           "2024-06-29T00:00:00"
          ],
          [
           "dcg",
           "nike air force 1 men",
           "2024-06-29T00:00:00"
          ],
          [
           "dcg",
           "nipple clamps",
           "2024-06-29T00:00:00"
          ],
          [
           "dcg",
           "patinete niño 9 años",
           "2024-06-29T00:00:00"
          ],
          [
           "dcg",
           "replacement brush heads sonicare",
           "2024-06-29T00:00:00"
          ],
          [
           "dcg",
           "shoot rubber bullets",
           "2024-06-29T00:00:00"
          ],
          [
           "dcg",
           "solar pool covers for inground pools",
           "2024-06-29T00:00:00"
          ],
          [
           "dcg",
           "toyota white touch up",
           "2024-06-29T00:00:00"
          ],
          [
           "dcg",
           "ブルートゥースイヤホン",
           "2024-06-29T00:00:00"
          ],
          [
           "dcg",
           "3d tree wall owl",
           "2024-06-30T00:00:00"
          ],
          [
           "dcg",
           "classic black dresses for women",
           "2024-06-30T00:00:00"
          ],
          [
           "dcg",
           "cuadro para oficina",
           "2024-06-30T00:00:00"
          ],
          [
           "dcg",
           "cute vans for women",
           "2024-06-30T00:00:00"
          ],
          [
           "dcg",
           "diabetic massager",
           "2024-06-30T00:00:00"
          ],
          [
           "dcg",
           "greenpan ceramic nonstick fry pan 12 inch",
           "2024-06-30T00:00:00"
          ],
          [
           "dcg",
           "guano de murciélago",
           "2024-06-30T00:00:00"
          ],
          [
           "dcg",
           "handlebars",
           "2024-06-30T00:00:00"
          ],
          [
           "dcg",
           "joyce meyer",
           "2024-06-30T00:00:00"
          ],
          [
           "dcg",
           "level tools",
           "2024-06-30T00:00:00"
          ],
          [
           "dcg",
           "long johns for men",
           "2024-06-30T00:00:00"
          ],
          [
           "dcg",
           "mct oil capsules",
           "2024-06-30T00:00:00"
          ],
          [
           "dcg",
           "nike air force 1 men",
           "2024-06-30T00:00:00"
          ],
          [
           "dcg",
           "nipple clamps",
           "2024-06-30T00:00:00"
          ],
          [
           "dcg",
           "patinete niño 9 años",
           "2024-06-30T00:00:00"
          ],
          [
           "dcg",
           "replacement brush heads sonicare",
           "2024-06-30T00:00:00"
          ],
          [
           "dcg",
           "shoot rubber bullets",
           "2024-06-30T00:00:00"
          ],
          [
           "dcg",
           "solar pool covers for inground pools",
           "2024-06-30T00:00:00"
          ],
          [
           "dcg",
           "toyota white touch up",
           "2024-06-30T00:00:00"
          ],
          [
           "dcg",
           "ブルートゥースイヤホン",
           "2024-06-30T00:00:00"
          ],
          [
           "dcg",
           "3d tree wall owl",
           "2024-07-01T00:00:00"
          ],
          [
           "dcg",
           "classic black dresses for women",
           "2024-07-01T00:00:00"
          ],
          [
           "dcg",
           "cuadro para oficina",
           "2024-07-01T00:00:00"
          ],
          [
           "dcg",
           "cute vans for women",
           "2024-07-01T00:00:00"
          ],
          [
           "dcg",
           "diabetic massager",
           "2024-07-01T00:00:00"
          ],
          [
           "dcg",
           "greenpan ceramic nonstick fry pan 12 inch",
           "2024-07-01T00:00:00"
          ],
          [
           "dcg",
           "guano de murciélago",
           "2024-07-01T00:00:00"
          ],
          [
           "dcg",
           "handlebars",
           "2024-07-01T00:00:00"
          ],
          [
           "dcg",
           "joyce meyer",
           "2024-07-01T00:00:00"
          ],
          [
           "dcg",
           "level tools",
           "2024-07-01T00:00:00"
          ],
          [
           "dcg",
           "long johns for men",
           "2024-07-01T00:00:00"
          ],
          [
           "dcg",
           "mct oil capsules",
           "2024-07-01T00:00:00"
          ],
          [
           "dcg",
           "nike air force 1 men",
           "2024-07-01T00:00:00"
          ],
          [
           "dcg",
           "nipple clamps",
           "2024-07-01T00:00:00"
          ],
          [
           "dcg",
           "patinete niño 9 años",
           "2024-07-01T00:00:00"
          ],
          [
           "dcg",
           "replacement brush heads sonicare",
           "2024-07-01T00:00:00"
          ],
          [
           "dcg",
           "shoot rubber bullets",
           "2024-07-01T00:00:00"
          ],
          [
           "dcg",
           "solar pool covers for inground pools",
           "2024-07-01T00:00:00"
          ],
          [
           "dcg",
           "toyota white touch up",
           "2024-07-01T00:00:00"
          ],
          [
           "dcg",
           "ブルートゥースイヤホン",
           "2024-07-01T00:00:00"
          ]
         ],
         "hovertemplate": "metric=%{customdata[0]}<br>search_config=%{x}<br>value=%{y}<br>query=%{customdata[1]}<br>datetime=%{customdata[2]}<extra></extra>",
         "legendgroup": "dcg",
         "marker": {
          "color": "#636efa"
         },
         "name": "dcg",
         "offsetgroup": "dcg",
         "orientation": "v",
         "points": "all",
         "scalegroup": "True",
         "showlegend": true,
         "type": "violin",
         "x": [
          "research_1",
          "research_1",
          "research_1",
          "research_1",
          "research_1",
          "research_1",
          "research_1",
          "research_1",
          "research_1",
          "research_1",
          "research_1",
          "research_1",
          "research_1",
          "research_1",
          "research_1",
          "research_1",
          "research_1",
          "research_1",
          "research_1",
          "research_1",
          "research_1",
          "research_1",
          "research_1",
          "research_1",
          "research_1",
          "research_1",
          "research_1",
          "research_1",
          "research_1",
          "research_1",
          "research_1",
          "research_1",
          "research_1",
          "research_1",
          "research_1",
          "research_1",
          "research_1",
          "research_1",
          "research_1",
          "research_1",
          "research_1",
          "research_1",
          "research_1",
          "research_1",
          "research_1",
          "research_1",
          "research_1",
          "research_1",
          "research_1",
          "research_1",
          "research_1",
          "research_1",
          "research_1",
          "research_1",
          "research_1",
          "research_1",
          "research_1",
          "research_1",
          "research_1",
          "research_1",
          "research_1",
          "research_1",
          "research_1",
          "research_1",
          "research_1",
          "research_1",
          "research_1",
          "research_1",
          "research_1",
          "research_1",
          "research_1",
          "research_1",
          "research_1",
          "research_1",
          "research_1",
          "research_1",
          "research_1",
          "research_1",
          "research_1",
          "research_1",
          "research_1",
          "research_1",
          "research_1",
          "research_1",
          "research_1",
          "research_1",
          "research_1",
          "research_1",
          "research_1",
          "research_1",
          "research_1",
          "research_1",
          "research_1",
          "research_1",
          "research_1",
          "research_1",
          "research_1",
          "research_1",
          "research_1",
          "research_1",
          "research_1",
          "research_1",
          "research_1",
          "research_1",
          "research_1",
          "research_1",
          "research_1",
          "research_1",
          "research_1",
          "research_1",
          "research_1",
          "research_1",
          "research_1",
          "research_1",
          "research_1",
          "research_1",
          "research_1",
          "research_1",
          "research_1",
          "research_1",
          "research_1",
          "research_1",
          "research_1",
          "research_1",
          "research_1",
          "research_1",
          "research_1",
          "research_1",
          "research_1",
          "research_1",
          "research_1",
          "research_1",
          "research_1",
          "research_1",
          "research_1",
          "research_1",
          "research_1",
          "research_1",
          "research_1",
          "research_1",
          "research_2",
          "research_2",
          "research_2",
          "research_2",
          "research_2",
          "research_2",
          "research_2",
          "research_2",
          "research_2",
          "research_2",
          "research_2",
          "research_2",
          "research_2",
          "research_2",
          "research_2",
          "research_2",
          "research_2",
          "research_2",
          "research_2",
          "research_2",
          "research_2",
          "research_2",
          "research_2",
          "research_2",
          "research_2",
          "research_2",
          "research_2",
          "research_2",
          "research_2",
          "research_2",
          "research_2",
          "research_2",
          "research_2",
          "research_2",
          "research_2",
          "research_2",
          "research_2",
          "research_2",
          "research_2",
          "research_2",
          "research_2",
          "research_2",
          "research_2",
          "research_2",
          "research_2",
          "research_2",
          "research_2",
          "research_2",
          "research_2",
          "research_2",
          "research_2",
          "research_2",
          "research_2",
          "research_2",
          "research_2",
          "research_2",
          "research_2",
          "research_2",
          "research_2",
          "research_2",
          "research_2",
          "research_2",
          "research_2",
          "research_2",
          "research_2",
          "research_2",
          "research_2",
          "research_2",
          "research_2",
          "research_2",
          "research_2",
          "research_2",
          "research_2",
          "research_2",
          "research_2",
          "research_2",
          "research_2",
          "research_2",
          "research_2",
          "research_2",
          "research_2",
          "research_2",
          "research_2",
          "research_2",
          "research_2",
          "research_2",
          "research_2",
          "research_2",
          "research_2",
          "research_2",
          "research_2",
          "research_2",
          "research_2",
          "research_2",
          "research_2",
          "research_2",
          "research_2",
          "research_2",
          "research_2",
          "research_2",
          "research_2",
          "research_2",
          "research_2",
          "research_2",
          "research_2",
          "research_2",
          "research_2",
          "research_2",
          "research_2",
          "research_2",
          "research_2",
          "research_2",
          "research_2",
          "research_2",
          "research_2",
          "research_2",
          "research_2",
          "research_2",
          "research_2",
          "research_2",
          "research_2",
          "research_2",
          "research_2",
          "research_2",
          "research_2",
          "research_2",
          "research_2",
          "research_2",
          "research_2",
          "research_2",
          "research_2",
          "research_2",
          "research_2",
          "research_2",
          "research_2",
          "research_2",
          "research_2",
          "research_2",
          "research_2",
          "research_2",
          "challenger_1",
          "challenger_1",
          "challenger_1",
          "challenger_1",
          "challenger_1",
          "challenger_1",
          "challenger_1",
          "challenger_1",
          "challenger_1",
          "challenger_1",
          "challenger_1",
          "challenger_1",
          "challenger_1",
          "challenger_1",
          "challenger_1",
          "challenger_1",
          "challenger_1",
          "challenger_1",
          "challenger_1",
          "challenger_1",
          "challenger_1",
          "challenger_1",
          "challenger_1",
          "challenger_1",
          "challenger_1",
          "challenger_1",
          "challenger_1",
          "challenger_1",
          "challenger_1",
          "challenger_1",
          "challenger_1",
          "challenger_1",
          "challenger_1",
          "challenger_1",
          "challenger_1",
          "challenger_1",
          "challenger_1",
          "challenger_1",
          "challenger_1",
          "challenger_1",
          "challenger_1",
          "challenger_1",
          "challenger_1",
          "challenger_1",
          "challenger_1",
          "challenger_1",
          "challenger_1",
          "challenger_1",
          "challenger_1",
          "challenger_1",
          "challenger_1",
          "challenger_1",
          "challenger_1",
          "challenger_1",
          "challenger_1",
          "challenger_1",
          "challenger_1",
          "challenger_1",
          "challenger_1",
          "challenger_1",
          "challenger_1",
          "challenger_1",
          "challenger_1",
          "challenger_1",
          "challenger_1",
          "challenger_1",
          "challenger_1",
          "challenger_1",
          "challenger_1",
          "challenger_1",
          "challenger_1",
          "challenger_1",
          "challenger_1",
          "challenger_1",
          "challenger_1",
          "challenger_1",
          "challenger_1",
          "challenger_1",
          "challenger_1",
          "challenger_1",
          "challenger_1",
          "challenger_1",
          "challenger_1",
          "challenger_1",
          "challenger_1",
          "challenger_1",
          "challenger_1",
          "challenger_1",
          "challenger_1",
          "challenger_1",
          "challenger_1",
          "challenger_1",
          "challenger_1",
          "challenger_1",
          "challenger_1",
          "challenger_1",
          "challenger_1",
          "challenger_1",
          "challenger_1",
          "challenger_1",
          "challenger_1",
          "challenger_1",
          "challenger_1",
          "challenger_1",
          "challenger_1",
          "challenger_1",
          "challenger_1",
          "challenger_1",
          "challenger_1",
          "challenger_1",
          "challenger_1",
          "challenger_1",
          "challenger_1",
          "challenger_1",
          "challenger_1",
          "challenger_1",
          "challenger_1",
          "challenger_1",
          "challenger_1",
          "challenger_1",
          "challenger_1",
          "challenger_1",
          "challenger_1",
          "challenger_1",
          "challenger_1",
          "challenger_1",
          "challenger_1",
          "challenger_1",
          "challenger_1",
          "challenger_1",
          "challenger_1",
          "challenger_1",
          "challenger_1",
          "challenger_1",
          "challenger_1",
          "challenger_1",
          "challenger_1",
          "challenger_1",
          "challenger_1",
          "challenger_1"
         ],
         "x0": " ",
         "xaxis": "x",
         "y": [
          0.006955550056718884,
          2.5616063116448506,
          0,
          1,
          0,
          1.6309297535714575,
          0.7027032161077507,
          2.1309297535714578,
          0,
          1,
          1.6309297535714575,
          1,
          2.1309297535714578,
          1.6309297535714575,
          1.6309297535714575,
          1.0452840130309937,
          0,
          1,
          2.6254725683755167,
          1.6309297535714575,
          0.07177346253629313,
          2.161840901377598,
          0,
          1,
          0,
          1.6309297535714575,
          0.7027032161077507,
          2.1309297535714578,
          0,
          1,
          1.6309297535714575,
          1,
          1.666816484839604,
          1.6309297535714575,
          1.6309297535714575,
          1.6309297535714575,
          0,
          1,
          3.0252379786427697,
          1.0452840130309937,
          0.07177346253629313,
          2.5616063116448506,
          0,
          1,
          0,
          1.6309297535714575,
          0.6378853036281764,
          2.1309297535714578,
          0,
          1,
          1.6309297535714575,
          1,
          2.1309297535714578,
          1.6309297535714575,
          1.6309297535714575,
          1.6309297535714575,
          0,
          1,
          3.5943774743390433,
          1.6309297535714575,
          0.07177346253629313,
          2.161840901377598,
          0,
          1,
          0,
          1.6309297535714575,
          0.7027032161077507,
          1.2027032161077507,
          0,
          1,
          1.6309297535714575,
          1,
          1.5452840130309937,
          1.6309297535714575,
          1.6309297535714575,
          1.6309297535714575,
          0,
          1,
          3.0252379786427697,
          1.6309297535714575,
          0.07177346253629313,
          2.5616063116448506,
          0,
          1,
          0,
          1.6309297535714575,
          0.7027032161077507,
          2.1309297535714578,
          0,
          1,
          1.6309297535714575,
          1,
          2.1309297535714578,
          1.6309297535714575,
          1.6309297535714575,
          1.6309297535714575,
          0,
          1,
          2.9604200661631954,
          0.7027032161077507,
          0.07177346253629313,
          1.9759605711043868,
          0,
          1,
          0,
          0.7027032161077507,
          0.1170574755672868,
          2.1309297535714578,
          0,
          1,
          1.6309297535714575,
          1,
          2.1309297535714578,
          1.6309297535714575,
          1.6309297535714575,
          1.6309297535714575,
          0,
          1,
          3.0252379786427697,
          1.6309297535714575,
          0.07177346253629313,
          1.9759605711043868,
          0,
          1,
          0,
          1.6309297535714575,
          0.7027032161077507,
          2.1309297535714578,
          0,
          1,
          1.6309297535714575,
          1,
          2.1309297535714578,
          1.6309297535714575,
          1.6309297535714575,
          0.7027032161077507,
          0,
          1,
          2.6254725683755167,
          1.6309297535714575,
          0.07616192601953271,
          5.581923967465912,
          1.576393327675897,
          2.1309297535714578,
          3.6379996393207477,
          3.8954074700030246,
          3.884994547246973,
          3.0070698857492903,
          2.3628133783389282,
          2.5616063116448506,
          2.5616063116448506,
          1.6309297535714575,
          2.9484591188793923,
          2.5429566170174365,
          2.161840901377598,
          4.5635800391478,
          2.3628133783389282,
          0.6378853036281764,
          3.811128426520891,
          3.6379996393207477,
          0.1170574755672868,
          5.18215855719866,
          1.576393327675897,
          2.1309297535714578,
          3.6379996393207477,
          3.151870170723279,
          3.884994547246973,
          3.0070698857492903,
          2.9484591188793923,
          2.5616063116448506,
          2.5616063116448506,
          1.6309297535714575,
          2.9484591188793923,
          3.0070698857492903,
          1.6333797741811438,
          4.8225022837394755,
          2.9484591188793923,
          0.6378853036281764,
          3.5317043959729992,
          3.6379996393207477,
          0.1170574755672868,
          5.222836925698479,
          1.576393327675897,
          2.1309297535714578,
          3.238234229053495,
          3.8954074700030246,
          3.8355611964323444,
          2.0788433482855835,
          2.9484591188793923,
          2.5616063116448506,
          2.5616063116448506,
          1.6309297535714575,
          2.9484591188793923,
          3.0070698857492903,
          2.097493042912997,
          4.8225022837394755,
          2.9484591188793923,
          0.6378853036281764,
          3.5317043959729992,
          3.6379996393207477,
          0.1170574755672868,
          4.938360288724633,
          1.579388920033832,
          2.1309297535714578,
          3.6379996393207477,
          3.8954074700030246,
          3.6549644352576403,
          2.2123156531084707,
          2.9484591188793923,
          1.6333797741811438,
          2.5616063116448506,
          0.7027032161077507,
          2.3628133783389282,
          3.0070698857492903,
          2.5616063116448506,
          4.5296794134692435,
          2.9484591188793923,
          0.7027032161077507,
          3.2222955501517636,
          3.6379996393207477,
          0.1170574755672868,
          5.272515121644677,
          0.7531930171766102,
          1.666816484839604,
          3.2789125975533144,
          3.4312942012711707,
          3.884994547246973,
          3.0070698857492903,
          2.9484591188793923,
          2.5616063116448506,
          2.5616063116448506,
          1.6309297535714575,
          2.9484591188793923,
          2.676428921840324,
          2.5616063116448506,
          4.8225022837394755,
          2.589372077111959,
          0.6378853036281764,
          3.5317043959729992,
          3.2789125975533144,
          0.1170574755672868,
          5.2891010971956804,
          1.576393327675897,
          2.1309297535714578,
          3.6379996393207477,
          3.3097617294625605,
          4.769189574436432,
          3.0070698857492903,
          2.9484591188793923,
          2.5616063116448506,
          2.5616063116448506,
          1.0452840130309937,
          2.9484591188793923,
          2.0788433482855835,
          2.5616063116448506,
          4.090071372172021,
          1.6204671711484326,
          0.6378853036281764,
          3.1319389857057462,
          3.6379996393207477,
          0.1170574755672868,
          4.979692251374445,
          1.2527079138236499,
          2.1309297535714578,
          3.6379996393207477,
          3.8954074700030246,
          3.8201766347673987,
          3.0070698857492903,
          2.9484591188793923,
          2.5616063116448506,
          2.5616063116448506,
          1.6309297535714575,
          2.9484591188793923,
          2.6073044754820374,
          2.5616063116448506,
          4.182452474009274,
          2.0202325814156854,
          0.6378853036281764,
          3.5317043959729992,
          3.328590793499512,
          0.2202162812720815,
          6.41341184605724,
          2.5616063116448506,
          3.9211611784371243,
          3.644055670285241,
          3.9238535478614915,
          1.9725329825299098,
          2.304666305987414,
          2.161840901377598,
          2.9484591188793923,
          2.5616063116448506,
          2.7429450529590484,
          3.2203657725058905,
          3.9534645161064765,
          3.8954074700030246,
          4.9307895910909245,
          1.6309297535714575,
          1.9274598228748938,
          4.907838202346493,
          2.1309297535714578,
          0.2380232245412725,
          5.827766105516776,
          2.5616063116448506,
          2.9929346409734174,
          3.644055670285241,
          3.975070481222566,
          1.9675880373422818,
          2.304666305987414,
          2.5616063116448506,
          2.9484591188793923,
          2.5616063116448506,
          3.6379996393207477,
          3.620131182773143,
          3.9534645161064765,
          3.326267974306751,
          6.105998540132031,
          1.6309297535714575,
          1.9274598228748938,
          4.856352206172625,
          2.1309297535714578,
          0.2360368394180295,
          6.41341184605724,
          2.5616063116448506,
          3.9211611784371243,
          3.9534645161064765,
          4.254494511770458,
          1.965577432473191,
          1.9740253420784484,
          2.5616063116448506,
          2.9484591188793923,
          2.5616063116448506,
          3.2789125975533144,
          3.620131182773143,
          3.9534645161064765,
          3.945085665949222,
          6.105998540132031,
          1.6309297535714575,
          1.9274598228748938,
          5.149175076442857,
          2.1309297535714578,
          0.6608772410870883,
          6.41341184605724,
          1.04773403364068,
          3.9211611784371243,
          3.9534645161064765,
          4.254494511770458,
          1.6561685866519555,
          2.304666305987414,
          2.5616063116448506,
          2.589372077111959,
          2.5616063116448506,
          3.238234229053495,
          3.620131182773143,
          3.9534645161064765,
          4.254494511770458,
          5.454088628094365,
          1.6309297535714575,
          1.992277735354468,
          5.149175076442857,
          2.1309297535714578,
          0.2380232245412725,
          6.41341184605724,
          2.097493042912997,
          3.562074136669691,
          3.9534645161064765,
          4.254494511770458,
          1.965577432473191,
          2.304666305987414,
          2.5616063116448506,
          2.9484591188793923,
          2.5616063116448506,
          3.6379996393207477,
          3.620131182773143,
          3.9534645161064765,
          4.254494511770458,
          6.105998540132031,
          1.0452840130309937,
          1.9274598228748938,
          5.417492719278458,
          2.1309297535714578,
          0.2611118308198356,
          5.123780510454317,
          2.5616063116448506,
          3.562074136669691,
          3.9534645161064765,
          3.326267974306751,
          1.9474969330351812,
          2.304666305987414,
          2.5616063116448506,
          2.9484591188793923,
          2.5616063116448506,
          3.6379996393207477,
          3.620131182773143,
          3.6606416458362445,
          4.254494511770458,
          5.391043045025524,
          1.6309297535714575,
          1.9274598228748938,
          5.149175076442857,
          2.1309297535714578,
          1.0843121413191226,
          6.41341184605724,
          2.5616063116448506,
          3.9211611784371243,
          3.5943774743390433,
          4.254494511770458,
          2.2031644635784557,
          2.304666305987414,
          1.9759605711043868,
          2.9484591188793923,
          2.161840901377598,
          3.6379996393207477,
          3.620131182773143,
          3.0252379786427697,
          3.8954074700030246,
          5.636354874660839,
          1.6309297535714575,
          1.9274598228748938,
          4.926574780959689,
          2.1309297535714578
         ],
         "y0": " ",
         "yaxis": "y"
        }
       ],
       "layout": {
        "legend": {
         "title": {
          "text": "metric"
         },
         "tracegroupgap": 0
        },
        "margin": {
         "t": 60
        },
        "template": {
         "data": {
          "bar": [
           {
            "error_x": {
             "color": "#2a3f5f"
            },
            "error_y": {
             "color": "#2a3f5f"
            },
            "marker": {
             "line": {
              "color": "#E5ECF6",
              "width": 0.5
             },
             "pattern": {
              "fillmode": "overlay",
              "size": 10,
              "solidity": 0.2
             }
            },
            "type": "bar"
           }
          ],
          "barpolar": [
           {
            "marker": {
             "line": {
              "color": "#E5ECF6",
              "width": 0.5
             },
             "pattern": {
              "fillmode": "overlay",
              "size": 10,
              "solidity": 0.2
             }
            },
            "type": "barpolar"
           }
          ],
          "carpet": [
           {
            "aaxis": {
             "endlinecolor": "#2a3f5f",
             "gridcolor": "white",
             "linecolor": "white",
             "minorgridcolor": "white",
             "startlinecolor": "#2a3f5f"
            },
            "baxis": {
             "endlinecolor": "#2a3f5f",
             "gridcolor": "white",
             "linecolor": "white",
             "minorgridcolor": "white",
             "startlinecolor": "#2a3f5f"
            },
            "type": "carpet"
           }
          ],
          "choropleth": [
           {
            "colorbar": {
             "outlinewidth": 0,
             "ticks": ""
            },
            "type": "choropleth"
           }
          ],
          "contour": [
           {
            "colorbar": {
             "outlinewidth": 0,
             "ticks": ""
            },
            "colorscale": [
             [
              0,
              "#0d0887"
             ],
             [
              0.1111111111111111,
              "#46039f"
             ],
             [
              0.2222222222222222,
              "#7201a8"
             ],
             [
              0.3333333333333333,
              "#9c179e"
             ],
             [
              0.4444444444444444,
              "#bd3786"
             ],
             [
              0.5555555555555556,
              "#d8576b"
             ],
             [
              0.6666666666666666,
              "#ed7953"
             ],
             [
              0.7777777777777778,
              "#fb9f3a"
             ],
             [
              0.8888888888888888,
              "#fdca26"
             ],
             [
              1,
              "#f0f921"
             ]
            ],
            "type": "contour"
           }
          ],
          "contourcarpet": [
           {
            "colorbar": {
             "outlinewidth": 0,
             "ticks": ""
            },
            "type": "contourcarpet"
           }
          ],
          "heatmap": [
           {
            "colorbar": {
             "outlinewidth": 0,
             "ticks": ""
            },
            "colorscale": [
             [
              0,
              "#0d0887"
             ],
             [
              0.1111111111111111,
              "#46039f"
             ],
             [
              0.2222222222222222,
              "#7201a8"
             ],
             [
              0.3333333333333333,
              "#9c179e"
             ],
             [
              0.4444444444444444,
              "#bd3786"
             ],
             [
              0.5555555555555556,
              "#d8576b"
             ],
             [
              0.6666666666666666,
              "#ed7953"
             ],
             [
              0.7777777777777778,
              "#fb9f3a"
             ],
             [
              0.8888888888888888,
              "#fdca26"
             ],
             [
              1,
              "#f0f921"
             ]
            ],
            "type": "heatmap"
           }
          ],
          "heatmapgl": [
           {
            "colorbar": {
             "outlinewidth": 0,
             "ticks": ""
            },
            "colorscale": [
             [
              0,
              "#0d0887"
             ],
             [
              0.1111111111111111,
              "#46039f"
             ],
             [
              0.2222222222222222,
              "#7201a8"
             ],
             [
              0.3333333333333333,
              "#9c179e"
             ],
             [
              0.4444444444444444,
              "#bd3786"
             ],
             [
              0.5555555555555556,
              "#d8576b"
             ],
             [
              0.6666666666666666,
              "#ed7953"
             ],
             [
              0.7777777777777778,
              "#fb9f3a"
             ],
             [
              0.8888888888888888,
              "#fdca26"
             ],
             [
              1,
              "#f0f921"
             ]
            ],
            "type": "heatmapgl"
           }
          ],
          "histogram": [
           {
            "marker": {
             "pattern": {
              "fillmode": "overlay",
              "size": 10,
              "solidity": 0.2
             }
            },
            "type": "histogram"
           }
          ],
          "histogram2d": [
           {
            "colorbar": {
             "outlinewidth": 0,
             "ticks": ""
            },
            "colorscale": [
             [
              0,
              "#0d0887"
             ],
             [
              0.1111111111111111,
              "#46039f"
             ],
             [
              0.2222222222222222,
              "#7201a8"
             ],
             [
              0.3333333333333333,
              "#9c179e"
             ],
             [
              0.4444444444444444,
              "#bd3786"
             ],
             [
              0.5555555555555556,
              "#d8576b"
             ],
             [
              0.6666666666666666,
              "#ed7953"
             ],
             [
              0.7777777777777778,
              "#fb9f3a"
             ],
             [
              0.8888888888888888,
              "#fdca26"
             ],
             [
              1,
              "#f0f921"
             ]
            ],
            "type": "histogram2d"
           }
          ],
          "histogram2dcontour": [
           {
            "colorbar": {
             "outlinewidth": 0,
             "ticks": ""
            },
            "colorscale": [
             [
              0,
              "#0d0887"
             ],
             [
              0.1111111111111111,
              "#46039f"
             ],
             [
              0.2222222222222222,
              "#7201a8"
             ],
             [
              0.3333333333333333,
              "#9c179e"
             ],
             [
              0.4444444444444444,
              "#bd3786"
             ],
             [
              0.5555555555555556,
              "#d8576b"
             ],
             [
              0.6666666666666666,
              "#ed7953"
             ],
             [
              0.7777777777777778,
              "#fb9f3a"
             ],
             [
              0.8888888888888888,
              "#fdca26"
             ],
             [
              1,
              "#f0f921"
             ]
            ],
            "type": "histogram2dcontour"
           }
          ],
          "mesh3d": [
           {
            "colorbar": {
             "outlinewidth": 0,
             "ticks": ""
            },
            "type": "mesh3d"
           }
          ],
          "parcoords": [
           {
            "line": {
             "colorbar": {
              "outlinewidth": 0,
              "ticks": ""
             }
            },
            "type": "parcoords"
           }
          ],
          "pie": [
           {
            "automargin": true,
            "type": "pie"
           }
          ],
          "scatter": [
           {
            "fillpattern": {
             "fillmode": "overlay",
             "size": 10,
             "solidity": 0.2
            },
            "type": "scatter"
           }
          ],
          "scatter3d": [
           {
            "line": {
             "colorbar": {
              "outlinewidth": 0,
              "ticks": ""
             }
            },
            "marker": {
             "colorbar": {
              "outlinewidth": 0,
              "ticks": ""
             }
            },
            "type": "scatter3d"
           }
          ],
          "scattercarpet": [
           {
            "marker": {
             "colorbar": {
              "outlinewidth": 0,
              "ticks": ""
             }
            },
            "type": "scattercarpet"
           }
          ],
          "scattergeo": [
           {
            "marker": {
             "colorbar": {
              "outlinewidth": 0,
              "ticks": ""
             }
            },
            "type": "scattergeo"
           }
          ],
          "scattergl": [
           {
            "marker": {
             "colorbar": {
              "outlinewidth": 0,
              "ticks": ""
             }
            },
            "type": "scattergl"
           }
          ],
          "scattermapbox": [
           {
            "marker": {
             "colorbar": {
              "outlinewidth": 0,
              "ticks": ""
             }
            },
            "type": "scattermapbox"
           }
          ],
          "scatterpolar": [
           {
            "marker": {
             "colorbar": {
              "outlinewidth": 0,
              "ticks": ""
             }
            },
            "type": "scatterpolar"
           }
          ],
          "scatterpolargl": [
           {
            "marker": {
             "colorbar": {
              "outlinewidth": 0,
              "ticks": ""
             }
            },
            "type": "scatterpolargl"
           }
          ],
          "scatterternary": [
           {
            "marker": {
             "colorbar": {
              "outlinewidth": 0,
              "ticks": ""
             }
            },
            "type": "scatterternary"
           }
          ],
          "surface": [
           {
            "colorbar": {
             "outlinewidth": 0,
             "ticks": ""
            },
            "colorscale": [
             [
              0,
              "#0d0887"
             ],
             [
              0.1111111111111111,
              "#46039f"
             ],
             [
              0.2222222222222222,
              "#7201a8"
             ],
             [
              0.3333333333333333,
              "#9c179e"
             ],
             [
              0.4444444444444444,
              "#bd3786"
             ],
             [
              0.5555555555555556,
              "#d8576b"
             ],
             [
              0.6666666666666666,
              "#ed7953"
             ],
             [
              0.7777777777777778,
              "#fb9f3a"
             ],
             [
              0.8888888888888888,
              "#fdca26"
             ],
             [
              1,
              "#f0f921"
             ]
            ],
            "type": "surface"
           }
          ],
          "table": [
           {
            "cells": {
             "fill": {
              "color": "#EBF0F8"
             },
             "line": {
              "color": "white"
             }
            },
            "header": {
             "fill": {
              "color": "#C8D4E3"
             },
             "line": {
              "color": "white"
             }
            },
            "type": "table"
           }
          ]
         },
         "layout": {
          "annotationdefaults": {
           "arrowcolor": "#2a3f5f",
           "arrowhead": 0,
           "arrowwidth": 1
          },
          "autotypenumbers": "strict",
          "coloraxis": {
           "colorbar": {
            "outlinewidth": 0,
            "ticks": ""
           }
          },
          "colorscale": {
           "diverging": [
            [
             0,
             "#8e0152"
            ],
            [
             0.1,
             "#c51b7d"
            ],
            [
             0.2,
             "#de77ae"
            ],
            [
             0.3,
             "#f1b6da"
            ],
            [
             0.4,
             "#fde0ef"
            ],
            [
             0.5,
             "#f7f7f7"
            ],
            [
             0.6,
             "#e6f5d0"
            ],
            [
             0.7,
             "#b8e186"
            ],
            [
             0.8,
             "#7fbc41"
            ],
            [
             0.9,
             "#4d9221"
            ],
            [
             1,
             "#276419"
            ]
           ],
           "sequential": [
            [
             0,
             "#0d0887"
            ],
            [
             0.1111111111111111,
             "#46039f"
            ],
            [
             0.2222222222222222,
             "#7201a8"
            ],
            [
             0.3333333333333333,
             "#9c179e"
            ],
            [
             0.4444444444444444,
             "#bd3786"
            ],
            [
             0.5555555555555556,
             "#d8576b"
            ],
            [
             0.6666666666666666,
             "#ed7953"
            ],
            [
             0.7777777777777778,
             "#fb9f3a"
            ],
            [
             0.8888888888888888,
             "#fdca26"
            ],
            [
             1,
             "#f0f921"
            ]
           ],
           "sequentialminus": [
            [
             0,
             "#0d0887"
            ],
            [
             0.1111111111111111,
             "#46039f"
            ],
            [
             0.2222222222222222,
             "#7201a8"
            ],
            [
             0.3333333333333333,
             "#9c179e"
            ],
            [
             0.4444444444444444,
             "#bd3786"
            ],
            [
             0.5555555555555556,
             "#d8576b"
            ],
            [
             0.6666666666666666,
             "#ed7953"
            ],
            [
             0.7777777777777778,
             "#fb9f3a"
            ],
            [
             0.8888888888888888,
             "#fdca26"
            ],
            [
             1,
             "#f0f921"
            ]
           ]
          },
          "colorway": [
           "#636efa",
           "#EF553B",
           "#00cc96",
           "#ab63fa",
           "#FFA15A",
           "#19d3f3",
           "#FF6692",
           "#B6E880",
           "#FF97FF",
           "#FECB52"
          ],
          "font": {
           "color": "#2a3f5f"
          },
          "geo": {
           "bgcolor": "white",
           "lakecolor": "white",
           "landcolor": "#E5ECF6",
           "showlakes": true,
           "showland": true,
           "subunitcolor": "white"
          },
          "hoverlabel": {
           "align": "left"
          },
          "hovermode": "closest",
          "mapbox": {
           "style": "light"
          },
          "paper_bgcolor": "white",
          "plot_bgcolor": "#E5ECF6",
          "polar": {
           "angularaxis": {
            "gridcolor": "white",
            "linecolor": "white",
            "ticks": ""
           },
           "bgcolor": "#E5ECF6",
           "radialaxis": {
            "gridcolor": "white",
            "linecolor": "white",
            "ticks": ""
           }
          },
          "scene": {
           "xaxis": {
            "backgroundcolor": "#E5ECF6",
            "gridcolor": "white",
            "gridwidth": 2,
            "linecolor": "white",
            "showbackground": true,
            "ticks": "",
            "zerolinecolor": "white"
           },
           "yaxis": {
            "backgroundcolor": "#E5ECF6",
            "gridcolor": "white",
            "gridwidth": 2,
            "linecolor": "white",
            "showbackground": true,
            "ticks": "",
            "zerolinecolor": "white"
           },
           "zaxis": {
            "backgroundcolor": "#E5ECF6",
            "gridcolor": "white",
            "gridwidth": 2,
            "linecolor": "white",
            "showbackground": true,
            "ticks": "",
            "zerolinecolor": "white"
           }
          },
          "shapedefaults": {
           "line": {
            "color": "#2a3f5f"
           }
          },
          "ternary": {
           "aaxis": {
            "gridcolor": "white",
            "linecolor": "white",
            "ticks": ""
           },
           "baxis": {
            "gridcolor": "white",
            "linecolor": "white",
            "ticks": ""
           },
           "bgcolor": "#E5ECF6",
           "caxis": {
            "gridcolor": "white",
            "linecolor": "white",
            "ticks": ""
           }
          },
          "title": {
           "x": 0.05
          },
          "xaxis": {
           "automargin": true,
           "gridcolor": "white",
           "linecolor": "white",
           "ticks": "",
           "title": {
            "standoff": 15
           },
           "zerolinecolor": "white",
           "zerolinewidth": 2
          },
          "yaxis": {
           "automargin": true,
           "gridcolor": "white",
           "linecolor": "white",
           "ticks": "",
           "title": {
            "standoff": 15
           },
           "zerolinecolor": "white",
           "zerolinewidth": 2
          }
         }
        },
        "violinmode": "group",
        "xaxis": {
         "anchor": "y",
         "domain": [
          0,
          1
         ],
         "title": {
          "text": "search_config"
         }
        },
        "yaxis": {
         "anchor": "x",
         "domain": [
          0,
          1
         ],
         "title": {
          "text": "value"
         }
        }
       }
      },
      "text/html": [
       "<div>                            <div id=\"1bcf7b22-e52e-477b-b822-0d3edef1eb4a\" class=\"plotly-graph-div\" style=\"height:525px; width:100%;\"></div>            <script type=\"text/javascript\">                require([\"plotly\"], function(Plotly) {                    window.PLOTLYENV=window.PLOTLYENV || {};                                    if (document.getElementById(\"1bcf7b22-e52e-477b-b822-0d3edef1eb4a\")) {                    Plotly.newPlot(                        \"1bcf7b22-e52e-477b-b822-0d3edef1eb4a\",                        [{\"alignmentgroup\":\"True\",\"box\":{\"visible\":false},\"customdata\":[[\"dcg\",\"3d tree wall owl\",\"2024-06-25T00:00:00\"],[\"dcg\",\"classic black dresses for women\",\"2024-06-25T00:00:00\"],[\"dcg\",\"cuadro para oficina\",\"2024-06-25T00:00:00\"],[\"dcg\",\"cute vans for women\",\"2024-06-25T00:00:00\"],[\"dcg\",\"diabetic massager\",\"2024-06-25T00:00:00\"],[\"dcg\",\"greenpan ceramic nonstick fry pan 12 inch\",\"2024-06-25T00:00:00\"],[\"dcg\",\"guano de murci\\u00e9lago\",\"2024-06-25T00:00:00\"],[\"dcg\",\"handlebars\",\"2024-06-25T00:00:00\"],[\"dcg\",\"joyce meyer\",\"2024-06-25T00:00:00\"],[\"dcg\",\"level tools\",\"2024-06-25T00:00:00\"],[\"dcg\",\"long johns for men\",\"2024-06-25T00:00:00\"],[\"dcg\",\"mct oil capsules\",\"2024-06-25T00:00:00\"],[\"dcg\",\"nike air force 1 men\",\"2024-06-25T00:00:00\"],[\"dcg\",\"nipple clamps\",\"2024-06-25T00:00:00\"],[\"dcg\",\"patinete ni\\u00f1o 9 a\\u00f1os\",\"2024-06-25T00:00:00\"],[\"dcg\",\"replacement brush heads sonicare\",\"2024-06-25T00:00:00\"],[\"dcg\",\"shoot rubber bullets\",\"2024-06-25T00:00:00\"],[\"dcg\",\"solar pool covers for inground pools\",\"2024-06-25T00:00:00\"],[\"dcg\",\"toyota white touch up\",\"2024-06-25T00:00:00\"],[\"dcg\",\"\\u30d6\\u30eb\\u30fc\\u30c8\\u30a5\\u30fc\\u30b9\\u30a4\\u30e4\\u30db\\u30f3\",\"2024-06-25T00:00:00\"],[\"dcg\",\"3d tree wall owl\",\"2024-06-26T00:00:00\"],[\"dcg\",\"classic black dresses for women\",\"2024-06-26T00:00:00\"],[\"dcg\",\"cuadro para oficina\",\"2024-06-26T00:00:00\"],[\"dcg\",\"cute vans for women\",\"2024-06-26T00:00:00\"],[\"dcg\",\"diabetic massager\",\"2024-06-26T00:00:00\"],[\"dcg\",\"greenpan ceramic nonstick fry pan 12 inch\",\"2024-06-26T00:00:00\"],[\"dcg\",\"guano de murci\\u00e9lago\",\"2024-06-26T00:00:00\"],[\"dcg\",\"handlebars\",\"2024-06-26T00:00:00\"],[\"dcg\",\"joyce meyer\",\"2024-06-26T00:00:00\"],[\"dcg\",\"level tools\",\"2024-06-26T00:00:00\"],[\"dcg\",\"long johns for men\",\"2024-06-26T00:00:00\"],[\"dcg\",\"mct oil capsules\",\"2024-06-26T00:00:00\"],[\"dcg\",\"nike air force 1 men\",\"2024-06-26T00:00:00\"],[\"dcg\",\"nipple clamps\",\"2024-06-26T00:00:00\"],[\"dcg\",\"patinete ni\\u00f1o 9 a\\u00f1os\",\"2024-06-26T00:00:00\"],[\"dcg\",\"replacement brush heads sonicare\",\"2024-06-26T00:00:00\"],[\"dcg\",\"shoot rubber bullets\",\"2024-06-26T00:00:00\"],[\"dcg\",\"solar pool covers for inground pools\",\"2024-06-26T00:00:00\"],[\"dcg\",\"toyota white touch up\",\"2024-06-26T00:00:00\"],[\"dcg\",\"\\u30d6\\u30eb\\u30fc\\u30c8\\u30a5\\u30fc\\u30b9\\u30a4\\u30e4\\u30db\\u30f3\",\"2024-06-26T00:00:00\"],[\"dcg\",\"3d tree wall owl\",\"2024-06-27T00:00:00\"],[\"dcg\",\"classic black dresses for women\",\"2024-06-27T00:00:00\"],[\"dcg\",\"cuadro para oficina\",\"2024-06-27T00:00:00\"],[\"dcg\",\"cute vans for women\",\"2024-06-27T00:00:00\"],[\"dcg\",\"diabetic massager\",\"2024-06-27T00:00:00\"],[\"dcg\",\"greenpan ceramic nonstick fry pan 12 inch\",\"2024-06-27T00:00:00\"],[\"dcg\",\"guano de murci\\u00e9lago\",\"2024-06-27T00:00:00\"],[\"dcg\",\"handlebars\",\"2024-06-27T00:00:00\"],[\"dcg\",\"joyce meyer\",\"2024-06-27T00:00:00\"],[\"dcg\",\"level tools\",\"2024-06-27T00:00:00\"],[\"dcg\",\"long johns for men\",\"2024-06-27T00:00:00\"],[\"dcg\",\"mct oil capsules\",\"2024-06-27T00:00:00\"],[\"dcg\",\"nike air force 1 men\",\"2024-06-27T00:00:00\"],[\"dcg\",\"nipple clamps\",\"2024-06-27T00:00:00\"],[\"dcg\",\"patinete ni\\u00f1o 9 a\\u00f1os\",\"2024-06-27T00:00:00\"],[\"dcg\",\"replacement brush heads sonicare\",\"2024-06-27T00:00:00\"],[\"dcg\",\"shoot rubber bullets\",\"2024-06-27T00:00:00\"],[\"dcg\",\"solar pool covers for inground pools\",\"2024-06-27T00:00:00\"],[\"dcg\",\"toyota white touch up\",\"2024-06-27T00:00:00\"],[\"dcg\",\"\\u30d6\\u30eb\\u30fc\\u30c8\\u30a5\\u30fc\\u30b9\\u30a4\\u30e4\\u30db\\u30f3\",\"2024-06-27T00:00:00\"],[\"dcg\",\"3d tree wall owl\",\"2024-06-28T00:00:00\"],[\"dcg\",\"classic black dresses for women\",\"2024-06-28T00:00:00\"],[\"dcg\",\"cuadro para oficina\",\"2024-06-28T00:00:00\"],[\"dcg\",\"cute vans for women\",\"2024-06-28T00:00:00\"],[\"dcg\",\"diabetic massager\",\"2024-06-28T00:00:00\"],[\"dcg\",\"greenpan ceramic nonstick fry pan 12 inch\",\"2024-06-28T00:00:00\"],[\"dcg\",\"guano de murci\\u00e9lago\",\"2024-06-28T00:00:00\"],[\"dcg\",\"handlebars\",\"2024-06-28T00:00:00\"],[\"dcg\",\"joyce meyer\",\"2024-06-28T00:00:00\"],[\"dcg\",\"level tools\",\"2024-06-28T00:00:00\"],[\"dcg\",\"long johns for men\",\"2024-06-28T00:00:00\"],[\"dcg\",\"mct oil capsules\",\"2024-06-28T00:00:00\"],[\"dcg\",\"nike air force 1 men\",\"2024-06-28T00:00:00\"],[\"dcg\",\"nipple clamps\",\"2024-06-28T00:00:00\"],[\"dcg\",\"patinete ni\\u00f1o 9 a\\u00f1os\",\"2024-06-28T00:00:00\"],[\"dcg\",\"replacement brush heads sonicare\",\"2024-06-28T00:00:00\"],[\"dcg\",\"shoot rubber bullets\",\"2024-06-28T00:00:00\"],[\"dcg\",\"solar pool covers for inground pools\",\"2024-06-28T00:00:00\"],[\"dcg\",\"toyota white touch up\",\"2024-06-28T00:00:00\"],[\"dcg\",\"\\u30d6\\u30eb\\u30fc\\u30c8\\u30a5\\u30fc\\u30b9\\u30a4\\u30e4\\u30db\\u30f3\",\"2024-06-28T00:00:00\"],[\"dcg\",\"3d tree wall owl\",\"2024-06-29T00:00:00\"],[\"dcg\",\"classic black dresses for women\",\"2024-06-29T00:00:00\"],[\"dcg\",\"cuadro para oficina\",\"2024-06-29T00:00:00\"],[\"dcg\",\"cute vans for women\",\"2024-06-29T00:00:00\"],[\"dcg\",\"diabetic massager\",\"2024-06-29T00:00:00\"],[\"dcg\",\"greenpan ceramic nonstick fry pan 12 inch\",\"2024-06-29T00:00:00\"],[\"dcg\",\"guano de murci\\u00e9lago\",\"2024-06-29T00:00:00\"],[\"dcg\",\"handlebars\",\"2024-06-29T00:00:00\"],[\"dcg\",\"joyce meyer\",\"2024-06-29T00:00:00\"],[\"dcg\",\"level tools\",\"2024-06-29T00:00:00\"],[\"dcg\",\"long johns for men\",\"2024-06-29T00:00:00\"],[\"dcg\",\"mct oil capsules\",\"2024-06-29T00:00:00\"],[\"dcg\",\"nike air force 1 men\",\"2024-06-29T00:00:00\"],[\"dcg\",\"nipple clamps\",\"2024-06-29T00:00:00\"],[\"dcg\",\"patinete ni\\u00f1o 9 a\\u00f1os\",\"2024-06-29T00:00:00\"],[\"dcg\",\"replacement brush heads sonicare\",\"2024-06-29T00:00:00\"],[\"dcg\",\"shoot rubber bullets\",\"2024-06-29T00:00:00\"],[\"dcg\",\"solar pool covers for inground pools\",\"2024-06-29T00:00:00\"],[\"dcg\",\"toyota white touch up\",\"2024-06-29T00:00:00\"],[\"dcg\",\"\\u30d6\\u30eb\\u30fc\\u30c8\\u30a5\\u30fc\\u30b9\\u30a4\\u30e4\\u30db\\u30f3\",\"2024-06-29T00:00:00\"],[\"dcg\",\"3d tree wall owl\",\"2024-06-30T00:00:00\"],[\"dcg\",\"classic black dresses for women\",\"2024-06-30T00:00:00\"],[\"dcg\",\"cuadro para oficina\",\"2024-06-30T00:00:00\"],[\"dcg\",\"cute vans for women\",\"2024-06-30T00:00:00\"],[\"dcg\",\"diabetic massager\",\"2024-06-30T00:00:00\"],[\"dcg\",\"greenpan ceramic nonstick fry pan 12 inch\",\"2024-06-30T00:00:00\"],[\"dcg\",\"guano de murci\\u00e9lago\",\"2024-06-30T00:00:00\"],[\"dcg\",\"handlebars\",\"2024-06-30T00:00:00\"],[\"dcg\",\"joyce meyer\",\"2024-06-30T00:00:00\"],[\"dcg\",\"level tools\",\"2024-06-30T00:00:00\"],[\"dcg\",\"long johns for men\",\"2024-06-30T00:00:00\"],[\"dcg\",\"mct oil capsules\",\"2024-06-30T00:00:00\"],[\"dcg\",\"nike air force 1 men\",\"2024-06-30T00:00:00\"],[\"dcg\",\"nipple clamps\",\"2024-06-30T00:00:00\"],[\"dcg\",\"patinete ni\\u00f1o 9 a\\u00f1os\",\"2024-06-30T00:00:00\"],[\"dcg\",\"replacement brush heads sonicare\",\"2024-06-30T00:00:00\"],[\"dcg\",\"shoot rubber bullets\",\"2024-06-30T00:00:00\"],[\"dcg\",\"solar pool covers for inground pools\",\"2024-06-30T00:00:00\"],[\"dcg\",\"toyota white touch up\",\"2024-06-30T00:00:00\"],[\"dcg\",\"\\u30d6\\u30eb\\u30fc\\u30c8\\u30a5\\u30fc\\u30b9\\u30a4\\u30e4\\u30db\\u30f3\",\"2024-06-30T00:00:00\"],[\"dcg\",\"3d tree wall owl\",\"2024-07-01T00:00:00\"],[\"dcg\",\"classic black dresses for women\",\"2024-07-01T00:00:00\"],[\"dcg\",\"cuadro para oficina\",\"2024-07-01T00:00:00\"],[\"dcg\",\"cute vans for women\",\"2024-07-01T00:00:00\"],[\"dcg\",\"diabetic massager\",\"2024-07-01T00:00:00\"],[\"dcg\",\"greenpan ceramic nonstick fry pan 12 inch\",\"2024-07-01T00:00:00\"],[\"dcg\",\"guano de murci\\u00e9lago\",\"2024-07-01T00:00:00\"],[\"dcg\",\"handlebars\",\"2024-07-01T00:00:00\"],[\"dcg\",\"joyce meyer\",\"2024-07-01T00:00:00\"],[\"dcg\",\"level tools\",\"2024-07-01T00:00:00\"],[\"dcg\",\"long johns for men\",\"2024-07-01T00:00:00\"],[\"dcg\",\"mct oil capsules\",\"2024-07-01T00:00:00\"],[\"dcg\",\"nike air force 1 men\",\"2024-07-01T00:00:00\"],[\"dcg\",\"nipple clamps\",\"2024-07-01T00:00:00\"],[\"dcg\",\"patinete ni\\u00f1o 9 a\\u00f1os\",\"2024-07-01T00:00:00\"],[\"dcg\",\"replacement brush heads sonicare\",\"2024-07-01T00:00:00\"],[\"dcg\",\"shoot rubber bullets\",\"2024-07-01T00:00:00\"],[\"dcg\",\"solar pool covers for inground pools\",\"2024-07-01T00:00:00\"],[\"dcg\",\"toyota white touch up\",\"2024-07-01T00:00:00\"],[\"dcg\",\"\\u30d6\\u30eb\\u30fc\\u30c8\\u30a5\\u30fc\\u30b9\\u30a4\\u30e4\\u30db\\u30f3\",\"2024-07-01T00:00:00\"],[\"dcg\",\"3d tree wall owl\",\"2024-06-25T00:00:00\"],[\"dcg\",\"classic black dresses for women\",\"2024-06-25T00:00:00\"],[\"dcg\",\"cuadro para oficina\",\"2024-06-25T00:00:00\"],[\"dcg\",\"cute vans for women\",\"2024-06-25T00:00:00\"],[\"dcg\",\"diabetic massager\",\"2024-06-25T00:00:00\"],[\"dcg\",\"greenpan ceramic nonstick fry pan 12 inch\",\"2024-06-25T00:00:00\"],[\"dcg\",\"guano de murci\\u00e9lago\",\"2024-06-25T00:00:00\"],[\"dcg\",\"handlebars\",\"2024-06-25T00:00:00\"],[\"dcg\",\"joyce meyer\",\"2024-06-25T00:00:00\"],[\"dcg\",\"level tools\",\"2024-06-25T00:00:00\"],[\"dcg\",\"long johns for men\",\"2024-06-25T00:00:00\"],[\"dcg\",\"mct oil capsules\",\"2024-06-25T00:00:00\"],[\"dcg\",\"nike air force 1 men\",\"2024-06-25T00:00:00\"],[\"dcg\",\"nipple clamps\",\"2024-06-25T00:00:00\"],[\"dcg\",\"patinete ni\\u00f1o 9 a\\u00f1os\",\"2024-06-25T00:00:00\"],[\"dcg\",\"replacement brush heads sonicare\",\"2024-06-25T00:00:00\"],[\"dcg\",\"shoot rubber bullets\",\"2024-06-25T00:00:00\"],[\"dcg\",\"solar pool covers for inground pools\",\"2024-06-25T00:00:00\"],[\"dcg\",\"toyota white touch up\",\"2024-06-25T00:00:00\"],[\"dcg\",\"\\u30d6\\u30eb\\u30fc\\u30c8\\u30a5\\u30fc\\u30b9\\u30a4\\u30e4\\u30db\\u30f3\",\"2024-06-25T00:00:00\"],[\"dcg\",\"3d tree wall owl\",\"2024-06-26T00:00:00\"],[\"dcg\",\"classic black dresses for women\",\"2024-06-26T00:00:00\"],[\"dcg\",\"cuadro para oficina\",\"2024-06-26T00:00:00\"],[\"dcg\",\"cute vans for women\",\"2024-06-26T00:00:00\"],[\"dcg\",\"diabetic massager\",\"2024-06-26T00:00:00\"],[\"dcg\",\"greenpan ceramic nonstick fry pan 12 inch\",\"2024-06-26T00:00:00\"],[\"dcg\",\"guano de murci\\u00e9lago\",\"2024-06-26T00:00:00\"],[\"dcg\",\"handlebars\",\"2024-06-26T00:00:00\"],[\"dcg\",\"joyce meyer\",\"2024-06-26T00:00:00\"],[\"dcg\",\"level tools\",\"2024-06-26T00:00:00\"],[\"dcg\",\"long johns for men\",\"2024-06-26T00:00:00\"],[\"dcg\",\"mct oil capsules\",\"2024-06-26T00:00:00\"],[\"dcg\",\"nike air force 1 men\",\"2024-06-26T00:00:00\"],[\"dcg\",\"nipple clamps\",\"2024-06-26T00:00:00\"],[\"dcg\",\"patinete ni\\u00f1o 9 a\\u00f1os\",\"2024-06-26T00:00:00\"],[\"dcg\",\"replacement brush heads sonicare\",\"2024-06-26T00:00:00\"],[\"dcg\",\"shoot rubber bullets\",\"2024-06-26T00:00:00\"],[\"dcg\",\"solar pool covers for inground pools\",\"2024-06-26T00:00:00\"],[\"dcg\",\"toyota white touch up\",\"2024-06-26T00:00:00\"],[\"dcg\",\"\\u30d6\\u30eb\\u30fc\\u30c8\\u30a5\\u30fc\\u30b9\\u30a4\\u30e4\\u30db\\u30f3\",\"2024-06-26T00:00:00\"],[\"dcg\",\"3d tree wall owl\",\"2024-06-27T00:00:00\"],[\"dcg\",\"classic black dresses for women\",\"2024-06-27T00:00:00\"],[\"dcg\",\"cuadro para oficina\",\"2024-06-27T00:00:00\"],[\"dcg\",\"cute vans for women\",\"2024-06-27T00:00:00\"],[\"dcg\",\"diabetic massager\",\"2024-06-27T00:00:00\"],[\"dcg\",\"greenpan ceramic nonstick fry pan 12 inch\",\"2024-06-27T00:00:00\"],[\"dcg\",\"guano de murci\\u00e9lago\",\"2024-06-27T00:00:00\"],[\"dcg\",\"handlebars\",\"2024-06-27T00:00:00\"],[\"dcg\",\"joyce meyer\",\"2024-06-27T00:00:00\"],[\"dcg\",\"level tools\",\"2024-06-27T00:00:00\"],[\"dcg\",\"long johns for men\",\"2024-06-27T00:00:00\"],[\"dcg\",\"mct oil capsules\",\"2024-06-27T00:00:00\"],[\"dcg\",\"nike air force 1 men\",\"2024-06-27T00:00:00\"],[\"dcg\",\"nipple clamps\",\"2024-06-27T00:00:00\"],[\"dcg\",\"patinete ni\\u00f1o 9 a\\u00f1os\",\"2024-06-27T00:00:00\"],[\"dcg\",\"replacement brush heads sonicare\",\"2024-06-27T00:00:00\"],[\"dcg\",\"shoot rubber bullets\",\"2024-06-27T00:00:00\"],[\"dcg\",\"solar pool covers for inground pools\",\"2024-06-27T00:00:00\"],[\"dcg\",\"toyota white touch up\",\"2024-06-27T00:00:00\"],[\"dcg\",\"\\u30d6\\u30eb\\u30fc\\u30c8\\u30a5\\u30fc\\u30b9\\u30a4\\u30e4\\u30db\\u30f3\",\"2024-06-27T00:00:00\"],[\"dcg\",\"3d tree wall owl\",\"2024-06-28T00:00:00\"],[\"dcg\",\"classic black dresses for women\",\"2024-06-28T00:00:00\"],[\"dcg\",\"cuadro para oficina\",\"2024-06-28T00:00:00\"],[\"dcg\",\"cute vans for women\",\"2024-06-28T00:00:00\"],[\"dcg\",\"diabetic massager\",\"2024-06-28T00:00:00\"],[\"dcg\",\"greenpan ceramic nonstick fry pan 12 inch\",\"2024-06-28T00:00:00\"],[\"dcg\",\"guano de murci\\u00e9lago\",\"2024-06-28T00:00:00\"],[\"dcg\",\"handlebars\",\"2024-06-28T00:00:00\"],[\"dcg\",\"joyce meyer\",\"2024-06-28T00:00:00\"],[\"dcg\",\"level tools\",\"2024-06-28T00:00:00\"],[\"dcg\",\"long johns for men\",\"2024-06-28T00:00:00\"],[\"dcg\",\"mct oil capsules\",\"2024-06-28T00:00:00\"],[\"dcg\",\"nike air force 1 men\",\"2024-06-28T00:00:00\"],[\"dcg\",\"nipple clamps\",\"2024-06-28T00:00:00\"],[\"dcg\",\"patinete ni\\u00f1o 9 a\\u00f1os\",\"2024-06-28T00:00:00\"],[\"dcg\",\"replacement brush heads sonicare\",\"2024-06-28T00:00:00\"],[\"dcg\",\"shoot rubber bullets\",\"2024-06-28T00:00:00\"],[\"dcg\",\"solar pool covers for inground pools\",\"2024-06-28T00:00:00\"],[\"dcg\",\"toyota white touch up\",\"2024-06-28T00:00:00\"],[\"dcg\",\"\\u30d6\\u30eb\\u30fc\\u30c8\\u30a5\\u30fc\\u30b9\\u30a4\\u30e4\\u30db\\u30f3\",\"2024-06-28T00:00:00\"],[\"dcg\",\"3d tree wall owl\",\"2024-06-29T00:00:00\"],[\"dcg\",\"classic black dresses for women\",\"2024-06-29T00:00:00\"],[\"dcg\",\"cuadro para oficina\",\"2024-06-29T00:00:00\"],[\"dcg\",\"cute vans for women\",\"2024-06-29T00:00:00\"],[\"dcg\",\"diabetic massager\",\"2024-06-29T00:00:00\"],[\"dcg\",\"greenpan ceramic nonstick fry pan 12 inch\",\"2024-06-29T00:00:00\"],[\"dcg\",\"guano de murci\\u00e9lago\",\"2024-06-29T00:00:00\"],[\"dcg\",\"handlebars\",\"2024-06-29T00:00:00\"],[\"dcg\",\"joyce meyer\",\"2024-06-29T00:00:00\"],[\"dcg\",\"level tools\",\"2024-06-29T00:00:00\"],[\"dcg\",\"long johns for men\",\"2024-06-29T00:00:00\"],[\"dcg\",\"mct oil capsules\",\"2024-06-29T00:00:00\"],[\"dcg\",\"nike air force 1 men\",\"2024-06-29T00:00:00\"],[\"dcg\",\"nipple clamps\",\"2024-06-29T00:00:00\"],[\"dcg\",\"patinete ni\\u00f1o 9 a\\u00f1os\",\"2024-06-29T00:00:00\"],[\"dcg\",\"replacement brush heads sonicare\",\"2024-06-29T00:00:00\"],[\"dcg\",\"shoot rubber bullets\",\"2024-06-29T00:00:00\"],[\"dcg\",\"solar pool covers for inground pools\",\"2024-06-29T00:00:00\"],[\"dcg\",\"toyota white touch up\",\"2024-06-29T00:00:00\"],[\"dcg\",\"\\u30d6\\u30eb\\u30fc\\u30c8\\u30a5\\u30fc\\u30b9\\u30a4\\u30e4\\u30db\\u30f3\",\"2024-06-29T00:00:00\"],[\"dcg\",\"3d tree wall owl\",\"2024-06-30T00:00:00\"],[\"dcg\",\"classic black dresses for women\",\"2024-06-30T00:00:00\"],[\"dcg\",\"cuadro para oficina\",\"2024-06-30T00:00:00\"],[\"dcg\",\"cute vans for women\",\"2024-06-30T00:00:00\"],[\"dcg\",\"diabetic massager\",\"2024-06-30T00:00:00\"],[\"dcg\",\"greenpan ceramic nonstick fry pan 12 inch\",\"2024-06-30T00:00:00\"],[\"dcg\",\"guano de murci\\u00e9lago\",\"2024-06-30T00:00:00\"],[\"dcg\",\"handlebars\",\"2024-06-30T00:00:00\"],[\"dcg\",\"joyce meyer\",\"2024-06-30T00:00:00\"],[\"dcg\",\"level tools\",\"2024-06-30T00:00:00\"],[\"dcg\",\"long johns for men\",\"2024-06-30T00:00:00\"],[\"dcg\",\"mct oil capsules\",\"2024-06-30T00:00:00\"],[\"dcg\",\"nike air force 1 men\",\"2024-06-30T00:00:00\"],[\"dcg\",\"nipple clamps\",\"2024-06-30T00:00:00\"],[\"dcg\",\"patinete ni\\u00f1o 9 a\\u00f1os\",\"2024-06-30T00:00:00\"],[\"dcg\",\"replacement brush heads sonicare\",\"2024-06-30T00:00:00\"],[\"dcg\",\"shoot rubber bullets\",\"2024-06-30T00:00:00\"],[\"dcg\",\"solar pool covers for inground pools\",\"2024-06-30T00:00:00\"],[\"dcg\",\"toyota white touch up\",\"2024-06-30T00:00:00\"],[\"dcg\",\"\\u30d6\\u30eb\\u30fc\\u30c8\\u30a5\\u30fc\\u30b9\\u30a4\\u30e4\\u30db\\u30f3\",\"2024-06-30T00:00:00\"],[\"dcg\",\"3d tree wall owl\",\"2024-07-01T00:00:00\"],[\"dcg\",\"classic black dresses for women\",\"2024-07-01T00:00:00\"],[\"dcg\",\"cuadro para oficina\",\"2024-07-01T00:00:00\"],[\"dcg\",\"cute vans for women\",\"2024-07-01T00:00:00\"],[\"dcg\",\"diabetic massager\",\"2024-07-01T00:00:00\"],[\"dcg\",\"greenpan ceramic nonstick fry pan 12 inch\",\"2024-07-01T00:00:00\"],[\"dcg\",\"guano de murci\\u00e9lago\",\"2024-07-01T00:00:00\"],[\"dcg\",\"handlebars\",\"2024-07-01T00:00:00\"],[\"dcg\",\"joyce meyer\",\"2024-07-01T00:00:00\"],[\"dcg\",\"level tools\",\"2024-07-01T00:00:00\"],[\"dcg\",\"long johns for men\",\"2024-07-01T00:00:00\"],[\"dcg\",\"mct oil capsules\",\"2024-07-01T00:00:00\"],[\"dcg\",\"nike air force 1 men\",\"2024-07-01T00:00:00\"],[\"dcg\",\"nipple clamps\",\"2024-07-01T00:00:00\"],[\"dcg\",\"patinete ni\\u00f1o 9 a\\u00f1os\",\"2024-07-01T00:00:00\"],[\"dcg\",\"replacement brush heads sonicare\",\"2024-07-01T00:00:00\"],[\"dcg\",\"shoot rubber bullets\",\"2024-07-01T00:00:00\"],[\"dcg\",\"solar pool covers for inground pools\",\"2024-07-01T00:00:00\"],[\"dcg\",\"toyota white touch up\",\"2024-07-01T00:00:00\"],[\"dcg\",\"\\u30d6\\u30eb\\u30fc\\u30c8\\u30a5\\u30fc\\u30b9\\u30a4\\u30e4\\u30db\\u30f3\",\"2024-07-01T00:00:00\"],[\"dcg\",\"3d tree wall owl\",\"2024-06-25T00:00:00\"],[\"dcg\",\"classic black dresses for women\",\"2024-06-25T00:00:00\"],[\"dcg\",\"cuadro para oficina\",\"2024-06-25T00:00:00\"],[\"dcg\",\"cute vans for women\",\"2024-06-25T00:00:00\"],[\"dcg\",\"diabetic massager\",\"2024-06-25T00:00:00\"],[\"dcg\",\"greenpan ceramic nonstick fry pan 12 inch\",\"2024-06-25T00:00:00\"],[\"dcg\",\"guano de murci\\u00e9lago\",\"2024-06-25T00:00:00\"],[\"dcg\",\"handlebars\",\"2024-06-25T00:00:00\"],[\"dcg\",\"joyce meyer\",\"2024-06-25T00:00:00\"],[\"dcg\",\"level tools\",\"2024-06-25T00:00:00\"],[\"dcg\",\"long johns for men\",\"2024-06-25T00:00:00\"],[\"dcg\",\"mct oil capsules\",\"2024-06-25T00:00:00\"],[\"dcg\",\"nike air force 1 men\",\"2024-06-25T00:00:00\"],[\"dcg\",\"nipple clamps\",\"2024-06-25T00:00:00\"],[\"dcg\",\"patinete ni\\u00f1o 9 a\\u00f1os\",\"2024-06-25T00:00:00\"],[\"dcg\",\"replacement brush heads sonicare\",\"2024-06-25T00:00:00\"],[\"dcg\",\"shoot rubber bullets\",\"2024-06-25T00:00:00\"],[\"dcg\",\"solar pool covers for inground pools\",\"2024-06-25T00:00:00\"],[\"dcg\",\"toyota white touch up\",\"2024-06-25T00:00:00\"],[\"dcg\",\"\\u30d6\\u30eb\\u30fc\\u30c8\\u30a5\\u30fc\\u30b9\\u30a4\\u30e4\\u30db\\u30f3\",\"2024-06-25T00:00:00\"],[\"dcg\",\"3d tree wall owl\",\"2024-06-26T00:00:00\"],[\"dcg\",\"classic black dresses for women\",\"2024-06-26T00:00:00\"],[\"dcg\",\"cuadro para oficina\",\"2024-06-26T00:00:00\"],[\"dcg\",\"cute vans for women\",\"2024-06-26T00:00:00\"],[\"dcg\",\"diabetic massager\",\"2024-06-26T00:00:00\"],[\"dcg\",\"greenpan ceramic nonstick fry pan 12 inch\",\"2024-06-26T00:00:00\"],[\"dcg\",\"guano de murci\\u00e9lago\",\"2024-06-26T00:00:00\"],[\"dcg\",\"handlebars\",\"2024-06-26T00:00:00\"],[\"dcg\",\"joyce meyer\",\"2024-06-26T00:00:00\"],[\"dcg\",\"level tools\",\"2024-06-26T00:00:00\"],[\"dcg\",\"long johns for men\",\"2024-06-26T00:00:00\"],[\"dcg\",\"mct oil capsules\",\"2024-06-26T00:00:00\"],[\"dcg\",\"nike air force 1 men\",\"2024-06-26T00:00:00\"],[\"dcg\",\"nipple clamps\",\"2024-06-26T00:00:00\"],[\"dcg\",\"patinete ni\\u00f1o 9 a\\u00f1os\",\"2024-06-26T00:00:00\"],[\"dcg\",\"replacement brush heads sonicare\",\"2024-06-26T00:00:00\"],[\"dcg\",\"shoot rubber bullets\",\"2024-06-26T00:00:00\"],[\"dcg\",\"solar pool covers for inground pools\",\"2024-06-26T00:00:00\"],[\"dcg\",\"toyota white touch up\",\"2024-06-26T00:00:00\"],[\"dcg\",\"\\u30d6\\u30eb\\u30fc\\u30c8\\u30a5\\u30fc\\u30b9\\u30a4\\u30e4\\u30db\\u30f3\",\"2024-06-26T00:00:00\"],[\"dcg\",\"3d tree wall owl\",\"2024-06-27T00:00:00\"],[\"dcg\",\"classic black dresses for women\",\"2024-06-27T00:00:00\"],[\"dcg\",\"cuadro para oficina\",\"2024-06-27T00:00:00\"],[\"dcg\",\"cute vans for women\",\"2024-06-27T00:00:00\"],[\"dcg\",\"diabetic massager\",\"2024-06-27T00:00:00\"],[\"dcg\",\"greenpan ceramic nonstick fry pan 12 inch\",\"2024-06-27T00:00:00\"],[\"dcg\",\"guano de murci\\u00e9lago\",\"2024-06-27T00:00:00\"],[\"dcg\",\"handlebars\",\"2024-06-27T00:00:00\"],[\"dcg\",\"joyce meyer\",\"2024-06-27T00:00:00\"],[\"dcg\",\"level tools\",\"2024-06-27T00:00:00\"],[\"dcg\",\"long johns for men\",\"2024-06-27T00:00:00\"],[\"dcg\",\"mct oil capsules\",\"2024-06-27T00:00:00\"],[\"dcg\",\"nike air force 1 men\",\"2024-06-27T00:00:00\"],[\"dcg\",\"nipple clamps\",\"2024-06-27T00:00:00\"],[\"dcg\",\"patinete ni\\u00f1o 9 a\\u00f1os\",\"2024-06-27T00:00:00\"],[\"dcg\",\"replacement brush heads sonicare\",\"2024-06-27T00:00:00\"],[\"dcg\",\"shoot rubber bullets\",\"2024-06-27T00:00:00\"],[\"dcg\",\"solar pool covers for inground pools\",\"2024-06-27T00:00:00\"],[\"dcg\",\"toyota white touch up\",\"2024-06-27T00:00:00\"],[\"dcg\",\"\\u30d6\\u30eb\\u30fc\\u30c8\\u30a5\\u30fc\\u30b9\\u30a4\\u30e4\\u30db\\u30f3\",\"2024-06-27T00:00:00\"],[\"dcg\",\"3d tree wall owl\",\"2024-06-28T00:00:00\"],[\"dcg\",\"classic black dresses for women\",\"2024-06-28T00:00:00\"],[\"dcg\",\"cuadro para oficina\",\"2024-06-28T00:00:00\"],[\"dcg\",\"cute vans for women\",\"2024-06-28T00:00:00\"],[\"dcg\",\"diabetic massager\",\"2024-06-28T00:00:00\"],[\"dcg\",\"greenpan ceramic nonstick fry pan 12 inch\",\"2024-06-28T00:00:00\"],[\"dcg\",\"guano de murci\\u00e9lago\",\"2024-06-28T00:00:00\"],[\"dcg\",\"handlebars\",\"2024-06-28T00:00:00\"],[\"dcg\",\"joyce meyer\",\"2024-06-28T00:00:00\"],[\"dcg\",\"level tools\",\"2024-06-28T00:00:00\"],[\"dcg\",\"long johns for men\",\"2024-06-28T00:00:00\"],[\"dcg\",\"mct oil capsules\",\"2024-06-28T00:00:00\"],[\"dcg\",\"nike air force 1 men\",\"2024-06-28T00:00:00\"],[\"dcg\",\"nipple clamps\",\"2024-06-28T00:00:00\"],[\"dcg\",\"patinete ni\\u00f1o 9 a\\u00f1os\",\"2024-06-28T00:00:00\"],[\"dcg\",\"replacement brush heads sonicare\",\"2024-06-28T00:00:00\"],[\"dcg\",\"shoot rubber bullets\",\"2024-06-28T00:00:00\"],[\"dcg\",\"solar pool covers for inground pools\",\"2024-06-28T00:00:00\"],[\"dcg\",\"toyota white touch up\",\"2024-06-28T00:00:00\"],[\"dcg\",\"\\u30d6\\u30eb\\u30fc\\u30c8\\u30a5\\u30fc\\u30b9\\u30a4\\u30e4\\u30db\\u30f3\",\"2024-06-28T00:00:00\"],[\"dcg\",\"3d tree wall owl\",\"2024-06-29T00:00:00\"],[\"dcg\",\"classic black dresses for women\",\"2024-06-29T00:00:00\"],[\"dcg\",\"cuadro para oficina\",\"2024-06-29T00:00:00\"],[\"dcg\",\"cute vans for women\",\"2024-06-29T00:00:00\"],[\"dcg\",\"diabetic massager\",\"2024-06-29T00:00:00\"],[\"dcg\",\"greenpan ceramic nonstick fry pan 12 inch\",\"2024-06-29T00:00:00\"],[\"dcg\",\"guano de murci\\u00e9lago\",\"2024-06-29T00:00:00\"],[\"dcg\",\"handlebars\",\"2024-06-29T00:00:00\"],[\"dcg\",\"joyce meyer\",\"2024-06-29T00:00:00\"],[\"dcg\",\"level tools\",\"2024-06-29T00:00:00\"],[\"dcg\",\"long johns for men\",\"2024-06-29T00:00:00\"],[\"dcg\",\"mct oil capsules\",\"2024-06-29T00:00:00\"],[\"dcg\",\"nike air force 1 men\",\"2024-06-29T00:00:00\"],[\"dcg\",\"nipple clamps\",\"2024-06-29T00:00:00\"],[\"dcg\",\"patinete ni\\u00f1o 9 a\\u00f1os\",\"2024-06-29T00:00:00\"],[\"dcg\",\"replacement brush heads sonicare\",\"2024-06-29T00:00:00\"],[\"dcg\",\"shoot rubber bullets\",\"2024-06-29T00:00:00\"],[\"dcg\",\"solar pool covers for inground pools\",\"2024-06-29T00:00:00\"],[\"dcg\",\"toyota white touch up\",\"2024-06-29T00:00:00\"],[\"dcg\",\"\\u30d6\\u30eb\\u30fc\\u30c8\\u30a5\\u30fc\\u30b9\\u30a4\\u30e4\\u30db\\u30f3\",\"2024-06-29T00:00:00\"],[\"dcg\",\"3d tree wall owl\",\"2024-06-30T00:00:00\"],[\"dcg\",\"classic black dresses for women\",\"2024-06-30T00:00:00\"],[\"dcg\",\"cuadro para oficina\",\"2024-06-30T00:00:00\"],[\"dcg\",\"cute vans for women\",\"2024-06-30T00:00:00\"],[\"dcg\",\"diabetic massager\",\"2024-06-30T00:00:00\"],[\"dcg\",\"greenpan ceramic nonstick fry pan 12 inch\",\"2024-06-30T00:00:00\"],[\"dcg\",\"guano de murci\\u00e9lago\",\"2024-06-30T00:00:00\"],[\"dcg\",\"handlebars\",\"2024-06-30T00:00:00\"],[\"dcg\",\"joyce meyer\",\"2024-06-30T00:00:00\"],[\"dcg\",\"level tools\",\"2024-06-30T00:00:00\"],[\"dcg\",\"long johns for men\",\"2024-06-30T00:00:00\"],[\"dcg\",\"mct oil capsules\",\"2024-06-30T00:00:00\"],[\"dcg\",\"nike air force 1 men\",\"2024-06-30T00:00:00\"],[\"dcg\",\"nipple clamps\",\"2024-06-30T00:00:00\"],[\"dcg\",\"patinete ni\\u00f1o 9 a\\u00f1os\",\"2024-06-30T00:00:00\"],[\"dcg\",\"replacement brush heads sonicare\",\"2024-06-30T00:00:00\"],[\"dcg\",\"shoot rubber bullets\",\"2024-06-30T00:00:00\"],[\"dcg\",\"solar pool covers for inground pools\",\"2024-06-30T00:00:00\"],[\"dcg\",\"toyota white touch up\",\"2024-06-30T00:00:00\"],[\"dcg\",\"\\u30d6\\u30eb\\u30fc\\u30c8\\u30a5\\u30fc\\u30b9\\u30a4\\u30e4\\u30db\\u30f3\",\"2024-06-30T00:00:00\"],[\"dcg\",\"3d tree wall owl\",\"2024-07-01T00:00:00\"],[\"dcg\",\"classic black dresses for women\",\"2024-07-01T00:00:00\"],[\"dcg\",\"cuadro para oficina\",\"2024-07-01T00:00:00\"],[\"dcg\",\"cute vans for women\",\"2024-07-01T00:00:00\"],[\"dcg\",\"diabetic massager\",\"2024-07-01T00:00:00\"],[\"dcg\",\"greenpan ceramic nonstick fry pan 12 inch\",\"2024-07-01T00:00:00\"],[\"dcg\",\"guano de murci\\u00e9lago\",\"2024-07-01T00:00:00\"],[\"dcg\",\"handlebars\",\"2024-07-01T00:00:00\"],[\"dcg\",\"joyce meyer\",\"2024-07-01T00:00:00\"],[\"dcg\",\"level tools\",\"2024-07-01T00:00:00\"],[\"dcg\",\"long johns for men\",\"2024-07-01T00:00:00\"],[\"dcg\",\"mct oil capsules\",\"2024-07-01T00:00:00\"],[\"dcg\",\"nike air force 1 men\",\"2024-07-01T00:00:00\"],[\"dcg\",\"nipple clamps\",\"2024-07-01T00:00:00\"],[\"dcg\",\"patinete ni\\u00f1o 9 a\\u00f1os\",\"2024-07-01T00:00:00\"],[\"dcg\",\"replacement brush heads sonicare\",\"2024-07-01T00:00:00\"],[\"dcg\",\"shoot rubber bullets\",\"2024-07-01T00:00:00\"],[\"dcg\",\"solar pool covers for inground pools\",\"2024-07-01T00:00:00\"],[\"dcg\",\"toyota white touch up\",\"2024-07-01T00:00:00\"],[\"dcg\",\"\\u30d6\\u30eb\\u30fc\\u30c8\\u30a5\\u30fc\\u30b9\\u30a4\\u30e4\\u30db\\u30f3\",\"2024-07-01T00:00:00\"]],\"hovertemplate\":\"metric=%{customdata[0]}\\u003cbr\\u003esearch_config=%{x}\\u003cbr\\u003evalue=%{y}\\u003cbr\\u003equery=%{customdata[1]}\\u003cbr\\u003edatetime=%{customdata[2]}\\u003cextra\\u003e\\u003c\\u002fextra\\u003e\",\"legendgroup\":\"dcg\",\"marker\":{\"color\":\"#636efa\"},\"name\":\"dcg\",\"offsetgroup\":\"dcg\",\"orientation\":\"v\",\"points\":\"all\",\"scalegroup\":\"True\",\"showlegend\":true,\"x\":[\"research_1\",\"research_1\",\"research_1\",\"research_1\",\"research_1\",\"research_1\",\"research_1\",\"research_1\",\"research_1\",\"research_1\",\"research_1\",\"research_1\",\"research_1\",\"research_1\",\"research_1\",\"research_1\",\"research_1\",\"research_1\",\"research_1\",\"research_1\",\"research_1\",\"research_1\",\"research_1\",\"research_1\",\"research_1\",\"research_1\",\"research_1\",\"research_1\",\"research_1\",\"research_1\",\"research_1\",\"research_1\",\"research_1\",\"research_1\",\"research_1\",\"research_1\",\"research_1\",\"research_1\",\"research_1\",\"research_1\",\"research_1\",\"research_1\",\"research_1\",\"research_1\",\"research_1\",\"research_1\",\"research_1\",\"research_1\",\"research_1\",\"research_1\",\"research_1\",\"research_1\",\"research_1\",\"research_1\",\"research_1\",\"research_1\",\"research_1\",\"research_1\",\"research_1\",\"research_1\",\"research_1\",\"research_1\",\"research_1\",\"research_1\",\"research_1\",\"research_1\",\"research_1\",\"research_1\",\"research_1\",\"research_1\",\"research_1\",\"research_1\",\"research_1\",\"research_1\",\"research_1\",\"research_1\",\"research_1\",\"research_1\",\"research_1\",\"research_1\",\"research_1\",\"research_1\",\"research_1\",\"research_1\",\"research_1\",\"research_1\",\"research_1\",\"research_1\",\"research_1\",\"research_1\",\"research_1\",\"research_1\",\"research_1\",\"research_1\",\"research_1\",\"research_1\",\"research_1\",\"research_1\",\"research_1\",\"research_1\",\"research_1\",\"research_1\",\"research_1\",\"research_1\",\"research_1\",\"research_1\",\"research_1\",\"research_1\",\"research_1\",\"research_1\",\"research_1\",\"research_1\",\"research_1\",\"research_1\",\"research_1\",\"research_1\",\"research_1\",\"research_1\",\"research_1\",\"research_1\",\"research_1\",\"research_1\",\"research_1\",\"research_1\",\"research_1\",\"research_1\",\"research_1\",\"research_1\",\"research_1\",\"research_1\",\"research_1\",\"research_1\",\"research_1\",\"research_1\",\"research_1\",\"research_1\",\"research_1\",\"research_1\",\"research_1\",\"research_1\",\"research_2\",\"research_2\",\"research_2\",\"research_2\",\"research_2\",\"research_2\",\"research_2\",\"research_2\",\"research_2\",\"research_2\",\"research_2\",\"research_2\",\"research_2\",\"research_2\",\"research_2\",\"research_2\",\"research_2\",\"research_2\",\"research_2\",\"research_2\",\"research_2\",\"research_2\",\"research_2\",\"research_2\",\"research_2\",\"research_2\",\"research_2\",\"research_2\",\"research_2\",\"research_2\",\"research_2\",\"research_2\",\"research_2\",\"research_2\",\"research_2\",\"research_2\",\"research_2\",\"research_2\",\"research_2\",\"research_2\",\"research_2\",\"research_2\",\"research_2\",\"research_2\",\"research_2\",\"research_2\",\"research_2\",\"research_2\",\"research_2\",\"research_2\",\"research_2\",\"research_2\",\"research_2\",\"research_2\",\"research_2\",\"research_2\",\"research_2\",\"research_2\",\"research_2\",\"research_2\",\"research_2\",\"research_2\",\"research_2\",\"research_2\",\"research_2\",\"research_2\",\"research_2\",\"research_2\",\"research_2\",\"research_2\",\"research_2\",\"research_2\",\"research_2\",\"research_2\",\"research_2\",\"research_2\",\"research_2\",\"research_2\",\"research_2\",\"research_2\",\"research_2\",\"research_2\",\"research_2\",\"research_2\",\"research_2\",\"research_2\",\"research_2\",\"research_2\",\"research_2\",\"research_2\",\"research_2\",\"research_2\",\"research_2\",\"research_2\",\"research_2\",\"research_2\",\"research_2\",\"research_2\",\"research_2\",\"research_2\",\"research_2\",\"research_2\",\"research_2\",\"research_2\",\"research_2\",\"research_2\",\"research_2\",\"research_2\",\"research_2\",\"research_2\",\"research_2\",\"research_2\",\"research_2\",\"research_2\",\"research_2\",\"research_2\",\"research_2\",\"research_2\",\"research_2\",\"research_2\",\"research_2\",\"research_2\",\"research_2\",\"research_2\",\"research_2\",\"research_2\",\"research_2\",\"research_2\",\"research_2\",\"research_2\",\"research_2\",\"research_2\",\"research_2\",\"research_2\",\"research_2\",\"research_2\",\"research_2\",\"research_2\",\"research_2\",\"research_2\",\"challenger_1\",\"challenger_1\",\"challenger_1\",\"challenger_1\",\"challenger_1\",\"challenger_1\",\"challenger_1\",\"challenger_1\",\"challenger_1\",\"challenger_1\",\"challenger_1\",\"challenger_1\",\"challenger_1\",\"challenger_1\",\"challenger_1\",\"challenger_1\",\"challenger_1\",\"challenger_1\",\"challenger_1\",\"challenger_1\",\"challenger_1\",\"challenger_1\",\"challenger_1\",\"challenger_1\",\"challenger_1\",\"challenger_1\",\"challenger_1\",\"challenger_1\",\"challenger_1\",\"challenger_1\",\"challenger_1\",\"challenger_1\",\"challenger_1\",\"challenger_1\",\"challenger_1\",\"challenger_1\",\"challenger_1\",\"challenger_1\",\"challenger_1\",\"challenger_1\",\"challenger_1\",\"challenger_1\",\"challenger_1\",\"challenger_1\",\"challenger_1\",\"challenger_1\",\"challenger_1\",\"challenger_1\",\"challenger_1\",\"challenger_1\",\"challenger_1\",\"challenger_1\",\"challenger_1\",\"challenger_1\",\"challenger_1\",\"challenger_1\",\"challenger_1\",\"challenger_1\",\"challenger_1\",\"challenger_1\",\"challenger_1\",\"challenger_1\",\"challenger_1\",\"challenger_1\",\"challenger_1\",\"challenger_1\",\"challenger_1\",\"challenger_1\",\"challenger_1\",\"challenger_1\",\"challenger_1\",\"challenger_1\",\"challenger_1\",\"challenger_1\",\"challenger_1\",\"challenger_1\",\"challenger_1\",\"challenger_1\",\"challenger_1\",\"challenger_1\",\"challenger_1\",\"challenger_1\",\"challenger_1\",\"challenger_1\",\"challenger_1\",\"challenger_1\",\"challenger_1\",\"challenger_1\",\"challenger_1\",\"challenger_1\",\"challenger_1\",\"challenger_1\",\"challenger_1\",\"challenger_1\",\"challenger_1\",\"challenger_1\",\"challenger_1\",\"challenger_1\",\"challenger_1\",\"challenger_1\",\"challenger_1\",\"challenger_1\",\"challenger_1\",\"challenger_1\",\"challenger_1\",\"challenger_1\",\"challenger_1\",\"challenger_1\",\"challenger_1\",\"challenger_1\",\"challenger_1\",\"challenger_1\",\"challenger_1\",\"challenger_1\",\"challenger_1\",\"challenger_1\",\"challenger_1\",\"challenger_1\",\"challenger_1\",\"challenger_1\",\"challenger_1\",\"challenger_1\",\"challenger_1\",\"challenger_1\",\"challenger_1\",\"challenger_1\",\"challenger_1\",\"challenger_1\",\"challenger_1\",\"challenger_1\",\"challenger_1\",\"challenger_1\",\"challenger_1\",\"challenger_1\",\"challenger_1\",\"challenger_1\",\"challenger_1\",\"challenger_1\",\"challenger_1\",\"challenger_1\"],\"x0\":\" \",\"xaxis\":\"x\",\"y\":[0.006955550056718884,2.5616063116448506,0.0,1.0,0.0,1.6309297535714575,0.7027032161077507,2.1309297535714578,0.0,1.0,1.6309297535714575,1.0,2.1309297535714578,1.6309297535714575,1.6309297535714575,1.0452840130309937,0.0,1.0,2.6254725683755167,1.6309297535714575,0.07177346253629313,2.161840901377598,0.0,1.0,0.0,1.6309297535714575,0.7027032161077507,2.1309297535714578,0.0,1.0,1.6309297535714575,1.0,1.666816484839604,1.6309297535714575,1.6309297535714575,1.6309297535714575,0.0,1.0,3.0252379786427697,1.0452840130309937,0.07177346253629313,2.5616063116448506,0.0,1.0,0.0,1.6309297535714575,0.6378853036281764,2.1309297535714578,0.0,1.0,1.6309297535714575,1.0,2.1309297535714578,1.6309297535714575,1.6309297535714575,1.6309297535714575,0.0,1.0,3.5943774743390433,1.6309297535714575,0.07177346253629313,2.161840901377598,0.0,1.0,0.0,1.6309297535714575,0.7027032161077507,1.2027032161077507,0.0,1.0,1.6309297535714575,1.0,1.5452840130309937,1.6309297535714575,1.6309297535714575,1.6309297535714575,0.0,1.0,3.0252379786427697,1.6309297535714575,0.07177346253629313,2.5616063116448506,0.0,1.0,0.0,1.6309297535714575,0.7027032161077507,2.1309297535714578,0.0,1.0,1.6309297535714575,1.0,2.1309297535714578,1.6309297535714575,1.6309297535714575,1.6309297535714575,0.0,1.0,2.9604200661631954,0.7027032161077507,0.07177346253629313,1.9759605711043868,0.0,1.0,0.0,0.7027032161077507,0.1170574755672868,2.1309297535714578,0.0,1.0,1.6309297535714575,1.0,2.1309297535714578,1.6309297535714575,1.6309297535714575,1.6309297535714575,0.0,1.0,3.0252379786427697,1.6309297535714575,0.07177346253629313,1.9759605711043868,0.0,1.0,0.0,1.6309297535714575,0.7027032161077507,2.1309297535714578,0.0,1.0,1.6309297535714575,1.0,2.1309297535714578,1.6309297535714575,1.6309297535714575,0.7027032161077507,0.0,1.0,2.6254725683755167,1.6309297535714575,0.07616192601953271,5.581923967465912,1.576393327675897,2.1309297535714578,3.6379996393207477,3.8954074700030246,3.884994547246973,3.0070698857492903,2.3628133783389282,2.5616063116448506,2.5616063116448506,1.6309297535714575,2.9484591188793923,2.5429566170174365,2.161840901377598,4.5635800391478,2.3628133783389282,0.6378853036281764,3.811128426520891,3.6379996393207477,0.1170574755672868,5.18215855719866,1.576393327675897,2.1309297535714578,3.6379996393207477,3.151870170723279,3.884994547246973,3.0070698857492903,2.9484591188793923,2.5616063116448506,2.5616063116448506,1.6309297535714575,2.9484591188793923,3.0070698857492903,1.6333797741811438,4.8225022837394755,2.9484591188793923,0.6378853036281764,3.5317043959729992,3.6379996393207477,0.1170574755672868,5.222836925698479,1.576393327675897,2.1309297535714578,3.238234229053495,3.8954074700030246,3.8355611964323444,2.0788433482855835,2.9484591188793923,2.5616063116448506,2.5616063116448506,1.6309297535714575,2.9484591188793923,3.0070698857492903,2.097493042912997,4.8225022837394755,2.9484591188793923,0.6378853036281764,3.5317043959729992,3.6379996393207477,0.1170574755672868,4.938360288724633,1.579388920033832,2.1309297535714578,3.6379996393207477,3.8954074700030246,3.6549644352576403,2.2123156531084707,2.9484591188793923,1.6333797741811438,2.5616063116448506,0.7027032161077507,2.3628133783389282,3.0070698857492903,2.5616063116448506,4.5296794134692435,2.9484591188793923,0.7027032161077507,3.2222955501517636,3.6379996393207477,0.1170574755672868,5.272515121644677,0.7531930171766102,1.666816484839604,3.2789125975533144,3.4312942012711707,3.884994547246973,3.0070698857492903,2.9484591188793923,2.5616063116448506,2.5616063116448506,1.6309297535714575,2.9484591188793923,2.676428921840324,2.5616063116448506,4.8225022837394755,2.589372077111959,0.6378853036281764,3.5317043959729992,3.2789125975533144,0.1170574755672868,5.2891010971956804,1.576393327675897,2.1309297535714578,3.6379996393207477,3.3097617294625605,4.769189574436432,3.0070698857492903,2.9484591188793923,2.5616063116448506,2.5616063116448506,1.0452840130309937,2.9484591188793923,2.0788433482855835,2.5616063116448506,4.090071372172021,1.6204671711484326,0.6378853036281764,3.1319389857057462,3.6379996393207477,0.1170574755672868,4.979692251374445,1.2527079138236499,2.1309297535714578,3.6379996393207477,3.8954074700030246,3.8201766347673987,3.0070698857492903,2.9484591188793923,2.5616063116448506,2.5616063116448506,1.6309297535714575,2.9484591188793923,2.6073044754820374,2.5616063116448506,4.182452474009274,2.0202325814156854,0.6378853036281764,3.5317043959729992,3.328590793499512,0.2202162812720815,6.41341184605724,2.5616063116448506,3.9211611784371243,3.644055670285241,3.9238535478614915,1.9725329825299098,2.304666305987414,2.161840901377598,2.9484591188793923,2.5616063116448506,2.7429450529590484,3.2203657725058905,3.9534645161064765,3.8954074700030246,4.9307895910909245,1.6309297535714575,1.9274598228748938,4.907838202346493,2.1309297535714578,0.2380232245412725,5.827766105516776,2.5616063116448506,2.9929346409734174,3.644055670285241,3.975070481222566,1.9675880373422818,2.304666305987414,2.5616063116448506,2.9484591188793923,2.5616063116448506,3.6379996393207477,3.620131182773143,3.9534645161064765,3.326267974306751,6.105998540132031,1.6309297535714575,1.9274598228748938,4.856352206172625,2.1309297535714578,0.2360368394180295,6.41341184605724,2.5616063116448506,3.9211611784371243,3.9534645161064765,4.254494511770458,1.965577432473191,1.9740253420784484,2.5616063116448506,2.9484591188793923,2.5616063116448506,3.2789125975533144,3.620131182773143,3.9534645161064765,3.945085665949222,6.105998540132031,1.6309297535714575,1.9274598228748938,5.149175076442857,2.1309297535714578,0.6608772410870883,6.41341184605724,1.04773403364068,3.9211611784371243,3.9534645161064765,4.254494511770458,1.6561685866519555,2.304666305987414,2.5616063116448506,2.589372077111959,2.5616063116448506,3.238234229053495,3.620131182773143,3.9534645161064765,4.254494511770458,5.454088628094365,1.6309297535714575,1.992277735354468,5.149175076442857,2.1309297535714578,0.2380232245412725,6.41341184605724,2.097493042912997,3.562074136669691,3.9534645161064765,4.254494511770458,1.965577432473191,2.304666305987414,2.5616063116448506,2.9484591188793923,2.5616063116448506,3.6379996393207477,3.620131182773143,3.9534645161064765,4.254494511770458,6.105998540132031,1.0452840130309937,1.9274598228748938,5.417492719278458,2.1309297535714578,0.2611118308198356,5.123780510454317,2.5616063116448506,3.562074136669691,3.9534645161064765,3.326267974306751,1.9474969330351812,2.304666305987414,2.5616063116448506,2.9484591188793923,2.5616063116448506,3.6379996393207477,3.620131182773143,3.6606416458362445,4.254494511770458,5.391043045025524,1.6309297535714575,1.9274598228748938,5.149175076442857,2.1309297535714578,1.0843121413191226,6.41341184605724,2.5616063116448506,3.9211611784371243,3.5943774743390433,4.254494511770458,2.2031644635784557,2.304666305987414,1.9759605711043868,2.9484591188793923,2.161840901377598,3.6379996393207477,3.620131182773143,3.0252379786427697,3.8954074700030246,5.636354874660839,1.6309297535714575,1.9274598228748938,4.926574780959689,2.1309297535714578],\"y0\":\" \",\"yaxis\":\"y\",\"type\":\"violin\"}],                        {\"template\":{\"data\":{\"histogram2dcontour\":[{\"type\":\"histogram2dcontour\",\"colorbar\":{\"outlinewidth\":0,\"ticks\":\"\"},\"colorscale\":[[0.0,\"#0d0887\"],[0.1111111111111111,\"#46039f\"],[0.2222222222222222,\"#7201a8\"],[0.3333333333333333,\"#9c179e\"],[0.4444444444444444,\"#bd3786\"],[0.5555555555555556,\"#d8576b\"],[0.6666666666666666,\"#ed7953\"],[0.7777777777777778,\"#fb9f3a\"],[0.8888888888888888,\"#fdca26\"],[1.0,\"#f0f921\"]]}],\"choropleth\":[{\"type\":\"choropleth\",\"colorbar\":{\"outlinewidth\":0,\"ticks\":\"\"}}],\"histogram2d\":[{\"type\":\"histogram2d\",\"colorbar\":{\"outlinewidth\":0,\"ticks\":\"\"},\"colorscale\":[[0.0,\"#0d0887\"],[0.1111111111111111,\"#46039f\"],[0.2222222222222222,\"#7201a8\"],[0.3333333333333333,\"#9c179e\"],[0.4444444444444444,\"#bd3786\"],[0.5555555555555556,\"#d8576b\"],[0.6666666666666666,\"#ed7953\"],[0.7777777777777778,\"#fb9f3a\"],[0.8888888888888888,\"#fdca26\"],[1.0,\"#f0f921\"]]}],\"heatmap\":[{\"type\":\"heatmap\",\"colorbar\":{\"outlinewidth\":0,\"ticks\":\"\"},\"colorscale\":[[0.0,\"#0d0887\"],[0.1111111111111111,\"#46039f\"],[0.2222222222222222,\"#7201a8\"],[0.3333333333333333,\"#9c179e\"],[0.4444444444444444,\"#bd3786\"],[0.5555555555555556,\"#d8576b\"],[0.6666666666666666,\"#ed7953\"],[0.7777777777777778,\"#fb9f3a\"],[0.8888888888888888,\"#fdca26\"],[1.0,\"#f0f921\"]]}],\"heatmapgl\":[{\"type\":\"heatmapgl\",\"colorbar\":{\"outlinewidth\":0,\"ticks\":\"\"},\"colorscale\":[[0.0,\"#0d0887\"],[0.1111111111111111,\"#46039f\"],[0.2222222222222222,\"#7201a8\"],[0.3333333333333333,\"#9c179e\"],[0.4444444444444444,\"#bd3786\"],[0.5555555555555556,\"#d8576b\"],[0.6666666666666666,\"#ed7953\"],[0.7777777777777778,\"#fb9f3a\"],[0.8888888888888888,\"#fdca26\"],[1.0,\"#f0f921\"]]}],\"contourcarpet\":[{\"type\":\"contourcarpet\",\"colorbar\":{\"outlinewidth\":0,\"ticks\":\"\"}}],\"contour\":[{\"type\":\"contour\",\"colorbar\":{\"outlinewidth\":0,\"ticks\":\"\"},\"colorscale\":[[0.0,\"#0d0887\"],[0.1111111111111111,\"#46039f\"],[0.2222222222222222,\"#7201a8\"],[0.3333333333333333,\"#9c179e\"],[0.4444444444444444,\"#bd3786\"],[0.5555555555555556,\"#d8576b\"],[0.6666666666666666,\"#ed7953\"],[0.7777777777777778,\"#fb9f3a\"],[0.8888888888888888,\"#fdca26\"],[1.0,\"#f0f921\"]]}],\"surface\":[{\"type\":\"surface\",\"colorbar\":{\"outlinewidth\":0,\"ticks\":\"\"},\"colorscale\":[[0.0,\"#0d0887\"],[0.1111111111111111,\"#46039f\"],[0.2222222222222222,\"#7201a8\"],[0.3333333333333333,\"#9c179e\"],[0.4444444444444444,\"#bd3786\"],[0.5555555555555556,\"#d8576b\"],[0.6666666666666666,\"#ed7953\"],[0.7777777777777778,\"#fb9f3a\"],[0.8888888888888888,\"#fdca26\"],[1.0,\"#f0f921\"]]}],\"mesh3d\":[{\"type\":\"mesh3d\",\"colorbar\":{\"outlinewidth\":0,\"ticks\":\"\"}}],\"scatter\":[{\"fillpattern\":{\"fillmode\":\"overlay\",\"size\":10,\"solidity\":0.2},\"type\":\"scatter\"}],\"parcoords\":[{\"type\":\"parcoords\",\"line\":{\"colorbar\":{\"outlinewidth\":0,\"ticks\":\"\"}}}],\"scatterpolargl\":[{\"type\":\"scatterpolargl\",\"marker\":{\"colorbar\":{\"outlinewidth\":0,\"ticks\":\"\"}}}],\"bar\":[{\"error_x\":{\"color\":\"#2a3f5f\"},\"error_y\":{\"color\":\"#2a3f5f\"},\"marker\":{\"line\":{\"color\":\"#E5ECF6\",\"width\":0.5},\"pattern\":{\"fillmode\":\"overlay\",\"size\":10,\"solidity\":0.2}},\"type\":\"bar\"}],\"scattergeo\":[{\"type\":\"scattergeo\",\"marker\":{\"colorbar\":{\"outlinewidth\":0,\"ticks\":\"\"}}}],\"scatterpolar\":[{\"type\":\"scatterpolar\",\"marker\":{\"colorbar\":{\"outlinewidth\":0,\"ticks\":\"\"}}}],\"histogram\":[{\"marker\":{\"pattern\":{\"fillmode\":\"overlay\",\"size\":10,\"solidity\":0.2}},\"type\":\"histogram\"}],\"scattergl\":[{\"type\":\"scattergl\",\"marker\":{\"colorbar\":{\"outlinewidth\":0,\"ticks\":\"\"}}}],\"scatter3d\":[{\"type\":\"scatter3d\",\"line\":{\"colorbar\":{\"outlinewidth\":0,\"ticks\":\"\"}},\"marker\":{\"colorbar\":{\"outlinewidth\":0,\"ticks\":\"\"}}}],\"scattermapbox\":[{\"type\":\"scattermapbox\",\"marker\":{\"colorbar\":{\"outlinewidth\":0,\"ticks\":\"\"}}}],\"scatterternary\":[{\"type\":\"scatterternary\",\"marker\":{\"colorbar\":{\"outlinewidth\":0,\"ticks\":\"\"}}}],\"scattercarpet\":[{\"type\":\"scattercarpet\",\"marker\":{\"colorbar\":{\"outlinewidth\":0,\"ticks\":\"\"}}}],\"carpet\":[{\"aaxis\":{\"endlinecolor\":\"#2a3f5f\",\"gridcolor\":\"white\",\"linecolor\":\"white\",\"minorgridcolor\":\"white\",\"startlinecolor\":\"#2a3f5f\"},\"baxis\":{\"endlinecolor\":\"#2a3f5f\",\"gridcolor\":\"white\",\"linecolor\":\"white\",\"minorgridcolor\":\"white\",\"startlinecolor\":\"#2a3f5f\"},\"type\":\"carpet\"}],\"table\":[{\"cells\":{\"fill\":{\"color\":\"#EBF0F8\"},\"line\":{\"color\":\"white\"}},\"header\":{\"fill\":{\"color\":\"#C8D4E3\"},\"line\":{\"color\":\"white\"}},\"type\":\"table\"}],\"barpolar\":[{\"marker\":{\"line\":{\"color\":\"#E5ECF6\",\"width\":0.5},\"pattern\":{\"fillmode\":\"overlay\",\"size\":10,\"solidity\":0.2}},\"type\":\"barpolar\"}],\"pie\":[{\"automargin\":true,\"type\":\"pie\"}]},\"layout\":{\"autotypenumbers\":\"strict\",\"colorway\":[\"#636efa\",\"#EF553B\",\"#00cc96\",\"#ab63fa\",\"#FFA15A\",\"#19d3f3\",\"#FF6692\",\"#B6E880\",\"#FF97FF\",\"#FECB52\"],\"font\":{\"color\":\"#2a3f5f\"},\"hovermode\":\"closest\",\"hoverlabel\":{\"align\":\"left\"},\"paper_bgcolor\":\"white\",\"plot_bgcolor\":\"#E5ECF6\",\"polar\":{\"bgcolor\":\"#E5ECF6\",\"angularaxis\":{\"gridcolor\":\"white\",\"linecolor\":\"white\",\"ticks\":\"\"},\"radialaxis\":{\"gridcolor\":\"white\",\"linecolor\":\"white\",\"ticks\":\"\"}},\"ternary\":{\"bgcolor\":\"#E5ECF6\",\"aaxis\":{\"gridcolor\":\"white\",\"linecolor\":\"white\",\"ticks\":\"\"},\"baxis\":{\"gridcolor\":\"white\",\"linecolor\":\"white\",\"ticks\":\"\"},\"caxis\":{\"gridcolor\":\"white\",\"linecolor\":\"white\",\"ticks\":\"\"}},\"coloraxis\":{\"colorbar\":{\"outlinewidth\":0,\"ticks\":\"\"}},\"colorscale\":{\"sequential\":[[0.0,\"#0d0887\"],[0.1111111111111111,\"#46039f\"],[0.2222222222222222,\"#7201a8\"],[0.3333333333333333,\"#9c179e\"],[0.4444444444444444,\"#bd3786\"],[0.5555555555555556,\"#d8576b\"],[0.6666666666666666,\"#ed7953\"],[0.7777777777777778,\"#fb9f3a\"],[0.8888888888888888,\"#fdca26\"],[1.0,\"#f0f921\"]],\"sequentialminus\":[[0.0,\"#0d0887\"],[0.1111111111111111,\"#46039f\"],[0.2222222222222222,\"#7201a8\"],[0.3333333333333333,\"#9c179e\"],[0.4444444444444444,\"#bd3786\"],[0.5555555555555556,\"#d8576b\"],[0.6666666666666666,\"#ed7953\"],[0.7777777777777778,\"#fb9f3a\"],[0.8888888888888888,\"#fdca26\"],[1.0,\"#f0f921\"]],\"diverging\":[[0,\"#8e0152\"],[0.1,\"#c51b7d\"],[0.2,\"#de77ae\"],[0.3,\"#f1b6da\"],[0.4,\"#fde0ef\"],[0.5,\"#f7f7f7\"],[0.6,\"#e6f5d0\"],[0.7,\"#b8e186\"],[0.8,\"#7fbc41\"],[0.9,\"#4d9221\"],[1,\"#276419\"]]},\"xaxis\":{\"gridcolor\":\"white\",\"linecolor\":\"white\",\"ticks\":\"\",\"title\":{\"standoff\":15},\"zerolinecolor\":\"white\",\"automargin\":true,\"zerolinewidth\":2},\"yaxis\":{\"gridcolor\":\"white\",\"linecolor\":\"white\",\"ticks\":\"\",\"title\":{\"standoff\":15},\"zerolinecolor\":\"white\",\"automargin\":true,\"zerolinewidth\":2},\"scene\":{\"xaxis\":{\"backgroundcolor\":\"#E5ECF6\",\"gridcolor\":\"white\",\"linecolor\":\"white\",\"showbackground\":true,\"ticks\":\"\",\"zerolinecolor\":\"white\",\"gridwidth\":2},\"yaxis\":{\"backgroundcolor\":\"#E5ECF6\",\"gridcolor\":\"white\",\"linecolor\":\"white\",\"showbackground\":true,\"ticks\":\"\",\"zerolinecolor\":\"white\",\"gridwidth\":2},\"zaxis\":{\"backgroundcolor\":\"#E5ECF6\",\"gridcolor\":\"white\",\"linecolor\":\"white\",\"showbackground\":true,\"ticks\":\"\",\"zerolinecolor\":\"white\",\"gridwidth\":2}},\"shapedefaults\":{\"line\":{\"color\":\"#2a3f5f\"}},\"annotationdefaults\":{\"arrowcolor\":\"#2a3f5f\",\"arrowhead\":0,\"arrowwidth\":1},\"geo\":{\"bgcolor\":\"white\",\"landcolor\":\"#E5ECF6\",\"subunitcolor\":\"white\",\"showland\":true,\"showlakes\":true,\"lakecolor\":\"white\"},\"title\":{\"x\":0.05},\"mapbox\":{\"style\":\"light\"}}},\"xaxis\":{\"anchor\":\"y\",\"domain\":[0.0,1.0],\"title\":{\"text\":\"search_config\"}},\"yaxis\":{\"anchor\":\"x\",\"domain\":[0.0,1.0],\"title\":{\"text\":\"value\"}},\"legend\":{\"title\":{\"text\":\"metric\"},\"tracegroupgap\":0},\"margin\":{\"t\":60},\"violinmode\":\"group\"},                        {\"responsive\": true}                    ).then(function(){\n",
       "                            \n",
       "var gd = document.getElementById('1bcf7b22-e52e-477b-b822-0d3edef1eb4a');\n",
       "var x = new MutationObserver(function (mutations, observer) {{\n",
       "        var display = window.getComputedStyle(gd).display;\n",
       "        if (!display || display === 'none') {{\n",
       "            console.log([gd, 'removed!']);\n",
       "            Plotly.purge(gd);\n",
       "            observer.disconnect();\n",
       "        }}\n",
       "}});\n",
       "\n",
       "// Listen for the removal of the full notebook cells\n",
       "var notebookContainer = gd.closest('#notebook-container');\n",
       "if (notebookContainer) {{\n",
       "    x.observe(notebookContainer, {childList: true});\n",
       "}}\n",
       "\n",
       "// Listen for the clearing of the current output cell\n",
       "var outputEl = gd.closest('.output');\n",
       "if (outputEl) {{\n",
       "    x.observe(outputEl, {childList: true});\n",
       "}}\n",
       "\n",
       "                        })                };                });            </script>        </div>"
      ]
     },
     "metadata": {},
     "output_type": "display_data"
    }
   ],
   "source": [
    "sel = df_metrics.search_config.isin([\"research_1\", \"research_2\", \"challenger_1\"])\n",
    "sel = sel & (df_metrics.metric.isin([\"dcg\"]))\n",
    "df = df_metrics[sel]\n",
    "df = df[[\"value\", \"metric\", \"search_config\", \"query\", \"datetime\"]]\n",
    "\n",
    "fig = px.violin(df, y=\"value\", x=\"search_config\", points=\"all\", color=\"metric\", hover_data=df.columns)\n",
    "fig"
   ]
  },
  {
   "cell_type": "markdown",
   "id": "2e2ec0e2",
   "metadata": {},
   "source": [
    "## Comparing two search configurations"
   ]
  },
  {
   "cell_type": "code",
   "execution_count": 293,
   "id": "30e19176",
   "metadata": {},
   "outputs": [
    {
     "data": {
      "application/vnd.plotly.v1+json": {
       "config": {
        "plotlyServerURL": "https://plot.ly"
       },
       "data": [
        {
         "alignmentgroup": "True",
         "box": {
          "visible": false
         },
         "customdata": [
          [
           "dcg",
           "3d tree wall owl",
           "2024-06-25T00:00:00"
          ],
          [
           "dcg",
           "classic black dresses for women",
           "2024-06-25T00:00:00"
          ],
          [
           "dcg",
           "cuadro para oficina",
           "2024-06-25T00:00:00"
          ],
          [
           "dcg",
           "cute vans for women",
           "2024-06-25T00:00:00"
          ],
          [
           "dcg",
           "diabetic massager",
           "2024-06-25T00:00:00"
          ],
          [
           "dcg",
           "greenpan ceramic nonstick fry pan 12 inch",
           "2024-06-25T00:00:00"
          ],
          [
           "dcg",
           "guano de murciélago",
           "2024-06-25T00:00:00"
          ],
          [
           "dcg",
           "handlebars",
           "2024-06-25T00:00:00"
          ],
          [
           "dcg",
           "joyce meyer",
           "2024-06-25T00:00:00"
          ],
          [
           "dcg",
           "level tools",
           "2024-06-25T00:00:00"
          ],
          [
           "dcg",
           "long johns for men",
           "2024-06-25T00:00:00"
          ],
          [
           "dcg",
           "mct oil capsules",
           "2024-06-25T00:00:00"
          ],
          [
           "dcg",
           "nike air force 1 men",
           "2024-06-25T00:00:00"
          ],
          [
           "dcg",
           "nipple clamps",
           "2024-06-25T00:00:00"
          ],
          [
           "dcg",
           "patinete niño 9 años",
           "2024-06-25T00:00:00"
          ],
          [
           "dcg",
           "replacement brush heads sonicare",
           "2024-06-25T00:00:00"
          ],
          [
           "dcg",
           "shoot rubber bullets",
           "2024-06-25T00:00:00"
          ],
          [
           "dcg",
           "solar pool covers for inground pools",
           "2024-06-25T00:00:00"
          ],
          [
           "dcg",
           "toyota white touch up",
           "2024-06-25T00:00:00"
          ],
          [
           "dcg",
           "ブルートゥースイヤホン",
           "2024-06-25T00:00:00"
          ],
          [
           "dcg",
           "3d tree wall owl",
           "2024-06-26T00:00:00"
          ],
          [
           "dcg",
           "classic black dresses for women",
           "2024-06-26T00:00:00"
          ],
          [
           "dcg",
           "cuadro para oficina",
           "2024-06-26T00:00:00"
          ],
          [
           "dcg",
           "cute vans for women",
           "2024-06-26T00:00:00"
          ],
          [
           "dcg",
           "diabetic massager",
           "2024-06-26T00:00:00"
          ],
          [
           "dcg",
           "greenpan ceramic nonstick fry pan 12 inch",
           "2024-06-26T00:00:00"
          ],
          [
           "dcg",
           "guano de murciélago",
           "2024-06-26T00:00:00"
          ],
          [
           "dcg",
           "handlebars",
           "2024-06-26T00:00:00"
          ],
          [
           "dcg",
           "joyce meyer",
           "2024-06-26T00:00:00"
          ],
          [
           "dcg",
           "level tools",
           "2024-06-26T00:00:00"
          ],
          [
           "dcg",
           "long johns for men",
           "2024-06-26T00:00:00"
          ],
          [
           "dcg",
           "mct oil capsules",
           "2024-06-26T00:00:00"
          ],
          [
           "dcg",
           "nike air force 1 men",
           "2024-06-26T00:00:00"
          ],
          [
           "dcg",
           "nipple clamps",
           "2024-06-26T00:00:00"
          ],
          [
           "dcg",
           "patinete niño 9 años",
           "2024-06-26T00:00:00"
          ],
          [
           "dcg",
           "replacement brush heads sonicare",
           "2024-06-26T00:00:00"
          ],
          [
           "dcg",
           "shoot rubber bullets",
           "2024-06-26T00:00:00"
          ],
          [
           "dcg",
           "solar pool covers for inground pools",
           "2024-06-26T00:00:00"
          ],
          [
           "dcg",
           "toyota white touch up",
           "2024-06-26T00:00:00"
          ],
          [
           "dcg",
           "ブルートゥースイヤホン",
           "2024-06-26T00:00:00"
          ],
          [
           "dcg",
           "3d tree wall owl",
           "2024-06-27T00:00:00"
          ],
          [
           "dcg",
           "classic black dresses for women",
           "2024-06-27T00:00:00"
          ],
          [
           "dcg",
           "cuadro para oficina",
           "2024-06-27T00:00:00"
          ],
          [
           "dcg",
           "cute vans for women",
           "2024-06-27T00:00:00"
          ],
          [
           "dcg",
           "diabetic massager",
           "2024-06-27T00:00:00"
          ],
          [
           "dcg",
           "greenpan ceramic nonstick fry pan 12 inch",
           "2024-06-27T00:00:00"
          ],
          [
           "dcg",
           "guano de murciélago",
           "2024-06-27T00:00:00"
          ],
          [
           "dcg",
           "handlebars",
           "2024-06-27T00:00:00"
          ],
          [
           "dcg",
           "joyce meyer",
           "2024-06-27T00:00:00"
          ],
          [
           "dcg",
           "level tools",
           "2024-06-27T00:00:00"
          ],
          [
           "dcg",
           "long johns for men",
           "2024-06-27T00:00:00"
          ],
          [
           "dcg",
           "mct oil capsules",
           "2024-06-27T00:00:00"
          ],
          [
           "dcg",
           "nike air force 1 men",
           "2024-06-27T00:00:00"
          ],
          [
           "dcg",
           "nipple clamps",
           "2024-06-27T00:00:00"
          ],
          [
           "dcg",
           "patinete niño 9 años",
           "2024-06-27T00:00:00"
          ],
          [
           "dcg",
           "replacement brush heads sonicare",
           "2024-06-27T00:00:00"
          ],
          [
           "dcg",
           "shoot rubber bullets",
           "2024-06-27T00:00:00"
          ],
          [
           "dcg",
           "solar pool covers for inground pools",
           "2024-06-27T00:00:00"
          ],
          [
           "dcg",
           "toyota white touch up",
           "2024-06-27T00:00:00"
          ],
          [
           "dcg",
           "ブルートゥースイヤホン",
           "2024-06-27T00:00:00"
          ],
          [
           "dcg",
           "3d tree wall owl",
           "2024-06-28T00:00:00"
          ],
          [
           "dcg",
           "classic black dresses for women",
           "2024-06-28T00:00:00"
          ],
          [
           "dcg",
           "cuadro para oficina",
           "2024-06-28T00:00:00"
          ],
          [
           "dcg",
           "cute vans for women",
           "2024-06-28T00:00:00"
          ],
          [
           "dcg",
           "diabetic massager",
           "2024-06-28T00:00:00"
          ],
          [
           "dcg",
           "greenpan ceramic nonstick fry pan 12 inch",
           "2024-06-28T00:00:00"
          ],
          [
           "dcg",
           "guano de murciélago",
           "2024-06-28T00:00:00"
          ],
          [
           "dcg",
           "handlebars",
           "2024-06-28T00:00:00"
          ],
          [
           "dcg",
           "joyce meyer",
           "2024-06-28T00:00:00"
          ],
          [
           "dcg",
           "level tools",
           "2024-06-28T00:00:00"
          ],
          [
           "dcg",
           "long johns for men",
           "2024-06-28T00:00:00"
          ],
          [
           "dcg",
           "mct oil capsules",
           "2024-06-28T00:00:00"
          ],
          [
           "dcg",
           "nike air force 1 men",
           "2024-06-28T00:00:00"
          ],
          [
           "dcg",
           "nipple clamps",
           "2024-06-28T00:00:00"
          ],
          [
           "dcg",
           "patinete niño 9 años",
           "2024-06-28T00:00:00"
          ],
          [
           "dcg",
           "replacement brush heads sonicare",
           "2024-06-28T00:00:00"
          ],
          [
           "dcg",
           "shoot rubber bullets",
           "2024-06-28T00:00:00"
          ],
          [
           "dcg",
           "solar pool covers for inground pools",
           "2024-06-28T00:00:00"
          ],
          [
           "dcg",
           "toyota white touch up",
           "2024-06-28T00:00:00"
          ],
          [
           "dcg",
           "ブルートゥースイヤホン",
           "2024-06-28T00:00:00"
          ],
          [
           "dcg",
           "3d tree wall owl",
           "2024-06-29T00:00:00"
          ],
          [
           "dcg",
           "classic black dresses for women",
           "2024-06-29T00:00:00"
          ],
          [
           "dcg",
           "cuadro para oficina",
           "2024-06-29T00:00:00"
          ],
          [
           "dcg",
           "cute vans for women",
           "2024-06-29T00:00:00"
          ],
          [
           "dcg",
           "diabetic massager",
           "2024-06-29T00:00:00"
          ],
          [
           "dcg",
           "greenpan ceramic nonstick fry pan 12 inch",
           "2024-06-29T00:00:00"
          ],
          [
           "dcg",
           "guano de murciélago",
           "2024-06-29T00:00:00"
          ],
          [
           "dcg",
           "handlebars",
           "2024-06-29T00:00:00"
          ],
          [
           "dcg",
           "joyce meyer",
           "2024-06-29T00:00:00"
          ],
          [
           "dcg",
           "level tools",
           "2024-06-29T00:00:00"
          ],
          [
           "dcg",
           "long johns for men",
           "2024-06-29T00:00:00"
          ],
          [
           "dcg",
           "mct oil capsules",
           "2024-06-29T00:00:00"
          ],
          [
           "dcg",
           "nike air force 1 men",
           "2024-06-29T00:00:00"
          ],
          [
           "dcg",
           "nipple clamps",
           "2024-06-29T00:00:00"
          ],
          [
           "dcg",
           "patinete niño 9 años",
           "2024-06-29T00:00:00"
          ],
          [
           "dcg",
           "replacement brush heads sonicare",
           "2024-06-29T00:00:00"
          ],
          [
           "dcg",
           "shoot rubber bullets",
           "2024-06-29T00:00:00"
          ],
          [
           "dcg",
           "solar pool covers for inground pools",
           "2024-06-29T00:00:00"
          ],
          [
           "dcg",
           "toyota white touch up",
           "2024-06-29T00:00:00"
          ],
          [
           "dcg",
           "ブルートゥースイヤホン",
           "2024-06-29T00:00:00"
          ],
          [
           "dcg",
           "3d tree wall owl",
           "2024-06-30T00:00:00"
          ],
          [
           "dcg",
           "classic black dresses for women",
           "2024-06-30T00:00:00"
          ],
          [
           "dcg",
           "cuadro para oficina",
           "2024-06-30T00:00:00"
          ],
          [
           "dcg",
           "cute vans for women",
           "2024-06-30T00:00:00"
          ],
          [
           "dcg",
           "diabetic massager",
           "2024-06-30T00:00:00"
          ],
          [
           "dcg",
           "greenpan ceramic nonstick fry pan 12 inch",
           "2024-06-30T00:00:00"
          ],
          [
           "dcg",
           "guano de murciélago",
           "2024-06-30T00:00:00"
          ],
          [
           "dcg",
           "handlebars",
           "2024-06-30T00:00:00"
          ],
          [
           "dcg",
           "joyce meyer",
           "2024-06-30T00:00:00"
          ],
          [
           "dcg",
           "level tools",
           "2024-06-30T00:00:00"
          ],
          [
           "dcg",
           "long johns for men",
           "2024-06-30T00:00:00"
          ],
          [
           "dcg",
           "mct oil capsules",
           "2024-06-30T00:00:00"
          ],
          [
           "dcg",
           "nike air force 1 men",
           "2024-06-30T00:00:00"
          ],
          [
           "dcg",
           "nipple clamps",
           "2024-06-30T00:00:00"
          ],
          [
           "dcg",
           "patinete niño 9 años",
           "2024-06-30T00:00:00"
          ],
          [
           "dcg",
           "replacement brush heads sonicare",
           "2024-06-30T00:00:00"
          ],
          [
           "dcg",
           "shoot rubber bullets",
           "2024-06-30T00:00:00"
          ],
          [
           "dcg",
           "solar pool covers for inground pools",
           "2024-06-30T00:00:00"
          ],
          [
           "dcg",
           "toyota white touch up",
           "2024-06-30T00:00:00"
          ],
          [
           "dcg",
           "ブルートゥースイヤホン",
           "2024-06-30T00:00:00"
          ],
          [
           "dcg",
           "3d tree wall owl",
           "2024-07-01T00:00:00"
          ],
          [
           "dcg",
           "classic black dresses for women",
           "2024-07-01T00:00:00"
          ],
          [
           "dcg",
           "cuadro para oficina",
           "2024-07-01T00:00:00"
          ],
          [
           "dcg",
           "cute vans for women",
           "2024-07-01T00:00:00"
          ],
          [
           "dcg",
           "diabetic massager",
           "2024-07-01T00:00:00"
          ],
          [
           "dcg",
           "greenpan ceramic nonstick fry pan 12 inch",
           "2024-07-01T00:00:00"
          ],
          [
           "dcg",
           "guano de murciélago",
           "2024-07-01T00:00:00"
          ],
          [
           "dcg",
           "handlebars",
           "2024-07-01T00:00:00"
          ],
          [
           "dcg",
           "joyce meyer",
           "2024-07-01T00:00:00"
          ],
          [
           "dcg",
           "level tools",
           "2024-07-01T00:00:00"
          ],
          [
           "dcg",
           "long johns for men",
           "2024-07-01T00:00:00"
          ],
          [
           "dcg",
           "mct oil capsules",
           "2024-07-01T00:00:00"
          ],
          [
           "dcg",
           "nike air force 1 men",
           "2024-07-01T00:00:00"
          ],
          [
           "dcg",
           "nipple clamps",
           "2024-07-01T00:00:00"
          ],
          [
           "dcg",
           "patinete niño 9 años",
           "2024-07-01T00:00:00"
          ],
          [
           "dcg",
           "replacement brush heads sonicare",
           "2024-07-01T00:00:00"
          ],
          [
           "dcg",
           "shoot rubber bullets",
           "2024-07-01T00:00:00"
          ],
          [
           "dcg",
           "solar pool covers for inground pools",
           "2024-07-01T00:00:00"
          ],
          [
           "dcg",
           "toyota white touch up",
           "2024-07-01T00:00:00"
          ],
          [
           "dcg",
           "ブルートゥースイヤホン",
           "2024-07-01T00:00:00"
          ],
          [
           "dcg",
           "3d tree wall owl",
           "2024-06-25T00:00:00"
          ],
          [
           "dcg",
           "classic black dresses for women",
           "2024-06-25T00:00:00"
          ],
          [
           "dcg",
           "cuadro para oficina",
           "2024-06-25T00:00:00"
          ],
          [
           "dcg",
           "cute vans for women",
           "2024-06-25T00:00:00"
          ],
          [
           "dcg",
           "diabetic massager",
           "2024-06-25T00:00:00"
          ],
          [
           "dcg",
           "greenpan ceramic nonstick fry pan 12 inch",
           "2024-06-25T00:00:00"
          ],
          [
           "dcg",
           "guano de murciélago",
           "2024-06-25T00:00:00"
          ],
          [
           "dcg",
           "handlebars",
           "2024-06-25T00:00:00"
          ],
          [
           "dcg",
           "joyce meyer",
           "2024-06-25T00:00:00"
          ],
          [
           "dcg",
           "level tools",
           "2024-06-25T00:00:00"
          ],
          [
           "dcg",
           "long johns for men",
           "2024-06-25T00:00:00"
          ],
          [
           "dcg",
           "mct oil capsules",
           "2024-06-25T00:00:00"
          ],
          [
           "dcg",
           "nike air force 1 men",
           "2024-06-25T00:00:00"
          ],
          [
           "dcg",
           "nipple clamps",
           "2024-06-25T00:00:00"
          ],
          [
           "dcg",
           "patinete niño 9 años",
           "2024-06-25T00:00:00"
          ],
          [
           "dcg",
           "replacement brush heads sonicare",
           "2024-06-25T00:00:00"
          ],
          [
           "dcg",
           "shoot rubber bullets",
           "2024-06-25T00:00:00"
          ],
          [
           "dcg",
           "solar pool covers for inground pools",
           "2024-06-25T00:00:00"
          ],
          [
           "dcg",
           "toyota white touch up",
           "2024-06-25T00:00:00"
          ],
          [
           "dcg",
           "ブルートゥースイヤホン",
           "2024-06-25T00:00:00"
          ],
          [
           "dcg",
           "3d tree wall owl",
           "2024-06-26T00:00:00"
          ],
          [
           "dcg",
           "classic black dresses for women",
           "2024-06-26T00:00:00"
          ],
          [
           "dcg",
           "cuadro para oficina",
           "2024-06-26T00:00:00"
          ],
          [
           "dcg",
           "cute vans for women",
           "2024-06-26T00:00:00"
          ],
          [
           "dcg",
           "diabetic massager",
           "2024-06-26T00:00:00"
          ],
          [
           "dcg",
           "greenpan ceramic nonstick fry pan 12 inch",
           "2024-06-26T00:00:00"
          ],
          [
           "dcg",
           "guano de murciélago",
           "2024-06-26T00:00:00"
          ],
          [
           "dcg",
           "handlebars",
           "2024-06-26T00:00:00"
          ],
          [
           "dcg",
           "joyce meyer",
           "2024-06-26T00:00:00"
          ],
          [
           "dcg",
           "level tools",
           "2024-06-26T00:00:00"
          ],
          [
           "dcg",
           "long johns for men",
           "2024-06-26T00:00:00"
          ],
          [
           "dcg",
           "mct oil capsules",
           "2024-06-26T00:00:00"
          ],
          [
           "dcg",
           "nike air force 1 men",
           "2024-06-26T00:00:00"
          ],
          [
           "dcg",
           "nipple clamps",
           "2024-06-26T00:00:00"
          ],
          [
           "dcg",
           "patinete niño 9 años",
           "2024-06-26T00:00:00"
          ],
          [
           "dcg",
           "replacement brush heads sonicare",
           "2024-06-26T00:00:00"
          ],
          [
           "dcg",
           "shoot rubber bullets",
           "2024-06-26T00:00:00"
          ],
          [
           "dcg",
           "solar pool covers for inground pools",
           "2024-06-26T00:00:00"
          ],
          [
           "dcg",
           "toyota white touch up",
           "2024-06-26T00:00:00"
          ],
          [
           "dcg",
           "ブルートゥースイヤホン",
           "2024-06-26T00:00:00"
          ],
          [
           "dcg",
           "3d tree wall owl",
           "2024-06-27T00:00:00"
          ],
          [
           "dcg",
           "classic black dresses for women",
           "2024-06-27T00:00:00"
          ],
          [
           "dcg",
           "cuadro para oficina",
           "2024-06-27T00:00:00"
          ],
          [
           "dcg",
           "cute vans for women",
           "2024-06-27T00:00:00"
          ],
          [
           "dcg",
           "diabetic massager",
           "2024-06-27T00:00:00"
          ],
          [
           "dcg",
           "greenpan ceramic nonstick fry pan 12 inch",
           "2024-06-27T00:00:00"
          ],
          [
           "dcg",
           "guano de murciélago",
           "2024-06-27T00:00:00"
          ],
          [
           "dcg",
           "handlebars",
           "2024-06-27T00:00:00"
          ],
          [
           "dcg",
           "joyce meyer",
           "2024-06-27T00:00:00"
          ],
          [
           "dcg",
           "level tools",
           "2024-06-27T00:00:00"
          ],
          [
           "dcg",
           "long johns for men",
           "2024-06-27T00:00:00"
          ],
          [
           "dcg",
           "mct oil capsules",
           "2024-06-27T00:00:00"
          ],
          [
           "dcg",
           "nike air force 1 men",
           "2024-06-27T00:00:00"
          ],
          [
           "dcg",
           "nipple clamps",
           "2024-06-27T00:00:00"
          ],
          [
           "dcg",
           "patinete niño 9 años",
           "2024-06-27T00:00:00"
          ],
          [
           "dcg",
           "replacement brush heads sonicare",
           "2024-06-27T00:00:00"
          ],
          [
           "dcg",
           "shoot rubber bullets",
           "2024-06-27T00:00:00"
          ],
          [
           "dcg",
           "solar pool covers for inground pools",
           "2024-06-27T00:00:00"
          ],
          [
           "dcg",
           "toyota white touch up",
           "2024-06-27T00:00:00"
          ],
          [
           "dcg",
           "ブルートゥースイヤホン",
           "2024-06-27T00:00:00"
          ],
          [
           "dcg",
           "3d tree wall owl",
           "2024-06-28T00:00:00"
          ],
          [
           "dcg",
           "classic black dresses for women",
           "2024-06-28T00:00:00"
          ],
          [
           "dcg",
           "cuadro para oficina",
           "2024-06-28T00:00:00"
          ],
          [
           "dcg",
           "cute vans for women",
           "2024-06-28T00:00:00"
          ],
          [
           "dcg",
           "diabetic massager",
           "2024-06-28T00:00:00"
          ],
          [
           "dcg",
           "greenpan ceramic nonstick fry pan 12 inch",
           "2024-06-28T00:00:00"
          ],
          [
           "dcg",
           "guano de murciélago",
           "2024-06-28T00:00:00"
          ],
          [
           "dcg",
           "handlebars",
           "2024-06-28T00:00:00"
          ],
          [
           "dcg",
           "joyce meyer",
           "2024-06-28T00:00:00"
          ],
          [
           "dcg",
           "level tools",
           "2024-06-28T00:00:00"
          ],
          [
           "dcg",
           "long johns for men",
           "2024-06-28T00:00:00"
          ],
          [
           "dcg",
           "mct oil capsules",
           "2024-06-28T00:00:00"
          ],
          [
           "dcg",
           "nike air force 1 men",
           "2024-06-28T00:00:00"
          ],
          [
           "dcg",
           "nipple clamps",
           "2024-06-28T00:00:00"
          ],
          [
           "dcg",
           "patinete niño 9 años",
           "2024-06-28T00:00:00"
          ],
          [
           "dcg",
           "replacement brush heads sonicare",
           "2024-06-28T00:00:00"
          ],
          [
           "dcg",
           "shoot rubber bullets",
           "2024-06-28T00:00:00"
          ],
          [
           "dcg",
           "solar pool covers for inground pools",
           "2024-06-28T00:00:00"
          ],
          [
           "dcg",
           "toyota white touch up",
           "2024-06-28T00:00:00"
          ],
          [
           "dcg",
           "ブルートゥースイヤホン",
           "2024-06-28T00:00:00"
          ],
          [
           "dcg",
           "3d tree wall owl",
           "2024-06-29T00:00:00"
          ],
          [
           "dcg",
           "classic black dresses for women",
           "2024-06-29T00:00:00"
          ],
          [
           "dcg",
           "cuadro para oficina",
           "2024-06-29T00:00:00"
          ],
          [
           "dcg",
           "cute vans for women",
           "2024-06-29T00:00:00"
          ],
          [
           "dcg",
           "diabetic massager",
           "2024-06-29T00:00:00"
          ],
          [
           "dcg",
           "greenpan ceramic nonstick fry pan 12 inch",
           "2024-06-29T00:00:00"
          ],
          [
           "dcg",
           "guano de murciélago",
           "2024-06-29T00:00:00"
          ],
          [
           "dcg",
           "handlebars",
           "2024-06-29T00:00:00"
          ],
          [
           "dcg",
           "joyce meyer",
           "2024-06-29T00:00:00"
          ],
          [
           "dcg",
           "level tools",
           "2024-06-29T00:00:00"
          ],
          [
           "dcg",
           "long johns for men",
           "2024-06-29T00:00:00"
          ],
          [
           "dcg",
           "mct oil capsules",
           "2024-06-29T00:00:00"
          ],
          [
           "dcg",
           "nike air force 1 men",
           "2024-06-29T00:00:00"
          ],
          [
           "dcg",
           "nipple clamps",
           "2024-06-29T00:00:00"
          ],
          [
           "dcg",
           "patinete niño 9 años",
           "2024-06-29T00:00:00"
          ],
          [
           "dcg",
           "replacement brush heads sonicare",
           "2024-06-29T00:00:00"
          ],
          [
           "dcg",
           "shoot rubber bullets",
           "2024-06-29T00:00:00"
          ],
          [
           "dcg",
           "solar pool covers for inground pools",
           "2024-06-29T00:00:00"
          ],
          [
           "dcg",
           "toyota white touch up",
           "2024-06-29T00:00:00"
          ],
          [
           "dcg",
           "ブルートゥースイヤホン",
           "2024-06-29T00:00:00"
          ],
          [
           "dcg",
           "3d tree wall owl",
           "2024-06-30T00:00:00"
          ],
          [
           "dcg",
           "classic black dresses for women",
           "2024-06-30T00:00:00"
          ],
          [
           "dcg",
           "cuadro para oficina",
           "2024-06-30T00:00:00"
          ],
          [
           "dcg",
           "cute vans for women",
           "2024-06-30T00:00:00"
          ],
          [
           "dcg",
           "diabetic massager",
           "2024-06-30T00:00:00"
          ],
          [
           "dcg",
           "greenpan ceramic nonstick fry pan 12 inch",
           "2024-06-30T00:00:00"
          ],
          [
           "dcg",
           "guano de murciélago",
           "2024-06-30T00:00:00"
          ],
          [
           "dcg",
           "handlebars",
           "2024-06-30T00:00:00"
          ],
          [
           "dcg",
           "joyce meyer",
           "2024-06-30T00:00:00"
          ],
          [
           "dcg",
           "level tools",
           "2024-06-30T00:00:00"
          ],
          [
           "dcg",
           "long johns for men",
           "2024-06-30T00:00:00"
          ],
          [
           "dcg",
           "mct oil capsules",
           "2024-06-30T00:00:00"
          ],
          [
           "dcg",
           "nike air force 1 men",
           "2024-06-30T00:00:00"
          ],
          [
           "dcg",
           "nipple clamps",
           "2024-06-30T00:00:00"
          ],
          [
           "dcg",
           "patinete niño 9 años",
           "2024-06-30T00:00:00"
          ],
          [
           "dcg",
           "replacement brush heads sonicare",
           "2024-06-30T00:00:00"
          ],
          [
           "dcg",
           "shoot rubber bullets",
           "2024-06-30T00:00:00"
          ],
          [
           "dcg",
           "solar pool covers for inground pools",
           "2024-06-30T00:00:00"
          ],
          [
           "dcg",
           "toyota white touch up",
           "2024-06-30T00:00:00"
          ],
          [
           "dcg",
           "ブルートゥースイヤホン",
           "2024-06-30T00:00:00"
          ],
          [
           "dcg",
           "3d tree wall owl",
           "2024-07-01T00:00:00"
          ],
          [
           "dcg",
           "classic black dresses for women",
           "2024-07-01T00:00:00"
          ],
          [
           "dcg",
           "cuadro para oficina",
           "2024-07-01T00:00:00"
          ],
          [
           "dcg",
           "cute vans for women",
           "2024-07-01T00:00:00"
          ],
          [
           "dcg",
           "diabetic massager",
           "2024-07-01T00:00:00"
          ],
          [
           "dcg",
           "greenpan ceramic nonstick fry pan 12 inch",
           "2024-07-01T00:00:00"
          ],
          [
           "dcg",
           "guano de murciélago",
           "2024-07-01T00:00:00"
          ],
          [
           "dcg",
           "handlebars",
           "2024-07-01T00:00:00"
          ],
          [
           "dcg",
           "joyce meyer",
           "2024-07-01T00:00:00"
          ],
          [
           "dcg",
           "level tools",
           "2024-07-01T00:00:00"
          ],
          [
           "dcg",
           "long johns for men",
           "2024-07-01T00:00:00"
          ],
          [
           "dcg",
           "mct oil capsules",
           "2024-07-01T00:00:00"
          ],
          [
           "dcg",
           "nike air force 1 men",
           "2024-07-01T00:00:00"
          ],
          [
           "dcg",
           "nipple clamps",
           "2024-07-01T00:00:00"
          ],
          [
           "dcg",
           "patinete niño 9 años",
           "2024-07-01T00:00:00"
          ],
          [
           "dcg",
           "replacement brush heads sonicare",
           "2024-07-01T00:00:00"
          ],
          [
           "dcg",
           "shoot rubber bullets",
           "2024-07-01T00:00:00"
          ],
          [
           "dcg",
           "solar pool covers for inground pools",
           "2024-07-01T00:00:00"
          ],
          [
           "dcg",
           "toyota white touch up",
           "2024-07-01T00:00:00"
          ],
          [
           "dcg",
           "ブルートゥースイヤホン",
           "2024-07-01T00:00:00"
          ]
         ],
         "hovertemplate": "metric=%{customdata[0]}<br>search_config=%{x}<br>value=%{y}<br>query=%{customdata[1]}<br>datetime=%{customdata[2]}<extra></extra>",
         "legendgroup": "dcg",
         "marker": {
          "color": "#636efa"
         },
         "name": "dcg",
         "offsetgroup": "dcg",
         "orientation": "v",
         "points": "all",
         "scalegroup": "True",
         "showlegend": true,
         "type": "violin",
         "x": [
          "baseline",
          "baseline",
          "baseline",
          "baseline",
          "baseline",
          "baseline",
          "baseline",
          "baseline",
          "baseline",
          "baseline",
          "baseline",
          "baseline",
          "baseline",
          "baseline",
          "baseline",
          "baseline",
          "baseline",
          "baseline",
          "baseline",
          "baseline",
          "baseline",
          "baseline",
          "baseline",
          "baseline",
          "baseline",
          "baseline",
          "baseline",
          "baseline",
          "baseline",
          "baseline",
          "baseline",
          "baseline",
          "baseline",
          "baseline",
          "baseline",
          "baseline",
          "baseline",
          "baseline",
          "baseline",
          "baseline",
          "baseline",
          "baseline",
          "baseline",
          "baseline",
          "baseline",
          "baseline",
          "baseline",
          "baseline",
          "baseline",
          "baseline",
          "baseline",
          "baseline",
          "baseline",
          "baseline",
          "baseline",
          "baseline",
          "baseline",
          "baseline",
          "baseline",
          "baseline",
          "baseline",
          "baseline",
          "baseline",
          "baseline",
          "baseline",
          "baseline",
          "baseline",
          "baseline",
          "baseline",
          "baseline",
          "baseline",
          "baseline",
          "baseline",
          "baseline",
          "baseline",
          "baseline",
          "baseline",
          "baseline",
          "baseline",
          "baseline",
          "baseline",
          "baseline",
          "baseline",
          "baseline",
          "baseline",
          "baseline",
          "baseline",
          "baseline",
          "baseline",
          "baseline",
          "baseline",
          "baseline",
          "baseline",
          "baseline",
          "baseline",
          "baseline",
          "baseline",
          "baseline",
          "baseline",
          "baseline",
          "baseline",
          "baseline",
          "baseline",
          "baseline",
          "baseline",
          "baseline",
          "baseline",
          "baseline",
          "baseline",
          "baseline",
          "baseline",
          "baseline",
          "baseline",
          "baseline",
          "baseline",
          "baseline",
          "baseline",
          "baseline",
          "baseline",
          "baseline",
          "baseline",
          "baseline",
          "baseline",
          "baseline",
          "baseline",
          "baseline",
          "baseline",
          "baseline",
          "baseline",
          "baseline",
          "baseline",
          "baseline",
          "baseline",
          "baseline",
          "baseline",
          "baseline",
          "baseline",
          "baseline",
          "baseline",
          "baseline",
          "challenger_1",
          "challenger_1",
          "challenger_1",
          "challenger_1",
          "challenger_1",
          "challenger_1",
          "challenger_1",
          "challenger_1",
          "challenger_1",
          "challenger_1",
          "challenger_1",
          "challenger_1",
          "challenger_1",
          "challenger_1",
          "challenger_1",
          "challenger_1",
          "challenger_1",
          "challenger_1",
          "challenger_1",
          "challenger_1",
          "challenger_1",
          "challenger_1",
          "challenger_1",
          "challenger_1",
          "challenger_1",
          "challenger_1",
          "challenger_1",
          "challenger_1",
          "challenger_1",
          "challenger_1",
          "challenger_1",
          "challenger_1",
          "challenger_1",
          "challenger_1",
          "challenger_1",
          "challenger_1",
          "challenger_1",
          "challenger_1",
          "challenger_1",
          "challenger_1",
          "challenger_1",
          "challenger_1",
          "challenger_1",
          "challenger_1",
          "challenger_1",
          "challenger_1",
          "challenger_1",
          "challenger_1",
          "challenger_1",
          "challenger_1",
          "challenger_1",
          "challenger_1",
          "challenger_1",
          "challenger_1",
          "challenger_1",
          "challenger_1",
          "challenger_1",
          "challenger_1",
          "challenger_1",
          "challenger_1",
          "challenger_1",
          "challenger_1",
          "challenger_1",
          "challenger_1",
          "challenger_1",
          "challenger_1",
          "challenger_1",
          "challenger_1",
          "challenger_1",
          "challenger_1",
          "challenger_1",
          "challenger_1",
          "challenger_1",
          "challenger_1",
          "challenger_1",
          "challenger_1",
          "challenger_1",
          "challenger_1",
          "challenger_1",
          "challenger_1",
          "challenger_1",
          "challenger_1",
          "challenger_1",
          "challenger_1",
          "challenger_1",
          "challenger_1",
          "challenger_1",
          "challenger_1",
          "challenger_1",
          "challenger_1",
          "challenger_1",
          "challenger_1",
          "challenger_1",
          "challenger_1",
          "challenger_1",
          "challenger_1",
          "challenger_1",
          "challenger_1",
          "challenger_1",
          "challenger_1",
          "challenger_1",
          "challenger_1",
          "challenger_1",
          "challenger_1",
          "challenger_1",
          "challenger_1",
          "challenger_1",
          "challenger_1",
          "challenger_1",
          "challenger_1",
          "challenger_1",
          "challenger_1",
          "challenger_1",
          "challenger_1",
          "challenger_1",
          "challenger_1",
          "challenger_1",
          "challenger_1",
          "challenger_1",
          "challenger_1",
          "challenger_1",
          "challenger_1",
          "challenger_1",
          "challenger_1",
          "challenger_1",
          "challenger_1",
          "challenger_1",
          "challenger_1",
          "challenger_1",
          "challenger_1",
          "challenger_1",
          "challenger_1",
          "challenger_1",
          "challenger_1",
          "challenger_1",
          "challenger_1",
          "challenger_1",
          "challenger_1",
          "challenger_1",
          "challenger_1"
         ],
         "x0": " ",
         "xaxis": "x",
         "y": [
          0.17236943082816364,
          5.092740438166795,
          1.8868528072345416,
          2.3175293653079345,
          2.3764397685237073,
          2.5616063116448506,
          3.4085354882262373,
          2.5616063116448506,
          2.509912073346595,
          2.5616063116448506,
          2.9484591188793923,
          3.9534645161064765,
          2.5486937086121397,
          1.5616063116448506,
          1.0452840130309937,
          5.008462687772344,
          2.945579264219981,
          1.0402751947513862,
          2.3324425821841466,
          1.6309297535714575,
          0.20477838706795076,
          4.813316407618903,
          1.8868528072345416,
          1.9584423235405013,
          2.3764397685237073,
          1.1692665054492903,
          3.4085354882262373,
          2.5616063116448506,
          3.304666305987414,
          2.5616063116448506,
          2.9484591188793923,
          3.9534645161064765,
          2.9484591188793923,
          1.5616063116448506,
          1.6309297535714575,
          5.360505771639151,
          3.304666305987414,
          1.5043884634832396,
          1.8878414493649678,
          1.6309297535714575,
          0.20927178785953243,
          5.092740438166795,
          1.8868528072345416,
          2.3175293653079345,
          2.254907296715097,
          2.5616063116448506,
          3.374428550333358,
          2.5616063116448506,
          3.304666305987414,
          2.5616063116448506,
          2.9484591188793923,
          3.6606416458362445,
          2.9484591188793923,
          1.5616063116448506,
          1.6309297535714575,
          5.611347998013804,
          3.304666305987414,
          1.5043884634832396,
          2.661363563918057,
          1.6309297535714575,
          0.23718734330773789,
          5.092740438166795,
          0.4945130010389813,
          2.3175293653079345,
          3.304666305987414,
          2.5616063116448506,
          2.9444222194943834,
          2.161840901377598,
          3.304666305987414,
          2.5616063116448506,
          2.9484591188793923,
          3.9534645161064765,
          2.9484591188793923,
          1.5616063116448506,
          1.6309297535714575,
          5.064352121087304,
          3.304666305987414,
          1.5043884634832396,
          2.351954718096821,
          1.6309297535714575,
          0.20477838706795076,
          4.78333159234556,
          1.5277657654671082,
          2.3175293653079345,
          3.304666305987414,
          1.6333797741811438,
          3.4085354882262373,
          2.5616063116448506,
          3.304666305987414,
          2.5616063116448506,
          2.9484591188793923,
          3.9534645161064765,
          2.9484591188793923,
          1.5616063116448506,
          0.7027032161077507,
          5.611347998013804,
          1.912326499791854,
          1.5043884634832396,
          3.1954185183586525,
          1.6309297535714575,
          0.23718734330773789,
          3.2994441296147325,
          1.8868528072345416,
          2.3175293653079345,
          3.304666305987414,
          2.5616063116448506,
          3.5052793536559244,
          2.5616063116448506,
          3.304666305987414,
          2.5616063116448506,
          2.9484591188793923,
          3.9534645161064765,
          2.9484591188793923,
          1.5616063116448506,
          1.6309297535714575,
          5.611347998013804,
          3.304666305987414,
          1.5043884634832396,
          2.351954718096821,
          1.6309297535714575,
          0.5678283072167041,
          3.855105054881853,
          1.8912412707177813,
          2.3175293653079345,
          2.945579264219981,
          2.5616063116448506,
          3.6412563585815167,
          2.5616063116448506,
          2.3764397685237073,
          2.5616063116448506,
          2.5486937086121397,
          3.9534645161064765,
          2.3628133783389282,
          1.5616063116448506,
          1.6309297535714575,
          5.611347998013804,
          3.304666305987414,
          1.5043884634832396,
          2.351954718096821,
          1.0452840130309937,
          0.2202162812720815,
          6.41341184605724,
          2.5616063116448506,
          3.9211611784371243,
          3.644055670285241,
          3.9238535478614915,
          1.9725329825299098,
          2.304666305987414,
          2.161840901377598,
          2.9484591188793923,
          2.5616063116448506,
          2.7429450529590484,
          3.2203657725058905,
          3.9534645161064765,
          3.8954074700030246,
          4.9307895910909245,
          1.6309297535714575,
          1.9274598228748938,
          4.907838202346493,
          2.1309297535714578,
          0.2380232245412725,
          5.827766105516776,
          2.5616063116448506,
          2.9929346409734174,
          3.644055670285241,
          3.975070481222566,
          1.9675880373422818,
          2.304666305987414,
          2.5616063116448506,
          2.9484591188793923,
          2.5616063116448506,
          3.6379996393207477,
          3.620131182773143,
          3.9534645161064765,
          3.326267974306751,
          6.105998540132031,
          1.6309297535714575,
          1.9274598228748938,
          4.856352206172625,
          2.1309297535714578,
          0.2360368394180295,
          6.41341184605724,
          2.5616063116448506,
          3.9211611784371243,
          3.9534645161064765,
          4.254494511770458,
          1.965577432473191,
          1.9740253420784484,
          2.5616063116448506,
          2.9484591188793923,
          2.5616063116448506,
          3.2789125975533144,
          3.620131182773143,
          3.9534645161064765,
          3.945085665949222,
          6.105998540132031,
          1.6309297535714575,
          1.9274598228748938,
          5.149175076442857,
          2.1309297535714578,
          0.6608772410870883,
          6.41341184605724,
          1.04773403364068,
          3.9211611784371243,
          3.9534645161064765,
          4.254494511770458,
          1.6561685866519555,
          2.304666305987414,
          2.5616063116448506,
          2.589372077111959,
          2.5616063116448506,
          3.238234229053495,
          3.620131182773143,
          3.9534645161064765,
          4.254494511770458,
          5.454088628094365,
          1.6309297535714575,
          1.992277735354468,
          5.149175076442857,
          2.1309297535714578,
          0.2380232245412725,
          6.41341184605724,
          2.097493042912997,
          3.562074136669691,
          3.9534645161064765,
          4.254494511770458,
          1.965577432473191,
          2.304666305987414,
          2.5616063116448506,
          2.9484591188793923,
          2.5616063116448506,
          3.6379996393207477,
          3.620131182773143,
          3.9534645161064765,
          4.254494511770458,
          6.105998540132031,
          1.0452840130309937,
          1.9274598228748938,
          5.417492719278458,
          2.1309297535714578,
          0.2611118308198356,
          5.123780510454317,
          2.5616063116448506,
          3.562074136669691,
          3.9534645161064765,
          3.326267974306751,
          1.9474969330351812,
          2.304666305987414,
          2.5616063116448506,
          2.9484591188793923,
          2.5616063116448506,
          3.6379996393207477,
          3.620131182773143,
          3.6606416458362445,
          4.254494511770458,
          5.391043045025524,
          1.6309297535714575,
          1.9274598228748938,
          5.149175076442857,
          2.1309297535714578,
          1.0843121413191226,
          6.41341184605724,
          2.5616063116448506,
          3.9211611784371243,
          3.5943774743390433,
          4.254494511770458,
          2.2031644635784557,
          2.304666305987414,
          1.9759605711043868,
          2.9484591188793923,
          2.161840901377598,
          3.6379996393207477,
          3.620131182773143,
          3.0252379786427697,
          3.8954074700030246,
          5.636354874660839,
          1.6309297535714575,
          1.9274598228748938,
          4.926574780959689,
          2.1309297535714578
         ],
         "y0": " ",
         "yaxis": "y"
        }
       ],
       "layout": {
        "legend": {
         "title": {
          "text": "metric"
         },
         "tracegroupgap": 0
        },
        "margin": {
         "t": 60
        },
        "template": {
         "data": {
          "bar": [
           {
            "error_x": {
             "color": "#2a3f5f"
            },
            "error_y": {
             "color": "#2a3f5f"
            },
            "marker": {
             "line": {
              "color": "#E5ECF6",
              "width": 0.5
             },
             "pattern": {
              "fillmode": "overlay",
              "size": 10,
              "solidity": 0.2
             }
            },
            "type": "bar"
           }
          ],
          "barpolar": [
           {
            "marker": {
             "line": {
              "color": "#E5ECF6",
              "width": 0.5
             },
             "pattern": {
              "fillmode": "overlay",
              "size": 10,
              "solidity": 0.2
             }
            },
            "type": "barpolar"
           }
          ],
          "carpet": [
           {
            "aaxis": {
             "endlinecolor": "#2a3f5f",
             "gridcolor": "white",
             "linecolor": "white",
             "minorgridcolor": "white",
             "startlinecolor": "#2a3f5f"
            },
            "baxis": {
             "endlinecolor": "#2a3f5f",
             "gridcolor": "white",
             "linecolor": "white",
             "minorgridcolor": "white",
             "startlinecolor": "#2a3f5f"
            },
            "type": "carpet"
           }
          ],
          "choropleth": [
           {
            "colorbar": {
             "outlinewidth": 0,
             "ticks": ""
            },
            "type": "choropleth"
           }
          ],
          "contour": [
           {
            "colorbar": {
             "outlinewidth": 0,
             "ticks": ""
            },
            "colorscale": [
             [
              0,
              "#0d0887"
             ],
             [
              0.1111111111111111,
              "#46039f"
             ],
             [
              0.2222222222222222,
              "#7201a8"
             ],
             [
              0.3333333333333333,
              "#9c179e"
             ],
             [
              0.4444444444444444,
              "#bd3786"
             ],
             [
              0.5555555555555556,
              "#d8576b"
             ],
             [
              0.6666666666666666,
              "#ed7953"
             ],
             [
              0.7777777777777778,
              "#fb9f3a"
             ],
             [
              0.8888888888888888,
              "#fdca26"
             ],
             [
              1,
              "#f0f921"
             ]
            ],
            "type": "contour"
           }
          ],
          "contourcarpet": [
           {
            "colorbar": {
             "outlinewidth": 0,
             "ticks": ""
            },
            "type": "contourcarpet"
           }
          ],
          "heatmap": [
           {
            "colorbar": {
             "outlinewidth": 0,
             "ticks": ""
            },
            "colorscale": [
             [
              0,
              "#0d0887"
             ],
             [
              0.1111111111111111,
              "#46039f"
             ],
             [
              0.2222222222222222,
              "#7201a8"
             ],
             [
              0.3333333333333333,
              "#9c179e"
             ],
             [
              0.4444444444444444,
              "#bd3786"
             ],
             [
              0.5555555555555556,
              "#d8576b"
             ],
             [
              0.6666666666666666,
              "#ed7953"
             ],
             [
              0.7777777777777778,
              "#fb9f3a"
             ],
             [
              0.8888888888888888,
              "#fdca26"
             ],
             [
              1,
              "#f0f921"
             ]
            ],
            "type": "heatmap"
           }
          ],
          "heatmapgl": [
           {
            "colorbar": {
             "outlinewidth": 0,
             "ticks": ""
            },
            "colorscale": [
             [
              0,
              "#0d0887"
             ],
             [
              0.1111111111111111,
              "#46039f"
             ],
             [
              0.2222222222222222,
              "#7201a8"
             ],
             [
              0.3333333333333333,
              "#9c179e"
             ],
             [
              0.4444444444444444,
              "#bd3786"
             ],
             [
              0.5555555555555556,
              "#d8576b"
             ],
             [
              0.6666666666666666,
              "#ed7953"
             ],
             [
              0.7777777777777778,
              "#fb9f3a"
             ],
             [
              0.8888888888888888,
              "#fdca26"
             ],
             [
              1,
              "#f0f921"
             ]
            ],
            "type": "heatmapgl"
           }
          ],
          "histogram": [
           {
            "marker": {
             "pattern": {
              "fillmode": "overlay",
              "size": 10,
              "solidity": 0.2
             }
            },
            "type": "histogram"
           }
          ],
          "histogram2d": [
           {
            "colorbar": {
             "outlinewidth": 0,
             "ticks": ""
            },
            "colorscale": [
             [
              0,
              "#0d0887"
             ],
             [
              0.1111111111111111,
              "#46039f"
             ],
             [
              0.2222222222222222,
              "#7201a8"
             ],
             [
              0.3333333333333333,
              "#9c179e"
             ],
             [
              0.4444444444444444,
              "#bd3786"
             ],
             [
              0.5555555555555556,
              "#d8576b"
             ],
             [
              0.6666666666666666,
              "#ed7953"
             ],
             [
              0.7777777777777778,
              "#fb9f3a"
             ],
             [
              0.8888888888888888,
              "#fdca26"
             ],
             [
              1,
              "#f0f921"
             ]
            ],
            "type": "histogram2d"
           }
          ],
          "histogram2dcontour": [
           {
            "colorbar": {
             "outlinewidth": 0,
             "ticks": ""
            },
            "colorscale": [
             [
              0,
              "#0d0887"
             ],
             [
              0.1111111111111111,
              "#46039f"
             ],
             [
              0.2222222222222222,
              "#7201a8"
             ],
             [
              0.3333333333333333,
              "#9c179e"
             ],
             [
              0.4444444444444444,
              "#bd3786"
             ],
             [
              0.5555555555555556,
              "#d8576b"
             ],
             [
              0.6666666666666666,
              "#ed7953"
             ],
             [
              0.7777777777777778,
              "#fb9f3a"
             ],
             [
              0.8888888888888888,
              "#fdca26"
             ],
             [
              1,
              "#f0f921"
             ]
            ],
            "type": "histogram2dcontour"
           }
          ],
          "mesh3d": [
           {
            "colorbar": {
             "outlinewidth": 0,
             "ticks": ""
            },
            "type": "mesh3d"
           }
          ],
          "parcoords": [
           {
            "line": {
             "colorbar": {
              "outlinewidth": 0,
              "ticks": ""
             }
            },
            "type": "parcoords"
           }
          ],
          "pie": [
           {
            "automargin": true,
            "type": "pie"
           }
          ],
          "scatter": [
           {
            "fillpattern": {
             "fillmode": "overlay",
             "size": 10,
             "solidity": 0.2
            },
            "type": "scatter"
           }
          ],
          "scatter3d": [
           {
            "line": {
             "colorbar": {
              "outlinewidth": 0,
              "ticks": ""
             }
            },
            "marker": {
             "colorbar": {
              "outlinewidth": 0,
              "ticks": ""
             }
            },
            "type": "scatter3d"
           }
          ],
          "scattercarpet": [
           {
            "marker": {
             "colorbar": {
              "outlinewidth": 0,
              "ticks": ""
             }
            },
            "type": "scattercarpet"
           }
          ],
          "scattergeo": [
           {
            "marker": {
             "colorbar": {
              "outlinewidth": 0,
              "ticks": ""
             }
            },
            "type": "scattergeo"
           }
          ],
          "scattergl": [
           {
            "marker": {
             "colorbar": {
              "outlinewidth": 0,
              "ticks": ""
             }
            },
            "type": "scattergl"
           }
          ],
          "scattermapbox": [
           {
            "marker": {
             "colorbar": {
              "outlinewidth": 0,
              "ticks": ""
             }
            },
            "type": "scattermapbox"
           }
          ],
          "scatterpolar": [
           {
            "marker": {
             "colorbar": {
              "outlinewidth": 0,
              "ticks": ""
             }
            },
            "type": "scatterpolar"
           }
          ],
          "scatterpolargl": [
           {
            "marker": {
             "colorbar": {
              "outlinewidth": 0,
              "ticks": ""
             }
            },
            "type": "scatterpolargl"
           }
          ],
          "scatterternary": [
           {
            "marker": {
             "colorbar": {
              "outlinewidth": 0,
              "ticks": ""
             }
            },
            "type": "scatterternary"
           }
          ],
          "surface": [
           {
            "colorbar": {
             "outlinewidth": 0,
             "ticks": ""
            },
            "colorscale": [
             [
              0,
              "#0d0887"
             ],
             [
              0.1111111111111111,
              "#46039f"
             ],
             [
              0.2222222222222222,
              "#7201a8"
             ],
             [
              0.3333333333333333,
              "#9c179e"
             ],
             [
              0.4444444444444444,
              "#bd3786"
             ],
             [
              0.5555555555555556,
              "#d8576b"
             ],
             [
              0.6666666666666666,
              "#ed7953"
             ],
             [
              0.7777777777777778,
              "#fb9f3a"
             ],
             [
              0.8888888888888888,
              "#fdca26"
             ],
             [
              1,
              "#f0f921"
             ]
            ],
            "type": "surface"
           }
          ],
          "table": [
           {
            "cells": {
             "fill": {
              "color": "#EBF0F8"
             },
             "line": {
              "color": "white"
             }
            },
            "header": {
             "fill": {
              "color": "#C8D4E3"
             },
             "line": {
              "color": "white"
             }
            },
            "type": "table"
           }
          ]
         },
         "layout": {
          "annotationdefaults": {
           "arrowcolor": "#2a3f5f",
           "arrowhead": 0,
           "arrowwidth": 1
          },
          "autotypenumbers": "strict",
          "coloraxis": {
           "colorbar": {
            "outlinewidth": 0,
            "ticks": ""
           }
          },
          "colorscale": {
           "diverging": [
            [
             0,
             "#8e0152"
            ],
            [
             0.1,
             "#c51b7d"
            ],
            [
             0.2,
             "#de77ae"
            ],
            [
             0.3,
             "#f1b6da"
            ],
            [
             0.4,
             "#fde0ef"
            ],
            [
             0.5,
             "#f7f7f7"
            ],
            [
             0.6,
             "#e6f5d0"
            ],
            [
             0.7,
             "#b8e186"
            ],
            [
             0.8,
             "#7fbc41"
            ],
            [
             0.9,
             "#4d9221"
            ],
            [
             1,
             "#276419"
            ]
           ],
           "sequential": [
            [
             0,
             "#0d0887"
            ],
            [
             0.1111111111111111,
             "#46039f"
            ],
            [
             0.2222222222222222,
             "#7201a8"
            ],
            [
             0.3333333333333333,
             "#9c179e"
            ],
            [
             0.4444444444444444,
             "#bd3786"
            ],
            [
             0.5555555555555556,
             "#d8576b"
            ],
            [
             0.6666666666666666,
             "#ed7953"
            ],
            [
             0.7777777777777778,
             "#fb9f3a"
            ],
            [
             0.8888888888888888,
             "#fdca26"
            ],
            [
             1,
             "#f0f921"
            ]
           ],
           "sequentialminus": [
            [
             0,
             "#0d0887"
            ],
            [
             0.1111111111111111,
             "#46039f"
            ],
            [
             0.2222222222222222,
             "#7201a8"
            ],
            [
             0.3333333333333333,
             "#9c179e"
            ],
            [
             0.4444444444444444,
             "#bd3786"
            ],
            [
             0.5555555555555556,
             "#d8576b"
            ],
            [
             0.6666666666666666,
             "#ed7953"
            ],
            [
             0.7777777777777778,
             "#fb9f3a"
            ],
            [
             0.8888888888888888,
             "#fdca26"
            ],
            [
             1,
             "#f0f921"
            ]
           ]
          },
          "colorway": [
           "#636efa",
           "#EF553B",
           "#00cc96",
           "#ab63fa",
           "#FFA15A",
           "#19d3f3",
           "#FF6692",
           "#B6E880",
           "#FF97FF",
           "#FECB52"
          ],
          "font": {
           "color": "#2a3f5f"
          },
          "geo": {
           "bgcolor": "white",
           "lakecolor": "white",
           "landcolor": "#E5ECF6",
           "showlakes": true,
           "showland": true,
           "subunitcolor": "white"
          },
          "hoverlabel": {
           "align": "left"
          },
          "hovermode": "closest",
          "mapbox": {
           "style": "light"
          },
          "paper_bgcolor": "white",
          "plot_bgcolor": "#E5ECF6",
          "polar": {
           "angularaxis": {
            "gridcolor": "white",
            "linecolor": "white",
            "ticks": ""
           },
           "bgcolor": "#E5ECF6",
           "radialaxis": {
            "gridcolor": "white",
            "linecolor": "white",
            "ticks": ""
           }
          },
          "scene": {
           "xaxis": {
            "backgroundcolor": "#E5ECF6",
            "gridcolor": "white",
            "gridwidth": 2,
            "linecolor": "white",
            "showbackground": true,
            "ticks": "",
            "zerolinecolor": "white"
           },
           "yaxis": {
            "backgroundcolor": "#E5ECF6",
            "gridcolor": "white",
            "gridwidth": 2,
            "linecolor": "white",
            "showbackground": true,
            "ticks": "",
            "zerolinecolor": "white"
           },
           "zaxis": {
            "backgroundcolor": "#E5ECF6",
            "gridcolor": "white",
            "gridwidth": 2,
            "linecolor": "white",
            "showbackground": true,
            "ticks": "",
            "zerolinecolor": "white"
           }
          },
          "shapedefaults": {
           "line": {
            "color": "#2a3f5f"
           }
          },
          "ternary": {
           "aaxis": {
            "gridcolor": "white",
            "linecolor": "white",
            "ticks": ""
           },
           "baxis": {
            "gridcolor": "white",
            "linecolor": "white",
            "ticks": ""
           },
           "bgcolor": "#E5ECF6",
           "caxis": {
            "gridcolor": "white",
            "linecolor": "white",
            "ticks": ""
           }
          },
          "title": {
           "x": 0.05
          },
          "xaxis": {
           "automargin": true,
           "gridcolor": "white",
           "linecolor": "white",
           "ticks": "",
           "title": {
            "standoff": 15
           },
           "zerolinecolor": "white",
           "zerolinewidth": 2
          },
          "yaxis": {
           "automargin": true,
           "gridcolor": "white",
           "linecolor": "white",
           "ticks": "",
           "title": {
            "standoff": 15
           },
           "zerolinecolor": "white",
           "zerolinewidth": 2
          }
         }
        },
        "violinmode": "group",
        "xaxis": {
         "anchor": "y",
         "domain": [
          0,
          1
         ],
         "title": {
          "text": "search_config"
         }
        },
        "yaxis": {
         "anchor": "x",
         "domain": [
          0,
          1
         ],
         "title": {
          "text": "value"
         }
        }
       }
      },
      "text/html": [
       "<div>                            <div id=\"5809aeb4-9cd3-45ca-a719-616d41f10f82\" class=\"plotly-graph-div\" style=\"height:525px; width:100%;\"></div>            <script type=\"text/javascript\">                require([\"plotly\"], function(Plotly) {                    window.PLOTLYENV=window.PLOTLYENV || {};                                    if (document.getElementById(\"5809aeb4-9cd3-45ca-a719-616d41f10f82\")) {                    Plotly.newPlot(                        \"5809aeb4-9cd3-45ca-a719-616d41f10f82\",                        [{\"alignmentgroup\":\"True\",\"box\":{\"visible\":false},\"customdata\":[[\"dcg\",\"3d tree wall owl\",\"2024-06-25T00:00:00\"],[\"dcg\",\"classic black dresses for women\",\"2024-06-25T00:00:00\"],[\"dcg\",\"cuadro para oficina\",\"2024-06-25T00:00:00\"],[\"dcg\",\"cute vans for women\",\"2024-06-25T00:00:00\"],[\"dcg\",\"diabetic massager\",\"2024-06-25T00:00:00\"],[\"dcg\",\"greenpan ceramic nonstick fry pan 12 inch\",\"2024-06-25T00:00:00\"],[\"dcg\",\"guano de murci\\u00e9lago\",\"2024-06-25T00:00:00\"],[\"dcg\",\"handlebars\",\"2024-06-25T00:00:00\"],[\"dcg\",\"joyce meyer\",\"2024-06-25T00:00:00\"],[\"dcg\",\"level tools\",\"2024-06-25T00:00:00\"],[\"dcg\",\"long johns for men\",\"2024-06-25T00:00:00\"],[\"dcg\",\"mct oil capsules\",\"2024-06-25T00:00:00\"],[\"dcg\",\"nike air force 1 men\",\"2024-06-25T00:00:00\"],[\"dcg\",\"nipple clamps\",\"2024-06-25T00:00:00\"],[\"dcg\",\"patinete ni\\u00f1o 9 a\\u00f1os\",\"2024-06-25T00:00:00\"],[\"dcg\",\"replacement brush heads sonicare\",\"2024-06-25T00:00:00\"],[\"dcg\",\"shoot rubber bullets\",\"2024-06-25T00:00:00\"],[\"dcg\",\"solar pool covers for inground pools\",\"2024-06-25T00:00:00\"],[\"dcg\",\"toyota white touch up\",\"2024-06-25T00:00:00\"],[\"dcg\",\"\\u30d6\\u30eb\\u30fc\\u30c8\\u30a5\\u30fc\\u30b9\\u30a4\\u30e4\\u30db\\u30f3\",\"2024-06-25T00:00:00\"],[\"dcg\",\"3d tree wall owl\",\"2024-06-26T00:00:00\"],[\"dcg\",\"classic black dresses for women\",\"2024-06-26T00:00:00\"],[\"dcg\",\"cuadro para oficina\",\"2024-06-26T00:00:00\"],[\"dcg\",\"cute vans for women\",\"2024-06-26T00:00:00\"],[\"dcg\",\"diabetic massager\",\"2024-06-26T00:00:00\"],[\"dcg\",\"greenpan ceramic nonstick fry pan 12 inch\",\"2024-06-26T00:00:00\"],[\"dcg\",\"guano de murci\\u00e9lago\",\"2024-06-26T00:00:00\"],[\"dcg\",\"handlebars\",\"2024-06-26T00:00:00\"],[\"dcg\",\"joyce meyer\",\"2024-06-26T00:00:00\"],[\"dcg\",\"level tools\",\"2024-06-26T00:00:00\"],[\"dcg\",\"long johns for men\",\"2024-06-26T00:00:00\"],[\"dcg\",\"mct oil capsules\",\"2024-06-26T00:00:00\"],[\"dcg\",\"nike air force 1 men\",\"2024-06-26T00:00:00\"],[\"dcg\",\"nipple clamps\",\"2024-06-26T00:00:00\"],[\"dcg\",\"patinete ni\\u00f1o 9 a\\u00f1os\",\"2024-06-26T00:00:00\"],[\"dcg\",\"replacement brush heads sonicare\",\"2024-06-26T00:00:00\"],[\"dcg\",\"shoot rubber bullets\",\"2024-06-26T00:00:00\"],[\"dcg\",\"solar pool covers for inground pools\",\"2024-06-26T00:00:00\"],[\"dcg\",\"toyota white touch up\",\"2024-06-26T00:00:00\"],[\"dcg\",\"\\u30d6\\u30eb\\u30fc\\u30c8\\u30a5\\u30fc\\u30b9\\u30a4\\u30e4\\u30db\\u30f3\",\"2024-06-26T00:00:00\"],[\"dcg\",\"3d tree wall owl\",\"2024-06-27T00:00:00\"],[\"dcg\",\"classic black dresses for women\",\"2024-06-27T00:00:00\"],[\"dcg\",\"cuadro para oficina\",\"2024-06-27T00:00:00\"],[\"dcg\",\"cute vans for women\",\"2024-06-27T00:00:00\"],[\"dcg\",\"diabetic massager\",\"2024-06-27T00:00:00\"],[\"dcg\",\"greenpan ceramic nonstick fry pan 12 inch\",\"2024-06-27T00:00:00\"],[\"dcg\",\"guano de murci\\u00e9lago\",\"2024-06-27T00:00:00\"],[\"dcg\",\"handlebars\",\"2024-06-27T00:00:00\"],[\"dcg\",\"joyce meyer\",\"2024-06-27T00:00:00\"],[\"dcg\",\"level tools\",\"2024-06-27T00:00:00\"],[\"dcg\",\"long johns for men\",\"2024-06-27T00:00:00\"],[\"dcg\",\"mct oil capsules\",\"2024-06-27T00:00:00\"],[\"dcg\",\"nike air force 1 men\",\"2024-06-27T00:00:00\"],[\"dcg\",\"nipple clamps\",\"2024-06-27T00:00:00\"],[\"dcg\",\"patinete ni\\u00f1o 9 a\\u00f1os\",\"2024-06-27T00:00:00\"],[\"dcg\",\"replacement brush heads sonicare\",\"2024-06-27T00:00:00\"],[\"dcg\",\"shoot rubber bullets\",\"2024-06-27T00:00:00\"],[\"dcg\",\"solar pool covers for inground pools\",\"2024-06-27T00:00:00\"],[\"dcg\",\"toyota white touch up\",\"2024-06-27T00:00:00\"],[\"dcg\",\"\\u30d6\\u30eb\\u30fc\\u30c8\\u30a5\\u30fc\\u30b9\\u30a4\\u30e4\\u30db\\u30f3\",\"2024-06-27T00:00:00\"],[\"dcg\",\"3d tree wall owl\",\"2024-06-28T00:00:00\"],[\"dcg\",\"classic black dresses for women\",\"2024-06-28T00:00:00\"],[\"dcg\",\"cuadro para oficina\",\"2024-06-28T00:00:00\"],[\"dcg\",\"cute vans for women\",\"2024-06-28T00:00:00\"],[\"dcg\",\"diabetic massager\",\"2024-06-28T00:00:00\"],[\"dcg\",\"greenpan ceramic nonstick fry pan 12 inch\",\"2024-06-28T00:00:00\"],[\"dcg\",\"guano de murci\\u00e9lago\",\"2024-06-28T00:00:00\"],[\"dcg\",\"handlebars\",\"2024-06-28T00:00:00\"],[\"dcg\",\"joyce meyer\",\"2024-06-28T00:00:00\"],[\"dcg\",\"level tools\",\"2024-06-28T00:00:00\"],[\"dcg\",\"long johns for men\",\"2024-06-28T00:00:00\"],[\"dcg\",\"mct oil capsules\",\"2024-06-28T00:00:00\"],[\"dcg\",\"nike air force 1 men\",\"2024-06-28T00:00:00\"],[\"dcg\",\"nipple clamps\",\"2024-06-28T00:00:00\"],[\"dcg\",\"patinete ni\\u00f1o 9 a\\u00f1os\",\"2024-06-28T00:00:00\"],[\"dcg\",\"replacement brush heads sonicare\",\"2024-06-28T00:00:00\"],[\"dcg\",\"shoot rubber bullets\",\"2024-06-28T00:00:00\"],[\"dcg\",\"solar pool covers for inground pools\",\"2024-06-28T00:00:00\"],[\"dcg\",\"toyota white touch up\",\"2024-06-28T00:00:00\"],[\"dcg\",\"\\u30d6\\u30eb\\u30fc\\u30c8\\u30a5\\u30fc\\u30b9\\u30a4\\u30e4\\u30db\\u30f3\",\"2024-06-28T00:00:00\"],[\"dcg\",\"3d tree wall owl\",\"2024-06-29T00:00:00\"],[\"dcg\",\"classic black dresses for women\",\"2024-06-29T00:00:00\"],[\"dcg\",\"cuadro para oficina\",\"2024-06-29T00:00:00\"],[\"dcg\",\"cute vans for women\",\"2024-06-29T00:00:00\"],[\"dcg\",\"diabetic massager\",\"2024-06-29T00:00:00\"],[\"dcg\",\"greenpan ceramic nonstick fry pan 12 inch\",\"2024-06-29T00:00:00\"],[\"dcg\",\"guano de murci\\u00e9lago\",\"2024-06-29T00:00:00\"],[\"dcg\",\"handlebars\",\"2024-06-29T00:00:00\"],[\"dcg\",\"joyce meyer\",\"2024-06-29T00:00:00\"],[\"dcg\",\"level tools\",\"2024-06-29T00:00:00\"],[\"dcg\",\"long johns for men\",\"2024-06-29T00:00:00\"],[\"dcg\",\"mct oil capsules\",\"2024-06-29T00:00:00\"],[\"dcg\",\"nike air force 1 men\",\"2024-06-29T00:00:00\"],[\"dcg\",\"nipple clamps\",\"2024-06-29T00:00:00\"],[\"dcg\",\"patinete ni\\u00f1o 9 a\\u00f1os\",\"2024-06-29T00:00:00\"],[\"dcg\",\"replacement brush heads sonicare\",\"2024-06-29T00:00:00\"],[\"dcg\",\"shoot rubber bullets\",\"2024-06-29T00:00:00\"],[\"dcg\",\"solar pool covers for inground pools\",\"2024-06-29T00:00:00\"],[\"dcg\",\"toyota white touch up\",\"2024-06-29T00:00:00\"],[\"dcg\",\"\\u30d6\\u30eb\\u30fc\\u30c8\\u30a5\\u30fc\\u30b9\\u30a4\\u30e4\\u30db\\u30f3\",\"2024-06-29T00:00:00\"],[\"dcg\",\"3d tree wall owl\",\"2024-06-30T00:00:00\"],[\"dcg\",\"classic black dresses for women\",\"2024-06-30T00:00:00\"],[\"dcg\",\"cuadro para oficina\",\"2024-06-30T00:00:00\"],[\"dcg\",\"cute vans for women\",\"2024-06-30T00:00:00\"],[\"dcg\",\"diabetic massager\",\"2024-06-30T00:00:00\"],[\"dcg\",\"greenpan ceramic nonstick fry pan 12 inch\",\"2024-06-30T00:00:00\"],[\"dcg\",\"guano de murci\\u00e9lago\",\"2024-06-30T00:00:00\"],[\"dcg\",\"handlebars\",\"2024-06-30T00:00:00\"],[\"dcg\",\"joyce meyer\",\"2024-06-30T00:00:00\"],[\"dcg\",\"level tools\",\"2024-06-30T00:00:00\"],[\"dcg\",\"long johns for men\",\"2024-06-30T00:00:00\"],[\"dcg\",\"mct oil capsules\",\"2024-06-30T00:00:00\"],[\"dcg\",\"nike air force 1 men\",\"2024-06-30T00:00:00\"],[\"dcg\",\"nipple clamps\",\"2024-06-30T00:00:00\"],[\"dcg\",\"patinete ni\\u00f1o 9 a\\u00f1os\",\"2024-06-30T00:00:00\"],[\"dcg\",\"replacement brush heads sonicare\",\"2024-06-30T00:00:00\"],[\"dcg\",\"shoot rubber bullets\",\"2024-06-30T00:00:00\"],[\"dcg\",\"solar pool covers for inground pools\",\"2024-06-30T00:00:00\"],[\"dcg\",\"toyota white touch up\",\"2024-06-30T00:00:00\"],[\"dcg\",\"\\u30d6\\u30eb\\u30fc\\u30c8\\u30a5\\u30fc\\u30b9\\u30a4\\u30e4\\u30db\\u30f3\",\"2024-06-30T00:00:00\"],[\"dcg\",\"3d tree wall owl\",\"2024-07-01T00:00:00\"],[\"dcg\",\"classic black dresses for women\",\"2024-07-01T00:00:00\"],[\"dcg\",\"cuadro para oficina\",\"2024-07-01T00:00:00\"],[\"dcg\",\"cute vans for women\",\"2024-07-01T00:00:00\"],[\"dcg\",\"diabetic massager\",\"2024-07-01T00:00:00\"],[\"dcg\",\"greenpan ceramic nonstick fry pan 12 inch\",\"2024-07-01T00:00:00\"],[\"dcg\",\"guano de murci\\u00e9lago\",\"2024-07-01T00:00:00\"],[\"dcg\",\"handlebars\",\"2024-07-01T00:00:00\"],[\"dcg\",\"joyce meyer\",\"2024-07-01T00:00:00\"],[\"dcg\",\"level tools\",\"2024-07-01T00:00:00\"],[\"dcg\",\"long johns for men\",\"2024-07-01T00:00:00\"],[\"dcg\",\"mct oil capsules\",\"2024-07-01T00:00:00\"],[\"dcg\",\"nike air force 1 men\",\"2024-07-01T00:00:00\"],[\"dcg\",\"nipple clamps\",\"2024-07-01T00:00:00\"],[\"dcg\",\"patinete ni\\u00f1o 9 a\\u00f1os\",\"2024-07-01T00:00:00\"],[\"dcg\",\"replacement brush heads sonicare\",\"2024-07-01T00:00:00\"],[\"dcg\",\"shoot rubber bullets\",\"2024-07-01T00:00:00\"],[\"dcg\",\"solar pool covers for inground pools\",\"2024-07-01T00:00:00\"],[\"dcg\",\"toyota white touch up\",\"2024-07-01T00:00:00\"],[\"dcg\",\"\\u30d6\\u30eb\\u30fc\\u30c8\\u30a5\\u30fc\\u30b9\\u30a4\\u30e4\\u30db\\u30f3\",\"2024-07-01T00:00:00\"],[\"dcg\",\"3d tree wall owl\",\"2024-06-25T00:00:00\"],[\"dcg\",\"classic black dresses for women\",\"2024-06-25T00:00:00\"],[\"dcg\",\"cuadro para oficina\",\"2024-06-25T00:00:00\"],[\"dcg\",\"cute vans for women\",\"2024-06-25T00:00:00\"],[\"dcg\",\"diabetic massager\",\"2024-06-25T00:00:00\"],[\"dcg\",\"greenpan ceramic nonstick fry pan 12 inch\",\"2024-06-25T00:00:00\"],[\"dcg\",\"guano de murci\\u00e9lago\",\"2024-06-25T00:00:00\"],[\"dcg\",\"handlebars\",\"2024-06-25T00:00:00\"],[\"dcg\",\"joyce meyer\",\"2024-06-25T00:00:00\"],[\"dcg\",\"level tools\",\"2024-06-25T00:00:00\"],[\"dcg\",\"long johns for men\",\"2024-06-25T00:00:00\"],[\"dcg\",\"mct oil capsules\",\"2024-06-25T00:00:00\"],[\"dcg\",\"nike air force 1 men\",\"2024-06-25T00:00:00\"],[\"dcg\",\"nipple clamps\",\"2024-06-25T00:00:00\"],[\"dcg\",\"patinete ni\\u00f1o 9 a\\u00f1os\",\"2024-06-25T00:00:00\"],[\"dcg\",\"replacement brush heads sonicare\",\"2024-06-25T00:00:00\"],[\"dcg\",\"shoot rubber bullets\",\"2024-06-25T00:00:00\"],[\"dcg\",\"solar pool covers for inground pools\",\"2024-06-25T00:00:00\"],[\"dcg\",\"toyota white touch up\",\"2024-06-25T00:00:00\"],[\"dcg\",\"\\u30d6\\u30eb\\u30fc\\u30c8\\u30a5\\u30fc\\u30b9\\u30a4\\u30e4\\u30db\\u30f3\",\"2024-06-25T00:00:00\"],[\"dcg\",\"3d tree wall owl\",\"2024-06-26T00:00:00\"],[\"dcg\",\"classic black dresses for women\",\"2024-06-26T00:00:00\"],[\"dcg\",\"cuadro para oficina\",\"2024-06-26T00:00:00\"],[\"dcg\",\"cute vans for women\",\"2024-06-26T00:00:00\"],[\"dcg\",\"diabetic massager\",\"2024-06-26T00:00:00\"],[\"dcg\",\"greenpan ceramic nonstick fry pan 12 inch\",\"2024-06-26T00:00:00\"],[\"dcg\",\"guano de murci\\u00e9lago\",\"2024-06-26T00:00:00\"],[\"dcg\",\"handlebars\",\"2024-06-26T00:00:00\"],[\"dcg\",\"joyce meyer\",\"2024-06-26T00:00:00\"],[\"dcg\",\"level tools\",\"2024-06-26T00:00:00\"],[\"dcg\",\"long johns for men\",\"2024-06-26T00:00:00\"],[\"dcg\",\"mct oil capsules\",\"2024-06-26T00:00:00\"],[\"dcg\",\"nike air force 1 men\",\"2024-06-26T00:00:00\"],[\"dcg\",\"nipple clamps\",\"2024-06-26T00:00:00\"],[\"dcg\",\"patinete ni\\u00f1o 9 a\\u00f1os\",\"2024-06-26T00:00:00\"],[\"dcg\",\"replacement brush heads sonicare\",\"2024-06-26T00:00:00\"],[\"dcg\",\"shoot rubber bullets\",\"2024-06-26T00:00:00\"],[\"dcg\",\"solar pool covers for inground pools\",\"2024-06-26T00:00:00\"],[\"dcg\",\"toyota white touch up\",\"2024-06-26T00:00:00\"],[\"dcg\",\"\\u30d6\\u30eb\\u30fc\\u30c8\\u30a5\\u30fc\\u30b9\\u30a4\\u30e4\\u30db\\u30f3\",\"2024-06-26T00:00:00\"],[\"dcg\",\"3d tree wall owl\",\"2024-06-27T00:00:00\"],[\"dcg\",\"classic black dresses for women\",\"2024-06-27T00:00:00\"],[\"dcg\",\"cuadro para oficina\",\"2024-06-27T00:00:00\"],[\"dcg\",\"cute vans for women\",\"2024-06-27T00:00:00\"],[\"dcg\",\"diabetic massager\",\"2024-06-27T00:00:00\"],[\"dcg\",\"greenpan ceramic nonstick fry pan 12 inch\",\"2024-06-27T00:00:00\"],[\"dcg\",\"guano de murci\\u00e9lago\",\"2024-06-27T00:00:00\"],[\"dcg\",\"handlebars\",\"2024-06-27T00:00:00\"],[\"dcg\",\"joyce meyer\",\"2024-06-27T00:00:00\"],[\"dcg\",\"level tools\",\"2024-06-27T00:00:00\"],[\"dcg\",\"long johns for men\",\"2024-06-27T00:00:00\"],[\"dcg\",\"mct oil capsules\",\"2024-06-27T00:00:00\"],[\"dcg\",\"nike air force 1 men\",\"2024-06-27T00:00:00\"],[\"dcg\",\"nipple clamps\",\"2024-06-27T00:00:00\"],[\"dcg\",\"patinete ni\\u00f1o 9 a\\u00f1os\",\"2024-06-27T00:00:00\"],[\"dcg\",\"replacement brush heads sonicare\",\"2024-06-27T00:00:00\"],[\"dcg\",\"shoot rubber bullets\",\"2024-06-27T00:00:00\"],[\"dcg\",\"solar pool covers for inground pools\",\"2024-06-27T00:00:00\"],[\"dcg\",\"toyota white touch up\",\"2024-06-27T00:00:00\"],[\"dcg\",\"\\u30d6\\u30eb\\u30fc\\u30c8\\u30a5\\u30fc\\u30b9\\u30a4\\u30e4\\u30db\\u30f3\",\"2024-06-27T00:00:00\"],[\"dcg\",\"3d tree wall owl\",\"2024-06-28T00:00:00\"],[\"dcg\",\"classic black dresses for women\",\"2024-06-28T00:00:00\"],[\"dcg\",\"cuadro para oficina\",\"2024-06-28T00:00:00\"],[\"dcg\",\"cute vans for women\",\"2024-06-28T00:00:00\"],[\"dcg\",\"diabetic massager\",\"2024-06-28T00:00:00\"],[\"dcg\",\"greenpan ceramic nonstick fry pan 12 inch\",\"2024-06-28T00:00:00\"],[\"dcg\",\"guano de murci\\u00e9lago\",\"2024-06-28T00:00:00\"],[\"dcg\",\"handlebars\",\"2024-06-28T00:00:00\"],[\"dcg\",\"joyce meyer\",\"2024-06-28T00:00:00\"],[\"dcg\",\"level tools\",\"2024-06-28T00:00:00\"],[\"dcg\",\"long johns for men\",\"2024-06-28T00:00:00\"],[\"dcg\",\"mct oil capsules\",\"2024-06-28T00:00:00\"],[\"dcg\",\"nike air force 1 men\",\"2024-06-28T00:00:00\"],[\"dcg\",\"nipple clamps\",\"2024-06-28T00:00:00\"],[\"dcg\",\"patinete ni\\u00f1o 9 a\\u00f1os\",\"2024-06-28T00:00:00\"],[\"dcg\",\"replacement brush heads sonicare\",\"2024-06-28T00:00:00\"],[\"dcg\",\"shoot rubber bullets\",\"2024-06-28T00:00:00\"],[\"dcg\",\"solar pool covers for inground pools\",\"2024-06-28T00:00:00\"],[\"dcg\",\"toyota white touch up\",\"2024-06-28T00:00:00\"],[\"dcg\",\"\\u30d6\\u30eb\\u30fc\\u30c8\\u30a5\\u30fc\\u30b9\\u30a4\\u30e4\\u30db\\u30f3\",\"2024-06-28T00:00:00\"],[\"dcg\",\"3d tree wall owl\",\"2024-06-29T00:00:00\"],[\"dcg\",\"classic black dresses for women\",\"2024-06-29T00:00:00\"],[\"dcg\",\"cuadro para oficina\",\"2024-06-29T00:00:00\"],[\"dcg\",\"cute vans for women\",\"2024-06-29T00:00:00\"],[\"dcg\",\"diabetic massager\",\"2024-06-29T00:00:00\"],[\"dcg\",\"greenpan ceramic nonstick fry pan 12 inch\",\"2024-06-29T00:00:00\"],[\"dcg\",\"guano de murci\\u00e9lago\",\"2024-06-29T00:00:00\"],[\"dcg\",\"handlebars\",\"2024-06-29T00:00:00\"],[\"dcg\",\"joyce meyer\",\"2024-06-29T00:00:00\"],[\"dcg\",\"level tools\",\"2024-06-29T00:00:00\"],[\"dcg\",\"long johns for men\",\"2024-06-29T00:00:00\"],[\"dcg\",\"mct oil capsules\",\"2024-06-29T00:00:00\"],[\"dcg\",\"nike air force 1 men\",\"2024-06-29T00:00:00\"],[\"dcg\",\"nipple clamps\",\"2024-06-29T00:00:00\"],[\"dcg\",\"patinete ni\\u00f1o 9 a\\u00f1os\",\"2024-06-29T00:00:00\"],[\"dcg\",\"replacement brush heads sonicare\",\"2024-06-29T00:00:00\"],[\"dcg\",\"shoot rubber bullets\",\"2024-06-29T00:00:00\"],[\"dcg\",\"solar pool covers for inground pools\",\"2024-06-29T00:00:00\"],[\"dcg\",\"toyota white touch up\",\"2024-06-29T00:00:00\"],[\"dcg\",\"\\u30d6\\u30eb\\u30fc\\u30c8\\u30a5\\u30fc\\u30b9\\u30a4\\u30e4\\u30db\\u30f3\",\"2024-06-29T00:00:00\"],[\"dcg\",\"3d tree wall owl\",\"2024-06-30T00:00:00\"],[\"dcg\",\"classic black dresses for women\",\"2024-06-30T00:00:00\"],[\"dcg\",\"cuadro para oficina\",\"2024-06-30T00:00:00\"],[\"dcg\",\"cute vans for women\",\"2024-06-30T00:00:00\"],[\"dcg\",\"diabetic massager\",\"2024-06-30T00:00:00\"],[\"dcg\",\"greenpan ceramic nonstick fry pan 12 inch\",\"2024-06-30T00:00:00\"],[\"dcg\",\"guano de murci\\u00e9lago\",\"2024-06-30T00:00:00\"],[\"dcg\",\"handlebars\",\"2024-06-30T00:00:00\"],[\"dcg\",\"joyce meyer\",\"2024-06-30T00:00:00\"],[\"dcg\",\"level tools\",\"2024-06-30T00:00:00\"],[\"dcg\",\"long johns for men\",\"2024-06-30T00:00:00\"],[\"dcg\",\"mct oil capsules\",\"2024-06-30T00:00:00\"],[\"dcg\",\"nike air force 1 men\",\"2024-06-30T00:00:00\"],[\"dcg\",\"nipple clamps\",\"2024-06-30T00:00:00\"],[\"dcg\",\"patinete ni\\u00f1o 9 a\\u00f1os\",\"2024-06-30T00:00:00\"],[\"dcg\",\"replacement brush heads sonicare\",\"2024-06-30T00:00:00\"],[\"dcg\",\"shoot rubber bullets\",\"2024-06-30T00:00:00\"],[\"dcg\",\"solar pool covers for inground pools\",\"2024-06-30T00:00:00\"],[\"dcg\",\"toyota white touch up\",\"2024-06-30T00:00:00\"],[\"dcg\",\"\\u30d6\\u30eb\\u30fc\\u30c8\\u30a5\\u30fc\\u30b9\\u30a4\\u30e4\\u30db\\u30f3\",\"2024-06-30T00:00:00\"],[\"dcg\",\"3d tree wall owl\",\"2024-07-01T00:00:00\"],[\"dcg\",\"classic black dresses for women\",\"2024-07-01T00:00:00\"],[\"dcg\",\"cuadro para oficina\",\"2024-07-01T00:00:00\"],[\"dcg\",\"cute vans for women\",\"2024-07-01T00:00:00\"],[\"dcg\",\"diabetic massager\",\"2024-07-01T00:00:00\"],[\"dcg\",\"greenpan ceramic nonstick fry pan 12 inch\",\"2024-07-01T00:00:00\"],[\"dcg\",\"guano de murci\\u00e9lago\",\"2024-07-01T00:00:00\"],[\"dcg\",\"handlebars\",\"2024-07-01T00:00:00\"],[\"dcg\",\"joyce meyer\",\"2024-07-01T00:00:00\"],[\"dcg\",\"level tools\",\"2024-07-01T00:00:00\"],[\"dcg\",\"long johns for men\",\"2024-07-01T00:00:00\"],[\"dcg\",\"mct oil capsules\",\"2024-07-01T00:00:00\"],[\"dcg\",\"nike air force 1 men\",\"2024-07-01T00:00:00\"],[\"dcg\",\"nipple clamps\",\"2024-07-01T00:00:00\"],[\"dcg\",\"patinete ni\\u00f1o 9 a\\u00f1os\",\"2024-07-01T00:00:00\"],[\"dcg\",\"replacement brush heads sonicare\",\"2024-07-01T00:00:00\"],[\"dcg\",\"shoot rubber bullets\",\"2024-07-01T00:00:00\"],[\"dcg\",\"solar pool covers for inground pools\",\"2024-07-01T00:00:00\"],[\"dcg\",\"toyota white touch up\",\"2024-07-01T00:00:00\"],[\"dcg\",\"\\u30d6\\u30eb\\u30fc\\u30c8\\u30a5\\u30fc\\u30b9\\u30a4\\u30e4\\u30db\\u30f3\",\"2024-07-01T00:00:00\"]],\"hovertemplate\":\"metric=%{customdata[0]}\\u003cbr\\u003esearch_config=%{x}\\u003cbr\\u003evalue=%{y}\\u003cbr\\u003equery=%{customdata[1]}\\u003cbr\\u003edatetime=%{customdata[2]}\\u003cextra\\u003e\\u003c\\u002fextra\\u003e\",\"legendgroup\":\"dcg\",\"marker\":{\"color\":\"#636efa\"},\"name\":\"dcg\",\"offsetgroup\":\"dcg\",\"orientation\":\"v\",\"points\":\"all\",\"scalegroup\":\"True\",\"showlegend\":true,\"x\":[\"baseline\",\"baseline\",\"baseline\",\"baseline\",\"baseline\",\"baseline\",\"baseline\",\"baseline\",\"baseline\",\"baseline\",\"baseline\",\"baseline\",\"baseline\",\"baseline\",\"baseline\",\"baseline\",\"baseline\",\"baseline\",\"baseline\",\"baseline\",\"baseline\",\"baseline\",\"baseline\",\"baseline\",\"baseline\",\"baseline\",\"baseline\",\"baseline\",\"baseline\",\"baseline\",\"baseline\",\"baseline\",\"baseline\",\"baseline\",\"baseline\",\"baseline\",\"baseline\",\"baseline\",\"baseline\",\"baseline\",\"baseline\",\"baseline\",\"baseline\",\"baseline\",\"baseline\",\"baseline\",\"baseline\",\"baseline\",\"baseline\",\"baseline\",\"baseline\",\"baseline\",\"baseline\",\"baseline\",\"baseline\",\"baseline\",\"baseline\",\"baseline\",\"baseline\",\"baseline\",\"baseline\",\"baseline\",\"baseline\",\"baseline\",\"baseline\",\"baseline\",\"baseline\",\"baseline\",\"baseline\",\"baseline\",\"baseline\",\"baseline\",\"baseline\",\"baseline\",\"baseline\",\"baseline\",\"baseline\",\"baseline\",\"baseline\",\"baseline\",\"baseline\",\"baseline\",\"baseline\",\"baseline\",\"baseline\",\"baseline\",\"baseline\",\"baseline\",\"baseline\",\"baseline\",\"baseline\",\"baseline\",\"baseline\",\"baseline\",\"baseline\",\"baseline\",\"baseline\",\"baseline\",\"baseline\",\"baseline\",\"baseline\",\"baseline\",\"baseline\",\"baseline\",\"baseline\",\"baseline\",\"baseline\",\"baseline\",\"baseline\",\"baseline\",\"baseline\",\"baseline\",\"baseline\",\"baseline\",\"baseline\",\"baseline\",\"baseline\",\"baseline\",\"baseline\",\"baseline\",\"baseline\",\"baseline\",\"baseline\",\"baseline\",\"baseline\",\"baseline\",\"baseline\",\"baseline\",\"baseline\",\"baseline\",\"baseline\",\"baseline\",\"baseline\",\"baseline\",\"baseline\",\"baseline\",\"baseline\",\"baseline\",\"baseline\",\"baseline\",\"challenger_1\",\"challenger_1\",\"challenger_1\",\"challenger_1\",\"challenger_1\",\"challenger_1\",\"challenger_1\",\"challenger_1\",\"challenger_1\",\"challenger_1\",\"challenger_1\",\"challenger_1\",\"challenger_1\",\"challenger_1\",\"challenger_1\",\"challenger_1\",\"challenger_1\",\"challenger_1\",\"challenger_1\",\"challenger_1\",\"challenger_1\",\"challenger_1\",\"challenger_1\",\"challenger_1\",\"challenger_1\",\"challenger_1\",\"challenger_1\",\"challenger_1\",\"challenger_1\",\"challenger_1\",\"challenger_1\",\"challenger_1\",\"challenger_1\",\"challenger_1\",\"challenger_1\",\"challenger_1\",\"challenger_1\",\"challenger_1\",\"challenger_1\",\"challenger_1\",\"challenger_1\",\"challenger_1\",\"challenger_1\",\"challenger_1\",\"challenger_1\",\"challenger_1\",\"challenger_1\",\"challenger_1\",\"challenger_1\",\"challenger_1\",\"challenger_1\",\"challenger_1\",\"challenger_1\",\"challenger_1\",\"challenger_1\",\"challenger_1\",\"challenger_1\",\"challenger_1\",\"challenger_1\",\"challenger_1\",\"challenger_1\",\"challenger_1\",\"challenger_1\",\"challenger_1\",\"challenger_1\",\"challenger_1\",\"challenger_1\",\"challenger_1\",\"challenger_1\",\"challenger_1\",\"challenger_1\",\"challenger_1\",\"challenger_1\",\"challenger_1\",\"challenger_1\",\"challenger_1\",\"challenger_1\",\"challenger_1\",\"challenger_1\",\"challenger_1\",\"challenger_1\",\"challenger_1\",\"challenger_1\",\"challenger_1\",\"challenger_1\",\"challenger_1\",\"challenger_1\",\"challenger_1\",\"challenger_1\",\"challenger_1\",\"challenger_1\",\"challenger_1\",\"challenger_1\",\"challenger_1\",\"challenger_1\",\"challenger_1\",\"challenger_1\",\"challenger_1\",\"challenger_1\",\"challenger_1\",\"challenger_1\",\"challenger_1\",\"challenger_1\",\"challenger_1\",\"challenger_1\",\"challenger_1\",\"challenger_1\",\"challenger_1\",\"challenger_1\",\"challenger_1\",\"challenger_1\",\"challenger_1\",\"challenger_1\",\"challenger_1\",\"challenger_1\",\"challenger_1\",\"challenger_1\",\"challenger_1\",\"challenger_1\",\"challenger_1\",\"challenger_1\",\"challenger_1\",\"challenger_1\",\"challenger_1\",\"challenger_1\",\"challenger_1\",\"challenger_1\",\"challenger_1\",\"challenger_1\",\"challenger_1\",\"challenger_1\",\"challenger_1\",\"challenger_1\",\"challenger_1\",\"challenger_1\",\"challenger_1\",\"challenger_1\",\"challenger_1\",\"challenger_1\",\"challenger_1\"],\"x0\":\" \",\"xaxis\":\"x\",\"y\":[0.17236943082816364,5.092740438166795,1.8868528072345416,2.3175293653079345,2.3764397685237073,2.5616063116448506,3.4085354882262373,2.5616063116448506,2.509912073346595,2.5616063116448506,2.9484591188793923,3.9534645161064765,2.5486937086121397,1.5616063116448506,1.0452840130309937,5.008462687772344,2.945579264219981,1.0402751947513862,2.3324425821841466,1.6309297535714575,0.20477838706795076,4.813316407618903,1.8868528072345416,1.9584423235405013,2.3764397685237073,1.1692665054492903,3.4085354882262373,2.5616063116448506,3.304666305987414,2.5616063116448506,2.9484591188793923,3.9534645161064765,2.9484591188793923,1.5616063116448506,1.6309297535714575,5.360505771639151,3.304666305987414,1.5043884634832396,1.8878414493649678,1.6309297535714575,0.20927178785953243,5.092740438166795,1.8868528072345416,2.3175293653079345,2.254907296715097,2.5616063116448506,3.374428550333358,2.5616063116448506,3.304666305987414,2.5616063116448506,2.9484591188793923,3.6606416458362445,2.9484591188793923,1.5616063116448506,1.6309297535714575,5.611347998013804,3.304666305987414,1.5043884634832396,2.661363563918057,1.6309297535714575,0.23718734330773789,5.092740438166795,0.4945130010389813,2.3175293653079345,3.304666305987414,2.5616063116448506,2.9444222194943834,2.161840901377598,3.304666305987414,2.5616063116448506,2.9484591188793923,3.9534645161064765,2.9484591188793923,1.5616063116448506,1.6309297535714575,5.064352121087304,3.304666305987414,1.5043884634832396,2.351954718096821,1.6309297535714575,0.20477838706795076,4.78333159234556,1.5277657654671082,2.3175293653079345,3.304666305987414,1.6333797741811438,3.4085354882262373,2.5616063116448506,3.304666305987414,2.5616063116448506,2.9484591188793923,3.9534645161064765,2.9484591188793923,1.5616063116448506,0.7027032161077507,5.611347998013804,1.912326499791854,1.5043884634832396,3.1954185183586525,1.6309297535714575,0.23718734330773789,3.2994441296147325,1.8868528072345416,2.3175293653079345,3.304666305987414,2.5616063116448506,3.5052793536559244,2.5616063116448506,3.304666305987414,2.5616063116448506,2.9484591188793923,3.9534645161064765,2.9484591188793923,1.5616063116448506,1.6309297535714575,5.611347998013804,3.304666305987414,1.5043884634832396,2.351954718096821,1.6309297535714575,0.5678283072167041,3.855105054881853,1.8912412707177813,2.3175293653079345,2.945579264219981,2.5616063116448506,3.6412563585815167,2.5616063116448506,2.3764397685237073,2.5616063116448506,2.5486937086121397,3.9534645161064765,2.3628133783389282,1.5616063116448506,1.6309297535714575,5.611347998013804,3.304666305987414,1.5043884634832396,2.351954718096821,1.0452840130309937,0.2202162812720815,6.41341184605724,2.5616063116448506,3.9211611784371243,3.644055670285241,3.9238535478614915,1.9725329825299098,2.304666305987414,2.161840901377598,2.9484591188793923,2.5616063116448506,2.7429450529590484,3.2203657725058905,3.9534645161064765,3.8954074700030246,4.9307895910909245,1.6309297535714575,1.9274598228748938,4.907838202346493,2.1309297535714578,0.2380232245412725,5.827766105516776,2.5616063116448506,2.9929346409734174,3.644055670285241,3.975070481222566,1.9675880373422818,2.304666305987414,2.5616063116448506,2.9484591188793923,2.5616063116448506,3.6379996393207477,3.620131182773143,3.9534645161064765,3.326267974306751,6.105998540132031,1.6309297535714575,1.9274598228748938,4.856352206172625,2.1309297535714578,0.2360368394180295,6.41341184605724,2.5616063116448506,3.9211611784371243,3.9534645161064765,4.254494511770458,1.965577432473191,1.9740253420784484,2.5616063116448506,2.9484591188793923,2.5616063116448506,3.2789125975533144,3.620131182773143,3.9534645161064765,3.945085665949222,6.105998540132031,1.6309297535714575,1.9274598228748938,5.149175076442857,2.1309297535714578,0.6608772410870883,6.41341184605724,1.04773403364068,3.9211611784371243,3.9534645161064765,4.254494511770458,1.6561685866519555,2.304666305987414,2.5616063116448506,2.589372077111959,2.5616063116448506,3.238234229053495,3.620131182773143,3.9534645161064765,4.254494511770458,5.454088628094365,1.6309297535714575,1.992277735354468,5.149175076442857,2.1309297535714578,0.2380232245412725,6.41341184605724,2.097493042912997,3.562074136669691,3.9534645161064765,4.254494511770458,1.965577432473191,2.304666305987414,2.5616063116448506,2.9484591188793923,2.5616063116448506,3.6379996393207477,3.620131182773143,3.9534645161064765,4.254494511770458,6.105998540132031,1.0452840130309937,1.9274598228748938,5.417492719278458,2.1309297535714578,0.2611118308198356,5.123780510454317,2.5616063116448506,3.562074136669691,3.9534645161064765,3.326267974306751,1.9474969330351812,2.304666305987414,2.5616063116448506,2.9484591188793923,2.5616063116448506,3.6379996393207477,3.620131182773143,3.6606416458362445,4.254494511770458,5.391043045025524,1.6309297535714575,1.9274598228748938,5.149175076442857,2.1309297535714578,1.0843121413191226,6.41341184605724,2.5616063116448506,3.9211611784371243,3.5943774743390433,4.254494511770458,2.2031644635784557,2.304666305987414,1.9759605711043868,2.9484591188793923,2.161840901377598,3.6379996393207477,3.620131182773143,3.0252379786427697,3.8954074700030246,5.636354874660839,1.6309297535714575,1.9274598228748938,4.926574780959689,2.1309297535714578],\"y0\":\" \",\"yaxis\":\"y\",\"type\":\"violin\"}],                        {\"template\":{\"data\":{\"histogram2dcontour\":[{\"type\":\"histogram2dcontour\",\"colorbar\":{\"outlinewidth\":0,\"ticks\":\"\"},\"colorscale\":[[0.0,\"#0d0887\"],[0.1111111111111111,\"#46039f\"],[0.2222222222222222,\"#7201a8\"],[0.3333333333333333,\"#9c179e\"],[0.4444444444444444,\"#bd3786\"],[0.5555555555555556,\"#d8576b\"],[0.6666666666666666,\"#ed7953\"],[0.7777777777777778,\"#fb9f3a\"],[0.8888888888888888,\"#fdca26\"],[1.0,\"#f0f921\"]]}],\"choropleth\":[{\"type\":\"choropleth\",\"colorbar\":{\"outlinewidth\":0,\"ticks\":\"\"}}],\"histogram2d\":[{\"type\":\"histogram2d\",\"colorbar\":{\"outlinewidth\":0,\"ticks\":\"\"},\"colorscale\":[[0.0,\"#0d0887\"],[0.1111111111111111,\"#46039f\"],[0.2222222222222222,\"#7201a8\"],[0.3333333333333333,\"#9c179e\"],[0.4444444444444444,\"#bd3786\"],[0.5555555555555556,\"#d8576b\"],[0.6666666666666666,\"#ed7953\"],[0.7777777777777778,\"#fb9f3a\"],[0.8888888888888888,\"#fdca26\"],[1.0,\"#f0f921\"]]}],\"heatmap\":[{\"type\":\"heatmap\",\"colorbar\":{\"outlinewidth\":0,\"ticks\":\"\"},\"colorscale\":[[0.0,\"#0d0887\"],[0.1111111111111111,\"#46039f\"],[0.2222222222222222,\"#7201a8\"],[0.3333333333333333,\"#9c179e\"],[0.4444444444444444,\"#bd3786\"],[0.5555555555555556,\"#d8576b\"],[0.6666666666666666,\"#ed7953\"],[0.7777777777777778,\"#fb9f3a\"],[0.8888888888888888,\"#fdca26\"],[1.0,\"#f0f921\"]]}],\"heatmapgl\":[{\"type\":\"heatmapgl\",\"colorbar\":{\"outlinewidth\":0,\"ticks\":\"\"},\"colorscale\":[[0.0,\"#0d0887\"],[0.1111111111111111,\"#46039f\"],[0.2222222222222222,\"#7201a8\"],[0.3333333333333333,\"#9c179e\"],[0.4444444444444444,\"#bd3786\"],[0.5555555555555556,\"#d8576b\"],[0.6666666666666666,\"#ed7953\"],[0.7777777777777778,\"#fb9f3a\"],[0.8888888888888888,\"#fdca26\"],[1.0,\"#f0f921\"]]}],\"contourcarpet\":[{\"type\":\"contourcarpet\",\"colorbar\":{\"outlinewidth\":0,\"ticks\":\"\"}}],\"contour\":[{\"type\":\"contour\",\"colorbar\":{\"outlinewidth\":0,\"ticks\":\"\"},\"colorscale\":[[0.0,\"#0d0887\"],[0.1111111111111111,\"#46039f\"],[0.2222222222222222,\"#7201a8\"],[0.3333333333333333,\"#9c179e\"],[0.4444444444444444,\"#bd3786\"],[0.5555555555555556,\"#d8576b\"],[0.6666666666666666,\"#ed7953\"],[0.7777777777777778,\"#fb9f3a\"],[0.8888888888888888,\"#fdca26\"],[1.0,\"#f0f921\"]]}],\"surface\":[{\"type\":\"surface\",\"colorbar\":{\"outlinewidth\":0,\"ticks\":\"\"},\"colorscale\":[[0.0,\"#0d0887\"],[0.1111111111111111,\"#46039f\"],[0.2222222222222222,\"#7201a8\"],[0.3333333333333333,\"#9c179e\"],[0.4444444444444444,\"#bd3786\"],[0.5555555555555556,\"#d8576b\"],[0.6666666666666666,\"#ed7953\"],[0.7777777777777778,\"#fb9f3a\"],[0.8888888888888888,\"#fdca26\"],[1.0,\"#f0f921\"]]}],\"mesh3d\":[{\"type\":\"mesh3d\",\"colorbar\":{\"outlinewidth\":0,\"ticks\":\"\"}}],\"scatter\":[{\"fillpattern\":{\"fillmode\":\"overlay\",\"size\":10,\"solidity\":0.2},\"type\":\"scatter\"}],\"parcoords\":[{\"type\":\"parcoords\",\"line\":{\"colorbar\":{\"outlinewidth\":0,\"ticks\":\"\"}}}],\"scatterpolargl\":[{\"type\":\"scatterpolargl\",\"marker\":{\"colorbar\":{\"outlinewidth\":0,\"ticks\":\"\"}}}],\"bar\":[{\"error_x\":{\"color\":\"#2a3f5f\"},\"error_y\":{\"color\":\"#2a3f5f\"},\"marker\":{\"line\":{\"color\":\"#E5ECF6\",\"width\":0.5},\"pattern\":{\"fillmode\":\"overlay\",\"size\":10,\"solidity\":0.2}},\"type\":\"bar\"}],\"scattergeo\":[{\"type\":\"scattergeo\",\"marker\":{\"colorbar\":{\"outlinewidth\":0,\"ticks\":\"\"}}}],\"scatterpolar\":[{\"type\":\"scatterpolar\",\"marker\":{\"colorbar\":{\"outlinewidth\":0,\"ticks\":\"\"}}}],\"histogram\":[{\"marker\":{\"pattern\":{\"fillmode\":\"overlay\",\"size\":10,\"solidity\":0.2}},\"type\":\"histogram\"}],\"scattergl\":[{\"type\":\"scattergl\",\"marker\":{\"colorbar\":{\"outlinewidth\":0,\"ticks\":\"\"}}}],\"scatter3d\":[{\"type\":\"scatter3d\",\"line\":{\"colorbar\":{\"outlinewidth\":0,\"ticks\":\"\"}},\"marker\":{\"colorbar\":{\"outlinewidth\":0,\"ticks\":\"\"}}}],\"scattermapbox\":[{\"type\":\"scattermapbox\",\"marker\":{\"colorbar\":{\"outlinewidth\":0,\"ticks\":\"\"}}}],\"scatterternary\":[{\"type\":\"scatterternary\",\"marker\":{\"colorbar\":{\"outlinewidth\":0,\"ticks\":\"\"}}}],\"scattercarpet\":[{\"type\":\"scattercarpet\",\"marker\":{\"colorbar\":{\"outlinewidth\":0,\"ticks\":\"\"}}}],\"carpet\":[{\"aaxis\":{\"endlinecolor\":\"#2a3f5f\",\"gridcolor\":\"white\",\"linecolor\":\"white\",\"minorgridcolor\":\"white\",\"startlinecolor\":\"#2a3f5f\"},\"baxis\":{\"endlinecolor\":\"#2a3f5f\",\"gridcolor\":\"white\",\"linecolor\":\"white\",\"minorgridcolor\":\"white\",\"startlinecolor\":\"#2a3f5f\"},\"type\":\"carpet\"}],\"table\":[{\"cells\":{\"fill\":{\"color\":\"#EBF0F8\"},\"line\":{\"color\":\"white\"}},\"header\":{\"fill\":{\"color\":\"#C8D4E3\"},\"line\":{\"color\":\"white\"}},\"type\":\"table\"}],\"barpolar\":[{\"marker\":{\"line\":{\"color\":\"#E5ECF6\",\"width\":0.5},\"pattern\":{\"fillmode\":\"overlay\",\"size\":10,\"solidity\":0.2}},\"type\":\"barpolar\"}],\"pie\":[{\"automargin\":true,\"type\":\"pie\"}]},\"layout\":{\"autotypenumbers\":\"strict\",\"colorway\":[\"#636efa\",\"#EF553B\",\"#00cc96\",\"#ab63fa\",\"#FFA15A\",\"#19d3f3\",\"#FF6692\",\"#B6E880\",\"#FF97FF\",\"#FECB52\"],\"font\":{\"color\":\"#2a3f5f\"},\"hovermode\":\"closest\",\"hoverlabel\":{\"align\":\"left\"},\"paper_bgcolor\":\"white\",\"plot_bgcolor\":\"#E5ECF6\",\"polar\":{\"bgcolor\":\"#E5ECF6\",\"angularaxis\":{\"gridcolor\":\"white\",\"linecolor\":\"white\",\"ticks\":\"\"},\"radialaxis\":{\"gridcolor\":\"white\",\"linecolor\":\"white\",\"ticks\":\"\"}},\"ternary\":{\"bgcolor\":\"#E5ECF6\",\"aaxis\":{\"gridcolor\":\"white\",\"linecolor\":\"white\",\"ticks\":\"\"},\"baxis\":{\"gridcolor\":\"white\",\"linecolor\":\"white\",\"ticks\":\"\"},\"caxis\":{\"gridcolor\":\"white\",\"linecolor\":\"white\",\"ticks\":\"\"}},\"coloraxis\":{\"colorbar\":{\"outlinewidth\":0,\"ticks\":\"\"}},\"colorscale\":{\"sequential\":[[0.0,\"#0d0887\"],[0.1111111111111111,\"#46039f\"],[0.2222222222222222,\"#7201a8\"],[0.3333333333333333,\"#9c179e\"],[0.4444444444444444,\"#bd3786\"],[0.5555555555555556,\"#d8576b\"],[0.6666666666666666,\"#ed7953\"],[0.7777777777777778,\"#fb9f3a\"],[0.8888888888888888,\"#fdca26\"],[1.0,\"#f0f921\"]],\"sequentialminus\":[[0.0,\"#0d0887\"],[0.1111111111111111,\"#46039f\"],[0.2222222222222222,\"#7201a8\"],[0.3333333333333333,\"#9c179e\"],[0.4444444444444444,\"#bd3786\"],[0.5555555555555556,\"#d8576b\"],[0.6666666666666666,\"#ed7953\"],[0.7777777777777778,\"#fb9f3a\"],[0.8888888888888888,\"#fdca26\"],[1.0,\"#f0f921\"]],\"diverging\":[[0,\"#8e0152\"],[0.1,\"#c51b7d\"],[0.2,\"#de77ae\"],[0.3,\"#f1b6da\"],[0.4,\"#fde0ef\"],[0.5,\"#f7f7f7\"],[0.6,\"#e6f5d0\"],[0.7,\"#b8e186\"],[0.8,\"#7fbc41\"],[0.9,\"#4d9221\"],[1,\"#276419\"]]},\"xaxis\":{\"gridcolor\":\"white\",\"linecolor\":\"white\",\"ticks\":\"\",\"title\":{\"standoff\":15},\"zerolinecolor\":\"white\",\"automargin\":true,\"zerolinewidth\":2},\"yaxis\":{\"gridcolor\":\"white\",\"linecolor\":\"white\",\"ticks\":\"\",\"title\":{\"standoff\":15},\"zerolinecolor\":\"white\",\"automargin\":true,\"zerolinewidth\":2},\"scene\":{\"xaxis\":{\"backgroundcolor\":\"#E5ECF6\",\"gridcolor\":\"white\",\"linecolor\":\"white\",\"showbackground\":true,\"ticks\":\"\",\"zerolinecolor\":\"white\",\"gridwidth\":2},\"yaxis\":{\"backgroundcolor\":\"#E5ECF6\",\"gridcolor\":\"white\",\"linecolor\":\"white\",\"showbackground\":true,\"ticks\":\"\",\"zerolinecolor\":\"white\",\"gridwidth\":2},\"zaxis\":{\"backgroundcolor\":\"#E5ECF6\",\"gridcolor\":\"white\",\"linecolor\":\"white\",\"showbackground\":true,\"ticks\":\"\",\"zerolinecolor\":\"white\",\"gridwidth\":2}},\"shapedefaults\":{\"line\":{\"color\":\"#2a3f5f\"}},\"annotationdefaults\":{\"arrowcolor\":\"#2a3f5f\",\"arrowhead\":0,\"arrowwidth\":1},\"geo\":{\"bgcolor\":\"white\",\"landcolor\":\"#E5ECF6\",\"subunitcolor\":\"white\",\"showland\":true,\"showlakes\":true,\"lakecolor\":\"white\"},\"title\":{\"x\":0.05},\"mapbox\":{\"style\":\"light\"}}},\"xaxis\":{\"anchor\":\"y\",\"domain\":[0.0,1.0],\"title\":{\"text\":\"search_config\"}},\"yaxis\":{\"anchor\":\"x\",\"domain\":[0.0,1.0],\"title\":{\"text\":\"value\"}},\"legend\":{\"title\":{\"text\":\"metric\"},\"tracegroupgap\":0},\"margin\":{\"t\":60},\"violinmode\":\"group\"},                        {\"responsive\": true}                    ).then(function(){\n",
       "                            \n",
       "var gd = document.getElementById('5809aeb4-9cd3-45ca-a719-616d41f10f82');\n",
       "var x = new MutationObserver(function (mutations, observer) {{\n",
       "        var display = window.getComputedStyle(gd).display;\n",
       "        if (!display || display === 'none') {{\n",
       "            console.log([gd, 'removed!']);\n",
       "            Plotly.purge(gd);\n",
       "            observer.disconnect();\n",
       "        }}\n",
       "}});\n",
       "\n",
       "// Listen for the removal of the full notebook cells\n",
       "var notebookContainer = gd.closest('#notebook-container');\n",
       "if (notebookContainer) {{\n",
       "    x.observe(notebookContainer, {childList: true});\n",
       "}}\n",
       "\n",
       "// Listen for the clearing of the current output cell\n",
       "var outputEl = gd.closest('.output');\n",
       "if (outputEl) {{\n",
       "    x.observe(outputEl, {childList: true});\n",
       "}}\n",
       "\n",
       "                        })                };                });            </script>        </div>"
      ]
     },
     "metadata": {},
     "output_type": "display_data"
    }
   ],
   "source": [
    "sel = df_metrics.search_config.isin([\"baseline\", \"challenger_1\"])\n",
    "sel = sel & (df_metrics.metric.isin([\"dcg\"]))\n",
    "df = df_metrics[sel]\n",
    "df = df[[\"value\", \"metric\", \"search_config\", \"query\", \"datetime\"]]\n",
    "\n",
    "fig = px.violin(df, y=\"value\", x=\"search_config\", points=\"all\", color=\"metric\", hover_data=df.columns)\n",
    "fig"
   ]
  },
  {
   "cell_type": "code",
   "execution_count": null,
   "id": "d45910b7",
   "metadata": {},
   "outputs": [],
   "source": []
  }
 ],
 "metadata": {
  "kernelspec": {
   "display_name": "Python 3 (ipykernel)",
   "language": "python",
   "name": "python3"
  },
  "language_info": {
   "codemirror_mode": {
    "name": "ipython",
    "version": 3
   },
   "file_extension": ".py",
   "mimetype": "text/x-python",
   "name": "python",
   "nbconvert_exporter": "python",
   "pygments_lexer": "ipython3",
   "version": "3.9.7"
  }
 },
 "nbformat": 4,
 "nbformat_minor": 5
}
