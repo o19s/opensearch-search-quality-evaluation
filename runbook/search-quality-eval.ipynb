{
 "cells": [
  {
   "cell_type": "code",
   "execution_count": null,
   "id": "7ec95d0b-308a-4863-bc6b-c82e8553551e",
   "metadata": {},
   "outputs": [],
   "source": [
    "# Delete all indexes to start fresh.\n",
    "curl -X DELETE http://localhost:9200/ubi_queries,ubi_events,judgments,search_quality_eval_query_sets"
   ]
  },
  {
   "cell_type": "code",
   "execution_count": null,
   "id": "fc25e25a-7200-4298-858b-4d606b32829a",
   "metadata": {},
   "outputs": [],
   "source": [
    "# Create the UBI indexes\n",
    "curl -X PUT http://localhost:9200/ubi_queries/_mappings -H \"Content-Type: application/json\" -d'\n",
    "{\n",
    "    \"properties\": {\n",
    "      \"timestamp\": { \"type\": \"date\", \"format\": \"strict_date_time\" },\n",
    "      \"query_id\": { \"type\": \"keyword\", \"ignore_above\": 100 },\n",
    "      \"query\": { \"type\": \"text\" },\n",
    "      \"query_response_id\": { \"type\": \"keyword\", \"ignore_above\": 100 },\n",
    "      \"query_response_hit_ids\": { \"type\": \"keyword\" },\n",
    "      \"user_query\": { \"type\": \"keyword\", \"ignore_above\": 256 },\n",
    "      \"query_attributes\": { \"type\": \"flat_object\" },\n",
    "      \"client_id\": { \"type\": \"keyword\", \"ignore_above\": 100 },\n",
    "      \"application\":  { \"type\":  \"keyword\", \"ignore_above\": 100 }\n",
    "    }\n",
    "}'\n",
    "\n",
    "curl -X PUT http://localhost:9200/ubi_events/_mappings -H \"Content-Type: application/json\" -d'\n",
    "{\n",
    "  \"properties\": {\n",
    "    \"application\": { \"type\": \"keyword\", \"ignore_above\": 256 },\n",
    "    \"action_name\": { \"type\": \"keyword\", \"ignore_above\": 100 },\n",
    "    \"client_id\": { \"type\": \"keyword\", \"ignore_above\": 100 },\n",
    "    \"query_id\": { \"type\": \"keyword\", \"ignore_above\": 100 },\n",
    "    \"message\": { \"type\": \"keyword\", \"ignore_above\": 1024 },\n",
    "    \"message_type\": { \"type\": \"keyword\", \"ignore_above\": 100 },\n",
    "    \"timestamp\": {\n",
    "      \"type\": \"date\",\n",
    "      \"format\":\"strict_date_time\",\n",
    "      \"ignore_malformed\": true,\n",
    "      \"doc_values\": true\n",
    "    },\n",
    "    \"event_attributes\": {\n",
    "      \"dynamic\": true,\n",
    "      \"properties\": {\n",
    "        \"position\": {\n",
    "          \"properties\": {\n",
    "            \"ordinal\": { \"type\": \"integer\" },\n",
    "            \"x\": { \"type\": \"integer\" },\n",
    "            \"y\": { \"type\": \"integer\" },\n",
    "            \"page_depth\": { \"type\": \"integer\" },\n",
    "            \"scroll_depth\": { \"type\": \"integer\" },\n",
    "            \"trail\": { \"type\": \"text\",\n",
    "              \"fields\": { \"keyword\": { \"type\": \"keyword\", \"ignore_above\": 256 }\n",
    "              }\n",
    "            }\n",
    "          }\n",
    "        },\n",
    "        \"object\": {\n",
    "          \"properties\": {\n",
    "            \"internal_id\": { \"type\": \"keyword\" },\n",
    "            \"object_id\": { \"type\": \"keyword\", \"ignore_above\": 256 },\n",
    "            \"object_id_field\": { \"type\": \"keyword\", \"ignore_above\": 100 },\n",
    "            \"name\": { \"type\": \"keyword\", \"ignore_above\": 256 },\n",
    "            \"description\": { \"type\": \"text\",\n",
    "              \"fields\": { \"keyword\": { \"type\": \"keyword\", \"ignore_above\": 256 } }\n",
    "            },\n",
    "            \"object_detail\": { \"type\": \"object\" }\n",
    "          }\n",
    "        }\n",
    "      }\n",
    "    }\n",
    "  }\n",
    "}'"
   ]
  },
  {
   "cell_type": "code",
   "execution_count": null,
   "id": "cc97c07b-e182-4248-be0d-d3cd6d0c4471",
   "metadata": {},
   "outputs": [],
   "source": [
    "# Index the ESCI data.\n",
    "cd ./../data/esci && ./index.sh 1> /dev/null 2> /dev/null"
   ]
  },
  {
   "cell_type": "code",
   "execution_count": null,
   "id": "b6793210-e45b-4445-ad1f-c4b56c80cb1a",
   "metadata": {},
   "outputs": [],
   "source": [
    "# See the query and events count.\n",
    "curl -s http://localhost:9200/ubi_queries/_count\n",
    "curl -s http://localhost:9200/ubi_events/_count"
   ]
  },
  {
   "cell_type": "code",
   "execution_count": null,
   "id": "21d85f25-97a6-480f-84da-d03b6af682ca",
   "metadata": {},
   "outputs": [],
   "source": [
    "# Create implicit judgments now.\n",
    "curl -s -X POST \"http://localhost:9200/_plugins/search_quality_eval/judgments?click_model=coec&max_rank=20\"\n",
    "\n",
    "# Schedule implicit judgments creation.\n",
    "# curl -s -X POST \"http://localhost:9200/_plugins/search_quality_eval/schedule?id=1&click_model=coec&max_rank=20&job_name=test2&interval=10\" | jq\n",
    "# curl -s \"http://localhost:9200/search_quality_eval_scheduler/_search\" | jq"
   ]
  },
  {
   "cell_type": "code",
   "execution_count": null,
   "id": "e04e1282-c744-4ead-a65d-66d1b731391a",
   "metadata": {},
   "outputs": [],
   "source": [
    "# See the judgments.\n",
    "curl -s http://localhost:9200/judgments/_search | jq"
   ]
  },
  {
   "cell_type": "code",
   "execution_count": null,
   "id": "6b6f847d-5142-4d0e-83b1-6127410bfa67",
   "metadata": {},
   "outputs": [],
   "source": [
    "# Create a query set using PPTSS sampling from the judgments.\n",
    "curl -s -X POST \"http://localhost:9200/_plugins/search_quality_eval/queryset?name=test&description=fake&sampling=pptss&query_set_size=5000\""
   ]
  },
  {
   "cell_type": "code",
   "execution_count": null,
   "id": "2cc4ee64-f3b8-4a6b-8050-1fa9e70fc9ba",
   "metadata": {},
   "outputs": [],
   "source": [
    "# Look at the query sets.\n",
    "curl -s http://localhost:9200/search_quality_eval_query_sets/_search | jq"
   ]
  },
  {
   "cell_type": "code",
   "execution_count": null,
   "id": "abe28eb7-fe7b-47b9-aec0-f3090cd38ca7",
   "metadata": {},
   "outputs": [],
   "source": [
    "# Run a query set.\n",
    "curl -s http://localhost:9200/search_quality_eval_run?id=${QUERY_SET_ID}"
   ]
  }
 ],
 "metadata": {
  "kernelspec": {
   "display_name": "Bash",
   "language": "bash",
   "name": "bash"
  },
  "language_info": {
   "codemirror_mode": "shell",
   "file_extension": ".sh",
   "mimetype": "text/x-sh",
   "name": "bash"
  }
 },
 "nbformat": 4,
 "nbformat_minor": 5
}
